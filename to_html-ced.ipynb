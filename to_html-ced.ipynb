{
 "cells": [
  {
   "cell_type": "code",
   "execution_count": 1,
   "id": "9dadd8d2",
   "metadata": {},
   "outputs": [],
   "source": [
    "from IPython.display import display, HTML\n",
    "import numpy as np\n",
    "import re\n",
    "div_to_color = {'0': '#FFFFFF',\n",
    "                '1': '#e0e0e0',\n",
    "                '2': '#DFFF00',\n",
    "                '3': '#9FE2BF',\n",
    "                '4': '#CCCCFF',\n",
    "                '5': '#FFE4E1',\n",
    "                '6': '#FF00FF',\n",
    "                '7': '#e3abfb',    \n",
    "                '8': '#FFBF00',\n",
    "                '9': '#BBBAFF',\n",
    "                '10': '#FFC2E2',\n",
    "                '11': '#F4FDB1',\n",
    "                '12': '#7C8BFF',\n",
    "                '13': '#95FFF7',\n",
    "                '14': '#FF5733',\n",
    "                '15': '#33FF4C',\n",
    "                '16': '#7733FF',\n",
    "                '17': '#B2FF33',\n",
    "                '18': '#33FF83', \n",
    "                '19': '#FF3371', \n",
    "                '20': '#33F3FF',\n",
    "                '21': '#8AFF33',\n",
    "                '22': '#33FFC1',\n",
    "                '23': '#AF33FF',\n",
    "                '24': '#FFD433',\n",
    "                '25': '#33ACFF',\n",
    "                '26': '#BDAACF',\n",
    "                '27': '#ACE6DA',\n",
    "                '28': '#CCCCFF',\n",
    "                '29': '#FFE4E1',\n",
    "                '30': '#FF00FF',\n",
    "                '31': '#e3abfb',    \n",
    "                '32': '#FFBF00',\n",
    "                '33': '#BBBAFF',\n",
    "}\n",
    "\n",
    "class bcolors:\n",
    "    HEADER = '\\033[95m'\n",
    "    OKBLUE = '\\033[94m'\n",
    "    OKCYAN = '\\033[96m'\n",
    "    OKGREEN = '\\033[92m'\n",
    "    WARNING = '\\033[93m'\n",
    "    FAIL = '\\033[91m'\n",
    "    ENDC = '\\033[0m'\n",
    "    BOLD = '\\033[1m'\n",
    "    UNDERLINE = '\\033[4m'\n",
    "\n",
    "\n",
    "def color_html(label):\n",
    "    return f'<span style=\"background-color:{div_to_color[label]} \">'\n",
    "\n",
    "def display_HTML(text, div, offset=False, one_color=False, red_chars=False):\n",
    "    displayed_text = ''\n",
    "    user_displayed_text = ''\n",
    "    previous = 'eq'\n",
    "    mark_end = '</span>'\n",
    "    previous_label = 0\n",
    "    for token, label in zip(text.split(' '), div.split(' ')):\n",
    "        #print(label)\n",
    "        if one_color:\n",
    "            if int(label) > 0:\n",
    "                label = '1'\n",
    "        if offset:\n",
    "            if label != '0':\n",
    "                label = str(int(label)  + 1)\n",
    "        mark = color_html(label)\n",
    "        if label == '0':\n",
    "            displayed_text += f' {token}'\n",
    "            if previous == 'div':\n",
    "                user_displayed_text += f'</h-l-{str(int(previous_label)-1)}> {token}'\n",
    "            else:\n",
    "                user_displayed_text += f' {token}'\n",
    "            previous = 'eq'\n",
    "        else:\n",
    "            if previous == 'div' and int(label)==previous_label:\n",
    "                displayed_text += f'{mark} {token}{mark_end}'\n",
    "                user_displayed_text += f' {token}'\n",
    "            else:\n",
    "                if int(label)!=previous_label and int(label) > 2 and previous_label!=0:\n",
    "                    user_displayed_text += f' </h-l-{str(int(label)-2)}>'\n",
    "                displayed_text += f' {mark}{token}{mark_end}'\n",
    "                user_displayed_text += f' <h-l-{str(int(label)-1)}>{token}'\n",
    "            previous = 'div'\n",
    "        previous_label = int(label)\n",
    "\n",
    "    if red_chars:\n",
    "        displayed_text = f'{bcolors.WARNING} {displayed_text} {bcolors.ENDC}'\n",
    "    \n",
    "    if previous == 'div':\n",
    "        user_displayed_text += f'</h-l-{str(int(previous_label)-1)}>'\n",
    "        \n",
    "        \n",
    "    return display(HTML(displayed_text)), user_displayed_text\n",
    "\n",
    "def add_lists(list_a, list_b):\n",
    "    #print(list_b)\n",
    "    #print(list_a)\n",
    "    #print('as')\n",
    "    list_add = []\n",
    "    for (a, b) in zip(list_a, list_b):\n",
    "        list_add.append(a+b)\n",
    "    return list_add"
   ]
  },
  {
   "cell_type": "code",
   "execution_count": 2,
   "id": "78345cf9",
   "metadata": {},
   "outputs": [],
   "source": [
    "processes, processes_set = [], set()\n",
    "with open('annotations/limsi', 'r') as file_:\n",
    "    lines = file_.readlines()\n",
    "    for line in lines:\n",
    "        line = line.rstrip().split('\\t')[-1]\n",
    "        if '0' in line:\n",
    "            processes.append(['literal'])\n",
    "        else:\n",
    "            processes.append(line.split(' '))\n",
    "        for a  in line.split(' '):\n",
    "            processes_set.add(a)"
   ]
  },
  {
   "cell_type": "code",
   "execution_count": 3,
   "id": "2c5a5751",
   "metadata": {
    "scrolled": true
   },
   "outputs": [
    {
     "name": "stdout",
     "output_type": "stream",
     "text": [
      "____________________________________1___________________________________________________\n",
      "\u001b[94m\u001b[1m🤓 OK\u001b[0m\n"
     ]
    },
    {
     "data": {
      "text/html": [
       " <span style=\"background-color:#e0e0e0 \">-6.254418</span> <span style=\"background-color:#DFFF00 \">11.528161</span>"
      ],
      "text/plain": [
       "<IPython.core.display.HTML object>"
      ]
     },
     "metadata": {},
     "output_type": "display_data"
    },
    {
     "data": {
      "text/html": [
       " <span style=\"background-color:#DFFF00 \">Little</span><span style=\"background-color:#DFFF00 \"> wonder</span><span style=\"background-color:#DFFF00 \"> ,</span><span style=\"background-color:#DFFF00 \"> then</span><span style=\"background-color:#DFFF00 \"> ,</span> that high levels of exclusion in developing and emerging countries have prompted policymakers to embrace proportionate regulation , thereby gaining the flexibility to encourage innovation in the provision of financial services while preserving financial stability ."
      ],
      "text/plain": [
       "<IPython.core.display.HTML object>"
      ]
     },
     "metadata": {},
     "output_type": "display_data"
    },
    {
     "data": {
      "text/html": [
       " <span style=\"background-color:#DFFF00 \">Não</span><span style=\"background-color:#DFFF00 \"> é</span><span style=\"background-color:#DFFF00 \"> de</span><span style=\"background-color:#DFFF00 \"> admirar</span><span style=\"background-color:#DFFF00 \"> ,</span><span style=\"background-color:#DFFF00 \"> então</span><span style=\"background-color:#DFFF00 \"> ,</span> que os elevados níveis de exclusão nos países em vias de desenvolvimento e emergentes levaram os governantes a abraçar a regulação proporcional , ganhando assim a flexibilidade necessária para incentivar a inovação na prestação de serviços financeiros , preservando a estabilidade financeira ."
      ],
      "text/plain": [
       "<IPython.core.display.HTML object>"
      ]
     },
     "metadata": {},
     "output_type": "display_data"
    },
    {
     "name": "stdout",
     "output_type": "stream",
     "text": [
      "____________________________________26___________________________________________________\n",
      "\u001b[94m\u001b[1m🤓 OK\u001b[0m\n"
     ]
    },
    {
     "data": {
      "text/html": [
       " <span style=\"background-color:#e0e0e0 \">-9.101828</span> <span style=\"background-color:#DFFF00 \">-3.8430817</span>"
      ],
      "text/plain": [
       "<IPython.core.display.HTML object>"
      ]
     },
     "metadata": {},
     "output_type": "display_data"
    },
    {
     "data": {
      "text/html": [
       " Though facts keep staring them <span style=\"background-color:#DFFF00 \">in</span><span style=\"background-color:#DFFF00 \"> the</span> face , they continue to deny reality ."
      ],
      "text/plain": [
       "<IPython.core.display.HTML object>"
      ]
     },
     "metadata": {},
     "output_type": "display_data"
    },
    {
     "data": {
      "text/html": [
       " Embora os factos continuem a estar <span style=\"background-color:#DFFF00 \">bem</span><span style=\"background-color:#DFFF00 \"> à</span><span style=\"background-color:#DFFF00 \"> frente</span><span style=\"background-color:#DFFF00 \"> dos</span> seus olhos , eles continuam a negar a realidade ."
      ],
      "text/plain": [
       "<IPython.core.display.HTML object>"
      ]
     },
     "metadata": {},
     "output_type": "display_data"
    },
    {
     "name": "stdout",
     "output_type": "stream",
     "text": [
      "____________________________________29___________________________________________________\n",
      "\u001b[94m\u001b[1m🤓 OK\u001b[0m\n"
     ]
    },
    {
     "data": {
      "text/html": [
       " <span style=\"background-color:#e0e0e0 \">-13.924545</span> <span style=\"background-color:#DFFF00 \">8.121221</span> <span style=\"background-color:#9FE2BF \">12.859271</span>"
      ],
      "text/plain": [
       "<IPython.core.display.HTML object>"
      ]
     },
     "metadata": {},
     "output_type": "display_data"
    },
    {
     "data": {
      "text/html": [
       " The good news is that , as Bruce MacMaster of the Bogotá-based <span style=\"background-color:#9FE2BF \">business</span><span style=\"background-color:#9FE2BF \"> advocacy</span><span style=\"background-color:#9FE2BF \"> and</span><span style=\"background-color:#9FE2BF \"> think</span><span style=\"background-color:#9FE2BF \"> tank</span> ANDI noted , businesses have a strong incentive to consolidate the gains of the peace process , especially in remote areas <span style=\"background-color:#DFFF00 \">that</span><span style=\"background-color:#DFFF00 \"> have</span><span style=\"background-color:#DFFF00 \"> traditionally</span><span style=\"background-color:#DFFF00 \"> been</span><span style=\"background-color:#DFFF00 \"> cut</span><span style=\"background-color:#DFFF00 \"> off</span><span style=\"background-color:#DFFF00 \"> from</span><span style=\"background-color:#DFFF00 \"> government</span><span style=\"background-color:#DFFF00 \"> services</span> ."
      ],
      "text/plain": [
       "<IPython.core.display.HTML object>"
      ]
     },
     "metadata": {},
     "output_type": "display_data"
    },
    {
     "data": {
      "text/html": [
       " A boa notícia é que , segundo as palavras de Bruce MacMaster do <span style=\"background-color:#9FE2BF \">grupo</span><span style=\"background-color:#9FE2BF \"> de</span><span style=\"background-color:#9FE2BF \"> defesa</span><span style=\"background-color:#9FE2BF \"> e</span><span style=\"background-color:#9FE2BF \"> reflexão</span><span style=\"background-color:#9FE2BF \"> empresarial</span><span style=\"background-color:#9FE2BF \"> de</span> Bogotá ( ANDI ) , as empresas dispõem de um forte incentivo para consolidar os benefícios do processo de paz , especialmente em zonas remotas <span style=\"background-color:#DFFF00 \">onde</span><span style=\"background-color:#DFFF00 \"> os</span><span style=\"background-color:#DFFF00 \"> serviços</span><span style=\"background-color:#DFFF00 \"> governamentais</span><span style=\"background-color:#DFFF00 \"> tradicionalmente</span><span style=\"background-color:#DFFF00 \"> não</span><span style=\"background-color:#DFFF00 \"> chegam</span> ."
      ],
      "text/plain": [
       "<IPython.core.display.HTML object>"
      ]
     },
     "metadata": {},
     "output_type": "display_data"
    },
    {
     "name": "stdout",
     "output_type": "stream",
     "text": [
      "____________________________________30___________________________________________________\n",
      "\u001b[94m\u001b[1m🤓 OK\u001b[0m\n"
     ]
    },
    {
     "data": {
      "text/html": [
       " <span style=\"background-color:#e0e0e0 \">-12.046776</span> <span style=\"background-color:#DFFF00 \">15.442013</span>"
      ],
      "text/plain": [
       "<IPython.core.display.HTML object>"
      ]
     },
     "metadata": {},
     "output_type": "display_data"
    },
    {
     "data": {
      "text/html": [
       " <span style=\"background-color:#DFFF00 \">TRIPOLI</span><span style=\"background-color:#DFFF00 \"> -</span><span style=\"background-color:#DFFF00 \"> \"</span><span style=\"background-color:#DFFF00 \"> We</span><span style=\"background-color:#DFFF00 \"> certainly</span><span style=\"background-color:#DFFF00 \"> did</span><span style=\"background-color:#DFFF00 \"> not</span><span style=\"background-color:#DFFF00 \"> expect</span><span style=\"background-color:#DFFF00 \"> the</span><span style=\"background-color:#DFFF00 \"> results</span><span style=\"background-color:#DFFF00 \"> ,</span><span style=\"background-color:#DFFF00 \"> but</span><span style=\"background-color:#DFFF00 \"> ...</span><span style=\"background-color:#DFFF00 \"> our</span><span style=\"background-color:#DFFF00 \"> future</span><span style=\"background-color:#DFFF00 \"> is</span><span style=\"background-color:#DFFF00 \"> certainly</span> better than our present and our past , \" said Sami al-Saadi , the former ideologue of the Libyan Islamic Fighting Group and the founder of the political party al-Umma al-Wasat , which finished third in Central Tripoli during Libya 's recent parliamentary election ."
      ],
      "text/plain": [
       "<IPython.core.display.HTML object>"
      ]
     },
     "metadata": {},
     "output_type": "display_data"
    },
    {
     "data": {
      "text/html": [
       " <span style=\"background-color:#DFFF00 \">TRÍPOLI</span><span style=\"background-color:#DFFF00 \"> -</span><span style=\"background-color:#DFFF00 \"> \"</span><span style=\"background-color:#DFFF00 \"> Não</span><span style=\"background-color:#DFFF00 \"> estávamos</span><span style=\"background-color:#DFFF00 \"> seguramente</span><span style=\"background-color:#DFFF00 \"> à</span><span style=\"background-color:#DFFF00 \"> espera</span><span style=\"background-color:#DFFF00 \"> destes</span><span style=\"background-color:#DFFF00 \"> resultados</span><span style=\"background-color:#DFFF00 \"> ,</span><span style=\"background-color:#DFFF00 \"> mas</span><span style=\"background-color:#DFFF00 \"> ...</span><span style=\"background-color:#DFFF00 \"> o</span><span style=\"background-color:#DFFF00 \"> nosso</span><span style=\"background-color:#DFFF00 \"> futuro</span><span style=\"background-color:#DFFF00 \"> será</span> com certeza melhor do que o nosso presente e o nosso passado \" , afirmou Sami al-Saadi , antigo ideólogo do Grupo Combatente Islâmico Líbio e fundador do partido político al-Umma al-Wasat , que ficou em terceiro lugar na Central de Trípoli nas recentes eleições parlamentares da Líbia ."
      ],
      "text/plain": [
       "<IPython.core.display.HTML object>"
      ]
     },
     "metadata": {},
     "output_type": "display_data"
    },
    {
     "name": "stdout",
     "output_type": "stream",
     "text": [
      "____________________________________31___________________________________________________\n",
      "\u001b[94m\u001b[1m🤓 OK\u001b[0m\n"
     ]
    },
    {
     "data": {
      "text/html": [
       " <span style=\"background-color:#e0e0e0 \">-0.90005237</span> <span style=\"background-color:#DFFF00 \">5.6016374</span> <span style=\"background-color:#9FE2BF \">8.100413</span>"
      ],
      "text/plain": [
       "<IPython.core.display.HTML object>"
      ]
     },
     "metadata": {},
     "output_type": "display_data"
    },
    {
     "data": {
      "text/html": [
       " <span style=\"background-color:#DFFF00 \">A</span><span style=\"background-color:#DFFF00 \"> big</span><span style=\"background-color:#DFFF00 \"> one</span><span style=\"background-color:#DFFF00 \"> stems</span><span style=\"background-color:#DFFF00 \"> from</span> the disparate approaches to bringing financial services and digitized health <span style=\"background-color:#9FE2BF \">care</span> to rural parts of Africa ."
      ],
      "text/plain": [
       "<IPython.core.display.HTML object>"
      ]
     },
     "metadata": {},
     "output_type": "display_data"
    },
    {
     "data": {
      "text/html": [
       " <span style=\"background-color:#DFFF00 \">Uma</span><span style=\"background-color:#DFFF00 \"> delas</span><span style=\"background-color:#DFFF00 \"> decorre</span><span style=\"background-color:#DFFF00 \"> das</span> diferentes abordagens destinadas a fazer chegar os serviços financeiros e <span style=\"background-color:#9FE2BF \">os</span><span style=\"background-color:#9FE2BF \"> serviços</span> de saúde digitalizados às zonas rurais da África ."
      ],
      "text/plain": [
       "<IPython.core.display.HTML object>"
      ]
     },
     "metadata": {},
     "output_type": "display_data"
    },
    {
     "name": "stdout",
     "output_type": "stream",
     "text": [
      "____________________________________33___________________________________________________\n",
      "\u001b[94m\u001b[1m🤓 OK\u001b[0m\n"
     ]
    },
    {
     "data": {
      "text/html": [
       " <span style=\"background-color:#e0e0e0 \">-15.194596</span> <span style=\"background-color:#DFFF00 \">14.921385</span>"
      ],
      "text/plain": [
       "<IPython.core.display.HTML object>"
      ]
     },
     "metadata": {},
     "output_type": "display_data"
    },
    {
     "data": {
      "text/html": [
       " But if the firm enjoyed a monopoly , it would have the incentive to undertake innovations that improved its profitability ( so called \" process \" innovations ) , because it would be able to <span style=\"background-color:#DFFF00 \">capture</span><span style=\"background-color:#DFFF00 \"> the</span><span style=\"background-color:#DFFF00 \"> resulting</span><span style=\"background-color:#DFFF00 \"> profits</span><span style=\"background-color:#DFFF00 \"> ,</span><span style=\"background-color:#DFFF00 \"> rather</span><span style=\"background-color:#DFFF00 \"> than</span><span style=\"background-color:#DFFF00 \"> see</span><span style=\"background-color:#DFFF00 \"> them</span> be competed away ."
      ],
      "text/plain": [
       "<IPython.core.display.HTML object>"
      ]
     },
     "metadata": {},
     "output_type": "display_data"
    },
    {
     "data": {
      "text/html": [
       " Mas se a empresa beneficiasse de um monopólio , teria o incentivo para levar a cabo inovações que melhorassem a sua rentabilidade ( as chamadas inovações de \" processo \" ) , porque seria capaz de <span style=\"background-color:#DFFF00 \">segurar</span><span style=\"background-color:#DFFF00 \"> os</span><span style=\"background-color:#DFFF00 \"> lucros</span><span style=\"background-color:#DFFF00 \"> resultantes</span><span style=\"background-color:#DFFF00 \"> ,</span><span style=\"background-color:#DFFF00 \"> em</span><span style=\"background-color:#DFFF00 \"> vez</span><span style=\"background-color:#DFFF00 \"> de</span><span style=\"background-color:#DFFF00 \"> os</span><span style=\"background-color:#DFFF00 \"> ver</span> desaparecer na concorrência ."
      ],
      "text/plain": [
       "<IPython.core.display.HTML object>"
      ]
     },
     "metadata": {},
     "output_type": "display_data"
    },
    {
     "name": "stdout",
     "output_type": "stream",
     "text": [
      "____________________________________34___________________________________________________\n",
      "\u001b[94m\u001b[1m🤓 OK\u001b[0m\n"
     ]
    },
    {
     "data": {
      "text/html": [
       " <span style=\"background-color:#e0e0e0 \">-12.697611</span> <span style=\"background-color:#DFFF00 \">6.2406297</span> <span style=\"background-color:#9FE2BF \">11.18888</span>"
      ],
      "text/plain": [
       "<IPython.core.display.HTML object>"
      ]
     },
     "metadata": {},
     "output_type": "display_data"
    },
    {
     "data": {
      "text/html": [
       " While the Council eventually agreed to cover the difference in the 2012 budget , an even greater shortfall is forecast for this year - and many member states <span style=\"background-color:#9FE2BF \">are</span><span style=\"background-color:#9FE2BF \"> unable</span><span style=\"background-color:#9FE2BF \"> to</span><span style=\"background-color:#9FE2BF \"> oblige</span><span style=\"background-color:#9FE2BF \"> the</span><span style=\"background-color:#9FE2BF \"> Commission</span><span style=\"background-color:#9FE2BF \"> 's</span><span style=\"background-color:#9FE2BF \"> request</span> for an additional € 11.2 billion to cover these <span style=\"background-color:#DFFF00 \">outstanding</span><span style=\"background-color:#DFFF00 \"> liabilities</span> ."
      ],
      "text/plain": [
       "<IPython.core.display.HTML object>"
      ]
     },
     "metadata": {},
     "output_type": "display_data"
    },
    {
     "data": {
      "text/html": [
       " Embora o Conselho tenha acabado por concordar em cobrir a diferença no orçamento de 2012 , prevê-se um défice ainda maior para este ano - e muitos estados membros <span style=\"background-color:#9FE2BF \">não</span><span style=\"background-color:#9FE2BF \"> têm</span><span style=\"background-color:#9FE2BF \"> capacidade</span><span style=\"background-color:#9FE2BF \"> para</span><span style=\"background-color:#9FE2BF \"> responder</span><span style=\"background-color:#9FE2BF \"> ao</span><span style=\"background-color:#9FE2BF \"> pedido</span><span style=\"background-color:#9FE2BF \"> da</span><span style=\"background-color:#9FE2BF \"> Comissão</span> de 11,2 mil milhões de euros adicionais para cobrir estas <span style=\"background-color:#DFFF00 \">responsabilidades</span><span style=\"background-color:#DFFF00 \"> pendentes</span> ."
      ],
      "text/plain": [
       "<IPython.core.display.HTML object>"
      ]
     },
     "metadata": {},
     "output_type": "display_data"
    },
    {
     "name": "stdout",
     "output_type": "stream",
     "text": [
      "____________________________________35___________________________________________________\n",
      "\u001b[94m\u001b[1m🤓 OK\u001b[0m\n"
     ]
    },
    {
     "data": {
      "text/html": [
       " <span style=\"background-color:#e0e0e0 \">-2.0379055</span> <span style=\"background-color:#DFFF00 \">5.2533717</span> <span style=\"background-color:#9FE2BF \">7.847876</span>"
      ],
      "text/plain": [
       "<IPython.core.display.HTML object>"
      ]
     },
     "metadata": {},
     "output_type": "display_data"
    },
    {
     "data": {
      "text/html": [
       " In South Africa , poverty , inequality , and <span style=\"background-color:#DFFF00 \">ethnicity</span><span style=\"background-color:#DFFF00 \"> overlap</span><span style=\"background-color:#DFFF00 \"> ,</span><span style=\"background-color:#DFFF00 \"> to</span><span style=\"background-color:#DFFF00 \"> the</span> disadvantage of <span style=\"background-color:#9FE2BF \">a</span><span style=\"background-color:#9FE2BF \"> majority</span> of the country 's 57 million people ."
      ],
      "text/plain": [
       "<IPython.core.display.HTML object>"
      ]
     },
     "metadata": {},
     "output_type": "display_data"
    },
    {
     "data": {
      "text/html": [
       " Na África do Sul , a pobreza , a desigualdade e <span style=\"background-color:#DFFF00 \">as</span><span style=\"background-color:#DFFF00 \"> questões</span><span style=\"background-color:#DFFF00 \"> étnicas</span><span style=\"background-color:#DFFF00 \"> sobrepõem-se</span><span style=\"background-color:#DFFF00 \"> ,</span><span style=\"background-color:#DFFF00 \"> em</span> prajuízo da <span style=\"background-color:#9FE2BF \">maioria</span> dos 57 milhões de habitantes do país ."
      ],
      "text/plain": [
       "<IPython.core.display.HTML object>"
      ]
     },
     "metadata": {},
     "output_type": "display_data"
    },
    {
     "name": "stdout",
     "output_type": "stream",
     "text": [
      "____________________________________37___________________________________________________\n",
      "\u001b[94m\u001b[1m🤓 OK\u001b[0m\n"
     ]
    },
    {
     "data": {
      "text/html": [
       " <span style=\"background-color:#e0e0e0 \">-0.32192385</span> <span style=\"background-color:#DFFF00 \">13.218498</span>"
      ],
      "text/plain": [
       "<IPython.core.display.HTML object>"
      ]
     },
     "metadata": {},
     "output_type": "display_data"
    },
    {
     "data": {
      "text/html": [
       " <span style=\"background-color:#DFFF00 \">If</span><span style=\"background-color:#DFFF00 \"> one</span><span style=\"background-color:#DFFF00 \"> means</span> its political organs - the European Commission , the European Parliament , and the European Court of Justice , then the answer is yes ."
      ],
      "text/plain": [
       "<IPython.core.display.HTML object>"
      ]
     },
     "metadata": {},
     "output_type": "display_data"
    },
    {
     "data": {
      "text/html": [
       " <span style=\"background-color:#DFFF00 \">Se</span><span style=\"background-color:#DFFF00 \"> nos</span><span style=\"background-color:#DFFF00 \"> referirmos</span><span style=\"background-color:#DFFF00 \"> aos</span> seus órgãos políticos - A Comissão Europeia , o Parlamento Europeu e o Tribunal de Justiça Europeu , então a resposta será afirmativa ."
      ],
      "text/plain": [
       "<IPython.core.display.HTML object>"
      ]
     },
     "metadata": {},
     "output_type": "display_data"
    },
    {
     "name": "stdout",
     "output_type": "stream",
     "text": [
      "____________________________________41___________________________________________________\n",
      "\u001b[94m\u001b[1m🤓 OK\u001b[0m\n"
     ]
    },
    {
     "data": {
      "text/html": [
       " <span style=\"background-color:#e0e0e0 \">-7.4880075</span> <span style=\"background-color:#DFFF00 \">-5.0427628</span> <span style=\"background-color:#9FE2BF \">-2.3011065</span> <span style=\"background-color:#CCCCFF \">-0.53355145</span>"
      ],
      "text/plain": [
       "<IPython.core.display.HTML object>"
      ]
     },
     "metadata": {},
     "output_type": "display_data"
    },
    {
     "data": {
      "text/html": [
       " I find myself scrambling <span style=\"background-color:#9FE2BF \">to</span><span style=\"background-color:#9FE2BF \"> attend</span><span style=\"background-color:#9FE2BF \"> to</span> utterly <span style=\"background-color:#DFFF00 \">trivial</span> e-mails <span style=\"background-color:#CCCCFF \">only</span> to get past them to the ( possibly ) important ones that lie behind ."
      ],
      "text/plain": [
       "<IPython.core.display.HTML object>"
      ]
     },
     "metadata": {},
     "output_type": "display_data"
    },
    {
     "data": {
      "text/html": [
       " Fico atabalhoado <span style=\"background-color:#9FE2BF \">a</span><span style=\"background-color:#9FE2BF \"> tratar</span><span style=\"background-color:#9FE2BF \"> de</span><span style=\"background-color:#9FE2BF \"> todos</span> <span style=\"background-color:#DFFF00 \">os</span> e-mails <span style=\"background-color:#CCCCFF \">banais</span><span style=\"background-color:#CCCCFF \"> só</span> para avançar para os ( possivelmente ) importantes que estão subjacentes ."
      ],
      "text/plain": [
       "<IPython.core.display.HTML object>"
      ]
     },
     "metadata": {},
     "output_type": "display_data"
    },
    {
     "name": "stdout",
     "output_type": "stream",
     "text": [
      "____________________________________51___________________________________________________\n",
      "\u001b[94m\u001b[1m🤓 OK\u001b[0m\n"
     ]
    },
    {
     "data": {
      "text/html": [
       " <span style=\"background-color:#e0e0e0 \">-2.7287173</span> <span style=\"background-color:#DFFF00 \">4.647768</span> <span style=\"background-color:#9FE2BF \">8.899153</span>"
      ],
      "text/plain": [
       "<IPython.core.display.HTML object>"
      ]
     },
     "metadata": {},
     "output_type": "display_data"
    },
    {
     "data": {
      "text/html": [
       " Raising global immunization coverage will speed <span style=\"background-color:#DFFF00 \">progress</span><span style=\"background-color:#DFFF00 \"> toward</span> the MDGs <span style=\"background-color:#9FE2BF \">and</span><span style=\"background-color:#9FE2BF \"> generate</span> momentum toward a successful post-2015 development agenda ."
      ],
      "text/plain": [
       "<IPython.core.display.HTML object>"
      ]
     },
     "metadata": {},
     "output_type": "display_data"
    },
    {
     "data": {
      "text/html": [
       " Aumentar a cobertura global da imunização permitirá <span style=\"background-color:#DFFF00 \">um</span><span style=\"background-color:#DFFF00 \"> mais</span><span style=\"background-color:#DFFF00 \"> rápido</span><span style=\"background-color:#DFFF00 \"> progresso</span><span style=\"background-color:#DFFF00 \"> no</span><span style=\"background-color:#DFFF00 \"> sentido</span> dos ODM <span style=\"background-color:#9FE2BF \">e</span><span style=\"background-color:#9FE2BF \"> gerará</span> ímpeto para estabelecer uma bem-sucedida agenda de desenvolvimento pós-2015 ."
      ],
      "text/plain": [
       "<IPython.core.display.HTML object>"
      ]
     },
     "metadata": {},
     "output_type": "display_data"
    },
    {
     "name": "stdout",
     "output_type": "stream",
     "text": [
      "____________________________________70___________________________________________________\n",
      "\u001b[94m\u001b[1m🤓 OK\u001b[0m\n"
     ]
    },
    {
     "data": {
      "text/html": [
       " <span style=\"background-color:#e0e0e0 \">-1.2790844</span> <span style=\"background-color:#DFFF00 \">13.61306</span>"
      ],
      "text/plain": [
       "<IPython.core.display.HTML object>"
      ]
     },
     "metadata": {},
     "output_type": "display_data"
    },
    {
     "data": {
      "text/html": [
       " Singapore is leading <span style=\"background-color:#DFFF00 \">the</span><span style=\"background-color:#DFFF00 \"> way</span> in another area as well : production and distribution of potable recycled water ."
      ],
      "text/plain": [
       "<IPython.core.display.HTML object>"
      ]
     },
     "metadata": {},
     "output_type": "display_data"
    },
    {
     "data": {
      "text/html": [
       " Singapura também lidera <span style=\"background-color:#DFFF00 \">a</span><span style=\"background-color:#DFFF00 \"> caminhada</span> numa outra área : a produção e a distribuição de água potável reciclada ."
      ],
      "text/plain": [
       "<IPython.core.display.HTML object>"
      ]
     },
     "metadata": {},
     "output_type": "display_data"
    },
    {
     "name": "stdout",
     "output_type": "stream",
     "text": [
      "____________________________________79___________________________________________________\n",
      "\u001b[94m\u001b[1m🤓 OK\u001b[0m\n"
     ]
    },
    {
     "data": {
      "text/html": [
       " <span style=\"background-color:#e0e0e0 \">-4.622756</span> <span style=\"background-color:#DFFF00 \">-0.93536496</span>"
      ],
      "text/plain": [
       "<IPython.core.display.HTML object>"
      ]
     },
     "metadata": {},
     "output_type": "display_data"
    },
    {
     "data": {
      "text/html": [
       " Government officials routinely find \" ordinary citizens \" to file complaints against <span style=\"background-color:#DFFF00 \">media</span> organizations on their behalf ."
      ],
      "text/plain": [
       "<IPython.core.display.HTML object>"
      ]
     },
     "metadata": {},
     "output_type": "display_data"
    },
    {
     "data": {
      "text/html": [
       " Os responsáveis governamentais encontram rotineiramente \" cidadãos normais \" que apresentam reclamações , em seu próprio nome , contra as organizações <span style=\"background-color:#DFFF00 \">da</span><span style=\"background-color:#DFFF00 \"> comunicação</span><span style=\"background-color:#DFFF00 \"> social</span> ."
      ],
      "text/plain": [
       "<IPython.core.display.HTML object>"
      ]
     },
     "metadata": {},
     "output_type": "display_data"
    },
    {
     "name": "stdout",
     "output_type": "stream",
     "text": [
      "____________________________________81___________________________________________________\n",
      "\u001b[94m\u001b[1m🤓 OK\u001b[0m\n"
     ]
    },
    {
     "data": {
      "text/html": [
       " <span style=\"background-color:#e0e0e0 \">-7.1805873</span> <span style=\"background-color:#DFFF00 \">-4.7306757</span> <span style=\"background-color:#9FE2BF \">-3.1390753</span>"
      ],
      "text/plain": [
       "<IPython.core.display.HTML object>"
      ]
     },
     "metadata": {},
     "output_type": "display_data"
    },
    {
     "data": {
      "text/html": [
       " It received the backing of <span style=\"background-color:#9FE2BF \">the</span> legislature , which had previously <span style=\"background-color:#DFFF00 \">favored</span> a ban ."
      ],
      "text/plain": [
       "<IPython.core.display.HTML object>"
      ]
     },
     "metadata": {},
     "output_type": "display_data"
    },
    {
     "data": {
      "text/html": [
       " Recebeu o apoio do <span style=\"background-color:#9FE2BF \">poder</span> legislativo , que já tinha <span style=\"background-color:#DFFF00 \">defendido</span> anteriormente a proibição ."
      ],
      "text/plain": [
       "<IPython.core.display.HTML object>"
      ]
     },
     "metadata": {},
     "output_type": "display_data"
    },
    {
     "name": "stdout",
     "output_type": "stream",
     "text": [
      "____________________________________84___________________________________________________\n",
      "\u001b[94m\u001b[1m🤓 OK\u001b[0m\n"
     ]
    },
    {
     "data": {
      "text/html": [
       " <span style=\"background-color:#e0e0e0 \">-11.182469</span> <span style=\"background-color:#DFFF00 \">-7.065939</span> <span style=\"background-color:#9FE2BF \">2.9469368</span>"
      ],
      "text/plain": [
       "<IPython.core.display.HTML object>"
      ]
     },
     "metadata": {},
     "output_type": "display_data"
    },
    {
     "data": {
      "text/html": [
       " What <span style=\"background-color:#9FE2BF \">is</span><span style=\"background-color:#9FE2BF \"> needed</span><span style=\"background-color:#9FE2BF \"> is</span><span style=\"background-color:#9FE2BF \"> a</span><span style=\"background-color:#9FE2BF \"> nuanced</span><span style=\"background-color:#9FE2BF \"> approach</span><span style=\"background-color:#9FE2BF \"> ,</span> which is what we develop in our new book Strategic <span style=\"background-color:#DFFF00 \">Reassurance</span><span style=\"background-color:#DFFF00 \"> and</span><span style=\"background-color:#DFFF00 \"> Resolve</span> ."
      ],
      "text/plain": [
       "<IPython.core.display.HTML object>"
      ]
     },
     "metadata": {},
     "output_type": "display_data"
    },
    {
     "data": {
      "text/html": [
       " É <span style=\"background-color:#9FE2BF \">necessária</span><span style=\"background-color:#9FE2BF \"> uma</span><span style=\"background-color:#9FE2BF \"> abordagem</span><span style=\"background-color:#9FE2BF \"> flexível</span> como a que desenvolvemos no nosso novo livro Strategic <span style=\"background-color:#DFFF00 \">Reassurance</span><span style=\"background-color:#DFFF00 \"> and</span><span style=\"background-color:#DFFF00 \"> Resolve</span><span style=\"background-color:#DFFF00 \"> (</span><span style=\"background-color:#DFFF00 \"> Pacificação</span><span style=\"background-color:#DFFF00 \"> e</span><span style=\"background-color:#DFFF00 \"> Resolução</span><span style=\"background-color:#DFFF00 \"> Estratégicas</span><span style=\"background-color:#DFFF00 \"> ,</span><span style=\"background-color:#DFFF00 \"> NdT</span><span style=\"background-color:#DFFF00 \"> .</span><span style=\"background-color:#DFFF00 \"> )</span> ."
      ],
      "text/plain": [
       "<IPython.core.display.HTML object>"
      ]
     },
     "metadata": {},
     "output_type": "display_data"
    },
    {
     "name": "stdout",
     "output_type": "stream",
     "text": [
      "____________________________________91___________________________________________________\n",
      "\u001b[94m\u001b[1m🤓 OK\u001b[0m\n"
     ]
    },
    {
     "data": {
      "text/html": [
       " <span style=\"background-color:#e0e0e0 \">-11.440868</span> <span style=\"background-color:#DFFF00 \">8.667378</span> <span style=\"background-color:#9FE2BF \">11.225098</span>"
      ],
      "text/plain": [
       "<IPython.core.display.HTML object>"
      ]
     },
     "metadata": {},
     "output_type": "display_data"
    },
    {
     "data": {
      "text/html": [
       " <span style=\"background-color:#DFFF00 \">In</span><span style=\"background-color:#DFFF00 \"> the</span><span style=\"background-color:#DFFF00 \"> DRC</span><span style=\"background-color:#DFFF00 \"> alone</span><span style=\"background-color:#DFFF00 \"> ,</span> IUWM systems can be expected to improve water delivery and sanitation <span style=\"background-color:#9FE2BF \">for</span> 17 million people by 2030 ."
      ],
      "text/plain": [
       "<IPython.core.display.HTML object>"
      ]
     },
     "metadata": {},
     "output_type": "display_data"
    },
    {
     "data": {
      "text/html": [
       " <span style=\"background-color:#DFFF00 \">Segundo</span><span style=\"background-color:#DFFF00 \"> as</span><span style=\"background-color:#DFFF00 \"> previsões</span><span style=\"background-color:#DFFF00 \"> ,</span><span style=\"background-color:#DFFF00 \"> só</span><span style=\"background-color:#DFFF00 \"> na</span><span style=\"background-color:#DFFF00 \"> República</span><span style=\"background-color:#DFFF00 \"> Democrática</span><span style=\"background-color:#DFFF00 \"> do</span><span style=\"background-color:#DFFF00 \"> Congo</span><span style=\"background-color:#DFFF00 \"> os</span> sistemas GIAU permitirão melhorar o abastecimento de água e o saneamento <span style=\"background-color:#9FE2BF \">básico</span><span style=\"background-color:#9FE2BF \"> para</span> 17 milhões de pessoas até 2030 ."
      ],
      "text/plain": [
       "<IPython.core.display.HTML object>"
      ]
     },
     "metadata": {},
     "output_type": "display_data"
    },
    {
     "name": "stdout",
     "output_type": "stream",
     "text": [
      "____________________________________93___________________________________________________\n",
      "\u001b[94m\u001b[1m🤓 OK\u001b[0m\n"
     ]
    },
    {
     "data": {
      "text/html": [
       " <span style=\"background-color:#e0e0e0 \">-7.0305657</span> <span style=\"background-color:#DFFF00 \">15.027813</span>"
      ],
      "text/plain": [
       "<IPython.core.display.HTML object>"
      ]
     },
     "metadata": {},
     "output_type": "display_data"
    },
    {
     "data": {
      "text/html": [
       " If China <span style=\"background-color:#DFFF00 \">is</span> to preserve its gains in global stature , it must avoid a political hard landing ."
      ],
      "text/plain": [
       "<IPython.core.display.HTML object>"
      ]
     },
     "metadata": {},
     "output_type": "display_data"
    },
    {
     "data": {
      "text/html": [
       " Se a China <span style=\"background-color:#DFFF00 \">pretende</span> preservar os seus ganhos em estatura global , deve evitar uma aterragem política forçada ."
      ],
      "text/plain": [
       "<IPython.core.display.HTML object>"
      ]
     },
     "metadata": {},
     "output_type": "display_data"
    },
    {
     "name": "stdout",
     "output_type": "stream",
     "text": [
      "____________________________________99___________________________________________________\n",
      "\u001b[94m\u001b[1m🤓 OK\u001b[0m\n"
     ]
    },
    {
     "data": {
      "text/html": [
       " <span style=\"background-color:#e0e0e0 \">-3.0403428</span> <span style=\"background-color:#DFFF00 \">6.5028152</span> <span style=\"background-color:#9FE2BF \">7.5315323</span>"
      ],
      "text/plain": [
       "<IPython.core.display.HTML object>"
      ]
     },
     "metadata": {},
     "output_type": "display_data"
    },
    {
     "data": {
      "text/html": [
       " The problems are rooted in <span style=\"background-color:#DFFF00 \">the</span> field 's incentive structure - a winner-take-all system in which grants , prizes , and other rewards <span style=\"background-color:#9FE2BF \">go</span> to those who publish first ."
      ],
      "text/plain": [
       "<IPython.core.display.HTML object>"
      ]
     },
     "metadata": {},
     "output_type": "display_data"
    },
    {
     "data": {
      "text/html": [
       " Os problemas estão enraizados na estrutura de incentivos no domínio <span style=\"background-color:#DFFF00 \">da</span><span style=\"background-color:#DFFF00 \"> ciência</span> - um sistema do tipo o vencedor fica com tudo , segundo o qual os subsídios , prémios e outras recompensas <span style=\"background-color:#9FE2BF \">são</span> atribuídos a quem publicar primeiro ."
      ],
      "text/plain": [
       "<IPython.core.display.HTML object>"
      ]
     },
     "metadata": {},
     "output_type": "display_data"
    },
    {
     "name": "stdout",
     "output_type": "stream",
     "text": [
      "____________________________________102___________________________________________________\n",
      "\u001b[94m\u001b[1m🤓 OK\u001b[0m\n"
     ]
    },
    {
     "data": {
      "text/html": [
       " <span style=\"background-color:#e0e0e0 \">-14.212141</span> <span style=\"background-color:#DFFF00 \">-3.5601354</span> <span style=\"background-color:#9FE2BF \">-2.2623236</span>"
      ],
      "text/plain": [
       "<IPython.core.display.HTML object>"
      ]
     },
     "metadata": {},
     "output_type": "display_data"
    },
    {
     "data": {
      "text/html": [
       " Better macroeconomic policy led to faster GDP growth , which <span style=\"background-color:#DFFF00 \">required</span><span style=\"background-color:#DFFF00 \"> financing</span><span style=\"background-color:#DFFF00 \"> and</span><span style=\"background-color:#DFFF00 \"> motivated</span><span style=\"background-color:#DFFF00 \"> some</span><span style=\"background-color:#DFFF00 \"> insiders</span><span style=\"background-color:#DFFF00 \"> to</span><span style=\"background-color:#DFFF00 \"> forego</span><span style=\"background-color:#DFFF00 \"> pernicious</span><span style=\"background-color:#DFFF00 \"> maneuvering</span> that <span style=\"background-color:#9FE2BF \">would</span> scare away new outside investors ."
      ],
      "text/plain": [
       "<IPython.core.display.HTML object>"
      ]
     },
     "metadata": {},
     "output_type": "display_data"
    },
    {
     "data": {
      "text/html": [
       " Políticas macroeconômicas sólidas influenciaram o crescimento do PIB , que por <span style=\"background-color:#DFFF00 \">sua</span><span style=\"background-color:#DFFF00 \"> vez</span><span style=\"background-color:#DFFF00 \"> demandou</span><span style=\"background-color:#DFFF00 \"> financiamento</span><span style=\"background-color:#DFFF00 \"> e</span><span style=\"background-color:#DFFF00 \"> influenciou</span><span style=\"background-color:#DFFF00 \"> o</span><span style=\"background-color:#DFFF00 \"> bom</span><span style=\"background-color:#DFFF00 \"> comportamento</span><span style=\"background-color:#DFFF00 \"> de</span><span style=\"background-color:#DFFF00 \"> controladores</span><span style=\"background-color:#DFFF00 \"> e</span><span style=\"background-color:#DFFF00 \"> administradores</span><span style=\"background-color:#DFFF00 \"> para</span> <span style=\"background-color:#9FE2BF \">não</span> assustar novos investidores ."
      ],
      "text/plain": [
       "<IPython.core.display.HTML object>"
      ]
     },
     "metadata": {},
     "output_type": "display_data"
    },
    {
     "name": "stdout",
     "output_type": "stream",
     "text": [
      "____________________________________108___________________________________________________\n",
      "\u001b[94m\u001b[1m🤓 OK\u001b[0m\n"
     ]
    },
    {
     "data": {
      "text/html": [
       " <span style=\"background-color:#e0e0e0 \">-8.025448</span>"
      ],
      "text/plain": [
       "<IPython.core.display.HTML object>"
      ]
     },
     "metadata": {},
     "output_type": "display_data"
    },
    {
     "data": {
      "text/html": [
       " <span style=\"background-color:#DFFF00 \">With</span><span style=\"background-color:#DFFF00 \"> greater</span><span style=\"background-color:#DFFF00 \"> trade</span><span style=\"background-color:#DFFF00 \"> and</span><span style=\"background-color:#DFFF00 \"> travel</span><span style=\"background-color:#DFFF00 \"> to</span><span style=\"background-color:#DFFF00 \"> the</span><span style=\"background-color:#DFFF00 \"> region</span><span style=\"background-color:#DFFF00 \"> ,</span><span style=\"background-color:#DFFF00 \"> outbreaks</span><span style=\"background-color:#DFFF00 \"> are</span><span style=\"background-color:#DFFF00 \"> likely</span><span style=\"background-color:#DFFF00 \"> to</span><span style=\"background-color:#DFFF00 \"> spread</span><span style=\"background-color:#DFFF00 \"> before</span><span style=\"background-color:#DFFF00 \"> international</span><span style=\"background-color:#DFFF00 \"> containment</span><span style=\"background-color:#DFFF00 \"> can</span><span style=\"background-color:#DFFF00 \"> coalesce</span><span style=\"background-color:#DFFF00 \"> .</span>"
      ],
      "text/plain": [
       "<IPython.core.display.HTML object>"
      ]
     },
     "metadata": {},
     "output_type": "display_data"
    },
    {
     "data": {
      "text/html": [
       " <span style=\"background-color:#DFFF00 \">Com</span><span style=\"background-color:#DFFF00 \"> o</span><span style=\"background-color:#DFFF00 \"> crescimento</span><span style=\"background-color:#DFFF00 \"> do</span><span style=\"background-color:#DFFF00 \"> comércio</span><span style=\"background-color:#DFFF00 \"> e</span><span style=\"background-color:#DFFF00 \"> viagens</span><span style=\"background-color:#DFFF00 \"> para</span><span style=\"background-color:#DFFF00 \"> a</span><span style=\"background-color:#DFFF00 \"> região</span><span style=\"background-color:#DFFF00 \"> ,</span><span style=\"background-color:#DFFF00 \"> torna-se</span><span style=\"background-color:#DFFF00 \"> mais</span><span style=\"background-color:#DFFF00 \"> provável</span><span style=\"background-color:#DFFF00 \"> que</span><span style=\"background-color:#DFFF00 \"> os</span><span style=\"background-color:#DFFF00 \"> surtos</span><span style=\"background-color:#DFFF00 \"> alastrem</span><span style=\"background-color:#DFFF00 \"> antes</span><span style=\"background-color:#DFFF00 \"> da</span><span style=\"background-color:#DFFF00 \"> contenção</span><span style=\"background-color:#DFFF00 \"> internacional</span><span style=\"background-color:#DFFF00 \"> ser</span><span style=\"background-color:#DFFF00 \"> eficaz</span><span style=\"background-color:#DFFF00 \"> .</span>"
      ],
      "text/plain": [
       "<IPython.core.display.HTML object>"
      ]
     },
     "metadata": {},
     "output_type": "display_data"
    },
    {
     "name": "stdout",
     "output_type": "stream",
     "text": [
      "____________________________________111___________________________________________________\n",
      "\u001b[94m\u001b[1m🤓 OK\u001b[0m\n"
     ]
    },
    {
     "data": {
      "text/html": [
       " <span style=\"background-color:#e0e0e0 \">-12.52447</span> <span style=\"background-color:#DFFF00 \">13.47046</span>"
      ],
      "text/plain": [
       "<IPython.core.display.HTML object>"
      ]
     },
     "metadata": {},
     "output_type": "display_data"
    },
    {
     "data": {
      "text/html": [
       " Today 's children may be great consumers of technology , but rarely <span style=\"background-color:#DFFF00 \">are</span><span style=\"background-color:#DFFF00 \"> they</span><span style=\"background-color:#DFFF00 \"> truly</span><span style=\"background-color:#DFFF00 \"> tech</span><span style=\"background-color:#DFFF00 \"> literate</span> ."
      ],
      "text/plain": [
       "<IPython.core.display.HTML object>"
      ]
     },
     "metadata": {},
     "output_type": "display_data"
    },
    {
     "data": {
      "text/html": [
       " As crianças de hoje podem ser grandes consumidores de tecnologia , mas raramente <span style=\"background-color:#DFFF00 \">têm</span><span style=\"background-color:#DFFF00 \"> uma</span><span style=\"background-color:#DFFF00 \"> verdadeira</span><span style=\"background-color:#DFFF00 \"> cultura</span><span style=\"background-color:#DFFF00 \"> tecnológica</span> ."
      ],
      "text/plain": [
       "<IPython.core.display.HTML object>"
      ]
     },
     "metadata": {},
     "output_type": "display_data"
    },
    {
     "name": "stdout",
     "output_type": "stream",
     "text": [
      "____________________________________112___________________________________________________\n",
      "\u001b[94m\u001b[1m🤓 OK\u001b[0m\n"
     ]
    },
    {
     "data": {
      "text/html": [
       " <span style=\"background-color:#e0e0e0 \">-10.442272</span> <span style=\"background-color:#DFFF00 \">15.532646</span>"
      ],
      "text/plain": [
       "<IPython.core.display.HTML object>"
      ]
     },
     "metadata": {},
     "output_type": "display_data"
    },
    {
     "data": {
      "text/html": [
       " Already , World Bank Group efforts have enabled one million hectares of indigenous land in Nicaragua - over 30 % of the country 's territory - to be demarcated <span style=\"background-color:#DFFF00 \">,</span><span style=\"background-color:#DFFF00 \"> titled</span><span style=\"background-color:#DFFF00 \"> ,</span><span style=\"background-color:#DFFF00 \"> and</span><span style=\"background-color:#DFFF00 \"> registered</span> , a process that has benefited some of the country 's most vulnerable groups ."
      ],
      "text/plain": [
       "<IPython.core.display.HTML object>"
      ]
     },
     "metadata": {},
     "output_type": "display_data"
    },
    {
     "data": {
      "text/html": [
       " Os esforços do Grupo do Banco Mundial já permitiram que um milhão de hectares de terras indígenas na Nicarágua - mais de 30 % do território do país - fossem demarcadas <span style=\"background-color:#DFFF00 \">e</span><span style=\"background-color:#DFFF00 \"> registadas</span> , um processo que beneficiou alguns dos grupos mais vulneráveis do país ."
      ],
      "text/plain": [
       "<IPython.core.display.HTML object>"
      ]
     },
     "metadata": {},
     "output_type": "display_data"
    },
    {
     "name": "stdout",
     "output_type": "stream",
     "text": [
      "____________________________________116___________________________________________________\n",
      "\u001b[94m\u001b[1m🤓 OK\u001b[0m\n"
     ]
    },
    {
     "data": {
      "text/html": [
       " <span style=\"background-color:#e0e0e0 \">-3.4395263</span> <span style=\"background-color:#DFFF00 \">11.687956</span>"
      ],
      "text/plain": [
       "<IPython.core.display.HTML object>"
      ]
     },
     "metadata": {},
     "output_type": "display_data"
    },
    {
     "data": {
      "text/html": [
       " Environmental taxes could lead to better air and water quality , even as they raise substantial revenues ; congestion taxes would improve quality of life in cities ; <span style=\"background-color:#DFFF00 \">property</span><span style=\"background-color:#DFFF00 \"> and</span><span style=\"background-color:#DFFF00 \"> capital-gains</span> taxes would encourage higher investment in productive activities , promoting growth ."
      ],
      "text/plain": [
       "<IPython.core.display.HTML object>"
      ]
     },
     "metadata": {},
     "output_type": "display_data"
    },
    {
     "data": {
      "text/html": [
       " Os impostos ambientais poderiam levar a uma melhor qualidade do ar e da água , recolhendo ao mesmo tempo rendimentos substanciais ; os impostos sobre o congestionamento melhorariam a qualidade de vida nas cidades ; os impostos <span style=\"background-color:#DFFF00 \">sobre</span><span style=\"background-color:#DFFF00 \"> o</span><span style=\"background-color:#DFFF00 \"> património</span><span style=\"background-color:#DFFF00 \"> e</span><span style=\"background-color:#DFFF00 \"> ganhos</span><span style=\"background-color:#DFFF00 \"> de</span><span style=\"background-color:#DFFF00 \"> capital</span> encorajariam um maior investimento em actividades produtivas , promovendo o crescimento ."
      ],
      "text/plain": [
       "<IPython.core.display.HTML object>"
      ]
     },
     "metadata": {},
     "output_type": "display_data"
    },
    {
     "name": "stdout",
     "output_type": "stream",
     "text": [
      "____________________________________137___________________________________________________\n",
      "\u001b[94m\u001b[1m🤓 OK\u001b[0m\n"
     ]
    },
    {
     "data": {
      "text/html": [
       " <span style=\"background-color:#e0e0e0 \">-13.918319</span> <span style=\"background-color:#DFFF00 \">2.7636485</span> <span style=\"background-color:#9FE2BF \">6.7844257</span>"
      ],
      "text/plain": [
       "<IPython.core.display.HTML object>"
      ]
     },
     "metadata": {},
     "output_type": "display_data"
    },
    {
     "data": {
      "text/html": [
       " <span style=\"background-color:#9FE2BF \">Saudi</span> Crown Prince Mohammed bin Salman is widely believed to have ordered the killing ."
      ],
      "text/plain": [
       "<IPython.core.display.HTML object>"
      ]
     },
     "metadata": {},
     "output_type": "display_data"
    },
    {
     "data": {
      "text/html": [
       " A opinião geral acredita que o príncipe <span style=\"background-color:#9FE2BF \">herdeiro</span><span style=\"background-color:#9FE2BF \"> saudita</span><span style=\"background-color:#9FE2BF \"> ,</span> Mohammed bin Salman <span style=\"background-color:#DFFF00 \">(</span><span style=\"background-color:#DFFF00 \"> MBS</span><span style=\"background-color:#DFFF00 \"> )</span><span style=\"background-color:#DFFF00 \"> ,</span> tenha ordenado o assassinato ."
      ],
      "text/plain": [
       "<IPython.core.display.HTML object>"
      ]
     },
     "metadata": {},
     "output_type": "display_data"
    },
    {
     "name": "stdout",
     "output_type": "stream",
     "text": [
      "____________________________________147___________________________________________________\n",
      "\u001b[94m\u001b[1m🤓 OK\u001b[0m\n"
     ]
    },
    {
     "data": {
      "text/html": [
       " <span style=\"background-color:#e0e0e0 \">-14.304787</span> <span style=\"background-color:#DFFF00 \">10.700362</span>"
      ],
      "text/plain": [
       "<IPython.core.display.HTML object>"
      ]
     },
     "metadata": {},
     "output_type": "display_data"
    },
    {
     "data": {
      "text/html": [
       " Given the degree of suffering caused by mosquito-borne diseases , government leaders must not subject genetic-engineering solutions for controlling them to the same kinds of <span style=\"background-color:#DFFF00 \">political</span><span style=\"background-color:#DFFF00 \"> and</span> populist headwinds that have impeded the approval of genetically engineered agricultural products ."
      ],
      "text/plain": [
       "<IPython.core.display.HTML object>"
      ]
     },
     "metadata": {},
     "output_type": "display_data"
    },
    {
     "data": {
      "text/html": [
       " Atendendo ao grau de sofrimento causado pelas doenças transmitidas por mosquitos , os líderes governamentais não deviam sujeitar as soluções de engenharia genética que visam o controlo dessas doenças aos mesmos tipos de turbulência <span style=\"background-color:#DFFF00 \">política</span><span style=\"background-color:#DFFF00 \"> e</span> populista que condicionaram a aprovação dos produtos agrícolas geneticamente modificados ."
      ],
      "text/plain": [
       "<IPython.core.display.HTML object>"
      ]
     },
     "metadata": {},
     "output_type": "display_data"
    },
    {
     "name": "stdout",
     "output_type": "stream",
     "text": [
      "____________________________________152___________________________________________________\n",
      "\u001b[94m\u001b[1m🤓 OK\u001b[0m\n"
     ]
    },
    {
     "data": {
      "text/html": [
       " <span style=\"background-color:#e0e0e0 \">-10.165915</span> <span style=\"background-color:#DFFF00 \">2.8071232</span> <span style=\"background-color:#9FE2BF \">10.202698</span>"
      ],
      "text/plain": [
       "<IPython.core.display.HTML object>"
      ]
     },
     "metadata": {},
     "output_type": "display_data"
    },
    {
     "data": {
      "text/html": [
       " The data , which were meant to <span style=\"background-color:#9FE2BF \">highlight</span> efforts to eradicate extreme poverty and reduce premature deaths <span style=\"background-color:#DFFF00 \">,</span><span style=\"background-color:#DFFF00 \"> was</span><span style=\"background-color:#DFFF00 \"> also</span><span style=\"background-color:#DFFF00 \"> intended</span><span style=\"background-color:#DFFF00 \"> to</span><span style=\"background-color:#DFFF00 \"> cajole</span> ."
      ],
      "text/plain": [
       "<IPython.core.display.HTML object>"
      ]
     },
     "metadata": {},
     "output_type": "display_data"
    },
    {
     "data": {
      "text/html": [
       " Os dados , que deveriam <span style=\"background-color:#9FE2BF \">destacar</span> os esforços envidados para erradicar a pobreza extrema e reduzir as mortes prematuras <span style=\"background-color:#DFFF00 \">,</span><span style=\"background-color:#DFFF00 \"> tinham</span><span style=\"background-color:#DFFF00 \"> também</span><span style=\"background-color:#DFFF00 \"> como</span><span style=\"background-color:#DFFF00 \"> objectivo</span><span style=\"background-color:#DFFF00 \"> convencer</span> ."
      ],
      "text/plain": [
       "<IPython.core.display.HTML object>"
      ]
     },
     "metadata": {},
     "output_type": "display_data"
    },
    {
     "name": "stdout",
     "output_type": "stream",
     "text": [
      "____________________________________161___________________________________________________\n",
      "\u001b[94m\u001b[1m🤓 OK\u001b[0m\n"
     ]
    },
    {
     "data": {
      "text/html": [
       " <span style=\"background-color:#e0e0e0 \">-9.84812</span> <span style=\"background-color:#DFFF00 \">11.548635</span>"
      ],
      "text/plain": [
       "<IPython.core.display.HTML object>"
      ]
     },
     "metadata": {},
     "output_type": "display_data"
    },
    {
     "data": {
      "text/html": [
       " This maturation could not have come at a more opportune time ; roughly two-thirds of Africans depend on agriculture <span style=\"background-color:#DFFF00 \">to</span><span style=\"background-color:#DFFF00 \"> make</span><span style=\"background-color:#DFFF00 \"> ends</span><span style=\"background-color:#DFFF00 \"> meet</span> ."
      ],
      "text/plain": [
       "<IPython.core.display.HTML object>"
      ]
     },
     "metadata": {},
     "output_type": "display_data"
    },
    {
     "data": {
      "text/html": [
       " Esta maturação não poderia ter chegado num momento mais oportuno , já que perto de dois terços dos africanos dependem da agricultura <span style=\"background-color:#DFFF00 \">para</span><span style=\"background-color:#DFFF00 \"> sobreviverem</span> ."
      ],
      "text/plain": [
       "<IPython.core.display.HTML object>"
      ]
     },
     "metadata": {},
     "output_type": "display_data"
    },
    {
     "name": "stdout",
     "output_type": "stream",
     "text": [
      "____________________________________164___________________________________________________\n",
      "\u001b[94m\u001b[1m🤓 OK\u001b[0m\n"
     ]
    },
    {
     "data": {
      "text/html": [
       " <span style=\"background-color:#e0e0e0 \">-2.8597775</span> <span style=\"background-color:#DFFF00 \">12.980604</span>"
      ],
      "text/plain": [
       "<IPython.core.display.HTML object>"
      ]
     },
     "metadata": {},
     "output_type": "display_data"
    },
    {
     "data": {
      "text/html": [
       " And former Ukrainian Prime Minister Yuliya Tymoshenko , another previous winner , must be aghast : her country is being ravaged by Russia under <span style=\"background-color:#DFFF00 \">President</span><span style=\"background-color:#DFFF00 \"> Vladimir</span><span style=\"background-color:#DFFF00 \"> Putin</span><span style=\"background-color:#DFFF00 \"> ,</span><span style=\"background-color:#DFFF00 \"> the</span><span style=\"background-color:#DFFF00 \"> pope</span><span style=\"background-color:#DFFF00 \"> of</span><span style=\"background-color:#DFFF00 \"> illiberalism</span><span style=\"background-color:#DFFF00 \"> and</span><span style=\"background-color:#DFFF00 \"> role</span><span style=\"background-color:#DFFF00 \"> model</span><span style=\"background-color:#DFFF00 \"> for</span> Kaczyński and Orbán ."
      ],
      "text/plain": [
       "<IPython.core.display.HTML object>"
      ]
     },
     "metadata": {},
     "output_type": "display_data"
    },
    {
     "data": {
      "text/html": [
       " E a ex-primeira-ministra ucraniana , Yulia Tymoshenko , outra anterior vencedora , deve estar horrorizada : o seu país está a ser destruído pela Rússia sob <span style=\"background-color:#DFFF00 \">o</span><span style=\"background-color:#DFFF00 \"> comando</span><span style=\"background-color:#DFFF00 \"> do</span><span style=\"background-color:#DFFF00 \"> presidente</span><span style=\"background-color:#DFFF00 \"> Vladimir</span><span style=\"background-color:#DFFF00 \"> Putin</span><span style=\"background-color:#DFFF00 \"> ,</span><span style=\"background-color:#DFFF00 \"> a</span><span style=\"background-color:#DFFF00 \"> santidade</span><span style=\"background-color:#DFFF00 \"> do</span><span style=\"background-color:#DFFF00 \"> antiliberalismo</span><span style=\"background-color:#DFFF00 \"> e</span><span style=\"background-color:#DFFF00 \"> um</span><span style=\"background-color:#DFFF00 \"> modelo</span><span style=\"background-color:#DFFF00 \"> exemplar</span><span style=\"background-color:#DFFF00 \"> aos</span><span style=\"background-color:#DFFF00 \"> olhos</span><span style=\"background-color:#DFFF00 \"> de</span> Kaczyński e de Orbán ."
      ],
      "text/plain": [
       "<IPython.core.display.HTML object>"
      ]
     },
     "metadata": {},
     "output_type": "display_data"
    },
    {
     "name": "stdout",
     "output_type": "stream",
     "text": [
      "____________________________________174___________________________________________________\n",
      "\u001b[94m\u001b[1m🤓 OK\u001b[0m\n"
     ]
    },
    {
     "data": {
      "text/html": [
       " <span style=\"background-color:#e0e0e0 \">-12.170477</span> <span style=\"background-color:#DFFF00 \">-5.9984446</span> <span style=\"background-color:#9FE2BF \">4.4709797</span> <span style=\"background-color:#CCCCFF \">11.958223</span>"
      ],
      "text/plain": [
       "<IPython.core.display.HTML object>"
      ]
     },
     "metadata": {},
     "output_type": "display_data"
    },
    {
     "data": {
      "text/html": [
       " NEW YORK - Africa is changing dramatically - and so are <span style=\"background-color:#9FE2BF \">outsiders</span><span style=\"background-color:#9FE2BF \"> '</span> attitudes toward it <span style=\"background-color:#DFFF00 \">,</span><span style=\"background-color:#DFFF00 \"> with</span> the US finally seeming determined <span style=\"background-color:#CCCCFF \">to</span><span style=\"background-color:#CCCCFF \"> catch</span><span style=\"background-color:#CCCCFF \"> up</span><span style=\"background-color:#CCCCFF \"> with</span> China , Europe , and India in their interest in the continent ."
      ],
      "text/plain": [
       "<IPython.core.display.HTML object>"
      ]
     },
     "metadata": {},
     "output_type": "display_data"
    },
    {
     "data": {
      "text/html": [
       " NOVA IORQUE - A África está a mudar radicalmente - tal como estão a mudar as atitudes <span style=\"background-color:#9FE2BF \">de</span><span style=\"background-color:#9FE2BF \"> terceiros</span> em relação a esta <span style=\"background-color:#DFFF00 \">região</span><span style=\"background-color:#DFFF00 \"> ;</span><span style=\"background-color:#DFFF00 \"> veja-se</span> os EUA que parecem finalmente determinados <span style=\"background-color:#CCCCFF \">a</span><span style=\"background-color:#CCCCFF \"> juntar-se</span><span style=\"background-color:#CCCCFF \"> à</span> China , à Europa e à Índia no que diz respeito ao interesse pelo continente ."
      ],
      "text/plain": [
       "<IPython.core.display.HTML object>"
      ]
     },
     "metadata": {},
     "output_type": "display_data"
    },
    {
     "name": "stdout",
     "output_type": "stream",
     "text": [
      "____________________________________180___________________________________________________\n",
      "\u001b[94m\u001b[1m🤓 OK\u001b[0m\n"
     ]
    },
    {
     "data": {
      "text/html": [
       " <span style=\"background-color:#e0e0e0 \">-7.680401</span> <span style=\"background-color:#DFFF00 \">15.5647745</span>"
      ],
      "text/plain": [
       "<IPython.core.display.HTML object>"
      ]
     },
     "metadata": {},
     "output_type": "display_data"
    },
    {
     "data": {
      "text/html": [
       " Many of the failed monetary measures <span style=\"background-color:#DFFF00 \">cost</span><span style=\"background-color:#DFFF00 \"> people</span><span style=\"background-color:#DFFF00 \"> significant</span><span style=\"background-color:#DFFF00 \"> savings</span><span style=\"background-color:#DFFF00 \"> ;</span> as a result , nearly every stabilization plan from that period was litigated , including the successful Plano Real ."
      ],
      "text/plain": [
       "<IPython.core.display.HTML object>"
      ]
     },
     "metadata": {},
     "output_type": "display_data"
    },
    {
     "data": {
      "text/html": [
       " Muitas das medidas monetárias fracassadas <span style=\"background-color:#DFFF00 \">custaram</span><span style=\"background-color:#DFFF00 \"> as</span><span style=\"background-color:#DFFF00 \"> economias</span><span style=\"background-color:#DFFF00 \"> de</span><span style=\"background-color:#DFFF00 \"> cidadãos</span><span style=\"background-color:#DFFF00 \"> .</span> Como resultado , quase todos os planos de estabilização desse período foram litigados , incluindo o bem sucedido Plano Real ."
      ],
      "text/plain": [
       "<IPython.core.display.HTML object>"
      ]
     },
     "metadata": {},
     "output_type": "display_data"
    },
    {
     "name": "stdout",
     "output_type": "stream",
     "text": [
      "____________________________________207___________________________________________________\n",
      "\u001b[94m\u001b[1m🤓 OK\u001b[0m\n"
     ]
    },
    {
     "data": {
      "text/html": [
       " <span style=\"background-color:#e0e0e0 \">-6.2262025</span> <span style=\"background-color:#DFFF00 \">-3.139553</span> <span style=\"background-color:#9FE2BF \">4.4733453</span> <span style=\"background-color:#CCCCFF \">6.260322</span>"
      ],
      "text/plain": [
       "<IPython.core.display.HTML object>"
      ]
     },
     "metadata": {},
     "output_type": "display_data"
    },
    {
     "data": {
      "text/html": [
       " Bush has said that history will redeem him , and compares himself to President Harry S. Truman , who left office with <span style=\"background-color:#CCCCFF \">low</span><span style=\"background-color:#CCCCFF \"> poll</span> ratings <span style=\"background-color:#9FE2BF \">because</span><span style=\"background-color:#9FE2BF \"> of</span><span style=\"background-color:#9FE2BF \"> the</span><span style=\"background-color:#9FE2BF \"> Korean</span><span style=\"background-color:#9FE2BF \"> War</span><span style=\"background-color:#9FE2BF \"> ,</span> yet <span style=\"background-color:#DFFF00 \">is</span><span style=\"background-color:#DFFF00 \"> well</span> regarded today ."
      ],
      "text/plain": [
       "<IPython.core.display.HTML object>"
      ]
     },
     "metadata": {},
     "output_type": "display_data"
    },
    {
     "data": {
      "text/html": [
       " Bush afirmou que a história o irá redimir e compara-se com o Presidente Harry S. Truman , que deixou o cargo com um <span style=\"background-color:#CCCCFF \">baixo</span> índice de popularidade <span style=\"background-color:#9FE2BF \">,</span><span style=\"background-color:#9FE2BF \"> devido</span><span style=\"background-color:#9FE2BF \"> à</span><span style=\"background-color:#9FE2BF \"> Guerra</span><span style=\"background-color:#9FE2BF \"> da</span><span style=\"background-color:#9FE2BF \"> Coreia</span> , no entanto , actualmente a opinião <span style=\"background-color:#DFFF00 \">a</span><span style=\"background-color:#DFFF00 \"> seu</span><span style=\"background-color:#DFFF00 \"> respeito</span><span style=\"background-color:#DFFF00 \"> é</span><span style=\"background-color:#DFFF00 \"> positiva</span> ."
      ],
      "text/plain": [
       "<IPython.core.display.HTML object>"
      ]
     },
     "metadata": {},
     "output_type": "display_data"
    },
    {
     "name": "stdout",
     "output_type": "stream",
     "text": [
      "____________________________________210___________________________________________________\n",
      "\u001b[94m\u001b[1m🤓 OK\u001b[0m\n"
     ]
    },
    {
     "data": {
      "text/html": [
       " <span style=\"background-color:#e0e0e0 \">-10.418231</span> <span style=\"background-color:#DFFF00 \">13.103628</span>"
      ],
      "text/plain": [
       "<IPython.core.display.HTML object>"
      ]
     },
     "metadata": {},
     "output_type": "display_data"
    },
    {
     "data": {
      "text/html": [
       " The US has cast aside one of its most important foreign policy tools , creating an incentive for the Syrian government and its supporters to keep fighting until they are in the most advantageous position possible to negotiate <span style=\"background-color:#DFFF00 \">a</span><span style=\"background-color:#DFFF00 \"> settlement</span><span style=\"background-color:#DFFF00 \"> -</span><span style=\"background-color:#DFFF00 \"> that</span><span style=\"background-color:#DFFF00 \"> is</span><span style=\"background-color:#DFFF00 \"> ,</span><span style=\"background-color:#DFFF00 \"> if</span><span style=\"background-color:#DFFF00 \"> they</span><span style=\"background-color:#DFFF00 \"> have</span><span style=\"background-color:#DFFF00 \"> any</span><span style=\"background-color:#DFFF00 \"> incentive</span><span style=\"background-color:#DFFF00 \"> to</span><span style=\"background-color:#DFFF00 \"> negotiate</span><span style=\"background-color:#DFFF00 \"> at</span><span style=\"background-color:#DFFF00 \"> all</span> ."
      ],
      "text/plain": [
       "<IPython.core.display.HTML object>"
      ]
     },
     "metadata": {},
     "output_type": "display_data"
    },
    {
     "data": {
      "text/html": [
       " Os EUA colocaram de lado uma das suas mais importantes ferramentas de política externa , criando um incentivo para o governo sírio e os seus apoiantes continuarem a lutar , até estarem na posição mais vantajosa possível para negociarem <span style=\"background-color:#DFFF00 \">um</span><span style=\"background-color:#DFFF00 \"> acordo</span><span style=\"background-color:#DFFF00 \"> -</span><span style=\"background-color:#DFFF00 \"> isto</span><span style=\"background-color:#DFFF00 \"> é</span><span style=\"background-color:#DFFF00 \"> ,</span><span style=\"background-color:#DFFF00 \"> se</span><span style=\"background-color:#DFFF00 \"> eles</span><span style=\"background-color:#DFFF00 \"> tiverem</span><span style=\"background-color:#DFFF00 \"> realmente</span><span style=\"background-color:#DFFF00 \"> algum</span><span style=\"background-color:#DFFF00 \"> incentivo</span><span style=\"background-color:#DFFF00 \"> para</span><span style=\"background-color:#DFFF00 \"> negociarem</span> ."
      ],
      "text/plain": [
       "<IPython.core.display.HTML object>"
      ]
     },
     "metadata": {},
     "output_type": "display_data"
    },
    {
     "name": "stdout",
     "output_type": "stream",
     "text": [
      "____________________________________211___________________________________________________\n",
      "\u001b[94m\u001b[1m🤓 OK\u001b[0m\n"
     ]
    },
    {
     "data": {
      "text/html": [
       " <span style=\"background-color:#e0e0e0 \">-15.262211</span> <span style=\"background-color:#DFFF00 \">14.16145</span>"
      ],
      "text/plain": [
       "<IPython.core.display.HTML object>"
      ]
     },
     "metadata": {},
     "output_type": "display_data"
    },
    {
     "data": {
      "text/html": [
       " Since the second half of the 1980 's , when net emigration abruptly reversed , Spain has experienced high levels of structural unemployment , even when annual growth was above 4 % , in part <span style=\"background-color:#DFFF00 \">owing</span><span style=\"background-color:#DFFF00 \"> to</span><span style=\"background-color:#DFFF00 \"> the</span><span style=\"background-color:#DFFF00 \"> high</span><span style=\"background-color:#DFFF00 \"> quality</span><span style=\"background-color:#DFFF00 \"> and</span><span style=\"background-color:#DFFF00 \"> generous</span><span style=\"background-color:#DFFF00 \"> provisions</span><span style=\"background-color:#DFFF00 \"> of</span><span style=\"background-color:#DFFF00 \"> Spain</span><span style=\"background-color:#DFFF00 \"> 's</span><span style=\"background-color:#DFFF00 \"> social-welfare</span><span style=\"background-color:#DFFF00 \"> system</span> , which was also consolidated in the post-Franco period ."
      ],
      "text/plain": [
       "<IPython.core.display.HTML object>"
      ]
     },
     "metadata": {},
     "output_type": "display_data"
    },
    {
     "data": {
      "text/html": [
       " Desde a segunda metade da década de 1980 , quando a emigração líquida se reverteu abruptamente , Espanha passou por altos níveis de desemprego estrutural , mesmo quando o crescimento anual era superior a 4 % , em parte <span style=\"background-color:#DFFF00 \">devido</span><span style=\"background-color:#DFFF00 \"> à</span><span style=\"background-color:#DFFF00 \"> alta</span><span style=\"background-color:#DFFF00 \"> qualidade</span><span style=\"background-color:#DFFF00 \"> e</span><span style=\"background-color:#DFFF00 \"> às</span><span style=\"background-color:#DFFF00 \"> condições</span><span style=\"background-color:#DFFF00 \"> generosas</span><span style=\"background-color:#DFFF00 \"> do</span><span style=\"background-color:#DFFF00 \"> sistema</span><span style=\"background-color:#DFFF00 \"> espanhol</span><span style=\"background-color:#DFFF00 \"> de</span><span style=\"background-color:#DFFF00 \"> segurança</span><span style=\"background-color:#DFFF00 \"> social</span> , que também foi consolidado no período pós-Franco ."
      ],
      "text/plain": [
       "<IPython.core.display.HTML object>"
      ]
     },
     "metadata": {},
     "output_type": "display_data"
    },
    {
     "name": "stdout",
     "output_type": "stream",
     "text": [
      "____________________________________222___________________________________________________\n",
      "\u001b[94m\u001b[1m🤓 OK\u001b[0m\n"
     ]
    },
    {
     "data": {
      "text/html": [
       " <span style=\"background-color:#e0e0e0 \">-1.00877</span> <span style=\"background-color:#DFFF00 \">6.6514134</span> <span style=\"background-color:#9FE2BF \">11.51283</span>"
      ],
      "text/plain": [
       "<IPython.core.display.HTML object>"
      ]
     },
     "metadata": {},
     "output_type": "display_data"
    },
    {
     "data": {
      "text/html": [
       " The European Commission 's failure to champion <span style=\"background-color:#DFFF00 \">the</span><span style=\"background-color:#DFFF00 \"> $</span><span style=\"background-color:#DFFF00 \"> 50</span><span style=\"background-color:#DFFF00 \"> billion</span><span style=\"background-color:#DFFF00 \"> merger</span><span style=\"background-color:#DFFF00 \"> of</span><span style=\"background-color:#DFFF00 \"> the</span> Franco-German European Aeronautic Defence and Space Company ( EADS ) , owner of Airbus , and the United Kingdom 's BAE Systems is being seen as a crucial factor <span style=\"background-color:#9FE2BF \">in</span><span style=\"background-color:#9FE2BF \"> the</span><span style=\"background-color:#9FE2BF \"> deal</span><span style=\"background-color:#9FE2BF \"> 's</span><span style=\"background-color:#9FE2BF \"> collapse</span> ."
      ],
      "text/plain": [
       "<IPython.core.display.HTML object>"
      ]
     },
     "metadata": {},
     "output_type": "display_data"
    },
    {
     "data": {
      "text/html": [
       " O insucesso da Comissão Europeia na defesa <span style=\"background-color:#DFFF00 \">da</span><span style=\"background-color:#DFFF00 \"> fusão</span><span style=\"background-color:#DFFF00 \"> de</span><span style=\"background-color:#DFFF00 \"> 50</span><span style=\"background-color:#DFFF00 \"> mil</span><span style=\"background-color:#DFFF00 \"> milhões</span><span style=\"background-color:#DFFF00 \"> de</span><span style=\"background-color:#DFFF00 \"> dólares</span><span style=\"background-color:#DFFF00 \"> entre</span><span style=\"background-color:#DFFF00 \"> o</span> consórcio franco-alemão European Aeronautic Defence and Space Company ( EADS ) , proprietário da Airbus , e o britânico BAE Systems , é considerado como um factor crucial <span style=\"background-color:#9FE2BF \">no</span><span style=\"background-color:#9FE2BF \"> fracasso</span><span style=\"background-color:#9FE2BF \"> da</span><span style=\"background-color:#9FE2BF \"> transacção</span> ."
      ],
      "text/plain": [
       "<IPython.core.display.HTML object>"
      ]
     },
     "metadata": {},
     "output_type": "display_data"
    },
    {
     "name": "stdout",
     "output_type": "stream",
     "text": [
      "____________________________________227___________________________________________________\n",
      "\u001b[94m\u001b[1m🤓 OK\u001b[0m\n"
     ]
    },
    {
     "data": {
      "text/html": [
       " <span style=\"background-color:#e0e0e0 \">-15.639845</span> <span style=\"background-color:#DFFF00 \">14.701397</span>"
      ],
      "text/plain": [
       "<IPython.core.display.HTML object>"
      ]
     },
     "metadata": {},
     "output_type": "display_data"
    },
    {
     "data": {
      "text/html": [
       " America 's anxiety assumed that it is a contradiction for Turkey <span style=\"background-color:#DFFF00 \">to</span><span style=\"background-color:#DFFF00 \"> seek</span><span style=\"background-color:#DFFF00 \"> good</span><span style=\"background-color:#DFFF00 \"> relations</span><span style=\"background-color:#DFFF00 \"> with</span><span style=\"background-color:#DFFF00 \"> both</span><span style=\"background-color:#DFFF00 \"> the</span><span style=\"background-color:#DFFF00 \"> West</span><span style=\"background-color:#DFFF00 \"> and</span><span style=\"background-color:#DFFF00 \"> the</span><span style=\"background-color:#DFFF00 \"> Muslim</span><span style=\"background-color:#DFFF00 \"> Middle</span><span style=\"background-color:#DFFF00 \"> East</span> , and that Ankara 's decision to improve its relations with its Muslim neighbors was motivated primarily by religious and ideological concerns considered important by the ruling Justice and Development Party ( AKP ) ."
      ],
      "text/plain": [
       "<IPython.core.display.HTML object>"
      ]
     },
     "metadata": {},
     "output_type": "display_data"
    },
    {
     "data": {
      "text/html": [
       " A ansiedade dos Estados Unidos assumiu que é uma contradição , para a Turquia , <span style=\"background-color:#DFFF00 \">procurar</span><span style=\"background-color:#DFFF00 \"> boas</span><span style=\"background-color:#DFFF00 \"> relações</span><span style=\"background-color:#DFFF00 \"> com</span><span style=\"background-color:#DFFF00 \"> o</span><span style=\"background-color:#DFFF00 \"> Ocidente</span><span style=\"background-color:#DFFF00 \"> e</span><span style=\"background-color:#DFFF00 \"> com</span><span style=\"background-color:#DFFF00 \"> o</span><span style=\"background-color:#DFFF00 \"> Médio</span><span style=\"background-color:#DFFF00 \"> Oriente</span><span style=\"background-color:#DFFF00 \"> muçulmano</span> e que a decisão de Ancara para melhorar as suas relações com os vizinhos muçulmanos foi motivada , principalmente , por preocupações religiosas e ideológicas consideradas importantes pelo Partido da Justiça e do Desenvolvimento ( AKP ) , atualmente no poder ."
      ],
      "text/plain": [
       "<IPython.core.display.HTML object>"
      ]
     },
     "metadata": {},
     "output_type": "display_data"
    },
    {
     "name": "stdout",
     "output_type": "stream",
     "text": [
      "____________________________________232___________________________________________________\n",
      "\u001b[94m\u001b[1m🤓 OK\u001b[0m\n"
     ]
    },
    {
     "data": {
      "text/html": [
       " <span style=\"background-color:#e0e0e0 \">-10.046971</span> <span style=\"background-color:#DFFF00 \">8.804107</span> <span style=\"background-color:#9FE2BF \">10.060676</span>"
      ],
      "text/plain": [
       "<IPython.core.display.HTML object>"
      ]
     },
     "metadata": {},
     "output_type": "display_data"
    },
    {
     "data": {
      "text/html": [
       " For example , <span style=\"background-color:#DFFF00 \">because</span><span style=\"background-color:#DFFF00 \"> deforestation</span><span style=\"background-color:#DFFF00 \"> creates</span> favorable conditions for mosquitos by producing ditches and puddles , which are more likely to pool <span style=\"background-color:#9FE2BF \">less</span> acidic water that is conducive to mosquito larvae development , countries with elevated forest loss tend to have higher rates of malaria ."
      ],
      "text/plain": [
       "<IPython.core.display.HTML object>"
      ]
     },
     "metadata": {},
     "output_type": "display_data"
    },
    {
     "data": {
      "text/html": [
       " Por exemplo , uma <span style=\"background-color:#DFFF00 \">vez</span><span style=\"background-color:#DFFF00 \"> que</span><span style=\"background-color:#DFFF00 \"> a</span><span style=\"background-color:#DFFF00 \"> desflorestação</span><span style=\"background-color:#DFFF00 \"> cria</span> condições favoráveis para os mosquitos , ao produzir valas e poças de água , que são mais propensas a acumular águas <span style=\"background-color:#9FE2BF \">menos</span> ácidas que favorecem o desenvolvimento de larvas de mosquito , os países com elevadas perdas de florestas tendem a ter taxas mais elevadas de malária ."
      ],
      "text/plain": [
       "<IPython.core.display.HTML object>"
      ]
     },
     "metadata": {},
     "output_type": "display_data"
    },
    {
     "name": "stdout",
     "output_type": "stream",
     "text": [
      "____________________________________237___________________________________________________\n",
      "\u001b[94m\u001b[1m🤓 OK\u001b[0m\n"
     ]
    },
    {
     "data": {
      "text/html": [
       " <span style=\"background-color:#e0e0e0 \">-4.987765</span> <span style=\"background-color:#DFFF00 \">11.6096</span>"
      ],
      "text/plain": [
       "<IPython.core.display.HTML object>"
      ]
     },
     "metadata": {},
     "output_type": "display_data"
    },
    {
     "data": {
      "text/html": [
       " Moreover , science is humanity 's best hope for addressing such existential threats as climate change , <span style=\"background-color:#DFFF00 \">emerging</span><span style=\"background-color:#DFFF00 \"> pathogens</span><span style=\"background-color:#DFFF00 \"> ,</span><span style=\"background-color:#DFFF00 \"> extra-terrestrial</span><span style=\"background-color:#DFFF00 \"> bolides</span><span style=\"background-color:#DFFF00 \"> ,</span><span style=\"background-color:#DFFF00 \"> and</span><span style=\"background-color:#DFFF00 \"> a</span><span style=\"background-color:#DFFF00 \"> burgeoning</span><span style=\"background-color:#DFFF00 \"> population</span><span style=\"background-color:#DFFF00 \"> .</span>"
      ],
      "text/plain": [
       "<IPython.core.display.HTML object>"
      ]
     },
     "metadata": {},
     "output_type": "display_data"
    },
    {
     "data": {
      "text/html": [
       " Além disso , a ciência constitui a maior esperança da humanidade no sentido de enfrentar ameaças existenciais como as alterações climáticas , <span style=\"background-color:#DFFF00 \">os</span><span style=\"background-color:#DFFF00 \"> novos</span><span style=\"background-color:#DFFF00 \"> agentes</span><span style=\"background-color:#DFFF00 \"> patogénicos</span><span style=\"background-color:#DFFF00 \"> ,</span><span style=\"background-color:#DFFF00 \"> os</span><span style=\"background-color:#DFFF00 \"> bólides</span><span style=\"background-color:#DFFF00 \"> extraterrestres</span><span style=\"background-color:#DFFF00 \"> e</span><span style=\"background-color:#DFFF00 \"> o</span><span style=\"background-color:#DFFF00 \"> aumento</span><span style=\"background-color:#DFFF00 \"> demográfico</span><span style=\"background-color:#DFFF00 \"> .</span>"
      ],
      "text/plain": [
       "<IPython.core.display.HTML object>"
      ]
     },
     "metadata": {},
     "output_type": "display_data"
    },
    {
     "name": "stdout",
     "output_type": "stream",
     "text": [
      "____________________________________238___________________________________________________\n",
      "\u001b[94m\u001b[1m🤓 OK\u001b[0m\n"
     ]
    },
    {
     "data": {
      "text/html": [
       " <span style=\"background-color:#e0e0e0 \">-8.385797</span> <span style=\"background-color:#DFFF00 \">10.504165</span>"
      ],
      "text/plain": [
       "<IPython.core.display.HTML object>"
      ]
     },
     "metadata": {},
     "output_type": "display_data"
    },
    {
     "data": {
      "text/html": [
       " With adequate planning , it is possible to implement projects that improve lives in <span style=\"background-color:#DFFF00 \">even</span> the riskiest places ."
      ],
      "text/plain": [
       "<IPython.core.display.HTML object>"
      ]
     },
     "metadata": {},
     "output_type": "display_data"
    },
    {
     "data": {
      "text/html": [
       " Com o planeamento adequado , é possível implementar projectos que melhorem as condições de vida <span style=\"background-color:#DFFF00 \">até</span> nos locais mais arriscados ."
      ],
      "text/plain": [
       "<IPython.core.display.HTML object>"
      ]
     },
     "metadata": {},
     "output_type": "display_data"
    },
    {
     "name": "stdout",
     "output_type": "stream",
     "text": [
      "____________________________________240___________________________________________________\n",
      "\u001b[94m\u001b[1m🤓 OK\u001b[0m\n"
     ]
    },
    {
     "data": {
      "text/html": [
       " <span style=\"background-color:#e0e0e0 \">-7.771453</span> <span style=\"background-color:#DFFF00 \">14.140053</span>"
      ],
      "text/plain": [
       "<IPython.core.display.HTML object>"
      ]
     },
     "metadata": {},
     "output_type": "display_data"
    },
    {
     "data": {
      "text/html": [
       " Different products and categories enter the \" hot zone \" at different moments : those with low price points , such as snacks <span style=\"background-color:#DFFF00 \">and</span><span style=\"background-color:#DFFF00 \"> beverages</span><span style=\"background-color:#DFFF00 \"> ,</span><span style=\"background-color:#DFFF00 \"> typically</span><span style=\"background-color:#DFFF00 \"> take</span><span style=\"background-color:#DFFF00 \"> off</span><span style=\"background-color:#DFFF00 \"> relatively</span><span style=\"background-color:#DFFF00 \"> early</span> ; beauty products somewhat later ; and luxury goods , such as branded fashion , later still ."
      ],
      "text/plain": [
       "<IPython.core.display.HTML object>"
      ]
     },
     "metadata": {},
     "output_type": "display_data"
    },
    {
     "data": {
      "text/html": [
       " Diferentes produtos e categorias entram para a \" zona quente \" em diferentes momentos : os que têm preços baixos , como as refeições <span style=\"background-color:#DFFF00 \">leves</span><span style=\"background-color:#DFFF00 \"> e</span><span style=\"background-color:#DFFF00 \"> as</span><span style=\"background-color:#DFFF00 \"> bebidas</span><span style=\"background-color:#DFFF00 \"> ,</span><span style=\"background-color:#DFFF00 \"> normalmente</span><span style=\"background-color:#DFFF00 \"> têm</span><span style=\"background-color:#DFFF00 \"> um</span><span style=\"background-color:#DFFF00 \"> arranque</span><span style=\"background-color:#DFFF00 \"> relativamente</span><span style=\"background-color:#DFFF00 \"> antecipado</span> ; os produtos de beleza arrancam um pouco mais tarde e os bens de luxo , tal como a moda de marca , mais tarde ainda ."
      ],
      "text/plain": [
       "<IPython.core.display.HTML object>"
      ]
     },
     "metadata": {},
     "output_type": "display_data"
    },
    {
     "name": "stdout",
     "output_type": "stream",
     "text": [
      "____________________________________243___________________________________________________\n",
      "\u001b[94m\u001b[1m🤓 OK\u001b[0m\n"
     ]
    },
    {
     "data": {
      "text/html": [
       " <span style=\"background-color:#e0e0e0 \">-2.3129363</span> <span style=\"background-color:#DFFF00 \">13.83954</span>"
      ],
      "text/plain": [
       "<IPython.core.display.HTML object>"
      ]
     },
     "metadata": {},
     "output_type": "display_data"
    },
    {
     "data": {
      "text/html": [
       " The first letter that the NCD community should consider is \" A , \" for activism ."
      ],
      "text/plain": [
       "<IPython.core.display.HTML object>"
      ]
     },
     "metadata": {},
     "output_type": "display_data"
    },
    {
     "data": {
      "text/html": [
       " A primeira letra que a comunidade <span style=\"background-color:#DFFF00 \">contra</span><span style=\"background-color:#DFFF00 \"> as</span> DNT deve ter em consideração é o \" A \" , para activism ( ativismo ) ."
      ],
      "text/plain": [
       "<IPython.core.display.HTML object>"
      ]
     },
     "metadata": {},
     "output_type": "display_data"
    },
    {
     "name": "stdout",
     "output_type": "stream",
     "text": [
      "____________________________________244___________________________________________________\n",
      "\u001b[94m\u001b[1m🤓 OK\u001b[0m\n"
     ]
    },
    {
     "data": {
      "text/html": [
       " <span style=\"background-color:#e0e0e0 \">-14.743311</span> <span style=\"background-color:#DFFF00 \">11.69035</span>"
      ],
      "text/plain": [
       "<IPython.core.display.HTML object>"
      ]
     },
     "metadata": {},
     "output_type": "display_data"
    },
    {
     "data": {
      "text/html": [
       " When it comes to the GBIRd project , for example , one might ask whether the \" daughterless mouse \" could escape the specific ecosystem into which it has been introduced <span style=\"background-color:#DFFF00 \">,</span><span style=\"background-color:#DFFF00 \"> just</span><span style=\"background-color:#DFFF00 \"> as</span><span style=\"background-color:#DFFF00 \"> GMO</span><span style=\"background-color:#DFFF00 \"> crops</span><span style=\"background-color:#DFFF00 \"> and</span><span style=\"background-color:#DFFF00 \"> farmed</span><span style=\"background-color:#DFFF00 \"> salmon</span><span style=\"background-color:#DFFF00 \"> do</span> , and what would happen if it did ."
      ],
      "text/plain": [
       "<IPython.core.display.HTML object>"
      ]
     },
     "metadata": {},
     "output_type": "display_data"
    },
    {
     "data": {
      "text/html": [
       " Relativamente ao projecto GBIRd , por exemplo , pode-se perguntar se o \" rato incapaz de gerar crias fêmeas \" poderá escapar-se do ecossistema específico em que foi introduzido <span style=\"background-color:#DFFF00 \">,</span><span style=\"background-color:#DFFF00 \"> tal</span><span style=\"background-color:#DFFF00 \"> como</span><span style=\"background-color:#DFFF00 \"> acontece</span><span style=\"background-color:#DFFF00 \"> com</span><span style=\"background-color:#DFFF00 \"> as</span><span style=\"background-color:#DFFF00 \"> culturas</span><span style=\"background-color:#DFFF00 \"> de</span><span style=\"background-color:#DFFF00 \"> OGM</span><span style=\"background-color:#DFFF00 \"> e</span><span style=\"background-color:#DFFF00 \"> de</span><span style=\"background-color:#DFFF00 \"> salmão</span><span style=\"background-color:#DFFF00 \"> de</span><span style=\"background-color:#DFFF00 \"> viveiro</span> , e o que aconteceria se tal se verificasse ."
      ],
      "text/plain": [
       "<IPython.core.display.HTML object>"
      ]
     },
     "metadata": {},
     "output_type": "display_data"
    },
    {
     "name": "stdout",
     "output_type": "stream",
     "text": [
      "____________________________________250___________________________________________________\n",
      "\u001b[94m\u001b[1m🤓 OK\u001b[0m\n"
     ]
    },
    {
     "data": {
      "text/html": [
       " <span style=\"background-color:#e0e0e0 \">-15.361487</span> <span style=\"background-color:#DFFF00 \">-13.641261</span>"
      ],
      "text/plain": [
       "<IPython.core.display.HTML object>"
      ]
     },
     "metadata": {},
     "output_type": "display_data"
    },
    {
     "data": {
      "text/html": [
       " But <span style=\"background-color:#DFFF00 \">this</span><span style=\"background-color:#DFFF00 \"> ignores</span><span style=\"background-color:#DFFF00 \"> the</span> principle that no military intervention will ever be legitimate unless it satisfies , among other criteria , the test of diminishing , not augmenting , human suffering ."
      ],
      "text/plain": [
       "<IPython.core.display.HTML object>"
      ]
     },
     "metadata": {},
     "output_type": "display_data"
    },
    {
     "data": {
      "text/html": [
       " Mas <span style=\"background-color:#DFFF00 \">isto</span><span style=\"background-color:#DFFF00 \"> ignora</span><span style=\"background-color:#DFFF00 \"> o</span> princípio de que nenhuma intervenção militar jamais será legítima a menos que satisfaça , entre outros critérios , o teste de diminuir , e não aumentar , o sofrimento humano . E ir para a guerra contra qualquer uma das grandes potências , para proteger uma minoria que sofre , activará certamente uma conflagração muito mais vasta ."
      ],
      "text/plain": [
       "<IPython.core.display.HTML object>"
      ]
     },
     "metadata": {},
     "output_type": "display_data"
    },
    {
     "name": "stdout",
     "output_type": "stream",
     "text": [
      "____________________________________257___________________________________________________\n",
      "\u001b[94m\u001b[1m🤓 OK\u001b[0m\n"
     ]
    },
    {
     "data": {
      "text/html": [
       " <span style=\"background-color:#e0e0e0 \">-3.0646844</span> <span style=\"background-color:#DFFF00 \">13.719512</span>"
      ],
      "text/plain": [
       "<IPython.core.display.HTML object>"
      ]
     },
     "metadata": {},
     "output_type": "display_data"
    },
    {
     "data": {
      "text/html": [
       " The world 's largest fog collection and distribution system was built in 2015 in the mountains of Morocco - an area with low water availability but abundant fog <span style=\"background-color:#DFFF00 \">six</span><span style=\"background-color:#DFFF00 \"> months</span><span style=\"background-color:#DFFF00 \"> out</span><span style=\"background-color:#DFFF00 \"> of</span> the year ."
      ],
      "text/plain": [
       "<IPython.core.display.HTML object>"
      ]
     },
     "metadata": {},
     "output_type": "display_data"
    },
    {
     "data": {
      "text/html": [
       " O maior sistema de recolha e distribuição de nevoeiro do mundo foi construído em 2015 nas montanhas de Marrocos , uma região com fraca disponibilidade de água , mas com nevoeiro abundante <span style=\"background-color:#DFFF00 \">durante</span><span style=\"background-color:#DFFF00 \"> seis</span><span style=\"background-color:#DFFF00 \"> meses</span> por ano ."
      ],
      "text/plain": [
       "<IPython.core.display.HTML object>"
      ]
     },
     "metadata": {},
     "output_type": "display_data"
    },
    {
     "name": "stdout",
     "output_type": "stream",
     "text": [
      "____________________________________260___________________________________________________\n",
      "\u001b[94m\u001b[1m🤓 OK\u001b[0m\n"
     ]
    },
    {
     "data": {
      "text/html": [
       " <span style=\"background-color:#e0e0e0 \">-10.19009</span> <span style=\"background-color:#DFFF00 \">11.711986</span>"
      ],
      "text/plain": [
       "<IPython.core.display.HTML object>"
      ]
     },
     "metadata": {},
     "output_type": "display_data"
    },
    {
     "data": {
      "text/html": [
       " Although immunization programs require only a relatively small share of health budgets and <span style=\"background-color:#DFFF00 \">yield</span><span style=\"background-color:#DFFF00 \"> exceptionally</span><span style=\"background-color:#DFFF00 \"> high</span><span style=\"background-color:#DFFF00 \"> economic</span><span style=\"background-color:#DFFF00 \"> returns</span><span style=\"background-color:#DFFF00 \"> ,</span><span style=\"background-color:#DFFF00 \"> securing</span> the needed financing requires careful planning ."
      ],
      "text/plain": [
       "<IPython.core.display.HTML object>"
      ]
     },
     "metadata": {},
     "output_type": "display_data"
    },
    {
     "data": {
      "text/html": [
       " Embora os programas de imunização necessitem apenas uma parcela relativamente pequena dos orçamentos de saúde e <span style=\"background-color:#DFFF00 \">tenham</span><span style=\"background-color:#DFFF00 \"> rendimentos</span><span style=\"background-color:#DFFF00 \"> excepcionalmente</span><span style=\"background-color:#DFFF00 \"> elevados</span><span style=\"background-color:#DFFF00 \"> ,</span><span style=\"background-color:#DFFF00 \"> a</span><span style=\"background-color:#DFFF00 \"> obtenção</span> do financiamento necessário exige um planeamento cuidadoso ."
      ],
      "text/plain": [
       "<IPython.core.display.HTML object>"
      ]
     },
     "metadata": {},
     "output_type": "display_data"
    },
    {
     "name": "stdout",
     "output_type": "stream",
     "text": [
      "____________________________________262___________________________________________________\n",
      "\u001b[94m\u001b[1m🤓 OK\u001b[0m\n"
     ]
    },
    {
     "data": {
      "text/html": [
       " <span style=\"background-color:#e0e0e0 \">-7.585599</span> <span style=\"background-color:#DFFF00 \">2.7457702</span>"
      ],
      "text/plain": [
       "<IPython.core.display.HTML object>"
      ]
     },
     "metadata": {},
     "output_type": "display_data"
    },
    {
     "data": {
      "text/html": [
       " Indeed , instead of <span style=\"background-color:#DFFF00 \">facing</span><span style=\"background-color:#DFFF00 \"> the</span><span style=\"background-color:#DFFF00 \"> region</span><span style=\"background-color:#DFFF00 \"> 's</span><span style=\"background-color:#DFFF00 \"> changing</span><span style=\"background-color:#DFFF00 \"> realities</span><span style=\"background-color:#DFFF00 \"> with</span><span style=\"background-color:#DFFF00 \"> a</span><span style=\"background-color:#DFFF00 \"> new</span><span style=\"background-color:#DFFF00 \"> approach</span><span style=\"background-color:#DFFF00 \"> to</span><span style=\"background-color:#DFFF00 \"> peace</span><span style=\"background-color:#DFFF00 \"> in</span><span style=\"background-color:#DFFF00 \"> Palestine</span><span style=\"background-color:#DFFF00 \"> and</span><span style=\"background-color:#DFFF00 \"> beyond</span><span style=\"background-color:#DFFF00 \"> -</span><span style=\"background-color:#DFFF00 \"> endorsing</span><span style=\"background-color:#DFFF00 \"> the</span><span style=\"background-color:#DFFF00 \"> Arab</span><span style=\"background-color:#DFFF00 \"> peace</span><span style=\"background-color:#DFFF00 \"> initiative</span><span style=\"background-color:#DFFF00 \"> ,</span><span style=\"background-color:#DFFF00 \"> for</span><span style=\"background-color:#DFFF00 \"> example</span><span style=\"background-color:#DFFF00 \"> -</span><span style=\"background-color:#DFFF00 \"> the</span><span style=\"background-color:#DFFF00 \"> Israeli</span> left and center retreated either to worn-out slogans or to the safety of domestic agendas ."
      ],
      "text/plain": [
       "<IPython.core.display.HTML object>"
      ]
     },
     "metadata": {},
     "output_type": "display_data"
    },
    {
     "data": {
      "text/html": [
       " Na verdade , em vez de <span style=\"background-color:#DFFF00 \">enfrentarem</span><span style=\"background-color:#DFFF00 \"> a</span><span style=\"background-color:#DFFF00 \"> realidade</span><span style=\"background-color:#DFFF00 \"> das</span><span style=\"background-color:#DFFF00 \"> mudanças</span><span style=\"background-color:#DFFF00 \"> da</span><span style=\"background-color:#DFFF00 \"> região</span><span style=\"background-color:#DFFF00 \"> com</span><span style=\"background-color:#DFFF00 \"> uma</span><span style=\"background-color:#DFFF00 \"> nova</span><span style=\"background-color:#DFFF00 \"> abordagem</span><span style=\"background-color:#DFFF00 \"> para</span><span style=\"background-color:#DFFF00 \"> a</span><span style=\"background-color:#DFFF00 \"> paz</span><span style=\"background-color:#DFFF00 \"> na</span><span style=\"background-color:#DFFF00 \"> Palestina</span><span style=\"background-color:#DFFF00 \"> e</span><span style=\"background-color:#DFFF00 \"> além-fronteiras</span><span style=\"background-color:#DFFF00 \"> -</span><span style=\"background-color:#DFFF00 \"> os</span> centristas e os de esquerda refugiaram-se em slogans gastos ou na segurança das agendas nacionais ."
      ],
      "text/plain": [
       "<IPython.core.display.HTML object>"
      ]
     },
     "metadata": {},
     "output_type": "display_data"
    },
    {
     "name": "stdout",
     "output_type": "stream",
     "text": [
      "____________________________________268___________________________________________________\n",
      "\u001b[94m\u001b[1m🤓 OK\u001b[0m\n"
     ]
    },
    {
     "data": {
      "text/html": [
       " <span style=\"background-color:#e0e0e0 \">-8.978714</span> <span style=\"background-color:#DFFF00 \">-4.497646</span> <span style=\"background-color:#9FE2BF \">-2.154032</span>"
      ],
      "text/plain": [
       "<IPython.core.display.HTML object>"
      ]
     },
     "metadata": {},
     "output_type": "display_data"
    },
    {
     "data": {
      "text/html": [
       " In fact , large , traditional , or <span style=\"background-color:#DFFF00 \">legacy</span> media organizations still trump social media as trusted sources ."
      ],
      "text/plain": [
       "<IPython.core.display.HTML object>"
      ]
     },
     "metadata": {},
     "output_type": "display_data"
    },
    {
     "data": {
      "text/html": [
       " Na verdade , as grandes , tradicionais ou <span style=\"background-color:#DFFF00 \">antigas</span> organizações de comunicação social , ainda triunfam <span style=\"background-color:#9FE2BF \">sobre</span><span style=\"background-color:#9FE2BF \"> as</span><span style=\"background-color:#9FE2BF \"> redes</span> sociais como sendo fontes confiáveis ."
      ],
      "text/plain": [
       "<IPython.core.display.HTML object>"
      ]
     },
     "metadata": {},
     "output_type": "display_data"
    },
    {
     "name": "stdout",
     "output_type": "stream",
     "text": [
      "____________________________________278___________________________________________________\n",
      "\u001b[94m\u001b[1m🤓 OK\u001b[0m\n"
     ]
    },
    {
     "data": {
      "text/html": [
       " <span style=\"background-color:#e0e0e0 \">-6.3813863</span> <span style=\"background-color:#DFFF00 \">12.410283</span>"
      ],
      "text/plain": [
       "<IPython.core.display.HTML object>"
      ]
     },
     "metadata": {},
     "output_type": "display_data"
    },
    {
     "data": {
      "text/html": [
       " A messianic identity favors a certain type of leader - one who , like Putin , appears <span style=\"background-color:#DFFF00 \">to</span><span style=\"background-color:#DFFF00 \"> be</span><span style=\"background-color:#DFFF00 \"> animated</span><span style=\"background-color:#DFFF00 \"> by</span><span style=\"background-color:#DFFF00 \"> a</span> sense of mission ( in Putin 's case , it is the same mission proclaimed by the czars : Orthodoxy , autocracy , and nationality ) ."
      ],
      "text/plain": [
       "<IPython.core.display.HTML object>"
      ]
     },
     "metadata": {},
     "output_type": "display_data"
    },
    {
     "data": {
      "text/html": [
       " Uma identidade messiânica favorece um certo tipo de líder - o tipo de líder , como o Putin , que parece <span style=\"background-color:#DFFF00 \">ser</span><span style=\"background-color:#DFFF00 \"> movido</span><span style=\"background-color:#DFFF00 \"> por</span><span style=\"background-color:#DFFF00 \"> um</span> sentimento de missão ( no caso de Putin , é a mesma missão proclamada pelos czares : Ortodoxia , autocracia e nacionalidade ) ."
      ],
      "text/plain": [
       "<IPython.core.display.HTML object>"
      ]
     },
     "metadata": {},
     "output_type": "display_data"
    },
    {
     "name": "stdout",
     "output_type": "stream",
     "text": [
      "____________________________________283___________________________________________________\n",
      "\u001b[94m\u001b[1m🤓 OK\u001b[0m\n"
     ]
    },
    {
     "data": {
      "text/html": [
       " <span style=\"background-color:#e0e0e0 \">-15.108701</span> <span style=\"background-color:#DFFF00 \">-0.024504997</span> <span style=\"background-color:#9FE2BF \">6.851072</span>"
      ],
      "text/plain": [
       "<IPython.core.display.HTML object>"
      ]
     },
     "metadata": {},
     "output_type": "display_data"
    },
    {
     "data": {
      "text/html": [
       " But <span style=\"background-color:#DFFF00 \">for</span><span style=\"background-color:#DFFF00 \"> an</span><span style=\"background-color:#DFFF00 \"> analyst</span><span style=\"background-color:#DFFF00 \"> to</span><span style=\"background-color:#DFFF00 \"> blame</span><span style=\"background-color:#DFFF00 \"> the</span><span style=\"background-color:#DFFF00 \"> victim</span><span style=\"background-color:#DFFF00 \"> of</span><span style=\"background-color:#DFFF00 \"> such</span><span style=\"background-color:#DFFF00 \"> financial</span><span style=\"background-color:#DFFF00 \"> violence</span><span style=\"background-color:#DFFF00 \"> is</span><span style=\"background-color:#DFFF00 \"> not</span><span style=\"background-color:#DFFF00 \"> only</span><span style=\"background-color:#DFFF00 \"> morally</span><span style=\"background-color:#DFFF00 \"> reprehensible</span><span style=\"background-color:#DFFF00 \"> ,</span><span style=\"background-color:#DFFF00 \"> but</span> also constitutes terrible service to his clients ( who , for example , may be lulled into a false sense <span style=\"background-color:#9FE2BF \">that</span><span style=\"background-color:#9FE2BF \"> Greece</span><span style=\"background-color:#9FE2BF \"> is</span><span style=\"background-color:#9FE2BF \"> on</span><span style=\"background-color:#9FE2BF \"> the</span><span style=\"background-color:#9FE2BF \"> mend</span> now that Varoufakis has been forced out ) ."
      ],
      "text/plain": [
       "<IPython.core.display.HTML object>"
      ]
     },
     "metadata": {},
     "output_type": "display_data"
    },
    {
     "data": {
      "text/html": [
       " Mas , <span style=\"background-color:#DFFF00 \">o</span><span style=\"background-color:#DFFF00 \"> facto</span><span style=\"background-color:#DFFF00 \"> de</span><span style=\"background-color:#DFFF00 \"> um</span><span style=\"background-color:#DFFF00 \"> analista</span><span style=\"background-color:#DFFF00 \"> atribuir</span><span style=\"background-color:#DFFF00 \"> à</span><span style=\"background-color:#DFFF00 \"> vítima</span><span style=\"background-color:#DFFF00 \"> a</span><span style=\"background-color:#DFFF00 \"> responsabilidade</span><span style=\"background-color:#DFFF00 \"> por</span><span style=\"background-color:#DFFF00 \"> uma</span><span style=\"background-color:#DFFF00 \"> tal</span><span style=\"background-color:#DFFF00 \"> violência</span><span style=\"background-color:#DFFF00 \"> financeira</span><span style=\"background-color:#DFFF00 \"> é</span><span style=\"background-color:#DFFF00 \"> não</span><span style=\"background-color:#DFFF00 \"> só</span><span style=\"background-color:#DFFF00 \"> moralmente</span><span style=\"background-color:#DFFF00 \"> condenável</span><span style=\"background-color:#DFFF00 \"> ,</span><span style=\"background-color:#DFFF00 \"> mas</span> também constitui um péssimo serviço para os seus clientes ( que podem nomeadamente deixar-se levar pela falsa impressão <span style=\"background-color:#9FE2BF \">de</span><span style=\"background-color:#9FE2BF \"> que</span><span style=\"background-color:#9FE2BF \"> a</span><span style=\"background-color:#9FE2BF \"> Grécia</span><span style=\"background-color:#9FE2BF \"> está</span><span style=\"background-color:#9FE2BF \"> em</span><span style=\"background-color:#9FE2BF \"> processo</span><span style=\"background-color:#9FE2BF \"> de</span><span style=\"background-color:#9FE2BF \"> recuperação</span> , agora que Varoufakis foi forçado a sair ) ."
      ],
      "text/plain": [
       "<IPython.core.display.HTML object>"
      ]
     },
     "metadata": {},
     "output_type": "display_data"
    },
    {
     "name": "stdout",
     "output_type": "stream",
     "text": [
      "____________________________________287___________________________________________________\n",
      "\u001b[94m\u001b[1m🤓 OK\u001b[0m\n"
     ]
    },
    {
     "data": {
      "text/html": [
       " <span style=\"background-color:#e0e0e0 \">-3.85487</span> <span style=\"background-color:#DFFF00 \">8.1977415</span> <span style=\"background-color:#9FE2BF \">12.344758</span>"
      ],
      "text/plain": [
       "<IPython.core.display.HTML object>"
      ]
     },
     "metadata": {},
     "output_type": "display_data"
    },
    {
     "data": {
      "text/html": [
       " On the one hand , all organized religions teach peace and <span style=\"background-color:#9FE2BF \">love</span><span style=\"background-color:#9FE2BF \"> for</span> others , and they have often intervened successfully to <span style=\"background-color:#DFFF00 \">prevent</span><span style=\"background-color:#DFFF00 \"> or</span> mitigate conflict ."
      ],
      "text/plain": [
       "<IPython.core.display.HTML object>"
      ]
     },
     "metadata": {},
     "output_type": "display_data"
    },
    {
     "data": {
      "text/html": [
       " Por um lado , todas as religiões organizadas ensinam a paz e <span style=\"background-color:#9FE2BF \">o</span><span style=\"background-color:#9FE2BF \"> amor</span><span style=\"background-color:#9FE2BF \"> para</span><span style=\"background-color:#9FE2BF \"> com</span> os outros e intervêm muitas vezes com sucesso na <span style=\"background-color:#DFFF00 \">prevenção</span><span style=\"background-color:#DFFF00 \"> e</span><span style=\"background-color:#DFFF00 \"> na</span> atenuação de conflitos ."
      ],
      "text/plain": [
       "<IPython.core.display.HTML object>"
      ]
     },
     "metadata": {},
     "output_type": "display_data"
    },
    {
     "name": "stdout",
     "output_type": "stream",
     "text": [
      "____________________________________296___________________________________________________\n",
      "\u001b[94m\u001b[1m🤓 OK\u001b[0m\n"
     ]
    },
    {
     "data": {
      "text/html": [
       " <span style=\"background-color:#e0e0e0 \">-5.8152223</span> <span style=\"background-color:#DFFF00 \">14.4739</span>"
      ],
      "text/plain": [
       "<IPython.core.display.HTML object>"
      ]
     },
     "metadata": {},
     "output_type": "display_data"
    },
    {
     "data": {
      "text/html": [
       " Grand Ayatollah Hossein Ali Montazeri , one of Iran <span style=\"background-color:#DFFF00 \">'s</span><span style=\"background-color:#DFFF00 \"> most</span><span style=\"background-color:#DFFF00 \"> senior</span><span style=\"background-color:#DFFF00 \"> clerics</span> , would have been Supreme Leader himself had he not fallen out with Grand Ayatollah Ruhollah Khomeini , the Islamic Republic 's founder , a few months before Khomeini 's death ."
      ],
      "text/plain": [
       "<IPython.core.display.HTML object>"
      ]
     },
     "metadata": {},
     "output_type": "display_data"
    },
    {
     "data": {
      "text/html": [
       " O Grande Aiatola Hossein Ali Montazeri , um dos <span style=\"background-color:#DFFF00 \">mais</span><span style=\"background-color:#DFFF00 \"> destacados</span><span style=\"background-color:#DFFF00 \"> membros</span><span style=\"background-color:#DFFF00 \"> do</span><span style=\"background-color:#DFFF00 \"> clero</span> Iraniano , teria sido ele próprio Líder Supremo se não tivesse colidido com o Grande Aiatola Ruhollah Khomeini , o fundador da República Islâmica , alguns meses antes da morte de Khomeini ."
      ],
      "text/plain": [
       "<IPython.core.display.HTML object>"
      ]
     },
     "metadata": {},
     "output_type": "display_data"
    },
    {
     "name": "stdout",
     "output_type": "stream",
     "text": [
      "____________________________________300___________________________________________________\n",
      "\u001b[94m\u001b[1m🤓 OK\u001b[0m\n"
     ]
    },
    {
     "data": {
      "text/html": [
       " <span style=\"background-color:#e0e0e0 \">-10.426536</span>"
      ],
      "text/plain": [
       "<IPython.core.display.HTML object>"
      ]
     },
     "metadata": {},
     "output_type": "display_data"
    },
    {
     "data": {
      "text/html": [
       " <span style=\"background-color:#DFFF00 \">If</span><span style=\"background-color:#DFFF00 \"> this</span><span style=\"background-color:#DFFF00 \"> continues</span><span style=\"background-color:#DFFF00 \"> ,</span><span style=\"background-color:#DFFF00 \"> the</span><span style=\"background-color:#DFFF00 \"> consequences</span><span style=\"background-color:#DFFF00 \"> could</span><span style=\"background-color:#DFFF00 \"> be</span><span style=\"background-color:#DFFF00 \"> dire</span><span style=\"background-color:#DFFF00 \"> ,</span><span style=\"background-color:#DFFF00 \"> especially</span><span style=\"background-color:#DFFF00 \"> for</span><span style=\"background-color:#DFFF00 \"> water-stressed</span><span style=\"background-color:#DFFF00 \"> and</span><span style=\"background-color:#DFFF00 \"> fast-growing</span><span style=\"background-color:#DFFF00 \"> Asia</span><span style=\"background-color:#DFFF00 \"> .</span>"
      ],
      "text/plain": [
       "<IPython.core.display.HTML object>"
      ]
     },
     "metadata": {},
     "output_type": "display_data"
    },
    {
     "data": {
      "text/html": [
       " <span style=\"background-color:#DFFF00 \">Se</span><span style=\"background-color:#DFFF00 \"> isto</span><span style=\"background-color:#DFFF00 \"> continuar</span><span style=\"background-color:#DFFF00 \"> ,</span><span style=\"background-color:#DFFF00 \"> as</span><span style=\"background-color:#DFFF00 \"> consequências</span><span style=\"background-color:#DFFF00 \"> podem</span><span style=\"background-color:#DFFF00 \"> ser</span><span style=\"background-color:#DFFF00 \"> terríveis</span><span style=\"background-color:#DFFF00 \"> ,</span><span style=\"background-color:#DFFF00 \"> especialmente</span><span style=\"background-color:#DFFF00 \"> para</span><span style=\"background-color:#DFFF00 \"> a</span><span style=\"background-color:#DFFF00 \"> Ásia</span><span style=\"background-color:#DFFF00 \"> onde</span><span style=\"background-color:#DFFF00 \"> a</span><span style=\"background-color:#DFFF00 \"> água</span><span style=\"background-color:#DFFF00 \"> é</span><span style=\"background-color:#DFFF00 \"> escassa</span><span style=\"background-color:#DFFF00 \"> e</span><span style=\"background-color:#DFFF00 \"> o</span><span style=\"background-color:#DFFF00 \"> crescimento</span><span style=\"background-color:#DFFF00 \"> é</span><span style=\"background-color:#DFFF00 \"> rápido</span><span style=\"background-color:#DFFF00 \"> .</span>"
      ],
      "text/plain": [
       "<IPython.core.display.HTML object>"
      ]
     },
     "metadata": {},
     "output_type": "display_data"
    },
    {
     "name": "stdout",
     "output_type": "stream",
     "text": [
      "____________________________________301___________________________________________________\n",
      "\u001b[94m\u001b[1m🤓 OK\u001b[0m\n"
     ]
    },
    {
     "data": {
      "text/html": [
       " <span style=\"background-color:#e0e0e0 \">-5.351218</span> <span style=\"background-color:#DFFF00 \">0.012708388</span> <span style=\"background-color:#9FE2BF \">8.436821</span>"
      ],
      "text/plain": [
       "<IPython.core.display.HTML object>"
      ]
     },
     "metadata": {},
     "output_type": "display_data"
    },
    {
     "data": {
      "text/html": [
       " Skepticism about China 's development intentions <span style=\"background-color:#DFFF00 \">will</span><span style=\"background-color:#DFFF00 \"> no</span><span style=\"background-color:#DFFF00 \"> doubt</span><span style=\"background-color:#DFFF00 \"> emerge</span> <span style=\"background-color:#9FE2BF \">,</span><span style=\"background-color:#9FE2BF \"> given</span> China 's political and ideological differences with the West ."
      ],
      "text/plain": [
       "<IPython.core.display.HTML object>"
      ]
     },
     "metadata": {},
     "output_type": "display_data"
    },
    {
     "data": {
      "text/html": [
       " É <span style=\"background-color:#DFFF00 \">evidente</span><span style=\"background-color:#DFFF00 \"> que</span><span style=\"background-color:#DFFF00 \"> haverá</span> cepticismo quanto às intenções de desenvolvimento da China <span style=\"background-color:#9FE2BF \">,</span><span style=\"background-color:#9FE2BF \"> tendo</span><span style=\"background-color:#9FE2BF \"> em</span><span style=\"background-color:#9FE2BF \"> conta</span> as diferenças políticas e ideológicas entre a China e o Ocidente ."
      ],
      "text/plain": [
       "<IPython.core.display.HTML object>"
      ]
     },
     "metadata": {},
     "output_type": "display_data"
    },
    {
     "name": "stdout",
     "output_type": "stream",
     "text": [
      "____________________________________302___________________________________________________\n",
      "\u001b[94m\u001b[1m🤓 OK\u001b[0m\n"
     ]
    },
    {
     "data": {
      "text/html": [
       " <span style=\"background-color:#e0e0e0 \">-5.1007075</span> <span style=\"background-color:#DFFF00 \">11.309615</span>"
      ],
      "text/plain": [
       "<IPython.core.display.HTML object>"
      ]
     },
     "metadata": {},
     "output_type": "display_data"
    },
    {
     "data": {
      "text/html": [
       " Though he presumably hopes that his commentary will increase the likelihood that his preferred policies are adopted , the more likely real-world effect will be to diminish support for existing policies <span style=\"background-color:#DFFF00 \">without</span><span style=\"background-color:#DFFF00 \"> marshaling</span><span style=\"background-color:#DFFF00 \"> support</span><span style=\"background-color:#DFFF00 \"> for</span><span style=\"background-color:#DFFF00 \"> a</span><span style=\"background-color:#DFFF00 \"> coalition</span><span style=\"background-color:#DFFF00 \"> that</span><span style=\"background-color:#DFFF00 \"> can</span><span style=\"background-color:#DFFF00 \"> implement</span><span style=\"background-color:#DFFF00 \"> effective</span><span style=\"background-color:#DFFF00 \"> replacements</span><span style=\"background-color:#DFFF00 \"> .</span>"
      ],
      "text/plain": [
       "<IPython.core.display.HTML object>"
      ]
     },
     "metadata": {},
     "output_type": "display_data"
    },
    {
     "data": {
      "text/html": [
       " Embora presumivelmente espere que o seu comentário aumente a probabilidade de adopção das suas políticas preferidas , no mundo real o efeito mais provável será diminuir o apoio às políticas existentes , <span style=\"background-color:#DFFF00 \">sem</span><span style=\"background-color:#DFFF00 \"> reunir</span><span style=\"background-color:#DFFF00 \"> apoios</span><span style=\"background-color:#DFFF00 \"> para</span><span style=\"background-color:#DFFF00 \"> uma</span><span style=\"background-color:#DFFF00 \"> coligação</span><span style=\"background-color:#DFFF00 \"> que</span><span style=\"background-color:#DFFF00 \"> possa</span><span style=\"background-color:#DFFF00 \"> implementar</span><span style=\"background-color:#DFFF00 \"> substituições</span><span style=\"background-color:#DFFF00 \"> eficazes</span><span style=\"background-color:#DFFF00 \"> .</span>"
      ],
      "text/plain": [
       "<IPython.core.display.HTML object>"
      ]
     },
     "metadata": {},
     "output_type": "display_data"
    },
    {
     "name": "stdout",
     "output_type": "stream",
     "text": [
      "____________________________________304___________________________________________________\n",
      "\u001b[94m\u001b[1m🤓 OK\u001b[0m\n"
     ]
    },
    {
     "data": {
      "text/html": [
       " <span style=\"background-color:#e0e0e0 \">-5.8859806</span> <span style=\"background-color:#DFFF00 \">14.973959</span>"
      ],
      "text/plain": [
       "<IPython.core.display.HTML object>"
      ]
     },
     "metadata": {},
     "output_type": "display_data"
    },
    {
     "data": {
      "text/html": [
       " The paradox of water is that it sustains life but can also cause death when it becomes a carrier of deadly microbes or takes the form of a tsunami , flash <span style=\"background-color:#DFFF00 \">flood</span><span style=\"background-color:#DFFF00 \"> ,</span> storm , or hurricane ."
      ],
      "text/plain": [
       "<IPython.core.display.HTML object>"
      ]
     },
     "metadata": {},
     "output_type": "display_data"
    },
    {
     "data": {
      "text/html": [
       " O paradoxo da água é que esta sustenta a vida mas pode também causar morte quando se transforma num transportador de micróbios mortíferos ou quando toma a forma de um tsunami , de <span style=\"background-color:#DFFF00 \">uma</span><span style=\"background-color:#DFFF00 \"> inundação</span><span style=\"background-color:#DFFF00 \"> imprevista</span><span style=\"background-color:#DFFF00 \"> ,</span><span style=\"background-color:#DFFF00 \"> de</span><span style=\"background-color:#DFFF00 \"> uma</span> tempestade ou de um furacão ."
      ],
      "text/plain": [
       "<IPython.core.display.HTML object>"
      ]
     },
     "metadata": {},
     "output_type": "display_data"
    },
    {
     "name": "stdout",
     "output_type": "stream",
     "text": [
      "____________________________________309___________________________________________________\n",
      "\u001b[94m\u001b[1m🤓 OK\u001b[0m\n"
     ]
    },
    {
     "data": {
      "text/html": [
       " <span style=\"background-color:#e0e0e0 \">-10.966822</span> <span style=\"background-color:#DFFF00 \">-4.1087465</span> <span style=\"background-color:#9FE2BF \">6.5869575</span>"
      ],
      "text/plain": [
       "<IPython.core.display.HTML object>"
      ]
     },
     "metadata": {},
     "output_type": "display_data"
    },
    {
     "data": {
      "text/html": [
       " Scientists everywhere need help <span style=\"background-color:#DFFF00 \">navigating</span><span style=\"background-color:#DFFF00 \"> bureaucracy</span><span style=\"background-color:#DFFF00 \"> when</span><span style=\"background-color:#DFFF00 \"> turning</span><span style=\"background-color:#DFFF00 \"> an</span><span style=\"background-color:#DFFF00 \"> idea</span><span style=\"background-color:#DFFF00 \"> into</span><span style=\"background-color:#DFFF00 \"> a</span> commercial venture , and this process is particularly challenging in a region where R & D pipelines are in <span style=\"background-color:#9FE2BF \">their</span><span style=\"background-color:#9FE2BF \"> infancy</span> ."
      ],
      "text/plain": [
       "<IPython.core.display.HTML object>"
      ]
     },
     "metadata": {},
     "output_type": "display_data"
    },
    {
     "data": {
      "text/html": [
       " Em todo o lado , os cientistas necessitam de ajuda para <span style=\"background-color:#DFFF00 \">lidarem</span><span style=\"background-color:#DFFF00 \"> com</span><span style=\"background-color:#DFFF00 \"> a</span><span style=\"background-color:#DFFF00 \"> burocracia</span><span style=\"background-color:#DFFF00 \"> quando</span><span style=\"background-color:#DFFF00 \"> querem</span><span style=\"background-color:#DFFF00 \"> transformar</span><span style=\"background-color:#DFFF00 \"> uma</span><span style=\"background-color:#DFFF00 \"> ideia</span><span style=\"background-color:#DFFF00 \"> num</span> projeto comercial e este processo é particularmente desafiante numa região onde os canais da I & D estão na <span style=\"background-color:#9FE2BF \">fase</span><span style=\"background-color:#9FE2BF \"> inicial</span> ."
      ],
      "text/plain": [
       "<IPython.core.display.HTML object>"
      ]
     },
     "metadata": {},
     "output_type": "display_data"
    },
    {
     "name": "stdout",
     "output_type": "stream",
     "text": [
      "____________________________________310___________________________________________________\n",
      "\u001b[94m\u001b[1m🤓 OK\u001b[0m\n"
     ]
    },
    {
     "data": {
      "text/html": [
       " <span style=\"background-color:#e0e0e0 \">-10.945197</span> <span style=\"background-color:#DFFF00 \">12.544965</span>"
      ],
      "text/plain": [
       "<IPython.core.display.HTML object>"
      ]
     },
     "metadata": {},
     "output_type": "display_data"
    },
    {
     "data": {
      "text/html": [
       " Nancy Birdsall , the president of the Center for Global Development , cites the example of a Ghanaian citizen providing testimony to the US Congress in the hope of convincing American officials to pressure the World Bank to <span style=\"background-color:#DFFF00 \">change</span><span style=\"background-color:#DFFF00 \"> its</span><span style=\"background-color:#DFFF00 \"> position</span><span style=\"background-color:#DFFF00 \"> on</span><span style=\"background-color:#DFFF00 \"> user</span><span style=\"background-color:#DFFF00 \"> fees</span> in Africa ."
      ],
      "text/plain": [
       "<IPython.core.display.HTML object>"
      ]
     },
     "metadata": {},
     "output_type": "display_data"
    },
    {
     "data": {
      "text/html": [
       " Nancy Birdsall , presidente do Centro para o Desenvolvimento Global , cita o exemplo de um cidadão ganês que testemunhou perante o Congresso dos EUA , na esperança de convencer as autoridades americanas a pressionar o Banco Mundial no <span style=\"background-color:#DFFF00 \">sentido</span><span style=\"background-color:#DFFF00 \"> de</span><span style=\"background-color:#DFFF00 \"> alterar</span><span style=\"background-color:#DFFF00 \"> a</span><span style=\"background-color:#DFFF00 \"> sua</span><span style=\"background-color:#DFFF00 \"> posição</span><span style=\"background-color:#DFFF00 \"> relativamente</span><span style=\"background-color:#DFFF00 \"> às</span><span style=\"background-color:#DFFF00 \"> taxas</span><span style=\"background-color:#DFFF00 \"> de</span><span style=\"background-color:#DFFF00 \"> utilização</span> em África ."
      ],
      "text/plain": [
       "<IPython.core.display.HTML object>"
      ]
     },
     "metadata": {},
     "output_type": "display_data"
    },
    {
     "name": "stdout",
     "output_type": "stream",
     "text": [
      "____________________________________313___________________________________________________\n",
      "\u001b[94m\u001b[1m🤓 OK\u001b[0m\n"
     ]
    },
    {
     "data": {
      "text/html": [
       " <span style=\"background-color:#e0e0e0 \">-10.996161</span> <span style=\"background-color:#DFFF00 \">11.300065</span>"
      ],
      "text/plain": [
       "<IPython.core.display.HTML object>"
      ]
     },
     "metadata": {},
     "output_type": "display_data"
    },
    {
     "data": {
      "text/html": [
       " And the reasons for her husband 's political disgrace remain murky <span style=\"background-color:#DFFF00 \">,</span><span style=\"background-color:#DFFF00 \"> to</span><span style=\"background-color:#DFFF00 \"> say</span><span style=\"background-color:#DFFF00 \"> the</span><span style=\"background-color:#DFFF00 \"> least</span> ."
      ],
      "text/plain": [
       "<IPython.core.display.HTML object>"
      ]
     },
     "metadata": {},
     "output_type": "display_data"
    },
    {
     "data": {
      "text/html": [
       " E as razões para a desgraça política do seu marido permanecem <span style=\"background-color:#DFFF00 \">,</span><span style=\"background-color:#DFFF00 \"> no</span><span style=\"background-color:#DFFF00 \"> mínimo</span><span style=\"background-color:#DFFF00 \"> ,</span> turvas ."
      ],
      "text/plain": [
       "<IPython.core.display.HTML object>"
      ]
     },
     "metadata": {},
     "output_type": "display_data"
    },
    {
     "name": "stdout",
     "output_type": "stream",
     "text": [
      "____________________________________315___________________________________________________\n",
      "\u001b[94m\u001b[1m🤓 OK\u001b[0m\n"
     ]
    },
    {
     "data": {
      "text/html": [
       " <span style=\"background-color:#e0e0e0 \">-6.178102</span> <span style=\"background-color:#DFFF00 \">14.770958</span>"
      ],
      "text/plain": [
       "<IPython.core.display.HTML object>"
      ]
     },
     "metadata": {},
     "output_type": "display_data"
    },
    {
     "data": {
      "text/html": [
       " Rightly or wrongly , Russia and China believe that <span style=\"background-color:#DFFF00 \">the</span><span style=\"background-color:#DFFF00 \"> time</span><span style=\"background-color:#DFFF00 \"> has</span><span style=\"background-color:#DFFF00 \"> come</span><span style=\"background-color:#DFFF00 \"> to</span><span style=\"background-color:#DFFF00 \"> take</span><span style=\"background-color:#DFFF00 \"> their</span><span style=\"background-color:#DFFF00 \"> revenge</span><span style=\"background-color:#DFFF00 \"> over</span><span style=\"background-color:#DFFF00 \"> an</span><span style=\"background-color:#DFFF00 \"> arrogant</span><span style=\"background-color:#DFFF00 \"> West</span><span style=\"background-color:#DFFF00 \"> that</span><span style=\"background-color:#DFFF00 \"> deceived</span><span style=\"background-color:#DFFF00 \"> them</span><span style=\"background-color:#DFFF00 \"> about</span> the true purpose of \" humanitarian intervention \" in Libya ."
      ],
      "text/plain": [
       "<IPython.core.display.HTML object>"
      ]
     },
     "metadata": {},
     "output_type": "display_data"
    },
    {
     "data": {
      "text/html": [
       " Com ou sem razão , a Rússia e a China acreditam que <span style=\"background-color:#DFFF00 \">chegou</span><span style=\"background-color:#DFFF00 \"> o</span><span style=\"background-color:#DFFF00 \"> momento</span><span style=\"background-color:#DFFF00 \"> de</span><span style=\"background-color:#DFFF00 \"> se</span><span style=\"background-color:#DFFF00 \"> vingarem</span><span style=\"background-color:#DFFF00 \"> de</span><span style=\"background-color:#DFFF00 \"> um</span><span style=\"background-color:#DFFF00 \"> Ocidente</span><span style=\"background-color:#DFFF00 \"> arrogante</span><span style=\"background-color:#DFFF00 \"> que</span><span style=\"background-color:#DFFF00 \"> enganou</span><span style=\"background-color:#DFFF00 \"> estes</span><span style=\"background-color:#DFFF00 \"> dois</span><span style=\"background-color:#DFFF00 \"> países</span><span style=\"background-color:#DFFF00 \"> a</span><span style=\"background-color:#DFFF00 \"> respeito</span> do verdadeiro propósito da \" intervenção humanitária \" na Líbia ."
      ],
      "text/plain": [
       "<IPython.core.display.HTML object>"
      ]
     },
     "metadata": {},
     "output_type": "display_data"
    },
    {
     "name": "stdout",
     "output_type": "stream",
     "text": [
      "____________________________________326___________________________________________________\n",
      "\u001b[94m\u001b[1m🤓 OK\u001b[0m\n"
     ]
    },
    {
     "data": {
      "text/html": [
       " <span style=\"background-color:#e0e0e0 \">-15.547231</span> <span style=\"background-color:#DFFF00 \">13.725815</span>"
      ],
      "text/plain": [
       "<IPython.core.display.HTML object>"
      ]
     },
     "metadata": {},
     "output_type": "display_data"
    },
    {
     "data": {
      "text/html": [
       " Today , central banks are under attack for all of these reasons : for missing their inflation targets , for failing to maintain financial stability , for failing to restore stability in transparent ways , and for not <span style=\"background-color:#DFFF00 \">adequately</span><span style=\"background-color:#DFFF00 \"> taking</span> into account the global repercussions of their policies ."
      ],
      "text/plain": [
       "<IPython.core.display.HTML object>"
      ]
     },
     "metadata": {},
     "output_type": "display_data"
    },
    {
     "data": {
      "text/html": [
       " Hoje os bancos centrais estão sob ataque devido a todas estas razões : por falharem as suas metas de inflação , por não conseguirem manter a estabilidade financeira , por não serem capazes de restabelecer a estabilidade de forma transparente , e por não <span style=\"background-color:#DFFF00 \">considerarem</span><span style=\"background-color:#DFFF00 \"> ,</span><span style=\"background-color:#DFFF00 \"> de</span><span style=\"background-color:#DFFF00 \"> forma</span><span style=\"background-color:#DFFF00 \"> adequada</span><span style=\"background-color:#DFFF00 \"> ,</span> as repercussões globais das suas políticas ."
      ],
      "text/plain": [
       "<IPython.core.display.HTML object>"
      ]
     },
     "metadata": {},
     "output_type": "display_data"
    },
    {
     "name": "stdout",
     "output_type": "stream",
     "text": [
      "____________________________________333___________________________________________________\n",
      "\u001b[94m\u001b[1m🤓 OK\u001b[0m\n"
     ]
    },
    {
     "data": {
      "text/html": [
       " <span style=\"background-color:#e0e0e0 \">-12.827122</span> <span style=\"background-color:#DFFF00 \">8.343903</span> <span style=\"background-color:#9FE2BF \">15.189788</span>"
      ],
      "text/plain": [
       "<IPython.core.display.HTML object>"
      ]
     },
     "metadata": {},
     "output_type": "display_data"
    },
    {
     "data": {
      "text/html": [
       " The division of the Korean Peninsula , the India-Pakistan conflict over Kashmir , and the question of Taiwan ( which by 2020 the US will no longer be able to defend from a Chinese attack , according to a 2009 study <span style=\"background-color:#9FE2BF \">by</span><span style=\"background-color:#9FE2BF \"> the</span> RAND Corporation <span style=\"background-color:#DFFF00 \">)</span><span style=\"background-color:#DFFF00 \"> appear</span><span style=\"background-color:#DFFF00 \"> as</span><span style=\"background-color:#DFFF00 \"> intractable</span><span style=\"background-color:#DFFF00 \"> as</span><span style=\"background-color:#DFFF00 \"> the</span><span style=\"background-color:#DFFF00 \"> Israeli-Palestinian</span><span style=\"background-color:#DFFF00 \"> dispute</span><span style=\"background-color:#DFFF00 \"> .</span>"
      ],
      "text/plain": [
       "<IPython.core.display.HTML object>"
      ]
     },
     "metadata": {},
     "output_type": "display_data"
    },
    {
     "data": {
      "text/html": [
       " A divisão da Península Coreana , o conflito entre a Índia e o Paquistão em torno de Caxemira e a questão de Taiwan ( que , em 2020 , de acordo com um estudo realizado em 2009 <span style=\"background-color:#9FE2BF \">pela</span><span style=\"background-color:#9FE2BF \"> organização</span> RAND Corporation , os EUA já não serão capazes de defender de um ataque chinês , <span style=\"background-color:#DFFF00 \">)</span><span style=\"background-color:#DFFF00 \"> parecem</span><span style=\"background-color:#DFFF00 \"> ser</span><span style=\"background-color:#DFFF00 \"> tão</span><span style=\"background-color:#DFFF00 \"> difíceis</span><span style=\"background-color:#DFFF00 \"> de</span><span style=\"background-color:#DFFF00 \"> resolver</span><span style=\"background-color:#DFFF00 \"> quanto</span><span style=\"background-color:#DFFF00 \"> o</span><span style=\"background-color:#DFFF00 \"> conflito</span><span style=\"background-color:#DFFF00 \"> israelo-palestiniano</span><span style=\"background-color:#DFFF00 \"> .</span>"
      ],
      "text/plain": [
       "<IPython.core.display.HTML object>"
      ]
     },
     "metadata": {},
     "output_type": "display_data"
    },
    {
     "name": "stdout",
     "output_type": "stream",
     "text": [
      "____________________________________336___________________________________________________\n",
      "\u001b[94m\u001b[1m🤓 OK\u001b[0m\n"
     ]
    },
    {
     "data": {
      "text/html": [
       " <span style=\"background-color:#e0e0e0 \">-7.672616</span> <span style=\"background-color:#DFFF00 \">11.575364</span>"
      ],
      "text/plain": [
       "<IPython.core.display.HTML object>"
      ]
     },
     "metadata": {},
     "output_type": "display_data"
    },
    {
     "data": {
      "text/html": [
       " When economic inequality translates into political inequality - as it has in large parts of the US - governments <span style=\"background-color:#DFFF00 \">pay</span><span style=\"background-color:#DFFF00 \"> little</span><span style=\"background-color:#DFFF00 \"> attention</span><span style=\"background-color:#DFFF00 \"> to</span><span style=\"background-color:#DFFF00 \"> the</span><span style=\"background-color:#DFFF00 \"> needs</span><span style=\"background-color:#DFFF00 \"> of</span><span style=\"background-color:#DFFF00 \"> those</span><span style=\"background-color:#DFFF00 \"> at</span><span style=\"background-color:#DFFF00 \"> the</span><span style=\"background-color:#DFFF00 \"> bottom</span> ."
      ],
      "text/plain": [
       "<IPython.core.display.HTML object>"
      ]
     },
     "metadata": {},
     "output_type": "display_data"
    },
    {
     "data": {
      "text/html": [
       " Quando a desigualdade económica se traduz em desigualdade política - tal como tem acontecido em grandes partes dos EUA - os governos <span style=\"background-color:#DFFF00 \">prestam</span><span style=\"background-color:#DFFF00 \"> pouca</span><span style=\"background-color:#DFFF00 \"> atenção</span><span style=\"background-color:#DFFF00 \"> às</span><span style=\"background-color:#DFFF00 \"> necessidades</span><span style=\"background-color:#DFFF00 \"> dos</span><span style=\"background-color:#DFFF00 \"> mais</span><span style=\"background-color:#DFFF00 \"> desprotegidos</span> ."
      ],
      "text/plain": [
       "<IPython.core.display.HTML object>"
      ]
     },
     "metadata": {},
     "output_type": "display_data"
    },
    {
     "name": "stdout",
     "output_type": "stream",
     "text": [
      "____________________________________343___________________________________________________\n",
      "\u001b[94m\u001b[1m🤓 OK\u001b[0m\n"
     ]
    },
    {
     "data": {
      "text/html": [
       " <span style=\"background-color:#e0e0e0 \">-10.335006</span> <span style=\"background-color:#DFFF00 \">12.336187</span>"
      ],
      "text/plain": [
       "<IPython.core.display.HTML object>"
      ]
     },
     "metadata": {},
     "output_type": "display_data"
    },
    {
     "data": {
      "text/html": [
       " Many northern states , such as Bihar , have lagged in providing kitchens , storage facilities , and utensils ."
      ],
      "text/plain": [
       "<IPython.core.display.HTML object>"
      ]
     },
     "metadata": {},
     "output_type": "display_data"
    },
    {
     "data": {
      "text/html": [
       " Muitos estados do norte , como o Bihar , ficaram <span style=\"background-color:#DFFF00 \">não</span><span style=\"background-color:#DFFF00 \"> são</span><span style=\"background-color:#DFFF00 \"> muito</span><span style=\"background-color:#DFFF00 \"> eficazes</span> em matéria de fornecimento de cozinhas , instalações para armazenamento e utensílios ."
      ],
      "text/plain": [
       "<IPython.core.display.HTML object>"
      ]
     },
     "metadata": {},
     "output_type": "display_data"
    },
    {
     "name": "stdout",
     "output_type": "stream",
     "text": [
      "____________________________________344___________________________________________________\n",
      "\u001b[94m\u001b[1m🤓 OK\u001b[0m\n"
     ]
    },
    {
     "data": {
      "text/html": [
       " <span style=\"background-color:#e0e0e0 \">-12.53448</span> <span style=\"background-color:#DFFF00 \">14.139344</span>"
      ],
      "text/plain": [
       "<IPython.core.display.HTML object>"
      ]
     },
     "metadata": {},
     "output_type": "display_data"
    },
    {
     "data": {
      "text/html": [
       " A country whose weight in Middle East politics has stemmed more from its role as an engine of the Arab-Israeli conflict than from its objective military or economic power <span style=\"background-color:#DFFF00 \">,</span><span style=\"background-color:#DFFF00 \"> Syria</span><span style=\"background-color:#DFFF00 \"> under</span><span style=\"background-color:#DFFF00 \"> the</span><span style=\"background-color:#DFFF00 \"> Assads</span><span style=\"background-color:#DFFF00 \"> always</span> feared that abandoning ideological confrontation with the Zionist enemy would undermine the regime ."
      ],
      "text/plain": [
       "<IPython.core.display.HTML object>"
      ]
     },
     "metadata": {},
     "output_type": "display_data"
    },
    {
     "data": {
      "text/html": [
       " Um país cujo peso na política do Médio Oriente resulta mais do seu papel como motor do conflito israelo-árabe do que do seu objectivo militar ou poder económico <span style=\"background-color:#DFFF00 \">,</span><span style=\"background-color:#DFFF00 \"> a</span><span style=\"background-color:#DFFF00 \"> Síria</span><span style=\"background-color:#DFFF00 \"> sob</span><span style=\"background-color:#DFFF00 \"> o</span><span style=\"background-color:#DFFF00 \"> domínio</span><span style=\"background-color:#DFFF00 \"> dos</span><span style=\"background-color:#DFFF00 \"> Assad</span><span style=\"background-color:#DFFF00 \"> sempre</span> receou abandonar o confronto ideológico com o inimigo sionista , por recear que isso prejudicasse o regime ."
      ],
      "text/plain": [
       "<IPython.core.display.HTML object>"
      ]
     },
     "metadata": {},
     "output_type": "display_data"
    },
    {
     "name": "stdout",
     "output_type": "stream",
     "text": [
      "____________________________________347___________________________________________________\n",
      "\u001b[94m\u001b[1m🤓 OK\u001b[0m\n"
     ]
    },
    {
     "data": {
      "text/html": [
       " <span style=\"background-color:#e0e0e0 \">-13.336125</span> <span style=\"background-color:#DFFF00 \">14.543496</span>"
      ],
      "text/plain": [
       "<IPython.core.display.HTML object>"
      ]
     },
     "metadata": {},
     "output_type": "display_data"
    },
    {
     "data": {
      "text/html": [
       " She had been feeling sick for about two months , and when she went to a health clinic , she described symptoms such as weight loss , fatigue , shortness of breath , fever <span style=\"background-color:#DFFF00 \">,</span><span style=\"background-color:#DFFF00 \"> night</span><span style=\"background-color:#DFFF00 \"> sweats</span><span style=\"background-color:#DFFF00 \"> ,</span><span style=\"background-color:#DFFF00 \"> chills</span><span style=\"background-color:#DFFF00 \"> ,</span><span style=\"background-color:#DFFF00 \"> loss</span><span style=\"background-color:#DFFF00 \"> of</span><span style=\"background-color:#DFFF00 \"> appetite</span><span style=\"background-color:#DFFF00 \"> ,</span><span style=\"background-color:#DFFF00 \"> and</span><span style=\"background-color:#DFFF00 \"> pain</span><span style=\"background-color:#DFFF00 \"> when</span><span style=\"background-color:#DFFF00 \"> breathing</span> and coughing ."
      ],
      "text/plain": [
       "<IPython.core.display.HTML object>"
      ]
     },
     "metadata": {},
     "output_type": "display_data"
    },
    {
     "data": {
      "text/html": [
       " Começou a sentir-se doente cerca de dois meses antes e , quando se dirigiu a uma clínica de saúde , descreveu sintomas como perda de peso , cansaço , dificuldade em respirar , febre <span style=\"background-color:#DFFF00 \">,</span><span style=\"background-color:#DFFF00 \"> suores</span><span style=\"background-color:#DFFF00 \"> noturnos</span><span style=\"background-color:#DFFF00 \"> ,</span><span style=\"background-color:#DFFF00 \"> calafrios</span><span style=\"background-color:#DFFF00 \"> ,</span><span style=\"background-color:#DFFF00 \"> perda</span><span style=\"background-color:#DFFF00 \"> de</span><span style=\"background-color:#DFFF00 \"> apetite</span><span style=\"background-color:#DFFF00 \"> ,</span><span style=\"background-color:#DFFF00 \"> e</span><span style=\"background-color:#DFFF00 \"> dor</span><span style=\"background-color:#DFFF00 \"> ao</span><span style=\"background-color:#DFFF00 \"> respirar</span> e ao tossir ."
      ],
      "text/plain": [
       "<IPython.core.display.HTML object>"
      ]
     },
     "metadata": {},
     "output_type": "display_data"
    },
    {
     "name": "stdout",
     "output_type": "stream",
     "text": [
      "____________________________________349___________________________________________________\n",
      "\u001b[94m\u001b[1m🤓 OK\u001b[0m\n"
     ]
    },
    {
     "data": {
      "text/html": [
       " <span style=\"background-color:#e0e0e0 \">-0.7384038</span> <span style=\"background-color:#DFFF00 \">12.812212</span>"
      ],
      "text/plain": [
       "<IPython.core.display.HTML object>"
      ]
     },
     "metadata": {},
     "output_type": "display_data"
    },
    {
     "data": {
      "text/html": [
       " But as <span style=\"background-color:#DFFF00 \">Nobel</span><span style=\"background-color:#DFFF00 \"> laureate</span><span style=\"background-color:#DFFF00 \"> economist</span><span style=\"background-color:#DFFF00 \"> Joseph</span><span style=\"background-color:#DFFF00 \"> E.</span><span style=\"background-color:#DFFF00 \"> Stiglitz</span><span style=\"background-color:#DFFF00 \"> has</span><span style=\"background-color:#DFFF00 \"> warned</span><span style=\"background-color:#DFFF00 \"> ,</span> Africa cannot replicate East Asia 's manufacturing-led model , so the question is whether it can leverage modern services to achieve economic development ."
      ],
      "text/plain": [
       "<IPython.core.display.HTML object>"
      ]
     },
     "metadata": {},
     "output_type": "display_data"
    },
    {
     "data": {
      "text/html": [
       " Mas , como <span style=\"background-color:#DFFF00 \">advertiu</span><span style=\"background-color:#DFFF00 \"> o</span><span style=\"background-color:#DFFF00 \"> economista</span><span style=\"background-color:#DFFF00 \"> Joseph</span><span style=\"background-color:#DFFF00 \"> E.</span><span style=\"background-color:#DFFF00 \"> Stiglitz</span><span style=\"background-color:#DFFF00 \"> ,</span> África não conseguirá replicar o modelo representado pela industrialização do Leste Asiático , e por isso a questão é se conseguirá aproveitar os serviços modernos para atingir o desenvolvimento económico ."
      ],
      "text/plain": [
       "<IPython.core.display.HTML object>"
      ]
     },
     "metadata": {},
     "output_type": "display_data"
    },
    {
     "name": "stdout",
     "output_type": "stream",
     "text": [
      "____________________________________355___________________________________________________\n",
      "\u001b[94m\u001b[1m🤓 OK\u001b[0m\n"
     ]
    },
    {
     "data": {
      "text/html": [
       " <span style=\"background-color:#e0e0e0 \">-14.339472</span> <span style=\"background-color:#DFFF00 \">8.582669</span> <span style=\"background-color:#9FE2BF \">12.745257</span>"
      ],
      "text/plain": [
       "<IPython.core.display.HTML object>"
      ]
     },
     "metadata": {},
     "output_type": "display_data"
    },
    {
     "data": {
      "text/html": [
       " <span style=\"background-color:#9FE2BF \">Households</span><span style=\"background-color:#9FE2BF \"> have</span><span style=\"background-color:#9FE2BF \"> cut</span><span style=\"background-color:#9FE2BF \"> their</span><span style=\"background-color:#9FE2BF \"> debt</span> and rebuilt their balance sheets , but the large loss in household wealth , weak growth in wages and income , the concentration of most income gains at the top , and <span style=\"background-color:#DFFF00 \">a</span><span style=\"background-color:#DFFF00 \"> decline</span><span style=\"background-color:#DFFF00 \"> in</span><span style=\"background-color:#DFFF00 \"> labor</span><span style=\"background-color:#DFFF00 \"> 's</span><span style=\"background-color:#DFFF00 \"> share</span><span style=\"background-color:#DFFF00 \"> of</span><span style=\"background-color:#DFFF00 \"> national</span><span style=\"background-color:#DFFF00 \"> income</span><span style=\"background-color:#DFFF00 \"> to</span><span style=\"background-color:#DFFF00 \"> record</span><span style=\"background-color:#DFFF00 \"> lows</span><span style=\"background-color:#DFFF00 \"> continue</span><span style=\"background-color:#DFFF00 \"> to</span><span style=\"background-color:#DFFF00 \"> constrain</span> consumption ."
      ],
      "text/plain": [
       "<IPython.core.display.HTML object>"
      ]
     },
     "metadata": {},
     "output_type": "display_data"
    },
    {
     "data": {
      "text/html": [
       " <span style=\"background-color:#9FE2BF \">As</span><span style=\"background-color:#9FE2BF \"> famílias</span><span style=\"background-color:#9FE2BF \"> reduziram</span><span style=\"background-color:#9FE2BF \"> o</span><span style=\"background-color:#9FE2BF \"> seu</span><span style=\"background-color:#9FE2BF \"> nível</span><span style=\"background-color:#9FE2BF \"> de</span> endividamento e reconstruiram os seus orçamentos , mas a grande perda na riqueza das famílias , o fraco crescimento dos salários e do rendimento , a concentração da maior parte dos ganhos de rendimento no topo , e <span style=\"background-color:#DFFF00 \">um</span><span style=\"background-color:#DFFF00 \"> declínio</span><span style=\"background-color:#DFFF00 \"> para</span><span style=\"background-color:#DFFF00 \"> níveis</span><span style=\"background-color:#DFFF00 \"> historicamente</span><span style=\"background-color:#DFFF00 \"> baixos</span><span style=\"background-color:#DFFF00 \"> da</span><span style=\"background-color:#DFFF00 \"> parte</span><span style=\"background-color:#DFFF00 \"> do</span><span style=\"background-color:#DFFF00 \"> trabalho</span><span style=\"background-color:#DFFF00 \"> no</span><span style=\"background-color:#DFFF00 \"> rendimento</span><span style=\"background-color:#DFFF00 \"> nacional</span><span style=\"background-color:#DFFF00 \"> continuam</span><span style=\"background-color:#DFFF00 \"> a</span><span style=\"background-color:#DFFF00 \"> limitar</span><span style=\"background-color:#DFFF00 \"> o</span> consumo ."
      ],
      "text/plain": [
       "<IPython.core.display.HTML object>"
      ]
     },
     "metadata": {},
     "output_type": "display_data"
    },
    {
     "name": "stdout",
     "output_type": "stream",
     "text": [
      "____________________________________366___________________________________________________\n",
      "\u001b[94m\u001b[1m🤓 OK\u001b[0m\n"
     ]
    },
    {
     "data": {
      "text/html": [
       " <span style=\"background-color:#e0e0e0 \">-11.218187</span> <span style=\"background-color:#DFFF00 \">2.3704364</span> <span style=\"background-color:#9FE2BF \">10.950626</span>"
      ],
      "text/plain": [
       "<IPython.core.display.HTML object>"
      ]
     },
     "metadata": {},
     "output_type": "display_data"
    },
    {
     "data": {
      "text/html": [
       " For starters , private firms need to know that they are competing with SOEs <span style=\"background-color:#DFFF00 \">on</span><span style=\"background-color:#DFFF00 \"> a</span><span style=\"background-color:#DFFF00 \"> level</span><span style=\"background-color:#DFFF00 \"> playing</span><span style=\"background-color:#DFFF00 \"> field</span><span style=\"background-color:#DFFF00 \"> in</span><span style=\"background-color:#DFFF00 \"> terms</span><span style=\"background-color:#DFFF00 \"> of</span><span style=\"background-color:#DFFF00 \"> regulation</span><span style=\"background-color:#DFFF00 \"> and</span><span style=\"background-color:#DFFF00 \"> law</span><span style=\"background-color:#DFFF00 \"> enforcement</span> , access to bank loans and other resources , and opportunities to <span style=\"background-color:#9FE2BF \">secure</span> government contracts ."
      ],
      "text/plain": [
       "<IPython.core.display.HTML object>"
      ]
     },
     "metadata": {},
     "output_type": "display_data"
    },
    {
     "data": {
      "text/html": [
       " Para começar , as empresas privadas precisam de saber que estão a competir com as EE <span style=\"background-color:#DFFF00 \">em</span><span style=\"background-color:#DFFF00 \"> condições</span><span style=\"background-color:#DFFF00 \"> de</span><span style=\"background-color:#DFFF00 \"> igualdade</span><span style=\"background-color:#DFFF00 \"> ,</span><span style=\"background-color:#DFFF00 \"> no</span><span style=\"background-color:#DFFF00 \"> que</span><span style=\"background-color:#DFFF00 \"> diz</span><span style=\"background-color:#DFFF00 \"> respeito</span><span style=\"background-color:#DFFF00 \"> à</span><span style=\"background-color:#DFFF00 \"> regulamentação</span><span style=\"background-color:#DFFF00 \"> e</span><span style=\"background-color:#DFFF00 \"> à</span><span style=\"background-color:#DFFF00 \"> aplicação</span> da lei , ao acesso ao crédito bancário e a outros recursos , e às oportunidades de <span style=\"background-color:#9FE2BF \">conseguirem</span> contratos com o governo ."
      ],
      "text/plain": [
       "<IPython.core.display.HTML object>"
      ]
     },
     "metadata": {},
     "output_type": "display_data"
    },
    {
     "name": "stdout",
     "output_type": "stream",
     "text": [
      "____________________________________367___________________________________________________\n",
      "\u001b[94m\u001b[1m🤓 OK\u001b[0m\n"
     ]
    },
    {
     "data": {
      "text/html": [
       " <span style=\"background-color:#e0e0e0 \">-15.423414</span> <span style=\"background-color:#DFFF00 \">12.678032</span>"
      ],
      "text/plain": [
       "<IPython.core.display.HTML object>"
      ]
     },
     "metadata": {},
     "output_type": "display_data"
    },
    {
     "data": {
      "text/html": [
       " Halappanavar , an expectant mother , died after her doctors , citing Ireland 's legal prohibition of abortion , refused to remove her 17-week-old fetus , despite allegedly acknowledging that the fetus <span style=\"background-color:#DFFF00 \">was</span><span style=\"background-color:#DFFF00 \"> not</span><span style=\"background-color:#DFFF00 \"> viable</span><span style=\"background-color:#DFFF00 \"> and</span><span style=\"background-color:#DFFF00 \"> placing</span><span style=\"background-color:#DFFF00 \"> Halappanavar</span><span style=\"background-color:#DFFF00 \"> in</span><span style=\"background-color:#DFFF00 \"> an</span><span style=\"background-color:#DFFF00 \"> intensive-care</span><span style=\"background-color:#DFFF00 \"> unit</span><span style=\"background-color:#DFFF00 \"> as</span><span style=\"background-color:#DFFF00 \"> her</span><span style=\"background-color:#DFFF00 \"> condition</span> deteriorated ."
      ],
      "text/plain": [
       "<IPython.core.display.HTML object>"
      ]
     },
     "metadata": {},
     "output_type": "display_data"
    },
    {
     "data": {
      "text/html": [
       " Halappanavar , uma futura mãe , morreu depois de os seus médicos , citando judicialmente a proibição legal do aborto na Irlanda , recusarem-se a remover o seu feto de 17 semanas , apesar de supostamente reconhecerem que o feto <span style=\"background-color:#DFFF00 \">não</span><span style=\"background-color:#DFFF00 \"> era</span><span style=\"background-color:#DFFF00 \"> viável</span><span style=\"background-color:#DFFF00 \"> e</span><span style=\"background-color:#DFFF00 \"> de</span><span style=\"background-color:#DFFF00 \"> terem</span><span style=\"background-color:#DFFF00 \"> colocado</span><span style=\"background-color:#DFFF00 \"> Halappanavar</span><span style=\"background-color:#DFFF00 \"> na</span><span style=\"background-color:#DFFF00 \"> unidade</span><span style=\"background-color:#DFFF00 \"> de</span><span style=\"background-color:#DFFF00 \"> cuidados</span><span style=\"background-color:#DFFF00 \"> intensivos</span><span style=\"background-color:#DFFF00 \"> quando</span><span style=\"background-color:#DFFF00 \"> o</span><span style=\"background-color:#DFFF00 \"> seu</span><span style=\"background-color:#DFFF00 \"> estado</span> se deteriorou ."
      ],
      "text/plain": [
       "<IPython.core.display.HTML object>"
      ]
     },
     "metadata": {},
     "output_type": "display_data"
    },
    {
     "name": "stdout",
     "output_type": "stream",
     "text": [
      "____________________________________368___________________________________________________\n",
      "\u001b[94m\u001b[1m🤓 OK\u001b[0m\n"
     ]
    },
    {
     "data": {
      "text/html": [
       " <span style=\"background-color:#e0e0e0 \">-8.302115</span> <span style=\"background-color:#DFFF00 \">4.936772</span> <span style=\"background-color:#9FE2BF \">11.43035</span>"
      ],
      "text/plain": [
       "<IPython.core.display.HTML object>"
      ]
     },
     "metadata": {},
     "output_type": "display_data"
    },
    {
     "data": {
      "text/html": [
       " On some occasions , news outlets were even forced to print or <span style=\"background-color:#9FE2BF \">air</span><span style=\"background-color:#9FE2BF \"> lengthy</span><span style=\"background-color:#9FE2BF \"> dissenting</span><span style=\"background-color:#9FE2BF \"> statements</span> from government officials who disliked <span style=\"background-color:#DFFF00 \">their</span><span style=\"background-color:#DFFF00 \"> treatment</span><span style=\"background-color:#DFFF00 \"> in</span><span style=\"background-color:#DFFF00 \"> the</span> media ."
      ],
      "text/plain": [
       "<IPython.core.display.HTML object>"
      ]
     },
     "metadata": {},
     "output_type": "display_data"
    },
    {
     "data": {
      "text/html": [
       " Em certos casos , as agências noticiosas foram mesmo forçadas a publicar ou <span style=\"background-color:#9FE2BF \">transmitir</span><span style=\"background-color:#9FE2BF \"> prolongadas</span><span style=\"background-color:#9FE2BF \"> declarações</span><span style=\"background-color:#9FE2BF \"> divergentes</span> de responsáveis governamentais , a quem não agradava <span style=\"background-color:#DFFF00 \">o</span><span style=\"background-color:#DFFF00 \"> modo</span><span style=\"background-color:#DFFF00 \"> como</span><span style=\"background-color:#DFFF00 \"> eram</span><span style=\"background-color:#DFFF00 \"> tratados</span><span style=\"background-color:#DFFF00 \"> pelos</span><span style=\"background-color:#DFFF00 \"> meios</span> de comunicação ."
      ],
      "text/plain": [
       "<IPython.core.display.HTML object>"
      ]
     },
     "metadata": {},
     "output_type": "display_data"
    },
    {
     "name": "stdout",
     "output_type": "stream",
     "text": [
      "____________________________________374___________________________________________________\n",
      "\u001b[94m\u001b[1m🤓 OK\u001b[0m\n"
     ]
    },
    {
     "data": {
      "text/html": [
       " <span style=\"background-color:#e0e0e0 \">-4.8044424</span> <span style=\"background-color:#DFFF00 \">9.9097185</span> <span style=\"background-color:#9FE2BF \">15.565129</span>"
      ],
      "text/plain": [
       "<IPython.core.display.HTML object>"
      ]
     },
     "metadata": {},
     "output_type": "display_data"
    },
    {
     "data": {
      "text/html": [
       " Not <span style=\"background-color:#9FE2BF \">only</span><span style=\"background-color:#9FE2BF \"> have</span> G20 leaders reaffirmed their previous support for efforts by the World Health Organization , the Food and Agricultural Organization of the United Nations , and the Organization for Animal Health <span style=\"background-color:#DFFF00 \">to</span><span style=\"background-color:#DFFF00 \"> tackle</span><span style=\"background-color:#DFFF00 \"> AMR</span> ."
      ],
      "text/plain": [
       "<IPython.core.display.HTML object>"
      ]
     },
     "metadata": {},
     "output_type": "display_data"
    },
    {
     "data": {
      "text/html": [
       " Os líderes do G20 não <span style=\"background-color:#9FE2BF \">só</span> reiteraram o seu apoio anterior aos esforços da Organização Mundial de Saúde , da Organização das Nações Unidas para a Agricultura e a Alimentação , e da Organização Mundial para a Saúde Animal <span style=\"background-color:#DFFF00 \">na</span><span style=\"background-color:#DFFF00 \"> resposta</span><span style=\"background-color:#DFFF00 \"> à</span><span style=\"background-color:#DFFF00 \"> RAM</span> ."
      ],
      "text/plain": [
       "<IPython.core.display.HTML object>"
      ]
     },
     "metadata": {},
     "output_type": "display_data"
    },
    {
     "name": "stdout",
     "output_type": "stream",
     "text": [
      "____________________________________378___________________________________________________\n",
      "\u001b[94m\u001b[1m🤓 OK\u001b[0m\n"
     ]
    },
    {
     "data": {
      "text/html": [
       " <span style=\"background-color:#e0e0e0 \">-5.6158485</span> <span style=\"background-color:#DFFF00 \">-2.2470489</span>"
      ],
      "text/plain": [
       "<IPython.core.display.HTML object>"
      ]
     },
     "metadata": {},
     "output_type": "display_data"
    },
    {
     "data": {
      "text/html": [
       " The Association of Southeast Asian Nations <span style=\"background-color:#DFFF00 \">'</span><span style=\"background-color:#DFFF00 \"> long-held</span><span style=\"background-color:#DFFF00 \"> dream</span><span style=\"background-color:#DFFF00 \"> of</span><span style=\"background-color:#DFFF00 \"> unity</span> might first arrive by rail ."
      ],
      "text/plain": [
       "<IPython.core.display.HTML object>"
      ]
     },
     "metadata": {},
     "output_type": "display_data"
    },
    {
     "data": {
      "text/html": [
       " A <span style=\"background-color:#DFFF00 \">união</span><span style=\"background-color:#DFFF00 \"> há</span><span style=\"background-color:#DFFF00 \"> muito</span><span style=\"background-color:#DFFF00 \"> sonhada</span><span style=\"background-color:#DFFF00 \"> pela</span> Associação das Nações do Sudeste Asiático poderá chegar primeiro por via ferroviária ."
      ],
      "text/plain": [
       "<IPython.core.display.HTML object>"
      ]
     },
     "metadata": {},
     "output_type": "display_data"
    },
    {
     "name": "stdout",
     "output_type": "stream",
     "text": [
      "____________________________________388___________________________________________________\n",
      "\u001b[94m\u001b[1m🤓 OK\u001b[0m\n"
     ]
    },
    {
     "data": {
      "text/html": [
       " <span style=\"background-color:#e0e0e0 \">-4.992367</span> <span style=\"background-color:#DFFF00 \">15.007191</span>"
      ],
      "text/plain": [
       "<IPython.core.display.HTML object>"
      ]
     },
     "metadata": {},
     "output_type": "display_data"
    },
    {
     "data": {
      "text/html": [
       " Whereas the Israeli-Palestinian conflict has long been an island of violence and turmoil in a relatively stable ( if oppressed ) region , now <span style=\"background-color:#DFFF00 \">the</span><span style=\"background-color:#DFFF00 \"> tables</span><span style=\"background-color:#DFFF00 \"> are</span><span style=\"background-color:#DFFF00 \"> turned</span> ."
      ],
      "text/plain": [
       "<IPython.core.display.HTML object>"
      ]
     },
     "metadata": {},
     "output_type": "display_data"
    },
    {
     "data": {
      "text/html": [
       " Atendendo a que o conflito israelo-palestino tem sido uma ilha de violência e de tumulto numa região relativamente estável ( se estiver oprimida ) , agora <span style=\"background-color:#DFFF00 \">a</span><span style=\"background-color:#DFFF00 \"> situação</span><span style=\"background-color:#DFFF00 \"> inverte-se</span> ."
      ],
      "text/plain": [
       "<IPython.core.display.HTML object>"
      ]
     },
     "metadata": {},
     "output_type": "display_data"
    },
    {
     "name": "stdout",
     "output_type": "stream",
     "text": [
      "____________________________________391___________________________________________________\n",
      "\u001b[94m\u001b[1m🤓 OK\u001b[0m\n"
     ]
    },
    {
     "data": {
      "text/html": [
       " <span style=\"background-color:#e0e0e0 \">-15.559362</span> <span style=\"background-color:#DFFF00 \">12.442598</span>"
      ],
      "text/plain": [
       "<IPython.core.display.HTML object>"
      ]
     },
     "metadata": {},
     "output_type": "display_data"
    },
    {
     "data": {
      "text/html": [
       " According to public-opinion polls , the center-left Democratic Party , led by Pier Luigi Bersani , along with some more left-leaning allies , has the support of roughly 33 % of the electorate , <span style=\"background-color:#DFFF00 \">down</span><span style=\"background-color:#DFFF00 \"> since</span><span style=\"background-color:#DFFF00 \"> late</span><span style=\"background-color:#DFFF00 \"> January</span><span style=\"background-color:#DFFF00 \"> ,</span><span style=\"background-color:#DFFF00 \"> while</span><span style=\"background-color:#DFFF00 \"> backing</span><span style=\"background-color:#DFFF00 \"> for</span><span style=\"background-color:#DFFF00 \"> Berlusconi</span><span style=\"background-color:#DFFF00 \"> 's</span><span style=\"background-color:#DFFF00 \"> center-right</span><span style=\"background-color:#DFFF00 \"> coalition</span> has risen to 28 % ."
      ],
      "text/plain": [
       "<IPython.core.display.HTML object>"
      ]
     },
     "metadata": {},
     "output_type": "display_data"
    },
    {
     "data": {
      "text/html": [
       " Segundo as sondagens à opinião pública , o Partido Democrático ( PD ) de centro-esquerda liderado por Pier Luigi Bersani , bem como alguns aliados de tendência de esquerda contam com o apoio de cerca de 33 % dos eleitores , tendo-se <span style=\"background-color:#DFFF00 \">registado</span><span style=\"background-color:#DFFF00 \"> uma</span><span style=\"background-color:#DFFF00 \"> descida</span><span style=\"background-color:#DFFF00 \"> desde</span><span style=\"background-color:#DFFF00 \"> o</span><span style=\"background-color:#DFFF00 \"> final</span><span style=\"background-color:#DFFF00 \"> de</span><span style=\"background-color:#DFFF00 \"> Janeiro</span><span style=\"background-color:#DFFF00 \"> ,</span><span style=\"background-color:#DFFF00 \"> ao</span><span style=\"background-color:#DFFF00 \"> passo</span><span style=\"background-color:#DFFF00 \"> que</span><span style=\"background-color:#DFFF00 \"> o</span><span style=\"background-color:#DFFF00 \"> apoio</span><span style=\"background-color:#DFFF00 \"> à</span><span style=\"background-color:#DFFF00 \"> coligação</span><span style=\"background-color:#DFFF00 \"> de</span><span style=\"background-color:#DFFF00 \"> centro-direita</span><span style=\"background-color:#DFFF00 \"> de</span><span style=\"background-color:#DFFF00 \"> Berlusconi</span> aumentou para 28 % ."
      ],
      "text/plain": [
       "<IPython.core.display.HTML object>"
      ]
     },
     "metadata": {},
     "output_type": "display_data"
    },
    {
     "name": "stdout",
     "output_type": "stream",
     "text": [
      "____________________________________395___________________________________________________\n",
      "\u001b[94m\u001b[1m🤓 OK\u001b[0m\n"
     ]
    },
    {
     "data": {
      "text/html": [
       " <span style=\"background-color:#e0e0e0 \">-14.27297</span> <span style=\"background-color:#DFFF00 \">13.865736</span>"
      ],
      "text/plain": [
       "<IPython.core.display.HTML object>"
      ]
     },
     "metadata": {},
     "output_type": "display_data"
    },
    {
     "data": {
      "text/html": [
       " Even today , <span style=\"background-color:#DFFF00 \">the</span><span style=\"background-color:#DFFF00 \"> same</span><span style=\"background-color:#DFFF00 \"> tobacco</span><span style=\"background-color:#DFFF00 \"> companies</span><span style=\"background-color:#DFFF00 \"> are</span><span style=\"background-color:#DFFF00 \"> marketing</span><span style=\"background-color:#DFFF00 \"> new</span><span style=\"background-color:#DFFF00 \"> products</span><span style=\"background-color:#DFFF00 \"> that</span><span style=\"background-color:#DFFF00 \"> they</span><span style=\"background-color:#DFFF00 \"> claim</span><span style=\"background-color:#DFFF00 \"> are</span> less harmful - like \" heat-not-burn \" devices , which vaporize tobacco to produce a nicotine-containing aerosol - and funding front groups purporting to work for a smoke-free world ."
      ],
      "text/plain": [
       "<IPython.core.display.HTML object>"
      ]
     },
     "metadata": {},
     "output_type": "display_data"
    },
    {
     "data": {
      "text/html": [
       " Ainda hoje , <span style=\"background-color:#DFFF00 \">as</span><span style=\"background-color:#DFFF00 \"> mesmas</span><span style=\"background-color:#DFFF00 \"> empresas</span><span style=\"background-color:#DFFF00 \"> tabaqueiras</span><span style=\"background-color:#DFFF00 \"> comercializam</span><span style=\"background-color:#DFFF00 \"> novos</span><span style=\"background-color:#DFFF00 \"> produtos</span><span style=\"background-color:#DFFF00 \"> que</span><span style=\"background-color:#DFFF00 \"> alegam</span><span style=\"background-color:#DFFF00 \"> ser</span> menos prejudiciais -tal como dispositivos \" heat-not-burn \" ( aquecem e não queimam ) , que vaporizam o cigarro de forma a produzir um aerossol que contém nicotina -e financiando grupos de frente que alegam trabalhar por um mundo livre de fumo ."
      ],
      "text/plain": [
       "<IPython.core.display.HTML object>"
      ]
     },
     "metadata": {},
     "output_type": "display_data"
    },
    {
     "name": "stdout",
     "output_type": "stream",
     "text": [
      "____________________________________408___________________________________________________\n",
      "\u001b[94m\u001b[1m🤓 OK\u001b[0m\n"
     ]
    },
    {
     "data": {
      "text/html": [
       " <span style=\"background-color:#e0e0e0 \">-2.3838854</span> <span style=\"background-color:#DFFF00 \">9.195939</span> <span style=\"background-color:#9FE2BF \">13.528401</span>"
      ],
      "text/plain": [
       "<IPython.core.display.HTML object>"
      ]
     },
     "metadata": {},
     "output_type": "display_data"
    },
    {
     "data": {
      "text/html": [
       " But I have not seen Summers <span style=\"background-color:#9FE2BF \">lay</span><span style=\"background-color:#9FE2BF \"> out</span> a fully articulated dynamic general equilibrium model that supports his <span style=\"background-color:#DFFF00 \">advice</span> ."
      ],
      "text/plain": [
       "<IPython.core.display.HTML object>"
      ]
     },
     "metadata": {},
     "output_type": "display_data"
    },
    {
     "data": {
      "text/html": [
       " No entanto , não vi Summers a <span style=\"background-color:#9FE2BF \">esquematizar</span> um modelo de equilíbrio geral dinâmico totalmente articulado que suporte o seu <span style=\"background-color:#DFFF00 \">conselho</span> ."
      ],
      "text/plain": [
       "<IPython.core.display.HTML object>"
      ]
     },
     "metadata": {},
     "output_type": "display_data"
    },
    {
     "name": "stdout",
     "output_type": "stream",
     "text": [
      "____________________________________409___________________________________________________\n",
      "\u001b[94m\u001b[1m🤓 OK\u001b[0m\n"
     ]
    },
    {
     "data": {
      "text/html": [
       " <span style=\"background-color:#e0e0e0 \">-0.884656</span> <span style=\"background-color:#DFFF00 \">9.6470175</span> <span style=\"background-color:#9FE2BF \">14.963025</span>"
      ],
      "text/plain": [
       "<IPython.core.display.HTML object>"
      ]
     },
     "metadata": {},
     "output_type": "display_data"
    },
    {
     "data": {
      "text/html": [
       " Europe is very well <span style=\"background-color:#9FE2BF \">versed</span> in such processes <span style=\"background-color:#DFFF00 \">and</span><span style=\"background-color:#DFFF00 \"> should</span><span style=\"background-color:#DFFF00 \"> put</span><span style=\"background-color:#DFFF00 \"> its</span><span style=\"background-color:#DFFF00 \"> experience</span><span style=\"background-color:#DFFF00 \"> to</span><span style=\"background-color:#DFFF00 \"> good</span><span style=\"background-color:#DFFF00 \"> use</span> ."
      ],
      "text/plain": [
       "<IPython.core.display.HTML object>"
      ]
     },
     "metadata": {},
     "output_type": "display_data"
    },
    {
     "data": {
      "text/html": [
       " A Europa é muito bem <span style=\"background-color:#9FE2BF \">entendida</span> em tais processos <span style=\"background-color:#DFFF00 \">e</span><span style=\"background-color:#DFFF00 \"> devia</span><span style=\"background-color:#DFFF00 \"> fazer</span><span style=\"background-color:#DFFF00 \"> bom</span><span style=\"background-color:#DFFF00 \"> uso</span><span style=\"background-color:#DFFF00 \"> da</span><span style=\"background-color:#DFFF00 \"> sua</span><span style=\"background-color:#DFFF00 \"> experiência</span> ."
      ],
      "text/plain": [
       "<IPython.core.display.HTML object>"
      ]
     },
     "metadata": {},
     "output_type": "display_data"
    },
    {
     "name": "stdout",
     "output_type": "stream",
     "text": [
      "____________________________________415___________________________________________________\n",
      "\u001b[94m\u001b[1m🤓 OK\u001b[0m\n"
     ]
    },
    {
     "data": {
      "text/html": [
       " <span style=\"background-color:#e0e0e0 \">-4.2336526</span> <span style=\"background-color:#DFFF00 \">-1.4215493</span> <span style=\"background-color:#9FE2BF \">11.470542</span>"
      ],
      "text/plain": [
       "<IPython.core.display.HTML object>"
      ]
     },
     "metadata": {},
     "output_type": "display_data"
    },
    {
     "data": {
      "text/html": [
       " <span style=\"background-color:#9FE2BF \">First</span><span style=\"background-color:#9FE2BF \"> ,</span><span style=\"background-color:#9FE2BF \"> it</span> confirms that France retains the ability to act as Europe <span style=\"background-color:#DFFF00 \">'s</span><span style=\"background-color:#DFFF00 \"> prime</span><span style=\"background-color:#DFFF00 \"> mover</span> ."
      ],
      "text/plain": [
       "<IPython.core.display.HTML object>"
      ]
     },
     "metadata": {},
     "output_type": "display_data"
    },
    {
     "data": {
      "text/html": [
       " <span style=\"background-color:#9FE2BF \">O</span><span style=\"background-color:#9FE2BF \"> primeiro</span><span style=\"background-color:#9FE2BF \"> elemento</span> confirma que França mantém a capacidade de agir como <span style=\"background-color:#DFFF00 \">força</span><span style=\"background-color:#DFFF00 \"> motriz</span><span style=\"background-color:#DFFF00 \"> da</span> Europa ."
      ],
      "text/plain": [
       "<IPython.core.display.HTML object>"
      ]
     },
     "metadata": {},
     "output_type": "display_data"
    },
    {
     "name": "stdout",
     "output_type": "stream",
     "text": [
      "____________________________________416___________________________________________________\n",
      "\u001b[94m\u001b[1m🤓 OK\u001b[0m\n"
     ]
    },
    {
     "data": {
      "text/html": [
       " <span style=\"background-color:#e0e0e0 \">-6.179674</span> <span style=\"background-color:#DFFF00 \">1.7981791</span> <span style=\"background-color:#9FE2BF \">7.9117055</span>"
      ],
      "text/plain": [
       "<IPython.core.display.HTML object>"
      ]
     },
     "metadata": {},
     "output_type": "display_data"
    },
    {
     "data": {
      "text/html": [
       " Brexit <span style=\"background-color:#DFFF00 \">would</span><span style=\"background-color:#DFFF00 \"> still</span><span style=\"background-color:#DFFF00 \"> take</span><span style=\"background-color:#DFFF00 \"> at</span><span style=\"background-color:#DFFF00 \"> least</span> five years <span style=\"background-color:#9FE2BF \">to</span><span style=\"background-color:#9FE2BF \"> complete</span><span style=\"background-color:#9FE2BF \"> ,</span> during which time new elections would take place ."
      ],
      "text/plain": [
       "<IPython.core.display.HTML object>"
      ]
     },
     "metadata": {},
     "output_type": "display_data"
    },
    {
     "data": {
      "text/html": [
       " O Brexit <span style=\"background-color:#DFFF00 \">demoraria</span><span style=\"background-color:#DFFF00 \"> pelo</span><span style=\"background-color:#DFFF00 \"> menos</span> cinco anos <span style=\"background-color:#9FE2BF \">até</span><span style=\"background-color:#9FE2BF \"> terminar</span><span style=\"background-color:#9FE2BF \"> ,</span><span style=\"background-color:#9FE2BF \"> período</span> durante o qual se realizariam novas eleições ."
      ],
      "text/plain": [
       "<IPython.core.display.HTML object>"
      ]
     },
     "metadata": {},
     "output_type": "display_data"
    },
    {
     "name": "stdout",
     "output_type": "stream",
     "text": [
      "____________________________________418___________________________________________________\n",
      "\u001b[94m\u001b[1m🤓 OK\u001b[0m\n"
     ]
    },
    {
     "data": {
      "text/html": [
       " <span style=\"background-color:#e0e0e0 \">-5.3620257</span> <span style=\"background-color:#DFFF00 \">14.05065</span>"
      ],
      "text/plain": [
       "<IPython.core.display.HTML object>"
      ]
     },
     "metadata": {},
     "output_type": "display_data"
    },
    {
     "data": {
      "text/html": [
       " The fact is that Brexit is <span style=\"background-color:#DFFF00 \">a</span><span style=\"background-color:#DFFF00 \"> lose-lose</span><span style=\"background-color:#DFFF00 \"> proposition</span><span style=\"background-color:#DFFF00 \"> ,</span> harmful both to Britain and the EU ."
      ],
      "text/plain": [
       "<IPython.core.display.HTML object>"
      ]
     },
     "metadata": {},
     "output_type": "display_data"
    },
    {
     "data": {
      "text/html": [
       " A verdade é que o Brexit é <span style=\"background-color:#DFFF00 \">uma</span><span style=\"background-color:#DFFF00 \"> situação</span><span style=\"background-color:#DFFF00 \"> em</span><span style=\"background-color:#DFFF00 \"> que</span><span style=\"background-color:#DFFF00 \"> todos</span><span style=\"background-color:#DFFF00 \"> perdem</span><span style=\"background-color:#DFFF00 \"> ,</span><span style=\"background-color:#DFFF00 \"> sendo</span> prejudicial tanto para a Grã-Bretanha como para a UE ."
      ],
      "text/plain": [
       "<IPython.core.display.HTML object>"
      ]
     },
     "metadata": {},
     "output_type": "display_data"
    },
    {
     "name": "stdout",
     "output_type": "stream",
     "text": [
      "____________________________________419___________________________________________________\n",
      "\u001b[94m\u001b[1m🤓 OK\u001b[0m\n"
     ]
    },
    {
     "data": {
      "text/html": [
       " <span style=\"background-color:#e0e0e0 \">-6.102003</span> <span style=\"background-color:#DFFF00 \">15.071422</span>"
      ],
      "text/plain": [
       "<IPython.core.display.HTML object>"
      ]
     },
     "metadata": {},
     "output_type": "display_data"
    },
    {
     "data": {
      "text/html": [
       " Today , however , the question is whether Germany is ready and willing to provide leadership in the conduct of the EU 's affairs - and , <span style=\"background-color:#DFFF00 \">if</span><span style=\"background-color:#DFFF00 \"> so</span><span style=\"background-color:#DFFF00 \"> ,</span><span style=\"background-color:#DFFF00 \"> to</span><span style=\"background-color:#DFFF00 \"> what</span><span style=\"background-color:#DFFF00 \"> end</span><span style=\"background-color:#DFFF00 \"> .</span>"
      ],
      "text/plain": [
       "<IPython.core.display.HTML object>"
      ]
     },
     "metadata": {},
     "output_type": "display_data"
    },
    {
     "data": {
      "text/html": [
       " Hoje , no entanto , a questão é saber se a Alemanha está pronta e disposta a fornecer liderança na condução dos assuntos da União Europeia - e , <span style=\"background-color:#DFFF00 \">em</span><span style=\"background-color:#DFFF00 \"> caso</span><span style=\"background-color:#DFFF00 \"> afirmativo</span><span style=\"background-color:#DFFF00 \"> ,</span><span style=\"background-color:#DFFF00 \"> com</span><span style=\"background-color:#DFFF00 \"> que</span><span style=\"background-color:#DFFF00 \"> finalidade</span><span style=\"background-color:#DFFF00 \"> .</span>"
      ],
      "text/plain": [
       "<IPython.core.display.HTML object>"
      ]
     },
     "metadata": {},
     "output_type": "display_data"
    },
    {
     "name": "stdout",
     "output_type": "stream",
     "text": [
      "____________________________________423___________________________________________________\n",
      "\u001b[94m\u001b[1m🤓 OK\u001b[0m\n"
     ]
    },
    {
     "data": {
      "text/html": [
       " <span style=\"background-color:#e0e0e0 \">-0.72452307</span> <span style=\"background-color:#DFFF00 \">7.3265996</span> <span style=\"background-color:#9FE2BF \">11.274555</span>"
      ],
      "text/plain": [
       "<IPython.core.display.HTML object>"
      ]
     },
     "metadata": {},
     "output_type": "display_data"
    },
    {
     "data": {
      "text/html": [
       " Moreover , the UN report clearly shows that <span style=\"background-color:#9FE2BF \">,</span><span style=\"background-color:#9FE2BF \"> throughout</span> the developed world , private investment did not grow as <span style=\"background-color:#DFFF00 \">one</span><span style=\"background-color:#DFFF00 \"> might</span><span style=\"background-color:#DFFF00 \"> have</span><span style=\"background-color:#DFFF00 \"> expected</span><span style=\"background-color:#DFFF00 \"> ,</span> given ultra-low interest rates ."
      ],
      "text/plain": [
       "<IPython.core.display.HTML object>"
      ]
     },
     "metadata": {},
     "output_type": "display_data"
    },
    {
     "data": {
      "text/html": [
       " Além disso , o relatório da ONU demonstra claramente que o investimento privado no mundo desenvolvido não cresceu como <span style=\"background-color:#DFFF00 \">se</span><span style=\"background-color:#DFFF00 \"> esperava</span><span style=\"background-color:#DFFF00 \"> ,</span> dadas as taxas de juro ultrabaixas ."
      ],
      "text/plain": [
       "<IPython.core.display.HTML object>"
      ]
     },
     "metadata": {},
     "output_type": "display_data"
    },
    {
     "name": "stdout",
     "output_type": "stream",
     "text": [
      "____________________________________424___________________________________________________\n",
      "\u001b[94m\u001b[1m🤓 OK\u001b[0m\n"
     ]
    },
    {
     "data": {
      "text/html": [
       " <span style=\"background-color:#e0e0e0 \">-8.356319</span> <span style=\"background-color:#DFFF00 \">-6.860426</span> <span style=\"background-color:#9FE2BF \">-5.6644974</span>"
      ],
      "text/plain": [
       "<IPython.core.display.HTML object>"
      ]
     },
     "metadata": {},
     "output_type": "display_data"
    },
    {
     "data": {
      "text/html": [
       " In 2015 <span style=\"background-color:#9FE2BF \">,</span> however , with the primary surplus achieved , Greece 's creditors refused <span style=\"background-color:#DFFF00 \">even</span><span style=\"background-color:#DFFF00 \"> to</span><span style=\"background-color:#DFFF00 \"> discuss</span> debt relief ."
      ],
      "text/plain": [
       "<IPython.core.display.HTML object>"
      ]
     },
     "metadata": {},
     "output_type": "display_data"
    },
    {
     "data": {
      "text/html": [
       " Em 2015 <span style=\"background-color:#9FE2BF \">,</span><span style=\"background-color:#9FE2BF \"> no</span> entanto , perante a consecução do excedente primário , os credores da Grécia recusaram-se <span style=\"background-color:#DFFF00 \">a</span><span style=\"background-color:#DFFF00 \"> debater</span> a redução da dívida ."
      ],
      "text/plain": [
       "<IPython.core.display.HTML object>"
      ]
     },
     "metadata": {},
     "output_type": "display_data"
    },
    {
     "name": "stdout",
     "output_type": "stream",
     "text": [
      "____________________________________425___________________________________________________\n",
      "\u001b[94m\u001b[1m🤓 OK\u001b[0m\n"
     ]
    },
    {
     "data": {
      "text/html": [
       " <span style=\"background-color:#e0e0e0 \">-11.438311</span> <span style=\"background-color:#DFFF00 \">12.990459</span>"
      ],
      "text/plain": [
       "<IPython.core.display.HTML object>"
      ]
     },
     "metadata": {},
     "output_type": "display_data"
    },
    {
     "data": {
      "text/html": [
       " President François Hollande has announced measures that <span style=\"background-color:#DFFF00 \">,</span><span style=\"background-color:#DFFF00 \"> if</span><span style=\"background-color:#DFFF00 \"> implemented</span><span style=\"background-color:#DFFF00 \"> ,</span><span style=\"background-color:#DFFF00 \"> would</span><span style=\"background-color:#DFFF00 \"> amount</span><span style=\"background-color:#DFFF00 \"> to</span> a peaceful revolution : a major reconciliation with the industrial and business world that even his more energetic predecessor , Nicolas Sarkozy , dared not attempt , despite - or precisely because of - his more conservative inclinations ."
      ],
      "text/plain": [
       "<IPython.core.display.HTML object>"
      ]
     },
     "metadata": {},
     "output_type": "display_data"
    },
    {
     "data": {
      "text/html": [
       " O Presidente François Hollande anunciou medidas que <span style=\"background-color:#DFFF00 \">,</span><span style=\"background-color:#DFFF00 \"> se</span><span style=\"background-color:#DFFF00 \"> implementadas</span><span style=\"background-color:#DFFF00 \"> ,</span><span style=\"background-color:#DFFF00 \"> equivaleriam</span><span style=\"background-color:#DFFF00 \"> a</span> uma revolução pacífica : a grande reconciliação com o mundo industrial e empresarial , que até mesmo o seu predecessor mais enérgico , Nicolas Sarkozy , não se atreveu a tentar , apesar - ou precisamente por causa de - das suas inclinações mais conservadoras ."
      ],
      "text/plain": [
       "<IPython.core.display.HTML object>"
      ]
     },
     "metadata": {},
     "output_type": "display_data"
    },
    {
     "name": "stdout",
     "output_type": "stream",
     "text": [
      "____________________________________426___________________________________________________\n",
      "\u001b[94m\u001b[1m🤓 OK\u001b[0m\n"
     ]
    },
    {
     "data": {
      "text/html": [
       " <span style=\"background-color:#e0e0e0 \">-11.032464</span> <span style=\"background-color:#DFFF00 \">7.883684</span> <span style=\"background-color:#9FE2BF \">11.523378</span>"
      ],
      "text/plain": [
       "<IPython.core.display.HTML object>"
      ]
     },
     "metadata": {},
     "output_type": "display_data"
    },
    {
     "data": {
      "text/html": [
       " A recommendation last year by the World Health Organization 's Strategic Advisory Group of Experts on Immunization promises <span style=\"background-color:#DFFF00 \">to</span><span style=\"background-color:#DFFF00 \"> boost</span><span style=\"background-color:#DFFF00 \"> vaccines</span><span style=\"background-color:#DFFF00 \"> '</span><span style=\"background-color:#DFFF00 \"> cost-effectiveness</span><span style=\"background-color:#DFFF00 \"> further</span><span style=\"background-color:#DFFF00 \"> ,</span><span style=\"background-color:#DFFF00 \"> by</span><span style=\"background-color:#DFFF00 \"> calling</span> for just two doses of <span style=\"background-color:#9FE2BF \">the</span><span style=\"background-color:#9FE2BF \"> HPV</span> vaccine , rather than the three doses previously thought to be required ."
      ],
      "text/plain": [
       "<IPython.core.display.HTML object>"
      ]
     },
     "metadata": {},
     "output_type": "display_data"
    },
    {
     "data": {
      "text/html": [
       " Uma recomendação feita ano passado pelo Grupo Consultivo Estratégico de Especialistas em Imunização ( SAGE ) da Organização Mundial de Saúde promete <span style=\"background-color:#DFFF00 \">aumentar</span><span style=\"background-color:#DFFF00 \"> a</span><span style=\"background-color:#DFFF00 \"> relação</span><span style=\"background-color:#DFFF00 \"> custo-eficácia</span><span style=\"background-color:#DFFF00 \"> de</span><span style=\"background-color:#DFFF00 \"> vacinas</span><span style=\"background-color:#DFFF00 \"> adicionais</span><span style=\"background-color:#DFFF00 \"> ,</span><span style=\"background-color:#DFFF00 \"> reduzindo</span> a apenas duas doses da vacina <span style=\"background-color:#9FE2BF \">contra</span><span style=\"background-color:#9FE2BF \"> HPV</span> , ao invés de três doses anteriormente exigidas ."
      ],
      "text/plain": [
       "<IPython.core.display.HTML object>"
      ]
     },
     "metadata": {},
     "output_type": "display_data"
    },
    {
     "name": "stdout",
     "output_type": "stream",
     "text": [
      "____________________________________428___________________________________________________\n",
      "\u001b[94m\u001b[1m🤓 OK\u001b[0m\n"
     ]
    },
    {
     "data": {
      "text/html": [
       " <span style=\"background-color:#e0e0e0 \">-5.9216747</span> <span style=\"background-color:#DFFF00 \">-1.162853</span>"
      ],
      "text/plain": [
       "<IPython.core.display.HTML object>"
      ]
     },
     "metadata": {},
     "output_type": "display_data"
    },
    {
     "data": {
      "text/html": [
       " An exclusionary labor aristocracy emerged <span style=\"background-color:#DFFF00 \">,</span><span style=\"background-color:#DFFF00 \"> further</span><span style=\"background-color:#DFFF00 \"> deepening</span><span style=\"background-color:#DFFF00 \"> patronage</span><span style=\"background-color:#DFFF00 \"> networks</span><span style=\"background-color:#DFFF00 \"> within</span><span style=\"background-color:#DFFF00 \"> the</span> public sector ."
      ],
      "text/plain": [
       "<IPython.core.display.HTML object>"
      ]
     },
     "metadata": {},
     "output_type": "display_data"
    },
    {
     "data": {
      "text/html": [
       " Surgiu uma aristocracia operária de exclusão <span style=\"background-color:#DFFF00 \">,</span><span style=\"background-color:#DFFF00 \"> aprofundando</span><span style=\"background-color:#DFFF00 \"> as</span><span style=\"background-color:#DFFF00 \"> redes</span><span style=\"background-color:#DFFF00 \"> clientelistas</span><span style=\"background-color:#DFFF00 \"> no</span> sector público ."
      ],
      "text/plain": [
       "<IPython.core.display.HTML object>"
      ]
     },
     "metadata": {},
     "output_type": "display_data"
    },
    {
     "name": "stdout",
     "output_type": "stream",
     "text": [
      "____________________________________429___________________________________________________\n",
      "\u001b[94m\u001b[1m🤓 OK\u001b[0m\n"
     ]
    },
    {
     "data": {
      "text/html": [
       " <span style=\"background-color:#e0e0e0 \">-12.710538</span> <span style=\"background-color:#DFFF00 \">12.422453</span>"
      ],
      "text/plain": [
       "<IPython.core.display.HTML object>"
      ]
     },
     "metadata": {},
     "output_type": "display_data"
    },
    {
     "data": {
      "text/html": [
       " This requires , first and foremost , recognizing that , while new energy technologies will eventually outperform fossil fuels both practically and economically <span style=\"background-color:#DFFF00 \">,</span><span style=\"background-color:#DFFF00 \"> demand</span><span style=\"background-color:#DFFF00 \"> for</span><span style=\"background-color:#DFFF00 \"> fossil</span><span style=\"background-color:#DFFF00 \"> fuels</span><span style=\"background-color:#DFFF00 \"> to</span><span style=\"background-color:#DFFF00 \"> meet</span><span style=\"background-color:#DFFF00 \"> growing</span><span style=\"background-color:#DFFF00 \"> energy</span><span style=\"background-color:#DFFF00 \"> needs</span><span style=\"background-color:#DFFF00 \"> will</span><span style=\"background-color:#DFFF00 \"> underpin</span><span style=\"background-color:#DFFF00 \"> their</span><span style=\"background-color:#DFFF00 \"> extraction</span><span style=\"background-color:#DFFF00 \"> and</span><span style=\"background-color:#DFFF00 \"> use</span><span style=\"background-color:#DFFF00 \"> for</span><span style=\"background-color:#DFFF00 \"> decades</span><span style=\"background-color:#DFFF00 \"> to</span><span style=\"background-color:#DFFF00 \"> come</span> ."
      ],
      "text/plain": [
       "<IPython.core.display.HTML object>"
      ]
     },
     "metadata": {},
     "output_type": "display_data"
    },
    {
     "data": {
      "text/html": [
       " Isto requer , em primeiro lugar , reconhecer que , embora as novas tecnologias energéticas poderão eventualmente ultrapassar os combustíveis fósseis na prática e do ponto de vista económico <span style=\"background-color:#DFFF00 \">,</span><span style=\"background-color:#DFFF00 \"> a</span><span style=\"background-color:#DFFF00 \"> procura</span><span style=\"background-color:#DFFF00 \"> por</span><span style=\"background-color:#DFFF00 \"> combustíveis</span><span style=\"background-color:#DFFF00 \"> fósseis</span><span style=\"background-color:#DFFF00 \"> para</span><span style=\"background-color:#DFFF00 \"> satisfazer</span><span style=\"background-color:#DFFF00 \"> as</span><span style=\"background-color:#DFFF00 \"> necessidades</span><span style=\"background-color:#DFFF00 \"> energéticas</span><span style=\"background-color:#DFFF00 \"> crescentes</span><span style=\"background-color:#DFFF00 \"> sustentará</span><span style=\"background-color:#DFFF00 \"> a</span><span style=\"background-color:#DFFF00 \"> sua</span><span style=\"background-color:#DFFF00 \"> extracção</span><span style=\"background-color:#DFFF00 \"> e</span><span style=\"background-color:#DFFF00 \"> uso</span><span style=\"background-color:#DFFF00 \"> durante</span><span style=\"background-color:#DFFF00 \"> as</span><span style=\"background-color:#DFFF00 \"> próximas</span><span style=\"background-color:#DFFF00 \"> décadas</span> ."
      ],
      "text/plain": [
       "<IPython.core.display.HTML object>"
      ]
     },
     "metadata": {},
     "output_type": "display_data"
    },
    {
     "name": "stdout",
     "output_type": "stream",
     "text": [
      "____________________________________432___________________________________________________\n",
      "\u001b[94m\u001b[1m🤓 OK\u001b[0m\n"
     ]
    },
    {
     "data": {
      "text/html": [
       " <span style=\"background-color:#e0e0e0 \">-3.4042652</span> <span style=\"background-color:#DFFF00 \">6.2184954</span> <span style=\"background-color:#9FE2BF \">14.638521</span>"
      ],
      "text/plain": [
       "<IPython.core.display.HTML object>"
      ]
     },
     "metadata": {},
     "output_type": "display_data"
    },
    {
     "data": {
      "text/html": [
       " <span style=\"background-color:#9FE2BF \">They</span><span style=\"background-color:#9FE2BF \"> point</span><span style=\"background-color:#9FE2BF \"> to</span> pivotal moments when the left took advantage of Britain 's lack of a written constitution to <span style=\"background-color:#DFFF00 \">expropriate</span><span style=\"background-color:#DFFF00 \"> private</span><span style=\"background-color:#DFFF00 \"> medical</span><span style=\"background-color:#DFFF00 \"> business</span><span style=\"background-color:#DFFF00 \"> and</span> create its National Health Service and other such institutions ."
      ],
      "text/plain": [
       "<IPython.core.display.HTML object>"
      ]
     },
     "metadata": {},
     "output_type": "display_data"
    },
    {
     "data": {
      "text/html": [
       " <span style=\"background-color:#9FE2BF \">Sublinham</span> momentos charneira , como quando a esquerda se aproveitou da falta de uma Constituição escrita no Reino Unido para <span style=\"background-color:#DFFF00 \">nacionalizar</span><span style=\"background-color:#DFFF00 \"> o</span><span style=\"background-color:#DFFF00 \"> sector</span><span style=\"background-color:#DFFF00 \"> da</span><span style=\"background-color:#DFFF00 \"> saúde</span><span style=\"background-color:#DFFF00 \"> e</span> criar o Serviço Nacional de Saúde ( NHS , National Health Service ) e outras instituições afins ."
      ],
      "text/plain": [
       "<IPython.core.display.HTML object>"
      ]
     },
     "metadata": {},
     "output_type": "display_data"
    },
    {
     "name": "stdout",
     "output_type": "stream",
     "text": [
      "____________________________________440___________________________________________________\n",
      "\u001b[94m\u001b[1m🤓 OK\u001b[0m\n"
     ]
    },
    {
     "data": {
      "text/html": [
       " <span style=\"background-color:#e0e0e0 \">-1.5570594</span> <span style=\"background-color:#DFFF00 \">7.4476757</span> <span style=\"background-color:#9FE2BF \">10.763319</span>"
      ],
      "text/plain": [
       "<IPython.core.display.HTML object>"
      ]
     },
     "metadata": {},
     "output_type": "display_data"
    },
    {
     "data": {
      "text/html": [
       " In that sense , the goals refute the view that the best way to maximize prosperity and security is to put <span style=\"background-color:#9FE2BF \">one</span><span style=\"background-color:#9FE2BF \"> 's</span><span style=\"background-color:#9FE2BF \"> own</span><span style=\"background-color:#9FE2BF \"> country</span><span style=\"background-color:#9FE2BF \"> and</span> its interests first , <span style=\"background-color:#DFFF00 \">while</span><span style=\"background-color:#DFFF00 \"> walling</span><span style=\"background-color:#DFFF00 \"> it</span><span style=\"background-color:#DFFF00 \"> off</span><span style=\"background-color:#DFFF00 \"> from</span><span style=\"background-color:#DFFF00 \"> its</span><span style=\"background-color:#DFFF00 \"> neighbors</span><span style=\"background-color:#DFFF00 \"> .</span>"
      ],
      "text/plain": [
       "<IPython.core.display.HTML object>"
      ]
     },
     "metadata": {},
     "output_type": "display_data"
    },
    {
     "data": {
      "text/html": [
       " Nesse sentido , os objectivos contradizem a perspectiva de que a melhor maneira de maximizar a prosperidade e a segurança consiste em colocar os seus interesses , <span style=\"background-color:#9FE2BF \">e</span><span style=\"background-color:#9FE2BF \"> os</span><span style=\"background-color:#9FE2BF \"> do</span><span style=\"background-color:#9FE2BF \"> seu</span><span style=\"background-color:#9FE2BF \"> país</span><span style=\"background-color:#9FE2BF \"> ,</span> em primeiro lugar , <span style=\"background-color:#DFFF00 \">enquanto</span><span style=\"background-color:#DFFF00 \"> se</span><span style=\"background-color:#DFFF00 \"> isola</span><span style=\"background-color:#DFFF00 \"> dos</span><span style=\"background-color:#DFFF00 \"> seus</span><span style=\"background-color:#DFFF00 \"> vizinhos</span><span style=\"background-color:#DFFF00 \"> .</span>"
      ],
      "text/plain": [
       "<IPython.core.display.HTML object>"
      ]
     },
     "metadata": {},
     "output_type": "display_data"
    },
    {
     "name": "stdout",
     "output_type": "stream",
     "text": [
      "____________________________________442___________________________________________________\n",
      "\u001b[94m\u001b[1m🤓 OK\u001b[0m\n"
     ]
    },
    {
     "data": {
      "text/html": [
       " <span style=\"background-color:#e0e0e0 \">-8.453592</span> <span style=\"background-color:#DFFF00 \">12.732701</span>"
      ],
      "text/plain": [
       "<IPython.core.display.HTML object>"
      ]
     },
     "metadata": {},
     "output_type": "display_data"
    },
    {
     "data": {
      "text/html": [
       " French Gaullists did not face persecution ; several Egyptian opposition figures have already vowed that Morsi <span style=\"background-color:#DFFF00 \">and</span><span style=\"background-color:#DFFF00 \"> the</span><span style=\"background-color:#DFFF00 \"> Muslim</span><span style=\"background-color:#DFFF00 \"> Brothers</span><span style=\"background-color:#DFFF00 \"> will</span> ."
      ],
      "text/plain": [
       "<IPython.core.display.HTML object>"
      ]
     },
     "metadata": {},
     "output_type": "display_data"
    },
    {
     "data": {
      "text/html": [
       " Os gaullistas franceses não enfrentaram a perseguição ; várias figuras da oposição egípcia já prometeram que Morsi <span style=\"background-color:#DFFF00 \">e</span><span style=\"background-color:#DFFF00 \"> a</span><span style=\"background-color:#DFFF00 \"> Irmandade</span><span style=\"background-color:#DFFF00 \"> muçulmana</span><span style=\"background-color:#DFFF00 \"> irão</span><span style=\"background-color:#DFFF00 \"> enfrentá-la</span> ."
      ],
      "text/plain": [
       "<IPython.core.display.HTML object>"
      ]
     },
     "metadata": {},
     "output_type": "display_data"
    },
    {
     "name": "stdout",
     "output_type": "stream",
     "text": [
      "____________________________________446___________________________________________________\n",
      "\u001b[94m\u001b[1m🤓 OK\u001b[0m\n"
     ]
    },
    {
     "data": {
      "text/html": [
       " <span style=\"background-color:#e0e0e0 \">-10.0216055</span> <span style=\"background-color:#DFFF00 \">13.137651</span>"
      ],
      "text/plain": [
       "<IPython.core.display.HTML object>"
      ]
     },
     "metadata": {},
     "output_type": "display_data"
    },
    {
     "data": {
      "text/html": [
       " First , the public and private sectors <span style=\"background-color:#DFFF00 \">must</span><span style=\"background-color:#DFFF00 \"> ramp</span><span style=\"background-color:#DFFF00 \"> up</span><span style=\"background-color:#DFFF00 \"> investment</span> in research and development , as well as in the extension and adoption of effective , accessible , and affordable technologies - whether conventional , intermediate , or new platform - according to each country or region 's individual needs ."
      ],
      "text/plain": [
       "<IPython.core.display.HTML object>"
      ]
     },
     "metadata": {},
     "output_type": "display_data"
    },
    {
     "data": {
      "text/html": [
       " Primeiro , o sector público e o sector privado <span style=\"background-color:#DFFF00 \">devem</span><span style=\"background-color:#DFFF00 \"> aumentar</span><span style=\"background-color:#DFFF00 \"> o</span><span style=\"background-color:#DFFF00 \"> investimento</span> na investigação e no desenvolvimento , bem como na extensão e adopção de tecnologias eficazes , acessíveis e de baixo custo - sejam plataformas convencionais , intermediárias , ou novas - de acordo com as necessidades individuais de cada país ou região ."
      ],
      "text/plain": [
       "<IPython.core.display.HTML object>"
      ]
     },
     "metadata": {},
     "output_type": "display_data"
    },
    {
     "name": "stdout",
     "output_type": "stream",
     "text": [
      "____________________________________447___________________________________________________\n",
      "\u001b[94m\u001b[1m🤓 OK\u001b[0m\n"
     ]
    },
    {
     "data": {
      "text/html": [
       " <span style=\"background-color:#e0e0e0 \">-15.596787</span> <span style=\"background-color:#DFFF00 \">7.3723316</span> <span style=\"background-color:#9FE2BF \">8.694861</span> <span style=\"background-color:#CCCCFF \">9.7717705</span>"
      ],
      "text/plain": [
       "<IPython.core.display.HTML object>"
      ]
     },
     "metadata": {},
     "output_type": "display_data"
    },
    {
     "data": {
      "text/html": [
       " Regardless of longstanding disagreements over how cross-border freshwater resources should be allocated and managed , and <span style=\"background-color:#9FE2BF \">understandable</span> preferences by governments and water professionals to rely on basin agreements <span style=\"background-color:#DFFF00 \">rather</span><span style=\"background-color:#DFFF00 \"> than</span><span style=\"background-color:#DFFF00 \"> on</span><span style=\"background-color:#DFFF00 \"> international</span><span style=\"background-color:#DFFF00 \"> legal</span><span style=\"background-color:#DFFF00 \"> instruments</span><span style=\"background-color:#DFFF00 \"> ,</span><span style=\"background-color:#DFFF00 \"> that</span><span style=\"background-color:#DFFF00 \"> half-century</span><span style=\"background-color:#DFFF00 \"> wait</span><span style=\"background-color:#DFFF00 \"> can</span> be explained only by a lack of political leadership ."
      ],
      "text/plain": [
       "<IPython.core.display.HTML object>"
      ]
     },
     "metadata": {},
     "output_type": "display_data"
    },
    {
     "data": {
      "text/html": [
       " Independentemente dos desentendimentos de longa data sobre a forma de repartir e gerir os recursos de água doce transfronteiriços e das preferências <span style=\"background-color:#9FE2BF \">compreensíveis</span> por parte dos governos e profissionais do sector da água <span style=\"background-color:#CCCCFF \">no</span><span style=\"background-color:#CCCCFF \"> sentido</span> de dependerem de acordos relativos às bacias , <span style=\"background-color:#DFFF00 \">e</span><span style=\"background-color:#DFFF00 \"> não</span><span style=\"background-color:#DFFF00 \"> de</span><span style=\"background-color:#DFFF00 \"> instrumentos</span><span style=\"background-color:#DFFF00 \"> jurídicos</span><span style=\"background-color:#DFFF00 \"> internacionais</span><span style=\"background-color:#DFFF00 \"> ,</span><span style=\"background-color:#DFFF00 \"> estes</span><span style=\"background-color:#DFFF00 \"> cinquenta</span><span style=\"background-color:#DFFF00 \"> anos</span><span style=\"background-color:#DFFF00 \"> de</span><span style=\"background-color:#DFFF00 \"> espera</span><span style=\"background-color:#DFFF00 \"> podem</span> explicar-se apenas pela falta de liderança política ."
      ],
      "text/plain": [
       "<IPython.core.display.HTML object>"
      ]
     },
     "metadata": {},
     "output_type": "display_data"
    },
    {
     "name": "stdout",
     "output_type": "stream",
     "text": [
      "____________________________________458___________________________________________________\n",
      "\u001b[94m\u001b[1m🤓 OK\u001b[0m\n"
     ]
    },
    {
     "data": {
      "text/html": [
       " <span style=\"background-color:#e0e0e0 \">-2.06658</span> <span style=\"background-color:#DFFF00 \">6.1851215</span> <span style=\"background-color:#9FE2BF \">8.324697</span> <span style=\"background-color:#CCCCFF \">9.529554</span>"
      ],
      "text/plain": [
       "<IPython.core.display.HTML object>"
      ]
     },
     "metadata": {},
     "output_type": "display_data"
    },
    {
     "data": {
      "text/html": [
       " In the meantime , Greece 's regulatory authorities would be keeping a watchful eye over commercial lending practices , while a debt brake would prevent our government from indulging <span style=\"background-color:#9FE2BF \">in</span><span style=\"background-color:#9FE2BF \"> old</span><span style=\"background-color:#9FE2BF \"> ,</span><span style=\"background-color:#9FE2BF \"> bad</span> habits , ensuring that our <span style=\"background-color:#DFFF00 \">state</span> never <span style=\"background-color:#CCCCFF \">again</span> slips into primary deficits ."
      ],
      "text/plain": [
       "<IPython.core.display.HTML object>"
      ]
     },
     "metadata": {},
     "output_type": "display_data"
    },
    {
     "data": {
      "text/html": [
       " Entretanto , as autoridades reguladoras gregas estariam atentas às práticas comerciais de empréstimo enquanto o endividamento seria travado a fim de impedir o governo de <span style=\"background-color:#CCCCFF \">voltar</span><span style=\"background-color:#CCCCFF \"> a</span> ceder <span style=\"background-color:#9FE2BF \">aos</span><span style=\"background-color:#9FE2BF \"> antigos</span><span style=\"background-color:#9FE2BF \"> maus</span> hábitos e garantir que o nosso <span style=\"background-color:#DFFF00 \">país</span> não volte a cair numa situação de défices primários ."
      ],
      "text/plain": [
       "<IPython.core.display.HTML object>"
      ]
     },
     "metadata": {},
     "output_type": "display_data"
    },
    {
     "name": "stdout",
     "output_type": "stream",
     "text": [
      "____________________________________459___________________________________________________\n",
      "\u001b[94m\u001b[1m🤓 OK\u001b[0m\n"
     ]
    },
    {
     "data": {
      "text/html": [
       " <span style=\"background-color:#e0e0e0 \">-2.7150574</span>"
      ],
      "text/plain": [
       "<IPython.core.display.HTML object>"
      ]
     },
     "metadata": {},
     "output_type": "display_data"
    },
    {
     "data": {
      "text/html": [
       " <span style=\"background-color:#DFFF00 \">Childhood</span><span style=\"background-color:#DFFF00 \"> should</span><span style=\"background-color:#DFFF00 \"> be</span><span style=\"background-color:#DFFF00 \"> spent</span><span style=\"background-color:#DFFF00 \"> learning</span><span style=\"background-color:#DFFF00 \"> how</span><span style=\"background-color:#DFFF00 \"> to</span><span style=\"background-color:#DFFF00 \"> read</span><span style=\"background-color:#DFFF00 \"> ,</span><span style=\"background-color:#DFFF00 \"> write</span><span style=\"background-color:#DFFF00 \"> ,</span><span style=\"background-color:#DFFF00 \"> count</span><span style=\"background-color:#DFFF00 \"> ,</span><span style=\"background-color:#DFFF00 \"> inquire</span><span style=\"background-color:#DFFF00 \"> ,</span><span style=\"background-color:#DFFF00 \"> assess</span><span style=\"background-color:#DFFF00 \"> ,</span><span style=\"background-color:#DFFF00 \"> debate</span><span style=\"background-color:#DFFF00 \"> ,</span><span style=\"background-color:#DFFF00 \"> calculate</span><span style=\"background-color:#DFFF00 \"> ,</span><span style=\"background-color:#DFFF00 \"> empathize</span><span style=\"background-color:#DFFF00 \"> ,</span><span style=\"background-color:#DFFF00 \"> and</span><span style=\"background-color:#DFFF00 \"> set</span><span style=\"background-color:#DFFF00 \"> goals</span><span style=\"background-color:#DFFF00 \"> .</span>"
      ],
      "text/plain": [
       "<IPython.core.display.HTML object>"
      ]
     },
     "metadata": {},
     "output_type": "display_data"
    },
    {
     "data": {
      "text/html": [
       " <span style=\"background-color:#DFFF00 \">A</span><span style=\"background-color:#DFFF00 \"> infância</span><span style=\"background-color:#DFFF00 \"> deve</span><span style=\"background-color:#DFFF00 \"> ser</span><span style=\"background-color:#DFFF00 \"> passada</span><span style=\"background-color:#DFFF00 \"> a</span><span style=\"background-color:#DFFF00 \"> aprender</span><span style=\"background-color:#DFFF00 \"> a</span><span style=\"background-color:#DFFF00 \"> ler</span><span style=\"background-color:#DFFF00 \"> ,</span><span style=\"background-color:#DFFF00 \"> escrever</span><span style=\"background-color:#DFFF00 \"> ,</span><span style=\"background-color:#DFFF00 \"> fazer</span><span style=\"background-color:#DFFF00 \"> contas</span><span style=\"background-color:#DFFF00 \"> ,</span><span style=\"background-color:#DFFF00 \"> investigar</span><span style=\"background-color:#DFFF00 \"> ,</span><span style=\"background-color:#DFFF00 \"> avaliar</span><span style=\"background-color:#DFFF00 \"> ,</span><span style=\"background-color:#DFFF00 \"> debater</span><span style=\"background-color:#DFFF00 \"> ,</span><span style=\"background-color:#DFFF00 \"> calcular</span><span style=\"background-color:#DFFF00 \"> ,</span><span style=\"background-color:#DFFF00 \"> criar</span><span style=\"background-color:#DFFF00 \"> empatia</span><span style=\"background-color:#DFFF00 \"> e</span><span style=\"background-color:#DFFF00 \"> definir</span><span style=\"background-color:#DFFF00 \"> metas</span><span style=\"background-color:#DFFF00 \"> .</span>"
      ],
      "text/plain": [
       "<IPython.core.display.HTML object>"
      ]
     },
     "metadata": {},
     "output_type": "display_data"
    },
    {
     "name": "stdout",
     "output_type": "stream",
     "text": [
      "____________________________________462___________________________________________________\n",
      "\u001b[94m\u001b[1m🤓 OK\u001b[0m\n"
     ]
    },
    {
     "data": {
      "text/html": [
       " <span style=\"background-color:#e0e0e0 \">-7.475543</span> <span style=\"background-color:#DFFF00 \">13.419169</span>"
      ],
      "text/plain": [
       "<IPython.core.display.HTML object>"
      ]
     },
     "metadata": {},
     "output_type": "display_data"
    },
    {
     "data": {
      "text/html": [
       " And , for the first time in 17 years , after three consecutive defeats , the left - <span style=\"background-color:#DFFF00 \">embodied</span><span style=\"background-color:#DFFF00 \"> in</span><span style=\"background-color:#DFFF00 \"> the</span> Socialist candidate , François Hollande - will return to Élysée Palace ."
      ],
      "text/plain": [
       "<IPython.core.display.HTML object>"
      ]
     },
     "metadata": {},
     "output_type": "display_data"
    },
    {
     "data": {
      "text/html": [
       " E , pela primeira vez em 17 anos , após três derrotas consecutivas , a esquerda - <span style=\"background-color:#DFFF00 \">representada</span><span style=\"background-color:#DFFF00 \"> pelo</span> candidato socialista , François Hollande - regressará ao Élysée Palace ."
      ],
      "text/plain": [
       "<IPython.core.display.HTML object>"
      ]
     },
     "metadata": {},
     "output_type": "display_data"
    },
    {
     "name": "stdout",
     "output_type": "stream",
     "text": [
      "____________________________________465___________________________________________________\n",
      "\u001b[94m\u001b[1m🤓 OK\u001b[0m\n"
     ]
    },
    {
     "data": {
      "text/html": [
       " <span style=\"background-color:#e0e0e0 \">-10.18177</span> <span style=\"background-color:#DFFF00 \">-1.4307353</span> <span style=\"background-color:#9FE2BF \">6.8505545</span> <span style=\"background-color:#CCCCFF \">13.707649</span>"
      ],
      "text/plain": [
       "<IPython.core.display.HTML object>"
      ]
     },
     "metadata": {},
     "output_type": "display_data"
    },
    {
     "data": {
      "text/html": [
       " And , indeed , Matt Rognlie has attacked <span style=\"background-color:#9FE2BF \">(</span><span style=\"background-color:#9FE2BF \"> 4</span><span style=\"background-color:#9FE2BF \"> )</span> , arguing that the return on wealth varies inversely with the wealth-to-annual-income ratio so strongly <span style=\"background-color:#DFFF00 \">that</span><span style=\"background-color:#DFFF00 \"> ,</span><span style=\"background-color:#DFFF00 \"> paradoxically</span><span style=\"background-color:#DFFF00 \"> ,</span><span style=\"background-color:#DFFF00 \"> the</span><span style=\"background-color:#DFFF00 \"> more</span><span style=\"background-color:#DFFF00 \"> wealth</span><span style=\"background-color:#DFFF00 \"> the</span><span style=\"background-color:#DFFF00 \"> rich</span><span style=\"background-color:#DFFF00 \"> have</span><span style=\"background-color:#DFFF00 \"> ,</span><span style=\"background-color:#DFFF00 \"> the</span><span style=\"background-color:#DFFF00 \"> lower</span> <span style=\"background-color:#CCCCFF \">their</span><span style=\"background-color:#CCCCFF \"> share</span><span style=\"background-color:#CCCCFF \"> of</span><span style=\"background-color:#CCCCFF \"> total</span><span style=\"background-color:#CCCCFF \"> income</span> ."
      ],
      "text/plain": [
       "<IPython.core.display.HTML object>"
      ]
     },
     "metadata": {},
     "output_type": "display_data"
    },
    {
     "data": {
      "text/html": [
       " E , de facto , Matt Rognlie atacou <span style=\"background-color:#9FE2BF \">o</span><span style=\"background-color:#9FE2BF \"> ponto</span><span style=\"background-color:#9FE2BF \"> 4</span> , argumentando que o retorno da riqueza varia inversamente com o rácio riqueza / rendimento anual tão fortemente <span style=\"background-color:#DFFF00 \">que</span><span style=\"background-color:#DFFF00 \"> ,</span><span style=\"background-color:#DFFF00 \"> paradoxalmente</span><span style=\"background-color:#DFFF00 \"> ,</span><span style=\"background-color:#DFFF00 \"> quanto</span><span style=\"background-color:#DFFF00 \"> mais</span><span style=\"background-color:#DFFF00 \"> riqueza</span><span style=\"background-color:#DFFF00 \"> os</span><span style=\"background-color:#DFFF00 \"> ricos</span><span style=\"background-color:#DFFF00 \"> têm</span><span style=\"background-color:#DFFF00 \"> ,</span><span style=\"background-color:#DFFF00 \"> menor</span><span style=\"background-color:#DFFF00 \"> é</span><span style=\"background-color:#DFFF00 \"> a</span> <span style=\"background-color:#CCCCFF \">sua</span><span style=\"background-color:#CCCCFF \"> participação</span><span style=\"background-color:#CCCCFF \"> do</span><span style=\"background-color:#CCCCFF \"> rendimento</span><span style=\"background-color:#CCCCFF \"> total</span> ."
      ],
      "text/plain": [
       "<IPython.core.display.HTML object>"
      ]
     },
     "metadata": {},
     "output_type": "display_data"
    },
    {
     "name": "stdout",
     "output_type": "stream",
     "text": [
      "____________________________________467___________________________________________________\n",
      "\u001b[94m\u001b[1m🤓 OK\u001b[0m\n"
     ]
    },
    {
     "data": {
      "text/html": [
       " <span style=\"background-color:#e0e0e0 \">-8.727379</span> <span style=\"background-color:#DFFF00 \">6.294997</span> <span style=\"background-color:#9FE2BF \">11.631223</span>"
      ],
      "text/plain": [
       "<IPython.core.display.HTML object>"
      ]
     },
     "metadata": {},
     "output_type": "display_data"
    },
    {
     "data": {
      "text/html": [
       " The GIRL Center , <span style=\"background-color:#DFFF00 \">which</span><span style=\"background-color:#DFFF00 \"> I</span><span style=\"background-color:#DFFF00 \"> direct</span><span style=\"background-color:#DFFF00 \"> ,</span><span style=\"background-color:#DFFF00 \"> aims</span><span style=\"background-color:#DFFF00 \"> to</span><span style=\"background-color:#DFFF00 \"> make</span><span style=\"background-color:#DFFF00 \"> the</span><span style=\"background-color:#DFFF00 \"> most</span><span style=\"background-color:#DFFF00 \"> of</span><span style=\"background-color:#DFFF00 \"> the</span><span style=\"background-color:#DFFF00 \"> world</span><span style=\"background-color:#DFFF00 \"> 's</span><span style=\"background-color:#DFFF00 \"> investments</span><span style=\"background-color:#DFFF00 \"> in</span><span style=\"background-color:#DFFF00 \"> girls</span><span style=\"background-color:#DFFF00 \"> ,</span><span style=\"background-color:#DFFF00 \"> both</span> by supporting evidence-based policies and <span style=\"background-color:#9FE2BF \">by</span><span style=\"background-color:#9FE2BF \"> aligning</span> the goals and priorities of various stakeholders ."
      ],
      "text/plain": [
       "<IPython.core.display.HTML object>"
      ]
     },
     "metadata": {},
     "output_type": "display_data"
    },
    {
     "data": {
      "text/html": [
       " O Centro GIRL , <span style=\"background-color:#DFFF00 \">que</span><span style=\"background-color:#DFFF00 \"> dirijo</span><span style=\"background-color:#DFFF00 \"> ,</span><span style=\"background-color:#DFFF00 \"> pretende</span><span style=\"background-color:#DFFF00 \"> aproveitar</span><span style=\"background-color:#DFFF00 \"> ao</span><span style=\"background-color:#DFFF00 \"> máximo</span><span style=\"background-color:#DFFF00 \"> os</span><span style=\"background-color:#DFFF00 \"> investimentos</span><span style=\"background-color:#DFFF00 \"> mundiais</span><span style=\"background-color:#DFFF00 \"> nas</span><span style=\"background-color:#DFFF00 \"> jovens</span><span style=\"background-color:#DFFF00 \"> ,</span> apoiando políticas baseadas em resultados e <span style=\"background-color:#9FE2BF \">alinhando</span> os objectivos e prioridades dos vários intervenientes ."
      ],
      "text/plain": [
       "<IPython.core.display.HTML object>"
      ]
     },
     "metadata": {},
     "output_type": "display_data"
    },
    {
     "name": "stdout",
     "output_type": "stream",
     "text": [
      "____________________________________473___________________________________________________\n",
      "\u001b[94m\u001b[1m🤓 OK\u001b[0m\n"
     ]
    },
    {
     "data": {
      "text/html": [
       " <span style=\"background-color:#e0e0e0 \">-0.121914975</span> <span style=\"background-color:#DFFF00 \">4.6942244</span> <span style=\"background-color:#9FE2BF \">6.4246435</span>"
      ],
      "text/plain": [
       "<IPython.core.display.HTML object>"
      ]
     },
     "metadata": {},
     "output_type": "display_data"
    },
    {
     "data": {
      "text/html": [
       " Globalization hurt <span style=\"background-color:#DFFF00 \">lower-skill</span><span style=\"background-color:#DFFF00 \"> workers</span><span style=\"background-color:#DFFF00 \"> in</span><span style=\"background-color:#DFFF00 \"> places</span><span style=\"background-color:#DFFF00 \"> like</span> the United States , as it enabled people from faraway countries to compete for the leg-and-finger positions in the global <span style=\"background-color:#9FE2BF \">division</span> of labor ."
      ],
      "text/plain": [
       "<IPython.core.display.HTML object>"
      ]
     },
     "metadata": {},
     "output_type": "display_data"
    },
    {
     "data": {
      "text/html": [
       " A globalização prejudicou os <span style=\"background-color:#DFFF00 \">trabalhadores</span><span style=\"background-color:#DFFF00 \"> menos</span><span style=\"background-color:#DFFF00 \"> qualificados</span><span style=\"background-color:#DFFF00 \"> em</span><span style=\"background-color:#DFFF00 \"> países</span><span style=\"background-color:#DFFF00 \"> como</span> os Estados Unidos da América , uma vez que permitiu que pessoas provenientes de países distantes pudessem candidatar-se a postos de trabalho manuais na <span style=\"background-color:#9FE2BF \">divisão</span> global do trabalho ."
      ],
      "text/plain": [
       "<IPython.core.display.HTML object>"
      ]
     },
     "metadata": {},
     "output_type": "display_data"
    },
    {
     "name": "stdout",
     "output_type": "stream",
     "text": [
      "____________________________________477___________________________________________________\n",
      "\u001b[94m\u001b[1m🤓 OK\u001b[0m\n"
     ]
    },
    {
     "data": {
      "text/html": [
       " <span style=\"background-color:#e0e0e0 \">-14.5082</span> <span style=\"background-color:#DFFF00 \">-12.757696</span>"
      ],
      "text/plain": [
       "<IPython.core.display.HTML object>"
      ]
     },
     "metadata": {},
     "output_type": "display_data"
    },
    {
     "data": {
      "text/html": [
       " Thanks to the Internet , it <span style=\"background-color:#DFFF00 \">,</span><span style=\"background-color:#DFFF00 \"> too</span><span style=\"background-color:#DFFF00 \"> ,</span> has begun to emerge more often ."
      ],
      "text/plain": [
       "<IPython.core.display.HTML object>"
      ]
     },
     "metadata": {},
     "output_type": "display_data"
    },
    {
     "data": {
      "text/html": [
       " Graças à Internet , <span style=\"background-color:#DFFF00 \">também</span> ele começou a emergir com maior frequência ."
      ],
      "text/plain": [
       "<IPython.core.display.HTML object>"
      ]
     },
     "metadata": {},
     "output_type": "display_data"
    },
    {
     "name": "stdout",
     "output_type": "stream",
     "text": [
      "____________________________________485___________________________________________________\n",
      "\u001b[94m\u001b[1m🤓 OK\u001b[0m\n"
     ]
    },
    {
     "data": {
      "text/html": [
       " <span style=\"background-color:#e0e0e0 \">-7.9469852</span> <span style=\"background-color:#DFFF00 \">15.192834</span>"
      ],
      "text/plain": [
       "<IPython.core.display.HTML object>"
      ]
     },
     "metadata": {},
     "output_type": "display_data"
    },
    {
     "data": {
      "text/html": [
       " Such people , as Hannah Arendt once observed , will ultimately come to <span style=\"background-color:#DFFF00 \">see</span><span style=\"background-color:#DFFF00 \"> in</span><span style=\"background-color:#DFFF00 \"> the</span><span style=\"background-color:#DFFF00 \"> commission</span> of a crime their only path into the world of law and of those who enjoy the rights the law confers ."
      ],
      "text/plain": [
       "<IPython.core.display.HTML object>"
      ]
     },
     "metadata": {},
     "output_type": "display_data"
    },
    {
     "data": {
      "text/html": [
       " Estas pessoas , tal como Hannah Arendt comentou certa vez , irão acabar por <span style=\"background-color:#DFFF00 \">encontrar</span><span style=\"background-color:#DFFF00 \"> na</span><span style=\"background-color:#DFFF00 \"> prática</span> de um crime a sua única via para o mundo das leis e daqueles que beneficiam dos direitos que as leis lhes conferem ."
      ],
      "text/plain": [
       "<IPython.core.display.HTML object>"
      ]
     },
     "metadata": {},
     "output_type": "display_data"
    }
   ],
   "source": [
    "import random\n",
    "random.seed(41)\n",
    "\n",
    "o, g = [],[]\n",
    "count = 0\n",
    "dir_='en_pt_ced'\n",
    "#dir_='en_de_ced'\n",
    "\n",
    "meta_id, meta_lbl, out_src, out_tgt = f'for_user_study/{dir_}/meta_id', f'for_user_study/{dir_}/meta_lbl', f'for_user_study/{dir_}/src', f'for_user_study/{dir_}/tgt'\n",
    "original_scores, final_scores =[], []\n",
    "\n",
    "bad, explained =0, 0\n",
    "no_highlights_ok = 0\n",
    "halluci, no_halluci= 0, 0\n",
    "\n",
    "lbls = open(f'outputs/test.2022.pt-en.label', 'r').readlines()\n",
    "#lbls = open(f'outputs/test.2022.en-de.label', 'r').readlines()\n",
    "diffs = []\n",
    "original_count = 0\n",
    "original_scores_ced = []\n",
    "gpt_count = 0\n",
    "bad_num, num_diff, total = 0, 0, 0\n",
    "for file_ in ['en_pt_ced_test_missing_paired_phrases_reward_pos']:\n",
    "\n",
    "    with open(f'outputs/{file_}', 'r') as out_:\n",
    "        c = 0\n",
    "        lines = out_.readlines()\n",
    "        pop = len(lines)\n",
    "        sample = random.sample(range(0, len(lines)), len(lines))\n",
    "        #sample = random.sample(range(1, len(lines)), 100)\n",
    "        #print(sample)\n",
    "        for id_, line in enumerate(lines):\n",
    "            \n",
    "            #if id_ not in sample:\n",
    "            #    continue\n",
    "            lbl =lbls[id_].rstrip()\n",
    "            #lbl = 'original'\n",
    "            scores, score_color = [], []\n",
    "                \n",
    "            line = line.split('\\t')\n",
    "            \n",
    "            try:\n",
    "                raw_a = np.array([float(x) for x in line[5].split(' ')])\n",
    "                raw_b = np.array([float(x) for x in line[6].split(' ')])\n",
    "            except IndexError:\n",
    "                continue\n",
    "                #print('Problem')\n",
    "            \n",
    "            if len(line[0].split(' ')) < 15:\n",
    "                continue\n",
    "            total+=1\n",
    "        \n",
    "            original_score = float(line[4])\n",
    "            revisions = int(line[5])\n",
    "            original_scores.append(original_score)        \n",
    "            previous_score = original_score\n",
    "            expl_a = [0] * len(line[0].split(' '))\n",
    "            expl_b = [0] * len(line[1].split(' '))\n",
    "                    \n",
    "            scores.append(str(original_score))\n",
    "            score_color = '1'\n",
    "                    \n",
    "           \n",
    "            for i in range(revisions):                        \n",
    "                score = line[5 + 3*i + 1]               \n",
    "                #if float(score) - float(previous_score) < 5:\n",
    "                #if float(score) - float(previous_score) < 2 or original_score > 10:\n",
    "                #    break\n",
    "                if i == 0:\n",
    "                    bar = 1\n",
    "                else:\n",
    "                    bar = 1\n",
    "                if float(previous_score) > 10:\n",
    "                    break\n",
    "                if float(score) - float(previous_score) < bar or original_score > 10:\n",
    "                    break\n",
    "                else:\n",
    "                    #lbl='chatGPT_paraphrase'\n",
    "                    if i==0:\n",
    "                        count+=1\n",
    "                expl_a = add_lists(expl_a, [((i +1)*int(a)) for a in line[5 + 3*i + 2].split(' ')])\n",
    "                expl_b = add_lists(expl_b, [((i +1)*int(a)) for a in line[5 + 3*i + 3].split(' ')])\n",
    "    \n",
    "                previous_score = score\n",
    "                scores.append(str(score))\n",
    "                score_color += f' {str(i+2)}'\n",
    "                \n",
    "            final_scores.append(float(scores[-1]))\n",
    "            diff = float(scores[-1]) - float(original_score) \n",
    "\n",
    "                        \n",
    "            s_ = 0\n",
    "            if diff <=0: \n",
    "                if float(scores[0]) < 0:\n",
    "                    expl_a =  [1]*len(line[0])\n",
    "                    expl_b =  [1]*len(line[1])\n",
    "                #continue\n",
    "                \n",
    "            en_num = [int(i) for i in line[0].split() if i.isdigit()]\n",
    "            nen_num = [int(i) for i in line[1].split() if i.isdigit()]\n",
    "\n",
    "            if lbl == 'BAD':\n",
    "                continue\n",
    "            if original_score > 0:\n",
    "                continue\n",
    "            else:\n",
    "                bad_num +=1\n",
    "                src_num = re.findall(r'\\d+', line[0])\n",
    "                tgt_num = re.findall(r'\\d+', line[1])\n",
    "                if set(src_num) != set(tgt_num):\n",
    "                    continue\n",
    "            num_diff +=1\n",
    "            original_scores_ced.append(float(original_score))\n",
    "            print(f'____________________________________{id_}___________________________________________________')\n",
    "            \n",
    "            if lbl == 'BAD' or lbl=='1': \n",
    "                if ([a.isupper() for a in line[0]].count(True))/len(line[0]) > 0.5 or '� � ' in line[0]:\n",
    "                    halluci+=1\n",
    "                #continue\n",
    "                if set(en_num) != set(nen_num) and sum(expl_a)==0 and sum(expl_b)==0:\n",
    "                    print('Numeric difference!!')\n",
    "                    #print(en_num)\n",
    "                    #print(nen_num)\n",
    "                    explained+=1\n",
    "                    #continue\n",
    "                #print(nen_num)\n",
    "                bad+=1\n",
    "                if sum(expl_a) !=0:\n",
    "                    explained+=1\n",
    "                print(bcolors.FAIL + bcolors.BOLD + \"😤 😠 😡 🤬  DETACHED HALLUCINATION\" + bcolors.ENDC)\n",
    "                print(diff)\n",
    "            else:\n",
    "                if ([a.isupper() for a in line[0]].count(True))/len(line[0]) <= 0.5 or '� � ' not in line[0]:\n",
    "                    no_halluci+=1\n",
    "\n",
    "                if sum(expl_a) + sum(expl_b) ==0:\n",
    "                    no_highlights_ok+=1\n",
    "                #continue\n",
    "                print(bcolors.OKBLUE + bcolors.BOLD + \"🤓 OK\" + bcolors.ENDC)\n",
    "            \n",
    "            #print(c)\n",
    "\n",
    "            \n",
    "            display_HTML(' '.join(scores), ' '.join(score_color.split(' ')))            \n",
    "            diffs.append(diff)\n",
    "            \n",
    "            _, source_text = display_HTML(line[0], ' '.join([str(x) for x in expl_a]), offset=True)\n",
    "            _, target_text = display_HTML(line[1], ' '.join([str(x) for x in expl_b]), offset=True) \n",
    "            \n",
    "            \n",
    "            if lbl == 'original':\n",
    "                original_count +=1\n",
    "            else:\n",
    "                gpt_count += 1\n",
    "            if original_count > 30 and lbl=='original':\n",
    "                continue\n",
    "                \n",
    "            c+=1\n",
    "            \n",
    "            o.append(lbl)\n",
    "            continue\n",
    "            meta_id_file = open(f'{meta_id}_{c}.txt', 'w')\n",
    "            meta_lbl_file = open(f'{meta_lbl}_{c}.txt', 'w')\n",
    "            out_src_file = open(f'{out_src}_{c}.txt', 'w')\n",
    "            out_tgt_file = open(f'{out_tgt}_{c}.txt', 'w')\n",
    "\n",
    "            meta_id_file.write(f'{id_}')\n",
    "            meta_lbl_file.write(f'{lbl}')\n",
    "            out_src_file.write(f'{source_text}')\n",
    "            out_tgt_file.write(f'{target_text}')\n",
    "\n",
    "            meta_id_file.close()\n",
    "            meta_lbl_file.close()\n",
    "            out_src_file.close()\n",
    "            out_tgt_file.close()\n",
    "            "
   ]
  },
  {
   "cell_type": "code",
   "execution_count": 16,
   "id": "c8136fc6",
   "metadata": {},
   "outputs": [
    {
     "name": "stdout",
     "output_type": "stream",
     "text": [
      "____________________________________0___________________________________________________\n",
      "\u001b[94m\u001b[1m🤓 OK\u001b[0m\n"
     ]
    },
    {
     "data": {
      "text/html": [
       " <span style=\"background-color:#e0e0e0 \">9.981502</span> <span style=\"background-color:#DFFF00 \">14.12752</span>"
      ],
      "text/plain": [
       "<IPython.core.display.HTML object>"
      ]
     },
     "metadata": {},
     "output_type": "display_data"
    },
    {
     "data": {
      "text/html": [
       " The philosophy of control and reciprocity that until now has characterized the eurozone 's approach to its crisis of governance needs to be replaced by one of solidarity and all that <span style=\"background-color:#DFFF00 \">follows</span><span style=\"background-color:#DFFF00 \"> from</span><span style=\"background-color:#DFFF00 \"> it</span> ."
      ],
      "text/plain": [
       "<IPython.core.display.HTML object>"
      ]
     },
     "metadata": {},
     "output_type": "display_data"
    },
    {
     "data": {
      "text/html": [
       " A filosofia de controlo e de reciprocidade , que até agora tem caracterizado a abordagem da zona euro para a sua crise de governação , precisa de ser substituída por uma filosofia de solidariedade e de tudo que <span style=\"background-color:#DFFF00 \">daí</span><span style=\"background-color:#DFFF00 \"> advenha</span> ."
      ],
      "text/plain": [
       "<IPython.core.display.HTML object>"
      ]
     },
     "metadata": {},
     "output_type": "display_data"
    },
    {
     "name": "stdout",
     "output_type": "stream",
     "text": [
      "____________________________________2___________________________________________________\n",
      "\u001b[94m\u001b[1m🤓 OK\u001b[0m\n"
     ]
    },
    {
     "data": {
      "text/html": [
       " <span style=\"background-color:#e0e0e0 \">4.085145</span> <span style=\"background-color:#DFFF00 \">11.466947</span>"
      ],
      "text/plain": [
       "<IPython.core.display.HTML object>"
      ]
     },
     "metadata": {},
     "output_type": "display_data"
    },
    {
     "data": {
      "text/html": [
       " At the same time , in order to ensure continued progress toward financial inclusion , representatives from developing and emerging economies must play a greater role in shaping future standards ."
      ],
      "text/plain": [
       "<IPython.core.display.HTML object>"
      ]
     },
     "metadata": {},
     "output_type": "display_data"
    },
    {
     "data": {
      "text/html": [
       " Ao mesmo tempo , a fim de garantir o progresso contínuo em direcção à inclusão financeira , os representantes dos <span style=\"background-color:#DFFF00 \">países</span><span style=\"background-color:#DFFF00 \"> em</span><span style=\"background-color:#DFFF00 \"> vias</span><span style=\"background-color:#DFFF00 \"> de</span> desenvolvimento e das economias emergentes devem assumir um maior protagonismo na formação de futuras normas ."
      ],
      "text/plain": [
       "<IPython.core.display.HTML object>"
      ]
     },
     "metadata": {},
     "output_type": "display_data"
    },
    {
     "name": "stdout",
     "output_type": "stream",
     "text": [
      "____________________________________3___________________________________________________\n",
      "\u001b[91m\u001b[1m😤 😠 😡 🤬  DETACHED HALLUCINATION\u001b[0m\n",
      "7.477621\n"
     ]
    },
    {
     "data": {
      "text/html": [
       " <span style=\"background-color:#e0e0e0 \">7.772018</span> <span style=\"background-color:#DFFF00 \">15.249639</span>"
      ],
      "text/plain": [
       "<IPython.core.display.HTML object>"
      ]
     },
     "metadata": {},
     "output_type": "display_data"
    },
    {
     "data": {
      "text/html": [
       " As leaders in China , Mexico , and many other countries have already discovered , an economy that includes everyone <span style=\"background-color:#DFFF00 \">benefits</span> all ."
      ],
      "text/plain": [
       "<IPython.core.display.HTML object>"
      ]
     },
     "metadata": {},
     "output_type": "display_data"
    },
    {
     "data": {
      "text/html": [
       " De acordo com o que os líderes da China , Quénia , México e de muitos outros países já descobriram , uma economia que inclui todos <span style=\"background-color:#DFFF00 \">é</span><span style=\"background-color:#DFFF00 \"> benéfica</span><span style=\"background-color:#DFFF00 \"> para</span> todos ."
      ],
      "text/plain": [
       "<IPython.core.display.HTML object>"
      ]
     },
     "metadata": {},
     "output_type": "display_data"
    },
    {
     "name": "stdout",
     "output_type": "stream",
     "text": [
      "____________________________________5___________________________________________________\n",
      "\u001b[94m\u001b[1m🤓 OK\u001b[0m\n"
     ]
    },
    {
     "data": {
      "text/html": [
       " <span style=\"background-color:#e0e0e0 \">15.591385</span>"
      ],
      "text/plain": [
       "<IPython.core.display.HTML object>"
      ]
     },
     "metadata": {},
     "output_type": "display_data"
    },
    {
     "data": {
      "text/html": [
       " After a victory by the left-wing Syriza party , Greece 's new government announces that it wants to renegotiate the terms of its agreement with the International Monetary Fund and the European Union ."
      ],
      "text/plain": [
       "<IPython.core.display.HTML object>"
      ]
     },
     "metadata": {},
     "output_type": "display_data"
    },
    {
     "data": {
      "text/html": [
       " Depois da vitória do partido da esquerda Syriza , o novo governo da Grécia anuncia que quer renegociar os termos de seu acordo com o Fundo Monetário Internacional e com a União Europeia ."
      ],
      "text/plain": [
       "<IPython.core.display.HTML object>"
      ]
     },
     "metadata": {},
     "output_type": "display_data"
    },
    {
     "name": "stdout",
     "output_type": "stream",
     "text": [
      "____________________________________7___________________________________________________\n",
      "\u001b[91m\u001b[1m😤 😠 😡 🤬  DETACHED HALLUCINATION\u001b[0m\n",
      "2.0173119999999995\n"
     ]
    },
    {
     "data": {
      "text/html": [
       " <span style=\"background-color:#e0e0e0 \">4.266522</span> <span style=\"background-color:#DFFF00 \">6.283834</span>"
      ],
      "text/plain": [
       "<IPython.core.display.HTML object>"
      ]
     },
     "metadata": {},
     "output_type": "display_data"
    },
    {
     "data": {
      "text/html": [
       " At nearly every turn , on <span style=\"background-color:#DFFF00 \">just</span><span style=\"background-color:#DFFF00 \"> about</span> every major issue , national governments are failing to deliver solutions , while city leaders continue to stifle public confidence ."
      ],
      "text/plain": [
       "<IPython.core.display.HTML object>"
      ]
     },
     "metadata": {},
     "output_type": "display_data"
    },
    {
     "data": {
      "text/html": [
       " Em quase todas as vezes , em <span style=\"background-color:#DFFF00 \">praticamente</span> todas as questões importantes , os governos nacionais não estão a conseguir fornecer soluções , enquanto os dirigentes municipais continuam a inspirar confiança pública ."
      ],
      "text/plain": [
       "<IPython.core.display.HTML object>"
      ]
     },
     "metadata": {},
     "output_type": "display_data"
    },
    {
     "name": "stdout",
     "output_type": "stream",
     "text": [
      "____________________________________8___________________________________________________\n",
      "\u001b[94m\u001b[1m🤓 OK\u001b[0m\n"
     ]
    },
    {
     "data": {
      "text/html": [
       " <span style=\"background-color:#e0e0e0 \">5.0371075</span> <span style=\"background-color:#DFFF00 \">7.7992444</span> <span style=\"background-color:#9FE2BF \">10.382297</span>"
      ],
      "text/plain": [
       "<IPython.core.display.HTML object>"
      ]
     },
     "metadata": {},
     "output_type": "display_data"
    },
    {
     "data": {
      "text/html": [
       " And perhaps the most important risk stems from filling the atmosphere with greenhouse gases at <span style=\"background-color:#DFFF00 \">a</span><span style=\"background-color:#DFFF00 \"> rate</span> higher than at any time in the last 66 million years ."
      ],
      "text/plain": [
       "<IPython.core.display.HTML object>"
      ]
     },
     "metadata": {},
     "output_type": "display_data"
    },
    {
     "data": {
      "text/html": [
       " E talvez o risco mais importante tenha origem no enchimento da atmosfera com gases com <span style=\"background-color:#9FE2BF \">efeito</span><span style=\"background-color:#9FE2BF \"> de</span> estufa , <span style=\"background-color:#DFFF00 \">com</span><span style=\"background-color:#DFFF00 \"> o</span><span style=\"background-color:#DFFF00 \"> valor</span> mais elevado alguma vez registado nos últimos 66 milhões de anos ."
      ],
      "text/plain": [
       "<IPython.core.display.HTML object>"
      ]
     },
     "metadata": {},
     "output_type": "display_data"
    },
    {
     "name": "stdout",
     "output_type": "stream",
     "text": [
      "____________________________________9___________________________________________________\n",
      "\u001b[94m\u001b[1m🤓 OK\u001b[0m\n"
     ]
    },
    {
     "data": {
      "text/html": [
       " <span style=\"background-color:#e0e0e0 \">1.6283003</span> <span style=\"background-color:#DFFF00 \">5.901571</span> <span style=\"background-color:#9FE2BF \">9.020063</span>"
      ],
      "text/plain": [
       "<IPython.core.display.HTML object>"
      ]
     },
     "metadata": {},
     "output_type": "display_data"
    },
    {
     "data": {
      "text/html": [
       " This <span style=\"background-color:#DFFF00 \">,</span><span style=\"background-color:#DFFF00 \"> coupled</span> with the lack of a public safety <span style=\"background-color:#9FE2BF \">net</span> , makes health problems a leading source of economic hardship , even for middle-class families ."
      ],
      "text/plain": [
       "<IPython.core.display.HTML object>"
      ]
     },
     "metadata": {},
     "output_type": "display_data"
    },
    {
     "data": {
      "text/html": [
       " Esta <span style=\"background-color:#DFFF00 \">situação</span><span style=\"background-color:#DFFF00 \"> ,</span><span style=\"background-color:#DFFF00 \"> aliada</span> à inexistência de uma <span style=\"background-color:#9FE2BF \">rede</span> de segurança pública , torna os problemas de saúde na principal fonte de dificuldades económicas , até para as famílias de classe média ."
      ],
      "text/plain": [
       "<IPython.core.display.HTML object>"
      ]
     },
     "metadata": {},
     "output_type": "display_data"
    },
    {
     "name": "stdout",
     "output_type": "stream",
     "text": [
      "____________________________________10___________________________________________________\n",
      "\u001b[91m\u001b[1m😤 😠 😡 🤬  DETACHED HALLUCINATION\u001b[0m\n",
      "16.8362063\n"
     ]
    },
    {
     "data": {
      "text/html": [
       " <span style=\"background-color:#e0e0e0 \">-7.5609403</span> <span style=\"background-color:#DFFF00 \">6.862149</span> <span style=\"background-color:#9FE2BF \">9.275266</span>"
      ],
      "text/plain": [
       "<IPython.core.display.HTML object>"
      ]
     },
     "metadata": {},
     "output_type": "display_data"
    },
    {
     "data": {
      "text/html": [
       " Globalization allows these different functions to <span style=\"background-color:#DFFF00 \">be</span> carried out in different places , thereby allowing countries to participate earlier , when they still have few locally <span style=\"background-color:#9FE2BF \">available</span> capabilities ."
      ],
      "text/plain": [
       "<IPython.core.display.HTML object>"
      ]
     },
     "metadata": {},
     "output_type": "display_data"
    },
    {
     "data": {
      "text/html": [
       " A globalização permite que todas estas diferentes funções sejam desempenhadas em lugares diferentes , permitindo assim aos países participar mais cedo , quando ainda têm poucas capacidades locais <span style=\"background-color:#9FE2BF \">disponíveis</span> , que poderão <span style=\"background-color:#DFFF00 \">depois</span><span style=\"background-color:#DFFF00 \"> ser</span><span style=\"background-color:#DFFF00 \"> expandidas</span><span style=\"background-color:#DFFF00 \"> ao</span><span style=\"background-color:#DFFF00 \"> longo</span><span style=\"background-color:#DFFF00 \"> do</span><span style=\"background-color:#DFFF00 \"> tempo</span> ."
      ],
      "text/plain": [
       "<IPython.core.display.HTML object>"
      ]
     },
     "metadata": {},
     "output_type": "display_data"
    },
    {
     "name": "stdout",
     "output_type": "stream",
     "text": [
      "____________________________________12___________________________________________________\n",
      "\u001b[94m\u001b[1m🤓 OK\u001b[0m\n"
     ]
    },
    {
     "data": {
      "text/html": [
       " <span style=\"background-color:#e0e0e0 \">15.567221</span>"
      ],
      "text/plain": [
       "<IPython.core.display.HTML object>"
      ]
     },
     "metadata": {},
     "output_type": "display_data"
    },
    {
     "data": {
      "text/html": [
       " Globalization allows these different functions to be carried out in different places , thereby allowing countries to participate earlier , when they still have few locally available capabilities , which can then be expanded over time ."
      ],
      "text/plain": [
       "<IPython.core.display.HTML object>"
      ]
     },
     "metadata": {},
     "output_type": "display_data"
    },
    {
     "data": {
      "text/html": [
       " A globalização permite que todas estas diferentes funções sejam desempenhadas em lugares diferentes , permitindo assim aos países participar mais cedo , quando ainda têm poucas capacidades locais disponíveis , que poderão depois ser expandidas ao longo do tempo ."
      ],
      "text/plain": [
       "<IPython.core.display.HTML object>"
      ]
     },
     "metadata": {},
     "output_type": "display_data"
    },
    {
     "name": "stdout",
     "output_type": "stream",
     "text": [
      "____________________________________14___________________________________________________\n",
      "\u001b[94m\u001b[1m🤓 OK\u001b[0m\n"
     ]
    },
    {
     "data": {
      "text/html": [
       " <span style=\"background-color:#e0e0e0 \">15.584703</span>"
      ],
      "text/plain": [
       "<IPython.core.display.HTML object>"
      ]
     },
     "metadata": {},
     "output_type": "display_data"
    },
    {
     "data": {
      "text/html": [
       " The first is confrontation , which could occur directly or as a result of the US being drawn into conflicts between China and its neighbors ."
      ],
      "text/plain": [
       "<IPython.core.display.HTML object>"
      ]
     },
     "metadata": {},
     "output_type": "display_data"
    },
    {
     "data": {
      "text/html": [
       " O primeiro é o confronto , que poderia ocorrer directamente ou como resultado de os EUA serem atraídos para os conflitos entre a China e os seus vizinhos ."
      ],
      "text/plain": [
       "<IPython.core.display.HTML object>"
      ]
     },
     "metadata": {},
     "output_type": "display_data"
    },
    {
     "name": "stdout",
     "output_type": "stream",
     "text": [
      "____________________________________17___________________________________________________\n",
      "\u001b[94m\u001b[1m🤓 OK\u001b[0m\n"
     ]
    },
    {
     "data": {
      "text/html": [
       " <span style=\"background-color:#e0e0e0 \">8.959073</span> <span style=\"background-color:#DFFF00 \">15.012128</span>"
      ],
      "text/plain": [
       "<IPython.core.display.HTML object>"
      ]
     },
     "metadata": {},
     "output_type": "display_data"
    },
    {
     "data": {
      "text/html": [
       " So , in the PLAC 's <span style=\"background-color:#DFFF00 \">rewrite</span><span style=\"background-color:#DFFF00 \"> of</span> history , Heywood was murdered so that Gu could protect her son , Bo Guagua ."
      ],
      "text/plain": [
       "<IPython.core.display.HTML object>"
      ]
     },
     "metadata": {},
     "output_type": "display_data"
    },
    {
     "data": {
      "text/html": [
       " Sendo assim , a <span style=\"background-color:#DFFF00 \">versão</span><span style=\"background-color:#DFFF00 \"> da</span> história contada pela PLAC , diz que Heywood foi assassinado para que Gu pudesse proteger o seu filho , Bo Guagua ."
      ],
      "text/plain": [
       "<IPython.core.display.HTML object>"
      ]
     },
     "metadata": {},
     "output_type": "display_data"
    },
    {
     "name": "stdout",
     "output_type": "stream",
     "text": [
      "____________________________________20___________________________________________________\n",
      "\u001b[94m\u001b[1m🤓 OK\u001b[0m\n"
     ]
    },
    {
     "data": {
      "text/html": [
       " <span style=\"background-color:#e0e0e0 \">14.387888</span>"
      ],
      "text/plain": [
       "<IPython.core.display.HTML object>"
      ]
     },
     "metadata": {},
     "output_type": "display_data"
    },
    {
     "data": {
      "text/html": [
       " · Closer judicial cooperation - again aimed at encouraging mobility - in civil matters with cross-border implications , specifically concerning contracts and family law ."
      ],
      "text/plain": [
       "<IPython.core.display.HTML object>"
      ]
     },
     "metadata": {},
     "output_type": "display_data"
    },
    {
     "data": {
      "text/html": [
       " • Uma cooperação judicial mais estreita - mais uma vez com o objectivo de incentivar a mobilidade - nos assuntos civis com implicações transfronteiriças , especificamente em matéria de contratos e do direito de família ."
      ],
      "text/plain": [
       "<IPython.core.display.HTML object>"
      ]
     },
     "metadata": {},
     "output_type": "display_data"
    },
    {
     "name": "stdout",
     "output_type": "stream",
     "text": [
      "____________________________________21___________________________________________________\n",
      "\u001b[94m\u001b[1m🤓 OK\u001b[0m\n"
     ]
    },
    {
     "data": {
      "text/html": [
       " <span style=\"background-color:#e0e0e0 \">10.873777</span>"
      ],
      "text/plain": [
       "<IPython.core.display.HTML object>"
      ]
     },
     "metadata": {},
     "output_type": "display_data"
    },
    {
     "data": {
      "text/html": [
       " The world has an opportunity to reverse these trends this week , when the Marine Environment Protection Committee of the International Maritime Organization ( IMO ) meets in London ."
      ],
      "text/plain": [
       "<IPython.core.display.HTML object>"
      ]
     },
     "metadata": {},
     "output_type": "display_data"
    },
    {
     "data": {
      "text/html": [
       " O mundo tem a oportunidade de inverter estas tendências esta semana quando o Comité para a Protecção do Meio Marinho da Organização Marítima Internacional ( OMI ) se reunir em Londres ."
      ],
      "text/plain": [
       "<IPython.core.display.HTML object>"
      ]
     },
     "metadata": {},
     "output_type": "display_data"
    },
    {
     "name": "stdout",
     "output_type": "stream",
     "text": [
      "____________________________________23___________________________________________________\n",
      "\u001b[94m\u001b[1m🤓 OK\u001b[0m\n"
     ]
    },
    {
     "data": {
      "text/html": [
       " <span style=\"background-color:#e0e0e0 \">0.4794176</span> <span style=\"background-color:#DFFF00 \">14.430883</span>"
      ],
      "text/plain": [
       "<IPython.core.display.HTML object>"
      ]
     },
     "metadata": {},
     "output_type": "display_data"
    },
    {
     "data": {
      "text/html": [
       " By 2050 <span style=\"background-color:#DFFF00 \">,</span><span style=\"background-color:#DFFF00 \"> drug</span><span style=\"background-color:#DFFF00 \"> ‐</span><span style=\"background-color:#DFFF00 \"> resistant</span><span style=\"background-color:#DFFF00 \"> TB</span><span style=\"background-color:#DFFF00 \"> could</span><span style=\"background-color:#DFFF00 \"> cost</span> the global economy as much as $ 16.7 trillion in medical expenses and lost wages - roughly the equivalent of the European Union 's entire economic output ."
      ],
      "text/plain": [
       "<IPython.core.display.HTML object>"
      ]
     },
     "metadata": {},
     "output_type": "display_data"
    },
    {
     "data": {
      "text/html": [
       " Até 2050 <span style=\"background-color:#DFFF00 \">,</span><span style=\"background-color:#DFFF00 \"> a</span><span style=\"background-color:#DFFF00 \"> TB</span><span style=\"background-color:#DFFF00 \"> multirresistente</span><span style=\"background-color:#DFFF00 \"> poderá</span><span style=\"background-color:#DFFF00 \"> custar</span> à economia global algo como 16,7 biliões USD em despesas médicas e salários perdidos - algo como o equivalente a toda a produção económica da União Europeia ."
      ],
      "text/plain": [
       "<IPython.core.display.HTML object>"
      ]
     },
     "metadata": {},
     "output_type": "display_data"
    },
    {
     "name": "stdout",
     "output_type": "stream",
     "text": [
      "____________________________________24___________________________________________________\n",
      "\u001b[94m\u001b[1m🤓 OK\u001b[0m\n"
     ]
    },
    {
     "data": {
      "text/html": [
       " <span style=\"background-color:#e0e0e0 \">7.2899504</span> <span style=\"background-color:#DFFF00 \">8.868553</span>"
      ],
      "text/plain": [
       "<IPython.core.display.HTML object>"
      ]
     },
     "metadata": {},
     "output_type": "display_data"
    },
    {
     "data": {
      "text/html": [
       " Although the UK would remain a member of NATO , we have yet to see how functional the Alliance will be in the era after US <span style=\"background-color:#DFFF00 \">hegemony</span> ."
      ],
      "text/plain": [
       "<IPython.core.display.HTML object>"
      ]
     },
     "metadata": {},
     "output_type": "display_data"
    },
    {
     "data": {
      "text/html": [
       " Mesmo que o Reino Unido continue como membro da NATO , ainda não se sabe de que forma funcionará a Aliança na era posterior à <span style=\"background-color:#DFFF00 \">hegemonia</span><span style=\"background-color:#DFFF00 \"> dos</span> EUA ."
      ],
      "text/plain": [
       "<IPython.core.display.HTML object>"
      ]
     },
     "metadata": {},
     "output_type": "display_data"
    },
    {
     "name": "stdout",
     "output_type": "stream",
     "text": [
      "____________________________________26___________________________________________________\n",
      "\u001b[94m\u001b[1m🤓 OK\u001b[0m\n"
     ]
    },
    {
     "data": {
      "text/html": [
       " <span style=\"background-color:#e0e0e0 \">-9.101828</span> <span style=\"background-color:#DFFF00 \">-3.8430817</span>"
      ],
      "text/plain": [
       "<IPython.core.display.HTML object>"
      ]
     },
     "metadata": {},
     "output_type": "display_data"
    },
    {
     "data": {
      "text/html": [
       " Though facts keep staring them <span style=\"background-color:#DFFF00 \">in</span><span style=\"background-color:#DFFF00 \"> the</span> face , they continue to deny reality ."
      ],
      "text/plain": [
       "<IPython.core.display.HTML object>"
      ]
     },
     "metadata": {},
     "output_type": "display_data"
    },
    {
     "data": {
      "text/html": [
       " Embora os factos continuem a estar <span style=\"background-color:#DFFF00 \">bem</span><span style=\"background-color:#DFFF00 \"> à</span><span style=\"background-color:#DFFF00 \"> frente</span><span style=\"background-color:#DFFF00 \"> dos</span> seus olhos , eles continuam a negar a realidade ."
      ],
      "text/plain": [
       "<IPython.core.display.HTML object>"
      ]
     },
     "metadata": {},
     "output_type": "display_data"
    },
    {
     "name": "stdout",
     "output_type": "stream",
     "text": [
      "____________________________________27___________________________________________________\n",
      "\u001b[94m\u001b[1m🤓 OK\u001b[0m\n"
     ]
    },
    {
     "data": {
      "text/html": [
       " <span style=\"background-color:#e0e0e0 \">9.077728</span> <span style=\"background-color:#DFFF00 \">14.290979</span>"
      ],
      "text/plain": [
       "<IPython.core.display.HTML object>"
      ]
     },
     "metadata": {},
     "output_type": "display_data"
    },
    {
     "data": {
      "text/html": [
       " China views Russia as its strategic <span style=\"background-color:#DFFF00 \">rear</span><span style=\"background-color:#DFFF00 \"> -</span> and perhaps a base - in its escalating rivalry with the US ( though not yet as an ally ) ."
      ],
      "text/plain": [
       "<IPython.core.display.HTML object>"
      ]
     },
     "metadata": {},
     "output_type": "display_data"
    },
    {
     "data": {
      "text/html": [
       " A China vê a Rússia como a sua retaguarda estratégica <span style=\"background-color:#DFFF00 \">-</span> e talvez mesmo como uma base - na sua rivalidade crescente com os EUA ( mesmo que ainda não seja vista como uma aliada ) ."
      ],
      "text/plain": [
       "<IPython.core.display.HTML object>"
      ]
     },
     "metadata": {},
     "output_type": "display_data"
    },
    {
     "name": "stdout",
     "output_type": "stream",
     "text": [
      "____________________________________31___________________________________________________\n",
      "\u001b[94m\u001b[1m🤓 OK\u001b[0m\n"
     ]
    },
    {
     "data": {
      "text/html": [
       " <span style=\"background-color:#e0e0e0 \">-0.90005237</span> <span style=\"background-color:#DFFF00 \">5.6016374</span> <span style=\"background-color:#9FE2BF \">8.100413</span>"
      ],
      "text/plain": [
       "<IPython.core.display.HTML object>"
      ]
     },
     "metadata": {},
     "output_type": "display_data"
    },
    {
     "data": {
      "text/html": [
       " <span style=\"background-color:#DFFF00 \">A</span><span style=\"background-color:#DFFF00 \"> big</span><span style=\"background-color:#DFFF00 \"> one</span><span style=\"background-color:#DFFF00 \"> stems</span><span style=\"background-color:#DFFF00 \"> from</span> the disparate approaches to bringing financial services and digitized health <span style=\"background-color:#9FE2BF \">care</span> to rural parts of Africa ."
      ],
      "text/plain": [
       "<IPython.core.display.HTML object>"
      ]
     },
     "metadata": {},
     "output_type": "display_data"
    },
    {
     "data": {
      "text/html": [
       " <span style=\"background-color:#DFFF00 \">Uma</span><span style=\"background-color:#DFFF00 \"> delas</span><span style=\"background-color:#DFFF00 \"> decorre</span><span style=\"background-color:#DFFF00 \"> das</span> diferentes abordagens destinadas a fazer chegar os serviços financeiros e <span style=\"background-color:#9FE2BF \">os</span><span style=\"background-color:#9FE2BF \"> serviços</span> de saúde digitalizados às zonas rurais da África ."
      ],
      "text/plain": [
       "<IPython.core.display.HTML object>"
      ]
     },
     "metadata": {},
     "output_type": "display_data"
    },
    {
     "name": "stdout",
     "output_type": "stream",
     "text": [
      "____________________________________35___________________________________________________\n",
      "\u001b[94m\u001b[1m🤓 OK\u001b[0m\n"
     ]
    },
    {
     "data": {
      "text/html": [
       " <span style=\"background-color:#e0e0e0 \">-2.0379055</span> <span style=\"background-color:#DFFF00 \">5.2533717</span> <span style=\"background-color:#9FE2BF \">7.847876</span>"
      ],
      "text/plain": [
       "<IPython.core.display.HTML object>"
      ]
     },
     "metadata": {},
     "output_type": "display_data"
    },
    {
     "data": {
      "text/html": [
       " In South Africa , poverty , inequality , and <span style=\"background-color:#DFFF00 \">ethnicity</span><span style=\"background-color:#DFFF00 \"> overlap</span><span style=\"background-color:#DFFF00 \"> ,</span><span style=\"background-color:#DFFF00 \"> to</span><span style=\"background-color:#DFFF00 \"> the</span> disadvantage of <span style=\"background-color:#9FE2BF \">a</span><span style=\"background-color:#9FE2BF \"> majority</span> of the country 's 57 million people ."
      ],
      "text/plain": [
       "<IPython.core.display.HTML object>"
      ]
     },
     "metadata": {},
     "output_type": "display_data"
    },
    {
     "data": {
      "text/html": [
       " Na África do Sul , a pobreza , a desigualdade e <span style=\"background-color:#DFFF00 \">as</span><span style=\"background-color:#DFFF00 \"> questões</span><span style=\"background-color:#DFFF00 \"> étnicas</span><span style=\"background-color:#DFFF00 \"> sobrepõem-se</span><span style=\"background-color:#DFFF00 \"> ,</span><span style=\"background-color:#DFFF00 \"> em</span> prajuízo da <span style=\"background-color:#9FE2BF \">maioria</span> dos 57 milhões de habitantes do país ."
      ],
      "text/plain": [
       "<IPython.core.display.HTML object>"
      ]
     },
     "metadata": {},
     "output_type": "display_data"
    },
    {
     "name": "stdout",
     "output_type": "stream",
     "text": [
      "____________________________________36___________________________________________________\n",
      "\u001b[94m\u001b[1m🤓 OK\u001b[0m\n"
     ]
    },
    {
     "data": {
      "text/html": [
       " <span style=\"background-color:#e0e0e0 \">2.8071392</span> <span style=\"background-color:#DFFF00 \">6.702939</span> <span style=\"background-color:#9FE2BF \">12.18463</span>"
      ],
      "text/plain": [
       "<IPython.core.display.HTML object>"
      ]
     },
     "metadata": {},
     "output_type": "display_data"
    },
    {
     "data": {
      "text/html": [
       " The problem of fake news and foreign <span style=\"background-color:#DFFF00 \">impersonation</span><span style=\"background-color:#DFFF00 \"> of</span> real news sources is difficult to resolve because it involves <span style=\"background-color:#9FE2BF \">trade-offs</span><span style=\"background-color:#9FE2BF \"> among</span> our important values ."
      ],
      "text/plain": [
       "<IPython.core.display.HTML object>"
      ]
     },
     "metadata": {},
     "output_type": "display_data"
    },
    {
     "data": {
      "text/html": [
       " O problema das notícias falsas e da <span style=\"background-color:#DFFF00 \">personificação</span><span style=\"background-color:#DFFF00 \"> de</span> fontes noticiosas verdadeiras por estrangeiros é de difícil resolução , já que envolve <span style=\"background-color:#9FE2BF \">comprometermos</span><span style=\"background-color:#9FE2BF \"> os</span> nossos valores mais importantes ."
      ],
      "text/plain": [
       "<IPython.core.display.HTML object>"
      ]
     },
     "metadata": {},
     "output_type": "display_data"
    },
    {
     "name": "stdout",
     "output_type": "stream",
     "text": [
      "____________________________________37___________________________________________________\n",
      "\u001b[94m\u001b[1m🤓 OK\u001b[0m\n"
     ]
    },
    {
     "data": {
      "text/html": [
       " <span style=\"background-color:#e0e0e0 \">-0.32192385</span> <span style=\"background-color:#DFFF00 \">13.218498</span>"
      ],
      "text/plain": [
       "<IPython.core.display.HTML object>"
      ]
     },
     "metadata": {},
     "output_type": "display_data"
    },
    {
     "data": {
      "text/html": [
       " <span style=\"background-color:#DFFF00 \">If</span><span style=\"background-color:#DFFF00 \"> one</span><span style=\"background-color:#DFFF00 \"> means</span> its political organs - the European Commission , the European Parliament , and the European Court of Justice , then the answer is yes ."
      ],
      "text/plain": [
       "<IPython.core.display.HTML object>"
      ]
     },
     "metadata": {},
     "output_type": "display_data"
    },
    {
     "data": {
      "text/html": [
       " <span style=\"background-color:#DFFF00 \">Se</span><span style=\"background-color:#DFFF00 \"> nos</span><span style=\"background-color:#DFFF00 \"> referirmos</span><span style=\"background-color:#DFFF00 \"> aos</span> seus órgãos políticos - A Comissão Europeia , o Parlamento Europeu e o Tribunal de Justiça Europeu , então a resposta será afirmativa ."
      ],
      "text/plain": [
       "<IPython.core.display.HTML object>"
      ]
     },
     "metadata": {},
     "output_type": "display_data"
    },
    {
     "name": "stdout",
     "output_type": "stream",
     "text": [
      "____________________________________38___________________________________________________\n",
      "\u001b[94m\u001b[1m🤓 OK\u001b[0m\n"
     ]
    },
    {
     "data": {
      "text/html": [
       " <span style=\"background-color:#e0e0e0 \">13.115596</span>"
      ],
      "text/plain": [
       "<IPython.core.display.HTML object>"
      ]
     },
     "metadata": {},
     "output_type": "display_data"
    },
    {
     "data": {
      "text/html": [
       " Instead , the EU made a few bureaucratic tweaks to its asylum system and consumed itself with debates about non-issues , such as migrant \" welfare cheats . \""
      ],
      "text/plain": [
       "<IPython.core.display.HTML object>"
      ]
     },
     "metadata": {},
     "output_type": "display_data"
    },
    {
     "data": {
      "text/html": [
       " Em vez disso , a UE fez alguns ajustes burocráticos no seu sistema de asilo e se deixou consumir por debates sobre problemas irreais , como \" golpes de assistência social \" que poderiam ser perpetrados pelos migrantes ."
      ],
      "text/plain": [
       "<IPython.core.display.HTML object>"
      ]
     },
     "metadata": {},
     "output_type": "display_data"
    },
    {
     "name": "stdout",
     "output_type": "stream",
     "text": [
      "____________________________________39___________________________________________________\n",
      "\u001b[94m\u001b[1m🤓 OK\u001b[0m\n"
     ]
    },
    {
     "data": {
      "text/html": [
       " <span style=\"background-color:#e0e0e0 \">15.606275</span>"
      ],
      "text/plain": [
       "<IPython.core.display.HTML object>"
      ]
     },
     "metadata": {},
     "output_type": "display_data"
    },
    {
     "data": {
      "text/html": [
       " An IP regime dictated by the advanced countries more than a quarter-century ago , in response to political pressure by a few of their sectors , makes little sense in today 's world ."
      ],
      "text/plain": [
       "<IPython.core.display.HTML object>"
      ]
     },
     "metadata": {},
     "output_type": "display_data"
    },
    {
     "data": {
      "text/html": [
       " Um regime de PI imposto pelos países avançados há mais de um quarto de século , em resposta às pressões políticas de alguns dos seus sectores , faz pouco sentido no mundo de hoje ."
      ],
      "text/plain": [
       "<IPython.core.display.HTML object>"
      ]
     },
     "metadata": {},
     "output_type": "display_data"
    },
    {
     "name": "stdout",
     "output_type": "stream",
     "text": [
      "____________________________________40___________________________________________________\n",
      "\u001b[94m\u001b[1m🤓 OK\u001b[0m\n"
     ]
    },
    {
     "data": {
      "text/html": [
       " <span style=\"background-color:#e0e0e0 \">7.072337</span> <span style=\"background-color:#DFFF00 \">13.701468</span>"
      ],
      "text/plain": [
       "<IPython.core.display.HTML object>"
      ]
     },
     "metadata": {},
     "output_type": "display_data"
    },
    {
     "data": {
      "text/html": [
       " Not surprisingly , given the EU authorities ' obvious inability to <span style=\"background-color:#DFFF00 \">end</span> the malaise , many member states are losing patience with austerity ."
      ],
      "text/plain": [
       "<IPython.core.display.HTML object>"
      ]
     },
     "metadata": {},
     "output_type": "display_data"
    },
    {
     "data": {
      "text/html": [
       " Não surpreende que , dada a óbvia incapacidade das autoridades da UE em <span style=\"background-color:#DFFF00 \">resolver</span> o mal-estar , muitos estados-membros estejam a perder a paciência com a austeridade ."
      ],
      "text/plain": [
       "<IPython.core.display.HTML object>"
      ]
     },
     "metadata": {},
     "output_type": "display_data"
    },
    {
     "name": "stdout",
     "output_type": "stream",
     "text": [
      "____________________________________41___________________________________________________\n",
      "\u001b[94m\u001b[1m🤓 OK\u001b[0m\n"
     ]
    },
    {
     "data": {
      "text/html": [
       " <span style=\"background-color:#e0e0e0 \">-7.4880075</span> <span style=\"background-color:#DFFF00 \">-5.0427628</span> <span style=\"background-color:#9FE2BF \">-2.3011065</span> <span style=\"background-color:#CCCCFF \">-0.53355145</span>"
      ],
      "text/plain": [
       "<IPython.core.display.HTML object>"
      ]
     },
     "metadata": {},
     "output_type": "display_data"
    },
    {
     "data": {
      "text/html": [
       " I find myself scrambling <span style=\"background-color:#9FE2BF \">to</span><span style=\"background-color:#9FE2BF \"> attend</span><span style=\"background-color:#9FE2BF \"> to</span> utterly <span style=\"background-color:#DFFF00 \">trivial</span> e-mails <span style=\"background-color:#CCCCFF \">only</span> to get past them to the ( possibly ) important ones that lie behind ."
      ],
      "text/plain": [
       "<IPython.core.display.HTML object>"
      ]
     },
     "metadata": {},
     "output_type": "display_data"
    },
    {
     "data": {
      "text/html": [
       " Fico atabalhoado <span style=\"background-color:#9FE2BF \">a</span><span style=\"background-color:#9FE2BF \"> tratar</span><span style=\"background-color:#9FE2BF \"> de</span><span style=\"background-color:#9FE2BF \"> todos</span> <span style=\"background-color:#DFFF00 \">os</span> e-mails <span style=\"background-color:#CCCCFF \">banais</span><span style=\"background-color:#CCCCFF \"> só</span> para avançar para os ( possivelmente ) importantes que estão subjacentes ."
      ],
      "text/plain": [
       "<IPython.core.display.HTML object>"
      ]
     },
     "metadata": {},
     "output_type": "display_data"
    },
    {
     "name": "stdout",
     "output_type": "stream",
     "text": [
      "____________________________________42___________________________________________________\n",
      "\u001b[91m\u001b[1m😤 😠 😡 🤬  DETACHED HALLUCINATION\u001b[0m\n",
      "26.9637915\n"
     ]
    },
    {
     "data": {
      "text/html": [
       " <span style=\"background-color:#e0e0e0 \">-12.7403965</span> <span style=\"background-color:#DFFF00 \">14.223395</span>"
      ],
      "text/plain": [
       "<IPython.core.display.HTML object>"
      ]
     },
     "metadata": {},
     "output_type": "display_data"
    },
    {
     "data": {
      "text/html": [
       " With leadership , resources , and a well-formulated data-driven approach , pollution can be minimized , and viable strategies have already been <span style=\"background-color:#DFFF00 \">developed</span><span style=\"background-color:#DFFF00 \"> ,</span><span style=\"background-color:#DFFF00 \"> field-tested</span> ."
      ],
      "text/plain": [
       "<IPython.core.display.HTML object>"
      ]
     },
     "metadata": {},
     "output_type": "display_data"
    },
    {
     "data": {
      "text/html": [
       " Com liderança , recursos , e uma abordagem bem formulada e apoiada em dados , a poluição pode ser minimizada , e existem estratégias viáveis que já foram <span style=\"background-color:#DFFF00 \">desenvolvidas</span><span style=\"background-color:#DFFF00 \"> ,</span><span style=\"background-color:#DFFF00 \"> testadas</span><span style=\"background-color:#DFFF00 \"> e</span><span style=\"background-color:#DFFF00 \"> comprovadas</span><span style=\"background-color:#DFFF00 \"> em</span><span style=\"background-color:#DFFF00 \"> países</span><span style=\"background-color:#DFFF00 \"> de</span><span style=\"background-color:#DFFF00 \"> médio</span><span style=\"background-color:#DFFF00 \"> e</span><span style=\"background-color:#DFFF00 \"> elevado</span><span style=\"background-color:#DFFF00 \"> rendimento</span> ."
      ],
      "text/plain": [
       "<IPython.core.display.HTML object>"
      ]
     },
     "metadata": {},
     "output_type": "display_data"
    },
    {
     "name": "stdout",
     "output_type": "stream",
     "text": [
      "____________________________________44___________________________________________________\n",
      "\u001b[94m\u001b[1m🤓 OK\u001b[0m\n"
     ]
    },
    {
     "data": {
      "text/html": [
       " <span style=\"background-color:#e0e0e0 \">14.487477</span>"
      ],
      "text/plain": [
       "<IPython.core.display.HTML object>"
      ]
     },
     "metadata": {},
     "output_type": "display_data"
    },
    {
     "data": {
      "text/html": [
       " The \" free \" services offered by social media are based on a profit model in which users ' information and attention are actually the products , which are sold to advertisers ."
      ],
      "text/plain": [
       "<IPython.core.display.HTML object>"
      ]
     },
     "metadata": {},
     "output_type": "display_data"
    },
    {
     "data": {
      "text/html": [
       " Os serviços \" gratuitos \" disponibilizados pelas redes sociais baseiam-se num modelo de lucro em que as informações e a atenção dos utilizadores são os verdadeiros produtos , que são depois vendidos aos anunciantes ."
      ],
      "text/plain": [
       "<IPython.core.display.HTML object>"
      ]
     },
     "metadata": {},
     "output_type": "display_data"
    },
    {
     "name": "stdout",
     "output_type": "stream",
     "text": [
      "____________________________________45___________________________________________________\n",
      "\u001b[91m\u001b[1m😤 😠 😡 🤬  DETACHED HALLUCINATION\u001b[0m\n",
      "21.377924\n"
     ]
    },
    {
     "data": {
      "text/html": [
       " <span style=\"background-color:#e0e0e0 \">-11.4462</span> <span style=\"background-color:#DFFF00 \">-0.030530345</span> <span style=\"background-color:#9FE2BF \">3.6840348</span> <span style=\"background-color:#CCCCFF \">7.4242077</span> <span style=\"background-color:#FFE4E1 \">9.931724</span>"
      ],
      "text/plain": [
       "<IPython.core.display.HTML object>"
      ]
     },
     "metadata": {},
     "output_type": "display_data"
    },
    {
     "data": {
      "text/html": [
       " Instead of shrinking in size <span style=\"background-color:#CCCCFF \">or</span><span style=\"background-color:#CCCCFF \"> focusing</span><span style=\"background-color:#CCCCFF \"> on</span><span style=\"background-color:#CCCCFF \"> refineries</span><span style=\"background-color:#CCCCFF \"> ,</span><span style=\"background-color:#CCCCFF \"> it</span><span style=\"background-color:#CCCCFF \"> is</span><span style=\"background-color:#CCCCFF \"> possible</span><span style=\"background-color:#CCCCFF \"> to</span><span style=\"background-color:#CCCCFF \"> think</span><span style=\"background-color:#CCCCFF \"> that</span> instead of a transition to renewables , the industry might <span style=\"background-color:#FFE4E1 \">shift</span> production to <span style=\"background-color:#9FE2BF \">be</span><span style=\"background-color:#9FE2BF \"> private</span><span style=\"background-color:#9FE2BF \"> rather</span><span style=\"background-color:#9FE2BF \"> than</span> public <span style=\"background-color:#DFFF00 \">,</span><span style=\"background-color:#DFFF00 \"> as</span> publicly listed firms ."
      ],
      "text/plain": [
       "<IPython.core.display.HTML object>"
      ]
     },
     "metadata": {},
     "output_type": "display_data"
    },
    {
     "data": {
      "text/html": [
       " Em vez de diminuir de dimensão <span style=\"background-color:#CCCCFF \">,</span><span style=\"background-color:#CCCCFF \"> ou</span><span style=\"background-color:#CCCCFF \"> de</span><span style=\"background-color:#CCCCFF \"> se</span><span style=\"background-color:#CCCCFF \"> concentrar</span> numa transição para as renováveis , a indústria poderia <span style=\"background-color:#FFE4E1 \">transferir</span> a produção para <span style=\"background-color:#9FE2BF \">empresas</span><span style=\"background-color:#9FE2BF \"> privadas</span> <span style=\"background-color:#DFFF00 \">,</span><span style=\"background-color:#DFFF00 \"> em</span> vez de empresas publicamente cotadas ."
      ],
      "text/plain": [
       "<IPython.core.display.HTML object>"
      ]
     },
     "metadata": {},
     "output_type": "display_data"
    },
    {
     "name": "stdout",
     "output_type": "stream",
     "text": [
      "____________________________________46___________________________________________________\n",
      "\u001b[94m\u001b[1m🤓 OK\u001b[0m\n"
     ]
    },
    {
     "data": {
      "text/html": [
       " <span style=\"background-color:#e0e0e0 \">1.6391758</span> <span style=\"background-color:#DFFF00 \">10.6119995</span>"
      ],
      "text/plain": [
       "<IPython.core.display.HTML object>"
      ]
     },
     "metadata": {},
     "output_type": "display_data"
    },
    {
     "data": {
      "text/html": [
       " A more useful definition of cyber waris hostile action in cyberspace whose effects amplify or are equivalent to <span style=\"background-color:#DFFF00 \">major</span> physical violence ."
      ],
      "text/plain": [
       "<IPython.core.display.HTML object>"
      ]
     },
     "metadata": {},
     "output_type": "display_data"
    },
    {
     "data": {
      "text/html": [
       " Uma definição mais útil de guerra cibernética é a acção hostil no ciberespaço , cujos efeitos amplificam ou são equivalentes à violência física <span style=\"background-color:#DFFF00 \">grave</span> ."
      ],
      "text/plain": [
       "<IPython.core.display.HTML object>"
      ]
     },
     "metadata": {},
     "output_type": "display_data"
    },
    {
     "name": "stdout",
     "output_type": "stream",
     "text": [
      "____________________________________48___________________________________________________\n",
      "\u001b[94m\u001b[1m🤓 OK\u001b[0m\n"
     ]
    },
    {
     "data": {
      "text/html": [
       " <span style=\"background-color:#e0e0e0 \">4.783011</span> <span style=\"background-color:#DFFF00 \">11.982681</span>"
      ],
      "text/plain": [
       "<IPython.core.display.HTML object>"
      ]
     },
     "metadata": {},
     "output_type": "display_data"
    },
    {
     "data": {
      "text/html": [
       " PIDA gives priority to energy ( especially hydropower ) projects to support mining operations and oil and gas pipelines <span style=\"background-color:#DFFF00 \">,</span><span style=\"background-color:#DFFF00 \"> while</span> sidelining renewable energy technologies , such as solar , wind , and geothermal ."
      ],
      "text/plain": [
       "<IPython.core.display.HTML object>"
      ]
     },
     "metadata": {},
     "output_type": "display_data"
    },
    {
     "data": {
      "text/html": [
       " O PDIA dá prioridade aos projectos de energia ( especialmente hidroeléctrica ) para apoiar as operações de mineração e oleodutos e gasodutos <span style=\"background-color:#DFFF00 \">,</span><span style=\"background-color:#DFFF00 \"> deixando</span><span style=\"background-color:#DFFF00 \"> ao</span><span style=\"background-color:#DFFF00 \"> mesmo</span><span style=\"background-color:#DFFF00 \"> tempo</span> de lado as tecnologias de energias renováveis , tais como a solar , a eólica e a geotérmica ."
      ],
      "text/plain": [
       "<IPython.core.display.HTML object>"
      ]
     },
     "metadata": {},
     "output_type": "display_data"
    },
    {
     "name": "stdout",
     "output_type": "stream",
     "text": [
      "____________________________________49___________________________________________________\n",
      "\u001b[91m\u001b[1m😤 😠 😡 🤬  DETACHED HALLUCINATION\u001b[0m\n",
      "8.4341665\n"
     ]
    },
    {
     "data": {
      "text/html": [
       " <span style=\"background-color:#e0e0e0 \">-11.84525</span> <span style=\"background-color:#DFFF00 \">-10.546117</span> <span style=\"background-color:#9FE2BF \">-3.4110835</span>"
      ],
      "text/plain": [
       "<IPython.core.display.HTML object>"
      ]
     },
     "metadata": {},
     "output_type": "display_data"
    },
    {
     "data": {
      "text/html": [
       " After <span style=\"background-color:#DFFF00 \">first</span> watering down the tariffs , the Bush administration <span style=\"background-color:#9FE2BF \">allowed</span><span style=\"background-color:#9FE2BF \"> them</span> altogether after 18 months ."
      ],
      "text/plain": [
       "<IPython.core.display.HTML object>"
      ]
     },
     "metadata": {},
     "output_type": "display_data"
    },
    {
     "data": {
      "text/html": [
       " Depois <span style=\"background-color:#DFFF00 \">de</span> reduzir as tarifas , a administração de Bush <span style=\"background-color:#9FE2BF \">abandonou-as</span> por completo após 18 meses ."
      ],
      "text/plain": [
       "<IPython.core.display.HTML object>"
      ]
     },
     "metadata": {},
     "output_type": "display_data"
    },
    {
     "name": "stdout",
     "output_type": "stream",
     "text": [
      "____________________________________50___________________________________________________\n",
      "\u001b[91m\u001b[1m😤 😠 😡 🤬  DETACHED HALLUCINATION\u001b[0m\n",
      "6.863425400000001\n"
     ]
    },
    {
     "data": {
      "text/html": [
       " <span style=\"background-color:#e0e0e0 \">-14.191959</span> <span style=\"background-color:#DFFF00 \">-7.3285336</span>"
      ],
      "text/plain": [
       "<IPython.core.display.HTML object>"
      ]
     },
     "metadata": {},
     "output_type": "display_data"
    },
    {
     "data": {
      "text/html": [
       " To be sure , women are less powerful , and have fewer opportunities than men worldwide ."
      ],
      "text/plain": [
       "<IPython.core.display.HTML object>"
      ]
     },
     "metadata": {},
     "output_type": "display_data"
    },
    {
     "data": {
      "text/html": [
       " Na verdade , as <span style=\"background-color:#DFFF00 \">raparigas</span><span style=\"background-color:#DFFF00 \"> e</span><span style=\"background-color:#DFFF00 \"> as</span> mulheres têm menos poder , menos privilégios , e menos oportunidades que os homens em todo o mundo ."
      ],
      "text/plain": [
       "<IPython.core.display.HTML object>"
      ]
     },
     "metadata": {},
     "output_type": "display_data"
    },
    {
     "name": "stdout",
     "output_type": "stream",
     "text": [
      "____________________________________51___________________________________________________\n",
      "\u001b[94m\u001b[1m🤓 OK\u001b[0m\n"
     ]
    },
    {
     "data": {
      "text/html": [
       " <span style=\"background-color:#e0e0e0 \">-2.7287173</span> <span style=\"background-color:#DFFF00 \">4.647768</span> <span style=\"background-color:#9FE2BF \">8.899153</span>"
      ],
      "text/plain": [
       "<IPython.core.display.HTML object>"
      ]
     },
     "metadata": {},
     "output_type": "display_data"
    },
    {
     "data": {
      "text/html": [
       " Raising global immunization coverage will speed <span style=\"background-color:#DFFF00 \">progress</span><span style=\"background-color:#DFFF00 \"> toward</span> the MDGs <span style=\"background-color:#9FE2BF \">and</span><span style=\"background-color:#9FE2BF \"> generate</span> momentum toward a successful post-2015 development agenda ."
      ],
      "text/plain": [
       "<IPython.core.display.HTML object>"
      ]
     },
     "metadata": {},
     "output_type": "display_data"
    },
    {
     "data": {
      "text/html": [
       " Aumentar a cobertura global da imunização permitirá <span style=\"background-color:#DFFF00 \">um</span><span style=\"background-color:#DFFF00 \"> mais</span><span style=\"background-color:#DFFF00 \"> rápido</span><span style=\"background-color:#DFFF00 \"> progresso</span><span style=\"background-color:#DFFF00 \"> no</span><span style=\"background-color:#DFFF00 \"> sentido</span> dos ODM <span style=\"background-color:#9FE2BF \">e</span><span style=\"background-color:#9FE2BF \"> gerará</span> ímpeto para estabelecer uma bem-sucedida agenda de desenvolvimento pós-2015 ."
      ],
      "text/plain": [
       "<IPython.core.display.HTML object>"
      ]
     },
     "metadata": {},
     "output_type": "display_data"
    },
    {
     "name": "stdout",
     "output_type": "stream",
     "text": [
      "____________________________________52___________________________________________________\n",
      "\u001b[94m\u001b[1m🤓 OK\u001b[0m\n"
     ]
    },
    {
     "data": {
      "text/html": [
       " <span style=\"background-color:#e0e0e0 \">2.0234616</span> <span style=\"background-color:#DFFF00 \">14.927902</span>"
      ],
      "text/plain": [
       "<IPython.core.display.HTML object>"
      ]
     },
     "metadata": {},
     "output_type": "display_data"
    },
    {
     "data": {
      "text/html": [
       " That isn 't necessarily a problem in places with low-carbon electricity grids , like France , but it would be in <span style=\"background-color:#DFFF00 \">a</span><span style=\"background-color:#DFFF00 \"> place</span><span style=\"background-color:#DFFF00 \"> like</span> Nova Scotia , which relies heavily on coal ."
      ],
      "text/plain": [
       "<IPython.core.display.HTML object>"
      ]
     },
     "metadata": {},
     "output_type": "display_data"
    },
    {
     "data": {
      "text/html": [
       " Isto não é necessariamente um problema em locais com redes eléctricas hipocarbónicas , como a França , mas seria <span style=\"background-color:#DFFF00 \">um</span> problema na Nova Escócia , que depende fortemente do carvão ."
      ],
      "text/plain": [
       "<IPython.core.display.HTML object>"
      ]
     },
     "metadata": {},
     "output_type": "display_data"
    },
    {
     "name": "stdout",
     "output_type": "stream",
     "text": [
      "____________________________________58___________________________________________________\n",
      "\u001b[94m\u001b[1m🤓 OK\u001b[0m\n"
     ]
    },
    {
     "data": {
      "text/html": [
       " <span style=\"background-color:#e0e0e0 \">12.299297</span>"
      ],
      "text/plain": [
       "<IPython.core.display.HTML object>"
      ]
     },
     "metadata": {},
     "output_type": "display_data"
    },
    {
     "data": {
      "text/html": [
       " Britain has made major positive contributions to Europe , particularly with respect to the single market ."
      ],
      "text/plain": [
       "<IPython.core.display.HTML object>"
      ]
     },
     "metadata": {},
     "output_type": "display_data"
    },
    {
     "data": {
      "text/html": [
       " A Grã-Bretanha tem dado contributos muito importantes para a Europa , especialmente no que diz respeito ao mercado único ."
      ],
      "text/plain": [
       "<IPython.core.display.HTML object>"
      ]
     },
     "metadata": {},
     "output_type": "display_data"
    },
    {
     "name": "stdout",
     "output_type": "stream",
     "text": [
      "____________________________________59___________________________________________________\n",
      "\u001b[94m\u001b[1m🤓 OK\u001b[0m\n"
     ]
    },
    {
     "data": {
      "text/html": [
       " <span style=\"background-color:#e0e0e0 \">12.8763895</span>"
      ],
      "text/plain": [
       "<IPython.core.display.HTML object>"
      ]
     },
     "metadata": {},
     "output_type": "display_data"
    },
    {
     "data": {
      "text/html": [
       " Today , in contrast , the problem is the opposite , namely the inability of central banks to raise inflation to target levels ."
      ],
      "text/plain": [
       "<IPython.core.display.HTML object>"
      ]
     },
     "metadata": {},
     "output_type": "display_data"
    },
    {
     "data": {
      "text/html": [
       " Hoje , em contrapartida , o problema é o oposto , nomeadamente a incapacidade dos bancos centrais elevarem a inflação a níveis desejáveis ."
      ],
      "text/plain": [
       "<IPython.core.display.HTML object>"
      ]
     },
     "metadata": {},
     "output_type": "display_data"
    },
    {
     "name": "stdout",
     "output_type": "stream",
     "text": [
      "____________________________________61___________________________________________________\n",
      "\u001b[94m\u001b[1m🤓 OK\u001b[0m\n"
     ]
    },
    {
     "data": {
      "text/html": [
       " <span style=\"background-color:#e0e0e0 \">13.660139</span>"
      ],
      "text/plain": [
       "<IPython.core.display.HTML object>"
      ]
     },
     "metadata": {},
     "output_type": "display_data"
    },
    {
     "data": {
      "text/html": [
       " Our partners , through groupings like the g7 + , must continue to demand the changes in policies and practices that have been promised ."
      ],
      "text/plain": [
       "<IPython.core.display.HTML object>"
      ]
     },
     "metadata": {},
     "output_type": "display_data"
    },
    {
     "data": {
      "text/html": [
       " Os nossos parceiros , através de grupos como o g7 + , devem continuar a exigir mudanças nas políticas e nas práticas que foram prometidas ."
      ],
      "text/plain": [
       "<IPython.core.display.HTML object>"
      ]
     },
     "metadata": {},
     "output_type": "display_data"
    },
    {
     "name": "stdout",
     "output_type": "stream",
     "text": [
      "____________________________________64___________________________________________________\n",
      "\u001b[94m\u001b[1m🤓 OK\u001b[0m\n"
     ]
    },
    {
     "data": {
      "text/html": [
       " <span style=\"background-color:#e0e0e0 \">15.599224</span>"
      ],
      "text/plain": [
       "<IPython.core.display.HTML object>"
      ]
     },
     "metadata": {},
     "output_type": "display_data"
    },
    {
     "data": {
      "text/html": [
       " And they do nothing to solve the basic problem of restricting government access to personal data held by private companies ."
      ],
      "text/plain": [
       "<IPython.core.display.HTML object>"
      ]
     },
     "metadata": {},
     "output_type": "display_data"
    },
    {
     "data": {
      "text/html": [
       " E não fazem nada para resolver o problema básico de restringir o acesso do governo aos dados pessoais detidos por empresas privadas ."
      ],
      "text/plain": [
       "<IPython.core.display.HTML object>"
      ]
     },
     "metadata": {},
     "output_type": "display_data"
    },
    {
     "name": "stdout",
     "output_type": "stream",
     "text": [
      "____________________________________67___________________________________________________\n",
      "\u001b[94m\u001b[1m🤓 OK\u001b[0m\n"
     ]
    },
    {
     "data": {
      "text/html": [
       " <span style=\"background-color:#e0e0e0 \">2.8651428</span> <span style=\"background-color:#DFFF00 \">4.8638897</span>"
      ],
      "text/plain": [
       "<IPython.core.display.HTML object>"
      ]
     },
     "metadata": {},
     "output_type": "display_data"
    },
    {
     "data": {
      "text/html": [
       " Citizens should have accurate facts about a project , so that they can monitor <span style=\"background-color:#DFFF00 \">its</span> progress and pressure policymakers to protect the public interest ."
      ],
      "text/plain": [
       "<IPython.core.display.HTML object>"
      ]
     },
     "metadata": {},
     "output_type": "display_data"
    },
    {
     "data": {
      "text/html": [
       " Os cidadãos devem dispor de factos concretos sobre os projectos para que possam acompanhar <span style=\"background-color:#DFFF00 \">de</span><span style=\"background-color:#DFFF00 \"> perto</span><span style=\"background-color:#DFFF00 \"> o</span><span style=\"background-color:#DFFF00 \"> seu</span> progresso e pressionar os decisores políticos no sentido de protegerem o interesse público ."
      ],
      "text/plain": [
       "<IPython.core.display.HTML object>"
      ]
     },
     "metadata": {},
     "output_type": "display_data"
    },
    {
     "name": "stdout",
     "output_type": "stream",
     "text": [
      "____________________________________68___________________________________________________\n",
      "\u001b[94m\u001b[1m🤓 OK\u001b[0m\n"
     ]
    },
    {
     "data": {
      "text/html": [
       " <span style=\"background-color:#e0e0e0 \">4.057195</span> <span style=\"background-color:#DFFF00 \">15.522124</span>"
      ],
      "text/plain": [
       "<IPython.core.display.HTML object>"
      ]
     },
     "metadata": {},
     "output_type": "display_data"
    },
    {
     "data": {
      "text/html": [
       " Indeed , almost half of all childhood deaths can be attributed to malnutrition - a <span style=\"background-color:#DFFF00 \">state</span><span style=\"background-color:#DFFF00 \"> of</span><span style=\"background-color:#DFFF00 \"> affairs</span> that former Prime Minister Manmohan Singh called a \" national shame . \""
      ],
      "text/plain": [
       "<IPython.core.display.HTML object>"
      ]
     },
     "metadata": {},
     "output_type": "display_data"
    },
    {
     "data": {
      "text/html": [
       " Na verdade , quase metade de toda a mortalidade infantil pode ser atribuída à subnutrição - uma <span style=\"background-color:#DFFF00 \">conjuntura</span> a que o antigo Primeiro-Ministro Manmohan Singh apelidou de \" vergonha nacional \" ."
      ],
      "text/plain": [
       "<IPython.core.display.HTML object>"
      ]
     },
     "metadata": {},
     "output_type": "display_data"
    },
    {
     "name": "stdout",
     "output_type": "stream",
     "text": [
      "____________________________________69___________________________________________________\n",
      "\u001b[94m\u001b[1m🤓 OK\u001b[0m\n"
     ]
    },
    {
     "data": {
      "text/html": [
       " <span style=\"background-color:#e0e0e0 \">7.2064724</span> <span style=\"background-color:#DFFF00 \">14.134614</span>"
      ],
      "text/plain": [
       "<IPython.core.display.HTML object>"
      ]
     },
     "metadata": {},
     "output_type": "display_data"
    },
    {
     "data": {
      "text/html": [
       " Given that South Korea currently operates 25 nuclear reactors and had plans to build <span style=\"background-color:#DFFF00 \">six</span><span style=\"background-color:#DFFF00 \"> more</span><span style=\"background-color:#DFFF00 \"> ,</span><span style=\"background-color:#DFFF00 \"> the</span><span style=\"background-color:#DFFF00 \"> shelving</span><span style=\"background-color:#DFFF00 \"> of</span> nuclear power is a significant shift in the country 's energy strategy ."
      ],
      "text/plain": [
       "<IPython.core.display.HTML object>"
      ]
     },
     "metadata": {},
     "output_type": "display_data"
    },
    {
     "data": {
      "text/html": [
       " Dado que a Coreia do Sul opera actualmente 25 reactores nucleares e tinha prevista a construção de <span style=\"background-color:#DFFF00 \">outras</span><span style=\"background-color:#DFFF00 \"> seis</span><span style=\"background-color:#DFFF00 \"> ,</span><span style=\"background-color:#DFFF00 \"> o</span><span style=\"background-color:#DFFF00 \"> abandono</span><span style=\"background-color:#DFFF00 \"> da</span> energia nuclear representa uma mudança significativa na estratégia energética do país ."
      ],
      "text/plain": [
       "<IPython.core.display.HTML object>"
      ]
     },
     "metadata": {},
     "output_type": "display_data"
    },
    {
     "name": "stdout",
     "output_type": "stream",
     "text": [
      "____________________________________70___________________________________________________\n",
      "\u001b[94m\u001b[1m🤓 OK\u001b[0m\n"
     ]
    },
    {
     "data": {
      "text/html": [
       " <span style=\"background-color:#e0e0e0 \">-1.2790844</span> <span style=\"background-color:#DFFF00 \">13.61306</span>"
      ],
      "text/plain": [
       "<IPython.core.display.HTML object>"
      ]
     },
     "metadata": {},
     "output_type": "display_data"
    },
    {
     "data": {
      "text/html": [
       " Singapore is leading <span style=\"background-color:#DFFF00 \">the</span><span style=\"background-color:#DFFF00 \"> way</span> in another area as well : production and distribution of potable recycled water ."
      ],
      "text/plain": [
       "<IPython.core.display.HTML object>"
      ]
     },
     "metadata": {},
     "output_type": "display_data"
    },
    {
     "data": {
      "text/html": [
       " Singapura também lidera <span style=\"background-color:#DFFF00 \">a</span><span style=\"background-color:#DFFF00 \"> caminhada</span> numa outra área : a produção e a distribuição de água potável reciclada ."
      ],
      "text/plain": [
       "<IPython.core.display.HTML object>"
      ]
     },
     "metadata": {},
     "output_type": "display_data"
    },
    {
     "name": "stdout",
     "output_type": "stream",
     "text": [
      "____________________________________71___________________________________________________\n",
      "\u001b[94m\u001b[1m🤓 OK\u001b[0m\n"
     ]
    },
    {
     "data": {
      "text/html": [
       " <span style=\"background-color:#e0e0e0 \">1.712811</span> <span style=\"background-color:#DFFF00 \">10.209604</span>"
      ],
      "text/plain": [
       "<IPython.core.display.HTML object>"
      ]
     },
     "metadata": {},
     "output_type": "display_data"
    },
    {
     "data": {
      "text/html": [
       " <span style=\"background-color:#DFFF00 \">The</span><span style=\"background-color:#DFFF00 \"> topic</span><span style=\"background-color:#DFFF00 \"> is</span><span style=\"background-color:#DFFF00 \"> too</span><span style=\"background-color:#DFFF00 \"> broad</span><span style=\"background-color:#DFFF00 \"> to</span><span style=\"background-color:#DFFF00 \"> be</span> discussed solely among governments and secret services ."
      ],
      "text/plain": [
       "<IPython.core.display.HTML object>"
      ]
     },
     "metadata": {},
     "output_type": "display_data"
    },
    {
     "data": {
      "text/html": [
       " <span style=\"background-color:#DFFF00 \">O</span><span style=\"background-color:#DFFF00 \"> tema</span><span style=\"background-color:#DFFF00 \"> é</span><span style=\"background-color:#DFFF00 \"> muito</span><span style=\"background-color:#DFFF00 \"> amplo</span><span style=\"background-color:#DFFF00 \"> para</span><span style=\"background-color:#DFFF00 \"> ser</span> discutido apenas entre os governos e os serviços secretos ."
      ],
      "text/plain": [
       "<IPython.core.display.HTML object>"
      ]
     },
     "metadata": {},
     "output_type": "display_data"
    },
    {
     "name": "stdout",
     "output_type": "stream",
     "text": [
      "____________________________________72___________________________________________________\n",
      "\u001b[94m\u001b[1m🤓 OK\u001b[0m\n"
     ]
    },
    {
     "data": {
      "text/html": [
       " <span style=\"background-color:#e0e0e0 \">14.714733</span>"
      ],
      "text/plain": [
       "<IPython.core.display.HTML object>"
      ]
     },
     "metadata": {},
     "output_type": "display_data"
    },
    {
     "data": {
      "text/html": [
       " And developed countries pledged at least $ 100 billion of annual climate finance to help the least developed countries cut their carbon emissions and prepare for climate change ."
      ],
      "text/plain": [
       "<IPython.core.display.HTML object>"
      ]
     },
     "metadata": {},
     "output_type": "display_data"
    },
    {
     "data": {
      "text/html": [
       " E os países desenvolvidos garantiram pelo menos 100 mil milhões de dólares em financiamento anual climático para ajudar os países menos desenvolvidos a reduzirem as suas emissões de carbono e a prepararem-se para as alterações climáticas ."
      ],
      "text/plain": [
       "<IPython.core.display.HTML object>"
      ]
     },
     "metadata": {},
     "output_type": "display_data"
    },
    {
     "name": "stdout",
     "output_type": "stream",
     "text": [
      "____________________________________73___________________________________________________\n",
      "\u001b[94m\u001b[1m🤓 OK\u001b[0m\n"
     ]
    },
    {
     "data": {
      "text/html": [
       " <span style=\"background-color:#e0e0e0 \">8.033839</span> <span style=\"background-color:#DFFF00 \">15.591439</span>"
      ],
      "text/plain": [
       "<IPython.core.display.HTML object>"
      ]
     },
     "metadata": {},
     "output_type": "display_data"
    },
    {
     "data": {
      "text/html": [
       " As independent India 's first deputy prime minister and <span style=\"background-color:#DFFF00 \">home</span><span style=\"background-color:#DFFF00 \"> minister</span><span style=\"background-color:#DFFF00 \"> ,</span> Patel is credited with the integration of roughly 600 princely states , sometimes by persuasion and sometimes by force ."
      ],
      "text/plain": [
       "<IPython.core.display.HTML object>"
      ]
     },
     "metadata": {},
     "output_type": "display_data"
    },
    {
     "data": {
      "text/html": [
       " Como primeiro vice-primeiro-ministro da Índia independente e <span style=\"background-color:#DFFF00 \">ministro</span><span style=\"background-color:#DFFF00 \"> nacional</span><span style=\"background-color:#DFFF00 \"> ,</span> Patel foi responsável pela integração de cerca de 600 estados principescos , às vezes pela persuasão e às vezes pela força ."
      ],
      "text/plain": [
       "<IPython.core.display.HTML object>"
      ]
     },
     "metadata": {},
     "output_type": "display_data"
    },
    {
     "name": "stdout",
     "output_type": "stream",
     "text": [
      "____________________________________74___________________________________________________\n",
      "\u001b[94m\u001b[1m🤓 OK\u001b[0m\n"
     ]
    },
    {
     "data": {
      "text/html": [
       " <span style=\"background-color:#e0e0e0 \">2.7048726</span> <span style=\"background-color:#DFFF00 \">7.646084</span> <span style=\"background-color:#9FE2BF \">13.709974</span>"
      ],
      "text/plain": [
       "<IPython.core.display.HTML object>"
      ]
     },
     "metadata": {},
     "output_type": "display_data"
    },
    {
     "data": {
      "text/html": [
       " No country was singled out in the <span style=\"background-color:#DFFF00 \">Gates</span> report for its potential to <span style=\"background-color:#9FE2BF \">restore</span><span style=\"background-color:#9FE2BF \"> the</span><span style=\"background-color:#9FE2BF \"> \"</span> world 's commitment to development . \""
      ],
      "text/plain": [
       "<IPython.core.display.HTML object>"
      ]
     },
     "metadata": {},
     "output_type": "display_data"
    },
    {
     "data": {
      "text/html": [
       " O relatório da <span style=\"background-color:#DFFF00 \">Fundação</span><span style=\"background-color:#DFFF00 \"> Gates</span> não assinala nenhum país em particular pelo seu potencial para <span style=\"background-color:#9FE2BF \">reatar</span><span style=\"background-color:#9FE2BF \"> o</span><span style=\"background-color:#9FE2BF \"> \"</span> compromisso do mundo relativamente ao desenvolvimento \" ."
      ],
      "text/plain": [
       "<IPython.core.display.HTML object>"
      ]
     },
     "metadata": {},
     "output_type": "display_data"
    },
    {
     "name": "stdout",
     "output_type": "stream",
     "text": [
      "____________________________________75___________________________________________________\n",
      "\u001b[91m\u001b[1m😤 😠 😡 🤬  DETACHED HALLUCINATION\u001b[0m\n",
      "7.046711999999999\n"
     ]
    },
    {
     "data": {
      "text/html": [
       " <span style=\"background-color:#e0e0e0 \">-12.616672</span> <span style=\"background-color:#DFFF00 \">-9.603754</span> <span style=\"background-color:#9FE2BF \">-5.56996</span>"
      ],
      "text/plain": [
       "<IPython.core.display.HTML object>"
      ]
     },
     "metadata": {},
     "output_type": "display_data"
    },
    {
     "data": {
      "text/html": [
       " The Guarani indigenous people <span style=\"background-color:#DFFF00 \">of</span><span style=\"background-color:#DFFF00 \"> Argentina</span><span style=\"background-color:#DFFF00 \"> have</span> grown and used <span style=\"background-color:#9FE2BF \">the</span><span style=\"background-color:#9FE2BF \"> herb</span> for centuries ."
      ],
      "text/plain": [
       "<IPython.core.display.HTML object>"
      ]
     },
     "metadata": {},
     "output_type": "display_data"
    },
    {
     "data": {
      "text/html": [
       " <span style=\"background-color:#DFFF00 \">No</span><span style=\"background-color:#DFFF00 \"> Paraguai</span><span style=\"background-color:#DFFF00 \"> ,</span> o povo indígena guarani cultiva e utiliza <span style=\"background-color:#9FE2BF \">esta</span><span style=\"background-color:#9FE2BF \"> planta</span> há séculos ."
      ],
      "text/plain": [
       "<IPython.core.display.HTML object>"
      ]
     },
     "metadata": {},
     "output_type": "display_data"
    },
    {
     "name": "stdout",
     "output_type": "stream",
     "text": [
      "____________________________________76___________________________________________________\n",
      "\u001b[94m\u001b[1m🤓 OK\u001b[0m\n"
     ]
    },
    {
     "data": {
      "text/html": [
       " <span style=\"background-color:#e0e0e0 \">15.2935705</span>"
      ],
      "text/plain": [
       "<IPython.core.display.HTML object>"
      ]
     },
     "metadata": {},
     "output_type": "display_data"
    },
    {
     "data": {
      "text/html": [
       " The country 's external deficit is exploding , and borrowing costs have spiked precisely as financing has become imperative ."
      ],
      "text/plain": [
       "<IPython.core.display.HTML object>"
      ]
     },
     "metadata": {},
     "output_type": "display_data"
    },
    {
     "data": {
      "text/html": [
       " O défice externo do país está a explodir e os custos de empréstimos solicitados subiram em flecha precisamente à medida que o financiamento se tornou imperativo ."
      ],
      "text/plain": [
       "<IPython.core.display.HTML object>"
      ]
     },
     "metadata": {},
     "output_type": "display_data"
    },
    {
     "name": "stdout",
     "output_type": "stream",
     "text": [
      "____________________________________78___________________________________________________\n",
      "\u001b[94m\u001b[1m🤓 OK\u001b[0m\n"
     ]
    },
    {
     "data": {
      "text/html": [
       " <span style=\"background-color:#e0e0e0 \">2.5779357</span> <span style=\"background-color:#DFFF00 \">6.5720897</span> <span style=\"background-color:#9FE2BF \">14.686595</span>"
      ],
      "text/plain": [
       "<IPython.core.display.HTML object>"
      ]
     },
     "metadata": {},
     "output_type": "display_data"
    },
    {
     "data": {
      "text/html": [
       " A first reason to doubt <span style=\"background-color:#9FE2BF \">projections</span> of a stronger dollar is that none of the news on which they are based is really <span style=\"background-color:#DFFF00 \">news</span><span style=\"background-color:#DFFF00 \"> .</span>"
      ],
      "text/plain": [
       "<IPython.core.display.HTML object>"
      ]
     },
     "metadata": {},
     "output_type": "display_data"
    },
    {
     "data": {
      "text/html": [
       " Uma primeira razão para duvidar <span style=\"background-color:#9FE2BF \">das</span><span style=\"background-color:#9FE2BF \"> previsões</span> de um dólar mais forte é que nenhuma das notícias nas quais se baseiam são realmente <span style=\"background-color:#DFFF00 \">novas</span><span style=\"background-color:#DFFF00 \"> .</span>"
      ],
      "text/plain": [
       "<IPython.core.display.HTML object>"
      ]
     },
     "metadata": {},
     "output_type": "display_data"
    },
    {
     "name": "stdout",
     "output_type": "stream",
     "text": [
      "____________________________________79___________________________________________________\n",
      "\u001b[94m\u001b[1m🤓 OK\u001b[0m\n"
     ]
    },
    {
     "data": {
      "text/html": [
       " <span style=\"background-color:#e0e0e0 \">-4.622756</span> <span style=\"background-color:#DFFF00 \">-0.93536496</span>"
      ],
      "text/plain": [
       "<IPython.core.display.HTML object>"
      ]
     },
     "metadata": {},
     "output_type": "display_data"
    },
    {
     "data": {
      "text/html": [
       " Government officials routinely find \" ordinary citizens \" to file complaints against <span style=\"background-color:#DFFF00 \">media</span> organizations on their behalf ."
      ],
      "text/plain": [
       "<IPython.core.display.HTML object>"
      ]
     },
     "metadata": {},
     "output_type": "display_data"
    },
    {
     "data": {
      "text/html": [
       " Os responsáveis governamentais encontram rotineiramente \" cidadãos normais \" que apresentam reclamações , em seu próprio nome , contra as organizações <span style=\"background-color:#DFFF00 \">da</span><span style=\"background-color:#DFFF00 \"> comunicação</span><span style=\"background-color:#DFFF00 \"> social</span> ."
      ],
      "text/plain": [
       "<IPython.core.display.HTML object>"
      ]
     },
     "metadata": {},
     "output_type": "display_data"
    },
    {
     "name": "stdout",
     "output_type": "stream",
     "text": [
      "____________________________________80___________________________________________________\n",
      "\u001b[94m\u001b[1m🤓 OK\u001b[0m\n"
     ]
    },
    {
     "data": {
      "text/html": [
       " <span style=\"background-color:#e0e0e0 \">3.4596999</span> <span style=\"background-color:#DFFF00 \">15.600024</span>"
      ],
      "text/plain": [
       "<IPython.core.display.HTML object>"
      ]
     },
     "metadata": {},
     "output_type": "display_data"
    },
    {
     "data": {
      "text/html": [
       " That , too , is understandable : the new politicians <span style=\"background-color:#DFFF00 \">shared</span><span style=\"background-color:#DFFF00 \"> the</span><span style=\"background-color:#DFFF00 \"> outlook</span><span style=\"background-color:#DFFF00 \"> of</span><span style=\"background-color:#DFFF00 \"> those</span> who had promised that globalization would benefit all ."
      ],
      "text/plain": [
       "<IPython.core.display.HTML object>"
      ]
     },
     "metadata": {},
     "output_type": "display_data"
    },
    {
     "data": {
      "text/html": [
       " Também isso é compreensível : os novos políticos <span style=\"background-color:#DFFF00 \">partilhavam</span><span style=\"background-color:#DFFF00 \"> a</span><span style=\"background-color:#DFFF00 \"> perspectiva</span><span style=\"background-color:#DFFF00 \"> daqueles</span> que prometeram que a globalização traria benefícios a todos ."
      ],
      "text/plain": [
       "<IPython.core.display.HTML object>"
      ]
     },
     "metadata": {},
     "output_type": "display_data"
    },
    {
     "name": "stdout",
     "output_type": "stream",
     "text": [
      "____________________________________81___________________________________________________\n",
      "\u001b[94m\u001b[1m🤓 OK\u001b[0m\n"
     ]
    },
    {
     "data": {
      "text/html": [
       " <span style=\"background-color:#e0e0e0 \">-7.1805873</span> <span style=\"background-color:#DFFF00 \">-4.7306757</span> <span style=\"background-color:#9FE2BF \">-3.1390753</span>"
      ],
      "text/plain": [
       "<IPython.core.display.HTML object>"
      ]
     },
     "metadata": {},
     "output_type": "display_data"
    },
    {
     "data": {
      "text/html": [
       " It received the backing of <span style=\"background-color:#9FE2BF \">the</span> legislature , which had previously <span style=\"background-color:#DFFF00 \">favored</span> a ban ."
      ],
      "text/plain": [
       "<IPython.core.display.HTML object>"
      ]
     },
     "metadata": {},
     "output_type": "display_data"
    },
    {
     "data": {
      "text/html": [
       " Recebeu o apoio do <span style=\"background-color:#9FE2BF \">poder</span> legislativo , que já tinha <span style=\"background-color:#DFFF00 \">defendido</span> anteriormente a proibição ."
      ],
      "text/plain": [
       "<IPython.core.display.HTML object>"
      ]
     },
     "metadata": {},
     "output_type": "display_data"
    },
    {
     "name": "stdout",
     "output_type": "stream",
     "text": [
      "____________________________________82___________________________________________________\n",
      "\u001b[94m\u001b[1m🤓 OK\u001b[0m\n"
     ]
    },
    {
     "data": {
      "text/html": [
       " <span style=\"background-color:#e0e0e0 \">10.038804</span>"
      ],
      "text/plain": [
       "<IPython.core.display.HTML object>"
      ]
     },
     "metadata": {},
     "output_type": "display_data"
    },
    {
     "data": {
      "text/html": [
       " Barriers to private companies ' entry into the agricultural sector will be removed , and farmers will be allowed to grow the crops they want , without official control over supply and demand ."
      ],
      "text/plain": [
       "<IPython.core.display.HTML object>"
      ]
     },
     "metadata": {},
     "output_type": "display_data"
    },
    {
     "data": {
      "text/html": [
       " As barreiras à entrada das empresas privadas no sector agrícola serão removidas e os agricultores terão permissão para cultivarem as culturas que eles querem , sem controlo oficial sobre a oferta e a procura ."
      ],
      "text/plain": [
       "<IPython.core.display.HTML object>"
      ]
     },
     "metadata": {},
     "output_type": "display_data"
    },
    {
     "name": "stdout",
     "output_type": "stream",
     "text": [
      "____________________________________84___________________________________________________\n",
      "\u001b[94m\u001b[1m🤓 OK\u001b[0m\n"
     ]
    },
    {
     "data": {
      "text/html": [
       " <span style=\"background-color:#e0e0e0 \">-11.182469</span> <span style=\"background-color:#DFFF00 \">-7.065939</span> <span style=\"background-color:#9FE2BF \">2.9469368</span>"
      ],
      "text/plain": [
       "<IPython.core.display.HTML object>"
      ]
     },
     "metadata": {},
     "output_type": "display_data"
    },
    {
     "data": {
      "text/html": [
       " What <span style=\"background-color:#9FE2BF \">is</span><span style=\"background-color:#9FE2BF \"> needed</span><span style=\"background-color:#9FE2BF \"> is</span><span style=\"background-color:#9FE2BF \"> a</span><span style=\"background-color:#9FE2BF \"> nuanced</span><span style=\"background-color:#9FE2BF \"> approach</span><span style=\"background-color:#9FE2BF \"> ,</span> which is what we develop in our new book Strategic <span style=\"background-color:#DFFF00 \">Reassurance</span><span style=\"background-color:#DFFF00 \"> and</span><span style=\"background-color:#DFFF00 \"> Resolve</span> ."
      ],
      "text/plain": [
       "<IPython.core.display.HTML object>"
      ]
     },
     "metadata": {},
     "output_type": "display_data"
    },
    {
     "data": {
      "text/html": [
       " É <span style=\"background-color:#9FE2BF \">necessária</span><span style=\"background-color:#9FE2BF \"> uma</span><span style=\"background-color:#9FE2BF \"> abordagem</span><span style=\"background-color:#9FE2BF \"> flexível</span> como a que desenvolvemos no nosso novo livro Strategic <span style=\"background-color:#DFFF00 \">Reassurance</span><span style=\"background-color:#DFFF00 \"> and</span><span style=\"background-color:#DFFF00 \"> Resolve</span><span style=\"background-color:#DFFF00 \"> (</span><span style=\"background-color:#DFFF00 \"> Pacificação</span><span style=\"background-color:#DFFF00 \"> e</span><span style=\"background-color:#DFFF00 \"> Resolução</span><span style=\"background-color:#DFFF00 \"> Estratégicas</span><span style=\"background-color:#DFFF00 \"> ,</span><span style=\"background-color:#DFFF00 \"> NdT</span><span style=\"background-color:#DFFF00 \"> .</span><span style=\"background-color:#DFFF00 \"> )</span> ."
      ],
      "text/plain": [
       "<IPython.core.display.HTML object>"
      ]
     },
     "metadata": {},
     "output_type": "display_data"
    },
    {
     "name": "stdout",
     "output_type": "stream",
     "text": [
      "____________________________________85___________________________________________________\n",
      "\u001b[94m\u001b[1m🤓 OK\u001b[0m\n"
     ]
    },
    {
     "data": {
      "text/html": [
       " <span style=\"background-color:#e0e0e0 \">4.785944</span> <span style=\"background-color:#DFFF00 \">9.378986</span> <span style=\"background-color:#9FE2BF \">11.211807</span>"
      ],
      "text/plain": [
       "<IPython.core.display.HTML object>"
      ]
     },
     "metadata": {},
     "output_type": "display_data"
    },
    {
     "data": {
      "text/html": [
       " To <span style=\"background-color:#9FE2BF \">complement</span> these technical efforts , the ACS is also training African health-care professionals how to carry out biopsies and <span style=\"background-color:#DFFF00 \">deliver</span> chemotherapy ."
      ],
      "text/plain": [
       "<IPython.core.display.HTML object>"
      ]
     },
     "metadata": {},
     "output_type": "display_data"
    },
    {
     "data": {
      "text/html": [
       " Para <span style=\"background-color:#9FE2BF \">complementar</span> estes esforços técnicos , a ACS também está a dar formação a profissionais de cuidados de saúde africanos em realização de biópsias e <span style=\"background-color:#DFFF00 \">administração</span> de quimioterapia ."
      ],
      "text/plain": [
       "<IPython.core.display.HTML object>"
      ]
     },
     "metadata": {},
     "output_type": "display_data"
    },
    {
     "name": "stdout",
     "output_type": "stream",
     "text": [
      "____________________________________86___________________________________________________\n",
      "\u001b[94m\u001b[1m🤓 OK\u001b[0m\n"
     ]
    },
    {
     "data": {
      "text/html": [
       " <span style=\"background-color:#e0e0e0 \">15.530975</span>"
      ],
      "text/plain": [
       "<IPython.core.display.HTML object>"
      ]
     },
     "metadata": {},
     "output_type": "display_data"
    },
    {
     "data": {
      "text/html": [
       " Our increased interdependence suggests the need for greater international cooperation and coordination , and that is precisely what the EU offers ."
      ],
      "text/plain": [
       "<IPython.core.display.HTML object>"
      ]
     },
     "metadata": {},
     "output_type": "display_data"
    },
    {
     "data": {
      "text/html": [
       " A nossa interdependência crescente sugere a necessidade de uma maior cooperação e coordenação internacional , e é isso precisamente o que a UE oferece ."
      ],
      "text/plain": [
       "<IPython.core.display.HTML object>"
      ]
     },
     "metadata": {},
     "output_type": "display_data"
    },
    {
     "name": "stdout",
     "output_type": "stream",
     "text": [
      "____________________________________87___________________________________________________\n",
      "\u001b[94m\u001b[1m🤓 OK\u001b[0m\n"
     ]
    },
    {
     "data": {
      "text/html": [
       " <span style=\"background-color:#e0e0e0 \">6.366643</span> <span style=\"background-color:#DFFF00 \">7.6059113</span>"
      ],
      "text/plain": [
       "<IPython.core.display.HTML object>"
      ]
     },
     "metadata": {},
     "output_type": "display_data"
    },
    {
     "data": {
      "text/html": [
       " The question for us <span style=\"background-color:#DFFF00 \">is</span> what figures like these can tell us about the health of global finance today ."
      ],
      "text/plain": [
       "<IPython.core.display.HTML object>"
      ]
     },
     "metadata": {},
     "output_type": "display_data"
    },
    {
     "data": {
      "text/html": [
       " A questão para nós <span style=\"background-color:#DFFF00 \">reside</span> em saber de que modo números como estes podem informar-nos sobre o estado de saúde actual das finanças globais ."
      ],
      "text/plain": [
       "<IPython.core.display.HTML object>"
      ]
     },
     "metadata": {},
     "output_type": "display_data"
    },
    {
     "name": "stdout",
     "output_type": "stream",
     "text": [
      "____________________________________88___________________________________________________\n",
      "\u001b[94m\u001b[1m🤓 OK\u001b[0m\n"
     ]
    },
    {
     "data": {
      "text/html": [
       " <span style=\"background-color:#e0e0e0 \">1.7668799</span> <span style=\"background-color:#DFFF00 \">15.216411</span>"
      ],
      "text/plain": [
       "<IPython.core.display.HTML object>"
      ]
     },
     "metadata": {},
     "output_type": "display_data"
    },
    {
     "data": {
      "text/html": [
       " The issue of shrinking and closing spaces for civil society must be added to the <span style=\"background-color:#DFFF00 \">agenda</span><span style=\"background-color:#DFFF00 \"> of</span> national parliaments , multilateral organizations , and international negotiation processes ."
      ],
      "text/plain": [
       "<IPython.core.display.HTML object>"
      ]
     },
     "metadata": {},
     "output_type": "display_data"
    },
    {
     "data": {
      "text/html": [
       " A questão da restrição ou encerramento dos espaços para a sociedade civil deve ser acrescentada à <span style=\"background-color:#DFFF00 \">ordem</span><span style=\"background-color:#DFFF00 \"> do</span><span style=\"background-color:#DFFF00 \"> dia</span><span style=\"background-color:#DFFF00 \"> dos</span> parlamentos nacionais , das organizações multilaterais e dos processos de negociação internacional ."
      ],
      "text/plain": [
       "<IPython.core.display.HTML object>"
      ]
     },
     "metadata": {},
     "output_type": "display_data"
    },
    {
     "name": "stdout",
     "output_type": "stream",
     "text": [
      "____________________________________90___________________________________________________\n",
      "\u001b[94m\u001b[1m🤓 OK\u001b[0m\n"
     ]
    },
    {
     "data": {
      "text/html": [
       " <span style=\"background-color:#e0e0e0 \">8.580065</span> <span style=\"background-color:#DFFF00 \">11.495296</span>"
      ],
      "text/plain": [
       "<IPython.core.display.HTML object>"
      ]
     },
     "metadata": {},
     "output_type": "display_data"
    },
    {
     "data": {
      "text/html": [
       " The fact is that every head of state , every government , and every citizen <span style=\"background-color:#DFFF00 \">has</span><span style=\"background-color:#DFFF00 \"> a</span><span style=\"background-color:#DFFF00 \"> responsibility</span> to ensure that we achieve the SDGs ."
      ],
      "text/plain": [
       "<IPython.core.display.HTML object>"
      ]
     },
     "metadata": {},
     "output_type": "display_data"
    },
    {
     "data": {
      "text/html": [
       " A verdade é que cada chefe de estado , cada governo e cada cidadão <span style=\"background-color:#DFFF00 \">são</span><span style=\"background-color:#DFFF00 \"> responsáveis</span> por garantir que alcançamos os ODS ."
      ],
      "text/plain": [
       "<IPython.core.display.HTML object>"
      ]
     },
     "metadata": {},
     "output_type": "display_data"
    },
    {
     "name": "stdout",
     "output_type": "stream",
     "text": [
      "____________________________________91___________________________________________________\n",
      "\u001b[94m\u001b[1m🤓 OK\u001b[0m\n"
     ]
    },
    {
     "data": {
      "text/html": [
       " <span style=\"background-color:#e0e0e0 \">-11.440868</span> <span style=\"background-color:#DFFF00 \">8.667378</span> <span style=\"background-color:#9FE2BF \">11.225098</span>"
      ],
      "text/plain": [
       "<IPython.core.display.HTML object>"
      ]
     },
     "metadata": {},
     "output_type": "display_data"
    },
    {
     "data": {
      "text/html": [
       " <span style=\"background-color:#DFFF00 \">In</span><span style=\"background-color:#DFFF00 \"> the</span><span style=\"background-color:#DFFF00 \"> DRC</span><span style=\"background-color:#DFFF00 \"> alone</span><span style=\"background-color:#DFFF00 \"> ,</span> IUWM systems can be expected to improve water delivery and sanitation <span style=\"background-color:#9FE2BF \">for</span> 17 million people by 2030 ."
      ],
      "text/plain": [
       "<IPython.core.display.HTML object>"
      ]
     },
     "metadata": {},
     "output_type": "display_data"
    },
    {
     "data": {
      "text/html": [
       " <span style=\"background-color:#DFFF00 \">Segundo</span><span style=\"background-color:#DFFF00 \"> as</span><span style=\"background-color:#DFFF00 \"> previsões</span><span style=\"background-color:#DFFF00 \"> ,</span><span style=\"background-color:#DFFF00 \"> só</span><span style=\"background-color:#DFFF00 \"> na</span><span style=\"background-color:#DFFF00 \"> República</span><span style=\"background-color:#DFFF00 \"> Democrática</span><span style=\"background-color:#DFFF00 \"> do</span><span style=\"background-color:#DFFF00 \"> Congo</span><span style=\"background-color:#DFFF00 \"> os</span> sistemas GIAU permitirão melhorar o abastecimento de água e o saneamento <span style=\"background-color:#9FE2BF \">básico</span><span style=\"background-color:#9FE2BF \"> para</span> 17 milhões de pessoas até 2030 ."
      ],
      "text/plain": [
       "<IPython.core.display.HTML object>"
      ]
     },
     "metadata": {},
     "output_type": "display_data"
    },
    {
     "name": "stdout",
     "output_type": "stream",
     "text": [
      "____________________________________93___________________________________________________\n",
      "\u001b[94m\u001b[1m🤓 OK\u001b[0m\n"
     ]
    },
    {
     "data": {
      "text/html": [
       " <span style=\"background-color:#e0e0e0 \">-7.0305657</span> <span style=\"background-color:#DFFF00 \">15.027813</span>"
      ],
      "text/plain": [
       "<IPython.core.display.HTML object>"
      ]
     },
     "metadata": {},
     "output_type": "display_data"
    },
    {
     "data": {
      "text/html": [
       " If China <span style=\"background-color:#DFFF00 \">is</span> to preserve its gains in global stature , it must avoid a political hard landing ."
      ],
      "text/plain": [
       "<IPython.core.display.HTML object>"
      ]
     },
     "metadata": {},
     "output_type": "display_data"
    },
    {
     "data": {
      "text/html": [
       " Se a China <span style=\"background-color:#DFFF00 \">pretende</span> preservar os seus ganhos em estatura global , deve evitar uma aterragem política forçada ."
      ],
      "text/plain": [
       "<IPython.core.display.HTML object>"
      ]
     },
     "metadata": {},
     "output_type": "display_data"
    },
    {
     "name": "stdout",
     "output_type": "stream",
     "text": [
      "____________________________________94___________________________________________________\n",
      "\u001b[94m\u001b[1m🤓 OK\u001b[0m\n"
     ]
    },
    {
     "data": {
      "text/html": [
       " <span style=\"background-color:#e0e0e0 \">1.9533898</span> <span style=\"background-color:#DFFF00 \">9.544811</span>"
      ],
      "text/plain": [
       "<IPython.core.display.HTML object>"
      ]
     },
     "metadata": {},
     "output_type": "display_data"
    },
    {
     "data": {
      "text/html": [
       " America 's current exchange-rate regime <span style=\"background-color:#DFFF00 \">is</span><span style=\"background-color:#DFFF00 \"> one</span> of floating rates - or at least of rates that can float ."
      ],
      "text/plain": [
       "<IPython.core.display.HTML object>"
      ]
     },
     "metadata": {},
     "output_type": "display_data"
    },
    {
     "data": {
      "text/html": [
       " O actual regime de taxas de câmbio da América <span style=\"background-color:#DFFF00 \">é</span><span style=\"background-color:#DFFF00 \"> um</span> regime de taxas variáveis - ou pelo menos de taxas que podem variar ."
      ],
      "text/plain": [
       "<IPython.core.display.HTML object>"
      ]
     },
     "metadata": {},
     "output_type": "display_data"
    },
    {
     "name": "stdout",
     "output_type": "stream",
     "text": [
      "____________________________________95___________________________________________________\n",
      "\u001b[94m\u001b[1m🤓 OK\u001b[0m\n"
     ]
    },
    {
     "data": {
      "text/html": [
       " <span style=\"background-color:#e0e0e0 \">4.2754493</span> <span style=\"background-color:#DFFF00 \">7.0757155</span> <span style=\"background-color:#9FE2BF \">12.323577</span>"
      ],
      "text/plain": [
       "<IPython.core.display.HTML object>"
      ]
     },
     "metadata": {},
     "output_type": "display_data"
    },
    {
     "data": {
      "text/html": [
       " <span style=\"background-color:#DFFF00 \">I</span><span style=\"background-color:#DFFF00 \"> continue</span><span style=\"background-color:#DFFF00 \"> to</span> <span style=\"background-color:#9FE2BF \">have</span> disagreements with Stiglitz on the record of policy advice , and with both Stiglitz and Farmer on some points of theory regarding secular stagnation ."
      ],
      "text/plain": [
       "<IPython.core.display.HTML object>"
      ]
     },
     "metadata": {},
     "output_type": "display_data"
    },
    {
     "data": {
      "text/html": [
       " <span style=\"background-color:#DFFF00 \">Continuo</span><span style=\"background-color:#DFFF00 \"> a</span> discordar de Stiglitz quanto ao historial do aconselhamento de políticas , e <span style=\"background-color:#9FE2BF \">a</span><span style=\"background-color:#9FE2BF \"> discordar</span> de Stiglitz e Farmer quanto a alguns pontos da teoria referente à estagnação secular ."
      ],
      "text/plain": [
       "<IPython.core.display.HTML object>"
      ]
     },
     "metadata": {},
     "output_type": "display_data"
    },
    {
     "name": "stdout",
     "output_type": "stream",
     "text": [
      "____________________________________96___________________________________________________\n",
      "\u001b[91m\u001b[1m😤 😠 😡 🤬  DETACHED HALLUCINATION\u001b[0m\n",
      "19.025708\n"
     ]
    },
    {
     "data": {
      "text/html": [
       " <span style=\"background-color:#e0e0e0 \">-11.113598</span> <span style=\"background-color:#DFFF00 \">6.414775</span> <span style=\"background-color:#9FE2BF \">7.91211</span>"
      ],
      "text/plain": [
       "<IPython.core.display.HTML object>"
      ]
     },
     "metadata": {},
     "output_type": "display_data"
    },
    {
     "data": {
      "text/html": [
       " While some factory jobs can be outsourced or automated <span style=\"background-color:#9FE2BF \">,</span> robots cannot yet <span style=\"background-color:#DFFF00 \">retrofit</span><span style=\"background-color:#DFFF00 \"> buildings</span><span style=\"background-color:#DFFF00 \"> ,</span><span style=\"background-color:#DFFF00 \"> or</span> construct vertical farms ."
      ],
      "text/plain": [
       "<IPython.core.display.HTML object>"
      ]
     },
     "metadata": {},
     "output_type": "display_data"
    },
    {
     "data": {
      "text/html": [
       " Embora alguns postos de trabalho fabris possam ser subcontratados ou automatizados <span style=\"background-color:#9FE2BF \">,</span><span style=\"background-color:#9FE2BF \"> os</span> robôs ainda não <span style=\"background-color:#DFFF00 \">conseguem</span><span style=\"background-color:#DFFF00 \"> melhorar</span><span style=\"background-color:#DFFF00 \"> os</span><span style=\"background-color:#DFFF00 \"> edifícios</span><span style=\"background-color:#DFFF00 \"> ,</span><span style=\"background-color:#DFFF00 \"> instalar</span><span style=\"background-color:#DFFF00 \"> células</span><span style=\"background-color:#DFFF00 \"> solares</span><span style=\"background-color:#DFFF00 \"> fotovoltaicas</span><span style=\"background-color:#DFFF00 \"> nos</span><span style=\"background-color:#DFFF00 \"> telhados</span><span style=\"background-color:#DFFF00 \"> ou</span> construir quintas verticais ."
      ],
      "text/plain": [
       "<IPython.core.display.HTML object>"
      ]
     },
     "metadata": {},
     "output_type": "display_data"
    },
    {
     "name": "stdout",
     "output_type": "stream",
     "text": [
      "____________________________________97___________________________________________________\n",
      "\u001b[94m\u001b[1m🤓 OK\u001b[0m\n"
     ]
    },
    {
     "data": {
      "text/html": [
       " <span style=\"background-color:#e0e0e0 \">12.3268795</span>"
      ],
      "text/plain": [
       "<IPython.core.display.HTML object>"
      ]
     },
     "metadata": {},
     "output_type": "display_data"
    },
    {
     "data": {
      "text/html": [
       " As Poland 's first post-communist prime minister , Tadeusz Mazowiecki , laid out his government 's ground-breaking program , he wobbled and appeared to faint ."
      ],
      "text/plain": [
       "<IPython.core.display.HTML object>"
      ]
     },
     "metadata": {},
     "output_type": "display_data"
    },
    {
     "data": {
      "text/html": [
       " Quando o primeiro primeiro-ministro da Polónia pós-comunista , Tadeusz Mazowiecki , apresentava o inovador programa do seu governo , vacilou e pareceu desmaiar ."
      ],
      "text/plain": [
       "<IPython.core.display.HTML object>"
      ]
     },
     "metadata": {},
     "output_type": "display_data"
    },
    {
     "name": "stdout",
     "output_type": "stream",
     "text": [
      "____________________________________98___________________________________________________\n",
      "\u001b[94m\u001b[1m🤓 OK\u001b[0m\n"
     ]
    },
    {
     "data": {
      "text/html": [
       " <span style=\"background-color:#e0e0e0 \">15.576895</span>"
      ],
      "text/plain": [
       "<IPython.core.display.HTML object>"
      ]
     },
     "metadata": {},
     "output_type": "display_data"
    },
    {
     "data": {
      "text/html": [
       " Although China is involved in the most wide-ranging and intense disputes , the most tragic is that between South Korea and Japan , given that both countries are democracies with almost identical strategic interests ."
      ],
      "text/plain": [
       "<IPython.core.display.HTML object>"
      ]
     },
     "metadata": {},
     "output_type": "display_data"
    },
    {
     "data": {
      "text/html": [
       " Embora a China esteja envolvida nas disputas mais generalizadas e intensas , a mais trágica é aquela entre a Coreia do Sul e o Japão , dado que ambos os países são democracias com interesses estratégicos quase idênticos ."
      ],
      "text/plain": [
       "<IPython.core.display.HTML object>"
      ]
     },
     "metadata": {},
     "output_type": "display_data"
    },
    {
     "name": "stdout",
     "output_type": "stream",
     "text": [
      "____________________________________99___________________________________________________\n",
      "\u001b[94m\u001b[1m🤓 OK\u001b[0m\n"
     ]
    },
    {
     "data": {
      "text/html": [
       " <span style=\"background-color:#e0e0e0 \">-3.0403428</span> <span style=\"background-color:#DFFF00 \">6.5028152</span> <span style=\"background-color:#9FE2BF \">7.5315323</span>"
      ],
      "text/plain": [
       "<IPython.core.display.HTML object>"
      ]
     },
     "metadata": {},
     "output_type": "display_data"
    },
    {
     "data": {
      "text/html": [
       " The problems are rooted in <span style=\"background-color:#DFFF00 \">the</span> field 's incentive structure - a winner-take-all system in which grants , prizes , and other rewards <span style=\"background-color:#9FE2BF \">go</span> to those who publish first ."
      ],
      "text/plain": [
       "<IPython.core.display.HTML object>"
      ]
     },
     "metadata": {},
     "output_type": "display_data"
    },
    {
     "data": {
      "text/html": [
       " Os problemas estão enraizados na estrutura de incentivos no domínio <span style=\"background-color:#DFFF00 \">da</span><span style=\"background-color:#DFFF00 \"> ciência</span> - um sistema do tipo o vencedor fica com tudo , segundo o qual os subsídios , prémios e outras recompensas <span style=\"background-color:#9FE2BF \">são</span> atribuídos a quem publicar primeiro ."
      ],
      "text/plain": [
       "<IPython.core.display.HTML object>"
      ]
     },
     "metadata": {},
     "output_type": "display_data"
    },
    {
     "name": "stdout",
     "output_type": "stream",
     "text": [
      "____________________________________100___________________________________________________\n",
      "\u001b[91m\u001b[1m😤 😠 😡 🤬  DETACHED HALLUCINATION\u001b[0m\n",
      "4.4463592400000005\n"
     ]
    },
    {
     "data": {
      "text/html": [
       " <span style=\"background-color:#e0e0e0 \">-5.4198155</span> <span style=\"background-color:#DFFF00 \">-0.97345626</span>"
      ],
      "text/plain": [
       "<IPython.core.display.HTML object>"
      ]
     },
     "metadata": {},
     "output_type": "display_data"
    },
    {
     "data": {
      "text/html": [
       " And decreasing exports is , of course , China 's <span style=\"background-color:#DFFF00 \">customary</span> response to weaker domestic demand ."
      ],
      "text/plain": [
       "<IPython.core.display.HTML object>"
      ]
     },
     "metadata": {},
     "output_type": "display_data"
    },
    {
     "data": {
      "text/html": [
       " E o aumento das exportações é , claro , a resposta <span style=\"background-color:#DFFF00 \">habitual</span> da China à procura interna mais fraca ."
      ],
      "text/plain": [
       "<IPython.core.display.HTML object>"
      ]
     },
     "metadata": {},
     "output_type": "display_data"
    },
    {
     "name": "stdout",
     "output_type": "stream",
     "text": [
      "____________________________________101___________________________________________________\n",
      "\u001b[94m\u001b[1m🤓 OK\u001b[0m\n"
     ]
    },
    {
     "data": {
      "text/html": [
       " <span style=\"background-color:#e0e0e0 \">15.544643</span>"
      ],
      "text/plain": [
       "<IPython.core.display.HTML object>"
      ]
     },
     "metadata": {},
     "output_type": "display_data"
    },
    {
     "data": {
      "text/html": [
       " Far from being an \" apocalyptic fantasy , \" the WHO said , a post-antibiotic era \" is instead a very real possibility for the twenty-first century . \""
      ],
      "text/plain": [
       "<IPython.core.display.HTML object>"
      ]
     },
     "metadata": {},
     "output_type": "display_data"
    },
    {
     "data": {
      "text/html": [
       " Longe de ser \" uma fantasia apocalíptica \" , referiu a OMS , uma era do pós-antibiótico \" é , pelo contrário , uma possibilidade muito real para o século XXI \" ."
      ],
      "text/plain": [
       "<IPython.core.display.HTML object>"
      ]
     },
     "metadata": {},
     "output_type": "display_data"
    },
    {
     "name": "stdout",
     "output_type": "stream",
     "text": [
      "____________________________________102___________________________________________________\n",
      "\u001b[94m\u001b[1m🤓 OK\u001b[0m\n"
     ]
    },
    {
     "data": {
      "text/html": [
       " <span style=\"background-color:#e0e0e0 \">-14.212141</span> <span style=\"background-color:#DFFF00 \">-3.5601354</span> <span style=\"background-color:#9FE2BF \">-2.2623236</span>"
      ],
      "text/plain": [
       "<IPython.core.display.HTML object>"
      ]
     },
     "metadata": {},
     "output_type": "display_data"
    },
    {
     "data": {
      "text/html": [
       " Better macroeconomic policy led to faster GDP growth , which <span style=\"background-color:#DFFF00 \">required</span><span style=\"background-color:#DFFF00 \"> financing</span><span style=\"background-color:#DFFF00 \"> and</span><span style=\"background-color:#DFFF00 \"> motivated</span><span style=\"background-color:#DFFF00 \"> some</span><span style=\"background-color:#DFFF00 \"> insiders</span><span style=\"background-color:#DFFF00 \"> to</span><span style=\"background-color:#DFFF00 \"> forego</span><span style=\"background-color:#DFFF00 \"> pernicious</span><span style=\"background-color:#DFFF00 \"> maneuvering</span> that <span style=\"background-color:#9FE2BF \">would</span> scare away new outside investors ."
      ],
      "text/plain": [
       "<IPython.core.display.HTML object>"
      ]
     },
     "metadata": {},
     "output_type": "display_data"
    },
    {
     "data": {
      "text/html": [
       " Políticas macroeconômicas sólidas influenciaram o crescimento do PIB , que por <span style=\"background-color:#DFFF00 \">sua</span><span style=\"background-color:#DFFF00 \"> vez</span><span style=\"background-color:#DFFF00 \"> demandou</span><span style=\"background-color:#DFFF00 \"> financiamento</span><span style=\"background-color:#DFFF00 \"> e</span><span style=\"background-color:#DFFF00 \"> influenciou</span><span style=\"background-color:#DFFF00 \"> o</span><span style=\"background-color:#DFFF00 \"> bom</span><span style=\"background-color:#DFFF00 \"> comportamento</span><span style=\"background-color:#DFFF00 \"> de</span><span style=\"background-color:#DFFF00 \"> controladores</span><span style=\"background-color:#DFFF00 \"> e</span><span style=\"background-color:#DFFF00 \"> administradores</span><span style=\"background-color:#DFFF00 \"> para</span> <span style=\"background-color:#9FE2BF \">não</span> assustar novos investidores ."
      ],
      "text/plain": [
       "<IPython.core.display.HTML object>"
      ]
     },
     "metadata": {},
     "output_type": "display_data"
    },
    {
     "name": "stdout",
     "output_type": "stream",
     "text": [
      "____________________________________106___________________________________________________\n",
      "\u001b[94m\u001b[1m🤓 OK\u001b[0m\n"
     ]
    },
    {
     "data": {
      "text/html": [
       " <span style=\"background-color:#e0e0e0 \">7.8547077</span> <span style=\"background-color:#DFFF00 \">11.638448</span>"
      ],
      "text/plain": [
       "<IPython.core.display.HTML object>"
      ]
     },
     "metadata": {},
     "output_type": "display_data"
    },
    {
     "data": {
      "text/html": [
       " <span style=\"background-color:#DFFF00 \">A</span><span style=\"background-color:#DFFF00 \"> techno-polity</span><span style=\"background-color:#DFFF00 \"> also</span> recognizes the critical role of cooperation , strategic thinking , and adaptation ."
      ],
      "text/plain": [
       "<IPython.core.display.HTML object>"
      ]
     },
     "metadata": {},
     "output_type": "display_data"
    },
    {
     "data": {
      "text/html": [
       " <span style=\"background-color:#DFFF00 \">O</span><span style=\"background-color:#DFFF00 \"> tecno-estado</span><span style=\"background-color:#DFFF00 \"> também</span> reconhece o papel crítico da cooperação , do pensamento estratégico , e da adaptação ."
      ],
      "text/plain": [
       "<IPython.core.display.HTML object>"
      ]
     },
     "metadata": {},
     "output_type": "display_data"
    },
    {
     "name": "stdout",
     "output_type": "stream",
     "text": [
      "____________________________________108___________________________________________________\n",
      "\u001b[94m\u001b[1m🤓 OK\u001b[0m\n"
     ]
    },
    {
     "data": {
      "text/html": [
       " <span style=\"background-color:#e0e0e0 \">-8.025448</span>"
      ],
      "text/plain": [
       "<IPython.core.display.HTML object>"
      ]
     },
     "metadata": {},
     "output_type": "display_data"
    },
    {
     "data": {
      "text/html": [
       " <span style=\"background-color:#DFFF00 \">With</span><span style=\"background-color:#DFFF00 \"> greater</span><span style=\"background-color:#DFFF00 \"> trade</span><span style=\"background-color:#DFFF00 \"> and</span><span style=\"background-color:#DFFF00 \"> travel</span><span style=\"background-color:#DFFF00 \"> to</span><span style=\"background-color:#DFFF00 \"> the</span><span style=\"background-color:#DFFF00 \"> region</span><span style=\"background-color:#DFFF00 \"> ,</span><span style=\"background-color:#DFFF00 \"> outbreaks</span><span style=\"background-color:#DFFF00 \"> are</span><span style=\"background-color:#DFFF00 \"> likely</span><span style=\"background-color:#DFFF00 \"> to</span><span style=\"background-color:#DFFF00 \"> spread</span><span style=\"background-color:#DFFF00 \"> before</span><span style=\"background-color:#DFFF00 \"> international</span><span style=\"background-color:#DFFF00 \"> containment</span><span style=\"background-color:#DFFF00 \"> can</span><span style=\"background-color:#DFFF00 \"> coalesce</span><span style=\"background-color:#DFFF00 \"> .</span>"
      ],
      "text/plain": [
       "<IPython.core.display.HTML object>"
      ]
     },
     "metadata": {},
     "output_type": "display_data"
    },
    {
     "data": {
      "text/html": [
       " <span style=\"background-color:#DFFF00 \">Com</span><span style=\"background-color:#DFFF00 \"> o</span><span style=\"background-color:#DFFF00 \"> crescimento</span><span style=\"background-color:#DFFF00 \"> do</span><span style=\"background-color:#DFFF00 \"> comércio</span><span style=\"background-color:#DFFF00 \"> e</span><span style=\"background-color:#DFFF00 \"> viagens</span><span style=\"background-color:#DFFF00 \"> para</span><span style=\"background-color:#DFFF00 \"> a</span><span style=\"background-color:#DFFF00 \"> região</span><span style=\"background-color:#DFFF00 \"> ,</span><span style=\"background-color:#DFFF00 \"> torna-se</span><span style=\"background-color:#DFFF00 \"> mais</span><span style=\"background-color:#DFFF00 \"> provável</span><span style=\"background-color:#DFFF00 \"> que</span><span style=\"background-color:#DFFF00 \"> os</span><span style=\"background-color:#DFFF00 \"> surtos</span><span style=\"background-color:#DFFF00 \"> alastrem</span><span style=\"background-color:#DFFF00 \"> antes</span><span style=\"background-color:#DFFF00 \"> da</span><span style=\"background-color:#DFFF00 \"> contenção</span><span style=\"background-color:#DFFF00 \"> internacional</span><span style=\"background-color:#DFFF00 \"> ser</span><span style=\"background-color:#DFFF00 \"> eficaz</span><span style=\"background-color:#DFFF00 \"> .</span>"
      ],
      "text/plain": [
       "<IPython.core.display.HTML object>"
      ]
     },
     "metadata": {},
     "output_type": "display_data"
    },
    {
     "name": "stdout",
     "output_type": "stream",
     "text": [
      "____________________________________111___________________________________________________\n",
      "\u001b[94m\u001b[1m🤓 OK\u001b[0m\n"
     ]
    },
    {
     "data": {
      "text/html": [
       " <span style=\"background-color:#e0e0e0 \">-12.52447</span> <span style=\"background-color:#DFFF00 \">13.47046</span>"
      ],
      "text/plain": [
       "<IPython.core.display.HTML object>"
      ]
     },
     "metadata": {},
     "output_type": "display_data"
    },
    {
     "data": {
      "text/html": [
       " Today 's children may be great consumers of technology , but rarely <span style=\"background-color:#DFFF00 \">are</span><span style=\"background-color:#DFFF00 \"> they</span><span style=\"background-color:#DFFF00 \"> truly</span><span style=\"background-color:#DFFF00 \"> tech</span><span style=\"background-color:#DFFF00 \"> literate</span> ."
      ],
      "text/plain": [
       "<IPython.core.display.HTML object>"
      ]
     },
     "metadata": {},
     "output_type": "display_data"
    },
    {
     "data": {
      "text/html": [
       " As crianças de hoje podem ser grandes consumidores de tecnologia , mas raramente <span style=\"background-color:#DFFF00 \">têm</span><span style=\"background-color:#DFFF00 \"> uma</span><span style=\"background-color:#DFFF00 \"> verdadeira</span><span style=\"background-color:#DFFF00 \"> cultura</span><span style=\"background-color:#DFFF00 \"> tecnológica</span> ."
      ],
      "text/plain": [
       "<IPython.core.display.HTML object>"
      ]
     },
     "metadata": {},
     "output_type": "display_data"
    },
    {
     "name": "stdout",
     "output_type": "stream",
     "text": [
      "____________________________________118___________________________________________________\n",
      "\u001b[94m\u001b[1m🤓 OK\u001b[0m\n"
     ]
    },
    {
     "data": {
      "text/html": [
       " <span style=\"background-color:#e0e0e0 \">14.77594</span>"
      ],
      "text/plain": [
       "<IPython.core.display.HTML object>"
      ]
     },
     "metadata": {},
     "output_type": "display_data"
    },
    {
     "data": {
      "text/html": [
       " Egypt 's newly democratic government would be more strictly accountable for fulfilling the treaty 's terms if it played an active role in establishing them ."
      ],
      "text/plain": [
       "<IPython.core.display.HTML object>"
      ]
     },
     "metadata": {},
     "output_type": "display_data"
    },
    {
     "data": {
      "text/html": [
       " O governo recém-democrata do Egipto seria mais estritamente responsável pelo cumprimento dos termos do tratado se tomasse um papel activo no seu estabelecimento ."
      ],
      "text/plain": [
       "<IPython.core.display.HTML object>"
      ]
     },
     "metadata": {},
     "output_type": "display_data"
    },
    {
     "name": "stdout",
     "output_type": "stream",
     "text": [
      "____________________________________119___________________________________________________\n",
      "\u001b[94m\u001b[1m🤓 OK\u001b[0m\n"
     ]
    },
    {
     "data": {
      "text/html": [
       " <span style=\"background-color:#e0e0e0 \">5.0236173</span> <span style=\"background-color:#DFFF00 \">13.2125435</span>"
      ],
      "text/plain": [
       "<IPython.core.display.HTML object>"
      ]
     },
     "metadata": {},
     "output_type": "display_data"
    },
    {
     "data": {
      "text/html": [
       " <span style=\"background-color:#DFFF00 \">The</span><span style=\"background-color:#DFFF00 \"> P5</span> + 1 should continue to negotiate with Iran on its uranium-enrichment program , while the International Atomic Energy Agency should negotiate with Iran on strengthening the transparency of its nuclear program ."
      ],
      "text/plain": [
       "<IPython.core.display.HTML object>"
      ]
     },
     "metadata": {},
     "output_type": "display_data"
    },
    {
     "data": {
      "text/html": [
       " <span style=\"background-color:#DFFF00 \">O</span><span style=\"background-color:#DFFF00 \"> grupo</span><span style=\"background-color:#DFFF00 \"> P5</span> + 1 deve continuar a negociar com o Irão sobre o programa de enriquecimento de urânio , enquanto a Agência Internacional da Energia Atómica dever negociar com o Irão em matéria de fortalecimento da transparência do programa nuclear do país ."
      ],
      "text/plain": [
       "<IPython.core.display.HTML object>"
      ]
     },
     "metadata": {},
     "output_type": "display_data"
    },
    {
     "name": "stdout",
     "output_type": "stream",
     "text": [
      "____________________________________120___________________________________________________\n",
      "\u001b[94m\u001b[1m🤓 OK\u001b[0m\n"
     ]
    },
    {
     "data": {
      "text/html": [
       " <span style=\"background-color:#e0e0e0 \">2.7102408</span> <span style=\"background-color:#DFFF00 \">8.555293</span> <span style=\"background-color:#9FE2BF \">15.429422</span>"
      ],
      "text/plain": [
       "<IPython.core.display.HTML object>"
      ]
     },
     "metadata": {},
     "output_type": "display_data"
    },
    {
     "data": {
      "text/html": [
       " While strategies have been discussed from Bangladesh to Zambia , funding for programs <span style=\"background-color:#DFFF00 \">proven</span> to reduce rates of child marriage - such as improving girls ' access to health care , <span style=\"background-color:#9FE2BF \">education</span><span style=\"background-color:#9FE2BF \"> ,</span><span style=\"background-color:#9FE2BF \"> and</span><span style=\"background-color:#9FE2BF \"> job</span><span style=\"background-color:#9FE2BF \"> training</span> - remains inadequate ."
      ],
      "text/plain": [
       "<IPython.core.display.HTML object>"
      ]
     },
     "metadata": {},
     "output_type": "display_data"
    },
    {
     "data": {
      "text/html": [
       " Embora tenham sido discutidas estratégias desde o Bangladesh até à Zâmbia , o financiamento para programas <span style=\"background-color:#DFFF00 \">efectivos</span> para reduzir as taxas de casamento infantil - tais como a melhoria do acesso das meninas aos cuidados de saúde , <span style=\"background-color:#9FE2BF \">ao</span><span style=\"background-color:#9FE2BF \"> ensino</span><span style=\"background-color:#9FE2BF \"> e</span><span style=\"background-color:#9FE2BF \"> à</span><span style=\"background-color:#9FE2BF \"> formação</span><span style=\"background-color:#9FE2BF \"> profissional</span> - ainda é insuficiente ."
      ],
      "text/plain": [
       "<IPython.core.display.HTML object>"
      ]
     },
     "metadata": {},
     "output_type": "display_data"
    },
    {
     "name": "stdout",
     "output_type": "stream",
     "text": [
      "____________________________________123___________________________________________________\n",
      "\u001b[91m\u001b[1m😤 😠 😡 🤬  DETACHED HALLUCINATION\u001b[0m\n",
      "9.113504800000001\n"
     ]
    },
    {
     "data": {
      "text/html": [
       " <span style=\"background-color:#e0e0e0 \">-10.423901</span> <span style=\"background-color:#DFFF00 \">-3.5831108</span> <span style=\"background-color:#9FE2BF \">-1.3103962</span>"
      ],
      "text/plain": [
       "<IPython.core.display.HTML object>"
      ]
     },
     "metadata": {},
     "output_type": "display_data"
    },
    {
     "data": {
      "text/html": [
       " As major brands like <span style=\"background-color:#DFFF00 \">Coke</span><span style=\"background-color:#DFFF00 \"> and</span><span style=\"background-color:#DFFF00 \"> Red</span><span style=\"background-color:#DFFF00 \"> Bull</span><span style=\"background-color:#DFFF00 \"> aggressively</span> market stevia-sweetened cola drinks as natural and healthy <span style=\"background-color:#9FE2BF \">,</span><span style=\"background-color:#9FE2BF \"> the</span> agricultural acreage of the plant has exploded ."
      ],
      "text/plain": [
       "<IPython.core.display.HTML object>"
      ]
     },
     "metadata": {},
     "output_type": "display_data"
    },
    {
     "data": {
      "text/html": [
       " Quando grandes marcas como <span style=\"background-color:#DFFF00 \">a</span><span style=\"background-color:#DFFF00 \"> Coca-Cola</span><span style=\"background-color:#DFFF00 \"> e</span><span style=\"background-color:#DFFF00 \"> a</span><span style=\"background-color:#DFFF00 \"> Pepsi</span><span style=\"background-color:#DFFF00 \"> começaram</span><span style=\"background-color:#DFFF00 \"> a</span> comercializar massivamente bebidas de cola adoçadas com stevia como sendo naturais e saudáveis <span style=\"background-color:#9FE2BF \">,</span><span style=\"background-color:#9FE2BF \"> a</span> superfície agrícola desta planta expandiu-se significativamente ."
      ],
      "text/plain": [
       "<IPython.core.display.HTML object>"
      ]
     },
     "metadata": {},
     "output_type": "display_data"
    },
    {
     "name": "stdout",
     "output_type": "stream",
     "text": [
      "____________________________________125___________________________________________________\n",
      "\u001b[94m\u001b[1m🤓 OK\u001b[0m\n"
     ]
    },
    {
     "data": {
      "text/html": [
       " <span style=\"background-color:#e0e0e0 \">15.60425</span>"
      ],
      "text/plain": [
       "<IPython.core.display.HTML object>"
      ]
     },
     "metadata": {},
     "output_type": "display_data"
    },
    {
     "data": {
      "text/html": [
       " Those who filled Tahrir Square 16 months ago were silenced , and the expected transfer of power from the military to a civilian , democratic government was thrown into doubt ."
      ],
      "text/plain": [
       "<IPython.core.display.HTML object>"
      ]
     },
     "metadata": {},
     "output_type": "display_data"
    },
    {
     "data": {
      "text/html": [
       " Aqueles que encheram a Praça Tahrir há 16 meses foram silenciados , e a esperada transferência de poder dos militares para um governo civil democrático foi posta em dúvida ."
      ],
      "text/plain": [
       "<IPython.core.display.HTML object>"
      ]
     },
     "metadata": {},
     "output_type": "display_data"
    },
    {
     "name": "stdout",
     "output_type": "stream",
     "text": [
      "____________________________________128___________________________________________________\n",
      "\u001b[94m\u001b[1m🤓 OK\u001b[0m\n"
     ]
    },
    {
     "data": {
      "text/html": [
       " <span style=\"background-color:#e0e0e0 \">15.598338</span>"
      ],
      "text/plain": [
       "<IPython.core.display.HTML object>"
      ]
     },
     "metadata": {},
     "output_type": "display_data"
    },
    {
     "data": {
      "text/html": [
       " In South Africa 's review , it found that it had not received significant investments from the countries with which it had signed agreements , but had received significant investments from those with which it had not ."
      ],
      "text/plain": [
       "<IPython.core.display.HTML object>"
      ]
     },
     "metadata": {},
     "output_type": "display_data"
    },
    {
     "data": {
      "text/html": [
       " Na revisão feita pela África do Sul , esta descobriu que não tinha recebido investimentos significativos dos países com quem tinha assinado acordos , mas tinha recebido investimentos significativos dos países com quem não tinha assinado acordos ."
      ],
      "text/plain": [
       "<IPython.core.display.HTML object>"
      ]
     },
     "metadata": {},
     "output_type": "display_data"
    },
    {
     "name": "stdout",
     "output_type": "stream",
     "text": [
      "____________________________________129___________________________________________________\n",
      "\u001b[94m\u001b[1m🤓 OK\u001b[0m\n"
     ]
    },
    {
     "data": {
      "text/html": [
       " <span style=\"background-color:#e0e0e0 \">15.432561</span>"
      ],
      "text/plain": [
       "<IPython.core.display.HTML object>"
      ]
     },
     "metadata": {},
     "output_type": "display_data"
    },
    {
     "data": {
      "text/html": [
       " One of the biggest challenges that Africa 's economies have always faced is overcoming exceptionally low volumes of intra-continental trade in value-added products ."
      ],
      "text/plain": [
       "<IPython.core.display.HTML object>"
      ]
     },
     "metadata": {},
     "output_type": "display_data"
    },
    {
     "data": {
      "text/html": [
       " Um dos maiores desafios que as economias africanas sempre enfrentaram consiste em ultrapassar os volumes excepcionalmente baixos de comércio intra-continental em produtos de valor acrescentado ."
      ],
      "text/plain": [
       "<IPython.core.display.HTML object>"
      ]
     },
     "metadata": {},
     "output_type": "display_data"
    },
    {
     "name": "stdout",
     "output_type": "stream",
     "text": [
      "____________________________________130___________________________________________________\n",
      "\u001b[94m\u001b[1m🤓 OK\u001b[0m\n"
     ]
    },
    {
     "data": {
      "text/html": [
       " <span style=\"background-color:#e0e0e0 \">12.607999</span>"
      ],
      "text/plain": [
       "<IPython.core.display.HTML object>"
      ]
     },
     "metadata": {},
     "output_type": "display_data"
    },
    {
     "data": {
      "text/html": [
       " China , India , and the Philippines are the three largest recipients of remittances , while Bangladesh , Indonesia , Pakistan , and Vietnam are also in the top ten ."
      ],
      "text/plain": [
       "<IPython.core.display.HTML object>"
      ]
     },
     "metadata": {},
     "output_type": "display_data"
    },
    {
     "data": {
      "text/html": [
       " A China , a Índia e as Filipinas são os três maiores receptores de remessas , embora o Bangladesh , a Indonésia , o Paquistão e o Vietname também estejam no top ten ."
      ],
      "text/plain": [
       "<IPython.core.display.HTML object>"
      ]
     },
     "metadata": {},
     "output_type": "display_data"
    },
    {
     "name": "stdout",
     "output_type": "stream",
     "text": [
      "____________________________________132___________________________________________________\n",
      "\u001b[94m\u001b[1m🤓 OK\u001b[0m\n"
     ]
    },
    {
     "data": {
      "text/html": [
       " <span style=\"background-color:#e0e0e0 \">2.8522751</span> <span style=\"background-color:#DFFF00 \">15.558278</span>"
      ],
      "text/plain": [
       "<IPython.core.display.HTML object>"
      ]
     },
     "metadata": {},
     "output_type": "display_data"
    },
    {
     "data": {
      "text/html": [
       " In fact , Pecora examined only one commercial bank , National City Bank , prior to the <span style=\"background-color:#DFFF00 \">enactment</span><span style=\"background-color:#DFFF00 \"> of</span> Glass-Steagall ."
      ],
      "text/plain": [
       "<IPython.core.display.HTML object>"
      ]
     },
     "metadata": {},
     "output_type": "display_data"
    },
    {
     "data": {
      "text/html": [
       " Na verdade , antes da <span style=\"background-color:#DFFF00 \">promulgação</span><span style=\"background-color:#DFFF00 \"> da</span><span style=\"background-color:#DFFF00 \"> lei</span> Glass-Steagall , Pecora analisou apenas um banco comercial , o National City Bank ."
      ],
      "text/plain": [
       "<IPython.core.display.HTML object>"
      ]
     },
     "metadata": {},
     "output_type": "display_data"
    },
    {
     "name": "stdout",
     "output_type": "stream",
     "text": [
      "____________________________________133___________________________________________________\n",
      "\u001b[94m\u001b[1m🤓 OK\u001b[0m\n"
     ]
    },
    {
     "data": {
      "text/html": [
       " <span style=\"background-color:#e0e0e0 \">15.583815</span>"
      ],
      "text/plain": [
       "<IPython.core.display.HTML object>"
      ]
     },
     "metadata": {},
     "output_type": "display_data"
    },
    {
     "data": {
      "text/html": [
       " Israel 's life in a bubble was also exemplified by the two major religious parties in the elections ."
      ],
      "text/plain": [
       "<IPython.core.display.HTML object>"
      ]
     },
     "metadata": {},
     "output_type": "display_data"
    },
    {
     "data": {
      "text/html": [
       " A vida de Israel numa bolha também foi exemplificada nas eleições pelos dois principais partidos religiosos ."
      ],
      "text/plain": [
       "<IPython.core.display.HTML object>"
      ]
     },
     "metadata": {},
     "output_type": "display_data"
    },
    {
     "name": "stdout",
     "output_type": "stream",
     "text": [
      "____________________________________134___________________________________________________\n",
      "\u001b[94m\u001b[1m🤓 OK\u001b[0m\n"
     ]
    },
    {
     "data": {
      "text/html": [
       " <span style=\"background-color:#e0e0e0 \">9.803667</span> <span style=\"background-color:#DFFF00 \">15.529268</span>"
      ],
      "text/plain": [
       "<IPython.core.display.HTML object>"
      ]
     },
     "metadata": {},
     "output_type": "display_data"
    },
    {
     "data": {
      "text/html": [
       " Beyond deficit reduction , we need to implement a € 120 billion ( $ 155 billion ) European investment plan , and <span style=\"background-color:#DFFF00 \">deepen</span><span style=\"background-color:#DFFF00 \"> the</span><span style=\"background-color:#DFFF00 \"> European</span><span style=\"background-color:#DFFF00 \"> Single</span><span style=\"background-color:#DFFF00 \"> Market</span><span style=\"background-color:#DFFF00 \"> to</span><span style=\"background-color:#DFFF00 \"> unleash</span> its growth potential ."
      ],
      "text/plain": [
       "<IPython.core.display.HTML object>"
      ]
     },
     "metadata": {},
     "output_type": "display_data"
    },
    {
     "data": {
      "text/html": [
       " Além da redução do défice , precisamos de implementar um plano de investimento europeu de 120 mil milhões de euros ( 155 mil milhões de dólares ) e <span style=\"background-color:#DFFF00 \">aprofundar</span><span style=\"background-color:#DFFF00 \"> o</span><span style=\"background-color:#DFFF00 \"> mercado</span><span style=\"background-color:#DFFF00 \"> único</span><span style=\"background-color:#DFFF00 \"> europeu</span><span style=\"background-color:#DFFF00 \"> para</span><span style=\"background-color:#DFFF00 \"> libertar</span> o seu potencial de crescimento ."
      ],
      "text/plain": [
       "<IPython.core.display.HTML object>"
      ]
     },
     "metadata": {},
     "output_type": "display_data"
    },
    {
     "name": "stdout",
     "output_type": "stream",
     "text": [
      "____________________________________135___________________________________________________\n",
      "\u001b[91m\u001b[1m😤 😠 😡 🤬  DETACHED HALLUCINATION\u001b[0m\n",
      "15.14749825\n"
     ]
    },
    {
     "data": {
      "text/html": [
       " <span style=\"background-color:#e0e0e0 \">-0.10901625</span> <span style=\"background-color:#DFFF00 \">9.631835</span> <span style=\"background-color:#9FE2BF \">15.038482</span>"
      ],
      "text/plain": [
       "<IPython.core.display.HTML object>"
      ]
     },
     "metadata": {},
     "output_type": "display_data"
    },
    {
     "data": {
      "text/html": [
       " Private charities , which have <span style=\"background-color:#DFFF00 \">been</span><span style=\"background-color:#DFFF00 \"> instrumental</span><span style=\"background-color:#DFFF00 \"> in</span><span style=\"background-color:#DFFF00 \"> the</span><span style=\"background-color:#DFFF00 \"> fight</span><span style=\"background-color:#DFFF00 \"> against</span> innovation in fields such as health care , the environment , and education , could provide <span style=\"background-color:#9FE2BF \">valuable</span><span style=\"background-color:#9FE2BF \"> insight</span><span style=\"background-color:#9FE2BF \"> into</span> channeling aid more effectively ."
      ],
      "text/plain": [
       "<IPython.core.display.HTML object>"
      ]
     },
     "metadata": {},
     "output_type": "display_data"
    },
    {
     "data": {
      "text/html": [
       " Instituições privadas de beneficência , que têm <span style=\"background-color:#DFFF00 \">sido</span><span style=\"background-color:#DFFF00 \"> instrumentais</span><span style=\"background-color:#DFFF00 \"> na</span><span style=\"background-color:#DFFF00 \"> promoção</span><span style=\"background-color:#DFFF00 \"> da</span> inovação em áreas como os cuidados de saúde , o ambiente , e a educação , poderiam fornecer <span style=\"background-color:#9FE2BF \">uma</span><span style=\"background-color:#9FE2BF \"> visão</span><span style=\"background-color:#9FE2BF \"> valiosa</span><span style=\"background-color:#9FE2BF \"> em</span><span style=\"background-color:#9FE2BF \"> como</span> canalizar mais eficazmente a ajuda ."
      ],
      "text/plain": [
       "<IPython.core.display.HTML object>"
      ]
     },
     "metadata": {},
     "output_type": "display_data"
    },
    {
     "name": "stdout",
     "output_type": "stream",
     "text": [
      "____________________________________136___________________________________________________\n",
      "\u001b[94m\u001b[1m🤓 OK\u001b[0m\n"
     ]
    },
    {
     "data": {
      "text/html": [
       " <span style=\"background-color:#e0e0e0 \">13.655706</span>"
      ],
      "text/plain": [
       "<IPython.core.display.HTML object>"
      ]
     },
     "metadata": {},
     "output_type": "display_data"
    },
    {
     "data": {
      "text/html": [
       " Of the 74,000 survey respondents , 14 % said they paid for digital news at least once during the previous 12 months , while the average in the Nordic countries was closer to 30 % ."
      ],
      "text/plain": [
       "<IPython.core.display.HTML object>"
      ]
     },
     "metadata": {},
     "output_type": "display_data"
    },
    {
     "data": {
      "text/html": [
       " Dos 74 000 entrevistados pelo inquérito , 14 % afirmaram que pagaram por notícias digitais pelo menos uma vez nos últimos 12 meses , sendo que a média nos países Nórdicos se aproximou dos 30 % ."
      ],
      "text/plain": [
       "<IPython.core.display.HTML object>"
      ]
     },
     "metadata": {},
     "output_type": "display_data"
    },
    {
     "name": "stdout",
     "output_type": "stream",
     "text": [
      "____________________________________137___________________________________________________\n",
      "\u001b[94m\u001b[1m🤓 OK\u001b[0m\n"
     ]
    },
    {
     "data": {
      "text/html": [
       " <span style=\"background-color:#e0e0e0 \">-13.918319</span> <span style=\"background-color:#DFFF00 \">2.7636485</span> <span style=\"background-color:#9FE2BF \">6.7844257</span>"
      ],
      "text/plain": [
       "<IPython.core.display.HTML object>"
      ]
     },
     "metadata": {},
     "output_type": "display_data"
    },
    {
     "data": {
      "text/html": [
       " <span style=\"background-color:#9FE2BF \">Saudi</span> Crown Prince Mohammed bin Salman is widely believed to have ordered the killing ."
      ],
      "text/plain": [
       "<IPython.core.display.HTML object>"
      ]
     },
     "metadata": {},
     "output_type": "display_data"
    },
    {
     "data": {
      "text/html": [
       " A opinião geral acredita que o príncipe <span style=\"background-color:#9FE2BF \">herdeiro</span><span style=\"background-color:#9FE2BF \"> saudita</span><span style=\"background-color:#9FE2BF \"> ,</span> Mohammed bin Salman <span style=\"background-color:#DFFF00 \">(</span><span style=\"background-color:#DFFF00 \"> MBS</span><span style=\"background-color:#DFFF00 \"> )</span><span style=\"background-color:#DFFF00 \"> ,</span> tenha ordenado o assassinato ."
      ],
      "text/plain": [
       "<IPython.core.display.HTML object>"
      ]
     },
     "metadata": {},
     "output_type": "display_data"
    },
    {
     "name": "stdout",
     "output_type": "stream",
     "text": [
      "____________________________________138___________________________________________________\n",
      "\u001b[94m\u001b[1m🤓 OK\u001b[0m\n"
     ]
    },
    {
     "data": {
      "text/html": [
       " <span style=\"background-color:#e0e0e0 \">14.629891</span>"
      ],
      "text/plain": [
       "<IPython.core.display.HTML object>"
      ]
     },
     "metadata": {},
     "output_type": "display_data"
    },
    {
     "data": {
      "text/html": [
       " But , alongside all of that , the door should be kept wide open for negotiation ."
      ],
      "text/plain": [
       "<IPython.core.display.HTML object>"
      ]
     },
     "metadata": {},
     "output_type": "display_data"
    },
    {
     "data": {
      "text/html": [
       " Mas , ao lado de tudo isso , a porta deve manter-se aberta para a negociação ."
      ],
      "text/plain": [
       "<IPython.core.display.HTML object>"
      ]
     },
     "metadata": {},
     "output_type": "display_data"
    },
    {
     "name": "stdout",
     "output_type": "stream",
     "text": [
      "____________________________________140___________________________________________________\n",
      "\u001b[94m\u001b[1m🤓 OK\u001b[0m\n"
     ]
    },
    {
     "data": {
      "text/html": [
       " <span style=\"background-color:#e0e0e0 \">7.7223163</span> <span style=\"background-color:#DFFF00 \">11.985143</span>"
      ],
      "text/plain": [
       "<IPython.core.display.HTML object>"
      ]
     },
     "metadata": {},
     "output_type": "display_data"
    },
    {
     "data": {
      "text/html": [
       " Moreover , the Kurdish issue has reappeared - and could indirectly influence <span style=\"background-color:#DFFF00 \">and</span><span style=\"background-color:#DFFF00 \"> re-radicalize</span> the Palestinian question ."
      ],
      "text/plain": [
       "<IPython.core.display.HTML object>"
      ]
     },
     "metadata": {},
     "output_type": "display_data"
    },
    {
     "data": {
      "text/html": [
       " Além disso , a questão curda reapareceu - e poderia indirectamente influenciar <span style=\"background-color:#DFFF00 \">e</span><span style=\"background-color:#DFFF00 \"> voltar</span><span style=\"background-color:#DFFF00 \"> a</span><span style=\"background-color:#DFFF00 \"> radicalizar</span> a questão palestina ."
      ],
      "text/plain": [
       "<IPython.core.display.HTML object>"
      ]
     },
     "metadata": {},
     "output_type": "display_data"
    },
    {
     "name": "stdout",
     "output_type": "stream",
     "text": [
      "____________________________________141___________________________________________________\n",
      "\u001b[94m\u001b[1m🤓 OK\u001b[0m\n"
     ]
    },
    {
     "data": {
      "text/html": [
       " <span style=\"background-color:#e0e0e0 \">5.9612303</span> <span style=\"background-color:#DFFF00 \">15.361144</span>"
      ],
      "text/plain": [
       "<IPython.core.display.HTML object>"
      ]
     },
     "metadata": {},
     "output_type": "display_data"
    },
    {
     "data": {
      "text/html": [
       " Internal devaluation , combined with austerity and the single-market principle ( which facilitates capital <span style=\"background-color:#DFFF00 \">flight</span> and the hemorrhaging of banking systems ) is a toxic combination ."
      ],
      "text/plain": [
       "<IPython.core.display.HTML object>"
      ]
     },
     "metadata": {},
     "output_type": "display_data"
    },
    {
     "data": {
      "text/html": [
       " A desvalorização interna , combinada com austeridade e o princípio do mercado único ( que facilita a <span style=\"background-color:#DFFF00 \">saída</span><span style=\"background-color:#DFFF00 \"> de</span> capital e a hemorragia dos sistemas bancários ) constitui uma combinação tóxica ."
      ],
      "text/plain": [
       "<IPython.core.display.HTML object>"
      ]
     },
     "metadata": {},
     "output_type": "display_data"
    },
    {
     "name": "stdout",
     "output_type": "stream",
     "text": [
      "____________________________________143___________________________________________________\n",
      "\u001b[94m\u001b[1m🤓 OK\u001b[0m\n"
     ]
    },
    {
     "data": {
      "text/html": [
       " <span style=\"background-color:#e0e0e0 \">7.7709813</span> <span style=\"background-color:#DFFF00 \">15.50061</span>"
      ],
      "text/plain": [
       "<IPython.core.display.HTML object>"
      ]
     },
     "metadata": {},
     "output_type": "display_data"
    },
    {
     "data": {
      "text/html": [
       " Nigeria leads the list , with a staggering 56.4 % of <span style=\"background-color:#DFFF00 \">household</span><span style=\"background-color:#DFFF00 \"> income</span><span style=\"background-color:#DFFF00 \"> in</span><span style=\"background-color:#DFFF00 \"> 2015</span><span style=\"background-color:#DFFF00 \"> spent</span><span style=\"background-color:#DFFF00 \"> on</span><span style=\"background-color:#DFFF00 \"> food</span><span style=\"background-color:#DFFF00 \"> ,</span><span style=\"background-color:#DFFF00 \"> followed</span><span style=\"background-color:#DFFF00 \"> by</span> Kenya ( 46.7 % ) , Cameroon ( 45.6 % ) , and Algeria ( 42.5 % ) ."
      ],
      "text/plain": [
       "<IPython.core.display.HTML object>"
      ]
     },
     "metadata": {},
     "output_type": "display_data"
    },
    {
     "data": {
      "text/html": [
       " A Nigéria lidera a lista , com uns desconcertantes 56,4 % do <span style=\"background-color:#DFFF00 \">rendimento</span><span style=\"background-color:#DFFF00 \"> familiar</span><span style=\"background-color:#DFFF00 \"> gastos</span><span style=\"background-color:#DFFF00 \"> com</span><span style=\"background-color:#DFFF00 \"> a</span><span style=\"background-color:#DFFF00 \"> alimentação</span><span style=\"background-color:#DFFF00 \"> ,</span><span style=\"background-color:#DFFF00 \"> em</span><span style=\"background-color:#DFFF00 \"> 2015</span><span style=\"background-color:#DFFF00 \"> ,</span><span style=\"background-color:#DFFF00 \"> à</span><span style=\"background-color:#DFFF00 \"> frente</span><span style=\"background-color:#DFFF00 \"> do</span> Quénia ( 46,7 % ) , dos Camarões ( 45,6 % ) e da Argélia ( 42,5 % ) ."
      ],
      "text/plain": [
       "<IPython.core.display.HTML object>"
      ]
     },
     "metadata": {},
     "output_type": "display_data"
    },
    {
     "name": "stdout",
     "output_type": "stream",
     "text": [
      "____________________________________144___________________________________________________\n",
      "\u001b[94m\u001b[1m🤓 OK\u001b[0m\n"
     ]
    },
    {
     "data": {
      "text/html": [
       " <span style=\"background-color:#e0e0e0 \">3.8981566</span> <span style=\"background-color:#DFFF00 \">6.923852</span> <span style=\"background-color:#9FE2BF \">10.657317</span>"
      ],
      "text/plain": [
       "<IPython.core.display.HTML object>"
      ]
     },
     "metadata": {},
     "output_type": "display_data"
    },
    {
     "data": {
      "text/html": [
       " The <span style=\"background-color:#9FE2BF \">CRA</span><span style=\"background-color:#9FE2BF \"> instructs</span> federal financial supervisory agencies to encourage the institutions that they regulate to help the communities in which they are chartered to meet their credit needs , while also conforming to \" <span style=\"background-color:#DFFF00 \">safe</span><span style=\"background-color:#DFFF00 \"> and</span><span style=\"background-color:#DFFF00 \"> sound</span> \" standards ."
      ],
      "text/plain": [
       "<IPython.core.display.HTML object>"
      ]
     },
     "metadata": {},
     "output_type": "display_data"
    },
    {
     "data": {
      "text/html": [
       " A <span style=\"background-color:#9FE2BF \">LFC</span><span style=\"background-color:#9FE2BF \"> instrui</span><span style=\"background-color:#9FE2BF \"> as</span> agências federais de supervisão financeira a encorajar as instituições por elas reguladas no apoio à provisão das necessidades de crédito das comunidades onde estão registadas , ao mesmo tempo que respeitam padrões \" <span style=\"background-color:#DFFF00 \">racionais</span><span style=\"background-color:#DFFF00 \"> e</span><span style=\"background-color:#DFFF00 \"> seguros</span> \" ."
      ],
      "text/plain": [
       "<IPython.core.display.HTML object>"
      ]
     },
     "metadata": {},
     "output_type": "display_data"
    },
    {
     "name": "stdout",
     "output_type": "stream",
     "text": [
      "____________________________________145___________________________________________________\n",
      "\u001b[94m\u001b[1m🤓 OK\u001b[0m\n"
     ]
    },
    {
     "data": {
      "text/html": [
       " <span style=\"background-color:#e0e0e0 \">9.152244</span> <span style=\"background-color:#DFFF00 \">14.258788</span>"
      ],
      "text/plain": [
       "<IPython.core.display.HTML object>"
      ]
     },
     "metadata": {},
     "output_type": "display_data"
    },
    {
     "data": {
      "text/html": [
       " Among the most discussed remedies are those that would use market forces to <span style=\"background-color:#DFFF00 \">make</span><span style=\"background-color:#DFFF00 \"> traditional</span><span style=\"background-color:#DFFF00 \"> fuels</span><span style=\"background-color:#DFFF00 \"> more</span><span style=\"background-color:#DFFF00 \"> expensive</span><span style=\"background-color:#DFFF00 \"> ;</span> ideas include putting a price on carbon and protecting natural resources that remove carbon dioxide from the atmosphere ."
      ],
      "text/plain": [
       "<IPython.core.display.HTML object>"
      ]
     },
     "metadata": {},
     "output_type": "display_data"
    },
    {
     "data": {
      "text/html": [
       " Entre as soluções mais discutidas estão aquelas que usariam as forças do mercado para <span style=\"background-color:#DFFF00 \">tornar</span><span style=\"background-color:#DFFF00 \"> aumentar</span><span style=\"background-color:#DFFF00 \"> os</span><span style=\"background-color:#DFFF00 \"> preços</span><span style=\"background-color:#DFFF00 \"> dos</span><span style=\"background-color:#DFFF00 \"> combustíveis</span><span style=\"background-color:#DFFF00 \"> tradicionais</span><span style=\"background-color:#DFFF00 \"> ;</span><span style=\"background-color:#DFFF00 \"> as</span> ideias incluem fixar um preço para o carbono e proteger os recursos naturais que removem o dióxido de carbono da atmosfera ."
      ],
      "text/plain": [
       "<IPython.core.display.HTML object>"
      ]
     },
     "metadata": {},
     "output_type": "display_data"
    },
    {
     "name": "stdout",
     "output_type": "stream",
     "text": [
      "____________________________________146___________________________________________________\n",
      "\u001b[94m\u001b[1m🤓 OK\u001b[0m\n"
     ]
    },
    {
     "data": {
      "text/html": [
       " <span style=\"background-color:#e0e0e0 \">15.031297</span>"
      ],
      "text/plain": [
       "<IPython.core.display.HTML object>"
      ]
     },
     "metadata": {},
     "output_type": "display_data"
    },
    {
     "data": {
      "text/html": [
       " But an institutional decision was taken not to use this information on the grounds that it could not be \" verified . \""
      ],
      "text/plain": [
       "<IPython.core.display.HTML object>"
      ]
     },
     "metadata": {},
     "output_type": "display_data"
    },
    {
     "data": {
      "text/html": [
       " Mas foi tomada uma decisão institucional no sentido de não se utilizar essas informações , em virtude de as mesmas não poderem ser \" verificadas \" ."
      ],
      "text/plain": [
       "<IPython.core.display.HTML object>"
      ]
     },
     "metadata": {},
     "output_type": "display_data"
    },
    {
     "name": "stdout",
     "output_type": "stream",
     "text": [
      "____________________________________147___________________________________________________\n",
      "\u001b[94m\u001b[1m🤓 OK\u001b[0m\n"
     ]
    },
    {
     "data": {
      "text/html": [
       " <span style=\"background-color:#e0e0e0 \">-14.304787</span> <span style=\"background-color:#DFFF00 \">10.700362</span>"
      ],
      "text/plain": [
       "<IPython.core.display.HTML object>"
      ]
     },
     "metadata": {},
     "output_type": "display_data"
    },
    {
     "data": {
      "text/html": [
       " Given the degree of suffering caused by mosquito-borne diseases , government leaders must not subject genetic-engineering solutions for controlling them to the same kinds of <span style=\"background-color:#DFFF00 \">political</span><span style=\"background-color:#DFFF00 \"> and</span> populist headwinds that have impeded the approval of genetically engineered agricultural products ."
      ],
      "text/plain": [
       "<IPython.core.display.HTML object>"
      ]
     },
     "metadata": {},
     "output_type": "display_data"
    },
    {
     "data": {
      "text/html": [
       " Atendendo ao grau de sofrimento causado pelas doenças transmitidas por mosquitos , os líderes governamentais não deviam sujeitar as soluções de engenharia genética que visam o controlo dessas doenças aos mesmos tipos de turbulência <span style=\"background-color:#DFFF00 \">política</span><span style=\"background-color:#DFFF00 \"> e</span> populista que condicionaram a aprovação dos produtos agrícolas geneticamente modificados ."
      ],
      "text/plain": [
       "<IPython.core.display.HTML object>"
      ]
     },
     "metadata": {},
     "output_type": "display_data"
    },
    {
     "name": "stdout",
     "output_type": "stream",
     "text": [
      "____________________________________149___________________________________________________\n",
      "\u001b[94m\u001b[1m🤓 OK\u001b[0m\n"
     ]
    },
    {
     "data": {
      "text/html": [
       " <span style=\"background-color:#e0e0e0 \">14.613074</span>"
      ],
      "text/plain": [
       "<IPython.core.display.HTML object>"
      ]
     },
     "metadata": {},
     "output_type": "display_data"
    },
    {
     "data": {
      "text/html": [
       " Moreover , in the wake of the euro crisis , SNP leaders have dropped their old plan to embrace the euro and now say that they will keep the pound ."
      ],
      "text/plain": [
       "<IPython.core.display.HTML object>"
      ]
     },
     "metadata": {},
     "output_type": "display_data"
    },
    {
     "data": {
      "text/html": [
       " Além disso , no rescaldo da crise do euro , os líderes do SNP abandonaram o seu plano original de adopção do euro e afirmam agora que manterão a libra ."
      ],
      "text/plain": [
       "<IPython.core.display.HTML object>"
      ]
     },
     "metadata": {},
     "output_type": "display_data"
    },
    {
     "name": "stdout",
     "output_type": "stream",
     "text": [
      "____________________________________150___________________________________________________\n",
      "\u001b[94m\u001b[1m🤓 OK\u001b[0m\n"
     ]
    },
    {
     "data": {
      "text/html": [
       " <span style=\"background-color:#e0e0e0 \">15.553376</span>"
      ],
      "text/plain": [
       "<IPython.core.display.HTML object>"
      ]
     },
     "metadata": {},
     "output_type": "display_data"
    },
    {
     "data": {
      "text/html": [
       " He graduated from - and later taught at - the US Military Academy at West Point , an institution guided by the motto \" Duty , Honor , Country . \""
      ],
      "text/plain": [
       "<IPython.core.display.HTML object>"
      ]
     },
     "metadata": {},
     "output_type": "display_data"
    },
    {
     "data": {
      "text/html": [
       " Formou-se - e mais tarde ensinou na - na Academia Militar dos EUA em West Point , uma instituição que se rege pelo lema \" Dever , Honra , Pátria \" ."
      ],
      "text/plain": [
       "<IPython.core.display.HTML object>"
      ]
     },
     "metadata": {},
     "output_type": "display_data"
    },
    {
     "name": "stdout",
     "output_type": "stream",
     "text": [
      "____________________________________151___________________________________________________\n",
      "\u001b[91m\u001b[1m😤 😠 😡 🤬  DETACHED HALLUCINATION\u001b[0m\n",
      "9.093261199999999\n"
     ]
    },
    {
     "data": {
      "text/html": [
       " <span style=\"background-color:#e0e0e0 \">0.6265218</span> <span style=\"background-color:#DFFF00 \">6.976762</span> <span style=\"background-color:#9FE2BF \">9.719783</span>"
      ],
      "text/plain": [
       "<IPython.core.display.HTML object>"
      ]
     },
     "metadata": {},
     "output_type": "display_data"
    },
    {
     "data": {
      "text/html": [
       " Before ooniprobe , such censorship was difficult to detect , with governments and ISPs often denying <span style=\"background-color:#DFFF00 \">any</span><span style=\"background-color:#DFFF00 \"> and</span><span style=\"background-color:#DFFF00 \"> all</span> involvement ."
      ],
      "text/plain": [
       "<IPython.core.display.HTML object>"
      ]
     },
     "metadata": {},
     "output_type": "display_data"
    },
    {
     "data": {
      "text/html": [
       " Antes do ooniprobe , esta censura dificilmente seria detectada , o que levava <span style=\"background-color:#9FE2BF \">a</span><span style=\"background-color:#9FE2BF \"> uma</span><span style=\"background-color:#9FE2BF \"> ausência</span> de responsabilização , já que os governos e os ISP negam frequentemente <span style=\"background-color:#DFFF00 \">qualquer</span> envolvimento ."
      ],
      "text/plain": [
       "<IPython.core.display.HTML object>"
      ]
     },
     "metadata": {},
     "output_type": "display_data"
    },
    {
     "name": "stdout",
     "output_type": "stream",
     "text": [
      "____________________________________152___________________________________________________\n",
      "\u001b[94m\u001b[1m🤓 OK\u001b[0m\n"
     ]
    },
    {
     "data": {
      "text/html": [
       " <span style=\"background-color:#e0e0e0 \">-10.165915</span> <span style=\"background-color:#DFFF00 \">2.8071232</span> <span style=\"background-color:#9FE2BF \">10.202698</span>"
      ],
      "text/plain": [
       "<IPython.core.display.HTML object>"
      ]
     },
     "metadata": {},
     "output_type": "display_data"
    },
    {
     "data": {
      "text/html": [
       " The data , which were meant to <span style=\"background-color:#9FE2BF \">highlight</span> efforts to eradicate extreme poverty and reduce premature deaths <span style=\"background-color:#DFFF00 \">,</span><span style=\"background-color:#DFFF00 \"> was</span><span style=\"background-color:#DFFF00 \"> also</span><span style=\"background-color:#DFFF00 \"> intended</span><span style=\"background-color:#DFFF00 \"> to</span><span style=\"background-color:#DFFF00 \"> cajole</span> ."
      ],
      "text/plain": [
       "<IPython.core.display.HTML object>"
      ]
     },
     "metadata": {},
     "output_type": "display_data"
    },
    {
     "data": {
      "text/html": [
       " Os dados , que deveriam <span style=\"background-color:#9FE2BF \">destacar</span> os esforços envidados para erradicar a pobreza extrema e reduzir as mortes prematuras <span style=\"background-color:#DFFF00 \">,</span><span style=\"background-color:#DFFF00 \"> tinham</span><span style=\"background-color:#DFFF00 \"> também</span><span style=\"background-color:#DFFF00 \"> como</span><span style=\"background-color:#DFFF00 \"> objectivo</span><span style=\"background-color:#DFFF00 \"> convencer</span> ."
      ],
      "text/plain": [
       "<IPython.core.display.HTML object>"
      ]
     },
     "metadata": {},
     "output_type": "display_data"
    },
    {
     "name": "stdout",
     "output_type": "stream",
     "text": [
      "____________________________________153___________________________________________________\n",
      "\u001b[94m\u001b[1m🤓 OK\u001b[0m\n"
     ]
    },
    {
     "data": {
      "text/html": [
       " <span style=\"background-color:#e0e0e0 \">14.443715</span>"
      ],
      "text/plain": [
       "<IPython.core.display.HTML object>"
      ]
     },
     "metadata": {},
     "output_type": "display_data"
    },
    {
     "data": {
      "text/html": [
       " Learning disabilities occur almost twice as frequently among children in households earning less than $ 35,000 a year than they do in households earning more than $ 100,000 ."
      ],
      "text/plain": [
       "<IPython.core.display.HTML object>"
      ]
     },
     "metadata": {},
     "output_type": "display_data"
    },
    {
     "data": {
      "text/html": [
       " As dificuldades de aprendizagem ocorrem quase duas vezes mais frequentemente entre crianças de famílias de rendimentos inferiores a 35.000 dólares por ano do que nas famílias que ganham acima dos 100.000 dólares ."
      ],
      "text/plain": [
       "<IPython.core.display.HTML object>"
      ]
     },
     "metadata": {},
     "output_type": "display_data"
    },
    {
     "name": "stdout",
     "output_type": "stream",
     "text": [
      "____________________________________155___________________________________________________\n",
      "\u001b[91m\u001b[1m😤 😠 😡 🤬  DETACHED HALLUCINATION\u001b[0m\n",
      "21.7663072\n"
     ]
    },
    {
     "data": {
      "text/html": [
       " <span style=\"background-color:#e0e0e0 \">-15.168939</span> <span style=\"background-color:#DFFF00 \">-6.4809275</span> <span style=\"background-color:#9FE2BF \">6.5973682</span>"
      ],
      "text/plain": [
       "<IPython.core.display.HTML object>"
      ]
     },
     "metadata": {},
     "output_type": "display_data"
    },
    {
     "data": {
      "text/html": [
       " Like other humans , social scientists are prone to over-confidence in their <span style=\"background-color:#9FE2BF \">inferior</span> model <span style=\"background-color:#DFFF00 \">of</span><span style=\"background-color:#DFFF00 \"> the</span><span style=\"background-color:#DFFF00 \"> day</span> ."
      ],
      "text/plain": [
       "<IPython.core.display.HTML object>"
      ]
     },
     "metadata": {},
     "output_type": "display_data"
    },
    {
     "data": {
      "text/html": [
       " À semelhança dos demais seres humanos , os sociólogos têm tendência para confiar <span style=\"background-color:#9FE2BF \">excessivamente</span> no seu modelo <span style=\"background-color:#DFFF00 \">favorito</span> ."
      ],
      "text/plain": [
       "<IPython.core.display.HTML object>"
      ]
     },
     "metadata": {},
     "output_type": "display_data"
    },
    {
     "name": "stdout",
     "output_type": "stream",
     "text": [
      "____________________________________156___________________________________________________\n",
      "\u001b[94m\u001b[1m🤓 OK\u001b[0m\n"
     ]
    },
    {
     "data": {
      "text/html": [
       " <span style=\"background-color:#e0e0e0 \">5.273348</span> <span style=\"background-color:#DFFF00 \">12.5335455</span>"
      ],
      "text/plain": [
       "<IPython.core.display.HTML object>"
      ]
     },
     "metadata": {},
     "output_type": "display_data"
    },
    {
     "data": {
      "text/html": [
       " The silence was lamentable , but not surprising <span style=\"background-color:#DFFF00 \">;</span><span style=\"background-color:#DFFF00 \"> tracking</span><span style=\"background-color:#DFFF00 \"> donor</span><span style=\"background-color:#DFFF00 \"> funds</span> is extremely difficult ."
      ],
      "text/plain": [
       "<IPython.core.display.HTML object>"
      ]
     },
     "metadata": {},
     "output_type": "display_data"
    },
    {
     "data": {
      "text/html": [
       " O silêncio foi lamentável , mas não surpreendente <span style=\"background-color:#DFFF00 \">;</span><span style=\"background-color:#DFFF00 \"> controlar</span><span style=\"background-color:#DFFF00 \"> os</span><span style=\"background-color:#DFFF00 \"> fundos</span><span style=\"background-color:#DFFF00 \"> dos</span><span style=\"background-color:#DFFF00 \"> doadores</span> é extremamente difícil ."
      ],
      "text/plain": [
       "<IPython.core.display.HTML object>"
      ]
     },
     "metadata": {},
     "output_type": "display_data"
    },
    {
     "name": "stdout",
     "output_type": "stream",
     "text": [
      "____________________________________157___________________________________________________\n",
      "\u001b[94m\u001b[1m🤓 OK\u001b[0m\n"
     ]
    },
    {
     "data": {
      "text/html": [
       " <span style=\"background-color:#e0e0e0 \">15.106131</span>"
      ],
      "text/plain": [
       "<IPython.core.display.HTML object>"
      ]
     },
     "metadata": {},
     "output_type": "display_data"
    },
    {
     "data": {
      "text/html": [
       " This strong reaction reflects the profound importance of the EU 's ties with Israel , undercutting the long-held assumption that the US is the only outside actor that can influence Israeli policy ."
      ],
      "text/plain": [
       "<IPython.core.display.HTML object>"
      ]
     },
     "metadata": {},
     "output_type": "display_data"
    },
    {
     "data": {
      "text/html": [
       " Esta forte reacção reflecte a profunda importância das relações da UE com Israel , eliminando a suposição de longa data de que os EUA são o único actor externo que pode influenciar a política de Israel ."
      ],
      "text/plain": [
       "<IPython.core.display.HTML object>"
      ]
     },
     "metadata": {},
     "output_type": "display_data"
    },
    {
     "name": "stdout",
     "output_type": "stream",
     "text": [
      "____________________________________160___________________________________________________\n",
      "\u001b[94m\u001b[1m🤓 OK\u001b[0m\n"
     ]
    },
    {
     "data": {
      "text/html": [
       " <span style=\"background-color:#e0e0e0 \">2.4121704</span> <span style=\"background-color:#DFFF00 \">5.3337502</span> <span style=\"background-color:#9FE2BF \">8.161776</span> <span style=\"background-color:#CCCCFF \">9.698034</span>"
      ],
      "text/plain": [
       "<IPython.core.display.HTML object>"
      ]
     },
     "metadata": {},
     "output_type": "display_data"
    },
    {
     "data": {
      "text/html": [
       " Likewise <span style=\"background-color:#9FE2BF \">,</span><span style=\"background-color:#9FE2BF \"> the</span><span style=\"background-color:#9FE2BF \"> fear</span><span style=\"background-color:#9FE2BF \"> ,</span><span style=\"background-color:#9FE2BF \"> fueled</span><span style=\"background-color:#9FE2BF \"> entirely</span> by the European Union 's dysfunctional politics , that eurozone governments might <span style=\"background-color:#DFFF00 \">default</span> - thereby causing <span style=\"background-color:#CCCCFF \">the</span> same dire consequences - has begun to dissipate ."
      ],
      "text/plain": [
       "<IPython.core.display.HTML object>"
      ]
     },
     "metadata": {},
     "output_type": "display_data"
    },
    {
     "data": {
      "text/html": [
       " Da mesma forma <span style=\"background-color:#9FE2BF \">,</span><span style=\"background-color:#9FE2BF \"> o</span><span style=\"background-color:#9FE2BF \"> medo</span><span style=\"background-color:#9FE2BF \"> ,</span><span style=\"background-color:#9FE2BF \"> alimentado</span><span style=\"background-color:#9FE2BF \"> inteiramente</span> pela política disfuncional da União Europeia , de que os governos da zona euro pudessem <span style=\"background-color:#DFFF00 \">faltar</span><span style=\"background-color:#DFFF00 \"> aos</span><span style=\"background-color:#DFFF00 \"> compromissos</span> - causando , desse <span style=\"background-color:#CCCCFF \">modo</span><span style=\"background-color:#CCCCFF \"> ,</span><span style=\"background-color:#CCCCFF \"> as</span> mesmas consequências terríveis - começou a dissipar-se ."
      ],
      "text/plain": [
       "<IPython.core.display.HTML object>"
      ]
     },
     "metadata": {},
     "output_type": "display_data"
    },
    {
     "name": "stdout",
     "output_type": "stream",
     "text": [
      "____________________________________161___________________________________________________\n",
      "\u001b[94m\u001b[1m🤓 OK\u001b[0m\n"
     ]
    },
    {
     "data": {
      "text/html": [
       " <span style=\"background-color:#e0e0e0 \">-9.84812</span> <span style=\"background-color:#DFFF00 \">11.548635</span>"
      ],
      "text/plain": [
       "<IPython.core.display.HTML object>"
      ]
     },
     "metadata": {},
     "output_type": "display_data"
    },
    {
     "data": {
      "text/html": [
       " This maturation could not have come at a more opportune time ; roughly two-thirds of Africans depend on agriculture <span style=\"background-color:#DFFF00 \">to</span><span style=\"background-color:#DFFF00 \"> make</span><span style=\"background-color:#DFFF00 \"> ends</span><span style=\"background-color:#DFFF00 \"> meet</span> ."
      ],
      "text/plain": [
       "<IPython.core.display.HTML object>"
      ]
     },
     "metadata": {},
     "output_type": "display_data"
    },
    {
     "data": {
      "text/html": [
       " Esta maturação não poderia ter chegado num momento mais oportuno , já que perto de dois terços dos africanos dependem da agricultura <span style=\"background-color:#DFFF00 \">para</span><span style=\"background-color:#DFFF00 \"> sobreviverem</span> ."
      ],
      "text/plain": [
       "<IPython.core.display.HTML object>"
      ]
     },
     "metadata": {},
     "output_type": "display_data"
    },
    {
     "name": "stdout",
     "output_type": "stream",
     "text": [
      "____________________________________164___________________________________________________\n",
      "\u001b[94m\u001b[1m🤓 OK\u001b[0m\n"
     ]
    },
    {
     "data": {
      "text/html": [
       " <span style=\"background-color:#e0e0e0 \">-2.8597775</span> <span style=\"background-color:#DFFF00 \">12.980604</span>"
      ],
      "text/plain": [
       "<IPython.core.display.HTML object>"
      ]
     },
     "metadata": {},
     "output_type": "display_data"
    },
    {
     "data": {
      "text/html": [
       " And former Ukrainian Prime Minister Yuliya Tymoshenko , another previous winner , must be aghast : her country is being ravaged by Russia under <span style=\"background-color:#DFFF00 \">President</span><span style=\"background-color:#DFFF00 \"> Vladimir</span><span style=\"background-color:#DFFF00 \"> Putin</span><span style=\"background-color:#DFFF00 \"> ,</span><span style=\"background-color:#DFFF00 \"> the</span><span style=\"background-color:#DFFF00 \"> pope</span><span style=\"background-color:#DFFF00 \"> of</span><span style=\"background-color:#DFFF00 \"> illiberalism</span><span style=\"background-color:#DFFF00 \"> and</span><span style=\"background-color:#DFFF00 \"> role</span><span style=\"background-color:#DFFF00 \"> model</span><span style=\"background-color:#DFFF00 \"> for</span> Kaczyński and Orbán ."
      ],
      "text/plain": [
       "<IPython.core.display.HTML object>"
      ]
     },
     "metadata": {},
     "output_type": "display_data"
    },
    {
     "data": {
      "text/html": [
       " E a ex-primeira-ministra ucraniana , Yulia Tymoshenko , outra anterior vencedora , deve estar horrorizada : o seu país está a ser destruído pela Rússia sob <span style=\"background-color:#DFFF00 \">o</span><span style=\"background-color:#DFFF00 \"> comando</span><span style=\"background-color:#DFFF00 \"> do</span><span style=\"background-color:#DFFF00 \"> presidente</span><span style=\"background-color:#DFFF00 \"> Vladimir</span><span style=\"background-color:#DFFF00 \"> Putin</span><span style=\"background-color:#DFFF00 \"> ,</span><span style=\"background-color:#DFFF00 \"> a</span><span style=\"background-color:#DFFF00 \"> santidade</span><span style=\"background-color:#DFFF00 \"> do</span><span style=\"background-color:#DFFF00 \"> antiliberalismo</span><span style=\"background-color:#DFFF00 \"> e</span><span style=\"background-color:#DFFF00 \"> um</span><span style=\"background-color:#DFFF00 \"> modelo</span><span style=\"background-color:#DFFF00 \"> exemplar</span><span style=\"background-color:#DFFF00 \"> aos</span><span style=\"background-color:#DFFF00 \"> olhos</span><span style=\"background-color:#DFFF00 \"> de</span> Kaczyński e de Orbán ."
      ],
      "text/plain": [
       "<IPython.core.display.HTML object>"
      ]
     },
     "metadata": {},
     "output_type": "display_data"
    },
    {
     "name": "stdout",
     "output_type": "stream",
     "text": [
      "____________________________________167___________________________________________________\n",
      "\u001b[94m\u001b[1m🤓 OK\u001b[0m\n"
     ]
    },
    {
     "data": {
      "text/html": [
       " <span style=\"background-color:#e0e0e0 \">15.180478</span>"
      ],
      "text/plain": [
       "<IPython.core.display.HTML object>"
      ]
     },
     "metadata": {},
     "output_type": "display_data"
    },
    {
     "data": {
      "text/html": [
       " Finally , the International Import Expo will complement China 's other measures to liberalize its market , including lower entry barriers for foreign financial firms ."
      ],
      "text/plain": [
       "<IPython.core.display.HTML object>"
      ]
     },
     "metadata": {},
     "output_type": "display_data"
    },
    {
     "data": {
      "text/html": [
       " Finalmente , a International Import Expo complementará outras medidas da China para a liberalização do seu mercado , nomeadamente a redução das barreiras à entrada para empresas financeiras estrangeiras ."
      ],
      "text/plain": [
       "<IPython.core.display.HTML object>"
      ]
     },
     "metadata": {},
     "output_type": "display_data"
    },
    {
     "name": "stdout",
     "output_type": "stream",
     "text": [
      "____________________________________168___________________________________________________\n",
      "\u001b[94m\u001b[1m🤓 OK\u001b[0m\n"
     ]
    },
    {
     "data": {
      "text/html": [
       " <span style=\"background-color:#e0e0e0 \">8.472371</span> <span style=\"background-color:#DFFF00 \">14.402775</span>"
      ],
      "text/plain": [
       "<IPython.core.display.HTML object>"
      ]
     },
     "metadata": {},
     "output_type": "display_data"
    },
    {
     "data": {
      "text/html": [
       " PRINCETON - Imagine a two-state solution in Israel and Palestine in which Palestinians would have the right of <span style=\"background-color:#DFFF00 \">return</span><span style=\"background-color:#DFFF00 \"> ;</span> Israelis could settle wherever they could purchase land in the West Bank ; and Jerusalem need not be divided ."
      ],
      "text/plain": [
       "<IPython.core.display.HTML object>"
      ]
     },
     "metadata": {},
     "output_type": "display_data"
    },
    {
     "data": {
      "text/html": [
       " PRINCETON - Imaginemos uma solução a dois estados em Israel e Palestina em que os Palestinianos tivessem o direito de <span style=\"background-color:#DFFF00 \">regresso</span><span style=\"background-color:#DFFF00 \"> ;</span> os Israelitas pudessem estabelecer-se em qualquer sítio na Cisjordânia onde pudessem adquirir terra ; e Jerusalém não precisasse de ser dividida ."
      ],
      "text/plain": [
       "<IPython.core.display.HTML object>"
      ]
     },
     "metadata": {},
     "output_type": "display_data"
    },
    {
     "name": "stdout",
     "output_type": "stream",
     "text": [
      "____________________________________169___________________________________________________\n",
      "\u001b[94m\u001b[1m🤓 OK\u001b[0m\n"
     ]
    },
    {
     "data": {
      "text/html": [
       " <span style=\"background-color:#e0e0e0 \">11.100431</span>"
      ],
      "text/plain": [
       "<IPython.core.display.HTML object>"
      ]
     },
     "metadata": {},
     "output_type": "display_data"
    },
    {
     "data": {
      "text/html": [
       " Finally , GDP-indexed bonds and other tools for dealing sensibly with unsustainable debt could be applied exclusively to member states ' debt not covered by the program and in line with international best practices for sovereign-debt management ."
      ],
      "text/plain": [
       "<IPython.core.display.HTML object>"
      ]
     },
     "metadata": {},
     "output_type": "display_data"
    },
    {
     "data": {
      "text/html": [
       " Finalmente , as obrigações indexadas ao PIB e outras ferramentas utilizadas no tratamento cauteloso de dívidas insustentáveis poderiam ser aplicadas exclusivamente a dívidas dos Estados-Membros não cobertas pelo programa e em sintonia com as boas práticas internacionais para a administração da dívida soberana ."
      ],
      "text/plain": [
       "<IPython.core.display.HTML object>"
      ]
     },
     "metadata": {},
     "output_type": "display_data"
    },
    {
     "name": "stdout",
     "output_type": "stream",
     "text": [
      "____________________________________170___________________________________________________\n",
      "\u001b[94m\u001b[1m🤓 OK\u001b[0m\n"
     ]
    },
    {
     "data": {
      "text/html": [
       " <span style=\"background-color:#e0e0e0 \">6.028245</span>"
      ],
      "text/plain": [
       "<IPython.core.display.HTML object>"
      ]
     },
     "metadata": {},
     "output_type": "display_data"
    },
    {
     "data": {
      "text/html": [
       " NEW YORK - US President Donald Trump is about to make a policy mistake ."
      ],
      "text/plain": [
       "<IPython.core.display.HTML object>"
      ]
     },
     "metadata": {},
     "output_type": "display_data"
    },
    {
     "data": {
      "text/html": [
       " NOVA IORQUE - O Presidente dos EUA , Donald Trump , está prestes a cometer um erro político ."
      ],
      "text/plain": [
       "<IPython.core.display.HTML object>"
      ]
     },
     "metadata": {},
     "output_type": "display_data"
    },
    {
     "name": "stdout",
     "output_type": "stream",
     "text": [
      "____________________________________171___________________________________________________\n",
      "\u001b[94m\u001b[1m🤓 OK\u001b[0m\n"
     ]
    },
    {
     "data": {
      "text/html": [
       " <span style=\"background-color:#e0e0e0 \">13.975563</span>"
      ],
      "text/plain": [
       "<IPython.core.display.HTML object>"
      ]
     },
     "metadata": {},
     "output_type": "display_data"
    },
    {
     "data": {
      "text/html": [
       " Abedi 's barbaric act , by contrast , killed at least 22 people , many of them children ."
      ],
      "text/plain": [
       "<IPython.core.display.HTML object>"
      ]
     },
     "metadata": {},
     "output_type": "display_data"
    },
    {
     "data": {
      "text/html": [
       " O acto bárbaro de Abedi , pelo contrário , matou pelo menos 22 pessoas , muitas das quais crianças ."
      ],
      "text/plain": [
       "<IPython.core.display.HTML object>"
      ]
     },
     "metadata": {},
     "output_type": "display_data"
    },
    {
     "name": "stdout",
     "output_type": "stream",
     "text": [
      "____________________________________172___________________________________________________\n",
      "\u001b[94m\u001b[1m🤓 OK\u001b[0m\n"
     ]
    },
    {
     "data": {
      "text/html": [
       " <span style=\"background-color:#e0e0e0 \">11.081619</span>"
      ],
      "text/plain": [
       "<IPython.core.display.HTML object>"
      ]
     },
     "metadata": {},
     "output_type": "display_data"
    },
    {
     "data": {
      "text/html": [
       " If so , we can only hope that this crisis will not have come too late ."
      ],
      "text/plain": [
       "<IPython.core.display.HTML object>"
      ]
     },
     "metadata": {},
     "output_type": "display_data"
    },
    {
     "data": {
      "text/html": [
       " Se assim for , apenas podemos esperar que esta crise não tenha vindo tarde demais ."
      ],
      "text/plain": [
       "<IPython.core.display.HTML object>"
      ]
     },
     "metadata": {},
     "output_type": "display_data"
    },
    {
     "name": "stdout",
     "output_type": "stream",
     "text": [
      "____________________________________173___________________________________________________\n",
      "\u001b[94m\u001b[1m🤓 OK\u001b[0m\n"
     ]
    },
    {
     "data": {
      "text/html": [
       " <span style=\"background-color:#e0e0e0 \">13.487412</span>"
      ],
      "text/plain": [
       "<IPython.core.display.HTML object>"
      ]
     },
     "metadata": {},
     "output_type": "display_data"
    },
    {
     "data": {
      "text/html": [
       " The US authorities have said nothing about Al Jazeera journalist Mahmoud Hussein 's nearly two-year detention in Egypt ."
      ],
      "text/plain": [
       "<IPython.core.display.HTML object>"
      ]
     },
     "metadata": {},
     "output_type": "display_data"
    },
    {
     "data": {
      "text/html": [
       " As autoridades dos EUA não disseram nada sobre a detenção durante quase dois anos , no Egipto , do jornalista da Al Jazeera , Mahmoud Hussein ."
      ],
      "text/plain": [
       "<IPython.core.display.HTML object>"
      ]
     },
     "metadata": {},
     "output_type": "display_data"
    },
    {
     "name": "stdout",
     "output_type": "stream",
     "text": [
      "____________________________________174___________________________________________________\n",
      "\u001b[94m\u001b[1m🤓 OK\u001b[0m\n"
     ]
    },
    {
     "data": {
      "text/html": [
       " <span style=\"background-color:#e0e0e0 \">-12.170477</span> <span style=\"background-color:#DFFF00 \">-5.9984446</span> <span style=\"background-color:#9FE2BF \">4.4709797</span> <span style=\"background-color:#CCCCFF \">11.958223</span>"
      ],
      "text/plain": [
       "<IPython.core.display.HTML object>"
      ]
     },
     "metadata": {},
     "output_type": "display_data"
    },
    {
     "data": {
      "text/html": [
       " NEW YORK - Africa is changing dramatically - and so are <span style=\"background-color:#9FE2BF \">outsiders</span><span style=\"background-color:#9FE2BF \"> '</span> attitudes toward it <span style=\"background-color:#DFFF00 \">,</span><span style=\"background-color:#DFFF00 \"> with</span> the US finally seeming determined <span style=\"background-color:#CCCCFF \">to</span><span style=\"background-color:#CCCCFF \"> catch</span><span style=\"background-color:#CCCCFF \"> up</span><span style=\"background-color:#CCCCFF \"> with</span> China , Europe , and India in their interest in the continent ."
      ],
      "text/plain": [
       "<IPython.core.display.HTML object>"
      ]
     },
     "metadata": {},
     "output_type": "display_data"
    },
    {
     "data": {
      "text/html": [
       " NOVA IORQUE - A África está a mudar radicalmente - tal como estão a mudar as atitudes <span style=\"background-color:#9FE2BF \">de</span><span style=\"background-color:#9FE2BF \"> terceiros</span> em relação a esta <span style=\"background-color:#DFFF00 \">região</span><span style=\"background-color:#DFFF00 \"> ;</span><span style=\"background-color:#DFFF00 \"> veja-se</span> os EUA que parecem finalmente determinados <span style=\"background-color:#CCCCFF \">a</span><span style=\"background-color:#CCCCFF \"> juntar-se</span><span style=\"background-color:#CCCCFF \"> à</span> China , à Europa e à Índia no que diz respeito ao interesse pelo continente ."
      ],
      "text/plain": [
       "<IPython.core.display.HTML object>"
      ]
     },
     "metadata": {},
     "output_type": "display_data"
    },
    {
     "name": "stdout",
     "output_type": "stream",
     "text": [
      "____________________________________175___________________________________________________\n",
      "\u001b[94m\u001b[1m🤓 OK\u001b[0m\n"
     ]
    },
    {
     "data": {
      "text/html": [
       " <span style=\"background-color:#e0e0e0 \">1.8608488</span> <span style=\"background-color:#DFFF00 \">6.3555746</span>"
      ],
      "text/plain": [
       "<IPython.core.display.HTML object>"
      ]
     },
     "metadata": {},
     "output_type": "display_data"
    },
    {
     "data": {
      "text/html": [
       " The World Bank 's traditional instruments have been ( and still are ) low-interest loans , interest-free credits , and grants ."
      ],
      "text/plain": [
       "<IPython.core.display.HTML object>"
      ]
     },
     "metadata": {},
     "output_type": "display_data"
    },
    {
     "data": {
      "text/html": [
       " Os instrumentos tradicionais do Banco Mundial foram ( e ainda são ) os empréstimos com juros baixos , os créditos <span style=\"background-color:#DFFF00 \">sem</span><span style=\"background-color:#DFFF00 \"> juros</span> e as concessões ."
      ],
      "text/plain": [
       "<IPython.core.display.HTML object>"
      ]
     },
     "metadata": {},
     "output_type": "display_data"
    },
    {
     "name": "stdout",
     "output_type": "stream",
     "text": [
      "____________________________________177___________________________________________________\n",
      "\u001b[94m\u001b[1m🤓 OK\u001b[0m\n"
     ]
    },
    {
     "data": {
      "text/html": [
       " <span style=\"background-color:#e0e0e0 \">15.254144</span>"
      ],
      "text/plain": [
       "<IPython.core.display.HTML object>"
      ]
     },
     "metadata": {},
     "output_type": "display_data"
    },
    {
     "data": {
      "text/html": [
       " The African Union has declared 2014 the Year of Agriculture and Food Security in Africa ."
      ],
      "text/plain": [
       "<IPython.core.display.HTML object>"
      ]
     },
     "metadata": {},
     "output_type": "display_data"
    },
    {
     "data": {
      "text/html": [
       " A União Africana declarou 2014 como o Ano da Agricultura e Segurança Alimentar em África ."
      ],
      "text/plain": [
       "<IPython.core.display.HTML object>"
      ]
     },
     "metadata": {},
     "output_type": "display_data"
    },
    {
     "name": "stdout",
     "output_type": "stream",
     "text": [
      "____________________________________178___________________________________________________\n",
      "\u001b[94m\u001b[1m🤓 OK\u001b[0m\n"
     ]
    },
    {
     "data": {
      "text/html": [
       " <span style=\"background-color:#e0e0e0 \">15.404496</span>"
      ],
      "text/plain": [
       "<IPython.core.display.HTML object>"
      ]
     },
     "metadata": {},
     "output_type": "display_data"
    },
    {
     "data": {
      "text/html": [
       " But it has turned the \" strategic truce \" favored by many Arab leaders into the only conceivable alternative ."
      ],
      "text/plain": [
       "<IPython.core.display.HTML object>"
      ]
     },
     "metadata": {},
     "output_type": "display_data"
    },
    {
     "data": {
      "text/html": [
       " Mas transformou a \" trégua estratégica \" defendida por muitos líderes Árabes na única alternativa concebível ."
      ],
      "text/plain": [
       "<IPython.core.display.HTML object>"
      ]
     },
     "metadata": {},
     "output_type": "display_data"
    },
    {
     "name": "stdout",
     "output_type": "stream",
     "text": [
      "____________________________________179___________________________________________________\n",
      "\u001b[94m\u001b[1m🤓 OK\u001b[0m\n"
     ]
    },
    {
     "data": {
      "text/html": [
       " <span style=\"background-color:#e0e0e0 \">13.2228</span>"
      ],
      "text/plain": [
       "<IPython.core.display.HTML object>"
      ]
     },
     "metadata": {},
     "output_type": "display_data"
    },
    {
     "data": {
      "text/html": [
       " In fact , as former US National Security Adviser Zbigniew Brzezinski argued at the World Peace Forum in Beijing in June , what the world really needs is a comprehensive economic partnership between the US and China ."
      ],
      "text/plain": [
       "<IPython.core.display.HTML object>"
      ]
     },
     "metadata": {},
     "output_type": "display_data"
    },
    {
     "data": {
      "text/html": [
       " De facto , de acordo com as palavras do antigo Conselheiro de Segurança Nacional dos EUA , Zbigniew Brzezinski , no Fórum Mundial da Paz , realizado em Pequim , em Junho , o que o mundo realmente precisa é de um extenso acordo de parceria económica entre os EUA e a China ."
      ],
      "text/plain": [
       "<IPython.core.display.HTML object>"
      ]
     },
     "metadata": {},
     "output_type": "display_data"
    },
    {
     "name": "stdout",
     "output_type": "stream",
     "text": [
      "____________________________________180___________________________________________________\n",
      "\u001b[94m\u001b[1m🤓 OK\u001b[0m\n"
     ]
    },
    {
     "data": {
      "text/html": [
       " <span style=\"background-color:#e0e0e0 \">-7.680401</span> <span style=\"background-color:#DFFF00 \">15.5647745</span>"
      ],
      "text/plain": [
       "<IPython.core.display.HTML object>"
      ]
     },
     "metadata": {},
     "output_type": "display_data"
    },
    {
     "data": {
      "text/html": [
       " Many of the failed monetary measures <span style=\"background-color:#DFFF00 \">cost</span><span style=\"background-color:#DFFF00 \"> people</span><span style=\"background-color:#DFFF00 \"> significant</span><span style=\"background-color:#DFFF00 \"> savings</span><span style=\"background-color:#DFFF00 \"> ;</span> as a result , nearly every stabilization plan from that period was litigated , including the successful Plano Real ."
      ],
      "text/plain": [
       "<IPython.core.display.HTML object>"
      ]
     },
     "metadata": {},
     "output_type": "display_data"
    },
    {
     "data": {
      "text/html": [
       " Muitas das medidas monetárias fracassadas <span style=\"background-color:#DFFF00 \">custaram</span><span style=\"background-color:#DFFF00 \"> as</span><span style=\"background-color:#DFFF00 \"> economias</span><span style=\"background-color:#DFFF00 \"> de</span><span style=\"background-color:#DFFF00 \"> cidadãos</span><span style=\"background-color:#DFFF00 \"> .</span> Como resultado , quase todos os planos de estabilização desse período foram litigados , incluindo o bem sucedido Plano Real ."
      ],
      "text/plain": [
       "<IPython.core.display.HTML object>"
      ]
     },
     "metadata": {},
     "output_type": "display_data"
    },
    {
     "name": "stdout",
     "output_type": "stream",
     "text": [
      "____________________________________183___________________________________________________\n",
      "\u001b[94m\u001b[1m🤓 OK\u001b[0m\n"
     ]
    },
    {
     "data": {
      "text/html": [
       " <span style=\"background-color:#e0e0e0 \">10.473881</span>"
      ],
      "text/plain": [
       "<IPython.core.display.HTML object>"
      ]
     },
     "metadata": {},
     "output_type": "display_data"
    },
    {
     "data": {
      "text/html": [
       " Newly displaced people need food and emergency support , but the longer refugees are away from their homes , the more they need access to institutions that enable self-determination ."
      ],
      "text/plain": [
       "<IPython.core.display.HTML object>"
      ]
     },
     "metadata": {},
     "output_type": "display_data"
    },
    {
     "data": {
      "text/html": [
       " Os povos recentemente deslocados necessitam de apoio alimentar e de auxílio de emergência , contudo , quanto mais tempo os refugiados estão longe das suas casas , mais necessitam de acesso a instituições que permitam a autodeterminação ."
      ],
      "text/plain": [
       "<IPython.core.display.HTML object>"
      ]
     },
     "metadata": {},
     "output_type": "display_data"
    },
    {
     "name": "stdout",
     "output_type": "stream",
     "text": [
      "____________________________________184___________________________________________________\n",
      "\u001b[94m\u001b[1m🤓 OK\u001b[0m\n"
     ]
    },
    {
     "data": {
      "text/html": [
       " <span style=\"background-color:#e0e0e0 \">15.316238</span>"
      ],
      "text/plain": [
       "<IPython.core.display.HTML object>"
      ]
     },
     "metadata": {},
     "output_type": "display_data"
    },
    {
     "data": {
      "text/html": [
       " Hours later , UN Secretary-General Ban Ki-moon did as well , while Obama said that \" I fervently hope that this can be resolved in a non-military way . \""
      ],
      "text/plain": [
       "<IPython.core.display.HTML object>"
      ]
     },
     "metadata": {},
     "output_type": "display_data"
    },
    {
     "data": {
      "text/html": [
       " Horas mais tarde , o Secretário-Geral da ONU Ban Ki-moon fez o mesmo , enquanto Obama disse que \" espero fervorosamente que isto possa ser resolvido de um modo não-militar \" ."
      ],
      "text/plain": [
       "<IPython.core.display.HTML object>"
      ]
     },
     "metadata": {},
     "output_type": "display_data"
    },
    {
     "name": "stdout",
     "output_type": "stream",
     "text": [
      "____________________________________186___________________________________________________\n",
      "\u001b[94m\u001b[1m🤓 OK\u001b[0m\n"
     ]
    },
    {
     "data": {
      "text/html": [
       " <span style=\"background-color:#e0e0e0 \">12.188742</span>"
      ],
      "text/plain": [
       "<IPython.core.display.HTML object>"
      ]
     },
     "metadata": {},
     "output_type": "display_data"
    },
    {
     "data": {
      "text/html": [
       " PARIS - When the International Criminal Tribunal for the former Yugoslavia ( ICTY ) was established by the United Nations Security Council 20 years ago , on May 25 , 1993 , many regarded it as a meaningless gesture ."
      ],
      "text/plain": [
       "<IPython.core.display.HTML object>"
      ]
     },
     "metadata": {},
     "output_type": "display_data"
    },
    {
     "data": {
      "text/html": [
       " PARIS - Quando o Tribunal Penal Internacional para a antiga Jugoslávia ( TPIJ ) foi criado pelo Conselho de Segurança das Nações Unidas , há 20 anos , no dia 25 de Maio de 1993 , muitos consideraram-no como um gesto sem sentido ."
      ],
      "text/plain": [
       "<IPython.core.display.HTML object>"
      ]
     },
     "metadata": {},
     "output_type": "display_data"
    },
    {
     "name": "stdout",
     "output_type": "stream",
     "text": [
      "____________________________________187___________________________________________________\n",
      "\u001b[91m\u001b[1m😤 😠 😡 🤬  DETACHED HALLUCINATION\u001b[0m\n",
      "16.663328999999997\n"
     ]
    },
    {
     "data": {
      "text/html": [
       " <span style=\"background-color:#e0e0e0 \">-5.457742</span> <span style=\"background-color:#DFFF00 \">8.901108</span> <span style=\"background-color:#9FE2BF \">11.205587</span>"
      ],
      "text/plain": [
       "<IPython.core.display.HTML object>"
      ]
     },
     "metadata": {},
     "output_type": "display_data"
    },
    {
     "data": {
      "text/html": [
       " Laws meant to curb hate speech , or violence <span style=\"background-color:#9FE2BF \">,</span><span style=\"background-color:#9FE2BF \"> may</span> be well intentioned but their implementation has been sloppy , <span style=\"background-color:#DFFF00 \">with</span><span style=\"background-color:#DFFF00 \"> few</span><span style=\"background-color:#DFFF00 \"> mechanisms</span><span style=\"background-color:#DFFF00 \"> to</span><span style=\"background-color:#DFFF00 \"> ensure</span><span style=\"background-color:#DFFF00 \"> accountability</span> or reversibility ."
      ],
      "text/plain": [
       "<IPython.core.display.HTML object>"
      ]
     },
     "metadata": {},
     "output_type": "display_data"
    },
    {
     "data": {
      "text/html": [
       " As leis destinadas a refrear o discurso de ódio , violência ou \" notícias falsas <span style=\"background-color:#9FE2BF \">\"</span><span style=\"background-color:#9FE2BF \"> podem</span> ser bem-intencionadas , porém a sua aplicação tem sido descuidada , <span style=\"background-color:#DFFF00 \">com</span><span style=\"background-color:#DFFF00 \"> um</span><span style=\"background-color:#DFFF00 \"> número</span><span style=\"background-color:#DFFF00 \"> reduzido</span><span style=\"background-color:#DFFF00 \"> de</span><span style=\"background-color:#DFFF00 \"> mecanismos</span><span style=\"background-color:#DFFF00 \"> destinados</span><span style=\"background-color:#DFFF00 \"> a</span><span style=\"background-color:#DFFF00 \"> assegurar</span><span style=\"background-color:#DFFF00 \"> a</span><span style=\"background-color:#DFFF00 \"> prestação</span><span style=\"background-color:#DFFF00 \"> de</span><span style=\"background-color:#DFFF00 \"> contas</span><span style=\"background-color:#DFFF00 \"> ,</span><span style=\"background-color:#DFFF00 \"> a</span><span style=\"background-color:#DFFF00 \"> transparência</span> ou a reversibilidade ."
      ],
      "text/plain": [
       "<IPython.core.display.HTML object>"
      ]
     },
     "metadata": {},
     "output_type": "display_data"
    },
    {
     "name": "stdout",
     "output_type": "stream",
     "text": [
      "____________________________________188___________________________________________________\n",
      "\u001b[94m\u001b[1m🤓 OK\u001b[0m\n"
     ]
    },
    {
     "data": {
      "text/html": [
       " <span style=\"background-color:#e0e0e0 \">14.460449</span>"
      ],
      "text/plain": [
       "<IPython.core.display.HTML object>"
      ]
     },
     "metadata": {},
     "output_type": "display_data"
    },
    {
     "data": {
      "text/html": [
       " During the Bretton Woods era , the Unites States provided this \" service . \""
      ],
      "text/plain": [
       "<IPython.core.display.HTML object>"
      ]
     },
     "metadata": {},
     "output_type": "display_data"
    },
    {
     "data": {
      "text/html": [
       " Durante a era Bretton Woods , os Estados Unidos forneceram este \" serviço \" ."
      ],
      "text/plain": [
       "<IPython.core.display.HTML object>"
      ]
     },
     "metadata": {},
     "output_type": "display_data"
    },
    {
     "name": "stdout",
     "output_type": "stream",
     "text": [
      "____________________________________189___________________________________________________\n",
      "\u001b[94m\u001b[1m🤓 OK\u001b[0m\n"
     ]
    },
    {
     "data": {
      "text/html": [
       " <span style=\"background-color:#e0e0e0 \">6.7705173</span> <span style=\"background-color:#DFFF00 \">7.8328805</span> <span style=\"background-color:#9FE2BF \">9.511986</span> <span style=\"background-color:#CCCCFF \">14.755242</span>"
      ],
      "text/plain": [
       "<IPython.core.display.HTML object>"
      ]
     },
     "metadata": {},
     "output_type": "display_data"
    },
    {
     "data": {
      "text/html": [
       " Indeed , perhaps a better explanation is that instead of creating more <span style=\"background-color:#9FE2BF \">room</span><span style=\"background-color:#9FE2BF \"> for</span> central bankers , the banking rescues narrowed their <span style=\"background-color:#DFFF00 \">political</span> <span style=\"background-color:#CCCCFF \">room</span><span style=\"background-color:#CCCCFF \"> for</span> maneuver ."
      ],
      "text/plain": [
       "<IPython.core.display.HTML object>"
      ]
     },
     "metadata": {},
     "output_type": "display_data"
    },
    {
     "data": {
      "text/html": [
       " Na verdade , talvez uma melhor explicação seja que , em vez de criar mais <span style=\"background-color:#9FE2BF \">espaço</span><span style=\"background-color:#9FE2BF \"> para</span> os bancos centrais , os resgates dos bancos tenham estreitado a sua <span style=\"background-color:#CCCCFF \">margem</span><span style=\"background-color:#CCCCFF \"> de</span> manobra <span style=\"background-color:#DFFF00 \">política</span> ."
      ],
      "text/plain": [
       "<IPython.core.display.HTML object>"
      ]
     },
     "metadata": {},
     "output_type": "display_data"
    },
    {
     "name": "stdout",
     "output_type": "stream",
     "text": [
      "____________________________________190___________________________________________________\n",
      "\u001b[94m\u001b[1m🤓 OK\u001b[0m\n"
     ]
    },
    {
     "data": {
      "text/html": [
       " <span style=\"background-color:#e0e0e0 \">9.202414</span> <span style=\"background-color:#DFFF00 \">11.821222</span>"
      ],
      "text/plain": [
       "<IPython.core.display.HTML object>"
      ]
     },
     "metadata": {},
     "output_type": "display_data"
    },
    {
     "data": {
      "text/html": [
       " Ultimately , however , the path to sustained growth requires not just new policies , but also a new <span style=\"background-color:#DFFF00 \">mindset</span> ."
      ],
      "text/plain": [
       "<IPython.core.display.HTML object>"
      ]
     },
     "metadata": {},
     "output_type": "display_data"
    },
    {
     "data": {
      "text/html": [
       " Em última análise , porém , o caminho para o crescimento sustentado requer não apenas novas políticas , mas também um novo <span style=\"background-color:#DFFF00 \">estado</span><span style=\"background-color:#DFFF00 \"> de</span><span style=\"background-color:#DFFF00 \"> espírito</span> ."
      ],
      "text/plain": [
       "<IPython.core.display.HTML object>"
      ]
     },
     "metadata": {},
     "output_type": "display_data"
    },
    {
     "name": "stdout",
     "output_type": "stream",
     "text": [
      "____________________________________192___________________________________________________\n",
      "\u001b[94m\u001b[1m🤓 OK\u001b[0m\n"
     ]
    },
    {
     "data": {
      "text/html": [
       " <span style=\"background-color:#e0e0e0 \">5.9217305</span> <span style=\"background-color:#DFFF00 \">13.122231</span>"
      ],
      "text/plain": [
       "<IPython.core.display.HTML object>"
      ]
     },
     "metadata": {},
     "output_type": "display_data"
    },
    {
     "data": {
      "text/html": [
       " It was also the <span style=\"background-color:#DFFF00 \">pattern</span> of the long-term unemployed in Western Europe at the end of the 1980s ."
      ],
      "text/plain": [
       "<IPython.core.display.HTML object>"
      ]
     },
     "metadata": {},
     "output_type": "display_data"
    },
    {
     "data": {
      "text/html": [
       " Foi também o <span style=\"background-color:#DFFF00 \">padrão</span> dos desempregados de longa duração na Europa Ocidental no final da década de 1980 ."
      ],
      "text/plain": [
       "<IPython.core.display.HTML object>"
      ]
     },
     "metadata": {},
     "output_type": "display_data"
    },
    {
     "name": "stdout",
     "output_type": "stream",
     "text": [
      "____________________________________193___________________________________________________\n",
      "\u001b[94m\u001b[1m🤓 OK\u001b[0m\n"
     ]
    },
    {
     "data": {
      "text/html": [
       " <span style=\"background-color:#e0e0e0 \">15.583547</span>"
      ],
      "text/plain": [
       "<IPython.core.display.HTML object>"
      ]
     },
     "metadata": {},
     "output_type": "display_data"
    },
    {
     "data": {
      "text/html": [
       " As a result , there is not even the pretense of attempting fair and efficient restructurings ."
      ],
      "text/plain": [
       "<IPython.core.display.HTML object>"
      ]
     },
     "metadata": {},
     "output_type": "display_data"
    },
    {
     "data": {
      "text/html": [
       " Como resultado , não há nem sequer a pretensão de se tentar reestruturações justas e eficientes ."
      ],
      "text/plain": [
       "<IPython.core.display.HTML object>"
      ]
     },
     "metadata": {},
     "output_type": "display_data"
    },
    {
     "name": "stdout",
     "output_type": "stream",
     "text": [
      "____________________________________194___________________________________________________\n",
      "\u001b[91m\u001b[1m😤 😠 😡 🤬  DETACHED HALLUCINATION\u001b[0m\n",
      "16.20752464\n"
     ]
    },
    {
     "data": {
      "text/html": [
       " <span style=\"background-color:#e0e0e0 \">-15.290969</span> <span style=\"background-color:#DFFF00 \">0.91655564</span>"
      ],
      "text/plain": [
       "<IPython.core.display.HTML object>"
      ]
     },
     "metadata": {},
     "output_type": "display_data"
    },
    {
     "data": {
      "text/html": [
       " But all other important and relevant issues - <span style=\"background-color:#DFFF00 \">including</span><span style=\"background-color:#DFFF00 \"> structural</span><span style=\"background-color:#DFFF00 \"> goals</span><span style=\"background-color:#DFFF00 \"> and</span><span style=\"background-color:#DFFF00 \"> ,</span><span style=\"background-color:#DFFF00 \"> above</span><span style=\"background-color:#DFFF00 \"> all</span><span style=\"background-color:#DFFF00 \"> ,</span><span style=\"background-color:#DFFF00 \"> a</span><span style=\"background-color:#DFFF00 \"> common</span><span style=\"background-color:#DFFF00 \"> foreign</span><span style=\"background-color:#DFFF00 \"> and</span><span style=\"background-color:#DFFF00 \"> security</span><span style=\"background-color:#DFFF00 \"> policy</span> - have in fact been almost completely ignored ."
      ],
      "text/plain": [
       "<IPython.core.display.HTML object>"
      ]
     },
     "metadata": {},
     "output_type": "display_data"
    },
    {
     "data": {
      "text/html": [
       " Mas todas as outras questões importantes - <span style=\"background-color:#DFFF00 \">sobretudo</span><span style=\"background-color:#DFFF00 \"> a</span><span style=\"background-color:#DFFF00 \"> da</span><span style=\"background-color:#DFFF00 \"> política</span><span style=\"background-color:#DFFF00 \"> externa</span><span style=\"background-color:#DFFF00 \"> e</span><span style=\"background-color:#DFFF00 \"> de</span><span style=\"background-color:#DFFF00 \"> segurança</span><span style=\"background-color:#DFFF00 \"> comuns</span> - foram quase completamente ignoradas ."
      ],
      "text/plain": [
       "<IPython.core.display.HTML object>"
      ]
     },
     "metadata": {},
     "output_type": "display_data"
    },
    {
     "name": "stdout",
     "output_type": "stream",
     "text": [
      "____________________________________196___________________________________________________\n",
      "\u001b[94m\u001b[1m🤓 OK\u001b[0m\n"
     ]
    },
    {
     "data": {
      "text/html": [
       " <span style=\"background-color:#e0e0e0 \">4.9322023</span> <span style=\"background-color:#DFFF00 \">13.978834</span>"
      ],
      "text/plain": [
       "<IPython.core.display.HTML object>"
      ]
     },
     "metadata": {},
     "output_type": "display_data"
    },
    {
     "data": {
      "text/html": [
       " Humbled by its inability to control United States military operations , including the one that killed Osama bin Laden , the army is struggling <span style=\"background-color:#DFFF00 \">to</span><span style=\"background-color:#DFFF00 \"> play</span><span style=\"background-color:#DFFF00 \"> a</span><span style=\"background-color:#DFFF00 \"> hand</span><span style=\"background-color:#DFFF00 \"> in</span><span style=\"background-color:#DFFF00 \"> the</span><span style=\"background-color:#DFFF00 \"> country</span><span style=\"background-color:#DFFF00 \"> 's</span><span style=\"background-color:#DFFF00 \"> evolving</span><span style=\"background-color:#DFFF00 \"> relations</span> with India and the US ."
      ],
      "text/plain": [
       "<IPython.core.display.HTML object>"
      ]
     },
     "metadata": {},
     "output_type": "display_data"
    },
    {
     "data": {
      "text/html": [
       " Humilhado pela sua incapacidade de controlar as operações militares dos Estados Unidos , incluindo a que matou Osama bin Laden , o exército está a esforçar-se <span style=\"background-color:#DFFF00 \">para</span><span style=\"background-color:#DFFF00 \"> desempenhar</span><span style=\"background-color:#DFFF00 \"> um</span><span style=\"background-color:#DFFF00 \"> papel</span><span style=\"background-color:#DFFF00 \"> nas</span><span style=\"background-color:#DFFF00 \"> relações</span><span style=\"background-color:#DFFF00 \"> em</span><span style=\"background-color:#DFFF00 \"> desenvolvimento</span><span style=\"background-color:#DFFF00 \"> do</span><span style=\"background-color:#DFFF00 \"> país</span> com a Índia e com os EUA ."
      ],
      "text/plain": [
       "<IPython.core.display.HTML object>"
      ]
     },
     "metadata": {},
     "output_type": "display_data"
    },
    {
     "name": "stdout",
     "output_type": "stream",
     "text": [
      "____________________________________198___________________________________________________\n",
      "\u001b[94m\u001b[1m🤓 OK\u001b[0m\n"
     ]
    },
    {
     "data": {
      "text/html": [
       " <span style=\"background-color:#e0e0e0 \">2.764988</span> <span style=\"background-color:#DFFF00 \">8.686152</span> <span style=\"background-color:#9FE2BF \">13.995218</span>"
      ],
      "text/plain": [
       "<IPython.core.display.HTML object>"
      ]
     },
     "metadata": {},
     "output_type": "display_data"
    },
    {
     "data": {
      "text/html": [
       " <span style=\"background-color:#9FE2BF \">It</span><span style=\"background-color:#9FE2BF \"> has</span><span style=\"background-color:#9FE2BF \"> the</span><span style=\"background-color:#9FE2BF \"> resources</span><span style=\"background-color:#9FE2BF \"> and</span><span style=\"background-color:#9FE2BF \"> skills</span> to analyze these complex <span style=\"background-color:#DFFF00 \">events</span> and their consequences , and to formulate and implement regulations and investment programs that mitigate the adverse effects on lives and property ."
      ],
      "text/plain": [
       "<IPython.core.display.HTML object>"
      ]
     },
     "metadata": {},
     "output_type": "display_data"
    },
    {
     "data": {
      "text/html": [
       " <span style=\"background-color:#9FE2BF \">O</span><span style=\"background-color:#9FE2BF \"> país</span><span style=\"background-color:#9FE2BF \"> dispõe</span><span style=\"background-color:#9FE2BF \"> de</span><span style=\"background-color:#9FE2BF \"> recursos</span><span style=\"background-color:#9FE2BF \"> e</span><span style=\"background-color:#9FE2BF \"> competências</span> para analisar estes <span style=\"background-color:#DFFF00 \">fenómenos</span> complexos e as suas consequências , bem como para elaborar e aplicar regulamentos e programas de investimento destinados a atenuar os efeitos adversos sobre as vidas e os bens ."
      ],
      "text/plain": [
       "<IPython.core.display.HTML object>"
      ]
     },
     "metadata": {},
     "output_type": "display_data"
    },
    {
     "name": "stdout",
     "output_type": "stream",
     "text": [
      "____________________________________201___________________________________________________\n",
      "\u001b[94m\u001b[1m🤓 OK\u001b[0m\n"
     ]
    },
    {
     "data": {
      "text/html": [
       " <span style=\"background-color:#e0e0e0 \">9.71565</span> <span style=\"background-color:#DFFF00 \">15.613126</span>"
      ],
      "text/plain": [
       "<IPython.core.display.HTML object>"
      ]
     },
     "metadata": {},
     "output_type": "display_data"
    },
    {
     "data": {
      "text/html": [
       " To save the <span style=\"background-color:#DFFF00 \">ECHR</span><span style=\"background-color:#DFFF00 \"> from</span><span style=\"background-color:#DFFF00 \"> this</span> crushing burden , some member states have proposed changes that could weaken it , even if unintentionally ."
      ],
      "text/plain": [
       "<IPython.core.display.HTML object>"
      ]
     },
     "metadata": {},
     "output_type": "display_data"
    },
    {
     "data": {
      "text/html": [
       " Para salvar o <span style=\"background-color:#DFFF00 \">TEDH</span><span style=\"background-color:#DFFF00 \"> deste</span> fardo esmagador , alguns estados membros propuseram mudanças que poderiam enfraquecê-lo , mesmo que não intencionalmente ."
      ],
      "text/plain": [
       "<IPython.core.display.HTML object>"
      ]
     },
     "metadata": {},
     "output_type": "display_data"
    },
    {
     "name": "stdout",
     "output_type": "stream",
     "text": [
      "____________________________________202___________________________________________________\n",
      "\u001b[94m\u001b[1m🤓 OK\u001b[0m\n"
     ]
    },
    {
     "data": {
      "text/html": [
       " <span style=\"background-color:#e0e0e0 \">6.4262652</span> <span style=\"background-color:#DFFF00 \">8.984504</span> <span style=\"background-color:#9FE2BF \">13.419623</span>"
      ],
      "text/plain": [
       "<IPython.core.display.HTML object>"
      ]
     },
     "metadata": {},
     "output_type": "display_data"
    },
    {
     "data": {
      "text/html": [
       " In 2011 , the businessman Warren Buffett pointed out that capital gains taxes <span style=\"background-color:#9FE2BF \">do</span><span style=\"background-color:#9FE2BF \"> not</span><span style=\"background-color:#9FE2BF \"> stop</span> investors from making investments , nor do <span style=\"background-color:#DFFF00 \">they</span><span style=\"background-color:#DFFF00 \"> undermine</span> job creation ."
      ],
      "text/plain": [
       "<IPython.core.display.HTML object>"
      ]
     },
     "metadata": {},
     "output_type": "display_data"
    },
    {
     "data": {
      "text/html": [
       " Em 2011 , o empresário Warren Buffett salientou que os impostos sobre os rendimentos de capitais <span style=\"background-color:#9FE2BF \">não</span><span style=\"background-color:#9FE2BF \"> impedem</span><span style=\"background-color:#9FE2BF \"> que</span><span style=\"background-color:#9FE2BF \"> os</span> investidores realizem investimentos , nem <span style=\"background-color:#DFFF00 \">comprometem</span> a criação de empregos ."
      ],
      "text/plain": [
       "<IPython.core.display.HTML object>"
      ]
     },
     "metadata": {},
     "output_type": "display_data"
    },
    {
     "name": "stdout",
     "output_type": "stream",
     "text": [
      "____________________________________203___________________________________________________\n",
      "\u001b[94m\u001b[1m🤓 OK\u001b[0m\n"
     ]
    },
    {
     "data": {
      "text/html": [
       " <span style=\"background-color:#e0e0e0 \">7.7889047</span> <span style=\"background-color:#DFFF00 \">15.507829</span>"
      ],
      "text/plain": [
       "<IPython.core.display.HTML object>"
      ]
     },
     "metadata": {},
     "output_type": "display_data"
    },
    {
     "data": {
      "text/html": [
       " But the country 's <span style=\"background-color:#DFFF00 \">fate</span> will be decided not only on the battlefield , but also on economic , legal , administrative , and political terrain ."
      ],
      "text/plain": [
       "<IPython.core.display.HTML object>"
      ]
     },
     "metadata": {},
     "output_type": "display_data"
    },
    {
     "data": {
      "text/html": [
       " Mas o <span style=\"background-color:#DFFF00 \">destino</span> do país será decidido não só no campo de batalha , mas também no terreno económico , jurídico , administrativo e político ."
      ],
      "text/plain": [
       "<IPython.core.display.HTML object>"
      ]
     },
     "metadata": {},
     "output_type": "display_data"
    },
    {
     "name": "stdout",
     "output_type": "stream",
     "text": [
      "____________________________________204___________________________________________________\n",
      "\u001b[91m\u001b[1m😤 😠 😡 🤬  DETACHED HALLUCINATION\u001b[0m\n",
      "7.3262135\n"
     ]
    },
    {
     "data": {
      "text/html": [
       " <span style=\"background-color:#e0e0e0 \">6.6886525</span> <span style=\"background-color:#DFFF00 \">14.014866</span>"
      ],
      "text/plain": [
       "<IPython.core.display.HTML object>"
      ]
     },
     "metadata": {},
     "output_type": "display_data"
    },
    {
     "data": {
      "text/html": [
       " If the second is too flexible , the ability to <span style=\"background-color:#DFFF00 \">carry</span><span style=\"background-color:#DFFF00 \"> out</span> technically complex work will not be impaired ."
      ],
      "text/plain": [
       "<IPython.core.display.HTML object>"
      ]
     },
     "metadata": {},
     "output_type": "display_data"
    },
    {
     "data": {
      "text/html": [
       " Se a segunda for demasiado flexível , a capacidade de <span style=\"background-color:#DFFF00 \">desenvolver</span> trabalho tecnicamente complexo ficará comprometida ."
      ],
      "text/plain": [
       "<IPython.core.display.HTML object>"
      ]
     },
     "metadata": {},
     "output_type": "display_data"
    },
    {
     "name": "stdout",
     "output_type": "stream",
     "text": [
      "____________________________________205___________________________________________________\n",
      "\u001b[94m\u001b[1m🤓 OK\u001b[0m\n"
     ]
    },
    {
     "data": {
      "text/html": [
       " <span style=\"background-color:#e0e0e0 \">10.943293</span>"
      ],
      "text/plain": [
       "<IPython.core.display.HTML object>"
      ]
     },
     "metadata": {},
     "output_type": "display_data"
    },
    {
     "data": {
      "text/html": [
       " Despite the ongoing political crisis surrounding African migration to Europe , the reality is that fewer Africans are migrating to European countries than when the numbers peaked in October 2015 ."
      ],
      "text/plain": [
       "<IPython.core.display.HTML object>"
      ]
     },
     "metadata": {},
     "output_type": "display_data"
    },
    {
     "data": {
      "text/html": [
       " Apesar da atual crise política em torno da migração africana para a Europa , a realidade é que há menos africanos a migrar para países europeus do que em outubro de 2015 , altura em que os números atingiram o pico ."
      ],
      "text/plain": [
       "<IPython.core.display.HTML object>"
      ]
     },
     "metadata": {},
     "output_type": "display_data"
    },
    {
     "name": "stdout",
     "output_type": "stream",
     "text": [
      "____________________________________207___________________________________________________\n",
      "\u001b[94m\u001b[1m🤓 OK\u001b[0m\n"
     ]
    },
    {
     "data": {
      "text/html": [
       " <span style=\"background-color:#e0e0e0 \">-6.2262025</span> <span style=\"background-color:#DFFF00 \">-3.139553</span> <span style=\"background-color:#9FE2BF \">4.4733453</span> <span style=\"background-color:#CCCCFF \">6.260322</span>"
      ],
      "text/plain": [
       "<IPython.core.display.HTML object>"
      ]
     },
     "metadata": {},
     "output_type": "display_data"
    },
    {
     "data": {
      "text/html": [
       " Bush has said that history will redeem him , and compares himself to President Harry S. Truman , who left office with <span style=\"background-color:#CCCCFF \">low</span><span style=\"background-color:#CCCCFF \"> poll</span> ratings <span style=\"background-color:#9FE2BF \">because</span><span style=\"background-color:#9FE2BF \"> of</span><span style=\"background-color:#9FE2BF \"> the</span><span style=\"background-color:#9FE2BF \"> Korean</span><span style=\"background-color:#9FE2BF \"> War</span><span style=\"background-color:#9FE2BF \"> ,</span> yet <span style=\"background-color:#DFFF00 \">is</span><span style=\"background-color:#DFFF00 \"> well</span> regarded today ."
      ],
      "text/plain": [
       "<IPython.core.display.HTML object>"
      ]
     },
     "metadata": {},
     "output_type": "display_data"
    },
    {
     "data": {
      "text/html": [
       " Bush afirmou que a história o irá redimir e compara-se com o Presidente Harry S. Truman , que deixou o cargo com um <span style=\"background-color:#CCCCFF \">baixo</span> índice de popularidade <span style=\"background-color:#9FE2BF \">,</span><span style=\"background-color:#9FE2BF \"> devido</span><span style=\"background-color:#9FE2BF \"> à</span><span style=\"background-color:#9FE2BF \"> Guerra</span><span style=\"background-color:#9FE2BF \"> da</span><span style=\"background-color:#9FE2BF \"> Coreia</span> , no entanto , actualmente a opinião <span style=\"background-color:#DFFF00 \">a</span><span style=\"background-color:#DFFF00 \"> seu</span><span style=\"background-color:#DFFF00 \"> respeito</span><span style=\"background-color:#DFFF00 \"> é</span><span style=\"background-color:#DFFF00 \"> positiva</span> ."
      ],
      "text/plain": [
       "<IPython.core.display.HTML object>"
      ]
     },
     "metadata": {},
     "output_type": "display_data"
    },
    {
     "name": "stdout",
     "output_type": "stream",
     "text": [
      "____________________________________214___________________________________________________\n",
      "\u001b[94m\u001b[1m🤓 OK\u001b[0m\n"
     ]
    },
    {
     "data": {
      "text/html": [
       " <span style=\"background-color:#e0e0e0 \">9.161461</span> <span style=\"background-color:#DFFF00 \">13.574144</span>"
      ],
      "text/plain": [
       "<IPython.core.display.HTML object>"
      ]
     },
     "metadata": {},
     "output_type": "display_data"
    },
    {
     "data": {
      "text/html": [
       " <span style=\"background-color:#DFFF00 \">The</span><span style=\"background-color:#DFFF00 \"> resulting</span><span style=\"background-color:#DFFF00 \"> vacuum</span><span style=\"background-color:#DFFF00 \"> has</span><span style=\"background-color:#DFFF00 \"> been</span><span style=\"background-color:#DFFF00 \"> filled</span><span style=\"background-color:#DFFF00 \"> by</span> various currents of political Islam , terrorism , protest movements , uprisings , secession attempts by national or religious minorities , and aspiring regional hegemons ( Iran and Saudi Arabia ) ."
      ],
      "text/plain": [
       "<IPython.core.display.HTML object>"
      ]
     },
     "metadata": {},
     "output_type": "display_data"
    },
    {
     "data": {
      "text/html": [
       " <span style=\"background-color:#DFFF00 \">O</span><span style=\"background-color:#DFFF00 \"> vácuo</span><span style=\"background-color:#DFFF00 \"> resultante</span><span style=\"background-color:#DFFF00 \"> está</span><span style=\"background-color:#DFFF00 \"> a</span><span style=\"background-color:#DFFF00 \"> ser</span><span style=\"background-color:#DFFF00 \"> preenchido</span><span style=\"background-color:#DFFF00 \"> por</span> várias correntes do Islão político , pelo terrorismo , por movimentos de protesto , por tentativas de secessão de minorias nacionais ou religiosas , e por aspirantes a potências hegemónicas regionais ( Irão e Arábia Saudita ) ."
      ],
      "text/plain": [
       "<IPython.core.display.HTML object>"
      ]
     },
     "metadata": {},
     "output_type": "display_data"
    },
    {
     "name": "stdout",
     "output_type": "stream",
     "text": [
      "____________________________________216___________________________________________________\n",
      "\u001b[94m\u001b[1m🤓 OK\u001b[0m\n"
     ]
    },
    {
     "data": {
      "text/html": [
       " <span style=\"background-color:#e0e0e0 \">6.1846514</span> <span style=\"background-color:#DFFF00 \">9.682297</span>"
      ],
      "text/plain": [
       "<IPython.core.display.HTML object>"
      ]
     },
     "metadata": {},
     "output_type": "display_data"
    },
    {
     "data": {
      "text/html": [
       " By diminishing the prospects for a permanent negotiated agreement on our <span style=\"background-color:#DFFF00 \">nuclear</span><span style=\"background-color:#DFFF00 \"> program</span><span style=\"background-color:#DFFF00 \"> ,</span> such behavior increases the likelihood that the Iran-US standoff will continue ."
      ],
      "text/plain": [
       "<IPython.core.display.HTML object>"
      ]
     },
     "metadata": {},
     "output_type": "display_data"
    },
    {
     "data": {
      "text/html": [
       " Ao diminuir as perspectivas para um acordo negociado permanente sobre o nosso <span style=\"background-color:#DFFF00 \">programa</span><span style=\"background-color:#DFFF00 \"> nuclear</span><span style=\"background-color:#DFFF00 \"> ,</span> este comportamento aumenta a probabilidade da continuação do impasse Irão-EUA ."
      ],
      "text/plain": [
       "<IPython.core.display.HTML object>"
      ]
     },
     "metadata": {},
     "output_type": "display_data"
    },
    {
     "name": "stdout",
     "output_type": "stream",
     "text": [
      "____________________________________217___________________________________________________\n",
      "\u001b[94m\u001b[1m🤓 OK\u001b[0m\n"
     ]
    },
    {
     "data": {
      "text/html": [
       " <span style=\"background-color:#e0e0e0 \">10.941612</span>"
      ],
      "text/plain": [
       "<IPython.core.display.HTML object>"
      ]
     },
     "metadata": {},
     "output_type": "display_data"
    },
    {
     "data": {
      "text/html": [
       " This could have a positive outcome , highlighting powers that other member states agree should be returned to national governments ."
      ],
      "text/plain": [
       "<IPython.core.display.HTML object>"
      ]
     },
     "metadata": {},
     "output_type": "display_data"
    },
    {
     "data": {
      "text/html": [
       " Isto pode ter um resultado positivo , ao salientar poderes que outros estados-membro concordem em devolver aos governos nacionais ."
      ],
      "text/plain": [
       "<IPython.core.display.HTML object>"
      ]
     },
     "metadata": {},
     "output_type": "display_data"
    },
    {
     "name": "stdout",
     "output_type": "stream",
     "text": [
      "____________________________________218___________________________________________________\n",
      "\u001b[94m\u001b[1m🤓 OK\u001b[0m\n"
     ]
    },
    {
     "data": {
      "text/html": [
       " <span style=\"background-color:#e0e0e0 \">1.6097928</span> <span style=\"background-color:#DFFF00 \">3.7839513</span> <span style=\"background-color:#9FE2BF \">6.8549423</span>"
      ],
      "text/plain": [
       "<IPython.core.display.HTML object>"
      ]
     },
     "metadata": {},
     "output_type": "display_data"
    },
    {
     "data": {
      "text/html": [
       " Meanwhile , negotiations offer Europe the opportunity to shift its narrative from the monotonous <span style=\"background-color:#DFFF00 \">drone</span> of crisis management to a <span style=\"background-color:#9FE2BF \">genuine</span><span style=\"background-color:#9FE2BF \"> recipe</span><span style=\"background-color:#9FE2BF \"> for</span> growth ."
      ],
      "text/plain": [
       "<IPython.core.display.HTML object>"
      ]
     },
     "metadata": {},
     "output_type": "display_data"
    },
    {
     "data": {
      "text/html": [
       " Enquanto isso , as negociações oferecem à Europa a oportunidade de mudar a sua narrativa e passar de um <span style=\"background-color:#DFFF00 \">discurso</span> monótono de gestão da crise para um <span style=\"background-color:#9FE2BF \">método</span><span style=\"background-color:#9FE2BF \"> genuíno</span><span style=\"background-color:#9FE2BF \"> para</span><span style=\"background-color:#9FE2BF \"> o</span> crescimento ."
      ],
      "text/plain": [
       "<IPython.core.display.HTML object>"
      ]
     },
     "metadata": {},
     "output_type": "display_data"
    },
    {
     "name": "stdout",
     "output_type": "stream",
     "text": [
      "____________________________________219___________________________________________________\n",
      "\u001b[94m\u001b[1m🤓 OK\u001b[0m\n"
     ]
    },
    {
     "data": {
      "text/html": [
       " <span style=\"background-color:#e0e0e0 \">1.2938677</span> <span style=\"background-color:#DFFF00 \">11.683756</span>"
      ],
      "text/plain": [
       "<IPython.core.display.HTML object>"
      ]
     },
     "metadata": {},
     "output_type": "display_data"
    },
    {
     "data": {
      "text/html": [
       " Does that mean that the world should not expect <span style=\"background-color:#DFFF00 \">meaningful</span> change in Iran 's official behavior following Rowhani 's victory ?"
      ],
      "text/plain": [
       "<IPython.core.display.HTML object>"
      ]
     },
     "metadata": {},
     "output_type": "display_data"
    },
    {
     "data": {
      "text/html": [
       " Significará isso que o mundo não deve esperar mudanças <span style=\"background-color:#DFFF00 \">significativas</span> no comportamento oficial do Irão após a vitória de Rohani ?"
      ],
      "text/plain": [
       "<IPython.core.display.HTML object>"
      ]
     },
     "metadata": {},
     "output_type": "display_data"
    },
    {
     "name": "stdout",
     "output_type": "stream",
     "text": [
      "____________________________________221___________________________________________________\n",
      "\u001b[94m\u001b[1m🤓 OK\u001b[0m\n"
     ]
    },
    {
     "data": {
      "text/html": [
       " <span style=\"background-color:#e0e0e0 \">0.8694694</span> <span style=\"background-color:#DFFF00 \">15.611241</span>"
      ],
      "text/plain": [
       "<IPython.core.display.HTML object>"
      ]
     },
     "metadata": {},
     "output_type": "display_data"
    },
    {
     "data": {
      "text/html": [
       " Now , as this latest IPCC report <span style=\"background-color:#DFFF00 \">makes</span><span style=\"background-color:#DFFF00 \"> clear</span> , rising temperature is the new threat to both biodiversity and our economy ."
      ],
      "text/plain": [
       "<IPython.core.display.HTML object>"
      ]
     },
     "metadata": {},
     "output_type": "display_data"
    },
    {
     "data": {
      "text/html": [
       " Actualmente , como <span style=\"background-color:#DFFF00 \">descreve</span> este último relatório do PIAC , o aumento da temperatura é a nova ameaça para a biodiversidade e para a nossa economia ."
      ],
      "text/plain": [
       "<IPython.core.display.HTML object>"
      ]
     },
     "metadata": {},
     "output_type": "display_data"
    },
    {
     "name": "stdout",
     "output_type": "stream",
     "text": [
      "____________________________________223___________________________________________________\n",
      "\u001b[94m\u001b[1m🤓 OK\u001b[0m\n"
     ]
    },
    {
     "data": {
      "text/html": [
       " <span style=\"background-color:#e0e0e0 \">11.726472</span>"
      ],
      "text/plain": [
       "<IPython.core.display.HTML object>"
      ]
     },
     "metadata": {},
     "output_type": "display_data"
    },
    {
     "data": {
      "text/html": [
       " Life for Britons and Germans will improve not by building electrified border fences and withdrawing into the bosom of the nation-state , but by creating decent conditions in every European country ."
      ],
      "text/plain": [
       "<IPython.core.display.HTML object>"
      ]
     },
     "metadata": {},
     "output_type": "display_data"
    },
    {
     "data": {
      "text/html": [
       " A vida para os britânicos e alemães não irá melhorar graças à construção de barreiras fronteiriças electrificadas e à sua retirada para o seio do Estado-nação , mas sim através da criação de condições dignas em todos os países europeus ."
      ],
      "text/plain": [
       "<IPython.core.display.HTML object>"
      ]
     },
     "metadata": {},
     "output_type": "display_data"
    },
    {
     "name": "stdout",
     "output_type": "stream",
     "text": [
      "____________________________________224___________________________________________________\n",
      "\u001b[94m\u001b[1m🤓 OK\u001b[0m\n"
     ]
    },
    {
     "data": {
      "text/html": [
       " <span style=\"background-color:#e0e0e0 \">4.292477</span> <span style=\"background-color:#DFFF00 \">9.349986</span> <span style=\"background-color:#9FE2BF \">10.986211</span>"
      ],
      "text/plain": [
       "<IPython.core.display.HTML object>"
      ]
     },
     "metadata": {},
     "output_type": "display_data"
    },
    {
     "data": {
      "text/html": [
       " Computing power doubled roughly every 18 months <span style=\"background-color:#DFFF00 \">for</span><span style=\"background-color:#DFFF00 \"> 30</span> years , and , by the beginning of the twenty-first century , it <span style=\"background-color:#9FE2BF \">cost</span> one-thousandth of what it did in the early 1970 's ."
      ],
      "text/plain": [
       "<IPython.core.display.HTML object>"
      ]
     },
     "metadata": {},
     "output_type": "display_data"
    },
    {
     "data": {
      "text/html": [
       " Num <span style=\"background-color:#DFFF00 \">período</span><span style=\"background-color:#DFFF00 \"> de</span><span style=\"background-color:#DFFF00 \"> 30</span> anos , a capacidade computacional duplicou a cada 18 meses e , no início do século XXI , o seu <span style=\"background-color:#9FE2BF \">custo</span><span style=\"background-color:#9FE2BF \"> representa</span> um milésimo do que representava no início da década de 1970 ."
      ],
      "text/plain": [
       "<IPython.core.display.HTML object>"
      ]
     },
     "metadata": {},
     "output_type": "display_data"
    },
    {
     "name": "stdout",
     "output_type": "stream",
     "text": [
      "____________________________________226___________________________________________________\n",
      "\u001b[94m\u001b[1m🤓 OK\u001b[0m\n"
     ]
    },
    {
     "data": {
      "text/html": [
       " <span style=\"background-color:#e0e0e0 \">15.060807</span>"
      ],
      "text/plain": [
       "<IPython.core.display.HTML object>"
      ]
     },
     "metadata": {},
     "output_type": "display_data"
    },
    {
     "data": {
      "text/html": [
       " Europe 's main power could no longer claim a special role within NATO and abstain from all military operations beyond its territory ."
      ],
      "text/plain": [
       "<IPython.core.display.HTML object>"
      ]
     },
     "metadata": {},
     "output_type": "display_data"
    },
    {
     "data": {
      "text/html": [
       " A principal potência da Europa já não podia reivindicar um papel especial no âmbito da OTAN e abster-se de todas as operações militares fora do seu território ."
      ],
      "text/plain": [
       "<IPython.core.display.HTML object>"
      ]
     },
     "metadata": {},
     "output_type": "display_data"
    },
    {
     "name": "stdout",
     "output_type": "stream",
     "text": [
      "____________________________________228___________________________________________________\n",
      "\u001b[94m\u001b[1m🤓 OK\u001b[0m\n"
     ]
    },
    {
     "data": {
      "text/html": [
       " <span style=\"background-color:#e0e0e0 \">14.152866</span>"
      ],
      "text/plain": [
       "<IPython.core.display.HTML object>"
      ]
     },
     "metadata": {},
     "output_type": "display_data"
    },
    {
     "data": {
      "text/html": [
       " But the ships will carry out many other tasks as well , such as maritime security operations , bilateral and multilateral training exercises , and participation in NATO operations and deployments , including the Standing NATO Maritime Groups ."
      ],
      "text/plain": [
       "<IPython.core.display.HTML object>"
      ]
     },
     "metadata": {},
     "output_type": "display_data"
    },
    {
     "data": {
      "text/html": [
       " Mas os navios também levarão a cabo muitas outras tarefas , tais como operações de segurança marítima , exercícios bilaterais e multilaterais de treino , e participação nas operações e destacamentos da OTAN , incluindo nos Grupos Marítimos da OTAN ."
      ],
      "text/plain": [
       "<IPython.core.display.HTML object>"
      ]
     },
     "metadata": {},
     "output_type": "display_data"
    },
    {
     "name": "stdout",
     "output_type": "stream",
     "text": [
      "____________________________________231___________________________________________________\n",
      "\u001b[91m\u001b[1m😤 😠 😡 🤬  DETACHED HALLUCINATION\u001b[0m\n",
      "19.7551366\n"
     ]
    },
    {
     "data": {
      "text/html": [
       " <span style=\"background-color:#e0e0e0 \">-5.8383036</span> <span style=\"background-color:#DFFF00 \">13.916833</span>"
      ],
      "text/plain": [
       "<IPython.core.display.HTML object>"
      ]
     },
     "metadata": {},
     "output_type": "display_data"
    },
    {
     "data": {
      "text/html": [
       " When the turmoil comes , it is likely to be triggered - as <span style=\"background-color:#DFFF00 \">with</span><span style=\"background-color:#DFFF00 \"> the</span><span style=\"background-color:#DFFF00 \"> euro</span><span style=\"background-color:#DFFF00 \"> crisis</span><span style=\"background-color:#DFFF00 \"> -</span><span style=\"background-color:#DFFF00 \"> by</span><span style=\"background-color:#DFFF00 \"> Libya</span><span style=\"background-color:#DFFF00 \"> ,</span><span style=\"background-color:#DFFF00 \"> which</span> is holding a presidential election that seems unlikely to produce a winner ."
      ],
      "text/plain": [
       "<IPython.core.display.HTML object>"
      ]
     },
     "metadata": {},
     "output_type": "display_data"
    },
    {
     "data": {
      "text/html": [
       " Quando a turbulência chegar , é provável que seja desencadeada - como <span style=\"background-color:#DFFF00 \">foi</span><span style=\"background-color:#DFFF00 \"> a</span><span style=\"background-color:#DFFF00 \"> crise</span><span style=\"background-color:#DFFF00 \"> da</span><span style=\"background-color:#DFFF00 \"> zona</span><span style=\"background-color:#DFFF00 \"> euro</span><span style=\"background-color:#DFFF00 \"> -</span><span style=\"background-color:#DFFF00 \"> pela</span><span style=\"background-color:#DFFF00 \"> Grécia</span><span style=\"background-color:#DFFF00 \"> ,</span><span style=\"background-color:#DFFF00 \"> onde</span> se realiza uma eleição presidencial que não produzirá provavelmente qualquer vencedor ."
      ],
      "text/plain": [
       "<IPython.core.display.HTML object>"
      ]
     },
     "metadata": {},
     "output_type": "display_data"
    },
    {
     "name": "stdout",
     "output_type": "stream",
     "text": [
      "____________________________________233___________________________________________________\n",
      "\u001b[94m\u001b[1m🤓 OK\u001b[0m\n"
     ]
    },
    {
     "data": {
      "text/html": [
       " <span style=\"background-color:#e0e0e0 \">15.017369</span>"
      ],
      "text/plain": [
       "<IPython.core.display.HTML object>"
      ]
     },
     "metadata": {},
     "output_type": "display_data"
    },
    {
     "data": {
      "text/html": [
       " And although financial support is important , it is not the only ingredient in the recipe for success ."
      ],
      "text/plain": [
       "<IPython.core.display.HTML object>"
      ]
     },
     "metadata": {},
     "output_type": "display_data"
    },
    {
     "data": {
      "text/html": [
       " E embora o apoio financeiro seja importante , não é o único ingrediente da receita para o sucesso ."
      ],
      "text/plain": [
       "<IPython.core.display.HTML object>"
      ]
     },
     "metadata": {},
     "output_type": "display_data"
    },
    {
     "name": "stdout",
     "output_type": "stream",
     "text": [
      "____________________________________234___________________________________________________\n",
      "\u001b[94m\u001b[1m🤓 OK\u001b[0m\n"
     ]
    },
    {
     "data": {
      "text/html": [
       " <span style=\"background-color:#e0e0e0 \">3.7595286</span> <span style=\"background-color:#DFFF00 \">15.382139</span>"
      ],
      "text/plain": [
       "<IPython.core.display.HTML object>"
      ]
     },
     "metadata": {},
     "output_type": "display_data"
    },
    {
     "data": {
      "text/html": [
       " In Egypt , the military counter-revolution will prevail , but the Islamist revolution <span style=\"background-color:#DFFF00 \">eventually</span><span style=\"background-color:#DFFF00 \"> will</span><span style=\"background-color:#DFFF00 \"> return</span> as long as its causes have not been eliminated ."
      ],
      "text/plain": [
       "<IPython.core.display.HTML object>"
      ]
     },
     "metadata": {},
     "output_type": "display_data"
    },
    {
     "data": {
      "text/html": [
       " No Egipto , a contra-revolução militar prevalecerá , mas a revolução Islamita <span style=\"background-color:#DFFF00 \">será</span><span style=\"background-color:#DFFF00 \"> novamente</span><span style=\"background-color:#DFFF00 \"> retomada</span> enquanto as suas causas não tiverem sido eliminadas ."
      ],
      "text/plain": [
       "<IPython.core.display.HTML object>"
      ]
     },
     "metadata": {},
     "output_type": "display_data"
    },
    {
     "name": "stdout",
     "output_type": "stream",
     "text": [
      "____________________________________236___________________________________________________\n",
      "\u001b[94m\u001b[1m🤓 OK\u001b[0m\n"
     ]
    },
    {
     "data": {
      "text/html": [
       " <span style=\"background-color:#e0e0e0 \">12.315268</span>"
      ],
      "text/plain": [
       "<IPython.core.display.HTML object>"
      ]
     },
     "metadata": {},
     "output_type": "display_data"
    },
    {
     "data": {
      "text/html": [
       " That , in turn , implies the need for a real exchange-rate adjustment inside the eurozone , with peripheral countries ' production costs falling relative to those in the core ."
      ],
      "text/plain": [
       "<IPython.core.display.HTML object>"
      ]
     },
     "metadata": {},
     "output_type": "display_data"
    },
    {
     "data": {
      "text/html": [
       " O que , por sua vez , implica a necessidade de um ajustamento da taxa de câmbio real dentro da zona euro , com uma diminuição dos custos de produção dos países periféricos em relação aos países centrais ."
      ],
      "text/plain": [
       "<IPython.core.display.HTML object>"
      ]
     },
     "metadata": {},
     "output_type": "display_data"
    },
    {
     "name": "stdout",
     "output_type": "stream",
     "text": [
      "____________________________________237___________________________________________________\n",
      "\u001b[94m\u001b[1m🤓 OK\u001b[0m\n"
     ]
    },
    {
     "data": {
      "text/html": [
       " <span style=\"background-color:#e0e0e0 \">-4.987765</span> <span style=\"background-color:#DFFF00 \">11.6096</span>"
      ],
      "text/plain": [
       "<IPython.core.display.HTML object>"
      ]
     },
     "metadata": {},
     "output_type": "display_data"
    },
    {
     "data": {
      "text/html": [
       " Moreover , science is humanity 's best hope for addressing such existential threats as climate change , <span style=\"background-color:#DFFF00 \">emerging</span><span style=\"background-color:#DFFF00 \"> pathogens</span><span style=\"background-color:#DFFF00 \"> ,</span><span style=\"background-color:#DFFF00 \"> extra-terrestrial</span><span style=\"background-color:#DFFF00 \"> bolides</span><span style=\"background-color:#DFFF00 \"> ,</span><span style=\"background-color:#DFFF00 \"> and</span><span style=\"background-color:#DFFF00 \"> a</span><span style=\"background-color:#DFFF00 \"> burgeoning</span><span style=\"background-color:#DFFF00 \"> population</span><span style=\"background-color:#DFFF00 \"> .</span>"
      ],
      "text/plain": [
       "<IPython.core.display.HTML object>"
      ]
     },
     "metadata": {},
     "output_type": "display_data"
    },
    {
     "data": {
      "text/html": [
       " Além disso , a ciência constitui a maior esperança da humanidade no sentido de enfrentar ameaças existenciais como as alterações climáticas , <span style=\"background-color:#DFFF00 \">os</span><span style=\"background-color:#DFFF00 \"> novos</span><span style=\"background-color:#DFFF00 \"> agentes</span><span style=\"background-color:#DFFF00 \"> patogénicos</span><span style=\"background-color:#DFFF00 \"> ,</span><span style=\"background-color:#DFFF00 \"> os</span><span style=\"background-color:#DFFF00 \"> bólides</span><span style=\"background-color:#DFFF00 \"> extraterrestres</span><span style=\"background-color:#DFFF00 \"> e</span><span style=\"background-color:#DFFF00 \"> o</span><span style=\"background-color:#DFFF00 \"> aumento</span><span style=\"background-color:#DFFF00 \"> demográfico</span><span style=\"background-color:#DFFF00 \"> .</span>"
      ],
      "text/plain": [
       "<IPython.core.display.HTML object>"
      ]
     },
     "metadata": {},
     "output_type": "display_data"
    },
    {
     "name": "stdout",
     "output_type": "stream",
     "text": [
      "____________________________________238___________________________________________________\n",
      "\u001b[94m\u001b[1m🤓 OK\u001b[0m\n"
     ]
    },
    {
     "data": {
      "text/html": [
       " <span style=\"background-color:#e0e0e0 \">-8.385797</span> <span style=\"background-color:#DFFF00 \">10.504165</span>"
      ],
      "text/plain": [
       "<IPython.core.display.HTML object>"
      ]
     },
     "metadata": {},
     "output_type": "display_data"
    },
    {
     "data": {
      "text/html": [
       " With adequate planning , it is possible to implement projects that improve lives in <span style=\"background-color:#DFFF00 \">even</span> the riskiest places ."
      ],
      "text/plain": [
       "<IPython.core.display.HTML object>"
      ]
     },
     "metadata": {},
     "output_type": "display_data"
    },
    {
     "data": {
      "text/html": [
       " Com o planeamento adequado , é possível implementar projectos que melhorem as condições de vida <span style=\"background-color:#DFFF00 \">até</span> nos locais mais arriscados ."
      ],
      "text/plain": [
       "<IPython.core.display.HTML object>"
      ]
     },
     "metadata": {},
     "output_type": "display_data"
    },
    {
     "name": "stdout",
     "output_type": "stream",
     "text": [
      "____________________________________239___________________________________________________\n",
      "\u001b[94m\u001b[1m🤓 OK\u001b[0m\n"
     ]
    },
    {
     "data": {
      "text/html": [
       " <span style=\"background-color:#e0e0e0 \">9.57734</span> <span style=\"background-color:#DFFF00 \">15.150317</span>"
      ],
      "text/plain": [
       "<IPython.core.display.HTML object>"
      ]
     },
     "metadata": {},
     "output_type": "display_data"
    },
    {
     "data": {
      "text/html": [
       " A new constitution that protects minority rights and the basic ethos of the country should be drafted , and all political parties should <span style=\"background-color:#DFFF00 \">operate</span> according to rules that ensure transparency and commitment to the democratic process ."
      ],
      "text/plain": [
       "<IPython.core.display.HTML object>"
      ]
     },
     "metadata": {},
     "output_type": "display_data"
    },
    {
     "data": {
      "text/html": [
       " Uma nova Constituição que protege os direitos das minorias e o etos básico do país deveria ser elaborada e todos os partidos políticos deveriam <span style=\"background-color:#DFFF00 \">agir</span> de acordo com as regras que garantam a transparência e o compromisso com o processo democrático ."
      ],
      "text/plain": [
       "<IPython.core.display.HTML object>"
      ]
     },
     "metadata": {},
     "output_type": "display_data"
    },
    {
     "name": "stdout",
     "output_type": "stream",
     "text": [
      "____________________________________241___________________________________________________\n",
      "\u001b[94m\u001b[1m🤓 OK\u001b[0m\n"
     ]
    },
    {
     "data": {
      "text/html": [
       " <span style=\"background-color:#e0e0e0 \">10.153105</span>"
      ],
      "text/plain": [
       "<IPython.core.display.HTML object>"
      ]
     },
     "metadata": {},
     "output_type": "display_data"
    },
    {
     "data": {
      "text/html": [
       " For example , the vast majority of home \" smart speaker \" personal assistants , like Amazon 's Alexa , are shipped to wealthy countries ."
      ],
      "text/plain": [
       "<IPython.core.display.HTML object>"
      ]
     },
     "metadata": {},
     "output_type": "display_data"
    },
    {
     "data": {
      "text/html": [
       " Por exemplo , a imensa maioria dos assistentes pessoais \" alto-falantes inteligentes \" para lares , como a assistente Alexa da Amazon , é expedida para os países ricos ."
      ],
      "text/plain": [
       "<IPython.core.display.HTML object>"
      ]
     },
     "metadata": {},
     "output_type": "display_data"
    },
    {
     "name": "stdout",
     "output_type": "stream",
     "text": [
      "____________________________________242___________________________________________________\n",
      "\u001b[94m\u001b[1m🤓 OK\u001b[0m\n"
     ]
    },
    {
     "data": {
      "text/html": [
       " <span style=\"background-color:#e0e0e0 \">6.867284</span>"
      ],
      "text/plain": [
       "<IPython.core.display.HTML object>"
      ]
     },
     "metadata": {},
     "output_type": "display_data"
    },
    {
     "data": {
      "text/html": [
       " Similarly , debtors and creditors can rely on credible bankruptcy proceedings to determine their relative shares ."
      ],
      "text/plain": [
       "<IPython.core.display.HTML object>"
      ]
     },
     "metadata": {},
     "output_type": "display_data"
    },
    {
     "data": {
      "text/html": [
       " Da mesma forma , os devedores e os credores podem confiar em processos de falência credíveis para determinarem as suas participações relativas ."
      ],
      "text/plain": [
       "<IPython.core.display.HTML object>"
      ]
     },
     "metadata": {},
     "output_type": "display_data"
    },
    {
     "name": "stdout",
     "output_type": "stream",
     "text": [
      "____________________________________243___________________________________________________\n",
      "\u001b[94m\u001b[1m🤓 OK\u001b[0m\n"
     ]
    },
    {
     "data": {
      "text/html": [
       " <span style=\"background-color:#e0e0e0 \">-2.3129363</span> <span style=\"background-color:#DFFF00 \">13.83954</span>"
      ],
      "text/plain": [
       "<IPython.core.display.HTML object>"
      ]
     },
     "metadata": {},
     "output_type": "display_data"
    },
    {
     "data": {
      "text/html": [
       " The first letter that the NCD community should consider is \" A , \" for activism ."
      ],
      "text/plain": [
       "<IPython.core.display.HTML object>"
      ]
     },
     "metadata": {},
     "output_type": "display_data"
    },
    {
     "data": {
      "text/html": [
       " A primeira letra que a comunidade <span style=\"background-color:#DFFF00 \">contra</span><span style=\"background-color:#DFFF00 \"> as</span> DNT deve ter em consideração é o \" A \" , para activism ( ativismo ) ."
      ],
      "text/plain": [
       "<IPython.core.display.HTML object>"
      ]
     },
     "metadata": {},
     "output_type": "display_data"
    },
    {
     "name": "stdout",
     "output_type": "stream",
     "text": [
      "____________________________________246___________________________________________________\n",
      "\u001b[94m\u001b[1m🤓 OK\u001b[0m\n"
     ]
    },
    {
     "data": {
      "text/html": [
       " <span style=\"background-color:#e0e0e0 \">6.1644034</span> <span style=\"background-color:#DFFF00 \">12.799228</span>"
      ],
      "text/plain": [
       "<IPython.core.display.HTML object>"
      ]
     },
     "metadata": {},
     "output_type": "display_data"
    },
    {
     "data": {
      "text/html": [
       " But the Soviet Union 's demise was the result of a long <span style=\"background-color:#DFFF00 \">string</span><span style=\"background-color:#DFFF00 \"> of</span><span style=\"background-color:#DFFF00 \"> missteps</span><span style=\"background-color:#DFFF00 \"> ,</span><span style=\"background-color:#DFFF00 \"> beginning</span><span style=\"background-color:#DFFF00 \"> with</span> pre-Soviet Russia 's inability to come to terms with modernity ."
      ],
      "text/plain": [
       "<IPython.core.display.HTML object>"
      ]
     },
     "metadata": {},
     "output_type": "display_data"
    },
    {
     "data": {
      "text/html": [
       " Mas o desaparecimento da União Soviética foi o resultado de uma longa <span style=\"background-color:#DFFF00 \">sequência</span><span style=\"background-color:#DFFF00 \"> de</span><span style=\"background-color:#DFFF00 \"> erros</span><span style=\"background-color:#DFFF00 \"> ,</span><span style=\"background-color:#DFFF00 \"> começando</span><span style=\"background-color:#DFFF00 \"> pela</span> incapacidade da Rússia pré-soviética em harmonizar-se com a modernidade ."
      ],
      "text/plain": [
       "<IPython.core.display.HTML object>"
      ]
     },
     "metadata": {},
     "output_type": "display_data"
    },
    {
     "name": "stdout",
     "output_type": "stream",
     "text": [
      "____________________________________247___________________________________________________\n",
      "\u001b[94m\u001b[1m🤓 OK\u001b[0m\n"
     ]
    },
    {
     "data": {
      "text/html": [
       " <span style=\"background-color:#e0e0e0 \">10.153781</span>"
      ],
      "text/plain": [
       "<IPython.core.display.HTML object>"
      ]
     },
     "metadata": {},
     "output_type": "display_data"
    },
    {
     "data": {
      "text/html": [
       " Specifically , transforming global finance will require changes in prudential regulations , capital requirements , investment-firm culture , and executive compensation , which will require new and more appropriate longer-term benchmarks ."
      ],
      "text/plain": [
       "<IPython.core.display.HTML object>"
      ]
     },
     "metadata": {},
     "output_type": "display_data"
    },
    {
     "data": {
      "text/html": [
       " Especificamente , a transformação das finanças globais obrigará a alterações nas regulamentações prudenciais , nos requisitos de capital , na cultura do investimento empresarial , e na compensação dos executivos , que precisará de novos e mais adequados termos de comparação ."
      ],
      "text/plain": [
       "<IPython.core.display.HTML object>"
      ]
     },
     "metadata": {},
     "output_type": "display_data"
    },
    {
     "name": "stdout",
     "output_type": "stream",
     "text": [
      "____________________________________248___________________________________________________\n",
      "\u001b[91m\u001b[1m😤 😠 😡 🤬  DETACHED HALLUCINATION\u001b[0m\n",
      "12.9369525\n"
     ]
    },
    {
     "data": {
      "text/html": [
       " <span style=\"background-color:#e0e0e0 \">2.6641655</span> <span style=\"background-color:#DFFF00 \">6.6150923</span> <span style=\"background-color:#9FE2BF \">15.601118</span>"
      ],
      "text/plain": [
       "<IPython.core.display.HTML object>"
      ]
     },
     "metadata": {},
     "output_type": "display_data"
    },
    {
     "data": {
      "text/html": [
       " But <span style=\"background-color:#9FE2BF \">with</span><span style=\"background-color:#9FE2BF \"> these</span><span style=\"background-color:#9FE2BF \"> discussions</span><span style=\"background-color:#9FE2BF \"> now</span><span style=\"background-color:#9FE2BF \"> over</span> , the global health community must <span style=\"background-color:#DFFF00 \">focus</span><span style=\"background-color:#DFFF00 \"> on</span><span style=\"background-color:#DFFF00 \"> avoiding</span> the necessary political commitments to sustain international coordination and planning ."
      ],
      "text/plain": [
       "<IPython.core.display.HTML object>"
      ]
     },
     "metadata": {},
     "output_type": "display_data"
    },
    {
     "data": {
      "text/html": [
       " Mas <span style=\"background-color:#9FE2BF \">agora</span><span style=\"background-color:#9FE2BF \"> que</span><span style=\"background-color:#9FE2BF \"> terminaram</span><span style=\"background-color:#9FE2BF \"> estes</span><span style=\"background-color:#9FE2BF \"> debates</span> , a comunidade global da saúde deve <span style=\"background-color:#DFFF00 \">dedicar-se</span><span style=\"background-color:#DFFF00 \"> a</span><span style=\"background-color:#DFFF00 \"> assegurar</span> os compromissos políticos necessários à manutenção da coordenação e planeamento internacionais ."
      ],
      "text/plain": [
       "<IPython.core.display.HTML object>"
      ]
     },
     "metadata": {},
     "output_type": "display_data"
    },
    {
     "name": "stdout",
     "output_type": "stream",
     "text": [
      "____________________________________249___________________________________________________\n",
      "\u001b[94m\u001b[1m🤓 OK\u001b[0m\n"
     ]
    },
    {
     "data": {
      "text/html": [
       " <span style=\"background-color:#e0e0e0 \">15.530986</span>"
      ],
      "text/plain": [
       "<IPython.core.display.HTML object>"
      ]
     },
     "metadata": {},
     "output_type": "display_data"
    },
    {
     "data": {
      "text/html": [
       " In 2009-2010 , some mid-ranking officials and commentators even referred to the South China Sea as a sovereign \" core interest \" like Taiwan or Tibet ."
      ],
      "text/plain": [
       "<IPython.core.display.HTML object>"
      ]
     },
     "metadata": {},
     "output_type": "display_data"
    },
    {
     "data": {
      "text/html": [
       " Em 2009-2010 , alguns comentadores e quadros médios referiam-se mesmo ao Mar da China Meridional como um \" interesse central \" de soberania , como Taiwan ou o Tibete ."
      ],
      "text/plain": [
       "<IPython.core.display.HTML object>"
      ]
     },
     "metadata": {},
     "output_type": "display_data"
    },
    {
     "name": "stdout",
     "output_type": "stream",
     "text": [
      "____________________________________250___________________________________________________\n",
      "\u001b[94m\u001b[1m🤓 OK\u001b[0m\n"
     ]
    },
    {
     "data": {
      "text/html": [
       " <span style=\"background-color:#e0e0e0 \">-15.361487</span> <span style=\"background-color:#DFFF00 \">-13.641261</span>"
      ],
      "text/plain": [
       "<IPython.core.display.HTML object>"
      ]
     },
     "metadata": {},
     "output_type": "display_data"
    },
    {
     "data": {
      "text/html": [
       " But <span style=\"background-color:#DFFF00 \">this</span><span style=\"background-color:#DFFF00 \"> ignores</span><span style=\"background-color:#DFFF00 \"> the</span> principle that no military intervention will ever be legitimate unless it satisfies , among other criteria , the test of diminishing , not augmenting , human suffering ."
      ],
      "text/plain": [
       "<IPython.core.display.HTML object>"
      ]
     },
     "metadata": {},
     "output_type": "display_data"
    },
    {
     "data": {
      "text/html": [
       " Mas <span style=\"background-color:#DFFF00 \">isto</span><span style=\"background-color:#DFFF00 \"> ignora</span><span style=\"background-color:#DFFF00 \"> o</span> princípio de que nenhuma intervenção militar jamais será legítima a menos que satisfaça , entre outros critérios , o teste de diminuir , e não aumentar , o sofrimento humano . E ir para a guerra contra qualquer uma das grandes potências , para proteger uma minoria que sofre , activará certamente uma conflagração muito mais vasta ."
      ],
      "text/plain": [
       "<IPython.core.display.HTML object>"
      ]
     },
     "metadata": {},
     "output_type": "display_data"
    },
    {
     "name": "stdout",
     "output_type": "stream",
     "text": [
      "____________________________________252___________________________________________________\n",
      "\u001b[94m\u001b[1m🤓 OK\u001b[0m\n"
     ]
    },
    {
     "data": {
      "text/html": [
       " <span style=\"background-color:#e0e0e0 \">14.6115055</span>"
      ],
      "text/plain": [
       "<IPython.core.display.HTML object>"
      ]
     },
     "metadata": {},
     "output_type": "display_data"
    },
    {
     "data": {
      "text/html": [
       " The second argument was that replacing Saddam with a democratic regime was a way to transform Middle East politics ."
      ],
      "text/plain": [
       "<IPython.core.display.HTML object>"
      ]
     },
     "metadata": {},
     "output_type": "display_data"
    },
    {
     "data": {
      "text/html": [
       " O Segundo argumento era o de que a substituição do regime de Saddam por um regime democrático seria uma forma de transformar a política no Médio Oriente ."
      ],
      "text/plain": [
       "<IPython.core.display.HTML object>"
      ]
     },
     "metadata": {},
     "output_type": "display_data"
    },
    {
     "name": "stdout",
     "output_type": "stream",
     "text": [
      "____________________________________253___________________________________________________\n",
      "\u001b[91m\u001b[1m😤 😠 😡 🤬  DETACHED HALLUCINATION\u001b[0m\n",
      "11.646513500000001\n"
     ]
    },
    {
     "data": {
      "text/html": [
       " <span style=\"background-color:#e0e0e0 \">-6.4503465</span> <span style=\"background-color:#DFFF00 \">3.5167181</span> <span style=\"background-color:#9FE2BF \">5.196167</span>"
      ],
      "text/plain": [
       "<IPython.core.display.HTML object>"
      ]
     },
     "metadata": {},
     "output_type": "display_data"
    },
    {
     "data": {
      "text/html": [
       " So it may well be that the demand for discussing <span style=\"background-color:#DFFF00 \">,</span><span style=\"background-color:#DFFF00 \"> say</span><span style=\"background-color:#DFFF00 \"> ,</span> medieval English church music in <span style=\"background-color:#9FE2BF \">small</span> classes at a university will grow even as the demand for MOOCs grows ."
      ],
      "text/plain": [
       "<IPython.core.display.HTML object>"
      ]
     },
     "metadata": {},
     "output_type": "display_data"
    },
    {
     "data": {
      "text/html": [
       " Assim , é bem possível que se registe um aumento da procura pela discussão de <span style=\"background-color:#DFFF00 \">temas</span><span style=\"background-color:#DFFF00 \"> como</span><span style=\"background-color:#DFFF00 \"> ,</span><span style=\"background-color:#DFFF00 \"> por</span><span style=\"background-color:#DFFF00 \"> exemplo</span><span style=\"background-color:#DFFF00 \"> ,</span> a música de igreja medieval francesa em turmas <span style=\"background-color:#9FE2BF \">pequenas</span> numa universidade , ao mesmo tempo que a procura de cursos MOOC aumenta também ."
      ],
      "text/plain": [
       "<IPython.core.display.HTML object>"
      ]
     },
     "metadata": {},
     "output_type": "display_data"
    },
    {
     "name": "stdout",
     "output_type": "stream",
     "text": [
      "____________________________________254___________________________________________________\n",
      "\u001b[94m\u001b[1m🤓 OK\u001b[0m\n"
     ]
    },
    {
     "data": {
      "text/html": [
       " <span style=\"background-color:#e0e0e0 \">15.58894</span>"
      ],
      "text/plain": [
       "<IPython.core.display.HTML object>"
      ]
     },
     "metadata": {},
     "output_type": "display_data"
    },
    {
     "data": {
      "text/html": [
       " REDD + , which has been around in various forms for nearly a decade , provides a payment structure for preservation and restoration efforts ."
      ],
      "text/plain": [
       "<IPython.core.display.HTML object>"
      ]
     },
     "metadata": {},
     "output_type": "display_data"
    },
    {
     "data": {
      "text/html": [
       " O REDD + , que tem estado presente sob várias formas há quase uma década , fornece uma estrutura de pagamento para os esforços de preservação e recuperação ."
      ],
      "text/plain": [
       "<IPython.core.display.HTML object>"
      ]
     },
     "metadata": {},
     "output_type": "display_data"
    },
    {
     "name": "stdout",
     "output_type": "stream",
     "text": [
      "____________________________________255___________________________________________________\n",
      "\u001b[94m\u001b[1m🤓 OK\u001b[0m\n"
     ]
    },
    {
     "data": {
      "text/html": [
       " <span style=\"background-color:#e0e0e0 \">15.507879</span>"
      ],
      "text/plain": [
       "<IPython.core.display.HTML object>"
      ]
     },
     "metadata": {},
     "output_type": "display_data"
    },
    {
     "data": {
      "text/html": [
       " Better yet , these systems are designed to recycle nearly all of the water they use , which eliminates the problem of coastal pollution ."
      ],
      "text/plain": [
       "<IPython.core.display.HTML object>"
      ]
     },
     "metadata": {},
     "output_type": "display_data"
    },
    {
     "data": {
      "text/html": [
       " Melhor ainda , estes sistemas são concebidos para reciclar quase toda a água que utilizam , o que elimina o problema da poluição costeira ."
      ],
      "text/plain": [
       "<IPython.core.display.HTML object>"
      ]
     },
     "metadata": {},
     "output_type": "display_data"
    },
    {
     "name": "stdout",
     "output_type": "stream",
     "text": [
      "____________________________________256___________________________________________________\n",
      "\u001b[94m\u001b[1m🤓 OK\u001b[0m\n"
     ]
    },
    {
     "data": {
      "text/html": [
       " <span style=\"background-color:#e0e0e0 \">14.325995</span>"
      ],
      "text/plain": [
       "<IPython.core.display.HTML object>"
      ]
     },
     "metadata": {},
     "output_type": "display_data"
    },
    {
     "data": {
      "text/html": [
       " Globalization is , of course , only one part of what is going on ; technological innovation is another part ."
      ],
      "text/plain": [
       "<IPython.core.display.HTML object>"
      ]
     },
     "metadata": {},
     "output_type": "display_data"
    },
    {
     "data": {
      "text/html": [
       " Claro que a globalização é apenas uma parte do que está a acontecer ; a inovação tecnológica é outra parte ."
      ],
      "text/plain": [
       "<IPython.core.display.HTML object>"
      ]
     },
     "metadata": {},
     "output_type": "display_data"
    },
    {
     "name": "stdout",
     "output_type": "stream",
     "text": [
      "____________________________________257___________________________________________________\n",
      "\u001b[94m\u001b[1m🤓 OK\u001b[0m\n"
     ]
    },
    {
     "data": {
      "text/html": [
       " <span style=\"background-color:#e0e0e0 \">-3.0646844</span> <span style=\"background-color:#DFFF00 \">13.719512</span>"
      ],
      "text/plain": [
       "<IPython.core.display.HTML object>"
      ]
     },
     "metadata": {},
     "output_type": "display_data"
    },
    {
     "data": {
      "text/html": [
       " The world 's largest fog collection and distribution system was built in 2015 in the mountains of Morocco - an area with low water availability but abundant fog <span style=\"background-color:#DFFF00 \">six</span><span style=\"background-color:#DFFF00 \"> months</span><span style=\"background-color:#DFFF00 \"> out</span><span style=\"background-color:#DFFF00 \"> of</span> the year ."
      ],
      "text/plain": [
       "<IPython.core.display.HTML object>"
      ]
     },
     "metadata": {},
     "output_type": "display_data"
    },
    {
     "data": {
      "text/html": [
       " O maior sistema de recolha e distribuição de nevoeiro do mundo foi construído em 2015 nas montanhas de Marrocos , uma região com fraca disponibilidade de água , mas com nevoeiro abundante <span style=\"background-color:#DFFF00 \">durante</span><span style=\"background-color:#DFFF00 \"> seis</span><span style=\"background-color:#DFFF00 \"> meses</span> por ano ."
      ],
      "text/plain": [
       "<IPython.core.display.HTML object>"
      ]
     },
     "metadata": {},
     "output_type": "display_data"
    },
    {
     "name": "stdout",
     "output_type": "stream",
     "text": [
      "____________________________________259___________________________________________________\n",
      "\u001b[94m\u001b[1m🤓 OK\u001b[0m\n"
     ]
    },
    {
     "data": {
      "text/html": [
       " <span style=\"background-color:#e0e0e0 \">1.9563063</span> <span style=\"background-color:#DFFF00 \">14.192831</span>"
      ],
      "text/plain": [
       "<IPython.core.display.HTML object>"
      ]
     },
     "metadata": {},
     "output_type": "display_data"
    },
    {
     "data": {
      "text/html": [
       " Back then , China bought <span style=\"background-color:#DFFF00 \">US</span><span style=\"background-color:#DFFF00 \"> Treasury</span><span style=\"background-color:#DFFF00 \"> bonds</span><span style=\"background-color:#DFFF00 \"> to</span><span style=\"background-color:#DFFF00 \"> keep</span> the currency from rising and eroding the competitiveness of Chinese exporters ."
      ],
      "text/plain": [
       "<IPython.core.display.HTML object>"
      ]
     },
     "metadata": {},
     "output_type": "display_data"
    },
    {
     "data": {
      "text/html": [
       " Nessa altura , a China comprou <span style=\"background-color:#DFFF00 \">títulos</span><span style=\"background-color:#DFFF00 \"> do</span><span style=\"background-color:#DFFF00 \"> Tesouro</span><span style=\"background-color:#DFFF00 \"> dos</span><span style=\"background-color:#DFFF00 \"> EUA</span><span style=\"background-color:#DFFF00 \"> para</span><span style=\"background-color:#DFFF00 \"> evitar</span> a subida da moeda e erodir a competitividade dos exportadores chineses ."
      ],
      "text/plain": [
       "<IPython.core.display.HTML object>"
      ]
     },
     "metadata": {},
     "output_type": "display_data"
    },
    {
     "name": "stdout",
     "output_type": "stream",
     "text": [
      "____________________________________260___________________________________________________\n",
      "\u001b[94m\u001b[1m🤓 OK\u001b[0m\n"
     ]
    },
    {
     "data": {
      "text/html": [
       " <span style=\"background-color:#e0e0e0 \">-10.19009</span> <span style=\"background-color:#DFFF00 \">11.711986</span>"
      ],
      "text/plain": [
       "<IPython.core.display.HTML object>"
      ]
     },
     "metadata": {},
     "output_type": "display_data"
    },
    {
     "data": {
      "text/html": [
       " Although immunization programs require only a relatively small share of health budgets and <span style=\"background-color:#DFFF00 \">yield</span><span style=\"background-color:#DFFF00 \"> exceptionally</span><span style=\"background-color:#DFFF00 \"> high</span><span style=\"background-color:#DFFF00 \"> economic</span><span style=\"background-color:#DFFF00 \"> returns</span><span style=\"background-color:#DFFF00 \"> ,</span><span style=\"background-color:#DFFF00 \"> securing</span> the needed financing requires careful planning ."
      ],
      "text/plain": [
       "<IPython.core.display.HTML object>"
      ]
     },
     "metadata": {},
     "output_type": "display_data"
    },
    {
     "data": {
      "text/html": [
       " Embora os programas de imunização necessitem apenas uma parcela relativamente pequena dos orçamentos de saúde e <span style=\"background-color:#DFFF00 \">tenham</span><span style=\"background-color:#DFFF00 \"> rendimentos</span><span style=\"background-color:#DFFF00 \"> excepcionalmente</span><span style=\"background-color:#DFFF00 \"> elevados</span><span style=\"background-color:#DFFF00 \"> ,</span><span style=\"background-color:#DFFF00 \"> a</span><span style=\"background-color:#DFFF00 \"> obtenção</span> do financiamento necessário exige um planeamento cuidadoso ."
      ],
      "text/plain": [
       "<IPython.core.display.HTML object>"
      ]
     },
     "metadata": {},
     "output_type": "display_data"
    },
    {
     "name": "stdout",
     "output_type": "stream",
     "text": [
      "____________________________________261___________________________________________________\n",
      "\u001b[94m\u001b[1m🤓 OK\u001b[0m\n"
     ]
    },
    {
     "data": {
      "text/html": [
       " <span style=\"background-color:#e0e0e0 \">6.802703</span> <span style=\"background-color:#DFFF00 \">15.447223</span>"
      ],
      "text/plain": [
       "<IPython.core.display.HTML object>"
      ]
     },
     "metadata": {},
     "output_type": "display_data"
    },
    {
     "data": {
      "text/html": [
       " The opposition must <span style=\"background-color:#DFFF00 \">build</span><span style=\"background-color:#DFFF00 \"> itself</span> as a credible and attractive alternative to the Assad regime , and the regime 's international and regional critics must assist in that process ."
      ],
      "text/plain": [
       "<IPython.core.display.HTML object>"
      ]
     },
     "metadata": {},
     "output_type": "display_data"
    },
    {
     "data": {
      "text/html": [
       " A oposição deve <span style=\"background-color:#DFFF00 \">afirmar-se</span> como uma alternativa credível e atractiva ao regime de Assad , e os críticos internacionais e regionais do regime devem auxiliar nesse processo ."
      ],
      "text/plain": [
       "<IPython.core.display.HTML object>"
      ]
     },
     "metadata": {},
     "output_type": "display_data"
    },
    {
     "name": "stdout",
     "output_type": "stream",
     "text": [
      "____________________________________263___________________________________________________\n",
      "\u001b[94m\u001b[1m🤓 OK\u001b[0m\n"
     ]
    },
    {
     "data": {
      "text/html": [
       " <span style=\"background-color:#e0e0e0 \">15.592624</span>"
      ],
      "text/plain": [
       "<IPython.core.display.HTML object>"
      ]
     },
     "metadata": {},
     "output_type": "display_data"
    },
    {
     "data": {
      "text/html": [
       " These widely different carbon Gini coefficients indicate that the world lacks a common understanding of what would be a fair approach to addressing global climate change ."
      ],
      "text/plain": [
       "<IPython.core.display.HTML object>"
      ]
     },
     "metadata": {},
     "output_type": "display_data"
    },
    {
     "data": {
      "text/html": [
       " Esta grande diferença nos coeficientes de Gini do carbono indica que o mundo carece de um entendimento comum sobre o que seria uma abordagem justa para enfrentar as alterações climáticas globais ."
      ],
      "text/plain": [
       "<IPython.core.display.HTML object>"
      ]
     },
     "metadata": {},
     "output_type": "display_data"
    },
    {
     "name": "stdout",
     "output_type": "stream",
     "text": [
      "____________________________________264___________________________________________________\n",
      "\u001b[94m\u001b[1m🤓 OK\u001b[0m\n"
     ]
    },
    {
     "data": {
      "text/html": [
       " <span style=\"background-color:#e0e0e0 \">15.525877</span>"
      ],
      "text/plain": [
       "<IPython.core.display.HTML object>"
      ]
     },
     "metadata": {},
     "output_type": "display_data"
    },
    {
     "data": {
      "text/html": [
       " As the day ended , Morsi 's office declared that it had not been consulted prior to the army 's statement , and tens of thousands of the president 's supporters demonstrated in several cities simultaneously at midnight ."
      ],
      "text/plain": [
       "<IPython.core.display.HTML object>"
      ]
     },
     "metadata": {},
     "output_type": "display_data"
    },
    {
     "data": {
      "text/html": [
       " No final do dia , o gabinete de Morsi declarou que não tinha sido consultado antes da declaração do Exército e dezenas de milhares de apoiantes do Presidente manifestaram-se simultaneamente em várias cidades à meia-noite ."
      ],
      "text/plain": [
       "<IPython.core.display.HTML object>"
      ]
     },
     "metadata": {},
     "output_type": "display_data"
    },
    {
     "name": "stdout",
     "output_type": "stream",
     "text": [
      "____________________________________265___________________________________________________\n",
      "\u001b[94m\u001b[1m🤓 OK\u001b[0m\n"
     ]
    },
    {
     "data": {
      "text/html": [
       " <span style=\"background-color:#e0e0e0 \">4.8604665</span> <span style=\"background-color:#DFFF00 \">8.64761</span> <span style=\"background-color:#9FE2BF \">14.384301</span>"
      ],
      "text/plain": [
       "<IPython.core.display.HTML object>"
      ]
     },
     "metadata": {},
     "output_type": "display_data"
    },
    {
     "data": {
      "text/html": [
       " The <span style=\"background-color:#9FE2BF \">one-sided</span> battle and its outcome <span style=\"background-color:#DFFF00 \">put</span><span style=\"background-color:#DFFF00 \"> an</span><span style=\"background-color:#DFFF00 \"> end</span><span style=\"background-color:#DFFF00 \"> to</span><span style=\"background-color:#DFFF00 \"> the</span><span style=\"background-color:#DFFF00 \"> notion</span> ( for some , a dream ) that Israel could be eliminated ."
      ],
      "text/plain": [
       "<IPython.core.display.HTML object>"
      ]
     },
     "metadata": {},
     "output_type": "display_data"
    },
    {
     "data": {
      "text/html": [
       " A batalha <span style=\"background-color:#9FE2BF \">unilateral</span> e o seu resultado <span style=\"background-color:#DFFF00 \">acabaram</span><span style=\"background-color:#DFFF00 \"> com</span><span style=\"background-color:#DFFF00 \"> a</span><span style=\"background-color:#DFFF00 \"> convicção</span> ( para alguns , o sonho ) de que Israel poderia ser eliminado ."
      ],
      "text/plain": [
       "<IPython.core.display.HTML object>"
      ]
     },
     "metadata": {},
     "output_type": "display_data"
    },
    {
     "name": "stdout",
     "output_type": "stream",
     "text": [
      "____________________________________266___________________________________________________\n",
      "\u001b[94m\u001b[1m🤓 OK\u001b[0m\n"
     ]
    },
    {
     "data": {
      "text/html": [
       " <span style=\"background-color:#e0e0e0 \">11.288122</span>"
      ],
      "text/plain": [
       "<IPython.core.display.HTML object>"
      ]
     },
     "metadata": {},
     "output_type": "display_data"
    },
    {
     "data": {
      "text/html": [
       " In today 's world , the consequences may seem more benign , but they are no less worrisome : a loss of solidarity , a return to nationalist insularity , and greater scope for political extremism ."
      ],
      "text/plain": [
       "<IPython.core.display.HTML object>"
      ]
     },
     "metadata": {},
     "output_type": "display_data"
    },
    {
     "data": {
      "text/html": [
       " No mundo de hoje , as consequências podem parecer mais benignas , mas não são menos preocupantes : a perda da solidariedade , o retorno à insularidade nacionalista e uma maior margem para o extremismo político ."
      ],
      "text/plain": [
       "<IPython.core.display.HTML object>"
      ]
     },
     "metadata": {},
     "output_type": "display_data"
    },
    {
     "name": "stdout",
     "output_type": "stream",
     "text": [
      "____________________________________267___________________________________________________\n",
      "\u001b[94m\u001b[1m🤓 OK\u001b[0m\n"
     ]
    },
    {
     "data": {
      "text/html": [
       " <span style=\"background-color:#e0e0e0 \">7.3997564</span> <span style=\"background-color:#DFFF00 \">11.1010685</span>"
      ],
      "text/plain": [
       "<IPython.core.display.HTML object>"
      ]
     },
     "metadata": {},
     "output_type": "display_data"
    },
    {
     "data": {
      "text/html": [
       " Only by taking this path can May hope to persuade Parliament to pass all the laws that <span style=\"background-color:#DFFF00 \">need</span><span style=\"background-color:#DFFF00 \"> to</span><span style=\"background-color:#DFFF00 \"> be</span><span style=\"background-color:#DFFF00 \"> in</span><span style=\"background-color:#DFFF00 \"> place</span> once the Brexit talks are completed and Britain withdraws from the Union ."
      ],
      "text/plain": [
       "<IPython.core.display.HTML object>"
      ]
     },
     "metadata": {},
     "output_type": "display_data"
    },
    {
     "data": {
      "text/html": [
       " Apenas seguindo este caminho poderá May esperar persuadir o Parlamento a aprovar todas as leis que <span style=\"background-color:#DFFF00 \">deverá</span><span style=\"background-color:#DFFF00 \"> vigorar</span> assim que terminem as conversações do Brexit , e a Grã-Bretanha sair da União ."
      ],
      "text/plain": [
       "<IPython.core.display.HTML object>"
      ]
     },
     "metadata": {},
     "output_type": "display_data"
    },
    {
     "name": "stdout",
     "output_type": "stream",
     "text": [
      "____________________________________268___________________________________________________\n",
      "\u001b[94m\u001b[1m🤓 OK\u001b[0m\n"
     ]
    },
    {
     "data": {
      "text/html": [
       " <span style=\"background-color:#e0e0e0 \">-8.978714</span> <span style=\"background-color:#DFFF00 \">-4.497646</span> <span style=\"background-color:#9FE2BF \">-2.154032</span>"
      ],
      "text/plain": [
       "<IPython.core.display.HTML object>"
      ]
     },
     "metadata": {},
     "output_type": "display_data"
    },
    {
     "data": {
      "text/html": [
       " In fact , large , traditional , or <span style=\"background-color:#DFFF00 \">legacy</span> media organizations still trump social media as trusted sources ."
      ],
      "text/plain": [
       "<IPython.core.display.HTML object>"
      ]
     },
     "metadata": {},
     "output_type": "display_data"
    },
    {
     "data": {
      "text/html": [
       " Na verdade , as grandes , tradicionais ou <span style=\"background-color:#DFFF00 \">antigas</span> organizações de comunicação social , ainda triunfam <span style=\"background-color:#9FE2BF \">sobre</span><span style=\"background-color:#9FE2BF \"> as</span><span style=\"background-color:#9FE2BF \"> redes</span> sociais como sendo fontes confiáveis ."
      ],
      "text/plain": [
       "<IPython.core.display.HTML object>"
      ]
     },
     "metadata": {},
     "output_type": "display_data"
    },
    {
     "name": "stdout",
     "output_type": "stream",
     "text": [
      "____________________________________269___________________________________________________\n",
      "\u001b[94m\u001b[1m🤓 OK\u001b[0m\n"
     ]
    },
    {
     "data": {
      "text/html": [
       " <span style=\"background-color:#e0e0e0 \">15.545141</span>"
      ],
      "text/plain": [
       "<IPython.core.display.HTML object>"
      ]
     },
     "metadata": {},
     "output_type": "display_data"
    },
    {
     "data": {
      "text/html": [
       " In politics , \" knowing everything \" still means knowing different things , which means that compelling governments to disclose information does not necessarily mean that people learn more or understand better ."
      ],
      "text/plain": [
       "<IPython.core.display.HTML object>"
      ]
     },
     "metadata": {},
     "output_type": "display_data"
    },
    {
     "data": {
      "text/html": [
       " Em política , \" saber tudo \" ainda significa saber coisas diferentes , o que indica que o facto de se obrigar os governos a divulgar informações não significa necessariamente que as pessoas fiquem mais informadas ou compreendam melhor ."
      ],
      "text/plain": [
       "<IPython.core.display.HTML object>"
      ]
     },
     "metadata": {},
     "output_type": "display_data"
    },
    {
     "name": "stdout",
     "output_type": "stream",
     "text": [
      "____________________________________271___________________________________________________\n",
      "\u001b[94m\u001b[1m🤓 OK\u001b[0m\n"
     ]
    },
    {
     "data": {
      "text/html": [
       " <span style=\"background-color:#e0e0e0 \">10.190876</span>"
      ],
      "text/plain": [
       "<IPython.core.display.HTML object>"
      ]
     },
     "metadata": {},
     "output_type": "display_data"
    },
    {
     "data": {
      "text/html": [
       " In Antalya , we will discuss how we can align our efforts with the new 2030 Agenda for Sustainable Development and increase our engagement with low-income , developing countries ."
      ],
      "text/plain": [
       "<IPython.core.display.HTML object>"
      ]
     },
     "metadata": {},
     "output_type": "display_data"
    },
    {
     "data": {
      "text/html": [
       " Em Antalya , discutiremos como poderemos alinhar os nossos esforços com a nova Agenda 2030 para o Desenvolvimento Sustentável e aumentar o nosso envolvimento com países de baixo rendimento e em desenvolvimento ."
      ],
      "text/plain": [
       "<IPython.core.display.HTML object>"
      ]
     },
     "metadata": {},
     "output_type": "display_data"
    },
    {
     "name": "stdout",
     "output_type": "stream",
     "text": [
      "____________________________________272___________________________________________________\n",
      "\u001b[94m\u001b[1m🤓 OK\u001b[0m\n"
     ]
    },
    {
     "data": {
      "text/html": [
       " <span style=\"background-color:#e0e0e0 \">15.356077</span>"
      ],
      "text/plain": [
       "<IPython.core.display.HTML object>"
      ]
     },
     "metadata": {},
     "output_type": "display_data"
    },
    {
     "data": {
      "text/html": [
       " But standards of living might have been raised even more if all of this innovative talent had been allocated to more fundamental research - or even to more applied research that could have led to new products ."
      ],
      "text/plain": [
       "<IPython.core.display.HTML object>"
      ]
     },
     "metadata": {},
     "output_type": "display_data"
    },
    {
     "data": {
      "text/html": [
       " Mas os padrões de vida talvez tivessem sido elevados ainda mais se todo este talento inovador fosse atribuído a uma investigação mais fundamental - ou até mesmo a uma investigação mais aplicada que poderia ter conduzido a novos produtos ."
      ],
      "text/plain": [
       "<IPython.core.display.HTML object>"
      ]
     },
     "metadata": {},
     "output_type": "display_data"
    },
    {
     "name": "stdout",
     "output_type": "stream",
     "text": [
      "____________________________________275___________________________________________________\n",
      "\u001b[94m\u001b[1m🤓 OK\u001b[0m\n"
     ]
    },
    {
     "data": {
      "text/html": [
       " <span style=\"background-color:#e0e0e0 \">2.4941437</span> <span style=\"background-color:#DFFF00 \">14.072365</span>"
      ],
      "text/plain": [
       "<IPython.core.display.HTML object>"
      ]
     },
     "metadata": {},
     "output_type": "display_data"
    },
    {
     "data": {
      "text/html": [
       " Moreover , as Draghi noted , real short- and medium-term rates have increased ; long-term rates have not <span style=\"background-color:#DFFF00 \">,</span><span style=\"background-color:#DFFF00 \"> owing</span><span style=\"background-color:#DFFF00 \"> to</span><span style=\"background-color:#DFFF00 \"> a</span><span style=\"background-color:#DFFF00 \"> decline</span><span style=\"background-color:#DFFF00 \"> in</span> long-term nominal rates that extends far beyond the eurozone ."
      ],
      "text/plain": [
       "<IPython.core.display.HTML object>"
      ]
     },
     "metadata": {},
     "output_type": "display_data"
    },
    {
     "data": {
      "text/html": [
       " Além disso , como observou Draghi , as taxas reais de curto e médio prazo têm aumentado ; as taxas de longo prazo não têm <span style=\"background-color:#DFFF00 \">,</span><span style=\"background-color:#DFFF00 \"> devido</span><span style=\"background-color:#DFFF00 \"> a</span><span style=\"background-color:#DFFF00 \"> uma</span><span style=\"background-color:#DFFF00 \"> queda</span><span style=\"background-color:#DFFF00 \"> nas</span> taxas nominais de longo prazo que se estende muito além da zona euro ."
      ],
      "text/plain": [
       "<IPython.core.display.HTML object>"
      ]
     },
     "metadata": {},
     "output_type": "display_data"
    },
    {
     "name": "stdout",
     "output_type": "stream",
     "text": [
      "____________________________________276___________________________________________________\n",
      "\u001b[94m\u001b[1m🤓 OK\u001b[0m\n"
     ]
    },
    {
     "data": {
      "text/html": [
       " <span style=\"background-color:#e0e0e0 \">1.410486</span> <span style=\"background-color:#DFFF00 \">15.565647</span>"
      ],
      "text/plain": [
       "<IPython.core.display.HTML object>"
      ]
     },
     "metadata": {},
     "output_type": "display_data"
    },
    {
     "data": {
      "text/html": [
       " \" You are supposed to have skepticism and imagination , but not <span style=\"background-color:#DFFF00 \">too</span><span style=\"background-color:#DFFF00 \"> much</span> ."
      ],
      "text/plain": [
       "<IPython.core.display.HTML object>"
      ]
     },
     "metadata": {},
     "output_type": "display_data"
    },
    {
     "data": {
      "text/html": [
       " \" É suposto ter-se ceticismo e imaginação , mas não <span style=\"background-color:#DFFF00 \">em</span><span style=\"background-color:#DFFF00 \"> muita</span><span style=\"background-color:#DFFF00 \"> quantidade</span> ."
      ],
      "text/plain": [
       "<IPython.core.display.HTML object>"
      ]
     },
     "metadata": {},
     "output_type": "display_data"
    },
    {
     "name": "stdout",
     "output_type": "stream",
     "text": [
      "____________________________________279___________________________________________________\n",
      "\u001b[94m\u001b[1m🤓 OK\u001b[0m\n"
     ]
    },
    {
     "data": {
      "text/html": [
       " <span style=\"background-color:#e0e0e0 \">5.658848</span> <span style=\"background-color:#DFFF00 \">10.858467</span>"
      ],
      "text/plain": [
       "<IPython.core.display.HTML object>"
      ]
     },
     "metadata": {},
     "output_type": "display_data"
    },
    {
     "data": {
      "text/html": [
       " But all of us need to act with greater urgency in <span style=\"background-color:#DFFF00 \">translating</span> good intentions into concrete action ."
      ],
      "text/plain": [
       "<IPython.core.display.HTML object>"
      ]
     },
     "metadata": {},
     "output_type": "display_data"
    },
    {
     "data": {
      "text/html": [
       " Contudo , todos precisamos de agir com maior urgência no sentido de <span style=\"background-color:#DFFF00 \">transformar</span> as boas intenções em acções concretas ."
      ],
      "text/plain": [
       "<IPython.core.display.HTML object>"
      ]
     },
     "metadata": {},
     "output_type": "display_data"
    },
    {
     "name": "stdout",
     "output_type": "stream",
     "text": [
      "____________________________________281___________________________________________________\n",
      "\u001b[94m\u001b[1m🤓 OK\u001b[0m\n"
     ]
    },
    {
     "data": {
      "text/html": [
       " <span style=\"background-color:#e0e0e0 \">14.791505</span>"
      ],
      "text/plain": [
       "<IPython.core.display.HTML object>"
      ]
     },
     "metadata": {},
     "output_type": "display_data"
    },
    {
     "data": {
      "text/html": [
       " Financial journalism contributed to this atmosphere of ignorance by focusing only on the potential gains , and ignoring the risks ."
      ],
      "text/plain": [
       "<IPython.core.display.HTML object>"
      ]
     },
     "metadata": {},
     "output_type": "display_data"
    },
    {
     "data": {
      "text/html": [
       " O jornalismo financeiro contribuiu para este ambiente de ignorância ao concentrar-se unicamente nos proveitos potenciais e ignorando os riscos ."
      ],
      "text/plain": [
       "<IPython.core.display.HTML object>"
      ]
     },
     "metadata": {},
     "output_type": "display_data"
    },
    {
     "name": "stdout",
     "output_type": "stream",
     "text": [
      "____________________________________282___________________________________________________\n",
      "\u001b[91m\u001b[1m😤 😠 😡 🤬  DETACHED HALLUCINATION\u001b[0m\n",
      "1.7397229999999997\n"
     ]
    },
    {
     "data": {
      "text/html": [
       " <span style=\"background-color:#e0e0e0 \">-6.041525</span> <span style=\"background-color:#DFFF00 \">-4.301802</span>"
      ],
      "text/plain": [
       "<IPython.core.display.HTML object>"
      ]
     },
     "metadata": {},
     "output_type": "display_data"
    },
    {
     "data": {
      "text/html": [
       " Europe will reduce its energy dependence on Russia <span style=\"background-color:#DFFF00 \">,</span> and scale back investment and bilateral cooperation ."
      ],
      "text/plain": [
       "<IPython.core.display.HTML object>"
      ]
     },
     "metadata": {},
     "output_type": "display_data"
    },
    {
     "data": {
      "text/html": [
       " A Europa reduzirá a sua dependência energética face à Rússia , reverá o seu alinhamento e prioridades <span style=\"background-color:#DFFF00 \">estratégicas</span><span style=\"background-color:#DFFF00 \"> ,</span> e reduzirá o investimento e a cooperação bilaterais ."
      ],
      "text/plain": [
       "<IPython.core.display.HTML object>"
      ]
     },
     "metadata": {},
     "output_type": "display_data"
    },
    {
     "name": "stdout",
     "output_type": "stream",
     "text": [
      "____________________________________284___________________________________________________\n",
      "\u001b[94m\u001b[1m🤓 OK\u001b[0m\n"
     ]
    },
    {
     "data": {
      "text/html": [
       " <span style=\"background-color:#e0e0e0 \">13.234174</span>"
      ],
      "text/plain": [
       "<IPython.core.display.HTML object>"
      ]
     },
     "metadata": {},
     "output_type": "display_data"
    },
    {
     "data": {
      "text/html": [
       " Instead , he sought to dismiss the entire issue by hinting vaguely about intelligence-gathering by some EU member states ."
      ],
      "text/plain": [
       "<IPython.core.display.HTML object>"
      ]
     },
     "metadata": {},
     "output_type": "display_data"
    },
    {
     "data": {
      "text/html": [
       " Em vez disso , procurou menosprezar todo o assunto , aludindo vagamente a recolha de informação efectuada por alguns estados-membros da UE ."
      ],
      "text/plain": [
       "<IPython.core.display.HTML object>"
      ]
     },
     "metadata": {},
     "output_type": "display_data"
    },
    {
     "name": "stdout",
     "output_type": "stream",
     "text": [
      "____________________________________285___________________________________________________\n",
      "\u001b[91m\u001b[1m😤 😠 😡 🤬  DETACHED HALLUCINATION\u001b[0m\n",
      "30.059715\n"
     ]
    },
    {
     "data": {
      "text/html": [
       " <span style=\"background-color:#e0e0e0 \">-15.083897</span> <span style=\"background-color:#DFFF00 \">14.975818</span>"
      ],
      "text/plain": [
       "<IPython.core.display.HTML object>"
      ]
     },
     "metadata": {},
     "output_type": "display_data"
    },
    {
     "data": {
      "text/html": [
       " Attempting to mitigate future domestic political damage by undermining the dynamics of the relationship between the <span style=\"background-color:#DFFF00 \">European</span><span style=\"background-color:#DFFF00 \"> Union</span><span style=\"background-color:#DFFF00 \"> and</span> Japan - and both countries ' relationship with the United States - is unwise ."
      ],
      "text/plain": [
       "<IPython.core.display.HTML object>"
      ]
     },
     "metadata": {},
     "output_type": "display_data"
    },
    {
     "data": {
      "text/html": [
       " A tentativa de mitigar futuros danos políticos internos , prejudicando a dinâmica da relação entre a <span style=\"background-color:#DFFF00 \">Coreia</span><span style=\"background-color:#DFFF00 \"> do</span><span style=\"background-color:#DFFF00 \"> Sul</span><span style=\"background-color:#DFFF00 \"> e</span> o Japão - e a relação de ambos os países com os Estados Unidos - é irreflectida ."
      ],
      "text/plain": [
       "<IPython.core.display.HTML object>"
      ]
     },
     "metadata": {},
     "output_type": "display_data"
    },
    {
     "name": "stdout",
     "output_type": "stream",
     "text": [
      "____________________________________287___________________________________________________\n",
      "\u001b[94m\u001b[1m🤓 OK\u001b[0m\n"
     ]
    },
    {
     "data": {
      "text/html": [
       " <span style=\"background-color:#e0e0e0 \">-3.85487</span> <span style=\"background-color:#DFFF00 \">8.1977415</span> <span style=\"background-color:#9FE2BF \">12.344758</span>"
      ],
      "text/plain": [
       "<IPython.core.display.HTML object>"
      ]
     },
     "metadata": {},
     "output_type": "display_data"
    },
    {
     "data": {
      "text/html": [
       " On the one hand , all organized religions teach peace and <span style=\"background-color:#9FE2BF \">love</span><span style=\"background-color:#9FE2BF \"> for</span> others , and they have often intervened successfully to <span style=\"background-color:#DFFF00 \">prevent</span><span style=\"background-color:#DFFF00 \"> or</span> mitigate conflict ."
      ],
      "text/plain": [
       "<IPython.core.display.HTML object>"
      ]
     },
     "metadata": {},
     "output_type": "display_data"
    },
    {
     "data": {
      "text/html": [
       " Por um lado , todas as religiões organizadas ensinam a paz e <span style=\"background-color:#9FE2BF \">o</span><span style=\"background-color:#9FE2BF \"> amor</span><span style=\"background-color:#9FE2BF \"> para</span><span style=\"background-color:#9FE2BF \"> com</span> os outros e intervêm muitas vezes com sucesso na <span style=\"background-color:#DFFF00 \">prevenção</span><span style=\"background-color:#DFFF00 \"> e</span><span style=\"background-color:#DFFF00 \"> na</span> atenuação de conflitos ."
      ],
      "text/plain": [
       "<IPython.core.display.HTML object>"
      ]
     },
     "metadata": {},
     "output_type": "display_data"
    },
    {
     "name": "stdout",
     "output_type": "stream",
     "text": [
      "____________________________________288___________________________________________________\n",
      "\u001b[94m\u001b[1m🤓 OK\u001b[0m\n"
     ]
    },
    {
     "data": {
      "text/html": [
       " <span style=\"background-color:#e0e0e0 \">3.6719337</span> <span style=\"background-color:#DFFF00 \">14.37673</span>"
      ],
      "text/plain": [
       "<IPython.core.display.HTML object>"
      ]
     },
     "metadata": {},
     "output_type": "display_data"
    },
    {
     "data": {
      "text/html": [
       " Government regulations already require panic buttons in taxis , public buses , and other public transport <span style=\"background-color:#DFFF00 \">;</span><span style=\"background-color:#DFFF00 \"> requiring</span><span style=\"background-color:#DFFF00 \"> them</span><span style=\"background-color:#DFFF00 \"> for</span> rickshaws is the natural next step ."
      ],
      "text/plain": [
       "<IPython.core.display.HTML object>"
      ]
     },
     "metadata": {},
     "output_type": "display_data"
    },
    {
     "data": {
      "text/html": [
       " As regulamentações governamentais já exigem botões de emergência nos táxis , autocarros públicos e outros transportes públicos <span style=\"background-color:#DFFF00 \">;</span><span style=\"background-color:#DFFF00 \"> a</span><span style=\"background-color:#DFFF00 \"> sua</span><span style=\"background-color:#DFFF00 \"> exigência</span><span style=\"background-color:#DFFF00 \"> nos</span> riquexós é o próximo passo natural ."
      ],
      "text/plain": [
       "<IPython.core.display.HTML object>"
      ]
     },
     "metadata": {},
     "output_type": "display_data"
    },
    {
     "name": "stdout",
     "output_type": "stream",
     "text": [
      "____________________________________289___________________________________________________\n",
      "\u001b[94m\u001b[1m🤓 OK\u001b[0m\n"
     ]
    },
    {
     "data": {
      "text/html": [
       " <span style=\"background-color:#e0e0e0 \">15.4403925</span>"
      ],
      "text/plain": [
       "<IPython.core.display.HTML object>"
      ]
     },
     "metadata": {},
     "output_type": "display_data"
    },
    {
     "data": {
      "text/html": [
       " Respect for the nine principles approved by the UN is precisely what 's been missing in recent decades ."
      ],
      "text/plain": [
       "<IPython.core.display.HTML object>"
      ]
     },
     "metadata": {},
     "output_type": "display_data"
    },
    {
     "data": {
      "text/html": [
       " O respeito pelos nove princípios aprovados pela ONU é precisamente o que tem faltado em décadas recentes ."
      ],
      "text/plain": [
       "<IPython.core.display.HTML object>"
      ]
     },
     "metadata": {},
     "output_type": "display_data"
    },
    {
     "name": "stdout",
     "output_type": "stream",
     "text": [
      "____________________________________290___________________________________________________\n",
      "\u001b[94m\u001b[1m🤓 OK\u001b[0m\n"
     ]
    },
    {
     "data": {
      "text/html": [
       " <span style=\"background-color:#e0e0e0 \">14.143294</span>"
      ],
      "text/plain": [
       "<IPython.core.display.HTML object>"
      ]
     },
     "metadata": {},
     "output_type": "display_data"
    },
    {
     "data": {
      "text/html": [
       " Rather , successful industrial policies identify sources of positive externalities - sectors where learning might generate benefits elsewhere in the economy ."
      ],
      "text/plain": [
       "<IPython.core.display.HTML object>"
      ]
     },
     "metadata": {},
     "output_type": "display_data"
    },
    {
     "data": {
      "text/html": [
       " Em vez disso , as políticas industriais bem-sucedidas identificam fontes de externalidades positivas - sectores onde a aprendizagem poderá gerar benefícios noutros sectores da economia ."
      ],
      "text/plain": [
       "<IPython.core.display.HTML object>"
      ]
     },
     "metadata": {},
     "output_type": "display_data"
    },
    {
     "name": "stdout",
     "output_type": "stream",
     "text": [
      "____________________________________292___________________________________________________\n",
      "\u001b[94m\u001b[1m🤓 OK\u001b[0m\n"
     ]
    },
    {
     "data": {
      "text/html": [
       " <span style=\"background-color:#e0e0e0 \">6.236373</span> <span style=\"background-color:#DFFF00 \">10.767167</span>"
      ],
      "text/plain": [
       "<IPython.core.display.HTML object>"
      ]
     },
     "metadata": {},
     "output_type": "display_data"
    },
    {
     "data": {
      "text/html": [
       " And we should <span style=\"background-color:#DFFF00 \">apply</span> more pressure on companies like Advance Publications to take responsibility for the sites they own and what happens there ."
      ],
      "text/plain": [
       "<IPython.core.display.HTML object>"
      ]
     },
     "metadata": {},
     "output_type": "display_data"
    },
    {
     "data": {
      "text/html": [
       " E devemos <span style=\"background-color:#DFFF00 \">fazer</span> mais pressão nas empresas , como a Advance Publications , para assumirem a responsabilidade pelos sites que possuem e pelo o que lá acontece ."
      ],
      "text/plain": [
       "<IPython.core.display.HTML object>"
      ]
     },
     "metadata": {},
     "output_type": "display_data"
    },
    {
     "name": "stdout",
     "output_type": "stream",
     "text": [
      "____________________________________294___________________________________________________\n",
      "\u001b[94m\u001b[1m🤓 OK\u001b[0m\n"
     ]
    },
    {
     "data": {
      "text/html": [
       " <span style=\"background-color:#e0e0e0 \">8.921533</span>"
      ],
      "text/plain": [
       "<IPython.core.display.HTML object>"
      ]
     },
     "metadata": {},
     "output_type": "display_data"
    },
    {
     "data": {
      "text/html": [
       " AIDS is the deadliest of these killers , claiming nearly 36 million lives since 1981 ."
      ],
      "text/plain": [
       "<IPython.core.display.HTML object>"
      ]
     },
     "metadata": {},
     "output_type": "display_data"
    },
    {
     "data": {
      "text/html": [
       " A SIDA é o mais mortífero destes assassinos , reclamando perto de 36 milhões de vidas desde 1981 ."
      ],
      "text/plain": [
       "<IPython.core.display.HTML object>"
      ]
     },
     "metadata": {},
     "output_type": "display_data"
    },
    {
     "name": "stdout",
     "output_type": "stream",
     "text": [
      "____________________________________297___________________________________________________\n",
      "\u001b[94m\u001b[1m🤓 OK\u001b[0m\n"
     ]
    },
    {
     "data": {
      "text/html": [
       " <span style=\"background-color:#e0e0e0 \">2.8153749</span> <span style=\"background-color:#DFFF00 \">10.662317</span>"
      ],
      "text/plain": [
       "<IPython.core.display.HTML object>"
      ]
     },
     "metadata": {},
     "output_type": "display_data"
    },
    {
     "data": {
      "text/html": [
       " Reducing red meat consumption to twice per week would reduce global farmland by three-quarters - an area equivalent in size to <span style=\"background-color:#DFFF00 \">the</span><span style=\"background-color:#DFFF00 \"> US</span><span style=\"background-color:#DFFF00 \"> ,</span> China , the European Union , and Australia combined ."
      ],
      "text/plain": [
       "<IPython.core.display.HTML object>"
      ]
     },
     "metadata": {},
     "output_type": "display_data"
    },
    {
     "data": {
      "text/html": [
       " Reduzir o consumo de carne vermelha para duas vezes por semana , reduziria o solo arável global em cerca de três quartos - uma área equivalente , em termos de tamanho , à junção de <span style=\"background-color:#DFFF00 \">:</span><span style=\"background-color:#DFFF00 \"> EUA</span><span style=\"background-color:#DFFF00 \"> ,</span> China , União Europeia e Austrália ."
      ],
      "text/plain": [
       "<IPython.core.display.HTML object>"
      ]
     },
     "metadata": {},
     "output_type": "display_data"
    },
    {
     "name": "stdout",
     "output_type": "stream",
     "text": [
      "____________________________________298___________________________________________________\n",
      "\u001b[94m\u001b[1m🤓 OK\u001b[0m\n"
     ]
    },
    {
     "data": {
      "text/html": [
       " <span style=\"background-color:#e0e0e0 \">13.043474</span>"
      ],
      "text/plain": [
       "<IPython.core.display.HTML object>"
      ]
     },
     "metadata": {},
     "output_type": "display_data"
    },
    {
     "data": {
      "text/html": [
       " Argentina 's governments have made this a habit ever since Juan Perón first came to power in 1946 ."
      ],
      "text/plain": [
       "<IPython.core.display.HTML object>"
      ]
     },
     "metadata": {},
     "output_type": "display_data"
    },
    {
     "data": {
      "text/html": [
       " Os governos da Argentina fizeram disto um hábito desde que Juan Perón subiu ao poder pela primeira vez em 1946 ."
      ],
      "text/plain": [
       "<IPython.core.display.HTML object>"
      ]
     },
     "metadata": {},
     "output_type": "display_data"
    },
    {
     "name": "stdout",
     "output_type": "stream",
     "text": [
      "____________________________________299___________________________________________________\n",
      "\u001b[94m\u001b[1m🤓 OK\u001b[0m\n"
     ]
    },
    {
     "data": {
      "text/html": [
       " <span style=\"background-color:#e0e0e0 \">5.147518</span> <span style=\"background-color:#DFFF00 \">14.732942</span>"
      ],
      "text/plain": [
       "<IPython.core.display.HTML object>"
      ]
     },
     "metadata": {},
     "output_type": "display_data"
    },
    {
     "data": {
      "text/html": [
       " Of course , governments <span style=\"background-color:#DFFF00 \">cite</span> all sorts of reasons , security concerns such as those relating to terrorism now being at the top of the list , to justify the repression of NGOs and other civil society groups ."
      ],
      "text/plain": [
       "<IPython.core.display.HTML object>"
      ]
     },
     "metadata": {},
     "output_type": "display_data"
    },
    {
     "data": {
      "text/html": [
       " É evidente que os governos <span style=\"background-color:#DFFF00 \">apresentam</span> todos os tipos de razões , nomeadamente preocupações em matéria de segurança como as relacionadas com o terrorismo que ocupam agora o topo da lista , para justificar a repressão de ONG e outros grupos da sociedade civil ."
      ],
      "text/plain": [
       "<IPython.core.display.HTML object>"
      ]
     },
     "metadata": {},
     "output_type": "display_data"
    },
    {
     "name": "stdout",
     "output_type": "stream",
     "text": [
      "____________________________________300___________________________________________________\n",
      "\u001b[94m\u001b[1m🤓 OK\u001b[0m\n"
     ]
    },
    {
     "data": {
      "text/html": [
       " <span style=\"background-color:#e0e0e0 \">-10.426536</span>"
      ],
      "text/plain": [
       "<IPython.core.display.HTML object>"
      ]
     },
     "metadata": {},
     "output_type": "display_data"
    },
    {
     "data": {
      "text/html": [
       " <span style=\"background-color:#DFFF00 \">If</span><span style=\"background-color:#DFFF00 \"> this</span><span style=\"background-color:#DFFF00 \"> continues</span><span style=\"background-color:#DFFF00 \"> ,</span><span style=\"background-color:#DFFF00 \"> the</span><span style=\"background-color:#DFFF00 \"> consequences</span><span style=\"background-color:#DFFF00 \"> could</span><span style=\"background-color:#DFFF00 \"> be</span><span style=\"background-color:#DFFF00 \"> dire</span><span style=\"background-color:#DFFF00 \"> ,</span><span style=\"background-color:#DFFF00 \"> especially</span><span style=\"background-color:#DFFF00 \"> for</span><span style=\"background-color:#DFFF00 \"> water-stressed</span><span style=\"background-color:#DFFF00 \"> and</span><span style=\"background-color:#DFFF00 \"> fast-growing</span><span style=\"background-color:#DFFF00 \"> Asia</span><span style=\"background-color:#DFFF00 \"> .</span>"
      ],
      "text/plain": [
       "<IPython.core.display.HTML object>"
      ]
     },
     "metadata": {},
     "output_type": "display_data"
    },
    {
     "data": {
      "text/html": [
       " <span style=\"background-color:#DFFF00 \">Se</span><span style=\"background-color:#DFFF00 \"> isto</span><span style=\"background-color:#DFFF00 \"> continuar</span><span style=\"background-color:#DFFF00 \"> ,</span><span style=\"background-color:#DFFF00 \"> as</span><span style=\"background-color:#DFFF00 \"> consequências</span><span style=\"background-color:#DFFF00 \"> podem</span><span style=\"background-color:#DFFF00 \"> ser</span><span style=\"background-color:#DFFF00 \"> terríveis</span><span style=\"background-color:#DFFF00 \"> ,</span><span style=\"background-color:#DFFF00 \"> especialmente</span><span style=\"background-color:#DFFF00 \"> para</span><span style=\"background-color:#DFFF00 \"> a</span><span style=\"background-color:#DFFF00 \"> Ásia</span><span style=\"background-color:#DFFF00 \"> onde</span><span style=\"background-color:#DFFF00 \"> a</span><span style=\"background-color:#DFFF00 \"> água</span><span style=\"background-color:#DFFF00 \"> é</span><span style=\"background-color:#DFFF00 \"> escassa</span><span style=\"background-color:#DFFF00 \"> e</span><span style=\"background-color:#DFFF00 \"> o</span><span style=\"background-color:#DFFF00 \"> crescimento</span><span style=\"background-color:#DFFF00 \"> é</span><span style=\"background-color:#DFFF00 \"> rápido</span><span style=\"background-color:#DFFF00 \"> .</span>"
      ],
      "text/plain": [
       "<IPython.core.display.HTML object>"
      ]
     },
     "metadata": {},
     "output_type": "display_data"
    },
    {
     "name": "stdout",
     "output_type": "stream",
     "text": [
      "____________________________________301___________________________________________________\n",
      "\u001b[94m\u001b[1m🤓 OK\u001b[0m\n"
     ]
    },
    {
     "data": {
      "text/html": [
       " <span style=\"background-color:#e0e0e0 \">-5.351218</span> <span style=\"background-color:#DFFF00 \">0.012708388</span> <span style=\"background-color:#9FE2BF \">8.436821</span>"
      ],
      "text/plain": [
       "<IPython.core.display.HTML object>"
      ]
     },
     "metadata": {},
     "output_type": "display_data"
    },
    {
     "data": {
      "text/html": [
       " Skepticism about China 's development intentions <span style=\"background-color:#DFFF00 \">will</span><span style=\"background-color:#DFFF00 \"> no</span><span style=\"background-color:#DFFF00 \"> doubt</span><span style=\"background-color:#DFFF00 \"> emerge</span> <span style=\"background-color:#9FE2BF \">,</span><span style=\"background-color:#9FE2BF \"> given</span> China 's political and ideological differences with the West ."
      ],
      "text/plain": [
       "<IPython.core.display.HTML object>"
      ]
     },
     "metadata": {},
     "output_type": "display_data"
    },
    {
     "data": {
      "text/html": [
       " É <span style=\"background-color:#DFFF00 \">evidente</span><span style=\"background-color:#DFFF00 \"> que</span><span style=\"background-color:#DFFF00 \"> haverá</span> cepticismo quanto às intenções de desenvolvimento da China <span style=\"background-color:#9FE2BF \">,</span><span style=\"background-color:#9FE2BF \"> tendo</span><span style=\"background-color:#9FE2BF \"> em</span><span style=\"background-color:#9FE2BF \"> conta</span> as diferenças políticas e ideológicas entre a China e o Ocidente ."
      ],
      "text/plain": [
       "<IPython.core.display.HTML object>"
      ]
     },
     "metadata": {},
     "output_type": "display_data"
    },
    {
     "name": "stdout",
     "output_type": "stream",
     "text": [
      "____________________________________303___________________________________________________\n",
      "\u001b[94m\u001b[1m🤓 OK\u001b[0m\n"
     ]
    },
    {
     "data": {
      "text/html": [
       " <span style=\"background-color:#e0e0e0 \">10.072445</span>"
      ],
      "text/plain": [
       "<IPython.core.display.HTML object>"
      ]
     },
     "metadata": {},
     "output_type": "display_data"
    },
    {
     "data": {
      "text/html": [
       " According to the World Health Organization , the annual funding deficit for TB research and development is more than $ 1.3 billion , a shortfall that is exacerbated by a lack of market incentives within the pharmaceutical industry ."
      ],
      "text/plain": [
       "<IPython.core.display.HTML object>"
      ]
     },
     "metadata": {},
     "output_type": "display_data"
    },
    {
     "data": {
      "text/html": [
       " Segundo a Organização Mundial da Saúde , o défice de financiamento anual para a investigação e desenvolvimento da TB é superior a 1,3 mil milhões de USD , uma carência que é agravada por uma falta de incentivos de mercado na indústria farmacêutica ."
      ],
      "text/plain": [
       "<IPython.core.display.HTML object>"
      ]
     },
     "metadata": {},
     "output_type": "display_data"
    },
    {
     "name": "stdout",
     "output_type": "stream",
     "text": [
      "____________________________________304___________________________________________________\n",
      "\u001b[94m\u001b[1m🤓 OK\u001b[0m\n"
     ]
    },
    {
     "data": {
      "text/html": [
       " <span style=\"background-color:#e0e0e0 \">-5.8859806</span> <span style=\"background-color:#DFFF00 \">14.973959</span>"
      ],
      "text/plain": [
       "<IPython.core.display.HTML object>"
      ]
     },
     "metadata": {},
     "output_type": "display_data"
    },
    {
     "data": {
      "text/html": [
       " The paradox of water is that it sustains life but can also cause death when it becomes a carrier of deadly microbes or takes the form of a tsunami , flash <span style=\"background-color:#DFFF00 \">flood</span><span style=\"background-color:#DFFF00 \"> ,</span> storm , or hurricane ."
      ],
      "text/plain": [
       "<IPython.core.display.HTML object>"
      ]
     },
     "metadata": {},
     "output_type": "display_data"
    },
    {
     "data": {
      "text/html": [
       " O paradoxo da água é que esta sustenta a vida mas pode também causar morte quando se transforma num transportador de micróbios mortíferos ou quando toma a forma de um tsunami , de <span style=\"background-color:#DFFF00 \">uma</span><span style=\"background-color:#DFFF00 \"> inundação</span><span style=\"background-color:#DFFF00 \"> imprevista</span><span style=\"background-color:#DFFF00 \"> ,</span><span style=\"background-color:#DFFF00 \"> de</span><span style=\"background-color:#DFFF00 \"> uma</span> tempestade ou de um furacão ."
      ],
      "text/plain": [
       "<IPython.core.display.HTML object>"
      ]
     },
     "metadata": {},
     "output_type": "display_data"
    },
    {
     "name": "stdout",
     "output_type": "stream",
     "text": [
      "____________________________________305___________________________________________________\n",
      "\u001b[94m\u001b[1m🤓 OK\u001b[0m\n"
     ]
    },
    {
     "data": {
      "text/html": [
       " <span style=\"background-color:#e0e0e0 \">15.428686</span>"
      ],
      "text/plain": [
       "<IPython.core.display.HTML object>"
      ]
     },
     "metadata": {},
     "output_type": "display_data"
    },
    {
     "data": {
      "text/html": [
       " There is no need to be exposed to different opinions , which are , in any case , considered to be propaganda ."
      ],
      "text/plain": [
       "<IPython.core.display.HTML object>"
      ]
     },
     "metadata": {},
     "output_type": "display_data"
    },
    {
     "data": {
      "text/html": [
       " Não há necessidade de ser exposto a opiniões diferentes , as quais são , em qualquer caso , consideradas propaganda ."
      ],
      "text/plain": [
       "<IPython.core.display.HTML object>"
      ]
     },
     "metadata": {},
     "output_type": "display_data"
    },
    {
     "name": "stdout",
     "output_type": "stream",
     "text": [
      "____________________________________306___________________________________________________\n",
      "\u001b[94m\u001b[1m🤓 OK\u001b[0m\n"
     ]
    },
    {
     "data": {
      "text/html": [
       " <span style=\"background-color:#e0e0e0 \">2.5912373</span> <span style=\"background-color:#DFFF00 \">9.780498</span> <span style=\"background-color:#9FE2BF \">11.2922325</span>"
      ],
      "text/plain": [
       "<IPython.core.display.HTML object>"
      ]
     },
     "metadata": {},
     "output_type": "display_data"
    },
    {
     "data": {
      "text/html": [
       " Loan buy-downs could mitigate dwindling flows of <span style=\"background-color:#DFFF00 \">official</span> development assistance ( ODA ) for education in low-income countries , which declined by 10 % from 2010 to 2011 - and by 5 % for basic education ."
      ],
      "text/plain": [
       "<IPython.core.display.HTML object>"
      ]
     },
     "metadata": {},
     "output_type": "display_data"
    },
    {
     "data": {
      "text/html": [
       " Os empréstimos buy-down poderão atenuar a diminuição de fluxos em matéria de ajuda <span style=\"background-color:#DFFF00 \">pública</span><span style=\"background-color:#DFFF00 \"> ao</span> desenvolvimento ( APD ) da educação nos países de baixos rendimentos , que registou uma redução de 10 % entre 2010 e 2011 - e de 5 % <span style=\"background-color:#9FE2BF \">no</span><span style=\"background-color:#9FE2BF \"> que</span><span style=\"background-color:#9FE2BF \"> se</span><span style=\"background-color:#9FE2BF \"> refere</span> à educação básica ."
      ],
      "text/plain": [
       "<IPython.core.display.HTML object>"
      ]
     },
     "metadata": {},
     "output_type": "display_data"
    },
    {
     "name": "stdout",
     "output_type": "stream",
     "text": [
      "____________________________________308___________________________________________________\n",
      "\u001b[94m\u001b[1m🤓 OK\u001b[0m\n"
     ]
    },
    {
     "data": {
      "text/html": [
       " <span style=\"background-color:#e0e0e0 \">4.69469</span> <span style=\"background-color:#DFFF00 \">9.647862</span> <span style=\"background-color:#9FE2BF \">10.9484</span>"
      ],
      "text/plain": [
       "<IPython.core.display.HTML object>"
      ]
     },
     "metadata": {},
     "output_type": "display_data"
    },
    {
     "data": {
      "text/html": [
       " To <span style=\"background-color:#9FE2BF \">achieve</span> a sustainable compromise that all sides <span style=\"background-color:#DFFF00 \">accept</span><span style=\"background-color:#DFFF00 \"> (</span><span style=\"background-color:#DFFF00 \"> even</span><span style=\"background-color:#DFFF00 \"> if</span><span style=\"background-color:#DFFF00 \"> with</span><span style=\"background-color:#DFFF00 \"> gritted</span><span style=\"background-color:#DFFF00 \"> teeth</span><span style=\"background-color:#DFFF00 \"> )</span><span style=\"background-color:#DFFF00 \"> ,</span> the negotiations must be accompanied by diplomatic steps aimed at building trust both in the region and beyond ."
      ],
      "text/plain": [
       "<IPython.core.display.HTML object>"
      ]
     },
     "metadata": {},
     "output_type": "display_data"
    },
    {
     "data": {
      "text/html": [
       " Para <span style=\"background-color:#9FE2BF \">alcançar</span> um compromisso sustentável que todos os lados <span style=\"background-color:#DFFF00 \">aceitem</span><span style=\"background-color:#DFFF00 \"> (</span><span style=\"background-color:#DFFF00 \"> mesmo</span><span style=\"background-color:#DFFF00 \"> com</span><span style=\"background-color:#DFFF00 \"> os</span><span style=\"background-color:#DFFF00 \"> dentes</span><span style=\"background-color:#DFFF00 \"> cerrados</span><span style=\"background-color:#DFFF00 \"> )</span><span style=\"background-color:#DFFF00 \"> ,</span> as negociações devem ser acompanhadas de medidas diplomáticas destinadas à construção de confiança , na região e para lá dela ."
      ],
      "text/plain": [
       "<IPython.core.display.HTML object>"
      ]
     },
     "metadata": {},
     "output_type": "display_data"
    },
    {
     "name": "stdout",
     "output_type": "stream",
     "text": [
      "____________________________________309___________________________________________________\n",
      "\u001b[94m\u001b[1m🤓 OK\u001b[0m\n"
     ]
    },
    {
     "data": {
      "text/html": [
       " <span style=\"background-color:#e0e0e0 \">-10.966822</span> <span style=\"background-color:#DFFF00 \">-4.1087465</span> <span style=\"background-color:#9FE2BF \">6.5869575</span>"
      ],
      "text/plain": [
       "<IPython.core.display.HTML object>"
      ]
     },
     "metadata": {},
     "output_type": "display_data"
    },
    {
     "data": {
      "text/html": [
       " Scientists everywhere need help <span style=\"background-color:#DFFF00 \">navigating</span><span style=\"background-color:#DFFF00 \"> bureaucracy</span><span style=\"background-color:#DFFF00 \"> when</span><span style=\"background-color:#DFFF00 \"> turning</span><span style=\"background-color:#DFFF00 \"> an</span><span style=\"background-color:#DFFF00 \"> idea</span><span style=\"background-color:#DFFF00 \"> into</span><span style=\"background-color:#DFFF00 \"> a</span> commercial venture , and this process is particularly challenging in a region where R & D pipelines are in <span style=\"background-color:#9FE2BF \">their</span><span style=\"background-color:#9FE2BF \"> infancy</span> ."
      ],
      "text/plain": [
       "<IPython.core.display.HTML object>"
      ]
     },
     "metadata": {},
     "output_type": "display_data"
    },
    {
     "data": {
      "text/html": [
       " Em todo o lado , os cientistas necessitam de ajuda para <span style=\"background-color:#DFFF00 \">lidarem</span><span style=\"background-color:#DFFF00 \"> com</span><span style=\"background-color:#DFFF00 \"> a</span><span style=\"background-color:#DFFF00 \"> burocracia</span><span style=\"background-color:#DFFF00 \"> quando</span><span style=\"background-color:#DFFF00 \"> querem</span><span style=\"background-color:#DFFF00 \"> transformar</span><span style=\"background-color:#DFFF00 \"> uma</span><span style=\"background-color:#DFFF00 \"> ideia</span><span style=\"background-color:#DFFF00 \"> num</span> projeto comercial e este processo é particularmente desafiante numa região onde os canais da I & D estão na <span style=\"background-color:#9FE2BF \">fase</span><span style=\"background-color:#9FE2BF \"> inicial</span> ."
      ],
      "text/plain": [
       "<IPython.core.display.HTML object>"
      ]
     },
     "metadata": {},
     "output_type": "display_data"
    },
    {
     "name": "stdout",
     "output_type": "stream",
     "text": [
      "____________________________________313___________________________________________________\n",
      "\u001b[94m\u001b[1m🤓 OK\u001b[0m\n"
     ]
    },
    {
     "data": {
      "text/html": [
       " <span style=\"background-color:#e0e0e0 \">-10.996161</span> <span style=\"background-color:#DFFF00 \">11.300065</span>"
      ],
      "text/plain": [
       "<IPython.core.display.HTML object>"
      ]
     },
     "metadata": {},
     "output_type": "display_data"
    },
    {
     "data": {
      "text/html": [
       " And the reasons for her husband 's political disgrace remain murky <span style=\"background-color:#DFFF00 \">,</span><span style=\"background-color:#DFFF00 \"> to</span><span style=\"background-color:#DFFF00 \"> say</span><span style=\"background-color:#DFFF00 \"> the</span><span style=\"background-color:#DFFF00 \"> least</span> ."
      ],
      "text/plain": [
       "<IPython.core.display.HTML object>"
      ]
     },
     "metadata": {},
     "output_type": "display_data"
    },
    {
     "data": {
      "text/html": [
       " E as razões para a desgraça política do seu marido permanecem <span style=\"background-color:#DFFF00 \">,</span><span style=\"background-color:#DFFF00 \"> no</span><span style=\"background-color:#DFFF00 \"> mínimo</span><span style=\"background-color:#DFFF00 \"> ,</span> turvas ."
      ],
      "text/plain": [
       "<IPython.core.display.HTML object>"
      ]
     },
     "metadata": {},
     "output_type": "display_data"
    },
    {
     "name": "stdout",
     "output_type": "stream",
     "text": [
      "____________________________________314___________________________________________________\n",
      "\u001b[94m\u001b[1m🤓 OK\u001b[0m\n"
     ]
    },
    {
     "data": {
      "text/html": [
       " <span style=\"background-color:#e0e0e0 \">6.9538755</span> <span style=\"background-color:#DFFF00 \">15.366708</span>"
      ],
      "text/plain": [
       "<IPython.core.display.HTML object>"
      ]
     },
     "metadata": {},
     "output_type": "display_data"
    },
    {
     "data": {
      "text/html": [
       " Likewise , Mexico 's Enrique Peña Nieto and Peru 's Ollanta Humala , who have otherwise seemed to be perceptive leaders <span style=\"background-color:#DFFF00 \">,</span><span style=\"background-color:#DFFF00 \"> failed</span><span style=\"background-color:#DFFF00 \"> to</span><span style=\"background-color:#DFFF00 \"> sense</span><span style=\"background-color:#DFFF00 \"> the</span><span style=\"background-color:#DFFF00 \"> gathering</span><span style=\"background-color:#DFFF00 \"> storm</span> ."
      ],
      "text/plain": [
       "<IPython.core.display.HTML object>"
      ]
     },
     "metadata": {},
     "output_type": "display_data"
    },
    {
     "data": {
      "text/html": [
       " Da mesma forma , Enrique Peña Nieto , do México , e Ollanta Humala , do Peru , que de outra maneira pareciam ser líderes perceptivos <span style=\"background-color:#DFFF00 \">,</span><span style=\"background-color:#DFFF00 \"> não</span><span style=\"background-color:#DFFF00 \"> conseguiram</span><span style=\"background-color:#DFFF00 \"> prever</span><span style=\"background-color:#DFFF00 \"> a</span><span style=\"background-color:#DFFF00 \"> tempestade</span> que se aproximava ."
      ],
      "text/plain": [
       "<IPython.core.display.HTML object>"
      ]
     },
     "metadata": {},
     "output_type": "display_data"
    },
    {
     "name": "stdout",
     "output_type": "stream",
     "text": [
      "____________________________________315___________________________________________________\n",
      "\u001b[94m\u001b[1m🤓 OK\u001b[0m\n"
     ]
    },
    {
     "data": {
      "text/html": [
       " <span style=\"background-color:#e0e0e0 \">-6.178102</span> <span style=\"background-color:#DFFF00 \">14.770958</span>"
      ],
      "text/plain": [
       "<IPython.core.display.HTML object>"
      ]
     },
     "metadata": {},
     "output_type": "display_data"
    },
    {
     "data": {
      "text/html": [
       " Rightly or wrongly , Russia and China believe that <span style=\"background-color:#DFFF00 \">the</span><span style=\"background-color:#DFFF00 \"> time</span><span style=\"background-color:#DFFF00 \"> has</span><span style=\"background-color:#DFFF00 \"> come</span><span style=\"background-color:#DFFF00 \"> to</span><span style=\"background-color:#DFFF00 \"> take</span><span style=\"background-color:#DFFF00 \"> their</span><span style=\"background-color:#DFFF00 \"> revenge</span><span style=\"background-color:#DFFF00 \"> over</span><span style=\"background-color:#DFFF00 \"> an</span><span style=\"background-color:#DFFF00 \"> arrogant</span><span style=\"background-color:#DFFF00 \"> West</span><span style=\"background-color:#DFFF00 \"> that</span><span style=\"background-color:#DFFF00 \"> deceived</span><span style=\"background-color:#DFFF00 \"> them</span><span style=\"background-color:#DFFF00 \"> about</span> the true purpose of \" humanitarian intervention \" in Libya ."
      ],
      "text/plain": [
       "<IPython.core.display.HTML object>"
      ]
     },
     "metadata": {},
     "output_type": "display_data"
    },
    {
     "data": {
      "text/html": [
       " Com ou sem razão , a Rússia e a China acreditam que <span style=\"background-color:#DFFF00 \">chegou</span><span style=\"background-color:#DFFF00 \"> o</span><span style=\"background-color:#DFFF00 \"> momento</span><span style=\"background-color:#DFFF00 \"> de</span><span style=\"background-color:#DFFF00 \"> se</span><span style=\"background-color:#DFFF00 \"> vingarem</span><span style=\"background-color:#DFFF00 \"> de</span><span style=\"background-color:#DFFF00 \"> um</span><span style=\"background-color:#DFFF00 \"> Ocidente</span><span style=\"background-color:#DFFF00 \"> arrogante</span><span style=\"background-color:#DFFF00 \"> que</span><span style=\"background-color:#DFFF00 \"> enganou</span><span style=\"background-color:#DFFF00 \"> estes</span><span style=\"background-color:#DFFF00 \"> dois</span><span style=\"background-color:#DFFF00 \"> países</span><span style=\"background-color:#DFFF00 \"> a</span><span style=\"background-color:#DFFF00 \"> respeito</span> do verdadeiro propósito da \" intervenção humanitária \" na Líbia ."
      ],
      "text/plain": [
       "<IPython.core.display.HTML object>"
      ]
     },
     "metadata": {},
     "output_type": "display_data"
    },
    {
     "name": "stdout",
     "output_type": "stream",
     "text": [
      "____________________________________316___________________________________________________\n",
      "\u001b[94m\u001b[1m🤓 OK\u001b[0m\n"
     ]
    },
    {
     "data": {
      "text/html": [
       " <span style=\"background-color:#e0e0e0 \">14.986663</span>"
      ],
      "text/plain": [
       "<IPython.core.display.HTML object>"
      ]
     },
     "metadata": {},
     "output_type": "display_data"
    },
    {
     "data": {
      "text/html": [
       " Trade tensions between the United States and China are threatening the integrity of global value chains , and Britain 's looming exit from the European Union has the potential to cause even more disruption ."
      ],
      "text/plain": [
       "<IPython.core.display.HTML object>"
      ]
     },
     "metadata": {},
     "output_type": "display_data"
    },
    {
     "data": {
      "text/html": [
       " As tensões comerciais entre os Estados Unidos e a China ameaçam a integridade das cadeias de valor globais , e a saída iminente da Grã-Bretanha da União Europeia tem potencial para causar ainda mais perturbações ."
      ],
      "text/plain": [
       "<IPython.core.display.HTML object>"
      ]
     },
     "metadata": {},
     "output_type": "display_data"
    },
    {
     "name": "stdout",
     "output_type": "stream",
     "text": [
      "____________________________________317___________________________________________________\n",
      "\u001b[94m\u001b[1m🤓 OK\u001b[0m\n"
     ]
    },
    {
     "data": {
      "text/html": [
       " <span style=\"background-color:#e0e0e0 \">11.5962715</span>"
      ],
      "text/plain": [
       "<IPython.core.display.HTML object>"
      ]
     },
     "metadata": {},
     "output_type": "display_data"
    },
    {
     "data": {
      "text/html": [
       " A 2012 Action Aid survey found that violence against women has never been more prevalent , with 87 % of women suffering domestic abuse ."
      ],
      "text/plain": [
       "<IPython.core.display.HTML object>"
      ]
     },
     "metadata": {},
     "output_type": "display_data"
    },
    {
     "data": {
      "text/html": [
       " Um estudo da Action Aid de 2012 constatou que a violência contra as mulheres nunca foi tão predominante , com 87 % das mulheres a serem vítimas de violência doméstica ."
      ],
      "text/plain": [
       "<IPython.core.display.HTML object>"
      ]
     },
     "metadata": {},
     "output_type": "display_data"
    },
    {
     "name": "stdout",
     "output_type": "stream",
     "text": [
      "____________________________________319___________________________________________________\n",
      "\u001b[94m\u001b[1m🤓 OK\u001b[0m\n"
     ]
    },
    {
     "data": {
      "text/html": [
       " <span style=\"background-color:#e0e0e0 \">6.9587483</span> <span style=\"background-color:#DFFF00 \">10.951362</span>"
      ],
      "text/plain": [
       "<IPython.core.display.HTML object>"
      ]
     },
     "metadata": {},
     "output_type": "display_data"
    },
    {
     "data": {
      "text/html": [
       " E-commerce <span style=\"background-color:#DFFF00 \">marketplaces</span> such as Alibaba , Amazon , and eBay are turning millions of small enterprises into exporters ."
      ],
      "text/plain": [
       "<IPython.core.display.HTML object>"
      ]
     },
     "metadata": {},
     "output_type": "display_data"
    },
    {
     "data": {
      "text/html": [
       " <span style=\"background-color:#DFFF00 \">As</span><span style=\"background-color:#DFFF00 \"> plataformas</span> de comércio electrónico como o Alibaba , a Amazon , e o eBay estão a transformar milhões de pequenas empresas em exportadores ."
      ],
      "text/plain": [
       "<IPython.core.display.HTML object>"
      ]
     },
     "metadata": {},
     "output_type": "display_data"
    },
    {
     "name": "stdout",
     "output_type": "stream",
     "text": [
      "____________________________________320___________________________________________________\n",
      "\u001b[94m\u001b[1m🤓 OK\u001b[0m\n"
     ]
    },
    {
     "data": {
      "text/html": [
       " <span style=\"background-color:#e0e0e0 \">11.14435</span>"
      ],
      "text/plain": [
       "<IPython.core.display.HTML object>"
      ]
     },
     "metadata": {},
     "output_type": "display_data"
    },
    {
     "data": {
      "text/html": [
       " Far from being defeated , their ideology of rage and hate has become stricter , more pernicious , and more widespread ."
      ],
      "text/plain": [
       "<IPython.core.display.HTML object>"
      ]
     },
     "metadata": {},
     "output_type": "display_data"
    },
    {
     "data": {
      "text/html": [
       " Longe de ter sido derrotada , a sua ideologia de raiva e ódio tornou-se mais estrita , mais perniciosa , e mais difundida ."
      ],
      "text/plain": [
       "<IPython.core.display.HTML object>"
      ]
     },
     "metadata": {},
     "output_type": "display_data"
    },
    {
     "name": "stdout",
     "output_type": "stream",
     "text": [
      "____________________________________321___________________________________________________\n",
      "\u001b[91m\u001b[1m😤 😠 😡 🤬  DETACHED HALLUCINATION\u001b[0m\n",
      "24.733699\n"
     ]
    },
    {
     "data": {
      "text/html": [
       " <span style=\"background-color:#e0e0e0 \">-10.110011</span> <span style=\"background-color:#DFFF00 \">14.623688</span>"
      ],
      "text/plain": [
       "<IPython.core.display.HTML object>"
      ]
     },
     "metadata": {},
     "output_type": "display_data"
    },
    {
     "data": {
      "text/html": [
       " The NASDAQ index confirms this disturbing trend : only 15 European companies are listed , compared to 498 for the US , 43 for China , and 23 <span style=\"background-color:#DFFF00 \">for</span><span style=\"background-color:#DFFF00 \"> India</span> ."
      ],
      "text/plain": [
       "<IPython.core.display.HTML object>"
      ]
     },
     "metadata": {},
     "output_type": "display_data"
    },
    {
     "data": {
      "text/html": [
       " O índice NASDAQ confirma esta tendência perturbadora : apenas 15 empresas Europeias estão aí referenciadas , comparadas com 498 dos EUA , 43 da China , e 23 <span style=\"background-color:#DFFF00 \">de</span><span style=\"background-color:#DFFF00 \"> Israel</span> ."
      ],
      "text/plain": [
       "<IPython.core.display.HTML object>"
      ]
     },
     "metadata": {},
     "output_type": "display_data"
    },
    {
     "name": "stdout",
     "output_type": "stream",
     "text": [
      "____________________________________325___________________________________________________\n",
      "\u001b[91m\u001b[1m😤 😠 😡 🤬  DETACHED HALLUCINATION\u001b[0m\n",
      "30.1074\n"
     ]
    },
    {
     "data": {
      "text/html": [
       " <span style=\"background-color:#e0e0e0 \">-14.515587</span> <span style=\"background-color:#DFFF00 \">7.667125</span> <span style=\"background-color:#9FE2BF \">15.591813</span>"
      ],
      "text/plain": [
       "<IPython.core.display.HTML object>"
      ]
     },
     "metadata": {},
     "output_type": "display_data"
    },
    {
     "data": {
      "text/html": [
       " Riding on the plan 's success , its architect <span style=\"background-color:#DFFF00 \">,</span><span style=\"background-color:#DFFF00 \"> Steve</span><span style=\"background-color:#DFFF00 \"> Biderman</span><span style=\"background-color:#DFFF00 \"> ,</span><span style=\"background-color:#DFFF00 \"> a</span><span style=\"background-color:#DFFF00 \"> former</span><span style=\"background-color:#DFFF00 \"> economy</span><span style=\"background-color:#DFFF00 \"> minister</span><span style=\"background-color:#DFFF00 \"> ,</span> was twice elected President ( in 1994 and 1998 ) , underscoring <span style=\"background-color:#9FE2BF \">voter</span> concern about price stability ."
      ],
      "text/plain": [
       "<IPython.core.display.HTML object>"
      ]
     },
     "metadata": {},
     "output_type": "display_data"
    },
    {
     "data": {
      "text/html": [
       " Sustentado pelo sucesso do plano , seu arquiteto <span style=\"background-color:#DFFF00 \">,</span><span style=\"background-color:#DFFF00 \"> Fernando</span><span style=\"background-color:#DFFF00 \"> Henrique</span><span style=\"background-color:#DFFF00 \"> Cardoso</span><span style=\"background-color:#DFFF00 \"> ,</span><span style=\"background-color:#DFFF00 \"> Ministro</span><span style=\"background-color:#DFFF00 \"> da</span><span style=\"background-color:#DFFF00 \"> Fazenda</span><span style=\"background-color:#DFFF00 \"> na</span><span style=\"background-color:#DFFF00 \"> época</span><span style=\"background-color:#DFFF00 \"> ,</span> foi duas vezes eleito presidente ( em 1994 e 1998 ) , enfatizando a preocupação <span style=\"background-color:#9FE2BF \">do</span><span style=\"background-color:#9FE2BF \"> eleitor</span><span style=\"background-color:#9FE2BF \"> brasileiro</span> em torno da estabilidade de preços ."
      ],
      "text/plain": [
       "<IPython.core.display.HTML object>"
      ]
     },
     "metadata": {},
     "output_type": "display_data"
    },
    {
     "name": "stdout",
     "output_type": "stream",
     "text": [
      "____________________________________327___________________________________________________\n",
      "\u001b[94m\u001b[1m🤓 OK\u001b[0m\n"
     ]
    },
    {
     "data": {
      "text/html": [
       " <span style=\"background-color:#e0e0e0 \">3.2930946</span> <span style=\"background-color:#DFFF00 \">14.11782</span>"
      ],
      "text/plain": [
       "<IPython.core.display.HTML object>"
      ]
     },
     "metadata": {},
     "output_type": "display_data"
    },
    {
     "data": {
      "text/html": [
       " Antibiotics are different from almost every other class <span style=\"background-color:#DFFF00 \">of</span><span style=\"background-color:#DFFF00 \"> drug</span><span style=\"background-color:#DFFF00 \"> in</span><span style=\"background-color:#DFFF00 \"> one</span><span style=\"background-color:#DFFF00 \"> important</span><span style=\"background-color:#DFFF00 \"> and</span><span style=\"background-color:#DFFF00 \"> dangerous</span><span style=\"background-color:#DFFF00 \"> respect</span> : the more they are used , the less effective they become ."
      ],
      "text/plain": [
       "<IPython.core.display.HTML object>"
      ]
     },
     "metadata": {},
     "output_type": "display_data"
    },
    {
     "data": {
      "text/html": [
       " Os antibióticos são diferentes de quase todas as outras classes <span style=\"background-color:#DFFF00 \">de</span><span style=\"background-color:#DFFF00 \"> medicamentos</span><span style=\"background-color:#DFFF00 \"> no</span><span style=\"background-color:#DFFF00 \"> que</span><span style=\"background-color:#DFFF00 \"> se</span><span style=\"background-color:#DFFF00 \"> refere</span><span style=\"background-color:#DFFF00 \"> a</span><span style=\"background-color:#DFFF00 \"> um</span><span style=\"background-color:#DFFF00 \"> aspecto</span><span style=\"background-color:#DFFF00 \"> importante</span><span style=\"background-color:#DFFF00 \"> e</span><span style=\"background-color:#DFFF00 \"> perigoso</span> : quanto mais são utilizados , menos eficazes se tornam ."
      ],
      "text/plain": [
       "<IPython.core.display.HTML object>"
      ]
     },
     "metadata": {},
     "output_type": "display_data"
    },
    {
     "name": "stdout",
     "output_type": "stream",
     "text": [
      "____________________________________328___________________________________________________\n",
      "\u001b[94m\u001b[1m🤓 OK\u001b[0m\n"
     ]
    },
    {
     "data": {
      "text/html": [
       " <span style=\"background-color:#e0e0e0 \">13.721071</span>"
      ],
      "text/plain": [
       "<IPython.core.display.HTML object>"
      ]
     },
     "metadata": {},
     "output_type": "display_data"
    },
    {
     "data": {
      "text/html": [
       " In Africa , oil is usually extracted by foreign companies , so well designed taxes are needed to ensure that countries retain a fair share of the profits ."
      ],
      "text/plain": [
       "<IPython.core.display.HTML object>"
      ]
     },
     "metadata": {},
     "output_type": "display_data"
    },
    {
     "data": {
      "text/html": [
       " Em África , o petróleo é geralmente extraído por empresas estrangeiras , por isso são necessários impostos bem concebidos para assegurar que os países retêm uma parte justa dos lucros ."
      ],
      "text/plain": [
       "<IPython.core.display.HTML object>"
      ]
     },
     "metadata": {},
     "output_type": "display_data"
    },
    {
     "name": "stdout",
     "output_type": "stream",
     "text": [
      "____________________________________329___________________________________________________\n",
      "\u001b[94m\u001b[1m🤓 OK\u001b[0m\n"
     ]
    },
    {
     "data": {
      "text/html": [
       " <span style=\"background-color:#e0e0e0 \">13.752623</span>"
      ],
      "text/plain": [
       "<IPython.core.display.HTML object>"
      ]
     },
     "metadata": {},
     "output_type": "display_data"
    },
    {
     "data": {
      "text/html": [
       " Physicists do not need to know the behavior of every molecule to predict how a gas will behave under pressure ."
      ],
      "text/plain": [
       "<IPython.core.display.HTML object>"
      ]
     },
     "metadata": {},
     "output_type": "display_data"
    },
    {
     "data": {
      "text/html": [
       " Os físicos não precisam de conhecer o comportamento de cada molécula para prever como um gás se comportará sob pressão ."
      ],
      "text/plain": [
       "<IPython.core.display.HTML object>"
      ]
     },
     "metadata": {},
     "output_type": "display_data"
    },
    {
     "name": "stdout",
     "output_type": "stream",
     "text": [
      "____________________________________330___________________________________________________\n",
      "\u001b[94m\u001b[1m🤓 OK\u001b[0m\n"
     ]
    },
    {
     "data": {
      "text/html": [
       " <span style=\"background-color:#e0e0e0 \">15.544717</span>"
      ],
      "text/plain": [
       "<IPython.core.display.HTML object>"
      ]
     },
     "metadata": {},
     "output_type": "display_data"
    },
    {
     "data": {
      "text/html": [
       " One of the most effective ways to maintain this growth and development is to ensure access to safe and affordable healthcare - including surgery ."
      ],
      "text/plain": [
       "<IPython.core.display.HTML object>"
      ]
     },
     "metadata": {},
     "output_type": "display_data"
    },
    {
     "data": {
      "text/html": [
       " Uma das formas mais eficazes para manter este crescimento e desenvolvimento é assegurar o acesso aos cuidados de saúde seguros e economicamente acessíveis - incluindo a cirurgia ."
      ],
      "text/plain": [
       "<IPython.core.display.HTML object>"
      ]
     },
     "metadata": {},
     "output_type": "display_data"
    },
    {
     "name": "stdout",
     "output_type": "stream",
     "text": [
      "____________________________________332___________________________________________________\n",
      "\u001b[94m\u001b[1m🤓 OK\u001b[0m\n"
     ]
    },
    {
     "data": {
      "text/html": [
       " <span style=\"background-color:#e0e0e0 \">10.039497</span>"
      ],
      "text/plain": [
       "<IPython.core.display.HTML object>"
      ]
     },
     "metadata": {},
     "output_type": "display_data"
    },
    {
     "data": {
      "text/html": [
       " We have already resolved to ensure that at least 30 % of all personnel hired by the national government are women ."
      ],
      "text/plain": [
       "<IPython.core.display.HTML object>"
      ]
     },
     "metadata": {},
     "output_type": "display_data"
    },
    {
     "data": {
      "text/html": [
       " Já decidimos garantir que pelo menos 30 % de todos os trabalhadores contratados pelo governo nacional são mulheres ."
      ],
      "text/plain": [
       "<IPython.core.display.HTML object>"
      ]
     },
     "metadata": {},
     "output_type": "display_data"
    },
    {
     "name": "stdout",
     "output_type": "stream",
     "text": [
      "____________________________________335___________________________________________________\n",
      "\u001b[94m\u001b[1m🤓 OK\u001b[0m\n"
     ]
    },
    {
     "data": {
      "text/html": [
       " <span style=\"background-color:#e0e0e0 \">15.467971</span>"
      ],
      "text/plain": [
       "<IPython.core.display.HTML object>"
      ]
     },
     "metadata": {},
     "output_type": "display_data"
    },
    {
     "data": {
      "text/html": [
       " For regions such as West Africa , with economies that are neither as large nor as developed as the UK 's , the impact of such activity can be even more corrosive ."
      ],
      "text/plain": [
       "<IPython.core.display.HTML object>"
      ]
     },
     "metadata": {},
     "output_type": "display_data"
    },
    {
     "data": {
      "text/html": [
       " Para regiões como a África Ocidental , com economias que não são nem tão grandes nem tão desenvolvidas como a do Reino Unido , o impacto de tal actividade pode ser ainda mais corrosivo ."
      ],
      "text/plain": [
       "<IPython.core.display.HTML object>"
      ]
     },
     "metadata": {},
     "output_type": "display_data"
    },
    {
     "name": "stdout",
     "output_type": "stream",
     "text": [
      "____________________________________336___________________________________________________\n",
      "\u001b[94m\u001b[1m🤓 OK\u001b[0m\n"
     ]
    },
    {
     "data": {
      "text/html": [
       " <span style=\"background-color:#e0e0e0 \">-7.672616</span> <span style=\"background-color:#DFFF00 \">11.575364</span>"
      ],
      "text/plain": [
       "<IPython.core.display.HTML object>"
      ]
     },
     "metadata": {},
     "output_type": "display_data"
    },
    {
     "data": {
      "text/html": [
       " When economic inequality translates into political inequality - as it has in large parts of the US - governments <span style=\"background-color:#DFFF00 \">pay</span><span style=\"background-color:#DFFF00 \"> little</span><span style=\"background-color:#DFFF00 \"> attention</span><span style=\"background-color:#DFFF00 \"> to</span><span style=\"background-color:#DFFF00 \"> the</span><span style=\"background-color:#DFFF00 \"> needs</span><span style=\"background-color:#DFFF00 \"> of</span><span style=\"background-color:#DFFF00 \"> those</span><span style=\"background-color:#DFFF00 \"> at</span><span style=\"background-color:#DFFF00 \"> the</span><span style=\"background-color:#DFFF00 \"> bottom</span> ."
      ],
      "text/plain": [
       "<IPython.core.display.HTML object>"
      ]
     },
     "metadata": {},
     "output_type": "display_data"
    },
    {
     "data": {
      "text/html": [
       " Quando a desigualdade económica se traduz em desigualdade política - tal como tem acontecido em grandes partes dos EUA - os governos <span style=\"background-color:#DFFF00 \">prestam</span><span style=\"background-color:#DFFF00 \"> pouca</span><span style=\"background-color:#DFFF00 \"> atenção</span><span style=\"background-color:#DFFF00 \"> às</span><span style=\"background-color:#DFFF00 \"> necessidades</span><span style=\"background-color:#DFFF00 \"> dos</span><span style=\"background-color:#DFFF00 \"> mais</span><span style=\"background-color:#DFFF00 \"> desprotegidos</span> ."
      ],
      "text/plain": [
       "<IPython.core.display.HTML object>"
      ]
     },
     "metadata": {},
     "output_type": "display_data"
    },
    {
     "name": "stdout",
     "output_type": "stream",
     "text": [
      "____________________________________337___________________________________________________\n",
      "\u001b[91m\u001b[1m😤 😠 😡 🤬  DETACHED HALLUCINATION\u001b[0m\n",
      "20.1478687\n"
     ]
    },
    {
     "data": {
      "text/html": [
       " <span style=\"background-color:#e0e0e0 \">-5.4865427</span> <span style=\"background-color:#DFFF00 \">5.7454658</span> <span style=\"background-color:#9FE2BF \">14.661326</span>"
      ],
      "text/plain": [
       "<IPython.core.display.HTML object>"
      ]
     },
     "metadata": {},
     "output_type": "display_data"
    },
    {
     "data": {
      "text/html": [
       " <span style=\"background-color:#DFFF00 \">We</span><span style=\"background-color:#DFFF00 \"> have</span><span style=\"background-color:#DFFF00 \"> a</span><span style=\"background-color:#DFFF00 \"> mission</span><span style=\"background-color:#DFFF00 \"> and</span><span style=\"background-color:#DFFF00 \"> we</span><span style=\"background-color:#DFFF00 \"> have</span><span style=\"background-color:#DFFF00 \"> this</span><span style=\"background-color:#DFFF00 \"> issue</span><span style=\"background-color:#DFFF00 \"> already</span><span style=\"background-color:#DFFF00 \"> resolved</span><span style=\"background-color:#DFFF00 \"> to</span><span style=\"background-color:#DFFF00 \"> ensure</span> that at the least 30 % of those all <span style=\"background-color:#9FE2BF \">personnel</span> hired by the national government are women ."
      ],
      "text/plain": [
       "<IPython.core.display.HTML object>"
      ]
     },
     "metadata": {},
     "output_type": "display_data"
    },
    {
     "data": {
      "text/html": [
       " <span style=\"background-color:#DFFF00 \">Já</span><span style=\"background-color:#DFFF00 \"> decidimos</span><span style=\"background-color:#DFFF00 \"> garantir</span> que pelo menos 30 % de todos os <span style=\"background-color:#9FE2BF \">trabalhadores</span> contratados pelo governo nacional são mulheres ."
      ],
      "text/plain": [
       "<IPython.core.display.HTML object>"
      ]
     },
     "metadata": {},
     "output_type": "display_data"
    },
    {
     "name": "stdout",
     "output_type": "stream",
     "text": [
      "____________________________________338___________________________________________________\n",
      "\u001b[94m\u001b[1m🤓 OK\u001b[0m\n"
     ]
    },
    {
     "data": {
      "text/html": [
       " <span style=\"background-color:#e0e0e0 \">1.9798906</span> <span style=\"background-color:#DFFF00 \">9.928299</span> <span style=\"background-color:#9FE2BF \">13.806301</span>"
      ],
      "text/plain": [
       "<IPython.core.display.HTML object>"
      ]
     },
     "metadata": {},
     "output_type": "display_data"
    },
    {
     "data": {
      "text/html": [
       " Kenyan <span style=\"background-color:#DFFF00 \">media</span> <span style=\"background-color:#9FE2BF \">experienced</span><span style=\"background-color:#9FE2BF \"> a</span><span style=\"background-color:#9FE2BF \"> revival</span> in the post-Moi era ; by 2012 , the country had 301 radio stations and 83 television stations , up from only three television networks in the 1990s ."
      ],
      "text/plain": [
       "<IPython.core.display.HTML object>"
      ]
     },
     "metadata": {},
     "output_type": "display_data"
    },
    {
     "data": {
      "text/html": [
       " Os <span style=\"background-color:#DFFF00 \">meios</span><span style=\"background-color:#DFFF00 \"> de</span><span style=\"background-color:#DFFF00 \"> comunicação</span><span style=\"background-color:#DFFF00 \"> social</span> do Quénia <span style=\"background-color:#9FE2BF \">conseguiram</span><span style=\"background-color:#9FE2BF \"> alguma</span><span style=\"background-color:#9FE2BF \"> recuperação</span> na era pós-Moi ; em 2012 , o país tinha 301 estações de rádio e 83 estações de televisão , por comparação com apenas três redes de televisão na década de 1990 ."
      ],
      "text/plain": [
       "<IPython.core.display.HTML object>"
      ]
     },
     "metadata": {},
     "output_type": "display_data"
    },
    {
     "name": "stdout",
     "output_type": "stream",
     "text": [
      "____________________________________340___________________________________________________\n",
      "\u001b[94m\u001b[1m🤓 OK\u001b[0m\n"
     ]
    },
    {
     "data": {
      "text/html": [
       " <span style=\"background-color:#e0e0e0 \">5.2064447</span> <span style=\"background-color:#DFFF00 \">7.219902</span>"
      ],
      "text/plain": [
       "<IPython.core.display.HTML object>"
      ]
     },
     "metadata": {},
     "output_type": "display_data"
    },
    {
     "data": {
      "text/html": [
       " Though notoriously secretive , the operation is far removed from the Church 's more sensitive <span style=\"background-color:#DFFF00 \">,</span><span style=\"background-color:#DFFF00 \"> doctrinal</span> core ."
      ],
      "text/plain": [
       "<IPython.core.display.HTML object>"
      ]
     },
     "metadata": {},
     "output_type": "display_data"
    },
    {
     "data": {
      "text/html": [
       " Embora notoriamente sigilosa , a operação está muito afastada do núcleo mais sensível <span style=\"background-color:#DFFF00 \">e</span><span style=\"background-color:#DFFF00 \"> doutrinal</span> da Igreja ."
      ],
      "text/plain": [
       "<IPython.core.display.HTML object>"
      ]
     },
     "metadata": {},
     "output_type": "display_data"
    },
    {
     "name": "stdout",
     "output_type": "stream",
     "text": [
      "____________________________________343___________________________________________________\n",
      "\u001b[94m\u001b[1m🤓 OK\u001b[0m\n"
     ]
    },
    {
     "data": {
      "text/html": [
       " <span style=\"background-color:#e0e0e0 \">-10.335006</span> <span style=\"background-color:#DFFF00 \">12.336187</span>"
      ],
      "text/plain": [
       "<IPython.core.display.HTML object>"
      ]
     },
     "metadata": {},
     "output_type": "display_data"
    },
    {
     "data": {
      "text/html": [
       " Many northern states , such as Bihar , have lagged in providing kitchens , storage facilities , and utensils ."
      ],
      "text/plain": [
       "<IPython.core.display.HTML object>"
      ]
     },
     "metadata": {},
     "output_type": "display_data"
    },
    {
     "data": {
      "text/html": [
       " Muitos estados do norte , como o Bihar , ficaram <span style=\"background-color:#DFFF00 \">não</span><span style=\"background-color:#DFFF00 \"> são</span><span style=\"background-color:#DFFF00 \"> muito</span><span style=\"background-color:#DFFF00 \"> eficazes</span> em matéria de fornecimento de cozinhas , instalações para armazenamento e utensílios ."
      ],
      "text/plain": [
       "<IPython.core.display.HTML object>"
      ]
     },
     "metadata": {},
     "output_type": "display_data"
    },
    {
     "name": "stdout",
     "output_type": "stream",
     "text": [
      "____________________________________345___________________________________________________\n",
      "\u001b[94m\u001b[1m🤓 OK\u001b[0m\n"
     ]
    },
    {
     "data": {
      "text/html": [
       " <span style=\"background-color:#e0e0e0 \">4.704781</span> <span style=\"background-color:#DFFF00 \">10.235568</span>"
      ],
      "text/plain": [
       "<IPython.core.display.HTML object>"
      ]
     },
     "metadata": {},
     "output_type": "display_data"
    },
    {
     "data": {
      "text/html": [
       " As executives at Facebook and Cambridge Analytica rationalize <span style=\"background-color:#DFFF00 \">their</span> companies ' use and abuse of personal data , trust in technology firms is approaching a tipping point ."
      ],
      "text/plain": [
       "<IPython.core.display.HTML object>"
      ]
     },
     "metadata": {},
     "output_type": "display_data"
    },
    {
     "data": {
      "text/html": [
       " Enquanto os executivos do Facebook e da Cambridge Analytica racionalizam o uso e o abuso dos dados pessoais <span style=\"background-color:#DFFF00 \">por</span><span style=\"background-color:#DFFF00 \"> parte</span><span style=\"background-color:#DFFF00 \"> das</span><span style=\"background-color:#DFFF00 \"> suas</span> empresas , a confiança nas empresas de tecnologia está à beira de um ponto crítico ."
      ],
      "text/plain": [
       "<IPython.core.display.HTML object>"
      ]
     },
     "metadata": {},
     "output_type": "display_data"
    },
    {
     "name": "stdout",
     "output_type": "stream",
     "text": [
      "____________________________________348___________________________________________________\n",
      "\u001b[94m\u001b[1m🤓 OK\u001b[0m\n"
     ]
    },
    {
     "data": {
      "text/html": [
       " <span style=\"background-color:#e0e0e0 \">6.389694</span> <span style=\"background-color:#DFFF00 \">10.869186</span>"
      ],
      "text/plain": [
       "<IPython.core.display.HTML object>"
      ]
     },
     "metadata": {},
     "output_type": "display_data"
    },
    {
     "data": {
      "text/html": [
       " Who could have said with <span style=\"background-color:#DFFF00 \">certainty</span> that the economic upturn announced by Hollande was real rather than aspirational ?"
      ],
      "text/plain": [
       "<IPython.core.display.HTML object>"
      ]
     },
     "metadata": {},
     "output_type": "display_data"
    },
    {
     "data": {
      "text/html": [
       " Quem poderia afirmar com <span style=\"background-color:#DFFF00 \">segurança</span> que a recuperação económica anunciada por Hollande era real e não uma mera aspiração ?"
      ],
      "text/plain": [
       "<IPython.core.display.HTML object>"
      ]
     },
     "metadata": {},
     "output_type": "display_data"
    },
    {
     "name": "stdout",
     "output_type": "stream",
     "text": [
      "____________________________________349___________________________________________________\n",
      "\u001b[94m\u001b[1m🤓 OK\u001b[0m\n"
     ]
    },
    {
     "data": {
      "text/html": [
       " <span style=\"background-color:#e0e0e0 \">-0.7384038</span> <span style=\"background-color:#DFFF00 \">12.812212</span>"
      ],
      "text/plain": [
       "<IPython.core.display.HTML object>"
      ]
     },
     "metadata": {},
     "output_type": "display_data"
    },
    {
     "data": {
      "text/html": [
       " But as <span style=\"background-color:#DFFF00 \">Nobel</span><span style=\"background-color:#DFFF00 \"> laureate</span><span style=\"background-color:#DFFF00 \"> economist</span><span style=\"background-color:#DFFF00 \"> Joseph</span><span style=\"background-color:#DFFF00 \"> E.</span><span style=\"background-color:#DFFF00 \"> Stiglitz</span><span style=\"background-color:#DFFF00 \"> has</span><span style=\"background-color:#DFFF00 \"> warned</span><span style=\"background-color:#DFFF00 \"> ,</span> Africa cannot replicate East Asia 's manufacturing-led model , so the question is whether it can leverage modern services to achieve economic development ."
      ],
      "text/plain": [
       "<IPython.core.display.HTML object>"
      ]
     },
     "metadata": {},
     "output_type": "display_data"
    },
    {
     "data": {
      "text/html": [
       " Mas , como <span style=\"background-color:#DFFF00 \">advertiu</span><span style=\"background-color:#DFFF00 \"> o</span><span style=\"background-color:#DFFF00 \"> economista</span><span style=\"background-color:#DFFF00 \"> Joseph</span><span style=\"background-color:#DFFF00 \"> E.</span><span style=\"background-color:#DFFF00 \"> Stiglitz</span><span style=\"background-color:#DFFF00 \"> ,</span> África não conseguirá replicar o modelo representado pela industrialização do Leste Asiático , e por isso a questão é se conseguirá aproveitar os serviços modernos para atingir o desenvolvimento económico ."
      ],
      "text/plain": [
       "<IPython.core.display.HTML object>"
      ]
     },
     "metadata": {},
     "output_type": "display_data"
    },
    {
     "name": "stdout",
     "output_type": "stream",
     "text": [
      "____________________________________351___________________________________________________\n",
      "\u001b[91m\u001b[1m😤 😠 😡 🤬  DETACHED HALLUCINATION\u001b[0m\n",
      "16.194166\n"
     ]
    },
    {
     "data": {
      "text/html": [
       " <span style=\"background-color:#e0e0e0 \">-3.918017</span> <span style=\"background-color:#DFFF00 \">9.160513</span> <span style=\"background-color:#9FE2BF \">12.276149</span>"
      ],
      "text/plain": [
       "<IPython.core.display.HTML object>"
      ]
     },
     "metadata": {},
     "output_type": "display_data"
    },
    {
     "data": {
      "text/html": [
       " Western correspondents are aware of these risks <span style=\"background-color:#9FE2BF \">when</span> they travel abroad to <span style=\"background-color:#DFFF00 \">avoid</span> active war zones ."
      ],
      "text/plain": [
       "<IPython.core.display.HTML object>"
      ]
     },
     "metadata": {},
     "output_type": "display_data"
    },
    {
     "data": {
      "text/html": [
       " Os correspondentes ocidentais estão conscientes destes riscos <span style=\"background-color:#9FE2BF \">,</span><span style=\"background-color:#9FE2BF \"> sempre</span> que viajam para o estrangeiro para <span style=\"background-color:#DFFF00 \">fazer</span><span style=\"background-color:#DFFF00 \"> a</span><span style=\"background-color:#DFFF00 \"> cobertura</span><span style=\"background-color:#DFFF00 \"> de</span> zonas de guerra em actividade ."
      ],
      "text/plain": [
       "<IPython.core.display.HTML object>"
      ]
     },
     "metadata": {},
     "output_type": "display_data"
    },
    {
     "name": "stdout",
     "output_type": "stream",
     "text": [
      "____________________________________353___________________________________________________\n",
      "\u001b[94m\u001b[1m🤓 OK\u001b[0m\n"
     ]
    },
    {
     "data": {
      "text/html": [
       " <span style=\"background-color:#e0e0e0 \">0.93267363</span>"
      ],
      "text/plain": [
       "<IPython.core.display.HTML object>"
      ]
     },
     "metadata": {},
     "output_type": "display_data"
    },
    {
     "data": {
      "text/html": [
       " By contrast , when aid is used to support rising incomes in developing economies , it can create export-oriented jobs at home ."
      ],
      "text/plain": [
       "<IPython.core.display.HTML object>"
      ]
     },
     "metadata": {},
     "output_type": "display_data"
    },
    {
     "data": {
      "text/html": [
       " Por outro lado , quando a ajuda é utilizada para apoiar o aumento dos rendimentos nos países em desenvolvimento , pode criar postos de trabalho internos orientados para a exportação ."
      ],
      "text/plain": [
       "<IPython.core.display.HTML object>"
      ]
     },
     "metadata": {},
     "output_type": "display_data"
    },
    {
     "name": "stdout",
     "output_type": "stream",
     "text": [
      "____________________________________354___________________________________________________\n",
      "\u001b[94m\u001b[1m🤓 OK\u001b[0m\n"
     ]
    },
    {
     "data": {
      "text/html": [
       " <span style=\"background-color:#e0e0e0 \">10.874177</span>"
      ],
      "text/plain": [
       "<IPython.core.display.HTML object>"
      ]
     },
     "metadata": {},
     "output_type": "display_data"
    },
    {
     "data": {
      "text/html": [
       " So Israel chose to mount punitive raids against Egyptian and Jordanian military outposts and villages that harbored marauders ."
      ],
      "text/plain": [
       "<IPython.core.display.HTML object>"
      ]
     },
     "metadata": {},
     "output_type": "display_data"
    },
    {
     "data": {
      "text/html": [
       " Por isso , Israel escolheu lançar ataques punitivos contra os postos militares avançados Egípcios e Jordanos e contra as aldeias que acolhessem saqueadores ."
      ],
      "text/plain": [
       "<IPython.core.display.HTML object>"
      ]
     },
     "metadata": {},
     "output_type": "display_data"
    },
    {
     "name": "stdout",
     "output_type": "stream",
     "text": [
      "____________________________________356___________________________________________________\n",
      "\u001b[91m\u001b[1m😤 😠 😡 🤬  DETACHED HALLUCINATION\u001b[0m\n",
      "5.047949600000001\n"
     ]
    },
    {
     "data": {
      "text/html": [
       " <span style=\"background-color:#e0e0e0 \">6.1358514</span> <span style=\"background-color:#DFFF00 \">11.183801</span>"
      ],
      "text/plain": [
       "<IPython.core.display.HTML object>"
      ]
     },
     "metadata": {},
     "output_type": "display_data"
    },
    {
     "data": {
      "text/html": [
       " In fact , I predict that 2018 will be a <span style=\"background-color:#DFFF00 \">breakout</span> year for many - though not all - Southeast Asian economies , owing to gains in eight key areas ."
      ],
      "text/plain": [
       "<IPython.core.display.HTML object>"
      ]
     },
     "metadata": {},
     "output_type": "display_data"
    },
    {
     "data": {
      "text/html": [
       " Com efeito , prevejo que 2018 seja um ano <span style=\"background-color:#DFFF00 \">determinante</span> para muitas - embora não todas - economias Africanas , devido aos ganhos em oito áreas essenciais ."
      ],
      "text/plain": [
       "<IPython.core.display.HTML object>"
      ]
     },
     "metadata": {},
     "output_type": "display_data"
    },
    {
     "name": "stdout",
     "output_type": "stream",
     "text": [
      "____________________________________357___________________________________________________\n",
      "\u001b[94m\u001b[1m🤓 OK\u001b[0m\n"
     ]
    },
    {
     "data": {
      "text/html": [
       " <span style=\"background-color:#e0e0e0 \">2.2244723</span> <span style=\"background-color:#DFFF00 \">9.363569</span> <span style=\"background-color:#9FE2BF \">10.800975</span>"
      ],
      "text/plain": [
       "<IPython.core.display.HTML object>"
      ]
     },
     "metadata": {},
     "output_type": "display_data"
    },
    {
     "data": {
      "text/html": [
       " But , given lower <span style=\"background-color:#9FE2BF \">interest</span><span style=\"background-color:#9FE2BF \"> rates</span> <span style=\"background-color:#DFFF00 \">in</span> Europe and the global slowdown , the gains are likely to be small even here ."
      ],
      "text/plain": [
       "<IPython.core.display.HTML object>"
      ]
     },
     "metadata": {},
     "output_type": "display_data"
    },
    {
     "data": {
      "text/html": [
       " Mas , dadas as <span style=\"background-color:#9FE2BF \">taxas</span><span style=\"background-color:#9FE2BF \"> de</span><span style=\"background-color:#9FE2BF \"> juro</span> mais baixas <span style=\"background-color:#DFFF00 \">na</span> Europa e o abrandamento global , mesmo aqui os ganhos serão provavelmente baixos ."
      ],
      "text/plain": [
       "<IPython.core.display.HTML object>"
      ]
     },
     "metadata": {},
     "output_type": "display_data"
    },
    {
     "name": "stdout",
     "output_type": "stream",
     "text": [
      "____________________________________358___________________________________________________\n",
      "\u001b[94m\u001b[1m🤓 OK\u001b[0m\n"
     ]
    },
    {
     "data": {
      "text/html": [
       " <span style=\"background-color:#e0e0e0 \">4.117365</span> <span style=\"background-color:#DFFF00 \">10.962291</span>"
      ],
      "text/plain": [
       "<IPython.core.display.HTML object>"
      ]
     },
     "metadata": {},
     "output_type": "display_data"
    },
    {
     "data": {
      "text/html": [
       " In that sense , security <span style=\"background-color:#DFFF00 \">surveillance</span> can benefit both the US and other countries ."
      ],
      "text/plain": [
       "<IPython.core.display.HTML object>"
      ]
     },
     "metadata": {},
     "output_type": "display_data"
    },
    {
     "data": {
      "text/html": [
       " Neste sentido , <span style=\"background-color:#DFFF00 \">o</span><span style=\"background-color:#DFFF00 \"> controlo</span> da segurança pode beneficiar tanto os EUA como outros países ."
      ],
      "text/plain": [
       "<IPython.core.display.HTML object>"
      ]
     },
     "metadata": {},
     "output_type": "display_data"
    },
    {
     "name": "stdout",
     "output_type": "stream",
     "text": [
      "____________________________________360___________________________________________________\n",
      "\u001b[91m\u001b[1m😤 😠 😡 🤬  DETACHED HALLUCINATION\u001b[0m\n",
      "27.406613\n"
     ]
    },
    {
     "data": {
      "text/html": [
       " <span style=\"background-color:#e0e0e0 \">-14.600623</span> <span style=\"background-color:#DFFF00 \">3.395444</span> <span style=\"background-color:#9FE2BF \">12.80599</span>"
      ],
      "text/plain": [
       "<IPython.core.display.HTML object>"
      ]
     },
     "metadata": {},
     "output_type": "display_data"
    },
    {
     "data": {
      "text/html": [
       " But the expectations of the emerging middle class - including <span style=\"background-color:#DFFF00 \">efficient</span><span style=\"background-color:#DFFF00 \"> infrastructure</span><span style=\"background-color:#DFFF00 \"> ,</span> and well-paid jobs - have not been <span style=\"background-color:#9FE2BF \">met</span> ."
      ],
      "text/plain": [
       "<IPython.core.display.HTML object>"
      ]
     },
     "metadata": {},
     "output_type": "display_data"
    },
    {
     "data": {
      "text/html": [
       " Mas as expectativas da classe média emergente - incluindo <span style=\"background-color:#DFFF00 \">infra-estruturas</span><span style=\"background-color:#DFFF00 \"> eficazes</span><span style=\"background-color:#DFFF00 \"> ,</span><span style=\"background-color:#DFFF00 \"> serviços</span><span style=\"background-color:#DFFF00 \"> de</span><span style=\"background-color:#DFFF00 \"> educação</span><span style=\"background-color:#DFFF00 \"> e</span><span style=\"background-color:#DFFF00 \"> de</span><span style=\"background-color:#DFFF00 \"> saúde</span><span style=\"background-color:#DFFF00 \"> de</span><span style=\"background-color:#DFFF00 \"> boa</span><span style=\"background-color:#DFFF00 \"> qualidade</span> e empregos bem remunerados - não foram <span style=\"background-color:#9FE2BF \">satisfeitas</span> ."
      ],
      "text/plain": [
       "<IPython.core.display.HTML object>"
      ]
     },
     "metadata": {},
     "output_type": "display_data"
    },
    {
     "name": "stdout",
     "output_type": "stream",
     "text": [
      "____________________________________361___________________________________________________\n",
      "\u001b[94m\u001b[1m🤓 OK\u001b[0m\n"
     ]
    },
    {
     "data": {
      "text/html": [
       " <span style=\"background-color:#e0e0e0 \">12.059228</span>"
      ],
      "text/plain": [
       "<IPython.core.display.HTML object>"
      ]
     },
     "metadata": {},
     "output_type": "display_data"
    },
    {
     "data": {
      "text/html": [
       " This effort will help to develop business innovations for affordable and sustainable sanitation services in Africa , which could reach two million urban dwellers directly and another six million people through subsidiary projects ."
      ],
      "text/plain": [
       "<IPython.core.display.HTML object>"
      ]
     },
     "metadata": {},
     "output_type": "display_data"
    },
    {
     "data": {
      "text/html": [
       " Este esforço contribuirá para o desenvolvimento de inovações empresariais para serviços de saneamento economicamente comportáveis e sustentáveis em África , susceptíveis de alcançar directamente dois milhões de residentes urbanos e seis milhões de outras pessoas através de projectos subsidiários ."
      ],
      "text/plain": [
       "<IPython.core.display.HTML object>"
      ]
     },
     "metadata": {},
     "output_type": "display_data"
    },
    {
     "name": "stdout",
     "output_type": "stream",
     "text": [
      "____________________________________362___________________________________________________\n",
      "\u001b[94m\u001b[1m🤓 OK\u001b[0m\n"
     ]
    },
    {
     "data": {
      "text/html": [
       " <span style=\"background-color:#e0e0e0 \">15.566743</span>"
      ],
      "text/plain": [
       "<IPython.core.display.HTML object>"
      ]
     },
     "metadata": {},
     "output_type": "display_data"
    },
    {
     "data": {
      "text/html": [
       " The combustion of diesel and coal are among the main causes of air pollution , with 3.7 million deaths attributed to outdoor fumes and 4.3 million resulting from poorly ventilated homes ."
      ],
      "text/plain": [
       "<IPython.core.display.HTML object>"
      ]
     },
     "metadata": {},
     "output_type": "display_data"
    },
    {
     "data": {
      "text/html": [
       " A combustão de diesel e carvão está entre as principais causas da poluição do ar , com 3,7 milhões de mortes atribuídas a fumo ao ar livre e 4,3 milhões decorrentes de casas mal ventiladas ."
      ],
      "text/plain": [
       "<IPython.core.display.HTML object>"
      ]
     },
     "metadata": {},
     "output_type": "display_data"
    },
    {
     "name": "stdout",
     "output_type": "stream",
     "text": [
      "____________________________________365___________________________________________________\n",
      "\u001b[94m\u001b[1m🤓 OK\u001b[0m\n"
     ]
    },
    {
     "data": {
      "text/html": [
       " <span style=\"background-color:#e0e0e0 \">11.325987</span>"
      ],
      "text/plain": [
       "<IPython.core.display.HTML object>"
      ]
     },
     "metadata": {},
     "output_type": "display_data"
    },
    {
     "data": {
      "text/html": [
       " This discussion is important , because , when it comes to reducing many of the world 's greatest inequities , aid matters as much as ever - and perhaps even more - for reasons that are not widely understood ."
      ],
      "text/plain": [
       "<IPython.core.display.HTML object>"
      ]
     },
     "metadata": {},
     "output_type": "display_data"
    },
    {
     "data": {
      "text/html": [
       " Este debate é importante , porque , quando se trata de reduzir muitas das maiores desigualdades do mundo , a ajuda é mais importante do que nunca - e talvez ainda mais - por razões que não são amplamente compreendidas ."
      ],
      "text/plain": [
       "<IPython.core.display.HTML object>"
      ]
     },
     "metadata": {},
     "output_type": "display_data"
    },
    {
     "name": "stdout",
     "output_type": "stream",
     "text": [
      "____________________________________368___________________________________________________\n",
      "\u001b[94m\u001b[1m🤓 OK\u001b[0m\n"
     ]
    },
    {
     "data": {
      "text/html": [
       " <span style=\"background-color:#e0e0e0 \">-8.302115</span> <span style=\"background-color:#DFFF00 \">4.936772</span> <span style=\"background-color:#9FE2BF \">11.43035</span>"
      ],
      "text/plain": [
       "<IPython.core.display.HTML object>"
      ]
     },
     "metadata": {},
     "output_type": "display_data"
    },
    {
     "data": {
      "text/html": [
       " On some occasions , news outlets were even forced to print or <span style=\"background-color:#9FE2BF \">air</span><span style=\"background-color:#9FE2BF \"> lengthy</span><span style=\"background-color:#9FE2BF \"> dissenting</span><span style=\"background-color:#9FE2BF \"> statements</span> from government officials who disliked <span style=\"background-color:#DFFF00 \">their</span><span style=\"background-color:#DFFF00 \"> treatment</span><span style=\"background-color:#DFFF00 \"> in</span><span style=\"background-color:#DFFF00 \"> the</span> media ."
      ],
      "text/plain": [
       "<IPython.core.display.HTML object>"
      ]
     },
     "metadata": {},
     "output_type": "display_data"
    },
    {
     "data": {
      "text/html": [
       " Em certos casos , as agências noticiosas foram mesmo forçadas a publicar ou <span style=\"background-color:#9FE2BF \">transmitir</span><span style=\"background-color:#9FE2BF \"> prolongadas</span><span style=\"background-color:#9FE2BF \"> declarações</span><span style=\"background-color:#9FE2BF \"> divergentes</span> de responsáveis governamentais , a quem não agradava <span style=\"background-color:#DFFF00 \">o</span><span style=\"background-color:#DFFF00 \"> modo</span><span style=\"background-color:#DFFF00 \"> como</span><span style=\"background-color:#DFFF00 \"> eram</span><span style=\"background-color:#DFFF00 \"> tratados</span><span style=\"background-color:#DFFF00 \"> pelos</span><span style=\"background-color:#DFFF00 \"> meios</span> de comunicação ."
      ],
      "text/plain": [
       "<IPython.core.display.HTML object>"
      ]
     },
     "metadata": {},
     "output_type": "display_data"
    },
    {
     "name": "stdout",
     "output_type": "stream",
     "text": [
      "____________________________________371___________________________________________________\n",
      "\u001b[94m\u001b[1m🤓 OK\u001b[0m\n"
     ]
    },
    {
     "data": {
      "text/html": [
       " <span style=\"background-color:#e0e0e0 \">7.923644</span> <span style=\"background-color:#DFFF00 \">14.536769</span>"
      ],
      "text/plain": [
       "<IPython.core.display.HTML object>"
      ]
     },
     "metadata": {},
     "output_type": "display_data"
    },
    {
     "data": {
      "text/html": [
       " Across <span style=\"background-color:#DFFF00 \">the</span><span style=\"background-color:#DFFF00 \"> northern</span> part of Sub-Saharan Africa , there are now huge challenges from well-armed and well-financed terrorist groups that have imported toxic Islamist ideology from the Middle East ."
      ],
      "text/plain": [
       "<IPython.core.display.HTML object>"
      ]
     },
     "metadata": {},
     "output_type": "display_data"
    },
    {
     "data": {
      "text/html": [
       " Por todo <span style=\"background-color:#DFFF00 \">o</span><span style=\"background-color:#DFFF00 \"> Norte</span> da África Subsariana , há agora enormes desafios por parte de grupos terroristas , bem armados e bem financiados , que importaram a tóxica ideologia islamista do Médio Oriente ."
      ],
      "text/plain": [
       "<IPython.core.display.HTML object>"
      ]
     },
     "metadata": {},
     "output_type": "display_data"
    },
    {
     "name": "stdout",
     "output_type": "stream",
     "text": [
      "____________________________________373___________________________________________________\n",
      "\u001b[94m\u001b[1m🤓 OK\u001b[0m\n"
     ]
    },
    {
     "data": {
      "text/html": [
       " <span style=\"background-color:#e0e0e0 \">8.65007</span> <span style=\"background-color:#DFFF00 \">12.8161</span>"
      ],
      "text/plain": [
       "<IPython.core.display.HTML object>"
      ]
     },
     "metadata": {},
     "output_type": "display_data"
    },
    {
     "data": {
      "text/html": [
       " Faced with the North 's dangerous nuclear game , we should ask what would have happened if , over the <span style=\"background-color:#DFFF00 \">last</span><span style=\"background-color:#DFFF00 \"> 20</span><span style=\"background-color:#DFFF00 \"> some</span> years , the North Korea problem had been approached with the sagacity of Metternich and Kennedy ."
      ],
      "text/plain": [
       "<IPython.core.display.HTML object>"
      ]
     },
     "metadata": {},
     "output_type": "display_data"
    },
    {
     "data": {
      "text/html": [
       " Confrontados com o perigoso jogo nuclear do Norte , deveríamos perguntar-nos o que teria acontecido se , durante os <span style=\"background-color:#DFFF00 \">últimos</span><span style=\"background-color:#DFFF00 \"> 20</span> anos , o problema da Coreia do Norte tivesse sido abordado com a sagacidade de Metternich e de Kennedy ."
      ],
      "text/plain": [
       "<IPython.core.display.HTML object>"
      ]
     },
     "metadata": {},
     "output_type": "display_data"
    },
    {
     "name": "stdout",
     "output_type": "stream",
     "text": [
      "____________________________________374___________________________________________________\n",
      "\u001b[94m\u001b[1m🤓 OK\u001b[0m\n"
     ]
    },
    {
     "data": {
      "text/html": [
       " <span style=\"background-color:#e0e0e0 \">-4.8044424</span> <span style=\"background-color:#DFFF00 \">9.9097185</span> <span style=\"background-color:#9FE2BF \">15.565129</span>"
      ],
      "text/plain": [
       "<IPython.core.display.HTML object>"
      ]
     },
     "metadata": {},
     "output_type": "display_data"
    },
    {
     "data": {
      "text/html": [
       " Not <span style=\"background-color:#9FE2BF \">only</span><span style=\"background-color:#9FE2BF \"> have</span> G20 leaders reaffirmed their previous support for efforts by the World Health Organization , the Food and Agricultural Organization of the United Nations , and the Organization for Animal Health <span style=\"background-color:#DFFF00 \">to</span><span style=\"background-color:#DFFF00 \"> tackle</span><span style=\"background-color:#DFFF00 \"> AMR</span> ."
      ],
      "text/plain": [
       "<IPython.core.display.HTML object>"
      ]
     },
     "metadata": {},
     "output_type": "display_data"
    },
    {
     "data": {
      "text/html": [
       " Os líderes do G20 não <span style=\"background-color:#9FE2BF \">só</span> reiteraram o seu apoio anterior aos esforços da Organização Mundial de Saúde , da Organização das Nações Unidas para a Agricultura e a Alimentação , e da Organização Mundial para a Saúde Animal <span style=\"background-color:#DFFF00 \">na</span><span style=\"background-color:#DFFF00 \"> resposta</span><span style=\"background-color:#DFFF00 \"> à</span><span style=\"background-color:#DFFF00 \"> RAM</span> ."
      ],
      "text/plain": [
       "<IPython.core.display.HTML object>"
      ]
     },
     "metadata": {},
     "output_type": "display_data"
    },
    {
     "name": "stdout",
     "output_type": "stream",
     "text": [
      "____________________________________376___________________________________________________\n",
      "\u001b[94m\u001b[1m🤓 OK\u001b[0m\n"
     ]
    },
    {
     "data": {
      "text/html": [
       " <span style=\"background-color:#e0e0e0 \">4.664766</span> <span style=\"background-color:#DFFF00 \">11.882192</span>"
      ],
      "text/plain": [
       "<IPython.core.display.HTML object>"
      ]
     },
     "metadata": {},
     "output_type": "display_data"
    },
    {
     "data": {
      "text/html": [
       " In fact , European leaders are finally beginning to reveal the true nature of the ongoing debt dispute , and the answer is not <span style=\"background-color:#DFFF00 \">pleasant</span><span style=\"background-color:#DFFF00 \"> :</span><span style=\"background-color:#DFFF00 \"> it</span><span style=\"background-color:#DFFF00 \"> is</span> about power and democracy much more than money and economics ."
      ],
      "text/plain": [
       "<IPython.core.display.HTML object>"
      ]
     },
     "metadata": {},
     "output_type": "display_data"
    },
    {
     "data": {
      "text/html": [
       " Com efeito , os líderes Europeus estão a começar finalmente a revelar a verdadeira natureza da disputa existente sobre a dívida , e a resposta não é <span style=\"background-color:#DFFF00 \">agradável</span><span style=\"background-color:#DFFF00 \"> :</span><span style=\"background-color:#DFFF00 \"> tem</span> muito mais a ver com poder e democracia do que com dinheiro e economia ."
      ],
      "text/plain": [
       "<IPython.core.display.HTML object>"
      ]
     },
     "metadata": {},
     "output_type": "display_data"
    },
    {
     "name": "stdout",
     "output_type": "stream",
     "text": [
      "____________________________________377___________________________________________________\n",
      "\u001b[94m\u001b[1m🤓 OK\u001b[0m\n"
     ]
    },
    {
     "data": {
      "text/html": [
       " <span style=\"background-color:#e0e0e0 \">6.888491</span> <span style=\"background-color:#DFFF00 \">11.710033</span>"
      ],
      "text/plain": [
       "<IPython.core.display.HTML object>"
      ]
     },
     "metadata": {},
     "output_type": "display_data"
    },
    {
     "data": {
      "text/html": [
       " Higher <span style=\"background-color:#DFFF00 \">interest</span> rates could give rise to market turmoil , as asset prices undergo a significant \" correction . \""
      ],
      "text/plain": [
       "<IPython.core.display.HTML object>"
      ]
     },
     "metadata": {},
     "output_type": "display_data"
    },
    {
     "data": {
      "text/html": [
       " Taxas de juro mais altas poderiam originar perturbações no mercado , com os preços <span style=\"background-color:#DFFF00 \">dos</span><span style=\"background-color:#DFFF00 \"> activos</span> a sofrerem \" correcções \" significativas ."
      ],
      "text/plain": [
       "<IPython.core.display.HTML object>"
      ]
     },
     "metadata": {},
     "output_type": "display_data"
    },
    {
     "name": "stdout",
     "output_type": "stream",
     "text": [
      "____________________________________378___________________________________________________\n",
      "\u001b[94m\u001b[1m🤓 OK\u001b[0m\n"
     ]
    },
    {
     "data": {
      "text/html": [
       " <span style=\"background-color:#e0e0e0 \">-5.6158485</span> <span style=\"background-color:#DFFF00 \">-2.2470489</span>"
      ],
      "text/plain": [
       "<IPython.core.display.HTML object>"
      ]
     },
     "metadata": {},
     "output_type": "display_data"
    },
    {
     "data": {
      "text/html": [
       " The Association of Southeast Asian Nations <span style=\"background-color:#DFFF00 \">'</span><span style=\"background-color:#DFFF00 \"> long-held</span><span style=\"background-color:#DFFF00 \"> dream</span><span style=\"background-color:#DFFF00 \"> of</span><span style=\"background-color:#DFFF00 \"> unity</span> might first arrive by rail ."
      ],
      "text/plain": [
       "<IPython.core.display.HTML object>"
      ]
     },
     "metadata": {},
     "output_type": "display_data"
    },
    {
     "data": {
      "text/html": [
       " A <span style=\"background-color:#DFFF00 \">união</span><span style=\"background-color:#DFFF00 \"> há</span><span style=\"background-color:#DFFF00 \"> muito</span><span style=\"background-color:#DFFF00 \"> sonhada</span><span style=\"background-color:#DFFF00 \"> pela</span> Associação das Nações do Sudeste Asiático poderá chegar primeiro por via ferroviária ."
      ],
      "text/plain": [
       "<IPython.core.display.HTML object>"
      ]
     },
     "metadata": {},
     "output_type": "display_data"
    },
    {
     "name": "stdout",
     "output_type": "stream",
     "text": [
      "____________________________________379___________________________________________________\n",
      "\u001b[91m\u001b[1m😤 😠 😡 🤬  DETACHED HALLUCINATION\u001b[0m\n",
      "0.0\n"
     ]
    },
    {
     "data": {
      "text/html": [
       " <span style=\"background-color:#e0e0e0 \">1.9891561</span>"
      ],
      "text/plain": [
       "<IPython.core.display.HTML object>"
      ]
     },
     "metadata": {},
     "output_type": "display_data"
    },
    {
     "data": {
      "text/html": [
       " It almost got me here . \" It is too early to say how stakeholders will feel , how long this consensus will last , and what changes it will bring ."
      ],
      "text/plain": [
       "<IPython.core.display.HTML object>"
      ]
     },
     "metadata": {},
     "output_type": "display_data"
    },
    {
     "data": {
      "text/html": [
       " É demasiado cedo para dizer quanto tempo durará este consenso e quais as alterações que ele trará ."
      ],
      "text/plain": [
       "<IPython.core.display.HTML object>"
      ]
     },
     "metadata": {},
     "output_type": "display_data"
    },
    {
     "name": "stdout",
     "output_type": "stream",
     "text": [
      "____________________________________381___________________________________________________\n",
      "\u001b[94m\u001b[1m🤓 OK\u001b[0m\n"
     ]
    },
    {
     "data": {
      "text/html": [
       " <span style=\"background-color:#e0e0e0 \">11.252607</span>"
      ],
      "text/plain": [
       "<IPython.core.display.HTML object>"
      ]
     },
     "metadata": {},
     "output_type": "display_data"
    },
    {
     "data": {
      "text/html": [
       " And , indeed , authoritarian governments in China , Saudi Arabia , and elsewhere have used the new technologies to try to control information ."
      ],
      "text/plain": [
       "<IPython.core.display.HTML object>"
      ]
     },
     "metadata": {},
     "output_type": "display_data"
    },
    {
     "data": {
      "text/html": [
       " E , na verdade , os governos autoritários na China , na Arábia Saudita e em outros países utilizaram as novas tecnologias para tentar controlar a informação ."
      ],
      "text/plain": [
       "<IPython.core.display.HTML object>"
      ]
     },
     "metadata": {},
     "output_type": "display_data"
    },
    {
     "name": "stdout",
     "output_type": "stream",
     "text": [
      "____________________________________382___________________________________________________\n",
      "\u001b[94m\u001b[1m🤓 OK\u001b[0m\n"
     ]
    },
    {
     "data": {
      "text/html": [
       " <span style=\"background-color:#e0e0e0 \">10.562993</span>"
      ],
      "text/plain": [
       "<IPython.core.display.HTML object>"
      ]
     },
     "metadata": {},
     "output_type": "display_data"
    },
    {
     "data": {
      "text/html": [
       " But the transfer of rights has often been ambiguous , and is all too frequently vulnerable to official corruption ."
      ],
      "text/plain": [
       "<IPython.core.display.HTML object>"
      ]
     },
     "metadata": {},
     "output_type": "display_data"
    },
    {
     "data": {
      "text/html": [
       " Mas a transferência de direitos tem sido muitas vezes ambígua , e é muito frequentemente vulnerável à corrupção oficial ."
      ],
      "text/plain": [
       "<IPython.core.display.HTML object>"
      ]
     },
     "metadata": {},
     "output_type": "display_data"
    },
    {
     "name": "stdout",
     "output_type": "stream",
     "text": [
      "____________________________________383___________________________________________________\n",
      "\u001b[94m\u001b[1m🤓 OK\u001b[0m\n"
     ]
    },
    {
     "data": {
      "text/html": [
       " <span style=\"background-color:#e0e0e0 \">10.74672</span>"
      ],
      "text/plain": [
       "<IPython.core.display.HTML object>"
      ]
     },
     "metadata": {},
     "output_type": "display_data"
    },
    {
     "data": {
      "text/html": [
       " This is too often overlooked , but it constitutes the key to the long-term success of cooperation that generates benefits for all ."
      ],
      "text/plain": [
       "<IPython.core.display.HTML object>"
      ]
     },
     "metadata": {},
     "output_type": "display_data"
    },
    {
     "data": {
      "text/html": [
       " Este aspecto que é frequentemente negligenciado constitui , porém , a chave para o êxito a longo prazo da cooperação que gera benefícios para todos ."
      ],
      "text/plain": [
       "<IPython.core.display.HTML object>"
      ]
     },
     "metadata": {},
     "output_type": "display_data"
    },
    {
     "name": "stdout",
     "output_type": "stream",
     "text": [
      "____________________________________387___________________________________________________\n",
      "\u001b[94m\u001b[1m🤓 OK\u001b[0m\n"
     ]
    },
    {
     "data": {
      "text/html": [
       " <span style=\"background-color:#e0e0e0 \">5.211982</span> <span style=\"background-color:#DFFF00 \">8.628914</span>"
      ],
      "text/plain": [
       "<IPython.core.display.HTML object>"
      ]
     },
     "metadata": {},
     "output_type": "display_data"
    },
    {
     "data": {
      "text/html": [
       " It can also <span style=\"background-color:#DFFF00 \">avert</span><span style=\"background-color:#DFFF00 \"> the</span><span style=\"background-color:#DFFF00 \"> strategic</span><span style=\"background-color:#DFFF00 \"> gaming</span><span style=\"background-color:#DFFF00 \"> of</span><span style=\"background-color:#DFFF00 \"> investment</span><span style=\"background-color:#DFFF00 \"> decisions</span> , driven by , say , competition between regions or among suppliers for taxpayer-funded projects ."
      ],
      "text/plain": [
       "<IPython.core.display.HTML object>"
      ]
     },
     "metadata": {},
     "output_type": "display_data"
    },
    {
     "data": {
      "text/html": [
       " Pode , também , <span style=\"background-color:#DFFF00 \">evitar</span><span style=\"background-color:#DFFF00 \"> o</span><span style=\"background-color:#DFFF00 \"> jogo</span><span style=\"background-color:#DFFF00 \"> estratégico</span><span style=\"background-color:#DFFF00 \"> das</span><span style=\"background-color:#DFFF00 \"> decisões</span><span style=\"background-color:#DFFF00 \"> de</span><span style=\"background-color:#DFFF00 \"> investimento</span> , impulsionado , digamos , pela concorrência entre regiões ou entre fornecedores para adjudicarem projetos financiados pelos contribuintes ."
      ],
      "text/plain": [
       "<IPython.core.display.HTML object>"
      ]
     },
     "metadata": {},
     "output_type": "display_data"
    },
    {
     "name": "stdout",
     "output_type": "stream",
     "text": [
      "____________________________________388___________________________________________________\n",
      "\u001b[94m\u001b[1m🤓 OK\u001b[0m\n"
     ]
    },
    {
     "data": {
      "text/html": [
       " <span style=\"background-color:#e0e0e0 \">-4.992367</span> <span style=\"background-color:#DFFF00 \">15.007191</span>"
      ],
      "text/plain": [
       "<IPython.core.display.HTML object>"
      ]
     },
     "metadata": {},
     "output_type": "display_data"
    },
    {
     "data": {
      "text/html": [
       " Whereas the Israeli-Palestinian conflict has long been an island of violence and turmoil in a relatively stable ( if oppressed ) region , now <span style=\"background-color:#DFFF00 \">the</span><span style=\"background-color:#DFFF00 \"> tables</span><span style=\"background-color:#DFFF00 \"> are</span><span style=\"background-color:#DFFF00 \"> turned</span> ."
      ],
      "text/plain": [
       "<IPython.core.display.HTML object>"
      ]
     },
     "metadata": {},
     "output_type": "display_data"
    },
    {
     "data": {
      "text/html": [
       " Atendendo a que o conflito israelo-palestino tem sido uma ilha de violência e de tumulto numa região relativamente estável ( se estiver oprimida ) , agora <span style=\"background-color:#DFFF00 \">a</span><span style=\"background-color:#DFFF00 \"> situação</span><span style=\"background-color:#DFFF00 \"> inverte-se</span> ."
      ],
      "text/plain": [
       "<IPython.core.display.HTML object>"
      ]
     },
     "metadata": {},
     "output_type": "display_data"
    },
    {
     "name": "stdout",
     "output_type": "stream",
     "text": [
      "____________________________________393___________________________________________________\n",
      "\u001b[94m\u001b[1m🤓 OK\u001b[0m\n"
     ]
    },
    {
     "data": {
      "text/html": [
       " <span style=\"background-color:#e0e0e0 \">5.648871</span> <span style=\"background-color:#DFFF00 \">9.891341</span> <span style=\"background-color:#9FE2BF \">13.408377</span>"
      ],
      "text/plain": [
       "<IPython.core.display.HTML object>"
      ]
     },
     "metadata": {},
     "output_type": "display_data"
    },
    {
     "data": {
      "text/html": [
       " Dozens of large <span style=\"background-color:#9FE2BF \">and</span><span style=\"background-color:#9FE2BF \"> increasingly</span><span style=\"background-color:#9FE2BF \"> angry</span> demonstrations have been held to demand that the government ensure women 's security and <span style=\"background-color:#DFFF00 \">stop</span> treating rapists with impunity ."
      ],
      "text/plain": [
       "<IPython.core.display.HTML object>"
      ]
     },
     "metadata": {},
     "output_type": "display_data"
    },
    {
     "data": {
      "text/html": [
       " Dezenas de grandes manifestações <span style=\"background-color:#9FE2BF \">cada</span><span style=\"background-color:#9FE2BF \"> vez</span><span style=\"background-color:#9FE2BF \"> mais</span><span style=\"background-color:#9FE2BF \"> violentas</span> têm sido realizadas para exigir que o governo garanta a segurança das mulheres e <span style=\"background-color:#DFFF00 \">pare</span> de tratar os violadores com impunidade ."
      ],
      "text/plain": [
       "<IPython.core.display.HTML object>"
      ]
     },
     "metadata": {},
     "output_type": "display_data"
    },
    {
     "name": "stdout",
     "output_type": "stream",
     "text": [
      "____________________________________401___________________________________________________\n",
      "\u001b[94m\u001b[1m🤓 OK\u001b[0m\n"
     ]
    },
    {
     "data": {
      "text/html": [
       " <span style=\"background-color:#e0e0e0 \">11.067754</span>"
      ],
      "text/plain": [
       "<IPython.core.display.HTML object>"
      ]
     },
     "metadata": {},
     "output_type": "display_data"
    },
    {
     "data": {
      "text/html": [
       " And yet , while increased urbanization - and the economic access , mobility , and greater autonomy that accompanies it - will generate new opportunities for women , ensuring gender equality will also become more difficult ."
      ],
      "text/plain": [
       "<IPython.core.display.HTML object>"
      ]
     },
     "metadata": {},
     "output_type": "display_data"
    },
    {
     "data": {
      "text/html": [
       " Contudo , apesar do aumento da urbanização - e do acesso económico , mobilidade , e maior autonomia que o acompanham - gerar novas oportunidades para as mulheres , garantir a igualdade de género também se tornará mais difícil ."
      ],
      "text/plain": [
       "<IPython.core.display.HTML object>"
      ]
     },
     "metadata": {},
     "output_type": "display_data"
    },
    {
     "name": "stdout",
     "output_type": "stream",
     "text": [
      "____________________________________402___________________________________________________\n",
      "\u001b[94m\u001b[1m🤓 OK\u001b[0m\n"
     ]
    },
    {
     "data": {
      "text/html": [
       " <span style=\"background-color:#e0e0e0 \">15.589159</span>"
      ],
      "text/plain": [
       "<IPython.core.display.HTML object>"
      ]
     },
     "metadata": {},
     "output_type": "display_data"
    },
    {
     "data": {
      "text/html": [
       " As Americans and Europeans debate the Gülen movement 's role in their own societies , they should examine Turkey 's experience more closely ."
      ],
      "text/plain": [
       "<IPython.core.display.HTML object>"
      ]
     },
     "metadata": {},
     "output_type": "display_data"
    },
    {
     "data": {
      "text/html": [
       " Enquanto os americanos e os europeus debatem o papel do movimento Gülen nas suas próprias sociedades , deveriam examinar a experiência da Turquia mais de perto ."
      ],
      "text/plain": [
       "<IPython.core.display.HTML object>"
      ]
     },
     "metadata": {},
     "output_type": "display_data"
    },
    {
     "name": "stdout",
     "output_type": "stream",
     "text": [
      "____________________________________403___________________________________________________\n",
      "\u001b[94m\u001b[1m🤓 OK\u001b[0m\n"
     ]
    },
    {
     "data": {
      "text/html": [
       " <span style=\"background-color:#e0e0e0 \">4.9719963</span> <span style=\"background-color:#DFFF00 \">14.584589</span>"
      ],
      "text/plain": [
       "<IPython.core.display.HTML object>"
      ]
     },
     "metadata": {},
     "output_type": "display_data"
    },
    {
     "data": {
      "text/html": [
       " <span style=\"background-color:#DFFF00 \">At</span><span style=\"background-color:#DFFF00 \"> the</span><span style=\"background-color:#DFFF00 \"> moment</span><span style=\"background-color:#DFFF00 \"> ,</span><span style=\"background-color:#DFFF00 \"> however</span><span style=\"background-color:#DFFF00 \"> ,</span><span style=\"background-color:#DFFF00 \"> many</span> lenders don 't have the capacity to evaluate properly the financial , environmental , social , and governance-related risks associated with these types of projects ."
      ],
      "text/plain": [
       "<IPython.core.display.HTML object>"
      ]
     },
     "metadata": {},
     "output_type": "display_data"
    },
    {
     "data": {
      "text/html": [
       " <span style=\"background-color:#DFFF00 \">Neste</span><span style=\"background-color:#DFFF00 \"> momento</span><span style=\"background-color:#DFFF00 \"> ,</span><span style=\"background-color:#DFFF00 \"> porém</span><span style=\"background-color:#DFFF00 \"> ,</span><span style=\"background-color:#DFFF00 \"> muitos</span> financiadores não têm a capacidade de avaliar devidamente os riscos financeiros , ambientais , sociais e de gestão associados a estes tipos de projectos ."
      ],
      "text/plain": [
       "<IPython.core.display.HTML object>"
      ]
     },
     "metadata": {},
     "output_type": "display_data"
    },
    {
     "name": "stdout",
     "output_type": "stream",
     "text": [
      "____________________________________404___________________________________________________\n",
      "\u001b[94m\u001b[1m🤓 OK\u001b[0m\n"
     ]
    },
    {
     "data": {
      "text/html": [
       " <span style=\"background-color:#e0e0e0 \">5.6574974</span> <span style=\"background-color:#DFFF00 \">13.316785</span>"
      ],
      "text/plain": [
       "<IPython.core.display.HTML object>"
      ]
     },
     "metadata": {},
     "output_type": "display_data"
    },
    {
     "data": {
      "text/html": [
       " Mill could have accepted requirements for health warnings on cigarette packs , and even graphic photos of diseased lungs if that helps people to understand the choice that they are making ; but he would have rejected <span style=\"background-color:#DFFF00 \">a</span><span style=\"background-color:#DFFF00 \"> ban</span> ."
      ],
      "text/plain": [
       "<IPython.core.display.HTML object>"
      ]
     },
     "metadata": {},
     "output_type": "display_data"
    },
    {
     "data": {
      "text/html": [
       " Mill poderia ter aceitado as advertências sobre os perigos para a saúde nos maços de tabaco e até mesmo as imagens gráficas de doenças pulmonares se esse facto ajudasse as pessoas a entender a escolha que estão a fazer , mas teria rejeitado <span style=\"background-color:#DFFF00 \">uma</span><span style=\"background-color:#DFFF00 \"> proibição</span> ."
      ],
      "text/plain": [
       "<IPython.core.display.HTML object>"
      ]
     },
     "metadata": {},
     "output_type": "display_data"
    },
    {
     "name": "stdout",
     "output_type": "stream",
     "text": [
      "____________________________________406___________________________________________________\n",
      "\u001b[94m\u001b[1m🤓 OK\u001b[0m\n"
     ]
    },
    {
     "data": {
      "text/html": [
       " <span style=\"background-color:#e0e0e0 \">15.316223</span>"
      ],
      "text/plain": [
       "<IPython.core.display.HTML object>"
      ]
     },
     "metadata": {},
     "output_type": "display_data"
    },
    {
     "data": {
      "text/html": [
       " Turkey benefits from republican reflexes and values that have been built over decades , as well as from humanist wisdom anchored in centuries of history ."
      ],
      "text/plain": [
       "<IPython.core.display.HTML object>"
      ]
     },
     "metadata": {},
     "output_type": "display_data"
    },
    {
     "data": {
      "text/html": [
       " A Turquia beneficia de reflexos e valores republicanos que foram construídos durante décadas , bem como de sabedoria humanista ancorada em séculos de história ."
      ],
      "text/plain": [
       "<IPython.core.display.HTML object>"
      ]
     },
     "metadata": {},
     "output_type": "display_data"
    },
    {
     "name": "stdout",
     "output_type": "stream",
     "text": [
      "____________________________________408___________________________________________________\n",
      "\u001b[94m\u001b[1m🤓 OK\u001b[0m\n"
     ]
    },
    {
     "data": {
      "text/html": [
       " <span style=\"background-color:#e0e0e0 \">-2.3838854</span> <span style=\"background-color:#DFFF00 \">9.195939</span> <span style=\"background-color:#9FE2BF \">13.528401</span>"
      ],
      "text/plain": [
       "<IPython.core.display.HTML object>"
      ]
     },
     "metadata": {},
     "output_type": "display_data"
    },
    {
     "data": {
      "text/html": [
       " But I have not seen Summers <span style=\"background-color:#9FE2BF \">lay</span><span style=\"background-color:#9FE2BF \"> out</span> a fully articulated dynamic general equilibrium model that supports his <span style=\"background-color:#DFFF00 \">advice</span> ."
      ],
      "text/plain": [
       "<IPython.core.display.HTML object>"
      ]
     },
     "metadata": {},
     "output_type": "display_data"
    },
    {
     "data": {
      "text/html": [
       " No entanto , não vi Summers a <span style=\"background-color:#9FE2BF \">esquematizar</span> um modelo de equilíbrio geral dinâmico totalmente articulado que suporte o seu <span style=\"background-color:#DFFF00 \">conselho</span> ."
      ],
      "text/plain": [
       "<IPython.core.display.HTML object>"
      ]
     },
     "metadata": {},
     "output_type": "display_data"
    },
    {
     "name": "stdout",
     "output_type": "stream",
     "text": [
      "____________________________________409___________________________________________________\n",
      "\u001b[94m\u001b[1m🤓 OK\u001b[0m\n"
     ]
    },
    {
     "data": {
      "text/html": [
       " <span style=\"background-color:#e0e0e0 \">-0.884656</span> <span style=\"background-color:#DFFF00 \">9.6470175</span> <span style=\"background-color:#9FE2BF \">14.963025</span>"
      ],
      "text/plain": [
       "<IPython.core.display.HTML object>"
      ]
     },
     "metadata": {},
     "output_type": "display_data"
    },
    {
     "data": {
      "text/html": [
       " Europe is very well <span style=\"background-color:#9FE2BF \">versed</span> in such processes <span style=\"background-color:#DFFF00 \">and</span><span style=\"background-color:#DFFF00 \"> should</span><span style=\"background-color:#DFFF00 \"> put</span><span style=\"background-color:#DFFF00 \"> its</span><span style=\"background-color:#DFFF00 \"> experience</span><span style=\"background-color:#DFFF00 \"> to</span><span style=\"background-color:#DFFF00 \"> good</span><span style=\"background-color:#DFFF00 \"> use</span> ."
      ],
      "text/plain": [
       "<IPython.core.display.HTML object>"
      ]
     },
     "metadata": {},
     "output_type": "display_data"
    },
    {
     "data": {
      "text/html": [
       " A Europa é muito bem <span style=\"background-color:#9FE2BF \">entendida</span> em tais processos <span style=\"background-color:#DFFF00 \">e</span><span style=\"background-color:#DFFF00 \"> devia</span><span style=\"background-color:#DFFF00 \"> fazer</span><span style=\"background-color:#DFFF00 \"> bom</span><span style=\"background-color:#DFFF00 \"> uso</span><span style=\"background-color:#DFFF00 \"> da</span><span style=\"background-color:#DFFF00 \"> sua</span><span style=\"background-color:#DFFF00 \"> experiência</span> ."
      ],
      "text/plain": [
       "<IPython.core.display.HTML object>"
      ]
     },
     "metadata": {},
     "output_type": "display_data"
    },
    {
     "name": "stdout",
     "output_type": "stream",
     "text": [
      "____________________________________410___________________________________________________\n",
      "\u001b[94m\u001b[1m🤓 OK\u001b[0m\n"
     ]
    },
    {
     "data": {
      "text/html": [
       " <span style=\"background-color:#e0e0e0 \">12.8315</span>"
      ],
      "text/plain": [
       "<IPython.core.display.HTML object>"
      ]
     },
     "metadata": {},
     "output_type": "display_data"
    },
    {
     "data": {
      "text/html": [
       " Poverty and unemployment are still more widespread than in other emerging markets , but accelerating growth since 2000 has made Africa the world 's second-fastest-growing region ( after emerging Asia and equal to the Middle East ) ."
      ],
      "text/plain": [
       "<IPython.core.display.HTML object>"
      ]
     },
     "metadata": {},
     "output_type": "display_data"
    },
    {
     "data": {
      "text/html": [
       " A pobreza e o desemprego ainda são superiores aos outros mercados emergentes , mas o crescimento acelerado desde 2000 fez de África a segunda região do mundo que cresce mais rapidamente ( depois da Ásia emergente e igual ao Médio Oriente ) ."
      ],
      "text/plain": [
       "<IPython.core.display.HTML object>"
      ]
     },
     "metadata": {},
     "output_type": "display_data"
    },
    {
     "name": "stdout",
     "output_type": "stream",
     "text": [
      "____________________________________411___________________________________________________\n",
      "\u001b[91m\u001b[1m😤 😠 😡 🤬  DETACHED HALLUCINATION\u001b[0m\n",
      "1.4295620000000007\n"
     ]
    },
    {
     "data": {
      "text/html": [
       " <span style=\"background-color:#e0e0e0 \">-12.873965</span> <span style=\"background-color:#DFFF00 \">-11.444403</span>"
      ],
      "text/plain": [
       "<IPython.core.display.HTML object>"
      ]
     },
     "metadata": {},
     "output_type": "display_data"
    },
    {
     "data": {
      "text/html": [
       " These movements have created important changes which will preserve the space for forward-thinking politicians <span style=\"background-color:#DFFF00 \">and</span><span style=\"background-color:#DFFF00 \"> their</span> groups to take action ."
      ],
      "text/plain": [
       "<IPython.core.display.HTML object>"
      ]
     },
     "metadata": {},
     "output_type": "display_data"
    },
    {
     "data": {
      "text/html": [
       " Esses movimentos criaram o espaço necessário para a acção por parte dos políticos com visão de futuro ."
      ],
      "text/plain": [
       "<IPython.core.display.HTML object>"
      ]
     },
     "metadata": {},
     "output_type": "display_data"
    },
    {
     "name": "stdout",
     "output_type": "stream",
     "text": [
      "____________________________________412___________________________________________________\n",
      "\u001b[94m\u001b[1m🤓 OK\u001b[0m\n"
     ]
    },
    {
     "data": {
      "text/html": [
       " <span style=\"background-color:#e0e0e0 \">8.647085</span>"
      ],
      "text/plain": [
       "<IPython.core.display.HTML object>"
      ]
     },
     "metadata": {},
     "output_type": "display_data"
    },
    {
     "data": {
      "text/html": [
       " Obviously , the latter will not be as significant an event as the former , but it nonetheless will have important consequences beyond the United Kingdom ."
      ],
      "text/plain": [
       "<IPython.core.display.HTML object>"
      ]
     },
     "metadata": {},
     "output_type": "display_data"
    },
    {
     "data": {
      "text/html": [
       " Obviamente , o segundo não será um evento tão significativo como o primeiro , mas ainda assim terá importantes consequências que vão além do Reino Unido ."
      ],
      "text/plain": [
       "<IPython.core.display.HTML object>"
      ]
     },
     "metadata": {},
     "output_type": "display_data"
    },
    {
     "name": "stdout",
     "output_type": "stream",
     "text": [
      "____________________________________413___________________________________________________\n",
      "\u001b[94m\u001b[1m🤓 OK\u001b[0m\n"
     ]
    },
    {
     "data": {
      "text/html": [
       " <span style=\"background-color:#e0e0e0 \">8.098495</span> <span style=\"background-color:#DFFF00 \">12.337202</span>"
      ],
      "text/plain": [
       "<IPython.core.display.HTML object>"
      ]
     },
     "metadata": {},
     "output_type": "display_data"
    },
    {
     "data": {
      "text/html": [
       " Emerging countries will be able to muster sufficient financing for infrastructure only if <span style=\"background-color:#DFFF00 \">they</span><span style=\"background-color:#DFFF00 \"> expand</span> the role of the private sector ; pension funds and life insurance companies , in particular , could furnish vast resources ."
      ],
      "text/plain": [
       "<IPython.core.display.HTML object>"
      ]
     },
     "metadata": {},
     "output_type": "display_data"
    },
    {
     "data": {
      "text/html": [
       " Os países emergentes apenas poderão reunir financiamento suficiente para as infra-estruturas se <span style=\"background-color:#DFFF00 \">reforçarem</span> o papel do sector privado ; os fundos de pensão e as companhias de seguros de vida , em particular , poderiam fornecer vastos recursos ."
      ],
      "text/plain": [
       "<IPython.core.display.HTML object>"
      ]
     },
     "metadata": {},
     "output_type": "display_data"
    },
    {
     "name": "stdout",
     "output_type": "stream",
     "text": [
      "____________________________________414___________________________________________________\n",
      "\u001b[94m\u001b[1m🤓 OK\u001b[0m\n"
     ]
    },
    {
     "data": {
      "text/html": [
       " <span style=\"background-color:#e0e0e0 \">6.9453464</span> <span style=\"background-color:#DFFF00 \">15.596413</span>"
      ],
      "text/plain": [
       "<IPython.core.display.HTML object>"
      ]
     },
     "metadata": {},
     "output_type": "display_data"
    },
    {
     "data": {
      "text/html": [
       " Leaders with contextual intelligence are good at providing meaning or <span style=\"background-color:#DFFF00 \">a</span><span style=\"background-color:#DFFF00 \"> road</span><span style=\"background-color:#DFFF00 \"> map</span> by defining the problem that a group confronts ."
      ],
      "text/plain": [
       "<IPython.core.display.HTML object>"
      ]
     },
     "metadata": {},
     "output_type": "display_data"
    },
    {
     "data": {
      "text/html": [
       " Os líderes com inteligência contextual são bons a fornecer significado ou <span style=\"background-color:#DFFF00 \">um</span><span style=\"background-color:#DFFF00 \"> roteiro</span><span style=\"background-color:#DFFF00 \"> ,</span> ao definir o problema que um grupo enfrenta ."
      ],
      "text/plain": [
       "<IPython.core.display.HTML object>"
      ]
     },
     "metadata": {},
     "output_type": "display_data"
    },
    {
     "name": "stdout",
     "output_type": "stream",
     "text": [
      "____________________________________415___________________________________________________\n",
      "\u001b[94m\u001b[1m🤓 OK\u001b[0m\n"
     ]
    },
    {
     "data": {
      "text/html": [
       " <span style=\"background-color:#e0e0e0 \">-4.2336526</span> <span style=\"background-color:#DFFF00 \">-1.4215493</span> <span style=\"background-color:#9FE2BF \">11.470542</span>"
      ],
      "text/plain": [
       "<IPython.core.display.HTML object>"
      ]
     },
     "metadata": {},
     "output_type": "display_data"
    },
    {
     "data": {
      "text/html": [
       " <span style=\"background-color:#9FE2BF \">First</span><span style=\"background-color:#9FE2BF \"> ,</span><span style=\"background-color:#9FE2BF \"> it</span> confirms that France retains the ability to act as Europe <span style=\"background-color:#DFFF00 \">'s</span><span style=\"background-color:#DFFF00 \"> prime</span><span style=\"background-color:#DFFF00 \"> mover</span> ."
      ],
      "text/plain": [
       "<IPython.core.display.HTML object>"
      ]
     },
     "metadata": {},
     "output_type": "display_data"
    },
    {
     "data": {
      "text/html": [
       " <span style=\"background-color:#9FE2BF \">O</span><span style=\"background-color:#9FE2BF \"> primeiro</span><span style=\"background-color:#9FE2BF \"> elemento</span> confirma que França mantém a capacidade de agir como <span style=\"background-color:#DFFF00 \">força</span><span style=\"background-color:#DFFF00 \"> motriz</span><span style=\"background-color:#DFFF00 \"> da</span> Europa ."
      ],
      "text/plain": [
       "<IPython.core.display.HTML object>"
      ]
     },
     "metadata": {},
     "output_type": "display_data"
    },
    {
     "name": "stdout",
     "output_type": "stream",
     "text": [
      "____________________________________416___________________________________________________\n",
      "\u001b[94m\u001b[1m🤓 OK\u001b[0m\n"
     ]
    },
    {
     "data": {
      "text/html": [
       " <span style=\"background-color:#e0e0e0 \">-6.179674</span> <span style=\"background-color:#DFFF00 \">1.7981791</span> <span style=\"background-color:#9FE2BF \">7.9117055</span>"
      ],
      "text/plain": [
       "<IPython.core.display.HTML object>"
      ]
     },
     "metadata": {},
     "output_type": "display_data"
    },
    {
     "data": {
      "text/html": [
       " Brexit <span style=\"background-color:#DFFF00 \">would</span><span style=\"background-color:#DFFF00 \"> still</span><span style=\"background-color:#DFFF00 \"> take</span><span style=\"background-color:#DFFF00 \"> at</span><span style=\"background-color:#DFFF00 \"> least</span> five years <span style=\"background-color:#9FE2BF \">to</span><span style=\"background-color:#9FE2BF \"> complete</span><span style=\"background-color:#9FE2BF \"> ,</span> during which time new elections would take place ."
      ],
      "text/plain": [
       "<IPython.core.display.HTML object>"
      ]
     },
     "metadata": {},
     "output_type": "display_data"
    },
    {
     "data": {
      "text/html": [
       " O Brexit <span style=\"background-color:#DFFF00 \">demoraria</span><span style=\"background-color:#DFFF00 \"> pelo</span><span style=\"background-color:#DFFF00 \"> menos</span> cinco anos <span style=\"background-color:#9FE2BF \">até</span><span style=\"background-color:#9FE2BF \"> terminar</span><span style=\"background-color:#9FE2BF \"> ,</span><span style=\"background-color:#9FE2BF \"> período</span> durante o qual se realizariam novas eleições ."
      ],
      "text/plain": [
       "<IPython.core.display.HTML object>"
      ]
     },
     "metadata": {},
     "output_type": "display_data"
    },
    {
     "name": "stdout",
     "output_type": "stream",
     "text": [
      "____________________________________417___________________________________________________\n",
      "\u001b[94m\u001b[1m🤓 OK\u001b[0m\n"
     ]
    },
    {
     "data": {
      "text/html": [
       " <span style=\"background-color:#e0e0e0 \">15.506299</span>"
      ],
      "text/plain": [
       "<IPython.core.display.HTML object>"
      ]
     },
     "metadata": {},
     "output_type": "display_data"
    },
    {
     "data": {
      "text/html": [
       " The first is the need to capitalize on public support and continue the disarmament , demobilization , and reintegration process that started under the National Transitional Council but was never completed ."
      ],
      "text/plain": [
       "<IPython.core.display.HTML object>"
      ]
     },
     "metadata": {},
     "output_type": "display_data"
    },
    {
     "data": {
      "text/html": [
       " O primeiro é a necessidade de capitalizar o apoio público e de continuar o processo de desarmamento , desmobilização , e reintegração iniciado com o Conselho Nacional de Transição mas nunca completado ."
      ],
      "text/plain": [
       "<IPython.core.display.HTML object>"
      ]
     },
     "metadata": {},
     "output_type": "display_data"
    },
    {
     "name": "stdout",
     "output_type": "stream",
     "text": [
      "____________________________________418___________________________________________________\n",
      "\u001b[94m\u001b[1m🤓 OK\u001b[0m\n"
     ]
    },
    {
     "data": {
      "text/html": [
       " <span style=\"background-color:#e0e0e0 \">-5.3620257</span> <span style=\"background-color:#DFFF00 \">14.05065</span>"
      ],
      "text/plain": [
       "<IPython.core.display.HTML object>"
      ]
     },
     "metadata": {},
     "output_type": "display_data"
    },
    {
     "data": {
      "text/html": [
       " The fact is that Brexit is <span style=\"background-color:#DFFF00 \">a</span><span style=\"background-color:#DFFF00 \"> lose-lose</span><span style=\"background-color:#DFFF00 \"> proposition</span><span style=\"background-color:#DFFF00 \"> ,</span> harmful both to Britain and the EU ."
      ],
      "text/plain": [
       "<IPython.core.display.HTML object>"
      ]
     },
     "metadata": {},
     "output_type": "display_data"
    },
    {
     "data": {
      "text/html": [
       " A verdade é que o Brexit é <span style=\"background-color:#DFFF00 \">uma</span><span style=\"background-color:#DFFF00 \"> situação</span><span style=\"background-color:#DFFF00 \"> em</span><span style=\"background-color:#DFFF00 \"> que</span><span style=\"background-color:#DFFF00 \"> todos</span><span style=\"background-color:#DFFF00 \"> perdem</span><span style=\"background-color:#DFFF00 \"> ,</span><span style=\"background-color:#DFFF00 \"> sendo</span> prejudicial tanto para a Grã-Bretanha como para a UE ."
      ],
      "text/plain": [
       "<IPython.core.display.HTML object>"
      ]
     },
     "metadata": {},
     "output_type": "display_data"
    },
    {
     "name": "stdout",
     "output_type": "stream",
     "text": [
      "____________________________________419___________________________________________________\n",
      "\u001b[94m\u001b[1m🤓 OK\u001b[0m\n"
     ]
    },
    {
     "data": {
      "text/html": [
       " <span style=\"background-color:#e0e0e0 \">-6.102003</span> <span style=\"background-color:#DFFF00 \">15.071422</span>"
      ],
      "text/plain": [
       "<IPython.core.display.HTML object>"
      ]
     },
     "metadata": {},
     "output_type": "display_data"
    },
    {
     "data": {
      "text/html": [
       " Today , however , the question is whether Germany is ready and willing to provide leadership in the conduct of the EU 's affairs - and , <span style=\"background-color:#DFFF00 \">if</span><span style=\"background-color:#DFFF00 \"> so</span><span style=\"background-color:#DFFF00 \"> ,</span><span style=\"background-color:#DFFF00 \"> to</span><span style=\"background-color:#DFFF00 \"> what</span><span style=\"background-color:#DFFF00 \"> end</span><span style=\"background-color:#DFFF00 \"> .</span>"
      ],
      "text/plain": [
       "<IPython.core.display.HTML object>"
      ]
     },
     "metadata": {},
     "output_type": "display_data"
    },
    {
     "data": {
      "text/html": [
       " Hoje , no entanto , a questão é saber se a Alemanha está pronta e disposta a fornecer liderança na condução dos assuntos da União Europeia - e , <span style=\"background-color:#DFFF00 \">em</span><span style=\"background-color:#DFFF00 \"> caso</span><span style=\"background-color:#DFFF00 \"> afirmativo</span><span style=\"background-color:#DFFF00 \"> ,</span><span style=\"background-color:#DFFF00 \"> com</span><span style=\"background-color:#DFFF00 \"> que</span><span style=\"background-color:#DFFF00 \"> finalidade</span><span style=\"background-color:#DFFF00 \"> .</span>"
      ],
      "text/plain": [
       "<IPython.core.display.HTML object>"
      ]
     },
     "metadata": {},
     "output_type": "display_data"
    },
    {
     "name": "stdout",
     "output_type": "stream",
     "text": [
      "____________________________________421___________________________________________________\n",
      "\u001b[94m\u001b[1m🤓 OK\u001b[0m\n"
     ]
    },
    {
     "data": {
      "text/html": [
       " <span style=\"background-color:#e0e0e0 \">3.2368689</span> <span style=\"background-color:#DFFF00 \">8.516979</span> <span style=\"background-color:#9FE2BF \">13.306412</span>"
      ],
      "text/plain": [
       "<IPython.core.display.HTML object>"
      ]
     },
     "metadata": {},
     "output_type": "display_data"
    },
    {
     "data": {
      "text/html": [
       " And just one or two nuclear weapons <span style=\"background-color:#DFFF00 \">could</span><span style=\"background-color:#DFFF00 \"> effectively</span> destroy a country of Israel <span style=\"background-color:#9FE2BF \">'s</span><span style=\"background-color:#9FE2BF \"> size</span> ."
      ],
      "text/plain": [
       "<IPython.core.display.HTML object>"
      ]
     },
     "metadata": {},
     "output_type": "display_data"
    },
    {
     "data": {
      "text/html": [
       " E apenas uma ou duas armas nucleares <span style=\"background-color:#DFFF00 \">poderiam</span> destruir um país do <span style=\"background-color:#9FE2BF \">tamanho</span><span style=\"background-color:#9FE2BF \"> de</span> Israel ."
      ],
      "text/plain": [
       "<IPython.core.display.HTML object>"
      ]
     },
     "metadata": {},
     "output_type": "display_data"
    },
    {
     "name": "stdout",
     "output_type": "stream",
     "text": [
      "____________________________________422___________________________________________________\n",
      "\u001b[94m\u001b[1m🤓 OK\u001b[0m\n"
     ]
    },
    {
     "data": {
      "text/html": [
       " <span style=\"background-color:#e0e0e0 \">12.373654</span>"
      ],
      "text/plain": [
       "<IPython.core.display.HTML object>"
      ]
     },
     "metadata": {},
     "output_type": "display_data"
    },
    {
     "data": {
      "text/html": [
       " When Irish voters rejected the Treaty of Lisbon in 2008 , the EU forced them to vote again until they delivered the \" right \" outcome ."
      ],
      "text/plain": [
       "<IPython.core.display.HTML object>"
      ]
     },
     "metadata": {},
     "output_type": "display_data"
    },
    {
     "data": {
      "text/html": [
       " Quando os eleitores irlandeses rejeitaram o Tratado de Lisboa , em 2008 , a UE obrigou-os a votarem novamente até terem o resultado \" correto \" ."
      ],
      "text/plain": [
       "<IPython.core.display.HTML object>"
      ]
     },
     "metadata": {},
     "output_type": "display_data"
    },
    {
     "name": "stdout",
     "output_type": "stream",
     "text": [
      "____________________________________423___________________________________________________\n",
      "\u001b[94m\u001b[1m🤓 OK\u001b[0m\n"
     ]
    },
    {
     "data": {
      "text/html": [
       " <span style=\"background-color:#e0e0e0 \">-0.72452307</span> <span style=\"background-color:#DFFF00 \">7.3265996</span> <span style=\"background-color:#9FE2BF \">11.274555</span>"
      ],
      "text/plain": [
       "<IPython.core.display.HTML object>"
      ]
     },
     "metadata": {},
     "output_type": "display_data"
    },
    {
     "data": {
      "text/html": [
       " Moreover , the UN report clearly shows that <span style=\"background-color:#9FE2BF \">,</span><span style=\"background-color:#9FE2BF \"> throughout</span> the developed world , private investment did not grow as <span style=\"background-color:#DFFF00 \">one</span><span style=\"background-color:#DFFF00 \"> might</span><span style=\"background-color:#DFFF00 \"> have</span><span style=\"background-color:#DFFF00 \"> expected</span><span style=\"background-color:#DFFF00 \"> ,</span> given ultra-low interest rates ."
      ],
      "text/plain": [
       "<IPython.core.display.HTML object>"
      ]
     },
     "metadata": {},
     "output_type": "display_data"
    },
    {
     "data": {
      "text/html": [
       " Além disso , o relatório da ONU demonstra claramente que o investimento privado no mundo desenvolvido não cresceu como <span style=\"background-color:#DFFF00 \">se</span><span style=\"background-color:#DFFF00 \"> esperava</span><span style=\"background-color:#DFFF00 \"> ,</span> dadas as taxas de juro ultrabaixas ."
      ],
      "text/plain": [
       "<IPython.core.display.HTML object>"
      ]
     },
     "metadata": {},
     "output_type": "display_data"
    },
    {
     "name": "stdout",
     "output_type": "stream",
     "text": [
      "____________________________________424___________________________________________________\n",
      "\u001b[94m\u001b[1m🤓 OK\u001b[0m\n"
     ]
    },
    {
     "data": {
      "text/html": [
       " <span style=\"background-color:#e0e0e0 \">-8.356319</span> <span style=\"background-color:#DFFF00 \">-6.860426</span> <span style=\"background-color:#9FE2BF \">-5.6644974</span>"
      ],
      "text/plain": [
       "<IPython.core.display.HTML object>"
      ]
     },
     "metadata": {},
     "output_type": "display_data"
    },
    {
     "data": {
      "text/html": [
       " In 2015 <span style=\"background-color:#9FE2BF \">,</span> however , with the primary surplus achieved , Greece 's creditors refused <span style=\"background-color:#DFFF00 \">even</span><span style=\"background-color:#DFFF00 \"> to</span><span style=\"background-color:#DFFF00 \"> discuss</span> debt relief ."
      ],
      "text/plain": [
       "<IPython.core.display.HTML object>"
      ]
     },
     "metadata": {},
     "output_type": "display_data"
    },
    {
     "data": {
      "text/html": [
       " Em 2015 <span style=\"background-color:#9FE2BF \">,</span><span style=\"background-color:#9FE2BF \"> no</span> entanto , perante a consecução do excedente primário , os credores da Grécia recusaram-se <span style=\"background-color:#DFFF00 \">a</span><span style=\"background-color:#DFFF00 \"> debater</span> a redução da dívida ."
      ],
      "text/plain": [
       "<IPython.core.display.HTML object>"
      ]
     },
     "metadata": {},
     "output_type": "display_data"
    },
    {
     "name": "stdout",
     "output_type": "stream",
     "text": [
      "____________________________________428___________________________________________________\n",
      "\u001b[94m\u001b[1m🤓 OK\u001b[0m\n"
     ]
    },
    {
     "data": {
      "text/html": [
       " <span style=\"background-color:#e0e0e0 \">-5.9216747</span> <span style=\"background-color:#DFFF00 \">-1.162853</span>"
      ],
      "text/plain": [
       "<IPython.core.display.HTML object>"
      ]
     },
     "metadata": {},
     "output_type": "display_data"
    },
    {
     "data": {
      "text/html": [
       " An exclusionary labor aristocracy emerged <span style=\"background-color:#DFFF00 \">,</span><span style=\"background-color:#DFFF00 \"> further</span><span style=\"background-color:#DFFF00 \"> deepening</span><span style=\"background-color:#DFFF00 \"> patronage</span><span style=\"background-color:#DFFF00 \"> networks</span><span style=\"background-color:#DFFF00 \"> within</span><span style=\"background-color:#DFFF00 \"> the</span> public sector ."
      ],
      "text/plain": [
       "<IPython.core.display.HTML object>"
      ]
     },
     "metadata": {},
     "output_type": "display_data"
    },
    {
     "data": {
      "text/html": [
       " Surgiu uma aristocracia operária de exclusão <span style=\"background-color:#DFFF00 \">,</span><span style=\"background-color:#DFFF00 \"> aprofundando</span><span style=\"background-color:#DFFF00 \"> as</span><span style=\"background-color:#DFFF00 \"> redes</span><span style=\"background-color:#DFFF00 \"> clientelistas</span><span style=\"background-color:#DFFF00 \"> no</span> sector público ."
      ],
      "text/plain": [
       "<IPython.core.display.HTML object>"
      ]
     },
     "metadata": {},
     "output_type": "display_data"
    },
    {
     "name": "stdout",
     "output_type": "stream",
     "text": [
      "____________________________________432___________________________________________________\n",
      "\u001b[94m\u001b[1m🤓 OK\u001b[0m\n"
     ]
    },
    {
     "data": {
      "text/html": [
       " <span style=\"background-color:#e0e0e0 \">-3.4042652</span> <span style=\"background-color:#DFFF00 \">6.2184954</span> <span style=\"background-color:#9FE2BF \">14.638521</span>"
      ],
      "text/plain": [
       "<IPython.core.display.HTML object>"
      ]
     },
     "metadata": {},
     "output_type": "display_data"
    },
    {
     "data": {
      "text/html": [
       " <span style=\"background-color:#9FE2BF \">They</span><span style=\"background-color:#9FE2BF \"> point</span><span style=\"background-color:#9FE2BF \"> to</span> pivotal moments when the left took advantage of Britain 's lack of a written constitution to <span style=\"background-color:#DFFF00 \">expropriate</span><span style=\"background-color:#DFFF00 \"> private</span><span style=\"background-color:#DFFF00 \"> medical</span><span style=\"background-color:#DFFF00 \"> business</span><span style=\"background-color:#DFFF00 \"> and</span> create its National Health Service and other such institutions ."
      ],
      "text/plain": [
       "<IPython.core.display.HTML object>"
      ]
     },
     "metadata": {},
     "output_type": "display_data"
    },
    {
     "data": {
      "text/html": [
       " <span style=\"background-color:#9FE2BF \">Sublinham</span> momentos charneira , como quando a esquerda se aproveitou da falta de uma Constituição escrita no Reino Unido para <span style=\"background-color:#DFFF00 \">nacionalizar</span><span style=\"background-color:#DFFF00 \"> o</span><span style=\"background-color:#DFFF00 \"> sector</span><span style=\"background-color:#DFFF00 \"> da</span><span style=\"background-color:#DFFF00 \"> saúde</span><span style=\"background-color:#DFFF00 \"> e</span> criar o Serviço Nacional de Saúde ( NHS , National Health Service ) e outras instituições afins ."
      ],
      "text/plain": [
       "<IPython.core.display.HTML object>"
      ]
     },
     "metadata": {},
     "output_type": "display_data"
    },
    {
     "name": "stdout",
     "output_type": "stream",
     "text": [
      "____________________________________434___________________________________________________\n",
      "\u001b[94m\u001b[1m🤓 OK\u001b[0m\n"
     ]
    },
    {
     "data": {
      "text/html": [
       " <span style=\"background-color:#e0e0e0 \">15.518152</span>"
      ],
      "text/plain": [
       "<IPython.core.display.HTML object>"
      ]
     },
     "metadata": {},
     "output_type": "display_data"
    },
    {
     "data": {
      "text/html": [
       " Over the past decade , the nuclear industry has attempted to capture global leaders ' attention with a promotional campaign centered around the notion of a \" nuclear renaissance . \""
      ],
      "text/plain": [
       "<IPython.core.display.HTML object>"
      ]
     },
     "metadata": {},
     "output_type": "display_data"
    },
    {
     "data": {
      "text/html": [
       " Ao longo da última década , a indústria nuclear tentou captar a atenção dos líderes mundiais com uma campanha promocional centrada na noção de um \" renascimento nuclear \" ."
      ],
      "text/plain": [
       "<IPython.core.display.HTML object>"
      ]
     },
     "metadata": {},
     "output_type": "display_data"
    },
    {
     "name": "stdout",
     "output_type": "stream",
     "text": [
      "____________________________________435___________________________________________________\n",
      "\u001b[94m\u001b[1m🤓 OK\u001b[0m\n"
     ]
    },
    {
     "data": {
      "text/html": [
       " <span style=\"background-color:#e0e0e0 \">8.414696</span> <span style=\"background-color:#DFFF00 \">14.899656</span>"
      ],
      "text/plain": [
       "<IPython.core.display.HTML object>"
      ]
     },
     "metadata": {},
     "output_type": "display_data"
    },
    {
     "data": {
      "text/html": [
       " \" Europe remains America 's indispensable partner of first <span style=\"background-color:#DFFF00 \">resort</span> , \" he declared ."
      ],
      "text/plain": [
       "<IPython.core.display.HTML object>"
      ]
     },
     "metadata": {},
     "output_type": "display_data"
    },
    {
     "data": {
      "text/html": [
       " \" A Europa continua a ser o parceiro indispensável da América de primeira <span style=\"background-color:#DFFF00 \">escolha</span> \" , declarou ."
      ],
      "text/plain": [
       "<IPython.core.display.HTML object>"
      ]
     },
     "metadata": {},
     "output_type": "display_data"
    },
    {
     "name": "stdout",
     "output_type": "stream",
     "text": [
      "____________________________________436___________________________________________________\n",
      "\u001b[94m\u001b[1m🤓 OK\u001b[0m\n"
     ]
    },
    {
     "data": {
      "text/html": [
       " <span style=\"background-color:#e0e0e0 \">5.2403755</span> <span style=\"background-color:#DFFF00 \">11.877817</span>"
      ],
      "text/plain": [
       "<IPython.core.display.HTML object>"
      ]
     },
     "metadata": {},
     "output_type": "display_data"
    },
    {
     "data": {
      "text/html": [
       " Of course , I am confident that the eurozone 's <span style=\"background-color:#DFFF00 \">ongoing</span> sovereign-debt crisis will be overcome , and that a more integrated and effective Europe will emerge ."
      ],
      "text/plain": [
       "<IPython.core.display.HTML object>"
      ]
     },
     "metadata": {},
     "output_type": "display_data"
    },
    {
     "data": {
      "text/html": [
       " É claro que estou confiante que a crise da dívida soberana <span style=\"background-color:#DFFF00 \">em</span><span style=\"background-color:#DFFF00 \"> curso</span><span style=\"background-color:#DFFF00 \"> ,</span> da zona euro , será superada e que uma Europa mais integrada e eficaz surgirá ."
      ],
      "text/plain": [
       "<IPython.core.display.HTML object>"
      ]
     },
     "metadata": {},
     "output_type": "display_data"
    },
    {
     "name": "stdout",
     "output_type": "stream",
     "text": [
      "____________________________________437___________________________________________________\n",
      "\u001b[94m\u001b[1m🤓 OK\u001b[0m\n"
     ]
    },
    {
     "data": {
      "text/html": [
       " <span style=\"background-color:#e0e0e0 \">12.094358</span>"
      ],
      "text/plain": [
       "<IPython.core.display.HTML object>"
      ]
     },
     "metadata": {},
     "output_type": "display_data"
    },
    {
     "data": {
      "text/html": [
       " Others , especially on the political right , worried that the latest monetary measures would fuel future inflation and encourage unbridled government spending ."
      ],
      "text/plain": [
       "<IPython.core.display.HTML object>"
      ]
     },
     "metadata": {},
     "output_type": "display_data"
    },
    {
     "data": {
      "text/html": [
       " Outros , especialmente na direita política , estão preocupados com o facto das últimas medidas monetárias poderem potenciar a inflação no futuro e encorajar gastos governamentais desenfreados ."
      ],
      "text/plain": [
       "<IPython.core.display.HTML object>"
      ]
     },
     "metadata": {},
     "output_type": "display_data"
    },
    {
     "name": "stdout",
     "output_type": "stream",
     "text": [
      "____________________________________438___________________________________________________\n",
      "\u001b[91m\u001b[1m😤 😠 😡 🤬  DETACHED HALLUCINATION\u001b[0m\n",
      "8.9724556\n"
     ]
    },
    {
     "data": {
      "text/html": [
       " <span style=\"background-color:#e0e0e0 \">2.9687524</span> <span style=\"background-color:#DFFF00 \">11.941208</span>"
      ],
      "text/plain": [
       "<IPython.core.display.HTML object>"
      ]
     },
     "metadata": {},
     "output_type": "display_data"
    },
    {
     "data": {
      "text/html": [
       " Moreover , one can imagine California signing voluntary climate deals with China and other countries in an effort to <span style=\"background-color:#DFFF00 \">remove</span> the culture of oversight and accountability of the Paris accord ."
      ],
      "text/plain": [
       "<IPython.core.display.HTML object>"
      ]
     },
     "metadata": {},
     "output_type": "display_data"
    },
    {
     "data": {
      "text/html": [
       " Além disso , pode-se imaginar a Califórnia a assinar acordos climáticos voluntários com a China e outros países , num esforço para <span style=\"background-color:#DFFF00 \">restaurar</span> a cultura de supervisão e responsabilidade do Acordo de Paris ."
      ],
      "text/plain": [
       "<IPython.core.display.HTML object>"
      ]
     },
     "metadata": {},
     "output_type": "display_data"
    },
    {
     "name": "stdout",
     "output_type": "stream",
     "text": [
      "____________________________________439___________________________________________________\n",
      "\u001b[94m\u001b[1m🤓 OK\u001b[0m\n"
     ]
    },
    {
     "data": {
      "text/html": [
       " <span style=\"background-color:#e0e0e0 \">4.584741</span> <span style=\"background-color:#DFFF00 \">9.044211</span> <span style=\"background-color:#9FE2BF \">14.686462</span>"
      ],
      "text/plain": [
       "<IPython.core.display.HTML object>"
      ]
     },
     "metadata": {},
     "output_type": "display_data"
    },
    {
     "data": {
      "text/html": [
       " But <span style=\"background-color:#DFFF00 \">their</span><span style=\"background-color:#DFFF00 \"> purpose</span> will be lost if pursuing them weakens the very identity of Europe 's universities , many of which are <span style=\"background-color:#9FE2BF \">used</span> to functioning in a world of state patronage and strict regulation ."
      ],
      "text/plain": [
       "<IPython.core.display.HTML object>"
      ]
     },
     "metadata": {},
     "output_type": "display_data"
    },
    {
     "data": {
      "text/html": [
       " Mas o <span style=\"background-color:#DFFF00 \">seu</span><span style=\"background-color:#DFFF00 \"> objectivo</span> será perdido se , por persegui-las , se enfraquecer a própria identidade das universidades da Europa , muitas das quais estão <span style=\"background-color:#9FE2BF \">habituadas</span> a funcionar num mundo de patrocínio estatal e legislação rigorosa ."
      ],
      "text/plain": [
       "<IPython.core.display.HTML object>"
      ]
     },
     "metadata": {},
     "output_type": "display_data"
    },
    {
     "name": "stdout",
     "output_type": "stream",
     "text": [
      "____________________________________440___________________________________________________\n",
      "\u001b[94m\u001b[1m🤓 OK\u001b[0m\n"
     ]
    },
    {
     "data": {
      "text/html": [
       " <span style=\"background-color:#e0e0e0 \">-1.5570594</span> <span style=\"background-color:#DFFF00 \">7.4476757</span> <span style=\"background-color:#9FE2BF \">10.763319</span>"
      ],
      "text/plain": [
       "<IPython.core.display.HTML object>"
      ]
     },
     "metadata": {},
     "output_type": "display_data"
    },
    {
     "data": {
      "text/html": [
       " In that sense , the goals refute the view that the best way to maximize prosperity and security is to put <span style=\"background-color:#9FE2BF \">one</span><span style=\"background-color:#9FE2BF \"> 's</span><span style=\"background-color:#9FE2BF \"> own</span><span style=\"background-color:#9FE2BF \"> country</span><span style=\"background-color:#9FE2BF \"> and</span> its interests first , <span style=\"background-color:#DFFF00 \">while</span><span style=\"background-color:#DFFF00 \"> walling</span><span style=\"background-color:#DFFF00 \"> it</span><span style=\"background-color:#DFFF00 \"> off</span><span style=\"background-color:#DFFF00 \"> from</span><span style=\"background-color:#DFFF00 \"> its</span><span style=\"background-color:#DFFF00 \"> neighbors</span><span style=\"background-color:#DFFF00 \"> .</span>"
      ],
      "text/plain": [
       "<IPython.core.display.HTML object>"
      ]
     },
     "metadata": {},
     "output_type": "display_data"
    },
    {
     "data": {
      "text/html": [
       " Nesse sentido , os objectivos contradizem a perspectiva de que a melhor maneira de maximizar a prosperidade e a segurança consiste em colocar os seus interesses , <span style=\"background-color:#9FE2BF \">e</span><span style=\"background-color:#9FE2BF \"> os</span><span style=\"background-color:#9FE2BF \"> do</span><span style=\"background-color:#9FE2BF \"> seu</span><span style=\"background-color:#9FE2BF \"> país</span><span style=\"background-color:#9FE2BF \"> ,</span> em primeiro lugar , <span style=\"background-color:#DFFF00 \">enquanto</span><span style=\"background-color:#DFFF00 \"> se</span><span style=\"background-color:#DFFF00 \"> isola</span><span style=\"background-color:#DFFF00 \"> dos</span><span style=\"background-color:#DFFF00 \"> seus</span><span style=\"background-color:#DFFF00 \"> vizinhos</span><span style=\"background-color:#DFFF00 \"> .</span>"
      ],
      "text/plain": [
       "<IPython.core.display.HTML object>"
      ]
     },
     "metadata": {},
     "output_type": "display_data"
    },
    {
     "name": "stdout",
     "output_type": "stream",
     "text": [
      "____________________________________441___________________________________________________\n",
      "\u001b[94m\u001b[1m🤓 OK\u001b[0m\n"
     ]
    },
    {
     "data": {
      "text/html": [
       " <span style=\"background-color:#e0e0e0 \">4.098923</span> <span style=\"background-color:#DFFF00 \">8.824061</span>"
      ],
      "text/plain": [
       "<IPython.core.display.HTML object>"
      ]
     },
     "metadata": {},
     "output_type": "display_data"
    },
    {
     "data": {
      "text/html": [
       " And REDD implementation through experimental projects provides advocates of this approach a solid foundation on which to advance their <span style=\"background-color:#DFFF00 \">agenda</span> ."
      ],
      "text/plain": [
       "<IPython.core.display.HTML object>"
      ]
     },
     "metadata": {},
     "output_type": "display_data"
    },
    {
     "data": {
      "text/html": [
       " E a execução do Programa REDD através de projectos experimentais fornece aos defensores desta abordagem uma base sólida para promoverem as suas <span style=\"background-color:#DFFF00 \">ideias</span> ."
      ],
      "text/plain": [
       "<IPython.core.display.HTML object>"
      ]
     },
     "metadata": {},
     "output_type": "display_data"
    },
    {
     "name": "stdout",
     "output_type": "stream",
     "text": [
      "____________________________________442___________________________________________________\n",
      "\u001b[94m\u001b[1m🤓 OK\u001b[0m\n"
     ]
    },
    {
     "data": {
      "text/html": [
       " <span style=\"background-color:#e0e0e0 \">-8.453592</span> <span style=\"background-color:#DFFF00 \">12.732701</span>"
      ],
      "text/plain": [
       "<IPython.core.display.HTML object>"
      ]
     },
     "metadata": {},
     "output_type": "display_data"
    },
    {
     "data": {
      "text/html": [
       " French Gaullists did not face persecution ; several Egyptian opposition figures have already vowed that Morsi <span style=\"background-color:#DFFF00 \">and</span><span style=\"background-color:#DFFF00 \"> the</span><span style=\"background-color:#DFFF00 \"> Muslim</span><span style=\"background-color:#DFFF00 \"> Brothers</span><span style=\"background-color:#DFFF00 \"> will</span> ."
      ],
      "text/plain": [
       "<IPython.core.display.HTML object>"
      ]
     },
     "metadata": {},
     "output_type": "display_data"
    },
    {
     "data": {
      "text/html": [
       " Os gaullistas franceses não enfrentaram a perseguição ; várias figuras da oposição egípcia já prometeram que Morsi <span style=\"background-color:#DFFF00 \">e</span><span style=\"background-color:#DFFF00 \"> a</span><span style=\"background-color:#DFFF00 \"> Irmandade</span><span style=\"background-color:#DFFF00 \"> muçulmana</span><span style=\"background-color:#DFFF00 \"> irão</span><span style=\"background-color:#DFFF00 \"> enfrentá-la</span> ."
      ],
      "text/plain": [
       "<IPython.core.display.HTML object>"
      ]
     },
     "metadata": {},
     "output_type": "display_data"
    },
    {
     "name": "stdout",
     "output_type": "stream",
     "text": [
      "____________________________________445___________________________________________________\n",
      "\u001b[94m\u001b[1m🤓 OK\u001b[0m\n"
     ]
    },
    {
     "data": {
      "text/html": [
       " <span style=\"background-color:#e0e0e0 \">5.566366</span> <span style=\"background-color:#DFFF00 \">15.087458</span>"
      ],
      "text/plain": [
       "<IPython.core.display.HTML object>"
      ]
     },
     "metadata": {},
     "output_type": "display_data"
    },
    {
     "data": {
      "text/html": [
       " Obama has sought to perpetuate <span style=\"background-color:#DFFF00 \">business</span> as usual , whereby the rules governing global trade and investment are written by US corporations for US corporations ."
      ],
      "text/plain": [
       "<IPython.core.display.HTML object>"
      ]
     },
     "metadata": {},
     "output_type": "display_data"
    },
    {
     "data": {
      "text/html": [
       " Obama tentou perpetuar o <span style=\"background-color:#DFFF00 \">figurino</span> habitual , em que as regras que governam o comércio e o investimento globais são escritas por corporações dos EUA para corporações dos EUA ."
      ],
      "text/plain": [
       "<IPython.core.display.HTML object>"
      ]
     },
     "metadata": {},
     "output_type": "display_data"
    },
    {
     "name": "stdout",
     "output_type": "stream",
     "text": [
      "____________________________________449___________________________________________________\n",
      "\u001b[94m\u001b[1m🤓 OK\u001b[0m\n"
     ]
    },
    {
     "data": {
      "text/html": [
       " <span style=\"background-color:#e0e0e0 \">15.595687</span>"
      ],
      "text/plain": [
       "<IPython.core.display.HTML object>"
      ]
     },
     "metadata": {},
     "output_type": "display_data"
    },
    {
     "data": {
      "text/html": [
       " The philosopher Peter Singer points out that this case represents a historical turning point , because it addresses the rights of children and future Americans to a livable environment ."
      ],
      "text/plain": [
       "<IPython.core.display.HTML object>"
      ]
     },
     "metadata": {},
     "output_type": "display_data"
    },
    {
     "data": {
      "text/html": [
       " O filósofo Peter Singer salienta que este caso representa um ponto de viragem histórico , pois aborda os direitos das crianças e dos futuros americanos a um ambiente habitável ."
      ],
      "text/plain": [
       "<IPython.core.display.HTML object>"
      ]
     },
     "metadata": {},
     "output_type": "display_data"
    },
    {
     "name": "stdout",
     "output_type": "stream",
     "text": [
      "____________________________________451___________________________________________________\n",
      "\u001b[94m\u001b[1m🤓 OK\u001b[0m\n"
     ]
    },
    {
     "data": {
      "text/html": [
       " <span style=\"background-color:#e0e0e0 \">5.7284393</span> <span style=\"background-color:#DFFF00 \">10.679525</span>"
      ],
      "text/plain": [
       "<IPython.core.display.HTML object>"
      ]
     },
     "metadata": {},
     "output_type": "display_data"
    },
    {
     "data": {
      "text/html": [
       " Our central bank has established an independent monetary policy that ensures price stability and low inflation ; in fact , in November , the annual inflation rate , at 2.21 % , was <span style=\"background-color:#DFFF00 \">the</span> lowest in Mexico 's history ."
      ],
      "text/plain": [
       "<IPython.core.display.HTML object>"
      ]
     },
     "metadata": {},
     "output_type": "display_data"
    },
    {
     "data": {
      "text/html": [
       " O nosso banco central definiu uma política monetária independente que garante a estabilidade dos preços e uma inflação baixa . Com efeito , em Novembro , a taxa de inflação anual , situada em 2,21 % , registou <span style=\"background-color:#DFFF00 \">o</span><span style=\"background-color:#DFFF00 \"> valor</span> mais baixo da história do México ."
      ],
      "text/plain": [
       "<IPython.core.display.HTML object>"
      ]
     },
     "metadata": {},
     "output_type": "display_data"
    },
    {
     "name": "stdout",
     "output_type": "stream",
     "text": [
      "____________________________________452___________________________________________________\n",
      "\u001b[94m\u001b[1m🤓 OK\u001b[0m\n"
     ]
    },
    {
     "data": {
      "text/html": [
       " <span style=\"background-color:#e0e0e0 \">12.717327</span>"
      ],
      "text/plain": [
       "<IPython.core.display.HTML object>"
      ]
     },
     "metadata": {},
     "output_type": "display_data"
    },
    {
     "data": {
      "text/html": [
       " What did help was to provide better incentives for good lending , by making creditors more responsible for the consequences of their decisions ."
      ],
      "text/plain": [
       "<IPython.core.display.HTML object>"
      ]
     },
     "metadata": {},
     "output_type": "display_data"
    },
    {
     "data": {
      "text/html": [
       " O que realmente ajudou foi o fornecimento de melhores incentivos para empréstimos mais seguros , tornando os credores mais responsáveis pelas consequências das suas decisões ."
      ],
      "text/plain": [
       "<IPython.core.display.HTML object>"
      ]
     },
     "metadata": {},
     "output_type": "display_data"
    },
    {
     "name": "stdout",
     "output_type": "stream",
     "text": [
      "____________________________________453___________________________________________________\n",
      "\u001b[94m\u001b[1m🤓 OK\u001b[0m\n"
     ]
    },
    {
     "data": {
      "text/html": [
       " <span style=\"background-color:#e0e0e0 \">2.285008</span> <span style=\"background-color:#DFFF00 \">6.441823</span>"
      ],
      "text/plain": [
       "<IPython.core.display.HTML object>"
      ]
     },
     "metadata": {},
     "output_type": "display_data"
    },
    {
     "data": {
      "text/html": [
       " A range of policies focused narrowly on GDP and fiscal prudence <span style=\"background-color:#DFFF00 \">has</span><span style=\"background-color:#DFFF00 \"> fueled</span> this insecurity ."
      ],
      "text/plain": [
       "<IPython.core.display.HTML object>"
      ]
     },
     "metadata": {},
     "output_type": "display_data"
    },
    {
     "data": {
      "text/html": [
       " Uma série de políticas focadas estritamente no PIB e na prudência orçamental <span style=\"background-color:#DFFF00 \">alimentaram</span> esta insegurança ."
      ],
      "text/plain": [
       "<IPython.core.display.HTML object>"
      ]
     },
     "metadata": {},
     "output_type": "display_data"
    },
    {
     "name": "stdout",
     "output_type": "stream",
     "text": [
      "____________________________________455___________________________________________________\n",
      "\u001b[94m\u001b[1m🤓 OK\u001b[0m\n"
     ]
    },
    {
     "data": {
      "text/html": [
       " <span style=\"background-color:#e0e0e0 \">6.7760406</span> <span style=\"background-color:#DFFF00 \">13.202753</span>"
      ],
      "text/plain": [
       "<IPython.core.display.HTML object>"
      ]
     },
     "metadata": {},
     "output_type": "display_data"
    },
    {
     "data": {
      "text/html": [
       " Symbolic declarations of war , though , ought to be <span style=\"background-color:#DFFF00 \">considered</span><span style=\"background-color:#DFFF00 \"> with</span> caution , lest the Islamic State appear to be winning every day it does not lose ."
      ],
      "text/plain": [
       "<IPython.core.display.HTML object>"
      ]
     },
     "metadata": {},
     "output_type": "display_data"
    },
    {
     "data": {
      "text/html": [
       " Declarações simbólicas de guerra , no entanto , devem ser <span style=\"background-color:#DFFF00 \">encaradas</span><span style=\"background-color:#DFFF00 \"> com</span> cautela , para que o Estado Islâmico não pareça estar a ganhar em todos os dias em que não perder ."
      ],
      "text/plain": [
       "<IPython.core.display.HTML object>"
      ]
     },
     "metadata": {},
     "output_type": "display_data"
    },
    {
     "name": "stdout",
     "output_type": "stream",
     "text": [
      "____________________________________457___________________________________________________\n",
      "\u001b[94m\u001b[1m🤓 OK\u001b[0m\n"
     ]
    },
    {
     "data": {
      "text/html": [
       " <span style=\"background-color:#e0e0e0 \">15.5295</span>"
      ],
      "text/plain": [
       "<IPython.core.display.HTML object>"
      ]
     },
     "metadata": {},
     "output_type": "display_data"
    },
    {
     "data": {
      "text/html": [
       " In the next few days , the formation of Russia 's new government will reveal much about power relations between conservatives and liberals ."
      ],
      "text/plain": [
       "<IPython.core.display.HTML object>"
      ]
     },
     "metadata": {},
     "output_type": "display_data"
    },
    {
     "data": {
      "text/html": [
       " Nos próximos dias , a formação de novo governo da Rússia revelará muito sobre as relações de poder entre conservadores e liberais ."
      ],
      "text/plain": [
       "<IPython.core.display.HTML object>"
      ]
     },
     "metadata": {},
     "output_type": "display_data"
    },
    {
     "name": "stdout",
     "output_type": "stream",
     "text": [
      "____________________________________459___________________________________________________\n",
      "\u001b[94m\u001b[1m🤓 OK\u001b[0m\n"
     ]
    },
    {
     "data": {
      "text/html": [
       " <span style=\"background-color:#e0e0e0 \">-2.7150574</span>"
      ],
      "text/plain": [
       "<IPython.core.display.HTML object>"
      ]
     },
     "metadata": {},
     "output_type": "display_data"
    },
    {
     "data": {
      "text/html": [
       " <span style=\"background-color:#DFFF00 \">Childhood</span><span style=\"background-color:#DFFF00 \"> should</span><span style=\"background-color:#DFFF00 \"> be</span><span style=\"background-color:#DFFF00 \"> spent</span><span style=\"background-color:#DFFF00 \"> learning</span><span style=\"background-color:#DFFF00 \"> how</span><span style=\"background-color:#DFFF00 \"> to</span><span style=\"background-color:#DFFF00 \"> read</span><span style=\"background-color:#DFFF00 \"> ,</span><span style=\"background-color:#DFFF00 \"> write</span><span style=\"background-color:#DFFF00 \"> ,</span><span style=\"background-color:#DFFF00 \"> count</span><span style=\"background-color:#DFFF00 \"> ,</span><span style=\"background-color:#DFFF00 \"> inquire</span><span style=\"background-color:#DFFF00 \"> ,</span><span style=\"background-color:#DFFF00 \"> assess</span><span style=\"background-color:#DFFF00 \"> ,</span><span style=\"background-color:#DFFF00 \"> debate</span><span style=\"background-color:#DFFF00 \"> ,</span><span style=\"background-color:#DFFF00 \"> calculate</span><span style=\"background-color:#DFFF00 \"> ,</span><span style=\"background-color:#DFFF00 \"> empathize</span><span style=\"background-color:#DFFF00 \"> ,</span><span style=\"background-color:#DFFF00 \"> and</span><span style=\"background-color:#DFFF00 \"> set</span><span style=\"background-color:#DFFF00 \"> goals</span><span style=\"background-color:#DFFF00 \"> .</span>"
      ],
      "text/plain": [
       "<IPython.core.display.HTML object>"
      ]
     },
     "metadata": {},
     "output_type": "display_data"
    },
    {
     "data": {
      "text/html": [
       " <span style=\"background-color:#DFFF00 \">A</span><span style=\"background-color:#DFFF00 \"> infância</span><span style=\"background-color:#DFFF00 \"> deve</span><span style=\"background-color:#DFFF00 \"> ser</span><span style=\"background-color:#DFFF00 \"> passada</span><span style=\"background-color:#DFFF00 \"> a</span><span style=\"background-color:#DFFF00 \"> aprender</span><span style=\"background-color:#DFFF00 \"> a</span><span style=\"background-color:#DFFF00 \"> ler</span><span style=\"background-color:#DFFF00 \"> ,</span><span style=\"background-color:#DFFF00 \"> escrever</span><span style=\"background-color:#DFFF00 \"> ,</span><span style=\"background-color:#DFFF00 \"> fazer</span><span style=\"background-color:#DFFF00 \"> contas</span><span style=\"background-color:#DFFF00 \"> ,</span><span style=\"background-color:#DFFF00 \"> investigar</span><span style=\"background-color:#DFFF00 \"> ,</span><span style=\"background-color:#DFFF00 \"> avaliar</span><span style=\"background-color:#DFFF00 \"> ,</span><span style=\"background-color:#DFFF00 \"> debater</span><span style=\"background-color:#DFFF00 \"> ,</span><span style=\"background-color:#DFFF00 \"> calcular</span><span style=\"background-color:#DFFF00 \"> ,</span><span style=\"background-color:#DFFF00 \"> criar</span><span style=\"background-color:#DFFF00 \"> empatia</span><span style=\"background-color:#DFFF00 \"> e</span><span style=\"background-color:#DFFF00 \"> definir</span><span style=\"background-color:#DFFF00 \"> metas</span><span style=\"background-color:#DFFF00 \"> .</span>"
      ],
      "text/plain": [
       "<IPython.core.display.HTML object>"
      ]
     },
     "metadata": {},
     "output_type": "display_data"
    },
    {
     "name": "stdout",
     "output_type": "stream",
     "text": [
      "____________________________________461___________________________________________________\n",
      "\u001b[94m\u001b[1m🤓 OK\u001b[0m\n"
     ]
    },
    {
     "data": {
      "text/html": [
       " <span style=\"background-color:#e0e0e0 \">4.266692</span> <span style=\"background-color:#DFFF00 \">11.0596895</span>"
      ],
      "text/plain": [
       "<IPython.core.display.HTML object>"
      ]
     },
     "metadata": {},
     "output_type": "display_data"
    },
    {
     "data": {
      "text/html": [
       " Republican Senator Ted Cruz was widely condemned for his aggressive questioning of incoming Defense Secretary Chuck Hagel <span style=\"background-color:#DFFF00 \">back</span><span style=\"background-color:#DFFF00 \"> in</span><span style=\"background-color:#DFFF00 \"> January</span><span style=\"background-color:#DFFF00 \"> .</span>"
      ],
      "text/plain": [
       "<IPython.core.display.HTML object>"
      ]
     },
     "metadata": {},
     "output_type": "display_data"
    },
    {
     "data": {
      "text/html": [
       " O Senador Republicano Ted Cruz foi amplamente condenado pela sua agressiva interpelação ao novo Secretário da Defesa , Chuck Hagel <span style=\"background-color:#DFFF00 \">,</span><span style=\"background-color:#DFFF00 \"> em</span><span style=\"background-color:#DFFF00 \"> Janeiro</span><span style=\"background-color:#DFFF00 \"> passado</span><span style=\"background-color:#DFFF00 \"> .</span>"
      ],
      "text/plain": [
       "<IPython.core.display.HTML object>"
      ]
     },
     "metadata": {},
     "output_type": "display_data"
    },
    {
     "name": "stdout",
     "output_type": "stream",
     "text": [
      "____________________________________462___________________________________________________\n",
      "\u001b[94m\u001b[1m🤓 OK\u001b[0m\n"
     ]
    },
    {
     "data": {
      "text/html": [
       " <span style=\"background-color:#e0e0e0 \">-7.475543</span> <span style=\"background-color:#DFFF00 \">13.419169</span>"
      ],
      "text/plain": [
       "<IPython.core.display.HTML object>"
      ]
     },
     "metadata": {},
     "output_type": "display_data"
    },
    {
     "data": {
      "text/html": [
       " And , for the first time in 17 years , after three consecutive defeats , the left - <span style=\"background-color:#DFFF00 \">embodied</span><span style=\"background-color:#DFFF00 \"> in</span><span style=\"background-color:#DFFF00 \"> the</span> Socialist candidate , François Hollande - will return to Élysée Palace ."
      ],
      "text/plain": [
       "<IPython.core.display.HTML object>"
      ]
     },
     "metadata": {},
     "output_type": "display_data"
    },
    {
     "data": {
      "text/html": [
       " E , pela primeira vez em 17 anos , após três derrotas consecutivas , a esquerda - <span style=\"background-color:#DFFF00 \">representada</span><span style=\"background-color:#DFFF00 \"> pelo</span> candidato socialista , François Hollande - regressará ao Élysée Palace ."
      ],
      "text/plain": [
       "<IPython.core.display.HTML object>"
      ]
     },
     "metadata": {},
     "output_type": "display_data"
    },
    {
     "name": "stdout",
     "output_type": "stream",
     "text": [
      "____________________________________463___________________________________________________\n",
      "\u001b[94m\u001b[1m🤓 OK\u001b[0m\n"
     ]
    },
    {
     "data": {
      "text/html": [
       " <span style=\"background-color:#e0e0e0 \">8.520178</span> <span style=\"background-color:#DFFF00 \">13.939472</span>"
      ],
      "text/plain": [
       "<IPython.core.display.HTML object>"
      ]
     },
     "metadata": {},
     "output_type": "display_data"
    },
    {
     "data": {
      "text/html": [
       " Moreover , they participate in most investment treaties <span style=\"background-color:#DFFF00 \">,</span><span style=\"background-color:#DFFF00 \"> and</span><span style=\"background-color:#DFFF00 \"> include</span> both developed and developing countries ."
      ],
      "text/plain": [
       "<IPython.core.display.HTML object>"
      ]
     },
     "metadata": {},
     "output_type": "display_data"
    },
    {
     "data": {
      "text/html": [
       " Além disso , participam na maioria dos tratados de investimento <span style=\"background-color:#DFFF00 \">e</span><span style=\"background-color:#DFFF00 \"> incluem</span> tanto os países desenvolvidos como os países em desenvolvimento ."
      ],
      "text/plain": [
       "<IPython.core.display.HTML object>"
      ]
     },
     "metadata": {},
     "output_type": "display_data"
    },
    {
     "name": "stdout",
     "output_type": "stream",
     "text": [
      "____________________________________467___________________________________________________\n",
      "\u001b[94m\u001b[1m🤓 OK\u001b[0m\n"
     ]
    },
    {
     "data": {
      "text/html": [
       " <span style=\"background-color:#e0e0e0 \">-8.727379</span> <span style=\"background-color:#DFFF00 \">6.294997</span> <span style=\"background-color:#9FE2BF \">11.631223</span>"
      ],
      "text/plain": [
       "<IPython.core.display.HTML object>"
      ]
     },
     "metadata": {},
     "output_type": "display_data"
    },
    {
     "data": {
      "text/html": [
       " The GIRL Center , <span style=\"background-color:#DFFF00 \">which</span><span style=\"background-color:#DFFF00 \"> I</span><span style=\"background-color:#DFFF00 \"> direct</span><span style=\"background-color:#DFFF00 \"> ,</span><span style=\"background-color:#DFFF00 \"> aims</span><span style=\"background-color:#DFFF00 \"> to</span><span style=\"background-color:#DFFF00 \"> make</span><span style=\"background-color:#DFFF00 \"> the</span><span style=\"background-color:#DFFF00 \"> most</span><span style=\"background-color:#DFFF00 \"> of</span><span style=\"background-color:#DFFF00 \"> the</span><span style=\"background-color:#DFFF00 \"> world</span><span style=\"background-color:#DFFF00 \"> 's</span><span style=\"background-color:#DFFF00 \"> investments</span><span style=\"background-color:#DFFF00 \"> in</span><span style=\"background-color:#DFFF00 \"> girls</span><span style=\"background-color:#DFFF00 \"> ,</span><span style=\"background-color:#DFFF00 \"> both</span> by supporting evidence-based policies and <span style=\"background-color:#9FE2BF \">by</span><span style=\"background-color:#9FE2BF \"> aligning</span> the goals and priorities of various stakeholders ."
      ],
      "text/plain": [
       "<IPython.core.display.HTML object>"
      ]
     },
     "metadata": {},
     "output_type": "display_data"
    },
    {
     "data": {
      "text/html": [
       " O Centro GIRL , <span style=\"background-color:#DFFF00 \">que</span><span style=\"background-color:#DFFF00 \"> dirijo</span><span style=\"background-color:#DFFF00 \"> ,</span><span style=\"background-color:#DFFF00 \"> pretende</span><span style=\"background-color:#DFFF00 \"> aproveitar</span><span style=\"background-color:#DFFF00 \"> ao</span><span style=\"background-color:#DFFF00 \"> máximo</span><span style=\"background-color:#DFFF00 \"> os</span><span style=\"background-color:#DFFF00 \"> investimentos</span><span style=\"background-color:#DFFF00 \"> mundiais</span><span style=\"background-color:#DFFF00 \"> nas</span><span style=\"background-color:#DFFF00 \"> jovens</span><span style=\"background-color:#DFFF00 \"> ,</span> apoiando políticas baseadas em resultados e <span style=\"background-color:#9FE2BF \">alinhando</span> os objectivos e prioridades dos vários intervenientes ."
      ],
      "text/plain": [
       "<IPython.core.display.HTML object>"
      ]
     },
     "metadata": {},
     "output_type": "display_data"
    },
    {
     "name": "stdout",
     "output_type": "stream",
     "text": [
      "____________________________________468___________________________________________________\n",
      "\u001b[94m\u001b[1m🤓 OK\u001b[0m\n"
     ]
    },
    {
     "data": {
      "text/html": [
       " <span style=\"background-color:#e0e0e0 \">1.3380506</span> <span style=\"background-color:#DFFF00 \">15.603692</span>"
      ],
      "text/plain": [
       "<IPython.core.display.HTML object>"
      ]
     },
     "metadata": {},
     "output_type": "display_data"
    },
    {
     "data": {
      "text/html": [
       " And Guinea became the <span style=\"background-color:#DFFF00 \">20th</span> country in the region to abolish capital punishment for all crimes ."
      ],
      "text/plain": [
       "<IPython.core.display.HTML object>"
      ]
     },
     "metadata": {},
     "output_type": "display_data"
    },
    {
     "data": {
      "text/html": [
       " E a Guiné tornou-se no <span style=\"background-color:#DFFF00 \">vigésimo</span> país da região a abolir a pena capital para todos os crimes ."
      ],
      "text/plain": [
       "<IPython.core.display.HTML object>"
      ]
     },
     "metadata": {},
     "output_type": "display_data"
    },
    {
     "name": "stdout",
     "output_type": "stream",
     "text": [
      "____________________________________472___________________________________________________\n",
      "\u001b[94m\u001b[1m🤓 OK\u001b[0m\n"
     ]
    },
    {
     "data": {
      "text/html": [
       " <span style=\"background-color:#e0e0e0 \">15.559955</span>"
      ],
      "text/plain": [
       "<IPython.core.display.HTML object>"
      ]
     },
     "metadata": {},
     "output_type": "display_data"
    },
    {
     "data": {
      "text/html": [
       " But perhaps monuments will be erected on many European squares as well , acclaiming Russia 's president as \" The Father of United Europe . \""
      ],
      "text/plain": [
       "<IPython.core.display.HTML object>"
      ]
     },
     "metadata": {},
     "output_type": "display_data"
    },
    {
     "data": {
      "text/html": [
       " Mas talvez os monumentos também sejam erguidos em muitas praças europeias , proclamando o Presidente da Rússia como \" O Pai da Europa Unida \" ."
      ],
      "text/plain": [
       "<IPython.core.display.HTML object>"
      ]
     },
     "metadata": {},
     "output_type": "display_data"
    },
    {
     "name": "stdout",
     "output_type": "stream",
     "text": [
      "____________________________________473___________________________________________________\n",
      "\u001b[94m\u001b[1m🤓 OK\u001b[0m\n"
     ]
    },
    {
     "data": {
      "text/html": [
       " <span style=\"background-color:#e0e0e0 \">-0.121914975</span> <span style=\"background-color:#DFFF00 \">4.6942244</span> <span style=\"background-color:#9FE2BF \">6.4246435</span>"
      ],
      "text/plain": [
       "<IPython.core.display.HTML object>"
      ]
     },
     "metadata": {},
     "output_type": "display_data"
    },
    {
     "data": {
      "text/html": [
       " Globalization hurt <span style=\"background-color:#DFFF00 \">lower-skill</span><span style=\"background-color:#DFFF00 \"> workers</span><span style=\"background-color:#DFFF00 \"> in</span><span style=\"background-color:#DFFF00 \"> places</span><span style=\"background-color:#DFFF00 \"> like</span> the United States , as it enabled people from faraway countries to compete for the leg-and-finger positions in the global <span style=\"background-color:#9FE2BF \">division</span> of labor ."
      ],
      "text/plain": [
       "<IPython.core.display.HTML object>"
      ]
     },
     "metadata": {},
     "output_type": "display_data"
    },
    {
     "data": {
      "text/html": [
       " A globalização prejudicou os <span style=\"background-color:#DFFF00 \">trabalhadores</span><span style=\"background-color:#DFFF00 \"> menos</span><span style=\"background-color:#DFFF00 \"> qualificados</span><span style=\"background-color:#DFFF00 \"> em</span><span style=\"background-color:#DFFF00 \"> países</span><span style=\"background-color:#DFFF00 \"> como</span> os Estados Unidos da América , uma vez que permitiu que pessoas provenientes de países distantes pudessem candidatar-se a postos de trabalho manuais na <span style=\"background-color:#9FE2BF \">divisão</span> global do trabalho ."
      ],
      "text/plain": [
       "<IPython.core.display.HTML object>"
      ]
     },
     "metadata": {},
     "output_type": "display_data"
    },
    {
     "name": "stdout",
     "output_type": "stream",
     "text": [
      "____________________________________474___________________________________________________\n",
      "\u001b[94m\u001b[1m🤓 OK\u001b[0m\n"
     ]
    },
    {
     "data": {
      "text/html": [
       " <span style=\"background-color:#e0e0e0 \">12.327219</span>"
      ],
      "text/plain": [
       "<IPython.core.display.HTML object>"
      ]
     },
     "metadata": {},
     "output_type": "display_data"
    },
    {
     "data": {
      "text/html": [
       " · Northern Europe could expand social democracy by making its welfare states more lavish ;"
      ],
      "text/plain": [
       "<IPython.core.display.HTML object>"
      ]
     },
     "metadata": {},
     "output_type": "display_data"
    },
    {
     "data": {
      "text/html": [
       " · O Norte da Europa poderia expandir a democracia social , ao tornar os seus Estados-providência mais generosos ;"
      ],
      "text/plain": [
       "<IPython.core.display.HTML object>"
      ]
     },
     "metadata": {},
     "output_type": "display_data"
    },
    {
     "name": "stdout",
     "output_type": "stream",
     "text": [
      "____________________________________477___________________________________________________\n",
      "\u001b[94m\u001b[1m🤓 OK\u001b[0m\n"
     ]
    },
    {
     "data": {
      "text/html": [
       " <span style=\"background-color:#e0e0e0 \">-14.5082</span> <span style=\"background-color:#DFFF00 \">-12.757696</span>"
      ],
      "text/plain": [
       "<IPython.core.display.HTML object>"
      ]
     },
     "metadata": {},
     "output_type": "display_data"
    },
    {
     "data": {
      "text/html": [
       " Thanks to the Internet , it <span style=\"background-color:#DFFF00 \">,</span><span style=\"background-color:#DFFF00 \"> too</span><span style=\"background-color:#DFFF00 \"> ,</span> has begun to emerge more often ."
      ],
      "text/plain": [
       "<IPython.core.display.HTML object>"
      ]
     },
     "metadata": {},
     "output_type": "display_data"
    },
    {
     "data": {
      "text/html": [
       " Graças à Internet , <span style=\"background-color:#DFFF00 \">também</span> ele começou a emergir com maior frequência ."
      ],
      "text/plain": [
       "<IPython.core.display.HTML object>"
      ]
     },
     "metadata": {},
     "output_type": "display_data"
    },
    {
     "name": "stdout",
     "output_type": "stream",
     "text": [
      "____________________________________478___________________________________________________\n",
      "\u001b[91m\u001b[1m😤 😠 😡 🤬  DETACHED HALLUCINATION\u001b[0m\n",
      "12.9676753\n"
     ]
    },
    {
     "data": {
      "text/html": [
       " <span style=\"background-color:#e0e0e0 \">-6.869155</span> <span style=\"background-color:#DFFF00 \">6.0985203</span>"
      ],
      "text/plain": [
       "<IPython.core.display.HTML object>"
      ]
     },
     "metadata": {},
     "output_type": "display_data"
    },
    {
     "data": {
      "text/html": [
       " <span style=\"background-color:#DFFF00 \">They</span><span style=\"background-color:#DFFF00 \"> sell</span><span style=\"background-color:#DFFF00 \"> up</span><span style=\"background-color:#DFFF00 \"> their</span><span style=\"background-color:#DFFF00 \"> system</span><span style=\"background-color:#DFFF00 \"> -</span><span style=\"background-color:#DFFF00 \"> a</span><span style=\"background-color:#DFFF00 \"> form</span><span style=\"background-color:#DFFF00 \"> of</span><span style=\"background-color:#DFFF00 \"> \"</span><span style=\"background-color:#DFFF00 \"> illiberal</span><span style=\"background-color:#DFFF00 \"> democracy</span><span style=\"background-color:#DFFF00 \"> \"</span><span style=\"background-color:#DFFF00 \"> which</span><span style=\"background-color:#DFFF00 \"> is</span><span style=\"background-color:#DFFF00 \"> the</span><span style=\"background-color:#DFFF00 \"> idea</span><span style=\"background-color:#DFFF00 \"> of</span><span style=\"background-color:#DFFF00 \"> capitalism</span><span style=\"background-color:#DFFF00 \"> on</span><span style=\"background-color:#DFFF00 \"> the</span><span style=\"background-color:#DFFF00 \"> basis</span><span style=\"background-color:#DFFF00 \"> of</span><span style=\"background-color:#DFFF00 \"> pragmatism</span><span style=\"background-color:#DFFF00 \"> ,</span> not some universal theory of history ."
      ],
      "text/plain": [
       "<IPython.core.display.HTML object>"
      ]
     },
     "metadata": {},
     "output_type": "display_data"
    },
    {
     "data": {
      "text/html": [
       " <span style=\"background-color:#DFFF00 \">Promovem</span><span style=\"background-color:#DFFF00 \"> o</span><span style=\"background-color:#DFFF00 \"> seu</span><span style=\"background-color:#DFFF00 \"> sistema</span><span style=\"background-color:#DFFF00 \"> de</span><span style=\"background-color:#DFFF00 \"> \"</span><span style=\"background-color:#DFFF00 \"> democracia</span><span style=\"background-color:#DFFF00 \"> não-liberal</span><span style=\"background-color:#DFFF00 \"> \"</span><span style=\"background-color:#DFFF00 \"> na</span><span style=\"background-color:#DFFF00 \"> base</span><span style=\"background-color:#DFFF00 \"> do</span><span style=\"background-color:#DFFF00 \"> pragmatismo</span><span style=\"background-color:#DFFF00 \"> ,</span><span style=\"background-color:#DFFF00 \"> em</span> vez de uma qualquer teoria universal da história ."
      ],
      "text/plain": [
       "<IPython.core.display.HTML object>"
      ]
     },
     "metadata": {},
     "output_type": "display_data"
    },
    {
     "name": "stdout",
     "output_type": "stream",
     "text": [
      "____________________________________479___________________________________________________\n",
      "\u001b[94m\u001b[1m🤓 OK\u001b[0m\n"
     ]
    },
    {
     "data": {
      "text/html": [
       " <span style=\"background-color:#e0e0e0 \">2.634227</span> <span style=\"background-color:#DFFF00 \">4.7179184</span> <span style=\"background-color:#9FE2BF \">5.980631</span>"
      ],
      "text/plain": [
       "<IPython.core.display.HTML object>"
      ]
     },
     "metadata": {},
     "output_type": "display_data"
    },
    {
     "data": {
      "text/html": [
       " Investment in vaccines <span style=\"background-color:#DFFF00 \">is</span> not about short-term savings , either in terms of lives or economic costs ; it is about providing children with lifetime protection and <span style=\"background-color:#9FE2BF \">the</span><span style=\"background-color:#9FE2BF \"> ability</span> to realize their full potential ."
      ],
      "text/plain": [
       "<IPython.core.display.HTML object>"
      ]
     },
     "metadata": {},
     "output_type": "display_data"
    },
    {
     "data": {
      "text/html": [
       " O investimento em vacinas não <span style=\"background-color:#DFFF00 \">se</span><span style=\"background-color:#DFFF00 \"> traduz</span> numa poupança a curto prazo , quer seja em termos de vidas ou em custos económicos ; trata-se de garantir a protecção da vida e das crianças , bem como <span style=\"background-color:#9FE2BF \">a</span><span style=\"background-color:#9FE2BF \"> capacidade</span> de alcançarem o seu pleno potencial ."
      ],
      "text/plain": [
       "<IPython.core.display.HTML object>"
      ]
     },
     "metadata": {},
     "output_type": "display_data"
    },
    {
     "name": "stdout",
     "output_type": "stream",
     "text": [
      "____________________________________481___________________________________________________\n",
      "\u001b[94m\u001b[1m🤓 OK\u001b[0m\n"
     ]
    },
    {
     "data": {
      "text/html": [
       " <span style=\"background-color:#e0e0e0 \">14.207499</span>"
      ],
      "text/plain": [
       "<IPython.core.display.HTML object>"
      ]
     },
     "metadata": {},
     "output_type": "display_data"
    },
    {
     "data": {
      "text/html": [
       " But , in recent years , there has been a notable shift toward diversification , with some major urban centers , like Mumbai and Bangalore , experiencing the largest and fastest shifts away from specialization ."
      ],
      "text/plain": [
       "<IPython.core.display.HTML object>"
      ]
     },
     "metadata": {},
     "output_type": "display_data"
    },
    {
     "data": {
      "text/html": [
       " Mas , nos últimos anos , tem havido uma mudança notável que se direciona para a diversificação , com alguns grandes centros urbanos , como Mumbai e Bangalore , a enfrentar as maiores e mais rápidas mudanças longe da especialização ."
      ],
      "text/plain": [
       "<IPython.core.display.HTML object>"
      ]
     },
     "metadata": {},
     "output_type": "display_data"
    },
    {
     "name": "stdout",
     "output_type": "stream",
     "text": [
      "____________________________________482___________________________________________________\n",
      "\u001b[94m\u001b[1m🤓 OK\u001b[0m\n"
     ]
    },
    {
     "data": {
      "text/html": [
       " <span style=\"background-color:#e0e0e0 \">9.520052</span> <span style=\"background-color:#DFFF00 \">11.953238</span>"
      ],
      "text/plain": [
       "<IPython.core.display.HTML object>"
      ]
     },
     "metadata": {},
     "output_type": "display_data"
    },
    {
     "data": {
      "text/html": [
       " Moreover , the central item on the summit 's agenda , a proposed \" BRICS development bank <span style=\"background-color:#DFFF00 \">,</span><span style=\"background-color:#DFFF00 \"> \"</span><span style=\"background-color:#DFFF00 \"> is</span><span style=\"background-color:#DFFF00 \"> one</span><span style=\"background-color:#DFFF00 \"> that</span> has gone nowhere at previous summits ."
      ],
      "text/plain": [
       "<IPython.core.display.HTML object>"
      ]
     },
     "metadata": {},
     "output_type": "display_data"
    },
    {
     "data": {
      "text/html": [
       " Além disso , o tema central na agenda da cimeira , a proposta de um \" banco de desenvolvimento dos BRICS <span style=\"background-color:#DFFF00 \">\"</span><span style=\"background-color:#DFFF00 \"> ,</span><span style=\"background-color:#DFFF00 \"> não</span> tem encontrado desenvolvimento nas cimeiras anteriores ."
      ],
      "text/plain": [
       "<IPython.core.display.HTML object>"
      ]
     },
     "metadata": {},
     "output_type": "display_data"
    },
    {
     "name": "stdout",
     "output_type": "stream",
     "text": [
      "____________________________________485___________________________________________________\n",
      "\u001b[94m\u001b[1m🤓 OK\u001b[0m\n"
     ]
    },
    {
     "data": {
      "text/html": [
       " <span style=\"background-color:#e0e0e0 \">-7.9469852</span> <span style=\"background-color:#DFFF00 \">15.192834</span>"
      ],
      "text/plain": [
       "<IPython.core.display.HTML object>"
      ]
     },
     "metadata": {},
     "output_type": "display_data"
    },
    {
     "data": {
      "text/html": [
       " Such people , as Hannah Arendt once observed , will ultimately come to <span style=\"background-color:#DFFF00 \">see</span><span style=\"background-color:#DFFF00 \"> in</span><span style=\"background-color:#DFFF00 \"> the</span><span style=\"background-color:#DFFF00 \"> commission</span> of a crime their only path into the world of law and of those who enjoy the rights the law confers ."
      ],
      "text/plain": [
       "<IPython.core.display.HTML object>"
      ]
     },
     "metadata": {},
     "output_type": "display_data"
    },
    {
     "data": {
      "text/html": [
       " Estas pessoas , tal como Hannah Arendt comentou certa vez , irão acabar por <span style=\"background-color:#DFFF00 \">encontrar</span><span style=\"background-color:#DFFF00 \"> na</span><span style=\"background-color:#DFFF00 \"> prática</span> de um crime a sua única via para o mundo das leis e daqueles que beneficiam dos direitos que as leis lhes conferem ."
      ],
      "text/plain": [
       "<IPython.core.display.HTML object>"
      ]
     },
     "metadata": {},
     "output_type": "display_data"
    },
    {
     "name": "stdout",
     "output_type": "stream",
     "text": [
      "____________________________________486___________________________________________________\n",
      "\u001b[94m\u001b[1m🤓 OK\u001b[0m\n"
     ]
    },
    {
     "data": {
      "text/html": [
       " <span style=\"background-color:#e0e0e0 \">13.785021</span>"
      ],
      "text/plain": [
       "<IPython.core.display.HTML object>"
      ]
     },
     "metadata": {},
     "output_type": "display_data"
    },
    {
     "data": {
      "text/html": [
       " ClimateWise , a global network of insurance industry organizations , has already warned that the world is facing a $ 100 billion annual climate risk \" protection gap . \""
      ],
      "text/plain": [
       "<IPython.core.display.HTML object>"
      ]
     },
     "metadata": {},
     "output_type": "display_data"
    },
    {
     "data": {
      "text/html": [
       " A ClimateWise , uma rede global de organizações do sector dos seguros , já lançou o alerta de que o mundo enfrenta uma \" lacuna em termos de protecção \" contra os riscos climáticos que ascende a100 mil milhões de dólares americanos anuais ."
      ],
      "text/plain": [
       "<IPython.core.display.HTML object>"
      ]
     },
     "metadata": {},
     "output_type": "display_data"
    },
    {
     "name": "stdout",
     "output_type": "stream",
     "text": [
      "____________________________________487___________________________________________________\n",
      "\u001b[94m\u001b[1m🤓 OK\u001b[0m\n"
     ]
    },
    {
     "data": {
      "text/html": [
       " <span style=\"background-color:#e0e0e0 \">15.595617</span>"
      ],
      "text/plain": [
       "<IPython.core.display.HTML object>"
      ]
     },
     "metadata": {},
     "output_type": "display_data"
    },
    {
     "data": {
      "text/html": [
       " Vaudeville may be a French specialty , like bread , cheese , and wine , but it does not strengthen the dignity and credibility of an already spectacularly unpopular presidency ."
      ],
      "text/plain": [
       "<IPython.core.display.HTML object>"
      ]
     },
     "metadata": {},
     "output_type": "display_data"
    },
    {
     "data": {
      "text/html": [
       " O vaudeville pode ser uma especialidade francesa , como o pão , o queijo e o vinho , mas não fortalece a dignidade e a credibilidade de uma presidência já espectacularmente impopular ."
      ],
      "text/plain": [
       "<IPython.core.display.HTML object>"
      ]
     },
     "metadata": {},
     "output_type": "display_data"
    },
    {
     "name": "stdout",
     "output_type": "stream",
     "text": [
      "____________________________________488___________________________________________________\n",
      "\u001b[94m\u001b[1m🤓 OK\u001b[0m\n"
     ]
    },
    {
     "data": {
      "text/html": [
       " <span style=\"background-color:#e0e0e0 \">13.31083</span>"
      ],
      "text/plain": [
       "<IPython.core.display.HTML object>"
      ]
     },
     "metadata": {},
     "output_type": "display_data"
    },
    {
     "data": {
      "text/html": [
       " Indeed , insofar as the increments are small , the result is likely to be slower productivity growth and a \" Great Stagnation . \""
      ],
      "text/plain": [
       "<IPython.core.display.HTML object>"
      ]
     },
     "metadata": {},
     "output_type": "display_data"
    },
    {
     "data": {
      "text/html": [
       " Com efeito , na medida em que os incrementos são de pequena dimensão , o resultado traduzir-se-á , provavelmente , num crescimento mais lento da produtividade e numa situação de \" Grande Estagnação \" ."
      ],
      "text/plain": [
       "<IPython.core.display.HTML object>"
      ]
     },
     "metadata": {},
     "output_type": "display_data"
    },
    {
     "name": "stdout",
     "output_type": "stream",
     "text": [
      "____________________________________490___________________________________________________\n",
      "\u001b[94m\u001b[1m🤓 OK\u001b[0m\n"
     ]
    },
    {
     "data": {
      "text/html": [
       " <span style=\"background-color:#e0e0e0 \">10.248322</span>"
      ],
      "text/plain": [
       "<IPython.core.display.HTML object>"
      ]
     },
     "metadata": {},
     "output_type": "display_data"
    },
    {
     "data": {
      "text/html": [
       " Similarly , vaccination has been shown to lead to wage gains across populations , while improvements in child survival rates are associated with lower fertility rates ."
      ],
      "text/plain": [
       "<IPython.core.display.HTML object>"
      ]
     },
     "metadata": {},
     "output_type": "display_data"
    },
    {
     "data": {
      "text/html": [
       " Da mesma forma , demonstrou-se que a vacinação conduz à melhoria dos salários das populações , enquanto o aumento das taxas de sobrevivência infantil está associado à descida das taxas de fertilidade ."
      ],
      "text/plain": [
       "<IPython.core.display.HTML object>"
      ]
     },
     "metadata": {},
     "output_type": "display_data"
    },
    {
     "name": "stdout",
     "output_type": "stream",
     "text": [
      "____________________________________491___________________________________________________\n",
      "\u001b[94m\u001b[1m🤓 OK\u001b[0m\n"
     ]
    },
    {
     "data": {
      "text/html": [
       " <span style=\"background-color:#e0e0e0 \">15.612089</span>"
      ],
      "text/plain": [
       "<IPython.core.display.HTML object>"
      ]
     },
     "metadata": {},
     "output_type": "display_data"
    },
    {
     "data": {
      "text/html": [
       " By the 1970 's , the neoclassical general-equilibrium school captured Keynesian economics through real-sector models that assumed that \" finance is a veil , \" thereby becoming blind to financial markets ' destabilizing effects ."
      ],
      "text/plain": [
       "<IPython.core.display.HTML object>"
      ]
     },
     "metadata": {},
     "output_type": "display_data"
    },
    {
     "data": {
      "text/html": [
       " Na década de 1970 , a escola neoclássica de equilíbrio geral , capturou a economia keynesiana através de modelos do sector real que assumiram que \" a moeda é um véu \" , disfarçando , desse modo , os efeitos desestabilizadores dos mercados financeiros ."
      ],
      "text/plain": [
       "<IPython.core.display.HTML object>"
      ]
     },
     "metadata": {},
     "output_type": "display_data"
    },
    {
     "name": "stdout",
     "output_type": "stream",
     "text": [
      "____________________________________493___________________________________________________\n",
      "\u001b[94m\u001b[1m🤓 OK\u001b[0m\n"
     ]
    },
    {
     "data": {
      "text/html": [
       " <span style=\"background-color:#e0e0e0 \">8.598922</span> <span style=\"background-color:#DFFF00 \">14.746038</span>"
      ],
      "text/plain": [
       "<IPython.core.display.HTML object>"
      ]
     },
     "metadata": {},
     "output_type": "display_data"
    },
    {
     "data": {
      "text/html": [
       " Equally important , the <span style=\"background-color:#DFFF00 \">panelists</span><span style=\"background-color:#DFFF00 \"> reported</span><span style=\"background-color:#DFFF00 \"> on</span> the rising importance of liquid natural gas relative to pipeline gas , which has enormous geopolitical implications ."
      ],
      "text/plain": [
       "<IPython.core.display.HTML object>"
      ]
     },
     "metadata": {},
     "output_type": "display_data"
    },
    {
     "data": {
      "text/html": [
       " Igualmente importante , os <span style=\"background-color:#DFFF00 \">participantes</span><span style=\"background-color:#DFFF00 \"> referiram</span> a crescente importância do gás líquido natural relativo ao gasoduto , o que tem enormes implicações geopolíticas ."
      ],
      "text/plain": [
       "<IPython.core.display.HTML object>"
      ]
     },
     "metadata": {},
     "output_type": "display_data"
    },
    {
     "name": "stdout",
     "output_type": "stream",
     "text": [
      "____________________________________494___________________________________________________\n",
      "\u001b[94m\u001b[1m🤓 OK\u001b[0m\n"
     ]
    },
    {
     "data": {
      "text/html": [
       " <span style=\"background-color:#e0e0e0 \">2.266008</span> <span style=\"background-color:#DFFF00 \">8.618712</span> <span style=\"background-color:#9FE2BF \">14.295391</span>"
      ],
      "text/plain": [
       "<IPython.core.display.HTML object>"
      ]
     },
     "metadata": {},
     "output_type": "display_data"
    },
    {
     "data": {
      "text/html": [
       " Normally , economists <span style=\"background-color:#DFFF00 \">talk</span><span style=\"background-color:#DFFF00 \"> about</span> trade-offs : weaker intellectual-property rights , it is argued , would <span style=\"background-color:#9FE2BF \">undermine</span> incentives to innovate ."
      ],
      "text/plain": [
       "<IPython.core.display.HTML object>"
      ]
     },
     "metadata": {},
     "output_type": "display_data"
    },
    {
     "data": {
      "text/html": [
       " Normalmente , os economistas <span style=\"background-color:#DFFF00 \">falam</span><span style=\"background-color:#DFFF00 \"> sobre</span> trade-offs : os direitos de propriedade intelectual mais fracos , argumenta-se , poriam <span style=\"background-color:#9FE2BF \">em</span><span style=\"background-color:#9FE2BF \"> causa</span><span style=\"background-color:#9FE2BF \"> os</span> incentivos à inovação ."
      ],
      "text/plain": [
       "<IPython.core.display.HTML object>"
      ]
     },
     "metadata": {},
     "output_type": "display_data"
    },
    {
     "name": "stdout",
     "output_type": "stream",
     "text": [
      "____________________________________496___________________________________________________\n",
      "\u001b[94m\u001b[1m🤓 OK\u001b[0m\n"
     ]
    },
    {
     "data": {
      "text/html": [
       " <span style=\"background-color:#e0e0e0 \">6.891235</span> <span style=\"background-color:#DFFF00 \">9.154332</span>"
      ],
      "text/plain": [
       "<IPython.core.display.HTML object>"
      ]
     },
     "metadata": {},
     "output_type": "display_data"
    },
    {
     "data": {
      "text/html": [
       " We are likely to achieve the United Nations Millennium Development Goal of cutting TB prevalence and mortality in half by 2015 , from 1990 <span style=\"background-color:#DFFF00 \">levels</span> ."
      ],
      "text/plain": [
       "<IPython.core.display.HTML object>"
      ]
     },
     "metadata": {},
     "output_type": "display_data"
    },
    {
     "data": {
      "text/html": [
       " É provável que alcancemos o Objectivo de Desenvolvimento do Milénio das Nações Unidas de reduzir a prevalência da TB e a mortalidade , para metade , até 2015 , <span style=\"background-color:#DFFF00 \">com</span><span style=\"background-color:#DFFF00 \"> base</span><span style=\"background-color:#DFFF00 \"> nos</span><span style=\"background-color:#DFFF00 \"> níveis</span> de 1990 ."
      ],
      "text/plain": [
       "<IPython.core.display.HTML object>"
      ]
     },
     "metadata": {},
     "output_type": "display_data"
    },
    {
     "name": "stdout",
     "output_type": "stream",
     "text": [
      "____________________________________497___________________________________________________\n",
      "\u001b[94m\u001b[1m🤓 OK\u001b[0m\n"
     ]
    },
    {
     "data": {
      "text/html": [
       " <span style=\"background-color:#e0e0e0 \">8.963032</span> <span style=\"background-color:#DFFF00 \">15.590584</span>"
      ],
      "text/plain": [
       "<IPython.core.display.HTML object>"
      ]
     },
     "metadata": {},
     "output_type": "display_data"
    },
    {
     "data": {
      "text/html": [
       " At the same time , large amounts of greenhouse gases are released into the atmosphere during production , processing , and cooking ."
      ],
      "text/plain": [
       "<IPython.core.display.HTML object>"
      ]
     },
     "metadata": {},
     "output_type": "display_data"
    },
    {
     "data": {
      "text/html": [
       " Ao mesmo tempo , grandes quantidades de gases <span style=\"background-color:#DFFF00 \">com</span><span style=\"background-color:#DFFF00 \"> efeito</span><span style=\"background-color:#DFFF00 \"> de</span> estufa são libertadas para a atmosfera durante a produção , o processamento e a cozedura ."
      ],
      "text/plain": [
       "<IPython.core.display.HTML object>"
      ]
     },
     "metadata": {},
     "output_type": "display_data"
    },
    {
     "name": "stdout",
     "output_type": "stream",
     "text": [
      "____________________________________498___________________________________________________\n",
      "\u001b[94m\u001b[1m🤓 OK\u001b[0m\n"
     ]
    },
    {
     "data": {
      "text/html": [
       " <span style=\"background-color:#e0e0e0 \">15.587497</span>"
      ],
      "text/plain": [
       "<IPython.core.display.HTML object>"
      ]
     },
     "metadata": {},
     "output_type": "display_data"
    },
    {
     "data": {
      "text/html": [
       " Financial regulation is driven by the interests of banks , health policy by the interests of insurance companies , and tax policy by the interests of the rich ."
      ],
      "text/plain": [
       "<IPython.core.display.HTML object>"
      ]
     },
     "metadata": {},
     "output_type": "display_data"
    },
    {
     "data": {
      "text/html": [
       " A regulação financeira é conduzida pelos interesses dos bancos , a política de saúde pelos interesses das companhias de seguros , e a política fiscal pelos interesses dos ricos ."
      ],
      "text/plain": [
       "<IPython.core.display.HTML object>"
      ]
     },
     "metadata": {},
     "output_type": "display_data"
    }
   ],
   "source": [
    "import random\n",
    "from collections import defaultdict\n",
    "random.seed(41)\n",
    "\n",
    "o, g = [],[]\n",
    "count = 0\n",
    "dir_='en_pt_ced'\n",
    "#dir_='en_de_ced'\n",
    "\n",
    "batches_num = 8\n",
    "\n",
    "meta_id, meta_lbl, out_src, out_tgt = f'for_user_study/{dir_}/meta_id', f'for_user_study/{dir_}/meta_lbl', f'for_user_study/{dir_}/src', f'for_user_study/{dir_}/tgt'\n",
    "original_scores, final_scores =[], []\n",
    "\n",
    "bad, explained =0, 0\n",
    "no_highlights_ok = 0\n",
    "halluci, no_halluci= 0, 0\n",
    "original, halluc = defaultdict(list), defaultdict(list)\n",
    "original_neg= defaultdict(list)\n",
    "lbls = open(f'outputs/test.2022.pt-en.label', 'r').readlines()\n",
    "#lbls = open(f'outputs/test.2022.en-de.label', 'r').readlines()\n",
    "diffs = []\n",
    "original_count = 0\n",
    "original_scores_ced = []\n",
    "gpt_count = 0\n",
    "length =[]\n",
    "bad_num, num_diff, total = 0, 0, 0\n",
    "for file_ in ['en_pt_ced_test_missing_paired_phrases_reward_pos']:\n",
    "\n",
    "    with open(f'outputs/{file_}', 'r') as out_:\n",
    "        c = 0\n",
    "        lines = out_.readlines()\n",
    "        pop = len(lines)\n",
    "        sample = random.sample(range(0, len(lines)), len(lines))\n",
    "        #sample = random.sample(range(1, len(lines)), 100)\n",
    "        #print(sample)\n",
    "        for id_, line in enumerate(lines):\n",
    "            \n",
    "            #if id_ not in sample:\n",
    "            #    continue\n",
    "            lbl =lbls[id_].rstrip()\n",
    "            #lbl = 'original'\n",
    "            scores, score_color = [], []\n",
    "                \n",
    "            line = line.split('\\t')\n",
    "            try:\n",
    "                raw_a = np.array([float(x) for x in line[5].split(' ')])\n",
    "                raw_b = np.array([float(x) for x in line[6].split(' ')])\n",
    "            except IndexError:\n",
    "                continue\n",
    "                #print('Problem')\n",
    "            \n",
    "            if len(line[0].split(' ')) < 15 or len(line[0].split(' ')) > 40:\n",
    "                continue\n",
    "            total+=1\n",
    "        \n",
    "            original_score = float(line[4])\n",
    "            revisions = int(line[5])\n",
    "            original_scores.append(original_score)        \n",
    "            previous_score = original_score\n",
    "            expl_a = [0] * len(line[0].split(' '))\n",
    "            expl_b = [0] * len(line[1].split(' '))\n",
    "            if lbl =='BAD' and original_score>10:\n",
    "                continue\n",
    "                    \n",
    "            scores.append(str(original_score))\n",
    "            score_color = '1'\n",
    "                    \n",
    "           \n",
    "            for i in range(revisions):                        \n",
    "                score = line[5 + 3*i + 1]               \n",
    "                #if float(score) - float(previous_score) < 5:\n",
    "                #if float(score) - float(previous_score) < 2 or original_score > 10:\n",
    "                #    break\n",
    "                if i == 0:\n",
    "                    bar = 1\n",
    "                else:\n",
    "                    bar = 1\n",
    "                if float(previous_score) > 10:\n",
    "                    break\n",
    "                if float(score) - float(previous_score) < bar or original_score > 10:\n",
    "                    break\n",
    "                else:\n",
    "                    #lbl='chatGPT_paraphrase'\n",
    "                    if i==0:\n",
    "                        a=1\n",
    "                        #count+=1\n",
    "                expl_a = add_lists(expl_a, [((i +1)*int(a)) for a in line[5 + 3*i + 2].split(' ')])\n",
    "                expl_b = add_lists(expl_b, [((i +1)*int(a)) for a in line[5 + 3*i + 3].split(' ')])\n",
    "    \n",
    "                previous_score = score\n",
    "                scores.append(str(score))\n",
    "                score_color += f' {str(i+2)}'\n",
    "                \n",
    "            final_scores.append(float(scores[-1]))\n",
    "            diff = float(scores[-1]) - float(original_score) \n",
    "\n",
    "                        \n",
    "            s_ = 0\n",
    "            if diff <=0: \n",
    "                if float(scores[0]) < 0:\n",
    "                    expl_a =  [1]*len(line[0])\n",
    "                    expl_b =  [1]*len(line[1])\n",
    "                #continue\n",
    "                \n",
    "            en_num = [int(i) for i in line[0].split() if i.isdigit()]\n",
    "            nen_num = [int(i) for i in line[1].split() if i.isdigit()]\n",
    "\n",
    "            if lbl != 'BAD':\n",
    "                a=1\n",
    "                #continue\n",
    "            else:\n",
    "                bad_num +=1\n",
    "                src_num = re.findall(r'\\d+', line[0])\n",
    "                tgt_num = re.findall(r'\\d+', line[1])\n",
    "                if set(src_num) != set(tgt_num):\n",
    "                    a=1\n",
    "                    continue\n",
    "            num_diff +=1\n",
    "            original_scores_ced.append(float(original_score))\n",
    "            print(f'____________________________________{id_}___________________________________________________')\n",
    "            \n",
    "            if lbl == 'BAD' or lbl=='1': \n",
    "                if ([a.isupper() for a in line[0]].count(True))/len(line[0]) > 0.5 or '� � ' in line[0]:\n",
    "                    halluci+=1\n",
    "                #continue\n",
    "                if set(en_num) != set(nen_num) and sum(expl_a)==0 and sum(expl_b)==0:\n",
    "                    print('Numeric difference!!')\n",
    "                    #print(en_num)\n",
    "                    #print(nen_num)\n",
    "                    explained+=1\n",
    "                    #continue\n",
    "                #print(nen_num)\n",
    "                bad+=1\n",
    "                if sum(expl_a) !=0:\n",
    "                    explained+=1\n",
    "                print(bcolors.FAIL + bcolors.BOLD + \"😤 😠 😡 🤬  DETACHED HALLUCINATION\" + bcolors.ENDC)\n",
    "                print(diff)\n",
    "            else:\n",
    "                if ([a.isupper() for a in line[0]].count(True))/len(line[0]) <= 0.5 or '� � ' not in line[0]:\n",
    "                    no_halluci+=1\n",
    "\n",
    "                if sum(expl_a) + sum(expl_b) ==0:\n",
    "                    no_highlights_ok+=1\n",
    "                #continue\n",
    "                print(bcolors.OKBLUE + bcolors.BOLD + \"🤓 OK\" + bcolors.ENDC)\n",
    "            \n",
    "            #print(c)\n",
    "\n",
    "            \n",
    "            display_HTML(' '.join(scores), ' '.join(score_color.split(' ')))            \n",
    "            diffs.append(diff)\n",
    "            count+=1\n",
    "            \n",
    "            _, source_text = display_HTML(line[0], ' '.join([str(x) for x in expl_a]), offset=True)\n",
    "            _, target_text = display_HTML(line[1], ' '.join([str(x) for x in expl_b]), offset=True) \n",
    "            \n",
    "            \n",
    "            if lbl == 'original':\n",
    "                original_count +=1\n",
    "            else:\n",
    "                gpt_count += 1\n",
    "            if original_count > 30 and lbl=='original':\n",
    "                continue\n",
    "                \n",
    "            c+=1\n",
    "            \n",
    "            o.append(lbl)\n",
    "            \n",
    "            if lbl != 'BAD':\n",
    "                if original_score > 5:\n",
    "                    original[id_].append([source_text, target_text])\n",
    "                else:\n",
    "                    original_neg[id_].append([source_text, target_text])\n",
    "            else:\n",
    "                if float(score) < 0 or original_score >0:\n",
    "                    continue\n",
    "                halluc[id_].append([source_text, target_text])\n",
    "            length.append(len(line[0].split(' ')))\n",
    "\n",
    "\n",
    "            continue\n",
    "            meta_id_file = open(f'{meta_id}_{c}.txt', 'w')\n",
    "            meta_lbl_file = open(f'{meta_lbl}_{c}.txt', 'w')\n",
    "            out_src_file = open(f'{out_src}_{c}.txt', 'w')\n",
    "            out_tgt_file = open(f'{out_tgt}_{c}.txt', 'w')\n",
    "\n",
    "            meta_id_file.write(f'{id_}')\n",
    "            meta_lbl_file.write(f'{lbl}')\n",
    "            out_src_file.write(f'{source_text}')\n",
    "            out_tgt_file.write(f'{target_text}')\n",
    "\n",
    "            meta_id_file.close()\n",
    "            meta_lbl_file.close()\n",
    "            out_src_file.close()\n",
    "            out_tgt_file.close()\n",
    "        c"
   ]
  },
  {
   "cell_type": "code",
   "execution_count": 17,
   "id": "eec9002b",
   "metadata": {},
   "outputs": [
    {
     "name": "stdout",
     "output_type": "stream",
     "text": [
      "____________________________________0___________________________________________________\n",
      "\u001b[94m\u001b[1m🤓 OK\u001b[0m\n"
     ]
    },
    {
     "data": {
      "text/html": [
       " <span style=\"background-color:#e0e0e0 \">12.8496065</span>"
      ],
      "text/plain": [
       "<IPython.core.display.HTML object>"
      ]
     },
     "metadata": {},
     "output_type": "display_data"
    },
    {
     "data": {
      "text/html": [
       " The philosophy of control and <span style=\"background-color:#DFFF00 \">repercussions</span><span style=\"background-color:#DFFF00 \"> that</span><span style=\"background-color:#DFFF00 \"> until</span> now has characterized the eurozone 's approach to its crisis of governance needs to be replaced by one of solidarity and all that follows from it ."
      ],
      "text/plain": [
       "<IPython.core.display.HTML object>"
      ]
     },
     "metadata": {},
     "output_type": "display_data"
    },
    {
     "data": {
      "text/html": [
       " A filosofia de controlo e de <span style=\"background-color:#DFFF00 \">reciprocidade</span><span style=\"background-color:#DFFF00 \"> ,</span><span style=\"background-color:#DFFF00 \"> que</span><span style=\"background-color:#DFFF00 \"> até</span> agora tem caracterizado a abordagem da zona euro para a sua crise de governação , precisa de ser substituída por uma filosofia de solidariedade e de tudo que daí advenha ."
      ],
      "text/plain": [
       "<IPython.core.display.HTML object>"
      ]
     },
     "metadata": {},
     "output_type": "display_data"
    },
    {
     "name": "stdout",
     "output_type": "stream",
     "text": [
      "____________________________________1___________________________________________________\n",
      "\u001b[94m\u001b[1m🤓 OK\u001b[0m\n"
     ]
    },
    {
     "data": {
      "text/html": [
       " <span style=\"background-color:#e0e0e0 \">9.089715</span> <span style=\"background-color:#DFFF00 \">15.516175</span>"
      ],
      "text/plain": [
       "<IPython.core.display.HTML object>"
      ]
     },
     "metadata": {},
     "output_type": "display_data"
    },
    {
     "data": {
      "text/html": [
       " At the same time , in order to ensure continued progress toward financial inclusion , representatives from developing and emerging economies must play a greater role <span style=\"background-color:#DFFF00 \">in</span><span style=\"background-color:#DFFF00 \"> shaping</span><span style=\"background-color:#DFFF00 \"> future</span><span style=\"background-color:#DFFF00 \"> exemptions</span> ."
      ],
      "text/plain": [
       "<IPython.core.display.HTML object>"
      ]
     },
     "metadata": {},
     "output_type": "display_data"
    },
    {
     "data": {
      "text/html": [
       " Ao mesmo tempo , a fim de garantir o progresso contínuo em direcção à inclusão financeira , os representantes dos <span style=\"background-color:#9FE2BF \">países</span><span style=\"background-color:#9FE2BF \"> em</span><span style=\"background-color:#9FE2BF \"> vias</span><span style=\"background-color:#9FE2BF \"> de</span> desenvolvimento e das economias emergentes devem assumir um maior protagonismo <span style=\"background-color:#DFFF00 \">na</span><span style=\"background-color:#DFFF00 \"> formação</span><span style=\"background-color:#DFFF00 \"> de</span><span style=\"background-color:#DFFF00 \"> futuras</span><span style=\"background-color:#DFFF00 \"> normas</span> ."
      ],
      "text/plain": [
       "<IPython.core.display.HTML object>"
      ]
     },
     "metadata": {},
     "output_type": "display_data"
    },
    {
     "name": "stdout",
     "output_type": "stream",
     "text": [
      "____________________________________2___________________________________________________\n",
      "\u001b[94m\u001b[1m🤓 OK\u001b[0m\n"
     ]
    },
    {
     "data": {
      "text/html": [
       " <span style=\"background-color:#e0e0e0 \">15.560328</span>"
      ],
      "text/plain": [
       "<IPython.core.display.HTML object>"
      ]
     },
     "metadata": {},
     "output_type": "display_data"
    },
    {
     "data": {
      "text/html": [
       " After a victory by the left-wing Syriza party , Greece 's new government announces that it wants to <span style=\"background-color:#DFFF00 \">abandon</span> the terms of its agreement with the International Monetary Fund and the European Union ."
      ],
      "text/plain": [
       "<IPython.core.display.HTML object>"
      ]
     },
     "metadata": {},
     "output_type": "display_data"
    },
    {
     "data": {
      "text/html": [
       " Depois da vitória do partido da esquerda Syriza , o novo governo da Grécia anuncia que quer <span style=\"background-color:#DFFF00 \">renegociar</span> os termos de seu acordo com o Fundo Monetário Internacional e com a União Europeia ."
      ],
      "text/plain": [
       "<IPython.core.display.HTML object>"
      ]
     },
     "metadata": {},
     "output_type": "display_data"
    },
    {
     "name": "stdout",
     "output_type": "stream",
     "text": [
      "____________________________________3___________________________________________________\n",
      "\u001b[94m\u001b[1m🤓 OK\u001b[0m\n"
     ]
    },
    {
     "data": {
      "text/html": [
       " <span style=\"background-color:#e0e0e0 \">2.833692</span> <span style=\"background-color:#DFFF00 \">5.3111224</span> <span style=\"background-color:#9FE2BF \">7.5963626</span>"
      ],
      "text/plain": [
       "<IPython.core.display.HTML object>"
      ]
     },
     "metadata": {},
     "output_type": "display_data"
    },
    {
     "data": {
      "text/html": [
       " This <span style=\"background-color:#9FE2BF \">,</span> coupled with the lack of a public <span style=\"background-color:#DFFF00 \">safety</span><span style=\"background-color:#DFFF00 \"> net</span> , makes health problems a leading <span style=\"background-color:#CCCCFF \">solution</span><span style=\"background-color:#CCCCFF \"> to</span> economic hardship , even for middle-class families ."
      ],
      "text/plain": [
       "<IPython.core.display.HTML object>"
      ]
     },
     "metadata": {},
     "output_type": "display_data"
    },
    {
     "data": {
      "text/html": [
       " Esta <span style=\"background-color:#9FE2BF \">situação</span><span style=\"background-color:#9FE2BF \"> ,</span> aliada à inexistência de uma <span style=\"background-color:#DFFF00 \">rede</span><span style=\"background-color:#DFFF00 \"> de</span><span style=\"background-color:#DFFF00 \"> segurança</span> pública , torna os problemas de saúde na principal <span style=\"background-color:#CCCCFF \">fonte</span><span style=\"background-color:#CCCCFF \"> de</span> dificuldades económicas , até para as famílias de classe média ."
      ],
      "text/plain": [
       "<IPython.core.display.HTML object>"
      ]
     },
     "metadata": {},
     "output_type": "display_data"
    },
    {
     "name": "stdout",
     "output_type": "stream",
     "text": [
      "____________________________________4___________________________________________________\n",
      "\u001b[94m\u001b[1m🤓 OK\u001b[0m\n"
     ]
    },
    {
     "data": {
      "text/html": [
       " <span style=\"background-color:#e0e0e0 \">15.467515</span>"
      ],
      "text/plain": [
       "<IPython.core.display.HTML object>"
      ]
     },
     "metadata": {},
     "output_type": "display_data"
    },
    {
     "data": {
      "text/html": [
       " Globalization allows these different functions to be carried out in different places , thereby allowing countries to participate earlier , when they still have <span style=\"background-color:#DFFF00 \">abundant</span> locally available capabilities , which can then be expanded over time ."
      ],
      "text/plain": [
       "<IPython.core.display.HTML object>"
      ]
     },
     "metadata": {},
     "output_type": "display_data"
    },
    {
     "data": {
      "text/html": [
       " A globalização permite que todas estas diferentes funções sejam desempenhadas em lugares diferentes , permitindo assim aos países participar mais cedo , quando ainda têm <span style=\"background-color:#DFFF00 \">poucas</span> capacidades locais disponíveis , que poderão depois ser expandidas ao longo do tempo ."
      ],
      "text/plain": [
       "<IPython.core.display.HTML object>"
      ]
     },
     "metadata": {},
     "output_type": "display_data"
    },
    {
     "name": "stdout",
     "output_type": "stream",
     "text": [
      "____________________________________5___________________________________________________\n",
      "\u001b[94m\u001b[1m🤓 OK\u001b[0m\n"
     ]
    },
    {
     "data": {
      "text/html": [
       " <span style=\"background-color:#e0e0e0 \">7.7677946</span>"
      ],
      "text/plain": [
       "<IPython.core.display.HTML object>"
      ]
     },
     "metadata": {},
     "output_type": "display_data"
    },
    {
     "data": {
      "text/html": [
       " <span style=\"background-color:#DFFF00 \">A</span><span style=\"background-color:#DFFF00 \"> big</span><span style=\"background-color:#DFFF00 \"> one</span><span style=\"background-color:#DFFF00 \"> stems</span><span style=\"background-color:#DFFF00 \"> from</span><span style=\"background-color:#DFFF00 \"> the</span><span style=\"background-color:#DFFF00 \"> aligned</span> approaches to bringing financial services and digitized health care to rural parts of Africa ."
      ],
      "text/plain": [
       "<IPython.core.display.HTML object>"
      ]
     },
     "metadata": {},
     "output_type": "display_data"
    },
    {
     "data": {
      "text/html": [
       " <span style=\"background-color:#DFFF00 \">Uma</span><span style=\"background-color:#DFFF00 \"> delas</span><span style=\"background-color:#DFFF00 \"> decorre</span><span style=\"background-color:#DFFF00 \"> das</span><span style=\"background-color:#DFFF00 \"> diferentes</span> abordagens destinadas a fazer chegar os serviços financeiros e os serviços de saúde digitalizados às zonas rurais da África ."
      ],
      "text/plain": [
       "<IPython.core.display.HTML object>"
      ]
     },
     "metadata": {},
     "output_type": "display_data"
    },
    {
     "name": "stdout",
     "output_type": "stream",
     "text": [
      "____________________________________6___________________________________________________\n",
      "\u001b[94m\u001b[1m🤓 OK\u001b[0m\n"
     ]
    },
    {
     "data": {
      "text/html": [
       " <span style=\"background-color:#e0e0e0 \">7.0405884</span> <span style=\"background-color:#DFFF00 \">15.5804</span>"
      ],
      "text/plain": [
       "<IPython.core.display.HTML object>"
      ]
     },
     "metadata": {},
     "output_type": "display_data"
    },
    {
     "data": {
      "text/html": [
       " As independent India 's first deputy prime minister and <span style=\"background-color:#9FE2BF \">home</span><span style=\"background-color:#9FE2BF \"> minister</span><span style=\"background-color:#9FE2BF \"> ,</span> Patel is credited with the integration of roughly 600 princely states , sometimes by persuasion <span style=\"background-color:#DFFF00 \">and</span><span style=\"background-color:#DFFF00 \"> sometimes</span><span style=\"background-color:#DFFF00 \"> by</span><span style=\"background-color:#DFFF00 \"> diplomacy</span> ."
      ],
      "text/plain": [
       "<IPython.core.display.HTML object>"
      ]
     },
     "metadata": {},
     "output_type": "display_data"
    },
    {
     "data": {
      "text/html": [
       " Como primeiro vice-primeiro-ministro da Índia independente e <span style=\"background-color:#9FE2BF \">ministro</span><span style=\"background-color:#9FE2BF \"> nacional</span><span style=\"background-color:#9FE2BF \"> ,</span> Patel foi responsável pela integração de cerca de 600 estados principescos , às vezes pela persuasão <span style=\"background-color:#DFFF00 \">e</span><span style=\"background-color:#DFFF00 \"> às</span><span style=\"background-color:#DFFF00 \"> vezes</span><span style=\"background-color:#DFFF00 \"> pela</span><span style=\"background-color:#DFFF00 \"> força</span> ."
      ],
      "text/plain": [
       "<IPython.core.display.HTML object>"
      ]
     },
     "metadata": {},
     "output_type": "display_data"
    },
    {
     "name": "stdout",
     "output_type": "stream",
     "text": [
      "____________________________________7___________________________________________________\n",
      "\u001b[94m\u001b[1m🤓 OK\u001b[0m\n"
     ]
    },
    {
     "data": {
      "text/html": [
       " <span style=\"background-color:#e0e0e0 \">14.0063925</span>"
      ],
      "text/plain": [
       "<IPython.core.display.HTML object>"
      ]
     },
     "metadata": {},
     "output_type": "display_data"
    },
    {
     "data": {
      "text/html": [
       " That , too , is understandable : the new politicians <span style=\"background-color:#DFFF00 \">shared</span><span style=\"background-color:#DFFF00 \"> the</span><span style=\"background-color:#DFFF00 \"> outlook</span><span style=\"background-color:#DFFF00 \"> of</span><span style=\"background-color:#DFFF00 \"> those</span> who had promised that globalization would harm all ."
      ],
      "text/plain": [
       "<IPython.core.display.HTML object>"
      ]
     },
     "metadata": {},
     "output_type": "display_data"
    },
    {
     "data": {
      "text/html": [
       " Também isso é compreensível : os novos políticos <span style=\"background-color:#DFFF00 \">partilhavam</span><span style=\"background-color:#DFFF00 \"> a</span><span style=\"background-color:#DFFF00 \"> perspectiva</span><span style=\"background-color:#DFFF00 \"> daqueles</span> que prometeram que a globalização traria benefícios a todos ."
      ],
      "text/plain": [
       "<IPython.core.display.HTML object>"
      ]
     },
     "metadata": {},
     "output_type": "display_data"
    },
    {
     "name": "stdout",
     "output_type": "stream",
     "text": [
      "____________________________________8___________________________________________________\n",
      "\u001b[94m\u001b[1m🤓 OK\u001b[0m\n"
     ]
    },
    {
     "data": {
      "text/html": [
       " <span style=\"background-color:#e0e0e0 \">2.644661</span> <span style=\"background-color:#DFFF00 \">5.36395</span>"
      ],
      "text/plain": [
       "<IPython.core.display.HTML object>"
      ]
     },
     "metadata": {},
     "output_type": "display_data"
    },
    {
     "data": {
      "text/html": [
       " Now , as this latest IPCC report makes clear <span style=\"background-color:#DFFF00 \">,</span><span style=\"background-color:#DFFF00 \"> rising</span><span style=\"background-color:#DFFF00 \"> temperature</span><span style=\"background-color:#DFFF00 \"> is</span><span style=\"background-color:#DFFF00 \"> the</span><span style=\"background-color:#DFFF00 \"> new</span><span style=\"background-color:#DFFF00 \"> friend</span><span style=\"background-color:#DFFF00 \"> to</span><span style=\"background-color:#DFFF00 \"> both</span> biodiversity <span style=\"background-color:#9FE2BF \">and</span> our economy ."
      ],
      "text/plain": [
       "<IPython.core.display.HTML object>"
      ]
     },
     "metadata": {},
     "output_type": "display_data"
    },
    {
     "data": {
      "text/html": [
       " Actualmente , como descreve este último relatório do PIAC <span style=\"background-color:#DFFF00 \">,</span><span style=\"background-color:#DFFF00 \"> o</span><span style=\"background-color:#DFFF00 \"> aumento</span><span style=\"background-color:#DFFF00 \"> da</span><span style=\"background-color:#DFFF00 \"> temperatura</span><span style=\"background-color:#DFFF00 \"> é</span><span style=\"background-color:#DFFF00 \"> a</span><span style=\"background-color:#DFFF00 \"> nova</span><span style=\"background-color:#DFFF00 \"> ameaça</span><span style=\"background-color:#DFFF00 \"> para</span><span style=\"background-color:#DFFF00 \"> a</span> biodiversidade <span style=\"background-color:#9FE2BF \">e</span><span style=\"background-color:#9FE2BF \"> para</span><span style=\"background-color:#9FE2BF \"> a</span> nossa economia ."
      ],
      "text/plain": [
       "<IPython.core.display.HTML object>"
      ]
     },
     "metadata": {},
     "output_type": "display_data"
    },
    {
     "name": "stdout",
     "output_type": "stream",
     "text": [
      "____________________________________10___________________________________________________\n",
      "\u001b[94m\u001b[1m🤓 OK\u001b[0m\n"
     ]
    },
    {
     "data": {
      "text/html": [
       " <span style=\"background-color:#e0e0e0 \">4.3107605</span> <span style=\"background-color:#DFFF00 \">11.273126</span>"
      ],
      "text/plain": [
       "<IPython.core.display.HTML object>"
      ]
     },
     "metadata": {},
     "output_type": "display_data"
    },
    {
     "data": {
      "text/html": [
       " Of course , I am confident that the eurozone 's <span style=\"background-color:#DFFF00 \">ongoing</span> sovereign-debt crisis will be overcome , and that a more <span style=\"background-color:#9FE2BF \">fragmented</span> and ineffective Europe will emerge ."
      ],
      "text/plain": [
       "<IPython.core.display.HTML object>"
      ]
     },
     "metadata": {},
     "output_type": "display_data"
    },
    {
     "data": {
      "text/html": [
       " É claro que estou confiante que a crise da dívida soberana <span style=\"background-color:#DFFF00 \">em</span><span style=\"background-color:#DFFF00 \"> curso</span><span style=\"background-color:#DFFF00 \"> ,</span><span style=\"background-color:#DFFF00 \"> da</span> zona euro , será superada e que uma Europa mais <span style=\"background-color:#9FE2BF \">integrada</span> e eficaz surgirá ."
      ],
      "text/plain": [
       "<IPython.core.display.HTML object>"
      ]
     },
     "metadata": {},
     "output_type": "display_data"
    },
    {
     "name": "stdout",
     "output_type": "stream",
     "text": [
      "____________________________________11___________________________________________________\n",
      "\u001b[94m\u001b[1m🤓 OK\u001b[0m\n"
     ]
    },
    {
     "data": {
      "text/html": [
       " <span style=\"background-color:#e0e0e0 \">15.093349</span>"
      ],
      "text/plain": [
       "<IPython.core.display.HTML object>"
      ]
     },
     "metadata": {},
     "output_type": "display_data"
    },
    {
     "data": {
      "text/html": [
       " Financial regulation is driven by the interests of banks , health policy by the interests of insurance companies , and tax policy by the interests <span style=\"background-color:#DFFF00 \">of</span><span style=\"background-color:#DFFF00 \"> the</span><span style=\"background-color:#DFFF00 \"> general</span><span style=\"background-color:#DFFF00 \"> population</span> ."
      ],
      "text/plain": [
       "<IPython.core.display.HTML object>"
      ]
     },
     "metadata": {},
     "output_type": "display_data"
    },
    {
     "data": {
      "text/html": [
       " A regulação financeira é conduzida pelos interesses dos bancos , a política de saúde pelos interesses das companhias de seguros , e a política fiscal pelos interesses <span style=\"background-color:#DFFF00 \">dos</span><span style=\"background-color:#DFFF00 \"> ricos</span> ."
      ],
      "text/plain": [
       "<IPython.core.display.HTML object>"
      ]
     },
     "metadata": {},
     "output_type": "display_data"
    }
   ],
   "source": [
    "halluc_dif = defaultdict(list)\n",
    "for file_ in ['en_pt_ced_test_with_labels_missing_paired_phrases_reward_pos']:\n",
    "\n",
    "    with open(f'outputs/{file_}', 'r') as out_:\n",
    "        c = 0\n",
    "        lines = out_.readlines()\n",
    "        pop = len(lines)\n",
    "        sample = random.sample(range(0, len(lines)), len(lines))\n",
    "    \n",
    "        for id_, line in enumerate(lines):\n",
    "            \n",
    "            if id_==9:\n",
    "                continue\n",
    "            \n",
    "      \n",
    "            scores, score_color = [], []\n",
    "                \n",
    "            line = line.split('\\t')\n",
    "            try:\n",
    "                raw_a = np.array([float(x) for x in line[5].split(' ')])\n",
    "                raw_b = np.array([float(x) for x in line[6].split(' ')])\n",
    "            except IndexError:\n",
    "                continue\n",
    "                #print('Problem')\n",
    "\n",
    "            total+=1\n",
    "        \n",
    "            original_score = float(line[4])\n",
    "            revisions = int(line[5])\n",
    "            previous_score = original_score\n",
    "            expl_a = [0] * len(line[0].split(' '))\n",
    "            expl_b = [0] * len(line[1].split(' '))\n",
    "\n",
    "                    \n",
    "            score_color = '1'\n",
    "                    \n",
    "           \n",
    "            for i in range(revisions):                        \n",
    "                score = line[5 + 3*i + 1]               \n",
    "                #if float(score) - float(previous_score) < 5:\n",
    "                #if float(score) - float(previous_score) < 2 or original_score > 10:\n",
    "                #    break\n",
    "                if i == 0:\n",
    "                    bar = 1\n",
    "                else:\n",
    "                    bar = 1\n",
    "                if float(previous_score) > 10:\n",
    "                    break\n",
    "                if float(score) - float(previous_score) < bar or original_score > 10:\n",
    "                    break\n",
    "                else:\n",
    "                    #lbl='chatGPT_paraphrase'\n",
    "                    if i==0:\n",
    "                        a=1\n",
    "                        #count+=1\n",
    "                expl_a = add_lists(expl_a, [((i +1)*int(a)) for a in line[5 + 3*i + 2].split(' ')])\n",
    "                expl_b = add_lists(expl_b, [((i +1)*int(a)) for a in line[5 + 3*i + 3].split(' ')])\n",
    "    \n",
    "                previous_score = score\n",
    "                scores.append(str(score))\n",
    "                score_color += f' {str(i+2)}'\n",
    "                \n",
    "            final_scores.append(float(scores[-1]))\n",
    "            diff = float(scores[-1]) - float(original_score) \n",
    "\n",
    "                        \n",
    "            s_ = 0\n",
    "            if diff <=0: \n",
    "                if float(scores[0]) < 0:\n",
    "                    expl_a =  [1]*len(line[0])\n",
    "                    expl_b =  [1]*len(line[1])\n",
    "                #continue\n",
    "                \n",
    "            en_num = [int(i) for i in line[0].split() if i.isdigit()]\n",
    "            nen_num = [int(i) for i in line[1].split() if i.isdigit()]\n",
    "\n",
    "            print(f'____________________________________{id_}___________________________________________________')\n",
    "            \n",
    "            if lbl == 'BAD' or lbl=='1': \n",
    "                if ([a.isupper() for a in line[0]].count(True))/len(line[0]) > 0.5 or '� � ' in line[0]:\n",
    "                    halluci+=1\n",
    "                #continue\n",
    "                if set(en_num) != set(nen_num) and sum(expl_a)==0 and sum(expl_b)==0:\n",
    "                    print('Numeric difference!!')\n",
    "                    #print(en_num)\n",
    "                    #print(nen_num)\n",
    "                    explained+=1\n",
    "                    #continue\n",
    "                #print(nen_num)\n",
    "                bad+=1\n",
    "                if sum(expl_a) !=0:\n",
    "                    explained+=1\n",
    "                print(bcolors.FAIL + bcolors.BOLD + \"😤 😠 😡 🤬  DETACHED HALLUCINATION\" + bcolors.ENDC)\n",
    "                print(diff)\n",
    "            else:\n",
    "                if ([a.isupper() for a in line[0]].count(True))/len(line[0]) <= 0.5 or '� � ' not in line[0]:\n",
    "                    no_halluci+=1\n",
    "\n",
    "                if sum(expl_a) + sum(expl_b) ==0:\n",
    "                    no_highlights_ok+=1\n",
    "                #continue\n",
    "                print(bcolors.OKBLUE + bcolors.BOLD + \"🤓 OK\" + bcolors.ENDC)\n",
    "            \n",
    "            #print(c)\n",
    "\n",
    "            \n",
    "            display_HTML(' '.join(scores), ' '.join(score_color.split(' ')))            \n",
    "            diffs.append(diff)\n",
    "            count+=1\n",
    "            \n",
    "            _, source_text = display_HTML(line[0], ' '.join([str(x) for x in expl_a]), offset=True)\n",
    "            _, target_text = display_HTML(line[1], ' '.join([str(x) for x in expl_b]), offset=True) \n",
    "            \n",
    "                  \n",
    "            halluc_dif[id_].append([source_text, target_text])"
   ]
  },
  {
   "cell_type": "code",
   "execution_count": 20,
   "id": "65f1d5db",
   "metadata": {},
   "outputs": [
    {
     "data": {
      "text/plain": [
       "17"
      ]
     },
     "execution_count": 20,
     "metadata": {},
     "output_type": "execute_result"
    }
   ],
   "source": [
    "len(halluc)"
   ]
  },
  {
   "cell_type": "code",
   "execution_count": 19,
   "id": "e1e9fed1",
   "metadata": {},
   "outputs": [
    {
     "name": "stdout",
     "output_type": "stream",
     "text": [
      "\n",
      "------\n",
      "\n",
      "------\n"
     ]
    }
   ],
   "source": [
    "import os\n",
    "shift_o, shift_h, shift_n, shift_d = 0, 0, 0,0\n",
    "batches_num = 2\n",
    "for i in range(batches_num):\n",
    "    c = 0\n",
    "    print('\\n------')\n",
    "    dir_=f'gpt_lit_en_pt_ced_{i}'\n",
    "    os.makedirs(f'for_user_study/{dir_}', exist_ok=True)\n",
    "    meta_id, meta_lbl, out_src, out_tgt = f'for_user_study/{dir_}/meta_id', f'for_user_study/{dir_}/meta_lbl', f'for_user_study/{dir_}/src', f'for_user_study/{dir_}/tgt'\n",
    "\n",
    "    \n",
    "    original_items = original.items()\n",
    "    orig_chun = list(original_items)[shift_o:15 + shift_o]\n",
    "    \n",
    "    #original_neg_items = original_neg.items()\n",
    "    #orig_neg_chun = list(original_neg_items)[shift_o:5 + shift_o]\n",
    "    \n",
    "    halluc_items = halluc.items()\n",
    "    hal_chun = list(halluc_items)[shift_h : 5 + shift_h]\n",
    "\n",
    "    \n",
    "    halluc_diff_items = halluc_dif.items()\n",
    "    hal_diff_chun = list(halluc_diff_items)[shift_d : 5 + shift_d]\n",
    "    #print(hal_chun)\n",
    "    #print('\\n')\n",
    "    \n",
    "    shift_o += 15\n",
    "    #shift_n += 5\n",
    "    shift_h += 5\n",
    "    shift_d += 5\n",
    "    #continue\n",
    "    \n",
    "    merged_ = []\n",
    "    for item in hal_chun:\n",
    "        id_, src, tgt = item[0], item[1][0][0], item[1][0][1]\n",
    "        merged_.append(['ced', id_, src, tgt])\n",
    "        \n",
    "    for item in hal_diff_chun:\n",
    "        id_, src, tgt = item[0], item[1][0][0], item[1][0][1]\n",
    "        merged_.append(['ced_gpt', id_, src, tgt])\n",
    "        \n",
    "    #for item in orig_neg_chun:\n",
    "    #    id_, src, tgt = item[0], item[1][0][0], item[1][0][1]\n",
    "    #    merged_.append(['original_neg', id_, src, tgt])\n",
    "    \n",
    "    for item in orig_chun:\n",
    "        id_, src, tgt = item[0], item[1][0][0], item[1][0][1]\n",
    "        merged_.append(['original', id_, src, tgt])    \n",
    "        \n",
    "    #print(merged_)\n",
    "    \n",
    "        \n",
    "    for c, i in enumerate(merged_):\n",
    "        c+=1\n",
    "        id_, lbl, source_text, target_text = i[1], i[0], i[3], i[2]\n",
    "     \n",
    "        meta_id_file = open(f'{meta_id}_{c}.txt', 'w')\n",
    "        meta_lbl_file = open(f'{meta_lbl}_{c}.txt', 'w')\n",
    "        out_src_file = open(f'{out_src}_{c}.txt', 'w')\n",
    "        out_tgt_file = open(f'{out_tgt}_{c}.txt', 'w')\n",
    "\n",
    "        meta_id_file.write(f'{id_}')\n",
    "        meta_lbl_file.write(f'{lbl}')\n",
    "        out_src_file.write(f'{source_text}')\n",
    "        out_tgt_file.write(f'{target_text}')\n",
    "\n",
    "        meta_id_file.close()\n",
    "        meta_lbl_file.close()\n",
    "        out_src_file.close()\n",
    "        out_tgt_file.close()\n",
    "    "
   ]
  },
  {
   "cell_type": "code",
   "execution_count": 43,
   "id": "fd19f9d1",
   "metadata": {},
   "outputs": [
    {
     "data": {
      "text/plain": [
       "[['ced',\n",
       "  337,\n",
       "  ' <h-l-1>We have a mission and we have this issue already resolved to ensure</h-l-1> that at the least 30 % of those all <h-l-2>personnel</h-l-2> hired by the national government are women .',\n",
       "  ' <h-l-1>Já decidimos garantir</h-l-1> que pelo menos 30 % de todos os <h-l-2>trabalhadores</h-l-2> contratados pelo governo nacional são mulheres .'],\n",
       " ['ced',\n",
       "  351,\n",
       "  ' Western correspondents are aware of these risks <h-l-2>when</h-l-2> they travel abroad to <h-l-1>avoid</h-l-1> active war zones .',\n",
       "  ' Os correspondentes ocidentais estão conscientes destes riscos <h-l-2>, sempre</h-l-2> que viajam para o estrangeiro para <h-l-1>fazer a cobertura de</h-l-1> zonas de guerra em actividade .'],\n",
       " ['ced',\n",
       "  356,\n",
       "  ' In fact , I predict that 2018 will be a <h-l-1>breakout</h-l-1> year for many - though not all - Southeast Asian economies , owing to gains in eight key areas .',\n",
       "  ' Com efeito , prevejo que 2018 seja um ano <h-l-1>determinante</h-l-1> para muitas - embora não todas - economias Africanas , devido aos ganhos em oito áreas essenciais .'],\n",
       " ['ced',\n",
       "  360,\n",
       "  ' But the expectations of the emerging middle class - including <h-l-1>efficient infrastructure ,</h-l-1> and well-paid jobs - have not been <h-l-2>met</h-l-2> .',\n",
       "  ' Mas as expectativas da classe média emergente - incluindo <h-l-1>infra-estruturas eficazes , serviços de educação e de saúde de boa qualidade</h-l-1> e empregos bem remunerados - não foram <h-l-2>satisfeitas</h-l-2> .'],\n",
       " ['original_neg',\n",
       "  313,\n",
       "  \" And the reasons for her husband 's political disgrace remain murky <h-l-1>, to say the least</h-l-1> .\",\n",
       "  ' E as razões para a desgraça política do seu marido permanecem <h-l-1>, no mínimo ,</h-l-1> turvas .'],\n",
       " ['original_neg',\n",
       "  315,\n",
       "  ' Rightly or wrongly , Russia and China believe that <h-l-1>the time has come to take their revenge over an arrogant West that deceived them about</h-l-1> the true purpose of \" humanitarian intervention \" in Libya .',\n",
       "  ' Com ou sem razão , a Rússia e a China acreditam que <h-l-1>chegou o momento de se vingarem de um Ocidente arrogante que enganou estes dois países a respeito</h-l-1> do verdadeiro propósito da \" intervenção humanitária \" na Líbia .'],\n",
       " ['original_neg',\n",
       "  336,\n",
       "  ' When economic inequality translates into political inequality - as it has in large parts of the US - governments <h-l-1>pay little attention to the needs of those at the bottom</h-l-1> .',\n",
       "  ' Quando a desigualdade económica se traduz em desigualdade política - tal como tem acontecido em grandes partes dos EUA - os governos <h-l-1>prestam pouca atenção às necessidades dos mais desprotegidos</h-l-1> .'],\n",
       " ['original_neg',\n",
       "  343,\n",
       "  ' Many northern states , such as Bihar , have lagged in providing kitchens , storage facilities , and utensils .',\n",
       "  ' Muitos estados do norte , como o Bihar , ficaram <h-l-1>não são muito eficazes</h-l-1> em matéria de fornecimento de cozinhas , instalações para armazenamento e utensílios .'],\n",
       " ['original_neg',\n",
       "  349,\n",
       "  \" But as <h-l-1>Nobel laureate economist Joseph E. Stiglitz has warned ,</h-l-1> Africa cannot replicate East Asia 's manufacturing-led model , so the question is whether it can leverage modern services to achieve economic development .\",\n",
       "  ' Mas , como <h-l-1>advertiu o economista Joseph E. Stiglitz ,</h-l-1> África não conseguirá replicar o modelo representado pela industrialização do Leste Asiático , e por isso a questão é se conseguirá aproveitar os serviços modernos para atingir o desenvolvimento económico .'],\n",
       " ['original',\n",
       "  85,\n",
       "  ' To <h-l-2>complement</h-l-2> these technical efforts , the ACS is also training African health-care professionals how to carry out biopsies and <h-l-1>deliver</h-l-1> chemotherapy .',\n",
       "  ' Para <h-l-2>complementar</h-l-2> estes esforços técnicos , a ACS também está a dar formação a profissionais de cuidados de saúde africanos em realização de biópsias e <h-l-1>administração</h-l-1> de quimioterapia .'],\n",
       " ['original',\n",
       "  86,\n",
       "  ' Our increased interdependence suggests the need for greater international cooperation and coordination , and that is precisely what the EU offers .',\n",
       "  ' A nossa interdependência crescente sugere a necessidade de uma maior cooperação e coordenação internacional , e é isso precisamente o que a UE oferece .'],\n",
       " ['original',\n",
       "  87,\n",
       "  ' The question for us <h-l-1>is</h-l-1> what figures like these can tell us about the health of global finance today .',\n",
       "  ' A questão para nós <h-l-1>reside</h-l-1> em saber de que modo números como estes podem informar-nos sobre o estado de saúde actual das finanças globais .'],\n",
       " ['original',\n",
       "  88,\n",
       "  ' The issue of shrinking and closing spaces for civil society must be added to the <h-l-1>agenda of</h-l-1> national parliaments , multilateral organizations , and international negotiation processes .',\n",
       "  ' A questão da restrição ou encerramento dos espaços para a sociedade civil deve ser acrescentada à <h-l-1>ordem do dia dos</h-l-1> parlamentos nacionais , das organizações multilaterais e dos processos de negociação internacional .'],\n",
       " ['original',\n",
       "  90,\n",
       "  ' The fact is that every head of state , every government , and every citizen <h-l-1>has a responsibility</h-l-1> to ensure that we achieve the SDGs .',\n",
       "  ' A verdade é que cada chefe de estado , cada governo e cada cidadão <h-l-1>são responsáveis</h-l-1> por garantir que alcançamos os ODS .'],\n",
       " ['original',\n",
       "  94,\n",
       "  \" America 's current exchange-rate regime <h-l-1>is one</h-l-1> of floating rates - or at least of rates that can float .\",\n",
       "  ' O actual regime de taxas de câmbio da América <h-l-1>é um</h-l-1> regime de taxas variáveis - ou pelo menos de taxas que podem variar .'],\n",
       " ['original',\n",
       "  95,\n",
       "  ' <h-l-1>I continue to </h-l-1> <h-l-2>have</h-l-2> disagreements with Stiglitz on the record of policy advice , and with both Stiglitz and Farmer on some points of theory regarding secular stagnation .',\n",
       "  ' <h-l-1>Continuo a</h-l-1> discordar de Stiglitz quanto ao historial do aconselhamento de políticas , e <h-l-2>a discordar</h-l-2> de Stiglitz e Farmer quanto a alguns pontos da teoria referente à estagnação secular .'],\n",
       " ['original',\n",
       "  97,\n",
       "  \" As Poland 's first post-communist prime minister , Tadeusz Mazowiecki , laid out his government 's ground-breaking program , he wobbled and appeared to faint .\",\n",
       "  ' Quando o primeiro primeiro-ministro da Polónia pós-comunista , Tadeusz Mazowiecki , apresentava o inovador programa do seu governo , vacilou e pareceu desmaiar .'],\n",
       " ['original',\n",
       "  98,\n",
       "  ' Although China is involved in the most wide-ranging and intense disputes , the most tragic is that between South Korea and Japan , given that both countries are democracies with almost identical strategic interests .',\n",
       "  ' Embora a China esteja envolvida nas disputas mais generalizadas e intensas , a mais trágica é aquela entre a Coreia do Sul e o Japão , dado que ambos os países são democracias com interesses estratégicos quase idênticos .'],\n",
       " ['original',\n",
       "  101,\n",
       "  ' Far from being an \" apocalyptic fantasy , \" the WHO said , a post-antibiotic era \" is instead a very real possibility for the twenty-first century . \"',\n",
       "  ' Longe de ser \" uma fantasia apocalíptica \" , referiu a OMS , uma era do pós-antibiótico \" é , pelo contrário , uma possibilidade muito real para o século XXI \" .'],\n",
       " ['original',\n",
       "  106,\n",
       "  ' <h-l-1>A techno-polity also</h-l-1> recognizes the critical role of cooperation , strategic thinking , and adaptation .',\n",
       "  ' <h-l-1>O tecno-estado também</h-l-1> reconhece o papel crítico da cooperação , do pensamento estratégico , e da adaptação .'],\n",
       " ['original',\n",
       "  118,\n",
       "  \" Egypt 's newly democratic government would be more strictly accountable for fulfilling the treaty 's terms if it played an active role in establishing them .\",\n",
       "  ' O governo recém-democrata do Egipto seria mais estritamente responsável pelo cumprimento dos termos do tratado se tomasse um papel activo no seu estabelecimento .']]"
      ]
     },
     "execution_count": 43,
     "metadata": {},
     "output_type": "execute_result"
    }
   ],
   "source": [
    "merged_"
   ]
  },
  {
   "cell_type": "code",
   "execution_count": 7,
   "id": "a4d63854",
   "metadata": {},
   "outputs": [
    {
     "data": {
      "text/plain": [
       "[]"
      ]
     },
     "execution_count": 7,
     "metadata": {},
     "output_type": "execute_result"
    }
   ],
   "source": [
    "hal_chun"
   ]
  },
  {
   "cell_type": "code",
   "execution_count": 5,
   "id": "4d91e3bf",
   "metadata": {},
   "outputs": [
    {
     "data": {
      "text/plain": [
       "42"
      ]
     },
     "execution_count": 5,
     "metadata": {},
     "output_type": "execute_result"
    }
   ],
   "source": [
    "7 + 7 + 11"
   ]
  },
  {
   "cell_type": "code",
   "execution_count": 19,
   "id": "7471073e",
   "metadata": {},
   "outputs": [
    {
     "data": {
      "text/plain": [
       "0.4"
      ]
     },
     "execution_count": 19,
     "metadata": {},
     "output_type": "execute_result"
    }
   ],
   "source": [
    "10/25"
   ]
  },
  {
   "cell_type": "code",
   "execution_count": 20,
   "id": "476260a5",
   "metadata": {},
   "outputs": [
    {
     "data": {
      "text/plain": [
       "150"
      ]
     },
     "execution_count": 20,
     "metadata": {},
     "output_type": "execute_result"
    }
   ],
   "source": [
    "6*25 "
   ]
  },
  {
   "cell_type": "code",
   "execution_count": null,
   "id": "1d383c7c",
   "metadata": {},
   "outputs": [],
   "source": []
  }
 ],
 "metadata": {
  "kernelspec": {
   "display_name": "Python 3 (ipykernel)",
   "language": "python",
   "name": "python3"
  },
  "language_info": {
   "codemirror_mode": {
    "name": "ipython",
    "version": 3
   },
   "file_extension": ".py",
   "mimetype": "text/x-python",
   "name": "python",
   "nbconvert_exporter": "python",
   "pygments_lexer": "ipython3",
   "version": "3.9.13"
  }
 },
 "nbformat": 4,
 "nbformat_minor": 5
}
