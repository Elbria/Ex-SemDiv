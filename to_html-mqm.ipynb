{
 "cells": [
  {
   "cell_type": "code",
   "execution_count": 1,
   "id": "9dadd8d2",
   "metadata": {},
   "outputs": [],
   "source": [
    "from IPython.display import display, HTML\n",
    "import numpy as np\n",
    "import re\n",
    "div_to_color = {'0': '#FFFFFF',\n",
    "                '1': '#e0e0e0',\n",
    "                '2': '#DFFF00',\n",
    "                '3': '#9FE2BF',\n",
    "                '4': '#CCCCFF',\n",
    "                '5': '#FFE4E1',\n",
    "                '6': '#FF00FF',\n",
    "                '7': '#e3abfb',    \n",
    "                '8': '#FFBF00',\n",
    "                '9': '#BBBAFF',\n",
    "                '10': '#FFC2E2',\n",
    "                '11': '#F4FDB1',\n",
    "                '12': '#7C8BFF',\n",
    "                '13': '#95FFF7',\n",
    "                '14': '#FF5733',\n",
    "                '15': '#33FF4C',\n",
    "                '16': '#7733FF',\n",
    "                '17': '#B2FF33',\n",
    "                '18': '#33FF83', \n",
    "                '19': '#FF3371', \n",
    "                '20': '#33F3FF',\n",
    "                '21': '#8AFF33',\n",
    "                '22': '#33FFC1',\n",
    "                '23': '#AF33FF',\n",
    "                '24': '#FFD433',\n",
    "                '25': '#33ACFF',\n",
    "                '26': '#BDAACF',\n",
    "                '27': '#ACE6DA',\n",
    "                '28': '#CCCCFF',\n",
    "                '29': '#FFE4E1',\n",
    "                '30': '#FF00FF',\n",
    "                '31': '#e3abfb',    \n",
    "                '32': '#FFBF00',\n",
    "                '33': '#BBBAFF',\n",
    "}\n",
    "\n",
    "class bcolors:\n",
    "    HEADER = '\\033[95m'\n",
    "    OKBLUE = '\\033[94m'\n",
    "    OKCYAN = '\\033[96m'\n",
    "    OKGREEN = '\\033[92m'\n",
    "    WARNING = '\\033[93m'\n",
    "    FAIL = '\\033[91m'\n",
    "    ENDC = '\\033[0m'\n",
    "    BOLD = '\\033[1m'\n",
    "    UNDERLINE = '\\033[4m'\n",
    "\n",
    "\n",
    "def color_html(label):\n",
    "    return f'<span style=\"background-color:{div_to_color[label]} \">'\n",
    "\n",
    "def display_HTML(text, div, offset=False, one_color=False, red_chars=False):\n",
    "    displayed_text = ''\n",
    "    user_displayed_text = ''\n",
    "    previous = 'eq'\n",
    "    mark_end = '</span>'\n",
    "    previous_label = 0\n",
    "    for token, label in zip(text.split(' '), div.split(' ')):\n",
    "        #print(label)\n",
    "        if one_color:\n",
    "            if int(label) > 0:\n",
    "                label = '1'\n",
    "        if offset:\n",
    "            if label != '0':\n",
    "                label = str(int(label)  + 1)\n",
    "        mark = color_html(label)\n",
    "        if label == '0':\n",
    "            displayed_text += f' {token}'\n",
    "            if previous == 'div':\n",
    "                user_displayed_text += f'</h-l-{str(int(previous_label)-1)}> {token}'\n",
    "            else:\n",
    "                user_displayed_text += f' {token}'\n",
    "            previous = 'eq'\n",
    "        else:\n",
    "            if previous == 'div' and int(label)==previous_label:\n",
    "                displayed_text += f'{mark} {token}{mark_end}'\n",
    "                user_displayed_text += f' {token}'\n",
    "            else:\n",
    "                if int(label)!=previous_label and int(label) > 2 and previous_label!=0:\n",
    "                    user_displayed_text += f' </h-l-{str(int(label)-2)}>'\n",
    "                displayed_text += f' {mark}{token}{mark_end}'\n",
    "                user_displayed_text += f' <h-l-{str(int(label)-1)}>{token}'\n",
    "            previous = 'div'\n",
    "        previous_label = int(label)\n",
    "\n",
    "    if red_chars:\n",
    "        displayed_text = f'{bcolors.WARNING} {displayed_text} {bcolors.ENDC}'\n",
    "    \n",
    "    if previous == 'div':\n",
    "        user_displayed_text += f'</h-l-{str(int(previous_label)-1)}>'\n",
    "        \n",
    "        \n",
    "    return display(HTML(displayed_text)), user_displayed_text\n",
    "\n",
    "def add_lists(list_a, list_b):\n",
    "    #print(list_b)\n",
    "    #print(list_a)\n",
    "    #print('as')\n",
    "    list_add = []\n",
    "    for (a, b) in zip(list_a, list_b):\n",
    "        list_add.append(a+b)\n",
    "    return list_add"
   ]
  },
  {
   "cell_type": "code",
   "execution_count": 10,
   "id": "e325c61d",
   "metadata": {},
   "outputs": [],
   "source": [
    "import random\n",
    "from collections import defaultdict\n",
    "random.seed(41)\n",
    "\n",
    "lbls = open(f'outputs/mqm_generalMT2022_annos', 'r').readlines()\n",
    "diffs = []\n",
    "original_count = 0\n",
    "original_scores_ced = []\n",
    "gpt_count = 0\n",
    "bad_num, num_diff, total = 0, 0, 0\n",
    "text2severity = defaultdict(list)\n",
    "text2type = defaultdict(list)\n",
    "\n",
    "\n",
    "types_all = []\n",
    "for file_ in ['mqm_generalMT2022_en_de_missing_paired_phrases_reward']:\n",
    "\n",
    "    with open(f'outputs/{file_}', 'r') as out_:\n",
    "        c = 0\n",
    "        lines = out_.readlines()\n",
    "        for id_, txt in enumerate(lines):\n",
    "            \n",
    "            #print(txt)\n",
    "            type_, severity_ = lbls[id_].split('\\t')[0], lbls[id_].split('\\t')[1].rstrip()\n",
    "            if 'Accuracy' in type_ or 'No-error' in type_:\n",
    "               \n",
    "                if len(txt.split('\\t')[0].split(' ')) < 15:\n",
    "                    #print(txt.split('\\t')[0].split(' '))\n",
    "                    continue\n",
    "                if '< unk >' in txt.split('\\t')[1]:\n",
    "                    continue\n",
    "                types_all.append(type_)\n",
    "                text2severity[txt.rstrip()].append(severity_)\n",
    "                text2type[txt.rstrip()].append(type_)\n",
    "                #text2severity[txt.rstrip()].append(severity_)"
   ]
  },
  {
   "cell_type": "code",
   "execution_count": 11,
   "id": "5a8e79c9",
   "metadata": {},
   "outputs": [
    {
     "data": {
      "text/plain": [
       "27327"
      ]
     },
     "execution_count": 11,
     "metadata": {},
     "output_type": "execute_result"
    }
   ],
   "source": [
    "len(lbls)"
   ]
  },
  {
   "cell_type": "code",
   "execution_count": 12,
   "id": "82501247",
   "metadata": {},
   "outputs": [
    {
     "data": {
      "text/plain": [
       "27327"
      ]
     },
     "execution_count": 12,
     "metadata": {},
     "output_type": "execute_result"
    }
   ],
   "source": [
    "len(lines)"
   ]
  },
  {
   "cell_type": "code",
   "execution_count": 13,
   "id": "77cccbf2",
   "metadata": {},
   "outputs": [
    {
     "data": {
      "text/plain": [
       "6880"
      ]
     },
     "execution_count": 13,
     "metadata": {},
     "output_type": "execute_result"
    }
   ],
   "source": [
    "len(text2severity)"
   ]
  },
  {
   "cell_type": "code",
   "execution_count": 14,
   "id": "8ceea049",
   "metadata": {},
   "outputs": [],
   "source": [
    "def most_frequent(List):\n",
    "    return max(set(List), key = List.count)\n",
    "\n",
    "text2severity_average = defaultdict(str)\n",
    "for t, a in text2severity.items():\n",
    "    if len(a) < 3:\n",
    "        continue\n",
    "    if 'No-error' in a and 'major' in a:\n",
    "        continue\n",
    "    text2severity_average[t] = most_frequent(a)"
   ]
  },
  {
   "cell_type": "code",
   "execution_count": 47,
   "id": "9212c8c6",
   "metadata": {},
   "outputs": [
    {
     "name": "stdout",
     "output_type": "stream",
     "text": [
      "____________________________________0___________________________________________________\n",
      "['No-error', 'No-error', 'No-error', 'No-error', 'No-error', 'No-error', 'No-error', 'No-error', 'No-error']\n",
      "\u001b[94m\u001b[1m🤓 OK\u001b[0m\n",
      "0.0\n"
     ]
    },
    {
     "data": {
      "text/html": [
       " <span style=\"background-color:#e0e0e0 \">13.43046</span>"
      ],
      "text/plain": [
       "<IPython.core.display.HTML object>"
      ]
     },
     "metadata": {},
     "output_type": "display_data"
    },
    {
     "data": {
      "text/html": [
       " Since we have been in discussion with the Greeks , the American offer is no longer on the table ..."
      ],
      "text/plain": [
       "<IPython.core.display.HTML object>"
      ]
     },
     "metadata": {},
     "output_type": "display_data"
    },
    {
     "data": {
      "text/html": [
       " Seit wir mit den Griechen im Gespräch sind , liegt das amerikanische Angebot nicht mehr auf dem Tisch ..."
      ],
      "text/plain": [
       "<IPython.core.display.HTML object>"
      ]
     },
     "metadata": {},
     "output_type": "display_data"
    },
    {
     "name": "stdout",
     "output_type": "stream",
     "text": [
      "____________________________________1___________________________________________________\n",
      "['No-error', 'No-error', 'No-error', 'No-error', 'No-error', 'No-error', 'No-error']\n",
      "\u001b[94m\u001b[1m🤓 OK\u001b[0m\n",
      "0.0\n"
     ]
    },
    {
     "data": {
      "text/html": [
       " <span style=\"background-color:#e0e0e0 \">12.774406</span>"
      ],
      "text/plain": [
       "<IPython.core.display.HTML object>"
      ]
     },
     "metadata": {},
     "output_type": "display_data"
    },
    {
     "data": {
      "text/html": [
       " The vast majority of my family and friends who knew me before treat me the same and are SO ."
      ],
      "text/plain": [
       "<IPython.core.display.HTML object>"
      ]
     },
     "metadata": {},
     "output_type": "display_data"
    },
    {
     "data": {
      "text/html": [
       " Die überwiegende Mehrheit meiner Familie und Freunde , die mich vorher kannten , behandeln mich genauso und sind SO ."
      ],
      "text/plain": [
       "<IPython.core.display.HTML object>"
      ]
     },
     "metadata": {},
     "output_type": "display_data"
    },
    {
     "name": "stdout",
     "output_type": "stream",
     "text": [
      "____________________________________2___________________________________________________\n",
      "['No-error', 'No-error', 'No-error', 'No-error']\n",
      "\u001b[94m\u001b[1m🤓 OK\u001b[0m\n",
      "0.0\n"
     ]
    },
    {
     "data": {
      "text/html": [
       " <span style=\"background-color:#e0e0e0 \">13.64267</span>"
      ],
      "text/plain": [
       "<IPython.core.display.HTML object>"
      ]
     },
     "metadata": {},
     "output_type": "display_data"
    },
    {
     "data": {
      "text/html": [
       " Our teams of security experts are constantly analyzing new threats and devising new ways to protect your devices from them ."
      ],
      "text/plain": [
       "<IPython.core.display.HTML object>"
      ]
     },
     "metadata": {},
     "output_type": "display_data"
    },
    {
     "data": {
      "text/html": [
       " Unsere Teams von Sicherheitsexperten analysieren ständig neue Bedrohungen und entwickeln neue Wege , um Ihre Geräte vor ihnen zu schützen ."
      ],
      "text/plain": [
       "<IPython.core.display.HTML object>"
      ]
     },
     "metadata": {},
     "output_type": "display_data"
    },
    {
     "name": "stdout",
     "output_type": "stream",
     "text": [
      "____________________________________3___________________________________________________\n",
      "['No-error', 'No-error', 'No-error', 'No-error', 'No-error']\n",
      "\u001b[94m\u001b[1m🤓 OK\u001b[0m\n",
      "0.0\n"
     ]
    },
    {
     "data": {
      "text/html": [
       " <span style=\"background-color:#e0e0e0 \">13.798517</span>"
      ],
      "text/plain": [
       "<IPython.core.display.HTML object>"
      ]
     },
     "metadata": {},
     "output_type": "display_data"
    },
    {
     "data": {
      "text/html": [
       " The finalized contracts are allegedly expected to be ratified by the Greek Parliament \" soon . \""
      ],
      "text/plain": [
       "<IPython.core.display.HTML object>"
      ]
     },
     "metadata": {},
     "output_type": "display_data"
    },
    {
     "data": {
      "text/html": [
       " Die abgeschlossenen Verträge sollen angeblich \" bald \" vom griechischen Parlament ratifiziert werden ."
      ],
      "text/plain": [
       "<IPython.core.display.HTML object>"
      ]
     },
     "metadata": {},
     "output_type": "display_data"
    },
    {
     "name": "stdout",
     "output_type": "stream",
     "text": [
      "____________________________________4___________________________________________________\n",
      "['No-error', 'No-error', 'No-error', 'No-error']\n",
      "\u001b[94m\u001b[1m🤓 OK\u001b[0m\n",
      "0.0\n"
     ]
    },
    {
     "data": {
      "text/html": [
       " <span style=\"background-color:#e0e0e0 \">13.367724</span>"
      ],
      "text/plain": [
       "<IPython.core.display.HTML object>"
      ]
     },
     "metadata": {},
     "output_type": "display_data"
    },
    {
     "data": {
      "text/html": [
       " Germany 's new chancellor , Olaf Scholz came to Warsaw Sunday for talks with Polish Prime Minister Mateusz Morawiecki about migration , energy , European Union matters and tensions east of the bloc 's border ."
      ],
      "text/plain": [
       "<IPython.core.display.HTML object>"
      ]
     },
     "metadata": {},
     "output_type": "display_data"
    },
    {
     "data": {
      "text/html": [
       " Deutschlands neuer Bundeskanzler Olaf Scholz kam am Sonntag nach Warschau , um mit dem polnischen Ministerpräsidenten Mateusz Morawiecki über Migration , Energie , Angelegenheiten der Europäischen Union und Spannungen östlich der Blockgrenze zu sprechen ."
      ],
      "text/plain": [
       "<IPython.core.display.HTML object>"
      ]
     },
     "metadata": {},
     "output_type": "display_data"
    },
    {
     "name": "stdout",
     "output_type": "stream",
     "text": [
      "____________________________________5___________________________________________________\n",
      "['No-error', 'No-error', 'No-error', 'No-error', 'No-error']\n",
      "\u001b[94m\u001b[1m🤓 OK\u001b[0m\n",
      "3.545938999999999\n"
     ]
    },
    {
     "data": {
      "text/html": [
       " <span style=\"background-color:#e0e0e0 \">8.353049</span> <span style=\"background-color:#DFFF00 \">11.898988</span>"
      ],
      "text/plain": [
       "<IPython.core.display.HTML object>"
      ]
     },
     "metadata": {},
     "output_type": "display_data"
    },
    {
     "data": {
      "text/html": [
       " He was greeted by Morawiecki , with military honors <span style=\"background-color:#DFFF00 \">,</span><span style=\"background-color:#DFFF00 \"> in</span><span style=\"background-color:#DFFF00 \"> front</span><span style=\"background-color:#DFFF00 \"> of</span><span style=\"background-color:#DFFF00 \"> the</span><span style=\"background-color:#DFFF00 \"> Polish</span><span style=\"background-color:#DFFF00 \"> premier</span><span style=\"background-color:#DFFF00 \"> 's</span><span style=\"background-color:#DFFF00 \"> office</span> ."
      ],
      "text/plain": [
       "<IPython.core.display.HTML object>"
      ]
     },
     "metadata": {},
     "output_type": "display_data"
    },
    {
     "data": {
      "text/html": [
       " Er wurde von Morawiecki mit militärischen Ehren <span style=\"background-color:#DFFF00 \">vor</span><span style=\"background-color:#DFFF00 \"> dem</span><span style=\"background-color:#DFFF00 \"> Büro</span><span style=\"background-color:#DFFF00 \"> des</span><span style=\"background-color:#DFFF00 \"> polnischen</span><span style=\"background-color:#DFFF00 \"> Ministerpräsidenten</span> begrüßt ."
      ],
      "text/plain": [
       "<IPython.core.display.HTML object>"
      ]
     },
     "metadata": {},
     "output_type": "display_data"
    },
    {
     "name": "stdout",
     "output_type": "stream",
     "text": [
      "____________________________________6___________________________________________________\n",
      "['No-error', 'No-error', 'No-error', 'No-error']\n",
      "\u001b[94m\u001b[1m🤓 OK\u001b[0m\n",
      "0.0\n"
     ]
    },
    {
     "data": {
      "text/html": [
       " <span style=\"background-color:#e0e0e0 \">11.631323</span>"
      ],
      "text/plain": [
       "<IPython.core.display.HTML object>"
      ]
     },
     "metadata": {},
     "output_type": "display_data"
    },
    {
     "data": {
      "text/html": [
       " Germany 's regulator has suspended the approval procedure for the completed pipeline because of legal issues ."
      ],
      "text/plain": [
       "<IPython.core.display.HTML object>"
      ]
     },
     "metadata": {},
     "output_type": "display_data"
    },
    {
     "data": {
      "text/html": [
       " Die deutsche Regulierungsbehörde hat das Genehmigungsverfahren für die fertiggestellte Pipeline aus rechtlichen Gründen ausgesetzt ."
      ],
      "text/plain": [
       "<IPython.core.display.HTML object>"
      ]
     },
     "metadata": {},
     "output_type": "display_data"
    },
    {
     "name": "stdout",
     "output_type": "stream",
     "text": [
      "____________________________________7___________________________________________________\n",
      "['No-error', 'No-error', 'No-error', 'No-error', 'No-error']\n",
      "\u001b[94m\u001b[1m🤓 OK\u001b[0m\n",
      "3.6402100000000006\n"
     ]
    },
    {
     "data": {
      "text/html": [
       " <span style=\"background-color:#e0e0e0 \">5.963496</span> <span style=\"background-color:#DFFF00 \">9.603706</span>"
      ],
      "text/plain": [
       "<IPython.core.display.HTML object>"
      ]
     },
     "metadata": {},
     "output_type": "display_data"
    },
    {
     "data": {
      "text/html": [
       " Dive into an immersive story encased in Black Desert 's <span style=\"background-color:#DFFF00 \">expansive</span> world that 's just waiting to be explored ."
      ],
      "text/plain": [
       "<IPython.core.display.HTML object>"
      ]
     },
     "metadata": {},
     "output_type": "display_data"
    },
    {
     "data": {
      "text/html": [
       " Tauchen Sie ein in eine fesselnde Geschichte in der <span style=\"background-color:#DFFF00 \">weitläufigen</span> Welt von Black Desert , die nur darauf wartet , erkundet zu werden ."
      ],
      "text/plain": [
       "<IPython.core.display.HTML object>"
      ]
     },
     "metadata": {},
     "output_type": "display_data"
    },
    {
     "name": "stdout",
     "output_type": "stream",
     "text": [
      "____________________________________8___________________________________________________\n",
      "['major', 'major', 'major']\n",
      "['Accuracy/Mistranslation', 'Accuracy/Mistranslation', 'Accuracy/Mistranslation']\n",
      "\u001b[91m\u001b[1m🤬  Major\u001b[0m\n",
      "6.436983560000001\n"
     ]
    },
    {
     "data": {
      "text/html": [
       " <span style=\"background-color:#e0e0e0 \">-0.48228496</span> <span style=\"background-color:#DFFF00 \">3.7867897</span> <span style=\"background-color:#9FE2BF \">5.9546986</span>"
      ],
      "text/plain": [
       "<IPython.core.display.HTML object>"
      ]
     },
     "metadata": {},
     "output_type": "display_data"
    },
    {
     "data": {
      "text/html": [
       " Before I can even get on my walkie to ask someone for sure <span style=\"background-color:#DFFF00 \">,</span> she storms off ."
      ],
      "text/plain": [
       "<IPython.core.display.HTML object>"
      ]
     },
     "metadata": {},
     "output_type": "display_data"
    },
    {
     "data": {
      "text/html": [
       " Bevor ich überhaupt auf mein Walkie steigen kann <span style=\"background-color:#9FE2BF \">,</span><span style=\"background-color:#9FE2BF \"> um</span> jemanden sicher zu fragen <span style=\"background-color:#DFFF00 \">,</span> stürmt sie davon ."
      ],
      "text/plain": [
       "<IPython.core.display.HTML object>"
      ]
     },
     "metadata": {},
     "output_type": "display_data"
    },
    {
     "name": "stdout",
     "output_type": "stream",
     "text": [
      "____________________________________9___________________________________________________\n",
      "['No-error', 'No-error', 'No-error', 'No-error']\n",
      "\u001b[94m\u001b[1m🤓 OK\u001b[0m\n",
      "0.0\n"
     ]
    },
    {
     "data": {
      "text/html": [
       " <span style=\"background-color:#e0e0e0 \">13.775912</span>"
      ],
      "text/plain": [
       "<IPython.core.display.HTML object>"
      ]
     },
     "metadata": {},
     "output_type": "display_data"
    },
    {
     "data": {
      "text/html": [
       " Greece 's Defense Ministry also confirmed that the deal with Paris was \" final , \" since it had been negotiated at the \" highest level possible \" and \" personally announced \" by the Greek PM Kyriakos Mitsotakis ."
      ],
      "text/plain": [
       "<IPython.core.display.HTML object>"
      ]
     },
     "metadata": {},
     "output_type": "display_data"
    },
    {
     "data": {
      "text/html": [
       " Das griechische Verteidigungsministerium bestätigte auch , dass der Deal mit Paris \" endgültig \" sei , da er auf \" höchstmöglicher Ebene \" ausgehandelt und vom griechischen Premierminister Kyriakos Mitsotakis \" persönlich angekündigt \" worden sei ."
      ],
      "text/plain": [
       "<IPython.core.display.HTML object>"
      ]
     },
     "metadata": {},
     "output_type": "display_data"
    },
    {
     "name": "stdout",
     "output_type": "stream",
     "text": [
      "____________________________________10___________________________________________________\n",
      "['No-error', 'No-error', 'No-error']\n",
      "\u001b[94m\u001b[1m🤓 OK\u001b[0m\n",
      "0.0\n"
     ]
    },
    {
     "data": {
      "text/html": [
       " <span style=\"background-color:#e0e0e0 \">7.9967012</span>"
      ],
      "text/plain": [
       "<IPython.core.display.HTML object>"
      ]
     },
     "metadata": {},
     "output_type": "display_data"
    },
    {
     "data": {
      "text/html": [
       " The technology development has been currently completed , and it is expected to take time for commercialization ."
      ],
      "text/plain": [
       "<IPython.core.display.HTML object>"
      ]
     },
     "metadata": {},
     "output_type": "display_data"
    },
    {
     "data": {
      "text/html": [
       " Die Technologieentwicklung ist derzeit abgeschlossen und es wird erwartet , dass die Kommerzialisierung einige Zeit in Anspruch nehmen wird ."
      ],
      "text/plain": [
       "<IPython.core.display.HTML object>"
      ]
     },
     "metadata": {},
     "output_type": "display_data"
    },
    {
     "name": "stdout",
     "output_type": "stream",
     "text": [
      "____________________________________11___________________________________________________\n",
      "['No-error', 'No-error', 'No-error']\n",
      "\u001b[94m\u001b[1m🤓 OK\u001b[0m\n",
      "0.0\n"
     ]
    },
    {
     "data": {
      "text/html": [
       " <span style=\"background-color:#e0e0e0 \">13.457948</span>"
      ],
      "text/plain": [
       "<IPython.core.display.HTML object>"
      ]
     },
     "metadata": {},
     "output_type": "display_data"
    },
    {
     "data": {
      "text/html": [
       " Erectile dysfunction can be emotionally and financially demanding , which is why Encore provides one of the most affordable penis pumps available on the market ."
      ],
      "text/plain": [
       "<IPython.core.display.HTML object>"
      ]
     },
     "metadata": {},
     "output_type": "display_data"
    },
    {
     "data": {
      "text/html": [
       " Erektile Dysfunktion kann emotional und finanziell anspruchsvoll sein , weshalb Encore eine der günstigsten Penispumpen auf dem Markt anbietet ."
      ],
      "text/plain": [
       "<IPython.core.display.HTML object>"
      ]
     },
     "metadata": {},
     "output_type": "display_data"
    },
    {
     "name": "stdout",
     "output_type": "stream",
     "text": [
      "____________________________________12___________________________________________________\n",
      "['No-error', 'No-error', 'No-error', 'No-error', 'No-error', 'No-error', 'No-error', 'No-error']\n",
      "\u001b[94m\u001b[1m🤓 OK\u001b[0m\n",
      "0.0\n"
     ]
    },
    {
     "data": {
      "text/html": [
       " <span style=\"background-color:#e0e0e0 \">10.609439</span>"
      ],
      "text/plain": [
       "<IPython.core.display.HTML object>"
      ]
     },
     "metadata": {},
     "output_type": "display_data"
    },
    {
     "data": {
      "text/html": [
       " After a little practice , vacuum therapy with this system becomes easy and comfortable ."
      ],
      "text/plain": [
       "<IPython.core.display.HTML object>"
      ]
     },
     "metadata": {},
     "output_type": "display_data"
    },
    {
     "data": {
      "text/html": [
       " Nach ein wenig Übung wird die Vakuumtherapie mit diesem System einfach und komfortabel ."
      ],
      "text/plain": [
       "<IPython.core.display.HTML object>"
      ]
     },
     "metadata": {},
     "output_type": "display_data"
    },
    {
     "name": "stdout",
     "output_type": "stream",
     "text": [
      "____________________________________13___________________________________________________\n",
      "['No-error', 'No-error', 'No-error', 'No-error', 'No-error', 'No-error', 'No-error', 'No-error', 'No-error']\n",
      "\u001b[94m\u001b[1m🤓 OK\u001b[0m\n",
      "0.0\n"
     ]
    },
    {
     "data": {
      "text/html": [
       " <span style=\"background-color:#e0e0e0 \">10.1496725</span>"
      ],
      "text/plain": [
       "<IPython.core.display.HTML object>"
      ]
     },
     "metadata": {},
     "output_type": "display_data"
    },
    {
     "data": {
      "text/html": [
       " In addition , VVI includes several additional items in this kit that makes the process fast and user-friendly ."
      ],
      "text/plain": [
       "<IPython.core.display.HTML object>"
      ]
     },
     "metadata": {},
     "output_type": "display_data"
    },
    {
     "data": {
      "text/html": [
       " Darüber hinaus enthält VVI mehrere zusätzliche Elemente in diesem Kit , die den Prozess schnell und benutzerfreundlich machen ."
      ],
      "text/plain": [
       "<IPython.core.display.HTML object>"
      ]
     },
     "metadata": {},
     "output_type": "display_data"
    },
    {
     "name": "stdout",
     "output_type": "stream",
     "text": [
      "____________________________________14___________________________________________________\n",
      "['No-error', 'No-error', 'No-error', 'No-error']\n",
      "\u001b[94m\u001b[1m🤓 OK\u001b[0m\n",
      "0.0\n"
     ]
    },
    {
     "data": {
      "text/html": [
       " <span style=\"background-color:#e0e0e0 \">13.594588</span>"
      ],
      "text/plain": [
       "<IPython.core.display.HTML object>"
      ]
     },
     "metadata": {},
     "output_type": "display_data"
    },
    {
     "data": {
      "text/html": [
       " The * * Enterprise-D * * of * The Next Generation * had * * three * * shuttlebays ."
      ],
      "text/plain": [
       "<IPython.core.display.HTML object>"
      ]
     },
     "metadata": {},
     "output_type": "display_data"
    },
    {
     "data": {
      "text/html": [
       " Die * * Enterprise-D * * von * The Next Generation * hatte * * drei * * Shuttlebays ."
      ],
      "text/plain": [
       "<IPython.core.display.HTML object>"
      ]
     },
     "metadata": {},
     "output_type": "display_data"
    },
    {
     "name": "stdout",
     "output_type": "stream",
     "text": [
      "____________________________________15___________________________________________________\n",
      "['major', 'major', 'major']\n",
      "['Accuracy/Mistranslation', 'Accuracy/Mistranslation', 'Accuracy/Mistranslation']\n",
      "\u001b[91m\u001b[1m🤬  Major\u001b[0m\n",
      "6.23099597\n"
     ]
    },
    {
     "data": {
      "text/html": [
       " <span style=\"background-color:#e0e0e0 \">0.19968143</span> <span style=\"background-color:#DFFF00 \">3.6906335</span> <span style=\"background-color:#9FE2BF \">6.4306774</span>"
      ],
      "text/plain": [
       "<IPython.core.display.HTML object>"
      ]
     },
     "metadata": {},
     "output_type": "display_data"
    },
    {
     "data": {
      "text/html": [
       " Before I can even get on my walkie to ask someone for sure <span style=\"background-color:#DFFF00 \">,</span> she storms off ."
      ],
      "text/plain": [
       "<IPython.core.display.HTML object>"
      ]
     },
     "metadata": {},
     "output_type": "display_data"
    },
    {
     "data": {
      "text/html": [
       " Bevor ich überhaupt auf meinen Walkie steigen kann <span style=\"background-color:#9FE2BF \">,</span><span style=\"background-color:#9FE2BF \"> um</span> jemanden sicher zu fragen <span style=\"background-color:#DFFF00 \">,</span> stürmt sie davon ."
      ],
      "text/plain": [
       "<IPython.core.display.HTML object>"
      ]
     },
     "metadata": {},
     "output_type": "display_data"
    },
    {
     "name": "stdout",
     "output_type": "stream",
     "text": [
      "____________________________________16___________________________________________________\n",
      "['No-error', 'No-error', 'No-error']\n",
      "\u001b[94m\u001b[1m🤓 OK\u001b[0m\n",
      "1.2073766\n"
     ]
    },
    {
     "data": {
      "text/html": [
       " <span style=\"background-color:#e0e0e0 \">6.7030644</span> <span style=\"background-color:#DFFF00 \">7.910441</span>"
      ],
      "text/plain": [
       "<IPython.core.display.HTML object>"
      ]
     },
     "metadata": {},
     "output_type": "display_data"
    },
    {
     "data": {
      "text/html": [
       " Adjust margins : Drag the slider <span style=\"background-color:#DFFF00 \">beside</span><span style=\"background-color:#DFFF00 \"> Margins</span> to make the margins bigger or smaller ."
      ],
      "text/plain": [
       "<IPython.core.display.HTML object>"
      ]
     },
     "metadata": {},
     "output_type": "display_data"
    },
    {
     "data": {
      "text/html": [
       " Ränder anpassen : Ziehen Sie den Schieberegler <span style=\"background-color:#DFFF00 \">neben</span><span style=\"background-color:#DFFF00 \"> Ränder</span> , um die Ränder größer oder kleiner zu machen ."
      ],
      "text/plain": [
       "<IPython.core.display.HTML object>"
      ]
     },
     "metadata": {},
     "output_type": "display_data"
    },
    {
     "name": "stdout",
     "output_type": "stream",
     "text": [
      "____________________________________17___________________________________________________\n",
      "['No-error', 'No-error', 'No-error', 'No-error', 'No-error', 'No-error']\n",
      "\u001b[94m\u001b[1m🤓 OK\u001b[0m\n",
      "0.0\n"
     ]
    },
    {
     "data": {
      "text/html": [
       " <span style=\"background-color:#e0e0e0 \">12.024889</span>"
      ],
      "text/plain": [
       "<IPython.core.display.HTML object>"
      ]
     },
     "metadata": {},
     "output_type": "display_data"
    },
    {
     "data": {
      "text/html": [
       " Unique Weather and Climate - The weather and climate will have various effects on different zones that players can adapt to ."
      ],
      "text/plain": [
       "<IPython.core.display.HTML object>"
      ]
     },
     "metadata": {},
     "output_type": "display_data"
    },
    {
     "data": {
      "text/html": [
       " Einzigartiges Wetter und Klima - Das Wetter und das Klima haben verschiedene Auswirkungen auf verschiedene Zonen , an die sich die Spieler anpassen können ."
      ],
      "text/plain": [
       "<IPython.core.display.HTML object>"
      ]
     },
     "metadata": {},
     "output_type": "display_data"
    },
    {
     "name": "stdout",
     "output_type": "stream",
     "text": [
      "____________________________________18___________________________________________________\n",
      "['No-error', 'No-error', 'No-error']\n",
      "\u001b[94m\u001b[1m🤓 OK\u001b[0m\n",
      "0.0\n"
     ]
    },
    {
     "data": {
      "text/html": [
       " <span style=\"background-color:#e0e0e0 \">13.009757</span>"
      ],
      "text/plain": [
       "<IPython.core.display.HTML object>"
      ]
     },
     "metadata": {},
     "output_type": "display_data"
    },
    {
     "data": {
      "text/html": [
       " On the show , we always see Shuttlebays 2 and 3 on decks 12 and 13 ."
      ],
      "text/plain": [
       "<IPython.core.display.HTML object>"
      ]
     },
     "metadata": {},
     "output_type": "display_data"
    },
    {
     "data": {
      "text/html": [
       " In der Show sehen wir immer die Shuttlebays 2 und 3 auf den Decks 12 und 13."
      ],
      "text/plain": [
       "<IPython.core.display.HTML object>"
      ]
     },
     "metadata": {},
     "output_type": "display_data"
    },
    {
     "name": "stdout",
     "output_type": "stream",
     "text": [
      "____________________________________19___________________________________________________\n",
      "['No-error', 'No-error', 'No-error']\n",
      "\u001b[94m\u001b[1m🤓 OK\u001b[0m\n",
      "0.0\n"
     ]
    },
    {
     "data": {
      "text/html": [
       " <span style=\"background-color:#e0e0e0 \">11.043394</span>"
      ],
      "text/plain": [
       "<IPython.core.display.HTML object>"
      ]
     },
     "metadata": {},
     "output_type": "display_data"
    },
    {
     "data": {
      "text/html": [
       " I 've ordered a replacement item for you , this is scheduled to dispatch on February 19 ."
      ],
      "text/plain": [
       "<IPython.core.display.HTML object>"
      ]
     },
     "metadata": {},
     "output_type": "display_data"
    },
    {
     "data": {
      "text/html": [
       " Ich habe einen Ersatzartikel für Sie bestellt , dieser wird voraussichtlich am 19. Februar versandt ."
      ],
      "text/plain": [
       "<IPython.core.display.HTML object>"
      ]
     },
     "metadata": {},
     "output_type": "display_data"
    },
    {
     "name": "stdout",
     "output_type": "stream",
     "text": [
      "____________________________________20___________________________________________________\n",
      "['No-error', 'No-error', 'No-error']\n",
      "\u001b[94m\u001b[1m🤓 OK\u001b[0m\n",
      "0.0\n"
     ]
    },
    {
     "data": {
      "text/html": [
       " <span style=\"background-color:#e0e0e0 \">12.01024</span>"
      ],
      "text/plain": [
       "<IPython.core.display.HTML object>"
      ]
     },
     "metadata": {},
     "output_type": "display_data"
    },
    {
     "data": {
      "text/html": [
       " It was one of Scholz 's early visits after he was sworn in with his coalition Cabinet on Wednesday ."
      ],
      "text/plain": [
       "<IPython.core.display.HTML object>"
      ]
     },
     "metadata": {},
     "output_type": "display_data"
    },
    {
     "data": {
      "text/html": [
       " Es war einer von Scholz ' frühen Besuchen , nachdem er am Mittwoch mit seinem Koalitionskabinett vereidigt worden war ."
      ],
      "text/plain": [
       "<IPython.core.display.HTML object>"
      ]
     },
     "metadata": {},
     "output_type": "display_data"
    },
    {
     "name": "stdout",
     "output_type": "stream",
     "text": [
      "____________________________________21___________________________________________________\n",
      "['No-error', 'No-error', 'No-error', 'No-error']\n",
      "\u001b[94m\u001b[1m🤓 OK\u001b[0m\n",
      "7.4436831\n"
     ]
    },
    {
     "data": {
      "text/html": [
       " <span style=\"background-color:#e0e0e0 \">5.3007894</span> <span style=\"background-color:#DFFF00 \">12.7444725</span>"
      ],
      "text/plain": [
       "<IPython.core.display.HTML object>"
      ]
     },
     "metadata": {},
     "output_type": "display_data"
    },
    {
     "data": {
      "text/html": [
       " To repair your <span style=\"background-color:#DFFF00 \">account</span><span style=\"background-color:#DFFF00 \"> on</span> the # PRS _ ORG # app , please follow the steps indicated below :"
      ],
      "text/plain": [
       "<IPython.core.display.HTML object>"
      ]
     },
     "metadata": {},
     "output_type": "display_data"
    },
    {
     "data": {
      "text/html": [
       " Um Ihr <span style=\"background-color:#DFFF00 \">Konto</span><span style=\"background-color:#DFFF00 \"> in</span> der # PRS _ ORG # -App zu reparieren , folgen Sie bitte den unten angegebenen Schritten :"
      ],
      "text/plain": [
       "<IPython.core.display.HTML object>"
      ]
     },
     "metadata": {},
     "output_type": "display_data"
    },
    {
     "name": "stdout",
     "output_type": "stream",
     "text": [
      "____________________________________22___________________________________________________\n",
      "['No-error', 'No-error', 'No-error', 'No-error', 'No-error']\n",
      "\u001b[94m\u001b[1m🤓 OK\u001b[0m\n",
      "0.0\n"
     ]
    },
    {
     "data": {
      "text/html": [
       " <span style=\"background-color:#e0e0e0 \">12.436215</span>"
      ],
      "text/plain": [
       "<IPython.core.display.HTML object>"
      ]
     },
     "metadata": {},
     "output_type": "display_data"
    },
    {
     "data": {
      "text/html": [
       " I think it 's possible ( but I don 't know ) they were telling them it wasn 't safe to drive ."
      ],
      "text/plain": [
       "<IPython.core.display.HTML object>"
      ]
     },
     "metadata": {},
     "output_type": "display_data"
    },
    {
     "data": {
      "text/html": [
       " Ich denke , es ist möglich ( aber ich weiß es nicht ) , dass sie ihnen sagten , es sei nicht sicher zu fahren ."
      ],
      "text/plain": [
       "<IPython.core.display.HTML object>"
      ]
     },
     "metadata": {},
     "output_type": "display_data"
    },
    {
     "name": "stdout",
     "output_type": "stream",
     "text": [
      "____________________________________23___________________________________________________\n",
      "['No-error', 'No-error', 'No-error', 'No-error', 'No-error', 'No-error', 'No-error', 'No-error', 'No-error', 'No-error']\n",
      "\u001b[94m\u001b[1m🤓 OK\u001b[0m\n",
      "0.0\n"
     ]
    },
    {
     "data": {
      "text/html": [
       " <span style=\"background-color:#e0e0e0 \">12.634221</span>"
      ],
      "text/plain": [
       "<IPython.core.display.HTML object>"
      ]
     },
     "metadata": {},
     "output_type": "display_data"
    },
    {
     "data": {
      "text/html": [
       " If you 're reading a PDF , you can 't change the size or style of the text ."
      ],
      "text/plain": [
       "<IPython.core.display.HTML object>"
      ]
     },
     "metadata": {},
     "output_type": "display_data"
    },
    {
     "data": {
      "text/html": [
       " Wenn Sie eine PDF-Datei lesen , können Sie die Größe oder den Stil des Textes nicht ändern ."
      ],
      "text/plain": [
       "<IPython.core.display.HTML object>"
      ]
     },
     "metadata": {},
     "output_type": "display_data"
    },
    {
     "name": "stdout",
     "output_type": "stream",
     "text": [
      "____________________________________24___________________________________________________\n",
      "['No-error', 'No-error', 'No-error', 'No-error']\n",
      "\u001b[94m\u001b[1m🤓 OK\u001b[0m\n",
      "0.0\n"
     ]
    },
    {
     "data": {
      "text/html": [
       " <span style=\"background-color:#e0e0e0 \">11.737406</span>"
      ],
      "text/plain": [
       "<IPython.core.display.HTML object>"
      ]
     },
     "metadata": {},
     "output_type": "display_data"
    },
    {
     "data": {
      "text/html": [
       " Germany 's regulator has suspended the approval procedure for the completed pipeline because of legal issues ."
      ],
      "text/plain": [
       "<IPython.core.display.HTML object>"
      ]
     },
     "metadata": {},
     "output_type": "display_data"
    },
    {
     "data": {
      "text/html": [
       " Die deutsche Regulierungsbehörde hat das Genehmigungsverfahren für die fertiggestellte Pipeline wegen rechtlicher Probleme ausgesetzt ."
      ],
      "text/plain": [
       "<IPython.core.display.HTML object>"
      ]
     },
     "metadata": {},
     "output_type": "display_data"
    },
    {
     "name": "stdout",
     "output_type": "stream",
     "text": [
      "____________________________________25___________________________________________________\n",
      "['No-error', 'No-error', 'No-error']\n",
      "\u001b[94m\u001b[1m🤓 OK\u001b[0m\n",
      "0.0\n"
     ]
    },
    {
     "data": {
      "text/html": [
       " <span style=\"background-color:#e0e0e0 \">11.053387</span>"
      ],
      "text/plain": [
       "<IPython.core.display.HTML object>"
      ]
     },
     "metadata": {},
     "output_type": "display_data"
    },
    {
     "data": {
      "text/html": [
       " I know it is in chinese , you don 't need to use your device 's internal function nor the correct language to perform these last steps sent ."
      ],
      "text/plain": [
       "<IPython.core.display.HTML object>"
      ]
     },
     "metadata": {},
     "output_type": "display_data"
    },
    {
     "data": {
      "text/html": [
       " Ich weiß , dass es auf Chinesisch ist , Sie müssen weder die interne Funktion Ihres Geräts noch die richtige Sprache verwenden , um diese letzten gesendeten Schritte auszuführen ."
      ],
      "text/plain": [
       "<IPython.core.display.HTML object>"
      ]
     },
     "metadata": {},
     "output_type": "display_data"
    },
    {
     "name": "stdout",
     "output_type": "stream",
     "text": [
      "____________________________________26___________________________________________________\n",
      "['No-error', 'No-error', 'No-error']\n",
      "\u001b[94m\u001b[1m🤓 OK\u001b[0m\n",
      "3.889723\n"
     ]
    },
    {
     "data": {
      "text/html": [
       " <span style=\"background-color:#e0e0e0 \">6.879562</span> <span style=\"background-color:#DFFF00 \">8.10337</span> <span style=\"background-color:#9FE2BF \">9.420997</span> <span style=\"background-color:#CCCCFF \">10.769285</span>"
      ],
      "text/plain": [
       "<IPython.core.display.HTML object>"
      ]
     },
     "metadata": {},
     "output_type": "display_data"
    },
    {
     "data": {
      "text/html": [
       " <span style=\"background-color:#9FE2BF \">I</span><span style=\"background-color:#9FE2BF \"> kindly</span><span style=\"background-color:#9FE2BF \"> ask</span><span style=\"background-color:#9FE2BF \"> for</span><span style=\"background-color:#9FE2BF \"> your</span><span style=\"background-color:#9FE2BF \"> patience</span><span style=\"background-color:#9FE2BF \"> and</span><span style=\"background-color:#9FE2BF \"> wait</span> <span style=\"background-color:#DFFF00 \">for</span><span style=\"background-color:#DFFF00 \"> your</span><span style=\"background-color:#DFFF00 \"> order</span> to be delivered <span style=\"background-color:#CCCCFF \">within</span> # NUMBER # minutes ."
      ],
      "text/plain": [
       "<IPython.core.display.HTML object>"
      ]
     },
     "metadata": {},
     "output_type": "display_data"
    },
    {
     "data": {
      "text/html": [
       " <span style=\"background-color:#9FE2BF \">Ich</span><span style=\"background-color:#9FE2BF \"> bitte</span><span style=\"background-color:#9FE2BF \"> um</span><span style=\"background-color:#9FE2BF \"> Geduld</span><span style=\"background-color:#9FE2BF \"> und</span><span style=\"background-color:#9FE2BF \"> warte</span> darauf , <span style=\"background-color:#DFFF00 \">dass</span><span style=\"background-color:#DFFF00 \"> Ihre</span><span style=\"background-color:#DFFF00 \"> Bestellung</span> <span style=\"background-color:#CCCCFF \">innerhalb</span><span style=\"background-color:#CCCCFF \"> von</span> # NUMBER # Minuten geliefert wird ."
      ],
      "text/plain": [
       "<IPython.core.display.HTML object>"
      ]
     },
     "metadata": {},
     "output_type": "display_data"
    },
    {
     "name": "stdout",
     "output_type": "stream",
     "text": [
      "____________________________________27___________________________________________________\n",
      "['No-error', 'No-error', 'No-error', 'No-error', 'No-error', 'No-error']\n",
      "\u001b[94m\u001b[1m🤓 OK\u001b[0m\n",
      "4.3099815999999995\n"
     ]
    },
    {
     "data": {
      "text/html": [
       " <span style=\"background-color:#e0e0e0 \">6.1124544</span> <span style=\"background-color:#DFFF00 \">8.163837</span> <span style=\"background-color:#9FE2BF \">9.4035425</span> <span style=\"background-color:#CCCCFF \">10.422436</span>"
      ],
      "text/plain": [
       "<IPython.core.display.HTML object>"
      ]
     },
     "metadata": {},
     "output_type": "display_data"
    },
    {
     "data": {
      "text/html": [
       " As we do not <span style=\"background-color:#CCCCFF \">carry</span><span style=\"background-color:#CCCCFF \"> stock</span><span style=\"background-color:#CCCCFF \"> then</span> all <span style=\"background-color:#9FE2BF \">items</span> are made to order , shipped on <span style=\"background-color:#DFFF00 \">to</span><span style=\"background-color:#DFFF00 \"> us</span> here at # URL # and then sent onto yourselves ."
      ],
      "text/plain": [
       "<IPython.core.display.HTML object>"
      ]
     },
     "metadata": {},
     "output_type": "display_data"
    },
    {
     "data": {
      "text/html": [
       " Da wir keine <span style=\"background-color:#CCCCFF \">Lagerbestände</span><span style=\"background-color:#CCCCFF \"> führen</span><span style=\"background-color:#CCCCFF \"> ,</span> werden alle <span style=\"background-color:#9FE2BF \">Artikel</span> auf Bestellung gefertigt , hier unter # URL # <span style=\"background-color:#DFFF00 \">an</span><span style=\"background-color:#DFFF00 \"> uns</span> versandt und dann an Sie selbst gesendet ."
      ],
      "text/plain": [
       "<IPython.core.display.HTML object>"
      ]
     },
     "metadata": {},
     "output_type": "display_data"
    },
    {
     "name": "stdout",
     "output_type": "stream",
     "text": [
      "____________________________________28___________________________________________________\n",
      "['No-error', 'No-error', 'No-error', 'No-error']\n",
      "\u001b[94m\u001b[1m🤓 OK\u001b[0m\n",
      "0.0\n"
     ]
    },
    {
     "data": {
      "text/html": [
       " <span style=\"background-color:#e0e0e0 \">13.44645</span>"
      ],
      "text/plain": [
       "<IPython.core.display.HTML object>"
      ]
     },
     "metadata": {},
     "output_type": "display_data"
    },
    {
     "data": {
      "text/html": [
       " Erectile dysfunction can be emotionally and financially demanding , which is why Encore provides one of the most affordable penis pumps available on the market ."
      ],
      "text/plain": [
       "<IPython.core.display.HTML object>"
      ]
     },
     "metadata": {},
     "output_type": "display_data"
    },
    {
     "data": {
      "text/html": [
       " Erektile Dysfunktion kann emotional und finanziell anstrengend sein , weshalb Encore eine der günstigsten Penispumpen auf dem Markt anbietet ."
      ],
      "text/plain": [
       "<IPython.core.display.HTML object>"
      ]
     },
     "metadata": {},
     "output_type": "display_data"
    },
    {
     "name": "stdout",
     "output_type": "stream",
     "text": [
      "____________________________________29___________________________________________________\n",
      "['No-error', 'No-error', 'No-error', 'No-error']\n",
      "\u001b[94m\u001b[1m🤓 OK\u001b[0m\n",
      "0.0\n"
     ]
    },
    {
     "data": {
      "text/html": [
       " <span style=\"background-color:#e0e0e0 \">13.02746</span>"
      ],
      "text/plain": [
       "<IPython.core.display.HTML object>"
      ]
     },
     "metadata": {},
     "output_type": "display_data"
    },
    {
     "data": {
      "text/html": [
       " Vacuum therapy has been proven to effectively treat erectile dysfunction in over 95 % of men without any major side effects or medication ."
      ],
      "text/plain": [
       "<IPython.core.display.HTML object>"
      ]
     },
     "metadata": {},
     "output_type": "display_data"
    },
    {
     "data": {
      "text/html": [
       " Es hat sich gezeigt , dass die Vakuumtherapie die erektile Dysfunktion bei über 95 % der Männer ohne größere Nebenwirkungen oder Medikamente wirksam behandelt ."
      ],
      "text/plain": [
       "<IPython.core.display.HTML object>"
      ]
     },
     "metadata": {},
     "output_type": "display_data"
    },
    {
     "name": "stdout",
     "output_type": "stream",
     "text": [
      "____________________________________30___________________________________________________\n",
      "['No-error', 'No-error', 'No-error']\n",
      "\u001b[94m\u001b[1m🤓 OK\u001b[0m\n",
      "0.0\n"
     ]
    },
    {
     "data": {
      "text/html": [
       " <span style=\"background-color:#e0e0e0 \">8.707205</span>"
      ],
      "text/plain": [
       "<IPython.core.display.HTML object>"
      ]
     },
     "metadata": {},
     "output_type": "display_data"
    },
    {
     "data": {
      "text/html": [
       " The patented ring ejector , loading cone , and lubricant included in the kit help to apply the tension bands after pumping ."
      ],
      "text/plain": [
       "<IPython.core.display.HTML object>"
      ]
     },
     "metadata": {},
     "output_type": "display_data"
    },
    {
     "data": {
      "text/html": [
       " Der im Kit enthaltene patentierte Ringauswerfer , Ladekonus und Schmiermittel helfen beim Anlegen der Spannbänder nach dem Pumpen ."
      ],
      "text/plain": [
       "<IPython.core.display.HTML object>"
      ]
     },
     "metadata": {},
     "output_type": "display_data"
    },
    {
     "name": "stdout",
     "output_type": "stream",
     "text": [
      "____________________________________31___________________________________________________\n",
      "['No-error', 'No-error', 'No-error', 'No-error', 'No-error']\n",
      "\u001b[94m\u001b[1m🤓 OK\u001b[0m\n",
      "2.932358\n"
     ]
    },
    {
     "data": {
      "text/html": [
       " <span style=\"background-color:#e0e0e0 \">7.959855</span> <span style=\"background-color:#DFFF00 \">9.836294</span> <span style=\"background-color:#9FE2BF \">10.892213</span>"
      ],
      "text/plain": [
       "<IPython.core.display.HTML object>"
      ]
     },
     "metadata": {},
     "output_type": "display_data"
    },
    {
     "data": {
      "text/html": [
       " <span style=\"background-color:#9FE2BF \">Adjust</span> font size : Drag thecircle icon <span style=\"background-color:#DFFF00 \">beside</span> ' Font Size ' to change the size of the text ."
      ],
      "text/plain": [
       "<IPython.core.display.HTML object>"
      ]
     },
     "metadata": {},
     "output_type": "display_data"
    },
    {
     "data": {
      "text/html": [
       " Schriftgröße <span style=\"background-color:#9FE2BF \">anpassen</span> : Ziehen Sie das Kreissymbol <span style=\"background-color:#DFFF00 \">neben</span> \" Schriftgröße \" , um die Größe des Textes zu ändern ."
      ],
      "text/plain": [
       "<IPython.core.display.HTML object>"
      ]
     },
     "metadata": {},
     "output_type": "display_data"
    },
    {
     "name": "stdout",
     "output_type": "stream",
     "text": [
      "____________________________________32___________________________________________________\n",
      "['No-error', 'No-error', 'No-error']\n",
      "\u001b[94m\u001b[1m🤓 OK\u001b[0m\n",
      "0.0\n"
     ]
    },
    {
     "data": {
      "text/html": [
       " <span style=\"background-color:#e0e0e0 \">10.203132</span>"
      ],
      "text/plain": [
       "<IPython.core.display.HTML object>"
      ]
     },
     "metadata": {},
     "output_type": "display_data"
    },
    {
     "data": {
      "text/html": [
       " If possible , back up any books or documents that you added to your eReader using # PRS _ ORG # , or that you manually added using your computer ."
      ],
      "text/plain": [
       "<IPython.core.display.HTML object>"
      ]
     },
     "metadata": {},
     "output_type": "display_data"
    },
    {
     "data": {
      "text/html": [
       " Sichern Sie nach Möglichkeit alle Bücher oder Dokumente , die Sie Ihrem eReader mit # PRS _ ORG # hinzugefügt haben oder die Sie manuell über Ihren Computer hinzugefügt haben ."
      ],
      "text/plain": [
       "<IPython.core.display.HTML object>"
      ]
     },
     "metadata": {},
     "output_type": "display_data"
    },
    {
     "name": "stdout",
     "output_type": "stream",
     "text": [
      "____________________________________33___________________________________________________\n",
      "['No-error', 'No-error', 'No-error', 'No-error', 'No-error', 'No-error']\n",
      "\u001b[94m\u001b[1m🤓 OK\u001b[0m\n",
      "3.3553324999999994\n"
     ]
    },
    {
     "data": {
      "text/html": [
       " <span style=\"background-color:#e0e0e0 \">8.5650215</span> <span style=\"background-color:#DFFF00 \">11.920354</span>"
      ],
      "text/plain": [
       "<IPython.core.display.HTML object>"
      ]
     },
     "metadata": {},
     "output_type": "display_data"
    },
    {
     "data": {
      "text/html": [
       " Any books you purchased from # PRS _ ORG # can be re-downloaded from the # PRS _ ORG # # PRS _ ORG # after <span style=\"background-color:#DFFF00 \">a</span> factory reset ."
      ],
      "text/plain": [
       "<IPython.core.display.HTML object>"
      ]
     },
     "metadata": {},
     "output_type": "display_data"
    },
    {
     "data": {
      "text/html": [
       " Alle Bücher , die Sie bei # PRS _ ORG # gekauft haben , können nach <span style=\"background-color:#DFFF00 \">dem</span><span style=\"background-color:#DFFF00 \"> Zurücksetzen</span><span style=\"background-color:#DFFF00 \"> auf</span> die Werkseinstellungen erneut von # PRS _ ORG # # PRS _ ORG # heruntergeladen werden ."
      ],
      "text/plain": [
       "<IPython.core.display.HTML object>"
      ]
     },
     "metadata": {},
     "output_type": "display_data"
    },
    {
     "name": "stdout",
     "output_type": "stream",
     "text": [
      "____________________________________34___________________________________________________\n",
      "['No-error', 'No-error', 'No-error']\n",
      "\u001b[94m\u001b[1m🤓 OK\u001b[0m\n",
      "0.0\n"
     ]
    },
    {
     "data": {
      "text/html": [
       " <span style=\"background-color:#e0e0e0 \">13.458846</span>"
      ],
      "text/plain": [
       "<IPython.core.display.HTML object>"
      ]
     },
     "metadata": {},
     "output_type": "display_data"
    },
    {
     "data": {
      "text/html": [
       " Our teams of security experts are constantly analyzing new threats and devising new ways to protect your devices from them ."
      ],
      "text/plain": [
       "<IPython.core.display.HTML object>"
      ]
     },
     "metadata": {},
     "output_type": "display_data"
    },
    {
     "data": {
      "text/html": [
       " Unsere Teams von Sicherheitsexperten analysieren ständig neue Bedrohungen und entwickeln neue Wege , um Ihre Geräte davor zu schützen ."
      ],
      "text/plain": [
       "<IPython.core.display.HTML object>"
      ]
     },
     "metadata": {},
     "output_type": "display_data"
    },
    {
     "name": "stdout",
     "output_type": "stream",
     "text": [
      "____________________________________35___________________________________________________\n",
      "['No-error', 'No-error', 'No-error', 'No-error']\n",
      "\u001b[94m\u001b[1m🤓 OK\u001b[0m\n",
      "0.0\n"
     ]
    },
    {
     "data": {
      "text/html": [
       " <span style=\"background-color:#e0e0e0 \">13.288814</span>"
      ],
      "text/plain": [
       "<IPython.core.display.HTML object>"
      ]
     },
     "metadata": {},
     "output_type": "display_data"
    },
    {
     "data": {
      "text/html": [
       " Since I had a line of customers , I couldn 't leave to help her locate , so I told her \" I believe they are now on aisle 7 . \""
      ],
      "text/plain": [
       "<IPython.core.display.HTML object>"
      ]
     },
     "metadata": {},
     "output_type": "display_data"
    },
    {
     "data": {
      "text/html": [
       " Da ich eine Reihe von Kunden hatte , konnte ich nicht gehen , um ihr bei der Suche zu helfen , also sagte ich ihr : \" Ich glaube , sie sind jetzt in Gang 7 \" ."
      ],
      "text/plain": [
       "<IPython.core.display.HTML object>"
      ]
     },
     "metadata": {},
     "output_type": "display_data"
    },
    {
     "name": "stdout",
     "output_type": "stream",
     "text": [
      "____________________________________36___________________________________________________\n",
      "['No-error', 'No-error', 'No-error']\n",
      "\u001b[94m\u001b[1m🤓 OK\u001b[0m\n",
      "0.0\n"
     ]
    },
    {
     "data": {
      "text/html": [
       " <span style=\"background-color:#e0e0e0 \">13.19421</span>"
      ],
      "text/plain": [
       "<IPython.core.display.HTML object>"
      ]
     },
     "metadata": {},
     "output_type": "display_data"
    },
    {
     "data": {
      "text/html": [
       " Tension bands , also known as penis rings , help sustain the erection once it has been achieved with the pump ."
      ],
      "text/plain": [
       "<IPython.core.display.HTML object>"
      ]
     },
     "metadata": {},
     "output_type": "display_data"
    },
    {
     "data": {
      "text/html": [
       " Spannbänder , auch Penisringe genannt , tragen dazu bei , die Erektion aufrechtzuerhalten , sobald sie mit der Pumpe erreicht wurde ."
      ],
      "text/plain": [
       "<IPython.core.display.HTML object>"
      ]
     },
     "metadata": {},
     "output_type": "display_data"
    },
    {
     "name": "stdout",
     "output_type": "stream",
     "text": [
      "____________________________________37___________________________________________________\n",
      "['No-error', 'No-error', 'No-error', 'No-error', 'No-error', 'No-error', 'No-error', 'No-error', 'No-error', 'No-error', 'No-error']\n",
      "\u001b[94m\u001b[1m🤓 OK\u001b[0m\n",
      "0.0\n"
     ]
    },
    {
     "data": {
      "text/html": [
       " <span style=\"background-color:#e0e0e0 \">5.493005</span>"
      ],
      "text/plain": [
       "<IPython.core.display.HTML object>"
      ]
     },
     "metadata": {},
     "output_type": "display_data"
    },
    {
     "data": {
      "text/html": [
       " In this case , I have marked your order as delivered and will process your refund ."
      ],
      "text/plain": [
       "<IPython.core.display.HTML object>"
      ]
     },
     "metadata": {},
     "output_type": "display_data"
    },
    {
     "data": {
      "text/html": [
       " In diesem Fall habe ich Ihre Bestellung als geliefert markiert und werde Ihre Rückerstattung bearbeiten ."
      ],
      "text/plain": [
       "<IPython.core.display.HTML object>"
      ]
     },
     "metadata": {},
     "output_type": "display_data"
    },
    {
     "name": "stdout",
     "output_type": "stream",
     "text": [
      "____________________________________38___________________________________________________\n",
      "['No-error', 'No-error', 'No-error']\n",
      "\u001b[94m\u001b[1m🤓 OK\u001b[0m\n",
      "1.57428\n"
     ]
    },
    {
     "data": {
      "text/html": [
       " <span style=\"background-color:#e0e0e0 \">6.648978</span> <span style=\"background-color:#DFFF00 \">8.223258</span>"
      ],
      "text/plain": [
       "<IPython.core.display.HTML object>"
      ]
     },
     "metadata": {},
     "output_type": "display_data"
    },
    {
     "data": {
      "text/html": [
       " I kindly ask for your patience and wait <span style=\"background-color:#DFFF00 \">for</span><span style=\"background-color:#DFFF00 \"> your</span><span style=\"background-color:#DFFF00 \"> order</span> to be delivered within # NUMBER # minutes ."
      ],
      "text/plain": [
       "<IPython.core.display.HTML object>"
      ]
     },
     "metadata": {},
     "output_type": "display_data"
    },
    {
     "data": {
      "text/html": [
       " Ich bitte Sie um Geduld und warte darauf , <span style=\"background-color:#DFFF00 \">dass</span><span style=\"background-color:#DFFF00 \"> Ihre</span><span style=\"background-color:#DFFF00 \"> Bestellung</span> innerhalb von # NUMBER # Minuten geliefert wird ."
      ],
      "text/plain": [
       "<IPython.core.display.HTML object>"
      ]
     },
     "metadata": {},
     "output_type": "display_data"
    },
    {
     "name": "stdout",
     "output_type": "stream",
     "text": [
      "____________________________________39___________________________________________________\n",
      "['No-error', 'No-error', 'No-error']\n",
      "\u001b[94m\u001b[1m🤓 OK\u001b[0m\n",
      "0.0\n"
     ]
    },
    {
     "data": {
      "text/html": [
       " <span style=\"background-color:#e0e0e0 \">10.567689</span>"
      ],
      "text/plain": [
       "<IPython.core.display.HTML object>"
      ]
     },
     "metadata": {},
     "output_type": "display_data"
    },
    {
     "data": {
      "text/html": [
       " After a little practice , vacuum therapy with this system becomes easy and comfortable ."
      ],
      "text/plain": [
       "<IPython.core.display.HTML object>"
      ]
     },
     "metadata": {},
     "output_type": "display_data"
    },
    {
     "data": {
      "text/html": [
       " Nach ein wenig Übung wird die Vakuumtherapie mit diesem System einfach und bequem ."
      ],
      "text/plain": [
       "<IPython.core.display.HTML object>"
      ]
     },
     "metadata": {},
     "output_type": "display_data"
    },
    {
     "name": "stdout",
     "output_type": "stream",
     "text": [
      "____________________________________40___________________________________________________\n",
      "['No-error', 'No-error', 'No-error']\n",
      "\u001b[94m\u001b[1m🤓 OK\u001b[0m\n",
      "0.0\n"
     ]
    },
    {
     "data": {
      "text/html": [
       " <span style=\"background-color:#e0e0e0 \">9.769166</span>"
      ],
      "text/plain": [
       "<IPython.core.display.HTML object>"
      ]
     },
     "metadata": {},
     "output_type": "display_data"
    },
    {
     "data": {
      "text/html": [
       " Yeah , when I was 16 I applied and got offered a job at a restaurant ."
      ],
      "text/plain": [
       "<IPython.core.display.HTML object>"
      ]
     },
     "metadata": {},
     "output_type": "display_data"
    },
    {
     "data": {
      "text/html": [
       " Ja , als ich 16 war , habe ich mich beworben und bekam einen Job in einem Restaurant angeboten ."
      ],
      "text/plain": [
       "<IPython.core.display.HTML object>"
      ]
     },
     "metadata": {},
     "output_type": "display_data"
    },
    {
     "name": "stdout",
     "output_type": "stream",
     "text": [
      "____________________________________41___________________________________________________\n",
      "['No-error', 'No-error', 'No-error']\n",
      "\u001b[94m\u001b[1m🤓 OK\u001b[0m\n",
      "2.952262000000001\n"
     ]
    },
    {
     "data": {
      "text/html": [
       " <span style=\"background-color:#e0e0e0 \">8.968974</span> <span style=\"background-color:#DFFF00 \">11.921236</span>"
      ],
      "text/plain": [
       "<IPython.core.display.HTML object>"
      ]
     },
     "metadata": {},
     "output_type": "display_data"
    },
    {
     "data": {
      "text/html": [
       " Norton has been outperforming the competition in many <span style=\"background-color:#DFFF00 \">reputable</span><span style=\"background-color:#DFFF00 \"> head-to-head</span><span style=\"background-color:#DFFF00 \"> tests</span> , and only Norton has won the PC Magazine Editors ' Choice Award 34 times , including 11 years in a row - more than any other security company ."
      ],
      "text/plain": [
       "<IPython.core.display.HTML object>"
      ]
     },
     "metadata": {},
     "output_type": "display_data"
    },
    {
     "data": {
      "text/html": [
       " Norton hat die Konkurrenz in vielen <span style=\"background-color:#DFFF00 \">seriösen</span><span style=\"background-color:#DFFF00 \"> Kopf-an-Kopf-Tests</span> übertroffen , und nur Norton hat den Editors ' Choice Award des PC Magazine 34 Mal gewonnen , davon 11 Jahre in Folge - mehr als jedes andere Sicherheitsunternehmen ."
      ],
      "text/plain": [
       "<IPython.core.display.HTML object>"
      ]
     },
     "metadata": {},
     "output_type": "display_data"
    },
    {
     "name": "stdout",
     "output_type": "stream",
     "text": [
      "____________________________________42___________________________________________________\n",
      "['No-error', 'No-error', 'No-error']\n",
      "\u001b[94m\u001b[1m🤓 OK\u001b[0m\n",
      "1.1232680000000013\n"
     ]
    },
    {
     "data": {
      "text/html": [
       " <span style=\"background-color:#e0e0e0 \">8.126617</span> <span style=\"background-color:#DFFF00 \">9.249885</span>"
      ],
      "text/plain": [
       "<IPython.core.display.HTML object>"
      ]
     },
     "metadata": {},
     "output_type": "display_data"
    },
    {
     "data": {
      "text/html": [
       " The order is <span style=\"background-color:#DFFF00 \">extremely</span> late and it shows here that our rider is already at the restaurant ."
      ],
      "text/plain": [
       "<IPython.core.display.HTML object>"
      ]
     },
     "metadata": {},
     "output_type": "display_data"
    },
    {
     "data": {
      "text/html": [
       " Die Bestellung ist <span style=\"background-color:#DFFF00 \">extrem</span> spät und es zeigt hier , dass unser Fahrer bereits im Restaurant ist ."
      ],
      "text/plain": [
       "<IPython.core.display.HTML object>"
      ]
     },
     "metadata": {},
     "output_type": "display_data"
    },
    {
     "name": "stdout",
     "output_type": "stream",
     "text": [
      "____________________________________43___________________________________________________\n",
      "['No-error', 'No-error', 'No-error']\n",
      "\u001b[94m\u001b[1m🤓 OK\u001b[0m\n",
      "0.0\n"
     ]
    },
    {
     "data": {
      "text/html": [
       " <span style=\"background-color:#e0e0e0 \">12.870015</span>"
      ],
      "text/plain": [
       "<IPython.core.display.HTML object>"
      ]
     },
     "metadata": {},
     "output_type": "display_data"
    },
    {
     "data": {
      "text/html": [
       " Cyber-criminals are more sophisticated than ever before , and they use a diverse arsenal of tools to gain access to your information ."
      ],
      "text/plain": [
       "<IPython.core.display.HTML object>"
      ]
     },
     "metadata": {},
     "output_type": "display_data"
    },
    {
     "data": {
      "text/html": [
       " Cyberkriminelle sind raffinierter als je zuvor und verwenden ein vielfältiges Arsenal an Tools , um sich Zugang zu Ihren Informationen zu verschaffen ."
      ],
      "text/plain": [
       "<IPython.core.display.HTML object>"
      ]
     },
     "metadata": {},
     "output_type": "display_data"
    },
    {
     "name": "stdout",
     "output_type": "stream",
     "text": [
      "____________________________________44___________________________________________________\n",
      "['major', 'major', 'major']\n",
      "['Accuracy/Mistranslation', 'Accuracy/Mistranslation', 'Accuracy/Mistranslation']\n",
      "\u001b[91m\u001b[1m🤬  Major\u001b[0m\n",
      "5.194516\n"
     ]
    },
    {
     "data": {
      "text/html": [
       " <span style=\"background-color:#e0e0e0 \">4.216899</span> <span style=\"background-color:#DFFF00 \">9.411415</span>"
      ],
      "text/plain": [
       "<IPython.core.display.HTML object>"
      ]
     },
     "metadata": {},
     "output_type": "display_data"
    },
    {
     "data": {
      "text/html": [
       " Storm force winds are <span style=\"background-color:#DFFF00 \">set</span> to batter northern parts of Scotland with disruption to travel , especially ferry services , expected ."
      ],
      "text/plain": [
       "<IPython.core.display.HTML object>"
      ]
     },
     "metadata": {},
     "output_type": "display_data"
    },
    {
     "data": {
      "text/html": [
       " Sturmgewalt Winde sind <span style=\"background-color:#DFFF00 \">eingestellt</span> , um nördliche Teile von Schottland mit Unterbrechung der Reise , vor allem Fährdienste , zu schlagen erwartet ."
      ],
      "text/plain": [
       "<IPython.core.display.HTML object>"
      ]
     },
     "metadata": {},
     "output_type": "display_data"
    },
    {
     "name": "stdout",
     "output_type": "stream",
     "text": [
      "____________________________________45___________________________________________________\n",
      "['No-error', 'No-error', 'No-error']\n",
      "\u001b[94m\u001b[1m🤓 OK\u001b[0m\n",
      "0.0\n"
     ]
    },
    {
     "data": {
      "text/html": [
       " <span style=\"background-color:#e0e0e0 \">13.831402</span>"
      ],
      "text/plain": [
       "<IPython.core.display.HTML object>"
      ]
     },
     "metadata": {},
     "output_type": "display_data"
    },
    {
     "data": {
      "text/html": [
       " Click on \" My Account \" and in the menu select \" Account Settings \""
      ],
      "text/plain": [
       "<IPython.core.display.HTML object>"
      ]
     },
     "metadata": {},
     "output_type": "display_data"
    },
    {
     "data": {
      "text/html": [
       " Klicken Sie auf \" Mein Konto \" und wählen Sie im Menü \" Kontoeinstellungen \" aus"
      ],
      "text/plain": [
       "<IPython.core.display.HTML object>"
      ]
     },
     "metadata": {},
     "output_type": "display_data"
    },
    {
     "name": "stdout",
     "output_type": "stream",
     "text": [
      "____________________________________46___________________________________________________\n",
      "['No-error', 'No-error', 'No-error', 'No-error', 'No-error', 'No-error']\n",
      "\u001b[94m\u001b[1m🤓 OK\u001b[0m\n",
      "0.0\n"
     ]
    },
    {
     "data": {
      "text/html": [
       " <span style=\"background-color:#e0e0e0 \">13.838211</span>"
      ],
      "text/plain": [
       "<IPython.core.display.HTML object>"
      ]
     },
     "metadata": {},
     "output_type": "display_data"
    },
    {
     "data": {
      "text/html": [
       " Under \" Payment Information , \" select the type of credit card and enter your card number , security code ( CVV ) , name on the card , and expiration date ."
      ],
      "text/plain": [
       "<IPython.core.display.HTML object>"
      ]
     },
     "metadata": {},
     "output_type": "display_data"
    },
    {
     "data": {
      "text/html": [
       " Wählen Sie unter \" Zahlungsinformationen \" den Kreditkartentyp aus und geben Sie Ihre Kartennummer , den Sicherheitscode ( CVV ) , den Namen auf der Karte und das Ablaufdatum ein ."
      ],
      "text/plain": [
       "<IPython.core.display.HTML object>"
      ]
     },
     "metadata": {},
     "output_type": "display_data"
    },
    {
     "name": "stdout",
     "output_type": "stream",
     "text": [
      "____________________________________47___________________________________________________\n",
      "['No-error', 'No-error', 'No-error', 'No-error', 'No-error', 'No-error']\n",
      "\u001b[94m\u001b[1m🤓 OK\u001b[0m\n",
      "3.9381465\n"
     ]
    },
    {
     "data": {
      "text/html": [
       " <span style=\"background-color:#e0e0e0 \">9.2070875</span> <span style=\"background-color:#DFFF00 \">13.145234</span>"
      ],
      "text/plain": [
       "<IPython.core.display.HTML object>"
      ]
     },
     "metadata": {},
     "output_type": "display_data"
    },
    {
     "data": {
      "text/html": [
       " Even the name itself , which was a homage to Elon Musk backed Dogecoin , <span style=\"background-color:#DFFF00 \">was</span><span style=\"background-color:#DFFF00 \"> all</span> part of the design ."
      ],
      "text/plain": [
       "<IPython.core.display.HTML object>"
      ]
     },
     "metadata": {},
     "output_type": "display_data"
    },
    {
     "data": {
      "text/html": [
       " Sogar der Name selbst , der eine Hommage an die von Elon Musk unterstützte Dogecoin war , <span style=\"background-color:#DFFF00 \">war</span> Teil des Designs ."
      ],
      "text/plain": [
       "<IPython.core.display.HTML object>"
      ]
     },
     "metadata": {},
     "output_type": "display_data"
    },
    {
     "name": "stdout",
     "output_type": "stream",
     "text": [
      "____________________________________48___________________________________________________\n",
      "['No-error', 'No-error', 'minor', 'minor']\n",
      "\u001b[94m\u001b[1m🤓 OK\u001b[0m\n",
      "0.0\n"
     ]
    },
    {
     "data": {
      "text/html": [
       " <span style=\"background-color:#e0e0e0 \">13.278365</span>"
      ],
      "text/plain": [
       "<IPython.core.display.HTML object>"
      ]
     },
     "metadata": {},
     "output_type": "display_data"
    },
    {
     "data": {
      "text/html": [
       " I also checked my iPad and it seems AM is only using 15GBs for documents and data on it , but that still is not acceptable ."
      ],
      "text/plain": [
       "<IPython.core.display.HTML object>"
      ]
     },
     "metadata": {},
     "output_type": "display_data"
    },
    {
     "data": {
      "text/html": [
       " Ich habe auch mein iPad überprüft und es scheint , dass AM nur 15 GB für Dokumente und Daten darauf verwendet , aber das ist immer noch nicht akzeptabel ."
      ],
      "text/plain": [
       "<IPython.core.display.HTML object>"
      ]
     },
     "metadata": {},
     "output_type": "display_data"
    },
    {
     "name": "stdout",
     "output_type": "stream",
     "text": [
      "____________________________________49___________________________________________________\n",
      "['No-error', 'No-error', 'minor', 'No-error']\n",
      "\u001b[94m\u001b[1m🤓 OK\u001b[0m\n",
      "0.0\n"
     ]
    },
    {
     "data": {
      "text/html": [
       " <span style=\"background-color:#e0e0e0 \">12.136248</span>"
      ],
      "text/plain": [
       "<IPython.core.display.HTML object>"
      ]
     },
     "metadata": {},
     "output_type": "display_data"
    },
    {
     "data": {
      "text/html": [
       " Please follow the steps indicated below to perform a sync repair on your # PRS _ ORG # ( you will need a Wi-Fi connection before you start ) :"
      ],
      "text/plain": [
       "<IPython.core.display.HTML object>"
      ]
     },
     "metadata": {},
     "output_type": "display_data"
    },
    {
     "data": {
      "text/html": [
       " Bitte befolgen Sie die unten angegebenen Schritte , um eine Synchronisierungsreparatur an Ihrem # PRS _ ORG # durchzuführen ( Sie benötigen eine Wi-Fi-Verbindung , bevor Sie beginnen ) :"
      ],
      "text/plain": [
       "<IPython.core.display.HTML object>"
      ]
     },
     "metadata": {},
     "output_type": "display_data"
    },
    {
     "name": "stdout",
     "output_type": "stream",
     "text": [
      "____________________________________50___________________________________________________\n",
      "['No-error', 'No-error', 'No-error', 'No-error']\n",
      "\u001b[94m\u001b[1m🤓 OK\u001b[0m\n",
      "0.0\n"
     ]
    },
    {
     "data": {
      "text/html": [
       " <span style=\"background-color:#e0e0e0 \">7.711591</span>"
      ],
      "text/plain": [
       "<IPython.core.display.HTML object>"
      ]
     },
     "metadata": {},
     "output_type": "display_data"
    },
    {
     "data": {
      "text/html": [
       " When the syncing has completed , please tap again on Sync Now , to install any available upgrades ."
      ],
      "text/plain": [
       "<IPython.core.display.HTML object>"
      ]
     },
     "metadata": {},
     "output_type": "display_data"
    },
    {
     "data": {
      "text/html": [
       " Wenn die Synchronisierung abgeschlossen ist , tippen Sie erneut auf Jetzt synchronisieren , um alle verfügbaren Upgrades zu installieren ."
      ],
      "text/plain": [
       "<IPython.core.display.HTML object>"
      ]
     },
     "metadata": {},
     "output_type": "display_data"
    },
    {
     "name": "stdout",
     "output_type": "stream",
     "text": [
      "____________________________________51___________________________________________________\n",
      "['No-error', 'No-error', 'No-error', 'No-error', 'No-error', 'No-error', 'No-error', 'No-error', 'No-error', 'No-error', 'No-error', 'No-error']\n",
      "\u001b[94m\u001b[1m🤓 OK\u001b[0m\n",
      "0.0\n"
     ]
    },
    {
     "data": {
      "text/html": [
       " <span style=\"background-color:#e0e0e0 \">13.843161</span>"
      ],
      "text/plain": [
       "<IPython.core.display.HTML object>"
      ]
     },
     "metadata": {},
     "output_type": "display_data"
    },
    {
     "data": {
      "text/html": [
       " Click on \" My Account \" and in the menu select \" Account Settings \""
      ],
      "text/plain": [
       "<IPython.core.display.HTML object>"
      ]
     },
     "metadata": {},
     "output_type": "display_data"
    },
    {
     "data": {
      "text/html": [
       " Klicken Sie auf \" Mein Konto \" und wählen Sie im Menü \" Kontoeinstellungen \""
      ],
      "text/plain": [
       "<IPython.core.display.HTML object>"
      ]
     },
     "metadata": {},
     "output_type": "display_data"
    },
    {
     "name": "stdout",
     "output_type": "stream",
     "text": [
      "____________________________________52___________________________________________________\n",
      "['No-error', 'No-error', 'No-error', 'No-error', 'No-error', 'No-error', 'No-error', 'No-error', 'No-error']\n",
      "\u001b[94m\u001b[1m🤓 OK\u001b[0m\n",
      "0.0\n"
     ]
    },
    {
     "data": {
      "text/html": [
       " <span style=\"background-color:#e0e0e0 \">13.860118</span>"
      ],
      "text/plain": [
       "<IPython.core.display.HTML object>"
      ]
     },
     "metadata": {},
     "output_type": "display_data"
    },
    {
     "data": {
      "text/html": [
       " Under \" Payment Information , \" select the type of credit card and enter your card number , security code ( CVV ) , name on the card , and expiration date ."
      ],
      "text/plain": [
       "<IPython.core.display.HTML object>"
      ]
     },
     "metadata": {},
     "output_type": "display_data"
    },
    {
     "data": {
      "text/html": [
       " Wählen Sie unter \" Zahlungsinformationen \" die Art der Kreditkarte aus und geben Sie Ihre Kartennummer , den Sicherheitscode ( CVV ) , den Namen auf der Karte und das Ablaufdatum ein ."
      ],
      "text/plain": [
       "<IPython.core.display.HTML object>"
      ]
     },
     "metadata": {},
     "output_type": "display_data"
    },
    {
     "name": "stdout",
     "output_type": "stream",
     "text": [
      "____________________________________53___________________________________________________\n",
      "['No-error', 'No-error', 'No-error', 'No-error', 'No-error', 'No-error', 'No-error', 'No-error']\n",
      "\u001b[94m\u001b[1m🤓 OK\u001b[0m\n",
      "0.0\n"
     ]
    },
    {
     "data": {
      "text/html": [
       " <span style=\"background-color:#e0e0e0 \">6.6636744</span>"
      ],
      "text/plain": [
       "<IPython.core.display.HTML object>"
      ]
     },
     "metadata": {},
     "output_type": "display_data"
    },
    {
     "data": {
      "text/html": [
       " Baerbock said Iran had resumed the talks with a position that set the negotiations back six months ."
      ],
      "text/plain": [
       "<IPython.core.display.HTML object>"
      ]
     },
     "metadata": {},
     "output_type": "display_data"
    },
    {
     "data": {
      "text/html": [
       " Baerbock sagte , der Iran habe die Gespräche mit einer Position wieder aufgenommen , die die Verhandlungen um sechs Monate zurückgeworfen habe ."
      ],
      "text/plain": [
       "<IPython.core.display.HTML object>"
      ]
     },
     "metadata": {},
     "output_type": "display_data"
    },
    {
     "name": "stdout",
     "output_type": "stream",
     "text": [
      "____________________________________54___________________________________________________\n",
      "['No-error', 'No-error', 'No-error', 'No-error', 'No-error', 'No-error', 'No-error', 'No-error', 'No-error', 'No-error', 'No-error']\n",
      "\u001b[94m\u001b[1m🤓 OK\u001b[0m\n",
      "0.0\n"
     ]
    },
    {
     "data": {
      "text/html": [
       " <span style=\"background-color:#e0e0e0 \">13.401414</span>"
      ],
      "text/plain": [
       "<IPython.core.display.HTML object>"
      ]
     },
     "metadata": {},
     "output_type": "display_data"
    },
    {
     "data": {
      "text/html": [
       " For future orders , you can add instructions for your rider by editing your saved addresses in the app ."
      ],
      "text/plain": [
       "<IPython.core.display.HTML object>"
      ]
     },
     "metadata": {},
     "output_type": "display_data"
    },
    {
     "data": {
      "text/html": [
       " Für zukünftige Bestellungen können Sie Anweisungen für Ihren Fahrer hinzufügen , indem Sie Ihre gespeicherten Adressen in der App bearbeiten ."
      ],
      "text/plain": [
       "<IPython.core.display.HTML object>"
      ]
     },
     "metadata": {},
     "output_type": "display_data"
    },
    {
     "name": "stdout",
     "output_type": "stream",
     "text": [
      "____________________________________55___________________________________________________\n",
      "['No-error', 'minor', 'No-error']\n",
      "\u001b[94m\u001b[1m🤓 OK\u001b[0m\n",
      "0.0\n"
     ]
    },
    {
     "data": {
      "text/html": [
       " <span style=\"background-color:#e0e0e0 \">12.311039</span>"
      ],
      "text/plain": [
       "<IPython.core.display.HTML object>"
      ]
     },
     "metadata": {},
     "output_type": "display_data"
    },
    {
     "data": {
      "text/html": [
       " A $ 100 investment at launch would be worth over $ 2 million today !"
      ],
      "text/plain": [
       "<IPython.core.display.HTML object>"
      ]
     },
     "metadata": {},
     "output_type": "display_data"
    },
    {
     "data": {
      "text/html": [
       " Eine Investition von 100 US-Dollar beim Start wäre heute über 2 Millionen US-Dollar wert !"
      ],
      "text/plain": [
       "<IPython.core.display.HTML object>"
      ]
     },
     "metadata": {},
     "output_type": "display_data"
    },
    {
     "name": "stdout",
     "output_type": "stream",
     "text": [
      "____________________________________56___________________________________________________\n",
      "['No-error', 'No-error', 'No-error', 'No-error', 'No-error']\n",
      "\u001b[94m\u001b[1m🤓 OK\u001b[0m\n",
      "0.0\n"
     ]
    },
    {
     "data": {
      "text/html": [
       " <span style=\"background-color:#e0e0e0 \">13.816442</span>"
      ],
      "text/plain": [
       "<IPython.core.display.HTML object>"
      ]
     },
     "metadata": {},
     "output_type": "display_data"
    },
    {
     "data": {
      "text/html": [
       " We are determined to do all we can for the people of Afghanistan . \""
      ],
      "text/plain": [
       "<IPython.core.display.HTML object>"
      ]
     },
     "metadata": {},
     "output_type": "display_data"
    },
    {
     "data": {
      "text/html": [
       " Wir sind entschlossen , alles in unserer Macht Stehende für die Menschen in Afghanistan zu tun \" ."
      ],
      "text/plain": [
       "<IPython.core.display.HTML object>"
      ]
     },
     "metadata": {},
     "output_type": "display_data"
    },
    {
     "name": "stdout",
     "output_type": "stream",
     "text": [
      "____________________________________57___________________________________________________\n",
      "['minor', 'No-error', 'minor', 'No-error', 'minor', 'No-error', 'No-error', 'No-error']\n",
      "\u001b[94m\u001b[1m🤓 OK\u001b[0m\n",
      "4.165610599999999\n"
     ]
    },
    {
     "data": {
      "text/html": [
       " <span style=\"background-color:#e0e0e0 \">7.8846264</span> <span style=\"background-color:#DFFF00 \">12.050237</span>"
      ],
      "text/plain": [
       "<IPython.core.display.HTML object>"
      ]
     },
     "metadata": {},
     "output_type": "display_data"
    },
    {
     "data": {
      "text/html": [
       " If you 're already doing a 500 calorie cut , an extra piece of steak or even bread after <span style=\"background-color:#DFFF00 \">a</span><span style=\"background-color:#DFFF00 \"> hard</span> workout is not going to ruin your progress at all ."
      ],
      "text/plain": [
       "<IPython.core.display.HTML object>"
      ]
     },
     "metadata": {},
     "output_type": "display_data"
    },
    {
     "data": {
      "text/html": [
       " Wenn Sie bereits einen 500-Kalorien-Schnitt machen , wird ein zusätzliches Stück Steak oder sogar Brot nach <span style=\"background-color:#DFFF00 \">einem</span><span style=\"background-color:#DFFF00 \"> harten</span><span style=\"background-color:#DFFF00 \"> Training</span> Ihren Fortschritt überhaupt nicht ruinieren ."
      ],
      "text/plain": [
       "<IPython.core.display.HTML object>"
      ]
     },
     "metadata": {},
     "output_type": "display_data"
    },
    {
     "name": "stdout",
     "output_type": "stream",
     "text": [
      "____________________________________58___________________________________________________\n",
      "['No-error', 'No-error', 'No-error']\n",
      "\u001b[94m\u001b[1m🤓 OK\u001b[0m\n",
      "3.2943747000000005\n"
     ]
    },
    {
     "data": {
      "text/html": [
       " <span style=\"background-color:#e0e0e0 \">7.8204203</span> <span style=\"background-color:#DFFF00 \">11.114795</span>"
      ],
      "text/plain": [
       "<IPython.core.display.HTML object>"
      ]
     },
     "metadata": {},
     "output_type": "display_data"
    },
    {
     "data": {
      "text/html": [
       " I have tried <span style=\"background-color:#DFFF00 \">remediating</span><span style=\"background-color:#DFFF00 \"> this</span><span style=\"background-color:#DFFF00 \"> by</span><span style=\"background-color:#DFFF00 \"> deleting</span><span style=\"background-color:#DFFF00 \"> the</span><span style=\"background-color:#DFFF00 \"> app</span> , but since this is a stock app the documents and data are never truly deleted from the iPhone ."
      ],
      "text/plain": [
       "<IPython.core.display.HTML object>"
      ]
     },
     "metadata": {},
     "output_type": "display_data"
    },
    {
     "data": {
      "text/html": [
       " Ich habe versucht <span style=\"background-color:#DFFF00 \">,</span><span style=\"background-color:#DFFF00 \"> dies</span><span style=\"background-color:#DFFF00 \"> durch</span><span style=\"background-color:#DFFF00 \"> Löschen</span><span style=\"background-color:#DFFF00 \"> der</span><span style=\"background-color:#DFFF00 \"> App</span><span style=\"background-color:#DFFF00 \"> zu</span><span style=\"background-color:#DFFF00 \"> beheben</span> , aber da es sich um eine Standard-App handelt , werden die Dokumente und Daten nie wirklich vom iPhone gelöscht ."
      ],
      "text/plain": [
       "<IPython.core.display.HTML object>"
      ]
     },
     "metadata": {},
     "output_type": "display_data"
    },
    {
     "name": "stdout",
     "output_type": "stream",
     "text": [
      "____________________________________59___________________________________________________\n",
      "['minor', 'minor', 'minor', 'minor', 'minor', 'minor']\n",
      "\u001b[91m\u001b[1m😤  Minor\u001b[0m\n",
      "8.4986133\n"
     ]
    },
    {
     "data": {
      "text/html": [
       " <span style=\"background-color:#e0e0e0 \">2.6319187</span> <span style=\"background-color:#DFFF00 \">11.130532</span>"
      ],
      "text/plain": [
       "<IPython.core.display.HTML object>"
      ]
     },
     "metadata": {},
     "output_type": "display_data"
    },
    {
     "data": {
      "text/html": [
       " Thank you for taking the time to talk with me today and I hope I have managed to resolve your query , if you wouldn 't mind rating our chat today based on my customer service skills I would really appreciate it , <span style=\"background-color:#DFFF00 \">the</span><span style=\"background-color:#DFFF00 \"> rating</span><span style=\"background-color:#DFFF00 \"> button</span><span style=\"background-color:#DFFF00 \"> can</span><span style=\"background-color:#DFFF00 \"> be</span><span style=\"background-color:#DFFF00 \"> found</span><span style=\"background-color:#DFFF00 \"> on</span><span style=\"background-color:#DFFF00 \"> this</span><span style=\"background-color:#DFFF00 \"> chat</span><span style=\"background-color:#DFFF00 \"> .</span>"
      ],
      "text/plain": [
       "<IPython.core.display.HTML object>"
      ]
     },
     "metadata": {},
     "output_type": "display_data"
    },
    {
     "data": {
      "text/html": [
       " Vielen Dank , dass Sie sich die Zeit nehmen , um mit mir heute zu sprechen und ich hoffe , ich habe es geschafft , Ihre Abfrage zu lösen , wenn Sie es nicht stören würden Bewertung unser Chat heute basierend auf meinen Kundenservice-Fähigkeiten würde ich es wirklich schätzen , <span style=\"background-color:#DFFF00 \">die</span><span style=\"background-color:#DFFF00 \"> Bewertung</span><span style=\"background-color:#DFFF00 \"> Schaltfläche</span><span style=\"background-color:#DFFF00 \"> kann</span><span style=\"background-color:#DFFF00 \"> auf</span><span style=\"background-color:#DFFF00 \"> diesem</span><span style=\"background-color:#DFFF00 \"> Chat</span><span style=\"background-color:#DFFF00 \"> gefunden</span><span style=\"background-color:#DFFF00 \"> werden</span><span style=\"background-color:#DFFF00 \"> .</span>"
      ],
      "text/plain": [
       "<IPython.core.display.HTML object>"
      ]
     },
     "metadata": {},
     "output_type": "display_data"
    },
    {
     "name": "stdout",
     "output_type": "stream",
     "text": [
      "____________________________________60___________________________________________________\n",
      "['No-error', 'minor', 'No-error', 'No-error', 'No-error', 'No-error']\n",
      "\u001b[94m\u001b[1m🤓 OK\u001b[0m\n",
      "0.0\n"
     ]
    },
    {
     "data": {
      "text/html": [
       " <span style=\"background-color:#e0e0e0 \">12.778427</span>"
      ],
      "text/plain": [
       "<IPython.core.display.HTML object>"
      ]
     },
     "metadata": {},
     "output_type": "display_data"
    },
    {
     "data": {
      "text/html": [
       " Once your password is reset from your computer , please try accessing once again on our daughter 's e-reader with your new password"
      ],
      "text/plain": [
       "<IPython.core.display.HTML object>"
      ]
     },
     "metadata": {},
     "output_type": "display_data"
    },
    {
     "data": {
      "text/html": [
       " Sobald Ihr Passwort von Ihrem Computer zurückgesetzt wurde , versuchen Sie bitte erneut , mit Ihrem neuen Passwort auf den E-Reader unserer Tochter zuzugreifen"
      ],
      "text/plain": [
       "<IPython.core.display.HTML object>"
      ]
     },
     "metadata": {},
     "output_type": "display_data"
    },
    {
     "name": "stdout",
     "output_type": "stream",
     "text": [
      "____________________________________61___________________________________________________\n",
      "['major', 'major', 'minor', 'minor', 'minor']\n",
      "\u001b[91m\u001b[1m😤  Minor\u001b[0m\n",
      "13.2726611\n"
     ]
    },
    {
     "data": {
      "text/html": [
       " <span style=\"background-color:#e0e0e0 \">-3.8435621</span> <span style=\"background-color:#DFFF00 \">8.250791</span> <span style=\"background-color:#9FE2BF \">9.429099</span>"
      ],
      "text/plain": [
       "<IPython.core.display.HTML object>"
      ]
     },
     "metadata": {},
     "output_type": "display_data"
    },
    {
     "data": {
      "text/html": [
       " Even if I 'm not in the income level that would pay more taxes , I can still buy fewer things <span style=\"background-color:#9FE2BF \">that</span> are more expensive so that they can be made by people making a living wage and I can be willing to wait a few days to get it <span style=\"background-color:#DFFF00 \">so</span><span style=\"background-color:#DFFF00 \"> that</span><span style=\"background-color:#DFFF00 \"> some</span><span style=\"background-color:#DFFF00 \"> gig</span><span style=\"background-color:#DFFF00 \"> worker</span><span style=\"background-color:#DFFF00 \"> doesn</span><span style=\"background-color:#DFFF00 \"> 't</span><span style=\"background-color:#DFFF00 \"> have</span><span style=\"background-color:#DFFF00 \"> to</span><span style=\"background-color:#DFFF00 \"> be</span><span style=\"background-color:#DFFF00 \"> worked</span><span style=\"background-color:#DFFF00 \"> to</span><span style=\"background-color:#DFFF00 \"> the</span><span style=\"background-color:#DFFF00 \"> bone</span> ..."
      ],
      "text/plain": [
       "<IPython.core.display.HTML object>"
      ]
     },
     "metadata": {},
     "output_type": "display_data"
    },
    {
     "data": {
      "text/html": [
       " Sogar wenn ich nicht in der Einkommensklasse bin , in der mehr Steuern gezahlt werden , kann ich immer noch weniger teure Dinge kaufen , sodass sie von Menschen hergestellt werden können <span style=\"background-color:#9FE2BF \">,</span><span style=\"background-color:#9FE2BF \"> die</span><span style=\"background-color:#9FE2BF \"> maßgeblich</span> dazu beitragen , und ich bin bereit , ein paar Tage zu warten <span style=\"background-color:#DFFF00 \">,</span><span style=\"background-color:#DFFF00 \"> bevor</span><span style=\"background-color:#DFFF00 \"> der</span><span style=\"background-color:#DFFF00 \"> Arbeitslohn</span><span style=\"background-color:#DFFF00 \"> abläuft</span> ..."
      ],
      "text/plain": [
       "<IPython.core.display.HTML object>"
      ]
     },
     "metadata": {},
     "output_type": "display_data"
    },
    {
     "name": "stdout",
     "output_type": "stream",
     "text": [
      "____________________________________62___________________________________________________\n",
      "['minor', 'minor', 'minor', 'minor']\n",
      "\u001b[91m\u001b[1m😤  Minor\u001b[0m\n",
      "5.7086410999999995\n"
     ]
    },
    {
     "data": {
      "text/html": [
       " <span style=\"background-color:#e0e0e0 \">-3.7729971</span> <span style=\"background-color:#DFFF00 \">1.935644</span>"
      ],
      "text/plain": [
       "<IPython.core.display.HTML object>"
      ]
     },
     "metadata": {},
     "output_type": "display_data"
    },
    {
     "data": {
      "text/html": [
       " Some of us need to <span style=\"background-color:#DFFF00 \">give</span><span style=\"background-color:#DFFF00 \"> up</span><span style=\"background-color:#DFFF00 \"> at</span><span style=\"background-color:#DFFF00 \"> least</span><span style=\"background-color:#DFFF00 \"> some</span><span style=\"background-color:#DFFF00 \"> convenience</span> to make society better ."
      ],
      "text/plain": [
       "<IPython.core.display.HTML object>"
      ]
     },
     "metadata": {},
     "output_type": "display_data"
    },
    {
     "data": {
      "text/html": [
       " Einige von uns müssen <span style=\"background-color:#DFFF00 \">zumindest</span><span style=\"background-color:#DFFF00 \"> auf</span><span style=\"background-color:#DFFF00 \"> Komfort</span><span style=\"background-color:#DFFF00 \"> verzichten</span> , um die Gesellschaft zu verbessern ."
      ],
      "text/plain": [
       "<IPython.core.display.HTML object>"
      ]
     },
     "metadata": {},
     "output_type": "display_data"
    },
    {
     "name": "stdout",
     "output_type": "stream",
     "text": [
      "____________________________________63___________________________________________________\n",
      "['No-error', 'No-error', 'No-error', 'No-error']\n",
      "\u001b[94m\u001b[1m🤓 OK\u001b[0m\n",
      "4.4275210000000005\n"
     ]
    },
    {
     "data": {
      "text/html": [
       " <span style=\"background-color:#e0e0e0 \">8.684694</span> <span style=\"background-color:#DFFF00 \">13.112215</span>"
      ],
      "text/plain": [
       "<IPython.core.display.HTML object>"
      ]
     },
     "metadata": {},
     "output_type": "display_data"
    },
    {
     "data": {
      "text/html": [
       " I 'm unable to make any changes <span style=\"background-color:#DFFF00 \">once</span><span style=\"background-color:#DFFF00 \"> the</span><span style=\"background-color:#DFFF00 \"> order</span><span style=\"background-color:#DFFF00 \"> has</span><span style=\"background-color:#DFFF00 \"> been</span><span style=\"background-color:#DFFF00 \"> placed</span> however , when the rider leaves the restaurant you will be able to contact them through the app ."
      ],
      "text/plain": [
       "<IPython.core.display.HTML object>"
      ]
     },
     "metadata": {},
     "output_type": "display_data"
    },
    {
     "data": {
      "text/html": [
       " Ich kann keine Änderungen vornehmen , <span style=\"background-color:#DFFF00 \">sobald</span><span style=\"background-color:#DFFF00 \"> die</span><span style=\"background-color:#DFFF00 \"> Bestellung</span><span style=\"background-color:#DFFF00 \"> aufgegeben</span><span style=\"background-color:#DFFF00 \"> wurde</span> , aber wenn der Fahrer das Restaurant verlässt , können Sie ihn über die App kontaktieren ."
      ],
      "text/plain": [
       "<IPython.core.display.HTML object>"
      ]
     },
     "metadata": {},
     "output_type": "display_data"
    },
    {
     "name": "stdout",
     "output_type": "stream",
     "text": [
      "____________________________________64___________________________________________________\n",
      "['minor', 'minor', 'minor']\n",
      "\u001b[91m\u001b[1m😤  Minor\u001b[0m\n",
      "24.02539\n"
     ]
    },
    {
     "data": {
      "text/html": [
       " <span style=\"background-color:#e0e0e0 \">-11.621408</span> <span style=\"background-color:#DFFF00 \">12.403982</span>"
      ],
      "text/plain": [
       "<IPython.core.display.HTML object>"
      ]
     },
     "metadata": {},
     "output_type": "display_data"
    },
    {
     "data": {
      "text/html": [
       " Even if I 'm not in the income level that would pay more taxes , I can still buy fewer things <span style=\"background-color:#DFFF00 \">that</span><span style=\"background-color:#DFFF00 \"> are</span><span style=\"background-color:#DFFF00 \"> more</span><span style=\"background-color:#DFFF00 \"> expensive</span><span style=\"background-color:#DFFF00 \"> so</span><span style=\"background-color:#DFFF00 \"> that</span><span style=\"background-color:#DFFF00 \"> they</span><span style=\"background-color:#DFFF00 \"> can</span><span style=\"background-color:#DFFF00 \"> be</span><span style=\"background-color:#DFFF00 \"> made</span><span style=\"background-color:#DFFF00 \"> by</span><span style=\"background-color:#DFFF00 \"> people</span><span style=\"background-color:#DFFF00 \"> making</span><span style=\"background-color:#DFFF00 \"> a</span><span style=\"background-color:#DFFF00 \"> living</span><span style=\"background-color:#DFFF00 \"> wage</span> and I can be willing to wait a few days to get it so that some gig worker doesn 't have to be worked to the bone ..."
      ],
      "text/plain": [
       "<IPython.core.display.HTML object>"
      ]
     },
     "metadata": {},
     "output_type": "display_data"
    },
    {
     "data": {
      "text/html": [
       " Selbst wenn ich nicht auf dem Einkommensniveau bin , das mehr Steuern zahlen würde , kann ich immer noch weniger Dinge kaufen <span style=\"background-color:#DFFF00 \">,</span><span style=\"background-color:#DFFF00 \"> die</span><span style=\"background-color:#DFFF00 \"> teurer</span><span style=\"background-color:#DFFF00 \"> sind</span><span style=\"background-color:#DFFF00 \"> ,</span><span style=\"background-color:#DFFF00 \"> damit</span><span style=\"background-color:#DFFF00 \"> sie</span><span style=\"background-color:#DFFF00 \"> von</span><span style=\"background-color:#DFFF00 \"> Menschen</span><span style=\"background-color:#DFFF00 \"> hergestellt</span><span style=\"background-color:#DFFF00 \"> werden</span><span style=\"background-color:#DFFF00 \"> können</span><span style=\"background-color:#DFFF00 \"> ,</span><span style=\"background-color:#DFFF00 \"> die</span><span style=\"background-color:#DFFF00 \"> einen</span><span style=\"background-color:#DFFF00 \"> existenzsichernden</span><span style=\"background-color:#DFFF00 \"> Lohn</span><span style=\"background-color:#DFFF00 \"> verdienen</span> , und ich kann bereit sein , ein paar Tage zu warten , um es zu bekommen , damit einige Gigworker nicht bis auf die Knochen gearbeitet werden müssen ..."
      ],
      "text/plain": [
       "<IPython.core.display.HTML object>"
      ]
     },
     "metadata": {},
     "output_type": "display_data"
    },
    {
     "name": "stdout",
     "output_type": "stream",
     "text": [
      "____________________________________65___________________________________________________\n",
      "['minor', 'minor', 'minor', 'minor', 'minor', 'No-error', 'No-error', 'No-error', 'No-error']\n",
      "\u001b[91m\u001b[1m😤  Minor\u001b[0m\n",
      "1.6640187999999996\n"
     ]
    },
    {
     "data": {
      "text/html": [
       " <span style=\"background-color:#e0e0e0 \">2.8029106</span> <span style=\"background-color:#DFFF00 \">4.4669294</span>"
      ],
      "text/plain": [
       "<IPython.core.display.HTML object>"
      ]
     },
     "metadata": {},
     "output_type": "display_data"
    },
    {
     "data": {
      "text/html": [
       " Tap <span style=\"background-color:#DFFF00 \">on</span> the More icon at the bottom-right of the screen ( 3 horizontal lines ) ."
      ],
      "text/plain": [
       "<IPython.core.display.HTML object>"
      ]
     },
     "metadata": {},
     "output_type": "display_data"
    },
    {
     "data": {
      "text/html": [
       " Tippen Sie <span style=\"background-color:#DFFF00 \">auf</span> das Mehr-Symbol unten rechts auf dem Bildschirm ( 3 horizontale Linien ) ."
      ],
      "text/plain": [
       "<IPython.core.display.HTML object>"
      ]
     },
     "metadata": {},
     "output_type": "display_data"
    },
    {
     "name": "stdout",
     "output_type": "stream",
     "text": [
      "____________________________________66___________________________________________________\n",
      "['No-error', 'No-error', 'No-error', 'No-error']\n",
      "\u001b[94m\u001b[1m🤓 OK\u001b[0m\n",
      "1.6391500000000008\n"
     ]
    },
    {
     "data": {
      "text/html": [
       " <span style=\"background-color:#e0e0e0 \">9.918766</span> <span style=\"background-color:#DFFF00 \">11.557916</span>"
      ],
      "text/plain": [
       "<IPython.core.display.HTML object>"
      ]
     },
     "metadata": {},
     "output_type": "display_data"
    },
    {
     "data": {
      "text/html": [
       " Now I am turning to the community to see how widespread this issue is , and maybe <span style=\"background-color:#DFFF00 \">get</span> Apple 's attention on this issue ."
      ],
      "text/plain": [
       "<IPython.core.display.HTML object>"
      ]
     },
     "metadata": {},
     "output_type": "display_data"
    },
    {
     "data": {
      "text/html": [
       " Jetzt wende ich mich an die Community , um zu sehen , wie weit verbreitet dieses Problem ist , und vielleicht Apples Aufmerksamkeit auf dieses Problem <span style=\"background-color:#DFFF00 \">zu</span><span style=\"background-color:#DFFF00 \"> lenken</span> ."
      ],
      "text/plain": [
       "<IPython.core.display.HTML object>"
      ]
     },
     "metadata": {},
     "output_type": "display_data"
    },
    {
     "name": "stdout",
     "output_type": "stream",
     "text": [
      "____________________________________67___________________________________________________\n",
      "['minor', 'minor', 'major', 'major', 'minor', 'minor', 'minor']\n",
      "\u001b[91m\u001b[1m😤  Minor\u001b[0m\n",
      "8.048898000000001\n"
     ]
    },
    {
     "data": {
      "text/html": [
       " <span style=\"background-color:#e0e0e0 \">2.453093</span> <span style=\"background-color:#DFFF00 \">10.501991</span>"
      ],
      "text/plain": [
       "<IPython.core.display.HTML object>"
      ]
     },
     "metadata": {},
     "output_type": "display_data"
    },
    {
     "data": {
      "text/html": [
       " Thank you for taking the time to talk with me today and I <span style=\"background-color:#DFFF00 \">hope</span><span style=\"background-color:#DFFF00 \"> I</span><span style=\"background-color:#DFFF00 \"> have</span><span style=\"background-color:#DFFF00 \"> managed</span><span style=\"background-color:#DFFF00 \"> to</span><span style=\"background-color:#DFFF00 \"> resolve</span><span style=\"background-color:#DFFF00 \"> your</span><span style=\"background-color:#DFFF00 \"> query</span><span style=\"background-color:#DFFF00 \"> ,</span><span style=\"background-color:#DFFF00 \"> if</span><span style=\"background-color:#DFFF00 \"> you</span><span style=\"background-color:#DFFF00 \"> wouldn</span><span style=\"background-color:#DFFF00 \"> 't</span><span style=\"background-color:#DFFF00 \"> mind</span> rating our chat today based on my customer service skills I would really appreciate it , the rating button can be found on this chat ."
      ],
      "text/plain": [
       "<IPython.core.display.HTML object>"
      ]
     },
     "metadata": {},
     "output_type": "display_data"
    },
    {
     "data": {
      "text/html": [
       " Vielen Dank , dass Sie sich heute die Zeit genommen haben , mit mir zu sprechen , und <span style=\"background-color:#DFFF00 \">ich</span><span style=\"background-color:#DFFF00 \"> hoffe</span><span style=\"background-color:#DFFF00 \"> ,</span><span style=\"background-color:#DFFF00 \"> ich</span><span style=\"background-color:#DFFF00 \"> habe</span><span style=\"background-color:#DFFF00 \"> es</span><span style=\"background-color:#DFFF00 \"> geschafft</span><span style=\"background-color:#DFFF00 \"> ,</span><span style=\"background-color:#DFFF00 \"> Ihre</span><span style=\"background-color:#DFFF00 \"> Frage</span><span style=\"background-color:#DFFF00 \"> zu</span><span style=\"background-color:#DFFF00 \"> lösen</span><span style=\"background-color:#DFFF00 \"> .</span><span style=\"background-color:#DFFF00 \"> Wenn</span><span style=\"background-color:#DFFF00 \"> es</span><span style=\"background-color:#DFFF00 \"> Ihnen</span><span style=\"background-color:#DFFF00 \"> nichts</span> ausmacht , unseren Chat heute basierend auf meinen Kundendienstfähigkeiten zu bewerten , würde ich mich sehr darüber freuen , dass Sie die Bewertungsschaltfläche finden können in diesem Chat ."
      ],
      "text/plain": [
       "<IPython.core.display.HTML object>"
      ]
     },
     "metadata": {},
     "output_type": "display_data"
    },
    {
     "name": "stdout",
     "output_type": "stream",
     "text": [
      "____________________________________68___________________________________________________\n",
      "['No-error', 'No-error', 'No-error', 'No-error']\n",
      "\u001b[94m\u001b[1m🤓 OK\u001b[0m\n",
      "0.0\n"
     ]
    },
    {
     "data": {
      "text/html": [
       " <span style=\"background-color:#e0e0e0 \">13.852165</span>"
      ],
      "text/plain": [
       "<IPython.core.display.HTML object>"
      ]
     },
     "metadata": {},
     "output_type": "display_data"
    },
    {
     "data": {
      "text/html": [
       " Click on \" My Account \" and in the menu select \" Account Settings \""
      ],
      "text/plain": [
       "<IPython.core.display.HTML object>"
      ]
     },
     "metadata": {},
     "output_type": "display_data"
    },
    {
     "data": {
      "text/html": [
       " Klicken Sie auf \" Mein Konto \" und wählen Sie im Menü \" Kontoeinstellungen \" aus ."
      ],
      "text/plain": [
       "<IPython.core.display.HTML object>"
      ]
     },
     "metadata": {},
     "output_type": "display_data"
    },
    {
     "name": "stdout",
     "output_type": "stream",
     "text": [
      "____________________________________69___________________________________________________\n",
      "['No-error', 'No-error', 'No-error']\n",
      "\u001b[94m\u001b[1m🤓 OK\u001b[0m\n",
      "4.2702656999999995\n"
     ]
    },
    {
     "data": {
      "text/html": [
       " <span style=\"background-color:#e0e0e0 \">6.5432963</span> <span style=\"background-color:#DFFF00 \">7.6427402</span> <span style=\"background-color:#9FE2BF \">10.813562</span>"
      ],
      "text/plain": [
       "<IPython.core.display.HTML object>"
      ]
     },
     "metadata": {},
     "output_type": "display_data"
    },
    {
     "data": {
      "text/html": [
       " The additional financial support will bring the UK <span style=\"background-color:#9FE2BF \">'s</span><span style=\"background-color:#9FE2BF \"> commitment</span> to Afghanistan to <span style=\"background-color:#DFFF00 \">£</span> 286 million this year ."
      ],
      "text/plain": [
       "<IPython.core.display.HTML object>"
      ]
     },
     "metadata": {},
     "output_type": "display_data"
    },
    {
     "data": {
      "text/html": [
       " Die zusätzliche finanzielle Unterstützung wird <span style=\"background-color:#9FE2BF \">das</span><span style=\"background-color:#9FE2BF \"> Engagement</span> des Vereinigten Königreichs in Afghanistan in diesem Jahr auf 286 Millionen <span style=\"background-color:#DFFF00 \">Pfund</span> erhöhen ."
      ],
      "text/plain": [
       "<IPython.core.display.HTML object>"
      ]
     },
     "metadata": {},
     "output_type": "display_data"
    },
    {
     "name": "stdout",
     "output_type": "stream",
     "text": [
      "____________________________________70___________________________________________________\n",
      "['No-error', 'No-error', 'No-error', 'No-error', 'No-error']\n",
      "\u001b[94m\u001b[1m🤓 OK\u001b[0m\n",
      "5.273135\n"
     ]
    },
    {
     "data": {
      "text/html": [
       " <span style=\"background-color:#e0e0e0 \">6.691791</span> <span style=\"background-color:#DFFF00 \">11.964926</span>"
      ],
      "text/plain": [
       "<IPython.core.display.HTML object>"
      ]
     },
     "metadata": {},
     "output_type": "display_data"
    },
    {
     "data": {
      "text/html": [
       " Beside Repair / restore your # PRS <span style=\"background-color:#DFFF00 \">_</span><span style=\"background-color:#DFFF00 \"> ORG</span><span style=\"background-color:#DFFF00 \"> #</span><span style=\"background-color:#DFFF00 \"> account</span><span style=\"background-color:#DFFF00 \"> ,</span> tap Repair / Restore ."
      ],
      "text/plain": [
       "<IPython.core.display.HTML object>"
      ]
     },
     "metadata": {},
     "output_type": "display_data"
    },
    {
     "data": {
      "text/html": [
       " Tippen Sie neben \" # PRS <span style=\"background-color:#DFFF00 \">_</span><span style=\"background-color:#DFFF00 \"> ORG</span><span style=\"background-color:#DFFF00 \"> #</span><span style=\"background-color:#DFFF00 \"> -Konto</span> reparieren / wiederherstellen \" auf \" Reparieren / Wiederherstellen \" ."
      ],
      "text/plain": [
       "<IPython.core.display.HTML object>"
      ]
     },
     "metadata": {},
     "output_type": "display_data"
    },
    {
     "name": "stdout",
     "output_type": "stream",
     "text": [
      "____________________________________71___________________________________________________\n",
      "['No-error', 'No-error', 'No-error']\n",
      "\u001b[94m\u001b[1m🤓 OK\u001b[0m\n",
      "4.851059\n"
     ]
    },
    {
     "data": {
      "text/html": [
       " <span style=\"background-color:#e0e0e0 \">5.602566</span> <span style=\"background-color:#DFFF00 \">10.453625</span>"
      ],
      "text/plain": [
       "<IPython.core.display.HTML object>"
      ]
     },
     "metadata": {},
     "output_type": "display_data"
    },
    {
     "data": {
      "text/html": [
       " So that I can <span style=\"background-color:#DFFF00 \">assist</span> you can you please provide your account details ( Full Name , E-mail address , Postal Address and Order Number )"
      ],
      "text/plain": [
       "<IPython.core.display.HTML object>"
      ]
     },
     "metadata": {},
     "output_type": "display_data"
    },
    {
     "data": {
      "text/html": [
       " Damit ich Ihnen <span style=\"background-color:#DFFF00 \">helfen</span> kann , geben Sie bitte Ihre Kontodaten an ( vollständiger Name , E-Mail-Adresse , Postanschrift und Bestellnummer ) ."
      ],
      "text/plain": [
       "<IPython.core.display.HTML object>"
      ]
     },
     "metadata": {},
     "output_type": "display_data"
    },
    {
     "name": "stdout",
     "output_type": "stream",
     "text": [
      "____________________________________72___________________________________________________\n",
      "['minor', 'minor', 'minor']\n",
      "\u001b[91m\u001b[1m😤  Minor\u001b[0m\n",
      "16.68414\n"
     ]
    },
    {
     "data": {
      "text/html": [
       " <span style=\"background-color:#e0e0e0 \">-5.720015</span> <span style=\"background-color:#DFFF00 \">8.951563</span> <span style=\"background-color:#9FE2BF \">10.964125</span>"
      ],
      "text/plain": [
       "<IPython.core.display.HTML object>"
      ]
     },
     "metadata": {},
     "output_type": "display_data"
    },
    {
     "data": {
      "text/html": [
       " Even if I 'm not in the income level that would pay <span style=\"background-color:#9FE2BF \">more</span><span style=\"background-color:#9FE2BF \"> taxes</span> , I can still buy fewer things that are more expensive so that they can be made by people making a living wage and I can be willing to wait a few days to get it <span style=\"background-color:#DFFF00 \">so</span><span style=\"background-color:#DFFF00 \"> that</span><span style=\"background-color:#DFFF00 \"> some</span><span style=\"background-color:#DFFF00 \"> gig</span><span style=\"background-color:#DFFF00 \"> worker</span><span style=\"background-color:#DFFF00 \"> doesn</span><span style=\"background-color:#DFFF00 \"> 't</span><span style=\"background-color:#DFFF00 \"> have</span><span style=\"background-color:#DFFF00 \"> to</span><span style=\"background-color:#DFFF00 \"> be</span><span style=\"background-color:#DFFF00 \"> worked</span><span style=\"background-color:#DFFF00 \"> to</span><span style=\"background-color:#DFFF00 \"> the</span><span style=\"background-color:#DFFF00 \"> bone</span> ..."
      ],
      "text/plain": [
       "<IPython.core.display.HTML object>"
      ]
     },
     "metadata": {},
     "output_type": "display_data"
    },
    {
     "data": {
      "text/html": [
       " Selbst wenn mein Vermögen nicht höher lag , als dass ich <span style=\"background-color:#9FE2BF \">mehr</span><span style=\"background-color:#9FE2BF \"> Steuern</span> zahlen würde , kann ich immer noch weniger teure Sachen kaufen , damit sie von Menschen hergestellt werden können , die ein existenzsicherndes Einkommen haben . Ich kann bereit sein , ein paar Tage auf die Lieferung zu warten <span style=\"background-color:#DFFF00 \">,</span><span style=\"background-color:#DFFF00 \"> damit</span><span style=\"background-color:#DFFF00 \"> ein</span><span style=\"background-color:#DFFF00 \"> Gig-Mitarbeiter</span><span style=\"background-color:#DFFF00 \"> nicht</span><span style=\"background-color:#DFFF00 \"> bis</span><span style=\"background-color:#DFFF00 \"> auf</span><span style=\"background-color:#DFFF00 \"> die</span><span style=\"background-color:#DFFF00 \"> Knochen</span><span style=\"background-color:#DFFF00 \"> arbeiten</span><span style=\"background-color:#DFFF00 \"> muss</span> ..."
      ],
      "text/plain": [
       "<IPython.core.display.HTML object>"
      ]
     },
     "metadata": {},
     "output_type": "display_data"
    },
    {
     "name": "stdout",
     "output_type": "stream",
     "text": [
      "____________________________________73___________________________________________________\n",
      "['minor', 'minor', 'minor']\n",
      "\u001b[91m\u001b[1m😤  Minor\u001b[0m\n",
      "22.769786\n"
     ]
    },
    {
     "data": {
      "text/html": [
       " <span style=\"background-color:#e0e0e0 \">-11.650965</span> <span style=\"background-color:#DFFF00 \">11.118821</span>"
      ],
      "text/plain": [
       "<IPython.core.display.HTML object>"
      ]
     },
     "metadata": {},
     "output_type": "display_data"
    },
    {
     "data": {
      "text/html": [
       " Even if I 'm not in the income level that would pay more taxes , I can still buy fewer things that are more expensive so that they can be made by people making a living wage and I can be willing to wait a few days to get it so that <span style=\"background-color:#DFFF00 \">some</span><span style=\"background-color:#DFFF00 \"> gig</span><span style=\"background-color:#DFFF00 \"> worker</span><span style=\"background-color:#DFFF00 \"> doesn</span><span style=\"background-color:#DFFF00 \"> 't</span><span style=\"background-color:#DFFF00 \"> have</span><span style=\"background-color:#DFFF00 \"> to</span><span style=\"background-color:#DFFF00 \"> be</span><span style=\"background-color:#DFFF00 \"> worked</span><span style=\"background-color:#DFFF00 \"> to</span><span style=\"background-color:#DFFF00 \"> the</span><span style=\"background-color:#DFFF00 \"> bone</span> ..."
      ],
      "text/plain": [
       "<IPython.core.display.HTML object>"
      ]
     },
     "metadata": {},
     "output_type": "display_data"
    },
    {
     "data": {
      "text/html": [
       " Selbst wenn ich nicht in dem Einkommensniveau bin , das mehr Steuern zahlen würde , kann ich immer noch weniger Dinge kaufen , die teurer sind , damit sie von Menschen hergestellt werden können , die einen existenzsichernden Lohn verdienen , und ich bin bereit , ein paar Tage zu warten , bis ich sie bekomme damit <span style=\"background-color:#DFFF00 \">mancher</span><span style=\"background-color:#DFFF00 \"> Gigworker</span><span style=\"background-color:#DFFF00 \"> nicht</span><span style=\"background-color:#DFFF00 \"> bis</span><span style=\"background-color:#DFFF00 \"> auf</span><span style=\"background-color:#DFFF00 \"> die</span><span style=\"background-color:#DFFF00 \"> Knochen</span><span style=\"background-color:#DFFF00 \"> gearbeitet</span><span style=\"background-color:#DFFF00 \"> werden</span><span style=\"background-color:#DFFF00 \"> muss</span> ..."
      ],
      "text/plain": [
       "<IPython.core.display.HTML object>"
      ]
     },
     "metadata": {},
     "output_type": "display_data"
    },
    {
     "name": "stdout",
     "output_type": "stream",
     "text": [
      "____________________________________74___________________________________________________\n",
      "['minor', 'minor', 'minor']\n",
      "\u001b[91m\u001b[1m😤  Minor\u001b[0m\n",
      "24.178635\n"
     ]
    },
    {
     "data": {
      "text/html": [
       " <span style=\"background-color:#e0e0e0 \">-11.455423</span> <span style=\"background-color:#DFFF00 \">12.723212</span>"
      ],
      "text/plain": [
       "<IPython.core.display.HTML object>"
      ]
     },
     "metadata": {},
     "output_type": "display_data"
    },
    {
     "data": {
      "text/html": [
       " Even if I 'm not in the income level that would pay more taxes , I can still buy fewer things <span style=\"background-color:#DFFF00 \">that</span><span style=\"background-color:#DFFF00 \"> are</span><span style=\"background-color:#DFFF00 \"> more</span><span style=\"background-color:#DFFF00 \"> expensive</span><span style=\"background-color:#DFFF00 \"> so</span><span style=\"background-color:#DFFF00 \"> that</span><span style=\"background-color:#DFFF00 \"> they</span><span style=\"background-color:#DFFF00 \"> can</span><span style=\"background-color:#DFFF00 \"> be</span><span style=\"background-color:#DFFF00 \"> made</span><span style=\"background-color:#DFFF00 \"> by</span><span style=\"background-color:#DFFF00 \"> people</span><span style=\"background-color:#DFFF00 \"> making</span><span style=\"background-color:#DFFF00 \"> a</span><span style=\"background-color:#DFFF00 \"> living</span><span style=\"background-color:#DFFF00 \"> wage</span> and I can be willing to wait a few days to get it so that some gig worker doesn 't have to be worked to the bone ..."
      ],
      "text/plain": [
       "<IPython.core.display.HTML object>"
      ]
     },
     "metadata": {},
     "output_type": "display_data"
    },
    {
     "data": {
      "text/html": [
       " Selbst wenn ich nicht in dem Einkommensniveau bin , das mehr Steuern zahlen würde , kann ich immer noch weniger Dinge kaufen <span style=\"background-color:#DFFF00 \">,</span><span style=\"background-color:#DFFF00 \"> die</span><span style=\"background-color:#DFFF00 \"> teurer</span><span style=\"background-color:#DFFF00 \"> sind</span><span style=\"background-color:#DFFF00 \"> ,</span><span style=\"background-color:#DFFF00 \"> damit</span><span style=\"background-color:#DFFF00 \"> sie</span><span style=\"background-color:#DFFF00 \"> von</span><span style=\"background-color:#DFFF00 \"> Leuten</span><span style=\"background-color:#DFFF00 \"> gemacht</span><span style=\"background-color:#DFFF00 \"> werden</span><span style=\"background-color:#DFFF00 \"> können</span><span style=\"background-color:#DFFF00 \"> ,</span><span style=\"background-color:#DFFF00 \"> die</span><span style=\"background-color:#DFFF00 \"> einen</span><span style=\"background-color:#DFFF00 \"> existenzsichernden</span><span style=\"background-color:#DFFF00 \"> Lohn</span><span style=\"background-color:#DFFF00 \"> verdienen</span> , und ich kann bereit sein , ein paar Tage zu warten , um es zu bekommen , damit ein Gig-Arbeiter nicht bis auf die Knochen gearbeitet werden muss ..."
      ],
      "text/plain": [
       "<IPython.core.display.HTML object>"
      ]
     },
     "metadata": {},
     "output_type": "display_data"
    },
    {
     "name": "stdout",
     "output_type": "stream",
     "text": [
      "____________________________________75___________________________________________________\n",
      "['minor', 'minor', 'minor']\n",
      "\u001b[91m\u001b[1m😤  Minor\u001b[0m\n",
      "23.492072999999998\n"
     ]
    },
    {
     "data": {
      "text/html": [
       " <span style=\"background-color:#e0e0e0 \">-11.455423</span> <span style=\"background-color:#DFFF00 \">12.03665</span>"
      ],
      "text/plain": [
       "<IPython.core.display.HTML object>"
      ]
     },
     "metadata": {},
     "output_type": "display_data"
    },
    {
     "data": {
      "text/html": [
       " Even if I 'm not in the income level that would pay more taxes , I can still buy fewer things that are more expensive so that they can be made by people making <span style=\"background-color:#DFFF00 \">a</span><span style=\"background-color:#DFFF00 \"> living</span><span style=\"background-color:#DFFF00 \"> wage</span><span style=\"background-color:#DFFF00 \"> and</span><span style=\"background-color:#DFFF00 \"> I</span><span style=\"background-color:#DFFF00 \"> can</span><span style=\"background-color:#DFFF00 \"> be</span><span style=\"background-color:#DFFF00 \"> willing</span><span style=\"background-color:#DFFF00 \"> to</span><span style=\"background-color:#DFFF00 \"> wait</span><span style=\"background-color:#DFFF00 \"> a</span><span style=\"background-color:#DFFF00 \"> few</span><span style=\"background-color:#DFFF00 \"> days</span><span style=\"background-color:#DFFF00 \"> to</span> get it so that some gig worker doesn 't have to be worked to the bone ..."
      ],
      "text/plain": [
       "<IPython.core.display.HTML object>"
      ]
     },
     "metadata": {},
     "output_type": "display_data"
    },
    {
     "data": {
      "text/html": [
       " Selbst wenn ich nicht in dem Einkommensniveau bin , das mehr Steuern zahlen würde , kann ich immer noch weniger Dinge kaufen , die teurer sind , damit sie von Leuten gemacht werden können , die <span style=\"background-color:#DFFF00 \">einen</span><span style=\"background-color:#DFFF00 \"> existenzsichernden</span><span style=\"background-color:#DFFF00 \"> Lohn</span><span style=\"background-color:#DFFF00 \"> verdienen</span><span style=\"background-color:#DFFF00 \"> ,</span><span style=\"background-color:#DFFF00 \"> und</span><span style=\"background-color:#DFFF00 \"> ich</span><span style=\"background-color:#DFFF00 \"> kann</span><span style=\"background-color:#DFFF00 \"> bereit</span><span style=\"background-color:#DFFF00 \"> sein</span><span style=\"background-color:#DFFF00 \"> ,</span><span style=\"background-color:#DFFF00 \"> ein</span><span style=\"background-color:#DFFF00 \"> paar</span><span style=\"background-color:#DFFF00 \"> Tage</span><span style=\"background-color:#DFFF00 \"> zu</span><span style=\"background-color:#DFFF00 \"> warten</span> , um es zu bekommen , damit ein Gig-Arbeiter nicht bis zum Knochen gearbeitet werden muss ."
      ],
      "text/plain": [
       "<IPython.core.display.HTML object>"
      ]
     },
     "metadata": {},
     "output_type": "display_data"
    },
    {
     "name": "stdout",
     "output_type": "stream",
     "text": [
      "____________________________________76___________________________________________________\n",
      "['minor', 'minor', 'minor', 'minor']\n",
      "\u001b[91m\u001b[1m😤  Minor\u001b[0m\n",
      "21.088833\n"
     ]
    },
    {
     "data": {
      "text/html": [
       " <span style=\"background-color:#e0e0e0 \">-8.213345</span> <span style=\"background-color:#DFFF00 \">12.875488</span>"
      ],
      "text/plain": [
       "<IPython.core.display.HTML object>"
      ]
     },
     "metadata": {},
     "output_type": "display_data"
    },
    {
     "data": {
      "text/html": [
       " <span style=\"background-color:#DFFF00 \">Even</span><span style=\"background-color:#DFFF00 \"> if</span><span style=\"background-color:#DFFF00 \"> I</span><span style=\"background-color:#DFFF00 \"> 'm</span><span style=\"background-color:#DFFF00 \"> not</span><span style=\"background-color:#DFFF00 \"> in</span><span style=\"background-color:#DFFF00 \"> the</span><span style=\"background-color:#DFFF00 \"> income</span><span style=\"background-color:#DFFF00 \"> level</span><span style=\"background-color:#DFFF00 \"> that</span><span style=\"background-color:#DFFF00 \"> would</span><span style=\"background-color:#DFFF00 \"> pay</span><span style=\"background-color:#DFFF00 \"> more</span><span style=\"background-color:#DFFF00 \"> taxes</span><span style=\"background-color:#DFFF00 \"> ,</span> I can still buy fewer things that are more expensive so that they can be made by people making a living wage and I can be willing to wait a few days to get it so that some gig worker doesn 't have to be worked to the bone ..."
      ],
      "text/plain": [
       "<IPython.core.display.HTML object>"
      ]
     },
     "metadata": {},
     "output_type": "display_data"
    },
    {
     "data": {
      "text/html": [
       " <span style=\"background-color:#DFFF00 \">Selbst</span><span style=\"background-color:#DFFF00 \"> wenn</span><span style=\"background-color:#DFFF00 \"> ich</span><span style=\"background-color:#DFFF00 \"> nicht</span><span style=\"background-color:#DFFF00 \"> auf</span><span style=\"background-color:#DFFF00 \"> dem</span><span style=\"background-color:#DFFF00 \"> Einkommensniveau</span><span style=\"background-color:#DFFF00 \"> bin</span><span style=\"background-color:#DFFF00 \"> ,</span><span style=\"background-color:#DFFF00 \"> das</span><span style=\"background-color:#DFFF00 \"> mehr</span><span style=\"background-color:#DFFF00 \"> Steuern</span><span style=\"background-color:#DFFF00 \"> zahlen</span><span style=\"background-color:#DFFF00 \"> würde</span><span style=\"background-color:#DFFF00 \"> ,</span> kann ich immer noch weniger Dinge kaufen , die teurer sind , damit sie von Menschen gemacht werden können , die ein Lebensgehalt verdienen , und ich kann bereit sein , ein paar Tage zu warten , um es zu bekommen , damit einige Gig-Arbeiter nicht bis zum Knochen gearbeitet werden müssen ..."
      ],
      "text/plain": [
       "<IPython.core.display.HTML object>"
      ]
     },
     "metadata": {},
     "output_type": "display_data"
    },
    {
     "name": "stdout",
     "output_type": "stream",
     "text": [
      "____________________________________77___________________________________________________\n",
      "['No-error', 'No-error', 'No-error', 'No-error', 'No-error', 'No-error']\n",
      "\u001b[94m\u001b[1m🤓 OK\u001b[0m\n",
      "0.0\n"
     ]
    },
    {
     "data": {
      "text/html": [
       " <span style=\"background-color:#e0e0e0 \">7.658812</span>"
      ],
      "text/plain": [
       "<IPython.core.display.HTML object>"
      ]
     },
     "metadata": {},
     "output_type": "display_data"
    },
    {
     "data": {
      "text/html": [
       " I 'm healthy in general , but the flu always hits me very hard ."
      ],
      "text/plain": [
       "<IPython.core.display.HTML object>"
      ]
     },
     "metadata": {},
     "output_type": "display_data"
    },
    {
     "data": {
      "text/html": [
       " Ich bin im Allgemeinen gesund , aber die Grippe trifft mich immer sehr hart ."
      ],
      "text/plain": [
       "<IPython.core.display.HTML object>"
      ]
     },
     "metadata": {},
     "output_type": "display_data"
    },
    {
     "name": "stdout",
     "output_type": "stream",
     "text": [
      "____________________________________78___________________________________________________\n",
      "['No-error', 'No-error', 'No-error']\n",
      "\u001b[94m\u001b[1m🤓 OK\u001b[0m\n",
      "0.0\n"
     ]
    },
    {
     "data": {
      "text/html": [
       " <span style=\"background-color:#e0e0e0 \">10.87358</span>"
      ],
      "text/plain": [
       "<IPython.core.display.HTML object>"
      ]
     },
     "metadata": {},
     "output_type": "display_data"
    },
    {
     "data": {
      "text/html": [
       " It wasn 't , probably because I didn 't get exposed to a lot of the virus , but it was bad enough ."
      ],
      "text/plain": [
       "<IPython.core.display.HTML object>"
      ]
     },
     "metadata": {},
     "output_type": "display_data"
    },
    {
     "data": {
      "text/html": [
       " Das war es nicht , wahrscheinlich weil ich dem Virus nicht viel ausgesetzt war , aber es war schlimm genug ."
      ],
      "text/plain": [
       "<IPython.core.display.HTML object>"
      ]
     },
     "metadata": {},
     "output_type": "display_data"
    },
    {
     "name": "stdout",
     "output_type": "stream",
     "text": [
      "____________________________________79___________________________________________________\n",
      "['No-error', 'No-error', 'No-error', 'No-error']\n",
      "\u001b[94m\u001b[1m🤓 OK\u001b[0m\n",
      "2.4033929999999994\n"
     ]
    },
    {
     "data": {
      "text/html": [
       " <span style=\"background-color:#e0e0e0 \">8.715058</span> <span style=\"background-color:#DFFF00 \">11.118451</span>"
      ],
      "text/plain": [
       "<IPython.core.display.HTML object>"
      ]
     },
     "metadata": {},
     "output_type": "display_data"
    },
    {
     "data": {
      "text/html": [
       " Those who <span style=\"background-color:#DFFF00 \">know</span><span style=\"background-color:#DFFF00 \"> about</span> the Softie 12 Osprey have either used one or wished they had one ."
      ],
      "text/plain": [
       "<IPython.core.display.HTML object>"
      ]
     },
     "metadata": {},
     "output_type": "display_data"
    },
    {
     "data": {
      "text/html": [
       " Diejenigen , die den Softie 12 Osprey <span style=\"background-color:#DFFF00 \">kennen</span> , haben entweder einen benutzt oder sich gewünscht , einen zu haben ."
      ],
      "text/plain": [
       "<IPython.core.display.HTML object>"
      ]
     },
     "metadata": {},
     "output_type": "display_data"
    },
    {
     "name": "stdout",
     "output_type": "stream",
     "text": [
      "____________________________________80___________________________________________________\n",
      "['major', 'major', 'major', 'major', 'major']\n",
      "['Accuracy/Mistranslation', 'Accuracy/Mistranslation', 'Accuracy/Mistranslation', 'Accuracy/Mistranslation', 'Accuracy/Mistranslation']\n",
      "\u001b[91m\u001b[1m🤬  Major\u001b[0m\n",
      "9.549372100000001\n"
     ]
    },
    {
     "data": {
      "text/html": [
       " <span style=\"background-color:#e0e0e0 \">0.6770439</span> <span style=\"background-color:#DFFF00 \">7.980509</span> <span style=\"background-color:#9FE2BF \">10.226416</span>"
      ],
      "text/plain": [
       "<IPython.core.display.HTML object>"
      ]
     },
     "metadata": {},
     "output_type": "display_data"
    },
    {
     "data": {
      "text/html": [
       " Due to no <span style=\"background-color:#9FE2BF \">response</span> , and for quality purposes , I have to release this chat , please feel free to contact us for any inquiry or question , We will be more than glad to provide you <span style=\"background-color:#DFFF00 \">assistance</span> with it ."
      ],
      "text/plain": [
       "<IPython.core.display.HTML object>"
      ]
     },
     "metadata": {},
     "output_type": "display_data"
    },
    {
     "data": {
      "text/html": [
       " Da ich nicht <span style=\"background-color:#9FE2BF \">antworte</span> und aus Qualitätsgründen muss ich diesen Chat freigeben . Bitte zögern Sie nicht , uns für Anfragen oder Fragen zu kontaktieren . Wir helfen Ihnen <span style=\"background-color:#DFFF00 \">gerne</span><span style=\"background-color:#DFFF00 \"> weiter</span> ."
      ],
      "text/plain": [
       "<IPython.core.display.HTML object>"
      ]
     },
     "metadata": {},
     "output_type": "display_data"
    },
    {
     "name": "stdout",
     "output_type": "stream",
     "text": [
      "____________________________________81___________________________________________________\n",
      "['No-error', 'No-error', 'No-error']\n",
      "\u001b[94m\u001b[1m🤓 OK\u001b[0m\n",
      "0.0\n"
     ]
    },
    {
     "data": {
      "text/html": [
       " <span style=\"background-color:#e0e0e0 \">13.858445</span>"
      ],
      "text/plain": [
       "<IPython.core.display.HTML object>"
      ]
     },
     "metadata": {},
     "output_type": "display_data"
    },
    {
     "data": {
      "text/html": [
       " The group said its members were \" exasperated \" by the news of only 23 new licenses and felt \" betrayed \" by the European Commission , which could launch legal action against Britain over the issue ."
      ],
      "text/plain": [
       "<IPython.core.display.HTML object>"
      ]
     },
     "metadata": {},
     "output_type": "display_data"
    },
    {
     "data": {
      "text/html": [
       " Die Gruppe sagte , ihre Mitglieder seien \" verärgert \" über die Nachricht von nur 23 neuen Lizenzen und fühlten sich von der Europäischen Kommission \" verraten \" , die wegen dieser Angelegenheit rechtliche Schritte gegen Großbritannien einleiten könnte ."
      ],
      "text/plain": [
       "<IPython.core.display.HTML object>"
      ]
     },
     "metadata": {},
     "output_type": "display_data"
    },
    {
     "name": "stdout",
     "output_type": "stream",
     "text": [
      "____________________________________82___________________________________________________\n",
      "['No-error', 'No-error', 'No-error', 'No-error', 'No-error', 'No-error']\n",
      "\u001b[94m\u001b[1m🤓 OK\u001b[0m\n",
      "2.2045640000000013\n"
     ]
    },
    {
     "data": {
      "text/html": [
       " <span style=\"background-color:#e0e0e0 \">8.795518</span> <span style=\"background-color:#DFFF00 \">11.000082</span>"
      ],
      "text/plain": [
       "<IPython.core.display.HTML object>"
      ]
     },
     "metadata": {},
     "output_type": "display_data"
    },
    {
     "data": {
      "text/html": [
       " Checking here again , I can see here that the rider accidentally marked the order <span style=\"background-color:#DFFF00 \">as</span> delivered ."
      ],
      "text/plain": [
       "<IPython.core.display.HTML object>"
      ]
     },
     "metadata": {},
     "output_type": "display_data"
    },
    {
     "data": {
      "text/html": [
       " Wenn ich hier noch einmal nachschaue , kann ich hier sehen , dass der Fahrer die Bestellung versehentlich <span style=\"background-color:#DFFF00 \">als</span> geliefert markiert hat ."
      ],
      "text/plain": [
       "<IPython.core.display.HTML object>"
      ]
     },
     "metadata": {},
     "output_type": "display_data"
    },
    {
     "name": "stdout",
     "output_type": "stream",
     "text": [
      "____________________________________83___________________________________________________\n",
      "['No-error', 'No-error', 'No-error', 'No-error', 'No-error']\n",
      "\u001b[94m\u001b[1m🤓 OK\u001b[0m\n",
      "5.709995000000001\n"
     ]
    },
    {
     "data": {
      "text/html": [
       " <span style=\"background-color:#e0e0e0 \">5.068273</span> <span style=\"background-color:#DFFF00 \">10.778268</span>"
      ],
      "text/plain": [
       "<IPython.core.display.HTML object>"
      ]
     },
     "metadata": {},
     "output_type": "display_data"
    },
    {
     "data": {
      "text/html": [
       " I often have customers ask where an <span style=\"background-color:#DFFF00 \">item</span> is and they ask in the form of a greeting + question , or just a question ."
      ],
      "text/plain": [
       "<IPython.core.display.HTML object>"
      ]
     },
     "metadata": {},
     "output_type": "display_data"
    },
    {
     "data": {
      "text/html": [
       " Ich habe oft Kunden , die fragen , wo sich ein <span style=\"background-color:#DFFF00 \">Artikel</span> befindet , und sie fragen in Form einer Begrüßung + Frage oder nur einer Frage ."
      ],
      "text/plain": [
       "<IPython.core.display.HTML object>"
      ]
     },
     "metadata": {},
     "output_type": "display_data"
    },
    {
     "name": "stdout",
     "output_type": "stream",
     "text": [
      "____________________________________84___________________________________________________\n",
      "['No-error', 'No-error', 'No-error', 'No-error']\n",
      "\u001b[94m\u001b[1m🤓 OK\u001b[0m\n",
      "0.0\n"
     ]
    },
    {
     "data": {
      "text/html": [
       " <span style=\"background-color:#e0e0e0 \">10.822355</span>"
      ],
      "text/plain": [
       "<IPython.core.display.HTML object>"
      ]
     },
     "metadata": {},
     "output_type": "display_data"
    },
    {
     "data": {
      "text/html": [
       " It 's a small tank in a closet ( I live in an old pre-war apartment ) ."
      ],
      "text/plain": [
       "<IPython.core.display.HTML object>"
      ]
     },
     "metadata": {},
     "output_type": "display_data"
    },
    {
     "data": {
      "text/html": [
       " Es ist ein kleiner Tank in einem Schrank ( ich wohne in einer alten Vorkriegswohnung ) ."
      ],
      "text/plain": [
       "<IPython.core.display.HTML object>"
      ]
     },
     "metadata": {},
     "output_type": "display_data"
    },
    {
     "name": "stdout",
     "output_type": "stream",
     "text": [
      "____________________________________85___________________________________________________\n",
      "['major', 'major', 'major']\n",
      "['Accuracy/Mistranslation', 'Accuracy/Mistranslation', 'Accuracy/Mistranslation']\n",
      "\u001b[91m\u001b[1m🤬  Major\u001b[0m\n",
      "2.0093901999999995\n"
     ]
    },
    {
     "data": {
      "text/html": [
       " <span style=\"background-color:#e0e0e0 \">3.4356368</span> <span style=\"background-color:#DFFF00 \">5.445027</span>"
      ],
      "text/plain": [
       "<IPython.core.display.HTML object>"
      ]
     },
     "metadata": {},
     "output_type": "display_data"
    },
    {
     "data": {
      "text/html": [
       " I said I did , and he asked where an <span style=\"background-color:#DFFF00 \">item</span> was , again in a rude tone ."
      ],
      "text/plain": [
       "<IPython.core.display.HTML object>"
      ]
     },
     "metadata": {},
     "output_type": "display_data"
    },
    {
     "data": {
      "text/html": [
       " Ich sagte ja , und er fragte , wo ein <span style=\"background-color:#DFFF00 \">Gegenstand</span> sei , wieder in einem unhöflichen Ton ."
      ],
      "text/plain": [
       "<IPython.core.display.HTML object>"
      ]
     },
     "metadata": {},
     "output_type": "display_data"
    },
    {
     "name": "stdout",
     "output_type": "stream",
     "text": [
      "____________________________________86___________________________________________________\n",
      "['No-error', 'No-error', 'No-error']\n",
      "\u001b[94m\u001b[1m🤓 OK\u001b[0m\n",
      "1.2797959999999993\n"
     ]
    },
    {
     "data": {
      "text/html": [
       " <span style=\"background-color:#e0e0e0 \">9.841459</span> <span style=\"background-color:#DFFF00 \">11.121255</span>"
      ],
      "text/plain": [
       "<IPython.core.display.HTML object>"
      ]
     },
     "metadata": {},
     "output_type": "display_data"
    },
    {
     "data": {
      "text/html": [
       " It 's not a coincidence the civil rights movement was very much intertwined with minority churches , masjid , <span style=\"background-color:#DFFF00 \">&</span> temples ."
      ],
      "text/plain": [
       "<IPython.core.display.HTML object>"
      ]
     },
     "metadata": {},
     "output_type": "display_data"
    },
    {
     "data": {
      "text/html": [
       " Es ist kein Zufall , dass die Bürgerrechtsbewegung sehr stark mit Minderheitenkirchen , Moscheen <span style=\"background-color:#DFFF00 \">und</span> Tempeln verflochten war ."
      ],
      "text/plain": [
       "<IPython.core.display.HTML object>"
      ]
     },
     "metadata": {},
     "output_type": "display_data"
    },
    {
     "name": "stdout",
     "output_type": "stream",
     "text": [
      "____________________________________87___________________________________________________\n",
      "['No-error', 'No-error', 'No-error', 'No-error']\n",
      "\u001b[94m\u001b[1m🤓 OK\u001b[0m\n",
      "4.150611\n"
     ]
    },
    {
     "data": {
      "text/html": [
       " <span style=\"background-color:#e0e0e0 \">9.083373</span> <span style=\"background-color:#DFFF00 \">13.233984</span>"
      ],
      "text/plain": [
       "<IPython.core.display.HTML object>"
      ]
     },
     "metadata": {},
     "output_type": "display_data"
    },
    {
     "data": {
      "text/html": [
       " Religious organizations and institutions should generally <span style=\"background-color:#DFFF00 \">be</span><span style=\"background-color:#DFFF00 \"> held</span><span style=\"background-color:#DFFF00 \"> to</span> the same standards as any other charitable organization ."
      ],
      "text/plain": [
       "<IPython.core.display.HTML object>"
      ]
     },
     "metadata": {},
     "output_type": "display_data"
    },
    {
     "data": {
      "text/html": [
       " Religiöse Organisationen und Institutionen sollten im Allgemeinen den gleichen Standards <span style=\"background-color:#DFFF00 \">unterliegen</span> wie jede andere gemeinnützige Organisation ."
      ],
      "text/plain": [
       "<IPython.core.display.HTML object>"
      ]
     },
     "metadata": {},
     "output_type": "display_data"
    },
    {
     "name": "stdout",
     "output_type": "stream",
     "text": [
      "____________________________________88___________________________________________________\n",
      "['No-error', 'No-error', 'No-error', 'No-error']\n",
      "\u001b[94m\u001b[1m🤓 OK\u001b[0m\n",
      "0.0\n"
     ]
    },
    {
     "data": {
      "text/html": [
       " <span style=\"background-color:#e0e0e0 \">8.456552</span>"
      ],
      "text/plain": [
       "<IPython.core.display.HTML object>"
      ]
     },
     "metadata": {},
     "output_type": "display_data"
    },
    {
     "data": {
      "text/html": [
       " In some communities , the church provides a safe place for some persecuted social groups ."
      ],
      "text/plain": [
       "<IPython.core.display.HTML object>"
      ]
     },
     "metadata": {},
     "output_type": "display_data"
    },
    {
     "data": {
      "text/html": [
       " In einigen Gemeinden bietet die Kirche einen sicheren Ort für einige verfolgte soziale Gruppen ."
      ],
      "text/plain": [
       "<IPython.core.display.HTML object>"
      ]
     },
     "metadata": {},
     "output_type": "display_data"
    },
    {
     "name": "stdout",
     "output_type": "stream",
     "text": [
      "____________________________________89___________________________________________________\n",
      "['major', 'major', 'major', 'major']\n",
      "['Accuracy/Mistranslation', 'Accuracy/Mistranslation', 'Accuracy/Mistranslation', 'Accuracy/Mistranslation']\n",
      "\u001b[91m\u001b[1m🤬  Major\u001b[0m\n",
      "10.874158\n"
     ]
    },
    {
     "data": {
      "text/html": [
       " <span style=\"background-color:#e0e0e0 \">2.369762</span> <span style=\"background-color:#DFFF00 \">9.230332</span> <span style=\"background-color:#9FE2BF \">13.24392</span>"
      ],
      "text/plain": [
       "<IPython.core.display.HTML object>"
      ]
     },
     "metadata": {},
     "output_type": "display_data"
    },
    {
     "data": {
      "text/html": [
       " When an image was published on Sunday showing Johnson <span style=\"background-color:#DFFF00 \">on</span><span style=\"background-color:#DFFF00 \"> a</span><span style=\"background-color:#DFFF00 \"> screen</span><span style=\"background-color:#DFFF00 \"> hosting</span><span style=\"background-color:#DFFF00 \"> a</span><span style=\"background-color:#DFFF00 \"> Christmas</span><span style=\"background-color:#DFFF00 \"> quiz</span><span style=\"background-color:#DFFF00 \"> for</span><span style=\"background-color:#DFFF00 \"> staffers</span><span style=\"background-color:#DFFF00 \"> tuning</span><span style=\"background-color:#DFFF00 \"> in</span><span style=\"background-color:#DFFF00 \"> from</span> No 10 and at home , it was not quite the <span style=\"background-color:#9FE2BF \">smoking</span><span style=\"background-color:#9FE2BF \"> gun</span> some thought would finally skewer him , however ."
      ],
      "text/plain": [
       "<IPython.core.display.HTML object>"
      ]
     },
     "metadata": {},
     "output_type": "display_data"
    },
    {
     "data": {
      "text/html": [
       " Als ein Bild am Sonntag veröffentlicht wurde , auf dem Johnson <span style=\"background-color:#DFFF00 \">auf</span><span style=\"background-color:#DFFF00 \"> einem</span><span style=\"background-color:#DFFF00 \"> Bildschirm</span><span style=\"background-color:#DFFF00 \"> ein</span><span style=\"background-color:#DFFF00 \"> Weihnachtsquiz</span><span style=\"background-color:#DFFF00 \"> für</span><span style=\"background-color:#DFFF00 \"> Mitarbeiter</span><span style=\"background-color:#DFFF00 \"> aufnimmt</span><span style=\"background-color:#DFFF00 \"> ,</span><span style=\"background-color:#DFFF00 \"> die</span><span style=\"background-color:#DFFF00 \"> von</span> Nr. 10 und zu Hause angepasst sind , war es jedoch nicht ganz die <span style=\"background-color:#9FE2BF \">Rauchpistole</span> , von der jemand dachte , dass er ihn schließlich abschütteln würde ."
      ],
      "text/plain": [
       "<IPython.core.display.HTML object>"
      ]
     },
     "metadata": {},
     "output_type": "display_data"
    },
    {
     "name": "stdout",
     "output_type": "stream",
     "text": [
      "____________________________________90___________________________________________________\n",
      "['major', 'major', 'major']\n",
      "['Accuracy/Mistranslation', 'Accuracy/Mistranslation', 'Accuracy/Mistranslation']\n",
      "\u001b[91m\u001b[1m🤬  Major\u001b[0m\n",
      "24.685064\n"
     ]
    },
    {
     "data": {
      "text/html": [
       " <span style=\"background-color:#e0e0e0 \">-11.730123</span> <span style=\"background-color:#DFFF00 \">12.954941</span>"
      ],
      "text/plain": [
       "<IPython.core.display.HTML object>"
      ]
     },
     "metadata": {},
     "output_type": "display_data"
    },
    {
     "data": {
      "text/html": [
       " There have been other parties hosted in No 10 and Conservative party headquarters in which people <span style=\"background-color:#DFFF00 \">drank</span><span style=\"background-color:#DFFF00 \"> copious</span><span style=\"background-color:#DFFF00 \"> amounts</span><span style=\"background-color:#DFFF00 \"> of</span><span style=\"background-color:#DFFF00 \"> alcohol</span><span style=\"background-color:#DFFF00 \"> ,</span> played party games , exchanged secret Santa gifts and socialised into the small hours , sources have told media outlets including the Guardian , Mirror , BBC and Times ."
      ],
      "text/plain": [
       "<IPython.core.display.HTML object>"
      ]
     },
     "metadata": {},
     "output_type": "display_data"
    },
    {
     "data": {
      "text/html": [
       " Es gab andere Parteien , die in Nr. 10 und im Hauptquartier der konservativen Partei veranstaltet wurden , in denen Menschen <span style=\"background-color:#DFFF00 \">reichlich</span><span style=\"background-color:#DFFF00 \"> Alkohol</span><span style=\"background-color:#DFFF00 \"> tranken</span><span style=\"background-color:#DFFF00 \"> ,</span> Party-Spiele spielen , geheime Weihnachtsgeschenke austauschen und in den kleinen Stunden gesellschaftet wurden , haben Quellen Medien wie Guardian , Mirror , BBC und Times gesagt ."
      ],
      "text/plain": [
       "<IPython.core.display.HTML object>"
      ]
     },
     "metadata": {},
     "output_type": "display_data"
    },
    {
     "name": "stdout",
     "output_type": "stream",
     "text": [
      "____________________________________91___________________________________________________\n",
      "['major', 'major', 'major']\n",
      "['Accuracy/Mistranslation', 'Accuracy/Mistranslation', 'Accuracy/Mistranslation']\n",
      "\u001b[91m\u001b[1m🤬  Major\u001b[0m\n",
      "22.822239500000002\n"
     ]
    },
    {
     "data": {
      "text/html": [
       " <span style=\"background-color:#e0e0e0 \">-10.2653265</span> <span style=\"background-color:#DFFF00 \">12.556913</span>"
      ],
      "text/plain": [
       "<IPython.core.display.HTML object>"
      ]
     },
     "metadata": {},
     "output_type": "display_data"
    },
    {
     "data": {
      "text/html": [
       " There have been other parties hosted in No 10 and <span style=\"background-color:#DFFF00 \">Conservative</span><span style=\"background-color:#DFFF00 \"> party</span><span style=\"background-color:#DFFF00 \"> headquarters</span> in which people drank copious amounts of alcohol , played party games , exchanged secret Santa gifts and socialised into the small hours , sources have told media outlets including the Guardian , Mirror , BBC and Times ."
      ],
      "text/plain": [
       "<IPython.core.display.HTML object>"
      ]
     },
     "metadata": {},
     "output_type": "display_data"
    },
    {
     "data": {
      "text/html": [
       " Es gab andere Parteien , die in Nr. 10 und <span style=\"background-color:#DFFF00 \">der</span><span style=\"background-color:#DFFF00 \"> Parteizentrale</span><span style=\"background-color:#DFFF00 \"> der</span><span style=\"background-color:#DFFF00 \"> Konservativen</span> veranstaltet wurden , in denen Menschen reichlich Alkohol tranken , Partyspiele spielten , geheime Geschenke des Weihnachtsmanns austauschten und bis in die kleinen Stunden sozialisierten , Quellen haben Medien wie Guardian , Mirror , BBC und Times erzählt ."
      ],
      "text/plain": [
       "<IPython.core.display.HTML object>"
      ]
     },
     "metadata": {},
     "output_type": "display_data"
    },
    {
     "name": "stdout",
     "output_type": "stream",
     "text": [
      "____________________________________92___________________________________________________\n",
      "['No-error', 'No-error', 'No-error']\n",
      "\u001b[94m\u001b[1m🤓 OK\u001b[0m\n",
      "2.1595639999999996\n"
     ]
    },
    {
     "data": {
      "text/html": [
       " <span style=\"background-color:#e0e0e0 \">8.196377</span> <span style=\"background-color:#DFFF00 \">10.355941</span>"
      ],
      "text/plain": [
       "<IPython.core.display.HTML object>"
      ]
     },
     "metadata": {},
     "output_type": "display_data"
    },
    {
     "data": {
      "text/html": [
       " - Turn on your computer and connect the <span style=\"background-color:#DFFF00 \">included</span> USB power cord to your computer first , and then your eReader ."
      ],
      "text/plain": [
       "<IPython.core.display.HTML object>"
      ]
     },
     "metadata": {},
     "output_type": "display_data"
    },
    {
     "data": {
      "text/html": [
       " - Schalten Sie Ihren Computer ein und schließen Sie zuerst das <span style=\"background-color:#DFFF00 \">mitgelieferte</span> USB-Netzkabel an Ihren Computer und dann an Ihren eReader an ."
      ],
      "text/plain": [
       "<IPython.core.display.HTML object>"
      ]
     },
     "metadata": {},
     "output_type": "display_data"
    },
    {
     "name": "stdout",
     "output_type": "stream",
     "text": [
      "____________________________________93___________________________________________________\n",
      "['No-error', 'No-error', 'No-error']\n",
      "\u001b[94m\u001b[1m🤓 OK\u001b[0m\n",
      "1.8862740000000002\n"
     ]
    },
    {
     "data": {
      "text/html": [
       " <span style=\"background-color:#e0e0e0 \">8.479254</span> <span style=\"background-color:#DFFF00 \">10.365528</span>"
      ],
      "text/plain": [
       "<IPython.core.display.HTML object>"
      ]
     },
     "metadata": {},
     "output_type": "display_data"
    },
    {
     "data": {
      "text/html": [
       " - Plug the wall charger ( not included ) to a power outlet , and then <span style=\"background-color:#DFFF00 \">connect</span> your eReader to the wall charger ."
      ],
      "text/plain": [
       "<IPython.core.display.HTML object>"
      ]
     },
     "metadata": {},
     "output_type": "display_data"
    },
    {
     "data": {
      "text/html": [
       " - Schließen Sie das Ladegerät ( nicht im Lieferumfang enthalten ) an eine Steckdose an und <span style=\"background-color:#DFFF00 \">schließen</span><span style=\"background-color:#DFFF00 \"> Sie</span> dann Ihren eReader an das Ladegerät an ."
      ],
      "text/plain": [
       "<IPython.core.display.HTML object>"
      ]
     },
     "metadata": {},
     "output_type": "display_data"
    },
    {
     "name": "stdout",
     "output_type": "stream",
     "text": [
      "____________________________________94___________________________________________________\n",
      "['No-error', 'No-error', 'No-error', 'No-error']\n",
      "\u001b[94m\u001b[1m🤓 OK\u001b[0m\n",
      "1.0047599999999992\n"
     ]
    },
    {
     "data": {
      "text/html": [
       " <span style=\"background-color:#e0e0e0 \">8.92502</span> <span style=\"background-color:#DFFF00 \">9.92978</span>"
      ],
      "text/plain": [
       "<IPython.core.display.HTML object>"
      ]
     },
     "metadata": {},
     "output_type": "display_data"
    },
    {
     "data": {
      "text/html": [
       " - Plug the wall charger ( not included ) <span style=\"background-color:#DFFF00 \">to</span> a power outlet , and then connect your eReader to the wall charger ."
      ],
      "text/plain": [
       "<IPython.core.display.HTML object>"
      ]
     },
     "metadata": {},
     "output_type": "display_data"
    },
    {
     "data": {
      "text/html": [
       " - Schließen Sie das Wandladegerät ( nicht im Lieferumfang enthalten ) <span style=\"background-color:#DFFF00 \">an</span> eine Steckdose an und verbinden Sie dann Ihren eReader mit dem Wandladegerät ."
      ],
      "text/plain": [
       "<IPython.core.display.HTML object>"
      ]
     },
     "metadata": {},
     "output_type": "display_data"
    },
    {
     "name": "stdout",
     "output_type": "stream",
     "text": [
      "____________________________________95___________________________________________________\n",
      "['No-error', 'No-error', 'No-error']\n",
      "\u001b[94m\u001b[1m🤓 OK\u001b[0m\n",
      "4.12895\n"
     ]
    },
    {
     "data": {
      "text/html": [
       " <span style=\"background-color:#e0e0e0 \">7.497646</span> <span style=\"background-color:#DFFF00 \">11.626596</span>"
      ],
      "text/plain": [
       "<IPython.core.display.HTML object>"
      ]
     },
     "metadata": {},
     "output_type": "display_data"
    },
    {
     "data": {
      "text/html": [
       " - Turn on your computer and connect <span style=\"background-color:#DFFF00 \">the</span><span style=\"background-color:#DFFF00 \"> included</span><span style=\"background-color:#DFFF00 \"> USB</span><span style=\"background-color:#DFFF00 \"> power</span><span style=\"background-color:#DFFF00 \"> cord</span> to your computer first , and then your eReader ."
      ],
      "text/plain": [
       "<IPython.core.display.HTML object>"
      ]
     },
     "metadata": {},
     "output_type": "display_data"
    },
    {
     "data": {
      "text/html": [
       " - Schalten Sie Ihren Computer ein und schließen <span style=\"background-color:#DFFF00 \">Sie</span><span style=\"background-color:#DFFF00 \"> das</span><span style=\"background-color:#DFFF00 \"> mitgelieferte</span><span style=\"background-color:#DFFF00 \"> USB-Netzkabel</span> zuerst an Ihren Computer und dann an Ihren eReader an ."
      ],
      "text/plain": [
       "<IPython.core.display.HTML object>"
      ]
     },
     "metadata": {},
     "output_type": "display_data"
    },
    {
     "name": "stdout",
     "output_type": "stream",
     "text": [
      "____________________________________96___________________________________________________\n",
      "['major', 'major', 'major']\n",
      "['Accuracy/Mistranslation', 'Accuracy/Mistranslation', 'Accuracy/Mistranslation']\n",
      "\u001b[91m\u001b[1m🤬  Major\u001b[0m\n",
      "5.923780999999999\n"
     ]
    },
    {
     "data": {
      "text/html": [
       " <span style=\"background-color:#e0e0e0 \">4.973315</span> <span style=\"background-color:#DFFF00 \">10.897096</span>"
      ],
      "text/plain": [
       "<IPython.core.display.HTML object>"
      ]
     },
     "metadata": {},
     "output_type": "display_data"
    },
    {
     "data": {
      "text/html": [
       " In you r acclount says that its only link ( <span style=\"background-color:#DFFF00 \">sign</span><span style=\"background-color:#DFFF00 \"> in</span> option ) to access your # PRS _ ORG # account is # PRS _ ORG # ."
      ],
      "text/plain": [
       "<IPython.core.display.HTML object>"
      ]
     },
     "metadata": {},
     "output_type": "display_data"
    },
    {
     "data": {
      "text/html": [
       " In Ihnen r acclount sagt , dass seine einzige Link ( <span style=\"background-color:#DFFF00 \">anmelden</span> Option ) , um Ihre # PRS _ ORG # Konto zugreifen # PRS _ ORG # ."
      ],
      "text/plain": [
       "<IPython.core.display.HTML object>"
      ]
     },
     "metadata": {},
     "output_type": "display_data"
    },
    {
     "name": "stdout",
     "output_type": "stream",
     "text": [
      "____________________________________97___________________________________________________\n",
      "['major', 'major', 'major']\n",
      "['Accuracy/Mistranslation', 'Accuracy/Mistranslation', 'Accuracy/Mistranslation']\n",
      "\u001b[91m\u001b[1m🤬  Major\u001b[0m\n",
      "2.2252486\n"
     ]
    },
    {
     "data": {
      "text/html": [
       " <span style=\"background-color:#e0e0e0 \">2.7948878</span> <span style=\"background-color:#DFFF00 \">5.0201364</span>"
      ],
      "text/plain": [
       "<IPython.core.display.HTML object>"
      ]
     },
     "metadata": {},
     "output_type": "display_data"
    },
    {
     "data": {
      "text/html": [
       " Thank you , please bear with me a moment whilst I look <span style=\"background-color:#DFFF00 \">into</span><span style=\"background-color:#DFFF00 \"> this</span> for you"
      ],
      "text/plain": [
       "<IPython.core.display.HTML object>"
      ]
     },
     "metadata": {},
     "output_type": "display_data"
    },
    {
     "data": {
      "text/html": [
       " Vielen Dank , bitte ertragen Sie einen Moment bei mir , während ich mich <span style=\"background-color:#DFFF00 \">um</span> Sie kümmere ."
      ],
      "text/plain": [
       "<IPython.core.display.HTML object>"
      ]
     },
     "metadata": {},
     "output_type": "display_data"
    },
    {
     "name": "stdout",
     "output_type": "stream",
     "text": [
      "____________________________________98___________________________________________________\n",
      "['No-error', 'No-error', 'No-error', 'No-error']\n",
      "\u001b[94m\u001b[1m🤓 OK\u001b[0m\n",
      "4.846051500000001\n"
     ]
    },
    {
     "data": {
      "text/html": [
       " <span style=\"background-color:#e0e0e0 \">5.5773015</span> <span style=\"background-color:#DFFF00 \">10.423353</span>"
      ],
      "text/plain": [
       "<IPython.core.display.HTML object>"
      ]
     },
     "metadata": {},
     "output_type": "display_data"
    },
    {
     "data": {
      "text/html": [
       " In this case what <span style=\"background-color:#DFFF00 \">you</span> can try is connecting the device using different USB cords ."
      ],
      "text/plain": [
       "<IPython.core.display.HTML object>"
      ]
     },
     "metadata": {},
     "output_type": "display_data"
    },
    {
     "data": {
      "text/html": [
       " In diesem Fall können <span style=\"background-color:#DFFF00 \">Sie</span> versuchen , das Gerät mit verschiedenen USB-Kabeln zu verbinden ."
      ],
      "text/plain": [
       "<IPython.core.display.HTML object>"
      ]
     },
     "metadata": {},
     "output_type": "display_data"
    },
    {
     "name": "stdout",
     "output_type": "stream",
     "text": [
      "____________________________________99___________________________________________________\n",
      "['major', 'major', 'major']\n",
      "['Accuracy/Mistranslation', 'Accuracy/Mistranslation', 'Accuracy/Mistranslation']\n",
      "\u001b[91m\u001b[1m🤬  Major\u001b[0m\n",
      "10.3335813\n"
     ]
    },
    {
     "data": {
      "text/html": [
       " <span style=\"background-color:#e0e0e0 \">2.2220557</span> <span style=\"background-color:#DFFF00 \">7.3368387</span> <span style=\"background-color:#9FE2BF \">12.555637</span>"
      ],
      "text/plain": [
       "<IPython.core.display.HTML object>"
      ]
     },
     "metadata": {},
     "output_type": "display_data"
    },
    {
     "data": {
      "text/html": [
       " I am going to delete and add the book <span style=\"background-color:#DFFF00 \">again</span><span style=\"background-color:#DFFF00 \"> and</span> after you are going to troubleshoot your # PRS _ ORG # app with <span style=\"background-color:#9FE2BF \">2</span> procedures to see if that solves the issue ."
      ],
      "text/plain": [
       "<IPython.core.display.HTML object>"
      ]
     },
     "metadata": {},
     "output_type": "display_data"
    },
    {
     "data": {
      "text/html": [
       " Ich lösche jetzt das Buch und füge es <span style=\"background-color:#DFFF00 \">wieder</span><span style=\"background-color:#DFFF00 \"> hinzu</span><span style=\"background-color:#DFFF00 \"> ;</span> danach beheben Sie das Problem mit Ihrer # PRS _ ORG # -App mit <span style=\"background-color:#9FE2BF \">den</span><span style=\"background-color:#9FE2BF \"> beiden</span> Vorgängen , um zu sehen , ob das Problem dadurch behoben wird ."
      ],
      "text/plain": [
       "<IPython.core.display.HTML object>"
      ]
     },
     "metadata": {},
     "output_type": "display_data"
    },
    {
     "name": "stdout",
     "output_type": "stream",
     "text": [
      "____________________________________100___________________________________________________\n",
      "['No-error', 'No-error', 'No-error', 'No-error']\n",
      "\u001b[94m\u001b[1m🤓 OK\u001b[0m\n",
      "5.5509181\n"
     ]
    },
    {
     "data": {
      "text/html": [
       " <span style=\"background-color:#e0e0e0 \">5.8778224</span> <span style=\"background-color:#DFFF00 \">11.4287405</span>"
      ],
      "text/plain": [
       "<IPython.core.display.HTML object>"
      ]
     },
     "metadata": {},
     "output_type": "display_data"
    },
    {
     "data": {
      "text/html": [
       " Thank you for contacting # PRS _ ORG # , it was my pleasure <span style=\"background-color:#DFFF00 \">to</span><span style=\"background-color:#DFFF00 \"> assist</span> you today ."
      ],
      "text/plain": [
       "<IPython.core.display.HTML object>"
      ]
     },
     "metadata": {},
     "output_type": "display_data"
    },
    {
     "data": {
      "text/html": [
       " Vielen Dank , dass Sie # PRS _ ORG # kontaktiert haben . Es war mir eine Freude <span style=\"background-color:#DFFF00 \">,</span> Ihnen heute behilflich zu sein ."
      ],
      "text/plain": [
       "<IPython.core.display.HTML object>"
      ]
     },
     "metadata": {},
     "output_type": "display_data"
    },
    {
     "name": "stdout",
     "output_type": "stream",
     "text": [
      "____________________________________101___________________________________________________\n",
      "['major', 'major', 'major']\n",
      "['Accuracy/Source language fragment', 'Accuracy/Source language fragment', 'Accuracy/Mistranslation']\n",
      "\u001b[91m\u001b[1m🤬  Major\u001b[0m\n",
      "18.935494\n"
     ]
    },
    {
     "data": {
      "text/html": [
       " <span style=\"background-color:#e0e0e0 \">-13.036521</span> <span style=\"background-color:#DFFF00 \">5.898973</span>"
      ],
      "text/plain": [
       "<IPython.core.display.HTML object>"
      ]
     },
     "metadata": {},
     "output_type": "display_data"
    },
    {
     "data": {
      "text/html": [
       " It up − or down − scales composite , s − Video ( Y / C ) , component video ( <span style=\"background-color:#DFFF00 \">YUV</span><span style=\"background-color:#DFFF00 \"> )</span><span style=\"background-color:#DFFF00 \"> ,</span><span style=\"background-color:#DFFF00 \"> HDMI</span><span style=\"background-color:#DFFF00 \"> ,</span> computer graphics video and JPEG files to a selectable computer graphics video or HDTV output resolution on identical outputs − one HDMI and two 15 − pin HD ."
      ],
      "text/plain": [
       "<IPython.core.display.HTML object>"
      ]
     },
     "metadata": {},
     "output_type": "display_data"
    },
    {
     "data": {
      "text/html": [
       " Er skaliert Composite , S-Video ( Y / C ) , Component Video ( <span style=\"background-color:#DFFF00 \">YUV</span><span style=\"background-color:#DFFF00 \"> )</span><span style=\"background-color:#DFFF00 \"> ,</span><span style=\"background-color:#DFFF00 \"> HDMI</span><span style=\"background-color:#DFFF00 \"> ,</span> Computergrafikvideo und JPEG-Dateien auf eine wählbare Computergrafikvideo- oder HDTV-Ausgangsauflösung an identischen Ausgängen - einem HDMI- und zwei 15-poligen HD-Ausgängen - hoch oder herunter ."
      ],
      "text/plain": [
       "<IPython.core.display.HTML object>"
      ]
     },
     "metadata": {},
     "output_type": "display_data"
    },
    {
     "name": "stdout",
     "output_type": "stream",
     "text": [
      "____________________________________102___________________________________________________\n",
      "['No-error', 'No-error', 'No-error', 'No-error', 'No-error', 'No-error', 'No-error', 'No-error', 'No-error', 'No-error', 'No-error', 'No-error', 'No-error']\n",
      "\u001b[94m\u001b[1m🤓 OK\u001b[0m\n",
      "0.0\n"
     ]
    },
    {
     "data": {
      "text/html": [
       " <span style=\"background-color:#e0e0e0 \">9.213521</span>"
      ],
      "text/plain": [
       "<IPython.core.display.HTML object>"
      ]
     },
     "metadata": {},
     "output_type": "display_data"
    },
    {
     "data": {
      "text/html": [
       " Thank you for contacting # PRS _ ORG # , it was my pleasure to assist you today ."
      ],
      "text/plain": [
       "<IPython.core.display.HTML object>"
      ]
     },
     "metadata": {},
     "output_type": "display_data"
    },
    {
     "data": {
      "text/html": [
       " Vielen Dank , dass Sie # PRS _ ORG # kontaktiert haben . Es war mir eine Freude , Ihnen heute zu helfen ."
      ],
      "text/plain": [
       "<IPython.core.display.HTML object>"
      ]
     },
     "metadata": {},
     "output_type": "display_data"
    },
    {
     "name": "stdout",
     "output_type": "stream",
     "text": [
      "____________________________________103___________________________________________________\n",
      "['major', 'major', 'major', 'major']\n",
      "['Accuracy/Mistranslation', 'Accuracy/Source language fragment', 'Accuracy/Mistranslation', 'Accuracy/Source language fragment']\n",
      "\u001b[91m\u001b[1m🤬  Major\u001b[0m\n",
      "6.3511197\n"
     ]
    },
    {
     "data": {
      "text/html": [
       " <span style=\"background-color:#e0e0e0 \">4.4792123</span> <span style=\"background-color:#DFFF00 \">10.830332</span>"
      ],
      "text/plain": [
       "<IPython.core.display.HTML object>"
      ]
     },
     "metadata": {},
     "output_type": "display_data"
    },
    {
     "data": {
      "text/html": [
       " However <span style=\"background-color:#DFFF00 \">,</span><span style=\"background-color:#DFFF00 \"> on</span><span style=\"background-color:#DFFF00 \"> day</span><span style=\"background-color:#DFFF00 \"> four</span><span style=\"background-color:#DFFF00 \"> of</span><span style=\"background-color:#DFFF00 \"> the</span><span style=\"background-color:#DFFF00 \"> Test</span><span style=\"background-color:#DFFF00 \"> match</span><span style=\"background-color:#DFFF00 \"> ,</span> the failure of the primary generator fused with the back-up generator , causing both to go down simultaneously and resulting in the total or partial loss of broadcast pictures and DRS for nearly 30 minutes ."
      ],
      "text/plain": [
       "<IPython.core.display.HTML object>"
      ]
     },
     "metadata": {},
     "output_type": "display_data"
    },
    {
     "data": {
      "text/html": [
       " <span style=\"background-color:#DFFF00 \">Am</span><span style=\"background-color:#DFFF00 \"> vierten</span><span style=\"background-color:#DFFF00 \"> Tag</span><span style=\"background-color:#DFFF00 \"> des</span><span style=\"background-color:#DFFF00 \"> Testspiels</span> verschmolz jedoch der Ausfall des Primärgenerators mit dem Back-up-Generator , was sowohl zu einem gleichzeitigen Abfall als auch zu einem vollständigen oder teilweisen Verlust von Rundfunkbildern und DRS für fast 30 Minuten führte ."
      ],
      "text/plain": [
       "<IPython.core.display.HTML object>"
      ]
     },
     "metadata": {},
     "output_type": "display_data"
    },
    {
     "name": "stdout",
     "output_type": "stream",
     "text": [
      "____________________________________104___________________________________________________\n",
      "['No-error', 'No-error', 'No-error', 'No-error', 'No-error', 'No-error']\n",
      "\u001b[94m\u001b[1m🤓 OK\u001b[0m\n",
      "2.673793\n"
     ]
    },
    {
     "data": {
      "text/html": [
       " <span style=\"background-color:#e0e0e0 \">7.657233</span> <span style=\"background-color:#DFFF00 \">10.331026</span>"
      ],
      "text/plain": [
       "<IPython.core.display.HTML object>"
      ]
     },
     "metadata": {},
     "output_type": "display_data"
    },
    {
     "data": {
      "text/html": [
       " As the order has already been accepted , we are unable to cancel the order at this <span style=\"background-color:#DFFF00 \">point</span> ."
      ],
      "text/plain": [
       "<IPython.core.display.HTML object>"
      ]
     },
     "metadata": {},
     "output_type": "display_data"
    },
    {
     "data": {
      "text/html": [
       " Da die Bestellung bereits angenommen wurde , können wir die Bestellung zu diesem <span style=\"background-color:#DFFF00 \">Zeitpunkt</span> nicht stornieren ."
      ],
      "text/plain": [
       "<IPython.core.display.HTML object>"
      ]
     },
     "metadata": {},
     "output_type": "display_data"
    },
    {
     "name": "stdout",
     "output_type": "stream",
     "text": [
      "____________________________________105___________________________________________________\n",
      "['major', 'major', 'major', 'major']\n",
      "['Accuracy/Mistranslation', 'Accuracy/Source language fragment', 'Accuracy/Source language fragment', 'Accuracy/Mistranslation']\n",
      "\u001b[91m\u001b[1m🤬  Major\u001b[0m\n",
      "9.440436\n"
     ]
    },
    {
     "data": {
      "text/html": [
       " <span style=\"background-color:#e0e0e0 \">1.465202</span> <span style=\"background-color:#DFFF00 \">6.016132</span> <span style=\"background-color:#9FE2BF \">10.905638</span>"
      ],
      "text/plain": [
       "<IPython.core.display.HTML object>"
      ]
     },
     "metadata": {},
     "output_type": "display_data"
    },
    {
     "data": {
      "text/html": [
       " <span style=\"background-color:#DFFF00 \">However</span><span style=\"background-color:#DFFF00 \"> ,</span><span style=\"background-color:#DFFF00 \"> on</span><span style=\"background-color:#DFFF00 \"> day</span><span style=\"background-color:#DFFF00 \"> four</span><span style=\"background-color:#DFFF00 \"> of</span><span style=\"background-color:#DFFF00 \"> the</span><span style=\"background-color:#DFFF00 \"> Test</span><span style=\"background-color:#DFFF00 \"> match</span><span style=\"background-color:#DFFF00 \"> ,</span><span style=\"background-color:#DFFF00 \"> the</span> failure of the primary generator fused with the back-up generator , causing both to go down simultaneously and resulting in the total or partial loss of broadcast pictures and DRS for nearly 30 <span style=\"background-color:#9FE2BF \">minutes</span> ."
      ],
      "text/plain": [
       "<IPython.core.display.HTML object>"
      ]
     },
     "metadata": {},
     "output_type": "display_data"
    },
    {
     "data": {
      "text/html": [
       " <span style=\"background-color:#DFFF00 \">Jedoch</span><span style=\"background-color:#DFFF00 \"> ,</span><span style=\"background-color:#DFFF00 \"> am</span><span style=\"background-color:#DFFF00 \"> vierten</span><span style=\"background-color:#DFFF00 \"> Tag</span><span style=\"background-color:#DFFF00 \"> des</span><span style=\"background-color:#DFFF00 \"> Testspiels</span><span style=\"background-color:#DFFF00 \"> ,</span><span style=\"background-color:#DFFF00 \"> Der</span> Ausfall des Primärgenerators verschmolzen mit dem Backup-Generator , Beide gingen gleichzeitig aus und führten zum vollständigen oder teilweisen Verlust von Sendebildern und DRS für fast 30 <span style=\"background-color:#9FE2BF \">Protokoll</span> ."
      ],
      "text/plain": [
       "<IPython.core.display.HTML object>"
      ]
     },
     "metadata": {},
     "output_type": "display_data"
    },
    {
     "name": "stdout",
     "output_type": "stream",
     "text": [
      "____________________________________106___________________________________________________\n",
      "['No-error', 'No-error', 'No-error', 'No-error']\n",
      "\u001b[94m\u001b[1m🤓 OK\u001b[0m\n",
      "2.4020855\n"
     ]
    },
    {
     "data": {
      "text/html": [
       " <span style=\"background-color:#e0e0e0 \">9.3706455</span> <span style=\"background-color:#DFFF00 \">11.772731</span>"
      ],
      "text/plain": [
       "<IPython.core.display.HTML object>"
      ]
     },
     "metadata": {},
     "output_type": "display_data"
    },
    {
     "data": {
      "text/html": [
       " <span style=\"background-color:#DFFF00 \">Thank</span><span style=\"background-color:#DFFF00 \"> you</span> for contacting # PRS _ ORG # , it was my pleasure to assist you today ."
      ],
      "text/plain": [
       "<IPython.core.display.HTML object>"
      ]
     },
     "metadata": {},
     "output_type": "display_data"
    },
    {
     "data": {
      "text/html": [
       " <span style=\"background-color:#DFFF00 \">Vielen</span><span style=\"background-color:#DFFF00 \"> Dank</span> für die Kontaktaufnahme mit # PRS _ ORG # , es war mir eine Freude , Ihnen heute zu helfen ."
      ],
      "text/plain": [
       "<IPython.core.display.HTML object>"
      ]
     },
     "metadata": {},
     "output_type": "display_data"
    },
    {
     "name": "stdout",
     "output_type": "stream",
     "text": [
      "____________________________________107___________________________________________________\n",
      "['major', 'major', 'major']\n",
      "['Accuracy/Source language fragment', 'Accuracy/Mistranslation', 'Accuracy/Mistranslation']\n",
      "\u001b[91m\u001b[1m🤬  Major\u001b[0m\n",
      "6.890569\n"
     ]
    },
    {
     "data": {
      "text/html": [
       " <span style=\"background-color:#e0e0e0 \">4.264397</span> <span style=\"background-color:#DFFF00 \">11.154966</span>"
      ],
      "text/plain": [
       "<IPython.core.display.HTML object>"
      ]
     },
     "metadata": {},
     "output_type": "display_data"
    },
    {
     "data": {
      "text/html": [
       " Alfie Barbeary 's all-action display capped by a captivating try had given Wasps hope but he was unexpectedly replaced at half-time and it became <span style=\"background-color:#DFFF00 \">one-way</span><span style=\"background-color:#DFFF00 \"> traffic</span><span style=\"background-color:#DFFF00 \"> from</span><span style=\"background-color:#DFFF00 \"> the</span><span style=\"background-color:#DFFF00 \"> moment</span> Campbell showed his class to finish in the 43rd minute ."
      ],
      "text/plain": [
       "<IPython.core.display.HTML object>"
      ]
     },
     "metadata": {},
     "output_type": "display_data"
    },
    {
     "data": {
      "text/html": [
       " Alfie Barbeary ' s all-action display , gekrönt durch einen fesselnden Versuch , hatte den Wespen Hoffnung gegeben , aber er wurde unerwartet zur Halbzeit ausgewechselt und es wurde <span style=\"background-color:#DFFF00 \">Einbahnstraße</span><span style=\"background-color:#DFFF00 \"> ab</span><span style=\"background-color:#DFFF00 \"> dem</span><span style=\"background-color:#DFFF00 \"> Moment</span><span style=\"background-color:#DFFF00 \"> ,</span><span style=\"background-color:#DFFF00 \"> als</span> Campbell seine Klasse zeigte und in der 43. Minute vollendete ."
      ],
      "text/plain": [
       "<IPython.core.display.HTML object>"
      ]
     },
     "metadata": {},
     "output_type": "display_data"
    },
    {
     "name": "stdout",
     "output_type": "stream",
     "text": [
      "____________________________________108___________________________________________________\n",
      "['No-error', 'No-error', 'No-error', 'No-error', 'No-error', 'No-error', 'No-error', 'No-error']\n",
      "\u001b[94m\u001b[1m🤓 OK\u001b[0m\n",
      "6.725461\n"
     ]
    },
    {
     "data": {
      "text/html": [
       " <span style=\"background-color:#e0e0e0 \">6.191287</span> <span style=\"background-color:#DFFF00 \">9.829246</span> <span style=\"background-color:#9FE2BF \">12.916748</span>"
      ],
      "text/plain": [
       "<IPython.core.display.HTML object>"
      ]
     },
     "metadata": {},
     "output_type": "display_data"
    },
    {
     "data": {
      "text/html": [
       " <span style=\"background-color:#DFFF00 \">Thank</span><span style=\"background-color:#DFFF00 \"> you</span> for contacting # PRS _ ORG # , it was my pleasure to <span style=\"background-color:#9FE2BF \">assist</span> you today ."
      ],
      "text/plain": [
       "<IPython.core.display.HTML object>"
      ]
     },
     "metadata": {},
     "output_type": "display_data"
    },
    {
     "data": {
      "text/html": [
       " <span style=\"background-color:#DFFF00 \">Vielen</span><span style=\"background-color:#DFFF00 \"> Dank</span> für die Kontaktaufnahme mit # PRS _ ORG # , es war mir eine Freude , Ihnen heute <span style=\"background-color:#9FE2BF \">behilflich</span> zu sein ."
      ],
      "text/plain": [
       "<IPython.core.display.HTML object>"
      ]
     },
     "metadata": {},
     "output_type": "display_data"
    },
    {
     "name": "stdout",
     "output_type": "stream",
     "text": [
      "____________________________________109___________________________________________________\n",
      "['No-error', 'No-error', 'No-error']\n",
      "\u001b[94m\u001b[1m🤓 OK\u001b[0m\n",
      "0.0\n"
     ]
    },
    {
     "data": {
      "text/html": [
       " <span style=\"background-color:#e0e0e0 \">10.580271</span>"
      ],
      "text/plain": [
       "<IPython.core.display.HTML object>"
      ]
     },
     "metadata": {},
     "output_type": "display_data"
    },
    {
     "data": {
      "text/html": [
       " Crucially , however , Ireland stars such as Tadhg Beirne , Peter O 'Mahony , Conor Murray and Keith Earls were present to stiffen their ranks ."
      ],
      "text/plain": [
       "<IPython.core.display.HTML object>"
      ]
     },
     "metadata": {},
     "output_type": "display_data"
    },
    {
     "data": {
      "text/html": [
       " Entscheidend war jedoch , dass irische Stars wie Tadhg Beirne , Peter O ' Mahony , Conor Murray und Keith Earls anwesend waren , um ihre Reihen zu verstärken ."
      ],
      "text/plain": [
       "<IPython.core.display.HTML object>"
      ]
     },
     "metadata": {},
     "output_type": "display_data"
    },
    {
     "name": "stdout",
     "output_type": "stream",
     "text": [
      "____________________________________110___________________________________________________\n",
      "['No-error', 'No-error', 'No-error']\n",
      "\u001b[94m\u001b[1m🤓 OK\u001b[0m\n",
      "0.0\n"
     ]
    },
    {
     "data": {
      "text/html": [
       " <span style=\"background-color:#e0e0e0 \">10.985384</span>"
      ],
      "text/plain": [
       "<IPython.core.display.HTML object>"
      ]
     },
     "metadata": {},
     "output_type": "display_data"
    },
    {
     "data": {
      "text/html": [
       " All information about the products on our website is provided for information purposes only ."
      ],
      "text/plain": [
       "<IPython.core.display.HTML object>"
      ]
     },
     "metadata": {},
     "output_type": "display_data"
    },
    {
     "data": {
      "text/html": [
       " Alle Informationen zu den Produkten auf unserer Website dienen nur zu Informationszwecken ."
      ],
      "text/plain": [
       "<IPython.core.display.HTML object>"
      ]
     },
     "metadata": {},
     "output_type": "display_data"
    },
    {
     "name": "stdout",
     "output_type": "stream",
     "text": [
      "____________________________________111___________________________________________________\n",
      "['No-error', 'No-error', 'No-error', 'No-error']\n",
      "\u001b[94m\u001b[1m🤓 OK\u001b[0m\n",
      "0.0\n"
     ]
    },
    {
     "data": {
      "text/html": [
       " <span style=\"background-color:#e0e0e0 \">13.129576</span>"
      ],
      "text/plain": [
       "<IPython.core.display.HTML object>"
      ]
     },
     "metadata": {},
     "output_type": "display_data"
    },
    {
     "data": {
      "text/html": [
       " Please always read the labels , warnings , and directions provided with the product before using or consuming a product ."
      ],
      "text/plain": [
       "<IPython.core.display.HTML object>"
      ]
     },
     "metadata": {},
     "output_type": "display_data"
    },
    {
     "data": {
      "text/html": [
       " Bitte lesen Sie immer die mit dem Produkt gelieferten Etiketten , Warnhinweise und Anweisungen , bevor Sie ein Produkt verwenden oder konsumieren ."
      ],
      "text/plain": [
       "<IPython.core.display.HTML object>"
      ]
     },
     "metadata": {},
     "output_type": "display_data"
    },
    {
     "name": "stdout",
     "output_type": "stream",
     "text": [
      "____________________________________112___________________________________________________\n",
      "['No-error', 'No-error', 'No-error', 'No-error', 'No-error', 'No-error']\n",
      "\u001b[94m\u001b[1m🤓 OK\u001b[0m\n",
      "0.0\n"
     ]
    },
    {
     "data": {
      "text/html": [
       " <span style=\"background-color:#e0e0e0 \">13.533257</span>"
      ],
      "text/plain": [
       "<IPython.core.display.HTML object>"
      ]
     },
     "metadata": {},
     "output_type": "display_data"
    },
    {
     "data": {
      "text/html": [
       " Why were Skyler and Walt Jr. so annoyed with Walt working on the house in season 2 ?"
      ],
      "text/plain": [
       "<IPython.core.display.HTML object>"
      ]
     },
     "metadata": {},
     "output_type": "display_data"
    },
    {
     "data": {
      "text/html": [
       " Warum waren Skyler und Walt Jr. so verärgert darüber , dass Walt in Staffel 2 am Haus arbeitete ?"
      ],
      "text/plain": [
       "<IPython.core.display.HTML object>"
      ]
     },
     "metadata": {},
     "output_type": "display_data"
    },
    {
     "name": "stdout",
     "output_type": "stream",
     "text": [
      "____________________________________113___________________________________________________\n",
      "['major', 'major', 'major']\n",
      "['Accuracy/Mistranslation', 'Accuracy/Source language fragment', 'Accuracy/Source language fragment']\n",
      "\u001b[91m\u001b[1m🤬  Major\u001b[0m\n",
      "6.839791999999999\n"
     ]
    },
    {
     "data": {
      "text/html": [
       " <span style=\"background-color:#e0e0e0 \">4.469151</span> <span style=\"background-color:#DFFF00 \">11.308943</span>"
      ],
      "text/plain": [
       "<IPython.core.display.HTML object>"
      ]
     },
     "metadata": {},
     "output_type": "display_data"
    },
    {
     "data": {
      "text/html": [
       " However <span style=\"background-color:#DFFF00 \">,</span><span style=\"background-color:#DFFF00 \"> on</span><span style=\"background-color:#DFFF00 \"> day</span><span style=\"background-color:#DFFF00 \"> four</span><span style=\"background-color:#DFFF00 \"> of</span><span style=\"background-color:#DFFF00 \"> the</span><span style=\"background-color:#DFFF00 \"> Test</span><span style=\"background-color:#DFFF00 \"> match</span><span style=\"background-color:#DFFF00 \"> ,</span> the failure of the primary generator fused with the back-up generator , causing both to go down simultaneously and resulting in the total or partial loss of broadcast pictures and DRS for nearly 30 minutes ."
      ],
      "text/plain": [
       "<IPython.core.display.HTML object>"
      ]
     },
     "metadata": {},
     "output_type": "display_data"
    },
    {
     "data": {
      "text/html": [
       " <span style=\"background-color:#DFFF00 \">Am</span><span style=\"background-color:#DFFF00 \"> vierten</span><span style=\"background-color:#DFFF00 \"> Tag</span><span style=\"background-color:#DFFF00 \"> des</span><span style=\"background-color:#DFFF00 \"> Testspiels</span> verschmolz jedoch der Ausfall des Primärgenerators mit dem Backup-Generator , was dazu führte , dass beide gleichzeitig ausfielen und fast 30 Minuten lang zu einem vollständigen oder teilweisen Verlust von übertragenen Bildern und DRS führten ."
      ],
      "text/plain": [
       "<IPython.core.display.HTML object>"
      ]
     },
     "metadata": {},
     "output_type": "display_data"
    },
    {
     "name": "stdout",
     "output_type": "stream",
     "text": [
      "____________________________________114___________________________________________________\n",
      "['No-error', 'No-error', 'No-error']\n",
      "\u001b[94m\u001b[1m🤓 OK\u001b[0m\n",
      "0.0\n"
     ]
    },
    {
     "data": {
      "text/html": [
       " <span style=\"background-color:#e0e0e0 \">12.843836</span>"
      ],
      "text/plain": [
       "<IPython.core.display.HTML object>"
      ]
     },
     "metadata": {},
     "output_type": "display_data"
    },
    {
     "data": {
      "text/html": [
       " I 'm really sorry to know that you are having this issue with your eBook , but I 'm willing to help you ."
      ],
      "text/plain": [
       "<IPython.core.display.HTML object>"
      ]
     },
     "metadata": {},
     "output_type": "display_data"
    },
    {
     "data": {
      "text/html": [
       " Es tut mir wirklich leid , dass Sie dieses Problem mit Ihrem eBook haben , aber ich bin bereit , Ihnen zu helfen ."
      ],
      "text/plain": [
       "<IPython.core.display.HTML object>"
      ]
     },
     "metadata": {},
     "output_type": "display_data"
    },
    {
     "name": "stdout",
     "output_type": "stream",
     "text": [
      "____________________________________115___________________________________________________\n",
      "['major', 'major', 'major']\n",
      "['Accuracy/Mistranslation', 'Accuracy/Mistranslation', 'Accuracy/Mistranslation']\n",
      "\u001b[91m\u001b[1m🤬  Major\u001b[0m\n",
      "1.9373345\n"
     ]
    },
    {
     "data": {
      "text/html": [
       " <span style=\"background-color:#e0e0e0 \">-0.6936792</span> <span style=\"background-color:#DFFF00 \">1.2436553</span>"
      ],
      "text/plain": [
       "<IPython.core.display.HTML object>"
      ]
     },
     "metadata": {},
     "output_type": "display_data"
    },
    {
     "data": {
      "text/html": [
       " That 's because the base power <span style=\"background-color:#DFFF00 \">in</span> the precinct is required to supply the Gabba 's light towers - one of which infamously went down during a Big Bash League match in 2019 - and the ground itself ."
      ],
      "text/plain": [
       "<IPython.core.display.HTML object>"
      ]
     },
     "metadata": {},
     "output_type": "display_data"
    },
    {
     "data": {
      "text/html": [
       " Dies rührt daher , dass der Grundstrom <span style=\"background-color:#DFFF00 \">im</span> Bezirk die Beleuchtungsanlagen des Gabba versorgen muss , von denen eine - und das gesamte Spielfeld - während eines Spiels der Big Bash League im Jahre 2019 schändlich ausging ."
      ],
      "text/plain": [
       "<IPython.core.display.HTML object>"
      ]
     },
     "metadata": {},
     "output_type": "display_data"
    },
    {
     "name": "stdout",
     "output_type": "stream",
     "text": [
      "____________________________________116___________________________________________________\n",
      "['major', 'major', 'major', 'major']\n",
      "['Accuracy/Source language fragment', 'Accuracy/Mistranslation', 'Accuracy/Mistranslation', 'Accuracy/Mistranslation']\n",
      "\u001b[91m\u001b[1m🤬  Major\u001b[0m\n",
      "7.8377134\n"
     ]
    },
    {
     "data": {
      "text/html": [
       " <span style=\"background-color:#e0e0e0 \">2.8702176</span> <span style=\"background-color:#DFFF00 \">8.897864</span> <span style=\"background-color:#9FE2BF \">10.707931</span>"
      ],
      "text/plain": [
       "<IPython.core.display.HTML object>"
      ]
     },
     "metadata": {},
     "output_type": "display_data"
    },
    {
     "data": {
      "text/html": [
       " Alfie Barbeary 's all-action display capped by a captivating try had given Wasps hope but he was unexpectedly replaced at half-time and it became <span style=\"background-color:#9FE2BF \">one-way</span><span style=\"background-color:#9FE2BF \"> traffic</span> from the moment Campbell showed his class <span style=\"background-color:#DFFF00 \">to</span><span style=\"background-color:#DFFF00 \"> finish</span><span style=\"background-color:#DFFF00 \"> in</span><span style=\"background-color:#DFFF00 \"> the</span><span style=\"background-color:#DFFF00 \"> 43rd</span><span style=\"background-color:#DFFF00 \"> minute</span> ."
      ],
      "text/plain": [
       "<IPython.core.display.HTML object>"
      ]
     },
     "metadata": {},
     "output_type": "display_data"
    },
    {
     "data": {
      "text/html": [
       " Alfie Barbearys All-Action-Display , das von einem fesselnden Versuch gekrönt wurde , hatte den Wespen Hoffnung gegeben , aber er wurde unerwartet zur Halbzeit ausgewechselt und es wurde <span style=\"background-color:#9FE2BF \">Einbahnstraßenverkehr</span> von dem Moment an , als Campbell seine Klasse zeigte , <span style=\"background-color:#DFFF00 \">um</span><span style=\"background-color:#DFFF00 \"> in</span><span style=\"background-color:#DFFF00 \"> der</span><span style=\"background-color:#DFFF00 \"> 43.</span>"
      ],
      "text/plain": [
       "<IPython.core.display.HTML object>"
      ]
     },
     "metadata": {},
     "output_type": "display_data"
    },
    {
     "name": "stdout",
     "output_type": "stream",
     "text": [
      "____________________________________117___________________________________________________\n",
      "['major', 'major', 'major']\n",
      "['Accuracy/Mistranslation', 'Accuracy/Mistranslation', 'Accuracy/Mistranslation']\n",
      "\u001b[91m\u001b[1m🤬  Major\u001b[0m\n",
      "8.103702\n"
     ]
    },
    {
     "data": {
      "text/html": [
       " <span style=\"background-color:#e0e0e0 \">4.704511</span> <span style=\"background-color:#DFFF00 \">12.808213</span>"
      ],
      "text/plain": [
       "<IPython.core.display.HTML object>"
      ]
     },
     "metadata": {},
     "output_type": "display_data"
    },
    {
     "data": {
      "text/html": [
       " Munster , meanwhile , were missing 34 squad personnel because of quarantine following their recent ill-fated United Rugby Championship trip to South Africa , creating five debutants <span style=\"background-color:#DFFF00 \">in</span><span style=\"background-color:#DFFF00 \"> the</span><span style=\"background-color:#DFFF00 \"> starting</span><span style=\"background-color:#DFFF00 \"> XV</span><span style=\"background-color:#DFFF00 \"> and</span><span style=\"background-color:#DFFF00 \"> another</span><span style=\"background-color:#DFFF00 \"> seven</span><span style=\"background-color:#DFFF00 \"> on</span><span style=\"background-color:#DFFF00 \"> the</span><span style=\"background-color:#DFFF00 \"> bench</span> ."
      ],
      "text/plain": [
       "<IPython.core.display.HTML object>"
      ]
     },
     "metadata": {},
     "output_type": "display_data"
    },
    {
     "data": {
      "text/html": [
       " Munster , inzwischen , fehlten 34 Kaderpersonal wegen Quarantäne nach ihrer jüngsten unglückseligen Reise zur United Rugby Championship nach Südafrika , Schaffung von fünf Debütanten <span style=\"background-color:#DFFF00 \">in</span><span style=\"background-color:#DFFF00 \"> der</span><span style=\"background-color:#DFFF00 \"> Startelf</span><span style=\"background-color:#DFFF00 \"> und</span><span style=\"background-color:#DFFF00 \"> weiteren</span><span style=\"background-color:#DFFF00 \"> sieben</span><span style=\"background-color:#DFFF00 \"> auf</span><span style=\"background-color:#DFFF00 \"> der</span><span style=\"background-color:#DFFF00 \"> Bank</span> ."
      ],
      "text/plain": [
       "<IPython.core.display.HTML object>"
      ]
     },
     "metadata": {},
     "output_type": "display_data"
    },
    {
     "name": "stdout",
     "output_type": "stream",
     "text": [
      "____________________________________118___________________________________________________\n",
      "['No-error', 'No-error', 'No-error']\n",
      "\u001b[94m\u001b[1m🤓 OK\u001b[0m\n",
      "0.0\n"
     ]
    },
    {
     "data": {
      "text/html": [
       " <span style=\"background-color:#e0e0e0 \">8.571489</span>"
      ],
      "text/plain": [
       "<IPython.core.display.HTML object>"
      ]
     },
     "metadata": {},
     "output_type": "display_data"
    },
    {
     "data": {
      "text/html": [
       " Coronavirus figures have been on a downward trend since the government started a mass vaccination campaign ."
      ],
      "text/plain": [
       "<IPython.core.display.HTML object>"
      ]
     },
     "metadata": {},
     "output_type": "display_data"
    },
    {
     "data": {
      "text/html": [
       " Die Coronavirus-Zahlen sind rückläufig , seit die Regierung eine Massenimpfkampagne gestartet hat ."
      ],
      "text/plain": [
       "<IPython.core.display.HTML object>"
      ]
     },
     "metadata": {},
     "output_type": "display_data"
    },
    {
     "name": "stdout",
     "output_type": "stream",
     "text": [
      "____________________________________119___________________________________________________\n",
      "['major', 'major', 'major', 'major', 'major', 'major', 'major']\n",
      "['Accuracy/Mistranslation', 'Accuracy/Mistranslation', 'Accuracy/Mistranslation', 'Accuracy/Mistranslation', 'Accuracy/Mistranslation', 'Accuracy/Mistranslation', 'Accuracy/Mistranslation']\n",
      "\u001b[91m\u001b[1m🤬  Major\u001b[0m\n",
      "3.3828724999999995\n"
     ]
    },
    {
     "data": {
      "text/html": [
       " <span style=\"background-color:#e0e0e0 \">2.0170832</span> <span style=\"background-color:#DFFF00 \">5.3999557</span>"
      ],
      "text/plain": [
       "<IPython.core.display.HTML object>"
      ]
     },
     "metadata": {},
     "output_type": "display_data"
    },
    {
     "data": {
      "text/html": [
       " Thank you for your waiting time , I have <span style=\"background-color:#DFFF00 \">checked</span> the information into your account ."
      ],
      "text/plain": [
       "<IPython.core.display.HTML object>"
      ]
     },
     "metadata": {},
     "output_type": "display_data"
    },
    {
     "data": {
      "text/html": [
       " Vielen Dank für Ihre Wartezeit , ich habe die Informationen in Ihrem Konto <span style=\"background-color:#DFFF00 \">eingecheckt</span> ."
      ],
      "text/plain": [
       "<IPython.core.display.HTML object>"
      ]
     },
     "metadata": {},
     "output_type": "display_data"
    },
    {
     "name": "stdout",
     "output_type": "stream",
     "text": [
      "____________________________________120___________________________________________________\n",
      "['major', 'major', 'major', 'major']\n",
      "['Accuracy/Source language fragment', 'Accuracy/Mistranslation', 'Accuracy/Mistranslation', 'Accuracy/Source language fragment']\n",
      "\u001b[91m\u001b[1m🤬  Major\u001b[0m\n",
      "8.4498256\n"
     ]
    },
    {
     "data": {
      "text/html": [
       " <span style=\"background-color:#e0e0e0 \">4.2448754</span> <span style=\"background-color:#DFFF00 \">12.694701</span>"
      ],
      "text/plain": [
       "<IPython.core.display.HTML object>"
      ]
     },
     "metadata": {},
     "output_type": "display_data"
    },
    {
     "data": {
      "text/html": [
       " Fade-Thru-Black ( FTBTM ) Switching - The video fades to black and then the new <span style=\"background-color:#DFFF00 \">input</span> fades from black for smooth , glitch − free switching ."
      ],
      "text/plain": [
       "<IPython.core.display.HTML object>"
      ]
     },
     "metadata": {},
     "output_type": "display_data"
    },
    {
     "data": {
      "text/html": [
       " Fade-Thru-Black ( FTBTM ) Switching - Das Video verblasst auf schwarz und dann verblasst der neue <span style=\"background-color:#DFFF00 \">Eingang</span> von schwarz für einen glatten , glitch-freien Switching ."
      ],
      "text/plain": [
       "<IPython.core.display.HTML object>"
      ]
     },
     "metadata": {},
     "output_type": "display_data"
    },
    {
     "name": "stdout",
     "output_type": "stream",
     "text": [
      "____________________________________121___________________________________________________\n",
      "['No-error', 'No-error', 'No-error', 'No-error', 'No-error', 'No-error']\n",
      "\u001b[94m\u001b[1m🤓 OK\u001b[0m\n",
      "0.0\n"
     ]
    },
    {
     "data": {
      "text/html": [
       " <span style=\"background-color:#e0e0e0 \">12.201246</span>"
      ],
      "text/plain": [
       "<IPython.core.display.HTML object>"
      ]
     },
     "metadata": {},
     "output_type": "display_data"
    },
    {
     "data": {
      "text/html": [
       " We recommend that you do not solely rely on the information presented on our website ."
      ],
      "text/plain": [
       "<IPython.core.display.HTML object>"
      ]
     },
     "metadata": {},
     "output_type": "display_data"
    },
    {
     "data": {
      "text/html": [
       " Wir empfehlen Ihnen , sich nicht ausschließlich auf die auf unserer Website präsentierten Informationen zu verlassen ."
      ],
      "text/plain": [
       "<IPython.core.display.HTML object>"
      ]
     },
     "metadata": {},
     "output_type": "display_data"
    },
    {
     "name": "stdout",
     "output_type": "stream",
     "text": [
      "____________________________________122___________________________________________________\n",
      "['No-error', 'No-error', 'No-error']\n",
      "\u001b[94m\u001b[1m🤓 OK\u001b[0m\n",
      "4.2961404\n"
     ]
    },
    {
     "data": {
      "text/html": [
       " <span style=\"background-color:#e0e0e0 \">7.0911336</span> <span style=\"background-color:#DFFF00 \">11.387274</span>"
      ],
      "text/plain": [
       "<IPython.core.display.HTML object>"
      ]
     },
     "metadata": {},
     "output_type": "display_data"
    },
    {
     "data": {
      "text/html": [
       " Information and statements about products are not intended to be used to diagnose , treat , cure , or prevent <span style=\"background-color:#DFFF00 \">any</span><span style=\"background-color:#DFFF00 \"> disease</span><span style=\"background-color:#DFFF00 \"> or</span><span style=\"background-color:#DFFF00 \"> health</span><span style=\"background-color:#DFFF00 \"> condition</span> ."
      ],
      "text/plain": [
       "<IPython.core.display.HTML object>"
      ]
     },
     "metadata": {},
     "output_type": "display_data"
    },
    {
     "data": {
      "text/html": [
       " Informationen und Aussagen über Produkte sind nicht dazu bestimmt , zur Diagnose , Behandlung , Heilung oder Vorbeugung <span style=\"background-color:#DFFF00 \">von</span><span style=\"background-color:#DFFF00 \"> Krankheiten</span><span style=\"background-color:#DFFF00 \"> oder</span><span style=\"background-color:#DFFF00 \"> Gesundheitszuständen</span> verwendet zu werden ."
      ],
      "text/plain": [
       "<IPython.core.display.HTML object>"
      ]
     },
     "metadata": {},
     "output_type": "display_data"
    },
    {
     "name": "stdout",
     "output_type": "stream",
     "text": [
      "____________________________________123___________________________________________________\n",
      "['major', 'major', 'major']\n",
      "['Accuracy/Source language fragment', 'Accuracy/Source language fragment', 'Accuracy/Mistranslation']\n",
      "\u001b[91m\u001b[1m🤬  Major\u001b[0m\n",
      "5.198133599999999\n"
     ]
    },
    {
     "data": {
      "text/html": [
       " <span style=\"background-color:#e0e0e0 \">4.5852294</span> <span style=\"background-color:#DFFF00 \">9.783363</span>"
      ],
      "text/plain": [
       "<IPython.core.display.HTML object>"
      ]
     },
     "metadata": {},
     "output_type": "display_data"
    },
    {
     "data": {
      "text/html": [
       " Alfie Barbeary 's all-action display capped by a captivating try had given Wasps hope <span style=\"background-color:#DFFF00 \">but</span> he was unexpectedly replaced at half-time and it became one-way traffic from the moment Campbell showed his class to finish in the 43rd minute ."
      ],
      "text/plain": [
       "<IPython.core.display.HTML object>"
      ]
     },
     "metadata": {},
     "output_type": "display_data"
    },
    {
     "data": {
      "text/html": [
       " Alfie Barbeary ' s All-Action-Display , das von einem fesselnden Versuch gekrönt wurde , hatte Wasps Hoffnung gegeben <span style=\"background-color:#DFFF00 \">,</span><span style=\"background-color:#DFFF00 \"> aber</span> er wurde unerwartet zur Halbzeit ausgewechselt und es wurde zu einem One-Way-Verkehr von dem Moment an , als Campbell seine Klasse in der 43. Minute beendete ."
      ],
      "text/plain": [
       "<IPython.core.display.HTML object>"
      ]
     },
     "metadata": {},
     "output_type": "display_data"
    },
    {
     "name": "stdout",
     "output_type": "stream",
     "text": [
      "____________________________________124___________________________________________________\n",
      "['major', 'major', 'major']\n",
      "['Accuracy/Mistranslation', 'Accuracy/Source language fragment', 'Accuracy/Mistranslation']\n",
      "\u001b[91m\u001b[1m🤬  Major\u001b[0m\n",
      "6.4441414\n"
     ]
    },
    {
     "data": {
      "text/html": [
       " <span style=\"background-color:#e0e0e0 \">4.6705256</span> <span style=\"background-color:#DFFF00 \">11.114667</span>"
      ],
      "text/plain": [
       "<IPython.core.display.HTML object>"
      ]
     },
     "metadata": {},
     "output_type": "display_data"
    },
    {
     "data": {
      "text/html": [
       " Wasps ' Covid-affected start to the day was compounded when play got underway , with Thomas Young denied a certain try <span style=\"background-color:#DFFF00 \">by</span><span style=\"background-color:#DFFF00 \"> O</span> 'Mahony 's excellent covering tackle ."
      ],
      "text/plain": [
       "<IPython.core.display.HTML object>"
      ]
     },
     "metadata": {},
     "output_type": "display_data"
    },
    {
     "data": {
      "text/html": [
       " Der von Covid betroffene Start des Tages wurde noch verschlimmert , als das Spiel begann , wobei Thomas Young einen bestimmten Versuch <span style=\"background-color:#DFFF00 \">von</span><span style=\"background-color:#DFFF00 \"> O</span> ' Mahonys ausgezeichnetem Cover-Tackle ablehnte ."
      ],
      "text/plain": [
       "<IPython.core.display.HTML object>"
      ]
     },
     "metadata": {},
     "output_type": "display_data"
    },
    {
     "name": "stdout",
     "output_type": "stream",
     "text": [
      "____________________________________125___________________________________________________\n",
      "['No-error', 'No-error', 'No-error']\n",
      "\u001b[94m\u001b[1m🤓 OK\u001b[0m\n",
      "0.0\n"
     ]
    },
    {
     "data": {
      "text/html": [
       " <span style=\"background-color:#e0e0e0 \">12.815368</span>"
      ],
      "text/plain": [
       "<IPython.core.display.HTML object>"
      ]
     },
     "metadata": {},
     "output_type": "display_data"
    },
    {
     "data": {
      "text/html": [
       " Organicsbeauty accepts no liability for inaccuracies or misstatements about products by manufacturers or other third parties ."
      ],
      "text/plain": [
       "<IPython.core.display.HTML object>"
      ]
     },
     "metadata": {},
     "output_type": "display_data"
    },
    {
     "data": {
      "text/html": [
       " Organicsbeauty übernimmt keine Haftung für Ungenauigkeiten oder falsche Angaben über Produkte von Herstellern oder anderen Dritten ."
      ],
      "text/plain": [
       "<IPython.core.display.HTML object>"
      ]
     },
     "metadata": {},
     "output_type": "display_data"
    },
    {
     "name": "stdout",
     "output_type": "stream",
     "text": [
      "____________________________________126___________________________________________________\n",
      "['No-error', 'No-error', 'No-error', 'No-error']\n",
      "\u001b[94m\u001b[1m🤓 OK\u001b[0m\n",
      "0.0\n"
     ]
    },
    {
     "data": {
      "text/html": [
       " <span style=\"background-color:#e0e0e0 \">13.169568</span>"
      ],
      "text/plain": [
       "<IPython.core.display.HTML object>"
      ]
     },
     "metadata": {},
     "output_type": "display_data"
    },
    {
     "data": {
      "text/html": [
       " Please always read the labels , warnings , and directions provided with the product before using or consuming a product ."
      ],
      "text/plain": [
       "<IPython.core.display.HTML object>"
      ]
     },
     "metadata": {},
     "output_type": "display_data"
    },
    {
     "data": {
      "text/html": [
       " Bitte lesen Sie immer die Etiketten , Warnhinweise und Anweisungen , die mit dem Produkt geliefert werden , bevor Sie ein Produkt verwenden oder konsumieren ."
      ],
      "text/plain": [
       "<IPython.core.display.HTML object>"
      ]
     },
     "metadata": {},
     "output_type": "display_data"
    },
    {
     "name": "stdout",
     "output_type": "stream",
     "text": [
      "____________________________________127___________________________________________________\n",
      "['No-error', 'No-error', 'No-error']\n",
      "\u001b[94m\u001b[1m🤓 OK\u001b[0m\n",
      "2.778454\n"
     ]
    },
    {
     "data": {
      "text/html": [
       " <span style=\"background-color:#e0e0e0 \">7.182667</span> <span style=\"background-color:#DFFF00 \">9.961121</span>"
      ],
      "text/plain": [
       "<IPython.core.display.HTML object>"
      ]
     },
     "metadata": {},
     "output_type": "display_data"
    },
    {
     "data": {
      "text/html": [
       " Information and statements about products are not intended to be used to diagnose , treat , cure <span style=\"background-color:#DFFF00 \">,</span><span style=\"background-color:#DFFF00 \"> or</span><span style=\"background-color:#DFFF00 \"> prevent</span> any disease or health condition ."
      ],
      "text/plain": [
       "<IPython.core.display.HTML object>"
      ]
     },
     "metadata": {},
     "output_type": "display_data"
    },
    {
     "data": {
      "text/html": [
       " Informationen und Aussagen über Produkte sind nicht dazu bestimmt , Krankheiten oder Gesundheitszustände zu diagnostizieren , zu behandeln , zu heilen <span style=\"background-color:#DFFF00 \">oder</span><span style=\"background-color:#DFFF00 \"> zu</span><span style=\"background-color:#DFFF00 \"> verhindern</span> ."
      ],
      "text/plain": [
       "<IPython.core.display.HTML object>"
      ]
     },
     "metadata": {},
     "output_type": "display_data"
    },
    {
     "name": "stdout",
     "output_type": "stream",
     "text": [
      "____________________________________128___________________________________________________\n",
      "['major', 'major', 'major']\n",
      "['Accuracy/Source language fragment', 'Accuracy/Source language fragment', 'Accuracy/Source language fragment']\n",
      "\u001b[91m\u001b[1m🤬  Major\u001b[0m\n",
      "26.8139235\n"
     ]
    },
    {
     "data": {
      "text/html": [
       " <span style=\"background-color:#e0e0e0 \">-13.7863455</span> <span style=\"background-color:#DFFF00 \">13.027578</span>"
      ],
      "text/plain": [
       "<IPython.core.display.HTML object>"
      ]
     },
     "metadata": {},
     "output_type": "display_data"
    },
    {
     "data": {
      "text/html": [
       " It up − or down − scales composite , s − Video ( Y / C ) , component video ( YUV ) , HDMI , computer graphics video and JPEG files to a selectable computer graphics video or <span style=\"background-color:#DFFF00 \">HDTV</span><span style=\"background-color:#DFFF00 \"> output</span><span style=\"background-color:#DFFF00 \"> resolution</span><span style=\"background-color:#DFFF00 \"> on</span><span style=\"background-color:#DFFF00 \"> identical</span><span style=\"background-color:#DFFF00 \"> outputs</span> − one HDMI and two 15 − pin HD ."
      ],
      "text/plain": [
       "<IPython.core.display.HTML object>"
      ]
     },
     "metadata": {},
     "output_type": "display_data"
    },
    {
     "data": {
      "text/html": [
       " Es up − oder down − scales Composite , s − Video ( Y / C ) , Component Video ( YUV ) , HDMI , Computer-Grafik-Video und JPEG-Dateien zu einem wählbaren Computer-Grafik-Video oder <span style=\"background-color:#DFFF00 \">HDTV-Ausgang</span><span style=\"background-color:#DFFF00 \"> Auflösung</span><span style=\"background-color:#DFFF00 \"> auf</span><span style=\"background-color:#DFFF00 \"> identische</span><span style=\"background-color:#DFFF00 \"> Ausgänge</span> − ein HDMI und zwei 15 − pin HD ."
      ],
      "text/plain": [
       "<IPython.core.display.HTML object>"
      ]
     },
     "metadata": {},
     "output_type": "display_data"
    },
    {
     "name": "stdout",
     "output_type": "stream",
     "text": [
      "____________________________________129___________________________________________________\n",
      "['major', 'major', 'major']\n",
      "['Accuracy/Source language fragment', 'Accuracy/Source language fragment', 'Accuracy/Source language fragment']\n",
      "\u001b[91m\u001b[1m🤬  Major\u001b[0m\n",
      "23.99466\n"
     ]
    },
    {
     "data": {
      "text/html": [
       " <span style=\"background-color:#e0e0e0 \">-11.889088</span> <span style=\"background-color:#DFFF00 \">12.105572</span>"
      ],
      "text/plain": [
       "<IPython.core.display.HTML object>"
      ]
     },
     "metadata": {},
     "output_type": "display_data"
    },
    {
     "data": {
      "text/html": [
       " HQV ® Video Processing - HQV ( Hollywood Quality Video ) processing represents the state − of − the − art in video processing technology , with the highest quality de − interlacing ( with 3 : 2 & 2 : 2 <span style=\"background-color:#DFFF00 \">pull</span><span style=\"background-color:#DFFF00 \"> down</span><span style=\"background-color:#DFFF00 \"> )</span><span style=\"background-color:#DFFF00 \"> ,</span><span style=\"background-color:#DFFF00 \"> noise</span><span style=\"background-color:#DFFF00 \"> reduction</span><span style=\"background-color:#DFFF00 \"> ,</span><span style=\"background-color:#DFFF00 \"> and</span><span style=\"background-color:#DFFF00 \"> scaling</span><span style=\"background-color:#DFFF00 \"> performance</span> for both standard − definition and high − definition signals ."
      ],
      "text/plain": [
       "<IPython.core.display.HTML object>"
      ]
     },
     "metadata": {},
     "output_type": "display_data"
    },
    {
     "data": {
      "text/html": [
       " HQV ® Video Processing - Die HQV-Verarbeitung ( Hollywood Quality Video ) stellt die state − of − the − art in der Videoverarbeitungstechnologie mit der höchsten Qualität de − interlacing ( mit 3 : 2 & 2 : 2 <span style=\"background-color:#DFFF00 \">Pulldown</span><span style=\"background-color:#DFFF00 \"> )</span><span style=\"background-color:#DFFF00 \"> ,</span><span style=\"background-color:#DFFF00 \"> Rauschunterdrückung</span><span style=\"background-color:#DFFF00 \"> und</span><span style=\"background-color:#DFFF00 \"> Skalierungsleistung</span> für standard − definition und high − definition Signale dar ."
      ],
      "text/plain": [
       "<IPython.core.display.HTML object>"
      ]
     },
     "metadata": {},
     "output_type": "display_data"
    },
    {
     "name": "stdout",
     "output_type": "stream",
     "text": [
      "____________________________________130___________________________________________________\n",
      "['major', 'major', 'major', 'major']\n",
      "['Accuracy/Source language fragment', 'Accuracy/Source language fragment', 'Accuracy/Source language fragment', 'Accuracy/Source language fragment']\n",
      "\u001b[91m\u001b[1m🤬  Major\u001b[0m\n",
      "21.8711475\n"
     ]
    },
    {
     "data": {
      "text/html": [
       " <span style=\"background-color:#e0e0e0 \">-12.596043</span> <span style=\"background-color:#DFFF00 \">7.064416</span> <span style=\"background-color:#9FE2BF \">9.2751045</span>"
      ],
      "text/plain": [
       "<IPython.core.display.HTML object>"
      ]
     },
     "metadata": {},
     "output_type": "display_data"
    },
    {
     "data": {
      "text/html": [
       " It <span style=\"background-color:#9FE2BF \">up</span><span style=\"background-color:#9FE2BF \"> −</span><span style=\"background-color:#9FE2BF \"> or</span><span style=\"background-color:#9FE2BF \"> down</span> − scales composite , s − Video ( Y / C ) , component video ( YUV ) , HDMI , computer graphics video and JPEG files to a selectable computer graphics video or <span style=\"background-color:#DFFF00 \">HDTV</span><span style=\"background-color:#DFFF00 \"> output</span><span style=\"background-color:#DFFF00 \"> resolution</span><span style=\"background-color:#DFFF00 \"> on</span><span style=\"background-color:#DFFF00 \"> identical</span><span style=\"background-color:#DFFF00 \"> outputs</span><span style=\"background-color:#DFFF00 \"> −</span><span style=\"background-color:#DFFF00 \"> one</span><span style=\"background-color:#DFFF00 \"> HDMI</span> and two 15 − pin HD ."
      ],
      "text/plain": [
       "<IPython.core.display.HTML object>"
      ]
     },
     "metadata": {},
     "output_type": "display_data"
    },
    {
     "data": {
      "text/html": [
       " Es skaliert Composite- , S-Video ( Y / C ) , Component Video ( YUV ) , HDMI- , Computer Graphics Video- und JPEG-Dateien auf eine wählbare Computer Graphics Video- oder <span style=\"background-color:#DFFF00 \">HDTV-Ausgangsauflösung</span><span style=\"background-color:#DFFF00 \"> auf</span><span style=\"background-color:#DFFF00 \"> identischen</span><span style=\"background-color:#DFFF00 \"> Ausgängen</span><span style=\"background-color:#DFFF00 \"> -</span><span style=\"background-color:#DFFF00 \"> einem</span><span style=\"background-color:#DFFF00 \"> HDMI</span> und zwei 15-poligen HD <span style=\"background-color:#9FE2BF \">-</span><span style=\"background-color:#9FE2BF \"> auf-</span><span style=\"background-color:#9FE2BF \"> oder</span><span style=\"background-color:#9FE2BF \"> abwärts</span> ."
      ],
      "text/plain": [
       "<IPython.core.display.HTML object>"
      ]
     },
     "metadata": {},
     "output_type": "display_data"
    },
    {
     "name": "stdout",
     "output_type": "stream",
     "text": [
      "____________________________________131___________________________________________________\n",
      "['major', 'major', 'major']\n",
      "['Accuracy/Mistranslation', 'Accuracy/Mistranslation', 'Accuracy/Mistranslation']\n",
      "\u001b[91m\u001b[1m🤬  Major\u001b[0m\n",
      "7.1581101\n"
     ]
    },
    {
     "data": {
      "text/html": [
       " <span style=\"background-color:#e0e0e0 \">3.3132129</span> <span style=\"background-color:#DFFF00 \">8.216114</span> <span style=\"background-color:#9FE2BF \">10.471323</span>"
      ],
      "text/plain": [
       "<IPython.core.display.HTML object>"
      ]
     },
     "metadata": {},
     "output_type": "display_data"
    },
    {
     "data": {
      "text/html": [
       " That 's because the base power <span style=\"background-color:#DFFF00 \">in</span><span style=\"background-color:#DFFF00 \"> the</span><span style=\"background-color:#DFFF00 \"> precinct</span> is required to supply the Gabba 's light towers - one of which infamously went down during a Big Bash <span style=\"background-color:#9FE2BF \">League</span><span style=\"background-color:#9FE2BF \"> match</span><span style=\"background-color:#9FE2BF \"> in</span> 2019 - and the ground itself ."
      ],
      "text/plain": [
       "<IPython.core.display.HTML object>"
      ]
     },
     "metadata": {},
     "output_type": "display_data"
    },
    {
     "data": {
      "text/html": [
       " Denn die Basisleistung <span style=\"background-color:#DFFF00 \">im</span><span style=\"background-color:#DFFF00 \"> Stadtviertel</span> ist notwendig , um die Lichttürme von Gabba - von denen einer bei einem Big Bash <span style=\"background-color:#9FE2BF \">League-Spiel</span> 2019 unrühmlich umfiel - und das Gelände selbst zu versorgen ."
      ],
      "text/plain": [
       "<IPython.core.display.HTML object>"
      ]
     },
     "metadata": {},
     "output_type": "display_data"
    },
    {
     "name": "stdout",
     "output_type": "stream",
     "text": [
      "____________________________________132___________________________________________________\n",
      "['major', 'major', 'major']\n",
      "['Accuracy/Mistranslation', 'Accuracy/Mistranslation', 'Accuracy/Mistranslation']\n",
      "\u001b[91m\u001b[1m🤬  Major\u001b[0m\n",
      "13.925943\n"
     ]
    },
    {
     "data": {
      "text/html": [
       " <span style=\"background-color:#e0e0e0 \">-4.98442</span> <span style=\"background-color:#DFFF00 \">7.440226</span> <span style=\"background-color:#9FE2BF \">8.941523</span>"
      ],
      "text/plain": [
       "<IPython.core.display.HTML object>"
      ]
     },
     "metadata": {},
     "output_type": "display_data"
    },
    {
     "data": {
      "text/html": [
       " This difference , which has caused considerable anxiety for <span style=\"background-color:#DFFF00 \">the</span><span style=\"background-color:#DFFF00 \"> host</span><span style=\"background-color:#DFFF00 \"> broadcaster</span><span style=\"background-color:#DFFF00 \"> Fox</span> Cricket in the past , was exacerbated during the Ashes Test by the vastly reduced crew <span style=\"background-color:#9FE2BF \">of</span> production and technical staff able to keep tabs on the myriad metaphorical balls being kept in the air throughout the match ."
      ],
      "text/plain": [
       "<IPython.core.display.HTML object>"
      ]
     },
     "metadata": {},
     "output_type": "display_data"
    },
    {
     "data": {
      "text/html": [
       " Dieser Unterschied , der <span style=\"background-color:#DFFF00 \">dem</span><span style=\"background-color:#DFFF00 \"> gastgebenden</span><span style=\"background-color:#DFFF00 \"> Sender</span><span style=\"background-color:#DFFF00 \"> Fox</span> Cricket in der Vergangenheit erhebliche Sorgen bereitet hat , wurde während des Aschentests durch das enorm reduzierte Team <span style=\"background-color:#9FE2BF \">aus</span> Produktion und technischem Personal verstärkt , das es verstand , die unzähligen metaphorischen Kugeln , die während des gesamten Spiels in der Luft gehalten wurden , zu überwachen ."
      ],
      "text/plain": [
       "<IPython.core.display.HTML object>"
      ]
     },
     "metadata": {},
     "output_type": "display_data"
    },
    {
     "name": "stdout",
     "output_type": "stream",
     "text": [
      "____________________________________133___________________________________________________\n",
      "['major', 'major', 'major']\n",
      "['Accuracy/Mistranslation', 'Accuracy/Mistranslation', 'Accuracy/Mistranslation']\n",
      "\u001b[91m\u001b[1m🤬  Major\u001b[0m\n",
      "7.497813000000001\n"
     ]
    },
    {
     "data": {
      "text/html": [
       " <span style=\"background-color:#e0e0e0 \">4.937289</span> <span style=\"background-color:#DFFF00 \">9.974589</span> <span style=\"background-color:#9FE2BF \">12.435102</span>"
      ],
      "text/plain": [
       "<IPython.core.display.HTML object>"
      ]
     },
     "metadata": {},
     "output_type": "display_data"
    },
    {
     "data": {
      "text/html": [
       " And with <span style=\"background-color:#9FE2BF \">hooker</span> Dan Frost sin-binned <span style=\"background-color:#DFFF00 \">on</span><span style=\"background-color:#DFFF00 \"> the</span><span style=\"background-color:#DFFF00 \"> stroke</span> of half-time , their 13 men were on the ropes and Munster reacted by engineering tries for debutant Patrick Campbell and Andrew Conway ."
      ],
      "text/plain": [
       "<IPython.core.display.HTML object>"
      ]
     },
     "metadata": {},
     "output_type": "display_data"
    },
    {
     "data": {
      "text/html": [
       " Und da <span style=\"background-color:#9FE2BF \">Nutte</span> Dan Frost pünktlich <span style=\"background-color:#DFFF00 \">zur</span> Halbzeit in Seenot geraten war , standen ihre 13 Männer in den Seilen und Munster reagierte mit einem Versuch der Ingenieurskunst für die Debütanten Patrick Campbell und Andrew Conway ."
      ],
      "text/plain": [
       "<IPython.core.display.HTML object>"
      ]
     },
     "metadata": {},
     "output_type": "display_data"
    },
    {
     "name": "stdout",
     "output_type": "stream",
     "text": [
      "____________________________________134___________________________________________________\n",
      "['major', 'major', 'major']\n",
      "['Accuracy/Source language fragment', 'Accuracy/Mistranslation', 'Accuracy/Mistranslation']\n",
      "\u001b[91m\u001b[1m🤬  Major\u001b[0m\n",
      "22.264491999999997\n"
     ]
    },
    {
     "data": {
      "text/html": [
       " <span style=\"background-color:#e0e0e0 \">-10.93297</span> <span style=\"background-color:#DFFF00 \">11.331522</span>"
      ],
      "text/plain": [
       "<IPython.core.display.HTML object>"
      ]
     },
     "metadata": {},
     "output_type": "display_data"
    },
    {
     "data": {
      "text/html": [
       " This difference , which has caused considerable anxiety for the host broadcaster Fox Cricket in the past , was exacerbated during the Ashes Test by the vastly reduced crew of production and technical staff <span style=\"background-color:#DFFF00 \">able</span><span style=\"background-color:#DFFF00 \"> to</span><span style=\"background-color:#DFFF00 \"> keep</span><span style=\"background-color:#DFFF00 \"> tabs</span><span style=\"background-color:#DFFF00 \"> on</span><span style=\"background-color:#DFFF00 \"> the</span><span style=\"background-color:#DFFF00 \"> myriad</span><span style=\"background-color:#DFFF00 \"> metaphorical</span><span style=\"background-color:#DFFF00 \"> balls</span><span style=\"background-color:#DFFF00 \"> being</span><span style=\"background-color:#DFFF00 \"> kept</span><span style=\"background-color:#DFFF00 \"> in</span><span style=\"background-color:#DFFF00 \"> the</span><span style=\"background-color:#DFFF00 \"> air</span><span style=\"background-color:#DFFF00 \"> throughout</span><span style=\"background-color:#DFFF00 \"> the</span><span style=\"background-color:#DFFF00 \"> match</span> ."
      ],
      "text/plain": [
       "<IPython.core.display.HTML object>"
      ]
     },
     "metadata": {},
     "output_type": "display_data"
    },
    {
     "data": {
      "text/html": [
       " Dieser Unterschied , der dem Host-Broadcaster Fox Cricket in der Vergangenheit erhebliche Sorgen bereitete , wurde während des Ashes-Tests durch die stark reduzierte Crew von Produktions- und Technikern noch verschärft <span style=\"background-color:#DFFF00 \">,</span><span style=\"background-color:#DFFF00 \"> die</span><span style=\"background-color:#DFFF00 \"> in</span><span style=\"background-color:#DFFF00 \"> der</span><span style=\"background-color:#DFFF00 \"> Lage</span><span style=\"background-color:#DFFF00 \"> waren</span><span style=\"background-color:#DFFF00 \"> ,</span><span style=\"background-color:#DFFF00 \"> die</span><span style=\"background-color:#DFFF00 \"> unzähligen</span><span style=\"background-color:#DFFF00 \"> metaphorischen</span><span style=\"background-color:#DFFF00 \"> Bälle</span><span style=\"background-color:#DFFF00 \"> im</span><span style=\"background-color:#DFFF00 \"> Auge</span><span style=\"background-color:#DFFF00 \"> zu</span><span style=\"background-color:#DFFF00 \"> behalten</span><span style=\"background-color:#DFFF00 \"> ,</span><span style=\"background-color:#DFFF00 \"> die</span><span style=\"background-color:#DFFF00 \"> während</span><span style=\"background-color:#DFFF00 \"> des</span><span style=\"background-color:#DFFF00 \"> ganzen</span><span style=\"background-color:#DFFF00 \"> Jahres</span><span style=\"background-color:#DFFF00 \"> in</span><span style=\"background-color:#DFFF00 \"> der</span><span style=\"background-color:#DFFF00 \"> Luft</span><span style=\"background-color:#DFFF00 \"> gehalten</span><span style=\"background-color:#DFFF00 \"> wurden</span><span style=\"background-color:#DFFF00 \"> passen</span> ."
      ],
      "text/plain": [
       "<IPython.core.display.HTML object>"
      ]
     },
     "metadata": {},
     "output_type": "display_data"
    },
    {
     "name": "stdout",
     "output_type": "stream",
     "text": [
      "____________________________________135___________________________________________________\n",
      "['No-error', 'No-error', 'No-error', 'No-error']\n",
      "\u001b[94m\u001b[1m🤓 OK\u001b[0m\n",
      "0.0\n"
     ]
    },
    {
     "data": {
      "text/html": [
       " <span style=\"background-color:#e0e0e0 \">9.336139</span>"
      ],
      "text/plain": [
       "<IPython.core.display.HTML object>"
      ]
     },
     "metadata": {},
     "output_type": "display_data"
    },
    {
     "data": {
      "text/html": [
       " Thank you for contacting # PRS _ ORG # , it was my pleasure to assist you today ."
      ],
      "text/plain": [
       "<IPython.core.display.HTML object>"
      ]
     },
     "metadata": {},
     "output_type": "display_data"
    },
    {
     "data": {
      "text/html": [
       " Vielen Dank , dass Sie # PRS _ ORG # kontaktiert haben , es war mir eine Freude , Ihnen heute zu helfen ."
      ],
      "text/plain": [
       "<IPython.core.display.HTML object>"
      ]
     },
     "metadata": {},
     "output_type": "display_data"
    },
    {
     "name": "stdout",
     "output_type": "stream",
     "text": [
      "____________________________________136___________________________________________________\n",
      "['No-error', 'No-error', 'No-error']\n",
      "\u001b[94m\u001b[1m🤓 OK\u001b[0m\n",
      "0.0\n"
     ]
    },
    {
     "data": {
      "text/html": [
       " <span style=\"background-color:#e0e0e0 \">13.841575</span>"
      ],
      "text/plain": [
       "<IPython.core.display.HTML object>"
      ]
     },
     "metadata": {},
     "output_type": "display_data"
    },
    {
     "data": {
      "text/html": [
       " \" We all know that everything is more intense when the climate is warming ."
      ],
      "text/plain": [
       "<IPython.core.display.HTML object>"
      ]
     },
     "metadata": {},
     "output_type": "display_data"
    },
    {
     "data": {
      "text/html": [
       " \" Wir wissen alle , dass alles intensiver ist , wenn sich das Klima erwärmt ."
      ],
      "text/plain": [
       "<IPython.core.display.HTML object>"
      ]
     },
     "metadata": {},
     "output_type": "display_data"
    },
    {
     "name": "stdout",
     "output_type": "stream",
     "text": [
      "____________________________________137___________________________________________________\n",
      "['No-error', 'No-error', 'No-error']\n",
      "\u001b[94m\u001b[1m🤓 OK\u001b[0m\n",
      "0.0\n"
     ]
    },
    {
     "data": {
      "text/html": [
       " <span style=\"background-color:#e0e0e0 \">12.961002</span>"
      ],
      "text/plain": [
       "<IPython.core.display.HTML object>"
      ]
     },
     "metadata": {},
     "output_type": "display_data"
    },
    {
     "data": {
      "text/html": [
       " \" All that I know is that the intensity of the weather across the board has some impact as a consequence of the warming of the planet , \" Biden said ."
      ],
      "text/plain": [
       "<IPython.core.display.HTML object>"
      ]
     },
     "metadata": {},
     "output_type": "display_data"
    },
    {
     "data": {
      "text/html": [
       " \" Alles , was ich weiß , ist , dass die Intensität des Wetters auf der ganzen Linie einige Auswirkungen als Folge der Erwärmung des Planeten hat \" , sagte Biden ."
      ],
      "text/plain": [
       "<IPython.core.display.HTML object>"
      ]
     },
     "metadata": {},
     "output_type": "display_data"
    },
    {
     "name": "stdout",
     "output_type": "stream",
     "text": [
      "____________________________________138___________________________________________________\n",
      "['No-error', 'No-error', 'No-error', 'No-error', 'No-error', 'No-error']\n",
      "\u001b[94m\u001b[1m🤓 OK\u001b[0m\n",
      "3.978634499999999\n"
     ]
    },
    {
     "data": {
      "text/html": [
       " <span style=\"background-color:#e0e0e0 \">6.3179045</span> <span style=\"background-color:#DFFF00 \">10.296539</span>"
      ],
      "text/plain": [
       "<IPython.core.display.HTML object>"
      ]
     },
     "metadata": {},
     "output_type": "display_data"
    },
    {
     "data": {
      "text/html": [
       " If I want something out of the ordinary , however , <span style=\"background-color:#DFFF00 \">I</span><span style=\"background-color:#DFFF00 \"> buy</span> direct from the manufacturer or through Muir ."
      ],
      "text/plain": [
       "<IPython.core.display.HTML object>"
      ]
     },
     "metadata": {},
     "output_type": "display_data"
    },
    {
     "data": {
      "text/html": [
       " Wenn ich jedoch etwas Außergewöhnliches möchte , <span style=\"background-color:#DFFF00 \">kaufe</span><span style=\"background-color:#DFFF00 \"> ich</span> direkt beim Hersteller oder über Muir ."
      ],
      "text/plain": [
       "<IPython.core.display.HTML object>"
      ]
     },
     "metadata": {},
     "output_type": "display_data"
    },
    {
     "name": "stdout",
     "output_type": "stream",
     "text": [
      "____________________________________139___________________________________________________\n",
      "['No-error', 'No-error', 'No-error']\n",
      "\u001b[94m\u001b[1m🤓 OK\u001b[0m\n",
      "2.9120150000000002\n"
     ]
    },
    {
     "data": {
      "text/html": [
       " <span style=\"background-color:#e0e0e0 \">8.063957</span> <span style=\"background-color:#DFFF00 \">10.975972</span>"
      ],
      "text/plain": [
       "<IPython.core.display.HTML object>"
      ]
     },
     "metadata": {},
     "output_type": "display_data"
    },
    {
     "data": {
      "text/html": [
       " Or they <span style=\"background-color:#DFFF00 \">'ll</span><span style=\"background-color:#DFFF00 \"> claim</span> that shredded ballots were fed to chickens that were then incinerated ."
      ],
      "text/plain": [
       "<IPython.core.display.HTML object>"
      ]
     },
     "metadata": {},
     "output_type": "display_data"
    },
    {
     "data": {
      "text/html": [
       " Oder sie <span style=\"background-color:#DFFF00 \">behaupten</span> , dass geschredderte Stimmzettel an Hühner verfüttert wurden , die dann verbrannt wurden ."
      ],
      "text/plain": [
       "<IPython.core.display.HTML object>"
      ]
     },
     "metadata": {},
     "output_type": "display_data"
    },
    {
     "name": "stdout",
     "output_type": "stream",
     "text": [
      "____________________________________140___________________________________________________\n",
      "['No-error', 'No-error', 'No-error']\n",
      "\u001b[94m\u001b[1m🤓 OK\u001b[0m\n",
      "0.0\n"
     ]
    },
    {
     "data": {
      "text/html": [
       " <span style=\"background-color:#e0e0e0 \">11.597302</span>"
      ],
      "text/plain": [
       "<IPython.core.display.HTML object>"
      ]
     },
     "metadata": {},
     "output_type": "display_data"
    },
    {
     "data": {
      "text/html": [
       " The Kremlin denies it plans to invade and says the West is gripped by Russophobia ."
      ],
      "text/plain": [
       "<IPython.core.display.HTML object>"
      ]
     },
     "metadata": {},
     "output_type": "display_data"
    },
    {
     "data": {
      "text/html": [
       " Der Kreml bestreitet seine Invasionspläne und sagt , der Westen sei von Russophobie erfasst ."
      ],
      "text/plain": [
       "<IPython.core.display.HTML object>"
      ]
     },
     "metadata": {},
     "output_type": "display_data"
    },
    {
     "name": "stdout",
     "output_type": "stream",
     "text": [
      "____________________________________141___________________________________________________\n",
      "['No-error', 'No-error', 'No-error']\n",
      "\u001b[94m\u001b[1m🤓 OK\u001b[0m\n",
      "0.0\n"
     ]
    },
    {
     "data": {
      "text/html": [
       " <span style=\"background-color:#e0e0e0 \">13.440992</span>"
      ],
      "text/plain": [
       "<IPython.core.display.HTML object>"
      ]
     },
     "metadata": {},
     "output_type": "display_data"
    },
    {
     "data": {
      "text/html": [
       " Moscow says the expansion of NATO threatens Russia and has contravened assurances given to it as the Soviet Union collapsed in 1991 ."
      ],
      "text/plain": [
       "<IPython.core.display.HTML object>"
      ]
     },
     "metadata": {},
     "output_type": "display_data"
    },
    {
     "data": {
      "text/html": [
       " Moskau sagt , die Erweiterung der NATO bedrohe Russland und habe gegen Zusicherungen verstoßen , die ihm beim Zusammenbruch der Sowjetunion im Jahr 1991 gegeben wurden ."
      ],
      "text/plain": [
       "<IPython.core.display.HTML object>"
      ]
     },
     "metadata": {},
     "output_type": "display_data"
    },
    {
     "name": "stdout",
     "output_type": "stream",
     "text": [
      "____________________________________142___________________________________________________\n",
      "['No-error', 'No-error', 'No-error', 'No-error', 'No-error']\n",
      "\u001b[94m\u001b[1m🤓 OK\u001b[0m\n",
      "0.0\n"
     ]
    },
    {
     "data": {
      "text/html": [
       " <span style=\"background-color:#e0e0e0 \">9.962991</span>"
      ],
      "text/plain": [
       "<IPython.core.display.HTML object>"
      ]
     },
     "metadata": {},
     "output_type": "display_data"
    },
    {
     "data": {
      "text/html": [
       " Please kindly contact us via eBay messages and a member of our team will get back to you as soon as possible ."
      ],
      "text/plain": [
       "<IPython.core.display.HTML object>"
      ]
     },
     "metadata": {},
     "output_type": "display_data"
    },
    {
     "data": {
      "text/html": [
       " Bitte kontaktieren Sie uns über eBay-Nachrichten und ein Mitglied unseres Teams wird sich so schnell wie möglich mit Ihnen in Verbindung setzen ."
      ],
      "text/plain": [
       "<IPython.core.display.HTML object>"
      ]
     },
     "metadata": {},
     "output_type": "display_data"
    },
    {
     "name": "stdout",
     "output_type": "stream",
     "text": [
      "____________________________________143___________________________________________________\n",
      "['major', 'major', 'minor']\n",
      "['Accuracy/Source language fragment', 'Accuracy/Mistranslation', 'Accuracy/Mistranslation']\n",
      "\u001b[91m\u001b[1m🤬  Major\u001b[0m\n",
      "17.533965000000002\n"
     ]
    },
    {
     "data": {
      "text/html": [
       " <span style=\"background-color:#e0e0e0 \">-5.884976</span> <span style=\"background-color:#DFFF00 \">11.648989</span>"
      ],
      "text/plain": [
       "<IPython.core.display.HTML object>"
      ]
     },
     "metadata": {},
     "output_type": "display_data"
    },
    {
     "data": {
      "text/html": [
       " I am a Midwesterner , and have always been nice to PJ 's face , so I told her I was sorry , <span style=\"background-color:#DFFF00 \">that</span><span style=\"background-color:#DFFF00 \"> sucked</span><span style=\"background-color:#DFFF00 \"> ,</span> what about this project we 're both on ?"
      ],
      "text/plain": [
       "<IPython.core.display.HTML object>"
      ]
     },
     "metadata": {},
     "output_type": "display_data"
    },
    {
     "data": {
      "text/html": [
       " Ich bin ein Midwestern und war immer nett zu PJs Gesicht , also sagte ich ihr , dass ich bedauere , <span style=\"background-color:#DFFF00 \">dass</span><span style=\"background-color:#DFFF00 \"> saß</span><span style=\"background-color:#DFFF00 \"> ,</span> was ist mit diesem Projekt , auf dem wir beide sind ?"
      ],
      "text/plain": [
       "<IPython.core.display.HTML object>"
      ]
     },
     "metadata": {},
     "output_type": "display_data"
    },
    {
     "name": "stdout",
     "output_type": "stream",
     "text": [
      "____________________________________144___________________________________________________\n",
      "['No-error', 'No-error', 'No-error', 'No-error', 'No-error', 'No-error']\n",
      "\u001b[94m\u001b[1m🤓 OK\u001b[0m\n",
      "3.406051399999999\n"
     ]
    },
    {
     "data": {
      "text/html": [
       " <span style=\"background-color:#e0e0e0 \">7.9288106</span> <span style=\"background-color:#DFFF00 \">11.334862</span>"
      ],
      "text/plain": [
       "<IPython.core.display.HTML object>"
      ]
     },
     "metadata": {},
     "output_type": "display_data"
    },
    {
     "data": {
      "text/html": [
       " We are still looking ways to improve our services and this will be noted as <span style=\"background-color:#DFFF00 \">a</span><span style=\"background-color:#DFFF00 \"> feedback</span><span style=\"background-color:#DFFF00 \"> to</span> one of our valued customer ."
      ],
      "text/plain": [
       "<IPython.core.display.HTML object>"
      ]
     },
     "metadata": {},
     "output_type": "display_data"
    },
    {
     "data": {
      "text/html": [
       " Wir suchen immer noch nach Möglichkeiten , unsere Dienstleistungen zu verbessern , und dies wird als <span style=\"background-color:#DFFF00 \">Feedback</span><span style=\"background-color:#DFFF00 \"> an</span> einen unserer geschätzten Kunden vermerkt ."
      ],
      "text/plain": [
       "<IPython.core.display.HTML object>"
      ]
     },
     "metadata": {},
     "output_type": "display_data"
    },
    {
     "name": "stdout",
     "output_type": "stream",
     "text": [
      "____________________________________145___________________________________________________\n",
      "['No-error', 'No-error', 'No-error', 'No-error']\n",
      "\u001b[94m\u001b[1m🤓 OK\u001b[0m\n",
      "0.0\n"
     ]
    },
    {
     "data": {
      "text/html": [
       " <span style=\"background-color:#e0e0e0 \">13.847216</span>"
      ],
      "text/plain": [
       "<IPython.core.display.HTML object>"
      ]
     },
     "metadata": {},
     "output_type": "display_data"
    },
    {
     "data": {
      "text/html": [
       " And what does \" the developers can be confident that their patch / feature will get pushed out in the new release \" even mean ?"
      ],
      "text/plain": [
       "<IPython.core.display.HTML object>"
      ]
     },
     "metadata": {},
     "output_type": "display_data"
    },
    {
     "data": {
      "text/html": [
       " Und was bedeutet \" die Entwickler können sicher sein , dass ihr Patch / Feature in der neuen Version veröffentlicht wird \" überhaupt ?"
      ],
      "text/plain": [
       "<IPython.core.display.HTML object>"
      ]
     },
     "metadata": {},
     "output_type": "display_data"
    },
    {
     "name": "stdout",
     "output_type": "stream",
     "text": [
      "____________________________________146___________________________________________________\n",
      "['No-error', 'No-error', 'No-error']\n",
      "\u001b[94m\u001b[1m🤓 OK\u001b[0m\n",
      "1.1205689999999997\n"
     ]
    },
    {
     "data": {
      "text/html": [
       " <span style=\"background-color:#e0e0e0 \">9.811328</span> <span style=\"background-color:#DFFF00 \">10.931897</span>"
      ],
      "text/plain": [
       "<IPython.core.display.HTML object>"
      ]
     },
     "metadata": {},
     "output_type": "display_data"
    },
    {
     "data": {
      "text/html": [
       " Even if Apple upped the rate of OS updates to account for minor bug fixes in a handful of apps , why does the user need to perform * a full OS upgrade * <span style=\"background-color:#DFFF00 \">every</span><span style=\"background-color:#DFFF00 \"> time</span> ?"
      ],
      "text/plain": [
       "<IPython.core.display.HTML object>"
      ]
     },
     "metadata": {},
     "output_type": "display_data"
    },
    {
     "data": {
      "text/html": [
       " Selbst wenn Apple die Rate der Betriebssystem-Updates erhöht hat , um kleinere Fehlerkorrekturen in einer Handvoll Apps zu berücksichtigen , warum muss der Benutzer <span style=\"background-color:#DFFF00 \">jedes</span><span style=\"background-color:#DFFF00 \"> Mal</span> * ein vollständiges Betriebssystem-Upgrade * durchführen ?"
      ],
      "text/plain": [
       "<IPython.core.display.HTML object>"
      ]
     },
     "metadata": {},
     "output_type": "display_data"
    },
    {
     "name": "stdout",
     "output_type": "stream",
     "text": [
      "____________________________________147___________________________________________________\n",
      "['No-error', 'No-error', 'No-error', 'No-error']\n",
      "\u001b[94m\u001b[1m🤓 OK\u001b[0m\n",
      "0.0\n"
     ]
    },
    {
     "data": {
      "text/html": [
       " <span style=\"background-color:#e0e0e0 \">8.686582</span>"
      ],
      "text/plain": [
       "<IPython.core.display.HTML object>"
      ]
     },
     "metadata": {},
     "output_type": "display_data"
    },
    {
     "data": {
      "text/html": [
       " Should you have any further questions or concerns , you can always reply back to that email and we will be able to assist you further ."
      ],
      "text/plain": [
       "<IPython.core.display.HTML object>"
      ]
     },
     "metadata": {},
     "output_type": "display_data"
    },
    {
     "data": {
      "text/html": [
       " Sollten Sie weitere Fragen oder Bedenken haben , können Sie jederzeit auf diese E-Mail antworten und wir werden Ihnen weiterhelfen können ."
      ],
      "text/plain": [
       "<IPython.core.display.HTML object>"
      ]
     },
     "metadata": {},
     "output_type": "display_data"
    },
    {
     "name": "stdout",
     "output_type": "stream",
     "text": [
      "____________________________________148___________________________________________________\n",
      "['minor', 'minor', 'minor']\n",
      "\u001b[91m\u001b[1m😤  Minor\u001b[0m\n",
      "8.3554909\n"
     ]
    },
    {
     "data": {
      "text/html": [
       " <span style=\"background-color:#e0e0e0 \">3.7862191</span> <span style=\"background-color:#DFFF00 \">12.14171</span>"
      ],
      "text/plain": [
       "<IPython.core.display.HTML object>"
      ]
     },
     "metadata": {},
     "output_type": "display_data"
    },
    {
     "data": {
      "text/html": [
       " But everyone was so pleased that it had gone ahead when so many other Christmas events have been cancelled as yet another Covid variant <span style=\"background-color:#DFFF00 \">hove</span> into view ."
      ],
      "text/plain": [
       "<IPython.core.display.HTML object>"
      ]
     },
     "metadata": {},
     "output_type": "display_data"
    },
    {
     "data": {
      "text/html": [
       " Aber alle waren so froh , dass es weitergegangen war , als so viele andere Weihnachtsveranstaltungen abgesagt wurden , als eine weitere Covid-Variante in Sicht <span style=\"background-color:#DFFF00 \">kam</span> ."
      ],
      "text/plain": [
       "<IPython.core.display.HTML object>"
      ]
     },
     "metadata": {},
     "output_type": "display_data"
    },
    {
     "name": "stdout",
     "output_type": "stream",
     "text": [
      "____________________________________149___________________________________________________\n",
      "['No-error', 'No-error', 'No-error', 'No-error', 'No-error']\n",
      "\u001b[94m\u001b[1m🤓 OK\u001b[0m\n",
      "0.0\n"
     ]
    },
    {
     "data": {
      "text/html": [
       " <span style=\"background-color:#e0e0e0 \">11.359249</span>"
      ],
      "text/plain": [
       "<IPython.core.display.HTML object>"
      ]
     },
     "metadata": {},
     "output_type": "display_data"
    },
    {
     "data": {
      "text/html": [
       " The other thing we need you to try is to reset the USB ports in your computer ."
      ],
      "text/plain": [
       "<IPython.core.display.HTML object>"
      ]
     },
     "metadata": {},
     "output_type": "display_data"
    },
    {
     "data": {
      "text/html": [
       " Die andere Sache , die Sie versuchen müssen , ist , die USB-Anschlüsse in Ihrem Computer zurückzusetzen ."
      ],
      "text/plain": [
       "<IPython.core.display.HTML object>"
      ]
     },
     "metadata": {},
     "output_type": "display_data"
    },
    {
     "name": "stdout",
     "output_type": "stream",
     "text": [
      "____________________________________150___________________________________________________\n",
      "['No-error', 'No-error', 'No-error']\n",
      "\u001b[94m\u001b[1m🤓 OK\u001b[0m\n",
      "0.0\n"
     ]
    },
    {
     "data": {
      "text/html": [
       " <span style=\"background-color:#e0e0e0 \">13.846831</span>"
      ],
      "text/plain": [
       "<IPython.core.display.HTML object>"
      ]
     },
     "metadata": {},
     "output_type": "display_data"
    },
    {
     "data": {
      "text/html": [
       " \" We reaffirm our unwavering commitment to Ukraine 's sovereignty and territorial integrity , as well as the right of any sovereign state to determine its own future , \" the draft said ."
      ],
      "text/plain": [
       "<IPython.core.display.HTML object>"
      ]
     },
     "metadata": {},
     "output_type": "display_data"
    },
    {
     "data": {
      "text/html": [
       " \" Wir bekräftigen unser unerschütterliches Bekenntnis zur Souveränität und territorialen Integrität der Ukraine sowie zum Recht jedes souveränen Staates , seine eigene Zukunft zu bestimmen \" , heißt es in dem Entwurf ."
      ],
      "text/plain": [
       "<IPython.core.display.HTML object>"
      ]
     },
     "metadata": {},
     "output_type": "display_data"
    },
    {
     "name": "stdout",
     "output_type": "stream",
     "text": [
      "____________________________________151___________________________________________________\n",
      "['No-error', 'No-error', 'No-error']\n",
      "\u001b[94m\u001b[1m🤓 OK\u001b[0m\n",
      "0.0\n"
     ]
    },
    {
     "data": {
      "text/html": [
       " <span style=\"background-color:#e0e0e0 \">8.344892</span>"
      ],
      "text/plain": [
       "<IPython.core.display.HTML object>"
      ]
     },
     "metadata": {},
     "output_type": "display_data"
    },
    {
     "data": {
      "text/html": [
       " > Decoupling will need them to make sure their apps work on all different iOS versions ."
      ],
      "text/plain": [
       "<IPython.core.display.HTML object>"
      ]
     },
     "metadata": {},
     "output_type": "display_data"
    },
    {
     "data": {
      "text/html": [
       " > Für die Entkopplung müssen sie sicherstellen , dass ihre Apps auf allen verschiedenen iOS-Versionen funktionieren ."
      ],
      "text/plain": [
       "<IPython.core.display.HTML object>"
      ]
     },
     "metadata": {},
     "output_type": "display_data"
    },
    {
     "name": "stdout",
     "output_type": "stream",
     "text": [
      "____________________________________152___________________________________________________\n",
      "['minor', 'major', 'major']\n",
      "['Accuracy/Mistranslation', 'Accuracy/Mistranslation', 'Accuracy/Mistranslation']\n",
      "\u001b[91m\u001b[1m🤬  Major\u001b[0m\n",
      "8.1519926\n"
     ]
    },
    {
     "data": {
      "text/html": [
       " <span style=\"background-color:#e0e0e0 \">3.7913094</span> <span style=\"background-color:#DFFF00 \">11.943302</span>"
      ],
      "text/plain": [
       "<IPython.core.display.HTML object>"
      ]
     },
     "metadata": {},
     "output_type": "display_data"
    },
    {
     "data": {
      "text/html": [
       " But everyone was so pleased that it had gone ahead when so many other Christmas events have been cancelled as yet another Covid variant <span style=\"background-color:#DFFF00 \">hove</span> into view ."
      ],
      "text/plain": [
       "<IPython.core.display.HTML object>"
      ]
     },
     "metadata": {},
     "output_type": "display_data"
    },
    {
     "data": {
      "text/html": [
       " Aber alle waren so erfreut , dass es weitergegangen war , als so viele andere Weihnachtsveranstaltungen abgesagt wurden , als eine weitere Covid-Variante in Sicht <span style=\"background-color:#DFFF00 \">kam</span> ."
      ],
      "text/plain": [
       "<IPython.core.display.HTML object>"
      ]
     },
     "metadata": {},
     "output_type": "display_data"
    },
    {
     "name": "stdout",
     "output_type": "stream",
     "text": [
      "____________________________________153___________________________________________________\n",
      "['No-error', 'No-error', 'No-error', 'No-error']\n",
      "\u001b[94m\u001b[1m🤓 OK\u001b[0m\n",
      "0.0\n"
     ]
    },
    {
     "data": {
      "text/html": [
       " <span style=\"background-color:#e0e0e0 \">8.882721</span>"
      ],
      "text/plain": [
       "<IPython.core.display.HTML object>"
      ]
     },
     "metadata": {},
     "output_type": "display_data"
    },
    {
     "data": {
      "text/html": [
       " Should you have any further questions or concerns , you can always reply back to that email and we will be able to assist you further ."
      ],
      "text/plain": [
       "<IPython.core.display.HTML object>"
      ]
     },
     "metadata": {},
     "output_type": "display_data"
    },
    {
     "data": {
      "text/html": [
       " Sollten Sie weitere Fragen oder Bedenken haben , können Sie jederzeit auf diese E-Mail antworten und wir können Ihnen weiterhelfen ."
      ],
      "text/plain": [
       "<IPython.core.display.HTML object>"
      ]
     },
     "metadata": {},
     "output_type": "display_data"
    },
    {
     "name": "stdout",
     "output_type": "stream",
     "text": [
      "____________________________________154___________________________________________________\n",
      "['No-error', 'No-error', 'No-error', 'No-error']\n",
      "\u001b[94m\u001b[1m🤓 OK\u001b[0m\n",
      "0.0\n"
     ]
    },
    {
     "data": {
      "text/html": [
       " <span style=\"background-color:#e0e0e0 \">13.840484</span>"
      ],
      "text/plain": [
       "<IPython.core.display.HTML object>"
      ]
     },
     "metadata": {},
     "output_type": "display_data"
    },
    {
     "data": {
      "text/html": [
       " \" We all know that everything is more intense when the climate is warming ."
      ],
      "text/plain": [
       "<IPython.core.display.HTML object>"
      ]
     },
     "metadata": {},
     "output_type": "display_data"
    },
    {
     "data": {
      "text/html": [
       " \" Wir alle wissen , dass alles intensiver ist , wenn sich das Klima erwärmt ."
      ],
      "text/plain": [
       "<IPython.core.display.HTML object>"
      ]
     },
     "metadata": {},
     "output_type": "display_data"
    },
    {
     "name": "stdout",
     "output_type": "stream",
     "text": [
      "____________________________________155___________________________________________________\n",
      "['No-error', 'No-error', 'No-error', 'No-error']\n",
      "\u001b[94m\u001b[1m🤓 OK\u001b[0m\n",
      "3.442376000000001\n"
     ]
    },
    {
     "data": {
      "text/html": [
       " <span style=\"background-color:#e0e0e0 \">9.266542</span> <span style=\"background-color:#DFFF00 \">12.708918</span>"
      ],
      "text/plain": [
       "<IPython.core.display.HTML object>"
      ]
     },
     "metadata": {},
     "output_type": "display_data"
    },
    {
     "data": {
      "text/html": [
       " I <span style=\"background-color:#DFFF00 \">hope</span><span style=\"background-color:#DFFF00 \"> you</span> have a great day and please come back to us if you need any further assistance ."
      ],
      "text/plain": [
       "<IPython.core.display.HTML object>"
      ]
     },
     "metadata": {},
     "output_type": "display_data"
    },
    {
     "data": {
      "text/html": [
       " Ich wünsche Ihnen einen schönen Tag und <span style=\"background-color:#DFFF00 \">kommen</span><span style=\"background-color:#DFFF00 \"> Sie</span> bitte auf uns zurück , wenn Sie weitere Hilfe benötigen ."
      ],
      "text/plain": [
       "<IPython.core.display.HTML object>"
      ]
     },
     "metadata": {},
     "output_type": "display_data"
    },
    {
     "name": "stdout",
     "output_type": "stream",
     "text": [
      "____________________________________156___________________________________________________\n",
      "['major', 'major', 'major']\n",
      "['Accuracy/Mistranslation', 'Accuracy/Mistranslation', 'Accuracy/Mistranslation']\n",
      "\u001b[91m\u001b[1m🤬  Major\u001b[0m\n",
      "3.2071983\n"
     ]
    },
    {
     "data": {
      "text/html": [
       " <span style=\"background-color:#e0e0e0 \">1.8999122</span> <span style=\"background-color:#DFFF00 \">5.1071105</span>"
      ],
      "text/plain": [
       "<IPython.core.display.HTML object>"
      ]
     },
     "metadata": {},
     "output_type": "display_data"
    },
    {
     "data": {
      "text/html": [
       " A. If you are in the UK , we have no problem sending to a different UK address but you must have picked an item that has signed for delivery as its default shipping , or have picked the signed <span style=\"background-color:#DFFF00 \">for</span><span style=\"background-color:#DFFF00 \"> delivery</span> option when you placed the order ."
      ],
      "text/plain": [
       "<IPython.core.display.HTML object>"
      ]
     },
     "metadata": {},
     "output_type": "display_data"
    },
    {
     "data": {
      "text/html": [
       " A. Wenn Sie sich im Vereinigten Königreich befinden , können wir problemlos an eine andere britische Adresse senden , aber Sie müssen einen Artikel ausgewählt haben , der als Standardversand für die Lieferung unterschrieben ist , oder Sie haben die Option <span style=\"background-color:#DFFF00 \">für</span><span style=\"background-color:#DFFF00 \"> die</span><span style=\"background-color:#DFFF00 \"> Lieferung</span> unterschrieben ausgewählt , als Sie die Bestellung aufgegeben haben ."
      ],
      "text/plain": [
       "<IPython.core.display.HTML object>"
      ]
     },
     "metadata": {},
     "output_type": "display_data"
    },
    {
     "name": "stdout",
     "output_type": "stream",
     "text": [
      "____________________________________157___________________________________________________\n",
      "['No-error', 'No-error', 'No-error']\n",
      "\u001b[94m\u001b[1m🤓 OK\u001b[0m\n",
      "5.162196\n"
     ]
    },
    {
     "data": {
      "text/html": [
       " <span style=\"background-color:#e0e0e0 \">6.415505</span> <span style=\"background-color:#DFFF00 \">11.577701</span>"
      ],
      "text/plain": [
       "<IPython.core.display.HTML object>"
      ]
     },
     "metadata": {},
     "output_type": "display_data"
    },
    {
     "data": {
      "text/html": [
       " If there is a mistake , please let us know as soon as possible <span style=\"background-color:#DFFF00 \">so</span><span style=\"background-color:#DFFF00 \"> that</span><span style=\"background-color:#DFFF00 \"> we</span><span style=\"background-color:#DFFF00 \"> can</span><span style=\"background-color:#DFFF00 \"> cancel</span><span style=\"background-color:#DFFF00 \"> the</span><span style=\"background-color:#DFFF00 \"> order</span><span style=\"background-color:#DFFF00 \"> and</span><span style=\"background-color:#DFFF00 \"> so</span> that you can re-purchase with the correct address ."
      ],
      "text/plain": [
       "<IPython.core.display.HTML object>"
      ]
     },
     "metadata": {},
     "output_type": "display_data"
    },
    {
     "data": {
      "text/html": [
       " Wenn ein Fehler vorliegt , teilen Sie uns dies bitte so schnell wie möglich mit <span style=\"background-color:#DFFF00 \">,</span><span style=\"background-color:#DFFF00 \"> damit</span><span style=\"background-color:#DFFF00 \"> wir</span><span style=\"background-color:#DFFF00 \"> die</span><span style=\"background-color:#DFFF00 \"> Bestellung</span><span style=\"background-color:#DFFF00 \"> stornieren</span><span style=\"background-color:#DFFF00 \"> können</span><span style=\"background-color:#DFFF00 \"> und</span> Sie mit der richtigen Adresse erneut einkaufen können ."
      ],
      "text/plain": [
       "<IPython.core.display.HTML object>"
      ]
     },
     "metadata": {},
     "output_type": "display_data"
    },
    {
     "name": "stdout",
     "output_type": "stream",
     "text": [
      "____________________________________158___________________________________________________\n",
      "['major', 'major', 'major', 'major', 'major']\n",
      "['Accuracy/Source language fragment', 'Accuracy/Source language fragment', 'Accuracy/Mistranslation', 'Accuracy/Mistranslation', 'Accuracy/Omission']\n",
      "\u001b[91m\u001b[1m🤬  Major\u001b[0m\n",
      "4.2152978\n"
     ]
    },
    {
     "data": {
      "text/html": [
       " <span style=\"background-color:#e0e0e0 \">3.2876852</span> <span style=\"background-color:#DFFF00 \">7.502983</span>"
      ],
      "text/plain": [
       "<IPython.core.display.HTML object>"
      ]
     },
     "metadata": {},
     "output_type": "display_data"
    },
    {
     "data": {
      "text/html": [
       " A. If you are in the UK , we have no problem sending to a different UK address but you <span style=\"background-color:#DFFF00 \">must</span><span style=\"background-color:#DFFF00 \"> have</span><span style=\"background-color:#DFFF00 \"> picked</span><span style=\"background-color:#DFFF00 \"> an</span><span style=\"background-color:#DFFF00 \"> item</span><span style=\"background-color:#DFFF00 \"> that</span> has signed for delivery as its default shipping , or have picked the signed for delivery option when you placed the order ."
      ],
      "text/plain": [
       "<IPython.core.display.HTML object>"
      ]
     },
     "metadata": {},
     "output_type": "display_data"
    },
    {
     "data": {
      "text/html": [
       " A. Wenn Sie in Großbritannien wohnen , ist es kein Problem , Ihre Bestellung an eine andere britische Adresse zu schicken . Sie <span style=\"background-color:#DFFF00 \">müssen</span><span style=\"background-color:#DFFF00 \"> jedoch</span><span style=\"background-color:#DFFF00 \"> einen</span><span style=\"background-color:#DFFF00 \"> Artikel</span><span style=\"background-color:#DFFF00 \"> ausgewählt</span><span style=\"background-color:#DFFF00 \"> haben</span><span style=\"background-color:#DFFF00 \"> ,</span><span style=\"background-color:#DFFF00 \"> der</span> standardmäßig mit einer unterschriebenen Lieferadresse geliefert wird , oder Sie müssen die Option \" unterschrieben \" gewählt haben , als Sie Ihre Bestellung aufgaben ."
      ],
      "text/plain": [
       "<IPython.core.display.HTML object>"
      ]
     },
     "metadata": {},
     "output_type": "display_data"
    },
    {
     "name": "stdout",
     "output_type": "stream",
     "text": [
      "____________________________________159___________________________________________________\n",
      "['major', 'major', 'major', 'major']\n",
      "['Accuracy/Mistranslation', 'Accuracy/Mistranslation', 'Accuracy/Mistranslation', 'Accuracy/Mistranslation']\n",
      "\u001b[91m\u001b[1m🤬  Major\u001b[0m\n",
      "5.351902\n"
     ]
    },
    {
     "data": {
      "text/html": [
       " <span style=\"background-color:#e0e0e0 \">4.281391</span> <span style=\"background-color:#DFFF00 \">5.459584</span> <span style=\"background-color:#9FE2BF \">8.052337</span> <span style=\"background-color:#CCCCFF \">9.633293</span>"
      ],
      "text/plain": [
       "<IPython.core.display.HTML object>"
      ]
     },
     "metadata": {},
     "output_type": "display_data"
    },
    {
     "data": {
      "text/html": [
       " A. If you are in the UK , we have no problem sending to a different UK address but you <span style=\"background-color:#9FE2BF \">must</span><span style=\"background-color:#9FE2BF \"> have</span><span style=\"background-color:#9FE2BF \"> picked</span><span style=\"background-color:#9FE2BF \"> an</span><span style=\"background-color:#9FE2BF \"> item</span> that has signed for delivery <span style=\"background-color:#CCCCFF \">as</span><span style=\"background-color:#CCCCFF \"> its</span><span style=\"background-color:#CCCCFF \"> default</span><span style=\"background-color:#CCCCFF \"> shipping</span> , or have picked the signed <span style=\"background-color:#DFFF00 \">for</span><span style=\"background-color:#DFFF00 \"> delivery</span> option when you placed the order ."
      ],
      "text/plain": [
       "<IPython.core.display.HTML object>"
      ]
     },
     "metadata": {},
     "output_type": "display_data"
    },
    {
     "data": {
      "text/html": [
       " A. Wenn Sie sich in Großbritannien befinden , haben wir kein Problem mit dem Versand an eine andere britische Adresse , aber Sie <span style=\"background-color:#9FE2BF \">müssen</span><span style=\"background-color:#9FE2BF \"> einen</span><span style=\"background-color:#9FE2BF \"> Artikel</span><span style=\"background-color:#9FE2BF \"> ausgewählt</span><span style=\"background-color:#9FE2BF \"> haben</span> , der <span style=\"background-color:#CCCCFF \">als</span><span style=\"background-color:#CCCCFF \"> Standardversand</span> zur Lieferung unterschrieben ist , oder Sie haben bei der Bestellung die Option <span style=\"background-color:#DFFF00 \">zur</span><span style=\"background-color:#DFFF00 \"> Lieferung</span> unterschrieben ausgewählt ."
      ],
      "text/plain": [
       "<IPython.core.display.HTML object>"
      ]
     },
     "metadata": {},
     "output_type": "display_data"
    },
    {
     "name": "stdout",
     "output_type": "stream",
     "text": [
      "____________________________________160___________________________________________________\n",
      "['major', 'major', 'major']\n",
      "['Accuracy/Mistranslation', 'Accuracy/Mistranslation', 'Accuracy/Omission']\n",
      "\u001b[91m\u001b[1m🤬  Major\u001b[0m\n",
      "1.0059695\n"
     ]
    },
    {
     "data": {
      "text/html": [
       " <span style=\"background-color:#e0e0e0 \">4.9781265</span> <span style=\"background-color:#DFFF00 \">5.984096</span>"
      ],
      "text/plain": [
       "<IPython.core.display.HTML object>"
      ]
     },
     "metadata": {},
     "output_type": "display_data"
    },
    {
     "data": {
      "text/html": [
       " A. If you are in the UK , we have no problem sending to a different UK address but you must have picked an item <span style=\"background-color:#DFFF00 \">that</span><span style=\"background-color:#DFFF00 \"> has</span> signed for delivery as its default shipping , or have picked the signed for delivery option when you placed the order ."
      ],
      "text/plain": [
       "<IPython.core.display.HTML object>"
      ]
     },
     "metadata": {},
     "output_type": "display_data"
    },
    {
     "data": {
      "text/html": [
       " A : Wenn Sie in Großbritannien wohnen , können wir problemlos an eine andere Adresse im Vereinigten Königreich senden , aber Sie müssen einen Artikel <span style=\"background-color:#DFFF00 \">mit</span> Fernabsendung als Standardversand gewählt haben oder bei der Bestellung die Lieferoption gewählt haben ."
      ],
      "text/plain": [
       "<IPython.core.display.HTML object>"
      ]
     },
     "metadata": {},
     "output_type": "display_data"
    },
    {
     "name": "stdout",
     "output_type": "stream",
     "text": [
      "____________________________________161___________________________________________________\n",
      "['major', 'major', 'minor']\n",
      "['Accuracy/Addition', 'Accuracy/Omission', 'Accuracy/Mistranslation']\n",
      "\u001b[91m\u001b[1m🤬  Major\u001b[0m\n",
      "8.5579006\n"
     ]
    },
    {
     "data": {
      "text/html": [
       " <span style=\"background-color:#e0e0e0 \">2.8142924</span> <span style=\"background-color:#DFFF00 \">11.372193</span>"
      ],
      "text/plain": [
       "<IPython.core.display.HTML object>"
      ]
     },
     "metadata": {},
     "output_type": "display_data"
    },
    {
     "data": {
      "text/html": [
       " If there is a mistake , please let us know as soon as possible <span style=\"background-color:#DFFF00 \">so</span><span style=\"background-color:#DFFF00 \"> that</span><span style=\"background-color:#DFFF00 \"> we</span><span style=\"background-color:#DFFF00 \"> can</span><span style=\"background-color:#DFFF00 \"> cancel</span><span style=\"background-color:#DFFF00 \"> the</span><span style=\"background-color:#DFFF00 \"> order</span><span style=\"background-color:#DFFF00 \"> and</span><span style=\"background-color:#DFFF00 \"> so</span> that you can re-purchase with the correct address ."
      ],
      "text/plain": [
       "<IPython.core.display.HTML object>"
      ]
     },
     "metadata": {},
     "output_type": "display_data"
    },
    {
     "data": {
      "text/html": [
       " Sollte ein Fehler vorliegen , geben Sie uns dies bitte schnellstmöglich <span style=\"background-color:#DFFF00 \">Steering</span><span style=\"background-color:#DFFF00 \"> .</span><span style=\"background-color:#DFFF00 \"> So</span><span style=\"background-color:#DFFF00 \"> können</span><span style=\"background-color:#DFFF00 \"> wir</span><span style=\"background-color:#DFFF00 \"> die</span><span style=\"background-color:#DFFF00 \"> Bestellung</span><span style=\"background-color:#DFFF00 \"> stornieren</span><span style=\"background-color:#DFFF00 \"> und</span> Sie konnten mit der richtigen Adresse noch einmal einkaufen ."
      ],
      "text/plain": [
       "<IPython.core.display.HTML object>"
      ]
     },
     "metadata": {},
     "output_type": "display_data"
    },
    {
     "name": "stdout",
     "output_type": "stream",
     "text": [
      "____________________________________162___________________________________________________\n",
      "['major', 'major', 'major', 'minor']\n",
      "['Accuracy/Addition', 'Accuracy/Addition', 'Accuracy/Addition', 'Accuracy/Mistranslation']\n",
      "\u001b[91m\u001b[1m🤬  Major\u001b[0m\n",
      "7.0731695299999995\n"
     ]
    },
    {
     "data": {
      "text/html": [
       " <span style=\"background-color:#e0e0e0 \">-6.8018465</span> <span style=\"background-color:#DFFF00 \">-3.72218</span> <span style=\"background-color:#9FE2BF \">0.27132303</span>"
      ],
      "text/plain": [
       "<IPython.core.display.HTML object>"
      ]
     },
     "metadata": {},
     "output_type": "display_data"
    },
    {
     "data": {
      "text/html": [
       " After following manufacturer advice and using the water lock functions , resetting the device <span style=\"background-color:#DFFF00 \">AND</span> <span style=\"background-color:#9FE2BF \">factory</span> restoring my device ."
      ],
      "text/plain": [
       "<IPython.core.display.HTML object>"
      ]
     },
     "metadata": {},
     "output_type": "display_data"
    },
    {
     "data": {
      "text/html": [
       " Nachdem Sie den Herstellerrat befolgt und die Wasserschloss-Funktionen verwendet haben , setzen Sie das Gerät zurück <span style=\"background-color:#DFFF00 \">UND</span> stellen Sie mein Gerät <span style=\"background-color:#9FE2BF \">werkseitig</span> wieder her ."
      ],
      "text/plain": [
       "<IPython.core.display.HTML object>"
      ]
     },
     "metadata": {},
     "output_type": "display_data"
    },
    {
     "name": "stdout",
     "output_type": "stream",
     "text": [
      "____________________________________163___________________________________________________\n",
      "['No-error', 'No-error', 'minor', 'No-error']\n",
      "\u001b[94m\u001b[1m🤓 OK\u001b[0m\n",
      "1.4164539999999999\n"
     ]
    },
    {
     "data": {
      "text/html": [
       " <span style=\"background-color:#e0e0e0 \">8.845825</span> <span style=\"background-color:#DFFF00 \">10.262279</span>"
      ],
      "text/plain": [
       "<IPython.core.display.HTML object>"
      ]
     },
     "metadata": {},
     "output_type": "display_data"
    },
    {
     "data": {
      "text/html": [
       " Therefore , we <span style=\"background-color:#DFFF00 \">are</span> prepared to assist you with any questions or concerns you may have before placing an order or after you have received your order ."
      ],
      "text/plain": [
       "<IPython.core.display.HTML object>"
      ]
     },
     "metadata": {},
     "output_type": "display_data"
    },
    {
     "data": {
      "text/html": [
       " Daher <span style=\"background-color:#DFFF00 \">sind</span> wir bereit , Ihnen bei Fragen oder Bedenken zu helfen , bevor Sie eine Bestellung aufgeben oder nachdem Sie Ihre Bestellung erhalten haben ."
      ],
      "text/plain": [
       "<IPython.core.display.HTML object>"
      ]
     },
     "metadata": {},
     "output_type": "display_data"
    },
    {
     "name": "stdout",
     "output_type": "stream",
     "text": [
      "____________________________________164___________________________________________________\n",
      "['No-error', 'No-error', 'No-error', 'No-error', 'No-error', 'No-error', 'No-error']\n",
      "\u001b[94m\u001b[1m🤓 OK\u001b[0m\n",
      "0.0\n"
     ]
    },
    {
     "data": {
      "text/html": [
       " <span style=\"background-color:#e0e0e0 \">10.258167</span>"
      ],
      "text/plain": [
       "<IPython.core.display.HTML object>"
      ]
     },
     "metadata": {},
     "output_type": "display_data"
    },
    {
     "data": {
      "text/html": [
       " Please kindly contact us via eBay messages and a member of our team will get back to you as soon as possible ."
      ],
      "text/plain": [
       "<IPython.core.display.HTML object>"
      ]
     },
     "metadata": {},
     "output_type": "display_data"
    },
    {
     "data": {
      "text/html": [
       " Bitte kontaktieren Sie uns über eBay-Nachrichten und ein Mitglied unseres Teams wird sich so schnell wie möglich bei Ihnen melden ."
      ],
      "text/plain": [
       "<IPython.core.display.HTML object>"
      ]
     },
     "metadata": {},
     "output_type": "display_data"
    },
    {
     "name": "stdout",
     "output_type": "stream",
     "text": [
      "____________________________________165___________________________________________________\n",
      "['No-error', 'No-error', 'No-error']\n",
      "\u001b[94m\u001b[1m🤓 OK\u001b[0m\n",
      "0.0\n"
     ]
    },
    {
     "data": {
      "text/html": [
       " <span style=\"background-color:#e0e0e0 \">10.488211</span>"
      ],
      "text/plain": [
       "<IPython.core.display.HTML object>"
      ]
     },
     "metadata": {},
     "output_type": "display_data"
    },
    {
     "data": {
      "text/html": [
       " Also all orders placed on the weekends will be dispatched within the next working days ."
      ],
      "text/plain": [
       "<IPython.core.display.HTML object>"
      ]
     },
     "metadata": {},
     "output_type": "display_data"
    },
    {
     "data": {
      "text/html": [
       " Auch alle am Wochenende aufgegebenen Bestellungen werden innerhalb der nächsten Werktage versandt ."
      ],
      "text/plain": [
       "<IPython.core.display.HTML object>"
      ]
     },
     "metadata": {},
     "output_type": "display_data"
    },
    {
     "name": "stdout",
     "output_type": "stream",
     "text": [
      "____________________________________166___________________________________________________\n",
      "['major', 'major', 'major', 'major']\n",
      "['Accuracy/Mistranslation', 'Accuracy/Mistranslation', 'Accuracy/Mistranslation', 'Accuracy/Mistranslation']\n",
      "\u001b[91m\u001b[1m🤬  Major\u001b[0m\n",
      "7.716526000000001\n"
     ]
    },
    {
     "data": {
      "text/html": [
       " <span style=\"background-color:#e0e0e0 \">4.020198</span> <span style=\"background-color:#DFFF00 \">6.538216</span> <span style=\"background-color:#9FE2BF \">8.541148</span> <span style=\"background-color:#CCCCFF \">11.736724</span>"
      ],
      "text/plain": [
       "<IPython.core.display.HTML object>"
      ]
     },
     "metadata": {},
     "output_type": "display_data"
    },
    {
     "data": {
      "text/html": [
       " A. If you are in the UK , we have no problem sending to a different UK address but you must have picked an <span style=\"background-color:#9FE2BF \">item</span> that has signed <span style=\"background-color:#DFFF00 \">for</span><span style=\"background-color:#DFFF00 \"> delivery</span><span style=\"background-color:#DFFF00 \"> as</span><span style=\"background-color:#DFFF00 \"> its</span><span style=\"background-color:#DFFF00 \"> default</span><span style=\"background-color:#DFFF00 \"> shipping</span> , or have picked the signed for delivery option <span style=\"background-color:#CCCCFF \">when</span><span style=\"background-color:#CCCCFF \"> you</span><span style=\"background-color:#CCCCFF \"> placed</span><span style=\"background-color:#CCCCFF \"> the</span><span style=\"background-color:#CCCCFF \"> order</span> ."
      ],
      "text/plain": [
       "<IPython.core.display.HTML object>"
      ]
     },
     "metadata": {},
     "output_type": "display_data"
    },
    {
     "data": {
      "text/html": [
       " A. Wenn Sie sich in Großbritannien befinden , haben wir kein Problem damit , an eine andere britische Adresse zu senden , aber Sie müssen einen <span style=\"background-color:#9FE2BF \">Artikel</span> ausgewählt haben , der <span style=\"background-color:#DFFF00 \">als</span><span style=\"background-color:#DFFF00 \"> Standardversand</span><span style=\"background-color:#DFFF00 \"> für</span><span style=\"background-color:#DFFF00 \"> die</span><span style=\"background-color:#DFFF00 \"> Lieferung</span> unterschrieben wurde , oder die Option für die Lieferung unterschrieben haben <span style=\"background-color:#CCCCFF \">,</span><span style=\"background-color:#CCCCFF \"> als</span><span style=\"background-color:#CCCCFF \"> Sie</span><span style=\"background-color:#CCCCFF \"> die</span><span style=\"background-color:#CCCCFF \"> Bestellung</span><span style=\"background-color:#CCCCFF \"> aufgegeben</span> haben ."
      ],
      "text/plain": [
       "<IPython.core.display.HTML object>"
      ]
     },
     "metadata": {},
     "output_type": "display_data"
    },
    {
     "name": "stdout",
     "output_type": "stream",
     "text": [
      "____________________________________167___________________________________________________\n",
      "['major', 'major', 'major']\n",
      "['Accuracy/Mistranslation', 'Accuracy/Mistranslation', 'Accuracy/Mistranslation']\n",
      "\u001b[91m\u001b[1m🤬  Major\u001b[0m\n",
      "4.8235338\n"
     ]
    },
    {
     "data": {
      "text/html": [
       " <span style=\"background-color:#e0e0e0 \">3.8133712</span> <span style=\"background-color:#DFFF00 \">5.8537736</span> <span style=\"background-color:#9FE2BF \">6.991128</span> <span style=\"background-color:#CCCCFF \">8.636905</span>"
      ],
      "text/plain": [
       "<IPython.core.display.HTML object>"
      ]
     },
     "metadata": {},
     "output_type": "display_data"
    },
    {
     "data": {
      "text/html": [
       " A. If you are in the UK , we have no problem sending to a different UK address but you must have picked an <span style=\"background-color:#9FE2BF \">item</span> that has signed <span style=\"background-color:#DFFF00 \">for</span><span style=\"background-color:#DFFF00 \"> delivery</span> as its default shipping , <span style=\"background-color:#CCCCFF \">or</span><span style=\"background-color:#CCCCFF \"> have</span><span style=\"background-color:#CCCCFF \"> picked</span><span style=\"background-color:#CCCCFF \"> the</span><span style=\"background-color:#CCCCFF \"> signed</span><span style=\"background-color:#CCCCFF \"> for</span><span style=\"background-color:#CCCCFF \"> delivery</span><span style=\"background-color:#CCCCFF \"> option</span><span style=\"background-color:#CCCCFF \"> when</span><span style=\"background-color:#CCCCFF \"> you</span><span style=\"background-color:#CCCCFF \"> placed</span><span style=\"background-color:#CCCCFF \"> the</span><span style=\"background-color:#CCCCFF \"> order</span><span style=\"background-color:#CCCCFF \"> .</span>"
      ],
      "text/plain": [
       "<IPython.core.display.HTML object>"
      ]
     },
     "metadata": {},
     "output_type": "display_data"
    },
    {
     "data": {
      "text/html": [
       " A. Wenn Sie sich in Großbritannien befinden , können wir problemlos an eine andere Adresse im Vereinigten Königreich versenden , aber Sie müssen einen <span style=\"background-color:#9FE2BF \">Artikel</span> ausgewählt haben , der als Standardversand <span style=\"background-color:#DFFF00 \">für</span><span style=\"background-color:#DFFF00 \"> die</span><span style=\"background-color:#DFFF00 \"> Lieferung</span> unterzeichnet wurde , <span style=\"background-color:#CCCCFF \">oder</span><span style=\"background-color:#CCCCFF \"> Sie</span><span style=\"background-color:#CCCCFF \"> haben</span><span style=\"background-color:#CCCCFF \"> bei</span><span style=\"background-color:#CCCCFF \"> der</span><span style=\"background-color:#CCCCFF \"> Bestellung</span><span style=\"background-color:#CCCCFF \"> die</span><span style=\"background-color:#CCCCFF \"> Option</span><span style=\"background-color:#CCCCFF \"> für</span><span style=\"background-color:#CCCCFF \"> die</span><span style=\"background-color:#CCCCFF \"> Lieferung</span><span style=\"background-color:#CCCCFF \"> unterzeichnet</span><span style=\"background-color:#CCCCFF \"> gewählt</span><span style=\"background-color:#CCCCFF \"> .</span>"
      ],
      "text/plain": [
       "<IPython.core.display.HTML object>"
      ]
     },
     "metadata": {},
     "output_type": "display_data"
    },
    {
     "name": "stdout",
     "output_type": "stream",
     "text": [
      "____________________________________168___________________________________________________\n",
      "['major', 'major', 'minor', 'minor']\n",
      "['Accuracy/Mistranslation', 'Accuracy/Mistranslation', 'Accuracy/Mistranslation', 'Accuracy/Mistranslation']\n",
      "\u001b[91m\u001b[1m🤬  Major\u001b[0m\n",
      "15.064670999999999\n"
     ]
    },
    {
     "data": {
      "text/html": [
       " <span style=\"background-color:#e0e0e0 \">-6.008156</span> <span style=\"background-color:#DFFF00 \">7.3479505</span> <span style=\"background-color:#9FE2BF \">9.056515</span>"
      ],
      "text/plain": [
       "<IPython.core.display.HTML object>"
      ]
     },
     "metadata": {},
     "output_type": "display_data"
    },
    {
     "data": {
      "text/html": [
       " Most boards are mass market boards such as sector 9s or Loaded Tan Tien 's ... I have both and I 'm not <span style=\"background-color:#DFFF00 \">hating</span> ."
      ],
      "text/plain": [
       "<IPython.core.display.HTML object>"
      ]
     },
     "metadata": {},
     "output_type": "display_data"
    },
    {
     "data": {
      "text/html": [
       " Bei den meisten Tafeln handelt es sich um Tafeln <span style=\"background-color:#9FE2BF \">für</span><span style=\"background-color:#9FE2BF \"> den</span> Massenmarkt wie Sektor 9s oder Loaded Tan Tien ... ich habe beides und ich hasse <span style=\"background-color:#DFFF00 \">es</span> nicht ."
      ],
      "text/plain": [
       "<IPython.core.display.HTML object>"
      ]
     },
     "metadata": {},
     "output_type": "display_data"
    },
    {
     "name": "stdout",
     "output_type": "stream",
     "text": [
      "____________________________________169___________________________________________________\n",
      "['No-error', 'No-error', 'No-error']\n",
      "\u001b[94m\u001b[1m🤓 OK\u001b[0m\n",
      "0.0\n"
     ]
    },
    {
     "data": {
      "text/html": [
       " <span style=\"background-color:#e0e0e0 \">11.480363</span>"
      ],
      "text/plain": [
       "<IPython.core.display.HTML object>"
      ]
     },
     "metadata": {},
     "output_type": "display_data"
    },
    {
     "data": {
      "text/html": [
       " The avalanche was reported about 10 : 50 am in the Silver Basin area of Crystal Mountain , which is located about 85 miles ( 137 kilometers ) southeast of Seattle , said Pierce County Sheriff 's Department Sgt. Darren Moss ."
      ],
      "text/plain": [
       "<IPython.core.display.HTML object>"
      ]
     },
     "metadata": {},
     "output_type": "display_data"
    },
    {
     "data": {
      "text/html": [
       " Die Lawine wurde gegen 10 : 50 Uhr im Silver Basin-Gebiet von Crystal Mountain gemeldet , das etwa 85 Meilen ( 137 Kilometer ) südöstlich von Seattle liegt , sagte Pierce County Sheriff ' s Department Sgt. Darren Moss ."
      ],
      "text/plain": [
       "<IPython.core.display.HTML object>"
      ]
     },
     "metadata": {},
     "output_type": "display_data"
    },
    {
     "name": "stdout",
     "output_type": "stream",
     "text": [
      "____________________________________170___________________________________________________\n",
      "['No-error', 'No-error', 'No-error', 'No-error', 'No-error', 'No-error', 'No-error', 'No-error', 'No-error', 'No-error']\n",
      "\u001b[94m\u001b[1m🤓 OK\u001b[0m\n",
      "5.064941000000001\n"
     ]
    },
    {
     "data": {
      "text/html": [
       " <span style=\"background-color:#e0e0e0 \">7.825474</span> <span style=\"background-color:#DFFF00 \">12.890415</span>"
      ],
      "text/plain": [
       "<IPython.core.display.HTML object>"
      ]
     },
     "metadata": {},
     "output_type": "display_data"
    },
    {
     "data": {
      "text/html": [
       " The other skiers in his group rescued themselves with the help of two witnesses who saw them <span style=\"background-color:#DFFF00 \">get</span> swept up by the snow ."
      ],
      "text/plain": [
       "<IPython.core.display.HTML object>"
      ]
     },
     "metadata": {},
     "output_type": "display_data"
    },
    {
     "data": {
      "text/html": [
       " Die anderen Skifahrer seiner Gruppe retteten sich mit Hilfe von zwei Zeugen , die sahen , wie sie vom Schnee mitgerissen <span style=\"background-color:#DFFF00 \">wurden</span> ."
      ],
      "text/plain": [
       "<IPython.core.display.HTML object>"
      ]
     },
     "metadata": {},
     "output_type": "display_data"
    },
    {
     "name": "stdout",
     "output_type": "stream",
     "text": [
      "____________________________________171___________________________________________________\n",
      "['No-error', 'No-error', 'No-error']\n",
      "\u001b[94m\u001b[1m🤓 OK\u001b[0m\n",
      "0.0\n"
     ]
    },
    {
     "data": {
      "text/html": [
       " <span style=\"background-color:#e0e0e0 \">13.438309</span>"
      ],
      "text/plain": [
       "<IPython.core.display.HTML object>"
      ]
     },
     "metadata": {},
     "output_type": "display_data"
    },
    {
     "data": {
      "text/html": [
       " Emergency services have been assisting authorities in the cleanup operation , while another alert for more snow and ice has been issued ."
      ],
      "text/plain": [
       "<IPython.core.display.HTML object>"
      ]
     },
     "metadata": {},
     "output_type": "display_data"
    },
    {
     "data": {
      "text/html": [
       " Rettungsdienste haben die Behörden bei den Aufräumarbeiten unterstützt , während eine weitere Warnung für mehr Schnee und Eis ausgegeben wurde ."
      ],
      "text/plain": [
       "<IPython.core.display.HTML object>"
      ]
     },
     "metadata": {},
     "output_type": "display_data"
    },
    {
     "name": "stdout",
     "output_type": "stream",
     "text": [
      "____________________________________172___________________________________________________\n",
      "['No-error', 'No-error', 'No-error', 'No-error', 'No-error', 'No-error', 'No-error', 'No-error']\n",
      "\u001b[94m\u001b[1m🤓 OK\u001b[0m\n",
      "3.6718790000000006\n"
     ]
    },
    {
     "data": {
      "text/html": [
       " <span style=\"background-color:#e0e0e0 \">9.376244</span> <span style=\"background-color:#DFFF00 \">13.048123</span>"
      ],
      "text/plain": [
       "<IPython.core.display.HTML object>"
      ]
     },
     "metadata": {},
     "output_type": "display_data"
    },
    {
     "data": {
      "text/html": [
       " In the clip , Ardern was speaking about COVID misinformation and New Zealand 's efforts to keep people informed about the pandemic ."
      ],
      "text/plain": [
       "<IPython.core.display.HTML object>"
      ]
     },
     "metadata": {},
     "output_type": "display_data"
    },
    {
     "data": {
      "text/html": [
       " In dem Clip sprach Ardern über COVID-Fehlinformationen und Neuseelands Bemühungen , die Menschen über die Pandemie <span style=\"background-color:#DFFF00 \">auf</span><span style=\"background-color:#DFFF00 \"> dem</span><span style=\"background-color:#DFFF00 \"> Laufenden</span><span style=\"background-color:#DFFF00 \"> zu</span> halten ."
      ],
      "text/plain": [
       "<IPython.core.display.HTML object>"
      ]
     },
     "metadata": {},
     "output_type": "display_data"
    },
    {
     "name": "stdout",
     "output_type": "stream",
     "text": [
      "____________________________________173___________________________________________________\n",
      "['No-error', 'No-error', 'No-error', 'No-error']\n",
      "\u001b[94m\u001b[1m🤓 OK\u001b[0m\n",
      "1.6990995000000009\n"
     ]
    },
    {
     "data": {
      "text/html": [
       " <span style=\"background-color:#e0e0e0 \">9.3599205</span> <span style=\"background-color:#DFFF00 \">11.05902</span>"
      ],
      "text/plain": [
       "<IPython.core.display.HTML object>"
      ]
     },
     "metadata": {},
     "output_type": "display_data"
    },
    {
     "data": {
      "text/html": [
       " The conversation went something similar to below <span style=\"background-color:#DFFF00 \">(</span> 18 years ago , so I don 't remember exactly ) ."
      ],
      "text/plain": [
       "<IPython.core.display.HTML object>"
      ]
     },
     "metadata": {},
     "output_type": "display_data"
    },
    {
     "data": {
      "text/html": [
       " Das Gespräch verlief ähnlich wie unten <span style=\"background-color:#DFFF00 \">(</span> vor 18 Jahren , also erinnere ich mich nicht genau ) ."
      ],
      "text/plain": [
       "<IPython.core.display.HTML object>"
      ]
     },
     "metadata": {},
     "output_type": "display_data"
    },
    {
     "name": "stdout",
     "output_type": "stream",
     "text": [
      "____________________________________174___________________________________________________\n",
      "['No-error', 'No-error', 'No-error']\n",
      "\u001b[94m\u001b[1m🤓 OK\u001b[0m\n",
      "0.0\n"
     ]
    },
    {
     "data": {
      "text/html": [
       " <span style=\"background-color:#e0e0e0 \">12.790898</span>"
      ],
      "text/plain": [
       "<IPython.core.display.HTML object>"
      ]
     },
     "metadata": {},
     "output_type": "display_data"
    },
    {
     "data": {
      "text/html": [
       " I am from a country where military duty is mandatory and I am just wondering how 's it like for other countries ."
      ],
      "text/plain": [
       "<IPython.core.display.HTML object>"
      ]
     },
     "metadata": {},
     "output_type": "display_data"
    },
    {
     "data": {
      "text/html": [
       " Ich komme aus einem Land , in dem der Militärdienst obligatorisch ist , und ich frage mich nur , wie es für andere Länder ist ."
      ],
      "text/plain": [
       "<IPython.core.display.HTML object>"
      ]
     },
     "metadata": {},
     "output_type": "display_data"
    },
    {
     "name": "stdout",
     "output_type": "stream",
     "text": [
      "____________________________________175___________________________________________________\n",
      "['No-error', 'No-error', 'No-error']\n",
      "\u001b[94m\u001b[1m🤓 OK\u001b[0m\n",
      "5.372207999999999\n"
     ]
    },
    {
     "data": {
      "text/html": [
       " <span style=\"background-color:#e0e0e0 \">8.159686</span> <span style=\"background-color:#DFFF00 \">13.531894</span>"
      ],
      "text/plain": [
       "<IPython.core.display.HTML object>"
      ]
     },
     "metadata": {},
     "output_type": "display_data"
    },
    {
     "data": {
      "text/html": [
       " Tap the list beside ' <span style=\"background-color:#DFFF00 \">Automatically</span><span style=\"background-color:#DFFF00 \"> power</span><span style=\"background-color:#DFFF00 \"> off</span><span style=\"background-color:#DFFF00 \"> after</span> ' and select the time before your # PRS _ ORG # eReader shuts down ."
      ],
      "text/plain": [
       "<IPython.core.display.HTML object>"
      ]
     },
     "metadata": {},
     "output_type": "display_data"
    },
    {
     "data": {
      "text/html": [
       " Tippen Sie auf die Liste neben \" <span style=\"background-color:#DFFF00 \">Automatisch</span><span style=\"background-color:#DFFF00 \"> ausschalten</span><span style=\"background-color:#DFFF00 \"> nach</span> \" und wählen Sie die Zeit aus , bevor Ihr # PRS _ ORG # eReader heruntergefahren wird ."
      ],
      "text/plain": [
       "<IPython.core.display.HTML object>"
      ]
     },
     "metadata": {},
     "output_type": "display_data"
    },
    {
     "name": "stdout",
     "output_type": "stream",
     "text": [
      "____________________________________176___________________________________________________\n",
      "['No-error', 'No-error', 'No-error']\n",
      "\u001b[94m\u001b[1m🤓 OK\u001b[0m\n",
      "4.440947000000001\n"
     ]
    },
    {
     "data": {
      "text/html": [
       " <span style=\"background-color:#e0e0e0 \">8.756654</span> <span style=\"background-color:#DFFF00 \">13.197601</span>"
      ],
      "text/plain": [
       "<IPython.core.display.HTML object>"
      ]
     },
     "metadata": {},
     "output_type": "display_data"
    },
    {
     "data": {
      "text/html": [
       " If for any reason you are unsatisfied with your purchase , please contact us first before you <span style=\"background-color:#DFFF00 \">leave</span><span style=\"background-color:#DFFF00 \"> negative</span><span style=\"background-color:#DFFF00 \"> /</span><span style=\"background-color:#DFFF00 \"> neutral</span><span style=\"background-color:#DFFF00 \"> feedback</span> so that we can make things right !"
      ],
      "text/plain": [
       "<IPython.core.display.HTML object>"
      ]
     },
     "metadata": {},
     "output_type": "display_data"
    },
    {
     "data": {
      "text/html": [
       " Wenn Sie aus irgendeinem Grund mit Ihrem Kauf nicht zufrieden sind , kontaktieren Sie uns bitte zuerst , bevor Sie <span style=\"background-color:#DFFF00 \">negatives</span><span style=\"background-color:#DFFF00 \"> /</span><span style=\"background-color:#DFFF00 \"> neutrales</span><span style=\"background-color:#DFFF00 \"> Feedback</span><span style=\"background-color:#DFFF00 \"> hinterlassen</span> , damit wir die Dinge richtig machen können !"
      ],
      "text/plain": [
       "<IPython.core.display.HTML object>"
      ]
     },
     "metadata": {},
     "output_type": "display_data"
    },
    {
     "name": "stdout",
     "output_type": "stream",
     "text": [
      "____________________________________177___________________________________________________\n",
      "['No-error', 'No-error', 'No-error']\n",
      "\u001b[94m\u001b[1m🤓 OK\u001b[0m\n",
      "0.0\n"
     ]
    },
    {
     "data": {
      "text/html": [
       " <span style=\"background-color:#e0e0e0 \">12.661639</span>"
      ],
      "text/plain": [
       "<IPython.core.display.HTML object>"
      ]
     },
     "metadata": {},
     "output_type": "display_data"
    },
    {
     "data": {
      "text/html": [
       " Rice 's son , Christopher Rice , said he was at his mother 's bedside when she died ."
      ],
      "text/plain": [
       "<IPython.core.display.HTML object>"
      ]
     },
     "metadata": {},
     "output_type": "display_data"
    },
    {
     "data": {
      "text/html": [
       " Rices Sohn , Christopher Rice , sagte , er sei am Bett seiner Mutter gewesen , als sie starb ."
      ],
      "text/plain": [
       "<IPython.core.display.HTML object>"
      ]
     },
     "metadata": {},
     "output_type": "display_data"
    },
    {
     "name": "stdout",
     "output_type": "stream",
     "text": [
      "____________________________________178___________________________________________________\n",
      "['No-error', 'No-error', 'No-error']\n",
      "\u001b[94m\u001b[1m🤓 OK\u001b[0m\n",
      "0.0\n"
     ]
    },
    {
     "data": {
      "text/html": [
       " <span style=\"background-color:#e0e0e0 \">10.44043</span>"
      ],
      "text/plain": [
       "<IPython.core.display.HTML object>"
      ]
     },
     "metadata": {},
     "output_type": "display_data"
    },
    {
     "data": {
      "text/html": [
       " I received a letter from Alamo a short while later saying that they were going to waive the charges in the interest of customer satisfaction ."
      ],
      "text/plain": [
       "<IPython.core.display.HTML object>"
      ]
     },
     "metadata": {},
     "output_type": "display_data"
    },
    {
     "data": {
      "text/html": [
       " Kurze Zeit später erhielt ich einen Brief von Alamo , in dem stand , dass sie im Interesse der Kundenzufriedenheit auf die Gebühren verzichten würden ."
      ],
      "text/plain": [
       "<IPython.core.display.HTML object>"
      ]
     },
     "metadata": {},
     "output_type": "display_data"
    },
    {
     "name": "stdout",
     "output_type": "stream",
     "text": [
      "____________________________________179___________________________________________________\n",
      "['No-error', 'No-error', 'No-error', 'No-error']\n",
      "\u001b[94m\u001b[1m🤓 OK\u001b[0m\n",
      "0.0\n"
     ]
    },
    {
     "data": {
      "text/html": [
       " <span style=\"background-color:#e0e0e0 \">13.796617</span>"
      ],
      "text/plain": [
       "<IPython.core.display.HTML object>"
      ]
     },
     "metadata": {},
     "output_type": "display_data"
    },
    {
     "data": {
      "text/html": [
       " \" I had an idea of Lestat as the man of action , the man who could do things that I couldn 't do , \" Rice said in a talk at Southern Illinois University in 2010 ."
      ],
      "text/plain": [
       "<IPython.core.display.HTML object>"
      ]
     },
     "metadata": {},
     "output_type": "display_data"
    },
    {
     "data": {
      "text/html": [
       " \" Ich hatte eine Vorstellung von Lestat als dem Mann der Tat , dem Mann , der Dinge tun konnte , die ich nicht tun konnte \" , sagte Rice 2010 in einem Vortrag an der Southern Illinois University ."
      ],
      "text/plain": [
       "<IPython.core.display.HTML object>"
      ]
     },
     "metadata": {},
     "output_type": "display_data"
    },
    {
     "name": "stdout",
     "output_type": "stream",
     "text": [
      "____________________________________180___________________________________________________\n",
      "['No-error', 'No-error', 'No-error', 'No-error', 'No-error', 'No-error', 'No-error']\n",
      "\u001b[94m\u001b[1m🤓 OK\u001b[0m\n",
      "0.0\n"
     ]
    },
    {
     "data": {
      "text/html": [
       " <span style=\"background-color:#e0e0e0 \">7.4514627</span>"
      ],
      "text/plain": [
       "<IPython.core.display.HTML object>"
      ]
     },
     "metadata": {},
     "output_type": "display_data"
    },
    {
     "data": {
      "text/html": [
       " I am sorry that you are experiencing this issue , I will do my best to assist you ."
      ],
      "text/plain": [
       "<IPython.core.display.HTML object>"
      ]
     },
     "metadata": {},
     "output_type": "display_data"
    },
    {
     "data": {
      "text/html": [
       " Es tut mir leid , dass Sie dieses Problem haben , ich werde mein Bestes tun , um Ihnen zu helfen ."
      ],
      "text/plain": [
       "<IPython.core.display.HTML object>"
      ]
     },
     "metadata": {},
     "output_type": "display_data"
    },
    {
     "name": "stdout",
     "output_type": "stream",
     "text": [
      "____________________________________181___________________________________________________\n",
      "['No-error', 'No-error', 'No-error']\n",
      "\u001b[94m\u001b[1m🤓 OK\u001b[0m\n",
      "0.0\n"
     ]
    },
    {
     "data": {
      "text/html": [
       " <span style=\"background-color:#e0e0e0 \">13.841806</span>"
      ],
      "text/plain": [
       "<IPython.core.display.HTML object>"
      ]
     },
     "metadata": {},
     "output_type": "display_data"
    },
    {
     "data": {
      "text/html": [
       " \" If we are talking about the number of Russian companies in the UAE , it has reached almost 4000 , \" Al Zeyoudi stated ."
      ],
      "text/plain": [
       "<IPython.core.display.HTML object>"
      ]
     },
     "metadata": {},
     "output_type": "display_data"
    },
    {
     "data": {
      "text/html": [
       " \" Wenn wir über die Zahl der russischen Unternehmen in den VAE sprechen , hat sie fast 4.000 erreicht \" , sagte Al Zeyoudi ."
      ],
      "text/plain": [
       "<IPython.core.display.HTML object>"
      ]
     },
     "metadata": {},
     "output_type": "display_data"
    },
    {
     "name": "stdout",
     "output_type": "stream",
     "text": [
      "____________________________________182___________________________________________________\n",
      "['No-error', 'No-error', 'No-error', 'No-error', 'No-error', 'No-error']\n",
      "\u001b[94m\u001b[1m🤓 OK\u001b[0m\n",
      "4.618599\n"
     ]
    },
    {
     "data": {
      "text/html": [
       " <span style=\"background-color:#e0e0e0 \">8.432995</span> <span style=\"background-color:#DFFF00 \">13.051594</span>"
      ],
      "text/plain": [
       "<IPython.core.display.HTML object>"
      ]
     },
     "metadata": {},
     "output_type": "display_data"
    },
    {
     "data": {
      "text/html": [
       " According to the minister , the UAE is already investing in several Russian sectors , including the <span style=\"background-color:#DFFF00 \">petrochemical</span> industry , oil and gas , the automotive industry and ports , and it plans to broaden this list ."
      ],
      "text/plain": [
       "<IPython.core.display.HTML object>"
      ]
     },
     "metadata": {},
     "output_type": "display_data"
    },
    {
     "data": {
      "text/html": [
       " Nach Angaben des Ministers investieren die VAE bereits in mehrere russische Sektoren , darunter die <span style=\"background-color:#DFFF00 \">petrochemische</span> Industrie , Öl und Gas , die Automobilindustrie und Häfen , und planen , diese Liste zu erweitern ."
      ],
      "text/plain": [
       "<IPython.core.display.HTML object>"
      ]
     },
     "metadata": {},
     "output_type": "display_data"
    },
    {
     "name": "stdout",
     "output_type": "stream",
     "text": [
      "____________________________________183___________________________________________________\n",
      "['No-error', 'No-error', 'No-error']\n",
      "\u001b[94m\u001b[1m🤓 OK\u001b[0m\n",
      "4.8725274\n"
     ]
    },
    {
     "data": {
      "text/html": [
       " <span style=\"background-color:#e0e0e0 \">6.3981676</span> <span style=\"background-color:#DFFF00 \">11.270695</span>"
      ],
      "text/plain": [
       "<IPython.core.display.HTML object>"
      ]
     },
     "metadata": {},
     "output_type": "display_data"
    },
    {
     "data": {
      "text/html": [
       " There was some damage to <span style=\"background-color:#DFFF00 \">cars</span><span style=\"background-color:#DFFF00 \"> and</span> buildings in Belgrade due to the snow ."
      ],
      "text/plain": [
       "<IPython.core.display.HTML object>"
      ]
     },
     "metadata": {},
     "output_type": "display_data"
    },
    {
     "data": {
      "text/html": [
       " Es gab einige Schäden an <span style=\"background-color:#DFFF00 \">Autos</span><span style=\"background-color:#DFFF00 \"> und</span> Gebäuden in Belgrad aufgrund des Schnees ."
      ],
      "text/plain": [
       "<IPython.core.display.HTML object>"
      ]
     },
     "metadata": {},
     "output_type": "display_data"
    },
    {
     "name": "stdout",
     "output_type": "stream",
     "text": [
      "____________________________________184___________________________________________________\n",
      "['No-error', 'No-error', 'No-error']\n",
      "\u001b[94m\u001b[1m🤓 OK\u001b[0m\n",
      "0.0\n"
     ]
    },
    {
     "data": {
      "text/html": [
       " <span style=\"background-color:#e0e0e0 \">8.923316</span>"
      ],
      "text/plain": [
       "<IPython.core.display.HTML object>"
      ]
     },
     "metadata": {},
     "output_type": "display_data"
    },
    {
     "data": {
      "text/html": [
       " A highway leading to the airport was closed for several hours because of a traffic jam caused by the snowfall ."
      ],
      "text/plain": [
       "<IPython.core.display.HTML object>"
      ]
     },
     "metadata": {},
     "output_type": "display_data"
    },
    {
     "data": {
      "text/html": [
       " Eine Autobahn , die zum Flughafen führt , war wegen eines durch den Schneefall verursachten Staus für mehrere Stunden gesperrt ."
      ],
      "text/plain": [
       "<IPython.core.display.HTML object>"
      ]
     },
     "metadata": {},
     "output_type": "display_data"
    },
    {
     "name": "stdout",
     "output_type": "stream",
     "text": [
      "____________________________________185___________________________________________________\n",
      "['No-error', 'No-error', 'No-error', 'No-error']\n",
      "\u001b[94m\u001b[1m🤓 OK\u001b[0m\n",
      "0.0\n"
     ]
    },
    {
     "data": {
      "text/html": [
       " <span style=\"background-color:#e0e0e0 \">9.759284</span>"
      ],
      "text/plain": [
       "<IPython.core.display.HTML object>"
      ]
     },
     "metadata": {},
     "output_type": "display_data"
    },
    {
     "data": {
      "text/html": [
       " Note 2 : Any customs charges or taxes in the buyer 's country will be paid by the buyer and we will not reimburse any amount whatsoever ."
      ],
      "text/plain": [
       "<IPython.core.display.HTML object>"
      ]
     },
     "metadata": {},
     "output_type": "display_data"
    },
    {
     "data": {
      "text/html": [
       " Hinweis 2 : Alle Zollgebühren oder Steuern im Land des Käufers werden vom Käufer bezahlt und wir erstatten keinerlei Betrag ."
      ],
      "text/plain": [
       "<IPython.core.display.HTML object>"
      ]
     },
     "metadata": {},
     "output_type": "display_data"
    },
    {
     "name": "stdout",
     "output_type": "stream",
     "text": [
      "____________________________________186___________________________________________________\n",
      "['No-error', 'No-error', 'No-error', 'No-error', 'No-error']\n",
      "\u001b[94m\u001b[1m🤓 OK\u001b[0m\n",
      "0.0\n"
     ]
    },
    {
     "data": {
      "text/html": [
       " <span style=\"background-color:#e0e0e0 \">13.042096</span>"
      ],
      "text/plain": [
       "<IPython.core.display.HTML object>"
      ]
     },
     "metadata": {},
     "output_type": "display_data"
    },
    {
     "data": {
      "text/html": [
       " You can also use the app to call or chat them , once they are nearby the location you will have an option to contact the rider ."
      ],
      "text/plain": [
       "<IPython.core.display.HTML object>"
      ]
     },
     "metadata": {},
     "output_type": "display_data"
    },
    {
     "data": {
      "text/html": [
       " Sie können die App auch verwenden , um sie anzurufen oder zu chatten . Sobald sie sich in der Nähe des Standorts befinden , haben Sie die Möglichkeit , den Fahrer zu kontaktieren ."
      ],
      "text/plain": [
       "<IPython.core.display.HTML object>"
      ]
     },
     "metadata": {},
     "output_type": "display_data"
    },
    {
     "name": "stdout",
     "output_type": "stream",
     "text": [
      "____________________________________187___________________________________________________\n",
      "['major', 'major', 'minor']\n",
      "['Accuracy/Mistranslation', 'Accuracy/Mistranslation', 'Accuracy/Mistranslation']\n",
      "\u001b[91m\u001b[1m🤬  Major\u001b[0m\n",
      "6.3943776\n"
     ]
    },
    {
     "data": {
      "text/html": [
       " <span style=\"background-color:#e0e0e0 \">4.3742304</span> <span style=\"background-color:#DFFF00 \">10.768608</span>"
      ],
      "text/plain": [
       "<IPython.core.display.HTML object>"
      ]
     },
     "metadata": {},
     "output_type": "display_data"
    },
    {
     "data": {
      "text/html": [
       " A few weeks after I returned home , I received a letter listing a bunch of other damage I 'd be charged for as well - including scratches to the door which supposedly required repainting the rear of the car a few days after I returned <span style=\"background-color:#DFFF00 \">my</span><span style=\"background-color:#DFFF00 \"> rental</span> ."
      ],
      "text/plain": [
       "<IPython.core.display.HTML object>"
      ]
     },
     "metadata": {},
     "output_type": "display_data"
    },
    {
     "data": {
      "text/html": [
       " Ein paar Wochen , nachdem ich nach Hause zurückgekehrt war , erhielt ich einen Brief , in dem eine Reihe anderer Schäden aufgeführt waren , für die ich auch angeklagt worden war - einschließlich Kratzer an der Tür , die angeblich ein paar Tage nach der Rückgabe <span style=\"background-color:#DFFF00 \">meiner</span><span style=\"background-color:#DFFF00 \"> Miete</span> das Heck des Autos neu lackieren mussten ."
      ],
      "text/plain": [
       "<IPython.core.display.HTML object>"
      ]
     },
     "metadata": {},
     "output_type": "display_data"
    },
    {
     "name": "stdout",
     "output_type": "stream",
     "text": [
      "____________________________________188___________________________________________________\n",
      "['No-error', 'No-error', 'No-error']\n",
      "\u001b[94m\u001b[1m🤓 OK\u001b[0m\n",
      "0.0\n"
     ]
    },
    {
     "data": {
      "text/html": [
       " <span style=\"background-color:#e0e0e0 \">12.979145</span>"
      ],
      "text/plain": [
       "<IPython.core.display.HTML object>"
      ]
     },
     "metadata": {},
     "output_type": "display_data"
    },
    {
     "data": {
      "text/html": [
       " The UAE also significantly invests in Russia , making up some 80 % of all Arab investments in Russia 's economy ."
      ],
      "text/plain": [
       "<IPython.core.display.HTML object>"
      ]
     },
     "metadata": {},
     "output_type": "display_data"
    },
    {
     "data": {
      "text/html": [
       " Die VAE investieren auch erheblich in Russland und machen etwa 80 % aller arabischen Investitionen in die russische Wirtschaft aus ."
      ],
      "text/plain": [
       "<IPython.core.display.HTML object>"
      ]
     },
     "metadata": {},
     "output_type": "display_data"
    },
    {
     "name": "stdout",
     "output_type": "stream",
     "text": [
      "____________________________________189___________________________________________________\n",
      "['No-error', 'No-error', 'No-error', 'No-error', 'No-error', 'No-error', 'No-error', 'No-error']\n",
      "\u001b[94m\u001b[1m🤓 OK\u001b[0m\n",
      "0.0\n"
     ]
    },
    {
     "data": {
      "text/html": [
       " <span style=\"background-color:#e0e0e0 \">12.498858</span>"
      ],
      "text/plain": [
       "<IPython.core.display.HTML object>"
      ]
     },
     "metadata": {},
     "output_type": "display_data"
    },
    {
     "data": {
      "text/html": [
       " When you buy Norton Security , you 're getting one of the best security products on the market today ."
      ],
      "text/plain": [
       "<IPython.core.display.HTML object>"
      ]
     },
     "metadata": {},
     "output_type": "display_data"
    },
    {
     "data": {
      "text/html": [
       " Wenn Sie Norton Security kaufen , erhalten Sie eines der besten Sicherheitsprodukte auf dem heutigen Markt ."
      ],
      "text/plain": [
       "<IPython.core.display.HTML object>"
      ]
     },
     "metadata": {},
     "output_type": "display_data"
    },
    {
     "name": "stdout",
     "output_type": "stream",
     "text": [
      "____________________________________190___________________________________________________\n",
      "['No-error', 'No-error', 'No-error']\n",
      "\u001b[94m\u001b[1m🤓 OK\u001b[0m\n",
      "0.0\n"
     ]
    },
    {
     "data": {
      "text/html": [
       " <span style=\"background-color:#e0e0e0 \">8.935681</span>"
      ],
      "text/plain": [
       "<IPython.core.display.HTML object>"
      ]
     },
     "metadata": {},
     "output_type": "display_data"
    },
    {
     "data": {
      "text/html": [
       " You honestly think that a crackhead would own an expensive gun , and then save up enough money for ammo ?"
      ],
      "text/plain": [
       "<IPython.core.display.HTML object>"
      ]
     },
     "metadata": {},
     "output_type": "display_data"
    },
    {
     "data": {
      "text/html": [
       " Du denkst ehrlich , dass ein Crackhead eine teure Waffe besitzen und dann genug Geld für Munition sparen würde ?"
      ],
      "text/plain": [
       "<IPython.core.display.HTML object>"
      ]
     },
     "metadata": {},
     "output_type": "display_data"
    },
    {
     "name": "stdout",
     "output_type": "stream",
     "text": [
      "____________________________________191___________________________________________________\n",
      "['No-error', 'No-error', 'No-error', 'No-error', 'No-error', 'No-error', 'No-error', 'No-error', 'No-error']\n",
      "\u001b[94m\u001b[1m🤓 OK\u001b[0m\n",
      "1.87718\n"
     ]
    },
    {
     "data": {
      "text/html": [
       " <span style=\"background-color:#e0e0e0 \">7.427497</span> <span style=\"background-color:#DFFF00 \">9.304677</span>"
      ],
      "text/plain": [
       "<IPython.core.display.HTML object>"
      ]
     },
     "metadata": {},
     "output_type": "display_data"
    },
    {
     "data": {
      "text/html": [
       " Could you confirm the order number , name on the <span style=\"background-color:#DFFF00 \">account</span><span style=\"background-color:#DFFF00 \"> ,</span> email address and delivery address please ?"
      ],
      "text/plain": [
       "<IPython.core.display.HTML object>"
      ]
     },
     "metadata": {},
     "output_type": "display_data"
    },
    {
     "data": {
      "text/html": [
       " Könnten Sie bitte die Bestellnummer , den Namen auf dem <span style=\"background-color:#DFFF00 \">Konto</span><span style=\"background-color:#DFFF00 \"> ,</span> die E-Mail-Adresse und die Lieferadresse bestätigen ?"
      ],
      "text/plain": [
       "<IPython.core.display.HTML object>"
      ]
     },
     "metadata": {},
     "output_type": "display_data"
    },
    {
     "name": "stdout",
     "output_type": "stream",
     "text": [
      "____________________________________192___________________________________________________\n",
      "['No-error', 'No-error', 'No-error', 'No-error', 'No-error']\n",
      "\u001b[94m\u001b[1m🤓 OK\u001b[0m\n",
      "0.0\n"
     ]
    },
    {
     "data": {
      "text/html": [
       " <span style=\"background-color:#e0e0e0 \">13.841871</span>"
      ],
      "text/plain": [
       "<IPython.core.display.HTML object>"
      ]
     },
     "metadata": {},
     "output_type": "display_data"
    },
    {
     "data": {
      "text/html": [
       " In September , she called Labor Day a \" Communist Holiday \" without further explanation ."
      ],
      "text/plain": [
       "<IPython.core.display.HTML object>"
      ]
     },
     "metadata": {},
     "output_type": "display_data"
    },
    {
     "data": {
      "text/html": [
       " Im September nannte sie den Tag der Arbeit ohne weitere Erklärung einen \" kommunistischen Feiertag \" ."
      ],
      "text/plain": [
       "<IPython.core.display.HTML object>"
      ]
     },
     "metadata": {},
     "output_type": "display_data"
    },
    {
     "name": "stdout",
     "output_type": "stream",
     "text": [
      "____________________________________193___________________________________________________\n",
      "['No-error', 'No-error', 'No-error']\n",
      "\u001b[94m\u001b[1m🤓 OK\u001b[0m\n",
      "2.7696890000000005\n"
     ]
    },
    {
     "data": {
      "text/html": [
       " <span style=\"background-color:#e0e0e0 \">5.223146</span> <span style=\"background-color:#DFFF00 \">6.728245</span> <span style=\"background-color:#9FE2BF \">7.992835</span>"
      ],
      "text/plain": [
       "<IPython.core.display.HTML object>"
      ]
     },
     "metadata": {},
     "output_type": "display_data"
    },
    {
     "data": {
      "text/html": [
       " When I returned the car , the <span style=\"background-color:#9FE2BF \">agent</span> <span style=\"background-color:#DFFF00 \">found</span> scratches under the car ( which I did not cause ) ."
      ],
      "text/plain": [
       "<IPython.core.display.HTML object>"
      ]
     },
     "metadata": {},
     "output_type": "display_data"
    },
    {
     "data": {
      "text/html": [
       " Als ich das Auto zurückgab , <span style=\"background-color:#DFFF00 \">fand</span> der <span style=\"background-color:#9FE2BF \">Mitarbeiter</span> Kratzer unter dem Auto ( die ich nicht verursacht hatte ) ."
      ],
      "text/plain": [
       "<IPython.core.display.HTML object>"
      ]
     },
     "metadata": {},
     "output_type": "display_data"
    },
    {
     "name": "stdout",
     "output_type": "stream",
     "text": [
      "____________________________________194___________________________________________________\n",
      "['No-error', 'No-error', 'No-error', 'No-error', 'No-error']\n",
      "\u001b[94m\u001b[1m🤓 OK\u001b[0m\n",
      "5.2113525\n"
     ]
    },
    {
     "data": {
      "text/html": [
       " <span style=\"background-color:#e0e0e0 \">6.3056555</span> <span style=\"background-color:#DFFF00 \">7.752541</span> <span style=\"background-color:#9FE2BF \">11.517008</span>"
      ],
      "text/plain": [
       "<IPython.core.display.HTML object>"
      ]
     },
     "metadata": {},
     "output_type": "display_data"
    },
    {
     "data": {
      "text/html": [
       " International <span style=\"background-color:#9FE2BF \">shipments</span> are usually delivered within 11 to 22 business days , depending on the time it takes <span style=\"background-color:#DFFF00 \">to</span><span style=\"background-color:#DFFF00 \"> clear</span><span style=\"background-color:#DFFF00 \"> customs</span> ."
      ],
      "text/plain": [
       "<IPython.core.display.HTML object>"
      ]
     },
     "metadata": {},
     "output_type": "display_data"
    },
    {
     "data": {
      "text/html": [
       " Internationale <span style=\"background-color:#9FE2BF \">Sendungen</span> werden in der Regel innerhalb von 11 bis 22 Werktagen geliefert , abhängig von der Zeit , die <span style=\"background-color:#DFFF00 \">für</span><span style=\"background-color:#DFFF00 \"> die</span><span style=\"background-color:#DFFF00 \"> Zollabfertigung</span> benötigt wird ."
      ],
      "text/plain": [
       "<IPython.core.display.HTML object>"
      ]
     },
     "metadata": {},
     "output_type": "display_data"
    },
    {
     "name": "stdout",
     "output_type": "stream",
     "text": [
      "____________________________________195___________________________________________________\n",
      "['No-error', 'No-error', 'No-error', 'No-error']\n",
      "\u001b[94m\u001b[1m🤓 OK\u001b[0m\n",
      "4.3165119999999995\n"
     ]
    },
    {
     "data": {
      "text/html": [
       " <span style=\"background-color:#e0e0e0 \">8.905574</span> <span style=\"background-color:#DFFF00 \">13.222086</span>"
      ],
      "text/plain": [
       "<IPython.core.display.HTML object>"
      ]
     },
     "metadata": {},
     "output_type": "display_data"
    },
    {
     "data": {
      "text/html": [
       " If for any reason you are unsatisfied with your purchase , please contact us first before you <span style=\"background-color:#DFFF00 \">leave</span><span style=\"background-color:#DFFF00 \"> negative</span><span style=\"background-color:#DFFF00 \"> /</span><span style=\"background-color:#DFFF00 \"> neutral</span><span style=\"background-color:#DFFF00 \"> feedback</span> so that we can make things right !"
      ],
      "text/plain": [
       "<IPython.core.display.HTML object>"
      ]
     },
     "metadata": {},
     "output_type": "display_data"
    },
    {
     "data": {
      "text/html": [
       " Wenn Sie aus irgendeinem Grund mit Ihrem Kauf unzufrieden sind , kontaktieren Sie uns bitte zuerst , bevor Sie <span style=\"background-color:#DFFF00 \">negatives</span><span style=\"background-color:#DFFF00 \"> /</span><span style=\"background-color:#DFFF00 \"> neutrales</span><span style=\"background-color:#DFFF00 \"> Feedback</span><span style=\"background-color:#DFFF00 \"> hinterlassen</span> , damit wir die Dinge richtig machen können !"
      ],
      "text/plain": [
       "<IPython.core.display.HTML object>"
      ]
     },
     "metadata": {},
     "output_type": "display_data"
    },
    {
     "name": "stdout",
     "output_type": "stream",
     "text": [
      "____________________________________196___________________________________________________\n",
      "['No-error', 'No-error', 'No-error', 'No-error', 'No-error']\n",
      "\u001b[94m\u001b[1m🤓 OK\u001b[0m\n",
      "3.9618295999999997\n"
     ]
    },
    {
     "data": {
      "text/html": [
       " <span style=\"background-color:#e0e0e0 \">5.6641054</span> <span style=\"background-color:#DFFF00 \">9.625935</span>"
      ],
      "text/plain": [
       "<IPython.core.display.HTML object>"
      ]
     },
     "metadata": {},
     "output_type": "display_data"
    },
    {
     "data": {
      "text/html": [
       " <span style=\"background-color:#DFFF00 \">The</span><span style=\"background-color:#DFFF00 \"> course</span> consists of 18 modules and I will be doing a dedicated video on each module ."
      ],
      "text/plain": [
       "<IPython.core.display.HTML object>"
      ]
     },
     "metadata": {},
     "output_type": "display_data"
    },
    {
     "data": {
      "text/html": [
       " <span style=\"background-color:#DFFF00 \">Der</span><span style=\"background-color:#DFFF00 \"> Kurs</span> besteht aus 18 Modulen und ich werde zu jedem Modul ein eigenes Video machen ."
      ],
      "text/plain": [
       "<IPython.core.display.HTML object>"
      ]
     },
     "metadata": {},
     "output_type": "display_data"
    },
    {
     "name": "stdout",
     "output_type": "stream",
     "text": [
      "____________________________________197___________________________________________________\n",
      "['minor', 'minor', 'minor', 'minor']\n",
      "\u001b[91m\u001b[1m😤  Minor\u001b[0m\n",
      "14.1071675\n"
     ]
    },
    {
     "data": {
      "text/html": [
       " <span style=\"background-color:#e0e0e0 \">-2.3239145</span> <span style=\"background-color:#DFFF00 \">11.783253</span>"
      ],
      "text/plain": [
       "<IPython.core.display.HTML object>"
      ]
     },
     "metadata": {},
     "output_type": "display_data"
    },
    {
     "data": {
      "text/html": [
       " Some of these videos might be a bit long since it will be a whole module in each video so please <span style=\"background-color:#DFFF00 \">feel</span><span style=\"background-color:#DFFF00 \"> free</span><span style=\"background-color:#DFFF00 \"> to</span> make use of the time stamps in descriptions if you 're looking for specific topics only or just want to refresh on certain topics only ."
      ],
      "text/plain": [
       "<IPython.core.display.HTML object>"
      ]
     },
     "metadata": {},
     "output_type": "display_data"
    },
    {
     "data": {
      "text/html": [
       " Einige dieser Videos sind möglicherweise etwas lang , da es sich in jedem Video um ein ganzes Modul handelt . Verwenden Sie daher die Zeitstempel in den Beschreibungen , wenn Sie nur nach bestimmten Themen suchen oder nur zu bestimmten Themen aktualisieren möchten ."
      ],
      "text/plain": [
       "<IPython.core.display.HTML object>"
      ]
     },
     "metadata": {},
     "output_type": "display_data"
    },
    {
     "name": "stdout",
     "output_type": "stream",
     "text": [
      "____________________________________198___________________________________________________\n",
      "['No-error', 'No-error', 'No-error']\n",
      "\u001b[94m\u001b[1m🤓 OK\u001b[0m\n",
      "0.0\n"
     ]
    },
    {
     "data": {
      "text/html": [
       " <span style=\"background-color:#e0e0e0 \">13.5781145</span>"
      ],
      "text/plain": [
       "<IPython.core.display.HTML object>"
      ]
     },
     "metadata": {},
     "output_type": "display_data"
    },
    {
     "data": {
      "text/html": [
       " De Klerk also shared the Nobel Peace Prize with Mandela in 1993 after freeing him from prison in 1990 ."
      ],
      "text/plain": [
       "<IPython.core.display.HTML object>"
      ]
     },
     "metadata": {},
     "output_type": "display_data"
    },
    {
     "data": {
      "text/html": [
       " De Klerk teilte sich 1993 auch den Friedensnobelpreis mit Mandela , nachdem er ihn 1990 aus dem Gefängnis befreit hatte ."
      ],
      "text/plain": [
       "<IPython.core.display.HTML object>"
      ]
     },
     "metadata": {},
     "output_type": "display_data"
    },
    {
     "name": "stdout",
     "output_type": "stream",
     "text": [
      "____________________________________199___________________________________________________\n",
      "['No-error', 'No-error', 'No-error']\n",
      "\u001b[94m\u001b[1m🤓 OK\u001b[0m\n",
      "0.0\n"
     ]
    },
    {
     "data": {
      "text/html": [
       " <span style=\"background-color:#e0e0e0 \">12.349738</span>"
      ],
      "text/plain": [
       "<IPython.core.display.HTML object>"
      ]
     },
     "metadata": {},
     "output_type": "display_data"
    },
    {
     "data": {
      "text/html": [
       " Even if you don 't know your password you can create a new password by following the steps I sent ."
      ],
      "text/plain": [
       "<IPython.core.display.HTML object>"
      ]
     },
     "metadata": {},
     "output_type": "display_data"
    },
    {
     "data": {
      "text/html": [
       " Auch wenn Sie Ihr Passwort nicht kennen , können Sie ein neues Passwort erstellen , indem Sie die von mir gesendeten Schritte ausführen ."
      ],
      "text/plain": [
       "<IPython.core.display.HTML object>"
      ]
     },
     "metadata": {},
     "output_type": "display_data"
    },
    {
     "name": "stdout",
     "output_type": "stream",
     "text": [
      "____________________________________200___________________________________________________\n",
      "['No-error', 'No-error', 'No-error', 'No-error']\n",
      "\u001b[94m\u001b[1m🤓 OK\u001b[0m\n",
      "2.1363054000000004\n"
     ]
    },
    {
     "data": {
      "text/html": [
       " <span style=\"background-color:#e0e0e0 \">7.8244696</span> <span style=\"background-color:#DFFF00 \">9.960775</span>"
      ],
      "text/plain": [
       "<IPython.core.display.HTML object>"
      ]
     },
     "metadata": {},
     "output_type": "display_data"
    },
    {
     "data": {
      "text/html": [
       " <span style=\"background-color:#DFFF00 \">But</span> don 't worry , I can also send the link to reset your password"
      ],
      "text/plain": [
       "<IPython.core.display.HTML object>"
      ]
     },
     "metadata": {},
     "output_type": "display_data"
    },
    {
     "data": {
      "text/html": [
       " <span style=\"background-color:#DFFF00 \">Aber</span> keine Sorge , ich kann auch den Link senden , um Ihr Passwort zurückzusetzen"
      ],
      "text/plain": [
       "<IPython.core.display.HTML object>"
      ]
     },
     "metadata": {},
     "output_type": "display_data"
    },
    {
     "name": "stdout",
     "output_type": "stream",
     "text": [
      "____________________________________201___________________________________________________\n",
      "['No-error', 'No-error', 'No-error']\n",
      "\u001b[94m\u001b[1m🤓 OK\u001b[0m\n",
      "0.0\n"
     ]
    },
    {
     "data": {
      "text/html": [
       " <span style=\"background-color:#e0e0e0 \">12.382921</span>"
      ],
      "text/plain": [
       "<IPython.core.display.HTML object>"
      ]
     },
     "metadata": {},
     "output_type": "display_data"
    },
    {
     "data": {
      "text/html": [
       " Even if you don 't know your password you can create a new password by following the steps I sent ."
      ],
      "text/plain": [
       "<IPython.core.display.HTML object>"
      ]
     },
     "metadata": {},
     "output_type": "display_data"
    },
    {
     "data": {
      "text/html": [
       " Auch wenn Sie Ihr Passwort nicht kennen , können Sie ein neues Passwort erstellen , indem Sie die Schritte befolgen , die ich gesendet habe ."
      ],
      "text/plain": [
       "<IPython.core.display.HTML object>"
      ]
     },
     "metadata": {},
     "output_type": "display_data"
    },
    {
     "name": "stdout",
     "output_type": "stream",
     "text": [
      "____________________________________202___________________________________________________\n",
      "['No-error', 'minor', 'minor']\n",
      "\u001b[91m\u001b[1m😤  Minor\u001b[0m\n",
      "22.271948000000002\n"
     ]
    },
    {
     "data": {
      "text/html": [
       " <span style=\"background-color:#e0e0e0 \">-9.23046</span> <span style=\"background-color:#DFFF00 \">13.041488</span>"
      ],
      "text/plain": [
       "<IPython.core.display.HTML object>"
      ]
     },
     "metadata": {},
     "output_type": "display_data"
    },
    {
     "data": {
      "text/html": [
       " <span style=\"background-color:#DFFF00 \">for</span><span style=\"background-color:#DFFF00 \"> quality</span><span style=\"background-color:#DFFF00 \"> purposes</span> i will have to release this chat if there is no interaction in the next 2 minutes"
      ],
      "text/plain": [
       "<IPython.core.display.HTML object>"
      ]
     },
     "metadata": {},
     "output_type": "display_data"
    },
    {
     "data": {
      "text/html": [
       " <span style=\"background-color:#DFFF00 \">Aus</span><span style=\"background-color:#DFFF00 \"> Qualitätsgründen</span> muss ich diesen Chat freigeben , wenn es in den nächsten 2 Minuten keine Interaktion gibt ."
      ],
      "text/plain": [
       "<IPython.core.display.HTML object>"
      ]
     },
     "metadata": {},
     "output_type": "display_data"
    },
    {
     "name": "stdout",
     "output_type": "stream",
     "text": [
      "____________________________________203___________________________________________________\n",
      "['minor', 'minor', 'minor']\n",
      "\u001b[91m\u001b[1m😤  Minor\u001b[0m\n",
      "2.1804406399999996\n"
     ]
    },
    {
     "data": {
      "text/html": [
       " <span style=\"background-color:#e0e0e0 \">-2.9026737</span> <span style=\"background-color:#DFFF00 \">-0.72223306</span>"
      ],
      "text/plain": [
       "<IPython.core.display.HTML object>"
      ]
     },
     "metadata": {},
     "output_type": "display_data"
    },
    {
     "data": {
      "text/html": [
       " The rider try to leave the order <span style=\"background-color:#DFFF00 \">on</span><span style=\"background-color:#DFFF00 \"> the</span><span style=\"background-color:#DFFF00 \"> Security</span> but he did not accept it ."
      ],
      "text/plain": [
       "<IPython.core.display.HTML object>"
      ]
     },
     "metadata": {},
     "output_type": "display_data"
    },
    {
     "data": {
      "text/html": [
       " Der Fahrer versuchte , die Anordnung <span style=\"background-color:#DFFF00 \">auf</span><span style=\"background-color:#DFFF00 \"> dem</span><span style=\"background-color:#DFFF00 \"> Sicherheitsdienst</span> zu belassen , aber er akzeptierte sie nicht ."
      ],
      "text/plain": [
       "<IPython.core.display.HTML object>"
      ]
     },
     "metadata": {},
     "output_type": "display_data"
    },
    {
     "name": "stdout",
     "output_type": "stream",
     "text": [
      "____________________________________204___________________________________________________\n",
      "['No-error', 'No-error', 'No-error']\n",
      "\u001b[94m\u001b[1m🤓 OK\u001b[0m\n",
      "0.0\n"
     ]
    },
    {
     "data": {
      "text/html": [
       " <span style=\"background-color:#e0e0e0 \">12.411417</span>"
      ],
      "text/plain": [
       "<IPython.core.display.HTML object>"
      ]
     },
     "metadata": {},
     "output_type": "display_data"
    },
    {
     "data": {
      "text/html": [
       " I finally gave up and walked over to Hertz , who charged me a fortune , but they got me a car right away ."
      ],
      "text/plain": [
       "<IPython.core.display.HTML object>"
      ]
     },
     "metadata": {},
     "output_type": "display_data"
    },
    {
     "data": {
      "text/html": [
       " Ich gab schließlich auf und ging zu Hertz , der mir ein Vermögen in Rechnung stellte , aber sie besorgten mir sofort ein Auto ."
      ],
      "text/plain": [
       "<IPython.core.display.HTML object>"
      ]
     },
     "metadata": {},
     "output_type": "display_data"
    },
    {
     "name": "stdout",
     "output_type": "stream",
     "text": [
      "____________________________________205___________________________________________________\n",
      "['No-error', 'No-error', 'No-error', 'No-error']\n",
      "\u001b[94m\u001b[1m🤓 OK\u001b[0m\n",
      "0.0\n"
     ]
    },
    {
     "data": {
      "text/html": [
       " <span style=\"background-color:#e0e0e0 \">13.766278</span>"
      ],
      "text/plain": [
       "<IPython.core.display.HTML object>"
      ]
     },
     "metadata": {},
     "output_type": "display_data"
    },
    {
     "data": {
      "text/html": [
       " Their help is crucial but they shouldn 't be blamed for not reviving the movement . \""
      ],
      "text/plain": [
       "<IPython.core.display.HTML object>"
      ]
     },
     "metadata": {},
     "output_type": "display_data"
    },
    {
     "data": {
      "text/html": [
       " Ihre Hilfe ist entscheidend , aber sie sollten nicht dafür verantwortlich gemacht werden , dass sie die Bewegung nicht wiederbelebt haben \" ."
      ],
      "text/plain": [
       "<IPython.core.display.HTML object>"
      ]
     },
     "metadata": {},
     "output_type": "display_data"
    },
    {
     "name": "stdout",
     "output_type": "stream",
     "text": [
      "____________________________________206___________________________________________________\n",
      "['No-error', 'No-error', 'No-error', 'No-error', 'No-error', 'No-error', 'No-error']\n",
      "\u001b[94m\u001b[1m🤓 OK\u001b[0m\n",
      "0.0\n"
     ]
    },
    {
     "data": {
      "text/html": [
       " <span style=\"background-color:#e0e0e0 \">13.165874</span>"
      ],
      "text/plain": [
       "<IPython.core.display.HTML object>"
      ]
     },
     "metadata": {},
     "output_type": "display_data"
    },
    {
     "data": {
      "text/html": [
       " If at any time you need help , our support agents are ready to assist you 24 hours a day , seven days a week ."
      ],
      "text/plain": [
       "<IPython.core.display.HTML object>"
      ]
     },
     "metadata": {},
     "output_type": "display_data"
    },
    {
     "data": {
      "text/html": [
       " Wenn Sie zu irgendeinem Zeitpunkt Hilfe benötigen , stehen Ihnen unsere Support-Mitarbeiter 24 Stunden am Tag , sieben Tage die Woche zur Verfügung ."
      ],
      "text/plain": [
       "<IPython.core.display.HTML object>"
      ]
     },
     "metadata": {},
     "output_type": "display_data"
    },
    {
     "name": "stdout",
     "output_type": "stream",
     "text": [
      "____________________________________207___________________________________________________\n",
      "['No-error', 'No-error', 'No-error', 'No-error', 'No-error', 'No-error']\n",
      "\u001b[94m\u001b[1m🤓 OK\u001b[0m\n",
      "3.6428719999999988\n"
     ]
    },
    {
     "data": {
      "text/html": [
       " <span style=\"background-color:#e0e0e0 \">9.622056</span> <span style=\"background-color:#DFFF00 \">13.264928</span>"
      ],
      "text/plain": [
       "<IPython.core.display.HTML object>"
      ]
     },
     "metadata": {},
     "output_type": "display_data"
    },
    {
     "data": {
      "text/html": [
       " <span style=\"background-color:#DFFF00 \">(</span><span style=\"background-color:#DFFF00 \"> If</span> placing multiple orders , please request an invoice for the correct amount BEFORE paying . )"
      ],
      "text/plain": [
       "<IPython.core.display.HTML object>"
      ]
     },
     "metadata": {},
     "output_type": "display_data"
    },
    {
     "data": {
      "text/html": [
       " <span style=\"background-color:#DFFF00 \">(</span><span style=\"background-color:#DFFF00 \"> Wenn</span> Sie mehrere Bestellungen aufgeben , fordern Sie bitte VOR der Zahlung eine Rechnung über den korrekten Betrag an . )"
      ],
      "text/plain": [
       "<IPython.core.display.HTML object>"
      ]
     },
     "metadata": {},
     "output_type": "display_data"
    },
    {
     "name": "stdout",
     "output_type": "stream",
     "text": [
      "____________________________________208___________________________________________________\n",
      "['No-error', 'No-error', 'No-error']\n",
      "\u001b[94m\u001b[1m🤓 OK\u001b[0m\n",
      "2.7543004999999994\n"
     ]
    },
    {
     "data": {
      "text/html": [
       " <span style=\"background-color:#e0e0e0 \">8.362949</span> <span style=\"background-color:#DFFF00 \">11.1172495</span>"
      ],
      "text/plain": [
       "<IPython.core.display.HTML object>"
      ]
     },
     "metadata": {},
     "output_type": "display_data"
    },
    {
     "data": {
      "text/html": [
       " I am sorry , due to quality purposes I will have to close this chat if I don 't receive a response <span style=\"background-color:#DFFF00 \">in</span><span style=\"background-color:#DFFF00 \"> 2</span><span style=\"background-color:#DFFF00 \"> minutes</span> ."
      ],
      "text/plain": [
       "<IPython.core.display.HTML object>"
      ]
     },
     "metadata": {},
     "output_type": "display_data"
    },
    {
     "data": {
      "text/html": [
       " Es tut mir leid , aus Qualitätsgründen muss ich diesen Chat schließen , wenn ich nicht <span style=\"background-color:#DFFF00 \">innerhalb</span><span style=\"background-color:#DFFF00 \"> von</span><span style=\"background-color:#DFFF00 \"> 2</span><span style=\"background-color:#DFFF00 \"> Minuten</span> eine Antwort erhalte ."
      ],
      "text/plain": [
       "<IPython.core.display.HTML object>"
      ]
     },
     "metadata": {},
     "output_type": "display_data"
    },
    {
     "name": "stdout",
     "output_type": "stream",
     "text": [
      "____________________________________209___________________________________________________\n",
      "['major', 'minor', 'minor']\n",
      "\u001b[91m\u001b[1m😤  Minor\u001b[0m\n",
      "8.9244558\n"
     ]
    },
    {
     "data": {
      "text/html": [
       " <span style=\"background-color:#e0e0e0 \">-2.6464908</span> <span style=\"background-color:#DFFF00 \">4.231245</span> <span style=\"background-color:#9FE2BF \">6.277965</span>"
      ],
      "text/plain": [
       "<IPython.core.display.HTML object>"
      ]
     },
     "metadata": {},
     "output_type": "display_data"
    },
    {
     "data": {
      "text/html": [
       " Featuring an incredible stretch <span style=\"background-color:#DFFF00 \">characteristic</span><span style=\"background-color:#DFFF00 \"> in</span> diameter , allowing the hose to stretch onto a connection <span style=\"background-color:#9FE2BF \">for</span><span style=\"background-color:#9FE2BF \"> a</span><span style=\"background-color:#9FE2BF \"> perfect</span><span style=\"background-color:#9FE2BF \"> seal</span> ( ie you can stretch a 3mm ID hose onto a 5mm OD connection ) ."
      ],
      "text/plain": [
       "<IPython.core.display.HTML object>"
      ]
     },
     "metadata": {},
     "output_type": "display_data"
    },
    {
     "data": {
      "text/html": [
       " fossile Röhren sind dehnbar und ermöglichen eine perfekte Abdichtung der Verbindung ( dh Sie können einen <span style=\"background-color:#9FE2BF \">Schlauch</span><span style=\"background-color:#9FE2BF \"> mit</span> 3 mm Innendurchmesser auf einen Anschluss mit 5 mm Außendurchmesser strecken ) ."
      ],
      "text/plain": [
       "<IPython.core.display.HTML object>"
      ]
     },
     "metadata": {},
     "output_type": "display_data"
    },
    {
     "name": "stdout",
     "output_type": "stream",
     "text": [
      "____________________________________210___________________________________________________\n",
      "['No-error', 'No-error', 'No-error', 'No-error']\n",
      "\u001b[94m\u001b[1m🤓 OK\u001b[0m\n",
      "0.0\n"
     ]
    },
    {
     "data": {
      "text/html": [
       " <span style=\"background-color:#e0e0e0 \">11.85121</span>"
      ],
      "text/plain": [
       "<IPython.core.display.HTML object>"
      ]
     },
     "metadata": {},
     "output_type": "display_data"
    },
    {
     "data": {
      "text/html": [
       " Even if you don 't know your password you can create a new password by following the steps I sent ."
      ],
      "text/plain": [
       "<IPython.core.display.HTML object>"
      ]
     },
     "metadata": {},
     "output_type": "display_data"
    },
    {
     "data": {
      "text/html": [
       " Auch wenn Sie Ihr Passwort nicht kennen , können Sie ein neues Passwort erstellen , indem Sie die von mir gesendeten Schritte befolgen ."
      ],
      "text/plain": [
       "<IPython.core.display.HTML object>"
      ]
     },
     "metadata": {},
     "output_type": "display_data"
    },
    {
     "name": "stdout",
     "output_type": "stream",
     "text": [
      "____________________________________211___________________________________________________\n",
      "['No-error', 'No-error', 'No-error']\n",
      "\u001b[94m\u001b[1m🤓 OK\u001b[0m\n",
      "1.4256529999999987\n"
     ]
    },
    {
     "data": {
      "text/html": [
       " <span style=\"background-color:#e0e0e0 \">8.042647</span> <span style=\"background-color:#DFFF00 \">9.4683</span>"
      ],
      "text/plain": [
       "<IPython.core.display.HTML object>"
      ]
     },
     "metadata": {},
     "output_type": "display_data"
    },
    {
     "data": {
      "text/html": [
       " Samco 's vacuum hose is not designed to carry oil , fuel or <span style=\"background-color:#DFFF00 \">for</span><span style=\"background-color:#DFFF00 \"> continuous</span> transfer of pressurised hot water ."
      ],
      "text/plain": [
       "<IPython.core.display.HTML object>"
      ]
     },
     "metadata": {},
     "output_type": "display_data"
    },
    {
     "data": {
      "text/html": [
       " Der Vakuumschlauch von Samco ist nicht für den Transport von Öl , Kraftstoff oder <span style=\"background-color:#DFFF00 \">für</span><span style=\"background-color:#DFFF00 \"> die</span><span style=\"background-color:#DFFF00 \"> kontinuierliche</span> Übertragung von unter Druck stehendem heißem Wasser ausgelegt ."
      ],
      "text/plain": [
       "<IPython.core.display.HTML object>"
      ]
     },
     "metadata": {},
     "output_type": "display_data"
    },
    {
     "name": "stdout",
     "output_type": "stream",
     "text": [
      "____________________________________212___________________________________________________\n",
      "['minor', 'minor', 'minor']\n",
      "\u001b[91m\u001b[1m😤  Minor\u001b[0m\n",
      "10.6493834\n"
     ]
    },
    {
     "data": {
      "text/html": [
       " <span style=\"background-color:#e0e0e0 \">-3.319559</span> <span style=\"background-color:#DFFF00 \">7.3298244</span>"
      ],
      "text/plain": [
       "<IPython.core.display.HTML object>"
      ]
     },
     "metadata": {},
     "output_type": "display_data"
    },
    {
     "data": {
      "text/html": [
       " Regrettably this is currently <span style=\"background-color:#DFFF00 \">out</span><span style=\"background-color:#DFFF00 \"> of</span><span style=\"background-color:#DFFF00 \"> stock</span> , I will just see if this is returning ."
      ],
      "text/plain": [
       "<IPython.core.display.HTML object>"
      ]
     },
     "metadata": {},
     "output_type": "display_data"
    },
    {
     "data": {
      "text/html": [
       " Leider ist dies derzeit <span style=\"background-color:#DFFF00 \">nicht</span><span style=\"background-color:#DFFF00 \"> auf</span><span style=\"background-color:#DFFF00 \"> Lager</span> , ich werde nur sehen , ob dies zurückkehrt ."
      ],
      "text/plain": [
       "<IPython.core.display.HTML object>"
      ]
     },
     "metadata": {},
     "output_type": "display_data"
    },
    {
     "name": "stdout",
     "output_type": "stream",
     "text": [
      "____________________________________213___________________________________________________\n",
      "['minor', 'minor', 'minor']\n",
      "\u001b[91m\u001b[1m😤  Minor\u001b[0m\n",
      "10.889404\n"
     ]
    },
    {
     "data": {
      "text/html": [
       " <span style=\"background-color:#e0e0e0 \">-13.606158</span> <span style=\"background-color:#DFFF00 \">-9.330245</span> <span style=\"background-color:#9FE2BF \">-2.716754</span>"
      ],
      "text/plain": [
       "<IPython.core.display.HTML object>"
      ]
     },
     "metadata": {},
     "output_type": "display_data"
    },
    {
     "data": {
      "text/html": [
       " This has been discontinued so <span style=\"background-color:#DFFF00 \">will</span> not <span style=\"background-color:#9FE2BF \">be</span><span style=\"background-color:#9FE2BF \"> returning</span><span style=\"background-color:#9FE2BF \"> to</span><span style=\"background-color:#9FE2BF \"> stock</span><span style=\"background-color:#9FE2BF \"> ,</span> we do apologize ."
      ],
      "text/plain": [
       "<IPython.core.display.HTML object>"
      ]
     },
     "metadata": {},
     "output_type": "display_data"
    },
    {
     "data": {
      "text/html": [
       " Dies wurde eingestellt , so <span style=\"background-color:#DFFF00 \">dass</span><span style=\"background-color:#DFFF00 \"> wir</span> nicht <span style=\"background-color:#9FE2BF \">auf</span><span style=\"background-color:#9FE2BF \"> Lager</span><span style=\"background-color:#9FE2BF \"> zurückkehren</span><span style=\"background-color:#9FE2BF \"> werden</span><span style=\"background-color:#9FE2BF \"> ,</span> wir entschuldigen uns ."
      ],
      "text/plain": [
       "<IPython.core.display.HTML object>"
      ]
     },
     "metadata": {},
     "output_type": "display_data"
    },
    {
     "name": "stdout",
     "output_type": "stream",
     "text": [
      "____________________________________214___________________________________________________\n",
      "['minor', 'minor', 'minor', 'minor']\n",
      "\u001b[91m\u001b[1m😤  Minor\u001b[0m\n",
      "8.166711\n"
     ]
    },
    {
     "data": {
      "text/html": [
       " <span style=\"background-color:#e0e0e0 \">4.19982</span> <span style=\"background-color:#DFFF00 \">12.366531</span>"
      ],
      "text/plain": [
       "<IPython.core.display.HTML object>"
      ]
     },
     "metadata": {},
     "output_type": "display_data"
    },
    {
     "data": {
      "text/html": [
       " An Iowa <span style=\"background-color:#DFFF00 \">Santa</span> who has been making children smile for 50 years says he 's ready to hang up the red suit and enjoy a quieter Christmas ."
      ],
      "text/plain": [
       "<IPython.core.display.HTML object>"
      ]
     },
     "metadata": {},
     "output_type": "display_data"
    },
    {
     "data": {
      "text/html": [
       " Ein <span style=\"background-color:#DFFF00 \">Weihnachtsmann</span><span style=\"background-color:#DFFF00 \"> aus</span> Iowa , der seit 50 Jahren Kinder zum Lächeln bringt , sagt , er sei bereit , den roten Anzug aufzuhängen und ein ruhigeres Weihnachtsfest zu genießen ."
      ],
      "text/plain": [
       "<IPython.core.display.HTML object>"
      ]
     },
     "metadata": {},
     "output_type": "display_data"
    },
    {
     "name": "stdout",
     "output_type": "stream",
     "text": [
      "____________________________________215___________________________________________________\n",
      "['minor', 'minor', 'minor']\n",
      "\u001b[91m\u001b[1m😤  Minor\u001b[0m\n",
      "8.463681\n"
     ]
    },
    {
     "data": {
      "text/html": [
       " <span style=\"background-color:#e0e0e0 \">1.0664675</span> <span style=\"background-color:#DFFF00 \">9.5301485</span>"
      ],
      "text/plain": [
       "<IPython.core.display.HTML object>"
      ]
     },
     "metadata": {},
     "output_type": "display_data"
    },
    {
     "data": {
      "text/html": [
       " Joint Aid for Dogs is a high specification <span style=\"background-color:#DFFF00 \">joint</span><span style=\"background-color:#DFFF00 \"> and</span> muscle supplement with glucosamine for dogs , designed to aid freedom of movement ."
      ],
      "text/plain": [
       "<IPython.core.display.HTML object>"
      ]
     },
     "metadata": {},
     "output_type": "display_data"
    },
    {
     "data": {
      "text/html": [
       " Gelenkhilfe für Hunde ist ein hochspezialisiertes <span style=\"background-color:#DFFF00 \">Gelenk-</span><span style=\"background-color:#DFFF00 \"> und</span> Muskelpräparat mit Glucosamin für Hunde , das die Bewegungsfreiheit fördert ."
      ],
      "text/plain": [
       "<IPython.core.display.HTML object>"
      ]
     },
     "metadata": {},
     "output_type": "display_data"
    },
    {
     "name": "stdout",
     "output_type": "stream",
     "text": [
      "____________________________________216___________________________________________________\n",
      "['No-error', 'No-error', 'No-error', 'No-error', 'No-error']\n",
      "\u001b[94m\u001b[1m🤓 OK\u001b[0m\n",
      "0.0\n"
     ]
    },
    {
     "data": {
      "text/html": [
       " <span style=\"background-color:#e0e0e0 \">13.586694</span>"
      ],
      "text/plain": [
       "<IPython.core.display.HTML object>"
      ]
     },
     "metadata": {},
     "output_type": "display_data"
    },
    {
     "data": {
      "text/html": [
       " De Klerk also shared the Nobel Peace Prize with Mandela in 1993 after freeing him from prison in 1990 ."
      ],
      "text/plain": [
       "<IPython.core.display.HTML object>"
      ]
     },
     "metadata": {},
     "output_type": "display_data"
    },
    {
     "data": {
      "text/html": [
       " De Klerk teilte 1993 auch den Friedensnobelpreis mit Mandela , nachdem er ihn 1990 aus dem Gefängnis befreit hatte ."
      ],
      "text/plain": [
       "<IPython.core.display.HTML object>"
      ]
     },
     "metadata": {},
     "output_type": "display_data"
    },
    {
     "name": "stdout",
     "output_type": "stream",
     "text": [
      "____________________________________217___________________________________________________\n",
      "['No-error', 'No-error', 'No-error']\n",
      "\u001b[94m\u001b[1m🤓 OK\u001b[0m\n",
      "4.9249054\n"
     ]
    },
    {
     "data": {
      "text/html": [
       " <span style=\"background-color:#e0e0e0 \">5.2166266</span> <span style=\"background-color:#DFFF00 \">8.726485</span> <span style=\"background-color:#9FE2BF \">10.141532</span>"
      ],
      "text/plain": [
       "<IPython.core.display.HTML object>"
      ]
     },
     "metadata": {},
     "output_type": "display_data"
    },
    {
     "data": {
      "text/html": [
       " <span style=\"background-color:#DFFF00 \">The</span><span style=\"background-color:#DFFF00 \"> course</span> consists of 18 modules and I will be doing a <span style=\"background-color:#9FE2BF \">dedicated</span> video on each module ."
      ],
      "text/plain": [
       "<IPython.core.display.HTML object>"
      ]
     },
     "metadata": {},
     "output_type": "display_data"
    },
    {
     "data": {
      "text/html": [
       " <span style=\"background-color:#DFFF00 \">Der</span><span style=\"background-color:#DFFF00 \"> Kurs</span> besteht aus 18 Modulen und ich werde zu jedem Modul ein <span style=\"background-color:#9FE2BF \">eigenes</span> Video erstellen ."
      ],
      "text/plain": [
       "<IPython.core.display.HTML object>"
      ]
     },
     "metadata": {},
     "output_type": "display_data"
    },
    {
     "name": "stdout",
     "output_type": "stream",
     "text": [
      "____________________________________218___________________________________________________\n",
      "['minor', 'minor', 'minor']\n",
      "\u001b[91m\u001b[1m😤  Minor\u001b[0m\n",
      "10.7772253\n"
     ]
    },
    {
     "data": {
      "text/html": [
       " <span style=\"background-color:#e0e0e0 \">2.1179667</span> <span style=\"background-color:#DFFF00 \">12.895192</span>"
      ],
      "text/plain": [
       "<IPython.core.display.HTML object>"
      ]
     },
     "metadata": {},
     "output_type": "display_data"
    },
    {
     "data": {
      "text/html": [
       " Thank you for taking the time to talk with me today and I hope I have <span style=\"background-color:#DFFF00 \">managed</span><span style=\"background-color:#DFFF00 \"> to</span><span style=\"background-color:#DFFF00 \"> resolve</span><span style=\"background-color:#DFFF00 \"> your</span><span style=\"background-color:#DFFF00 \"> query</span><span style=\"background-color:#DFFF00 \"> ,</span><span style=\"background-color:#DFFF00 \"> if</span><span style=\"background-color:#DFFF00 \"> you</span><span style=\"background-color:#DFFF00 \"> wouldn</span><span style=\"background-color:#DFFF00 \"> 't</span><span style=\"background-color:#DFFF00 \"> mind</span> rating our chat today based on my customer service skills I would really appreciate it , the rating button can be found on this chat ."
      ],
      "text/plain": [
       "<IPython.core.display.HTML object>"
      ]
     },
     "metadata": {},
     "output_type": "display_data"
    },
    {
     "data": {
      "text/html": [
       " Vielen Dank , dass du dir heute die Zeit genommen hast , mit mir zu sprechen , und ich hoffe , <span style=\"background-color:#DFFF00 \">ich</span><span style=\"background-color:#DFFF00 \"> konnte</span><span style=\"background-color:#DFFF00 \"> deine</span><span style=\"background-color:#DFFF00 \"> Frage</span><span style=\"background-color:#DFFF00 \"> klären</span><span style=\"background-color:#DFFF00 \"> .</span><span style=\"background-color:#DFFF00 \"> Wenn</span><span style=\"background-color:#DFFF00 \"> es</span><span style=\"background-color:#DFFF00 \"> dir</span><span style=\"background-color:#DFFF00 \"> nichts</span><span style=\"background-color:#DFFF00 \"> ausmachen</span><span style=\"background-color:#DFFF00 \"> würde</span><span style=\"background-color:#DFFF00 \"> ,</span> unseren Chat heute auf der Grundlage meiner Kundenservicefähigkeiten zu bewerten , wäre ich sehr dankbar dafür . Der Bewertungsbutton befindet sich in diesem Chat ."
      ],
      "text/plain": [
       "<IPython.core.display.HTML object>"
      ]
     },
     "metadata": {},
     "output_type": "display_data"
    },
    {
     "name": "stdout",
     "output_type": "stream",
     "text": [
      "____________________________________219___________________________________________________\n",
      "['No-error', 'No-error', 'No-error', 'No-error', 'minor', 'No-error']\n",
      "\u001b[94m\u001b[1m🤓 OK\u001b[0m\n",
      "2.228910999999999\n"
     ]
    },
    {
     "data": {
      "text/html": [
       " <span style=\"background-color:#e0e0e0 \">5.5879583</span> <span style=\"background-color:#DFFF00 \">6.805764</span> <span style=\"background-color:#9FE2BF \">7.8168693</span>"
      ],
      "text/plain": [
       "<IPython.core.display.HTML object>"
      ]
     },
     "metadata": {},
     "output_type": "display_data"
    },
    {
     "data": {
      "text/html": [
       " Please wait <span style=\"background-color:#9FE2BF \">for</span><span style=\"background-color:#9FE2BF \"> the</span><span style=\"background-color:#9FE2BF \"> order</span> , and you can <span style=\"background-color:#DFFF00 \">report</span><span style=\"background-color:#DFFF00 \"> to</span> us if ever food is not hot so we can help you ."
      ],
      "text/plain": [
       "<IPython.core.display.HTML object>"
      ]
     },
     "metadata": {},
     "output_type": "display_data"
    },
    {
     "data": {
      "text/html": [
       " Bitte warten Sie <span style=\"background-color:#9FE2BF \">auf</span><span style=\"background-color:#9FE2BF \"> die</span><span style=\"background-color:#9FE2BF \"> Bestellung</span> , und Sie können uns <span style=\"background-color:#DFFF00 \">melden</span> , wenn das Essen nicht heiß ist , damit wir Ihnen helfen können ."
      ],
      "text/plain": [
       "<IPython.core.display.HTML object>"
      ]
     },
     "metadata": {},
     "output_type": "display_data"
    },
    {
     "name": "stdout",
     "output_type": "stream",
     "text": [
      "____________________________________220___________________________________________________\n",
      "['No-error', 'No-error', 'No-error']\n",
      "\u001b[94m\u001b[1m🤓 OK\u001b[0m\n",
      "0.0\n"
     ]
    },
    {
     "data": {
      "text/html": [
       " <span style=\"background-color:#e0e0e0 \">11.79544</span>"
      ],
      "text/plain": [
       "<IPython.core.display.HTML object>"
      ]
     },
     "metadata": {},
     "output_type": "display_data"
    },
    {
     "data": {
      "text/html": [
       " One of them was pretty infamous in town for always being in trouble with the law ."
      ],
      "text/plain": [
       "<IPython.core.display.HTML object>"
      ]
     },
     "metadata": {},
     "output_type": "display_data"
    },
    {
     "data": {
      "text/html": [
       " Einer von ihnen war in der Stadt ziemlich berüchtigt , weil er ständig mit dem Gesetz in Konflikt geriet ."
      ],
      "text/plain": [
       "<IPython.core.display.HTML object>"
      ]
     },
     "metadata": {},
     "output_type": "display_data"
    },
    {
     "name": "stdout",
     "output_type": "stream",
     "text": [
      "____________________________________221___________________________________________________\n",
      "['major', 'minor', 'minor']\n",
      "\u001b[91m\u001b[1m😤  Minor\u001b[0m\n",
      "9.3744585\n"
     ]
    },
    {
     "data": {
      "text/html": [
       " <span style=\"background-color:#e0e0e0 \">-9.928117</span> <span style=\"background-color:#DFFF00 \">-0.5536585</span>"
      ],
      "text/plain": [
       "<IPython.core.display.HTML object>"
      ]
     },
     "metadata": {},
     "output_type": "display_data"
    },
    {
     "data": {
      "text/html": [
       " As soon as we have heard back , tis <span style=\"background-color:#DFFF00 \">is</span><span style=\"background-color:#DFFF00 \"> when</span><span style=\"background-color:#DFFF00 \"> you</span><span style=\"background-color:#DFFF00 \"> will</span> be emailed"
      ],
      "text/plain": [
       "<IPython.core.display.HTML object>"
      ]
     },
     "metadata": {},
     "output_type": "display_data"
    },
    {
     "data": {
      "text/html": [
       " Sobald wir zurück gehört haben , tis <span style=\"background-color:#DFFF00 \">ist</span><span style=\"background-color:#DFFF00 \"> ,</span><span style=\"background-color:#DFFF00 \"> wenn</span><span style=\"background-color:#DFFF00 \"> Sie</span><span style=\"background-color:#DFFF00 \"> per</span> E-Mail"
      ],
      "text/plain": [
       "<IPython.core.display.HTML object>"
      ]
     },
     "metadata": {},
     "output_type": "display_data"
    },
    {
     "name": "stdout",
     "output_type": "stream",
     "text": [
      "____________________________________222___________________________________________________\n",
      "['No-error', 'No-error', 'No-error', 'No-error', 'No-error']\n",
      "\u001b[94m\u001b[1m🤓 OK\u001b[0m\n",
      "4.0190873\n"
     ]
    },
    {
     "data": {
      "text/html": [
       " <span style=\"background-color:#e0e0e0 \">7.0077577</span> <span style=\"background-color:#DFFF00 \">11.026845</span>"
      ],
      "text/plain": [
       "<IPython.core.display.HTML object>"
      ]
     },
     "metadata": {},
     "output_type": "display_data"
    },
    {
     "data": {
      "text/html": [
       " I am sorry , due to quality purposes I will have to close this chat if I <span style=\"background-color:#DFFF00 \">don</span><span style=\"background-color:#DFFF00 \"> 't</span><span style=\"background-color:#DFFF00 \"> receive</span><span style=\"background-color:#DFFF00 \"> a</span><span style=\"background-color:#DFFF00 \"> response</span> in 2 minutes ."
      ],
      "text/plain": [
       "<IPython.core.display.HTML object>"
      ]
     },
     "metadata": {},
     "output_type": "display_data"
    },
    {
     "data": {
      "text/html": [
       " Es tut mir leid , aus Qualitätsgründen muss ich diesen Chat schließen , wenn ich innerhalb von 2 Minuten <span style=\"background-color:#DFFF00 \">keine</span><span style=\"background-color:#DFFF00 \"> Antwort</span><span style=\"background-color:#DFFF00 \"> erhalte</span> ."
      ],
      "text/plain": [
       "<IPython.core.display.HTML object>"
      ]
     },
     "metadata": {},
     "output_type": "display_data"
    },
    {
     "name": "stdout",
     "output_type": "stream",
     "text": [
      "____________________________________223___________________________________________________\n",
      "['minor', 'minor', 'minor']\n",
      "\u001b[91m\u001b[1m😤  Minor\u001b[0m\n",
      "1.21675873\n"
     ]
    },
    {
     "data": {
      "text/html": [
       " <span style=\"background-color:#e0e0e0 \">-0.93179303</span> <span style=\"background-color:#DFFF00 \">0.2849657</span>"
      ],
      "text/plain": [
       "<IPython.core.display.HTML object>"
      ]
     },
     "metadata": {},
     "output_type": "display_data"
    },
    {
     "data": {
      "text/html": [
       " The rider try to leave the order <span style=\"background-color:#DFFF00 \">on</span><span style=\"background-color:#DFFF00 \"> the</span><span style=\"background-color:#DFFF00 \"> Security</span> but he did not accept it ."
      ],
      "text/plain": [
       "<IPython.core.display.HTML object>"
      ]
     },
     "metadata": {},
     "output_type": "display_data"
    },
    {
     "data": {
      "text/html": [
       " Der Fahrer versucht , die Bestellung <span style=\"background-color:#DFFF00 \">auf</span><span style=\"background-color:#DFFF00 \"> dem</span><span style=\"background-color:#DFFF00 \"> Sicherheitsdienst</span> zu verlassen , aber er hat es nicht akzeptiert ."
      ],
      "text/plain": [
       "<IPython.core.display.HTML object>"
      ]
     },
     "metadata": {},
     "output_type": "display_data"
    },
    {
     "name": "stdout",
     "output_type": "stream",
     "text": [
      "____________________________________224___________________________________________________\n",
      "['No-error', 'minor', 'minor', 'No-error']\n",
      "\u001b[94m\u001b[1m🤓 OK\u001b[0m\n",
      "0.0\n"
     ]
    },
    {
     "data": {
      "text/html": [
       " <span style=\"background-color:#e0e0e0 \">13.124744</span>"
      ],
      "text/plain": [
       "<IPython.core.display.HTML object>"
      ]
     },
     "metadata": {},
     "output_type": "display_data"
    },
    {
     "data": {
      "text/html": [
       " It refers to a toppled bronze memorial to the 17th century merchant Edward Colston , who was involved in the transatlantic slave trade ."
      ],
      "text/plain": [
       "<IPython.core.display.HTML object>"
      ]
     },
     "metadata": {},
     "output_type": "display_data"
    },
    {
     "data": {
      "text/html": [
       " Es bezieht sich auf ein umgestürztes Bronzedenkmal für den Kaufmann Edward Colston aus dem 17. Jahrhundert , der am transatlantischen Sklavenhandel beteiligt war ."
      ],
      "text/plain": [
       "<IPython.core.display.HTML object>"
      ]
     },
     "metadata": {},
     "output_type": "display_data"
    },
    {
     "name": "stdout",
     "output_type": "stream",
     "text": [
      "____________________________________225___________________________________________________\n",
      "['No-error', 'No-error', 'No-error']\n",
      "\u001b[94m\u001b[1m🤓 OK\u001b[0m\n",
      "0.0\n"
     ]
    },
    {
     "data": {
      "text/html": [
       " <span style=\"background-color:#e0e0e0 \">13.342638</span>"
      ],
      "text/plain": [
       "<IPython.core.display.HTML object>"
      ]
     },
     "metadata": {},
     "output_type": "display_data"
    },
    {
     "data": {
      "text/html": [
       " President Cyril Ramaphosa attended Cape Town 's Protestant Groote Kerk - one of South Africa 's oldest churches - on Sunday morning to deliver a eulogy in De Klerk 's honor ."
      ],
      "text/plain": [
       "<IPython.core.display.HTML object>"
      ]
     },
     "metadata": {},
     "output_type": "display_data"
    },
    {
     "data": {
      "text/html": [
       " Präsident Cyril Ramaphosa besuchte am Sonntagmorgen die protestantische Groote Kerk in Kapstadt - eine der ältesten Kirchen Südafrikas - , um eine Laudatio zu De Klerks Ehren zu halten ."
      ],
      "text/plain": [
       "<IPython.core.display.HTML object>"
      ]
     },
     "metadata": {},
     "output_type": "display_data"
    },
    {
     "name": "stdout",
     "output_type": "stream",
     "text": [
      "____________________________________226___________________________________________________\n",
      "['minor', 'minor', 'minor']\n",
      "\u001b[91m\u001b[1m😤  Minor\u001b[0m\n",
      "12.610567000000001\n"
     ]
    },
    {
     "data": {
      "text/html": [
       " <span style=\"background-color:#e0e0e0 \">-2.654977</span> <span style=\"background-color:#DFFF00 \">8.90693</span> <span style=\"background-color:#9FE2BF \">9.95559</span>"
      ],
      "text/plain": [
       "<IPython.core.display.HTML object>"
      ]
     },
     "metadata": {},
     "output_type": "display_data"
    },
    {
     "data": {
      "text/html": [
       " Thank you - so this query is <span style=\"background-color:#9FE2BF \">with</span> warehouse <span style=\"background-color:#DFFF00 \">as</span><span style=\"background-color:#DFFF00 \"> stated</span><span style=\"background-color:#DFFF00 \"> in</span><span style=\"background-color:#DFFF00 \"> yesterdays</span><span style=\"background-color:#DFFF00 \"> chat</span> , we have to await the reply to the investigation ."
      ],
      "text/plain": [
       "<IPython.core.display.HTML object>"
      ]
     },
     "metadata": {},
     "output_type": "display_data"
    },
    {
     "data": {
      "text/html": [
       " Danke , diese Anfrage liegt <span style=\"background-color:#DFFF00 \">,</span><span style=\"background-color:#DFFF00 \"> wie</span><span style=\"background-color:#DFFF00 \"> im</span><span style=\"background-color:#DFFF00 \"> gestrigen</span><span style=\"background-color:#DFFF00 \"> Gespräch</span><span style=\"background-color:#DFFF00 \"> angegeben</span><span style=\"background-color:#DFFF00 \"> ,</span> <span style=\"background-color:#9FE2BF \">bei</span> Lager , wir müssen die Antwort auf die Untersuchungen abwarten ."
      ],
      "text/plain": [
       "<IPython.core.display.HTML object>"
      ]
     },
     "metadata": {},
     "output_type": "display_data"
    },
    {
     "name": "stdout",
     "output_type": "stream",
     "text": [
      "____________________________________227___________________________________________________\n",
      "['minor', 'minor', 'minor']\n",
      "\u001b[91m\u001b[1m😤  Minor\u001b[0m\n",
      "22.286171\n"
     ]
    },
    {
     "data": {
      "text/html": [
       " <span style=\"background-color:#e0e0e0 \">-8.519964</span> <span style=\"background-color:#DFFF00 \">13.766207</span>"
      ],
      "text/plain": [
       "<IPython.core.display.HTML object>"
      ]
     },
     "metadata": {},
     "output_type": "display_data"
    },
    {
     "data": {
      "text/html": [
       " Sibsagar MLA Akhil Gogoi , who was a Krishak Mukti Sangram Samiti leader during the stir and was jailed for his role in it , while paying floral <span style=\"background-color:#DFFF00 \">tributes</span> at the photographs of those who died , said that political parties and \" nationalist organisations \" must take the lead in resuming the movement ."
      ],
      "text/plain": [
       "<IPython.core.display.HTML object>"
      ]
     },
     "metadata": {},
     "output_type": "display_data"
    },
    {
     "data": {
      "text/html": [
       " Sibsagar MLA Akhil Gogoi , der während des Aufruhrs ein Führer von Krishak Mukti Sangram Samiti war und für seine Rolle darin inhaftiert wurde , während er florale <span style=\"background-color:#DFFF00 \">Ehrungen</span> auf den Fotos der Verstorbenen bezahlte , sagte , dass politische Parteien und \" nationalistische Organisationen \" die Führung bei der Wiederaufnahme der Bewegung übernehmen müssen ."
      ],
      "text/plain": [
       "<IPython.core.display.HTML object>"
      ]
     },
     "metadata": {},
     "output_type": "display_data"
    },
    {
     "name": "stdout",
     "output_type": "stream",
     "text": [
      "____________________________________228___________________________________________________\n",
      "['minor', 'minor', 'minor']\n",
      "\u001b[91m\u001b[1m😤  Minor\u001b[0m\n",
      "12.14817695\n"
     ]
    },
    {
     "data": {
      "text/html": [
       " <span style=\"background-color:#e0e0e0 \">0.69087905</span> <span style=\"background-color:#DFFF00 \">12.839056</span>"
      ],
      "text/plain": [
       "<IPython.core.display.HTML object>"
      ]
     },
     "metadata": {},
     "output_type": "display_data"
    },
    {
     "data": {
      "text/html": [
       " After an hour of waiting , I told her what I had reserved and she loudly accused me of lying to her <span style=\"background-color:#DFFF00 \">and</span><span style=\"background-color:#DFFF00 \"> told</span><span style=\"background-color:#DFFF00 \"> me</span><span style=\"background-color:#DFFF00 \"> off</span> ."
      ],
      "text/plain": [
       "<IPython.core.display.HTML object>"
      ]
     },
     "metadata": {},
     "output_type": "display_data"
    },
    {
     "data": {
      "text/html": [
       " Nach einer Stunde Wartung erzählte ich ihr , was ich reserviert hatte , und sie beschuldigte mich laut , ihr gelogen zu haben <span style=\"background-color:#DFFF00 \">und</span><span style=\"background-color:#DFFF00 \"> mich</span><span style=\"background-color:#DFFF00 \"> abgewiesen</span> zu haben ."
      ],
      "text/plain": [
       "<IPython.core.display.HTML object>"
      ]
     },
     "metadata": {},
     "output_type": "display_data"
    },
    {
     "name": "stdout",
     "output_type": "stream",
     "text": [
      "____________________________________229___________________________________________________\n",
      "['minor', 'minor', 'minor']\n",
      "\u001b[91m\u001b[1m😤  Minor\u001b[0m\n",
      "11.85661822\n"
     ]
    },
    {
     "data": {
      "text/html": [
       " <span style=\"background-color:#e0e0e0 \">-0.21144822</span> <span style=\"background-color:#DFFF00 \">11.64517</span>"
      ],
      "text/plain": [
       "<IPython.core.display.HTML object>"
      ]
     },
     "metadata": {},
     "output_type": "display_data"
    },
    {
     "data": {
      "text/html": [
       " Sunday 's training session at Bodymoor Heath was cancelled as a result , a session that was designed for just a small number <span style=\"background-color:#DFFF00 \">of</span><span style=\"background-color:#DFFF00 \"> players</span><span style=\"background-color:#DFFF00 \"> '</span><span style=\"background-color:#DFFF00 \"> recovery</span> after the loss to Liverpool on Saturday ."
      ],
      "text/plain": [
       "<IPython.core.display.HTML object>"
      ]
     },
     "metadata": {},
     "output_type": "display_data"
    },
    {
     "data": {
      "text/html": [
       " Die Trainingseinheit am Sonntag im Bodymoor Heath wurde infolgedessen abgesagt , eine Session , die nur für eine kleine Anzahl <span style=\"background-color:#DFFF00 \">von</span><span style=\"background-color:#DFFF00 \"> Spielern</span> nach der Niederlage gegen Liverpool am Samstag entwickelt wurde ."
      ],
      "text/plain": [
       "<IPython.core.display.HTML object>"
      ]
     },
     "metadata": {},
     "output_type": "display_data"
    },
    {
     "name": "stdout",
     "output_type": "stream",
     "text": [
      "____________________________________230___________________________________________________\n",
      "['minor', 'minor', 'minor']\n",
      "\u001b[91m\u001b[1m😤  Minor\u001b[0m\n",
      "2.5793870000000005\n"
     ]
    },
    {
     "data": {
      "text/html": [
       " <span style=\"background-color:#e0e0e0 \">-12.669554</span> <span style=\"background-color:#DFFF00 \">-10.090167</span>"
      ],
      "text/plain": [
       "<IPython.core.display.HTML object>"
      ]
     },
     "metadata": {},
     "output_type": "display_data"
    },
    {
     "data": {
      "text/html": [
       " This has been discontinued so <span style=\"background-color:#DFFF00 \">will</span> not be returning to stock , we do apologize ."
      ],
      "text/plain": [
       "<IPython.core.display.HTML object>"
      ]
     },
     "metadata": {},
     "output_type": "display_data"
    },
    {
     "data": {
      "text/html": [
       " Dies wurde abgebrochen , so <span style=\"background-color:#DFFF00 \">wird</span> nicht auf Lager zurückkehren , wir entschuldigen uns ."
      ],
      "text/plain": [
       "<IPython.core.display.HTML object>"
      ]
     },
     "metadata": {},
     "output_type": "display_data"
    },
    {
     "name": "stdout",
     "output_type": "stream",
     "text": [
      "____________________________________231___________________________________________________\n",
      "['minor', 'minor', 'minor', 'minor']\n",
      "\u001b[91m\u001b[1m😤  Minor\u001b[0m\n",
      "7.68688621\n"
     ]
    },
    {
     "data": {
      "text/html": [
       " <span style=\"background-color:#e0e0e0 \">-0.07709721</span> <span style=\"background-color:#DFFF00 \">7.609789</span>"
      ],
      "text/plain": [
       "<IPython.core.display.HTML object>"
      ]
     },
     "metadata": {},
     "output_type": "display_data"
    },
    {
     "data": {
      "text/html": [
       " Regrettably this is currently <span style=\"background-color:#DFFF00 \">out</span><span style=\"background-color:#DFFF00 \"> of</span><span style=\"background-color:#DFFF00 \"> stock</span> , I will just see if this is returning ."
      ],
      "text/plain": [
       "<IPython.core.display.HTML object>"
      ]
     },
     "metadata": {},
     "output_type": "display_data"
    },
    {
     "data": {
      "text/html": [
       " Leider ist dies derzeit <span style=\"background-color:#DFFF00 \">nicht</span> vorrätig , ich werde nur sehen , ob dies zurückkehrt ."
      ],
      "text/plain": [
       "<IPython.core.display.HTML object>"
      ]
     },
     "metadata": {},
     "output_type": "display_data"
    },
    {
     "name": "stdout",
     "output_type": "stream",
     "text": [
      "____________________________________232___________________________________________________\n",
      "['major', 'major', 'minor', 'minor']\n",
      "['Accuracy/Mistranslation', 'Accuracy/Mistranslation', 'Accuracy/Mistranslation', 'Accuracy/Mistranslation']\n",
      "\u001b[91m\u001b[1m🤬  Major\u001b[0m\n",
      "0.0\n"
     ]
    },
    {
     "data": {
      "text/html": [
       " <span style=\"background-color:#e0e0e0 \">-1.6207538</span>"
      ],
      "text/plain": [
       "<IPython.core.display.HTML object>"
      ]
     },
     "metadata": {},
     "output_type": "display_data"
    },
    {
     "data": {
      "text/html": [
       " <span style=\"background-color:#DFFF00 \">The</span><span style=\"background-color:#DFFF00 \"> rider</span><span style=\"background-color:#DFFF00 \"> try</span><span style=\"background-color:#DFFF00 \"> to</span><span style=\"background-color:#DFFF00 \"> leave</span><span style=\"background-color:#DFFF00 \"> the</span><span style=\"background-color:#DFFF00 \"> order</span><span style=\"background-color:#DFFF00 \"> on</span><span style=\"background-color:#DFFF00 \"> the</span><span style=\"background-color:#DFFF00 \"> Security</span><span style=\"background-color:#DFFF00 \"> but</span><span style=\"background-color:#DFFF00 \"> he</span><span style=\"background-color:#DFFF00 \"> did</span><span style=\"background-color:#DFFF00 \"> not</span><span style=\"background-color:#DFFF00 \"> accept</span><span style=\"background-color:#DFFF00 \"> it</span><span style=\"background-color:#DFFF00 \"> .</span>"
      ],
      "text/plain": [
       "<IPython.core.display.HTML object>"
      ]
     },
     "metadata": {},
     "output_type": "display_data"
    },
    {
     "data": {
      "text/html": [
       " <span style=\"background-color:#DFFF00 \">Der</span><span style=\"background-color:#DFFF00 \"> Reiter</span><span style=\"background-color:#DFFF00 \"> versuchte</span><span style=\"background-color:#DFFF00 \"> ,</span><span style=\"background-color:#DFFF00 \"> den</span><span style=\"background-color:#DFFF00 \"> Befehl</span><span style=\"background-color:#DFFF00 \"> auf</span><span style=\"background-color:#DFFF00 \"> die</span><span style=\"background-color:#DFFF00 \"> Sicherheit</span><span style=\"background-color:#DFFF00 \"> zu</span><span style=\"background-color:#DFFF00 \"> hinterlassen</span><span style=\"background-color:#DFFF00 \"> ,</span><span style=\"background-color:#DFFF00 \"> aber</span><span style=\"background-color:#DFFF00 \"> er</span><span style=\"background-color:#DFFF00 \"> akzeptierte</span><span style=\"background-color:#DFFF00 \"> es</span><span style=\"background-color:#DFFF00 \"> nicht</span><span style=\"background-color:#DFFF00 \"> .</span>"
      ],
      "text/plain": [
       "<IPython.core.display.HTML object>"
      ]
     },
     "metadata": {},
     "output_type": "display_data"
    }
   ],
   "source": [
    "c=0\n",
    "scores_minor, scores_major, scores_no = [],[],[]\n",
    "diff_minor, diff_major, diff_no = [],[],[]\n",
    "hl_minor, hl_major, hl_no = 0, 0, 0\n",
    "factor_out_explanandum_errors = True\n",
    "\n",
    "original_scores = []\n",
    "final_scores =[]\n",
    "o= []\n",
    "count = 0\n",
    "lbl_new = defaultdict(list)\n",
    "noerror, minor_, major_ = defaultdict(list), defaultdict(list), defaultdict(list)\n",
    "if True:\n",
    "        for id_, (line, lbl) in enumerate(text2severity_average.items()):\n",
    "            lbl =lbl.rstrip()\n",
    "            #print(lbl)\n",
    "            lbl_new[id_] = text2severity[line]\n",
    "            scores, score_color = [], []\n",
    "            line_ = line\n",
    "            line = line.split('\\t')\n",
    "            try:\n",
    "                raw_a = np.array([float(x) for x in line[5].split(' ')])\n",
    "                raw_b = np.array([float(x) for x in line[6].split(' ')])\n",
    "            except IndexError:\n",
    "                continue\n",
    "            \n",
    "            #if len(line[0].split(' ')) < 20 or len(line[0].split(' ')) > 40:\n",
    "            #    continue\n",
    "            total+=1\n",
    "        \n",
    "            original_score = float(line[4])\n",
    "            if factor_out_explanandum_errors:\n",
    "                new_bar = 5\n",
    "                if original_score > new_bar and lbl!='No-error' or original_score < new_bar and lbl=='No-error':\n",
    "                    continue\n",
    "            \n",
    "            revisions = int(line[5])\n",
    "            original_scores.append(original_score)        \n",
    "            previous_score = original_score\n",
    "            expl_a = [0] * len(line[0].split(' '))\n",
    "            expl_b = [0] * len(line[1].split(' '))\n",
    "                    \n",
    "            scores.append(str(original_score))\n",
    "            score_color = '1'\n",
    "                    \n",
    "           \n",
    "            for i in range(revisions):                        \n",
    "                score = line[5 + 3*i + 1]               \n",
    "                if i == 0:\n",
    "                    bar = 1\n",
    "                else:\n",
    "                    bar = 1\n",
    "                if float(previous_score) > 10:\n",
    "                    break\n",
    "                if float(score) - float(previous_score) < bar or original_score > 10:\n",
    "                    break\n",
    "                else:\n",
    "                    #lbl='chatGPT_paraphrase'\n",
    "                    if i==0:\n",
    "                        if lbl == 'No-error':\n",
    "                            hl_no+=1\n",
    "                        elif lbl == 'minor':\n",
    "                            hl_minor+=1\n",
    "                        else:\n",
    "                            hl_major+=1\n",
    "                        count+=1\n",
    "                expl_a = add_lists(expl_a, [((i +1)*int(a)) for a in line[5 + 3*i + 2].split(' ')])\n",
    "                expl_b = add_lists(expl_b, [((i +1)*int(a)) for a in line[5 + 3*i + 3].split(' ')])\n",
    "\n",
    "                previous_score = score\n",
    "                scores.append(str(score))\n",
    "                score_color += f' {str(i+2)}'\n",
    "                \n",
    "            final_scores.append(float(scores[-1]))\n",
    "            diff = float(scores[-1]) - float(original_score) \n",
    "\n",
    "                                 \n",
    "            s_ = 0\n",
    "            if diff <=0: \n",
    "                if float(scores[0]) < 0:\n",
    "                    expl_a =  [1]*len(line[0])\n",
    "                    expl_b =  [1]*len(line[1])\n",
    "                #continue\n",
    "                \n",
    "            en_num = [int(i) for i in line[0].split() if i.isdigit()]\n",
    "            nen_num = [int(i) for i in line[1].split() if i.isdigit()]\n",
    "\n",
    "            if lbl == 'No-error' or lbl == 'minor':\n",
    "                a=1\n",
    "                #continue\n",
    "            else:\n",
    "                bad_num +=1\n",
    "                src_num = re.findall(r'\\d+', line[0])\n",
    "                tgt_num = re.findall(r'\\d+', line[1])\n",
    "            \n",
    "            num_diff +=1\n",
    "            original_scores_ced.append(float(original_score))\n",
    "            print(f'____________________________________{c}___________________________________________________')\n",
    "            \n",
    "            if lbl == 'major': \n",
    "                print(text2severity[line_])\n",
    "                print(text2type[line_])\n",
    "                print(bcolors.FAIL + bcolors.BOLD + \"🤬  Major\" + bcolors.ENDC)\n",
    "                scores_major.append(float(original_score))\n",
    "                if float(diff) >1:\n",
    "                    diff_major.append(float(diff))\n",
    "\n",
    "            elif lbl == 'minor':\n",
    "                print(text2severity[line_])\n",
    "                print(bcolors.FAIL + bcolors.BOLD + \"😤  Minor\" + bcolors.ENDC)   \n",
    "                scores_minor.append(float(original_score))\n",
    "                if float(diff) >1:\n",
    "                    diff_minor.append(float(diff))\n",
    "\n",
    "\n",
    "            else:\n",
    "                #if 'minor' not in text2severity[line_]:\n",
    "                print(text2severity[line_])\n",
    "                print(bcolors.OKBLUE + bcolors.BOLD + \"🤓 OK\" + bcolors.ENDC)           \n",
    "                scores_no.append(float(original_score))\n",
    "                if float(diff) >1:\n",
    "                    diff_no.append(float(diff))\n",
    "\n",
    "\n",
    "\n",
    "            print(diff)\n",
    "                        \n",
    "            display_HTML(' '.join(scores), ' '.join(score_color.split(' ')))            \n",
    "            diffs.append(diff)\n",
    "            \n",
    "            _, source_text = display_HTML(line[0], ' '.join([str(x) for x in expl_a]), offset=True)\n",
    "            _, target_text = display_HTML(line[1], ' '.join([str(x) for x in expl_b]), offset=True) \n",
    "            \n",
    "            \n",
    "            \n",
    "            o.append(lbl)\n",
    "            \n",
    "            if lbl == 'No-error':\n",
    "                noerror[id_].append([source_text, target_text])\n",
    "            elif lbl == 'minor':\n",
    "                minor_[id_].append([source_text, target_text])  \n",
    "            elif lbl == 'major':\n",
    "                major_[id_].append([source_text, target_text]) \n",
    "            c+=1"
   ]
  },
  {
   "cell_type": "code",
   "execution_count": 48,
   "id": "de43618c",
   "metadata": {},
   "outputs": [
    {
     "name": "stdout",
     "output_type": "stream",
     "text": [
      "61.0\n",
      "42.0\n",
      "29.0\n"
     ]
    }
   ],
   "source": [
    "print(hl_no/len(list(noerror.values())[0]))\n",
    "print(hl_major/len(list(major_.values())[0]))\n",
    "print(hl_minor/len(list(minor_.values())[0]))"
   ]
  },
  {
   "cell_type": "code",
   "execution_count": 49,
   "id": "cd368643",
   "metadata": {},
   "outputs": [
    {
     "name": "stdout",
     "output_type": "stream",
     "text": [
      "17.27467811158798\n",
      "4.6137339055794\n",
      "3.111587982832618\n"
     ]
    }
   ],
   "source": [
    "a = len(list(noerror.values())) + len(list(major_.values())) + len(list(minor_.values()))\n",
    "print(25*(len(list(noerror.values()))/a))\n",
    "print(25*(len(list(major_.values()))/a))\n",
    "print(25*(len(list(minor_.values()))/a))"
   ]
  },
  {
   "cell_type": "code",
   "execution_count": 52,
   "id": "170f7432",
   "metadata": {},
   "outputs": [
    {
     "name": "stdout",
     "output_type": "stream",
     "text": [
      "233\n",
      "161\n",
      "43\n",
      "29\n"
     ]
    }
   ],
   "source": [
    "print(a)\n",
    "print(len(list(noerror.values())))\n",
    "print(len(list(major_.values())))\n",
    "print(len(list(minor_.values())))"
   ]
  },
  {
   "cell_type": "code",
   "execution_count": 51,
   "id": "36cdd716",
   "metadata": {},
   "outputs": [
    {
     "name": "stdout",
     "output_type": "stream",
     "text": [
      "0\n",
      "0\n",
      "81\n"
     ]
    }
   ],
   "source": [
    "print(len([a for a in scores_major if float(a)> 10]))\n",
    "print(len([a for a in scores_minor if float(a)> 10]))\n",
    "print(len([a for a in scores_no if float(a)> 10]))"
   ]
  },
  {
   "cell_type": "code",
   "execution_count": 41,
   "id": "cd47f641",
   "metadata": {},
   "outputs": [
    {
     "name": "stdout",
     "output_type": "stream",
     "text": [
      "0.0\n",
      "0.0\n",
      "81.0\n"
     ]
    }
   ],
   "source": [
    "print(len([a for a in scores_major if float(a)> 10])/len(list(major_.values())[0]))\n",
    "print(len([a for a in scores_minor if float(a)> 10])/len(list(minor_.values())[0]))\n",
    "print(len([a for a in scores_no if float(a)> 10])/len(list(noerror.values())[0]))"
   ]
  },
  {
   "cell_type": "code",
   "execution_count": 249,
   "id": "8639cb51",
   "metadata": {},
   "outputs": [
    {
     "name": "stderr",
     "output_type": "stream",
     "text": [
      "/fs/clip-xling/projects/semdiv/anaconda3/envs/semdiv/lib/python3.6/site-packages/seaborn/distributions.py:2551: FutureWarning: `distplot` is a deprecated function and will be removed in a future version. Please adapt your code to use either `displot` (a figure-level function with similar flexibility) or `histplot` (an axes-level function for histograms).\n",
      "  warnings.warn(msg, FutureWarning)\n",
      "/fs/clip-xling/projects/semdiv/anaconda3/envs/semdiv/lib/python3.6/site-packages/seaborn/distributions.py:2551: FutureWarning: `distplot` is a deprecated function and will be removed in a future version. Please adapt your code to use either `displot` (a figure-level function with similar flexibility) or `histplot` (an axes-level function for histograms).\n",
      "  warnings.warn(msg, FutureWarning)\n",
      "/fs/clip-xling/projects/semdiv/anaconda3/envs/semdiv/lib/python3.6/site-packages/seaborn/distributions.py:2551: FutureWarning: `distplot` is a deprecated function and will be removed in a future version. Please adapt your code to use either `displot` (a figure-level function with similar flexibility) or `histplot` (an axes-level function for histograms).\n",
      "  warnings.warn(msg, FutureWarning)\n"
     ]
    },
    {
     "data": {
      "image/png": "[encoded data removed]",
      "text/plain": [
       "<Figure size 432x288 with 1 Axes>"
      ]
     },
     "metadata": {
      "needs_background": "light"
     },
     "output_type": "display_data"
    }
   ],
   "source": [
    "import seaborn as sns\n",
    "import matplotlib.pyplot as plt\n",
    "\n",
    "sns.distplot(scores_major, kde=True, label='major')\n",
    "sns.distplot(scores_minor,  kde=True,  label='minor')\n",
    "sns.distplot(scores_no,  kde=True,  label='no')\n",
    "plt.legend()\n",
    "plt.show()"
   ]
  },
  {
   "cell_type": "code",
   "execution_count": 250,
   "id": "812ad42c",
   "metadata": {},
   "outputs": [
    {
     "name": "stderr",
     "output_type": "stream",
     "text": [
      "/fs/clip-xling/projects/semdiv/anaconda3/envs/semdiv/lib/python3.6/site-packages/seaborn/distributions.py:2551: FutureWarning: `distplot` is a deprecated function and will be removed in a future version. Please adapt your code to use either `displot` (a figure-level function with similar flexibility) or `histplot` (an axes-level function for histograms).\n",
      "  warnings.warn(msg, FutureWarning)\n",
      "/fs/clip-xling/projects/semdiv/anaconda3/envs/semdiv/lib/python3.6/site-packages/seaborn/distributions.py:2551: FutureWarning: `distplot` is a deprecated function and will be removed in a future version. Please adapt your code to use either `displot` (a figure-level function with similar flexibility) or `histplot` (an axes-level function for histograms).\n",
      "  warnings.warn(msg, FutureWarning)\n",
      "/fs/clip-xling/projects/semdiv/anaconda3/envs/semdiv/lib/python3.6/site-packages/seaborn/distributions.py:2551: FutureWarning: `distplot` is a deprecated function and will be removed in a future version. Please adapt your code to use either `displot` (a figure-level function with similar flexibility) or `histplot` (an axes-level function for histograms).\n",
      "  warnings.warn(msg, FutureWarning)\n",
      "/fs/clip-xling/projects/semdiv/anaconda3/envs/semdiv/lib/python3.6/site-packages/seaborn/distributions.py:2589: RuntimeWarning: Mean of empty slice.\n",
      "  line, = ax.plot(a.mean(), 0)\n",
      "/fs/clip-xling/projects/semdiv/anaconda3/envs/semdiv/lib/python3.6/site-packages/numpy/core/_methods.py:170: RuntimeWarning: invalid value encountered in double_scalars\n",
      "  ret = ret.dtype.type(ret / rcount)\n",
      "/fs/clip-xling/projects/semdiv/anaconda3/envs/semdiv/lib/python3.6/site-packages/numpy/lib/histograms.py:905: RuntimeWarning: invalid value encountered in true_divide\n",
      "  return n/db/n.sum(), bin_edges\n"
     ]
    },
    {
     "data": {
      "image/png": "[encoded data removed]",
      "text/plain": [
       "<Figure size 432x288 with 1 Axes>"
      ]
     },
     "metadata": {
      "needs_background": "light"
     },
     "output_type": "display_data"
    }
   ],
   "source": [
    "sns.distplot(diff_major, kde=True, label='major')\n",
    "sns.distplot(diff_minor,  kde=True,  label='minor')\n",
    "sns.distplot(diff_no,  kde=True,  label='no')\n",
    "plt.legend()\n",
    "plt.show()"
   ]
  },
  {
   "cell_type": "code",
   "execution_count": 211,
   "id": "4104600a",
   "metadata": {},
   "outputs": [],
   "source": [
    "# TODO: create data also save more info on META data (e.g., highlights or not and multiple labels)"
   ]
  },
  {
   "cell_type": "code",
   "execution_count": 251,
   "id": "e1e9fed1",
   "metadata": {},
   "outputs": [
    {
     "name": "stdout",
     "output_type": "stream",
     "text": [
      "\n",
      "------\n",
      "1\n",
      "2\n",
      "3\n",
      "4\n",
      "5\n",
      "6\n",
      "7\n",
      "8\n",
      "9\n",
      "10\n",
      "11\n",
      "12\n",
      "13\n",
      "14\n",
      "15\n",
      "16\n",
      "17\n",
      "18\n",
      "19\n",
      "20\n",
      "21\n",
      "22\n",
      "23\n",
      "24\n",
      "25\n",
      "\n",
      "------\n",
      "1\n",
      "2\n",
      "3\n",
      "4\n",
      "5\n",
      "6\n",
      "7\n",
      "8\n",
      "9\n",
      "10\n",
      "11\n",
      "12\n",
      "13\n",
      "14\n",
      "15\n",
      "16\n",
      "17\n",
      "18\n",
      "19\n",
      "20\n",
      "21\n",
      "22\n",
      "23\n",
      "24\n",
      "25\n",
      "\n",
      "------\n",
      "1\n",
      "2\n",
      "3\n",
      "4\n",
      "5\n",
      "6\n",
      "7\n",
      "8\n",
      "9\n",
      "10\n",
      "11\n",
      "12\n",
      "13\n",
      "14\n",
      "15\n",
      "16\n",
      "17\n",
      "18\n",
      "19\n",
      "20\n",
      "21\n",
      "22\n",
      "23\n",
      "24\n",
      "25\n",
      "\n",
      "------\n",
      "1\n",
      "2\n",
      "3\n",
      "4\n",
      "5\n",
      "6\n",
      "7\n",
      "8\n",
      "9\n",
      "10\n",
      "11\n",
      "12\n",
      "13\n",
      "14\n",
      "15\n",
      "16\n",
      "17\n",
      "18\n",
      "19\n",
      "20\n",
      "21\n",
      "22\n",
      "23\n",
      "24\n",
      "25\n"
     ]
    }
   ],
   "source": [
    "import os\n",
    "shift_no, shift_mj, shift_mn = 0, 0, 0\n",
    "batches_num = 4\n",
    "for i in range(batches_num):\n",
    "    c = 0\n",
    "    print('\\n------')\n",
    "    if factor_out_explanandum_errors:\n",
    "        dir_=f'mqm/oracle_{i}'\n",
    "    else:\n",
    "        dir_=f'mqm/real_{i}'\n",
    "    os.makedirs(f'for_user_study/{dir_}', exist_ok=True)\n",
    "    meta_id, meta_lbl, out_src, out_tgt, metal_all_lbl = f'for_user_study/{dir_}/meta_id', f'for_user_study/{dir_}/meta_lbl', f'for_user_study/{dir_}/src', f'for_user_study/{dir_}/tgt',  f'for_user_study/{dir_}/meta_all_lbl'\n",
    "\n",
    "    \n",
    "    noerror_chun = list(noerror)[shift_no:13 + shift_no]\n",
    "    \n",
    "    major_chun = list(major_)[shift_mj : 7 + shift_mj]\n",
    "    \n",
    "    minor_chun = list(minor_)[shift_mn : 5 + shift_mn]\n",
    "    #print(hal_chun)\n",
    "    #print('\\n')\n",
    "    \n",
    "    shift_no += 13\n",
    "    shift_mj += 7\n",
    "    shift_mn += 5\n",
    "    #continue\n",
    "    \n",
    "    merged_ = []\n",
    " \n",
    "    for key in major_chun:\n",
    "        id_, src, tgt, l = key, major_[key][0][0], major_[key][0][1], lbl_new[key]\n",
    "        merged_.append([l, id_, src, tgt])\n",
    "\n",
    "    for key in minor_chun:\n",
    "        id_, src, tgt, l = key, minor_[key][0][0], minor_[key][0][1], lbl_new[key]\n",
    "        merged_.append([l, id_, src, tgt])\n",
    "        \n",
    "    for key in noerror_chun:\n",
    "        id_, src, tgt, l = key, noerror[key][0][0], noerror[key][0][1], lbl_new[key]\n",
    "        merged_.append([l, id_, src, tgt])\n",
    "    \n",
    "    #continue\n",
    "    for c, i in enumerate(merged_):\n",
    "        c+=1\n",
    "        print(c)\n",
    "        id_, labels, source_text, target_text = i[1], i[0], i[2], i[3]\n",
    "     \n",
    "        meta_id_file = open(f'{meta_id}_{c}.txt', 'w')\n",
    "        meta_lbl_file = open(f'{meta_lbl}_{c}.txt', 'w')\n",
    "        meta_lbl_all_file = open(f'{metal_all_lbl}_{c}.txt', 'w')\n",
    "        out_src_file = open(f'{out_src}_{c}.txt', 'w')\n",
    "        out_tgt_file = open(f'{out_tgt}_{c}.txt', 'w')\n",
    "\n",
    "        meta_id_file.write(f'{id_}')\n",
    "        meta_lbl_file.write(f'{most_frequent(labels)}')\n",
    "        meta_lbl_all_file.write('\\t'.join(labels))\n",
    "        out_src_file.write(f'{source_text}')\n",
    "        out_tgt_file.write(f'{target_text}')\n",
    "\n",
    "        meta_id_file.close()\n",
    "        meta_lbl_file.close()\n",
    "        out_src_file.close()\n",
    "        out_tgt_file.close()"
   ]
  }
 ],
 "metadata": {
  "kernelspec": {
   "display_name": "Python 3 (ipykernel)",
   "language": "python",
   "name": "python3"
  },
  "language_info": {
   "codemirror_mode": {
    "name": "ipython",
    "version": 3
   },
   "file_extension": ".py",
   "mimetype": "text/x-python",
   "name": "python",
   "nbconvert_exporter": "python",
   "pygments_lexer": "ipython3",
   "version": "3.9.13"
  }
 },
 "nbformat": 4,
 "nbformat_minor": 5
}
