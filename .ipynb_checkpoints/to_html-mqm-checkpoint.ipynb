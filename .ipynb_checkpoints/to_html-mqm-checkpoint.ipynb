{
 "cells": [
  {
   "cell_type": "code",
   "execution_count": 232,
   "id": "9dadd8d2",
   "metadata": {},
   "outputs": [],
   "source": [
    "from IPython.display import display, HTML\n",
    "import numpy as np\n",
    "import re\n",
    "div_to_color = {'0': '#FFFFFF',\n",
    "                '1': '#e0e0e0',\n",
    "                '2': '#DFFF00',\n",
    "                '3': '#9FE2BF',\n",
    "                '4': '#CCCCFF',\n",
    "                '5': '#FFE4E1',\n",
    "                '6': '#FF00FF',\n",
    "                '7': '#e3abfb',    \n",
    "                '8': '#FFBF00',\n",
    "                '9': '#BBBAFF',\n",
    "                '10': '#FFC2E2',\n",
    "                '11': '#F4FDB1',\n",
    "                '12': '#7C8BFF',\n",
    "                '13': '#95FFF7',\n",
    "                '14': '#FF5733',\n",
    "                '15': '#33FF4C',\n",
    "                '16': '#7733FF',\n",
    "                '17': '#B2FF33',\n",
    "                '18': '#33FF83', \n",
    "                '19': '#FF3371', \n",
    "                '20': '#33F3FF',\n",
    "                '21': '#8AFF33',\n",
    "                '22': '#33FFC1',\n",
    "                '23': '#AF33FF',\n",
    "                '24': '#FFD433',\n",
    "                '25': '#33ACFF',\n",
    "                '26': '#BDAACF',\n",
    "                '27': '#ACE6DA',\n",
    "                '28': '#CCCCFF',\n",
    "                '29': '#FFE4E1',\n",
    "                '30': '#FF00FF',\n",
    "                '31': '#e3abfb',    \n",
    "                '32': '#FFBF00',\n",
    "                '33': '#BBBAFF',\n",
    "}\n",
    "\n",
    "class bcolors:\n",
    "    HEADER = '\\033[95m'\n",
    "    OKBLUE = '\\033[94m'\n",
    "    OKCYAN = '\\033[96m'\n",
    "    OKGREEN = '\\033[92m'\n",
    "    WARNING = '\\033[93m'\n",
    "    FAIL = '\\033[91m'\n",
    "    ENDC = '\\033[0m'\n",
    "    BOLD = '\\033[1m'\n",
    "    UNDERLINE = '\\033[4m'\n",
    "\n",
    "\n",
    "def color_html(label):\n",
    "    return f'<span style=\"background-color:{div_to_color[label]} \">'\n",
    "\n",
    "def display_HTML(text, div, offset=False, one_color=False, red_chars=False):\n",
    "    displayed_text = ''\n",
    "    user_displayed_text = ''\n",
    "    previous = 'eq'\n",
    "    mark_end = '</span>'\n",
    "    previous_label = 0\n",
    "    for token, label in zip(text.split(' '), div.split(' ')):\n",
    "        #print(label)\n",
    "        if one_color:\n",
    "            if int(label) > 0:\n",
    "                label = '1'\n",
    "        if offset:\n",
    "            if label != '0':\n",
    "                label = str(int(label)  + 1)\n",
    "        mark = color_html(label)\n",
    "        if label == '0':\n",
    "            displayed_text += f' {token}'\n",
    "            if previous == 'div':\n",
    "                user_displayed_text += f'</h-l-{str(int(previous_label)-1)}> {token}'\n",
    "            else:\n",
    "                user_displayed_text += f' {token}'\n",
    "            previous = 'eq'\n",
    "        else:\n",
    "            if previous == 'div' and int(label)==previous_label:\n",
    "                displayed_text += f'{mark} {token}{mark_end}'\n",
    "                user_displayed_text += f' {token}'\n",
    "            else:\n",
    "                if int(label)!=previous_label and int(label) > 2 and previous_label!=0:\n",
    "                    user_displayed_text += f' </h-l-{str(int(label)-2)}>'\n",
    "                displayed_text += f' {mark}{token}{mark_end}'\n",
    "                user_displayed_text += f' <h-l-{str(int(label)-1)}>{token}'\n",
    "            previous = 'div'\n",
    "        previous_label = int(label)\n",
    "\n",
    "    if red_chars:\n",
    "        displayed_text = f'{bcolors.WARNING} {displayed_text} {bcolors.ENDC}'\n",
    "    \n",
    "    if previous == 'div':\n",
    "        user_displayed_text += f'</h-l-{str(int(previous_label)-1)}>'\n",
    "        \n",
    "        \n",
    "    return display(HTML(displayed_text)), user_displayed_text\n",
    "\n",
    "def add_lists(list_a, list_b):\n",
    "    #print(list_b)\n",
    "    #print(list_a)\n",
    "    #print('as')\n",
    "    list_add = []\n",
    "    for (a, b) in zip(list_a, list_b):\n",
    "        list_add.append(a+b)\n",
    "    return list_add"
   ]
  },
  {
   "cell_type": "code",
   "execution_count": 233,
   "id": "e325c61d",
   "metadata": {},
   "outputs": [],
   "source": [
    "import random\n",
    "from collections import defaultdict\n",
    "random.seed(41)\n",
    "\n",
    "lbls = open(f'outputs/mqm_generalMT2022_annos', 'r').readlines()\n",
    "diffs = []\n",
    "original_count = 0\n",
    "original_scores_ced = []\n",
    "gpt_count = 0\n",
    "bad_num, num_diff, total = 0, 0, 0\n",
    "text2severity = defaultdict(list)\n",
    "text2type = defaultdict(list)\n",
    "\n",
    "\n",
    "types_all = []\n",
    "for file_ in ['mqm_generalMT2022_en_de_missing_paired_phrases_reward']:\n",
    "\n",
    "    with open(f'outputs/{file_}', 'r') as out_:\n",
    "        c = 0\n",
    "        lines = out_.readlines()\n",
    "        for id_, txt in enumerate(lines):\n",
    "            \n",
    "            #print(txt)\n",
    "            type_, severity_ = lbls[id_].split('\\t')[0], lbls[id_].split('\\t')[1].rstrip()\n",
    "            if 'Accuracy' in type_ or 'No-error' in type_:\n",
    "               \n",
    "                if len(txt.split('\\t')[0].split(' ')) < 15:\n",
    "                    #print(txt.split('\\t')[0].split(' '))\n",
    "                    continue\n",
    "                if '< unk >' in txt.split('\\t')[1]:\n",
    "                    continue\n",
    "                types_all.append(type_)\n",
    "                text2severity[txt.rstrip()].append(severity_)\n",
    "                text2type[txt.rstrip()].append(type_)\n",
    "                #text2severity[txt.rstrip()].append(severity_)"
   ]
  },
  {
   "cell_type": "code",
   "execution_count": 111,
   "id": "5a8e79c9",
   "metadata": {},
   "outputs": [
    {
     "data": {
      "text/plain": [
       "27327"
      ]
     },
     "execution_count": 111,
     "metadata": {},
     "output_type": "execute_result"
    }
   ],
   "source": [
    "len(lbls)"
   ]
  },
  {
   "cell_type": "code",
   "execution_count": 112,
   "id": "82501247",
   "metadata": {},
   "outputs": [
    {
     "data": {
      "text/plain": [
       "27327"
      ]
     },
     "execution_count": 112,
     "metadata": {},
     "output_type": "execute_result"
    }
   ],
   "source": [
    "len(lines)"
   ]
  },
  {
   "cell_type": "code",
   "execution_count": 113,
   "id": "77cccbf2",
   "metadata": {},
   "outputs": [
    {
     "data": {
      "text/plain": [
       "6880"
      ]
     },
     "execution_count": 113,
     "metadata": {},
     "output_type": "execute_result"
    }
   ],
   "source": [
    "len(text2severity)"
   ]
  },
  {
   "cell_type": "code",
   "execution_count": 114,
   "id": "8ceea049",
   "metadata": {},
   "outputs": [],
   "source": [
    "def most_frequent(List):\n",
    "    return max(set(List), key = List.count)\n",
    "\n",
    "text2severity_average = defaultdict(str)\n",
    "for t, a in text2severity.items():\n",
    "    if len(a) < 3:\n",
    "        continue\n",
    "    if 'No-error' in a and 'major' in a:\n",
    "        continue\n",
    "    text2severity_average[t] = most_frequent(a)"
   ]
  },
  {
   "cell_type": "code",
   "execution_count": 201,
   "id": "9212c8c6",
   "metadata": {},
   "outputs": [
    {
     "name": "stdout",
     "output_type": "stream",
     "text": [
      "____________________________________0___________________________________________________\n",
      "['No-error', 'No-error', 'No-error']\n",
      "\u001b[94m\u001b[1m🤓 OK\u001b[0m\n",
      "7.351366400000001\n"
     ]
    },
    {
     "data": {
      "text/html": [
       " <span style=\"background-color:#e0e0e0 \">4.6355686</span> <span style=\"background-color:#DFFF00 \">11.986935</span>"
      ],
      "text/plain": [
       "<IPython.core.display.HTML object>"
      ]
     },
     "metadata": {},
     "output_type": "display_data"
    },
    {
     "data": {
      "text/html": [
       " Experts are warning that the bad weather could lead to power cuts , road and bridge closures , and cancellations <span style=\"background-color:#DFFF00 \">to</span><span style=\"background-color:#DFFF00 \"> air</span> and ferry services ."
      ],
      "text/plain": [
       "<IPython.core.display.HTML object>"
      ]
     },
     "metadata": {},
     "output_type": "display_data"
    },
    {
     "data": {
      "text/html": [
       " Experten warnen davor , dass das schlechte Wetter zu Stromausfällen , Straßen- und Brückensperrungen sowie Annullierungen <span style=\"background-color:#DFFF00 \">von</span><span style=\"background-color:#DFFF00 \"> Flug-</span> und Fährverbindungen führen könnte ."
      ],
      "text/plain": [
       "<IPython.core.display.HTML object>"
      ]
     },
     "metadata": {},
     "output_type": "display_data"
    },
    {
     "name": "stdout",
     "output_type": "stream",
     "text": [
      "____________________________________1___________________________________________________\n",
      "['No-error', 'No-error', 'No-error', 'No-error', 'No-error', 'No-error', 'No-error', 'No-error', 'No-error']\n",
      "\u001b[94m\u001b[1m🤓 OK\u001b[0m\n",
      "0.0\n"
     ]
    },
    {
     "data": {
      "text/html": [
       " <span style=\"background-color:#e0e0e0 \">13.43046</span>"
      ],
      "text/plain": [
       "<IPython.core.display.HTML object>"
      ]
     },
     "metadata": {},
     "output_type": "display_data"
    },
    {
     "data": {
      "text/html": [
       " Since we have been in discussion with the Greeks , the American offer is no longer on the table ..."
      ],
      "text/plain": [
       "<IPython.core.display.HTML object>"
      ]
     },
     "metadata": {},
     "output_type": "display_data"
    },
    {
     "data": {
      "text/html": [
       " Seit wir mit den Griechen im Gespräch sind , liegt das amerikanische Angebot nicht mehr auf dem Tisch ..."
      ],
      "text/plain": [
       "<IPython.core.display.HTML object>"
      ]
     },
     "metadata": {},
     "output_type": "display_data"
    },
    {
     "name": "stdout",
     "output_type": "stream",
     "text": [
      "____________________________________2___________________________________________________\n",
      "['No-error', 'No-error', 'No-error', 'No-error', 'No-error', 'No-error', 'No-error']\n",
      "\u001b[94m\u001b[1m🤓 OK\u001b[0m\n",
      "0.0\n"
     ]
    },
    {
     "data": {
      "text/html": [
       " <span style=\"background-color:#e0e0e0 \">12.774406</span>"
      ],
      "text/plain": [
       "<IPython.core.display.HTML object>"
      ]
     },
     "metadata": {},
     "output_type": "display_data"
    },
    {
     "data": {
      "text/html": [
       " The vast majority of my family and friends who knew me before treat me the same and are SO ."
      ],
      "text/plain": [
       "<IPython.core.display.HTML object>"
      ]
     },
     "metadata": {},
     "output_type": "display_data"
    },
    {
     "data": {
      "text/html": [
       " Die überwiegende Mehrheit meiner Familie und Freunde , die mich vorher kannten , behandeln mich genauso und sind SO ."
      ],
      "text/plain": [
       "<IPython.core.display.HTML object>"
      ]
     },
     "metadata": {},
     "output_type": "display_data"
    },
    {
     "name": "stdout",
     "output_type": "stream",
     "text": [
      "____________________________________3___________________________________________________\n",
      "['No-error', 'No-error', 'No-error', 'No-error']\n",
      "\u001b[94m\u001b[1m🤓 OK\u001b[0m\n",
      "0.0\n"
     ]
    },
    {
     "data": {
      "text/html": [
       " <span style=\"background-color:#e0e0e0 \">13.64267</span>"
      ],
      "text/plain": [
       "<IPython.core.display.HTML object>"
      ]
     },
     "metadata": {},
     "output_type": "display_data"
    },
    {
     "data": {
      "text/html": [
       " Our teams of security experts are constantly analyzing new threats and devising new ways to protect your devices from them ."
      ],
      "text/plain": [
       "<IPython.core.display.HTML object>"
      ]
     },
     "metadata": {},
     "output_type": "display_data"
    },
    {
     "data": {
      "text/html": [
       " Unsere Teams von Sicherheitsexperten analysieren ständig neue Bedrohungen und entwickeln neue Wege , um Ihre Geräte vor ihnen zu schützen ."
      ],
      "text/plain": [
       "<IPython.core.display.HTML object>"
      ]
     },
     "metadata": {},
     "output_type": "display_data"
    },
    {
     "name": "stdout",
     "output_type": "stream",
     "text": [
      "____________________________________4___________________________________________________\n",
      "['No-error', 'No-error', 'No-error', 'No-error']\n",
      "\u001b[94m\u001b[1m🤓 OK\u001b[0m\n",
      "0.0\n"
     ]
    },
    {
     "data": {
      "text/html": [
       " <span style=\"background-color:#e0e0e0 \">13.367724</span>"
      ],
      "text/plain": [
       "<IPython.core.display.HTML object>"
      ]
     },
     "metadata": {},
     "output_type": "display_data"
    },
    {
     "data": {
      "text/html": [
       " Germany 's new chancellor , Olaf Scholz came to Warsaw Sunday for talks with Polish Prime Minister Mateusz Morawiecki about migration , energy , European Union matters and tensions east of the bloc 's border ."
      ],
      "text/plain": [
       "<IPython.core.display.HTML object>"
      ]
     },
     "metadata": {},
     "output_type": "display_data"
    },
    {
     "data": {
      "text/html": [
       " Deutschlands neuer Bundeskanzler Olaf Scholz kam am Sonntag nach Warschau , um mit dem polnischen Ministerpräsidenten Mateusz Morawiecki über Migration , Energie , Angelegenheiten der Europäischen Union und Spannungen östlich der Blockgrenze zu sprechen ."
      ],
      "text/plain": [
       "<IPython.core.display.HTML object>"
      ]
     },
     "metadata": {},
     "output_type": "display_data"
    },
    {
     "name": "stdout",
     "output_type": "stream",
     "text": [
      "____________________________________5___________________________________________________\n",
      "['No-error', 'No-error', 'No-error', 'No-error', 'No-error']\n",
      "\u001b[94m\u001b[1m🤓 OK\u001b[0m\n",
      "3.6402100000000006\n"
     ]
    },
    {
     "data": {
      "text/html": [
       " <span style=\"background-color:#e0e0e0 \">5.963496</span> <span style=\"background-color:#DFFF00 \">9.603706</span>"
      ],
      "text/plain": [
       "<IPython.core.display.HTML object>"
      ]
     },
     "metadata": {},
     "output_type": "display_data"
    },
    {
     "data": {
      "text/html": [
       " Dive into an immersive story encased in Black Desert 's <span style=\"background-color:#DFFF00 \">expansive</span> world that 's just waiting to be explored ."
      ],
      "text/plain": [
       "<IPython.core.display.HTML object>"
      ]
     },
     "metadata": {},
     "output_type": "display_data"
    },
    {
     "data": {
      "text/html": [
       " Tauchen Sie ein in eine fesselnde Geschichte in der <span style=\"background-color:#DFFF00 \">weitläufigen</span> Welt von Black Desert , die nur darauf wartet , erkundet zu werden ."
      ],
      "text/plain": [
       "<IPython.core.display.HTML object>"
      ]
     },
     "metadata": {},
     "output_type": "display_data"
    },
    {
     "name": "stdout",
     "output_type": "stream",
     "text": [
      "____________________________________6___________________________________________________\n",
      "['minor', 'minor', 'minor', 'minor']\n",
      "\u001b[91m\u001b[1m😤  Minor\u001b[0m\n",
      "0.0\n"
     ]
    },
    {
     "data": {
      "text/html": [
       " <span style=\"background-color:#e0e0e0 \">13.576926</span>"
      ],
      "text/plain": [
       "<IPython.core.display.HTML object>"
      ]
     },
     "metadata": {},
     "output_type": "display_data"
    },
    {
     "data": {
      "text/html": [
       " The * * Enterprise-D * * of * The Next Generation * had * * three * * shuttlebays ."
      ],
      "text/plain": [
       "<IPython.core.display.HTML object>"
      ]
     },
     "metadata": {},
     "output_type": "display_data"
    },
    {
     "data": {
      "text/html": [
       " Die * * Enterprise-D * * von * The Next Generation * hatte * * drei * * Shuttlebuchten ."
      ],
      "text/plain": [
       "<IPython.core.display.HTML object>"
      ]
     },
     "metadata": {},
     "output_type": "display_data"
    },
    {
     "name": "stdout",
     "output_type": "stream",
     "text": [
      "____________________________________7___________________________________________________\n",
      "['No-error', 'No-error', 'No-error', 'No-error']\n",
      "\u001b[94m\u001b[1m🤓 OK\u001b[0m\n",
      "0.0\n"
     ]
    },
    {
     "data": {
      "text/html": [
       " <span style=\"background-color:#e0e0e0 \">13.775912</span>"
      ],
      "text/plain": [
       "<IPython.core.display.HTML object>"
      ]
     },
     "metadata": {},
     "output_type": "display_data"
    },
    {
     "data": {
      "text/html": [
       " Greece 's Defense Ministry also confirmed that the deal with Paris was \" final , \" since it had been negotiated at the \" highest level possible \" and \" personally announced \" by the Greek PM Kyriakos Mitsotakis ."
      ],
      "text/plain": [
       "<IPython.core.display.HTML object>"
      ]
     },
     "metadata": {},
     "output_type": "display_data"
    },
    {
     "data": {
      "text/html": [
       " Das griechische Verteidigungsministerium bestätigte auch , dass der Deal mit Paris \" endgültig \" sei , da er auf \" höchstmöglicher Ebene \" ausgehandelt und vom griechischen Premierminister Kyriakos Mitsotakis \" persönlich angekündigt \" worden sei ."
      ],
      "text/plain": [
       "<IPython.core.display.HTML object>"
      ]
     },
     "metadata": {},
     "output_type": "display_data"
    },
    {
     "name": "stdout",
     "output_type": "stream",
     "text": [
      "____________________________________8___________________________________________________\n",
      "['No-error', 'No-error', 'No-error']\n",
      "\u001b[94m\u001b[1m🤓 OK\u001b[0m\n",
      "0.0\n"
     ]
    },
    {
     "data": {
      "text/html": [
       " <span style=\"background-color:#e0e0e0 \">13.457948</span>"
      ],
      "text/plain": [
       "<IPython.core.display.HTML object>"
      ]
     },
     "metadata": {},
     "output_type": "display_data"
    },
    {
     "data": {
      "text/html": [
       " Erectile dysfunction can be emotionally and financially demanding , which is why Encore provides one of the most affordable penis pumps available on the market ."
      ],
      "text/plain": [
       "<IPython.core.display.HTML object>"
      ]
     },
     "metadata": {},
     "output_type": "display_data"
    },
    {
     "data": {
      "text/html": [
       " Erektile Dysfunktion kann emotional und finanziell anspruchsvoll sein , weshalb Encore eine der günstigsten Penispumpen auf dem Markt anbietet ."
      ],
      "text/plain": [
       "<IPython.core.display.HTML object>"
      ]
     },
     "metadata": {},
     "output_type": "display_data"
    },
    {
     "name": "stdout",
     "output_type": "stream",
     "text": [
      "____________________________________9___________________________________________________\n",
      "['No-error', 'No-error', 'No-error', 'No-error']\n",
      "\u001b[94m\u001b[1m🤓 OK\u001b[0m\n",
      "16.8114806\n"
     ]
    },
    {
     "data": {
      "text/html": [
       " <span style=\"background-color:#e0e0e0 \">-6.7380176</span> <span style=\"background-color:#DFFF00 \">8.153172</span> <span style=\"background-color:#9FE2BF \">10.073463</span>"
      ],
      "text/plain": [
       "<IPython.core.display.HTML object>"
      ]
     },
     "metadata": {},
     "output_type": "display_data"
    },
    {
     "data": {
      "text/html": [
       " This kit <span style=\"background-color:#DFFF00 \">includes</span> comes with an assortment of tension bands , in the <span style=\"background-color:#9FE2BF \">most</span><span style=\"background-color:#9FE2BF \"> popular</span> sizes , to help the user find the most effective tension level ."
      ],
      "text/plain": [
       "<IPython.core.display.HTML object>"
      ]
     },
     "metadata": {},
     "output_type": "display_data"
    },
    {
     "data": {
      "text/html": [
       " Dieses Kit <span style=\"background-color:#DFFF00 \">enthält</span> eine Auswahl an Spannbändern in den <span style=\"background-color:#9FE2BF \">gängigsten</span> Größen , um dem Benutzer zu helfen , das effektivste Spannungsniveau zu finden ."
      ],
      "text/plain": [
       "<IPython.core.display.HTML object>"
      ]
     },
     "metadata": {},
     "output_type": "display_data"
    },
    {
     "name": "stdout",
     "output_type": "stream",
     "text": [
      "____________________________________10___________________________________________________\n",
      "['No-error', 'No-error', 'No-error', 'No-error']\n",
      "\u001b[94m\u001b[1m🤓 OK\u001b[0m\n",
      "0.0\n"
     ]
    },
    {
     "data": {
      "text/html": [
       " <span style=\"background-color:#e0e0e0 \">13.594588</span>"
      ],
      "text/plain": [
       "<IPython.core.display.HTML object>"
      ]
     },
     "metadata": {},
     "output_type": "display_data"
    },
    {
     "data": {
      "text/html": [
       " The * * Enterprise-D * * of * The Next Generation * had * * three * * shuttlebays ."
      ],
      "text/plain": [
       "<IPython.core.display.HTML object>"
      ]
     },
     "metadata": {},
     "output_type": "display_data"
    },
    {
     "data": {
      "text/html": [
       " Die * * Enterprise-D * * von * The Next Generation * hatte * * drei * * Shuttlebays ."
      ],
      "text/plain": [
       "<IPython.core.display.HTML object>"
      ]
     },
     "metadata": {},
     "output_type": "display_data"
    },
    {
     "name": "stdout",
     "output_type": "stream",
     "text": [
      "____________________________________11___________________________________________________\n",
      "['No-error', 'No-error', 'No-error']\n",
      "\u001b[94m\u001b[1m🤓 OK\u001b[0m\n",
      "3.6328940000000003\n"
     ]
    },
    {
     "data": {
      "text/html": [
       " <span style=\"background-color:#e0e0e0 \">4.630976</span> <span style=\"background-color:#DFFF00 \">6.2773304</span> <span style=\"background-color:#9FE2BF \">8.26387</span>"
      ],
      "text/plain": [
       "<IPython.core.display.HTML object>"
      ]
     },
     "metadata": {},
     "output_type": "display_data"
    },
    {
     "data": {
      "text/html": [
       " We dispatch all orders accordingly but at some <span style=\"background-color:#9FE2BF \">point</span><span style=\"background-color:#9FE2BF \"> ,</span> it could be possible that your bought <span style=\"background-color:#DFFF00 \">item</span> might be out of stock ."
      ],
      "text/plain": [
       "<IPython.core.display.HTML object>"
      ]
     },
     "metadata": {},
     "output_type": "display_data"
    },
    {
     "data": {
      "text/html": [
       " Wir versenden alle Bestellungen entsprechend <span style=\"background-color:#9FE2BF \">,</span> aber irgendwann kann es sein , dass Ihr gekaufter <span style=\"background-color:#DFFF00 \">Artikel</span> nicht mehr vorrätig ist ."
      ],
      "text/plain": [
       "<IPython.core.display.HTML object>"
      ]
     },
     "metadata": {},
     "output_type": "display_data"
    },
    {
     "name": "stdout",
     "output_type": "stream",
     "text": [
      "____________________________________12___________________________________________________\n",
      "['No-error', 'No-error', 'No-error', 'No-error', 'No-error']\n",
      "\u001b[94m\u001b[1m🤓 OK\u001b[0m\n",
      "3.9305312\n"
     ]
    },
    {
     "data": {
      "text/html": [
       " <span style=\"background-color:#e0e0e0 \">2.2893422</span> <span style=\"background-color:#DFFF00 \">6.2198734</span>"
      ],
      "text/plain": [
       "<IPython.core.display.HTML object>"
      ]
     },
     "metadata": {},
     "output_type": "display_data"
    },
    {
     "data": {
      "text/html": [
       " Adjust font style : Tap the dropdown menu beside <span style=\"background-color:#DFFF00 \">'</span><span style=\"background-color:#DFFF00 \"> Font</span><span style=\"background-color:#DFFF00 \"> Face</span><span style=\"background-color:#DFFF00 \"> '</span> to select from a list of available fonts ."
      ],
      "text/plain": [
       "<IPython.core.display.HTML object>"
      ]
     },
     "metadata": {},
     "output_type": "display_data"
    },
    {
     "data": {
      "text/html": [
       " Schriftstil anpassen : Tippen Sie auf das Dropdown-Menü neben <span style=\"background-color:#DFFF00 \">\"</span><span style=\"background-color:#DFFF00 \"> Schriftart</span><span style=\"background-color:#DFFF00 \"> \"</span> , um aus einer Liste verfügbarer Schriftarten auszuwählen ."
      ],
      "text/plain": [
       "<IPython.core.display.HTML object>"
      ]
     },
     "metadata": {},
     "output_type": "display_data"
    },
    {
     "name": "stdout",
     "output_type": "stream",
     "text": [
      "____________________________________13___________________________________________________\n",
      "['No-error', 'No-error', 'No-error', 'No-error', 'No-error', 'No-error']\n",
      "\u001b[94m\u001b[1m🤓 OK\u001b[0m\n",
      "0.0\n"
     ]
    },
    {
     "data": {
      "text/html": [
       " <span style=\"background-color:#e0e0e0 \">12.024889</span>"
      ],
      "text/plain": [
       "<IPython.core.display.HTML object>"
      ]
     },
     "metadata": {},
     "output_type": "display_data"
    },
    {
     "data": {
      "text/html": [
       " Unique Weather and Climate - The weather and climate will have various effects on different zones that players can adapt to ."
      ],
      "text/plain": [
       "<IPython.core.display.HTML object>"
      ]
     },
     "metadata": {},
     "output_type": "display_data"
    },
    {
     "data": {
      "text/html": [
       " Einzigartiges Wetter und Klima - Das Wetter und das Klima haben verschiedene Auswirkungen auf verschiedene Zonen , an die sich die Spieler anpassen können ."
      ],
      "text/plain": [
       "<IPython.core.display.HTML object>"
      ]
     },
     "metadata": {},
     "output_type": "display_data"
    },
    {
     "name": "stdout",
     "output_type": "stream",
     "text": [
      "____________________________________14___________________________________________________\n",
      "['No-error', 'No-error', 'No-error']\n",
      "\u001b[94m\u001b[1m🤓 OK\u001b[0m\n",
      "0.0\n"
     ]
    },
    {
     "data": {
      "text/html": [
       " <span style=\"background-color:#e0e0e0 \">12.01024</span>"
      ],
      "text/plain": [
       "<IPython.core.display.HTML object>"
      ]
     },
     "metadata": {},
     "output_type": "display_data"
    },
    {
     "data": {
      "text/html": [
       " It was one of Scholz 's early visits after he was sworn in with his coalition Cabinet on Wednesday ."
      ],
      "text/plain": [
       "<IPython.core.display.HTML object>"
      ]
     },
     "metadata": {},
     "output_type": "display_data"
    },
    {
     "data": {
      "text/html": [
       " Es war einer von Scholz ' frühen Besuchen , nachdem er am Mittwoch mit seinem Koalitionskabinett vereidigt worden war ."
      ],
      "text/plain": [
       "<IPython.core.display.HTML object>"
      ]
     },
     "metadata": {},
     "output_type": "display_data"
    },
    {
     "name": "stdout",
     "output_type": "stream",
     "text": [
      "____________________________________15___________________________________________________\n",
      "['No-error', 'No-error', 'No-error', 'No-error']\n",
      "\u001b[94m\u001b[1m🤓 OK\u001b[0m\n",
      "7.4436831\n"
     ]
    },
    {
     "data": {
      "text/html": [
       " <span style=\"background-color:#e0e0e0 \">5.3007894</span> <span style=\"background-color:#DFFF00 \">12.7444725</span>"
      ],
      "text/plain": [
       "<IPython.core.display.HTML object>"
      ]
     },
     "metadata": {},
     "output_type": "display_data"
    },
    {
     "data": {
      "text/html": [
       " To repair your <span style=\"background-color:#DFFF00 \">account</span><span style=\"background-color:#DFFF00 \"> on</span> the # PRS _ ORG # app , please follow the steps indicated below :"
      ],
      "text/plain": [
       "<IPython.core.display.HTML object>"
      ]
     },
     "metadata": {},
     "output_type": "display_data"
    },
    {
     "data": {
      "text/html": [
       " Um Ihr <span style=\"background-color:#DFFF00 \">Konto</span><span style=\"background-color:#DFFF00 \"> in</span> der # PRS _ ORG # -App zu reparieren , folgen Sie bitte den unten angegebenen Schritten :"
      ],
      "text/plain": [
       "<IPython.core.display.HTML object>"
      ]
     },
     "metadata": {},
     "output_type": "display_data"
    },
    {
     "name": "stdout",
     "output_type": "stream",
     "text": [
      "____________________________________16___________________________________________________\n",
      "['No-error', 'No-error', 'No-error', 'No-error', 'No-error']\n",
      "\u001b[94m\u001b[1m🤓 OK\u001b[0m\n",
      "0.0\n"
     ]
    },
    {
     "data": {
      "text/html": [
       " <span style=\"background-color:#e0e0e0 \">12.436215</span>"
      ],
      "text/plain": [
       "<IPython.core.display.HTML object>"
      ]
     },
     "metadata": {},
     "output_type": "display_data"
    },
    {
     "data": {
      "text/html": [
       " I think it 's possible ( but I don 't know ) they were telling them it wasn 't safe to drive ."
      ],
      "text/plain": [
       "<IPython.core.display.HTML object>"
      ]
     },
     "metadata": {},
     "output_type": "display_data"
    },
    {
     "data": {
      "text/html": [
       " Ich denke , es ist möglich ( aber ich weiß es nicht ) , dass sie ihnen sagten , es sei nicht sicher zu fahren ."
      ],
      "text/plain": [
       "<IPython.core.display.HTML object>"
      ]
     },
     "metadata": {},
     "output_type": "display_data"
    },
    {
     "name": "stdout",
     "output_type": "stream",
     "text": [
      "____________________________________17___________________________________________________\n",
      "['No-error', 'No-error', 'No-error']\n",
      "\u001b[94m\u001b[1m🤓 OK\u001b[0m\n",
      "9.361805200000001\n"
     ]
    },
    {
     "data": {
      "text/html": [
       " <span style=\"background-color:#e0e0e0 \">1.0071278</span> <span style=\"background-color:#DFFF00 \">10.368933</span>"
      ],
      "text/plain": [
       "<IPython.core.display.HTML object>"
      ]
     },
     "metadata": {},
     "output_type": "display_data"
    },
    {
     "data": {
      "text/html": [
       " You can adjust the text size , fonts , line spacing , and <span style=\"background-color:#DFFF00 \">justification</span> to make reading easier on your eyes ."
      ],
      "text/plain": [
       "<IPython.core.display.HTML object>"
      ]
     },
     "metadata": {},
     "output_type": "display_data"
    },
    {
     "data": {
      "text/html": [
       " Sie können die Textgröße , die Schriftarten , den Zeilenabstand und <span style=\"background-color:#DFFF00 \">die</span><span style=\"background-color:#DFFF00 \"> Ausrichtung</span> anpassen , um das Lesen für Ihre Augen zu erleichtern ."
      ],
      "text/plain": [
       "<IPython.core.display.HTML object>"
      ]
     },
     "metadata": {},
     "output_type": "display_data"
    },
    {
     "name": "stdout",
     "output_type": "stream",
     "text": [
      "____________________________________18___________________________________________________\n",
      "['No-error', 'No-error', 'No-error', 'No-error', 'No-error']\n",
      "\u001b[94m\u001b[1m🤓 OK\u001b[0m\n",
      "1.2521668000000004\n"
     ]
    },
    {
     "data": {
      "text/html": [
       " <span style=\"background-color:#e0e0e0 \">-4.218294</span> <span style=\"background-color:#DFFF00 \">-2.9661272</span>"
      ],
      "text/plain": [
       "<IPython.core.display.HTML object>"
      ]
     },
     "metadata": {},
     "output_type": "display_data"
    },
    {
     "data": {
      "text/html": [
       " From the # PRS _ ORG # App 's home screen <span style=\"background-color:#DFFF00 \">,</span> tap More at the bottom of the screen ."
      ],
      "text/plain": [
       "<IPython.core.display.HTML object>"
      ]
     },
     "metadata": {},
     "output_type": "display_data"
    },
    {
     "data": {
      "text/html": [
       " Tippen <span style=\"background-color:#DFFF00 \">Sie</span><span style=\"background-color:#DFFF00 \"> auf</span> dem Startbildschirm der # PRS _ ORG # App unten auf dem Bildschirm auf Mehr ."
      ],
      "text/plain": [
       "<IPython.core.display.HTML object>"
      ]
     },
     "metadata": {},
     "output_type": "display_data"
    },
    {
     "name": "stdout",
     "output_type": "stream",
     "text": [
      "____________________________________19___________________________________________________\n",
      "['No-error', 'No-error', 'No-error']\n",
      "\u001b[94m\u001b[1m🤓 OK\u001b[0m\n",
      "0.0\n"
     ]
    },
    {
     "data": {
      "text/html": [
       " <span style=\"background-color:#e0e0e0 \">11.053387</span>"
      ],
      "text/plain": [
       "<IPython.core.display.HTML object>"
      ]
     },
     "metadata": {},
     "output_type": "display_data"
    },
    {
     "data": {
      "text/html": [
       " I know it is in chinese , you don 't need to use your device 's internal function nor the correct language to perform these last steps sent ."
      ],
      "text/plain": [
       "<IPython.core.display.HTML object>"
      ]
     },
     "metadata": {},
     "output_type": "display_data"
    },
    {
     "data": {
      "text/html": [
       " Ich weiß , dass es auf Chinesisch ist , Sie müssen weder die interne Funktion Ihres Geräts noch die richtige Sprache verwenden , um diese letzten gesendeten Schritte auszuführen ."
      ],
      "text/plain": [
       "<IPython.core.display.HTML object>"
      ]
     },
     "metadata": {},
     "output_type": "display_data"
    },
    {
     "name": "stdout",
     "output_type": "stream",
     "text": [
      "____________________________________20___________________________________________________\n",
      "['No-error', 'No-error', 'No-error']\n",
      "\u001b[94m\u001b[1m🤓 OK\u001b[0m\n",
      "3.889723\n"
     ]
    },
    {
     "data": {
      "text/html": [
       " <span style=\"background-color:#e0e0e0 \">6.879562</span> <span style=\"background-color:#DFFF00 \">8.10337</span> <span style=\"background-color:#9FE2BF \">9.420997</span> <span style=\"background-color:#CCCCFF \">10.769285</span>"
      ],
      "text/plain": [
       "<IPython.core.display.HTML object>"
      ]
     },
     "metadata": {},
     "output_type": "display_data"
    },
    {
     "data": {
      "text/html": [
       " <span style=\"background-color:#9FE2BF \">I</span><span style=\"background-color:#9FE2BF \"> kindly</span><span style=\"background-color:#9FE2BF \"> ask</span><span style=\"background-color:#9FE2BF \"> for</span><span style=\"background-color:#9FE2BF \"> your</span><span style=\"background-color:#9FE2BF \"> patience</span><span style=\"background-color:#9FE2BF \"> and</span><span style=\"background-color:#9FE2BF \"> wait</span> <span style=\"background-color:#DFFF00 \">for</span><span style=\"background-color:#DFFF00 \"> your</span><span style=\"background-color:#DFFF00 \"> order</span> to be delivered <span style=\"background-color:#CCCCFF \">within</span> # NUMBER # minutes ."
      ],
      "text/plain": [
       "<IPython.core.display.HTML object>"
      ]
     },
     "metadata": {},
     "output_type": "display_data"
    },
    {
     "data": {
      "text/html": [
       " <span style=\"background-color:#9FE2BF \">Ich</span><span style=\"background-color:#9FE2BF \"> bitte</span><span style=\"background-color:#9FE2BF \"> um</span><span style=\"background-color:#9FE2BF \"> Geduld</span><span style=\"background-color:#9FE2BF \"> und</span><span style=\"background-color:#9FE2BF \"> warte</span> darauf , <span style=\"background-color:#DFFF00 \">dass</span><span style=\"background-color:#DFFF00 \"> Ihre</span><span style=\"background-color:#DFFF00 \"> Bestellung</span> <span style=\"background-color:#CCCCFF \">innerhalb</span><span style=\"background-color:#CCCCFF \"> von</span> # NUMBER # Minuten geliefert wird ."
      ],
      "text/plain": [
       "<IPython.core.display.HTML object>"
      ]
     },
     "metadata": {},
     "output_type": "display_data"
    },
    {
     "name": "stdout",
     "output_type": "stream",
     "text": [
      "____________________________________21___________________________________________________\n",
      "['No-error', 'No-error', 'No-error', 'No-error', 'No-error', 'No-error']\n",
      "\u001b[94m\u001b[1m🤓 OK\u001b[0m\n",
      "4.3099815999999995\n"
     ]
    },
    {
     "data": {
      "text/html": [
       " <span style=\"background-color:#e0e0e0 \">6.1124544</span> <span style=\"background-color:#DFFF00 \">8.163837</span> <span style=\"background-color:#9FE2BF \">9.4035425</span> <span style=\"background-color:#CCCCFF \">10.422436</span>"
      ],
      "text/plain": [
       "<IPython.core.display.HTML object>"
      ]
     },
     "metadata": {},
     "output_type": "display_data"
    },
    {
     "data": {
      "text/html": [
       " As we do not <span style=\"background-color:#CCCCFF \">carry</span><span style=\"background-color:#CCCCFF \"> stock</span><span style=\"background-color:#CCCCFF \"> then</span> all <span style=\"background-color:#9FE2BF \">items</span> are made to order , shipped on <span style=\"background-color:#DFFF00 \">to</span><span style=\"background-color:#DFFF00 \"> us</span> here at # URL # and then sent onto yourselves ."
      ],
      "text/plain": [
       "<IPython.core.display.HTML object>"
      ]
     },
     "metadata": {},
     "output_type": "display_data"
    },
    {
     "data": {
      "text/html": [
       " Da wir keine <span style=\"background-color:#CCCCFF \">Lagerbestände</span><span style=\"background-color:#CCCCFF \"> führen</span><span style=\"background-color:#CCCCFF \"> ,</span> werden alle <span style=\"background-color:#9FE2BF \">Artikel</span> auf Bestellung gefertigt , hier unter # URL # <span style=\"background-color:#DFFF00 \">an</span><span style=\"background-color:#DFFF00 \"> uns</span> versandt und dann an Sie selbst gesendet ."
      ],
      "text/plain": [
       "<IPython.core.display.HTML object>"
      ]
     },
     "metadata": {},
     "output_type": "display_data"
    },
    {
     "name": "stdout",
     "output_type": "stream",
     "text": [
      "____________________________________22___________________________________________________\n",
      "['No-error', 'No-error', 'No-error', 'No-error']\n",
      "\u001b[94m\u001b[1m🤓 OK\u001b[0m\n",
      "0.0\n"
     ]
    },
    {
     "data": {
      "text/html": [
       " <span style=\"background-color:#e0e0e0 \">13.44645</span>"
      ],
      "text/plain": [
       "<IPython.core.display.HTML object>"
      ]
     },
     "metadata": {},
     "output_type": "display_data"
    },
    {
     "data": {
      "text/html": [
       " Erectile dysfunction can be emotionally and financially demanding , which is why Encore provides one of the most affordable penis pumps available on the market ."
      ],
      "text/plain": [
       "<IPython.core.display.HTML object>"
      ]
     },
     "metadata": {},
     "output_type": "display_data"
    },
    {
     "data": {
      "text/html": [
       " Erektile Dysfunktion kann emotional und finanziell anstrengend sein , weshalb Encore eine der günstigsten Penispumpen auf dem Markt anbietet ."
      ],
      "text/plain": [
       "<IPython.core.display.HTML object>"
      ]
     },
     "metadata": {},
     "output_type": "display_data"
    },
    {
     "name": "stdout",
     "output_type": "stream",
     "text": [
      "____________________________________23___________________________________________________\n",
      "['No-error', 'No-error', 'No-error', 'No-error']\n",
      "\u001b[94m\u001b[1m🤓 OK\u001b[0m\n",
      "0.0\n"
     ]
    },
    {
     "data": {
      "text/html": [
       " <span style=\"background-color:#e0e0e0 \">13.02746</span>"
      ],
      "text/plain": [
       "<IPython.core.display.HTML object>"
      ]
     },
     "metadata": {},
     "output_type": "display_data"
    },
    {
     "data": {
      "text/html": [
       " Vacuum therapy has been proven to effectively treat erectile dysfunction in over 95 % of men without any major side effects or medication ."
      ],
      "text/plain": [
       "<IPython.core.display.HTML object>"
      ]
     },
     "metadata": {},
     "output_type": "display_data"
    },
    {
     "data": {
      "text/html": [
       " Es hat sich gezeigt , dass die Vakuumtherapie die erektile Dysfunktion bei über 95 % der Männer ohne größere Nebenwirkungen oder Medikamente wirksam behandelt ."
      ],
      "text/plain": [
       "<IPython.core.display.HTML object>"
      ]
     },
     "metadata": {},
     "output_type": "display_data"
    },
    {
     "name": "stdout",
     "output_type": "stream",
     "text": [
      "____________________________________24___________________________________________________\n",
      "['No-error', 'No-error', 'No-error']\n",
      "\u001b[94m\u001b[1m🤓 OK\u001b[0m\n",
      "0.0\n"
     ]
    },
    {
     "data": {
      "text/html": [
       " <span style=\"background-color:#e0e0e0 \">8.707205</span>"
      ],
      "text/plain": [
       "<IPython.core.display.HTML object>"
      ]
     },
     "metadata": {},
     "output_type": "display_data"
    },
    {
     "data": {
      "text/html": [
       " The patented ring ejector , loading cone , and lubricant included in the kit help to apply the tension bands after pumping ."
      ],
      "text/plain": [
       "<IPython.core.display.HTML object>"
      ]
     },
     "metadata": {},
     "output_type": "display_data"
    },
    {
     "data": {
      "text/html": [
       " Der im Kit enthaltene patentierte Ringauswerfer , Ladekonus und Schmiermittel helfen beim Anlegen der Spannbänder nach dem Pumpen ."
      ],
      "text/plain": [
       "<IPython.core.display.HTML object>"
      ]
     },
     "metadata": {},
     "output_type": "display_data"
    },
    {
     "name": "stdout",
     "output_type": "stream",
     "text": [
      "____________________________________25___________________________________________________\n",
      "['No-error', 'No-error', 'No-error']\n",
      "\u001b[94m\u001b[1m🤓 OK\u001b[0m\n",
      "4.305884600000001\n"
     ]
    },
    {
     "data": {
      "text/html": [
       " <span style=\"background-color:#e0e0e0 \">1.2504847</span> <span style=\"background-color:#DFFF00 \">3.9122174</span> <span style=\"background-color:#9FE2BF \">5.5563693</span>"
      ],
      "text/plain": [
       "<IPython.core.display.HTML object>"
      ]
     },
     "metadata": {},
     "output_type": "display_data"
    },
    {
     "data": {
      "text/html": [
       " Changing the address on the order is not possible , however this can <span style=\"background-color:#DFFF00 \">be</span> deliver <span style=\"background-color:#9FE2BF \">to</span> the new address ."
      ],
      "text/plain": [
       "<IPython.core.display.HTML object>"
      ]
     },
     "metadata": {},
     "output_type": "display_data"
    },
    {
     "data": {
      "text/html": [
       " Eine Änderung der Adresse auf der Bestellung ist nicht möglich , diese kann jedoch <span style=\"background-color:#9FE2BF \">an</span> die neue Adresse geliefert <span style=\"background-color:#DFFF00 \">werden</span> ."
      ],
      "text/plain": [
       "<IPython.core.display.HTML object>"
      ]
     },
     "metadata": {},
     "output_type": "display_data"
    },
    {
     "name": "stdout",
     "output_type": "stream",
     "text": [
      "____________________________________26___________________________________________________\n",
      "['No-error', 'No-error', 'No-error', 'No-error', 'No-error']\n",
      "\u001b[94m\u001b[1m🤓 OK\u001b[0m\n",
      "2.932358\n"
     ]
    },
    {
     "data": {
      "text/html": [
       " <span style=\"background-color:#e0e0e0 \">7.959855</span> <span style=\"background-color:#DFFF00 \">9.836294</span> <span style=\"background-color:#9FE2BF \">10.892213</span>"
      ],
      "text/plain": [
       "<IPython.core.display.HTML object>"
      ]
     },
     "metadata": {},
     "output_type": "display_data"
    },
    {
     "data": {
      "text/html": [
       " <span style=\"background-color:#9FE2BF \">Adjust</span> font size : Drag thecircle icon <span style=\"background-color:#DFFF00 \">beside</span> ' Font Size ' to change the size of the text ."
      ],
      "text/plain": [
       "<IPython.core.display.HTML object>"
      ]
     },
     "metadata": {},
     "output_type": "display_data"
    },
    {
     "data": {
      "text/html": [
       " Schriftgröße <span style=\"background-color:#9FE2BF \">anpassen</span> : Ziehen Sie das Kreissymbol <span style=\"background-color:#DFFF00 \">neben</span> \" Schriftgröße \" , um die Größe des Textes zu ändern ."
      ],
      "text/plain": [
       "<IPython.core.display.HTML object>"
      ]
     },
     "metadata": {},
     "output_type": "display_data"
    },
    {
     "name": "stdout",
     "output_type": "stream",
     "text": [
      "____________________________________27___________________________________________________\n",
      "['No-error', 'No-error', 'No-error']\n",
      "\u001b[94m\u001b[1m🤓 OK\u001b[0m\n",
      "0.0\n"
     ]
    },
    {
     "data": {
      "text/html": [
       " <span style=\"background-color:#e0e0e0 \">10.203132</span>"
      ],
      "text/plain": [
       "<IPython.core.display.HTML object>"
      ]
     },
     "metadata": {},
     "output_type": "display_data"
    },
    {
     "data": {
      "text/html": [
       " If possible , back up any books or documents that you added to your eReader using # PRS _ ORG # , or that you manually added using your computer ."
      ],
      "text/plain": [
       "<IPython.core.display.HTML object>"
      ]
     },
     "metadata": {},
     "output_type": "display_data"
    },
    {
     "data": {
      "text/html": [
       " Sichern Sie nach Möglichkeit alle Bücher oder Dokumente , die Sie Ihrem eReader mit # PRS _ ORG # hinzugefügt haben oder die Sie manuell über Ihren Computer hinzugefügt haben ."
      ],
      "text/plain": [
       "<IPython.core.display.HTML object>"
      ]
     },
     "metadata": {},
     "output_type": "display_data"
    },
    {
     "name": "stdout",
     "output_type": "stream",
     "text": [
      "____________________________________28___________________________________________________\n",
      "['No-error', 'No-error', 'No-error', 'No-error', 'No-error', 'No-error']\n",
      "\u001b[94m\u001b[1m🤓 OK\u001b[0m\n",
      "3.3553324999999994\n"
     ]
    },
    {
     "data": {
      "text/html": [
       " <span style=\"background-color:#e0e0e0 \">8.5650215</span> <span style=\"background-color:#DFFF00 \">11.920354</span>"
      ],
      "text/plain": [
       "<IPython.core.display.HTML object>"
      ]
     },
     "metadata": {},
     "output_type": "display_data"
    },
    {
     "data": {
      "text/html": [
       " Any books you purchased from # PRS _ ORG # can be re-downloaded from the # PRS _ ORG # # PRS _ ORG # after <span style=\"background-color:#DFFF00 \">a</span> factory reset ."
      ],
      "text/plain": [
       "<IPython.core.display.HTML object>"
      ]
     },
     "metadata": {},
     "output_type": "display_data"
    },
    {
     "data": {
      "text/html": [
       " Alle Bücher , die Sie bei # PRS _ ORG # gekauft haben , können nach <span style=\"background-color:#DFFF00 \">dem</span><span style=\"background-color:#DFFF00 \"> Zurücksetzen</span><span style=\"background-color:#DFFF00 \"> auf</span> die Werkseinstellungen erneut von # PRS _ ORG # # PRS _ ORG # heruntergeladen werden ."
      ],
      "text/plain": [
       "<IPython.core.display.HTML object>"
      ]
     },
     "metadata": {},
     "output_type": "display_data"
    },
    {
     "name": "stdout",
     "output_type": "stream",
     "text": [
      "____________________________________29___________________________________________________\n",
      "['No-error', 'No-error', 'No-error']\n",
      "\u001b[94m\u001b[1m🤓 OK\u001b[0m\n",
      "0.0\n"
     ]
    },
    {
     "data": {
      "text/html": [
       " <span style=\"background-color:#e0e0e0 \">13.458846</span>"
      ],
      "text/plain": [
       "<IPython.core.display.HTML object>"
      ]
     },
     "metadata": {},
     "output_type": "display_data"
    },
    {
     "data": {
      "text/html": [
       " Our teams of security experts are constantly analyzing new threats and devising new ways to protect your devices from them ."
      ],
      "text/plain": [
       "<IPython.core.display.HTML object>"
      ]
     },
     "metadata": {},
     "output_type": "display_data"
    },
    {
     "data": {
      "text/html": [
       " Unsere Teams von Sicherheitsexperten analysieren ständig neue Bedrohungen und entwickeln neue Wege , um Ihre Geräte davor zu schützen ."
      ],
      "text/plain": [
       "<IPython.core.display.HTML object>"
      ]
     },
     "metadata": {},
     "output_type": "display_data"
    },
    {
     "name": "stdout",
     "output_type": "stream",
     "text": [
      "____________________________________30___________________________________________________\n",
      "['No-error', 'No-error', 'No-error', 'No-error']\n",
      "\u001b[94m\u001b[1m🤓 OK\u001b[0m\n",
      "0.0\n"
     ]
    },
    {
     "data": {
      "text/html": [
       " <span style=\"background-color:#e0e0e0 \">13.288814</span>"
      ],
      "text/plain": [
       "<IPython.core.display.HTML object>"
      ]
     },
     "metadata": {},
     "output_type": "display_data"
    },
    {
     "data": {
      "text/html": [
       " Since I had a line of customers , I couldn 't leave to help her locate , so I told her \" I believe they are now on aisle 7 . \""
      ],
      "text/plain": [
       "<IPython.core.display.HTML object>"
      ]
     },
     "metadata": {},
     "output_type": "display_data"
    },
    {
     "data": {
      "text/html": [
       " Da ich eine Reihe von Kunden hatte , konnte ich nicht gehen , um ihr bei der Suche zu helfen , also sagte ich ihr : \" Ich glaube , sie sind jetzt in Gang 7 \" ."
      ],
      "text/plain": [
       "<IPython.core.display.HTML object>"
      ]
     },
     "metadata": {},
     "output_type": "display_data"
    },
    {
     "name": "stdout",
     "output_type": "stream",
     "text": [
      "____________________________________31___________________________________________________\n",
      "['No-error', 'No-error', 'No-error']\n",
      "\u001b[94m\u001b[1m🤓 OK\u001b[0m\n",
      "0.0\n"
     ]
    },
    {
     "data": {
      "text/html": [
       " <span style=\"background-color:#e0e0e0 \">13.19421</span>"
      ],
      "text/plain": [
       "<IPython.core.display.HTML object>"
      ]
     },
     "metadata": {},
     "output_type": "display_data"
    },
    {
     "data": {
      "text/html": [
       " Tension bands , also known as penis rings , help sustain the erection once it has been achieved with the pump ."
      ],
      "text/plain": [
       "<IPython.core.display.HTML object>"
      ]
     },
     "metadata": {},
     "output_type": "display_data"
    },
    {
     "data": {
      "text/html": [
       " Spannbänder , auch Penisringe genannt , tragen dazu bei , die Erektion aufrechtzuerhalten , sobald sie mit der Pumpe erreicht wurde ."
      ],
      "text/plain": [
       "<IPython.core.display.HTML object>"
      ]
     },
     "metadata": {},
     "output_type": "display_data"
    },
    {
     "name": "stdout",
     "output_type": "stream",
     "text": [
      "____________________________________32___________________________________________________\n",
      "['No-error', 'No-error', 'No-error']\n",
      "\u001b[94m\u001b[1m🤓 OK\u001b[0m\n",
      "1.57428\n"
     ]
    },
    {
     "data": {
      "text/html": [
       " <span style=\"background-color:#e0e0e0 \">6.648978</span> <span style=\"background-color:#DFFF00 \">8.223258</span>"
      ],
      "text/plain": [
       "<IPython.core.display.HTML object>"
      ]
     },
     "metadata": {},
     "output_type": "display_data"
    },
    {
     "data": {
      "text/html": [
       " I kindly ask for your patience and wait <span style=\"background-color:#DFFF00 \">for</span><span style=\"background-color:#DFFF00 \"> your</span><span style=\"background-color:#DFFF00 \"> order</span> to be delivered within # NUMBER # minutes ."
      ],
      "text/plain": [
       "<IPython.core.display.HTML object>"
      ]
     },
     "metadata": {},
     "output_type": "display_data"
    },
    {
     "data": {
      "text/html": [
       " Ich bitte Sie um Geduld und warte darauf , <span style=\"background-color:#DFFF00 \">dass</span><span style=\"background-color:#DFFF00 \"> Ihre</span><span style=\"background-color:#DFFF00 \"> Bestellung</span> innerhalb von # NUMBER # Minuten geliefert wird ."
      ],
      "text/plain": [
       "<IPython.core.display.HTML object>"
      ]
     },
     "metadata": {},
     "output_type": "display_data"
    },
    {
     "name": "stdout",
     "output_type": "stream",
     "text": [
      "____________________________________33___________________________________________________\n",
      "['No-error', 'No-error', 'No-error']\n",
      "\u001b[94m\u001b[1m🤓 OK\u001b[0m\n",
      "6.4896766\n"
     ]
    },
    {
     "data": {
      "text/html": [
       " <span style=\"background-color:#e0e0e0 \">4.3726034</span> <span style=\"background-color:#DFFF00 \">10.86228</span>"
      ],
      "text/plain": [
       "<IPython.core.display.HTML object>"
      ]
     },
     "metadata": {},
     "output_type": "display_data"
    },
    {
     "data": {
      "text/html": [
       " To repair your <span style=\"background-color:#DFFF00 \">account</span><span style=\"background-color:#DFFF00 \"> on</span> the # PRS _ ORG # app , please follow the steps indicated below :"
      ],
      "text/plain": [
       "<IPython.core.display.HTML object>"
      ]
     },
     "metadata": {},
     "output_type": "display_data"
    },
    {
     "data": {
      "text/html": [
       " Um Ihr <span style=\"background-color:#DFFF00 \">Konto</span><span style=\"background-color:#DFFF00 \"> in</span> der # PRS _ ORG # -App zu reparieren , führen Sie bitte die folgenden Schritte aus :"
      ],
      "text/plain": [
       "<IPython.core.display.HTML object>"
      ]
     },
     "metadata": {},
     "output_type": "display_data"
    },
    {
     "name": "stdout",
     "output_type": "stream",
     "text": [
      "____________________________________34___________________________________________________\n",
      "['No-error', 'No-error', 'No-error']\n",
      "\u001b[94m\u001b[1m🤓 OK\u001b[0m\n",
      "0.0\n"
     ]
    },
    {
     "data": {
      "text/html": [
       " <span style=\"background-color:#e0e0e0 \">12.870015</span>"
      ],
      "text/plain": [
       "<IPython.core.display.HTML object>"
      ]
     },
     "metadata": {},
     "output_type": "display_data"
    },
    {
     "data": {
      "text/html": [
       " Cyber-criminals are more sophisticated than ever before , and they use a diverse arsenal of tools to gain access to your information ."
      ],
      "text/plain": [
       "<IPython.core.display.HTML object>"
      ]
     },
     "metadata": {},
     "output_type": "display_data"
    },
    {
     "data": {
      "text/html": [
       " Cyberkriminelle sind raffinierter als je zuvor und verwenden ein vielfältiges Arsenal an Tools , um sich Zugang zu Ihren Informationen zu verschaffen ."
      ],
      "text/plain": [
       "<IPython.core.display.HTML object>"
      ]
     },
     "metadata": {},
     "output_type": "display_data"
    },
    {
     "name": "stdout",
     "output_type": "stream",
     "text": [
      "____________________________________35___________________________________________________\n",
      "['No-error', 'No-error', 'No-error']\n",
      "\u001b[94m\u001b[1m🤓 OK\u001b[0m\n",
      "9.005092439999999\n"
     ]
    },
    {
     "data": {
      "text/html": [
       " <span style=\"background-color:#e0e0e0 \">0.52730256</span> <span style=\"background-color:#DFFF00 \">8.297752</span> <span style=\"background-color:#9FE2BF \">9.532395</span>"
      ],
      "text/plain": [
       "<IPython.core.display.HTML object>"
      ]
     },
     "metadata": {},
     "output_type": "display_data"
    },
    {
     "data": {
      "text/html": [
       " <span style=\"background-color:#DFFF00 \">Adjust</span><span style=\"background-color:#DFFF00 \"> line</span><span style=\"background-color:#DFFF00 \"> spacing</span><span style=\"background-color:#DFFF00 \"> :</span><span style=\"background-color:#DFFF00 \"> Drag</span><span style=\"background-color:#DFFF00 \"> thecircle</span><span style=\"background-color:#DFFF00 \"> icon</span><span style=\"background-color:#DFFF00 \"> beside</span> ' Line Spacing ' to increase or decrease the <span style=\"background-color:#9FE2BF \">space</span> between the lines of type ."
      ],
      "text/plain": [
       "<IPython.core.display.HTML object>"
      ]
     },
     "metadata": {},
     "output_type": "display_data"
    },
    {
     "data": {
      "text/html": [
       " <span style=\"background-color:#DFFF00 \">Zeilenabstand</span><span style=\"background-color:#DFFF00 \"> anpassen</span><span style=\"background-color:#DFFF00 \"> :</span><span style=\"background-color:#DFFF00 \"> Ziehen</span><span style=\"background-color:#DFFF00 \"> Sie</span><span style=\"background-color:#DFFF00 \"> das</span><span style=\"background-color:#DFFF00 \"> Kreissymbol</span><span style=\"background-color:#DFFF00 \"> neben</span> \" Zeilenabstand \" , um den <span style=\"background-color:#9FE2BF \">Abstand</span> zwischen den Textzeilen zu vergrößern oder zu verkleinern ."
      ],
      "text/plain": [
       "<IPython.core.display.HTML object>"
      ]
     },
     "metadata": {},
     "output_type": "display_data"
    },
    {
     "name": "stdout",
     "output_type": "stream",
     "text": [
      "____________________________________36___________________________________________________\n",
      "['major', 'major', 'major']\n",
      "['Accuracy/Mistranslation', 'Accuracy/Mistranslation', 'Accuracy/Mistranslation']\n",
      "\u001b[91m\u001b[1m🤬  Major\u001b[0m\n",
      "5.194516\n"
     ]
    },
    {
     "data": {
      "text/html": [
       " <span style=\"background-color:#e0e0e0 \">4.216899</span> <span style=\"background-color:#DFFF00 \">9.411415</span>"
      ],
      "text/plain": [
       "<IPython.core.display.HTML object>"
      ]
     },
     "metadata": {},
     "output_type": "display_data"
    },
    {
     "data": {
      "text/html": [
       " Storm force winds are <span style=\"background-color:#DFFF00 \">set</span> to batter northern parts of Scotland with disruption to travel , especially ferry services , expected ."
      ],
      "text/plain": [
       "<IPython.core.display.HTML object>"
      ]
     },
     "metadata": {},
     "output_type": "display_data"
    },
    {
     "data": {
      "text/html": [
       " Sturmgewalt Winde sind <span style=\"background-color:#DFFF00 \">eingestellt</span> , um nördliche Teile von Schottland mit Unterbrechung der Reise , vor allem Fährdienste , zu schlagen erwartet ."
      ],
      "text/plain": [
       "<IPython.core.display.HTML object>"
      ]
     },
     "metadata": {},
     "output_type": "display_data"
    },
    {
     "name": "stdout",
     "output_type": "stream",
     "text": [
      "____________________________________37___________________________________________________\n",
      "['minor', 'minor', 'minor', 'minor', 'minor', 'minor']\n",
      "\u001b[91m\u001b[1m😤  Minor\u001b[0m\n",
      "0.0\n"
     ]
    },
    {
     "data": {
      "text/html": [
       " <span style=\"background-color:#e0e0e0 \">12.713049</span>"
      ],
      "text/plain": [
       "<IPython.core.display.HTML object>"
      ]
     },
     "metadata": {},
     "output_type": "display_data"
    },
    {
     "data": {
      "text/html": [
       " I am sorry but it seems your original order was accidentally spilled , that is why my colleague had to make a new order ."
      ],
      "text/plain": [
       "<IPython.core.display.HTML object>"
      ]
     },
     "metadata": {},
     "output_type": "display_data"
    },
    {
     "data": {
      "text/html": [
       " Es tut mir leid , aber es scheint , dass Ihre ursprüngliche Bestellung versehentlich verschüttet wurde , deshalb musste mein Kollege eine neue Bestellung aufgeben ."
      ],
      "text/plain": [
       "<IPython.core.display.HTML object>"
      ]
     },
     "metadata": {},
     "output_type": "display_data"
    },
    {
     "name": "stdout",
     "output_type": "stream",
     "text": [
      "____________________________________38___________________________________________________\n",
      "['No-error', 'No-error', 'No-error', 'No-error', 'No-error', 'No-error']\n",
      "\u001b[94m\u001b[1m🤓 OK\u001b[0m\n",
      "0.0\n"
     ]
    },
    {
     "data": {
      "text/html": [
       " <span style=\"background-color:#e0e0e0 \">13.838211</span>"
      ],
      "text/plain": [
       "<IPython.core.display.HTML object>"
      ]
     },
     "metadata": {},
     "output_type": "display_data"
    },
    {
     "data": {
      "text/html": [
       " Under \" Payment Information , \" select the type of credit card and enter your card number , security code ( CVV ) , name on the card , and expiration date ."
      ],
      "text/plain": [
       "<IPython.core.display.HTML object>"
      ]
     },
     "metadata": {},
     "output_type": "display_data"
    },
    {
     "data": {
      "text/html": [
       " Wählen Sie unter \" Zahlungsinformationen \" den Kreditkartentyp aus und geben Sie Ihre Kartennummer , den Sicherheitscode ( CVV ) , den Namen auf der Karte und das Ablaufdatum ein ."
      ],
      "text/plain": [
       "<IPython.core.display.HTML object>"
      ]
     },
     "metadata": {},
     "output_type": "display_data"
    },
    {
     "name": "stdout",
     "output_type": "stream",
     "text": [
      "____________________________________39___________________________________________________\n",
      "['minor', 'minor', 'minor', 'minor']\n",
      "\u001b[91m\u001b[1m😤  Minor\u001b[0m\n",
      "4.931033\n"
     ]
    },
    {
     "data": {
      "text/html": [
       " <span style=\"background-color:#e0e0e0 \">6.148725</span> <span style=\"background-color:#DFFF00 \">11.079758</span>"
      ],
      "text/plain": [
       "<IPython.core.display.HTML object>"
      ]
     },
     "metadata": {},
     "output_type": "display_data"
    },
    {
     "data": {
      "text/html": [
       " Formulated with a Swedish natural ingredient blend of <span style=\"background-color:#DFFF00 \">Red</span><span style=\"background-color:#DFFF00 \"> Algae</span><span style=\"background-color:#DFFF00 \"> ,</span> Brown Algae and Aqua Minerals with Vitamin C and Anti-Pollution Active ."
      ],
      "text/plain": [
       "<IPython.core.display.HTML object>"
      ]
     },
     "metadata": {},
     "output_type": "display_data"
    },
    {
     "data": {
      "text/html": [
       " Formuliert mit einer schwedischen Mischung natürlicher Inhaltsstoffe aus <span style=\"background-color:#DFFF00 \">Rotalgen</span><span style=\"background-color:#DFFF00 \"> ,</span> Braunalgen und Aquamineralien mit Vitamin C und Anti-Pollution Active ."
      ],
      "text/plain": [
       "<IPython.core.display.HTML object>"
      ]
     },
     "metadata": {},
     "output_type": "display_data"
    },
    {
     "name": "stdout",
     "output_type": "stream",
     "text": [
      "____________________________________40___________________________________________________\n",
      "['No-error', 'No-error', 'No-error', 'No-error', 'No-error', 'No-error']\n",
      "\u001b[94m\u001b[1m🤓 OK\u001b[0m\n",
      "3.9381465\n"
     ]
    },
    {
     "data": {
      "text/html": [
       " <span style=\"background-color:#e0e0e0 \">9.2070875</span> <span style=\"background-color:#DFFF00 \">13.145234</span>"
      ],
      "text/plain": [
       "<IPython.core.display.HTML object>"
      ]
     },
     "metadata": {},
     "output_type": "display_data"
    },
    {
     "data": {
      "text/html": [
       " Even the name itself , which was a homage to Elon Musk backed Dogecoin , <span style=\"background-color:#DFFF00 \">was</span><span style=\"background-color:#DFFF00 \"> all</span> part of the design ."
      ],
      "text/plain": [
       "<IPython.core.display.HTML object>"
      ]
     },
     "metadata": {},
     "output_type": "display_data"
    },
    {
     "data": {
      "text/html": [
       " Sogar der Name selbst , der eine Hommage an die von Elon Musk unterstützte Dogecoin war , <span style=\"background-color:#DFFF00 \">war</span> Teil des Designs ."
      ],
      "text/plain": [
       "<IPython.core.display.HTML object>"
      ]
     },
     "metadata": {},
     "output_type": "display_data"
    },
    {
     "name": "stdout",
     "output_type": "stream",
     "text": [
      "____________________________________41___________________________________________________\n",
      "['minor', 'minor', 'minor']\n",
      "\u001b[91m\u001b[1m😤  Minor\u001b[0m\n",
      "0.0\n"
     ]
    },
    {
     "data": {
      "text/html": [
       " <span style=\"background-color:#e0e0e0 \">10.926107</span>"
      ],
      "text/plain": [
       "<IPython.core.display.HTML object>"
      ]
     },
     "metadata": {},
     "output_type": "display_data"
    },
    {
     "data": {
      "text/html": [
       " In reality , Shiba Inu offers no tangible utility or value , with seemingly little effort to do so in the future ."
      ],
      "text/plain": [
       "<IPython.core.display.HTML object>"
      ]
     },
     "metadata": {},
     "output_type": "display_data"
    },
    {
     "data": {
      "text/html": [
       " In Wirklichkeit bietet Shiba Inu keinen greifbaren Nutzen oder Wert , mit scheinbar wenig Aufwand , dies in Zukunft zu tun ."
      ],
      "text/plain": [
       "<IPython.core.display.HTML object>"
      ]
     },
     "metadata": {},
     "output_type": "display_data"
    },
    {
     "name": "stdout",
     "output_type": "stream",
     "text": [
      "____________________________________42___________________________________________________\n",
      "['No-error', 'No-error', 'minor', 'minor']\n",
      "\u001b[94m\u001b[1m🤓 OK\u001b[0m\n",
      "0.0\n"
     ]
    },
    {
     "data": {
      "text/html": [
       " <span style=\"background-color:#e0e0e0 \">13.278365</span>"
      ],
      "text/plain": [
       "<IPython.core.display.HTML object>"
      ]
     },
     "metadata": {},
     "output_type": "display_data"
    },
    {
     "data": {
      "text/html": [
       " I also checked my iPad and it seems AM is only using 15GBs for documents and data on it , but that still is not acceptable ."
      ],
      "text/plain": [
       "<IPython.core.display.HTML object>"
      ]
     },
     "metadata": {},
     "output_type": "display_data"
    },
    {
     "data": {
      "text/html": [
       " Ich habe auch mein iPad überprüft und es scheint , dass AM nur 15 GB für Dokumente und Daten darauf verwendet , aber das ist immer noch nicht akzeptabel ."
      ],
      "text/plain": [
       "<IPython.core.display.HTML object>"
      ]
     },
     "metadata": {},
     "output_type": "display_data"
    },
    {
     "name": "stdout",
     "output_type": "stream",
     "text": [
      "____________________________________43___________________________________________________\n",
      "['No-error', 'No-error', 'minor', 'No-error']\n",
      "\u001b[94m\u001b[1m🤓 OK\u001b[0m\n",
      "0.0\n"
     ]
    },
    {
     "data": {
      "text/html": [
       " <span style=\"background-color:#e0e0e0 \">12.136248</span>"
      ],
      "text/plain": [
       "<IPython.core.display.HTML object>"
      ]
     },
     "metadata": {},
     "output_type": "display_data"
    },
    {
     "data": {
      "text/html": [
       " Please follow the steps indicated below to perform a sync repair on your # PRS _ ORG # ( you will need a Wi-Fi connection before you start ) :"
      ],
      "text/plain": [
       "<IPython.core.display.HTML object>"
      ]
     },
     "metadata": {},
     "output_type": "display_data"
    },
    {
     "data": {
      "text/html": [
       " Bitte befolgen Sie die unten angegebenen Schritte , um eine Synchronisierungsreparatur an Ihrem # PRS _ ORG # durchzuführen ( Sie benötigen eine Wi-Fi-Verbindung , bevor Sie beginnen ) :"
      ],
      "text/plain": [
       "<IPython.core.display.HTML object>"
      ]
     },
     "metadata": {},
     "output_type": "display_data"
    },
    {
     "name": "stdout",
     "output_type": "stream",
     "text": [
      "____________________________________44___________________________________________________\n",
      "['minor', 'minor', 'minor', 'minor']\n",
      "\u001b[91m\u001b[1m😤  Minor\u001b[0m\n",
      "0.0\n"
     ]
    },
    {
     "data": {
      "text/html": [
       " <span style=\"background-color:#e0e0e0 \">10.808598</span>"
      ],
      "text/plain": [
       "<IPython.core.display.HTML object>"
      ]
     },
     "metadata": {},
     "output_type": "display_data"
    },
    {
     "data": {
      "text/html": [
       " So there may be some variation in color and the textures to the different parts of a bag , which will create a wonderfully unique effect ."
      ],
      "text/plain": [
       "<IPython.core.display.HTML object>"
      ]
     },
     "metadata": {},
     "output_type": "display_data"
    },
    {
     "data": {
      "text/html": [
       " So kann es einige Variationen in der Farbe und den Texturen zu den verschiedenen Teilen einer Tasche geben , die einen wunderbar einzigartigen Effekt erzeugen ."
      ],
      "text/plain": [
       "<IPython.core.display.HTML object>"
      ]
     },
     "metadata": {},
     "output_type": "display_data"
    },
    {
     "name": "stdout",
     "output_type": "stream",
     "text": [
      "____________________________________45___________________________________________________\n",
      "['No-error', 'No-error', 'No-error', 'No-error', 'No-error', 'No-error', 'No-error', 'No-error', 'No-error']\n",
      "\u001b[94m\u001b[1m🤓 OK\u001b[0m\n",
      "0.0\n"
     ]
    },
    {
     "data": {
      "text/html": [
       " <span style=\"background-color:#e0e0e0 \">13.860118</span>"
      ],
      "text/plain": [
       "<IPython.core.display.HTML object>"
      ]
     },
     "metadata": {},
     "output_type": "display_data"
    },
    {
     "data": {
      "text/html": [
       " Under \" Payment Information , \" select the type of credit card and enter your card number , security code ( CVV ) , name on the card , and expiration date ."
      ],
      "text/plain": [
       "<IPython.core.display.HTML object>"
      ]
     },
     "metadata": {},
     "output_type": "display_data"
    },
    {
     "data": {
      "text/html": [
       " Wählen Sie unter \" Zahlungsinformationen \" die Art der Kreditkarte aus und geben Sie Ihre Kartennummer , den Sicherheitscode ( CVV ) , den Namen auf der Karte und das Ablaufdatum ein ."
      ],
      "text/plain": [
       "<IPython.core.display.HTML object>"
      ]
     },
     "metadata": {},
     "output_type": "display_data"
    },
    {
     "name": "stdout",
     "output_type": "stream",
     "text": [
      "____________________________________46___________________________________________________\n",
      "['No-error', 'No-error', 'No-error', 'No-error', 'No-error', 'No-error', 'No-error', 'No-error', 'No-error', 'No-error', 'No-error']\n",
      "\u001b[94m\u001b[1m🤓 OK\u001b[0m\n",
      "0.0\n"
     ]
    },
    {
     "data": {
      "text/html": [
       " <span style=\"background-color:#e0e0e0 \">13.401414</span>"
      ],
      "text/plain": [
       "<IPython.core.display.HTML object>"
      ]
     },
     "metadata": {},
     "output_type": "display_data"
    },
    {
     "data": {
      "text/html": [
       " For future orders , you can add instructions for your rider by editing your saved addresses in the app ."
      ],
      "text/plain": [
       "<IPython.core.display.HTML object>"
      ]
     },
     "metadata": {},
     "output_type": "display_data"
    },
    {
     "data": {
      "text/html": [
       " Für zukünftige Bestellungen können Sie Anweisungen für Ihren Fahrer hinzufügen , indem Sie Ihre gespeicherten Adressen in der App bearbeiten ."
      ],
      "text/plain": [
       "<IPython.core.display.HTML object>"
      ]
     },
     "metadata": {},
     "output_type": "display_data"
    },
    {
     "name": "stdout",
     "output_type": "stream",
     "text": [
      "____________________________________47___________________________________________________\n",
      "['minor', 'minor', 'minor', 'minor', 'minor', 'minor']\n",
      "\u001b[91m\u001b[1m😤  Minor\u001b[0m\n",
      "6.5955904\n"
     ]
    },
    {
     "data": {
      "text/html": [
       " <span style=\"background-color:#e0e0e0 \">5.6906466</span> <span style=\"background-color:#DFFF00 \">12.286237</span>"
      ],
      "text/plain": [
       "<IPython.core.display.HTML object>"
      ]
     },
     "metadata": {},
     "output_type": "display_data"
    },
    {
     "data": {
      "text/html": [
       " Yes that means <span style=\"background-color:#DFFF00 \">when</span><span style=\"background-color:#DFFF00 \"> I</span><span style=\"background-color:#DFFF00 \"> work</span><span style=\"background-color:#DFFF00 \"> out</span> I really don 't care how many calories it burns , and I don 't change my numbers or macros because of how much I burned ."
      ],
      "text/plain": [
       "<IPython.core.display.HTML object>"
      ]
     },
     "metadata": {},
     "output_type": "display_data"
    },
    {
     "data": {
      "text/html": [
       " Ja , das bedeutet , <span style=\"background-color:#DFFF00 \">wenn</span><span style=\"background-color:#DFFF00 \"> ich</span><span style=\"background-color:#DFFF00 \"> trainiere</span><span style=\"background-color:#DFFF00 \"> ,</span> ist es mir wirklich egal , wie viele Kalorien es verbrennt , und ich ändere meine Zahlen oder Makros nicht , weil ich so viel verbrannt habe ."
      ],
      "text/plain": [
       "<IPython.core.display.HTML object>"
      ]
     },
     "metadata": {},
     "output_type": "display_data"
    },
    {
     "name": "stdout",
     "output_type": "stream",
     "text": [
      "____________________________________48___________________________________________________\n",
      "['minor', 'No-error', 'minor', 'No-error', 'minor', 'No-error', 'No-error', 'No-error']\n",
      "\u001b[94m\u001b[1m🤓 OK\u001b[0m\n",
      "4.165610599999999\n"
     ]
    },
    {
     "data": {
      "text/html": [
       " <span style=\"background-color:#e0e0e0 \">7.8846264</span> <span style=\"background-color:#DFFF00 \">12.050237</span>"
      ],
      "text/plain": [
       "<IPython.core.display.HTML object>"
      ]
     },
     "metadata": {},
     "output_type": "display_data"
    },
    {
     "data": {
      "text/html": [
       " If you 're already doing a 500 calorie cut , an extra piece of steak or even bread after <span style=\"background-color:#DFFF00 \">a</span><span style=\"background-color:#DFFF00 \"> hard</span> workout is not going to ruin your progress at all ."
      ],
      "text/plain": [
       "<IPython.core.display.HTML object>"
      ]
     },
     "metadata": {},
     "output_type": "display_data"
    },
    {
     "data": {
      "text/html": [
       " Wenn Sie bereits einen 500-Kalorien-Schnitt machen , wird ein zusätzliches Stück Steak oder sogar Brot nach <span style=\"background-color:#DFFF00 \">einem</span><span style=\"background-color:#DFFF00 \"> harten</span><span style=\"background-color:#DFFF00 \"> Training</span> Ihren Fortschritt überhaupt nicht ruinieren ."
      ],
      "text/plain": [
       "<IPython.core.display.HTML object>"
      ]
     },
     "metadata": {},
     "output_type": "display_data"
    },
    {
     "name": "stdout",
     "output_type": "stream",
     "text": [
      "____________________________________49___________________________________________________\n",
      "['minor', 'minor', 'minor', 'minor']\n",
      "\u001b[91m\u001b[1m😤  Minor\u001b[0m\n",
      "5.849837499999999\n"
     ]
    },
    {
     "data": {
      "text/html": [
       " <span style=\"background-color:#e0e0e0 \">5.5288925</span> <span style=\"background-color:#DFFF00 \">11.37873</span>"
      ],
      "text/plain": [
       "<IPython.core.display.HTML object>"
      ]
     },
     "metadata": {},
     "output_type": "display_data"
    },
    {
     "data": {
      "text/html": [
       " Yes that means when I <span style=\"background-color:#DFFF00 \">work</span><span style=\"background-color:#DFFF00 \"> out</span> I really don 't care how many calories it burns , and I don 't change my numbers or macros because of how much I burned ."
      ],
      "text/plain": [
       "<IPython.core.display.HTML object>"
      ]
     },
     "metadata": {},
     "output_type": "display_data"
    },
    {
     "data": {
      "text/html": [
       " Ja , das bedeutet , wenn ich <span style=\"background-color:#DFFF00 \">trainiere</span> , ist es mir wirklich egal , wie viele Kalorien es verbrennt , und ich ändere meine Zahlen oder Makros nicht , weil ich verbrannt habe ."
      ],
      "text/plain": [
       "<IPython.core.display.HTML object>"
      ]
     },
     "metadata": {},
     "output_type": "display_data"
    },
    {
     "name": "stdout",
     "output_type": "stream",
     "text": [
      "____________________________________50___________________________________________________\n",
      "['No-error', 'No-error', 'No-error']\n",
      "\u001b[94m\u001b[1m🤓 OK\u001b[0m\n",
      "3.2943747000000005\n"
     ]
    },
    {
     "data": {
      "text/html": [
       " <span style=\"background-color:#e0e0e0 \">7.8204203</span> <span style=\"background-color:#DFFF00 \">11.114795</span>"
      ],
      "text/plain": [
       "<IPython.core.display.HTML object>"
      ]
     },
     "metadata": {},
     "output_type": "display_data"
    },
    {
     "data": {
      "text/html": [
       " I have tried <span style=\"background-color:#DFFF00 \">remediating</span><span style=\"background-color:#DFFF00 \"> this</span><span style=\"background-color:#DFFF00 \"> by</span><span style=\"background-color:#DFFF00 \"> deleting</span><span style=\"background-color:#DFFF00 \"> the</span><span style=\"background-color:#DFFF00 \"> app</span> , but since this is a stock app the documents and data are never truly deleted from the iPhone ."
      ],
      "text/plain": [
       "<IPython.core.display.HTML object>"
      ]
     },
     "metadata": {},
     "output_type": "display_data"
    },
    {
     "data": {
      "text/html": [
       " Ich habe versucht <span style=\"background-color:#DFFF00 \">,</span><span style=\"background-color:#DFFF00 \"> dies</span><span style=\"background-color:#DFFF00 \"> durch</span><span style=\"background-color:#DFFF00 \"> Löschen</span><span style=\"background-color:#DFFF00 \"> der</span><span style=\"background-color:#DFFF00 \"> App</span><span style=\"background-color:#DFFF00 \"> zu</span><span style=\"background-color:#DFFF00 \"> beheben</span> , aber da es sich um eine Standard-App handelt , werden die Dokumente und Daten nie wirklich vom iPhone gelöscht ."
      ],
      "text/plain": [
       "<IPython.core.display.HTML object>"
      ]
     },
     "metadata": {},
     "output_type": "display_data"
    },
    {
     "name": "stdout",
     "output_type": "stream",
     "text": [
      "____________________________________51___________________________________________________\n",
      "['minor', 'minor', 'minor']\n",
      "\u001b[91m\u001b[1m😤  Minor\u001b[0m\n",
      "0.0\n"
     ]
    },
    {
     "data": {
      "text/html": [
       " <span style=\"background-color:#e0e0e0 \">11.407422</span>"
      ],
      "text/plain": [
       "<IPython.core.display.HTML object>"
      ]
     },
     "metadata": {},
     "output_type": "display_data"
    },
    {
     "data": {
      "text/html": [
       " Being on the Ethereum blockchain , there would 've been plenty of opportunity for development had the team behind Shiba Inu been motivated to do so ."
      ],
      "text/plain": [
       "<IPython.core.display.HTML object>"
      ]
     },
     "metadata": {},
     "output_type": "display_data"
    },
    {
     "data": {
      "text/html": [
       " Da es sich um die Ethereum-Blockchain handelt , hätte es viele Entwicklungsmöglichkeiten gegeben , wenn das Team hinter Shiba Inu dazu motiviert worden wäre ."
      ],
      "text/plain": [
       "<IPython.core.display.HTML object>"
      ]
     },
     "metadata": {},
     "output_type": "display_data"
    },
    {
     "name": "stdout",
     "output_type": "stream",
     "text": [
      "____________________________________52___________________________________________________\n",
      "['No-error', 'minor', 'No-error', 'No-error', 'No-error', 'No-error']\n",
      "\u001b[94m\u001b[1m🤓 OK\u001b[0m\n",
      "0.0\n"
     ]
    },
    {
     "data": {
      "text/html": [
       " <span style=\"background-color:#e0e0e0 \">12.778427</span>"
      ],
      "text/plain": [
       "<IPython.core.display.HTML object>"
      ]
     },
     "metadata": {},
     "output_type": "display_data"
    },
    {
     "data": {
      "text/html": [
       " Once your password is reset from your computer , please try accessing once again on our daughter 's e-reader with your new password"
      ],
      "text/plain": [
       "<IPython.core.display.HTML object>"
      ]
     },
     "metadata": {},
     "output_type": "display_data"
    },
    {
     "data": {
      "text/html": [
       " Sobald Ihr Passwort von Ihrem Computer zurückgesetzt wurde , versuchen Sie bitte erneut , mit Ihrem neuen Passwort auf den E-Reader unserer Tochter zuzugreifen"
      ],
      "text/plain": [
       "<IPython.core.display.HTML object>"
      ]
     },
     "metadata": {},
     "output_type": "display_data"
    },
    {
     "name": "stdout",
     "output_type": "stream",
     "text": [
      "____________________________________53___________________________________________________\n",
      "['minor', 'minor', 'minor']\n",
      "\u001b[91m\u001b[1m😤  Minor\u001b[0m\n",
      "4.981744000000001\n"
     ]
    },
    {
     "data": {
      "text/html": [
       " <span style=\"background-color:#e0e0e0 \">8.074966</span> <span style=\"background-color:#DFFF00 \">13.05671</span>"
      ],
      "text/plain": [
       "<IPython.core.display.HTML object>"
      ]
     },
     "metadata": {},
     "output_type": "display_data"
    },
    {
     "data": {
      "text/html": [
       " Printed on super-premium semi-gloss photo paper , it provides high colour definition <span style=\"background-color:#DFFF00 \">with</span><span style=\"background-color:#DFFF00 \"> reduced</span> reflection in a direct light ."
      ],
      "text/plain": [
       "<IPython.core.display.HTML object>"
      ]
     },
     "metadata": {},
     "output_type": "display_data"
    },
    {
     "data": {
      "text/html": [
       " Auf Super-Premium-Semi-Gloss-Fotopapier gedruckt , bietet es hohe Farbbestimmung <span style=\"background-color:#DFFF00 \">mit</span><span style=\"background-color:#DFFF00 \"> reduziertem</span> Reflexion in direktem Licht ."
      ],
      "text/plain": [
       "<IPython.core.display.HTML object>"
      ]
     },
     "metadata": {},
     "output_type": "display_data"
    },
    {
     "name": "stdout",
     "output_type": "stream",
     "text": [
      "____________________________________54___________________________________________________\n",
      "['No-error', 'No-error', 'No-error', 'No-error']\n",
      "\u001b[94m\u001b[1m🤓 OK\u001b[0m\n",
      "4.4275210000000005\n"
     ]
    },
    {
     "data": {
      "text/html": [
       " <span style=\"background-color:#e0e0e0 \">8.684694</span> <span style=\"background-color:#DFFF00 \">13.112215</span>"
      ],
      "text/plain": [
       "<IPython.core.display.HTML object>"
      ]
     },
     "metadata": {},
     "output_type": "display_data"
    },
    {
     "data": {
      "text/html": [
       " I 'm unable to make any changes <span style=\"background-color:#DFFF00 \">once</span><span style=\"background-color:#DFFF00 \"> the</span><span style=\"background-color:#DFFF00 \"> order</span><span style=\"background-color:#DFFF00 \"> has</span><span style=\"background-color:#DFFF00 \"> been</span><span style=\"background-color:#DFFF00 \"> placed</span> however , when the rider leaves the restaurant you will be able to contact them through the app ."
      ],
      "text/plain": [
       "<IPython.core.display.HTML object>"
      ]
     },
     "metadata": {},
     "output_type": "display_data"
    },
    {
     "data": {
      "text/html": [
       " Ich kann keine Änderungen vornehmen , <span style=\"background-color:#DFFF00 \">sobald</span><span style=\"background-color:#DFFF00 \"> die</span><span style=\"background-color:#DFFF00 \"> Bestellung</span><span style=\"background-color:#DFFF00 \"> aufgegeben</span><span style=\"background-color:#DFFF00 \"> wurde</span> , aber wenn der Fahrer das Restaurant verlässt , können Sie ihn über die App kontaktieren ."
      ],
      "text/plain": [
       "<IPython.core.display.HTML object>"
      ]
     },
     "metadata": {},
     "output_type": "display_data"
    },
    {
     "name": "stdout",
     "output_type": "stream",
     "text": [
      "____________________________________55___________________________________________________\n",
      "['minor', 'minor', 'minor', 'minor', 'minor']\n",
      "\u001b[91m\u001b[1m😤  Minor\u001b[0m\n",
      "2.226096599999999\n"
     ]
    },
    {
     "data": {
      "text/html": [
       " <span style=\"background-color:#e0e0e0 \">6.0453944</span> <span style=\"background-color:#DFFF00 \">8.271491</span>"
      ],
      "text/plain": [
       "<IPython.core.display.HTML object>"
      ]
     },
     "metadata": {},
     "output_type": "display_data"
    },
    {
     "data": {
      "text/html": [
       " The guy at the shop checked things out and it turns out that the current price of the tires was more than my <span style=\"background-color:#DFFF00 \">printout</span> ."
      ],
      "text/plain": [
       "<IPython.core.display.HTML object>"
      ]
     },
     "metadata": {},
     "output_type": "display_data"
    },
    {
     "data": {
      "text/html": [
       " Der Typ im Laden hat die Dinge überprüft und es stellt sich heraus , dass der aktuelle Preis der Reifen mehr war als mein <span style=\"background-color:#DFFF00 \">Ausdruck</span> ."
      ],
      "text/plain": [
       "<IPython.core.display.HTML object>"
      ]
     },
     "metadata": {},
     "output_type": "display_data"
    },
    {
     "name": "stdout",
     "output_type": "stream",
     "text": [
      "____________________________________56___________________________________________________\n",
      "['No-error', 'No-error', 'No-error', 'No-error']\n",
      "\u001b[94m\u001b[1m🤓 OK\u001b[0m\n",
      "1.6391500000000008\n"
     ]
    },
    {
     "data": {
      "text/html": [
       " <span style=\"background-color:#e0e0e0 \">9.918766</span> <span style=\"background-color:#DFFF00 \">11.557916</span>"
      ],
      "text/plain": [
       "<IPython.core.display.HTML object>"
      ]
     },
     "metadata": {},
     "output_type": "display_data"
    },
    {
     "data": {
      "text/html": [
       " Now I am turning to the community to see how widespread this issue is , and maybe <span style=\"background-color:#DFFF00 \">get</span> Apple 's attention on this issue ."
      ],
      "text/plain": [
       "<IPython.core.display.HTML object>"
      ]
     },
     "metadata": {},
     "output_type": "display_data"
    },
    {
     "data": {
      "text/html": [
       " Jetzt wende ich mich an die Community , um zu sehen , wie weit verbreitet dieses Problem ist , und vielleicht Apples Aufmerksamkeit auf dieses Problem <span style=\"background-color:#DFFF00 \">zu</span><span style=\"background-color:#DFFF00 \"> lenken</span> ."
      ],
      "text/plain": [
       "<IPython.core.display.HTML object>"
      ]
     },
     "metadata": {},
     "output_type": "display_data"
    },
    {
     "name": "stdout",
     "output_type": "stream",
     "text": [
      "____________________________________57___________________________________________________\n",
      "['minor', 'minor', 'minor']\n",
      "\u001b[91m\u001b[1m😤  Minor\u001b[0m\n",
      "3.603861600000001\n"
     ]
    },
    {
     "data": {
      "text/html": [
       " <span style=\"background-color:#e0e0e0 \">6.8507814</span> <span style=\"background-color:#DFFF00 \">10.454643</span>"
      ],
      "text/plain": [
       "<IPython.core.display.HTML object>"
      ]
     },
     "metadata": {},
     "output_type": "display_data"
    },
    {
     "data": {
      "text/html": [
       " The guy at the shop checked things out and it turns out that the current price of the tires was more than my <span style=\"background-color:#DFFF00 \">printout</span> ."
      ],
      "text/plain": [
       "<IPython.core.display.HTML object>"
      ]
     },
     "metadata": {},
     "output_type": "display_data"
    },
    {
     "data": {
      "text/html": [
       " Der Mann im Laden überprüfte die Dinge und es stellte sich heraus , dass der aktuelle Preis der Reifen mehr war als mein <span style=\"background-color:#DFFF00 \">Ausdruck</span> ."
      ],
      "text/plain": [
       "<IPython.core.display.HTML object>"
      ]
     },
     "metadata": {},
     "output_type": "display_data"
    },
    {
     "name": "stdout",
     "output_type": "stream",
     "text": [
      "____________________________________58___________________________________________________\n",
      "['minor', 'minor', 'minor', 'minor']\n",
      "\u001b[91m\u001b[1m😤  Minor\u001b[0m\n",
      "6.477642\n"
     ]
    },
    {
     "data": {
      "text/html": [
       " <span style=\"background-color:#e0e0e0 \">5.72967</span> <span style=\"background-color:#DFFF00 \">12.207312</span>"
      ],
      "text/plain": [
       "<IPython.core.display.HTML object>"
      ]
     },
     "metadata": {},
     "output_type": "display_data"
    },
    {
     "data": {
      "text/html": [
       " Yes that means <span style=\"background-color:#DFFF00 \">when</span><span style=\"background-color:#DFFF00 \"> I</span><span style=\"background-color:#DFFF00 \"> work</span><span style=\"background-color:#DFFF00 \"> out</span> I really don 't care how many calories it burns , and I don 't change my numbers or macros because of how much I burned ."
      ],
      "text/plain": [
       "<IPython.core.display.HTML object>"
      ]
     },
     "metadata": {},
     "output_type": "display_data"
    },
    {
     "data": {
      "text/html": [
       " Ja , das heißt , <span style=\"background-color:#DFFF00 \">wenn</span><span style=\"background-color:#DFFF00 \"> ich</span><span style=\"background-color:#DFFF00 \"> trainiere</span><span style=\"background-color:#DFFF00 \"> ,</span> ist es mir wirklich egal , wie viele Kalorien es verbrennt , und ich ändere meine Zahlen oder Makros nicht , weil ich so viel verbrannt habe ."
      ],
      "text/plain": [
       "<IPython.core.display.HTML object>"
      ]
     },
     "metadata": {},
     "output_type": "display_data"
    },
    {
     "name": "stdout",
     "output_type": "stream",
     "text": [
      "____________________________________59___________________________________________________\n",
      "['minor', 'minor', 'minor']\n",
      "\u001b[91m\u001b[1m😤  Minor\u001b[0m\n",
      "6.751728399999999\n"
     ]
    },
    {
     "data": {
      "text/html": [
       " <span style=\"background-color:#e0e0e0 \">5.7992606</span> <span style=\"background-color:#DFFF00 \">8.239074</span> <span style=\"background-color:#9FE2BF \">12.550989</span>"
      ],
      "text/plain": [
       "<IPython.core.display.HTML object>"
      ]
     },
     "metadata": {},
     "output_type": "display_data"
    },
    {
     "data": {
      "text/html": [
       " Thank you for <span style=\"background-color:#9FE2BF \">holding</span><span style=\"background-color:#9FE2BF \"> ,</span> I 'm sorry that your mother hasn 't received the egift card , please <span style=\"background-color:#DFFF00 \">conform</span> the email that was sent ."
      ],
      "text/plain": [
       "<IPython.core.display.HTML object>"
      ]
     },
     "metadata": {},
     "output_type": "display_data"
    },
    {
     "data": {
      "text/html": [
       " Vielen Dank für das <span style=\"background-color:#9FE2BF \">Halten</span><span style=\"background-color:#9FE2BF \"> .</span><span style=\"background-color:#9FE2BF \"> Es</span> tut mir leid , dass Ihre Mutter die E-Gift-Karte nicht erhalten hat . Bitte <span style=\"background-color:#DFFF00 \">bestätigen</span> Sie die gesendete E-Mail ."
      ],
      "text/plain": [
       "<IPython.core.display.HTML object>"
      ]
     },
     "metadata": {},
     "output_type": "display_data"
    },
    {
     "name": "stdout",
     "output_type": "stream",
     "text": [
      "____________________________________60___________________________________________________\n",
      "['minor', 'minor', 'minor']\n",
      "\u001b[91m\u001b[1m😤  Minor\u001b[0m\n",
      "4.140534\n"
     ]
    },
    {
     "data": {
      "text/html": [
       " <span style=\"background-color:#e0e0e0 \">6.856227</span> <span style=\"background-color:#DFFF00 \">10.996761</span>"
      ],
      "text/plain": [
       "<IPython.core.display.HTML object>"
      ]
     },
     "metadata": {},
     "output_type": "display_data"
    },
    {
     "data": {
      "text/html": [
       " Thank you for holding , I 'm sorry that your mother hasn 't received the egift card , please <span style=\"background-color:#DFFF00 \">conform</span> the email that was sent ."
      ],
      "text/plain": [
       "<IPython.core.display.HTML object>"
      ]
     },
     "metadata": {},
     "output_type": "display_data"
    },
    {
     "data": {
      "text/html": [
       " Danke für Ihre Zusendung , es tut mir leid , dass Ihre Mutter die Karte nicht erhalten hat , bitte richten Sie sich <span style=\"background-color:#DFFF00 \">nach</span> der E-Mail , die gesendet wurde ."
      ],
      "text/plain": [
       "<IPython.core.display.HTML object>"
      ]
     },
     "metadata": {},
     "output_type": "display_data"
    },
    {
     "name": "stdout",
     "output_type": "stream",
     "text": [
      "____________________________________61___________________________________________________\n",
      "['No-error', 'No-error', 'No-error']\n",
      "\u001b[94m\u001b[1m🤓 OK\u001b[0m\n",
      "4.851059\n"
     ]
    },
    {
     "data": {
      "text/html": [
       " <span style=\"background-color:#e0e0e0 \">5.602566</span> <span style=\"background-color:#DFFF00 \">10.453625</span>"
      ],
      "text/plain": [
       "<IPython.core.display.HTML object>"
      ]
     },
     "metadata": {},
     "output_type": "display_data"
    },
    {
     "data": {
      "text/html": [
       " So that I can <span style=\"background-color:#DFFF00 \">assist</span> you can you please provide your account details ( Full Name , E-mail address , Postal Address and Order Number )"
      ],
      "text/plain": [
       "<IPython.core.display.HTML object>"
      ]
     },
     "metadata": {},
     "output_type": "display_data"
    },
    {
     "data": {
      "text/html": [
       " Damit ich Ihnen <span style=\"background-color:#DFFF00 \">helfen</span> kann , geben Sie bitte Ihre Kontodaten an ( vollständiger Name , E-Mail-Adresse , Postanschrift und Bestellnummer ) ."
      ],
      "text/plain": [
       "<IPython.core.display.HTML object>"
      ]
     },
     "metadata": {},
     "output_type": "display_data"
    },
    {
     "name": "stdout",
     "output_type": "stream",
     "text": [
      "____________________________________62___________________________________________________\n",
      "['major', 'minor', 'minor', 'minor']\n",
      "\u001b[91m\u001b[1m😤  Minor\u001b[0m\n",
      "1.7849180000000011\n"
     ]
    },
    {
     "data": {
      "text/html": [
       " <span style=\"background-color:#e0e0e0 \">8.48763</span> <span style=\"background-color:#DFFF00 \">10.272548</span>"
      ],
      "text/plain": [
       "<IPython.core.display.HTML object>"
      ]
     },
     "metadata": {},
     "output_type": "display_data"
    },
    {
     "data": {
      "text/html": [
       " <span style=\"background-color:#DFFF00 \">Bag</span> is made of Genuine Real Goat Leather ( Full Grain ) processed and tanned naturally with sunflower oil only ."
      ],
      "text/plain": [
       "<IPython.core.display.HTML object>"
      ]
     },
     "metadata": {},
     "output_type": "display_data"
    },
    {
     "data": {
      "text/html": [
       " <span style=\"background-color:#DFFF00 \">Die</span><span style=\"background-color:#DFFF00 \"> Tasche</span> besteht aus echtem Ziegenhaut ( Full Grain ) verarbeitet und natürlich nur mit Sonnenblumenöl verdünnt ."
      ],
      "text/plain": [
       "<IPython.core.display.HTML object>"
      ]
     },
     "metadata": {},
     "output_type": "display_data"
    },
    {
     "name": "stdout",
     "output_type": "stream",
     "text": [
      "____________________________________63___________________________________________________\n",
      "['No-error', 'No-error', 'No-error']\n",
      "\u001b[94m\u001b[1m🤓 OK\u001b[0m\n",
      "22.373781\n"
     ]
    },
    {
     "data": {
      "text/html": [
       " <span style=\"background-color:#e0e0e0 \">-12.027934</span> <span style=\"background-color:#DFFF00 \">3.2910154</span> <span style=\"background-color:#9FE2BF \">10.345847</span>"
      ],
      "text/plain": [
       "<IPython.core.display.HTML object>"
      ]
     },
     "metadata": {},
     "output_type": "display_data"
    },
    {
     "data": {
      "text/html": [
       " Yahya Sharif was found seriously injured in Coventry Road , Small Heath , just before <span style=\"background-color:#9FE2BF \">5.30pm</span> on Friday , <span style=\"background-color:#DFFF00 \">West</span><span style=\"background-color:#DFFF00 \"> Midlands</span><span style=\"background-color:#DFFF00 \"> Police</span><span style=\"background-color:#DFFF00 \"> said</span><span style=\"background-color:#DFFF00 \"> .</span>"
      ],
      "text/plain": [
       "<IPython.core.display.HTML object>"
      ]
     },
     "metadata": {},
     "output_type": "display_data"
    },
    {
     "data": {
      "text/html": [
       " Yahya Sharif wurde am Freitag kurz vor <span style=\"background-color:#9FE2BF \">17.30</span><span style=\"background-color:#9FE2BF \"> Uhr</span> in der Coventry Road , Small Heath , schwer verletzt aufgefunden , <span style=\"background-color:#DFFF00 \">teilte</span><span style=\"background-color:#DFFF00 \"> die</span><span style=\"background-color:#DFFF00 \"> West</span><span style=\"background-color:#DFFF00 \"> Midlands</span><span style=\"background-color:#DFFF00 \"> Police</span><span style=\"background-color:#DFFF00 \"> mit</span><span style=\"background-color:#DFFF00 \"> .</span>"
      ],
      "text/plain": [
       "<IPython.core.display.HTML object>"
      ]
     },
     "metadata": {},
     "output_type": "display_data"
    },
    {
     "name": "stdout",
     "output_type": "stream",
     "text": [
      "____________________________________64___________________________________________________\n",
      "['minor', 'minor', 'minor']\n",
      "\u001b[91m\u001b[1m😤  Minor\u001b[0m\n",
      "5.8541065\n"
     ]
    },
    {
     "data": {
      "text/html": [
       " <span style=\"background-color:#e0e0e0 \">6.7252765</span> <span style=\"background-color:#DFFF00 \">9.468722</span> <span style=\"background-color:#9FE2BF \">12.579383</span>"
      ],
      "text/plain": [
       "<IPython.core.display.HTML object>"
      ]
     },
     "metadata": {},
     "output_type": "display_data"
    },
    {
     "data": {
      "text/html": [
       " Thank you for <span style=\"background-color:#9FE2BF \">holding</span><span style=\"background-color:#9FE2BF \"> ,</span> I 'm sorry that your mother hasn 't received the egift card , please <span style=\"background-color:#DFFF00 \">conform</span> the email that was sent ."
      ],
      "text/plain": [
       "<IPython.core.display.HTML object>"
      ]
     },
     "metadata": {},
     "output_type": "display_data"
    },
    {
     "data": {
      "text/html": [
       " Vielen Dank für das <span style=\"background-color:#9FE2BF \">Halten</span><span style=\"background-color:#9FE2BF \"> ,</span> es tut mir leid , dass Ihre Mutter die egift-Karte nicht erhalten hat , bitte <span style=\"background-color:#DFFF00 \">passen</span> Sie die gesendete E-Mail an ."
      ],
      "text/plain": [
       "<IPython.core.display.HTML object>"
      ]
     },
     "metadata": {},
     "output_type": "display_data"
    },
    {
     "name": "stdout",
     "output_type": "stream",
     "text": [
      "____________________________________65___________________________________________________\n",
      "['No-error', 'No-error', 'No-error']\n",
      "\u001b[94m\u001b[1m🤓 OK\u001b[0m\n",
      "0.0\n"
     ]
    },
    {
     "data": {
      "text/html": [
       " <span style=\"background-color:#e0e0e0 \">10.87358</span>"
      ],
      "text/plain": [
       "<IPython.core.display.HTML object>"
      ]
     },
     "metadata": {},
     "output_type": "display_data"
    },
    {
     "data": {
      "text/html": [
       " It wasn 't , probably because I didn 't get exposed to a lot of the virus , but it was bad enough ."
      ],
      "text/plain": [
       "<IPython.core.display.HTML object>"
      ]
     },
     "metadata": {},
     "output_type": "display_data"
    },
    {
     "data": {
      "text/html": [
       " Das war es nicht , wahrscheinlich weil ich dem Virus nicht viel ausgesetzt war , aber es war schlimm genug ."
      ],
      "text/plain": [
       "<IPython.core.display.HTML object>"
      ]
     },
     "metadata": {},
     "output_type": "display_data"
    },
    {
     "name": "stdout",
     "output_type": "stream",
     "text": [
      "____________________________________66___________________________________________________\n",
      "['No-error', 'No-error', 'No-error']\n",
      "\u001b[94m\u001b[1m🤓 OK\u001b[0m\n",
      "4.8862097\n"
     ]
    },
    {
     "data": {
      "text/html": [
       " <span style=\"background-color:#e0e0e0 \">3.7780013</span> <span style=\"background-color:#DFFF00 \">8.664211</span>"
      ],
      "text/plain": [
       "<IPython.core.display.HTML object>"
      ]
     },
     "metadata": {},
     "output_type": "display_data"
    },
    {
     "data": {
      "text/html": [
       " Three or five <span style=\"background-color:#DFFF00 \">blade</span> razors irritate the skin much more and you need to press it hard against your skin to use them ."
      ],
      "text/plain": [
       "<IPython.core.display.HTML object>"
      ]
     },
     "metadata": {},
     "output_type": "display_data"
    },
    {
     "data": {
      "text/html": [
       " Rasierer mit drei oder fünf <span style=\"background-color:#DFFF00 \">Klingen</span> reizen die Haut viel mehr und Sie müssen sie fest gegen Ihre Haut drücken , um sie zu verwenden ."
      ],
      "text/plain": [
       "<IPython.core.display.HTML object>"
      ]
     },
     "metadata": {},
     "output_type": "display_data"
    },
    {
     "name": "stdout",
     "output_type": "stream",
     "text": [
      "____________________________________67___________________________________________________\n",
      "['major', 'major', 'major', 'major']\n",
      "['Accuracy/Source language fragment', 'Accuracy/Mistranslation', 'Accuracy/Mistranslation', 'Accuracy/Mistranslation']\n",
      "\u001b[91m\u001b[1m🤬  Major\u001b[0m\n",
      "5.551425699999999\n"
     ]
    },
    {
     "data": {
      "text/html": [
       " <span style=\"background-color:#e0e0e0 \">5.1261563</span> <span style=\"background-color:#DFFF00 \">8.69007</span> <span style=\"background-color:#9FE2BF \">10.677582</span>"
      ],
      "text/plain": [
       "<IPython.core.display.HTML object>"
      ]
     },
     "metadata": {},
     "output_type": "display_data"
    },
    {
     "data": {
      "text/html": [
       " Using Replaceable Standard Double Edge Blades just like the classic safety razor - <span style=\"background-color:#DFFF00 \">Meaning</span> you don 't have to worry about stropping and sharpening and yet enjoy the closeness <span style=\"background-color:#9FE2BF \">of</span><span style=\"background-color:#9FE2BF \"> a</span><span style=\"background-color:#9FE2BF \"> straight</span><span style=\"background-color:#9FE2BF \"> razor</span><span style=\"background-color:#9FE2BF \"> shave</span> !"
      ],
      "text/plain": [
       "<IPython.core.display.HTML object>"
      ]
     },
     "metadata": {},
     "output_type": "display_data"
    },
    {
     "data": {
      "text/html": [
       " Verwenden Sie austauschbare Standard Double Edge Blades wie den klassischen Rasierer - Das <span style=\"background-color:#DFFF00 \">bedeutet</span> , dass Sie sich keine Sorgen um das Streichen und Schärfen machen müssen und dennoch die Nähe <span style=\"background-color:#9FE2BF \">einer</span><span style=\"background-color:#9FE2BF \"> Rasur</span> genießen müssen !"
      ],
      "text/plain": [
       "<IPython.core.display.HTML object>"
      ]
     },
     "metadata": {},
     "output_type": "display_data"
    },
    {
     "name": "stdout",
     "output_type": "stream",
     "text": [
      "____________________________________68___________________________________________________\n",
      "['No-error', 'No-error', 'No-error', 'No-error', 'No-error', 'No-error']\n",
      "\u001b[94m\u001b[1m🤓 OK\u001b[0m\n",
      "12.314175500000001\n"
     ]
    },
    {
     "data": {
      "text/html": [
       " <span style=\"background-color:#e0e0e0 \">-1.1952875</span> <span style=\"background-color:#DFFF00 \">9.69202</span> <span style=\"background-color:#9FE2BF \">11.118888</span>"
      ],
      "text/plain": [
       "<IPython.core.display.HTML object>"
      ]
     },
     "metadata": {},
     "output_type": "display_data"
    },
    {
     "data": {
      "text/html": [
       " Therefore , this shaving product is so great and often <span style=\"background-color:#DFFF00 \">using</span> for better skin care products than the <span style=\"background-color:#9FE2BF \">average</span> shaver ."
      ],
      "text/plain": [
       "<IPython.core.display.HTML object>"
      ]
     },
     "metadata": {},
     "output_type": "display_data"
    },
    {
     "data": {
      "text/html": [
       " Daher ist dieses Rasierprodukt so großartig und wird oft für bessere Hautpflegeprodukte <span style=\"background-color:#DFFF00 \">verwendet</span> als der <span style=\"background-color:#9FE2BF \">durchschnittliche</span> Rasierer ."
      ],
      "text/plain": [
       "<IPython.core.display.HTML object>"
      ]
     },
     "metadata": {},
     "output_type": "display_data"
    },
    {
     "name": "stdout",
     "output_type": "stream",
     "text": [
      "____________________________________69___________________________________________________\n",
      "['major', 'major', 'major', 'major', 'major', 'major']\n",
      "['Accuracy/Source language fragment', 'Accuracy/Mistranslation', 'Accuracy/Mistranslation', 'Accuracy/Mistranslation', 'Accuracy/Source language fragment', 'Accuracy/Mistranslation']\n",
      "\u001b[91m\u001b[1m🤬  Major\u001b[0m\n",
      "2.7523359999999997\n"
     ]
    },
    {
     "data": {
      "text/html": [
       " <span style=\"background-color:#e0e0e0 \">9.287527</span> <span style=\"background-color:#DFFF00 \">12.039863</span>"
      ],
      "text/plain": [
       "<IPython.core.display.HTML object>"
      ]
     },
     "metadata": {},
     "output_type": "display_data"
    },
    {
     "data": {
      "text/html": [
       " The quilted top <span style=\"background-color:#DFFF00 \">of</span><span style=\"background-color:#DFFF00 \"> the</span><span style=\"background-color:#DFFF00 \"> bag</span> is tailored , pleated , and fitted with a drawcord so it pulls into shape , rather like a jacket hood ."
      ],
      "text/plain": [
       "<IPython.core.display.HTML object>"
      ]
     },
     "metadata": {},
     "output_type": "display_data"
    },
    {
     "data": {
      "text/html": [
       " Die quilted Spitze <span style=\"background-color:#DFFF00 \">der</span><span style=\"background-color:#DFFF00 \"> Tasche</span> ist maßgeschneidert , gepflastert und mit einem Drawcord ausgestattet , so dass es in Form zieht , eher wie eine Jacke ."
      ],
      "text/plain": [
       "<IPython.core.display.HTML object>"
      ]
     },
     "metadata": {},
     "output_type": "display_data"
    },
    {
     "name": "stdout",
     "output_type": "stream",
     "text": [
      "____________________________________70___________________________________________________\n",
      "['No-error', 'No-error', 'No-error']\n",
      "\u001b[94m\u001b[1m🤓 OK\u001b[0m\n",
      "0.0\n"
     ]
    },
    {
     "data": {
      "text/html": [
       " <span style=\"background-color:#e0e0e0 \">13.858445</span>"
      ],
      "text/plain": [
       "<IPython.core.display.HTML object>"
      ]
     },
     "metadata": {},
     "output_type": "display_data"
    },
    {
     "data": {
      "text/html": [
       " The group said its members were \" exasperated \" by the news of only 23 new licenses and felt \" betrayed \" by the European Commission , which could launch legal action against Britain over the issue ."
      ],
      "text/plain": [
       "<IPython.core.display.HTML object>"
      ]
     },
     "metadata": {},
     "output_type": "display_data"
    },
    {
     "data": {
      "text/html": [
       " Die Gruppe sagte , ihre Mitglieder seien \" verärgert \" über die Nachricht von nur 23 neuen Lizenzen und fühlten sich von der Europäischen Kommission \" verraten \" , die wegen dieser Angelegenheit rechtliche Schritte gegen Großbritannien einleiten könnte ."
      ],
      "text/plain": [
       "<IPython.core.display.HTML object>"
      ]
     },
     "metadata": {},
     "output_type": "display_data"
    },
    {
     "name": "stdout",
     "output_type": "stream",
     "text": [
      "____________________________________71___________________________________________________\n",
      "['No-error', 'No-error', 'No-error', 'No-error', 'No-error', 'No-error']\n",
      "\u001b[94m\u001b[1m🤓 OK\u001b[0m\n",
      "3.5309397999999996\n"
     ]
    },
    {
     "data": {
      "text/html": [
       " <span style=\"background-color:#e0e0e0 \">3.9314387</span> <span style=\"background-color:#DFFF00 \">7.4623785</span>"
      ],
      "text/plain": [
       "<IPython.core.display.HTML object>"
      ]
     },
     "metadata": {},
     "output_type": "display_data"
    },
    {
     "data": {
      "text/html": [
       " We currently do not have the exact information on what happened to the rider as <span style=\"background-color:#DFFF00 \">well</span> as to your order ."
      ],
      "text/plain": [
       "<IPython.core.display.HTML object>"
      ]
     },
     "metadata": {},
     "output_type": "display_data"
    },
    {
     "data": {
      "text/html": [
       " Wir haben derzeit keine genauen Informationen darüber , was mit dem Fahrer <span style=\"background-color:#DFFF00 \">und</span> Ihrer Bestellung passiert ist ."
      ],
      "text/plain": [
       "<IPython.core.display.HTML object>"
      ]
     },
     "metadata": {},
     "output_type": "display_data"
    },
    {
     "name": "stdout",
     "output_type": "stream",
     "text": [
      "____________________________________72___________________________________________________\n",
      "['No-error', 'No-error', 'No-error', 'No-error', 'No-error']\n",
      "\u001b[94m\u001b[1m🤓 OK\u001b[0m\n",
      "5.709995000000001\n"
     ]
    },
    {
     "data": {
      "text/html": [
       " <span style=\"background-color:#e0e0e0 \">5.068273</span> <span style=\"background-color:#DFFF00 \">10.778268</span>"
      ],
      "text/plain": [
       "<IPython.core.display.HTML object>"
      ]
     },
     "metadata": {},
     "output_type": "display_data"
    },
    {
     "data": {
      "text/html": [
       " I often have customers ask where an <span style=\"background-color:#DFFF00 \">item</span> is and they ask in the form of a greeting + question , or just a question ."
      ],
      "text/plain": [
       "<IPython.core.display.HTML object>"
      ]
     },
     "metadata": {},
     "output_type": "display_data"
    },
    {
     "data": {
      "text/html": [
       " Ich habe oft Kunden , die fragen , wo sich ein <span style=\"background-color:#DFFF00 \">Artikel</span> befindet , und sie fragen in Form einer Begrüßung + Frage oder nur einer Frage ."
      ],
      "text/plain": [
       "<IPython.core.display.HTML object>"
      ]
     },
     "metadata": {},
     "output_type": "display_data"
    },
    {
     "name": "stdout",
     "output_type": "stream",
     "text": [
      "____________________________________73___________________________________________________\n",
      "['major', 'major', 'major', 'major', 'major']\n",
      "['Accuracy/Mistranslation', 'Accuracy/Mistranslation', 'Accuracy/Mistranslation', 'Accuracy/Mistranslation', 'Accuracy/Mistranslation']\n",
      "\u001b[91m\u001b[1m🤬  Major\u001b[0m\n",
      "0.0\n"
     ]
    },
    {
     "data": {
      "text/html": [
       " <span style=\"background-color:#e0e0e0 \">7.3380165</span>"
      ],
      "text/plain": [
       "<IPython.core.display.HTML object>"
      ]
     },
     "metadata": {},
     "output_type": "display_data"
    },
    {
     "data": {
      "text/html": [
       " It 's hard to get to so I 'm leaving it at that temp and calling it a day ."
      ],
      "text/plain": [
       "<IPython.core.display.HTML object>"
      ]
     },
     "metadata": {},
     "output_type": "display_data"
    },
    {
     "data": {
      "text/html": [
       " Es ist schwer zu erreichen , also lasse ich es bei dieser Temperatur und nenne es einen Tag ."
      ],
      "text/plain": [
       "<IPython.core.display.HTML object>"
      ]
     },
     "metadata": {},
     "output_type": "display_data"
    },
    {
     "name": "stdout",
     "output_type": "stream",
     "text": [
      "____________________________________74___________________________________________________\n",
      "['major', 'major', 'major']\n",
      "['Accuracy/Mistranslation', 'Accuracy/Mistranslation', 'Accuracy/Mistranslation']\n",
      "\u001b[91m\u001b[1m🤬  Major\u001b[0m\n",
      "3.030945000000001\n"
     ]
    },
    {
     "data": {
      "text/html": [
       " <span style=\"background-color:#e0e0e0 \">8.281894</span> <span style=\"background-color:#DFFF00 \">11.312839</span>"
      ],
      "text/plain": [
       "<IPython.core.display.HTML object>"
      ]
     },
     "metadata": {},
     "output_type": "display_data"
    },
    {
     "data": {
      "text/html": [
       " Other families <span style=\"background-color:#DFFF00 \">get</span><span style=\"background-color:#DFFF00 \"> two</span> trees so children can decorate one as gaudily as they like , providing a place for any home-made masterpieces , while leaving a more elegantly garlanded fir on more prominent display to impress the neighbours ."
      ],
      "text/plain": [
       "<IPython.core.display.HTML object>"
      ]
     },
     "metadata": {},
     "output_type": "display_data"
    },
    {
     "data": {
      "text/html": [
       " Andere Familien <span style=\"background-color:#DFFF00 \">bekommen</span><span style=\"background-color:#DFFF00 \"> zwei</span> Bäume , damit die Kinder einen so prächtig schmücken können , wie sie möchten , einen Platz für alle hausgemachten Meisterwerke bieten , während sie eine elegantere , mit Girlanden geschmückte Tanne auf einer prominenteren Ausstellung hinterlassen , um die Nachbarn zu beeindrucken ."
      ],
      "text/plain": [
       "<IPython.core.display.HTML object>"
      ]
     },
     "metadata": {},
     "output_type": "display_data"
    },
    {
     "name": "stdout",
     "output_type": "stream",
     "text": [
      "____________________________________75___________________________________________________\n",
      "['major', 'major', 'major']\n",
      "['Accuracy/Mistranslation', 'Accuracy/Mistranslation', 'Accuracy/Mistranslation']\n",
      "\u001b[91m\u001b[1m🤬  Major\u001b[0m\n",
      "0.0\n"
     ]
    },
    {
     "data": {
      "text/html": [
       " <span style=\"background-color:#e0e0e0 \">10.017744</span>"
      ],
      "text/plain": [
       "<IPython.core.display.HTML object>"
      ]
     },
     "metadata": {},
     "output_type": "display_data"
    },
    {
     "data": {
      "text/html": [
       " I pointed where I believed it would be located , and said that I thought it should be there but it looks like we were out of it ."
      ],
      "text/plain": [
       "<IPython.core.display.HTML object>"
      ]
     },
     "metadata": {},
     "output_type": "display_data"
    },
    {
     "data": {
      "text/html": [
       " Ich zeigte , wo ich glaubte , dass es sich befinden würde , und sagte , dass ich dachte , dass es dort sein sollte , aber es sieht so aus , als wären wir draußen ."
      ],
      "text/plain": [
       "<IPython.core.display.HTML object>"
      ]
     },
     "metadata": {},
     "output_type": "display_data"
    },
    {
     "name": "stdout",
     "output_type": "stream",
     "text": [
      "____________________________________76___________________________________________________\n",
      "['major', 'major', 'major']\n",
      "['Accuracy/Mistranslation', 'Accuracy/Mistranslation', 'Accuracy/Mistranslation']\n",
      "\u001b[91m\u001b[1m🤬  Major\u001b[0m\n",
      "0.0\n"
     ]
    },
    {
     "data": {
      "text/html": [
       " <span style=\"background-color:#e0e0e0 \">13.819943</span>"
      ],
      "text/plain": [
       "<IPython.core.display.HTML object>"
      ]
     },
     "metadata": {},
     "output_type": "display_data"
    },
    {
     "data": {
      "text/html": [
       " He then said \" hello ? \" again , in a rude tone , and asked if I worked here angrily ."
      ],
      "text/plain": [
       "<IPython.core.display.HTML object>"
      ]
     },
     "metadata": {},
     "output_type": "display_data"
    },
    {
     "data": {
      "text/html": [
       " Dann sagte er wieder \" Hallo ? \" , in einem unhöflichen Ton , und fragte , ob ich hier wütend arbeite ."
      ],
      "text/plain": [
       "<IPython.core.display.HTML object>"
      ]
     },
     "metadata": {},
     "output_type": "display_data"
    },
    {
     "name": "stdout",
     "output_type": "stream",
     "text": [
      "____________________________________77___________________________________________________\n",
      "['major', 'major', 'major']\n",
      "['Accuracy/Mistranslation', 'Accuracy/Mistranslation', 'Accuracy/Mistranslation']\n",
      "\u001b[91m\u001b[1m🤬  Major\u001b[0m\n",
      "5.1196194\n"
     ]
    },
    {
     "data": {
      "text/html": [
       " <span style=\"background-color:#e0e0e0 \">5.1512156</span> <span style=\"background-color:#DFFF00 \">10.270835</span>"
      ],
      "text/plain": [
       "<IPython.core.display.HTML object>"
      ]
     },
     "metadata": {},
     "output_type": "display_data"
    },
    {
     "data": {
      "text/html": [
       " I pointed where I believed it would be located , and said that I thought it should be there but it looks like we were out <span style=\"background-color:#DFFF00 \">of</span><span style=\"background-color:#DFFF00 \"> it</span> ."
      ],
      "text/plain": [
       "<IPython.core.display.HTML object>"
      ]
     },
     "metadata": {},
     "output_type": "display_data"
    },
    {
     "data": {
      "text/html": [
       " Ich zeigte , wo es meiner Meinung nach liegen würde und sagte , dass ich dachte , dass es dort sein sollte , aber es sieht so aus , als wären wir aus <span style=\"background-color:#DFFF00 \">dem</span><span style=\"background-color:#DFFF00 \"> Gebäude</span><span style=\"background-color:#DFFF00 \"> raus</span> ."
      ],
      "text/plain": [
       "<IPython.core.display.HTML object>"
      ]
     },
     "metadata": {},
     "output_type": "display_data"
    },
    {
     "name": "stdout",
     "output_type": "stream",
     "text": [
      "____________________________________78___________________________________________________\n",
      "['major', 'major', 'major']\n",
      "['Accuracy/Mistranslation', 'Accuracy/Mistranslation', 'Accuracy/Mistranslation']\n",
      "\u001b[91m\u001b[1m🤬  Major\u001b[0m\n",
      "5.197727999999999\n"
     ]
    },
    {
     "data": {
      "text/html": [
       " <span style=\"background-color:#e0e0e0 \">6.199544</span> <span style=\"background-color:#DFFF00 \">8.710592</span> <span style=\"background-color:#9FE2BF \">11.397272</span>"
      ],
      "text/plain": [
       "<IPython.core.display.HTML object>"
      ]
     },
     "metadata": {},
     "output_type": "display_data"
    },
    {
     "data": {
      "text/html": [
       " The quilted <span style=\"background-color:#DFFF00 \">top</span><span style=\"background-color:#DFFF00 \"> of</span><span style=\"background-color:#DFFF00 \"> the</span><span style=\"background-color:#DFFF00 \"> bag</span><span style=\"background-color:#DFFF00 \"> is</span> tailored , pleated , and fitted with a drawcord so it pulls into shape <span style=\"background-color:#9FE2BF \">,</span><span style=\"background-color:#9FE2BF \"> rather</span> like a jacket hood ."
      ],
      "text/plain": [
       "<IPython.core.display.HTML object>"
      ]
     },
     "metadata": {},
     "output_type": "display_data"
    },
    {
     "data": {
      "text/html": [
       " Die gesteppte <span style=\"background-color:#DFFF00 \">Oberseite</span><span style=\"background-color:#DFFF00 \"> der</span><span style=\"background-color:#DFFF00 \"> Tasche</span><span style=\"background-color:#DFFF00 \"> ist</span> maßgefertigt , gefaltet und mit einem Kordelzug versehen <span style=\"background-color:#9FE2BF \">,</span> so dass sie sich wie eine Jackenkapuze in Form zieht ."
      ],
      "text/plain": [
       "<IPython.core.display.HTML object>"
      ]
     },
     "metadata": {},
     "output_type": "display_data"
    },
    {
     "name": "stdout",
     "output_type": "stream",
     "text": [
      "____________________________________79___________________________________________________\n",
      "['major', 'major', 'major', 'major']\n",
      "['Accuracy/Mistranslation', 'Accuracy/Mistranslation', 'Accuracy/Mistranslation', 'Accuracy/Mistranslation']\n",
      "\u001b[91m\u001b[1m🤬  Major\u001b[0m\n",
      "4.327065\n"
     ]
    },
    {
     "data": {
      "text/html": [
       " <span style=\"background-color:#e0e0e0 \">6.627819</span> <span style=\"background-color:#DFFF00 \">10.954884</span>"
      ],
      "text/plain": [
       "<IPython.core.display.HTML object>"
      ]
     },
     "metadata": {},
     "output_type": "display_data"
    },
    {
     "data": {
      "text/html": [
       " It 's not a coincidence the civil rights movement was very much intertwined with minority churches , masjid , <span style=\"background-color:#DFFF00 \">&</span> temples ."
      ],
      "text/plain": [
       "<IPython.core.display.HTML object>"
      ]
     },
     "metadata": {},
     "output_type": "display_data"
    },
    {
     "data": {
      "text/html": [
       " Es ist kein Zufall , dass die Bürgerrechtsbewegung sehr stark mit Minderheitenkirchen , Masjid <span style=\"background-color:#DFFF00 \">und</span> Tempeln verflochten war ."
      ],
      "text/plain": [
       "<IPython.core.display.HTML object>"
      ]
     },
     "metadata": {},
     "output_type": "display_data"
    },
    {
     "name": "stdout",
     "output_type": "stream",
     "text": [
      "____________________________________80___________________________________________________\n",
      "['major', 'major', 'major', 'major']\n",
      "['Accuracy/Mistranslation', 'Accuracy/Mistranslation', 'Accuracy/Mistranslation', 'Accuracy/Mistranslation']\n",
      "\u001b[91m\u001b[1m🤬  Major\u001b[0m\n",
      "0.0\n"
     ]
    },
    {
     "data": {
      "text/html": [
       " <span style=\"background-color:#e0e0e0 \">11.201138</span>"
      ],
      "text/plain": [
       "<IPython.core.display.HTML object>"
      ]
     },
     "metadata": {},
     "output_type": "display_data"
    },
    {
     "data": {
      "text/html": [
       " Other families get two trees so children can decorate one as gaudily as they like , providing a place for any home-made masterpieces , while leaving a more elegantly garlanded fir on more prominent display to impress the neighbours ."
      ],
      "text/plain": [
       "<IPython.core.display.HTML object>"
      ]
     },
     "metadata": {},
     "output_type": "display_data"
    },
    {
     "data": {
      "text/html": [
       " Andere Familien bekommen zwei Bäume , damit Kinder einen so gaudily dekorieren können , wie sie möchten , einen Platz für alle hausgemachten Meisterwerke zur Verfügung stellend , während eine elegantere garlanded Tanne auf prominenterem Display gelassen wird , um die Nachbarn zu beeindrucken ."
      ],
      "text/plain": [
       "<IPython.core.display.HTML object>"
      ]
     },
     "metadata": {},
     "output_type": "display_data"
    },
    {
     "name": "stdout",
     "output_type": "stream",
     "text": [
      "____________________________________81___________________________________________________\n",
      "['major', 'major', 'major', 'major', 'major']\n",
      "['Accuracy/Mistranslation', 'Accuracy/Mistranslation', 'Accuracy/Mistranslation', 'Accuracy/Mistranslation', 'Accuracy/Mistranslation']\n",
      "\u001b[91m\u001b[1m🤬  Major\u001b[0m\n",
      "2.1340674999999987\n"
     ]
    },
    {
     "data": {
      "text/html": [
       " <span style=\"background-color:#e0e0e0 \">8.571929</span> <span style=\"background-color:#DFFF00 \">10.7059965</span>"
      ],
      "text/plain": [
       "<IPython.core.display.HTML object>"
      ]
     },
     "metadata": {},
     "output_type": "display_data"
    },
    {
     "data": {
      "text/html": [
       " Other families get two trees so children can decorate one as gaudily as they like , providing a place for any home-made masterpieces , while leaving a more elegantly garlanded fir on <span style=\"background-color:#DFFF00 \">more</span><span style=\"background-color:#DFFF00 \"> prominent</span> display to impress the neighbours ."
      ],
      "text/plain": [
       "<IPython.core.display.HTML object>"
      ]
     },
     "metadata": {},
     "output_type": "display_data"
    },
    {
     "data": {
      "text/html": [
       " Andere Familien erhalten zwei Bäume , so dass Kinder einen so gut dekorieren können , wie sie wollen , und einen Platz für alle hausgemachten Meisterwerke bieten , während sie einen eleganteren , gepflasterten Faden auf <span style=\"background-color:#DFFF00 \">einem</span><span style=\"background-color:#DFFF00 \"> prominenten</span> Display hinterlassen , um die Nachbarn zu beeindrucken ."
      ],
      "text/plain": [
       "<IPython.core.display.HTML object>"
      ]
     },
     "metadata": {},
     "output_type": "display_data"
    },
    {
     "name": "stdout",
     "output_type": "stream",
     "text": [
      "____________________________________82___________________________________________________\n",
      "['No-error', 'No-error', 'No-error']\n",
      "\u001b[94m\u001b[1m🤓 OK\u001b[0m\n",
      "1.2797959999999993\n"
     ]
    },
    {
     "data": {
      "text/html": [
       " <span style=\"background-color:#e0e0e0 \">9.841459</span> <span style=\"background-color:#DFFF00 \">11.121255</span>"
      ],
      "text/plain": [
       "<IPython.core.display.HTML object>"
      ]
     },
     "metadata": {},
     "output_type": "display_data"
    },
    {
     "data": {
      "text/html": [
       " It 's not a coincidence the civil rights movement was very much intertwined with minority churches , masjid , <span style=\"background-color:#DFFF00 \">&</span> temples ."
      ],
      "text/plain": [
       "<IPython.core.display.HTML object>"
      ]
     },
     "metadata": {},
     "output_type": "display_data"
    },
    {
     "data": {
      "text/html": [
       " Es ist kein Zufall , dass die Bürgerrechtsbewegung sehr stark mit Minderheitenkirchen , Moscheen <span style=\"background-color:#DFFF00 \">und</span> Tempeln verflochten war ."
      ],
      "text/plain": [
       "<IPython.core.display.HTML object>"
      ]
     },
     "metadata": {},
     "output_type": "display_data"
    },
    {
     "name": "stdout",
     "output_type": "stream",
     "text": [
      "____________________________________83___________________________________________________\n",
      "['major', 'major', 'major', 'major', 'major', 'major']\n",
      "['Accuracy/Source language fragment', 'Accuracy/Source language fragment', 'Accuracy/Source language fragment', 'Accuracy/Source language fragment', 'Accuracy/Source language fragment', 'Accuracy/Source language fragment']\n",
      "\u001b[91m\u001b[1m🤬  Major\u001b[0m\n",
      "0.0\n"
     ]
    },
    {
     "data": {
      "text/html": [
       " <span style=\"background-color:#e0e0e0 \">13.819656</span>"
      ],
      "text/plain": [
       "<IPython.core.display.HTML object>"
      ]
     },
     "metadata": {},
     "output_type": "display_data"
    },
    {
     "data": {
      "text/html": [
       " \" The internet 's on fire right now , \" said Adam Meyers , senior vice president of intelligence at the cybersecurity firm Crowdstrike ."
      ],
      "text/plain": [
       "<IPython.core.display.HTML object>"
      ]
     },
     "metadata": {},
     "output_type": "display_data"
    },
    {
     "data": {
      "text/html": [
       " \" Das Internet brennt gerade \" , sagte Adam Meyers , Senior Vice President of Intelligence bei der Cybersicherheitsfirma Crowdstrike ."
      ],
      "text/plain": [
       "<IPython.core.display.HTML object>"
      ]
     },
     "metadata": {},
     "output_type": "display_data"
    },
    {
     "name": "stdout",
     "output_type": "stream",
     "text": [
      "____________________________________84___________________________________________________\n",
      "['major', 'major', 'major']\n",
      "['Accuracy/Mistranslation', 'Accuracy/Mistranslation', 'Accuracy/Mistranslation']\n",
      "\u001b[91m\u001b[1m🤬  Major\u001b[0m\n",
      "2.7412995000000002\n"
     ]
    },
    {
     "data": {
      "text/html": [
       " <span style=\"background-color:#e0e0e0 \">8.527671</span> <span style=\"background-color:#DFFF00 \">11.2689705</span>"
      ],
      "text/plain": [
       "<IPython.core.display.HTML object>"
      ]
     },
     "metadata": {},
     "output_type": "display_data"
    },
    {
     "data": {
      "text/html": [
       " Unless it is fixed , it grants criminals , spies and <span style=\"background-color:#DFFF00 \">programming</span><span style=\"background-color:#DFFF00 \"> novices</span> alike easy access to internal networks where they can loot valuable data , plant malware , erase crucial information and much more ."
      ],
      "text/plain": [
       "<IPython.core.display.HTML object>"
      ]
     },
     "metadata": {},
     "output_type": "display_data"
    },
    {
     "data": {
      "text/html": [
       " Es sei denn , es ist festgelegt , es gewährt Kriminellen , Spione und <span style=\"background-color:#DFFF00 \">Programmierer</span> Anfänger gleichermaßen einfachen Zugang zu internen Netzwerken , wo sie wertvolle Daten plündern können , Malware , löschen wichtige Informationen und vieles mehr ."
      ],
      "text/plain": [
       "<IPython.core.display.HTML object>"
      ]
     },
     "metadata": {},
     "output_type": "display_data"
    },
    {
     "name": "stdout",
     "output_type": "stream",
     "text": [
      "____________________________________85___________________________________________________\n",
      "['major', 'major', 'major']\n",
      "['Accuracy/Mistranslation', 'Accuracy/Mistranslation', 'Accuracy/Mistranslation']\n",
      "\u001b[91m\u001b[1m🤬  Major\u001b[0m\n",
      "3.2409846999999994\n"
     ]
    },
    {
     "data": {
      "text/html": [
       " <span style=\"background-color:#e0e0e0 \">7.9396133</span> <span style=\"background-color:#DFFF00 \">11.180598</span>"
      ],
      "text/plain": [
       "<IPython.core.display.HTML object>"
      ]
     },
     "metadata": {},
     "output_type": "display_data"
    },
    {
     "data": {
      "text/html": [
       " Other families get two trees so children can decorate one as gaudily as they like , providing a place for any home-made masterpieces , while leaving a more elegantly garlanded fir on <span style=\"background-color:#DFFF00 \">more</span><span style=\"background-color:#DFFF00 \"> prominent</span> display to impress the neighbours ."
      ],
      "text/plain": [
       "<IPython.core.display.HTML object>"
      ]
     },
     "metadata": {},
     "output_type": "display_data"
    },
    {
     "data": {
      "text/html": [
       " Andere Familien bekommen zwei Bäume , damit Kinder einen so gauditiv schmücken können , wie sie möchten , und einen Platz für hausgemachte Meisterwerke bieten , während sie eine elegantere Tannen auf <span style=\"background-color:#DFFF00 \">einer</span><span style=\"background-color:#DFFF00 \"> prominenteren</span> Ausstellung hinterlassen , um die Nachbarn zu beeindrucken ."
      ],
      "text/plain": [
       "<IPython.core.display.HTML object>"
      ]
     },
     "metadata": {},
     "output_type": "display_data"
    },
    {
     "name": "stdout",
     "output_type": "stream",
     "text": [
      "____________________________________86___________________________________________________\n",
      "['No-error', 'No-error', 'No-error']\n",
      "\u001b[94m\u001b[1m🤓 OK\u001b[0m\n",
      "2.1595639999999996\n"
     ]
    },
    {
     "data": {
      "text/html": [
       " <span style=\"background-color:#e0e0e0 \">8.196377</span> <span style=\"background-color:#DFFF00 \">10.355941</span>"
      ],
      "text/plain": [
       "<IPython.core.display.HTML object>"
      ]
     },
     "metadata": {},
     "output_type": "display_data"
    },
    {
     "data": {
      "text/html": [
       " - Turn on your computer and connect the <span style=\"background-color:#DFFF00 \">included</span> USB power cord to your computer first , and then your eReader ."
      ],
      "text/plain": [
       "<IPython.core.display.HTML object>"
      ]
     },
     "metadata": {},
     "output_type": "display_data"
    },
    {
     "data": {
      "text/html": [
       " - Schalten Sie Ihren Computer ein und schließen Sie zuerst das <span style=\"background-color:#DFFF00 \">mitgelieferte</span> USB-Netzkabel an Ihren Computer und dann an Ihren eReader an ."
      ],
      "text/plain": [
       "<IPython.core.display.HTML object>"
      ]
     },
     "metadata": {},
     "output_type": "display_data"
    },
    {
     "name": "stdout",
     "output_type": "stream",
     "text": [
      "____________________________________87___________________________________________________\n",
      "['No-error', 'No-error', 'No-error']\n",
      "\u001b[94m\u001b[1m🤓 OK\u001b[0m\n",
      "1.8862740000000002\n"
     ]
    },
    {
     "data": {
      "text/html": [
       " <span style=\"background-color:#e0e0e0 \">8.479254</span> <span style=\"background-color:#DFFF00 \">10.365528</span>"
      ],
      "text/plain": [
       "<IPython.core.display.HTML object>"
      ]
     },
     "metadata": {},
     "output_type": "display_data"
    },
    {
     "data": {
      "text/html": [
       " - Plug the wall charger ( not included ) to a power outlet , and then <span style=\"background-color:#DFFF00 \">connect</span> your eReader to the wall charger ."
      ],
      "text/plain": [
       "<IPython.core.display.HTML object>"
      ]
     },
     "metadata": {},
     "output_type": "display_data"
    },
    {
     "data": {
      "text/html": [
       " - Schließen Sie das Ladegerät ( nicht im Lieferumfang enthalten ) an eine Steckdose an und <span style=\"background-color:#DFFF00 \">schließen</span><span style=\"background-color:#DFFF00 \"> Sie</span> dann Ihren eReader an das Ladegerät an ."
      ],
      "text/plain": [
       "<IPython.core.display.HTML object>"
      ]
     },
     "metadata": {},
     "output_type": "display_data"
    },
    {
     "name": "stdout",
     "output_type": "stream",
     "text": [
      "____________________________________88___________________________________________________\n",
      "['major', 'major', 'major', 'major']\n",
      "['Accuracy/Mistranslation', 'Accuracy/Mistranslation', 'Accuracy/Mistranslation', 'Accuracy/Mistranslation']\n",
      "\u001b[91m\u001b[1m🤬  Major\u001b[0m\n",
      "0.0\n"
     ]
    },
    {
     "data": {
      "text/html": [
       " <span style=\"background-color:#e0e0e0 \">8.2485895</span>"
      ],
      "text/plain": [
       "<IPython.core.display.HTML object>"
      ]
     },
     "metadata": {},
     "output_type": "display_data"
    },
    {
     "data": {
      "text/html": [
       " The quilted top of the bag is tailored , pleated , and fitted with a drawcord so it pulls into shape , rather like a jacket hood ."
      ],
      "text/plain": [
       "<IPython.core.display.HTML object>"
      ]
     },
     "metadata": {},
     "output_type": "display_data"
    },
    {
     "data": {
      "text/html": [
       " Die aufgehobene Oberseite der Tasche ist maßgeschneidert , gefleht und mit einem Zugkabel ausgestattet , so dass sie in Form kommt , ähnlich wie eine Jacke Kapuze ."
      ],
      "text/plain": [
       "<IPython.core.display.HTML object>"
      ]
     },
     "metadata": {},
     "output_type": "display_data"
    },
    {
     "name": "stdout",
     "output_type": "stream",
     "text": [
      "____________________________________89___________________________________________________\n",
      "['No-error', 'No-error', 'No-error', 'No-error']\n",
      "\u001b[94m\u001b[1m🤓 OK\u001b[0m\n",
      "1.0047599999999992\n"
     ]
    },
    {
     "data": {
      "text/html": [
       " <span style=\"background-color:#e0e0e0 \">8.92502</span> <span style=\"background-color:#DFFF00 \">9.92978</span>"
      ],
      "text/plain": [
       "<IPython.core.display.HTML object>"
      ]
     },
     "metadata": {},
     "output_type": "display_data"
    },
    {
     "data": {
      "text/html": [
       " - Plug the wall charger ( not included ) <span style=\"background-color:#DFFF00 \">to</span> a power outlet , and then connect your eReader to the wall charger ."
      ],
      "text/plain": [
       "<IPython.core.display.HTML object>"
      ]
     },
     "metadata": {},
     "output_type": "display_data"
    },
    {
     "data": {
      "text/html": [
       " - Schließen Sie das Wandladegerät ( nicht im Lieferumfang enthalten ) <span style=\"background-color:#DFFF00 \">an</span> eine Steckdose an und verbinden Sie dann Ihren eReader mit dem Wandladegerät ."
      ],
      "text/plain": [
       "<IPython.core.display.HTML object>"
      ]
     },
     "metadata": {},
     "output_type": "display_data"
    },
    {
     "name": "stdout",
     "output_type": "stream",
     "text": [
      "____________________________________90___________________________________________________\n",
      "['No-error', 'No-error', 'No-error']\n",
      "\u001b[94m\u001b[1m🤓 OK\u001b[0m\n",
      "4.12895\n"
     ]
    },
    {
     "data": {
      "text/html": [
       " <span style=\"background-color:#e0e0e0 \">7.497646</span> <span style=\"background-color:#DFFF00 \">11.626596</span>"
      ],
      "text/plain": [
       "<IPython.core.display.HTML object>"
      ]
     },
     "metadata": {},
     "output_type": "display_data"
    },
    {
     "data": {
      "text/html": [
       " - Turn on your computer and connect <span style=\"background-color:#DFFF00 \">the</span><span style=\"background-color:#DFFF00 \"> included</span><span style=\"background-color:#DFFF00 \"> USB</span><span style=\"background-color:#DFFF00 \"> power</span><span style=\"background-color:#DFFF00 \"> cord</span> to your computer first , and then your eReader ."
      ],
      "text/plain": [
       "<IPython.core.display.HTML object>"
      ]
     },
     "metadata": {},
     "output_type": "display_data"
    },
    {
     "data": {
      "text/html": [
       " - Schalten Sie Ihren Computer ein und schließen <span style=\"background-color:#DFFF00 \">Sie</span><span style=\"background-color:#DFFF00 \"> das</span><span style=\"background-color:#DFFF00 \"> mitgelieferte</span><span style=\"background-color:#DFFF00 \"> USB-Netzkabel</span> zuerst an Ihren Computer und dann an Ihren eReader an ."
      ],
      "text/plain": [
       "<IPython.core.display.HTML object>"
      ]
     },
     "metadata": {},
     "output_type": "display_data"
    },
    {
     "name": "stdout",
     "output_type": "stream",
     "text": [
      "____________________________________91___________________________________________________\n",
      "['major', 'major', 'major']\n",
      "['Accuracy/Mistranslation', 'Accuracy/Mistranslation', 'Accuracy/Mistranslation']\n",
      "\u001b[91m\u001b[1m🤬  Major\u001b[0m\n",
      "0.0\n"
     ]
    },
    {
     "data": {
      "text/html": [
       " <span style=\"background-color:#e0e0e0 \">13.840711</span>"
      ],
      "text/plain": [
       "<IPython.core.display.HTML object>"
      ]
     },
     "metadata": {},
     "output_type": "display_data"
    },
    {
     "data": {
      "text/html": [
       " He said Friday morning that in the 12 hours since the bug 's existence was disclosed that it had been \" fully weaponised , \" meaning malefactors had developed and distributed tools to exploit it ."
      ],
      "text/plain": [
       "<IPython.core.display.HTML object>"
      ]
     },
     "metadata": {},
     "output_type": "display_data"
    },
    {
     "data": {
      "text/html": [
       " Er sagte am Freitagmorgen , dass in den 12 Stunden seit der Existenz des Käfers bekannt gegeben wurde , dass er \" vollständig bewaffnet \" war , was bedeutet , dass Übeltäter Werkzeuge entwickelt und verteilt hatten , um ihn auszubeuten ."
      ],
      "text/plain": [
       "<IPython.core.display.HTML object>"
      ]
     },
     "metadata": {},
     "output_type": "display_data"
    },
    {
     "name": "stdout",
     "output_type": "stream",
     "text": [
      "____________________________________92___________________________________________________\n",
      "['No-error', 'No-error', 'No-error']\n",
      "\u001b[94m\u001b[1m🤓 OK\u001b[0m\n",
      "0.0\n"
     ]
    },
    {
     "data": {
      "text/html": [
       " <span style=\"background-color:#e0e0e0 \">3.9479475</span>"
      ],
      "text/plain": [
       "<IPython.core.display.HTML object>"
      ]
     },
     "metadata": {},
     "output_type": "display_data"
    },
    {
     "data": {
      "text/html": [
       " Press and hold the power button until the power light on the top-right corner of your eReader turns off ."
      ],
      "text/plain": [
       "<IPython.core.display.HTML object>"
      ]
     },
     "metadata": {},
     "output_type": "display_data"
    },
    {
     "data": {
      "text/html": [
       " Halten Sie die Ein- / Aus-Taste gedrückt , bis die Betriebsanzeige in der oberen rechten Ecke Ihres eReaders erlischt ."
      ],
      "text/plain": [
       "<IPython.core.display.HTML object>"
      ]
     },
     "metadata": {},
     "output_type": "display_data"
    },
    {
     "name": "stdout",
     "output_type": "stream",
     "text": [
      "____________________________________93___________________________________________________\n",
      "['major', 'major', 'major']\n",
      "['Accuracy/Mistranslation', 'Accuracy/Mistranslation', 'Accuracy/Mistranslation']\n",
      "\u001b[91m\u001b[1m🤬  Major\u001b[0m\n",
      "5.923780999999999\n"
     ]
    },
    {
     "data": {
      "text/html": [
       " <span style=\"background-color:#e0e0e0 \">4.973315</span> <span style=\"background-color:#DFFF00 \">10.897096</span>"
      ],
      "text/plain": [
       "<IPython.core.display.HTML object>"
      ]
     },
     "metadata": {},
     "output_type": "display_data"
    },
    {
     "data": {
      "text/html": [
       " In you r acclount says that its only link ( <span style=\"background-color:#DFFF00 \">sign</span><span style=\"background-color:#DFFF00 \"> in</span> option ) to access your # PRS _ ORG # account is # PRS _ ORG # ."
      ],
      "text/plain": [
       "<IPython.core.display.HTML object>"
      ]
     },
     "metadata": {},
     "output_type": "display_data"
    },
    {
     "data": {
      "text/html": [
       " In Ihnen r acclount sagt , dass seine einzige Link ( <span style=\"background-color:#DFFF00 \">anmelden</span> Option ) , um Ihre # PRS _ ORG # Konto zugreifen # PRS _ ORG # ."
      ],
      "text/plain": [
       "<IPython.core.display.HTML object>"
      ]
     },
     "metadata": {},
     "output_type": "display_data"
    },
    {
     "name": "stdout",
     "output_type": "stream",
     "text": [
      "____________________________________94___________________________________________________\n",
      "['major', 'major', 'major', 'major', 'major']\n",
      "['Accuracy/Mistranslation', 'Accuracy/Mistranslation', 'Accuracy/Mistranslation', 'Accuracy/Mistranslation', 'Accuracy/Mistranslation']\n",
      "\u001b[91m\u001b[1m🤬  Major\u001b[0m\n",
      "3.4602685000000006\n"
     ]
    },
    {
     "data": {
      "text/html": [
       " <span style=\"background-color:#e0e0e0 \">6.618999</span> <span style=\"background-color:#DFFF00 \">10.0792675</span>"
      ],
      "text/plain": [
       "<IPython.core.display.HTML object>"
      ]
     },
     "metadata": {},
     "output_type": "display_data"
    },
    {
     "data": {
      "text/html": [
       " Using Replaceable Standard Double Edge Blades just like the classic safety razor - <span style=\"background-color:#DFFF00 \">Meaning</span> you don 't have to worry about stropping and sharpening and yet enjoy the closeness of a straight razor shave !"
      ],
      "text/plain": [
       "<IPython.core.display.HTML object>"
      ]
     },
     "metadata": {},
     "output_type": "display_data"
    },
    {
     "data": {
      "text/html": [
       " Verwenden Sie ersetzbare Standard-Doppel-Edge-Blätter genau wie den klassischen Sicherheitsbraten - Das <span style=\"background-color:#DFFF00 \">bedeutet</span> , dass Sie sich keine Sorgen über das Stricken und Schärfen machen müssen und dennoch die Nähe eines geraden Rasierbratens genießen müssen !"
      ],
      "text/plain": [
       "<IPython.core.display.HTML object>"
      ]
     },
     "metadata": {},
     "output_type": "display_data"
    },
    {
     "name": "stdout",
     "output_type": "stream",
     "text": [
      "____________________________________95___________________________________________________\n",
      "['major', 'major', 'major']\n",
      "['Accuracy/Mistranslation', 'Accuracy/Mistranslation', 'Accuracy/Mistranslation']\n",
      "\u001b[91m\u001b[1m🤬  Major\u001b[0m\n",
      "10.3335813\n"
     ]
    },
    {
     "data": {
      "text/html": [
       " <span style=\"background-color:#e0e0e0 \">2.2220557</span> <span style=\"background-color:#DFFF00 \">7.3368387</span> <span style=\"background-color:#9FE2BF \">12.555637</span>"
      ],
      "text/plain": [
       "<IPython.core.display.HTML object>"
      ]
     },
     "metadata": {},
     "output_type": "display_data"
    },
    {
     "data": {
      "text/html": [
       " I am going to delete and add the book <span style=\"background-color:#DFFF00 \">again</span><span style=\"background-color:#DFFF00 \"> and</span> after you are going to troubleshoot your # PRS _ ORG # app with <span style=\"background-color:#9FE2BF \">2</span> procedures to see if that solves the issue ."
      ],
      "text/plain": [
       "<IPython.core.display.HTML object>"
      ]
     },
     "metadata": {},
     "output_type": "display_data"
    },
    {
     "data": {
      "text/html": [
       " Ich lösche jetzt das Buch und füge es <span style=\"background-color:#DFFF00 \">wieder</span><span style=\"background-color:#DFFF00 \"> hinzu</span><span style=\"background-color:#DFFF00 \"> ;</span> danach beheben Sie das Problem mit Ihrer # PRS _ ORG # -App mit <span style=\"background-color:#9FE2BF \">den</span><span style=\"background-color:#9FE2BF \"> beiden</span> Vorgängen , um zu sehen , ob das Problem dadurch behoben wird ."
      ],
      "text/plain": [
       "<IPython.core.display.HTML object>"
      ]
     },
     "metadata": {},
     "output_type": "display_data"
    },
    {
     "name": "stdout",
     "output_type": "stream",
     "text": [
      "____________________________________96___________________________________________________\n",
      "['major', 'major', 'major', 'major']\n",
      "['Accuracy/Mistranslation', 'Accuracy/Mistranslation', 'Accuracy/Mistranslation', 'Accuracy/Mistranslation']\n",
      "\u001b[91m\u001b[1m🤬  Major\u001b[0m\n",
      "2.8178680000000007\n"
     ]
    },
    {
     "data": {
      "text/html": [
       " <span style=\"background-color:#e0e0e0 \">9.996856</span> <span style=\"background-color:#DFFF00 \">12.814724</span>"
      ],
      "text/plain": [
       "<IPython.core.display.HTML object>"
      ]
     },
     "metadata": {},
     "output_type": "display_data"
    },
    {
     "data": {
      "text/html": [
       " If someone comes to me and tells me that they 're working to get out of a financially abusive relationship and <span style=\"background-color:#DFFF00 \">their</span><span style=\"background-color:#DFFF00 \"> abuser</span> looks at their paystubs ,"
      ],
      "text/plain": [
       "<IPython.core.display.HTML object>"
      ]
     },
     "metadata": {},
     "output_type": "display_data"
    },
    {
     "data": {
      "text/html": [
       " Wenn jemand zu mir kommt und mir sagt , dass er daran arbeitet , aus einer finanziell missbräuchlichen Beziehung herauszukommen , und <span style=\"background-color:#DFFF00 \">sein</span><span style=\"background-color:#DFFF00 \"> Täter</span> sich seine Gehaltsabrechnungen ansieht ,"
      ],
      "text/plain": [
       "<IPython.core.display.HTML object>"
      ]
     },
     "metadata": {},
     "output_type": "display_data"
    },
    {
     "name": "stdout",
     "output_type": "stream",
     "text": [
      "____________________________________97___________________________________________________\n",
      "['major', 'major', 'major']\n",
      "['Accuracy/Source language fragment', 'Accuracy/Mistranslation', 'Accuracy/Source language fragment']\n",
      "\u001b[91m\u001b[1m🤬  Major\u001b[0m\n",
      "4.3436037\n"
     ]
    },
    {
     "data": {
      "text/html": [
       " <span style=\"background-color:#e0e0e0 \">6.3075213</span> <span style=\"background-color:#DFFF00 \">10.651125</span>"
      ],
      "text/plain": [
       "<IPython.core.display.HTML object>"
      ]
     },
     "metadata": {},
     "output_type": "display_data"
    },
    {
     "data": {
      "text/html": [
       " As a result , broadcasters draw their primary power supply from a huge , diesel-fuelled generator <span style=\"background-color:#DFFF00 \">hired</span><span style=\"background-color:#DFFF00 \"> for</span><span style=\"background-color:#DFFF00 \"> the</span><span style=\"background-color:#DFFF00 \"> Test</span><span style=\"background-color:#DFFF00 \"> match</span> , with back-up power meant to be derived from a back-up generator ."
      ],
      "text/plain": [
       "<IPython.core.display.HTML object>"
      ]
     },
     "metadata": {},
     "output_type": "display_data"
    },
    {
     "data": {
      "text/html": [
       " Infolgedessen beziehen die Sender ihre primäre Stromversorgung aus einem riesigen , mit Diesel betriebenen Generator , <span style=\"background-color:#DFFF00 \">der</span><span style=\"background-color:#DFFF00 \"> für</span><span style=\"background-color:#DFFF00 \"> das</span><span style=\"background-color:#DFFF00 \"> Testspiel</span><span style=\"background-color:#DFFF00 \"> angeheuert</span><span style=\"background-color:#DFFF00 \"> wird</span> , wobei die Back-up-Leistung von einem Back-up-Generator abgeleitet werden soll ."
      ],
      "text/plain": [
       "<IPython.core.display.HTML object>"
      ]
     },
     "metadata": {},
     "output_type": "display_data"
    },
    {
     "name": "stdout",
     "output_type": "stream",
     "text": [
      "____________________________________98___________________________________________________\n",
      "['major', 'major', 'major']\n",
      "['Accuracy/Source language fragment', 'Accuracy/Mistranslation', 'Accuracy/Mistranslation']\n",
      "\u001b[91m\u001b[1m🤬  Major\u001b[0m\n",
      "3.942413\n"
     ]
    },
    {
     "data": {
      "text/html": [
       " <span style=\"background-color:#e0e0e0 \">6.43413</span> <span style=\"background-color:#DFFF00 \">10.376543</span>"
      ],
      "text/plain": [
       "<IPython.core.display.HTML object>"
      ]
     },
     "metadata": {},
     "output_type": "display_data"
    },
    {
     "data": {
      "text/html": [
       " And with hooker Dan Frost sin-binned on the stroke of half-time , their 13 men were on the ropes and Munster reacted by <span style=\"background-color:#DFFF00 \">engineering</span><span style=\"background-color:#DFFF00 \"> tries</span><span style=\"background-color:#DFFF00 \"> for</span> debutant Patrick Campbell and Andrew Conway ."
      ],
      "text/plain": [
       "<IPython.core.display.HTML object>"
      ]
     },
     "metadata": {},
     "output_type": "display_data"
    },
    {
     "data": {
      "text/html": [
       " Und mit Hooker Dan Frost pünktlich zum Halbzeitpfiff auf der Strafbank hingen ihre 13 Mann in den Seilen , und Munster reagierte mit <span style=\"background-color:#DFFF00 \">Trys</span><span style=\"background-color:#DFFF00 \"> der</span> Debütanten Patrick Campbell und Andrew Conway ."
      ],
      "text/plain": [
       "<IPython.core.display.HTML object>"
      ]
     },
     "metadata": {},
     "output_type": "display_data"
    },
    {
     "name": "stdout",
     "output_type": "stream",
     "text": [
      "____________________________________99___________________________________________________\n",
      "['No-error', 'No-error', 'No-error']\n",
      "\u001b[94m\u001b[1m🤓 OK\u001b[0m\n",
      "8.4079141\n"
     ]
    },
    {
     "data": {
      "text/html": [
       " <span style=\"background-color:#e0e0e0 \">-2.6392426</span> <span style=\"background-color:#DFFF00 \">1.9146883</span> <span style=\"background-color:#9FE2BF \">3.0921726</span> <span style=\"background-color:#CCCCFF \">5.7686715</span>"
      ],
      "text/plain": [
       "<IPython.core.display.HTML object>"
      ]
     },
     "metadata": {},
     "output_type": "display_data"
    },
    {
     "data": {
      "text/html": [
       " I 'm sorry but I don 't see that <span style=\"background-color:#DFFF00 \">you</span><span style=\"background-color:#DFFF00 \"> have</span><span style=\"background-color:#DFFF00 \"> sign</span><span style=\"background-color:#DFFF00 \"> in</span><span style=\"background-color:#DFFF00 \"> to</span><span style=\"background-color:#DFFF00 \"> your</span> <span style=\"background-color:#e3abfb \">account</span> , unless you have another account ."
      ],
      "text/plain": [
       "<IPython.core.display.HTML object>"
      ]
     },
     "metadata": {},
     "output_type": "display_data"
    },
    {
     "data": {
      "text/html": [
       " Es tut mir leid , aber ich sehe nicht , dass <span style=\"background-color:#DFFF00 \">Sie</span><span style=\"background-color:#DFFF00 \"> sich</span><span style=\"background-color:#DFFF00 \"> in</span><span style=\"background-color:#DFFF00 \"> Ihrem</span> <span style=\"background-color:#e3abfb \">Konto</span> <span style=\"background-color:#DFFF00 \">angemeldet</span><span style=\"background-color:#DFFF00 \"> haben</span> , es sei denn , Sie haben ein anderes Konto ."
      ],
      "text/plain": [
       "<IPython.core.display.HTML object>"
      ]
     },
     "metadata": {},
     "output_type": "display_data"
    },
    {
     "name": "stdout",
     "output_type": "stream",
     "text": [
      "____________________________________100___________________________________________________\n",
      "['major', 'major', 'major', 'major']\n",
      "['Accuracy/Mistranslation', 'Accuracy/Mistranslation', 'Accuracy/Mistranslation', 'Accuracy/Mistranslation']\n",
      "\u001b[91m\u001b[1m🤬  Major\u001b[0m\n",
      "0.0\n"
     ]
    },
    {
     "data": {
      "text/html": [
       " <span style=\"background-color:#e0e0e0 \">10.932966</span>"
      ],
      "text/plain": [
       "<IPython.core.display.HTML object>"
      ]
     },
     "metadata": {},
     "output_type": "display_data"
    },
    {
     "data": {
      "text/html": [
       " Extension tubes are metal tubes with a rear-lens mount at one end and a camera-body mount at the other end ."
      ],
      "text/plain": [
       "<IPython.core.display.HTML object>"
      ]
     },
     "metadata": {},
     "output_type": "display_data"
    },
    {
     "data": {
      "text/html": [
       " Verlängerungsschläuche sind Metallschläuche mit einer Hecklinse an einem Ende und einer Kamera-Karosserie am anderen Ende ."
      ],
      "text/plain": [
       "<IPython.core.display.HTML object>"
      ]
     },
     "metadata": {},
     "output_type": "display_data"
    },
    {
     "name": "stdout",
     "output_type": "stream",
     "text": [
      "____________________________________101___________________________________________________\n",
      "['No-error', 'No-error', 'No-error', 'No-error', 'No-error', 'No-error', 'No-error', 'No-error']\n",
      "\u001b[94m\u001b[1m🤓 OK\u001b[0m\n",
      "8.4898715\n"
     ]
    },
    {
     "data": {
      "text/html": [
       " <span style=\"background-color:#e0e0e0 \">-2.7212</span> <span style=\"background-color:#DFFF00 \">1.9146883</span> <span style=\"background-color:#9FE2BF \">3.0921726</span> <span style=\"background-color:#CCCCFF \">5.7686715</span>"
      ],
      "text/plain": [
       "<IPython.core.display.HTML object>"
      ]
     },
     "metadata": {},
     "output_type": "display_data"
    },
    {
     "data": {
      "text/html": [
       " I 'm sorry but I don 't see that <span style=\"background-color:#DFFF00 \">you</span><span style=\"background-color:#DFFF00 \"> have</span><span style=\"background-color:#DFFF00 \"> sign</span><span style=\"background-color:#DFFF00 \"> in</span><span style=\"background-color:#DFFF00 \"> to</span><span style=\"background-color:#DFFF00 \"> your</span> <span style=\"background-color:#e3abfb \">account</span> , unless you have another account ."
      ],
      "text/plain": [
       "<IPython.core.display.HTML object>"
      ]
     },
     "metadata": {},
     "output_type": "display_data"
    },
    {
     "data": {
      "text/html": [
       " Es tut mir leid , aber ich sehe nicht , dass <span style=\"background-color:#DFFF00 \">Sie</span><span style=\"background-color:#DFFF00 \"> sich</span><span style=\"background-color:#DFFF00 \"> bei</span><span style=\"background-color:#DFFF00 \"> Ihrem</span> <span style=\"background-color:#e3abfb \">Konto</span> <span style=\"background-color:#DFFF00 \">angemeldet</span><span style=\"background-color:#DFFF00 \"> haben</span> , es sei denn , Sie haben ein anderes Konto ."
      ],
      "text/plain": [
       "<IPython.core.display.HTML object>"
      ]
     },
     "metadata": {},
     "output_type": "display_data"
    },
    {
     "name": "stdout",
     "output_type": "stream",
     "text": [
      "____________________________________102___________________________________________________\n",
      "['major', 'major', 'major']\n",
      "['Accuracy/Mistranslation', 'Accuracy/Source language fragment', 'Accuracy/Mistranslation']\n",
      "\u001b[91m\u001b[1m🤬  Major\u001b[0m\n",
      "2.3278250000000007\n"
     ]
    },
    {
     "data": {
      "text/html": [
       " <span style=\"background-color:#e0e0e0 \">8.119527</span> <span style=\"background-color:#DFFF00 \">10.447352</span>"
      ],
      "text/plain": [
       "<IPython.core.display.HTML object>"
      ]
     },
     "metadata": {},
     "output_type": "display_data"
    },
    {
     "data": {
      "text/html": [
       " A rollercoaster first half ended with Munster <span style=\"background-color:#DFFF00 \">leading</span> 13-7 after Wasps skipper Brad Shields had been controversially sent off for a dangerous tackle on Dave Kilcoyne ."
      ],
      "text/plain": [
       "<IPython.core.display.HTML object>"
      ]
     },
     "metadata": {},
     "output_type": "display_data"
    },
    {
     "data": {
      "text/html": [
       " Eine Achterbahnfahrt der ersten Halbzeit endete mit <span style=\"background-color:#DFFF00 \">einem</span> 13 : 7 für Münster , nachdem Wespe-Skipper Brad Shields kontrovers wegen eines gefährlichen Tacklings auf Dave Kilcoyne verwiesen worden war ."
      ],
      "text/plain": [
       "<IPython.core.display.HTML object>"
      ]
     },
     "metadata": {},
     "output_type": "display_data"
    },
    {
     "name": "stdout",
     "output_type": "stream",
     "text": [
      "____________________________________103___________________________________________________\n",
      "['major', 'major', 'major']\n",
      "['Accuracy/Mistranslation', 'Accuracy/Mistranslation', 'Accuracy/Mistranslation']\n",
      "\u001b[91m\u001b[1m🤬  Major\u001b[0m\n",
      "4.9388007\n"
     ]
    },
    {
     "data": {
      "text/html": [
       " <span style=\"background-color:#e0e0e0 \">5.7799973</span> <span style=\"background-color:#DFFF00 \">8.6964855</span> <span style=\"background-color:#9FE2BF \">10.718798</span>"
      ],
      "text/plain": [
       "<IPython.core.display.HTML object>"
      ]
     },
     "metadata": {},
     "output_type": "display_data"
    },
    {
     "data": {
      "text/html": [
       " And <span style=\"background-color:#9FE2BF \">with</span> hooker Dan Frost sin-binned on the <span style=\"background-color:#DFFF00 \">stroke</span><span style=\"background-color:#DFFF00 \"> of</span> half-time , their 13 men were on the ropes and Munster reacted by engineering tries for debutant Patrick Campbell and Andrew Conway ."
      ],
      "text/plain": [
       "<IPython.core.display.HTML object>"
      ]
     },
     "metadata": {},
     "output_type": "display_data"
    },
    {
     "data": {
      "text/html": [
       " Und <span style=\"background-color:#9FE2BF \">als</span> Nutte Dan Frost <span style=\"background-color:#DFFF00 \">kurz</span> vor der Halbzeit versenkt wurde , standen ihre 13 Mann am Seil und Münster reagierte mit technischen Versuchen für Debütant Patrick Campbell und Andrew Conway ."
      ],
      "text/plain": [
       "<IPython.core.display.HTML object>"
      ]
     },
     "metadata": {},
     "output_type": "display_data"
    },
    {
     "name": "stdout",
     "output_type": "stream",
     "text": [
      "____________________________________104___________________________________________________\n",
      "['major', 'major', 'major']\n",
      "['Accuracy/Source language fragment', 'Accuracy/Mistranslation', 'Accuracy/Mistranslation']\n",
      "\u001b[91m\u001b[1m🤬  Major\u001b[0m\n",
      "6.890569\n"
     ]
    },
    {
     "data": {
      "text/html": [
       " <span style=\"background-color:#e0e0e0 \">4.264397</span> <span style=\"background-color:#DFFF00 \">11.154966</span>"
      ],
      "text/plain": [
       "<IPython.core.display.HTML object>"
      ]
     },
     "metadata": {},
     "output_type": "display_data"
    },
    {
     "data": {
      "text/html": [
       " Alfie Barbeary 's all-action display capped by a captivating try had given Wasps hope but he was unexpectedly replaced at half-time and it became <span style=\"background-color:#DFFF00 \">one-way</span><span style=\"background-color:#DFFF00 \"> traffic</span><span style=\"background-color:#DFFF00 \"> from</span><span style=\"background-color:#DFFF00 \"> the</span><span style=\"background-color:#DFFF00 \"> moment</span> Campbell showed his class to finish in the 43rd minute ."
      ],
      "text/plain": [
       "<IPython.core.display.HTML object>"
      ]
     },
     "metadata": {},
     "output_type": "display_data"
    },
    {
     "data": {
      "text/html": [
       " Alfie Barbeary ' s all-action display , gekrönt durch einen fesselnden Versuch , hatte den Wespen Hoffnung gegeben , aber er wurde unerwartet zur Halbzeit ausgewechselt und es wurde <span style=\"background-color:#DFFF00 \">Einbahnstraße</span><span style=\"background-color:#DFFF00 \"> ab</span><span style=\"background-color:#DFFF00 \"> dem</span><span style=\"background-color:#DFFF00 \"> Moment</span><span style=\"background-color:#DFFF00 \"> ,</span><span style=\"background-color:#DFFF00 \"> als</span> Campbell seine Klasse zeigte und in der 43. Minute vollendete ."
      ],
      "text/plain": [
       "<IPython.core.display.HTML object>"
      ]
     },
     "metadata": {},
     "output_type": "display_data"
    },
    {
     "name": "stdout",
     "output_type": "stream",
     "text": [
      "____________________________________105___________________________________________________\n",
      "['No-error', 'No-error', 'No-error']\n",
      "\u001b[94m\u001b[1m🤓 OK\u001b[0m\n",
      "8.2557122\n"
     ]
    },
    {
     "data": {
      "text/html": [
       " <span style=\"background-color:#e0e0e0 \">-1.2182082</span> <span style=\"background-color:#DFFF00 \">5.2157373</span> <span style=\"background-color:#9FE2BF \">7.037504</span>"
      ],
      "text/plain": [
       "<IPython.core.display.HTML object>"
      ]
     },
     "metadata": {},
     "output_type": "display_data"
    },
    {
     "data": {
      "text/html": [
       " <span style=\"background-color:#DFFF00 \">Just</span><span style=\"background-color:#DFFF00 \"> sign</span><span style=\"background-color:#DFFF00 \"> in</span><span style=\"background-color:#DFFF00 \"> to</span><span style=\"background-color:#DFFF00 \"> your</span><span style=\"background-color:#DFFF00 \"> account</span> and wait till the sync is completed , the books will <span style=\"background-color:#9FE2BF \">be</span> load on the # PRS _ ORG # automatically ."
      ],
      "text/plain": [
       "<IPython.core.display.HTML object>"
      ]
     },
     "metadata": {},
     "output_type": "display_data"
    },
    {
     "data": {
      "text/html": [
       " <span style=\"background-color:#DFFF00 \">Melden</span><span style=\"background-color:#DFFF00 \"> Sie</span><span style=\"background-color:#DFFF00 \"> sich</span><span style=\"background-color:#DFFF00 \"> einfach</span><span style=\"background-color:#DFFF00 \"> bei</span><span style=\"background-color:#DFFF00 \"> Ihrem</span><span style=\"background-color:#DFFF00 \"> Konto</span><span style=\"background-color:#DFFF00 \"> an</span> und warten Sie , bis die Synchronisierung abgeschlossen ist . Die Bücher <span style=\"background-color:#9FE2BF \">werden</span> automatisch auf # PRS _ ORG # geladen ."
      ],
      "text/plain": [
       "<IPython.core.display.HTML object>"
      ]
     },
     "metadata": {},
     "output_type": "display_data"
    },
    {
     "name": "stdout",
     "output_type": "stream",
     "text": [
      "____________________________________106___________________________________________________\n",
      "['No-error', 'No-error', 'No-error']\n",
      "\u001b[94m\u001b[1m🤓 OK\u001b[0m\n",
      "0.0\n"
     ]
    },
    {
     "data": {
      "text/html": [
       " <span style=\"background-color:#e0e0e0 \">10.580271</span>"
      ],
      "text/plain": [
       "<IPython.core.display.HTML object>"
      ]
     },
     "metadata": {},
     "output_type": "display_data"
    },
    {
     "data": {
      "text/html": [
       " Crucially , however , Ireland stars such as Tadhg Beirne , Peter O 'Mahony , Conor Murray and Keith Earls were present to stiffen their ranks ."
      ],
      "text/plain": [
       "<IPython.core.display.HTML object>"
      ]
     },
     "metadata": {},
     "output_type": "display_data"
    },
    {
     "data": {
      "text/html": [
       " Entscheidend war jedoch , dass irische Stars wie Tadhg Beirne , Peter O ' Mahony , Conor Murray und Keith Earls anwesend waren , um ihre Reihen zu verstärken ."
      ],
      "text/plain": [
       "<IPython.core.display.HTML object>"
      ]
     },
     "metadata": {},
     "output_type": "display_data"
    },
    {
     "name": "stdout",
     "output_type": "stream",
     "text": [
      "____________________________________107___________________________________________________\n",
      "['major', 'major', 'major']\n",
      "['Accuracy/Source language fragment', 'Accuracy/Source language fragment', 'Accuracy/Source language fragment']\n",
      "\u001b[91m\u001b[1m🤬  Major\u001b[0m\n",
      "2.6597604000000006\n"
     ]
    },
    {
     "data": {
      "text/html": [
       " <span style=\"background-color:#e0e0e0 \">7.7832146</span> <span style=\"background-color:#DFFF00 \">9.346533</span> <span style=\"background-color:#9FE2BF \">10.442975</span>"
      ],
      "text/plain": [
       "<IPython.core.display.HTML object>"
      ]
     },
     "metadata": {},
     "output_type": "display_data"
    },
    {
     "data": {
      "text/html": [
       " <span style=\"background-color:#DFFF00 \">Primary</span><span style=\"background-color:#DFFF00 \"> and</span> backup generators powering the global <span style=\"background-color:#9FE2BF \">broadcast</span> of the Gabba Test went down for about 25 minutes on day four ."
      ],
      "text/plain": [
       "<IPython.core.display.HTML object>"
      ]
     },
     "metadata": {},
     "output_type": "display_data"
    },
    {
     "data": {
      "text/html": [
       " <span style=\"background-color:#DFFF00 \">Primär-</span><span style=\"background-color:#DFFF00 \"> und</span> Backup-Generatoren , die die weltweite <span style=\"background-color:#9FE2BF \">Übertragung</span> des Gabba-Tests mit Strom versorgten , fielen am vierten Tag für etwa 25 Minuten aus ."
      ],
      "text/plain": [
       "<IPython.core.display.HTML object>"
      ]
     },
     "metadata": {},
     "output_type": "display_data"
    },
    {
     "name": "stdout",
     "output_type": "stream",
     "text": [
      "____________________________________108___________________________________________________\n",
      "['major', 'major', 'major']\n",
      "['Accuracy/Source language fragment', 'Accuracy/Mistranslation', 'Accuracy/Source language fragment']\n",
      "\u001b[91m\u001b[1m🤬  Major\u001b[0m\n",
      "2.524356000000001\n"
     ]
    },
    {
     "data": {
      "text/html": [
       " <span style=\"background-color:#e0e0e0 \">8.30252</span> <span style=\"background-color:#DFFF00 \">10.826876</span>"
      ],
      "text/plain": [
       "<IPython.core.display.HTML object>"
      ]
     },
     "metadata": {},
     "output_type": "display_data"
    },
    {
     "data": {
      "text/html": [
       " K-IIT XLTM Picture-in-Picture Image Insertion Technology - Ultra stable picture − in − picture , picture − <span style=\"background-color:#DFFF00 \">and</span> − picture , and split screen capability ."
      ],
      "text/plain": [
       "<IPython.core.display.HTML object>"
      ]
     },
     "metadata": {},
     "output_type": "display_data"
    },
    {
     "data": {
      "text/html": [
       " K-IIT XLTM Picture-in-Picture Image Insertion Technology - Ultrastabile Bild-in-Picture- , Bild- <span style=\"background-color:#DFFF00 \">und</span> Bildfunktion sowie Splitscreen-Funktion ."
      ],
      "text/plain": [
       "<IPython.core.display.HTML object>"
      ]
     },
     "metadata": {},
     "output_type": "display_data"
    },
    {
     "name": "stdout",
     "output_type": "stream",
     "text": [
      "____________________________________109___________________________________________________\n",
      "['No-error', 'No-error', 'No-error', 'No-error']\n",
      "\u001b[94m\u001b[1m🤓 OK\u001b[0m\n",
      "0.0\n"
     ]
    },
    {
     "data": {
      "text/html": [
       " <span style=\"background-color:#e0e0e0 \">13.129576</span>"
      ],
      "text/plain": [
       "<IPython.core.display.HTML object>"
      ]
     },
     "metadata": {},
     "output_type": "display_data"
    },
    {
     "data": {
      "text/html": [
       " Please always read the labels , warnings , and directions provided with the product before using or consuming a product ."
      ],
      "text/plain": [
       "<IPython.core.display.HTML object>"
      ]
     },
     "metadata": {},
     "output_type": "display_data"
    },
    {
     "data": {
      "text/html": [
       " Bitte lesen Sie immer die mit dem Produkt gelieferten Etiketten , Warnhinweise und Anweisungen , bevor Sie ein Produkt verwenden oder konsumieren ."
      ],
      "text/plain": [
       "<IPython.core.display.HTML object>"
      ]
     },
     "metadata": {},
     "output_type": "display_data"
    },
    {
     "name": "stdout",
     "output_type": "stream",
     "text": [
      "____________________________________110___________________________________________________\n",
      "['major', 'major', 'major', 'major', 'major']\n",
      "['Accuracy/Mistranslation', 'Accuracy/Mistranslation', 'Accuracy/Mistranslation', 'Accuracy/Mistranslation', 'Accuracy/Mistranslation']\n",
      "\u001b[91m\u001b[1m🤬  Major\u001b[0m\n",
      "2.187073\n"
     ]
    },
    {
     "data": {
      "text/html": [
       " <span style=\"background-color:#e0e0e0 \">9.594288</span> <span style=\"background-color:#DFFF00 \">11.781361</span>"
      ],
      "text/plain": [
       "<IPython.core.display.HTML object>"
      ]
     },
     "metadata": {},
     "output_type": "display_data"
    },
    {
     "data": {
      "text/html": [
       " And with <span style=\"background-color:#DFFF00 \">hooker</span> Dan Frost sin-binned on the stroke of half-time , their 13 men were on the ropes and Munster reacted by engineering tries for debutant Patrick Campbell and Andrew Conway ."
      ],
      "text/plain": [
       "<IPython.core.display.HTML object>"
      ]
     },
     "metadata": {},
     "output_type": "display_data"
    },
    {
     "data": {
      "text/html": [
       " Und da <span style=\"background-color:#DFFF00 \">der</span><span style=\"background-color:#DFFF00 \"> Nutte</span> Dan Frost im Halbzeitschlag in die Sünde geworfen wurde , waren ihre 13 Männer in den Seilen und Munster reagierte mit technischen Versuchen für Debütant Patrick Campbell und Andrew Conway ."
      ],
      "text/plain": [
       "<IPython.core.display.HTML object>"
      ]
     },
     "metadata": {},
     "output_type": "display_data"
    },
    {
     "name": "stdout",
     "output_type": "stream",
     "text": [
      "____________________________________111___________________________________________________\n",
      "['major', 'major', 'major']\n",
      "['Accuracy/Source language fragment', 'Accuracy/Mistranslation', 'Accuracy/Mistranslation']\n",
      "\u001b[91m\u001b[1m🤬  Major\u001b[0m\n",
      "5.1999912\n"
     ]
    },
    {
     "data": {
      "text/html": [
       " <span style=\"background-color:#e0e0e0 \">7.2982693</span> <span style=\"background-color:#DFFF00 \">9.50659</span> <span style=\"background-color:#9FE2BF \">12.4982605</span>"
      ],
      "text/plain": [
       "<IPython.core.display.HTML object>"
      ]
     },
     "metadata": {},
     "output_type": "display_data"
    },
    {
     "data": {
      "text/html": [
       " <span style=\"background-color:#9FE2BF \">Alfie</span><span style=\"background-color:#9FE2BF \"> Barbeary</span><span style=\"background-color:#9FE2BF \"> 's</span><span style=\"background-color:#9FE2BF \"> all-action</span><span style=\"background-color:#9FE2BF \"> display</span><span style=\"background-color:#9FE2BF \"> capped</span><span style=\"background-color:#9FE2BF \"> by</span> a captivating try had given Wasps hope but he was unexpectedly replaced at half-time and it became <span style=\"background-color:#DFFF00 \">one-way</span><span style=\"background-color:#DFFF00 \"> traffic</span> from the moment Campbell showed his class to finish in the 43rd minute ."
      ],
      "text/plain": [
       "<IPython.core.display.HTML object>"
      ]
     },
     "metadata": {},
     "output_type": "display_data"
    },
    {
     "data": {
      "text/html": [
       " <span style=\"background-color:#9FE2BF \">Alfie</span><span style=\"background-color:#9FE2BF \"> Barbarys</span><span style=\"background-color:#9FE2BF \"> All-Action-Display</span><span style=\"background-color:#9FE2BF \"> ,</span><span style=\"background-color:#9FE2BF \"> das</span><span style=\"background-color:#9FE2BF \"> von</span> einem fesselnden Versuch begrenzt war , hatte Wasps Hoffnung gegeben , aber er wurde unerwartet zur Halbzeit ersetzt und es wurde von dem Moment an , als Campbell seine Klasse zeigte , um in der 43. Minute zu enden <span style=\"background-color:#DFFF00 \">,</span><span style=\"background-color:#DFFF00 \"> zu</span><span style=\"background-color:#DFFF00 \"> Einbahnverkehr</span> ."
      ],
      "text/plain": [
       "<IPython.core.display.HTML object>"
      ]
     },
     "metadata": {},
     "output_type": "display_data"
    },
    {
     "name": "stdout",
     "output_type": "stream",
     "text": [
      "____________________________________112___________________________________________________\n",
      "['No-error', 'No-error', 'No-error']\n",
      "\u001b[94m\u001b[1m🤓 OK\u001b[0m\n",
      "0.0\n"
     ]
    },
    {
     "data": {
      "text/html": [
       " <span style=\"background-color:#e0e0e0 \">12.843836</span>"
      ],
      "text/plain": [
       "<IPython.core.display.HTML object>"
      ]
     },
     "metadata": {},
     "output_type": "display_data"
    },
    {
     "data": {
      "text/html": [
       " I 'm really sorry to know that you are having this issue with your eBook , but I 'm willing to help you ."
      ],
      "text/plain": [
       "<IPython.core.display.HTML object>"
      ]
     },
     "metadata": {},
     "output_type": "display_data"
    },
    {
     "data": {
      "text/html": [
       " Es tut mir wirklich leid , dass Sie dieses Problem mit Ihrem eBook haben , aber ich bin bereit , Ihnen zu helfen ."
      ],
      "text/plain": [
       "<IPython.core.display.HTML object>"
      ]
     },
     "metadata": {},
     "output_type": "display_data"
    },
    {
     "name": "stdout",
     "output_type": "stream",
     "text": [
      "____________________________________113___________________________________________________\n",
      "['major', 'major', 'major']\n",
      "['Accuracy/Mistranslation', 'Accuracy/Mistranslation', 'Accuracy/Mistranslation']\n",
      "\u001b[91m\u001b[1m🤬  Major\u001b[0m\n",
      "1.9373345\n"
     ]
    },
    {
     "data": {
      "text/html": [
       " <span style=\"background-color:#e0e0e0 \">-0.6936792</span> <span style=\"background-color:#DFFF00 \">1.2436553</span>"
      ],
      "text/plain": [
       "<IPython.core.display.HTML object>"
      ]
     },
     "metadata": {},
     "output_type": "display_data"
    },
    {
     "data": {
      "text/html": [
       " That 's because the base power <span style=\"background-color:#DFFF00 \">in</span> the precinct is required to supply the Gabba 's light towers - one of which infamously went down during a Big Bash League match in 2019 - and the ground itself ."
      ],
      "text/plain": [
       "<IPython.core.display.HTML object>"
      ]
     },
     "metadata": {},
     "output_type": "display_data"
    },
    {
     "data": {
      "text/html": [
       " Dies rührt daher , dass der Grundstrom <span style=\"background-color:#DFFF00 \">im</span> Bezirk die Beleuchtungsanlagen des Gabba versorgen muss , von denen eine - und das gesamte Spielfeld - während eines Spiels der Big Bash League im Jahre 2019 schändlich ausging ."
      ],
      "text/plain": [
       "<IPython.core.display.HTML object>"
      ]
     },
     "metadata": {},
     "output_type": "display_data"
    },
    {
     "name": "stdout",
     "output_type": "stream",
     "text": [
      "____________________________________114___________________________________________________\n",
      "['major', 'major', 'major', 'major']\n",
      "['Accuracy/Source language fragment', 'Accuracy/Mistranslation', 'Accuracy/Mistranslation', 'Accuracy/Mistranslation']\n",
      "\u001b[91m\u001b[1m🤬  Major\u001b[0m\n",
      "7.8377134\n"
     ]
    },
    {
     "data": {
      "text/html": [
       " <span style=\"background-color:#e0e0e0 \">2.8702176</span> <span style=\"background-color:#DFFF00 \">8.897864</span> <span style=\"background-color:#9FE2BF \">10.707931</span>"
      ],
      "text/plain": [
       "<IPython.core.display.HTML object>"
      ]
     },
     "metadata": {},
     "output_type": "display_data"
    },
    {
     "data": {
      "text/html": [
       " Alfie Barbeary 's all-action display capped by a captivating try had given Wasps hope but he was unexpectedly replaced at half-time and it became <span style=\"background-color:#9FE2BF \">one-way</span><span style=\"background-color:#9FE2BF \"> traffic</span> from the moment Campbell showed his class <span style=\"background-color:#DFFF00 \">to</span><span style=\"background-color:#DFFF00 \"> finish</span><span style=\"background-color:#DFFF00 \"> in</span><span style=\"background-color:#DFFF00 \"> the</span><span style=\"background-color:#DFFF00 \"> 43rd</span><span style=\"background-color:#DFFF00 \"> minute</span> ."
      ],
      "text/plain": [
       "<IPython.core.display.HTML object>"
      ]
     },
     "metadata": {},
     "output_type": "display_data"
    },
    {
     "data": {
      "text/html": [
       " Alfie Barbearys All-Action-Display , das von einem fesselnden Versuch gekrönt wurde , hatte den Wespen Hoffnung gegeben , aber er wurde unerwartet zur Halbzeit ausgewechselt und es wurde <span style=\"background-color:#9FE2BF \">Einbahnstraßenverkehr</span> von dem Moment an , als Campbell seine Klasse zeigte , <span style=\"background-color:#DFFF00 \">um</span><span style=\"background-color:#DFFF00 \"> in</span><span style=\"background-color:#DFFF00 \"> der</span><span style=\"background-color:#DFFF00 \"> 43.</span>"
      ],
      "text/plain": [
       "<IPython.core.display.HTML object>"
      ]
     },
     "metadata": {},
     "output_type": "display_data"
    },
    {
     "name": "stdout",
     "output_type": "stream",
     "text": [
      "____________________________________115___________________________________________________\n",
      "['major', 'major', 'major']\n",
      "['Accuracy/Mistranslation', 'Accuracy/Mistranslation', 'Accuracy/Mistranslation']\n",
      "\u001b[91m\u001b[1m🤬  Major\u001b[0m\n",
      "8.103702\n"
     ]
    },
    {
     "data": {
      "text/html": [
       " <span style=\"background-color:#e0e0e0 \">4.704511</span> <span style=\"background-color:#DFFF00 \">12.808213</span>"
      ],
      "text/plain": [
       "<IPython.core.display.HTML object>"
      ]
     },
     "metadata": {},
     "output_type": "display_data"
    },
    {
     "data": {
      "text/html": [
       " Munster , meanwhile , were missing 34 squad personnel because of quarantine following their recent ill-fated United Rugby Championship trip to South Africa , creating five debutants <span style=\"background-color:#DFFF00 \">in</span><span style=\"background-color:#DFFF00 \"> the</span><span style=\"background-color:#DFFF00 \"> starting</span><span style=\"background-color:#DFFF00 \"> XV</span><span style=\"background-color:#DFFF00 \"> and</span><span style=\"background-color:#DFFF00 \"> another</span><span style=\"background-color:#DFFF00 \"> seven</span><span style=\"background-color:#DFFF00 \"> on</span><span style=\"background-color:#DFFF00 \"> the</span><span style=\"background-color:#DFFF00 \"> bench</span> ."
      ],
      "text/plain": [
       "<IPython.core.display.HTML object>"
      ]
     },
     "metadata": {},
     "output_type": "display_data"
    },
    {
     "data": {
      "text/html": [
       " Munster , inzwischen , fehlten 34 Kaderpersonal wegen Quarantäne nach ihrer jüngsten unglückseligen Reise zur United Rugby Championship nach Südafrika , Schaffung von fünf Debütanten <span style=\"background-color:#DFFF00 \">in</span><span style=\"background-color:#DFFF00 \"> der</span><span style=\"background-color:#DFFF00 \"> Startelf</span><span style=\"background-color:#DFFF00 \"> und</span><span style=\"background-color:#DFFF00 \"> weiteren</span><span style=\"background-color:#DFFF00 \"> sieben</span><span style=\"background-color:#DFFF00 \"> auf</span><span style=\"background-color:#DFFF00 \"> der</span><span style=\"background-color:#DFFF00 \"> Bank</span> ."
      ],
      "text/plain": [
       "<IPython.core.display.HTML object>"
      ]
     },
     "metadata": {},
     "output_type": "display_data"
    },
    {
     "name": "stdout",
     "output_type": "stream",
     "text": [
      "____________________________________116___________________________________________________\n",
      "['major', 'major', 'major', 'major']\n",
      "['Accuracy/Source language fragment', 'Accuracy/Mistranslation', 'Accuracy/Mistranslation', 'Accuracy/Source language fragment']\n",
      "\u001b[91m\u001b[1m🤬  Major\u001b[0m\n",
      "8.4498256\n"
     ]
    },
    {
     "data": {
      "text/html": [
       " <span style=\"background-color:#e0e0e0 \">4.2448754</span> <span style=\"background-color:#DFFF00 \">12.694701</span>"
      ],
      "text/plain": [
       "<IPython.core.display.HTML object>"
      ]
     },
     "metadata": {},
     "output_type": "display_data"
    },
    {
     "data": {
      "text/html": [
       " Fade-Thru-Black ( FTBTM ) Switching - The video fades to black and then the new <span style=\"background-color:#DFFF00 \">input</span> fades from black for smooth , glitch − free switching ."
      ],
      "text/plain": [
       "<IPython.core.display.HTML object>"
      ]
     },
     "metadata": {},
     "output_type": "display_data"
    },
    {
     "data": {
      "text/html": [
       " Fade-Thru-Black ( FTBTM ) Switching - Das Video verblasst auf schwarz und dann verblasst der neue <span style=\"background-color:#DFFF00 \">Eingang</span> von schwarz für einen glatten , glitch-freien Switching ."
      ],
      "text/plain": [
       "<IPython.core.display.HTML object>"
      ]
     },
     "metadata": {},
     "output_type": "display_data"
    },
    {
     "name": "stdout",
     "output_type": "stream",
     "text": [
      "____________________________________117___________________________________________________\n",
      "['major', 'major', 'major']\n",
      "['Accuracy/Mistranslation', 'Accuracy/Mistranslation', 'Accuracy/Mistranslation']\n",
      "\u001b[91m\u001b[1m🤬  Major\u001b[0m\n",
      "5.5826834\n"
     ]
    },
    {
     "data": {
      "text/html": [
       " <span style=\"background-color:#e0e0e0 \">5.5236206</span> <span style=\"background-color:#DFFF00 \">11.106304</span>"
      ],
      "text/plain": [
       "<IPython.core.display.HTML object>"
      ]
     },
     "metadata": {},
     "output_type": "display_data"
    },
    {
     "data": {
      "text/html": [
       " And with hooker Dan Frost <span style=\"background-color:#DFFF00 \">sin-binned</span><span style=\"background-color:#DFFF00 \"> on</span><span style=\"background-color:#DFFF00 \"> the</span><span style=\"background-color:#DFFF00 \"> stroke</span> of half-time , their 13 men were on the ropes and Munster reacted by engineering tries for debutant Patrick Campbell and Andrew Conway ."
      ],
      "text/plain": [
       "<IPython.core.display.HTML object>"
      ]
     },
     "metadata": {},
     "output_type": "display_data"
    },
    {
     "data": {
      "text/html": [
       " Und als die Nutte Dan Frost zur Halbzeit <span style=\"background-color:#DFFF00 \">in</span><span style=\"background-color:#DFFF00 \"> die</span><span style=\"background-color:#DFFF00 \"> Falle</span><span style=\"background-color:#DFFF00 \"> ging</span> , waren ihre 13 Männer in den Seilen und Munster reagierte mit technischen Versuchen für die Debütanten Patrick Campbell und Andrew Conway ."
      ],
      "text/plain": [
       "<IPython.core.display.HTML object>"
      ]
     },
     "metadata": {},
     "output_type": "display_data"
    },
    {
     "name": "stdout",
     "output_type": "stream",
     "text": [
      "____________________________________118___________________________________________________\n",
      "['major', 'major', 'major', 'major']\n",
      "['Accuracy/Mistranslation', 'Accuracy/Mistranslation', 'Accuracy/Mistranslation', 'Accuracy/Mistranslation']\n",
      "\u001b[91m\u001b[1m🤬  Major\u001b[0m\n",
      "0.0\n"
     ]
    },
    {
     "data": {
      "text/html": [
       " <span style=\"background-color:#e0e0e0 \">13.234692</span>"
      ],
      "text/plain": [
       "<IPython.core.display.HTML object>"
      ]
     },
     "metadata": {},
     "output_type": "display_data"
    },
    {
     "data": {
      "text/html": [
       " I 'm also aware Skyler is openly flirting with Ted in the hope that someone treats her as a priority for a change whilst carrying a child whereas Walt has made everything about him ever since his 50th birthday ."
      ],
      "text/plain": [
       "<IPython.core.display.HTML object>"
      ]
     },
     "metadata": {},
     "output_type": "display_data"
    },
    {
     "data": {
      "text/html": [
       " Ich bin mir auch bewusst , dass Skyler offen mit Ted flirtet , in der Hoffnung , dass jemand sie als Priorität für eine Veränderung behandelt , während er ein Kind trägt , während Walt seit seinem 50. Geburtstag alles über ihn gemacht hat ."
      ],
      "text/plain": [
       "<IPython.core.display.HTML object>"
      ]
     },
     "metadata": {},
     "output_type": "display_data"
    },
    {
     "name": "stdout",
     "output_type": "stream",
     "text": [
      "____________________________________119___________________________________________________\n",
      "['No-error', 'No-error', 'No-error']\n",
      "\u001b[94m\u001b[1m🤓 OK\u001b[0m\n",
      "4.2961404\n"
     ]
    },
    {
     "data": {
      "text/html": [
       " <span style=\"background-color:#e0e0e0 \">7.0911336</span> <span style=\"background-color:#DFFF00 \">11.387274</span>"
      ],
      "text/plain": [
       "<IPython.core.display.HTML object>"
      ]
     },
     "metadata": {},
     "output_type": "display_data"
    },
    {
     "data": {
      "text/html": [
       " Information and statements about products are not intended to be used to diagnose , treat , cure , or prevent <span style=\"background-color:#DFFF00 \">any</span><span style=\"background-color:#DFFF00 \"> disease</span><span style=\"background-color:#DFFF00 \"> or</span><span style=\"background-color:#DFFF00 \"> health</span><span style=\"background-color:#DFFF00 \"> condition</span> ."
      ],
      "text/plain": [
       "<IPython.core.display.HTML object>"
      ]
     },
     "metadata": {},
     "output_type": "display_data"
    },
    {
     "data": {
      "text/html": [
       " Informationen und Aussagen über Produkte sind nicht dazu bestimmt , zur Diagnose , Behandlung , Heilung oder Vorbeugung <span style=\"background-color:#DFFF00 \">von</span><span style=\"background-color:#DFFF00 \"> Krankheiten</span><span style=\"background-color:#DFFF00 \"> oder</span><span style=\"background-color:#DFFF00 \"> Gesundheitszuständen</span> verwendet zu werden ."
      ],
      "text/plain": [
       "<IPython.core.display.HTML object>"
      ]
     },
     "metadata": {},
     "output_type": "display_data"
    },
    {
     "name": "stdout",
     "output_type": "stream",
     "text": [
      "____________________________________120___________________________________________________\n",
      "['major', 'major', 'major']\n",
      "['Accuracy/Mistranslation', 'Accuracy/Mistranslation', 'Accuracy/Mistranslation']\n",
      "\u001b[91m\u001b[1m🤬  Major\u001b[0m\n",
      "5.776611999999999\n"
     ]
    },
    {
     "data": {
      "text/html": [
       " <span style=\"background-color:#e0e0e0 \">6.430316</span> <span style=\"background-color:#DFFF00 \">12.206928</span>"
      ],
      "text/plain": [
       "<IPython.core.display.HTML object>"
      ]
     },
     "metadata": {},
     "output_type": "display_data"
    },
    {
     "data": {
      "text/html": [
       " And with hooker Dan Frost sin-binned <span style=\"background-color:#DFFF00 \">on</span><span style=\"background-color:#DFFF00 \"> the</span><span style=\"background-color:#DFFF00 \"> stroke</span><span style=\"background-color:#DFFF00 \"> of</span><span style=\"background-color:#DFFF00 \"> half-time</span> , their 13 men were on the ropes and Munster reacted by engineering tries for debutant Patrick Campbell and Andrew Conway ."
      ],
      "text/plain": [
       "<IPython.core.display.HTML object>"
      ]
     },
     "metadata": {},
     "output_type": "display_data"
    },
    {
     "data": {
      "text/html": [
       " Und mit dem Shisher Dan Frost , der <span style=\"background-color:#DFFF00 \">in</span><span style=\"background-color:#DFFF00 \"> der</span><span style=\"background-color:#DFFF00 \"> Halbzeit</span> sündig war , waren ihre 13 Männer an den Seilen und Munster reagierte mit technischen Versuchen für die Debütanten Patrick Campbell und Andrew Conway ."
      ],
      "text/plain": [
       "<IPython.core.display.HTML object>"
      ]
     },
     "metadata": {},
     "output_type": "display_data"
    },
    {
     "name": "stdout",
     "output_type": "stream",
     "text": [
      "____________________________________121___________________________________________________\n",
      "['major', 'major', 'major']\n",
      "['Accuracy/Source language fragment', 'Accuracy/Source language fragment', 'Accuracy/Mistranslation']\n",
      "\u001b[91m\u001b[1m🤬  Major\u001b[0m\n",
      "5.198133599999999\n"
     ]
    },
    {
     "data": {
      "text/html": [
       " <span style=\"background-color:#e0e0e0 \">4.5852294</span> <span style=\"background-color:#DFFF00 \">9.783363</span>"
      ],
      "text/plain": [
       "<IPython.core.display.HTML object>"
      ]
     },
     "metadata": {},
     "output_type": "display_data"
    },
    {
     "data": {
      "text/html": [
       " Alfie Barbeary 's all-action display capped by a captivating try had given Wasps hope <span style=\"background-color:#DFFF00 \">but</span> he was unexpectedly replaced at half-time and it became one-way traffic from the moment Campbell showed his class to finish in the 43rd minute ."
      ],
      "text/plain": [
       "<IPython.core.display.HTML object>"
      ]
     },
     "metadata": {},
     "output_type": "display_data"
    },
    {
     "data": {
      "text/html": [
       " Alfie Barbeary ' s All-Action-Display , das von einem fesselnden Versuch gekrönt wurde , hatte Wasps Hoffnung gegeben <span style=\"background-color:#DFFF00 \">,</span><span style=\"background-color:#DFFF00 \"> aber</span> er wurde unerwartet zur Halbzeit ausgewechselt und es wurde zu einem One-Way-Verkehr von dem Moment an , als Campbell seine Klasse in der 43. Minute beendete ."
      ],
      "text/plain": [
       "<IPython.core.display.HTML object>"
      ]
     },
     "metadata": {},
     "output_type": "display_data"
    },
    {
     "name": "stdout",
     "output_type": "stream",
     "text": [
      "____________________________________122___________________________________________________\n",
      "['major', 'major', 'major']\n",
      "['Accuracy/Mistranslation', 'Accuracy/Source language fragment', 'Accuracy/Mistranslation']\n",
      "\u001b[91m\u001b[1m🤬  Major\u001b[0m\n",
      "6.4441414\n"
     ]
    },
    {
     "data": {
      "text/html": [
       " <span style=\"background-color:#e0e0e0 \">4.6705256</span> <span style=\"background-color:#DFFF00 \">11.114667</span>"
      ],
      "text/plain": [
       "<IPython.core.display.HTML object>"
      ]
     },
     "metadata": {},
     "output_type": "display_data"
    },
    {
     "data": {
      "text/html": [
       " Wasps ' Covid-affected start to the day was compounded when play got underway , with Thomas Young denied a certain try <span style=\"background-color:#DFFF00 \">by</span><span style=\"background-color:#DFFF00 \"> O</span> 'Mahony 's excellent covering tackle ."
      ],
      "text/plain": [
       "<IPython.core.display.HTML object>"
      ]
     },
     "metadata": {},
     "output_type": "display_data"
    },
    {
     "data": {
      "text/html": [
       " Der von Covid betroffene Start des Tages wurde noch verschlimmert , als das Spiel begann , wobei Thomas Young einen bestimmten Versuch <span style=\"background-color:#DFFF00 \">von</span><span style=\"background-color:#DFFF00 \"> O</span> ' Mahonys ausgezeichnetem Cover-Tackle ablehnte ."
      ],
      "text/plain": [
       "<IPython.core.display.HTML object>"
      ]
     },
     "metadata": {},
     "output_type": "display_data"
    },
    {
     "name": "stdout",
     "output_type": "stream",
     "text": [
      "____________________________________123___________________________________________________\n",
      "['major', 'major', 'major']\n",
      "['Accuracy/Mistranslation', 'Accuracy/Mistranslation', 'Accuracy/Mistranslation']\n",
      "\u001b[91m\u001b[1m🤬  Major\u001b[0m\n",
      "0.0\n"
     ]
    },
    {
     "data": {
      "text/html": [
       " <span style=\"background-color:#e0e0e0 \">10.07461</span>"
      ],
      "text/plain": [
       "<IPython.core.display.HTML object>"
      ]
     },
     "metadata": {},
     "output_type": "display_data"
    },
    {
     "data": {
      "text/html": [
       " Munster overran Wasps in a thrillingly chaotic Heineken Champions Cup clash contested by makeshift teams besieged by Covid and injury problems ."
      ],
      "text/plain": [
       "<IPython.core.display.HTML object>"
      ]
     },
     "metadata": {},
     "output_type": "display_data"
    },
    {
     "data": {
      "text/html": [
       " Munster überwältigt Wasps in einem aufregend chaotischen Heineken Champions Cup-Kampfkampf , der von schlechten Teams , die von Covid und Verletzungen belagert sind , gestritten wird ."
      ],
      "text/plain": [
       "<IPython.core.display.HTML object>"
      ]
     },
     "metadata": {},
     "output_type": "display_data"
    },
    {
     "name": "stdout",
     "output_type": "stream",
     "text": [
      "____________________________________124___________________________________________________\n",
      "['major', 'major', 'major', 'major']\n",
      "['Accuracy/Source language fragment', 'Accuracy/Source language fragment', 'Accuracy/Mistranslation', 'Accuracy/Mistranslation']\n",
      "\u001b[91m\u001b[1m🤬  Major\u001b[0m\n",
      "0.0\n"
     ]
    },
    {
     "data": {
      "text/html": [
       " <span style=\"background-color:#e0e0e0 \">13.596407</span>"
      ],
      "text/plain": [
       "<IPython.core.display.HTML object>"
      ]
     },
     "metadata": {},
     "output_type": "display_data"
    },
    {
     "data": {
      "text/html": [
       " A rollercoaster first half ended with Munster leading 13-7 after Wasps skipper Brad Shields had been controversially sent off for a dangerous tackle on Dave Kilcoyne ."
      ],
      "text/plain": [
       "<IPython.core.display.HTML object>"
      ]
     },
     "metadata": {},
     "output_type": "display_data"
    },
    {
     "data": {
      "text/html": [
       " Eine Rollercoaster erste Hälfte endete mit Munster führend 13-7 nach Wasps Skipper Brad Shields wurde umstritten entsandt für eine gefährliche Abhilfe auf Dave Kilcoyne ."
      ],
      "text/plain": [
       "<IPython.core.display.HTML object>"
      ]
     },
     "metadata": {},
     "output_type": "display_data"
    },
    {
     "name": "stdout",
     "output_type": "stream",
     "text": [
      "____________________________________125___________________________________________________\n",
      "['major', 'major', 'major']\n",
      "['Accuracy/Source language fragment', 'Accuracy/Mistranslation', 'Accuracy/Mistranslation']\n",
      "\u001b[91m\u001b[1m🤬  Major\u001b[0m\n",
      "0.0\n"
     ]
    },
    {
     "data": {
      "text/html": [
       " <span style=\"background-color:#e0e0e0 \">10.6382885</span>"
      ],
      "text/plain": [
       "<IPython.core.display.HTML object>"
      ]
     },
     "metadata": {},
     "output_type": "display_data"
    },
    {
     "data": {
      "text/html": [
       " And with hooker Dan Frost sin-binned on the stroke of half-time , their 13 men were on the ropes and Munster reacted by engineering tries for debutant Patrick Campbell and Andrew Conway ."
      ],
      "text/plain": [
       "<IPython.core.display.HTML object>"
      ]
     },
     "metadata": {},
     "output_type": "display_data"
    },
    {
     "data": {
      "text/html": [
       " Und mit dem Hooker Dan Frost auf dem Schlag der Halbzeit , waren ihre 13 Männer auf den Seilen und Munster reagierte mit Ingenieursversuchen für Debütanten Patrick Campbell und Andrew Conway ."
      ],
      "text/plain": [
       "<IPython.core.display.HTML object>"
      ]
     },
     "metadata": {},
     "output_type": "display_data"
    },
    {
     "name": "stdout",
     "output_type": "stream",
     "text": [
      "____________________________________126___________________________________________________\n",
      "['major', 'major', 'major']\n",
      "['Accuracy/Source language fragment', 'Accuracy/Mistranslation', 'Accuracy/Mistranslation']\n",
      "\u001b[91m\u001b[1m🤬  Major\u001b[0m\n",
      "0.0\n"
     ]
    },
    {
     "data": {
      "text/html": [
       " <span style=\"background-color:#e0e0e0 \">10.291088</span>"
      ],
      "text/plain": [
       "<IPython.core.display.HTML object>"
      ]
     },
     "metadata": {},
     "output_type": "display_data"
    },
    {
     "data": {
      "text/html": [
       " Alfie Barbeary 's all-action display capped by a captivating try had given Wasps hope but he was unexpectedly replaced at half-time and it became one-way traffic from the moment Campbell showed his class to finish in the 43rd minute ."
      ],
      "text/plain": [
       "<IPython.core.display.HTML object>"
      ]
     },
     "metadata": {},
     "output_type": "display_data"
    },
    {
     "data": {
      "text/html": [
       " Alfie Barbeary ' s All-Action-Display , begrenzt durch einen faszinierenden Versuch , hatte Wasps Hoffnung gegeben , aber er wurde unerwartet in der Halbzeit ersetzt und es wurde einseitig Verkehr aus dem Moment Campbell zeigte seine Klasse in der 43. Minute zu beenden ."
      ],
      "text/plain": [
       "<IPython.core.display.HTML object>"
      ]
     },
     "metadata": {},
     "output_type": "display_data"
    },
    {
     "name": "stdout",
     "output_type": "stream",
     "text": [
      "____________________________________127___________________________________________________\n",
      "['No-error', 'No-error', 'No-error', 'No-error']\n",
      "\u001b[94m\u001b[1m🤓 OK\u001b[0m\n",
      "0.0\n"
     ]
    },
    {
     "data": {
      "text/html": [
       " <span style=\"background-color:#e0e0e0 \">13.169568</span>"
      ],
      "text/plain": [
       "<IPython.core.display.HTML object>"
      ]
     },
     "metadata": {},
     "output_type": "display_data"
    },
    {
     "data": {
      "text/html": [
       " Please always read the labels , warnings , and directions provided with the product before using or consuming a product ."
      ],
      "text/plain": [
       "<IPython.core.display.HTML object>"
      ]
     },
     "metadata": {},
     "output_type": "display_data"
    },
    {
     "data": {
      "text/html": [
       " Bitte lesen Sie immer die Etiketten , Warnhinweise und Anweisungen , die mit dem Produkt geliefert werden , bevor Sie ein Produkt verwenden oder konsumieren ."
      ],
      "text/plain": [
       "<IPython.core.display.HTML object>"
      ]
     },
     "metadata": {},
     "output_type": "display_data"
    },
    {
     "name": "stdout",
     "output_type": "stream",
     "text": [
      "____________________________________128___________________________________________________\n",
      "['major', 'major', 'major']\n",
      "['Accuracy/Mistranslation', 'Accuracy/Mistranslation', 'Accuracy/Mistranslation']\n",
      "\u001b[91m\u001b[1m🤬  Major\u001b[0m\n",
      "0.0\n"
     ]
    },
    {
     "data": {
      "text/html": [
       " <span style=\"background-color:#e0e0e0 \">7.76334</span>"
      ],
      "text/plain": [
       "<IPython.core.display.HTML object>"
      ]
     },
     "metadata": {},
     "output_type": "display_data"
    },
    {
     "data": {
      "text/html": [
       " Extension tubes are metal tubes with a rear-lens mount at one end and a camera-body mount at the other end ."
      ],
      "text/plain": [
       "<IPython.core.display.HTML object>"
      ]
     },
     "metadata": {},
     "output_type": "display_data"
    },
    {
     "data": {
      "text/html": [
       " Zwischenringe sind Metallringe mit einer rückwärtigen Objektivbefestigung an einem Ende und einer Kameragehäusebefestigung am anderen ."
      ],
      "text/plain": [
       "<IPython.core.display.HTML object>"
      ]
     },
     "metadata": {},
     "output_type": "display_data"
    },
    {
     "name": "stdout",
     "output_type": "stream",
     "text": [
      "____________________________________129___________________________________________________\n",
      "['No-error', 'No-error', 'No-error']\n",
      "\u001b[94m\u001b[1m🤓 OK\u001b[0m\n",
      "2.778454\n"
     ]
    },
    {
     "data": {
      "text/html": [
       " <span style=\"background-color:#e0e0e0 \">7.182667</span> <span style=\"background-color:#DFFF00 \">9.961121</span>"
      ],
      "text/plain": [
       "<IPython.core.display.HTML object>"
      ]
     },
     "metadata": {},
     "output_type": "display_data"
    },
    {
     "data": {
      "text/html": [
       " Information and statements about products are not intended to be used to diagnose , treat , cure <span style=\"background-color:#DFFF00 \">,</span><span style=\"background-color:#DFFF00 \"> or</span><span style=\"background-color:#DFFF00 \"> prevent</span> any disease or health condition ."
      ],
      "text/plain": [
       "<IPython.core.display.HTML object>"
      ]
     },
     "metadata": {},
     "output_type": "display_data"
    },
    {
     "data": {
      "text/html": [
       " Informationen und Aussagen über Produkte sind nicht dazu bestimmt , Krankheiten oder Gesundheitszustände zu diagnostizieren , zu behandeln , zu heilen <span style=\"background-color:#DFFF00 \">oder</span><span style=\"background-color:#DFFF00 \"> zu</span><span style=\"background-color:#DFFF00 \"> verhindern</span> ."
      ],
      "text/plain": [
       "<IPython.core.display.HTML object>"
      ]
     },
     "metadata": {},
     "output_type": "display_data"
    },
    {
     "name": "stdout",
     "output_type": "stream",
     "text": [
      "____________________________________130___________________________________________________\n",
      "['major', 'major', 'major']\n",
      "['Accuracy/Source language fragment', 'Accuracy/Source language fragment', 'Accuracy/Source language fragment']\n",
      "\u001b[91m\u001b[1m🤬  Major\u001b[0m\n",
      "0.0\n"
     ]
    },
    {
     "data": {
      "text/html": [
       " <span style=\"background-color:#e0e0e0 \">13.325374</span>"
      ],
      "text/plain": [
       "<IPython.core.display.HTML object>"
      ]
     },
     "metadata": {},
     "output_type": "display_data"
    },
    {
     "data": {
      "text/html": [
       " K-IIT XLTM Picture-in-Picture Image Insertion Technology - Ultra stable picture − in − picture , picture − and − picture , and split screen capability ."
      ],
      "text/plain": [
       "<IPython.core.display.HTML object>"
      ]
     },
     "metadata": {},
     "output_type": "display_data"
    },
    {
     "data": {
      "text/html": [
       " K-IIT XLTM Picture-in-Picture Image Insertion Technology - Extrem stabile picture − in − picture , picture − and − picture und Split-Screen-Funktion ."
      ],
      "text/plain": [
       "<IPython.core.display.HTML object>"
      ]
     },
     "metadata": {},
     "output_type": "display_data"
    },
    {
     "name": "stdout",
     "output_type": "stream",
     "text": [
      "____________________________________131___________________________________________________\n",
      "['major', 'major', 'major']\n",
      "['Accuracy/Mistranslation', 'Accuracy/Mistranslation', 'Accuracy/Mistranslation']\n",
      "\u001b[91m\u001b[1m🤬  Major\u001b[0m\n",
      "0.0\n"
     ]
    },
    {
     "data": {
      "text/html": [
       " <span style=\"background-color:#e0e0e0 \">11.349587</span>"
      ],
      "text/plain": [
       "<IPython.core.display.HTML object>"
      ]
     },
     "metadata": {},
     "output_type": "display_data"
    },
    {
     "data": {
      "text/html": [
       " Rival factions have accused each other of intimidating or bribing judicial officials to secure their reinstatement of their candidates , and the commission is looking to see if the decisions were valid ."
      ],
      "text/plain": [
       "<IPython.core.display.HTML object>"
      ]
     },
     "metadata": {},
     "output_type": "display_data"
    },
    {
     "data": {
      "text/html": [
       " Rivalisierende Fraktionen haben sich gegenseitig beschuldigt , Justizbeamte einschüchternd oder geflüchtet zu haben , um ihre Wiederherstellung ihrer Kandidaten zu gewährleisten , und die Kommission sucht nach , ob die Entscheidungen gültig waren ."
      ],
      "text/plain": [
       "<IPython.core.display.HTML object>"
      ]
     },
     "metadata": {},
     "output_type": "display_data"
    },
    {
     "name": "stdout",
     "output_type": "stream",
     "text": [
      "____________________________________132___________________________________________________\n",
      "['major', 'major', 'major']\n",
      "['Accuracy/Mistranslation', 'Accuracy/Source language fragment', 'Accuracy/Mistranslation']\n",
      "\u001b[91m\u001b[1m🤬  Major\u001b[0m\n",
      "1.5816470000000002\n"
     ]
    },
    {
     "data": {
      "text/html": [
       " <span style=\"background-color:#e0e0e0 \">9.368871</span> <span style=\"background-color:#DFFF00 \">10.950518</span>"
      ],
      "text/plain": [
       "<IPython.core.display.HTML object>"
      ]
     },
     "metadata": {},
     "output_type": "display_data"
    },
    {
     "data": {
      "text/html": [
       " Step 3 : Those <span style=\"background-color:#DFFF00 \">that</span><span style=\"background-color:#DFFF00 \"> are</span> at tills and anyone else really are free to wait a couple minutes to see if backup generators can get us going again ."
      ],
      "text/plain": [
       "<IPython.core.display.HTML object>"
      ]
     },
     "metadata": {},
     "output_type": "display_data"
    },
    {
     "data": {
      "text/html": [
       " Schritt 3 : Die <span style=\"background-color:#DFFF00 \">Personen</span> an den Kassen und alle anderen können eigentlich ein paar Minuten warten , um zu sehen , ob die Backup-Generatoren uns wieder zum Laufen bringen ."
      ],
      "text/plain": [
       "<IPython.core.display.HTML object>"
      ]
     },
     "metadata": {},
     "output_type": "display_data"
    },
    {
     "name": "stdout",
     "output_type": "stream",
     "text": [
      "____________________________________133___________________________________________________\n",
      "['major', 'major', 'major']\n",
      "['Accuracy/Mistranslation', 'Accuracy/Mistranslation', 'Accuracy/Mistranslation']\n",
      "\u001b[91m\u001b[1m🤬  Major\u001b[0m\n",
      "7.1581101\n"
     ]
    },
    {
     "data": {
      "text/html": [
       " <span style=\"background-color:#e0e0e0 \">3.3132129</span> <span style=\"background-color:#DFFF00 \">8.216114</span> <span style=\"background-color:#9FE2BF \">10.471323</span>"
      ],
      "text/plain": [
       "<IPython.core.display.HTML object>"
      ]
     },
     "metadata": {},
     "output_type": "display_data"
    },
    {
     "data": {
      "text/html": [
       " That 's because the base power <span style=\"background-color:#DFFF00 \">in</span><span style=\"background-color:#DFFF00 \"> the</span><span style=\"background-color:#DFFF00 \"> precinct</span> is required to supply the Gabba 's light towers - one of which infamously went down during a Big Bash <span style=\"background-color:#9FE2BF \">League</span><span style=\"background-color:#9FE2BF \"> match</span><span style=\"background-color:#9FE2BF \"> in</span> 2019 - and the ground itself ."
      ],
      "text/plain": [
       "<IPython.core.display.HTML object>"
      ]
     },
     "metadata": {},
     "output_type": "display_data"
    },
    {
     "data": {
      "text/html": [
       " Denn die Basisleistung <span style=\"background-color:#DFFF00 \">im</span><span style=\"background-color:#DFFF00 \"> Stadtviertel</span> ist notwendig , um die Lichttürme von Gabba - von denen einer bei einem Big Bash <span style=\"background-color:#9FE2BF \">League-Spiel</span> 2019 unrühmlich umfiel - und das Gelände selbst zu versorgen ."
      ],
      "text/plain": [
       "<IPython.core.display.HTML object>"
      ]
     },
     "metadata": {},
     "output_type": "display_data"
    },
    {
     "name": "stdout",
     "output_type": "stream",
     "text": [
      "____________________________________134___________________________________________________\n",
      "['major', 'major', 'major']\n",
      "['Accuracy/Mistranslation', 'Accuracy/Mistranslation', 'Accuracy/Mistranslation']\n",
      "\u001b[91m\u001b[1m🤬  Major\u001b[0m\n",
      "7.497813000000001\n"
     ]
    },
    {
     "data": {
      "text/html": [
       " <span style=\"background-color:#e0e0e0 \">4.937289</span> <span style=\"background-color:#DFFF00 \">9.974589</span> <span style=\"background-color:#9FE2BF \">12.435102</span>"
      ],
      "text/plain": [
       "<IPython.core.display.HTML object>"
      ]
     },
     "metadata": {},
     "output_type": "display_data"
    },
    {
     "data": {
      "text/html": [
       " And with <span style=\"background-color:#9FE2BF \">hooker</span> Dan Frost sin-binned <span style=\"background-color:#DFFF00 \">on</span><span style=\"background-color:#DFFF00 \"> the</span><span style=\"background-color:#DFFF00 \"> stroke</span> of half-time , their 13 men were on the ropes and Munster reacted by engineering tries for debutant Patrick Campbell and Andrew Conway ."
      ],
      "text/plain": [
       "<IPython.core.display.HTML object>"
      ]
     },
     "metadata": {},
     "output_type": "display_data"
    },
    {
     "data": {
      "text/html": [
       " Und da <span style=\"background-color:#9FE2BF \">Nutte</span> Dan Frost pünktlich <span style=\"background-color:#DFFF00 \">zur</span> Halbzeit in Seenot geraten war , standen ihre 13 Männer in den Seilen und Munster reagierte mit einem Versuch der Ingenieurskunst für die Debütanten Patrick Campbell und Andrew Conway ."
      ],
      "text/plain": [
       "<IPython.core.display.HTML object>"
      ]
     },
     "metadata": {},
     "output_type": "display_data"
    },
    {
     "name": "stdout",
     "output_type": "stream",
     "text": [
      "____________________________________135___________________________________________________\n",
      "['major', 'major', 'major']\n",
      "['Accuracy/Mistranslation', 'Accuracy/Mistranslation', 'Accuracy/Source language fragment']\n",
      "\u001b[91m\u001b[1m🤬  Major\u001b[0m\n",
      "0.0\n"
     ]
    },
    {
     "data": {
      "text/html": [
       " <span style=\"background-color:#e0e0e0 \">11.68889</span>"
      ],
      "text/plain": [
       "<IPython.core.display.HTML object>"
      ]
     },
     "metadata": {},
     "output_type": "display_data"
    },
    {
     "data": {
      "text/html": [
       " A rollercoaster first half ended with Munster leading 13-7 after Wasps skipper Brad Shields had been controversially sent off for a dangerous tackle on Dave Kilcoyne ."
      ],
      "text/plain": [
       "<IPython.core.display.HTML object>"
      ]
     },
     "metadata": {},
     "output_type": "display_data"
    },
    {
     "data": {
      "text/html": [
       " Eine Achterbahn erste Hälfte endete mit Munster führenden 13-7 nach Wespen Skipper Brad Shields war kontrovers für einen gefährlichen Angriff auf Dave Kilcoyne geschickt worden ."
      ],
      "text/plain": [
       "<IPython.core.display.HTML object>"
      ]
     },
     "metadata": {},
     "output_type": "display_data"
    },
    {
     "name": "stdout",
     "output_type": "stream",
     "text": [
      "____________________________________136___________________________________________________\n",
      "['major', 'major', 'major', 'major', 'major']\n",
      "['Accuracy/Mistranslation', 'Accuracy/Mistranslation', 'Accuracy/Mistranslation', 'Accuracy/Mistranslation', 'Accuracy/Source language fragment']\n",
      "\u001b[91m\u001b[1m🤬  Major\u001b[0m\n",
      "0.0\n"
     ]
    },
    {
     "data": {
      "text/html": [
       " <span style=\"background-color:#e0e0e0 \">12.591553</span>"
      ],
      "text/plain": [
       "<IPython.core.display.HTML object>"
      ]
     },
     "metadata": {},
     "output_type": "display_data"
    },
    {
     "data": {
      "text/html": [
       " And with hooker Dan Frost sin-binned on the stroke of half-time , their 13 men were on the ropes and Munster reacted by engineering tries for debutant Patrick Campbell and Andrew Conway ."
      ],
      "text/plain": [
       "<IPython.core.display.HTML object>"
      ]
     },
     "metadata": {},
     "output_type": "display_data"
    },
    {
     "data": {
      "text/html": [
       " Und mit Nutte Dan Frost Sünde-binned auf den Schlag der Halbzeit , ihre 13 Männer waren an den Seilen und Munster reagierte mit Engineering-Versuche für Debütant Patrick Campbell und Andrew Conway ."
      ],
      "text/plain": [
       "<IPython.core.display.HTML object>"
      ]
     },
     "metadata": {},
     "output_type": "display_data"
    },
    {
     "name": "stdout",
     "output_type": "stream",
     "text": [
      "____________________________________137___________________________________________________\n",
      "['major', 'major', 'major']\n",
      "['Accuracy/Mistranslation', 'Accuracy/Mistranslation', 'Accuracy/Mistranslation']\n",
      "\u001b[91m\u001b[1m🤬  Major\u001b[0m\n",
      "6.2090749999999995\n"
     ]
    },
    {
     "data": {
      "text/html": [
       " <span style=\"background-color:#e0e0e0 \">6.840827</span> <span style=\"background-color:#DFFF00 \">13.049902</span>"
      ],
      "text/plain": [
       "<IPython.core.display.HTML object>"
      ]
     },
     "metadata": {},
     "output_type": "display_data"
    },
    {
     "data": {
      "text/html": [
       " Munster , meanwhile , were missing 34 squad personnel because of quarantine following their recent ill-fated United Rugby Championship trip to South Africa , creating five debutants in the starting XV <span style=\"background-color:#DFFF00 \">and</span><span style=\"background-color:#DFFF00 \"> another</span><span style=\"background-color:#DFFF00 \"> seven</span><span style=\"background-color:#DFFF00 \"> on</span><span style=\"background-color:#DFFF00 \"> the</span><span style=\"background-color:#DFFF00 \"> bench</span> ."
      ],
      "text/plain": [
       "<IPython.core.display.HTML object>"
      ]
     },
     "metadata": {},
     "output_type": "display_data"
    },
    {
     "data": {
      "text/html": [
       " Munster , unterdessen fehlten 34 Kader Personal wegen der Quarantäne nach ihrer jüngsten unglücklichen United Rugby Championship Reise nach Südafrika , wodurch fünf Debütanten in der Start-XV <span style=\"background-color:#DFFF00 \">und</span><span style=\"background-color:#DFFF00 \"> weitere</span><span style=\"background-color:#DFFF00 \"> sieben</span><span style=\"background-color:#DFFF00 \"> auf</span><span style=\"background-color:#DFFF00 \"> der</span><span style=\"background-color:#DFFF00 \"> Bank</span> ."
      ],
      "text/plain": [
       "<IPython.core.display.HTML object>"
      ]
     },
     "metadata": {},
     "output_type": "display_data"
    },
    {
     "name": "stdout",
     "output_type": "stream",
     "text": [
      "____________________________________138___________________________________________________\n",
      "['major', 'major', 'major']\n",
      "['Accuracy/Source language fragment', 'Accuracy/Mistranslation', 'Accuracy/Mistranslation']\n",
      "\u001b[91m\u001b[1m🤬  Major\u001b[0m\n",
      "2.327197999999999\n"
     ]
    },
    {
     "data": {
      "text/html": [
       " <span style=\"background-color:#e0e0e0 \">9.755741</span> <span style=\"background-color:#DFFF00 \">12.082939</span>"
      ],
      "text/plain": [
       "<IPython.core.display.HTML object>"
      ]
     },
     "metadata": {},
     "output_type": "display_data"
    },
    {
     "data": {
      "text/html": [
       " <span style=\"background-color:#DFFF00 \">Primary</span> and backup generators powering the global broadcast of the Gabba Test went down for about 25 minutes on day four ."
      ],
      "text/plain": [
       "<IPython.core.display.HTML object>"
      ]
     },
     "metadata": {},
     "output_type": "display_data"
    },
    {
     "data": {
      "text/html": [
       " <span style=\"background-color:#DFFF00 \">Die</span><span style=\"background-color:#DFFF00 \"> Primär-</span> und Backup-Generatoren , die die weltweite Übertragung des Gabba-Tests leisten , gingen am vierten Tag für etwa 25 Minuten zurück ."
      ],
      "text/plain": [
       "<IPython.core.display.HTML object>"
      ]
     },
     "metadata": {},
     "output_type": "display_data"
    },
    {
     "name": "stdout",
     "output_type": "stream",
     "text": [
      "____________________________________139___________________________________________________\n",
      "['major', 'major', 'major']\n",
      "['Accuracy/Source language fragment', 'Accuracy/Source language fragment', 'Accuracy/Source language fragment']\n",
      "\u001b[91m\u001b[1m🤬  Major\u001b[0m\n",
      "1.1559069999999991\n"
     ]
    },
    {
     "data": {
      "text/html": [
       " <span style=\"background-color:#e0e0e0 \">9.897655</span> <span style=\"background-color:#DFFF00 \">11.053562</span>"
      ],
      "text/plain": [
       "<IPython.core.display.HTML object>"
      ]
     },
     "metadata": {},
     "output_type": "display_data"
    },
    {
     "data": {
      "text/html": [
       " As a result , broadcasters <span style=\"background-color:#DFFF00 \">draw</span> their primary power supply from a huge , diesel-fuelled generator hired for the Test match , with back-up power meant to be derived from a back-up generator ."
      ],
      "text/plain": [
       "<IPython.core.display.HTML object>"
      ]
     },
     "metadata": {},
     "output_type": "display_data"
    },
    {
     "data": {
      "text/html": [
       " Infolgedessen <span style=\"background-color:#DFFF00 \">ziehen</span> Sender ihre primäre Stromversorgung aus einem riesigen , für das Testmatch gemieteten Diesel-Generator , wobei die Backup-Stromversorgung aus einem Backup-Generator stammt ."
      ],
      "text/plain": [
       "<IPython.core.display.HTML object>"
      ]
     },
     "metadata": {},
     "output_type": "display_data"
    },
    {
     "name": "stdout",
     "output_type": "stream",
     "text": [
      "____________________________________140___________________________________________________\n",
      "['major', 'major', 'major', 'major']\n",
      "['Accuracy/Source language fragment', 'Accuracy/Mistranslation', 'Accuracy/Source language fragment', 'Accuracy/Mistranslation']\n",
      "\u001b[91m\u001b[1m🤬  Major\u001b[0m\n",
      "0.0\n"
     ]
    },
    {
     "data": {
      "text/html": [
       " <span style=\"background-color:#e0e0e0 \">12.542733</span>"
      ],
      "text/plain": [
       "<IPython.core.display.HTML object>"
      ]
     },
     "metadata": {},
     "output_type": "display_data"
    },
    {
     "data": {
      "text/html": [
       " Step 3 : Those that are at tills and anyone else really are free to wait a couple minutes to see if backup generators can get us going again ."
      ],
      "text/plain": [
       "<IPython.core.display.HTML object>"
      ]
     },
     "metadata": {},
     "output_type": "display_data"
    },
    {
     "data": {
      "text/html": [
       " Schritt 3 : Diejenigen , die bei Tills sind und jeder andere ist wirklich frei , ein paar Minuten zu warten , um zu sehen , ob Backup-Generatoren können uns wieder gehen ."
      ],
      "text/plain": [
       "<IPython.core.display.HTML object>"
      ]
     },
     "metadata": {},
     "output_type": "display_data"
    },
    {
     "name": "stdout",
     "output_type": "stream",
     "text": [
      "____________________________________141___________________________________________________\n",
      "['major', 'major', 'major']\n",
      "['Accuracy/Mistranslation', 'Accuracy/Mistranslation', 'Accuracy/Mistranslation']\n",
      "\u001b[91m\u001b[1m🤬  Major\u001b[0m\n",
      "3.668036\n"
     ]
    },
    {
     "data": {
      "text/html": [
       " <span style=\"background-color:#e0e0e0 \">7.405389</span> <span style=\"background-color:#DFFF00 \">9.571211</span> <span style=\"background-color:#9FE2BF \">11.073425</span>"
      ],
      "text/plain": [
       "<IPython.core.display.HTML object>"
      ]
     },
     "metadata": {},
     "output_type": "display_data"
    },
    {
     "data": {
      "text/html": [
       " And with hooker Dan Frost sin-binned <span style=\"background-color:#DFFF00 \">on</span><span style=\"background-color:#DFFF00 \"> the</span><span style=\"background-color:#DFFF00 \"> stroke</span><span style=\"background-color:#DFFF00 \"> of</span> half-time , their 13 men were on the ropes and <span style=\"background-color:#9FE2BF \">Munster</span> reacted by engineering tries for debutant Patrick Campbell and Andrew Conway ."
      ],
      "text/plain": [
       "<IPython.core.display.HTML object>"
      ]
     },
     "metadata": {},
     "output_type": "display_data"
    },
    {
     "data": {
      "text/html": [
       " Da Hookerin Dan Frost pünktlich <span style=\"background-color:#DFFF00 \">zur</span> Halbzeit verurteilt wurde , hingen ihre 13 Männer in den Seilen und <span style=\"background-color:#9FE2BF \">Münster</span> reagierte mit technischen Versuchen für die Debütanten Patrick Campbell und Andrew Conway ."
      ],
      "text/plain": [
       "<IPython.core.display.HTML object>"
      ]
     },
     "metadata": {},
     "output_type": "display_data"
    },
    {
     "name": "stdout",
     "output_type": "stream",
     "text": [
      "____________________________________142___________________________________________________\n",
      "['No-error', 'No-error', 'No-error']\n",
      "\u001b[94m\u001b[1m🤓 OK\u001b[0m\n",
      "0.0\n"
     ]
    },
    {
     "data": {
      "text/html": [
       " <span style=\"background-color:#e0e0e0 \">12.961002</span>"
      ],
      "text/plain": [
       "<IPython.core.display.HTML object>"
      ]
     },
     "metadata": {},
     "output_type": "display_data"
    },
    {
     "data": {
      "text/html": [
       " \" All that I know is that the intensity of the weather across the board has some impact as a consequence of the warming of the planet , \" Biden said ."
      ],
      "text/plain": [
       "<IPython.core.display.HTML object>"
      ]
     },
     "metadata": {},
     "output_type": "display_data"
    },
    {
     "data": {
      "text/html": [
       " \" Alles , was ich weiß , ist , dass die Intensität des Wetters auf der ganzen Linie einige Auswirkungen als Folge der Erwärmung des Planeten hat \" , sagte Biden ."
      ],
      "text/plain": [
       "<IPython.core.display.HTML object>"
      ]
     },
     "metadata": {},
     "output_type": "display_data"
    },
    {
     "name": "stdout",
     "output_type": "stream",
     "text": [
      "____________________________________143___________________________________________________\n",
      "['No-error', 'No-error', 'No-error', 'No-error', 'No-error', 'No-error']\n",
      "\u001b[94m\u001b[1m🤓 OK\u001b[0m\n",
      "3.978634499999999\n"
     ]
    },
    {
     "data": {
      "text/html": [
       " <span style=\"background-color:#e0e0e0 \">6.3179045</span> <span style=\"background-color:#DFFF00 \">10.296539</span>"
      ],
      "text/plain": [
       "<IPython.core.display.HTML object>"
      ]
     },
     "metadata": {},
     "output_type": "display_data"
    },
    {
     "data": {
      "text/html": [
       " If I want something out of the ordinary , however , <span style=\"background-color:#DFFF00 \">I</span><span style=\"background-color:#DFFF00 \"> buy</span> direct from the manufacturer or through Muir ."
      ],
      "text/plain": [
       "<IPython.core.display.HTML object>"
      ]
     },
     "metadata": {},
     "output_type": "display_data"
    },
    {
     "data": {
      "text/html": [
       " Wenn ich jedoch etwas Außergewöhnliches möchte , <span style=\"background-color:#DFFF00 \">kaufe</span><span style=\"background-color:#DFFF00 \"> ich</span> direkt beim Hersteller oder über Muir ."
      ],
      "text/plain": [
       "<IPython.core.display.HTML object>"
      ]
     },
     "metadata": {},
     "output_type": "display_data"
    },
    {
     "name": "stdout",
     "output_type": "stream",
     "text": [
      "____________________________________144___________________________________________________\n",
      "['No-error', 'No-error', 'No-error']\n",
      "\u001b[94m\u001b[1m🤓 OK\u001b[0m\n",
      "0.0\n"
     ]
    },
    {
     "data": {
      "text/html": [
       " <span style=\"background-color:#e0e0e0 \">13.440992</span>"
      ],
      "text/plain": [
       "<IPython.core.display.HTML object>"
      ]
     },
     "metadata": {},
     "output_type": "display_data"
    },
    {
     "data": {
      "text/html": [
       " Moscow says the expansion of NATO threatens Russia and has contravened assurances given to it as the Soviet Union collapsed in 1991 ."
      ],
      "text/plain": [
       "<IPython.core.display.HTML object>"
      ]
     },
     "metadata": {},
     "output_type": "display_data"
    },
    {
     "data": {
      "text/html": [
       " Moskau sagt , die Erweiterung der NATO bedrohe Russland und habe gegen Zusicherungen verstoßen , die ihm beim Zusammenbruch der Sowjetunion im Jahr 1991 gegeben wurden ."
      ],
      "text/plain": [
       "<IPython.core.display.HTML object>"
      ]
     },
     "metadata": {},
     "output_type": "display_data"
    },
    {
     "name": "stdout",
     "output_type": "stream",
     "text": [
      "____________________________________145___________________________________________________\n",
      "['No-error', 'No-error', 'No-error', 'No-error', 'No-error']\n",
      "\u001b[94m\u001b[1m🤓 OK\u001b[0m\n",
      "0.0\n"
     ]
    },
    {
     "data": {
      "text/html": [
       " <span style=\"background-color:#e0e0e0 \">9.962991</span>"
      ],
      "text/plain": [
       "<IPython.core.display.HTML object>"
      ]
     },
     "metadata": {},
     "output_type": "display_data"
    },
    {
     "data": {
      "text/html": [
       " Please kindly contact us via eBay messages and a member of our team will get back to you as soon as possible ."
      ],
      "text/plain": [
       "<IPython.core.display.HTML object>"
      ]
     },
     "metadata": {},
     "output_type": "display_data"
    },
    {
     "data": {
      "text/html": [
       " Bitte kontaktieren Sie uns über eBay-Nachrichten und ein Mitglied unseres Teams wird sich so schnell wie möglich mit Ihnen in Verbindung setzen ."
      ],
      "text/plain": [
       "<IPython.core.display.HTML object>"
      ]
     },
     "metadata": {},
     "output_type": "display_data"
    },
    {
     "name": "stdout",
     "output_type": "stream",
     "text": [
      "____________________________________146___________________________________________________\n",
      "['major', 'major', 'minor']\n",
      "['Accuracy/Source language fragment', 'Accuracy/Mistranslation', 'Accuracy/Mistranslation']\n",
      "\u001b[91m\u001b[1m🤬  Major\u001b[0m\n",
      "17.533965000000002\n"
     ]
    },
    {
     "data": {
      "text/html": [
       " <span style=\"background-color:#e0e0e0 \">-5.884976</span> <span style=\"background-color:#DFFF00 \">11.648989</span>"
      ],
      "text/plain": [
       "<IPython.core.display.HTML object>"
      ]
     },
     "metadata": {},
     "output_type": "display_data"
    },
    {
     "data": {
      "text/html": [
       " I am a Midwesterner , and have always been nice to PJ 's face , so I told her I was sorry , <span style=\"background-color:#DFFF00 \">that</span><span style=\"background-color:#DFFF00 \"> sucked</span><span style=\"background-color:#DFFF00 \"> ,</span> what about this project we 're both on ?"
      ],
      "text/plain": [
       "<IPython.core.display.HTML object>"
      ]
     },
     "metadata": {},
     "output_type": "display_data"
    },
    {
     "data": {
      "text/html": [
       " Ich bin ein Midwestern und war immer nett zu PJs Gesicht , also sagte ich ihr , dass ich bedauere , <span style=\"background-color:#DFFF00 \">dass</span><span style=\"background-color:#DFFF00 \"> saß</span><span style=\"background-color:#DFFF00 \"> ,</span> was ist mit diesem Projekt , auf dem wir beide sind ?"
      ],
      "text/plain": [
       "<IPython.core.display.HTML object>"
      ]
     },
     "metadata": {},
     "output_type": "display_data"
    },
    {
     "name": "stdout",
     "output_type": "stream",
     "text": [
      "____________________________________147___________________________________________________\n",
      "['No-error', 'No-error', 'No-error', 'No-error', 'No-error', 'No-error']\n",
      "\u001b[94m\u001b[1m🤓 OK\u001b[0m\n",
      "3.406051399999999\n"
     ]
    },
    {
     "data": {
      "text/html": [
       " <span style=\"background-color:#e0e0e0 \">7.9288106</span> <span style=\"background-color:#DFFF00 \">11.334862</span>"
      ],
      "text/plain": [
       "<IPython.core.display.HTML object>"
      ]
     },
     "metadata": {},
     "output_type": "display_data"
    },
    {
     "data": {
      "text/html": [
       " We are still looking ways to improve our services and this will be noted as <span style=\"background-color:#DFFF00 \">a</span><span style=\"background-color:#DFFF00 \"> feedback</span><span style=\"background-color:#DFFF00 \"> to</span> one of our valued customer ."
      ],
      "text/plain": [
       "<IPython.core.display.HTML object>"
      ]
     },
     "metadata": {},
     "output_type": "display_data"
    },
    {
     "data": {
      "text/html": [
       " Wir suchen immer noch nach Möglichkeiten , unsere Dienstleistungen zu verbessern , und dies wird als <span style=\"background-color:#DFFF00 \">Feedback</span><span style=\"background-color:#DFFF00 \"> an</span> einen unserer geschätzten Kunden vermerkt ."
      ],
      "text/plain": [
       "<IPython.core.display.HTML object>"
      ]
     },
     "metadata": {},
     "output_type": "display_data"
    },
    {
     "name": "stdout",
     "output_type": "stream",
     "text": [
      "____________________________________148___________________________________________________\n",
      "['No-error', 'No-error', 'No-error', 'No-error']\n",
      "\u001b[94m\u001b[1m🤓 OK\u001b[0m\n",
      "0.0\n"
     ]
    },
    {
     "data": {
      "text/html": [
       " <span style=\"background-color:#e0e0e0 \">13.847216</span>"
      ],
      "text/plain": [
       "<IPython.core.display.HTML object>"
      ]
     },
     "metadata": {},
     "output_type": "display_data"
    },
    {
     "data": {
      "text/html": [
       " And what does \" the developers can be confident that their patch / feature will get pushed out in the new release \" even mean ?"
      ],
      "text/plain": [
       "<IPython.core.display.HTML object>"
      ]
     },
     "metadata": {},
     "output_type": "display_data"
    },
    {
     "data": {
      "text/html": [
       " Und was bedeutet \" die Entwickler können sicher sein , dass ihr Patch / Feature in der neuen Version veröffentlicht wird \" überhaupt ?"
      ],
      "text/plain": [
       "<IPython.core.display.HTML object>"
      ]
     },
     "metadata": {},
     "output_type": "display_data"
    },
    {
     "name": "stdout",
     "output_type": "stream",
     "text": [
      "____________________________________149___________________________________________________\n",
      "['No-error', 'No-error', 'No-error']\n",
      "\u001b[94m\u001b[1m🤓 OK\u001b[0m\n",
      "1.1205689999999997\n"
     ]
    },
    {
     "data": {
      "text/html": [
       " <span style=\"background-color:#e0e0e0 \">9.811328</span> <span style=\"background-color:#DFFF00 \">10.931897</span>"
      ],
      "text/plain": [
       "<IPython.core.display.HTML object>"
      ]
     },
     "metadata": {},
     "output_type": "display_data"
    },
    {
     "data": {
      "text/html": [
       " Even if Apple upped the rate of OS updates to account for minor bug fixes in a handful of apps , why does the user need to perform * a full OS upgrade * <span style=\"background-color:#DFFF00 \">every</span><span style=\"background-color:#DFFF00 \"> time</span> ?"
      ],
      "text/plain": [
       "<IPython.core.display.HTML object>"
      ]
     },
     "metadata": {},
     "output_type": "display_data"
    },
    {
     "data": {
      "text/html": [
       " Selbst wenn Apple die Rate der Betriebssystem-Updates erhöht hat , um kleinere Fehlerkorrekturen in einer Handvoll Apps zu berücksichtigen , warum muss der Benutzer <span style=\"background-color:#DFFF00 \">jedes</span><span style=\"background-color:#DFFF00 \"> Mal</span> * ein vollständiges Betriebssystem-Upgrade * durchführen ?"
      ],
      "text/plain": [
       "<IPython.core.display.HTML object>"
      ]
     },
     "metadata": {},
     "output_type": "display_data"
    },
    {
     "name": "stdout",
     "output_type": "stream",
     "text": [
      "____________________________________150___________________________________________________\n",
      "['No-error', 'No-error', 'No-error', 'No-error']\n",
      "\u001b[94m\u001b[1m🤓 OK\u001b[0m\n",
      "0.0\n"
     ]
    },
    {
     "data": {
      "text/html": [
       " <span style=\"background-color:#e0e0e0 \">8.686582</span>"
      ],
      "text/plain": [
       "<IPython.core.display.HTML object>"
      ]
     },
     "metadata": {},
     "output_type": "display_data"
    },
    {
     "data": {
      "text/html": [
       " Should you have any further questions or concerns , you can always reply back to that email and we will be able to assist you further ."
      ],
      "text/plain": [
       "<IPython.core.display.HTML object>"
      ]
     },
     "metadata": {},
     "output_type": "display_data"
    },
    {
     "data": {
      "text/html": [
       " Sollten Sie weitere Fragen oder Bedenken haben , können Sie jederzeit auf diese E-Mail antworten und wir werden Ihnen weiterhelfen können ."
      ],
      "text/plain": [
       "<IPython.core.display.HTML object>"
      ]
     },
     "metadata": {},
     "output_type": "display_data"
    },
    {
     "name": "stdout",
     "output_type": "stream",
     "text": [
      "____________________________________151___________________________________________________\n",
      "['minor', 'minor', 'minor']\n",
      "\u001b[91m\u001b[1m😤  Minor\u001b[0m\n",
      "8.3554909\n"
     ]
    },
    {
     "data": {
      "text/html": [
       " <span style=\"background-color:#e0e0e0 \">3.7862191</span> <span style=\"background-color:#DFFF00 \">12.14171</span>"
      ],
      "text/plain": [
       "<IPython.core.display.HTML object>"
      ]
     },
     "metadata": {},
     "output_type": "display_data"
    },
    {
     "data": {
      "text/html": [
       " But everyone was so pleased that it had gone ahead when so many other Christmas events have been cancelled as yet another Covid variant <span style=\"background-color:#DFFF00 \">hove</span> into view ."
      ],
      "text/plain": [
       "<IPython.core.display.HTML object>"
      ]
     },
     "metadata": {},
     "output_type": "display_data"
    },
    {
     "data": {
      "text/html": [
       " Aber alle waren so froh , dass es weitergegangen war , als so viele andere Weihnachtsveranstaltungen abgesagt wurden , als eine weitere Covid-Variante in Sicht <span style=\"background-color:#DFFF00 \">kam</span> ."
      ],
      "text/plain": [
       "<IPython.core.display.HTML object>"
      ]
     },
     "metadata": {},
     "output_type": "display_data"
    },
    {
     "name": "stdout",
     "output_type": "stream",
     "text": [
      "____________________________________152___________________________________________________\n",
      "['minor', 'minor', 'minor', 'No-error']\n",
      "\u001b[91m\u001b[1m😤  Minor\u001b[0m\n",
      "0.0\n"
     ]
    },
    {
     "data": {
      "text/html": [
       " <span style=\"background-color:#e0e0e0 \">12.933057</span>"
      ],
      "text/plain": [
       "<IPython.core.display.HTML object>"
      ]
     },
     "metadata": {},
     "output_type": "display_data"
    },
    {
     "data": {
      "text/html": [
       " On several occasions ( through various lockdowns ) when I saw her I didn 't know if I should kiss her or not ."
      ],
      "text/plain": [
       "<IPython.core.display.HTML object>"
      ]
     },
     "metadata": {},
     "output_type": "display_data"
    },
    {
     "data": {
      "text/html": [
       " Bei mehreren Gelegenheiten ( durch verschiedene Lockdowns ) , als ich sie sah , wusste ich nicht , ob ich sie küssen sollte oder nicht ."
      ],
      "text/plain": [
       "<IPython.core.display.HTML object>"
      ]
     },
     "metadata": {},
     "output_type": "display_data"
    },
    {
     "name": "stdout",
     "output_type": "stream",
     "text": [
      "____________________________________153___________________________________________________\n",
      "['minor', 'No-error', 'minor', 'No-error', 'minor']\n",
      "\u001b[91m\u001b[1m😤  Minor\u001b[0m\n",
      "0.0\n"
     ]
    },
    {
     "data": {
      "text/html": [
       " <span style=\"background-color:#e0e0e0 \">12.644227</span>"
      ],
      "text/plain": [
       "<IPython.core.display.HTML object>"
      ]
     },
     "metadata": {},
     "output_type": "display_data"
    },
    {
     "data": {
      "text/html": [
       " Please use the \" add to basket \" function to combine your order , then checkout and pay as normal ."
      ],
      "text/plain": [
       "<IPython.core.display.HTML object>"
      ]
     },
     "metadata": {},
     "output_type": "display_data"
    },
    {
     "data": {
      "text/html": [
       " Bitte verwenden Sie die Funktion \" In den Warenkorb \" , um Ihre Bestellung zu kombinieren , dann zur Kasse zu gehen und wie gewohnt zu bezahlen ."
      ],
      "text/plain": [
       "<IPython.core.display.HTML object>"
      ]
     },
     "metadata": {},
     "output_type": "display_data"
    },
    {
     "name": "stdout",
     "output_type": "stream",
     "text": [
      "____________________________________154___________________________________________________\n",
      "['No-error', 'No-error', 'No-error']\n",
      "\u001b[94m\u001b[1m🤓 OK\u001b[0m\n",
      "6.6302547\n"
     ]
    },
    {
     "data": {
      "text/html": [
       " <span style=\"background-color:#e0e0e0 \">4.8756723</span> <span style=\"background-color:#DFFF00 \">8.324963</span> <span style=\"background-color:#9FE2BF \">11.505927</span>"
      ],
      "text/plain": [
       "<IPython.core.display.HTML object>"
      ]
     },
     "metadata": {},
     "output_type": "display_data"
    },
    {
     "data": {
      "text/html": [
       " If you would like to <span style=\"background-color:#9FE2BF \">know</span> upfront what the shipping will be , please send us a message <span style=\"background-color:#DFFF00 \">stating</span><span style=\"background-color:#DFFF00 \"> which</span><span style=\"background-color:#DFFF00 \"> items</span> and sizes you would like and the country they are to be shipped to ."
      ],
      "text/plain": [
       "<IPython.core.display.HTML object>"
      ]
     },
     "metadata": {},
     "output_type": "display_data"
    },
    {
     "data": {
      "text/html": [
       " Wenn Sie im Voraus <span style=\"background-color:#9FE2BF \">wissen</span> möchten , wie der Versand aussehen wird , senden Sie uns bitte eine Nachricht <span style=\"background-color:#DFFF00 \">,</span><span style=\"background-color:#DFFF00 \"> in</span><span style=\"background-color:#DFFF00 \"> der</span><span style=\"background-color:#DFFF00 \"> Sie</span><span style=\"background-color:#DFFF00 \"> angeben</span><span style=\"background-color:#DFFF00 \"> ,</span><span style=\"background-color:#DFFF00 \"> welche</span><span style=\"background-color:#DFFF00 \"> Artikel</span> und Größen Sie möchten und in welches Land sie versendet werden sollen ."
      ],
      "text/plain": [
       "<IPython.core.display.HTML object>"
      ]
     },
     "metadata": {},
     "output_type": "display_data"
    },
    {
     "name": "stdout",
     "output_type": "stream",
     "text": [
      "____________________________________155___________________________________________________\n",
      "['No-error', 'No-error', 'No-error']\n",
      "\u001b[94m\u001b[1m🤓 OK\u001b[0m\n",
      "0.0\n"
     ]
    },
    {
     "data": {
      "text/html": [
       " <span style=\"background-color:#e0e0e0 \">13.846831</span>"
      ],
      "text/plain": [
       "<IPython.core.display.HTML object>"
      ]
     },
     "metadata": {},
     "output_type": "display_data"
    },
    {
     "data": {
      "text/html": [
       " \" We reaffirm our unwavering commitment to Ukraine 's sovereignty and territorial integrity , as well as the right of any sovereign state to determine its own future , \" the draft said ."
      ],
      "text/plain": [
       "<IPython.core.display.HTML object>"
      ]
     },
     "metadata": {},
     "output_type": "display_data"
    },
    {
     "data": {
      "text/html": [
       " \" Wir bekräftigen unser unerschütterliches Bekenntnis zur Souveränität und territorialen Integrität der Ukraine sowie zum Recht jedes souveränen Staates , seine eigene Zukunft zu bestimmen \" , heißt es in dem Entwurf ."
      ],
      "text/plain": [
       "<IPython.core.display.HTML object>"
      ]
     },
     "metadata": {},
     "output_type": "display_data"
    },
    {
     "name": "stdout",
     "output_type": "stream",
     "text": [
      "____________________________________156___________________________________________________\n",
      "['minor', 'major', 'major']\n",
      "['Accuracy/Mistranslation', 'Accuracy/Mistranslation', 'Accuracy/Mistranslation']\n",
      "\u001b[91m\u001b[1m🤬  Major\u001b[0m\n",
      "8.1519926\n"
     ]
    },
    {
     "data": {
      "text/html": [
       " <span style=\"background-color:#e0e0e0 \">3.7913094</span> <span style=\"background-color:#DFFF00 \">11.943302</span>"
      ],
      "text/plain": [
       "<IPython.core.display.HTML object>"
      ]
     },
     "metadata": {},
     "output_type": "display_data"
    },
    {
     "data": {
      "text/html": [
       " But everyone was so pleased that it had gone ahead when so many other Christmas events have been cancelled as yet another Covid variant <span style=\"background-color:#DFFF00 \">hove</span> into view ."
      ],
      "text/plain": [
       "<IPython.core.display.HTML object>"
      ]
     },
     "metadata": {},
     "output_type": "display_data"
    },
    {
     "data": {
      "text/html": [
       " Aber alle waren so erfreut , dass es weitergegangen war , als so viele andere Weihnachtsveranstaltungen abgesagt wurden , als eine weitere Covid-Variante in Sicht <span style=\"background-color:#DFFF00 \">kam</span> ."
      ],
      "text/plain": [
       "<IPython.core.display.HTML object>"
      ]
     },
     "metadata": {},
     "output_type": "display_data"
    },
    {
     "name": "stdout",
     "output_type": "stream",
     "text": [
      "____________________________________157___________________________________________________\n",
      "['No-error', 'No-error', 'No-error', 'No-error']\n",
      "\u001b[94m\u001b[1m🤓 OK\u001b[0m\n",
      "0.0\n"
     ]
    },
    {
     "data": {
      "text/html": [
       " <span style=\"background-color:#e0e0e0 \">8.882721</span>"
      ],
      "text/plain": [
       "<IPython.core.display.HTML object>"
      ]
     },
     "metadata": {},
     "output_type": "display_data"
    },
    {
     "data": {
      "text/html": [
       " Should you have any further questions or concerns , you can always reply back to that email and we will be able to assist you further ."
      ],
      "text/plain": [
       "<IPython.core.display.HTML object>"
      ]
     },
     "metadata": {},
     "output_type": "display_data"
    },
    {
     "data": {
      "text/html": [
       " Sollten Sie weitere Fragen oder Bedenken haben , können Sie jederzeit auf diese E-Mail antworten und wir können Ihnen weiterhelfen ."
      ],
      "text/plain": [
       "<IPython.core.display.HTML object>"
      ]
     },
     "metadata": {},
     "output_type": "display_data"
    },
    {
     "name": "stdout",
     "output_type": "stream",
     "text": [
      "____________________________________158___________________________________________________\n",
      "['No-error', 'No-error', 'No-error', 'No-error']\n",
      "\u001b[94m\u001b[1m🤓 OK\u001b[0m\n",
      "3.442376000000001\n"
     ]
    },
    {
     "data": {
      "text/html": [
       " <span style=\"background-color:#e0e0e0 \">9.266542</span> <span style=\"background-color:#DFFF00 \">12.708918</span>"
      ],
      "text/plain": [
       "<IPython.core.display.HTML object>"
      ]
     },
     "metadata": {},
     "output_type": "display_data"
    },
    {
     "data": {
      "text/html": [
       " I <span style=\"background-color:#DFFF00 \">hope</span><span style=\"background-color:#DFFF00 \"> you</span> have a great day and please come back to us if you need any further assistance ."
      ],
      "text/plain": [
       "<IPython.core.display.HTML object>"
      ]
     },
     "metadata": {},
     "output_type": "display_data"
    },
    {
     "data": {
      "text/html": [
       " Ich wünsche Ihnen einen schönen Tag und <span style=\"background-color:#DFFF00 \">kommen</span><span style=\"background-color:#DFFF00 \"> Sie</span> bitte auf uns zurück , wenn Sie weitere Hilfe benötigen ."
      ],
      "text/plain": [
       "<IPython.core.display.HTML object>"
      ]
     },
     "metadata": {},
     "output_type": "display_data"
    },
    {
     "name": "stdout",
     "output_type": "stream",
     "text": [
      "____________________________________159___________________________________________________\n",
      "['No-error', 'No-error', 'No-error']\n",
      "\u001b[94m\u001b[1m🤓 OK\u001b[0m\n",
      "5.162196\n"
     ]
    },
    {
     "data": {
      "text/html": [
       " <span style=\"background-color:#e0e0e0 \">6.415505</span> <span style=\"background-color:#DFFF00 \">11.577701</span>"
      ],
      "text/plain": [
       "<IPython.core.display.HTML object>"
      ]
     },
     "metadata": {},
     "output_type": "display_data"
    },
    {
     "data": {
      "text/html": [
       " If there is a mistake , please let us know as soon as possible <span style=\"background-color:#DFFF00 \">so</span><span style=\"background-color:#DFFF00 \"> that</span><span style=\"background-color:#DFFF00 \"> we</span><span style=\"background-color:#DFFF00 \"> can</span><span style=\"background-color:#DFFF00 \"> cancel</span><span style=\"background-color:#DFFF00 \"> the</span><span style=\"background-color:#DFFF00 \"> order</span><span style=\"background-color:#DFFF00 \"> and</span><span style=\"background-color:#DFFF00 \"> so</span> that you can re-purchase with the correct address ."
      ],
      "text/plain": [
       "<IPython.core.display.HTML object>"
      ]
     },
     "metadata": {},
     "output_type": "display_data"
    },
    {
     "data": {
      "text/html": [
       " Wenn ein Fehler vorliegt , teilen Sie uns dies bitte so schnell wie möglich mit <span style=\"background-color:#DFFF00 \">,</span><span style=\"background-color:#DFFF00 \"> damit</span><span style=\"background-color:#DFFF00 \"> wir</span><span style=\"background-color:#DFFF00 \"> die</span><span style=\"background-color:#DFFF00 \"> Bestellung</span><span style=\"background-color:#DFFF00 \"> stornieren</span><span style=\"background-color:#DFFF00 \"> können</span><span style=\"background-color:#DFFF00 \"> und</span> Sie mit der richtigen Adresse erneut einkaufen können ."
      ],
      "text/plain": [
       "<IPython.core.display.HTML object>"
      ]
     },
     "metadata": {},
     "output_type": "display_data"
    },
    {
     "name": "stdout",
     "output_type": "stream",
     "text": [
      "____________________________________160___________________________________________________\n",
      "['major', 'major', 'minor']\n",
      "['Accuracy/Addition', 'Accuracy/Omission', 'Accuracy/Mistranslation']\n",
      "\u001b[91m\u001b[1m🤬  Major\u001b[0m\n",
      "8.5579006\n"
     ]
    },
    {
     "data": {
      "text/html": [
       " <span style=\"background-color:#e0e0e0 \">2.8142924</span> <span style=\"background-color:#DFFF00 \">11.372193</span>"
      ],
      "text/plain": [
       "<IPython.core.display.HTML object>"
      ]
     },
     "metadata": {},
     "output_type": "display_data"
    },
    {
     "data": {
      "text/html": [
       " If there is a mistake , please let us know as soon as possible <span style=\"background-color:#DFFF00 \">so</span><span style=\"background-color:#DFFF00 \"> that</span><span style=\"background-color:#DFFF00 \"> we</span><span style=\"background-color:#DFFF00 \"> can</span><span style=\"background-color:#DFFF00 \"> cancel</span><span style=\"background-color:#DFFF00 \"> the</span><span style=\"background-color:#DFFF00 \"> order</span><span style=\"background-color:#DFFF00 \"> and</span><span style=\"background-color:#DFFF00 \"> so</span> that you can re-purchase with the correct address ."
      ],
      "text/plain": [
       "<IPython.core.display.HTML object>"
      ]
     },
     "metadata": {},
     "output_type": "display_data"
    },
    {
     "data": {
      "text/html": [
       " Sollte ein Fehler vorliegen , geben Sie uns dies bitte schnellstmöglich <span style=\"background-color:#DFFF00 \">Steering</span><span style=\"background-color:#DFFF00 \"> .</span><span style=\"background-color:#DFFF00 \"> So</span><span style=\"background-color:#DFFF00 \"> können</span><span style=\"background-color:#DFFF00 \"> wir</span><span style=\"background-color:#DFFF00 \"> die</span><span style=\"background-color:#DFFF00 \"> Bestellung</span><span style=\"background-color:#DFFF00 \"> stornieren</span><span style=\"background-color:#DFFF00 \"> und</span> Sie konnten mit der richtigen Adresse noch einmal einkaufen ."
      ],
      "text/plain": [
       "<IPython.core.display.HTML object>"
      ]
     },
     "metadata": {},
     "output_type": "display_data"
    },
    {
     "name": "stdout",
     "output_type": "stream",
     "text": [
      "____________________________________161___________________________________________________\n",
      "['major', 'major', 'minor']\n",
      "['Accuracy/Mistranslation', 'Accuracy/Mistranslation', 'Accuracy/Mistranslation']\n",
      "\u001b[91m\u001b[1m🤬  Major\u001b[0m\n",
      "0.0\n"
     ]
    },
    {
     "data": {
      "text/html": [
       " <span style=\"background-color:#e0e0e0 \">13.087005</span>"
      ],
      "text/plain": [
       "<IPython.core.display.HTML object>"
      ]
     },
     "metadata": {},
     "output_type": "display_data"
    },
    {
     "data": {
      "text/html": [
       " They are a cheap product and safer than many other methods , such as rubbing alcohols , tooth picks , pins , and needles ."
      ],
      "text/plain": [
       "<IPython.core.display.HTML object>"
      ]
     },
     "metadata": {},
     "output_type": "display_data"
    },
    {
     "data": {
      "text/html": [
       " Sie sind ein billiges Produkt und sicherer als viele andere Methoden , wie z. B. das Reiben von Alkoholen , Zahnpicken , Stiften und Nadeln ."
      ],
      "text/plain": [
       "<IPython.core.display.HTML object>"
      ]
     },
     "metadata": {},
     "output_type": "display_data"
    },
    {
     "name": "stdout",
     "output_type": "stream",
     "text": [
      "____________________________________162___________________________________________________\n",
      "['major', 'major', 'minor']\n",
      "['Accuracy/Mistranslation', 'Accuracy/Mistranslation', 'Accuracy/Mistranslation']\n",
      "\u001b[91m\u001b[1m🤬  Major\u001b[0m\n",
      "0.0\n"
     ]
    },
    {
     "data": {
      "text/html": [
       " <span style=\"background-color:#e0e0e0 \">11.439062</span>"
      ],
      "text/plain": [
       "<IPython.core.display.HTML object>"
      ]
     },
     "metadata": {},
     "output_type": "display_data"
    },
    {
     "data": {
      "text/html": [
       " I just used this method to clear the microphone port on my Samsung Galaxy Watch 4 Classic as it was not registering my voice when using speech to text functions ."
      ],
      "text/plain": [
       "<IPython.core.display.HTML object>"
      ]
     },
     "metadata": {},
     "output_type": "display_data"
    },
    {
     "data": {
      "text/html": [
       " Ich habe diese Methode nur verwendet , um den Mikrofonanschluss meiner Samsung Galaxy Watch 4 Classic zu löschen , da meine Stimme bei der Verwendung von Sprach- zu Textfunktionen nicht registriert wurde ."
      ],
      "text/plain": [
       "<IPython.core.display.HTML object>"
      ]
     },
     "metadata": {},
     "output_type": "display_data"
    },
    {
     "name": "stdout",
     "output_type": "stream",
     "text": [
      "____________________________________163___________________________________________________\n",
      "['major', 'major', 'major', 'minor']\n",
      "['Accuracy/Addition', 'Accuracy/Addition', 'Accuracy/Addition', 'Accuracy/Mistranslation']\n",
      "\u001b[91m\u001b[1m🤬  Major\u001b[0m\n",
      "7.0731695299999995\n"
     ]
    },
    {
     "data": {
      "text/html": [
       " <span style=\"background-color:#e0e0e0 \">-6.8018465</span> <span style=\"background-color:#DFFF00 \">-3.72218</span> <span style=\"background-color:#9FE2BF \">0.27132303</span>"
      ],
      "text/plain": [
       "<IPython.core.display.HTML object>"
      ]
     },
     "metadata": {},
     "output_type": "display_data"
    },
    {
     "data": {
      "text/html": [
       " After following manufacturer advice and using the water lock functions , resetting the device <span style=\"background-color:#DFFF00 \">AND</span> <span style=\"background-color:#9FE2BF \">factory</span> restoring my device ."
      ],
      "text/plain": [
       "<IPython.core.display.HTML object>"
      ]
     },
     "metadata": {},
     "output_type": "display_data"
    },
    {
     "data": {
      "text/html": [
       " Nachdem Sie den Herstellerrat befolgt und die Wasserschloss-Funktionen verwendet haben , setzen Sie das Gerät zurück <span style=\"background-color:#DFFF00 \">UND</span> stellen Sie mein Gerät <span style=\"background-color:#9FE2BF \">werkseitig</span> wieder her ."
      ],
      "text/plain": [
       "<IPython.core.display.HTML object>"
      ]
     },
     "metadata": {},
     "output_type": "display_data"
    },
    {
     "name": "stdout",
     "output_type": "stream",
     "text": [
      "____________________________________164___________________________________________________\n",
      "['No-error', 'No-error', 'minor', 'No-error']\n",
      "\u001b[94m\u001b[1m🤓 OK\u001b[0m\n",
      "1.4164539999999999\n"
     ]
    },
    {
     "data": {
      "text/html": [
       " <span style=\"background-color:#e0e0e0 \">8.845825</span> <span style=\"background-color:#DFFF00 \">10.262279</span>"
      ],
      "text/plain": [
       "<IPython.core.display.HTML object>"
      ]
     },
     "metadata": {},
     "output_type": "display_data"
    },
    {
     "data": {
      "text/html": [
       " Therefore , we <span style=\"background-color:#DFFF00 \">are</span> prepared to assist you with any questions or concerns you may have before placing an order or after you have received your order ."
      ],
      "text/plain": [
       "<IPython.core.display.HTML object>"
      ]
     },
     "metadata": {},
     "output_type": "display_data"
    },
    {
     "data": {
      "text/html": [
       " Daher <span style=\"background-color:#DFFF00 \">sind</span> wir bereit , Ihnen bei Fragen oder Bedenken zu helfen , bevor Sie eine Bestellung aufgeben oder nachdem Sie Ihre Bestellung erhalten haben ."
      ],
      "text/plain": [
       "<IPython.core.display.HTML object>"
      ]
     },
     "metadata": {},
     "output_type": "display_data"
    },
    {
     "name": "stdout",
     "output_type": "stream",
     "text": [
      "____________________________________165___________________________________________________\n",
      "['No-error', 'No-error', 'No-error', 'No-error', 'No-error', 'No-error', 'No-error']\n",
      "\u001b[94m\u001b[1m🤓 OK\u001b[0m\n",
      "0.0\n"
     ]
    },
    {
     "data": {
      "text/html": [
       " <span style=\"background-color:#e0e0e0 \">10.258167</span>"
      ],
      "text/plain": [
       "<IPython.core.display.HTML object>"
      ]
     },
     "metadata": {},
     "output_type": "display_data"
    },
    {
     "data": {
      "text/html": [
       " Please kindly contact us via eBay messages and a member of our team will get back to you as soon as possible ."
      ],
      "text/plain": [
       "<IPython.core.display.HTML object>"
      ]
     },
     "metadata": {},
     "output_type": "display_data"
    },
    {
     "data": {
      "text/html": [
       " Bitte kontaktieren Sie uns über eBay-Nachrichten und ein Mitglied unseres Teams wird sich so schnell wie möglich bei Ihnen melden ."
      ],
      "text/plain": [
       "<IPython.core.display.HTML object>"
      ]
     },
     "metadata": {},
     "output_type": "display_data"
    },
    {
     "name": "stdout",
     "output_type": "stream",
     "text": [
      "____________________________________166___________________________________________________\n",
      "['major', 'major', 'minor', 'minor']\n",
      "\u001b[91m\u001b[1m😤  Minor\u001b[0m\n",
      "15.064670999999999\n"
     ]
    },
    {
     "data": {
      "text/html": [
       " <span style=\"background-color:#e0e0e0 \">-6.008156</span> <span style=\"background-color:#DFFF00 \">7.3479505</span> <span style=\"background-color:#9FE2BF \">9.056515</span>"
      ],
      "text/plain": [
       "<IPython.core.display.HTML object>"
      ]
     },
     "metadata": {},
     "output_type": "display_data"
    },
    {
     "data": {
      "text/html": [
       " Most boards are mass market boards such as sector 9s or Loaded Tan Tien 's ... I have both and I 'm not <span style=\"background-color:#DFFF00 \">hating</span> ."
      ],
      "text/plain": [
       "<IPython.core.display.HTML object>"
      ]
     },
     "metadata": {},
     "output_type": "display_data"
    },
    {
     "data": {
      "text/html": [
       " Bei den meisten Tafeln handelt es sich um Tafeln <span style=\"background-color:#9FE2BF \">für</span><span style=\"background-color:#9FE2BF \"> den</span> Massenmarkt wie Sektor 9s oder Loaded Tan Tien ... ich habe beides und ich hasse <span style=\"background-color:#DFFF00 \">es</span> nicht ."
      ],
      "text/plain": [
       "<IPython.core.display.HTML object>"
      ]
     },
     "metadata": {},
     "output_type": "display_data"
    },
    {
     "name": "stdout",
     "output_type": "stream",
     "text": [
      "____________________________________167___________________________________________________\n",
      "['major', 'major', 'major', 'major']\n",
      "['Accuracy/Mistranslation', 'Accuracy/Mistranslation', 'Accuracy/Mistranslation', 'Accuracy/Mistranslation']\n",
      "\u001b[91m\u001b[1m🤬  Major\u001b[0m\n",
      "2.1264580000000013\n"
     ]
    },
    {
     "data": {
      "text/html": [
       " <span style=\"background-color:#e0e0e0 \">7.801034</span> <span style=\"background-color:#DFFF00 \">9.927492</span>"
      ],
      "text/plain": [
       "<IPython.core.display.HTML object>"
      ]
     },
     "metadata": {},
     "output_type": "display_data"
    },
    {
     "data": {
      "text/html": [
       " Please <span style=\"background-color:#DFFF00 \">keep</span> tapping where the images are showing , are you able to see the images and follow where to tap ?"
      ],
      "text/plain": [
       "<IPython.core.display.HTML object>"
      ]
     },
     "metadata": {},
     "output_type": "display_data"
    },
    {
     "data": {
      "text/html": [
       " Bitte <span style=\"background-color:#DFFF00 \">halten</span> Sie tippen , wo die Bilder zeigen , sind Sie in der Lage , die Bilder zu sehen und zu folgen , wo zu tippen ?"
      ],
      "text/plain": [
       "<IPython.core.display.HTML object>"
      ]
     },
     "metadata": {},
     "output_type": "display_data"
    },
    {
     "name": "stdout",
     "output_type": "stream",
     "text": [
      "____________________________________168___________________________________________________\n",
      "['No-error', 'No-error', 'No-error', 'No-error', 'No-error', 'No-error', 'No-error', 'No-error', 'No-error', 'No-error']\n",
      "\u001b[94m\u001b[1m🤓 OK\u001b[0m\n",
      "5.064941000000001\n"
     ]
    },
    {
     "data": {
      "text/html": [
       " <span style=\"background-color:#e0e0e0 \">7.825474</span> <span style=\"background-color:#DFFF00 \">12.890415</span>"
      ],
      "text/plain": [
       "<IPython.core.display.HTML object>"
      ]
     },
     "metadata": {},
     "output_type": "display_data"
    },
    {
     "data": {
      "text/html": [
       " The other skiers in his group rescued themselves with the help of two witnesses who saw them <span style=\"background-color:#DFFF00 \">get</span> swept up by the snow ."
      ],
      "text/plain": [
       "<IPython.core.display.HTML object>"
      ]
     },
     "metadata": {},
     "output_type": "display_data"
    },
    {
     "data": {
      "text/html": [
       " Die anderen Skifahrer seiner Gruppe retteten sich mit Hilfe von zwei Zeugen , die sahen , wie sie vom Schnee mitgerissen <span style=\"background-color:#DFFF00 \">wurden</span> ."
      ],
      "text/plain": [
       "<IPython.core.display.HTML object>"
      ]
     },
     "metadata": {},
     "output_type": "display_data"
    },
    {
     "name": "stdout",
     "output_type": "stream",
     "text": [
      "____________________________________169___________________________________________________\n",
      "['No-error', 'No-error', 'No-error']\n",
      "\u001b[94m\u001b[1m🤓 OK\u001b[0m\n",
      "0.0\n"
     ]
    },
    {
     "data": {
      "text/html": [
       " <span style=\"background-color:#e0e0e0 \">13.438309</span>"
      ],
      "text/plain": [
       "<IPython.core.display.HTML object>"
      ]
     },
     "metadata": {},
     "output_type": "display_data"
    },
    {
     "data": {
      "text/html": [
       " Emergency services have been assisting authorities in the cleanup operation , while another alert for more snow and ice has been issued ."
      ],
      "text/plain": [
       "<IPython.core.display.HTML object>"
      ]
     },
     "metadata": {},
     "output_type": "display_data"
    },
    {
     "data": {
      "text/html": [
       " Rettungsdienste haben die Behörden bei den Aufräumarbeiten unterstützt , während eine weitere Warnung für mehr Schnee und Eis ausgegeben wurde ."
      ],
      "text/plain": [
       "<IPython.core.display.HTML object>"
      ]
     },
     "metadata": {},
     "output_type": "display_data"
    },
    {
     "name": "stdout",
     "output_type": "stream",
     "text": [
      "____________________________________170___________________________________________________\n",
      "['No-error', 'No-error', 'No-error', 'No-error', 'No-error', 'No-error', 'No-error', 'No-error']\n",
      "\u001b[94m\u001b[1m🤓 OK\u001b[0m\n",
      "3.6718790000000006\n"
     ]
    },
    {
     "data": {
      "text/html": [
       " <span style=\"background-color:#e0e0e0 \">9.376244</span> <span style=\"background-color:#DFFF00 \">13.048123</span>"
      ],
      "text/plain": [
       "<IPython.core.display.HTML object>"
      ]
     },
     "metadata": {},
     "output_type": "display_data"
    },
    {
     "data": {
      "text/html": [
       " In the clip , Ardern was speaking about COVID misinformation and New Zealand 's efforts to keep people informed about the pandemic ."
      ],
      "text/plain": [
       "<IPython.core.display.HTML object>"
      ]
     },
     "metadata": {},
     "output_type": "display_data"
    },
    {
     "data": {
      "text/html": [
       " In dem Clip sprach Ardern über COVID-Fehlinformationen und Neuseelands Bemühungen , die Menschen über die Pandemie <span style=\"background-color:#DFFF00 \">auf</span><span style=\"background-color:#DFFF00 \"> dem</span><span style=\"background-color:#DFFF00 \"> Laufenden</span><span style=\"background-color:#DFFF00 \"> zu</span> halten ."
      ],
      "text/plain": [
       "<IPython.core.display.HTML object>"
      ]
     },
     "metadata": {},
     "output_type": "display_data"
    },
    {
     "name": "stdout",
     "output_type": "stream",
     "text": [
      "____________________________________171___________________________________________________\n",
      "['No-error', 'No-error', 'No-error', 'No-error']\n",
      "\u001b[94m\u001b[1m🤓 OK\u001b[0m\n",
      "1.6990995000000009\n"
     ]
    },
    {
     "data": {
      "text/html": [
       " <span style=\"background-color:#e0e0e0 \">9.3599205</span> <span style=\"background-color:#DFFF00 \">11.05902</span>"
      ],
      "text/plain": [
       "<IPython.core.display.HTML object>"
      ]
     },
     "metadata": {},
     "output_type": "display_data"
    },
    {
     "data": {
      "text/html": [
       " The conversation went something similar to below <span style=\"background-color:#DFFF00 \">(</span> 18 years ago , so I don 't remember exactly ) ."
      ],
      "text/plain": [
       "<IPython.core.display.HTML object>"
      ]
     },
     "metadata": {},
     "output_type": "display_data"
    },
    {
     "data": {
      "text/html": [
       " Das Gespräch verlief ähnlich wie unten <span style=\"background-color:#DFFF00 \">(</span> vor 18 Jahren , also erinnere ich mich nicht genau ) ."
      ],
      "text/plain": [
       "<IPython.core.display.HTML object>"
      ]
     },
     "metadata": {},
     "output_type": "display_data"
    },
    {
     "name": "stdout",
     "output_type": "stream",
     "text": [
      "____________________________________172___________________________________________________\n",
      "['No-error', 'No-error', 'No-error']\n",
      "\u001b[94m\u001b[1m🤓 OK\u001b[0m\n",
      "0.0\n"
     ]
    },
    {
     "data": {
      "text/html": [
       " <span style=\"background-color:#e0e0e0 \">12.790898</span>"
      ],
      "text/plain": [
       "<IPython.core.display.HTML object>"
      ]
     },
     "metadata": {},
     "output_type": "display_data"
    },
    {
     "data": {
      "text/html": [
       " I am from a country where military duty is mandatory and I am just wondering how 's it like for other countries ."
      ],
      "text/plain": [
       "<IPython.core.display.HTML object>"
      ]
     },
     "metadata": {},
     "output_type": "display_data"
    },
    {
     "data": {
      "text/html": [
       " Ich komme aus einem Land , in dem der Militärdienst obligatorisch ist , und ich frage mich nur , wie es für andere Länder ist ."
      ],
      "text/plain": [
       "<IPython.core.display.HTML object>"
      ]
     },
     "metadata": {},
     "output_type": "display_data"
    },
    {
     "name": "stdout",
     "output_type": "stream",
     "text": [
      "____________________________________173___________________________________________________\n",
      "['No-error', 'No-error', 'No-error']\n",
      "\u001b[94m\u001b[1m🤓 OK\u001b[0m\n",
      "5.372207999999999\n"
     ]
    },
    {
     "data": {
      "text/html": [
       " <span style=\"background-color:#e0e0e0 \">8.159686</span> <span style=\"background-color:#DFFF00 \">13.531894</span>"
      ],
      "text/plain": [
       "<IPython.core.display.HTML object>"
      ]
     },
     "metadata": {},
     "output_type": "display_data"
    },
    {
     "data": {
      "text/html": [
       " Tap the list beside ' <span style=\"background-color:#DFFF00 \">Automatically</span><span style=\"background-color:#DFFF00 \"> power</span><span style=\"background-color:#DFFF00 \"> off</span><span style=\"background-color:#DFFF00 \"> after</span> ' and select the time before your # PRS _ ORG # eReader shuts down ."
      ],
      "text/plain": [
       "<IPython.core.display.HTML object>"
      ]
     },
     "metadata": {},
     "output_type": "display_data"
    },
    {
     "data": {
      "text/html": [
       " Tippen Sie auf die Liste neben \" <span style=\"background-color:#DFFF00 \">Automatisch</span><span style=\"background-color:#DFFF00 \"> ausschalten</span><span style=\"background-color:#DFFF00 \"> nach</span> \" und wählen Sie die Zeit aus , bevor Ihr # PRS _ ORG # eReader heruntergefahren wird ."
      ],
      "text/plain": [
       "<IPython.core.display.HTML object>"
      ]
     },
     "metadata": {},
     "output_type": "display_data"
    },
    {
     "name": "stdout",
     "output_type": "stream",
     "text": [
      "____________________________________174___________________________________________________\n",
      "['No-error', 'No-error', 'No-error']\n",
      "\u001b[94m\u001b[1m🤓 OK\u001b[0m\n",
      "4.440947000000001\n"
     ]
    },
    {
     "data": {
      "text/html": [
       " <span style=\"background-color:#e0e0e0 \">8.756654</span> <span style=\"background-color:#DFFF00 \">13.197601</span>"
      ],
      "text/plain": [
       "<IPython.core.display.HTML object>"
      ]
     },
     "metadata": {},
     "output_type": "display_data"
    },
    {
     "data": {
      "text/html": [
       " If for any reason you are unsatisfied with your purchase , please contact us first before you <span style=\"background-color:#DFFF00 \">leave</span><span style=\"background-color:#DFFF00 \"> negative</span><span style=\"background-color:#DFFF00 \"> /</span><span style=\"background-color:#DFFF00 \"> neutral</span><span style=\"background-color:#DFFF00 \"> feedback</span> so that we can make things right !"
      ],
      "text/plain": [
       "<IPython.core.display.HTML object>"
      ]
     },
     "metadata": {},
     "output_type": "display_data"
    },
    {
     "data": {
      "text/html": [
       " Wenn Sie aus irgendeinem Grund mit Ihrem Kauf nicht zufrieden sind , kontaktieren Sie uns bitte zuerst , bevor Sie <span style=\"background-color:#DFFF00 \">negatives</span><span style=\"background-color:#DFFF00 \"> /</span><span style=\"background-color:#DFFF00 \"> neutrales</span><span style=\"background-color:#DFFF00 \"> Feedback</span><span style=\"background-color:#DFFF00 \"> hinterlassen</span> , damit wir die Dinge richtig machen können !"
      ],
      "text/plain": [
       "<IPython.core.display.HTML object>"
      ]
     },
     "metadata": {},
     "output_type": "display_data"
    },
    {
     "name": "stdout",
     "output_type": "stream",
     "text": [
      "____________________________________175___________________________________________________\n",
      "['No-error', 'No-error', 'No-error']\n",
      "\u001b[94m\u001b[1m🤓 OK\u001b[0m\n",
      "0.0\n"
     ]
    },
    {
     "data": {
      "text/html": [
       " <span style=\"background-color:#e0e0e0 \">10.44043</span>"
      ],
      "text/plain": [
       "<IPython.core.display.HTML object>"
      ]
     },
     "metadata": {},
     "output_type": "display_data"
    },
    {
     "data": {
      "text/html": [
       " I received a letter from Alamo a short while later saying that they were going to waive the charges in the interest of customer satisfaction ."
      ],
      "text/plain": [
       "<IPython.core.display.HTML object>"
      ]
     },
     "metadata": {},
     "output_type": "display_data"
    },
    {
     "data": {
      "text/html": [
       " Kurze Zeit später erhielt ich einen Brief von Alamo , in dem stand , dass sie im Interesse der Kundenzufriedenheit auf die Gebühren verzichten würden ."
      ],
      "text/plain": [
       "<IPython.core.display.HTML object>"
      ]
     },
     "metadata": {},
     "output_type": "display_data"
    },
    {
     "name": "stdout",
     "output_type": "stream",
     "text": [
      "____________________________________176___________________________________________________\n",
      "['No-error', 'No-error', 'No-error', 'No-error']\n",
      "\u001b[94m\u001b[1m🤓 OK\u001b[0m\n",
      "0.0\n"
     ]
    },
    {
     "data": {
      "text/html": [
       " <span style=\"background-color:#e0e0e0 \">13.796617</span>"
      ],
      "text/plain": [
       "<IPython.core.display.HTML object>"
      ]
     },
     "metadata": {},
     "output_type": "display_data"
    },
    {
     "data": {
      "text/html": [
       " \" I had an idea of Lestat as the man of action , the man who could do things that I couldn 't do , \" Rice said in a talk at Southern Illinois University in 2010 ."
      ],
      "text/plain": [
       "<IPython.core.display.HTML object>"
      ]
     },
     "metadata": {},
     "output_type": "display_data"
    },
    {
     "data": {
      "text/html": [
       " \" Ich hatte eine Vorstellung von Lestat als dem Mann der Tat , dem Mann , der Dinge tun konnte , die ich nicht tun konnte \" , sagte Rice 2010 in einem Vortrag an der Southern Illinois University ."
      ],
      "text/plain": [
       "<IPython.core.display.HTML object>"
      ]
     },
     "metadata": {},
     "output_type": "display_data"
    },
    {
     "name": "stdout",
     "output_type": "stream",
     "text": [
      "____________________________________177___________________________________________________\n",
      "['No-error', 'No-error', 'No-error']\n",
      "\u001b[94m\u001b[1m🤓 OK\u001b[0m\n",
      "13.120869599999999\n"
     ]
    },
    {
     "data": {
      "text/html": [
       " <span style=\"background-color:#e0e0e0 \">-3.2425241</span> <span style=\"background-color:#DFFF00 \">1.069595</span> <span style=\"background-color:#9FE2BF \">7.842937</span> <span style=\"background-color:#CCCCFF \">9.8783455</span>"
      ],
      "text/plain": [
       "<IPython.core.display.HTML object>"
      ]
     },
     "metadata": {},
     "output_type": "display_data"
    },
    {
     "data": {
      "text/html": [
       " Regrettably <span style=\"background-color:#9FE2BF \">the</span><span style=\"background-color:#9FE2BF \"> prices</span><span style=\"background-color:#9FE2BF \"> of</span><span style=\"background-color:#9FE2BF \"> the</span><span style=\"background-color:#9FE2BF \"> items</span><span style=\"background-color:#9FE2BF \"> are</span> as they <span style=\"background-color:#DFFF00 \">show</span> online , we cannot change or reduce this <span style=\"background-color:#CCCCFF \">for</span><span style=\"background-color:#CCCCFF \"> you</span>"
      ],
      "text/plain": [
       "<IPython.core.display.HTML object>"
      ]
     },
     "metadata": {},
     "output_type": "display_data"
    },
    {
     "data": {
      "text/html": [
       " Leider <span style=\"background-color:#9FE2BF \">sind</span><span style=\"background-color:#9FE2BF \"> die</span><span style=\"background-color:#9FE2BF \"> Preise</span><span style=\"background-color:#9FE2BF \"> der</span><span style=\"background-color:#9FE2BF \"> Artikel</span> so , wie sie online angezeigt <span style=\"background-color:#DFFF00 \">werden</span> , wir können dies <span style=\"background-color:#CCCCFF \">für</span><span style=\"background-color:#CCCCFF \"> Sie</span> nicht ändern oder reduzieren"
      ],
      "text/plain": [
       "<IPython.core.display.HTML object>"
      ]
     },
     "metadata": {},
     "output_type": "display_data"
    },
    {
     "name": "stdout",
     "output_type": "stream",
     "text": [
      "____________________________________178___________________________________________________\n",
      "['No-error', 'No-error', 'No-error']\n",
      "\u001b[94m\u001b[1m🤓 OK\u001b[0m\n",
      "7.280126600000001\n"
     ]
    },
    {
     "data": {
      "text/html": [
       " <span style=\"background-color:#e0e0e0 \">3.4187844</span> <span style=\"background-color:#DFFF00 \">10.698911</span>"
      ],
      "text/plain": [
       "<IPython.core.display.HTML object>"
      ]
     },
     "metadata": {},
     "output_type": "display_data"
    },
    {
     "data": {
      "text/html": [
       " Please note that <span style=\"background-color:#DFFF00 \">import</span><span style=\"background-color:#DFFF00 \"> duties</span><span style=\"background-color:#DFFF00 \"> taxes</span><span style=\"background-color:#DFFF00 \"> ,</span><span style=\"background-color:#DFFF00 \"> VAT</span> , quarantine fees , address change fees , or any other taxes are not included in the item price or in shipping charges ."
      ],
      "text/plain": [
       "<IPython.core.display.HTML object>"
      ]
     },
     "metadata": {},
     "output_type": "display_data"
    },
    {
     "data": {
      "text/html": [
       " Bitte beachten Sie , dass <span style=\"background-color:#DFFF00 \">Einfuhrzölle</span><span style=\"background-color:#DFFF00 \"> ,</span><span style=\"background-color:#DFFF00 \"> Steuern</span><span style=\"background-color:#DFFF00 \"> ,</span><span style=\"background-color:#DFFF00 \"> Mehrwertsteuer</span> , Quarantänegebühren , Adressänderungsgebühren oder andere Steuern nicht im Artikelpreis oder in den Versandkosten enthalten sind ."
      ],
      "text/plain": [
       "<IPython.core.display.HTML object>"
      ]
     },
     "metadata": {},
     "output_type": "display_data"
    },
    {
     "name": "stdout",
     "output_type": "stream",
     "text": [
      "____________________________________179___________________________________________________\n",
      "['No-error', 'No-error', 'No-error']\n",
      "\u001b[94m\u001b[1m🤓 OK\u001b[0m\n",
      "0.0\n"
     ]
    },
    {
     "data": {
      "text/html": [
       " <span style=\"background-color:#e0e0e0 \">13.841806</span>"
      ],
      "text/plain": [
       "<IPython.core.display.HTML object>"
      ]
     },
     "metadata": {},
     "output_type": "display_data"
    },
    {
     "data": {
      "text/html": [
       " \" If we are talking about the number of Russian companies in the UAE , it has reached almost 4000 , \" Al Zeyoudi stated ."
      ],
      "text/plain": [
       "<IPython.core.display.HTML object>"
      ]
     },
     "metadata": {},
     "output_type": "display_data"
    },
    {
     "data": {
      "text/html": [
       " \" Wenn wir über die Zahl der russischen Unternehmen in den VAE sprechen , hat sie fast 4.000 erreicht \" , sagte Al Zeyoudi ."
      ],
      "text/plain": [
       "<IPython.core.display.HTML object>"
      ]
     },
     "metadata": {},
     "output_type": "display_data"
    },
    {
     "name": "stdout",
     "output_type": "stream",
     "text": [
      "____________________________________180___________________________________________________\n",
      "['No-error', 'No-error', 'No-error', 'No-error', 'No-error', 'No-error']\n",
      "\u001b[94m\u001b[1m🤓 OK\u001b[0m\n",
      "4.618599\n"
     ]
    },
    {
     "data": {
      "text/html": [
       " <span style=\"background-color:#e0e0e0 \">8.432995</span> <span style=\"background-color:#DFFF00 \">13.051594</span>"
      ],
      "text/plain": [
       "<IPython.core.display.HTML object>"
      ]
     },
     "metadata": {},
     "output_type": "display_data"
    },
    {
     "data": {
      "text/html": [
       " According to the minister , the UAE is already investing in several Russian sectors , including the <span style=\"background-color:#DFFF00 \">petrochemical</span> industry , oil and gas , the automotive industry and ports , and it plans to broaden this list ."
      ],
      "text/plain": [
       "<IPython.core.display.HTML object>"
      ]
     },
     "metadata": {},
     "output_type": "display_data"
    },
    {
     "data": {
      "text/html": [
       " Nach Angaben des Ministers investieren die VAE bereits in mehrere russische Sektoren , darunter die <span style=\"background-color:#DFFF00 \">petrochemische</span> Industrie , Öl und Gas , die Automobilindustrie und Häfen , und planen , diese Liste zu erweitern ."
      ],
      "text/plain": [
       "<IPython.core.display.HTML object>"
      ]
     },
     "metadata": {},
     "output_type": "display_data"
    },
    {
     "name": "stdout",
     "output_type": "stream",
     "text": [
      "____________________________________181___________________________________________________\n",
      "['No-error', 'No-error', 'No-error']\n",
      "\u001b[94m\u001b[1m🤓 OK\u001b[0m\n",
      "0.0\n"
     ]
    },
    {
     "data": {
      "text/html": [
       " <span style=\"background-color:#e0e0e0 \">8.923316</span>"
      ],
      "text/plain": [
       "<IPython.core.display.HTML object>"
      ]
     },
     "metadata": {},
     "output_type": "display_data"
    },
    {
     "data": {
      "text/html": [
       " A highway leading to the airport was closed for several hours because of a traffic jam caused by the snowfall ."
      ],
      "text/plain": [
       "<IPython.core.display.HTML object>"
      ]
     },
     "metadata": {},
     "output_type": "display_data"
    },
    {
     "data": {
      "text/html": [
       " Eine Autobahn , die zum Flughafen führt , war wegen eines durch den Schneefall verursachten Staus für mehrere Stunden gesperrt ."
      ],
      "text/plain": [
       "<IPython.core.display.HTML object>"
      ]
     },
     "metadata": {},
     "output_type": "display_data"
    },
    {
     "name": "stdout",
     "output_type": "stream",
     "text": [
      "____________________________________182___________________________________________________\n",
      "['No-error', 'No-error', 'No-error']\n",
      "\u001b[94m\u001b[1m🤓 OK\u001b[0m\n",
      "17.9630012\n"
     ]
    },
    {
     "data": {
      "text/html": [
       " <span style=\"background-color:#e0e0e0 \">-6.0857162</span> <span style=\"background-color:#DFFF00 \">11.877285</span>"
      ],
      "text/plain": [
       "<IPython.core.display.HTML object>"
      ]
     },
     "metadata": {},
     "output_type": "display_data"
    },
    {
     "data": {
      "text/html": [
       " The United Arab Emirates plans to increase its trade turnover with Russia to $ 20 billion in the next five years <span style=\"background-color:#DFFF00 \">,</span> the country 's Foreign Trade Minister Thani bin Ahmed Al Zeyoudi has announced ."
      ],
      "text/plain": [
       "<IPython.core.display.HTML object>"
      ]
     },
     "metadata": {},
     "output_type": "display_data"
    },
    {
     "data": {
      "text/html": [
       " Die Vereinigten Arabischen Emirate wollen ihren Handelsumsatz mit Russland in den nächsten fünf Jahren auf 20 Milliarden Dollar steigern <span style=\"background-color:#DFFF00 \">,</span> kündigte der Außenhandelsminister des Landes , Thani bin Ahmed Al Zeyoudi , an ."
      ],
      "text/plain": [
       "<IPython.core.display.HTML object>"
      ]
     },
     "metadata": {},
     "output_type": "display_data"
    },
    {
     "name": "stdout",
     "output_type": "stream",
     "text": [
      "____________________________________183___________________________________________________\n",
      "['No-error', 'No-error', 'No-error', 'No-error', 'No-error', 'No-error']\n",
      "\u001b[94m\u001b[1m🤓 OK\u001b[0m\n",
      "6.541409000000001\n"
     ]
    },
    {
     "data": {
      "text/html": [
       " <span style=\"background-color:#e0e0e0 \">4.157502</span> <span style=\"background-color:#DFFF00 \">10.698911</span>"
      ],
      "text/plain": [
       "<IPython.core.display.HTML object>"
      ]
     },
     "metadata": {},
     "output_type": "display_data"
    },
    {
     "data": {
      "text/html": [
       " Please note that <span style=\"background-color:#DFFF00 \">import</span><span style=\"background-color:#DFFF00 \"> duties</span><span style=\"background-color:#DFFF00 \"> taxes</span><span style=\"background-color:#DFFF00 \"> ,</span><span style=\"background-color:#DFFF00 \"> VAT</span> , quarantine fees , address change fees , or any other taxes are not included in the item price or in shipping charges ."
      ],
      "text/plain": [
       "<IPython.core.display.HTML object>"
      ]
     },
     "metadata": {},
     "output_type": "display_data"
    },
    {
     "data": {
      "text/html": [
       " Bitte beachten Sie , dass <span style=\"background-color:#DFFF00 \">Einfuhrzölle</span><span style=\"background-color:#DFFF00 \"> ,</span><span style=\"background-color:#DFFF00 \"> Mehrwertsteuer</span> , Quarantänegebühren , Adressänderungsgebühren oder andere Steuern nicht im Artikelpreis oder in den Versandkosten enthalten sind ."
      ],
      "text/plain": [
       "<IPython.core.display.HTML object>"
      ]
     },
     "metadata": {},
     "output_type": "display_data"
    },
    {
     "name": "stdout",
     "output_type": "stream",
     "text": [
      "____________________________________184___________________________________________________\n",
      "['No-error', 'No-error', 'No-error', 'No-error']\n",
      "\u001b[94m\u001b[1m🤓 OK\u001b[0m\n",
      "0.0\n"
     ]
    },
    {
     "data": {
      "text/html": [
       " <span style=\"background-color:#e0e0e0 \">9.759284</span>"
      ],
      "text/plain": [
       "<IPython.core.display.HTML object>"
      ]
     },
     "metadata": {},
     "output_type": "display_data"
    },
    {
     "data": {
      "text/html": [
       " Note 2 : Any customs charges or taxes in the buyer 's country will be paid by the buyer and we will not reimburse any amount whatsoever ."
      ],
      "text/plain": [
       "<IPython.core.display.HTML object>"
      ]
     },
     "metadata": {},
     "output_type": "display_data"
    },
    {
     "data": {
      "text/html": [
       " Hinweis 2 : Alle Zollgebühren oder Steuern im Land des Käufers werden vom Käufer bezahlt und wir erstatten keinerlei Betrag ."
      ],
      "text/plain": [
       "<IPython.core.display.HTML object>"
      ]
     },
     "metadata": {},
     "output_type": "display_data"
    },
    {
     "name": "stdout",
     "output_type": "stream",
     "text": [
      "____________________________________185___________________________________________________\n",
      "['No-error', 'No-error', 'No-error', 'No-error', 'No-error']\n",
      "\u001b[94m\u001b[1m🤓 OK\u001b[0m\n",
      "0.0\n"
     ]
    },
    {
     "data": {
      "text/html": [
       " <span style=\"background-color:#e0e0e0 \">13.042096</span>"
      ],
      "text/plain": [
       "<IPython.core.display.HTML object>"
      ]
     },
     "metadata": {},
     "output_type": "display_data"
    },
    {
     "data": {
      "text/html": [
       " You can also use the app to call or chat them , once they are nearby the location you will have an option to contact the rider ."
      ],
      "text/plain": [
       "<IPython.core.display.HTML object>"
      ]
     },
     "metadata": {},
     "output_type": "display_data"
    },
    {
     "data": {
      "text/html": [
       " Sie können die App auch verwenden , um sie anzurufen oder zu chatten . Sobald sie sich in der Nähe des Standorts befinden , haben Sie die Möglichkeit , den Fahrer zu kontaktieren ."
      ],
      "text/plain": [
       "<IPython.core.display.HTML object>"
      ]
     },
     "metadata": {},
     "output_type": "display_data"
    },
    {
     "name": "stdout",
     "output_type": "stream",
     "text": [
      "____________________________________186___________________________________________________\n",
      "['No-error', 'No-error', 'No-error']\n",
      "\u001b[94m\u001b[1m🤓 OK\u001b[0m\n",
      "0.0\n"
     ]
    },
    {
     "data": {
      "text/html": [
       " <span style=\"background-color:#e0e0e0 \">12.979145</span>"
      ],
      "text/plain": [
       "<IPython.core.display.HTML object>"
      ]
     },
     "metadata": {},
     "output_type": "display_data"
    },
    {
     "data": {
      "text/html": [
       " The UAE also significantly invests in Russia , making up some 80 % of all Arab investments in Russia 's economy ."
      ],
      "text/plain": [
       "<IPython.core.display.HTML object>"
      ]
     },
     "metadata": {},
     "output_type": "display_data"
    },
    {
     "data": {
      "text/html": [
       " Die VAE investieren auch erheblich in Russland und machen etwa 80 % aller arabischen Investitionen in die russische Wirtschaft aus ."
      ],
      "text/plain": [
       "<IPython.core.display.HTML object>"
      ]
     },
     "metadata": {},
     "output_type": "display_data"
    },
    {
     "name": "stdout",
     "output_type": "stream",
     "text": [
      "____________________________________187___________________________________________________\n",
      "['No-error', 'No-error', 'No-error', 'No-error', 'No-error', 'No-error', 'No-error', 'No-error']\n",
      "\u001b[94m\u001b[1m🤓 OK\u001b[0m\n",
      "0.0\n"
     ]
    },
    {
     "data": {
      "text/html": [
       " <span style=\"background-color:#e0e0e0 \">12.498858</span>"
      ],
      "text/plain": [
       "<IPython.core.display.HTML object>"
      ]
     },
     "metadata": {},
     "output_type": "display_data"
    },
    {
     "data": {
      "text/html": [
       " When you buy Norton Security , you 're getting one of the best security products on the market today ."
      ],
      "text/plain": [
       "<IPython.core.display.HTML object>"
      ]
     },
     "metadata": {},
     "output_type": "display_data"
    },
    {
     "data": {
      "text/html": [
       " Wenn Sie Norton Security kaufen , erhalten Sie eines der besten Sicherheitsprodukte auf dem heutigen Markt ."
      ],
      "text/plain": [
       "<IPython.core.display.HTML object>"
      ]
     },
     "metadata": {},
     "output_type": "display_data"
    },
    {
     "name": "stdout",
     "output_type": "stream",
     "text": [
      "____________________________________188___________________________________________________\n",
      "['No-error', 'No-error', 'No-error']\n",
      "\u001b[94m\u001b[1m🤓 OK\u001b[0m\n",
      "0.0\n"
     ]
    },
    {
     "data": {
      "text/html": [
       " <span style=\"background-color:#e0e0e0 \">8.935681</span>"
      ],
      "text/plain": [
       "<IPython.core.display.HTML object>"
      ]
     },
     "metadata": {},
     "output_type": "display_data"
    },
    {
     "data": {
      "text/html": [
       " You honestly think that a crackhead would own an expensive gun , and then save up enough money for ammo ?"
      ],
      "text/plain": [
       "<IPython.core.display.HTML object>"
      ]
     },
     "metadata": {},
     "output_type": "display_data"
    },
    {
     "data": {
      "text/html": [
       " Du denkst ehrlich , dass ein Crackhead eine teure Waffe besitzen und dann genug Geld für Munition sparen würde ?"
      ],
      "text/plain": [
       "<IPython.core.display.HTML object>"
      ]
     },
     "metadata": {},
     "output_type": "display_data"
    },
    {
     "name": "stdout",
     "output_type": "stream",
     "text": [
      "____________________________________189___________________________________________________\n",
      "['No-error', 'No-error', 'No-error']\n",
      "\u001b[94m\u001b[1m🤓 OK\u001b[0m\n",
      "13.4106436\n"
     ]
    },
    {
     "data": {
      "text/html": [
       " <span style=\"background-color:#e0e0e0 \">-0.9141366</span> <span style=\"background-color:#DFFF00 \">4.8985944</span> <span style=\"background-color:#9FE2BF \">12.496507</span>"
      ],
      "text/plain": [
       "<IPython.core.display.HTML object>"
      ]
     },
     "metadata": {},
     "output_type": "display_data"
    },
    {
     "data": {
      "text/html": [
       " From a single dashboard , you can monitor your security and identity protection settings , and even <span style=\"background-color:#9FE2BF \">view</span> <span style=\"background-color:#DFFF00 \">the</span><span style=\"background-color:#DFFF00 \"> history</span> of files scanned and downloads analyzed ."
      ],
      "text/plain": [
       "<IPython.core.display.HTML object>"
      ]
     },
     "metadata": {},
     "output_type": "display_data"
    },
    {
     "data": {
      "text/html": [
       " Von einem einzigen Dashboard aus können Sie Ihre Sicherheits- und Identitätsschutzeinstellungen überwachen und sogar <span style=\"background-color:#DFFF00 \">den</span><span style=\"background-color:#DFFF00 \"> Verlauf</span> gescannter Dateien und analysierter Downloads <span style=\"background-color:#9FE2BF \">anzeigen</span> ."
      ],
      "text/plain": [
       "<IPython.core.display.HTML object>"
      ]
     },
     "metadata": {},
     "output_type": "display_data"
    },
    {
     "name": "stdout",
     "output_type": "stream",
     "text": [
      "____________________________________190___________________________________________________\n",
      "['No-error', 'No-error', 'No-error']\n",
      "\u001b[94m\u001b[1m🤓 OK\u001b[0m\n",
      "2.7696890000000005\n"
     ]
    },
    {
     "data": {
      "text/html": [
       " <span style=\"background-color:#e0e0e0 \">5.223146</span> <span style=\"background-color:#DFFF00 \">6.728245</span> <span style=\"background-color:#9FE2BF \">7.992835</span>"
      ],
      "text/plain": [
       "<IPython.core.display.HTML object>"
      ]
     },
     "metadata": {},
     "output_type": "display_data"
    },
    {
     "data": {
      "text/html": [
       " When I returned the car , the <span style=\"background-color:#9FE2BF \">agent</span> <span style=\"background-color:#DFFF00 \">found</span> scratches under the car ( which I did not cause ) ."
      ],
      "text/plain": [
       "<IPython.core.display.HTML object>"
      ]
     },
     "metadata": {},
     "output_type": "display_data"
    },
    {
     "data": {
      "text/html": [
       " Als ich das Auto zurückgab , <span style=\"background-color:#DFFF00 \">fand</span> der <span style=\"background-color:#9FE2BF \">Mitarbeiter</span> Kratzer unter dem Auto ( die ich nicht verursacht hatte ) ."
      ],
      "text/plain": [
       "<IPython.core.display.HTML object>"
      ]
     },
     "metadata": {},
     "output_type": "display_data"
    },
    {
     "name": "stdout",
     "output_type": "stream",
     "text": [
      "____________________________________191___________________________________________________\n",
      "['No-error', 'No-error', 'No-error', 'No-error', 'No-error']\n",
      "\u001b[94m\u001b[1m🤓 OK\u001b[0m\n",
      "5.2113525\n"
     ]
    },
    {
     "data": {
      "text/html": [
       " <span style=\"background-color:#e0e0e0 \">6.3056555</span> <span style=\"background-color:#DFFF00 \">7.752541</span> <span style=\"background-color:#9FE2BF \">11.517008</span>"
      ],
      "text/plain": [
       "<IPython.core.display.HTML object>"
      ]
     },
     "metadata": {},
     "output_type": "display_data"
    },
    {
     "data": {
      "text/html": [
       " International <span style=\"background-color:#9FE2BF \">shipments</span> are usually delivered within 11 to 22 business days , depending on the time it takes <span style=\"background-color:#DFFF00 \">to</span><span style=\"background-color:#DFFF00 \"> clear</span><span style=\"background-color:#DFFF00 \"> customs</span> ."
      ],
      "text/plain": [
       "<IPython.core.display.HTML object>"
      ]
     },
     "metadata": {},
     "output_type": "display_data"
    },
    {
     "data": {
      "text/html": [
       " Internationale <span style=\"background-color:#9FE2BF \">Sendungen</span> werden in der Regel innerhalb von 11 bis 22 Werktagen geliefert , abhängig von der Zeit , die <span style=\"background-color:#DFFF00 \">für</span><span style=\"background-color:#DFFF00 \"> die</span><span style=\"background-color:#DFFF00 \"> Zollabfertigung</span> benötigt wird ."
      ],
      "text/plain": [
       "<IPython.core.display.HTML object>"
      ]
     },
     "metadata": {},
     "output_type": "display_data"
    },
    {
     "name": "stdout",
     "output_type": "stream",
     "text": [
      "____________________________________192___________________________________________________\n",
      "['No-error', 'No-error', 'No-error', 'No-error']\n",
      "\u001b[94m\u001b[1m🤓 OK\u001b[0m\n",
      "4.3165119999999995\n"
     ]
    },
    {
     "data": {
      "text/html": [
       " <span style=\"background-color:#e0e0e0 \">8.905574</span> <span style=\"background-color:#DFFF00 \">13.222086</span>"
      ],
      "text/plain": [
       "<IPython.core.display.HTML object>"
      ]
     },
     "metadata": {},
     "output_type": "display_data"
    },
    {
     "data": {
      "text/html": [
       " If for any reason you are unsatisfied with your purchase , please contact us first before you <span style=\"background-color:#DFFF00 \">leave</span><span style=\"background-color:#DFFF00 \"> negative</span><span style=\"background-color:#DFFF00 \"> /</span><span style=\"background-color:#DFFF00 \"> neutral</span><span style=\"background-color:#DFFF00 \"> feedback</span> so that we can make things right !"
      ],
      "text/plain": [
       "<IPython.core.display.HTML object>"
      ]
     },
     "metadata": {},
     "output_type": "display_data"
    },
    {
     "data": {
      "text/html": [
       " Wenn Sie aus irgendeinem Grund mit Ihrem Kauf unzufrieden sind , kontaktieren Sie uns bitte zuerst , bevor Sie <span style=\"background-color:#DFFF00 \">negatives</span><span style=\"background-color:#DFFF00 \"> /</span><span style=\"background-color:#DFFF00 \"> neutrales</span><span style=\"background-color:#DFFF00 \"> Feedback</span><span style=\"background-color:#DFFF00 \"> hinterlassen</span> , damit wir die Dinge richtig machen können !"
      ],
      "text/plain": [
       "<IPython.core.display.HTML object>"
      ]
     },
     "metadata": {},
     "output_type": "display_data"
    },
    {
     "name": "stdout",
     "output_type": "stream",
     "text": [
      "____________________________________193___________________________________________________\n",
      "['minor', 'minor', 'minor', 'minor']\n",
      "\u001b[91m\u001b[1m😤  Minor\u001b[0m\n",
      "0.0\n"
     ]
    },
    {
     "data": {
      "text/html": [
       " <span style=\"background-color:#e0e0e0 \">12.096535</span>"
      ],
      "text/plain": [
       "<IPython.core.display.HTML object>"
      ]
     },
     "metadata": {},
     "output_type": "display_data"
    },
    {
     "data": {
      "text/html": [
       " Anyone who tests positive for the omicron variant of Covid-19 will have to isolate for 10 days , as will anyone who has been identified as a close contact of a positive result ."
      ],
      "text/plain": [
       "<IPython.core.display.HTML object>"
      ]
     },
     "metadata": {},
     "output_type": "display_data"
    },
    {
     "data": {
      "text/html": [
       " Jeder , der positiv auf die Omicron-Variante von Covid-19 getestet wird , muss sich 10 Tage lang isolieren , ebenso wie jeder , der als enger Kontakt mit einem positiven Ergebnis identifiziert wurde ."
      ],
      "text/plain": [
       "<IPython.core.display.HTML object>"
      ]
     },
     "metadata": {},
     "output_type": "display_data"
    },
    {
     "name": "stdout",
     "output_type": "stream",
     "text": [
      "____________________________________194___________________________________________________\n",
      "['No-error', 'No-error', 'No-error']\n",
      "\u001b[94m\u001b[1m🤓 OK\u001b[0m\n",
      "0.0\n"
     ]
    },
    {
     "data": {
      "text/html": [
       " <span style=\"background-color:#e0e0e0 \">13.5781145</span>"
      ],
      "text/plain": [
       "<IPython.core.display.HTML object>"
      ]
     },
     "metadata": {},
     "output_type": "display_data"
    },
    {
     "data": {
      "text/html": [
       " De Klerk also shared the Nobel Peace Prize with Mandela in 1993 after freeing him from prison in 1990 ."
      ],
      "text/plain": [
       "<IPython.core.display.HTML object>"
      ]
     },
     "metadata": {},
     "output_type": "display_data"
    },
    {
     "data": {
      "text/html": [
       " De Klerk teilte sich 1993 auch den Friedensnobelpreis mit Mandela , nachdem er ihn 1990 aus dem Gefängnis befreit hatte ."
      ],
      "text/plain": [
       "<IPython.core.display.HTML object>"
      ]
     },
     "metadata": {},
     "output_type": "display_data"
    },
    {
     "name": "stdout",
     "output_type": "stream",
     "text": [
      "____________________________________195___________________________________________________\n",
      "['minor', 'minor', 'minor', 'minor']\n",
      "\u001b[91m\u001b[1m😤  Minor\u001b[0m\n",
      "0.0\n"
     ]
    },
    {
     "data": {
      "text/html": [
       " <span style=\"background-color:#e0e0e0 \">8.387931</span>"
      ],
      "text/plain": [
       "<IPython.core.display.HTML object>"
      ]
     },
     "metadata": {},
     "output_type": "display_data"
    },
    {
     "data": {
      "text/html": [
       " After a while of browsing , the infamous one left and went back to his vehicle while the other one took a shopping cart , and put a large 500 dollar socket set in it ."
      ],
      "text/plain": [
       "<IPython.core.display.HTML object>"
      ]
     },
     "metadata": {},
     "output_type": "display_data"
    },
    {
     "data": {
      "text/html": [
       " Nach einer Weile des Surfens verließ der berüchtigte und ging zu seinem Fahrzeug zurück , während der andere einen Einkaufswagen nahm und eine große 500-Dollar-Steckdose darin steckte ."
      ],
      "text/plain": [
       "<IPython.core.display.HTML object>"
      ]
     },
     "metadata": {},
     "output_type": "display_data"
    },
    {
     "name": "stdout",
     "output_type": "stream",
     "text": [
      "____________________________________196___________________________________________________\n",
      "['minor', 'minor', 'minor', 'minor']\n",
      "\u001b[91m\u001b[1m😤  Minor\u001b[0m\n",
      "6.0199489999999996\n"
     ]
    },
    {
     "data": {
      "text/html": [
       " <span style=\"background-color:#e0e0e0 \">5.331337</span> <span style=\"background-color:#DFFF00 \">8.1796255</span> <span style=\"background-color:#9FE2BF \">9.276336</span> <span style=\"background-color:#CCCCFF \">11.351286</span>"
      ],
      "text/plain": [
       "<IPython.core.display.HTML object>"
      ]
     },
     "metadata": {},
     "output_type": "display_data"
    },
    {
     "data": {
      "text/html": [
       " <span style=\"background-color:#DFFF00 \">Crowds</span> <span style=\"background-color:#9FE2BF \">desperate</span><span style=\"background-color:#9FE2BF \"> to</span> buy shirts <span style=\"background-color:#CCCCFF \">designed</span> by the mysterious street artist Banksy have been seen in Bristol , UK ."
      ],
      "text/plain": [
       "<IPython.core.display.HTML object>"
      ]
     },
     "metadata": {},
     "output_type": "display_data"
    },
    {
     "data": {
      "text/html": [
       " <span style=\"background-color:#DFFF00 \">Menschenmassen</span> , die <span style=\"background-color:#9FE2BF \">verzweifelt</span> nach Hemden mit <span style=\"background-color:#CCCCFF \">Design</span> der mysteriösen Street-Künstlerin Banksy Ausschau halten , sieht man in Bristol ( Großbritannien ) ."
      ],
      "text/plain": [
       "<IPython.core.display.HTML object>"
      ]
     },
     "metadata": {},
     "output_type": "display_data"
    },
    {
     "name": "stdout",
     "output_type": "stream",
     "text": [
      "____________________________________197___________________________________________________\n",
      "['No-error', 'No-error', 'No-error']\n",
      "\u001b[94m\u001b[1m🤓 OK\u001b[0m\n",
      "0.0\n"
     ]
    },
    {
     "data": {
      "text/html": [
       " <span style=\"background-color:#e0e0e0 \">12.349738</span>"
      ],
      "text/plain": [
       "<IPython.core.display.HTML object>"
      ]
     },
     "metadata": {},
     "output_type": "display_data"
    },
    {
     "data": {
      "text/html": [
       " Even if you don 't know your password you can create a new password by following the steps I sent ."
      ],
      "text/plain": [
       "<IPython.core.display.HTML object>"
      ]
     },
     "metadata": {},
     "output_type": "display_data"
    },
    {
     "data": {
      "text/html": [
       " Auch wenn Sie Ihr Passwort nicht kennen , können Sie ein neues Passwort erstellen , indem Sie die von mir gesendeten Schritte ausführen ."
      ],
      "text/plain": [
       "<IPython.core.display.HTML object>"
      ]
     },
     "metadata": {},
     "output_type": "display_data"
    },
    {
     "name": "stdout",
     "output_type": "stream",
     "text": [
      "____________________________________198___________________________________________________\n",
      "['minor', 'minor', 'minor']\n",
      "\u001b[91m\u001b[1m😤  Minor\u001b[0m\n",
      "0.0\n"
     ]
    },
    {
     "data": {
      "text/html": [
       " <span style=\"background-color:#e0e0e0 \">8.73901</span>"
      ],
      "text/plain": [
       "<IPython.core.display.HTML object>"
      ]
     },
     "metadata": {},
     "output_type": "display_data"
    },
    {
     "data": {
      "text/html": [
       " After a while of browsing , the infamous one left and went back to his vehicle while the other one took a shopping cart , and put a large 500 dollar socket set in it ."
      ],
      "text/plain": [
       "<IPython.core.display.HTML object>"
      ]
     },
     "metadata": {},
     "output_type": "display_data"
    },
    {
     "data": {
      "text/html": [
       " Nach einer Weile des Stöberns fuhr der Unbekannte wieder zurück zu seinem Fahrzeug , während der andere einen Einkaufswagen nahm und einen großen 500-Dollar-Steckdosensatz hineinstellte ."
      ],
      "text/plain": [
       "<IPython.core.display.HTML object>"
      ]
     },
     "metadata": {},
     "output_type": "display_data"
    },
    {
     "name": "stdout",
     "output_type": "stream",
     "text": [
      "____________________________________199___________________________________________________\n",
      "['No-error', 'No-error', 'No-error']\n",
      "\u001b[94m\u001b[1m🤓 OK\u001b[0m\n",
      "0.0\n"
     ]
    },
    {
     "data": {
      "text/html": [
       " <span style=\"background-color:#e0e0e0 \">12.382921</span>"
      ],
      "text/plain": [
       "<IPython.core.display.HTML object>"
      ]
     },
     "metadata": {},
     "output_type": "display_data"
    },
    {
     "data": {
      "text/html": [
       " Even if you don 't know your password you can create a new password by following the steps I sent ."
      ],
      "text/plain": [
       "<IPython.core.display.HTML object>"
      ]
     },
     "metadata": {},
     "output_type": "display_data"
    },
    {
     "data": {
      "text/html": [
       " Auch wenn Sie Ihr Passwort nicht kennen , können Sie ein neues Passwort erstellen , indem Sie die Schritte befolgen , die ich gesendet habe ."
      ],
      "text/plain": [
       "<IPython.core.display.HTML object>"
      ]
     },
     "metadata": {},
     "output_type": "display_data"
    },
    {
     "name": "stdout",
     "output_type": "stream",
     "text": [
      "____________________________________200___________________________________________________\n",
      "['No-error', 'minor', 'minor']\n",
      "\u001b[91m\u001b[1m😤  Minor\u001b[0m\n",
      "22.271948000000002\n"
     ]
    },
    {
     "data": {
      "text/html": [
       " <span style=\"background-color:#e0e0e0 \">-9.23046</span> <span style=\"background-color:#DFFF00 \">13.041488</span>"
      ],
      "text/plain": [
       "<IPython.core.display.HTML object>"
      ]
     },
     "metadata": {},
     "output_type": "display_data"
    },
    {
     "data": {
      "text/html": [
       " <span style=\"background-color:#DFFF00 \">for</span><span style=\"background-color:#DFFF00 \"> quality</span><span style=\"background-color:#DFFF00 \"> purposes</span> i will have to release this chat if there is no interaction in the next 2 minutes"
      ],
      "text/plain": [
       "<IPython.core.display.HTML object>"
      ]
     },
     "metadata": {},
     "output_type": "display_data"
    },
    {
     "data": {
      "text/html": [
       " <span style=\"background-color:#DFFF00 \">Aus</span><span style=\"background-color:#DFFF00 \"> Qualitätsgründen</span> muss ich diesen Chat freigeben , wenn es in den nächsten 2 Minuten keine Interaktion gibt ."
      ],
      "text/plain": [
       "<IPython.core.display.HTML object>"
      ]
     },
     "metadata": {},
     "output_type": "display_data"
    },
    {
     "name": "stdout",
     "output_type": "stream",
     "text": [
      "____________________________________201___________________________________________________\n",
      "['No-error', 'No-error', 'No-error']\n",
      "\u001b[94m\u001b[1m🤓 OK\u001b[0m\n",
      "0.0\n"
     ]
    },
    {
     "data": {
      "text/html": [
       " <span style=\"background-color:#e0e0e0 \">12.411417</span>"
      ],
      "text/plain": [
       "<IPython.core.display.HTML object>"
      ]
     },
     "metadata": {},
     "output_type": "display_data"
    },
    {
     "data": {
      "text/html": [
       " I finally gave up and walked over to Hertz , who charged me a fortune , but they got me a car right away ."
      ],
      "text/plain": [
       "<IPython.core.display.HTML object>"
      ]
     },
     "metadata": {},
     "output_type": "display_data"
    },
    {
     "data": {
      "text/html": [
       " Ich gab schließlich auf und ging zu Hertz , der mir ein Vermögen in Rechnung stellte , aber sie besorgten mir sofort ein Auto ."
      ],
      "text/plain": [
       "<IPython.core.display.HTML object>"
      ]
     },
     "metadata": {},
     "output_type": "display_data"
    },
    {
     "name": "stdout",
     "output_type": "stream",
     "text": [
      "____________________________________202___________________________________________________\n",
      "['No-error', 'No-error', 'No-error', 'No-error', 'No-error', 'No-error', 'No-error']\n",
      "\u001b[94m\u001b[1m🤓 OK\u001b[0m\n",
      "0.0\n"
     ]
    },
    {
     "data": {
      "text/html": [
       " <span style=\"background-color:#e0e0e0 \">13.165874</span>"
      ],
      "text/plain": [
       "<IPython.core.display.HTML object>"
      ]
     },
     "metadata": {},
     "output_type": "display_data"
    },
    {
     "data": {
      "text/html": [
       " If at any time you need help , our support agents are ready to assist you 24 hours a day , seven days a week ."
      ],
      "text/plain": [
       "<IPython.core.display.HTML object>"
      ]
     },
     "metadata": {},
     "output_type": "display_data"
    },
    {
     "data": {
      "text/html": [
       " Wenn Sie zu irgendeinem Zeitpunkt Hilfe benötigen , stehen Ihnen unsere Support-Mitarbeiter 24 Stunden am Tag , sieben Tage die Woche zur Verfügung ."
      ],
      "text/plain": [
       "<IPython.core.display.HTML object>"
      ]
     },
     "metadata": {},
     "output_type": "display_data"
    },
    {
     "name": "stdout",
     "output_type": "stream",
     "text": [
      "____________________________________203___________________________________________________\n",
      "['No-error', 'No-error', 'No-error']\n",
      "\u001b[94m\u001b[1m🤓 OK\u001b[0m\n",
      "0.0\n"
     ]
    },
    {
     "data": {
      "text/html": [
       " <span style=\"background-color:#e0e0e0 \">4.4977293</span>"
      ],
      "text/plain": [
       "<IPython.core.display.HTML object>"
      ]
     },
     "metadata": {},
     "output_type": "display_data"
    },
    {
     "data": {
      "text/html": [
       " Add 5 double wire clamps to your order for just 99p , perfect for securing the vacuum hose in place !"
      ],
      "text/plain": [
       "<IPython.core.display.HTML object>"
      ]
     },
     "metadata": {},
     "output_type": "display_data"
    },
    {
     "data": {
      "text/html": [
       " Fügen Sie Ihrer Bestellung 5 Doppeldrahtklemmen für nur 99 Pence hinzu , perfekt zum Befestigen des Vakuumschlauchs !"
      ],
      "text/plain": [
       "<IPython.core.display.HTML object>"
      ]
     },
     "metadata": {},
     "output_type": "display_data"
    },
    {
     "name": "stdout",
     "output_type": "stream",
     "text": [
      "____________________________________204___________________________________________________\n",
      "['No-error', 'No-error', 'No-error', 'No-error']\n",
      "\u001b[94m\u001b[1m🤓 OK\u001b[0m\n",
      "12.512970004\n"
     ]
    },
    {
     "data": {
      "text/html": [
       " <span style=\"background-color:#e0e0e0 \">-0.055778004</span> <span style=\"background-color:#DFFF00 \">12.457192</span>"
      ],
      "text/plain": [
       "<IPython.core.display.HTML object>"
      ]
     },
     "metadata": {},
     "output_type": "display_data"
    },
    {
     "data": {
      "text/html": [
       " if you did both procedures and didn 't solve the issue I can refund the money to your Store Credit account <span style=\"background-color:#DFFF00 \">.</span>"
      ],
      "text/plain": [
       "<IPython.core.display.HTML object>"
      ]
     },
     "metadata": {},
     "output_type": "display_data"
    },
    {
     "data": {
      "text/html": [
       " Wenn Sie beide Verfahren durchgeführt und das Problem nicht gelöst haben , kann ich das Geld auf Ihr Store-Guthabenkonto zurückerstatten <span style=\"background-color:#DFFF00 \">.</span>"
      ],
      "text/plain": [
       "<IPython.core.display.HTML object>"
      ]
     },
     "metadata": {},
     "output_type": "display_data"
    },
    {
     "name": "stdout",
     "output_type": "stream",
     "text": [
      "____________________________________205___________________________________________________\n",
      "['No-error', 'No-error', 'No-error']\n",
      "\u001b[94m\u001b[1m🤓 OK\u001b[0m\n",
      "2.7543004999999994\n"
     ]
    },
    {
     "data": {
      "text/html": [
       " <span style=\"background-color:#e0e0e0 \">8.362949</span> <span style=\"background-color:#DFFF00 \">11.1172495</span>"
      ],
      "text/plain": [
       "<IPython.core.display.HTML object>"
      ]
     },
     "metadata": {},
     "output_type": "display_data"
    },
    {
     "data": {
      "text/html": [
       " I am sorry , due to quality purposes I will have to close this chat if I don 't receive a response <span style=\"background-color:#DFFF00 \">in</span><span style=\"background-color:#DFFF00 \"> 2</span><span style=\"background-color:#DFFF00 \"> minutes</span> ."
      ],
      "text/plain": [
       "<IPython.core.display.HTML object>"
      ]
     },
     "metadata": {},
     "output_type": "display_data"
    },
    {
     "data": {
      "text/html": [
       " Es tut mir leid , aus Qualitätsgründen muss ich diesen Chat schließen , wenn ich nicht <span style=\"background-color:#DFFF00 \">innerhalb</span><span style=\"background-color:#DFFF00 \"> von</span><span style=\"background-color:#DFFF00 \"> 2</span><span style=\"background-color:#DFFF00 \"> Minuten</span> eine Antwort erhalte ."
      ],
      "text/plain": [
       "<IPython.core.display.HTML object>"
      ]
     },
     "metadata": {},
     "output_type": "display_data"
    },
    {
     "name": "stdout",
     "output_type": "stream",
     "text": [
      "____________________________________206___________________________________________________\n",
      "['major', 'minor', 'minor']\n",
      "\u001b[91m\u001b[1m😤  Minor\u001b[0m\n",
      "8.9244558\n"
     ]
    },
    {
     "data": {
      "text/html": [
       " <span style=\"background-color:#e0e0e0 \">-2.6464908</span> <span style=\"background-color:#DFFF00 \">4.231245</span> <span style=\"background-color:#9FE2BF \">6.277965</span>"
      ],
      "text/plain": [
       "<IPython.core.display.HTML object>"
      ]
     },
     "metadata": {},
     "output_type": "display_data"
    },
    {
     "data": {
      "text/html": [
       " Featuring an incredible stretch <span style=\"background-color:#DFFF00 \">characteristic</span><span style=\"background-color:#DFFF00 \"> in</span> diameter , allowing the hose to stretch onto a connection <span style=\"background-color:#9FE2BF \">for</span><span style=\"background-color:#9FE2BF \"> a</span><span style=\"background-color:#9FE2BF \"> perfect</span><span style=\"background-color:#9FE2BF \"> seal</span> ( ie you can stretch a 3mm ID hose onto a 5mm OD connection ) ."
      ],
      "text/plain": [
       "<IPython.core.display.HTML object>"
      ]
     },
     "metadata": {},
     "output_type": "display_data"
    },
    {
     "data": {
      "text/html": [
       " fossile Röhren sind dehnbar und ermöglichen eine perfekte Abdichtung der Verbindung ( dh Sie können einen <span style=\"background-color:#9FE2BF \">Schlauch</span><span style=\"background-color:#9FE2BF \"> mit</span> 3 mm Innendurchmesser auf einen Anschluss mit 5 mm Außendurchmesser strecken ) ."
      ],
      "text/plain": [
       "<IPython.core.display.HTML object>"
      ]
     },
     "metadata": {},
     "output_type": "display_data"
    },
    {
     "name": "stdout",
     "output_type": "stream",
     "text": [
      "____________________________________207___________________________________________________\n",
      "['minor', 'minor', 'minor', 'minor', 'minor']\n",
      "\u001b[91m\u001b[1m😤  Minor\u001b[0m\n",
      "4.2033753\n"
     ]
    },
    {
     "data": {
      "text/html": [
       " <span style=\"background-color:#e0e0e0 \">7.6088867</span> <span style=\"background-color:#DFFF00 \">11.812262</span>"
      ],
      "text/plain": [
       "<IPython.core.display.HTML object>"
      ]
     },
     "metadata": {},
     "output_type": "display_data"
    },
    {
     "data": {
      "text/html": [
       " Please note that all our comics in every grade ( EVEN POOR ) will be <span style=\"background-color:#DFFF00 \">complete</span><span style=\"background-color:#DFFF00 \"> unless</span> stated otherwise in the listing !"
      ],
      "text/plain": [
       "<IPython.core.display.HTML object>"
      ]
     },
     "metadata": {},
     "output_type": "display_data"
    },
    {
     "data": {
      "text/html": [
       " Bitte beachten Sie , dass alle unsere Comics in jeder Klasse ( EVEN POOR ) <span style=\"background-color:#DFFF00 \">vollständig</span> sind , sofern in der Auflistung nichts anderes angegeben ist !"
      ],
      "text/plain": [
       "<IPython.core.display.HTML object>"
      ]
     },
     "metadata": {},
     "output_type": "display_data"
    },
    {
     "name": "stdout",
     "output_type": "stream",
     "text": [
      "____________________________________208___________________________________________________\n",
      "['No-error', 'No-error', 'No-error', 'No-error']\n",
      "\u001b[94m\u001b[1m🤓 OK\u001b[0m\n",
      "0.0\n"
     ]
    },
    {
     "data": {
      "text/html": [
       " <span style=\"background-color:#e0e0e0 \">11.85121</span>"
      ],
      "text/plain": [
       "<IPython.core.display.HTML object>"
      ]
     },
     "metadata": {},
     "output_type": "display_data"
    },
    {
     "data": {
      "text/html": [
       " Even if you don 't know your password you can create a new password by following the steps I sent ."
      ],
      "text/plain": [
       "<IPython.core.display.HTML object>"
      ]
     },
     "metadata": {},
     "output_type": "display_data"
    },
    {
     "data": {
      "text/html": [
       " Auch wenn Sie Ihr Passwort nicht kennen , können Sie ein neues Passwort erstellen , indem Sie die von mir gesendeten Schritte befolgen ."
      ],
      "text/plain": [
       "<IPython.core.display.HTML object>"
      ]
     },
     "metadata": {},
     "output_type": "display_data"
    },
    {
     "name": "stdout",
     "output_type": "stream",
     "text": [
      "____________________________________209___________________________________________________\n",
      "['No-error', 'No-error', 'No-error']\n",
      "\u001b[94m\u001b[1m🤓 OK\u001b[0m\n",
      "1.4256529999999987\n"
     ]
    },
    {
     "data": {
      "text/html": [
       " <span style=\"background-color:#e0e0e0 \">8.042647</span> <span style=\"background-color:#DFFF00 \">9.4683</span>"
      ],
      "text/plain": [
       "<IPython.core.display.HTML object>"
      ]
     },
     "metadata": {},
     "output_type": "display_data"
    },
    {
     "data": {
      "text/html": [
       " Samco 's vacuum hose is not designed to carry oil , fuel or <span style=\"background-color:#DFFF00 \">for</span><span style=\"background-color:#DFFF00 \"> continuous</span> transfer of pressurised hot water ."
      ],
      "text/plain": [
       "<IPython.core.display.HTML object>"
      ]
     },
     "metadata": {},
     "output_type": "display_data"
    },
    {
     "data": {
      "text/html": [
       " Der Vakuumschlauch von Samco ist nicht für den Transport von Öl , Kraftstoff oder <span style=\"background-color:#DFFF00 \">für</span><span style=\"background-color:#DFFF00 \"> die</span><span style=\"background-color:#DFFF00 \"> kontinuierliche</span> Übertragung von unter Druck stehendem heißem Wasser ausgelegt ."
      ],
      "text/plain": [
       "<IPython.core.display.HTML object>"
      ]
     },
     "metadata": {},
     "output_type": "display_data"
    },
    {
     "name": "stdout",
     "output_type": "stream",
     "text": [
      "____________________________________210___________________________________________________\n",
      "['minor', 'minor', 'minor', 'minor']\n",
      "\u001b[91m\u001b[1m😤  Minor\u001b[0m\n",
      "8.166711\n"
     ]
    },
    {
     "data": {
      "text/html": [
       " <span style=\"background-color:#e0e0e0 \">4.19982</span> <span style=\"background-color:#DFFF00 \">12.366531</span>"
      ],
      "text/plain": [
       "<IPython.core.display.HTML object>"
      ]
     },
     "metadata": {},
     "output_type": "display_data"
    },
    {
     "data": {
      "text/html": [
       " An Iowa <span style=\"background-color:#DFFF00 \">Santa</span> who has been making children smile for 50 years says he 's ready to hang up the red suit and enjoy a quieter Christmas ."
      ],
      "text/plain": [
       "<IPython.core.display.HTML object>"
      ]
     },
     "metadata": {},
     "output_type": "display_data"
    },
    {
     "data": {
      "text/html": [
       " Ein <span style=\"background-color:#DFFF00 \">Weihnachtsmann</span><span style=\"background-color:#DFFF00 \"> aus</span> Iowa , der seit 50 Jahren Kinder zum Lächeln bringt , sagt , er sei bereit , den roten Anzug aufzuhängen und ein ruhigeres Weihnachtsfest zu genießen ."
      ],
      "text/plain": [
       "<IPython.core.display.HTML object>"
      ]
     },
     "metadata": {},
     "output_type": "display_data"
    },
    {
     "name": "stdout",
     "output_type": "stream",
     "text": [
      "____________________________________211___________________________________________________\n",
      "['minor', 'minor', 'minor']\n",
      "\u001b[91m\u001b[1m😤  Minor\u001b[0m\n",
      "8.463681\n"
     ]
    },
    {
     "data": {
      "text/html": [
       " <span style=\"background-color:#e0e0e0 \">1.0664675</span> <span style=\"background-color:#DFFF00 \">9.5301485</span>"
      ],
      "text/plain": [
       "<IPython.core.display.HTML object>"
      ]
     },
     "metadata": {},
     "output_type": "display_data"
    },
    {
     "data": {
      "text/html": [
       " Joint Aid for Dogs is a high specification <span style=\"background-color:#DFFF00 \">joint</span><span style=\"background-color:#DFFF00 \"> and</span> muscle supplement with glucosamine for dogs , designed to aid freedom of movement ."
      ],
      "text/plain": [
       "<IPython.core.display.HTML object>"
      ]
     },
     "metadata": {},
     "output_type": "display_data"
    },
    {
     "data": {
      "text/html": [
       " Gelenkhilfe für Hunde ist ein hochspezialisiertes <span style=\"background-color:#DFFF00 \">Gelenk-</span><span style=\"background-color:#DFFF00 \"> und</span> Muskelpräparat mit Glucosamin für Hunde , das die Bewegungsfreiheit fördert ."
      ],
      "text/plain": [
       "<IPython.core.display.HTML object>"
      ]
     },
     "metadata": {},
     "output_type": "display_data"
    },
    {
     "name": "stdout",
     "output_type": "stream",
     "text": [
      "____________________________________212___________________________________________________\n",
      "['No-error', 'No-error', 'No-error', 'No-error', 'No-error']\n",
      "\u001b[94m\u001b[1m🤓 OK\u001b[0m\n",
      "0.0\n"
     ]
    },
    {
     "data": {
      "text/html": [
       " <span style=\"background-color:#e0e0e0 \">13.586694</span>"
      ],
      "text/plain": [
       "<IPython.core.display.HTML object>"
      ]
     },
     "metadata": {},
     "output_type": "display_data"
    },
    {
     "data": {
      "text/html": [
       " De Klerk also shared the Nobel Peace Prize with Mandela in 1993 after freeing him from prison in 1990 ."
      ],
      "text/plain": [
       "<IPython.core.display.HTML object>"
      ]
     },
     "metadata": {},
     "output_type": "display_data"
    },
    {
     "data": {
      "text/html": [
       " De Klerk teilte 1993 auch den Friedensnobelpreis mit Mandela , nachdem er ihn 1990 aus dem Gefängnis befreit hatte ."
      ],
      "text/plain": [
       "<IPython.core.display.HTML object>"
      ]
     },
     "metadata": {},
     "output_type": "display_data"
    },
    {
     "name": "stdout",
     "output_type": "stream",
     "text": [
      "____________________________________213___________________________________________________\n",
      "['No-error', 'No-error', 'No-error', 'No-error', 'minor', 'No-error']\n",
      "\u001b[94m\u001b[1m🤓 OK\u001b[0m\n",
      "2.228910999999999\n"
     ]
    },
    {
     "data": {
      "text/html": [
       " <span style=\"background-color:#e0e0e0 \">5.5879583</span> <span style=\"background-color:#DFFF00 \">6.805764</span> <span style=\"background-color:#9FE2BF \">7.8168693</span>"
      ],
      "text/plain": [
       "<IPython.core.display.HTML object>"
      ]
     },
     "metadata": {},
     "output_type": "display_data"
    },
    {
     "data": {
      "text/html": [
       " Please wait <span style=\"background-color:#9FE2BF \">for</span><span style=\"background-color:#9FE2BF \"> the</span><span style=\"background-color:#9FE2BF \"> order</span> , and you can <span style=\"background-color:#DFFF00 \">report</span><span style=\"background-color:#DFFF00 \"> to</span> us if ever food is not hot so we can help you ."
      ],
      "text/plain": [
       "<IPython.core.display.HTML object>"
      ]
     },
     "metadata": {},
     "output_type": "display_data"
    },
    {
     "data": {
      "text/html": [
       " Bitte warten Sie <span style=\"background-color:#9FE2BF \">auf</span><span style=\"background-color:#9FE2BF \"> die</span><span style=\"background-color:#9FE2BF \"> Bestellung</span> , und Sie können uns <span style=\"background-color:#DFFF00 \">melden</span> , wenn das Essen nicht heiß ist , damit wir Ihnen helfen können ."
      ],
      "text/plain": [
       "<IPython.core.display.HTML object>"
      ]
     },
     "metadata": {},
     "output_type": "display_data"
    },
    {
     "name": "stdout",
     "output_type": "stream",
     "text": [
      "____________________________________214___________________________________________________\n",
      "['minor', 'minor', 'minor']\n",
      "\u001b[91m\u001b[1m😤  Minor\u001b[0m\n",
      "0.0\n"
     ]
    },
    {
     "data": {
      "text/html": [
       " <span style=\"background-color:#e0e0e0 \">13.797908</span>"
      ],
      "text/plain": [
       "<IPython.core.display.HTML object>"
      ]
     },
     "metadata": {},
     "output_type": "display_data"
    },
    {
     "data": {
      "text/html": [
       " Banksy designed the limited edition \" souvenir shirts \" to mark the trial of four people charged with damaging a controversial statue in Bristol last year ."
      ],
      "text/plain": [
       "<IPython.core.display.HTML object>"
      ]
     },
     "metadata": {},
     "output_type": "display_data"
    },
    {
     "data": {
      "text/html": [
       " Banksy entwarf die limitierte Ausgabe \" Souvenir T-Shirts \" , um das Verfahren gegen vier Personen zu markieren , die im vergangenen Jahr wegen der Beschädigung einer umstrittenen Statue in Bristol angeklagt wurden ."
      ],
      "text/plain": [
       "<IPython.core.display.HTML object>"
      ]
     },
     "metadata": {},
     "output_type": "display_data"
    },
    {
     "name": "stdout",
     "output_type": "stream",
     "text": [
      "____________________________________215___________________________________________________\n",
      "['minor', 'minor', 'minor', 'minor']\n",
      "\u001b[91m\u001b[1m😤  Minor\u001b[0m\n",
      "5.741921\n"
     ]
    },
    {
     "data": {
      "text/html": [
       " <span style=\"background-color:#e0e0e0 \">5.966203</span> <span style=\"background-color:#DFFF00 \">11.708124</span>"
      ],
      "text/plain": [
       "<IPython.core.display.HTML object>"
      ]
     },
     "metadata": {},
     "output_type": "display_data"
    },
    {
     "data": {
      "text/html": [
       " Joint Aid for Dogs is a <span style=\"background-color:#DFFF00 \">high</span><span style=\"background-color:#DFFF00 \"> specification</span><span style=\"background-color:#DFFF00 \"> joint</span><span style=\"background-color:#DFFF00 \"> and</span> muscle supplement with glucosamine for dogs , designed to aid freedom of movement ."
      ],
      "text/plain": [
       "<IPython.core.display.HTML object>"
      ]
     },
     "metadata": {},
     "output_type": "display_data"
    },
    {
     "data": {
      "text/html": [
       " Joint Aid for Dogs ist ein <span style=\"background-color:#DFFF00 \">hochwertiges</span><span style=\"background-color:#DFFF00 \"> Gelenk-</span><span style=\"background-color:#DFFF00 \"> und</span> Muskelergänzungsmittel mit Glucosamin für Hunde , das entwickelt wurde , um die Bewegungsfreiheit zu unterstützen ."
      ],
      "text/plain": [
       "<IPython.core.display.HTML object>"
      ]
     },
     "metadata": {},
     "output_type": "display_data"
    },
    {
     "name": "stdout",
     "output_type": "stream",
     "text": [
      "____________________________________216___________________________________________________\n",
      "['No-error', 'minor', 'minor']\n",
      "\u001b[91m\u001b[1m😤  Minor\u001b[0m\n",
      "0.0\n"
     ]
    },
    {
     "data": {
      "text/html": [
       " <span style=\"background-color:#e0e0e0 \">10.40852</span>"
      ],
      "text/plain": [
       "<IPython.core.display.HTML object>"
      ]
     },
     "metadata": {},
     "output_type": "display_data"
    },
    {
     "data": {
      "text/html": [
       " This accomplice then waited until the two cashiers at the exit door were busy , then walked right by them and out the door ."
      ],
      "text/plain": [
       "<IPython.core.display.HTML object>"
      ]
     },
     "metadata": {},
     "output_type": "display_data"
    },
    {
     "data": {
      "text/html": [
       " Dieser Komplize wartete dann , bis die beiden Kassierer an der Ausgangstür beschäftigt waren , ging dann direkt an ihnen vorbei und zur Tür hinaus ."
      ],
      "text/plain": [
       "<IPython.core.display.HTML object>"
      ]
     },
     "metadata": {},
     "output_type": "display_data"
    },
    {
     "name": "stdout",
     "output_type": "stream",
     "text": [
      "____________________________________217___________________________________________________\n",
      "['minor', 'minor', 'minor']\n",
      "\u001b[91m\u001b[1m😤  Minor\u001b[0m\n",
      "0.0\n"
     ]
    },
    {
     "data": {
      "text/html": [
       " <span style=\"background-color:#e0e0e0 \">12.138044</span>"
      ],
      "text/plain": [
       "<IPython.core.display.HTML object>"
      ]
     },
     "metadata": {},
     "output_type": "display_data"
    },
    {
     "data": {
      "text/html": [
       " To be eligible for the Virus Protection Promise , you must purchase , renew , or upgrade your Norton subscription directly from Symantec , or subscribe to the Norton Automatic Renewal Service ."
      ],
      "text/plain": [
       "<IPython.core.display.HTML object>"
      ]
     },
     "metadata": {},
     "output_type": "display_data"
    },
    {
     "data": {
      "text/html": [
       " Um Anspruch auf das Virus Protection Promise zu haben , müssen Sie Ihr Norton-Abonnement direkt bei Symantec kaufen , erneuern oder aktualisieren oder den automatischen Verlängerungsservice von Norton abonnieren ."
      ],
      "text/plain": [
       "<IPython.core.display.HTML object>"
      ]
     },
     "metadata": {},
     "output_type": "display_data"
    },
    {
     "name": "stdout",
     "output_type": "stream",
     "text": [
      "____________________________________218___________________________________________________\n",
      "['No-error', 'No-error', 'No-error', 'No-error', 'No-error']\n",
      "\u001b[94m\u001b[1m🤓 OK\u001b[0m\n",
      "4.0190873\n"
     ]
    },
    {
     "data": {
      "text/html": [
       " <span style=\"background-color:#e0e0e0 \">7.0077577</span> <span style=\"background-color:#DFFF00 \">11.026845</span>"
      ],
      "text/plain": [
       "<IPython.core.display.HTML object>"
      ]
     },
     "metadata": {},
     "output_type": "display_data"
    },
    {
     "data": {
      "text/html": [
       " I am sorry , due to quality purposes I will have to close this chat if I <span style=\"background-color:#DFFF00 \">don</span><span style=\"background-color:#DFFF00 \"> 't</span><span style=\"background-color:#DFFF00 \"> receive</span><span style=\"background-color:#DFFF00 \"> a</span><span style=\"background-color:#DFFF00 \"> response</span> in 2 minutes ."
      ],
      "text/plain": [
       "<IPython.core.display.HTML object>"
      ]
     },
     "metadata": {},
     "output_type": "display_data"
    },
    {
     "data": {
      "text/html": [
       " Es tut mir leid , aus Qualitätsgründen muss ich diesen Chat schließen , wenn ich innerhalb von 2 Minuten <span style=\"background-color:#DFFF00 \">keine</span><span style=\"background-color:#DFFF00 \"> Antwort</span><span style=\"background-color:#DFFF00 \"> erhalte</span> ."
      ],
      "text/plain": [
       "<IPython.core.display.HTML object>"
      ]
     },
     "metadata": {},
     "output_type": "display_data"
    },
    {
     "name": "stdout",
     "output_type": "stream",
     "text": [
      "____________________________________219___________________________________________________\n",
      "['minor', 'minor', 'minor']\n",
      "\u001b[91m\u001b[1m😤  Minor\u001b[0m\n",
      "0.0\n"
     ]
    },
    {
     "data": {
      "text/html": [
       " <span style=\"background-color:#e0e0e0 \">10.832468</span>"
      ],
      "text/plain": [
       "<IPython.core.display.HTML object>"
      ]
     },
     "metadata": {},
     "output_type": "display_data"
    },
    {
     "data": {
      "text/html": [
       " The Krishak Mukti Sangram Samiti ( KMSS ) , which was among the first groups to organise protests against CAA after it was passed in Parliament , paid tributes to the agitators at Sam Stafford 's Hatigaon residence ."
      ],
      "text/plain": [
       "<IPython.core.display.HTML object>"
      ]
     },
     "metadata": {},
     "output_type": "display_data"
    },
    {
     "data": {
      "text/html": [
       " Die Krishak Mukti Sangram Samiti ( KMSS ) , die zu den ersten Gruppen gehörte , die Proteste gegen die CAA organisierten , nachdem diese im Parlament verabschiedet worden war , zollte den Agitatoren in Sam Staffords Residenz in Hatigaon Tribut ."
      ],
      "text/plain": [
       "<IPython.core.display.HTML object>"
      ]
     },
     "metadata": {},
     "output_type": "display_data"
    },
    {
     "name": "stdout",
     "output_type": "stream",
     "text": [
      "____________________________________220___________________________________________________\n",
      "['minor', 'minor', 'minor']\n",
      "\u001b[91m\u001b[1m😤  Minor\u001b[0m\n",
      "3.1137775999999997\n"
     ]
    },
    {
     "data": {
      "text/html": [
       " <span style=\"background-color:#e0e0e0 \">5.3297844</span> <span style=\"background-color:#DFFF00 \">7.3551726</span> <span style=\"background-color:#9FE2BF \">8.443562</span>"
      ],
      "text/plain": [
       "<IPython.core.display.HTML object>"
      ]
     },
     "metadata": {},
     "output_type": "display_data"
    },
    {
     "data": {
      "text/html": [
       " <span style=\"background-color:#DFFF00 \">Crowds</span> desperate <span style=\"background-color:#9FE2BF \">to</span><span style=\"background-color:#9FE2BF \"> buy</span> shirts designed by the mysterious street artist Banksy have been seen in Bristol , UK ."
      ],
      "text/plain": [
       "<IPython.core.display.HTML object>"
      ]
     },
     "metadata": {},
     "output_type": "display_data"
    },
    {
     "data": {
      "text/html": [
       " <span style=\"background-color:#DFFF00 \">Menschenmassen</span><span style=\"background-color:#DFFF00 \"> ,</span> die verzweifelt <span style=\"background-color:#9FE2BF \">nach</span> Hemden suchen , die von dem mysteriösen Straßenkünstler Banksy entworfen wurden , wurden in Bristol , Großbritannien , gesehen ."
      ],
      "text/plain": [
       "<IPython.core.display.HTML object>"
      ]
     },
     "metadata": {},
     "output_type": "display_data"
    },
    {
     "name": "stdout",
     "output_type": "stream",
     "text": [
      "____________________________________221___________________________________________________\n",
      "['No-error', 'minor', 'minor', 'No-error']\n",
      "\u001b[94m\u001b[1m🤓 OK\u001b[0m\n",
      "0.0\n"
     ]
    },
    {
     "data": {
      "text/html": [
       " <span style=\"background-color:#e0e0e0 \">13.124744</span>"
      ],
      "text/plain": [
       "<IPython.core.display.HTML object>"
      ]
     },
     "metadata": {},
     "output_type": "display_data"
    },
    {
     "data": {
      "text/html": [
       " It refers to a toppled bronze memorial to the 17th century merchant Edward Colston , who was involved in the transatlantic slave trade ."
      ],
      "text/plain": [
       "<IPython.core.display.HTML object>"
      ]
     },
     "metadata": {},
     "output_type": "display_data"
    },
    {
     "data": {
      "text/html": [
       " Es bezieht sich auf ein umgestürztes Bronzedenkmal für den Kaufmann Edward Colston aus dem 17. Jahrhundert , der am transatlantischen Sklavenhandel beteiligt war ."
      ],
      "text/plain": [
       "<IPython.core.display.HTML object>"
      ]
     },
     "metadata": {},
     "output_type": "display_data"
    },
    {
     "name": "stdout",
     "output_type": "stream",
     "text": [
      "____________________________________222___________________________________________________\n",
      "['No-error', 'No-error', 'No-error']\n",
      "\u001b[94m\u001b[1m🤓 OK\u001b[0m\n",
      "0.0\n"
     ]
    },
    {
     "data": {
      "text/html": [
       " <span style=\"background-color:#e0e0e0 \">13.342638</span>"
      ],
      "text/plain": [
       "<IPython.core.display.HTML object>"
      ]
     },
     "metadata": {},
     "output_type": "display_data"
    },
    {
     "data": {
      "text/html": [
       " President Cyril Ramaphosa attended Cape Town 's Protestant Groote Kerk - one of South Africa 's oldest churches - on Sunday morning to deliver a eulogy in De Klerk 's honor ."
      ],
      "text/plain": [
       "<IPython.core.display.HTML object>"
      ]
     },
     "metadata": {},
     "output_type": "display_data"
    },
    {
     "data": {
      "text/html": [
       " Präsident Cyril Ramaphosa besuchte am Sonntagmorgen die protestantische Groote Kerk in Kapstadt - eine der ältesten Kirchen Südafrikas - , um eine Laudatio zu De Klerks Ehren zu halten ."
      ],
      "text/plain": [
       "<IPython.core.display.HTML object>"
      ]
     },
     "metadata": {},
     "output_type": "display_data"
    },
    {
     "name": "stdout",
     "output_type": "stream",
     "text": [
      "____________________________________223___________________________________________________\n",
      "['minor', 'minor', 'minor']\n",
      "\u001b[91m\u001b[1m😤  Minor\u001b[0m\n",
      "12.610567000000001\n"
     ]
    },
    {
     "data": {
      "text/html": [
       " <span style=\"background-color:#e0e0e0 \">-2.654977</span> <span style=\"background-color:#DFFF00 \">8.90693</span> <span style=\"background-color:#9FE2BF \">9.95559</span>"
      ],
      "text/plain": [
       "<IPython.core.display.HTML object>"
      ]
     },
     "metadata": {},
     "output_type": "display_data"
    },
    {
     "data": {
      "text/html": [
       " Thank you - so this query is <span style=\"background-color:#9FE2BF \">with</span> warehouse <span style=\"background-color:#DFFF00 \">as</span><span style=\"background-color:#DFFF00 \"> stated</span><span style=\"background-color:#DFFF00 \"> in</span><span style=\"background-color:#DFFF00 \"> yesterdays</span><span style=\"background-color:#DFFF00 \"> chat</span> , we have to await the reply to the investigation ."
      ],
      "text/plain": [
       "<IPython.core.display.HTML object>"
      ]
     },
     "metadata": {},
     "output_type": "display_data"
    },
    {
     "data": {
      "text/html": [
       " Danke , diese Anfrage liegt <span style=\"background-color:#DFFF00 \">,</span><span style=\"background-color:#DFFF00 \"> wie</span><span style=\"background-color:#DFFF00 \"> im</span><span style=\"background-color:#DFFF00 \"> gestrigen</span><span style=\"background-color:#DFFF00 \"> Gespräch</span><span style=\"background-color:#DFFF00 \"> angegeben</span><span style=\"background-color:#DFFF00 \"> ,</span> <span style=\"background-color:#9FE2BF \">bei</span> Lager , wir müssen die Antwort auf die Untersuchungen abwarten ."
      ],
      "text/plain": [
       "<IPython.core.display.HTML object>"
      ]
     },
     "metadata": {},
     "output_type": "display_data"
    },
    {
     "name": "stdout",
     "output_type": "stream",
     "text": [
      "____________________________________224___________________________________________________\n",
      "['minor', 'minor', 'minor']\n",
      "\u001b[91m\u001b[1m😤  Minor\u001b[0m\n",
      "0.0\n"
     ]
    },
    {
     "data": {
      "text/html": [
       " <span style=\"background-color:#e0e0e0 \">12.316138</span>"
      ],
      "text/plain": [
       "<IPython.core.display.HTML object>"
      ]
     },
     "metadata": {},
     "output_type": "display_data"
    },
    {
     "data": {
      "text/html": [
       " The Krishak Mukti Sangram Samiti ( KMSS ) , which was among the first groups to organise protests against CAA after it was passed in Parliament , paid tributes to the agitators at Sam Stafford 's Hatigaon residence ."
      ],
      "text/plain": [
       "<IPython.core.display.HTML object>"
      ]
     },
     "metadata": {},
     "output_type": "display_data"
    },
    {
     "data": {
      "text/html": [
       " Die Krishak Mukti Sangram Samiti ( KMSS ) , die zu den ersten Gruppen gehörte , die Proteste gegen die CAA organisierten , nachdem sie im Parlament verabschiedet worden war , zollte den Agitatoren in Sam Staffords Hatigaon-Residenz Tribut ."
      ],
      "text/plain": [
       "<IPython.core.display.HTML object>"
      ]
     },
     "metadata": {},
     "output_type": "display_data"
    },
    {
     "name": "stdout",
     "output_type": "stream",
     "text": [
      "____________________________________225___________________________________________________\n",
      "['minor', 'minor', 'minor', 'minor']\n",
      "\u001b[91m\u001b[1m😤  Minor\u001b[0m\n",
      "3.5412850000000002\n"
     ]
    },
    {
     "data": {
      "text/html": [
       " <span style=\"background-color:#e0e0e0 \">8.059266</span> <span style=\"background-color:#DFFF00 \">11.600551</span>"
      ],
      "text/plain": [
       "<IPython.core.display.HTML object>"
      ]
     },
     "metadata": {},
     "output_type": "display_data"
    },
    {
     "data": {
      "text/html": [
       " Samco Sport Vacuum hose has a whole host of applications : emission control , radiator overflow , windscreen washers and perfect for carburetor vent hose <span style=\"background-color:#DFFF00 \">replacement</span> on motocross and road bike applications ."
      ],
      "text/plain": [
       "<IPython.core.display.HTML object>"
      ]
     },
     "metadata": {},
     "output_type": "display_data"
    },
    {
     "data": {
      "text/html": [
       " Samco Sport Vakuumschlauch hat eine ganze Reihe von Anwendungen : Emissionskontrolle , Heizkörperüberfluss , Windschutzwäsche und perfekt für <span style=\"background-color:#DFFF00 \">den</span><span style=\"background-color:#DFFF00 \"> Austausch</span><span style=\"background-color:#DFFF00 \"> von</span> Karburatorventilschlauch auf Motocross- und Straßenfahrradanwendungen ."
      ],
      "text/plain": [
       "<IPython.core.display.HTML object>"
      ]
     },
     "metadata": {},
     "output_type": "display_data"
    },
    {
     "name": "stdout",
     "output_type": "stream",
     "text": [
      "____________________________________226___________________________________________________\n",
      "['major', 'minor', 'minor']\n",
      "\u001b[91m\u001b[1m😤  Minor\u001b[0m\n",
      "0.0\n"
     ]
    },
    {
     "data": {
      "text/html": [
       " <span style=\"background-color:#e0e0e0 \">12.212575</span>"
      ],
      "text/plain": [
       "<IPython.core.display.HTML object>"
      ]
     },
     "metadata": {},
     "output_type": "display_data"
    },
    {
     "data": {
      "text/html": [
       " They were released to support protesters on trial for toppling a slave trader statue during a Black Lives Matter march ."
      ],
      "text/plain": [
       "<IPython.core.display.HTML object>"
      ]
     },
     "metadata": {},
     "output_type": "display_data"
    },
    {
     "data": {
      "text/html": [
       " Sie wurden freigelassen , um Demonstranten vor Gericht zu unterstützen , weil sie während eines Black Lives Matter-Marschs eine Sklavenhändlerstatue gestürzt hatten ."
      ],
      "text/plain": [
       "<IPython.core.display.HTML object>"
      ]
     },
     "metadata": {},
     "output_type": "display_data"
    },
    {
     "name": "stdout",
     "output_type": "stream",
     "text": [
      "____________________________________227___________________________________________________\n",
      "['minor', 'minor', 'minor', 'minor']\n",
      "\u001b[91m\u001b[1m😤  Minor\u001b[0m\n",
      "0.0\n"
     ]
    },
    {
     "data": {
      "text/html": [
       " <span style=\"background-color:#e0e0e0 \">13.799294</span>"
      ],
      "text/plain": [
       "<IPython.core.display.HTML object>"
      ]
     },
     "metadata": {},
     "output_type": "display_data"
    },
    {
     "data": {
      "text/html": [
       " The activists , known as the \" Colston Four , \" are facing a trial at Bristol Crown Court next week , charged with inflicting criminal damage to a monument belonging to the city council ."
      ],
      "text/plain": [
       "<IPython.core.display.HTML object>"
      ]
     },
     "metadata": {},
     "output_type": "display_data"
    },
    {
     "data": {
      "text/html": [
       " Die \" Colston Four \" genannten Aktivisten müssen nächste Woche vor dem Krongerichtshof von Bristol vor Gericht gestellt werden . Sie werden beschuldigt , ein Denkmal des Stadtrates kriminell beschädigt zu haben ."
      ],
      "text/plain": [
       "<IPython.core.display.HTML object>"
      ]
     },
     "metadata": {},
     "output_type": "display_data"
    },
    {
     "name": "stdout",
     "output_type": "stream",
     "text": [
      "____________________________________228___________________________________________________\n",
      "['minor', 'minor', 'minor']\n",
      "\u001b[91m\u001b[1m😤  Minor\u001b[0m\n",
      "12.14817695\n"
     ]
    },
    {
     "data": {
      "text/html": [
       " <span style=\"background-color:#e0e0e0 \">0.69087905</span> <span style=\"background-color:#DFFF00 \">12.839056</span>"
      ],
      "text/plain": [
       "<IPython.core.display.HTML object>"
      ]
     },
     "metadata": {},
     "output_type": "display_data"
    },
    {
     "data": {
      "text/html": [
       " After an hour of waiting , I told her what I had reserved and she loudly accused me of lying to her <span style=\"background-color:#DFFF00 \">and</span><span style=\"background-color:#DFFF00 \"> told</span><span style=\"background-color:#DFFF00 \"> me</span><span style=\"background-color:#DFFF00 \"> off</span> ."
      ],
      "text/plain": [
       "<IPython.core.display.HTML object>"
      ]
     },
     "metadata": {},
     "output_type": "display_data"
    },
    {
     "data": {
      "text/html": [
       " Nach einer Stunde Wartung erzählte ich ihr , was ich reserviert hatte , und sie beschuldigte mich laut , ihr gelogen zu haben <span style=\"background-color:#DFFF00 \">und</span><span style=\"background-color:#DFFF00 \"> mich</span><span style=\"background-color:#DFFF00 \"> abgewiesen</span> zu haben ."
      ],
      "text/plain": [
       "<IPython.core.display.HTML object>"
      ]
     },
     "metadata": {},
     "output_type": "display_data"
    },
    {
     "name": "stdout",
     "output_type": "stream",
     "text": [
      "____________________________________229___________________________________________________\n",
      "['minor', 'minor', 'minor']\n",
      "\u001b[91m\u001b[1m😤  Minor\u001b[0m\n",
      "0.0\n"
     ]
    },
    {
     "data": {
      "text/html": [
       " <span style=\"background-color:#e0e0e0 \">10.765205</span>"
      ],
      "text/plain": [
       "<IPython.core.display.HTML object>"
      ]
     },
     "metadata": {},
     "output_type": "display_data"
    },
    {
     "data": {
      "text/html": [
       " The Krishak Mukti Sangram Samiti ( KMSS ) , which was among the first groups to organise protests against CAA after it was passed in Parliament , paid tributes to the agitators at Sam Stafford 's Hatigaon residence ."
      ],
      "text/plain": [
       "<IPython.core.display.HTML object>"
      ]
     },
     "metadata": {},
     "output_type": "display_data"
    },
    {
     "data": {
      "text/html": [
       " Die Krishak Mukti Sangram Samiti ( KMSS ) , die zu den ersten Gruppen gehörte , die Proteste gegen die CAA organisierten , nachdem sie im Parlament verabschiedet worden war , zollte den Agitatoren in Sam Staffords Residenz in Hatigaon Tribut ."
      ],
      "text/plain": [
       "<IPython.core.display.HTML object>"
      ]
     },
     "metadata": {},
     "output_type": "display_data"
    },
    {
     "name": "stdout",
     "output_type": "stream",
     "text": [
      "____________________________________230___________________________________________________\n",
      "['minor', 'minor', 'minor', 'minor']\n",
      "\u001b[91m\u001b[1m😤  Minor\u001b[0m\n",
      "0.0\n"
     ]
    },
    {
     "data": {
      "text/html": [
       " <span style=\"background-color:#e0e0e0 \">13.027917</span>"
      ],
      "text/plain": [
       "<IPython.core.display.HTML object>"
      ]
     },
     "metadata": {},
     "output_type": "display_data"
    },
    {
     "data": {
      "text/html": [
       " I got stranded by US Air in Philadelphia instead of taking me all the way to Newark , and me and a dozen other people were trying to get cars late in the evening ."
      ],
      "text/plain": [
       "<IPython.core.display.HTML object>"
      ]
     },
     "metadata": {},
     "output_type": "display_data"
    },
    {
     "data": {
      "text/html": [
       " Ich wurde von US Air in Philadelphia gestrandet , anstatt mich den ganzen Weg nach Newark zu nehmen , und ich und ein Dutzend andere Leute versuchten spät abends , Autos zu bekommen ."
      ],
      "text/plain": [
       "<IPython.core.display.HTML object>"
      ]
     },
     "metadata": {},
     "output_type": "display_data"
    },
    {
     "name": "stdout",
     "output_type": "stream",
     "text": [
      "____________________________________231___________________________________________________\n",
      "['minor', 'minor', 'minor']\n",
      "\u001b[91m\u001b[1m😤  Minor\u001b[0m\n",
      "2.9813123999999993\n"
     ]
    },
    {
     "data": {
      "text/html": [
       " <span style=\"background-color:#e0e0e0 \">6.5158706</span> <span style=\"background-color:#DFFF00 \">8.191405</span> <span style=\"background-color:#9FE2BF \">9.497183</span>"
      ],
      "text/plain": [
       "<IPython.core.display.HTML object>"
      ]
     },
     "metadata": {},
     "output_type": "display_data"
    },
    {
     "data": {
      "text/html": [
       " <span style=\"background-color:#DFFF00 \">I</span> was told the cashier shouted for him <span style=\"background-color:#9FE2BF \">to</span><span style=\"background-color:#9FE2BF \"> stop</span> as she chased after him , but he began running with the cart to the getaway vehicle ."
      ],
      "text/plain": [
       "<IPython.core.display.HTML object>"
      ]
     },
     "metadata": {},
     "output_type": "display_data"
    },
    {
     "data": {
      "text/html": [
       " <span style=\"background-color:#DFFF00 \">Mir</span> wurde gesagt , dass die Kassiererin auf ihn schrie , damit er anhält , als sie ihm nachjagte , aber er rannte mit dem Karren zum Fluchtfahrzeug ."
      ],
      "text/plain": [
       "<IPython.core.display.HTML object>"
      ]
     },
     "metadata": {},
     "output_type": "display_data"
    },
    {
     "name": "stdout",
     "output_type": "stream",
     "text": [
      "____________________________________232___________________________________________________\n",
      "['major', 'minor', 'minor']\n",
      "\u001b[91m\u001b[1m😤  Minor\u001b[0m\n",
      "0.0\n"
     ]
    },
    {
     "data": {
      "text/html": [
       " <span style=\"background-color:#e0e0e0 \">13.7817545</span>"
      ],
      "text/plain": [
       "<IPython.core.display.HTML object>"
      ]
     },
     "metadata": {},
     "output_type": "display_data"
    },
    {
     "data": {
      "text/html": [
       " The activists , known as the \" Colston Four , \" are facing a trial at Bristol Crown Court next week , charged with inflicting criminal damage to a monument belonging to the city council ."
      ],
      "text/plain": [
       "<IPython.core.display.HTML object>"
      ]
     },
     "metadata": {},
     "output_type": "display_data"
    },
    {
     "data": {
      "text/html": [
       " Die Aktivisten , bekannt als die \" Colston Four \" , stehen nächste Woche vor einem Prozess vor dem Bristol Crown Court , der beschuldigt wird , einem Denkmal des Stadtrats kriminellen Schaden zugefügt zu haben ."
      ],
      "text/plain": [
       "<IPython.core.display.HTML object>"
      ]
     },
     "metadata": {},
     "output_type": "display_data"
    },
    {
     "name": "stdout",
     "output_type": "stream",
     "text": [
      "____________________________________233___________________________________________________\n",
      "['minor', 'minor', 'minor']\n",
      "\u001b[91m\u001b[1m😤  Minor\u001b[0m\n",
      "11.85661822\n"
     ]
    },
    {
     "data": {
      "text/html": [
       " <span style=\"background-color:#e0e0e0 \">-0.21144822</span> <span style=\"background-color:#DFFF00 \">11.64517</span>"
      ],
      "text/plain": [
       "<IPython.core.display.HTML object>"
      ]
     },
     "metadata": {},
     "output_type": "display_data"
    },
    {
     "data": {
      "text/html": [
       " Sunday 's training session at Bodymoor Heath was cancelled as a result , a session that was designed for just a small number <span style=\"background-color:#DFFF00 \">of</span><span style=\"background-color:#DFFF00 \"> players</span><span style=\"background-color:#DFFF00 \"> '</span><span style=\"background-color:#DFFF00 \"> recovery</span> after the loss to Liverpool on Saturday ."
      ],
      "text/plain": [
       "<IPython.core.display.HTML object>"
      ]
     },
     "metadata": {},
     "output_type": "display_data"
    },
    {
     "data": {
      "text/html": [
       " Die Trainingseinheit am Sonntag im Bodymoor Heath wurde infolgedessen abgesagt , eine Session , die nur für eine kleine Anzahl <span style=\"background-color:#DFFF00 \">von</span><span style=\"background-color:#DFFF00 \"> Spielern</span> nach der Niederlage gegen Liverpool am Samstag entwickelt wurde ."
      ],
      "text/plain": [
       "<IPython.core.display.HTML object>"
      ]
     },
     "metadata": {},
     "output_type": "display_data"
    },
    {
     "name": "stdout",
     "output_type": "stream",
     "text": [
      "____________________________________234___________________________________________________\n",
      "['minor', 'minor', 'minor']\n",
      "\u001b[91m\u001b[1m😤  Minor\u001b[0m\n",
      "3.6308360000000004\n"
     ]
    },
    {
     "data": {
      "text/html": [
       " <span style=\"background-color:#e0e0e0 \">7.687426</span> <span style=\"background-color:#DFFF00 \">11.318262</span>"
      ],
      "text/plain": [
       "<IPython.core.display.HTML object>"
      ]
     },
     "metadata": {},
     "output_type": "display_data"
    },
    {
     "data": {
      "text/html": [
       " The time stamps are there to make life easier for you so it 's your own fault if you end up skimming through the module back and forth <span style=\"background-color:#DFFF00 \">like</span><span style=\"background-color:#DFFF00 \"> a</span><span style=\"background-color:#DFFF00 \"> crazy</span><span style=\"background-color:#DFFF00 \"> person</span> looking for their lost teeth ."
      ],
      "text/plain": [
       "<IPython.core.display.HTML object>"
      ]
     },
     "metadata": {},
     "output_type": "display_data"
    },
    {
     "data": {
      "text/html": [
       " Die Zeitstempel sollen Ihnen das Leben erleichtern , also ist es selbst schuld , wenn Sie am Ende <span style=\"background-color:#DFFF00 \">wie</span><span style=\"background-color:#DFFF00 \"> ein</span><span style=\"background-color:#DFFF00 \"> Verrückter</span> auf der Suche nach verlorenen Zähnen durch das Modul hangeln möchten ."
      ],
      "text/plain": [
       "<IPython.core.display.HTML object>"
      ]
     },
     "metadata": {},
     "output_type": "display_data"
    },
    {
     "name": "stdout",
     "output_type": "stream",
     "text": [
      "____________________________________235___________________________________________________\n",
      "['minor', 'minor', 'minor']\n",
      "\u001b[91m\u001b[1m😤  Minor\u001b[0m\n",
      "0.0\n"
     ]
    },
    {
     "data": {
      "text/html": [
       " <span style=\"background-color:#e0e0e0 \">10.0930195</span>"
      ],
      "text/plain": [
       "<IPython.core.display.HTML object>"
      ]
     },
     "metadata": {},
     "output_type": "display_data"
    },
    {
     "data": {
      "text/html": [
       " Joint Aid for Dogs is a high specification joint and muscle supplement with glucosamine for dogs , designed to aid freedom of movement ."
      ],
      "text/plain": [
       "<IPython.core.display.HTML object>"
      ]
     },
     "metadata": {},
     "output_type": "display_data"
    },
    {
     "data": {
      "text/html": [
       " Joint Aid for Dogs ist eine hohe Spezifikation Gelenk- und Muskelnergänzung mit Glucosamin für Hunde , die zur Unterstützung der Bewegungsfreiheit entwickelt wurde ."
      ],
      "text/plain": [
       "<IPython.core.display.HTML object>"
      ]
     },
     "metadata": {},
     "output_type": "display_data"
    },
    {
     "name": "stdout",
     "output_type": "stream",
     "text": [
      "____________________________________236___________________________________________________\n",
      "['minor', 'minor', 'minor', 'minor']\n",
      "\u001b[91m\u001b[1m😤  Minor\u001b[0m\n",
      "0.0\n"
     ]
    },
    {
     "data": {
      "text/html": [
       " <span style=\"background-color:#e0e0e0 \">13.089131</span>"
      ],
      "text/plain": [
       "<IPython.core.display.HTML object>"
      ]
     },
     "metadata": {},
     "output_type": "display_data"
    },
    {
     "data": {
      "text/html": [
       " The Krishak Mukti Sangram Samiti ( KMSS ) , which was among the first groups to organise protests against CAA after it was passed in Parliament , paid tributes to the agitators at Sam Stafford 's Hatigaon residence ."
      ],
      "text/plain": [
       "<IPython.core.display.HTML object>"
      ]
     },
     "metadata": {},
     "output_type": "display_data"
    },
    {
     "data": {
      "text/html": [
       " Die Krishak Mukti Sangram Samiti ( KMSS ) , die zu den ersten Gruppen gehörte , die Proteste gegen die CAA organisierten , nachdem sie im Parlament verabschiedet worden waren , gab den Agitatoren in Sam Staffords Hatigaon-Residenz Tribut ."
      ],
      "text/plain": [
       "<IPython.core.display.HTML object>"
      ]
     },
     "metadata": {},
     "output_type": "display_data"
    },
    {
     "name": "stdout",
     "output_type": "stream",
     "text": [
      "____________________________________237___________________________________________________\n",
      "['minor', 'minor', 'minor']\n",
      "\u001b[91m\u001b[1m😤  Minor\u001b[0m\n",
      "0.0\n"
     ]
    },
    {
     "data": {
      "text/html": [
       " <span style=\"background-color:#e0e0e0 \">13.829995</span>"
      ],
      "text/plain": [
       "<IPython.core.display.HTML object>"
      ]
     },
     "metadata": {},
     "output_type": "display_data"
    },
    {
     "data": {
      "text/html": [
       " Speaking on the occasion , AASU chief advisor Samujjal Kumar Bhattacharya said , \" It is wrong to say that the anti-CAA movement has died out ."
      ],
      "text/plain": [
       "<IPython.core.display.HTML object>"
      ]
     },
     "metadata": {},
     "output_type": "display_data"
    },
    {
     "data": {
      "text/html": [
       " Zu diesem Anlass sagte der Chefberater der AASU , Samujjal Kumar Bhattacharya , \" Es ist falsch zu sagen , dass die Bewegung gegen das Anpassungsgesetz zur Staatsbürgerschaft tot ist ."
      ],
      "text/plain": [
       "<IPython.core.display.HTML object>"
      ]
     },
     "metadata": {},
     "output_type": "display_data"
    }
   ],
   "source": [
    "c=0\n",
    "scores_minor, scores_major, scores_no = [],[],[]\n",
    "diff_minor, diff_major, diff_no = [],[],[]\n",
    "hl_minor, hl_major, hl_no = 0, 0, 0\n",
    "factor_out_explanandum_errors = False\n",
    "lbl_new = defaultdict(list)\n",
    "noerror, minor_, major_ = defaultdict(list), defaultdict(list), defaultdict(list)\n",
    "if True:\n",
    "        for id_, (line, lbl) in enumerate(text2severity_average.items()):\n",
    "            lbl =lbl.rstrip()\n",
    "            #print(lbl)\n",
    "            lbl_new[id_] = text2severity[line]\n",
    "            scores, score_color = [], []\n",
    "            line_ = line\n",
    "            line = line.split('\\t')\n",
    "            try:\n",
    "                raw_a = np.array([float(x) for x in line[5].split(' ')])\n",
    "                raw_b = np.array([float(x) for x in line[6].split(' ')])\n",
    "            except IndexError:\n",
    "                continue\n",
    "            \n",
    "            if len(line[0].split(' ')) < 20 or len(line[0].split(' ')) > 40:\n",
    "                continue\n",
    "            total+=1\n",
    "        \n",
    "            original_score = float(line[4])\n",
    "            if factor_out_explanandum_errors:\n",
    "                if original_score > 10 and lbl!='No-error' or original_score < 10 and lbl=='No-error':\n",
    "                    continue\n",
    "            \n",
    "            revisions = int(line[5])\n",
    "            original_scores.append(original_score)        \n",
    "            previous_score = original_score\n",
    "            expl_a = [0] * len(line[0].split(' '))\n",
    "            expl_b = [0] * len(line[1].split(' '))\n",
    "                    \n",
    "            scores.append(str(original_score))\n",
    "            score_color = '1'\n",
    "                    \n",
    "           \n",
    "            for i in range(revisions):                        \n",
    "                score = line[5 + 3*i + 1]               \n",
    "                if i == 0:\n",
    "                    bar = 1\n",
    "                else:\n",
    "                    bar = 1\n",
    "                if float(previous_score) > 10:\n",
    "                    break\n",
    "                if float(score) - float(previous_score) < bar or original_score > 10:\n",
    "                    break\n",
    "                else:\n",
    "                    #lbl='chatGPT_paraphrase'\n",
    "                    if i==0:\n",
    "                        if lbl == 'No-error':\n",
    "                            hl_no+=1\n",
    "                        elif lbl == 'minor':\n",
    "                            hl_minor+=1\n",
    "                        else:\n",
    "                            hl_major+=1\n",
    "                        count+=1\n",
    "                expl_a = add_lists(expl_a, [((i +1)*int(a)) for a in line[5 + 3*i + 2].split(' ')])\n",
    "                expl_b = add_lists(expl_b, [((i +1)*int(a)) for a in line[5 + 3*i + 3].split(' ')])\n",
    "\n",
    "                previous_score = score\n",
    "                scores.append(str(score))\n",
    "                score_color += f' {str(i+2)}'\n",
    "                \n",
    "            final_scores.append(float(scores[-1]))\n",
    "            diff = float(scores[-1]) - float(original_score) \n",
    "\n",
    "                                 \n",
    "            s_ = 0\n",
    "            if diff <=0: \n",
    "                if float(scores[0]) < 0:\n",
    "                    expl_a =  [1]*len(line[0])\n",
    "                    expl_b =  [1]*len(line[1])\n",
    "                #continue\n",
    "                \n",
    "            en_num = [int(i) for i in line[0].split() if i.isdigit()]\n",
    "            nen_num = [int(i) for i in line[1].split() if i.isdigit()]\n",
    "\n",
    "            if lbl == 'No-error' or lbl == 'minor':\n",
    "                a=1\n",
    "                #continue\n",
    "            else:\n",
    "                bad_num +=1\n",
    "                src_num = re.findall(r'\\d+', line[0])\n",
    "                tgt_num = re.findall(r'\\d+', line[1])\n",
    "            \n",
    "            num_diff +=1\n",
    "            original_scores_ced.append(float(original_score))\n",
    "            print(f'____________________________________{c}___________________________________________________')\n",
    "            \n",
    "            if lbl == 'major': \n",
    "                print(text2severity[line_])\n",
    "                print(text2type[line_])\n",
    "                print(bcolors.FAIL + bcolors.BOLD + \"🤬  Major\" + bcolors.ENDC)\n",
    "                scores_major.append(float(original_score))\n",
    "                if float(diff) >1:\n",
    "                    diff_major.append(float(diff))\n",
    "\n",
    "            elif lbl == 'minor':\n",
    "                print(text2severity[line_])\n",
    "                print(bcolors.FAIL + bcolors.BOLD + \"😤  Minor\" + bcolors.ENDC)   \n",
    "                scores_minor.append(float(original_score))\n",
    "                if float(diff) >1:\n",
    "                    diff_minor.append(float(diff))\n",
    "\n",
    "\n",
    "            else:\n",
    "                #if 'minor' not in text2severity[line_]:\n",
    "                print(text2severity[line_])\n",
    "                print(bcolors.OKBLUE + bcolors.BOLD + \"🤓 OK\" + bcolors.ENDC)           \n",
    "                scores_no.append(float(original_score))\n",
    "                if float(diff) >1:\n",
    "                    diff_no.append(float(diff))\n",
    "\n",
    "\n",
    "\n",
    "            print(diff)\n",
    "                        \n",
    "            display_HTML(' '.join(scores), ' '.join(score_color.split(' ')))            \n",
    "            diffs.append(diff)\n",
    "            \n",
    "            _, source_text = display_HTML(line[0], ' '.join([str(x) for x in expl_a]), offset=True)\n",
    "            _, target_text = display_HTML(line[1], ' '.join([str(x) for x in expl_b]), offset=True) \n",
    "            \n",
    "            \n",
    "            \n",
    "            o.append(lbl)\n",
    "            \n",
    "            if lbl == 'No-error':\n",
    "                noerror[id_].append([source_text, target_text])\n",
    "            elif lbl == 'minor':\n",
    "                minor_[id_].append([source_text, target_text])  \n",
    "            elif lbl == 'major':\n",
    "                major_[id_].append([source_text, target_text]) \n",
    "            c+=1"
   ]
  },
  {
   "cell_type": "code",
   "execution_count": 203,
   "id": "de43618c",
   "metadata": {},
   "outputs": [
    {
     "name": "stdout",
     "output_type": "stream",
     "text": [
      "63.0\n",
      "43.0\n",
      "27.0\n"
     ]
    }
   ],
   "source": [
    "print(hl_no/len(list(noerror.values())[0]))\n",
    "print(hl_major/len(list(major_.values())[0]))\n",
    "print(hl_minor/len(list(minor_.values())[0]))"
   ]
  },
  {
   "cell_type": "code",
   "execution_count": 204,
   "id": "dad62dde",
   "metadata": {},
   "outputs": [
    {
     "name": "stdout",
     "output_type": "stream",
     "text": [
      "13.025210084033615\n",
      "6.722689075630252\n",
      "5.2521008403361344\n"
     ]
    }
   ],
   "source": [
    "a = len(list(noerror.values())) + len(list(major_.values())) + len(list(minor_.values()))\n",
    "print(25*(len(list(noerror.values()))/a))\n",
    "print(25*(len(list(major_.values()))/a))\n",
    "print(25*(len(list(minor_.values()))/a))"
   ]
  },
  {
   "cell_type": "code",
   "execution_count": 205,
   "id": "170f7432",
   "metadata": {},
   "outputs": [
    {
     "name": "stdout",
     "output_type": "stream",
     "text": [
      "238\n",
      "124\n",
      "64\n",
      "50\n"
     ]
    }
   ],
   "source": [
    "print(a)\n",
    "print(len(list(noerror.values())))\n",
    "print(len(list(major_.values())))\n",
    "print(len(list(minor_.values())))"
   ]
  },
  {
   "cell_type": "code",
   "execution_count": 206,
   "id": "36cdd716",
   "metadata": {},
   "outputs": [
    {
     "name": "stdout",
     "output_type": "stream",
     "text": [
      "18\n",
      "21\n",
      "52\n"
     ]
    }
   ],
   "source": [
    "print(len([a for a in scores_major if float(a)> 10]))\n",
    "print(len([a for a in scores_minor if float(a)> 10]))\n",
    "print(len([a for a in scores_no if float(a)> 10]))"
   ]
  },
  {
   "cell_type": "code",
   "execution_count": 208,
   "id": "cd47f641",
   "metadata": {},
   "outputs": [
    {
     "name": "stdout",
     "output_type": "stream",
     "text": [
      "18.0\n",
      "21.0\n",
      "52.0\n"
     ]
    }
   ],
   "source": [
    "print(len([a for a in scores_major if float(a)> 10])/len(list(major_.values())[0]))\n",
    "print(len([a for a in scores_minor if float(a)> 10])/len(list(minor_.values())[0]))\n",
    "print(len([a for a in scores_no if float(a)> 10])/len(list(noerror.values())[0]))"
   ]
  },
  {
   "cell_type": "code",
   "execution_count": 209,
   "id": "8639cb51",
   "metadata": {},
   "outputs": [
    {
     "name": "stderr",
     "output_type": "stream",
     "text": [
      "/fs/clip-xling/projects/semdiv/anaconda3/envs/semdiv/lib/python3.6/site-packages/seaborn/distributions.py:2551: FutureWarning: `distplot` is a deprecated function and will be removed in a future version. Please adapt your code to use either `displot` (a figure-level function with similar flexibility) or `histplot` (an axes-level function for histograms).\n",
      "  warnings.warn(msg, FutureWarning)\n",
      "/fs/clip-xling/projects/semdiv/anaconda3/envs/semdiv/lib/python3.6/site-packages/seaborn/distributions.py:2551: FutureWarning: `distplot` is a deprecated function and will be removed in a future version. Please adapt your code to use either `displot` (a figure-level function with similar flexibility) or `histplot` (an axes-level function for histograms).\n",
      "  warnings.warn(msg, FutureWarning)\n",
      "/fs/clip-xling/projects/semdiv/anaconda3/envs/semdiv/lib/python3.6/site-packages/seaborn/distributions.py:2551: FutureWarning: `distplot` is a deprecated function and will be removed in a future version. Please adapt your code to use either `displot` (a figure-level function with similar flexibility) or `histplot` (an axes-level function for histograms).\n",
      "  warnings.warn(msg, FutureWarning)\n"
     ]
    },
    {
     "data": {
      "image/png": "[encoded data removed]",
      "text/plain": [
       "<Figure size 432x288 with 1 Axes>"
      ]
     },
     "metadata": {
      "needs_background": "light"
     },
     "output_type": "display_data"
    }
   ],
   "source": [
    "import seaborn as sns\n",
    "import matplotlib.pyplot as plt\n",
    "\n",
    "sns.distplot(scores_major, kde=True, label='major')\n",
    "sns.distplot(scores_minor,  kde=True,  label='minor')\n",
    "sns.distplot(scores_no,  kde=True,  label='no')\n",
    "plt.legend()\n",
    "plt.show()"
   ]
  },
  {
   "cell_type": "code",
   "execution_count": 210,
   "id": "812ad42c",
   "metadata": {},
   "outputs": [
    {
     "name": "stderr",
     "output_type": "stream",
     "text": [
      "/fs/clip-xling/projects/semdiv/anaconda3/envs/semdiv/lib/python3.6/site-packages/seaborn/distributions.py:2551: FutureWarning: `distplot` is a deprecated function and will be removed in a future version. Please adapt your code to use either `displot` (a figure-level function with similar flexibility) or `histplot` (an axes-level function for histograms).\n",
      "  warnings.warn(msg, FutureWarning)\n",
      "/fs/clip-xling/projects/semdiv/anaconda3/envs/semdiv/lib/python3.6/site-packages/seaborn/distributions.py:2551: FutureWarning: `distplot` is a deprecated function and will be removed in a future version. Please adapt your code to use either `displot` (a figure-level function with similar flexibility) or `histplot` (an axes-level function for histograms).\n",
      "  warnings.warn(msg, FutureWarning)\n",
      "/fs/clip-xling/projects/semdiv/anaconda3/envs/semdiv/lib/python3.6/site-packages/seaborn/distributions.py:2551: FutureWarning: `distplot` is a deprecated function and will be removed in a future version. Please adapt your code to use either `displot` (a figure-level function with similar flexibility) or `histplot` (an axes-level function for histograms).\n",
      "  warnings.warn(msg, FutureWarning)\n"
     ]
    },
    {
     "data": {
      "image/png": "[encoded data removed]",
      "text/plain": [
       "<Figure size 432x288 with 1 Axes>"
      ]
     },
     "metadata": {
      "needs_background": "light"
     },
     "output_type": "display_data"
    }
   ],
   "source": [
    "sns.distplot(diff_major, kde=True, label='major')\n",
    "sns.distplot(diff_minor,  kde=True,  label='minor')\n",
    "sns.distplot(diff_no,  kde=True,  label='no')\n",
    "plt.legend()\n",
    "plt.show()"
   ]
  },
  {
   "cell_type": "code",
   "execution_count": 211,
   "id": "4104600a",
   "metadata": {},
   "outputs": [],
   "source": [
    "# TODO: create data also save more info on META data (e.g., highlights or not and multiple labels)"
   ]
  },
  {
   "cell_type": "code",
   "execution_count": 230,
   "id": "e1e9fed1",
   "metadata": {},
   "outputs": [
    {
     "name": "stdout",
     "output_type": "stream",
     "text": [
      "\n",
      "------\n",
      "1\n",
      "2\n",
      "3\n",
      "4\n",
      "5\n",
      "6\n",
      "7\n",
      "8\n",
      "9\n",
      "10\n",
      "11\n",
      "12\n",
      "13\n",
      "14\n",
      "15\n",
      "16\n",
      "17\n",
      "18\n",
      "19\n",
      "20\n",
      "21\n",
      "22\n",
      "23\n",
      "24\n",
      "25\n",
      "\n",
      "------\n",
      "1\n",
      "2\n",
      "3\n",
      "4\n",
      "5\n",
      "6\n",
      "7\n",
      "8\n",
      "9\n",
      "10\n",
      "11\n",
      "12\n",
      "13\n",
      "14\n",
      "15\n",
      "16\n",
      "17\n",
      "18\n",
      "19\n",
      "20\n",
      "21\n",
      "22\n",
      "23\n",
      "24\n",
      "25\n",
      "\n",
      "------\n",
      "1\n",
      "2\n",
      "3\n",
      "4\n",
      "5\n",
      "6\n",
      "7\n",
      "8\n",
      "9\n",
      "10\n",
      "11\n",
      "12\n",
      "13\n",
      "14\n",
      "15\n",
      "16\n",
      "17\n",
      "18\n",
      "19\n",
      "20\n",
      "21\n",
      "22\n",
      "23\n",
      "24\n",
      "25\n",
      "\n",
      "------\n",
      "1\n",
      "2\n",
      "3\n",
      "4\n",
      "5\n",
      "6\n",
      "7\n",
      "8\n",
      "9\n",
      "10\n",
      "11\n",
      "12\n",
      "13\n",
      "14\n",
      "15\n",
      "16\n",
      "17\n",
      "18\n",
      "19\n",
      "20\n",
      "21\n",
      "22\n",
      "23\n",
      "24\n",
      "25\n",
      "\n",
      "------\n",
      "1\n",
      "2\n",
      "3\n",
      "4\n",
      "5\n",
      "6\n",
      "7\n",
      "8\n",
      "9\n",
      "10\n",
      "11\n",
      "12\n",
      "13\n",
      "14\n",
      "15\n",
      "16\n",
      "17\n",
      "18\n",
      "19\n",
      "20\n",
      "21\n",
      "22\n",
      "23\n",
      "24\n",
      "25\n",
      "\n",
      "------\n",
      "1\n",
      "2\n",
      "3\n",
      "4\n",
      "5\n",
      "6\n",
      "7\n",
      "8\n",
      "9\n",
      "10\n",
      "11\n",
      "12\n",
      "13\n",
      "14\n",
      "15\n",
      "16\n",
      "17\n",
      "18\n",
      "19\n",
      "20\n",
      "21\n",
      "22\n",
      "23\n",
      "24\n",
      "25\n",
      "\n",
      "------\n",
      "1\n",
      "2\n",
      "3\n",
      "4\n",
      "5\n",
      "6\n",
      "7\n",
      "8\n",
      "9\n",
      "10\n",
      "11\n",
      "12\n",
      "13\n",
      "14\n",
      "15\n",
      "16\n",
      "17\n",
      "18\n",
      "19\n",
      "20\n",
      "21\n",
      "22\n",
      "23\n",
      "24\n",
      "25\n",
      "\n",
      "------\n",
      "1\n",
      "2\n",
      "3\n",
      "4\n",
      "5\n",
      "6\n",
      "7\n",
      "8\n",
      "9\n",
      "10\n",
      "11\n",
      "12\n",
      "13\n",
      "14\n",
      "15\n",
      "16\n",
      "17\n",
      "18\n",
      "19\n",
      "20\n",
      "21\n",
      "22\n",
      "23\n",
      "24\n",
      "25\n"
     ]
    }
   ],
   "source": [
    "import os\n",
    "shift_no, shift_mj, shift_mn = 0, 0, 0\n",
    "batches_num = 8\n",
    "for i in range(batches_num):\n",
    "    c = 0\n",
    "    print('\\n------')\n",
    "    if factor_out_explanandum_errors:\n",
    "        dir_=f'mqm/oracle_{i}'\n",
    "    else:\n",
    "        dir_=f'mqm/real_{i}'\n",
    "    os.makedirs(f'for_user_study/{dir_}', exist_ok=True)\n",
    "    meta_id, meta_lbl, out_src, out_tgt, metal_all_lbl = f'for_user_study/{dir_}/meta_id', f'for_user_study/{dir_}/meta_lbl', f'for_user_study/{dir_}/src', f'for_user_study/{dir_}/tgt',  f'for_user_study/{dir_}/meta_all_lbl'\n",
    "\n",
    "    \n",
    "    noerror_chun = list(noerror)[shift_no:13 + shift_no]\n",
    "    \n",
    "    major_chun = list(major_)[shift_mj : 7 + shift_mj]\n",
    "    \n",
    "    minor_chun = list(minor_)[shift_mn : 5 + shift_mn]\n",
    "    #print(hal_chun)\n",
    "    #print('\\n')\n",
    "    \n",
    "    shift_no += 13\n",
    "    shift_mj += 7\n",
    "    shift_mn += 5\n",
    "    #continue\n",
    "    \n",
    "    merged_ = []\n",
    " \n",
    "    for key in major_chun:\n",
    "        id_, src, tgt, l = key, major_[key][0][0], major_[key][0][1], lbl_new[key]\n",
    "        merged_.append([l, id_, src, tgt])\n",
    "\n",
    "    for key in minor_chun:\n",
    "        id_, src, tgt, l = key, minor_[key][0][0], minor_[key][0][1], lbl_new[key]\n",
    "        merged_.append([l, id_, src, tgt])\n",
    "        \n",
    "    for key in noerror_chun:\n",
    "        id_, src, tgt, l = key, noerror[key][0][0], noerror[key][0][1], lbl_new[key]\n",
    "        merged_.append([l, id_, src, tgt])\n",
    "    \n",
    "    #continue\n",
    "    for c, i in enumerate(merged_):\n",
    "        c+=1\n",
    "        print(c)\n",
    "        id_, labels, source_text, target_text = i[1], i[0], i[2], i[3]\n",
    "     \n",
    "        meta_id_file = open(f'{meta_id}_{c}.txt', 'w')\n",
    "        meta_lbl_file = open(f'{meta_lbl}_{c}.txt', 'w')\n",
    "        meta_lbl_all_file = open(f'{metal_all_lbl}_{c}.txt', 'w')\n",
    "        out_src_file = open(f'{out_src}_{c}.txt', 'w')\n",
    "        out_tgt_file = open(f'{out_tgt}_{c}.txt', 'w')\n",
    "\n",
    "        meta_id_file.write(f'{id_}')\n",
    "        meta_lbl_file.write(f'{most_frequent(labels)}')\n",
    "        meta_lbl_all_file.write('\\t'.join(labels))\n",
    "        out_src_file.write(f'{source_text}')\n",
    "        out_tgt_file.write(f'{target_text}')\n",
    "\n",
    "        meta_id_file.close()\n",
    "        meta_lbl_file.close()\n",
    "        out_src_file.close()\n",
    "        out_tgt_file.close()"
   ]
  },
  {
   "cell_type": "code",
   "execution_count": 146,
   "id": "05872e7b",
   "metadata": {},
   "outputs": [
    {
     "data": {
      "text/plain": [
       "[0, 5, 6, 8, 14, 17, 21, 23, 26, 27, 30, 31, 35]"
      ]
     },
     "execution_count": 146,
     "metadata": {},
     "output_type": "execute_result"
    }
   ],
   "source": [
    "noerror_chun"
   ]
  },
  {
   "cell_type": "code",
   "execution_count": 216,
   "id": "a3d4d976",
   "metadata": {},
   "outputs": [
    {
     "data": {
      "text/plain": [
       "dict_items([(19, [[' The * * Enterprise-D * * of * The Next Generation * had * * three * * shuttlebays .', ' Die * * Enterprise-D * * von * The Next Generation * hatte * * drei * * Shuttlebuchten .']]), (75, [[' I am sorry but it seems your original order was accidentally spilled , that is why my colleague had to make a new order .', ' Es tut mir leid , aber es scheint , dass Ihre ursprüngliche Bestellung versehentlich verschüttet wurde , deshalb musste mein Kollege eine neue Bestellung aufgeben .']]), (80, [[' Formulated with a Swedish natural ingredient blend of <h-l-1>Red Algae ,</h-l-1> Brown Algae and Aqua Minerals with Vitamin C and Anti-Pollution Active .', ' Formuliert mit einer schwedischen Mischung natürlicher Inhaltsstoffe aus <h-l-1>Rotalgen ,</h-l-1> Braunalgen und Aquamineralien mit Vitamin C und Anti-Pollution Active .']]), (84, [[' In reality , Shiba Inu offers no tangible utility or value , with seemingly little effort to do so in the future .', ' In Wirklichkeit bietet Shiba Inu keinen greifbaren Nutzen oder Wert , mit scheinbar wenig Aufwand , dies in Zukunft zu tun .']]), (90, [[' So there may be some variation in color and the textures to the different parts of a bag , which will create a wonderfully unique effect .', ' So kann es einige Variationen in der Farbe und den Texturen zu den verschiedenen Teilen einer Tasche geben , die einen wunderbar einzigartigen Effekt erzeugen .']]), (100, [[\" Yes that means <h-l-1>when I work out</h-l-1> I really don 't care how many calories it burns , and I don 't change my numbers or macros because of how much I burned .\", ' Ja , das bedeutet , <h-l-1>wenn ich trainiere ,</h-l-1> ist es mir wirklich egal , wie viele Kalorien es verbrennt , und ich ändere meine Zahlen oder Makros nicht , weil ich so viel verbrannt habe .']]), (102, [[\" Yes that means when I <h-l-1>work out</h-l-1> I really don 't care how many calories it burns , and I don 't change my numbers or macros because of how much I burned .\", ' Ja , das bedeutet , wenn ich <h-l-1>trainiere</h-l-1> , ist es mir wirklich egal , wie viele Kalorien es verbrennt , und ich ändere meine Zahlen oder Makros nicht , weil ich verbrannt habe .']]), (105, [[\" Being on the Ethereum blockchain , there would 've been plenty of opportunity for development had the team behind Shiba Inu been motivated to do so .\", ' Da es sich um die Ethereum-Blockchain handelt , hätte es viele Entwicklungsmöglichkeiten gegeben , wenn das Team hinter Shiba Inu dazu motiviert worden wäre .']]), (113, [[' Printed on super-premium semi-gloss photo paper , it provides high colour definition <h-l-1>with reduced</h-l-1> reflection in a direct light .', ' Auf Super-Premium-Semi-Gloss-Fotopapier gedruckt , bietet es hohe Farbbestimmung <h-l-1>mit reduziertem</h-l-1> Reflexion in direktem Licht .']]), (119, [[' The guy at the shop checked things out and it turns out that the current price of the tires was more than my <h-l-1>printout</h-l-1> .', ' Der Typ im Laden hat die Dinge überprüft und es stellt sich heraus , dass der aktuelle Preis der Reifen mehr war als mein <h-l-1>Ausdruck</h-l-1> .']]), (123, [[' The guy at the shop checked things out and it turns out that the current price of the tires was more than my <h-l-1>printout</h-l-1> .', ' Der Mann im Laden überprüfte die Dinge und es stellte sich heraus , dass der aktuelle Preis der Reifen mehr war als mein <h-l-1>Ausdruck</h-l-1> .']]), (124, [[\" Yes that means <h-l-1>when I work out</h-l-1> I really don 't care how many calories it burns , and I don 't change my numbers or macros because of how much I burned .\", ' Ja , das heißt , <h-l-1>wenn ich trainiere ,</h-l-1> ist es mir wirklich egal , wie viele Kalorien es verbrennt , und ich ändere meine Zahlen oder Makros nicht , weil ich so viel verbrannt habe .']]), (125, [[\" Thank you for <h-l-2>holding ,</h-l-2> I 'm sorry that your mother hasn 't received the egift card , please <h-l-1>conform</h-l-1> the email that was sent .\", ' Vielen Dank für das <h-l-2>Halten . Es</h-l-2> tut mir leid , dass Ihre Mutter die E-Gift-Karte nicht erhalten hat . Bitte <h-l-1>bestätigen</h-l-1> Sie die gesendete E-Mail .']]), (127, [[\" Thank you for holding , I 'm sorry that your mother hasn 't received the egift card , please <h-l-1>conform</h-l-1> the email that was sent .\", ' Danke für Ihre Zusendung , es tut mir leid , dass Ihre Mutter die Karte nicht erhalten hat , bitte richten Sie sich <h-l-1>nach</h-l-1> der E-Mail , die gesendet wurde .']]), (139, [[' <h-l-1>Bag</h-l-1> is made of Genuine Real Goat Leather ( Full Grain ) processed and tanned naturally with sunflower oil only .', ' <h-l-1>Die Tasche</h-l-1> besteht aus echtem Ziegenhaut ( Full Grain ) verarbeitet und natürlich nur mit Sonnenblumenöl verdünnt .']]), (142, [[\" Thank you for <h-l-2>holding ,</h-l-2> I 'm sorry that your mother hasn 't received the egift card , please <h-l-1>conform</h-l-1> the email that was sent .\", ' Vielen Dank für das <h-l-2>Halten ,</h-l-2> es tut mir leid , dass Ihre Mutter die egift-Karte nicht erhalten hat , bitte <h-l-1>passen</h-l-1> Sie die gesendete E-Mail an .']]), (320, [[' But everyone was so pleased that it had gone ahead when so many other Christmas events have been cancelled as yet another Covid variant <h-l-1>hove</h-l-1> into view .', ' Aber alle waren so froh , dass es weitergegangen war , als so viele andere Weihnachtsveranstaltungen abgesagt wurden , als eine weitere Covid-Variante in Sicht <h-l-1>kam</h-l-1> .']]), (321, [[\" On several occasions ( through various lockdowns ) when I saw her I didn 't know if I should kiss her or not .\", ' Bei mehreren Gelegenheiten ( durch verschiedene Lockdowns ) , als ich sie sah , wusste ich nicht , ob ich sie küssen sollte oder nicht .']]), (322, [[' Please use the \" add to basket \" function to combine your order , then checkout and pay as normal .', ' Bitte verwenden Sie die Funktion \" In den Warenkorb \" , um Ihre Bestellung zu kombinieren , dann zur Kasse zu gehen und wie gewohnt zu bezahlen .']]), (362, [[\" Most boards are mass market boards such as sector 9s or Loaded Tan Tien 's ... I have both and I 'm not <h-l-1>hating</h-l-1> .\", ' Bei den meisten Tafeln handelt es sich um Tafeln <h-l-2>für den</h-l-2> Massenmarkt wie Sektor 9s oder Loaded Tan Tien ... ich habe beides und ich hasse <h-l-1>es</h-l-1> nicht .']]), (416, [[' Anyone who tests positive for the omicron variant of Covid-19 will have to isolate for 10 days , as will anyone who has been identified as a close contact of a positive result .', ' Jeder , der positiv auf die Omicron-Variante von Covid-19 getestet wird , muss sich 10 Tage lang isolieren , ebenso wie jeder , der als enger Kontakt mit einem positiven Ergebnis identifiziert wurde .']]), (419, [[' After a while of browsing , the infamous one left and went back to his vehicle while the other one took a shopping cart , and put a large 500 dollar socket set in it .', ' Nach einer Weile des Surfens verließ der berüchtigte und ging zu seinem Fahrzeug zurück , während der andere einen Einkaufswagen nahm und eine große 500-Dollar-Steckdose darin steckte .']]), (420, [[' <h-l-1>Crowds </h-l-1> <h-l-2>desperate to</h-l-2> buy shirts <h-l-3>designed</h-l-3> by the mysterious street artist Banksy have been seen in Bristol , UK .', ' <h-l-1>Menschenmassen</h-l-1> , die <h-l-2>verzweifelt</h-l-2> nach Hemden mit <h-l-3>Design</h-l-3> der mysteriösen Street-Künstlerin Banksy Ausschau halten , sieht man in Bristol ( Großbritannien ) .']]), (423, [[' After a while of browsing , the infamous one left and went back to his vehicle while the other one took a shopping cart , and put a large 500 dollar socket set in it .', ' Nach einer Weile des Stöberns fuhr der Unbekannte wieder zurück zu seinem Fahrzeug , während der andere einen Einkaufswagen nahm und einen großen 500-Dollar-Steckdosensatz hineinstellte .']]), (425, [[' <h-l-1>for quality purposes</h-l-1> i will have to release this chat if there is no interaction in the next 2 minutes', ' <h-l-1>Aus Qualitätsgründen</h-l-1> muss ich diesen Chat freigeben , wenn es in den nächsten 2 Minuten keine Interaktion gibt .']]), (440, [[' Featuring an incredible stretch <h-l-1>characteristic in</h-l-1> diameter , allowing the hose to stretch onto a connection <h-l-2>for a perfect seal</h-l-2> ( ie you can stretch a 3mm ID hose onto a 5mm OD connection ) .', ' fossile Röhren sind dehnbar und ermöglichen eine perfekte Abdichtung der Verbindung ( dh Sie können einen <h-l-2>Schlauch mit</h-l-2> 3 mm Innendurchmesser auf einen Anschluss mit 5 mm Außendurchmesser strecken ) .']]), (442, [[' Please note that all our comics in every grade ( EVEN POOR ) will be <h-l-1>complete unless</h-l-1> stated otherwise in the listing !', ' Bitte beachten Sie , dass alle unsere Comics in jeder Klasse ( EVEN POOR ) <h-l-1>vollständig</h-l-1> sind , sofern in der Auflistung nichts anderes angegeben ist !']]), (447, [[\" An Iowa <h-l-1>Santa</h-l-1> who has been making children smile for 50 years says he 's ready to hang up the red suit and enjoy a quieter Christmas .\", ' Ein <h-l-1>Weihnachtsmann aus</h-l-1> Iowa , der seit 50 Jahren Kinder zum Lächeln bringt , sagt , er sei bereit , den roten Anzug aufzuhängen und ein ruhigeres Weihnachtsfest zu genießen .']]), (448, [[' Joint Aid for Dogs is a high specification <h-l-1>joint and</h-l-1> muscle supplement with glucosamine for dogs , designed to aid freedom of movement .', ' Gelenkhilfe für Hunde ist ein hochspezialisiertes <h-l-1>Gelenk- und</h-l-1> Muskelpräparat mit Glucosamin für Hunde , das die Bewegungsfreiheit fördert .']]), (453, [[' Banksy designed the limited edition \" souvenir shirts \" to mark the trial of four people charged with damaging a controversial statue in Bristol last year .', ' Banksy entwarf die limitierte Ausgabe \" Souvenir T-Shirts \" , um das Verfahren gegen vier Personen zu markieren , die im vergangenen Jahr wegen der Beschädigung einer umstrittenen Statue in Bristol angeklagt wurden .']]), (455, [[' Joint Aid for Dogs is a <h-l-1>high specification joint and</h-l-1> muscle supplement with glucosamine for dogs , designed to aid freedom of movement .', ' Joint Aid for Dogs ist ein <h-l-1>hochwertiges Gelenk- und</h-l-1> Muskelergänzungsmittel mit Glucosamin für Hunde , das entwickelt wurde , um die Bewegungsfreiheit zu unterstützen .']]), (457, [[' This accomplice then waited until the two cashiers at the exit door were busy , then walked right by them and out the door .', ' Dieser Komplize wartete dann , bis die beiden Kassierer an der Ausgangstür beschäftigt waren , ging dann direkt an ihnen vorbei und zur Tür hinaus .']]), (459, [[' To be eligible for the Virus Protection Promise , you must purchase , renew , or upgrade your Norton subscription directly from Symantec , or subscribe to the Norton Automatic Renewal Service .', ' Um Anspruch auf das Virus Protection Promise zu haben , müssen Sie Ihr Norton-Abonnement direkt bei Symantec kaufen , erneuern oder aktualisieren oder den automatischen Verlängerungsservice von Norton abonnieren .']]), (461, [[\" The Krishak Mukti Sangram Samiti ( KMSS ) , which was among the first groups to organise protests against CAA after it was passed in Parliament , paid tributes to the agitators at Sam Stafford 's Hatigaon residence .\", ' Die Krishak Mukti Sangram Samiti ( KMSS ) , die zu den ersten Gruppen gehörte , die Proteste gegen die CAA organisierten , nachdem diese im Parlament verabschiedet worden war , zollte den Agitatoren in Sam Staffords Residenz in Hatigaon Tribut .']]), (463, [[' <h-l-1>Crowds</h-l-1> desperate <h-l-2>to buy</h-l-2> shirts designed by the mysterious street artist Banksy have been seen in Bristol , UK .', ' <h-l-1>Menschenmassen ,</h-l-1> die verzweifelt <h-l-2>nach</h-l-2> Hemden suchen , die von dem mysteriösen Straßenkünstler Banksy entworfen wurden , wurden in Bristol , Großbritannien , gesehen .']]), (466, [[' Thank you - so this query is <h-l-2>with</h-l-2> warehouse <h-l-1>as stated in yesterdays chat</h-l-1> , we have to await the reply to the investigation .', ' Danke , diese Anfrage liegt <h-l-1>, wie im gestrigen Gespräch angegeben , </h-l-1> <h-l-2>bei</h-l-2> Lager , wir müssen die Antwort auf die Untersuchungen abwarten .']]), (467, [[\" The Krishak Mukti Sangram Samiti ( KMSS ) , which was among the first groups to organise protests against CAA after it was passed in Parliament , paid tributes to the agitators at Sam Stafford 's Hatigaon residence .\", ' Die Krishak Mukti Sangram Samiti ( KMSS ) , die zu den ersten Gruppen gehörte , die Proteste gegen die CAA organisierten , nachdem sie im Parlament verabschiedet worden war , zollte den Agitatoren in Sam Staffords Hatigaon-Residenz Tribut .']]), (469, [[' Samco Sport Vacuum hose has a whole host of applications : emission control , radiator overflow , windscreen washers and perfect for carburetor vent hose <h-l-1>replacement</h-l-1> on motocross and road bike applications .', ' Samco Sport Vakuumschlauch hat eine ganze Reihe von Anwendungen : Emissionskontrolle , Heizkörperüberfluss , Windschutzwäsche und perfekt für <h-l-1>den Austausch von</h-l-1> Karburatorventilschlauch auf Motocross- und Straßenfahrradanwendungen .']]), (470, [[' They were released to support protesters on trial for toppling a slave trader statue during a Black Lives Matter march .', ' Sie wurden freigelassen , um Demonstranten vor Gericht zu unterstützen , weil sie während eines Black Lives Matter-Marschs eine Sklavenhändlerstatue gestürzt hatten .']]), (471, [[' The activists , known as the \" Colston Four , \" are facing a trial at Bristol Crown Court next week , charged with inflicting criminal damage to a monument belonging to the city council .', ' Die \" Colston Four \" genannten Aktivisten müssen nächste Woche vor dem Krongerichtshof von Bristol vor Gericht gestellt werden . Sie werden beschuldigt , ein Denkmal des Stadtrates kriminell beschädigt zu haben .']]), (472, [[' After an hour of waiting , I told her what I had reserved and she loudly accused me of lying to her <h-l-1>and told me off</h-l-1> .', ' Nach einer Stunde Wartung erzählte ich ihr , was ich reserviert hatte , und sie beschuldigte mich laut , ihr gelogen zu haben <h-l-1>und mich abgewiesen</h-l-1> zu haben .']]), (473, [[\" The Krishak Mukti Sangram Samiti ( KMSS ) , which was among the first groups to organise protests against CAA after it was passed in Parliament , paid tributes to the agitators at Sam Stafford 's Hatigaon residence .\", ' Die Krishak Mukti Sangram Samiti ( KMSS ) , die zu den ersten Gruppen gehörte , die Proteste gegen die CAA organisierten , nachdem sie im Parlament verabschiedet worden war , zollte den Agitatoren in Sam Staffords Residenz in Hatigaon Tribut .']]), (475, [[' I got stranded by US Air in Philadelphia instead of taking me all the way to Newark , and me and a dozen other people were trying to get cars late in the evening .', ' Ich wurde von US Air in Philadelphia gestrandet , anstatt mich den ganzen Weg nach Newark zu nehmen , und ich und ein Dutzend andere Leute versuchten spät abends , Autos zu bekommen .']]), (476, [[' <h-l-1>I</h-l-1> was told the cashier shouted for him <h-l-2>to stop</h-l-2> as she chased after him , but he began running with the cart to the getaway vehicle .', ' <h-l-1>Mir</h-l-1> wurde gesagt , dass die Kassiererin auf ihn schrie , damit er anhält , als sie ihm nachjagte , aber er rannte mit dem Karren zum Fluchtfahrzeug .']]), (478, [[' The activists , known as the \" Colston Four , \" are facing a trial at Bristol Crown Court next week , charged with inflicting criminal damage to a monument belonging to the city council .', ' Die Aktivisten , bekannt als die \" Colston Four \" , stehen nächste Woche vor einem Prozess vor dem Bristol Crown Court , der beschuldigt wird , einem Denkmal des Stadtrats kriminellen Schaden zugefügt zu haben .']]), (479, [[\" Sunday 's training session at Bodymoor Heath was cancelled as a result , a session that was designed for just a small number <h-l-1>of players ' recovery</h-l-1> after the loss to Liverpool on Saturday .\", ' Die Trainingseinheit am Sonntag im Bodymoor Heath wurde infolgedessen abgesagt , eine Session , die nur für eine kleine Anzahl <h-l-1>von Spielern</h-l-1> nach der Niederlage gegen Liverpool am Samstag entwickelt wurde .']]), (481, [[\" The time stamps are there to make life easier for you so it 's your own fault if you end up skimming through the module back and forth <h-l-1>like a crazy person</h-l-1> looking for their lost teeth .\", ' Die Zeitstempel sollen Ihnen das Leben erleichtern , also ist es selbst schuld , wenn Sie am Ende <h-l-1>wie ein Verrückter</h-l-1> auf der Suche nach verlorenen Zähnen durch das Modul hangeln möchten .']]), (486, [[' Joint Aid for Dogs is a high specification joint and muscle supplement with glucosamine for dogs , designed to aid freedom of movement .', ' Joint Aid for Dogs ist eine hohe Spezifikation Gelenk- und Muskelnergänzung mit Glucosamin für Hunde , die zur Unterstützung der Bewegungsfreiheit entwickelt wurde .']]), (488, [[\" The Krishak Mukti Sangram Samiti ( KMSS ) , which was among the first groups to organise protests against CAA after it was passed in Parliament , paid tributes to the agitators at Sam Stafford 's Hatigaon residence .\", ' Die Krishak Mukti Sangram Samiti ( KMSS ) , die zu den ersten Gruppen gehörte , die Proteste gegen die CAA organisierten , nachdem sie im Parlament verabschiedet worden waren , gab den Agitatoren in Sam Staffords Hatigaon-Residenz Tribut .']]), (489, [[' Speaking on the occasion , AASU chief advisor Samujjal Kumar Bhattacharya said , \" It is wrong to say that the anti-CAA movement has died out .', ' Zu diesem Anlass sagte der Chefberater der AASU , Samujjal Kumar Bhattacharya , \" Es ist falsch zu sagen , dass die Bewegung gegen das Anpassungsgesetz zur Staatsbürgerschaft tot ist .']])])"
      ]
     },
     "execution_count": 216,
     "metadata": {},
     "output_type": "execute_result"
    }
   ],
   "source": [
    "minor_items"
   ]
  },
  {
   "cell_type": "code",
   "execution_count": null,
   "id": "ba444923",
   "metadata": {},
   "outputs": [],
   "source": []
  }
 ],
 "metadata": {
  "kernelspec": {
   "display_name": "Python 3",
   "language": "python",
   "name": "python3"
  },
  "language_info": {
   "codemirror_mode": {
    "name": "ipython",
    "version": 3
   },
   "file_extension": ".py",
   "mimetype": "text/x-python",
   "name": "python",
   "nbconvert_exporter": "python",
   "pygments_lexer": "ipython3",
   "version": "3.6.12"
  }
 },
 "nbformat": 4,
 "nbformat_minor": 5
}
