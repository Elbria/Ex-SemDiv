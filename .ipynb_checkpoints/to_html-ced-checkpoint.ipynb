{
 "cells": [
  {
   "cell_type": "code",
   "execution_count": 1,
   "id": "9dadd8d2",
   "metadata": {},
   "outputs": [],
   "source": [
    "from IPython.display import display, HTML\n",
    "import numpy as np\n",
    "import re\n",
    "div_to_color = {'0': '#FFFFFF',\n",
    "                '1': '#e0e0e0',\n",
    "                '2': '#DFFF00',\n",
    "                '3': '#9FE2BF',\n",
    "                '4': '#CCCCFF',\n",
    "                '5': '#FFE4E1',\n",
    "                '6': '#FF00FF',\n",
    "                '7': '#e3abfb',    \n",
    "                '8': '#FFBF00',\n",
    "                '9': '#BBBAFF',\n",
    "                '10': '#FFC2E2',\n",
    "                '11': '#F4FDB1',\n",
    "                '12': '#7C8BFF',\n",
    "                '13': '#95FFF7',\n",
    "                '14': '#FF5733',\n",
    "                '15': '#33FF4C',\n",
    "                '16': '#7733FF',\n",
    "                '17': '#B2FF33',\n",
    "                '18': '#33FF83', \n",
    "                '19': '#FF3371', \n",
    "                '20': '#33F3FF',\n",
    "                '21': '#8AFF33',\n",
    "                '22': '#33FFC1',\n",
    "                '23': '#AF33FF',\n",
    "                '24': '#FFD433',\n",
    "                '25': '#33ACFF',\n",
    "                '26': '#BDAACF',\n",
    "                '27': '#ACE6DA',\n",
    "                '28': '#CCCCFF',\n",
    "                '29': '#FFE4E1',\n",
    "                '30': '#FF00FF',\n",
    "                '31': '#e3abfb',    \n",
    "                '32': '#FFBF00',\n",
    "                '33': '#BBBAFF',\n",
    "}\n",
    "\n",
    "class bcolors:\n",
    "    HEADER = '\\033[95m'\n",
    "    OKBLUE = '\\033[94m'\n",
    "    OKCYAN = '\\033[96m'\n",
    "    OKGREEN = '\\033[92m'\n",
    "    WARNING = '\\033[93m'\n",
    "    FAIL = '\\033[91m'\n",
    "    ENDC = '\\033[0m'\n",
    "    BOLD = '\\033[1m'\n",
    "    UNDERLINE = '\\033[4m'\n",
    "\n",
    "\n",
    "def color_html(label):\n",
    "    return f'<span style=\"background-color:{div_to_color[label]} \">'\n",
    "\n",
    "def display_HTML(text, div, offset=False, one_color=False, red_chars=False):\n",
    "    displayed_text = ''\n",
    "    user_displayed_text = ''\n",
    "    previous = 'eq'\n",
    "    mark_end = '</span>'\n",
    "    previous_label = 0\n",
    "    for token, label in zip(text.split(' '), div.split(' ')):\n",
    "        #print(label)\n",
    "        if one_color:\n",
    "            if int(label) > 0:\n",
    "                label = '1'\n",
    "        if offset:\n",
    "            if label != '0':\n",
    "                label = str(int(label)  + 1)\n",
    "        mark = color_html(label)\n",
    "        if label == '0':\n",
    "            displayed_text += f' {token}'\n",
    "            if previous == 'div':\n",
    "                user_displayed_text += f'</h-l-{str(int(previous_label)-1)}> {token}'\n",
    "            else:\n",
    "                user_displayed_text += f' {token}'\n",
    "            previous = 'eq'\n",
    "        else:\n",
    "            if previous == 'div' and int(label)==previous_label:\n",
    "                displayed_text += f'{mark} {token}{mark_end}'\n",
    "                user_displayed_text += f' {token}'\n",
    "            else:\n",
    "                if int(label)!=previous_label and int(label) > 2 and previous_label!=0:\n",
    "                    user_displayed_text += f' </h-l-{str(int(label)-2)}>'\n",
    "                displayed_text += f' {mark}{token}{mark_end}'\n",
    "                user_displayed_text += f' <h-l-{str(int(label)-1)}>{token}'\n",
    "            previous = 'div'\n",
    "        previous_label = int(label)\n",
    "\n",
    "    if red_chars:\n",
    "        displayed_text = f'{bcolors.WARNING} {displayed_text} {bcolors.ENDC}'\n",
    "    \n",
    "    if previous == 'div':\n",
    "        user_displayed_text += f'</h-l-{str(int(previous_label)-1)}>'\n",
    "        \n",
    "        \n",
    "    return display(HTML(displayed_text)), user_displayed_text\n",
    "\n",
    "def add_lists(list_a, list_b):\n",
    "    #print(list_b)\n",
    "    #print(list_a)\n",
    "    #print('as')\n",
    "    list_add = []\n",
    "    for (a, b) in zip(list_a, list_b):\n",
    "        list_add.append(a+b)\n",
    "    return list_add"
   ]
  },
  {
   "cell_type": "code",
   "execution_count": 2,
   "id": "78345cf9",
   "metadata": {},
   "outputs": [],
   "source": [
    "processes, processes_set = [], set()\n",
    "with open('annotations/limsi', 'r') as file_:\n",
    "    lines = file_.readlines()\n",
    "    for line in lines:\n",
    "        line = line.rstrip().split('\\t')[-1]\n",
    "        if '0' in line:\n",
    "            processes.append(['literal'])\n",
    "        else:\n",
    "            processes.append(line.split(' '))\n",
    "        for a  in line.split(' '):\n",
    "            processes_set.add(a)"
   ]
  },
  {
   "cell_type": "code",
   "execution_count": 3,
   "id": "2c5a5751",
   "metadata": {
    "scrolled": true
   },
   "outputs": [
    {
     "name": "stdout",
     "output_type": "stream",
     "text": [
      "____________________________________5___________________________________________________\n",
      "\u001b[94m\u001b[1m🤓 OK\u001b[0m\n"
     ]
    },
    {
     "data": {
      "text/html": [
       " <span style=\"background-color:#e0e0e0 \">-3.5096831</span> <span style=\"background-color:#DFFF00 \">7.7677946</span>"
      ],
      "text/plain": [
       "<IPython.core.display.HTML object>"
      ]
     },
     "metadata": {},
     "output_type": "display_data"
    },
    {
     "data": {
      "text/html": [
       " <span style=\"background-color:#DFFF00 \">A</span><span style=\"background-color:#DFFF00 \"> big</span><span style=\"background-color:#DFFF00 \"> one</span><span style=\"background-color:#DFFF00 \"> stems</span><span style=\"background-color:#DFFF00 \"> from</span><span style=\"background-color:#DFFF00 \"> the</span><span style=\"background-color:#DFFF00 \"> aligned</span> approaches to bringing financial services and digitized health care to rural parts of Africa ."
      ],
      "text/plain": [
       "<IPython.core.display.HTML object>"
      ]
     },
     "metadata": {},
     "output_type": "display_data"
    },
    {
     "data": {
      "text/html": [
       " <span style=\"background-color:#DFFF00 \">Uma</span><span style=\"background-color:#DFFF00 \"> delas</span><span style=\"background-color:#DFFF00 \"> decorre</span><span style=\"background-color:#DFFF00 \"> das</span><span style=\"background-color:#DFFF00 \"> diferentes</span> abordagens destinadas a fazer chegar os serviços financeiros e os serviços de saúde digitalizados às zonas rurais da África ."
      ],
      "text/plain": [
       "<IPython.core.display.HTML object>"
      ]
     },
     "metadata": {},
     "output_type": "display_data"
    },
    {
     "name": "stdout",
     "output_type": "stream",
     "text": [
      "____________________________________8___________________________________________________\n",
      "\u001b[94m\u001b[1m🤓 OK\u001b[0m\n"
     ]
    },
    {
     "data": {
      "text/html": [
       " <span style=\"background-color:#e0e0e0 \">-11.316384</span> <span style=\"background-color:#DFFF00 \">2.644661</span> <span style=\"background-color:#9FE2BF \">5.36395</span>"
      ],
      "text/plain": [
       "<IPython.core.display.HTML object>"
      ]
     },
     "metadata": {},
     "output_type": "display_data"
    },
    {
     "data": {
      "text/html": [
       " Now , as this latest IPCC report makes clear <span style=\"background-color:#DFFF00 \">,</span><span style=\"background-color:#DFFF00 \"> rising</span><span style=\"background-color:#DFFF00 \"> temperature</span><span style=\"background-color:#DFFF00 \"> is</span><span style=\"background-color:#DFFF00 \"> the</span><span style=\"background-color:#DFFF00 \"> new</span><span style=\"background-color:#DFFF00 \"> friend</span><span style=\"background-color:#DFFF00 \"> to</span><span style=\"background-color:#DFFF00 \"> both</span> biodiversity <span style=\"background-color:#9FE2BF \">and</span> our economy ."
      ],
      "text/plain": [
       "<IPython.core.display.HTML object>"
      ]
     },
     "metadata": {},
     "output_type": "display_data"
    },
    {
     "data": {
      "text/html": [
       " Actualmente , como descreve este último relatório do PIAC <span style=\"background-color:#DFFF00 \">,</span><span style=\"background-color:#DFFF00 \"> o</span><span style=\"background-color:#DFFF00 \"> aumento</span><span style=\"background-color:#DFFF00 \"> da</span><span style=\"background-color:#DFFF00 \"> temperatura</span><span style=\"background-color:#DFFF00 \"> é</span><span style=\"background-color:#DFFF00 \"> a</span><span style=\"background-color:#DFFF00 \"> nova</span><span style=\"background-color:#DFFF00 \"> ameaça</span><span style=\"background-color:#DFFF00 \"> para</span><span style=\"background-color:#DFFF00 \"> a</span> biodiversidade <span style=\"background-color:#9FE2BF \">e</span><span style=\"background-color:#9FE2BF \"> para</span><span style=\"background-color:#9FE2BF \"> a</span> nossa economia ."
      ],
      "text/plain": [
       "<IPython.core.display.HTML object>"
      ]
     },
     "metadata": {},
     "output_type": "display_data"
    }
   ],
   "source": [
    "import random\n",
    "random.seed(41)\n",
    "\n",
    "o, g = [],[]\n",
    "count = 0\n",
    "dir_='en_pt_ced'\n",
    "#dir_='en_de_ced'\n",
    "\n",
    "meta_id, meta_lbl, out_src, out_tgt = f'for_user_study/{dir_}/meta_id', f'for_user_study/{dir_}/meta_lbl', f'for_user_study/{dir_}/src', f'for_user_study/{dir_}/tgt'\n",
    "original_scores, final_scores =[], []\n",
    "\n",
    "bad, explained =0, 0\n",
    "no_highlights_ok = 0\n",
    "halluci, no_halluci= 0, 0\n",
    "\n",
    "lbls = open(f'outputs/test.2022.pt-en.label', 'r').readlines()\n",
    "#lbls = open(f'outputs/test.2022.en-de.label', 'r').readlines()\n",
    "diffs = []\n",
    "original_count = 0\n",
    "original_scores_ced = []\n",
    "gpt_count = 0\n",
    "bad_num, num_diff, total = 0, 0, 0\n",
    "for file_ in ['en_pt_ced_test_missing_paired_phrases_reward_pos']:\n",
    "\n",
    "    with open(f'outputs/{file_}', 'r') as out_:\n",
    "        c = 0\n",
    "        lines = out_.readlines()\n",
    "        pop = len(lines)\n",
    "        sample = random.sample(range(0, len(lines)), len(lines))\n",
    "        #sample = random.sample(range(1, len(lines)), 100)\n",
    "        #print(sample)\n",
    "        for id_, line in enumerate(lines):\n",
    "            \n",
    "            #if id_ not in sample:\n",
    "            #    continue\n",
    "            lbl =lbls[id_].rstrip()\n",
    "            #lbl = 'original'\n",
    "            scores, score_color = [], []\n",
    "                \n",
    "            line = line.split('\\t')\n",
    "            \n",
    "            try:\n",
    "                raw_a = np.array([float(x) for x in line[5].split(' ')])\n",
    "                raw_b = np.array([float(x) for x in line[6].split(' ')])\n",
    "            except IndexError:\n",
    "                continue\n",
    "                #print('Problem')\n",
    "            \n",
    "            if len(line[0].split(' ')) < 15:\n",
    "                continue\n",
    "            total+=1\n",
    "        \n",
    "            original_score = float(line[4])\n",
    "            revisions = int(line[5])\n",
    "            original_scores.append(original_score)        \n",
    "            previous_score = original_score\n",
    "            expl_a = [0] * len(line[0].split(' '))\n",
    "            expl_b = [0] * len(line[1].split(' '))\n",
    "                    \n",
    "            scores.append(str(original_score))\n",
    "            score_color = '1'\n",
    "                    \n",
    "           \n",
    "            for i in range(revisions):                        \n",
    "                score = line[5 + 3*i + 1]               \n",
    "                #if float(score) - float(previous_score) < 5:\n",
    "                #if float(score) - float(previous_score) < 2 or original_score > 10:\n",
    "                #    break\n",
    "                if i == 0:\n",
    "                    bar = 1\n",
    "                else:\n",
    "                    bar = 1\n",
    "                if float(previous_score) > 10:\n",
    "                    break\n",
    "                if float(score) - float(previous_score) < bar or original_score > 10:\n",
    "                    break\n",
    "                else:\n",
    "                    #lbl='chatGPT_paraphrase'\n",
    "                    if i==0:\n",
    "                        count+=1\n",
    "                expl_a = add_lists(expl_a, [((i +1)*int(a)) for a in line[5 + 3*i + 2].split(' ')])\n",
    "                expl_b = add_lists(expl_b, [((i +1)*int(a)) for a in line[5 + 3*i + 3].split(' ')])\n",
    "    \n",
    "                previous_score = score\n",
    "                scores.append(str(score))\n",
    "                score_color += f' {str(i+2)}'\n",
    "                \n",
    "            final_scores.append(float(scores[-1]))\n",
    "            diff = float(scores[-1]) - float(original_score) \n",
    "\n",
    "                        \n",
    "            s_ = 0\n",
    "            if diff <=0: \n",
    "                if float(scores[0]) < 0:\n",
    "                    expl_a =  [1]*len(line[0])\n",
    "                    expl_b =  [1]*len(line[1])\n",
    "                #continue\n",
    "                \n",
    "            en_num = [int(i) for i in line[0].split() if i.isdigit()]\n",
    "            nen_num = [int(i) for i in line[1].split() if i.isdigit()]\n",
    "\n",
    "            if lbl == 'BAD':\n",
    "                continue\n",
    "            if original_score > 0:\n",
    "                continue\n",
    "            else:\n",
    "                bad_num +=1\n",
    "                src_num = re.findall(r'\\d+', line[0])\n",
    "                tgt_num = re.findall(r'\\d+', line[1])\n",
    "                if set(src_num) != set(tgt_num):\n",
    "                    continue\n",
    "            num_diff +=1\n",
    "            original_scores_ced.append(float(original_score))\n",
    "            print(f'____________________________________{id_}___________________________________________________')\n",
    "            \n",
    "            if lbl == 'BAD' or lbl=='1': \n",
    "                if ([a.isupper() for a in line[0]].count(True))/len(line[0]) > 0.5 or '� � ' in line[0]:\n",
    "                    halluci+=1\n",
    "                #continue\n",
    "                if set(en_num) != set(nen_num) and sum(expl_a)==0 and sum(expl_b)==0:\n",
    "                    print('Numeric difference!!')\n",
    "                    #print(en_num)\n",
    "                    #print(nen_num)\n",
    "                    explained+=1\n",
    "                    #continue\n",
    "                #print(nen_num)\n",
    "                bad+=1\n",
    "                if sum(expl_a) !=0:\n",
    "                    explained+=1\n",
    "                print(bcolors.FAIL + bcolors.BOLD + \"😤 😠 😡 🤬  DETACHED HALLUCINATION\" + bcolors.ENDC)\n",
    "                print(diff)\n",
    "            else:\n",
    "                if ([a.isupper() for a in line[0]].count(True))/len(line[0]) <= 0.5 or '� � ' not in line[0]:\n",
    "                    no_halluci+=1\n",
    "\n",
    "                if sum(expl_a) + sum(expl_b) ==0:\n",
    "                    no_highlights_ok+=1\n",
    "                #continue\n",
    "                print(bcolors.OKBLUE + bcolors.BOLD + \"🤓 OK\" + bcolors.ENDC)\n",
    "            \n",
    "            #print(c)\n",
    "\n",
    "            \n",
    "            display_HTML(' '.join(scores), ' '.join(score_color.split(' ')))            \n",
    "            diffs.append(diff)\n",
    "            \n",
    "            _, source_text = display_HTML(line[0], ' '.join([str(x) for x in expl_a]), offset=True)\n",
    "            _, target_text = display_HTML(line[1], ' '.join([str(x) for x in expl_b]), offset=True) \n",
    "            \n",
    "            \n",
    "            if lbl == 'original':\n",
    "                original_count +=1\n",
    "            else:\n",
    "                gpt_count += 1\n",
    "            if original_count > 30 and lbl=='original':\n",
    "                continue\n",
    "                \n",
    "            c+=1\n",
    "            \n",
    "            o.append(lbl)\n",
    "            continue\n",
    "            meta_id_file = open(f'{meta_id}_{c}.txt', 'w')\n",
    "            meta_lbl_file = open(f'{meta_lbl}_{c}.txt', 'w')\n",
    "            out_src_file = open(f'{out_src}_{c}.txt', 'w')\n",
    "            out_tgt_file = open(f'{out_tgt}_{c}.txt', 'w')\n",
    "\n",
    "            meta_id_file.write(f'{id_}')\n",
    "            meta_lbl_file.write(f'{lbl}')\n",
    "            out_src_file.write(f'{source_text}')\n",
    "            out_tgt_file.write(f'{target_text}')\n",
    "\n",
    "            meta_id_file.close()\n",
    "            meta_lbl_file.close()\n",
    "            out_src_file.close()\n",
    "            out_tgt_file.close()\n",
    "            "
   ]
  },
  {
   "cell_type": "code",
   "execution_count": 19,
   "id": "c8136fc6",
   "metadata": {},
   "outputs": [
    {
     "name": "stdout",
     "output_type": "stream",
     "text": [
      "____________________________________0___________________________________________________\n",
      "____________________________________2___________________________________________________\n",
      "____________________________________3___________________________________________________\n",
      "\u001b[91m\u001b[1m😤 😠 😡 🤬  DETACHED HALLUCINATION\u001b[0m\n",
      "7.477621\n"
     ]
    },
    {
     "data": {
      "text/html": [
       " <span style=\"background-color:#e0e0e0 \">7.772018</span> <span style=\"background-color:#DFFF00 \">15.249639</span>"
      ],
      "text/plain": [
       "<IPython.core.display.HTML object>"
      ]
     },
     "metadata": {},
     "output_type": "display_data"
    },
    {
     "data": {
      "text/html": [
       " As leaders in China , Mexico , and many other countries have already discovered , an economy that includes everyone <span style=\"background-color:#DFFF00 \">benefits</span> all ."
      ],
      "text/plain": [
       "<IPython.core.display.HTML object>"
      ]
     },
     "metadata": {},
     "output_type": "display_data"
    },
    {
     "data": {
      "text/html": [
       " De acordo com o que os líderes da China , Quénia , México e de muitos outros países já descobriram , uma economia que inclui todos <span style=\"background-color:#DFFF00 \">é</span><span style=\"background-color:#DFFF00 \"> benéfica</span><span style=\"background-color:#DFFF00 \"> para</span> todos ."
      ],
      "text/plain": [
       "<IPython.core.display.HTML object>"
      ]
     },
     "metadata": {},
     "output_type": "display_data"
    },
    {
     "name": "stdout",
     "output_type": "stream",
     "text": [
      "____________________________________5___________________________________________________\n",
      "____________________________________7___________________________________________________\n",
      "\u001b[91m\u001b[1m😤 😠 😡 🤬  DETACHED HALLUCINATION\u001b[0m\n",
      "2.0173119999999995\n"
     ]
    },
    {
     "data": {
      "text/html": [
       " <span style=\"background-color:#e0e0e0 \">4.266522</span> <span style=\"background-color:#DFFF00 \">6.283834</span>"
      ],
      "text/plain": [
       "<IPython.core.display.HTML object>"
      ]
     },
     "metadata": {},
     "output_type": "display_data"
    },
    {
     "data": {
      "text/html": [
       " At nearly every turn , on <span style=\"background-color:#DFFF00 \">just</span><span style=\"background-color:#DFFF00 \"> about</span> every major issue , national governments are failing to deliver solutions , while city leaders continue to stifle public confidence ."
      ],
      "text/plain": [
       "<IPython.core.display.HTML object>"
      ]
     },
     "metadata": {},
     "output_type": "display_data"
    },
    {
     "data": {
      "text/html": [
       " Em quase todas as vezes , em <span style=\"background-color:#DFFF00 \">praticamente</span> todas as questões importantes , os governos nacionais não estão a conseguir fornecer soluções , enquanto os dirigentes municipais continuam a inspirar confiança pública ."
      ],
      "text/plain": [
       "<IPython.core.display.HTML object>"
      ]
     },
     "metadata": {},
     "output_type": "display_data"
    },
    {
     "name": "stdout",
     "output_type": "stream",
     "text": [
      "____________________________________8___________________________________________________\n",
      "____________________________________9___________________________________________________\n",
      "____________________________________10___________________________________________________\n",
      "\u001b[91m\u001b[1m😤 😠 😡 🤬  DETACHED HALLUCINATION\u001b[0m\n",
      "16.8362063\n"
     ]
    },
    {
     "data": {
      "text/html": [
       " <span style=\"background-color:#e0e0e0 \">-7.5609403</span> <span style=\"background-color:#DFFF00 \">6.862149</span> <span style=\"background-color:#9FE2BF \">9.275266</span>"
      ],
      "text/plain": [
       "<IPython.core.display.HTML object>"
      ]
     },
     "metadata": {},
     "output_type": "display_data"
    },
    {
     "data": {
      "text/html": [
       " Globalization allows these different functions to <span style=\"background-color:#DFFF00 \">be</span> carried out in different places , thereby allowing countries to participate earlier , when they still have few locally <span style=\"background-color:#9FE2BF \">available</span> capabilities ."
      ],
      "text/plain": [
       "<IPython.core.display.HTML object>"
      ]
     },
     "metadata": {},
     "output_type": "display_data"
    },
    {
     "data": {
      "text/html": [
       " A globalização permite que todas estas diferentes funções sejam desempenhadas em lugares diferentes , permitindo assim aos países participar mais cedo , quando ainda têm poucas capacidades locais <span style=\"background-color:#9FE2BF \">disponíveis</span> , que poderão <span style=\"background-color:#DFFF00 \">depois</span><span style=\"background-color:#DFFF00 \"> ser</span><span style=\"background-color:#DFFF00 \"> expandidas</span><span style=\"background-color:#DFFF00 \"> ao</span><span style=\"background-color:#DFFF00 \"> longo</span><span style=\"background-color:#DFFF00 \"> do</span><span style=\"background-color:#DFFF00 \"> tempo</span> ."
      ],
      "text/plain": [
       "<IPython.core.display.HTML object>"
      ]
     },
     "metadata": {},
     "output_type": "display_data"
    },
    {
     "name": "stdout",
     "output_type": "stream",
     "text": [
      "____________________________________12___________________________________________________\n",
      "____________________________________14___________________________________________________\n",
      "____________________________________17___________________________________________________\n",
      "____________________________________20___________________________________________________\n",
      "____________________________________21___________________________________________________\n",
      "____________________________________23___________________________________________________\n",
      "____________________________________24___________________________________________________\n",
      "____________________________________26___________________________________________________\n",
      "____________________________________27___________________________________________________\n",
      "____________________________________31___________________________________________________\n",
      "____________________________________35___________________________________________________\n",
      "____________________________________36___________________________________________________\n",
      "____________________________________37___________________________________________________\n",
      "____________________________________38___________________________________________________\n",
      "____________________________________39___________________________________________________\n",
      "____________________________________40___________________________________________________\n",
      "____________________________________41___________________________________________________\n",
      "____________________________________42___________________________________________________\n",
      "\u001b[91m\u001b[1m😤 😠 😡 🤬  DETACHED HALLUCINATION\u001b[0m\n",
      "26.9637915\n"
     ]
    },
    {
     "data": {
      "text/html": [
       " <span style=\"background-color:#e0e0e0 \">-12.7403965</span> <span style=\"background-color:#DFFF00 \">14.223395</span>"
      ],
      "text/plain": [
       "<IPython.core.display.HTML object>"
      ]
     },
     "metadata": {},
     "output_type": "display_data"
    },
    {
     "data": {
      "text/html": [
       " With leadership , resources , and a well-formulated data-driven approach , pollution can be minimized , and viable strategies have already been <span style=\"background-color:#DFFF00 \">developed</span><span style=\"background-color:#DFFF00 \"> ,</span><span style=\"background-color:#DFFF00 \"> field-tested</span> ."
      ],
      "text/plain": [
       "<IPython.core.display.HTML object>"
      ]
     },
     "metadata": {},
     "output_type": "display_data"
    },
    {
     "data": {
      "text/html": [
       " Com liderança , recursos , e uma abordagem bem formulada e apoiada em dados , a poluição pode ser minimizada , e existem estratégias viáveis que já foram <span style=\"background-color:#DFFF00 \">desenvolvidas</span><span style=\"background-color:#DFFF00 \"> ,</span><span style=\"background-color:#DFFF00 \"> testadas</span><span style=\"background-color:#DFFF00 \"> e</span><span style=\"background-color:#DFFF00 \"> comprovadas</span><span style=\"background-color:#DFFF00 \"> em</span><span style=\"background-color:#DFFF00 \"> países</span><span style=\"background-color:#DFFF00 \"> de</span><span style=\"background-color:#DFFF00 \"> médio</span><span style=\"background-color:#DFFF00 \"> e</span><span style=\"background-color:#DFFF00 \"> elevado</span><span style=\"background-color:#DFFF00 \"> rendimento</span> ."
      ],
      "text/plain": [
       "<IPython.core.display.HTML object>"
      ]
     },
     "metadata": {},
     "output_type": "display_data"
    },
    {
     "name": "stdout",
     "output_type": "stream",
     "text": [
      "____________________________________44___________________________________________________\n",
      "____________________________________45___________________________________________________\n",
      "\u001b[91m\u001b[1m😤 😠 😡 🤬  DETACHED HALLUCINATION\u001b[0m\n",
      "21.377924\n"
     ]
    },
    {
     "data": {
      "text/html": [
       " <span style=\"background-color:#e0e0e0 \">-11.4462</span> <span style=\"background-color:#DFFF00 \">-0.030530345</span> <span style=\"background-color:#9FE2BF \">3.6840348</span> <span style=\"background-color:#CCCCFF \">7.4242077</span> <span style=\"background-color:#FFE4E1 \">9.931724</span>"
      ],
      "text/plain": [
       "<IPython.core.display.HTML object>"
      ]
     },
     "metadata": {},
     "output_type": "display_data"
    },
    {
     "data": {
      "text/html": [
       " Instead of shrinking in size <span style=\"background-color:#CCCCFF \">or</span><span style=\"background-color:#CCCCFF \"> focusing</span><span style=\"background-color:#CCCCFF \"> on</span><span style=\"background-color:#CCCCFF \"> refineries</span><span style=\"background-color:#CCCCFF \"> ,</span><span style=\"background-color:#CCCCFF \"> it</span><span style=\"background-color:#CCCCFF \"> is</span><span style=\"background-color:#CCCCFF \"> possible</span><span style=\"background-color:#CCCCFF \"> to</span><span style=\"background-color:#CCCCFF \"> think</span><span style=\"background-color:#CCCCFF \"> that</span> instead of a transition to renewables , the industry might <span style=\"background-color:#FFE4E1 \">shift</span> production to <span style=\"background-color:#9FE2BF \">be</span><span style=\"background-color:#9FE2BF \"> private</span><span style=\"background-color:#9FE2BF \"> rather</span><span style=\"background-color:#9FE2BF \"> than</span> public <span style=\"background-color:#DFFF00 \">,</span><span style=\"background-color:#DFFF00 \"> as</span> publicly listed firms ."
      ],
      "text/plain": [
       "<IPython.core.display.HTML object>"
      ]
     },
     "metadata": {},
     "output_type": "display_data"
    },
    {
     "data": {
      "text/html": [
       " Em vez de diminuir de dimensão <span style=\"background-color:#CCCCFF \">,</span><span style=\"background-color:#CCCCFF \"> ou</span><span style=\"background-color:#CCCCFF \"> de</span><span style=\"background-color:#CCCCFF \"> se</span><span style=\"background-color:#CCCCFF \"> concentrar</span> numa transição para as renováveis , a indústria poderia <span style=\"background-color:#FFE4E1 \">transferir</span> a produção para <span style=\"background-color:#9FE2BF \">empresas</span><span style=\"background-color:#9FE2BF \"> privadas</span> <span style=\"background-color:#DFFF00 \">,</span><span style=\"background-color:#DFFF00 \"> em</span> vez de empresas publicamente cotadas ."
      ],
      "text/plain": [
       "<IPython.core.display.HTML object>"
      ]
     },
     "metadata": {},
     "output_type": "display_data"
    },
    {
     "name": "stdout",
     "output_type": "stream",
     "text": [
      "____________________________________46___________________________________________________\n",
      "____________________________________48___________________________________________________\n",
      "____________________________________49___________________________________________________\n",
      "\u001b[91m\u001b[1m😤 😠 😡 🤬  DETACHED HALLUCINATION\u001b[0m\n",
      "8.4341665\n"
     ]
    },
    {
     "data": {
      "text/html": [
       " <span style=\"background-color:#e0e0e0 \">-11.84525</span> <span style=\"background-color:#DFFF00 \">-10.546117</span> <span style=\"background-color:#9FE2BF \">-3.4110835</span>"
      ],
      "text/plain": [
       "<IPython.core.display.HTML object>"
      ]
     },
     "metadata": {},
     "output_type": "display_data"
    },
    {
     "data": {
      "text/html": [
       " After <span style=\"background-color:#DFFF00 \">first</span> watering down the tariffs , the Bush administration <span style=\"background-color:#9FE2BF \">allowed</span><span style=\"background-color:#9FE2BF \"> them</span> altogether after 18 months ."
      ],
      "text/plain": [
       "<IPython.core.display.HTML object>"
      ]
     },
     "metadata": {},
     "output_type": "display_data"
    },
    {
     "data": {
      "text/html": [
       " Depois <span style=\"background-color:#DFFF00 \">de</span> reduzir as tarifas , a administração de Bush <span style=\"background-color:#9FE2BF \">abandonou-as</span> por completo após 18 meses ."
      ],
      "text/plain": [
       "<IPython.core.display.HTML object>"
      ]
     },
     "metadata": {},
     "output_type": "display_data"
    },
    {
     "name": "stdout",
     "output_type": "stream",
     "text": [
      "____________________________________50___________________________________________________\n",
      "\u001b[91m\u001b[1m😤 😠 😡 🤬  DETACHED HALLUCINATION\u001b[0m\n",
      "6.863425400000001\n"
     ]
    },
    {
     "data": {
      "text/html": [
       " <span style=\"background-color:#e0e0e0 \">-14.191959</span> <span style=\"background-color:#DFFF00 \">-7.3285336</span>"
      ],
      "text/plain": [
       "<IPython.core.display.HTML object>"
      ]
     },
     "metadata": {},
     "output_type": "display_data"
    },
    {
     "data": {
      "text/html": [
       " To be sure , women are less powerful , and have fewer opportunities than men worldwide ."
      ],
      "text/plain": [
       "<IPython.core.display.HTML object>"
      ]
     },
     "metadata": {},
     "output_type": "display_data"
    },
    {
     "data": {
      "text/html": [
       " Na verdade , as <span style=\"background-color:#DFFF00 \">raparigas</span><span style=\"background-color:#DFFF00 \"> e</span><span style=\"background-color:#DFFF00 \"> as</span> mulheres têm menos poder , menos privilégios , e menos oportunidades que os homens em todo o mundo ."
      ],
      "text/plain": [
       "<IPython.core.display.HTML object>"
      ]
     },
     "metadata": {},
     "output_type": "display_data"
    },
    {
     "name": "stdout",
     "output_type": "stream",
     "text": [
      "____________________________________51___________________________________________________\n",
      "____________________________________52___________________________________________________\n",
      "____________________________________58___________________________________________________\n",
      "____________________________________59___________________________________________________\n",
      "____________________________________61___________________________________________________\n",
      "____________________________________64___________________________________________________\n",
      "____________________________________67___________________________________________________\n",
      "____________________________________68___________________________________________________\n",
      "____________________________________69___________________________________________________\n",
      "____________________________________70___________________________________________________\n",
      "____________________________________71___________________________________________________\n",
      "____________________________________72___________________________________________________\n",
      "____________________________________73___________________________________________________\n",
      "____________________________________74___________________________________________________\n",
      "____________________________________75___________________________________________________\n",
      "\u001b[91m\u001b[1m😤 😠 😡 🤬  DETACHED HALLUCINATION\u001b[0m\n",
      "7.046711999999999\n"
     ]
    },
    {
     "data": {
      "text/html": [
       " <span style=\"background-color:#e0e0e0 \">-12.616672</span> <span style=\"background-color:#DFFF00 \">-9.603754</span> <span style=\"background-color:#9FE2BF \">-5.56996</span>"
      ],
      "text/plain": [
       "<IPython.core.display.HTML object>"
      ]
     },
     "metadata": {},
     "output_type": "display_data"
    },
    {
     "data": {
      "text/html": [
       " The Guarani indigenous people <span style=\"background-color:#DFFF00 \">of</span><span style=\"background-color:#DFFF00 \"> Argentina</span><span style=\"background-color:#DFFF00 \"> have</span> grown and used <span style=\"background-color:#9FE2BF \">the</span><span style=\"background-color:#9FE2BF \"> herb</span> for centuries ."
      ],
      "text/plain": [
       "<IPython.core.display.HTML object>"
      ]
     },
     "metadata": {},
     "output_type": "display_data"
    },
    {
     "data": {
      "text/html": [
       " <span style=\"background-color:#DFFF00 \">No</span><span style=\"background-color:#DFFF00 \"> Paraguai</span><span style=\"background-color:#DFFF00 \"> ,</span> o povo indígena guarani cultiva e utiliza <span style=\"background-color:#9FE2BF \">esta</span><span style=\"background-color:#9FE2BF \"> planta</span> há séculos ."
      ],
      "text/plain": [
       "<IPython.core.display.HTML object>"
      ]
     },
     "metadata": {},
     "output_type": "display_data"
    },
    {
     "name": "stdout",
     "output_type": "stream",
     "text": [
      "____________________________________76___________________________________________________\n",
      "____________________________________78___________________________________________________\n",
      "____________________________________79___________________________________________________\n",
      "____________________________________80___________________________________________________\n",
      "____________________________________81___________________________________________________\n",
      "____________________________________82___________________________________________________\n",
      "____________________________________84___________________________________________________\n",
      "____________________________________85___________________________________________________\n",
      "____________________________________86___________________________________________________\n",
      "____________________________________87___________________________________________________\n",
      "____________________________________88___________________________________________________\n",
      "____________________________________90___________________________________________________\n",
      "____________________________________91___________________________________________________\n",
      "____________________________________93___________________________________________________\n",
      "____________________________________94___________________________________________________\n",
      "____________________________________95___________________________________________________\n",
      "____________________________________96___________________________________________________\n",
      "\u001b[91m\u001b[1m😤 😠 😡 🤬  DETACHED HALLUCINATION\u001b[0m\n",
      "19.025708\n"
     ]
    },
    {
     "data": {
      "text/html": [
       " <span style=\"background-color:#e0e0e0 \">-11.113598</span> <span style=\"background-color:#DFFF00 \">6.414775</span> <span style=\"background-color:#9FE2BF \">7.91211</span>"
      ],
      "text/plain": [
       "<IPython.core.display.HTML object>"
      ]
     },
     "metadata": {},
     "output_type": "display_data"
    },
    {
     "data": {
      "text/html": [
       " While some factory jobs can be outsourced or automated <span style=\"background-color:#9FE2BF \">,</span> robots cannot yet <span style=\"background-color:#DFFF00 \">retrofit</span><span style=\"background-color:#DFFF00 \"> buildings</span><span style=\"background-color:#DFFF00 \"> ,</span><span style=\"background-color:#DFFF00 \"> or</span> construct vertical farms ."
      ],
      "text/plain": [
       "<IPython.core.display.HTML object>"
      ]
     },
     "metadata": {},
     "output_type": "display_data"
    },
    {
     "data": {
      "text/html": [
       " Embora alguns postos de trabalho fabris possam ser subcontratados ou automatizados <span style=\"background-color:#9FE2BF \">,</span><span style=\"background-color:#9FE2BF \"> os</span> robôs ainda não <span style=\"background-color:#DFFF00 \">conseguem</span><span style=\"background-color:#DFFF00 \"> melhorar</span><span style=\"background-color:#DFFF00 \"> os</span><span style=\"background-color:#DFFF00 \"> edifícios</span><span style=\"background-color:#DFFF00 \"> ,</span><span style=\"background-color:#DFFF00 \"> instalar</span><span style=\"background-color:#DFFF00 \"> células</span><span style=\"background-color:#DFFF00 \"> solares</span><span style=\"background-color:#DFFF00 \"> fotovoltaicas</span><span style=\"background-color:#DFFF00 \"> nos</span><span style=\"background-color:#DFFF00 \"> telhados</span><span style=\"background-color:#DFFF00 \"> ou</span> construir quintas verticais ."
      ],
      "text/plain": [
       "<IPython.core.display.HTML object>"
      ]
     },
     "metadata": {},
     "output_type": "display_data"
    },
    {
     "name": "stdout",
     "output_type": "stream",
     "text": [
      "____________________________________97___________________________________________________\n",
      "____________________________________98___________________________________________________\n",
      "____________________________________99___________________________________________________\n",
      "____________________________________100___________________________________________________\n",
      "\u001b[91m\u001b[1m😤 😠 😡 🤬  DETACHED HALLUCINATION\u001b[0m\n",
      "4.4463592400000005\n"
     ]
    },
    {
     "data": {
      "text/html": [
       " <span style=\"background-color:#e0e0e0 \">-5.4198155</span> <span style=\"background-color:#DFFF00 \">-0.97345626</span>"
      ],
      "text/plain": [
       "<IPython.core.display.HTML object>"
      ]
     },
     "metadata": {},
     "output_type": "display_data"
    },
    {
     "data": {
      "text/html": [
       " And decreasing exports is , of course , China 's <span style=\"background-color:#DFFF00 \">customary</span> response to weaker domestic demand ."
      ],
      "text/plain": [
       "<IPython.core.display.HTML object>"
      ]
     },
     "metadata": {},
     "output_type": "display_data"
    },
    {
     "data": {
      "text/html": [
       " E o aumento das exportações é , claro , a resposta <span style=\"background-color:#DFFF00 \">habitual</span> da China à procura interna mais fraca ."
      ],
      "text/plain": [
       "<IPython.core.display.HTML object>"
      ]
     },
     "metadata": {},
     "output_type": "display_data"
    },
    {
     "name": "stdout",
     "output_type": "stream",
     "text": [
      "____________________________________101___________________________________________________\n",
      "____________________________________102___________________________________________________\n",
      "____________________________________106___________________________________________________\n",
      "____________________________________108___________________________________________________\n",
      "____________________________________111___________________________________________________\n",
      "____________________________________118___________________________________________________\n",
      "____________________________________119___________________________________________________\n",
      "____________________________________120___________________________________________________\n",
      "____________________________________123___________________________________________________\n",
      "\u001b[91m\u001b[1m😤 😠 😡 🤬  DETACHED HALLUCINATION\u001b[0m\n",
      "9.113504800000001\n"
     ]
    },
    {
     "data": {
      "text/html": [
       " <span style=\"background-color:#e0e0e0 \">-10.423901</span> <span style=\"background-color:#DFFF00 \">-3.5831108</span> <span style=\"background-color:#9FE2BF \">-1.3103962</span>"
      ],
      "text/plain": [
       "<IPython.core.display.HTML object>"
      ]
     },
     "metadata": {},
     "output_type": "display_data"
    },
    {
     "data": {
      "text/html": [
       " As major brands like <span style=\"background-color:#DFFF00 \">Coke</span><span style=\"background-color:#DFFF00 \"> and</span><span style=\"background-color:#DFFF00 \"> Red</span><span style=\"background-color:#DFFF00 \"> Bull</span><span style=\"background-color:#DFFF00 \"> aggressively</span> market stevia-sweetened cola drinks as natural and healthy <span style=\"background-color:#9FE2BF \">,</span><span style=\"background-color:#9FE2BF \"> the</span> agricultural acreage of the plant has exploded ."
      ],
      "text/plain": [
       "<IPython.core.display.HTML object>"
      ]
     },
     "metadata": {},
     "output_type": "display_data"
    },
    {
     "data": {
      "text/html": [
       " Quando grandes marcas como <span style=\"background-color:#DFFF00 \">a</span><span style=\"background-color:#DFFF00 \"> Coca-Cola</span><span style=\"background-color:#DFFF00 \"> e</span><span style=\"background-color:#DFFF00 \"> a</span><span style=\"background-color:#DFFF00 \"> Pepsi</span><span style=\"background-color:#DFFF00 \"> começaram</span><span style=\"background-color:#DFFF00 \"> a</span> comercializar massivamente bebidas de cola adoçadas com stevia como sendo naturais e saudáveis <span style=\"background-color:#9FE2BF \">,</span><span style=\"background-color:#9FE2BF \"> a</span> superfície agrícola desta planta expandiu-se significativamente ."
      ],
      "text/plain": [
       "<IPython.core.display.HTML object>"
      ]
     },
     "metadata": {},
     "output_type": "display_data"
    },
    {
     "name": "stdout",
     "output_type": "stream",
     "text": [
      "____________________________________125___________________________________________________\n",
      "____________________________________128___________________________________________________\n",
      "____________________________________129___________________________________________________\n",
      "____________________________________130___________________________________________________\n",
      "____________________________________132___________________________________________________\n",
      "____________________________________133___________________________________________________\n",
      "____________________________________134___________________________________________________\n",
      "____________________________________135___________________________________________________\n",
      "\u001b[91m\u001b[1m😤 😠 😡 🤬  DETACHED HALLUCINATION\u001b[0m\n",
      "15.14749825\n"
     ]
    },
    {
     "data": {
      "text/html": [
       " <span style=\"background-color:#e0e0e0 \">-0.10901625</span> <span style=\"background-color:#DFFF00 \">9.631835</span> <span style=\"background-color:#9FE2BF \">15.038482</span>"
      ],
      "text/plain": [
       "<IPython.core.display.HTML object>"
      ]
     },
     "metadata": {},
     "output_type": "display_data"
    },
    {
     "data": {
      "text/html": [
       " Private charities , which have <span style=\"background-color:#DFFF00 \">been</span><span style=\"background-color:#DFFF00 \"> instrumental</span><span style=\"background-color:#DFFF00 \"> in</span><span style=\"background-color:#DFFF00 \"> the</span><span style=\"background-color:#DFFF00 \"> fight</span><span style=\"background-color:#DFFF00 \"> against</span> innovation in fields such as health care , the environment , and education , could provide <span style=\"background-color:#9FE2BF \">valuable</span><span style=\"background-color:#9FE2BF \"> insight</span><span style=\"background-color:#9FE2BF \"> into</span> channeling aid more effectively ."
      ],
      "text/plain": [
       "<IPython.core.display.HTML object>"
      ]
     },
     "metadata": {},
     "output_type": "display_data"
    },
    {
     "data": {
      "text/html": [
       " Instituições privadas de beneficência , que têm <span style=\"background-color:#DFFF00 \">sido</span><span style=\"background-color:#DFFF00 \"> instrumentais</span><span style=\"background-color:#DFFF00 \"> na</span><span style=\"background-color:#DFFF00 \"> promoção</span><span style=\"background-color:#DFFF00 \"> da</span> inovação em áreas como os cuidados de saúde , o ambiente , e a educação , poderiam fornecer <span style=\"background-color:#9FE2BF \">uma</span><span style=\"background-color:#9FE2BF \"> visão</span><span style=\"background-color:#9FE2BF \"> valiosa</span><span style=\"background-color:#9FE2BF \"> em</span><span style=\"background-color:#9FE2BF \"> como</span> canalizar mais eficazmente a ajuda ."
      ],
      "text/plain": [
       "<IPython.core.display.HTML object>"
      ]
     },
     "metadata": {},
     "output_type": "display_data"
    },
    {
     "name": "stdout",
     "output_type": "stream",
     "text": [
      "____________________________________136___________________________________________________\n",
      "____________________________________137___________________________________________________\n",
      "____________________________________138___________________________________________________\n",
      "____________________________________140___________________________________________________\n",
      "____________________________________141___________________________________________________\n",
      "____________________________________143___________________________________________________\n",
      "____________________________________144___________________________________________________\n",
      "____________________________________145___________________________________________________\n",
      "____________________________________146___________________________________________________\n",
      "____________________________________147___________________________________________________\n",
      "____________________________________149___________________________________________________\n",
      "____________________________________150___________________________________________________\n",
      "____________________________________151___________________________________________________\n",
      "\u001b[91m\u001b[1m😤 😠 😡 🤬  DETACHED HALLUCINATION\u001b[0m\n",
      "9.093261199999999\n"
     ]
    },
    {
     "data": {
      "text/html": [
       " <span style=\"background-color:#e0e0e0 \">0.6265218</span> <span style=\"background-color:#DFFF00 \">6.976762</span> <span style=\"background-color:#9FE2BF \">9.719783</span>"
      ],
      "text/plain": [
       "<IPython.core.display.HTML object>"
      ]
     },
     "metadata": {},
     "output_type": "display_data"
    },
    {
     "data": {
      "text/html": [
       " Before ooniprobe , such censorship was difficult to detect , with governments and ISPs often denying <span style=\"background-color:#DFFF00 \">any</span><span style=\"background-color:#DFFF00 \"> and</span><span style=\"background-color:#DFFF00 \"> all</span> involvement ."
      ],
      "text/plain": [
       "<IPython.core.display.HTML object>"
      ]
     },
     "metadata": {},
     "output_type": "display_data"
    },
    {
     "data": {
      "text/html": [
       " Antes do ooniprobe , esta censura dificilmente seria detectada , o que levava <span style=\"background-color:#9FE2BF \">a</span><span style=\"background-color:#9FE2BF \"> uma</span><span style=\"background-color:#9FE2BF \"> ausência</span> de responsabilização , já que os governos e os ISP negam frequentemente <span style=\"background-color:#DFFF00 \">qualquer</span> envolvimento ."
      ],
      "text/plain": [
       "<IPython.core.display.HTML object>"
      ]
     },
     "metadata": {},
     "output_type": "display_data"
    },
    {
     "name": "stdout",
     "output_type": "stream",
     "text": [
      "____________________________________152___________________________________________________\n",
      "____________________________________153___________________________________________________\n",
      "____________________________________155___________________________________________________\n",
      "\u001b[91m\u001b[1m😤 😠 😡 🤬  DETACHED HALLUCINATION\u001b[0m\n",
      "21.7663072\n"
     ]
    },
    {
     "data": {
      "text/html": [
       " <span style=\"background-color:#e0e0e0 \">-15.168939</span> <span style=\"background-color:#DFFF00 \">-6.4809275</span> <span style=\"background-color:#9FE2BF \">6.5973682</span>"
      ],
      "text/plain": [
       "<IPython.core.display.HTML object>"
      ]
     },
     "metadata": {},
     "output_type": "display_data"
    },
    {
     "data": {
      "text/html": [
       " Like other humans , social scientists are prone to over-confidence in their <span style=\"background-color:#9FE2BF \">inferior</span> model <span style=\"background-color:#DFFF00 \">of</span><span style=\"background-color:#DFFF00 \"> the</span><span style=\"background-color:#DFFF00 \"> day</span> ."
      ],
      "text/plain": [
       "<IPython.core.display.HTML object>"
      ]
     },
     "metadata": {},
     "output_type": "display_data"
    },
    {
     "data": {
      "text/html": [
       " À semelhança dos demais seres humanos , os sociólogos têm tendência para confiar <span style=\"background-color:#9FE2BF \">excessivamente</span> no seu modelo <span style=\"background-color:#DFFF00 \">favorito</span> ."
      ],
      "text/plain": [
       "<IPython.core.display.HTML object>"
      ]
     },
     "metadata": {},
     "output_type": "display_data"
    },
    {
     "name": "stdout",
     "output_type": "stream",
     "text": [
      "____________________________________156___________________________________________________\n",
      "____________________________________157___________________________________________________\n",
      "____________________________________160___________________________________________________\n",
      "____________________________________161___________________________________________________\n",
      "____________________________________164___________________________________________________\n",
      "____________________________________167___________________________________________________\n",
      "____________________________________168___________________________________________________\n",
      "____________________________________169___________________________________________________\n",
      "____________________________________170___________________________________________________\n",
      "____________________________________171___________________________________________________\n",
      "____________________________________172___________________________________________________\n",
      "____________________________________173___________________________________________________\n",
      "____________________________________174___________________________________________________\n",
      "____________________________________175___________________________________________________\n",
      "____________________________________177___________________________________________________\n",
      "____________________________________178___________________________________________________\n",
      "____________________________________179___________________________________________________\n",
      "____________________________________180___________________________________________________\n",
      "____________________________________183___________________________________________________\n",
      "____________________________________184___________________________________________________\n",
      "____________________________________186___________________________________________________\n",
      "____________________________________187___________________________________________________\n",
      "\u001b[91m\u001b[1m😤 😠 😡 🤬  DETACHED HALLUCINATION\u001b[0m\n",
      "16.663328999999997\n"
     ]
    },
    {
     "data": {
      "text/html": [
       " <span style=\"background-color:#e0e0e0 \">-5.457742</span> <span style=\"background-color:#DFFF00 \">8.901108</span> <span style=\"background-color:#9FE2BF \">11.205587</span>"
      ],
      "text/plain": [
       "<IPython.core.display.HTML object>"
      ]
     },
     "metadata": {},
     "output_type": "display_data"
    },
    {
     "data": {
      "text/html": [
       " Laws meant to curb hate speech , or violence <span style=\"background-color:#9FE2BF \">,</span><span style=\"background-color:#9FE2BF \"> may</span> be well intentioned but their implementation has been sloppy , <span style=\"background-color:#DFFF00 \">with</span><span style=\"background-color:#DFFF00 \"> few</span><span style=\"background-color:#DFFF00 \"> mechanisms</span><span style=\"background-color:#DFFF00 \"> to</span><span style=\"background-color:#DFFF00 \"> ensure</span><span style=\"background-color:#DFFF00 \"> accountability</span> or reversibility ."
      ],
      "text/plain": [
       "<IPython.core.display.HTML object>"
      ]
     },
     "metadata": {},
     "output_type": "display_data"
    },
    {
     "data": {
      "text/html": [
       " As leis destinadas a refrear o discurso de ódio , violência ou \" notícias falsas <span style=\"background-color:#9FE2BF \">\"</span><span style=\"background-color:#9FE2BF \"> podem</span> ser bem-intencionadas , porém a sua aplicação tem sido descuidada , <span style=\"background-color:#DFFF00 \">com</span><span style=\"background-color:#DFFF00 \"> um</span><span style=\"background-color:#DFFF00 \"> número</span><span style=\"background-color:#DFFF00 \"> reduzido</span><span style=\"background-color:#DFFF00 \"> de</span><span style=\"background-color:#DFFF00 \"> mecanismos</span><span style=\"background-color:#DFFF00 \"> destinados</span><span style=\"background-color:#DFFF00 \"> a</span><span style=\"background-color:#DFFF00 \"> assegurar</span><span style=\"background-color:#DFFF00 \"> a</span><span style=\"background-color:#DFFF00 \"> prestação</span><span style=\"background-color:#DFFF00 \"> de</span><span style=\"background-color:#DFFF00 \"> contas</span><span style=\"background-color:#DFFF00 \"> ,</span><span style=\"background-color:#DFFF00 \"> a</span><span style=\"background-color:#DFFF00 \"> transparência</span> ou a reversibilidade ."
      ],
      "text/plain": [
       "<IPython.core.display.HTML object>"
      ]
     },
     "metadata": {},
     "output_type": "display_data"
    },
    {
     "name": "stdout",
     "output_type": "stream",
     "text": [
      "____________________________________188___________________________________________________\n",
      "____________________________________189___________________________________________________\n",
      "____________________________________190___________________________________________________\n",
      "____________________________________192___________________________________________________\n",
      "____________________________________193___________________________________________________\n",
      "____________________________________194___________________________________________________\n",
      "\u001b[91m\u001b[1m😤 😠 😡 🤬  DETACHED HALLUCINATION\u001b[0m\n",
      "16.20752464\n"
     ]
    },
    {
     "data": {
      "text/html": [
       " <span style=\"background-color:#e0e0e0 \">-15.290969</span> <span style=\"background-color:#DFFF00 \">0.91655564</span>"
      ],
      "text/plain": [
       "<IPython.core.display.HTML object>"
      ]
     },
     "metadata": {},
     "output_type": "display_data"
    },
    {
     "data": {
      "text/html": [
       " But all other important and relevant issues - <span style=\"background-color:#DFFF00 \">including</span><span style=\"background-color:#DFFF00 \"> structural</span><span style=\"background-color:#DFFF00 \"> goals</span><span style=\"background-color:#DFFF00 \"> and</span><span style=\"background-color:#DFFF00 \"> ,</span><span style=\"background-color:#DFFF00 \"> above</span><span style=\"background-color:#DFFF00 \"> all</span><span style=\"background-color:#DFFF00 \"> ,</span><span style=\"background-color:#DFFF00 \"> a</span><span style=\"background-color:#DFFF00 \"> common</span><span style=\"background-color:#DFFF00 \"> foreign</span><span style=\"background-color:#DFFF00 \"> and</span><span style=\"background-color:#DFFF00 \"> security</span><span style=\"background-color:#DFFF00 \"> policy</span> - have in fact been almost completely ignored ."
      ],
      "text/plain": [
       "<IPython.core.display.HTML object>"
      ]
     },
     "metadata": {},
     "output_type": "display_data"
    },
    {
     "data": {
      "text/html": [
       " Mas todas as outras questões importantes - <span style=\"background-color:#DFFF00 \">sobretudo</span><span style=\"background-color:#DFFF00 \"> a</span><span style=\"background-color:#DFFF00 \"> da</span><span style=\"background-color:#DFFF00 \"> política</span><span style=\"background-color:#DFFF00 \"> externa</span><span style=\"background-color:#DFFF00 \"> e</span><span style=\"background-color:#DFFF00 \"> de</span><span style=\"background-color:#DFFF00 \"> segurança</span><span style=\"background-color:#DFFF00 \"> comuns</span> - foram quase completamente ignoradas ."
      ],
      "text/plain": [
       "<IPython.core.display.HTML object>"
      ]
     },
     "metadata": {},
     "output_type": "display_data"
    },
    {
     "name": "stdout",
     "output_type": "stream",
     "text": [
      "____________________________________196___________________________________________________\n",
      "____________________________________198___________________________________________________\n",
      "____________________________________201___________________________________________________\n",
      "____________________________________202___________________________________________________\n",
      "____________________________________203___________________________________________________\n",
      "____________________________________204___________________________________________________\n",
      "\u001b[91m\u001b[1m😤 😠 😡 🤬  DETACHED HALLUCINATION\u001b[0m\n",
      "7.3262135\n"
     ]
    },
    {
     "data": {
      "text/html": [
       " <span style=\"background-color:#e0e0e0 \">6.6886525</span> <span style=\"background-color:#DFFF00 \">14.014866</span>"
      ],
      "text/plain": [
       "<IPython.core.display.HTML object>"
      ]
     },
     "metadata": {},
     "output_type": "display_data"
    },
    {
     "data": {
      "text/html": [
       " If the second is too flexible , the ability to <span style=\"background-color:#DFFF00 \">carry</span><span style=\"background-color:#DFFF00 \"> out</span> technically complex work will not be impaired ."
      ],
      "text/plain": [
       "<IPython.core.display.HTML object>"
      ]
     },
     "metadata": {},
     "output_type": "display_data"
    },
    {
     "data": {
      "text/html": [
       " Se a segunda for demasiado flexível , a capacidade de <span style=\"background-color:#DFFF00 \">desenvolver</span> trabalho tecnicamente complexo ficará comprometida ."
      ],
      "text/plain": [
       "<IPython.core.display.HTML object>"
      ]
     },
     "metadata": {},
     "output_type": "display_data"
    },
    {
     "name": "stdout",
     "output_type": "stream",
     "text": [
      "____________________________________205___________________________________________________\n",
      "____________________________________207___________________________________________________\n",
      "____________________________________214___________________________________________________\n",
      "____________________________________216___________________________________________________\n",
      "____________________________________217___________________________________________________\n",
      "____________________________________218___________________________________________________\n",
      "____________________________________219___________________________________________________\n",
      "____________________________________221___________________________________________________\n",
      "____________________________________223___________________________________________________\n",
      "____________________________________224___________________________________________________\n",
      "____________________________________226___________________________________________________\n",
      "____________________________________228___________________________________________________\n",
      "____________________________________231___________________________________________________\n",
      "\u001b[91m\u001b[1m😤 😠 😡 🤬  DETACHED HALLUCINATION\u001b[0m\n",
      "19.7551366\n"
     ]
    },
    {
     "data": {
      "text/html": [
       " <span style=\"background-color:#e0e0e0 \">-5.8383036</span> <span style=\"background-color:#DFFF00 \">13.916833</span>"
      ],
      "text/plain": [
       "<IPython.core.display.HTML object>"
      ]
     },
     "metadata": {},
     "output_type": "display_data"
    },
    {
     "data": {
      "text/html": [
       " When the turmoil comes , it is likely to be triggered - as <span style=\"background-color:#DFFF00 \">with</span><span style=\"background-color:#DFFF00 \"> the</span><span style=\"background-color:#DFFF00 \"> euro</span><span style=\"background-color:#DFFF00 \"> crisis</span><span style=\"background-color:#DFFF00 \"> -</span><span style=\"background-color:#DFFF00 \"> by</span><span style=\"background-color:#DFFF00 \"> Libya</span><span style=\"background-color:#DFFF00 \"> ,</span><span style=\"background-color:#DFFF00 \"> which</span> is holding a presidential election that seems unlikely to produce a winner ."
      ],
      "text/plain": [
       "<IPython.core.display.HTML object>"
      ]
     },
     "metadata": {},
     "output_type": "display_data"
    },
    {
     "data": {
      "text/html": [
       " Quando a turbulência chegar , é provável que seja desencadeada - como <span style=\"background-color:#DFFF00 \">foi</span><span style=\"background-color:#DFFF00 \"> a</span><span style=\"background-color:#DFFF00 \"> crise</span><span style=\"background-color:#DFFF00 \"> da</span><span style=\"background-color:#DFFF00 \"> zona</span><span style=\"background-color:#DFFF00 \"> euro</span><span style=\"background-color:#DFFF00 \"> -</span><span style=\"background-color:#DFFF00 \"> pela</span><span style=\"background-color:#DFFF00 \"> Grécia</span><span style=\"background-color:#DFFF00 \"> ,</span><span style=\"background-color:#DFFF00 \"> onde</span> se realiza uma eleição presidencial que não produzirá provavelmente qualquer vencedor ."
      ],
      "text/plain": [
       "<IPython.core.display.HTML object>"
      ]
     },
     "metadata": {},
     "output_type": "display_data"
    },
    {
     "name": "stdout",
     "output_type": "stream",
     "text": [
      "____________________________________233___________________________________________________\n",
      "____________________________________234___________________________________________________\n",
      "____________________________________236___________________________________________________\n",
      "____________________________________237___________________________________________________\n",
      "____________________________________238___________________________________________________\n",
      "____________________________________239___________________________________________________\n",
      "____________________________________241___________________________________________________\n",
      "____________________________________242___________________________________________________\n",
      "____________________________________243___________________________________________________\n",
      "____________________________________246___________________________________________________\n",
      "____________________________________247___________________________________________________\n",
      "____________________________________248___________________________________________________\n",
      "\u001b[91m\u001b[1m😤 😠 😡 🤬  DETACHED HALLUCINATION\u001b[0m\n",
      "12.9369525\n"
     ]
    },
    {
     "data": {
      "text/html": [
       " <span style=\"background-color:#e0e0e0 \">2.6641655</span> <span style=\"background-color:#DFFF00 \">6.6150923</span> <span style=\"background-color:#9FE2BF \">15.601118</span>"
      ],
      "text/plain": [
       "<IPython.core.display.HTML object>"
      ]
     },
     "metadata": {},
     "output_type": "display_data"
    },
    {
     "data": {
      "text/html": [
       " But <span style=\"background-color:#9FE2BF \">with</span><span style=\"background-color:#9FE2BF \"> these</span><span style=\"background-color:#9FE2BF \"> discussions</span><span style=\"background-color:#9FE2BF \"> now</span><span style=\"background-color:#9FE2BF \"> over</span> , the global health community must <span style=\"background-color:#DFFF00 \">focus</span><span style=\"background-color:#DFFF00 \"> on</span><span style=\"background-color:#DFFF00 \"> avoiding</span> the necessary political commitments to sustain international coordination and planning ."
      ],
      "text/plain": [
       "<IPython.core.display.HTML object>"
      ]
     },
     "metadata": {},
     "output_type": "display_data"
    },
    {
     "data": {
      "text/html": [
       " Mas <span style=\"background-color:#9FE2BF \">agora</span><span style=\"background-color:#9FE2BF \"> que</span><span style=\"background-color:#9FE2BF \"> terminaram</span><span style=\"background-color:#9FE2BF \"> estes</span><span style=\"background-color:#9FE2BF \"> debates</span> , a comunidade global da saúde deve <span style=\"background-color:#DFFF00 \">dedicar-se</span><span style=\"background-color:#DFFF00 \"> a</span><span style=\"background-color:#DFFF00 \"> assegurar</span> os compromissos políticos necessários à manutenção da coordenação e planeamento internacionais ."
      ],
      "text/plain": [
       "<IPython.core.display.HTML object>"
      ]
     },
     "metadata": {},
     "output_type": "display_data"
    },
    {
     "name": "stdout",
     "output_type": "stream",
     "text": [
      "____________________________________249___________________________________________________\n",
      "____________________________________250___________________________________________________\n",
      "____________________________________252___________________________________________________\n",
      "____________________________________253___________________________________________________\n",
      "\u001b[91m\u001b[1m😤 😠 😡 🤬  DETACHED HALLUCINATION\u001b[0m\n",
      "11.646513500000001\n"
     ]
    },
    {
     "data": {
      "text/html": [
       " <span style=\"background-color:#e0e0e0 \">-6.4503465</span> <span style=\"background-color:#DFFF00 \">3.5167181</span> <span style=\"background-color:#9FE2BF \">5.196167</span>"
      ],
      "text/plain": [
       "<IPython.core.display.HTML object>"
      ]
     },
     "metadata": {},
     "output_type": "display_data"
    },
    {
     "data": {
      "text/html": [
       " So it may well be that the demand for discussing <span style=\"background-color:#DFFF00 \">,</span><span style=\"background-color:#DFFF00 \"> say</span><span style=\"background-color:#DFFF00 \"> ,</span> medieval English church music in <span style=\"background-color:#9FE2BF \">small</span> classes at a university will grow even as the demand for MOOCs grows ."
      ],
      "text/plain": [
       "<IPython.core.display.HTML object>"
      ]
     },
     "metadata": {},
     "output_type": "display_data"
    },
    {
     "data": {
      "text/html": [
       " Assim , é bem possível que se registe um aumento da procura pela discussão de <span style=\"background-color:#DFFF00 \">temas</span><span style=\"background-color:#DFFF00 \"> como</span><span style=\"background-color:#DFFF00 \"> ,</span><span style=\"background-color:#DFFF00 \"> por</span><span style=\"background-color:#DFFF00 \"> exemplo</span><span style=\"background-color:#DFFF00 \"> ,</span> a música de igreja medieval francesa em turmas <span style=\"background-color:#9FE2BF \">pequenas</span> numa universidade , ao mesmo tempo que a procura de cursos MOOC aumenta também ."
      ],
      "text/plain": [
       "<IPython.core.display.HTML object>"
      ]
     },
     "metadata": {},
     "output_type": "display_data"
    },
    {
     "name": "stdout",
     "output_type": "stream",
     "text": [
      "____________________________________254___________________________________________________\n",
      "____________________________________255___________________________________________________\n",
      "____________________________________256___________________________________________________\n",
      "____________________________________257___________________________________________________\n",
      "____________________________________259___________________________________________________\n",
      "____________________________________260___________________________________________________\n",
      "____________________________________261___________________________________________________\n",
      "____________________________________263___________________________________________________\n",
      "____________________________________264___________________________________________________\n",
      "____________________________________265___________________________________________________\n",
      "____________________________________266___________________________________________________\n",
      "____________________________________267___________________________________________________\n",
      "____________________________________268___________________________________________________\n",
      "____________________________________269___________________________________________________\n",
      "____________________________________271___________________________________________________\n",
      "____________________________________272___________________________________________________\n",
      "____________________________________275___________________________________________________\n",
      "____________________________________276___________________________________________________\n",
      "____________________________________279___________________________________________________\n",
      "____________________________________281___________________________________________________\n",
      "____________________________________282___________________________________________________\n",
      "\u001b[91m\u001b[1m😤 😠 😡 🤬  DETACHED HALLUCINATION\u001b[0m\n",
      "1.7397229999999997\n"
     ]
    },
    {
     "data": {
      "text/html": [
       " <span style=\"background-color:#e0e0e0 \">-6.041525</span> <span style=\"background-color:#DFFF00 \">-4.301802</span>"
      ],
      "text/plain": [
       "<IPython.core.display.HTML object>"
      ]
     },
     "metadata": {},
     "output_type": "display_data"
    },
    {
     "data": {
      "text/html": [
       " Europe will reduce its energy dependence on Russia <span style=\"background-color:#DFFF00 \">,</span> and scale back investment and bilateral cooperation ."
      ],
      "text/plain": [
       "<IPython.core.display.HTML object>"
      ]
     },
     "metadata": {},
     "output_type": "display_data"
    },
    {
     "data": {
      "text/html": [
       " A Europa reduzirá a sua dependência energética face à Rússia , reverá o seu alinhamento e prioridades <span style=\"background-color:#DFFF00 \">estratégicas</span><span style=\"background-color:#DFFF00 \"> ,</span> e reduzirá o investimento e a cooperação bilaterais ."
      ],
      "text/plain": [
       "<IPython.core.display.HTML object>"
      ]
     },
     "metadata": {},
     "output_type": "display_data"
    },
    {
     "name": "stdout",
     "output_type": "stream",
     "text": [
      "____________________________________284___________________________________________________\n",
      "____________________________________285___________________________________________________\n",
      "\u001b[91m\u001b[1m😤 😠 😡 🤬  DETACHED HALLUCINATION\u001b[0m\n",
      "30.059715\n"
     ]
    },
    {
     "data": {
      "text/html": [
       " <span style=\"background-color:#e0e0e0 \">-15.083897</span> <span style=\"background-color:#DFFF00 \">14.975818</span>"
      ],
      "text/plain": [
       "<IPython.core.display.HTML object>"
      ]
     },
     "metadata": {},
     "output_type": "display_data"
    },
    {
     "data": {
      "text/html": [
       " Attempting to mitigate future domestic political damage by undermining the dynamics of the relationship between the <span style=\"background-color:#DFFF00 \">European</span><span style=\"background-color:#DFFF00 \"> Union</span><span style=\"background-color:#DFFF00 \"> and</span> Japan - and both countries ' relationship with the United States - is unwise ."
      ],
      "text/plain": [
       "<IPython.core.display.HTML object>"
      ]
     },
     "metadata": {},
     "output_type": "display_data"
    },
    {
     "data": {
      "text/html": [
       " A tentativa de mitigar futuros danos políticos internos , prejudicando a dinâmica da relação entre a <span style=\"background-color:#DFFF00 \">Coreia</span><span style=\"background-color:#DFFF00 \"> do</span><span style=\"background-color:#DFFF00 \"> Sul</span><span style=\"background-color:#DFFF00 \"> e</span> o Japão - e a relação de ambos os países com os Estados Unidos - é irreflectida ."
      ],
      "text/plain": [
       "<IPython.core.display.HTML object>"
      ]
     },
     "metadata": {},
     "output_type": "display_data"
    },
    {
     "name": "stdout",
     "output_type": "stream",
     "text": [
      "____________________________________287___________________________________________________\n",
      "____________________________________288___________________________________________________\n",
      "____________________________________289___________________________________________________\n",
      "____________________________________290___________________________________________________\n",
      "____________________________________292___________________________________________________\n",
      "____________________________________294___________________________________________________\n",
      "____________________________________297___________________________________________________\n",
      "____________________________________298___________________________________________________\n",
      "____________________________________299___________________________________________________\n",
      "____________________________________300___________________________________________________\n",
      "____________________________________301___________________________________________________\n",
      "____________________________________303___________________________________________________\n",
      "____________________________________304___________________________________________________\n",
      "____________________________________305___________________________________________________\n",
      "____________________________________306___________________________________________________\n",
      "____________________________________308___________________________________________________\n",
      "____________________________________309___________________________________________________\n",
      "____________________________________313___________________________________________________\n",
      "____________________________________314___________________________________________________\n",
      "____________________________________315___________________________________________________\n",
      "____________________________________316___________________________________________________\n",
      "____________________________________317___________________________________________________\n",
      "____________________________________319___________________________________________________\n",
      "____________________________________320___________________________________________________\n",
      "____________________________________321___________________________________________________\n",
      "\u001b[91m\u001b[1m😤 😠 😡 🤬  DETACHED HALLUCINATION\u001b[0m\n",
      "24.733699\n"
     ]
    },
    {
     "data": {
      "text/html": [
       " <span style=\"background-color:#e0e0e0 \">-10.110011</span> <span style=\"background-color:#DFFF00 \">14.623688</span>"
      ],
      "text/plain": [
       "<IPython.core.display.HTML object>"
      ]
     },
     "metadata": {},
     "output_type": "display_data"
    },
    {
     "data": {
      "text/html": [
       " The NASDAQ index confirms this disturbing trend : only 15 European companies are listed , compared to 498 for the US , 43 for China , and 23 <span style=\"background-color:#DFFF00 \">for</span><span style=\"background-color:#DFFF00 \"> India</span> ."
      ],
      "text/plain": [
       "<IPython.core.display.HTML object>"
      ]
     },
     "metadata": {},
     "output_type": "display_data"
    },
    {
     "data": {
      "text/html": [
       " O índice NASDAQ confirma esta tendência perturbadora : apenas 15 empresas Europeias estão aí referenciadas , comparadas com 498 dos EUA , 43 da China , e 23 <span style=\"background-color:#DFFF00 \">de</span><span style=\"background-color:#DFFF00 \"> Israel</span> ."
      ],
      "text/plain": [
       "<IPython.core.display.HTML object>"
      ]
     },
     "metadata": {},
     "output_type": "display_data"
    },
    {
     "name": "stdout",
     "output_type": "stream",
     "text": [
      "____________________________________325___________________________________________________\n",
      "\u001b[91m\u001b[1m😤 😠 😡 🤬  DETACHED HALLUCINATION\u001b[0m\n",
      "30.1074\n"
     ]
    },
    {
     "data": {
      "text/html": [
       " <span style=\"background-color:#e0e0e0 \">-14.515587</span> <span style=\"background-color:#DFFF00 \">7.667125</span> <span style=\"background-color:#9FE2BF \">15.591813</span>"
      ],
      "text/plain": [
       "<IPython.core.display.HTML object>"
      ]
     },
     "metadata": {},
     "output_type": "display_data"
    },
    {
     "data": {
      "text/html": [
       " Riding on the plan 's success , its architect <span style=\"background-color:#DFFF00 \">,</span><span style=\"background-color:#DFFF00 \"> Steve</span><span style=\"background-color:#DFFF00 \"> Biderman</span><span style=\"background-color:#DFFF00 \"> ,</span><span style=\"background-color:#DFFF00 \"> a</span><span style=\"background-color:#DFFF00 \"> former</span><span style=\"background-color:#DFFF00 \"> economy</span><span style=\"background-color:#DFFF00 \"> minister</span><span style=\"background-color:#DFFF00 \"> ,</span> was twice elected President ( in 1994 and 1998 ) , underscoring <span style=\"background-color:#9FE2BF \">voter</span> concern about price stability ."
      ],
      "text/plain": [
       "<IPython.core.display.HTML object>"
      ]
     },
     "metadata": {},
     "output_type": "display_data"
    },
    {
     "data": {
      "text/html": [
       " Sustentado pelo sucesso do plano , seu arquiteto <span style=\"background-color:#DFFF00 \">,</span><span style=\"background-color:#DFFF00 \"> Fernando</span><span style=\"background-color:#DFFF00 \"> Henrique</span><span style=\"background-color:#DFFF00 \"> Cardoso</span><span style=\"background-color:#DFFF00 \"> ,</span><span style=\"background-color:#DFFF00 \"> Ministro</span><span style=\"background-color:#DFFF00 \"> da</span><span style=\"background-color:#DFFF00 \"> Fazenda</span><span style=\"background-color:#DFFF00 \"> na</span><span style=\"background-color:#DFFF00 \"> época</span><span style=\"background-color:#DFFF00 \"> ,</span> foi duas vezes eleito presidente ( em 1994 e 1998 ) , enfatizando a preocupação <span style=\"background-color:#9FE2BF \">do</span><span style=\"background-color:#9FE2BF \"> eleitor</span><span style=\"background-color:#9FE2BF \"> brasileiro</span> em torno da estabilidade de preços ."
      ],
      "text/plain": [
       "<IPython.core.display.HTML object>"
      ]
     },
     "metadata": {},
     "output_type": "display_data"
    },
    {
     "name": "stdout",
     "output_type": "stream",
     "text": [
      "____________________________________327___________________________________________________\n",
      "____________________________________328___________________________________________________\n",
      "____________________________________329___________________________________________________\n",
      "____________________________________330___________________________________________________\n",
      "____________________________________332___________________________________________________\n",
      "____________________________________335___________________________________________________\n",
      "____________________________________336___________________________________________________\n",
      "____________________________________337___________________________________________________\n",
      "\u001b[91m\u001b[1m😤 😠 😡 🤬  DETACHED HALLUCINATION\u001b[0m\n",
      "20.1478687\n"
     ]
    },
    {
     "data": {
      "text/html": [
       " <span style=\"background-color:#e0e0e0 \">-5.4865427</span> <span style=\"background-color:#DFFF00 \">5.7454658</span> <span style=\"background-color:#9FE2BF \">14.661326</span>"
      ],
      "text/plain": [
       "<IPython.core.display.HTML object>"
      ]
     },
     "metadata": {},
     "output_type": "display_data"
    },
    {
     "data": {
      "text/html": [
       " <span style=\"background-color:#DFFF00 \">We</span><span style=\"background-color:#DFFF00 \"> have</span><span style=\"background-color:#DFFF00 \"> a</span><span style=\"background-color:#DFFF00 \"> mission</span><span style=\"background-color:#DFFF00 \"> and</span><span style=\"background-color:#DFFF00 \"> we</span><span style=\"background-color:#DFFF00 \"> have</span><span style=\"background-color:#DFFF00 \"> this</span><span style=\"background-color:#DFFF00 \"> issue</span><span style=\"background-color:#DFFF00 \"> already</span><span style=\"background-color:#DFFF00 \"> resolved</span><span style=\"background-color:#DFFF00 \"> to</span><span style=\"background-color:#DFFF00 \"> ensure</span> that at the least 30 % of those all <span style=\"background-color:#9FE2BF \">personnel</span> hired by the national government are women ."
      ],
      "text/plain": [
       "<IPython.core.display.HTML object>"
      ]
     },
     "metadata": {},
     "output_type": "display_data"
    },
    {
     "data": {
      "text/html": [
       " <span style=\"background-color:#DFFF00 \">Já</span><span style=\"background-color:#DFFF00 \"> decidimos</span><span style=\"background-color:#DFFF00 \"> garantir</span> que pelo menos 30 % de todos os <span style=\"background-color:#9FE2BF \">trabalhadores</span> contratados pelo governo nacional são mulheres ."
      ],
      "text/plain": [
       "<IPython.core.display.HTML object>"
      ]
     },
     "metadata": {},
     "output_type": "display_data"
    },
    {
     "name": "stdout",
     "output_type": "stream",
     "text": [
      "____________________________________338___________________________________________________\n",
      "____________________________________340___________________________________________________\n",
      "____________________________________343___________________________________________________\n",
      "____________________________________345___________________________________________________\n",
      "____________________________________348___________________________________________________\n",
      "____________________________________349___________________________________________________\n",
      "____________________________________351___________________________________________________\n",
      "\u001b[91m\u001b[1m😤 😠 😡 🤬  DETACHED HALLUCINATION\u001b[0m\n",
      "16.194166\n"
     ]
    },
    {
     "data": {
      "text/html": [
       " <span style=\"background-color:#e0e0e0 \">-3.918017</span> <span style=\"background-color:#DFFF00 \">9.160513</span> <span style=\"background-color:#9FE2BF \">12.276149</span>"
      ],
      "text/plain": [
       "<IPython.core.display.HTML object>"
      ]
     },
     "metadata": {},
     "output_type": "display_data"
    },
    {
     "data": {
      "text/html": [
       " Western correspondents are aware of these risks <span style=\"background-color:#9FE2BF \">when</span> they travel abroad to <span style=\"background-color:#DFFF00 \">avoid</span> active war zones ."
      ],
      "text/plain": [
       "<IPython.core.display.HTML object>"
      ]
     },
     "metadata": {},
     "output_type": "display_data"
    },
    {
     "data": {
      "text/html": [
       " Os correspondentes ocidentais estão conscientes destes riscos <span style=\"background-color:#9FE2BF \">,</span><span style=\"background-color:#9FE2BF \"> sempre</span> que viajam para o estrangeiro para <span style=\"background-color:#DFFF00 \">fazer</span><span style=\"background-color:#DFFF00 \"> a</span><span style=\"background-color:#DFFF00 \"> cobertura</span><span style=\"background-color:#DFFF00 \"> de</span> zonas de guerra em actividade ."
      ],
      "text/plain": [
       "<IPython.core.display.HTML object>"
      ]
     },
     "metadata": {},
     "output_type": "display_data"
    },
    {
     "name": "stdout",
     "output_type": "stream",
     "text": [
      "____________________________________353___________________________________________________\n",
      "____________________________________354___________________________________________________\n",
      "____________________________________356___________________________________________________\n",
      "\u001b[91m\u001b[1m😤 😠 😡 🤬  DETACHED HALLUCINATION\u001b[0m\n",
      "5.047949600000001\n"
     ]
    },
    {
     "data": {
      "text/html": [
       " <span style=\"background-color:#e0e0e0 \">6.1358514</span> <span style=\"background-color:#DFFF00 \">11.183801</span>"
      ],
      "text/plain": [
       "<IPython.core.display.HTML object>"
      ]
     },
     "metadata": {},
     "output_type": "display_data"
    },
    {
     "data": {
      "text/html": [
       " In fact , I predict that 2018 will be a <span style=\"background-color:#DFFF00 \">breakout</span> year for many - though not all - Southeast Asian economies , owing to gains in eight key areas ."
      ],
      "text/plain": [
       "<IPython.core.display.HTML object>"
      ]
     },
     "metadata": {},
     "output_type": "display_data"
    },
    {
     "data": {
      "text/html": [
       " Com efeito , prevejo que 2018 seja um ano <span style=\"background-color:#DFFF00 \">determinante</span> para muitas - embora não todas - economias Africanas , devido aos ganhos em oito áreas essenciais ."
      ],
      "text/plain": [
       "<IPython.core.display.HTML object>"
      ]
     },
     "metadata": {},
     "output_type": "display_data"
    },
    {
     "name": "stdout",
     "output_type": "stream",
     "text": [
      "____________________________________357___________________________________________________\n",
      "____________________________________358___________________________________________________\n",
      "____________________________________360___________________________________________________\n",
      "\u001b[91m\u001b[1m😤 😠 😡 🤬  DETACHED HALLUCINATION\u001b[0m\n",
      "27.406613\n"
     ]
    },
    {
     "data": {
      "text/html": [
       " <span style=\"background-color:#e0e0e0 \">-14.600623</span> <span style=\"background-color:#DFFF00 \">3.395444</span> <span style=\"background-color:#9FE2BF \">12.80599</span>"
      ],
      "text/plain": [
       "<IPython.core.display.HTML object>"
      ]
     },
     "metadata": {},
     "output_type": "display_data"
    },
    {
     "data": {
      "text/html": [
       " But the expectations of the emerging middle class - including <span style=\"background-color:#DFFF00 \">efficient</span><span style=\"background-color:#DFFF00 \"> infrastructure</span><span style=\"background-color:#DFFF00 \"> ,</span> and well-paid jobs - have not been <span style=\"background-color:#9FE2BF \">met</span> ."
      ],
      "text/plain": [
       "<IPython.core.display.HTML object>"
      ]
     },
     "metadata": {},
     "output_type": "display_data"
    },
    {
     "data": {
      "text/html": [
       " Mas as expectativas da classe média emergente - incluindo <span style=\"background-color:#DFFF00 \">infra-estruturas</span><span style=\"background-color:#DFFF00 \"> eficazes</span><span style=\"background-color:#DFFF00 \"> ,</span><span style=\"background-color:#DFFF00 \"> serviços</span><span style=\"background-color:#DFFF00 \"> de</span><span style=\"background-color:#DFFF00 \"> educação</span><span style=\"background-color:#DFFF00 \"> e</span><span style=\"background-color:#DFFF00 \"> de</span><span style=\"background-color:#DFFF00 \"> saúde</span><span style=\"background-color:#DFFF00 \"> de</span><span style=\"background-color:#DFFF00 \"> boa</span><span style=\"background-color:#DFFF00 \"> qualidade</span> e empregos bem remunerados - não foram <span style=\"background-color:#9FE2BF \">satisfeitas</span> ."
      ],
      "text/plain": [
       "<IPython.core.display.HTML object>"
      ]
     },
     "metadata": {},
     "output_type": "display_data"
    },
    {
     "name": "stdout",
     "output_type": "stream",
     "text": [
      "____________________________________361___________________________________________________\n",
      "____________________________________362___________________________________________________\n",
      "____________________________________365___________________________________________________\n",
      "____________________________________368___________________________________________________\n",
      "____________________________________371___________________________________________________\n",
      "____________________________________373___________________________________________________\n",
      "____________________________________374___________________________________________________\n",
      "____________________________________376___________________________________________________\n",
      "____________________________________377___________________________________________________\n",
      "____________________________________378___________________________________________________\n",
      "____________________________________379___________________________________________________\n",
      "\u001b[91m\u001b[1m😤 😠 😡 🤬  DETACHED HALLUCINATION\u001b[0m\n",
      "0.0\n"
     ]
    },
    {
     "data": {
      "text/html": [
       " <span style=\"background-color:#e0e0e0 \">1.9891561</span>"
      ],
      "text/plain": [
       "<IPython.core.display.HTML object>"
      ]
     },
     "metadata": {},
     "output_type": "display_data"
    },
    {
     "data": {
      "text/html": [
       " It almost got me here . \" It is too early to say how stakeholders will feel , how long this consensus will last , and what changes it will bring ."
      ],
      "text/plain": [
       "<IPython.core.display.HTML object>"
      ]
     },
     "metadata": {},
     "output_type": "display_data"
    },
    {
     "data": {
      "text/html": [
       " É demasiado cedo para dizer quanto tempo durará este consenso e quais as alterações que ele trará ."
      ],
      "text/plain": [
       "<IPython.core.display.HTML object>"
      ]
     },
     "metadata": {},
     "output_type": "display_data"
    },
    {
     "name": "stdout",
     "output_type": "stream",
     "text": [
      "____________________________________381___________________________________________________\n",
      "____________________________________382___________________________________________________\n",
      "____________________________________383___________________________________________________\n",
      "____________________________________387___________________________________________________\n",
      "____________________________________388___________________________________________________\n",
      "____________________________________393___________________________________________________\n",
      "____________________________________401___________________________________________________\n",
      "____________________________________402___________________________________________________\n",
      "____________________________________403___________________________________________________\n",
      "____________________________________404___________________________________________________\n",
      "____________________________________406___________________________________________________\n",
      "____________________________________408___________________________________________________\n",
      "____________________________________409___________________________________________________\n",
      "____________________________________410___________________________________________________\n",
      "____________________________________411___________________________________________________\n",
      "\u001b[91m\u001b[1m😤 😠 😡 🤬  DETACHED HALLUCINATION\u001b[0m\n",
      "1.4295620000000007\n"
     ]
    },
    {
     "data": {
      "text/html": [
       " <span style=\"background-color:#e0e0e0 \">-12.873965</span> <span style=\"background-color:#DFFF00 \">-11.444403</span>"
      ],
      "text/plain": [
       "<IPython.core.display.HTML object>"
      ]
     },
     "metadata": {},
     "output_type": "display_data"
    },
    {
     "data": {
      "text/html": [
       " These movements have created important changes which will preserve the space for forward-thinking politicians <span style=\"background-color:#DFFF00 \">and</span><span style=\"background-color:#DFFF00 \"> their</span> groups to take action ."
      ],
      "text/plain": [
       "<IPython.core.display.HTML object>"
      ]
     },
     "metadata": {},
     "output_type": "display_data"
    },
    {
     "data": {
      "text/html": [
       " Esses movimentos criaram o espaço necessário para a acção por parte dos políticos com visão de futuro ."
      ],
      "text/plain": [
       "<IPython.core.display.HTML object>"
      ]
     },
     "metadata": {},
     "output_type": "display_data"
    },
    {
     "name": "stdout",
     "output_type": "stream",
     "text": [
      "____________________________________412___________________________________________________\n",
      "____________________________________413___________________________________________________\n",
      "____________________________________414___________________________________________________\n",
      "____________________________________415___________________________________________________\n",
      "____________________________________416___________________________________________________\n",
      "____________________________________417___________________________________________________\n",
      "____________________________________418___________________________________________________\n",
      "____________________________________419___________________________________________________\n",
      "____________________________________421___________________________________________________\n",
      "____________________________________422___________________________________________________\n",
      "____________________________________423___________________________________________________\n",
      "____________________________________424___________________________________________________\n",
      "____________________________________428___________________________________________________\n",
      "____________________________________432___________________________________________________\n",
      "____________________________________434___________________________________________________\n",
      "____________________________________435___________________________________________________\n",
      "____________________________________436___________________________________________________\n",
      "____________________________________437___________________________________________________\n",
      "____________________________________438___________________________________________________\n",
      "\u001b[91m\u001b[1m😤 😠 😡 🤬  DETACHED HALLUCINATION\u001b[0m\n",
      "8.9724556\n"
     ]
    },
    {
     "data": {
      "text/html": [
       " <span style=\"background-color:#e0e0e0 \">2.9687524</span> <span style=\"background-color:#DFFF00 \">11.941208</span>"
      ],
      "text/plain": [
       "<IPython.core.display.HTML object>"
      ]
     },
     "metadata": {},
     "output_type": "display_data"
    },
    {
     "data": {
      "text/html": [
       " Moreover , one can imagine California signing voluntary climate deals with China and other countries in an effort to <span style=\"background-color:#DFFF00 \">remove</span> the culture of oversight and accountability of the Paris accord ."
      ],
      "text/plain": [
       "<IPython.core.display.HTML object>"
      ]
     },
     "metadata": {},
     "output_type": "display_data"
    },
    {
     "data": {
      "text/html": [
       " Além disso , pode-se imaginar a Califórnia a assinar acordos climáticos voluntários com a China e outros países , num esforço para <span style=\"background-color:#DFFF00 \">restaurar</span> a cultura de supervisão e responsabilidade do Acordo de Paris ."
      ],
      "text/plain": [
       "<IPython.core.display.HTML object>"
      ]
     },
     "metadata": {},
     "output_type": "display_data"
    },
    {
     "name": "stdout",
     "output_type": "stream",
     "text": [
      "____________________________________439___________________________________________________\n",
      "____________________________________440___________________________________________________\n",
      "____________________________________441___________________________________________________\n",
      "____________________________________442___________________________________________________\n",
      "____________________________________445___________________________________________________\n",
      "____________________________________449___________________________________________________\n",
      "____________________________________451___________________________________________________\n",
      "____________________________________452___________________________________________________\n",
      "____________________________________453___________________________________________________\n",
      "____________________________________455___________________________________________________\n",
      "____________________________________457___________________________________________________\n",
      "____________________________________459___________________________________________________\n",
      "____________________________________461___________________________________________________\n",
      "____________________________________462___________________________________________________\n",
      "____________________________________463___________________________________________________\n",
      "____________________________________467___________________________________________________\n",
      "____________________________________468___________________________________________________\n",
      "____________________________________472___________________________________________________\n",
      "____________________________________473___________________________________________________\n",
      "____________________________________474___________________________________________________\n",
      "____________________________________477___________________________________________________\n",
      "____________________________________478___________________________________________________\n",
      "\u001b[91m\u001b[1m😤 😠 😡 🤬  DETACHED HALLUCINATION\u001b[0m\n",
      "12.9676753\n"
     ]
    },
    {
     "data": {
      "text/html": [
       " <span style=\"background-color:#e0e0e0 \">-6.869155</span> <span style=\"background-color:#DFFF00 \">6.0985203</span>"
      ],
      "text/plain": [
       "<IPython.core.display.HTML object>"
      ]
     },
     "metadata": {},
     "output_type": "display_data"
    },
    {
     "data": {
      "text/html": [
       " <span style=\"background-color:#DFFF00 \">They</span><span style=\"background-color:#DFFF00 \"> sell</span><span style=\"background-color:#DFFF00 \"> up</span><span style=\"background-color:#DFFF00 \"> their</span><span style=\"background-color:#DFFF00 \"> system</span><span style=\"background-color:#DFFF00 \"> -</span><span style=\"background-color:#DFFF00 \"> a</span><span style=\"background-color:#DFFF00 \"> form</span><span style=\"background-color:#DFFF00 \"> of</span><span style=\"background-color:#DFFF00 \"> \"</span><span style=\"background-color:#DFFF00 \"> illiberal</span><span style=\"background-color:#DFFF00 \"> democracy</span><span style=\"background-color:#DFFF00 \"> \"</span><span style=\"background-color:#DFFF00 \"> which</span><span style=\"background-color:#DFFF00 \"> is</span><span style=\"background-color:#DFFF00 \"> the</span><span style=\"background-color:#DFFF00 \"> idea</span><span style=\"background-color:#DFFF00 \"> of</span><span style=\"background-color:#DFFF00 \"> capitalism</span><span style=\"background-color:#DFFF00 \"> on</span><span style=\"background-color:#DFFF00 \"> the</span><span style=\"background-color:#DFFF00 \"> basis</span><span style=\"background-color:#DFFF00 \"> of</span><span style=\"background-color:#DFFF00 \"> pragmatism</span><span style=\"background-color:#DFFF00 \"> ,</span> not some universal theory of history ."
      ],
      "text/plain": [
       "<IPython.core.display.HTML object>"
      ]
     },
     "metadata": {},
     "output_type": "display_data"
    },
    {
     "data": {
      "text/html": [
       " <span style=\"background-color:#DFFF00 \">Promovem</span><span style=\"background-color:#DFFF00 \"> o</span><span style=\"background-color:#DFFF00 \"> seu</span><span style=\"background-color:#DFFF00 \"> sistema</span><span style=\"background-color:#DFFF00 \"> de</span><span style=\"background-color:#DFFF00 \"> \"</span><span style=\"background-color:#DFFF00 \"> democracia</span><span style=\"background-color:#DFFF00 \"> não-liberal</span><span style=\"background-color:#DFFF00 \"> \"</span><span style=\"background-color:#DFFF00 \"> na</span><span style=\"background-color:#DFFF00 \"> base</span><span style=\"background-color:#DFFF00 \"> do</span><span style=\"background-color:#DFFF00 \"> pragmatismo</span><span style=\"background-color:#DFFF00 \"> ,</span><span style=\"background-color:#DFFF00 \"> em</span> vez de uma qualquer teoria universal da história ."
      ],
      "text/plain": [
       "<IPython.core.display.HTML object>"
      ]
     },
     "metadata": {},
     "output_type": "display_data"
    },
    {
     "name": "stdout",
     "output_type": "stream",
     "text": [
      "____________________________________479___________________________________________________\n",
      "____________________________________481___________________________________________________\n",
      "____________________________________482___________________________________________________\n",
      "____________________________________485___________________________________________________\n",
      "____________________________________486___________________________________________________\n",
      "____________________________________487___________________________________________________\n",
      "____________________________________488___________________________________________________\n",
      "____________________________________490___________________________________________________\n",
      "____________________________________491___________________________________________________\n",
      "____________________________________493___________________________________________________\n",
      "____________________________________494___________________________________________________\n",
      "____________________________________496___________________________________________________\n",
      "____________________________________497___________________________________________________\n",
      "____________________________________498___________________________________________________\n"
     ]
    }
   ],
   "source": [
    "import random\n",
    "from collections import defaultdict\n",
    "random.seed(41)\n",
    "\n",
    "o, g = [],[]\n",
    "count = 0\n",
    "dir_='en_pt_ced'\n",
    "#dir_='en_de_ced'\n",
    "\n",
    "batches_num = 8\n",
    "\n",
    "meta_id, meta_lbl, out_src, out_tgt = f'for_user_study/{dir_}/meta_id', f'for_user_study/{dir_}/meta_lbl', f'for_user_study/{dir_}/src', f'for_user_study/{dir_}/tgt'\n",
    "original_scores, final_scores =[], []\n",
    "\n",
    "bad, explained =0, 0\n",
    "no_highlights_ok = 0\n",
    "halluci, no_halluci= 0, 0\n",
    "original, halluc = defaultdict(list), defaultdict(list)\n",
    "original_neg= defaultdict(list)\n",
    "lbls = open(f'outputs/test.2022.pt-en.label', 'r').readlines()\n",
    "#lbls = open(f'outputs/test.2022.en-de.label', 'r').readlines()\n",
    "diffs = []\n",
    "original_count = 0\n",
    "original_scores_ced = []\n",
    "gpt_count = 0\n",
    "length =[]\n",
    "bad_num, num_diff, total = 0, 0, 0\n",
    "for file_ in ['en_pt_ced_test_missing_paired_phrases_reward_pos']:\n",
    "\n",
    "    with open(f'outputs/{file_}', 'r') as out_:\n",
    "        c = 0\n",
    "        lines = out_.readlines()\n",
    "        pop = len(lines)\n",
    "        sample = random.sample(range(0, len(lines)), len(lines))\n",
    "        #sample = random.sample(range(1, len(lines)), 100)\n",
    "        #print(sample)\n",
    "        for id_, line in enumerate(lines):\n",
    "            \n",
    "            #if id_ not in sample:\n",
    "            #    continue\n",
    "            lbl =lbls[id_].rstrip()\n",
    "            #lbl = 'original'\n",
    "            scores, score_color = [], []\n",
    "                \n",
    "            line = line.split('\\t')\n",
    "            try:\n",
    "                raw_a = np.array([float(x) for x in line[5].split(' ')])\n",
    "                raw_b = np.array([float(x) for x in line[6].split(' ')])\n",
    "            except IndexError:\n",
    "                continue\n",
    "                #print('Problem')\n",
    "            \n",
    "            if len(line[0].split(' ')) < 15 or len(line[0].split(' ')) > 40:\n",
    "                continue\n",
    "            total+=1\n",
    "        \n",
    "            original_score = float(line[4])\n",
    "            revisions = int(line[5])\n",
    "            original_scores.append(original_score)        \n",
    "            previous_score = original_score\n",
    "            expl_a = [0] * len(line[0].split(' '))\n",
    "            expl_b = [0] * len(line[1].split(' '))\n",
    "            if lbl =='BAD' and original_score>10:\n",
    "                continue\n",
    "                    \n",
    "            scores.append(str(original_score))\n",
    "            score_color = '1'\n",
    "                    \n",
    "           \n",
    "            for i in range(revisions):                        \n",
    "                score = line[5 + 3*i + 1]               \n",
    "                #if float(score) - float(previous_score) < 5:\n",
    "                #if float(score) - float(previous_score) < 2 or original_score > 10:\n",
    "                #    break\n",
    "                if i == 0:\n",
    "                    bar = 1\n",
    "                else:\n",
    "                    bar = 1\n",
    "                if float(previous_score) > 10:\n",
    "                    break\n",
    "                if float(score) - float(previous_score) < bar or original_score > 10:\n",
    "                    break\n",
    "                else:\n",
    "                    #lbl='chatGPT_paraphrase'\n",
    "                    if i==0:\n",
    "                        a=1\n",
    "                        #count+=1\n",
    "                expl_a = add_lists(expl_a, [((i +1)*int(a)) for a in line[5 + 3*i + 2].split(' ')])\n",
    "                expl_b = add_lists(expl_b, [((i +1)*int(a)) for a in line[5 + 3*i + 3].split(' ')])\n",
    "    \n",
    "                previous_score = score\n",
    "                scores.append(str(score))\n",
    "                score_color += f' {str(i+2)}'\n",
    "                \n",
    "            final_scores.append(float(scores[-1]))\n",
    "            diff = float(scores[-1]) - float(original_score) \n",
    "\n",
    "                        \n",
    "            s_ = 0\n",
    "            if diff <=0: \n",
    "                if float(scores[0]) < 0:\n",
    "                    expl_a =  [1]*len(line[0])\n",
    "                    expl_b =  [1]*len(line[1])\n",
    "                #continue\n",
    "                \n",
    "            en_num = [int(i) for i in line[0].split() if i.isdigit()]\n",
    "            nen_num = [int(i) for i in line[1].split() if i.isdigit()]\n",
    "\n",
    "            if lbl != 'BAD':\n",
    "                a=1\n",
    "                #continue\n",
    "            else:\n",
    "                bad_num +=1\n",
    "                src_num = re.findall(r'\\d+', line[0])\n",
    "                tgt_num = re.findall(r'\\d+', line[1])\n",
    "                if set(src_num) != set(tgt_num):\n",
    "                    a=1\n",
    "                    continue\n",
    "            num_diff +=1\n",
    "            original_scores_ced.append(float(original_score))\n",
    "            print(f'____________________________________{id_}___________________________________________________')\n",
    "            \n",
    "            if lbl == 'BAD' or lbl=='1': \n",
    "                if ([a.isupper() for a in line[0]].count(True))/len(line[0]) > 0.5 or '� � ' in line[0]:\n",
    "                    halluci+=1\n",
    "                #continue\n",
    "                if set(en_num) != set(nen_num) and sum(expl_a)==0 and sum(expl_b)==0:\n",
    "                    print('Numeric difference!!')\n",
    "                    #print(en_num)\n",
    "                    #print(nen_num)\n",
    "                    explained+=1\n",
    "                    #continue\n",
    "                #print(nen_num)\n",
    "                bad+=1\n",
    "                if sum(expl_a) !=0:\n",
    "                    explained+=1\n",
    "                print(bcolors.FAIL + bcolors.BOLD + \"😤 😠 😡 🤬  DETACHED HALLUCINATION\" + bcolors.ENDC)\n",
    "                print(diff)\n",
    "            else:\n",
    "                if ([a.isupper() for a in line[0]].count(True))/len(line[0]) <= 0.5 or '� � ' not in line[0]:\n",
    "                    no_halluci+=1\n",
    "\n",
    "                if sum(expl_a) + sum(expl_b) ==0:\n",
    "                    no_highlights_ok+=1\n",
    "                continue\n",
    "                print(bcolors.OKBLUE + bcolors.BOLD + \"🤓 OK\" + bcolors.ENDC)\n",
    "            \n",
    "            #print(c)\n",
    "\n",
    "            \n",
    "            display_HTML(' '.join(scores), ' '.join(score_color.split(' ')))            \n",
    "            diffs.append(diff)\n",
    "            count+=1\n",
    "            \n",
    "            _, source_text = display_HTML(line[0], ' '.join([str(x) for x in expl_a]), offset=True)\n",
    "            _, target_text = display_HTML(line[1], ' '.join([str(x) for x in expl_b]), offset=True) \n",
    "            \n",
    "            \n",
    "            if lbl == 'original':\n",
    "                original_count +=1\n",
    "            else:\n",
    "                gpt_count += 1\n",
    "            if original_count > 30 and lbl=='original':\n",
    "                continue\n",
    "                \n",
    "            c+=1\n",
    "            \n",
    "            o.append(lbl)\n",
    "            \n",
    "            if lbl != 'BAD':\n",
    "                if original_score > 0:\n",
    "                    original[id_].append([source_text, target_text])\n",
    "                else:\n",
    "                    original_neg[id_].append([source_text, target_text])\n",
    "            else:\n",
    "                halluc[id_].append([source_text, target_text])\n",
    "            length.append(len(line[0].split(' ')))\n",
    "\n",
    "\n",
    "            continue\n",
    "            meta_id_file = open(f'{meta_id}_{c}.txt', 'w')\n",
    "            meta_lbl_file = open(f'{meta_lbl}_{c}.txt', 'w')\n",
    "            out_src_file = open(f'{out_src}_{c}.txt', 'w')\n",
    "            out_tgt_file = open(f'{out_tgt}_{c}.txt', 'w')\n",
    "\n",
    "            meta_id_file.write(f'{id_}')\n",
    "            meta_lbl_file.write(f'{lbl}')\n",
    "            out_src_file.write(f'{source_text}')\n",
    "            out_tgt_file.write(f'{target_text}')\n",
    "\n",
    "            meta_id_file.close()\n",
    "            meta_lbl_file.close()\n",
    "            out_src_file.close()\n",
    "            out_tgt_file.close()\n",
    "        c"
   ]
  },
  {
   "cell_type": "code",
   "execution_count": 21,
   "id": "d1e59fcf",
   "metadata": {},
   "outputs": [
    {
     "data": {
      "text/plain": [
       "32"
      ]
     },
     "execution_count": 21,
     "metadata": {},
     "output_type": "execute_result"
    }
   ],
   "source": [
    "count"
   ]
  },
  {
   "cell_type": "code",
   "execution_count": 7,
   "id": "e1e9fed1",
   "metadata": {},
   "outputs": [
    {
     "name": "stdout",
     "output_type": "stream",
     "text": [
      "\n",
      "------\n",
      "\n",
      "------\n",
      "\n",
      "------\n",
      "\n",
      "------\n",
      "\n",
      "------\n",
      "\n",
      "------\n",
      "\n",
      "------\n",
      "\n",
      "------\n"
     ]
    }
   ],
   "source": [
    "import os\n",
    "shift_o, shift_h, shift_n = 0, 0, 0\n",
    "for i in range(batches_num):\n",
    "    c = 0\n",
    "    print('\\n------')\n",
    "    dir_=f'en_pt_ced_{i}'\n",
    "    os.makedirs(f'for_user_study/{dir_}', exist_ok=True)\n",
    "    meta_id, meta_lbl, out_src, out_tgt = f'for_user_study/{dir_}/meta_id', f'for_user_study/{dir_}/meta_lbl', f'for_user_study/{dir_}/src', f'for_user_study/{dir_}/tgt'\n",
    "\n",
    "    \n",
    "    original_items = original.items()\n",
    "    orig_chun = list(original_items)[shift_o:11 + shift_o]\n",
    "    \n",
    "    original_neg_items = original_neg.items()\n",
    "    orig_neg_chun = list(original_neg_items)[shift_o:7 + shift_o]\n",
    "    \n",
    "    halluc_items = halluc.items()\n",
    "    hal_chun = list(halluc_items)[shift_h : 7 + shift_h]\n",
    "    \n",
    "    #print(hal_chun)\n",
    "    #print('\\n')\n",
    "    \n",
    "    shift_o += 11\n",
    "    shift_n += 7\n",
    "    shift_h += 7\n",
    "    #continue\n",
    "    \n",
    "    merged_ = []\n",
    "    for item in hal_chun:\n",
    "        id_, src, tgt = item[0], item[1][0][0], item[1][0][1]\n",
    "        merged_.append(['ced', id_, src, tgt])\n",
    "        \n",
    "        \n",
    "    for item in orig_neg_chun:\n",
    "        id_, src, tgt = item[0], item[1][0][0], item[1][0][1]\n",
    "        merged_.append(['original_neg', id_, src, tgt])\n",
    "    \n",
    "    for item in orig_chun:\n",
    "        id_, src, tgt = item[0], item[1][0][0], item[1][0][1]\n",
    "        merged_.append(['original', id_, src, tgt])    \n",
    "        \n",
    "    #print(merged_)\n",
    "    \n",
    "        \n",
    "    for c, i in enumerate(merged_):\n",
    "        c+=1\n",
    "        id_, lbl, source_text, target_text = i[1], i[0], i[3], i[2]\n",
    "     \n",
    "        meta_id_file = open(f'{meta_id}_{c}.txt', 'w')\n",
    "        meta_lbl_file = open(f'{meta_lbl}_{c}.txt', 'w')\n",
    "        out_src_file = open(f'{out_src}_{c}.txt', 'w')\n",
    "        out_tgt_file = open(f'{out_tgt}_{c}.txt', 'w')\n",
    "\n",
    "        meta_id_file.write(f'{id_}')\n",
    "        meta_lbl_file.write(f'{lbl}')\n",
    "        out_src_file.write(f'{source_text}')\n",
    "        out_tgt_file.write(f'{target_text}')\n",
    "\n",
    "        meta_id_file.close()\n",
    "        meta_lbl_file.close()\n",
    "        out_src_file.close()\n",
    "        out_tgt_file.close()\n",
    "    "
   ]
  },
  {
   "cell_type": "code",
   "execution_count": 10,
   "id": "fd19f9d1",
   "metadata": {},
   "outputs": [
    {
     "data": {
      "text/plain": [
       "[['ced',\n",
       "  394,\n",
       "  ' It went unnoticed , because there <h-l-2>has</h-l-2> been no European medical research on chimpanzees <h-l-1>since the 1930s</h-l-1> .',\n",
       "  ' Passou desapercebida , porque os chimpanzés não <h-l-2>são utilizados</h-l-2> na investigação médica Europeia <h-l-1>desde 2003</h-l-1> .'],\n",
       " ['ced',\n",
       "  411,\n",
       "  ' These movements have created important changes which will preserve the space for forward-thinking politicians <h-l-1>and their</h-l-1> groups to take action .',\n",
       "  ' Esses movimentos criaram o espaço necessário para a acção por parte dos políticos com visão de futuro .'],\n",
       " ['ced',\n",
       "  420,\n",
       "  \" It would have been a mistake , for example , to destroy America 's excess capacity in fiber optics , from which US firms gained enormously in the 1980s .\",\n",
       "  ' Teria sido um erro , por exemplo , destruir a capacidade excessiva da América em fibra óptica , com a qual as empresas dos EUA ganharam enormemente na década de 1990 .'],\n",
       " ['ced',\n",
       "  438,\n",
       "  ' Moreover , one can imagine California signing voluntary climate deals with China and other countries in an effort to <h-l-1>remove</h-l-1> the culture of oversight and accountability of the Paris accord .',\n",
       "  ' Além disso , pode-se imaginar a Califórnia a assinar acordos climáticos voluntários com a China e outros países , num esforço para <h-l-1>restaurar</h-l-1> a cultura de supervisão e responsabilidade do Acordo de Paris .'],\n",
       " ['ced',\n",
       "  443,\n",
       "  \" When the <h-l-1>2005</h-l-1> financial crisis erupted , policymakers tried to apply Friedman 's proposed solutions to the Great Depression .\",\n",
       "  ' Quando a crise financeira de <h-l-1>2008</h-l-1> eclodiu , os políticos tentaram aplicar as soluções propostas por Friedman para a Grande Depressão .'],\n",
       " ['ced',\n",
       "  448,\n",
       "  \" Legislation provides for mandatory filtering of <h-l-1>pornography and other sexually transmitted content , and many Web sites have been blocked for reasons that range from facilitating</h-l-1> the use of drugs or stimulants to offenses under the Law on Crimes against Atatürk ( the founder of the modern Turkish state and Turkey 's national hero ) .\",\n",
       "  ' A legislação prevê a filtragem obrigatória de <h-l-1>conteúdos e muitos sites da Internet foram bloqueados por razões que vão desde o facilitarem</h-l-1> o uso de drogas ou estimulantes até a crimes previstos na Lei de Crimes contra a Atatürk ( o fundador do Estado turco moderno e herói nacional da Turquia ) .'],\n",
       " ['ced',\n",
       "  454,\n",
       "  ' The election this year , in which close to the <h-l-1>99.99</h-l-1> % of eligible voters turned out , showed how our religious democracy is maturing .',\n",
       "  ' A eleição deste ano , em que perto dos <h-l-1>75</h-l-1> % dos eleitores inscritos participaram , mostrou como a nossa democracia religiosa está a amadurecer .'],\n",
       " ['original_neg',\n",
       "  416,\n",
       "  ' Brexit <h-l-1>would still take at least</h-l-1> five years <h-l-2>to complete ,</h-l-2> during which time new elections would take place .',\n",
       "  ' O Brexit <h-l-1>demoraria pelo menos</h-l-1> cinco anos <h-l-2>até terminar , período</h-l-2> durante o qual se realizariam novas eleições .'],\n",
       " ['original_neg',\n",
       "  418,\n",
       "  ' The fact is that Brexit is <h-l-1>a lose-lose proposition ,</h-l-1> harmful both to Britain and the EU .',\n",
       "  ' A verdade é que o Brexit é <h-l-1>uma situação em que todos perdem , sendo</h-l-1> prejudicial tanto para a Grã-Bretanha como para a UE .'],\n",
       " ['original_neg',\n",
       "  419,\n",
       "  \" Today , however , the question is whether Germany is ready and willing to provide leadership in the conduct of the EU 's affairs - and , <h-l-1>if so , to what end .</h-l-1>\",\n",
       "  ' Hoje , no entanto , a questão é saber se a Alemanha está pronta e disposta a fornecer liderança na condução dos assuntos da União Europeia - e , <h-l-1>em caso afirmativo , com que finalidade .</h-l-1>'],\n",
       " ['original_neg',\n",
       "  423,\n",
       "  ' Moreover , the UN report clearly shows that <h-l-2>, throughout</h-l-2> the developed world , private investment did not grow as <h-l-1>one might have expected ,</h-l-1> given ultra-low interest rates .',\n",
       "  ' Além disso , o relatório da ONU demonstra claramente que o investimento privado no mundo desenvolvido não cresceu como <h-l-1>se esperava ,</h-l-1> dadas as taxas de juro ultrabaixas .'],\n",
       " ['original_neg',\n",
       "  424,\n",
       "  \" In 2015 <h-l-2>,</h-l-2> however , with the primary surplus achieved , Greece 's creditors refused <h-l-1>even to discuss</h-l-1> debt relief .\",\n",
       "  ' Em 2015 <h-l-2>, no</h-l-2> entanto , perante a consecução do excedente primário , os credores da Grécia recusaram-se <h-l-1>a debater</h-l-1> a redução da dívida .'],\n",
       " ['original_neg',\n",
       "  425,\n",
       "  ' President François Hollande has announced measures that <h-l-1>, if implemented , would amount to</h-l-1> a peaceful revolution : a major reconciliation with the industrial and business world that even his more energetic predecessor , Nicolas Sarkozy , dared not attempt , despite - or precisely because of - his more conservative inclinations .',\n",
       "  ' O Presidente François Hollande anunciou medidas que <h-l-1>, se implementadas , equivaleriam a</h-l-1> uma revolução pacífica : a grande reconciliação com o mundo industrial e empresarial , que até mesmo o seu predecessor mais enérgico , Nicolas Sarkozy , não se atreveu a tentar , apesar - ou precisamente por causa de - das suas inclinações mais conservadoras .'],\n",
       " ['original_neg',\n",
       "  426,\n",
       "  \" A recommendation last year by the World Health Organization 's Strategic Advisory Group of Experts on Immunization promises <h-l-1>to boost vaccines ' cost-effectiveness further , by calling</h-l-1> for just two doses of <h-l-2>the HPV</h-l-2> vaccine , rather than the three doses previously thought to be required .\",\n",
       "  ' Uma recomendação feita ano passado pelo Grupo Consultivo Estratégico de Especialistas em Imunização ( SAGE ) da Organização Mundial de Saúde promete <h-l-1>aumentar a relação custo-eficácia de vacinas adicionais , reduzindo</h-l-1> a apenas duas doses da vacina <h-l-2>contra HPV</h-l-2> , ao invés de três doses anteriormente exigidas .'],\n",
       " ['original',\n",
       "  160,\n",
       "  \" Likewise <h-l-2>, the fear , fueled entirely</h-l-2> by the European Union 's dysfunctional politics , that eurozone governments might <h-l-1>default</h-l-1> - thereby causing <h-l-3>the</h-l-3> same dire consequences - has begun to dissipate .\",\n",
       "  ' Da mesma forma <h-l-2>, o medo , alimentado inteiramente</h-l-2> pela política disfuncional da União Europeia , de que os governos da zona euro pudessem <h-l-1>faltar aos compromissos</h-l-1> - causando , desse <h-l-3>modo , as</h-l-3> mesmas consequências terríveis - começou a dissipar-se .'],\n",
       " ['original',\n",
       "  162,\n",
       "  \" That is why today 's emerging markets are so much less productive than rich countries were in 1960 , even though the latter were less urban , had higher birth rates and less formal schooling , and used much older technologies .\",\n",
       "  ' É por isso que os mercados actualmente emergentes são tão menos produtivos do que eram os países ricos em 1960 , mesmo que estes últimos tenham sido menos urbanos , tido maiores taxas de fecundidade e menos escolaridade formal , e tenham usado tecnologias muito mais antigas .'],\n",
       " ['original',\n",
       "  167,\n",
       "  \" Finally , the International Import Expo will complement China 's other measures to liberalize its market , including lower entry barriers for foreign financial firms .\",\n",
       "  ' Finalmente , a International Import Expo complementará outras medidas da China para a liberalização do seu mercado , nomeadamente a redução das barreiras à entrada para empresas financeiras estrangeiras .'],\n",
       " ['original',\n",
       "  168,\n",
       "  ' PRINCETON - Imagine a two-state solution in Israel and Palestine in which Palestinians would have the right of <h-l-1>return ;</h-l-1> Israelis could settle wherever they could purchase land in the West Bank ; and Jerusalem need not be divided .',\n",
       "  ' PRINCETON - Imaginemos uma solução a dois estados em Israel e Palestina em que os Palestinianos tivessem o direito de <h-l-1>regresso ;</h-l-1> os Israelitas pudessem estabelecer-se em qualquer sítio na Cisjordânia onde pudessem adquirir terra ; e Jerusalém não precisasse de ser dividida .'],\n",
       " ['original',\n",
       "  169,\n",
       "  \" Finally , GDP-indexed bonds and other tools for dealing sensibly with unsustainable debt could be applied exclusively to member states ' debt not covered by the program and in line with international best practices for sovereign-debt management .\",\n",
       "  ' Finalmente , as obrigações indexadas ao PIB e outras ferramentas utilizadas no tratamento cauteloso de dívidas insustentáveis poderiam ser aplicadas exclusivamente a dívidas dos Estados-Membros não cobertas pelo programa e em sintonia com as boas práticas internacionais para a administração da dívida soberana .'],\n",
       " ['original',\n",
       "  170,\n",
       "  ' NEW YORK - US President Donald Trump is about to make a policy mistake .',\n",
       "  ' NOVA IORQUE - O Presidente dos EUA , Donald Trump , está prestes a cometer um erro político .'],\n",
       " ['original',\n",
       "  171,\n",
       "  \" Abedi 's barbaric act , by contrast , killed at least 22 people , many of them children .\",\n",
       "  ' O acto bárbaro de Abedi , pelo contrário , matou pelo menos 22 pessoas , muitas das quais crianças .'],\n",
       " ['original',\n",
       "  172,\n",
       "  ' If so , we can only hope that this crisis will not have come too late .',\n",
       "  ' Se assim for , apenas podemos esperar que esta crise não tenha vindo tarde demais .'],\n",
       " ['original',\n",
       "  173,\n",
       "  \" The US authorities have said nothing about Al Jazeera journalist Mahmoud Hussein 's nearly two-year detention in Egypt .\",\n",
       "  ' As autoridades dos EUA não disseram nada sobre a detenção durante quase dois anos , no Egipto , do jornalista da Al Jazeera , Mahmoud Hussein .'],\n",
       " ['original',\n",
       "  175,\n",
       "  \" The World Bank 's traditional instruments have been ( and still are ) low-interest loans , interest-free credits , and grants .\",\n",
       "  ' Os instrumentos tradicionais do Banco Mundial foram ( e ainda são ) os empréstimos com juros baixos , os créditos <h-l-1>sem juros</h-l-1> e as concessões .'],\n",
       " ['original',\n",
       "  177,\n",
       "  ' The African Union has declared 2014 the Year of Agriculture and Food Security in Africa .',\n",
       "  ' A União Africana declarou 2014 como o Ano da Agricultura e Segurança Alimentar em África .']]"
      ]
     },
     "execution_count": 10,
     "metadata": {},
     "output_type": "execute_result"
    }
   ],
   "source": [
    "merged_"
   ]
  },
  {
   "cell_type": "code",
   "execution_count": 7,
   "id": "a4d63854",
   "metadata": {},
   "outputs": [
    {
     "data": {
      "text/plain": [
       "[]"
      ]
     },
     "execution_count": 7,
     "metadata": {},
     "output_type": "execute_result"
    }
   ],
   "source": [
    "hal_chun"
   ]
  },
  {
   "cell_type": "code",
   "execution_count": 5,
   "id": "4d91e3bf",
   "metadata": {},
   "outputs": [
    {
     "data": {
      "text/plain": [
       "42"
      ]
     },
     "execution_count": 5,
     "metadata": {},
     "output_type": "execute_result"
    }
   ],
   "source": [
    "7 + 7 + 11"
   ]
  },
  {
   "cell_type": "code",
   "execution_count": 19,
   "id": "7471073e",
   "metadata": {},
   "outputs": [
    {
     "data": {
      "text/plain": [
       "0.4"
      ]
     },
     "execution_count": 19,
     "metadata": {},
     "output_type": "execute_result"
    }
   ],
   "source": [
    "10/25"
   ]
  },
  {
   "cell_type": "code",
   "execution_count": 20,
   "id": "476260a5",
   "metadata": {},
   "outputs": [
    {
     "data": {
      "text/plain": [
       "150"
      ]
     },
     "execution_count": 20,
     "metadata": {},
     "output_type": "execute_result"
    }
   ],
   "source": [
    "6*25 "
   ]
  },
  {
   "cell_type": "code",
   "execution_count": null,
   "id": "1d383c7c",
   "metadata": {},
   "outputs": [],
   "source": []
  }
 ],
 "metadata": {
  "kernelspec": {
   "display_name": "Python 3",
   "language": "python",
   "name": "python3"
  },
  "language_info": {
   "codemirror_mode": {
    "name": "ipython",
    "version": 3
   },
   "file_extension": ".py",
   "mimetype": "text/x-python",
   "name": "python",
   "nbconvert_exporter": "python",
   "pygments_lexer": "ipython3",
   "version": "3.6.12"
  }
 },
 "nbformat": 4,
 "nbformat_minor": 5
}
