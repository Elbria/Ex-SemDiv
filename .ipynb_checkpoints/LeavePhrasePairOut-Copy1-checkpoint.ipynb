{
 "cells": [
  {
   "cell_type": "code",
   "execution_count": 1,
   "id": "af9ee9e0",
   "metadata": {
    "scrolled": true
   },
   "outputs": [],
   "source": [
    "import sys\n",
    "\n",
    "sys.path.append('./divergentmBERT')\n",
    "import pandas as pd\n",
    "import numpy as np\n",
    "import shap\n",
    "import csv\n",
    "from string import punctuation\n",
    "import nltk\n",
    "from nltk.translate.phrase_based import phrase_extraction\n",
    "import re\n",
    "import string\n",
    "import os\n",
    "from collections import defaultdict\n",
    "from IPython.display import display, HTML\n",
    "import argparse\n",
    "from divergentscorer import DivergentmBERTScorer\n",
    "from sklearn.metrics import roc_auc_score, average_precision_score, precision_score, recall_score\n",
    "import torch\n",
    "import string\n",
    "punctuation_types = [punc for punc in string.punctuation]\n",
    "excluded_types = punctuation_types + ['-LRB-', '-RRB-', 'DT', 'IN', '``', 'HYPH', 'CC', 'TO', 'PUNCT', 'DET', 'CCONJ', 'ADP', 'PUNC' ]\n",
    "\n",
    "\n",
    "device = torch.device(\"cuda\" if torch.cuda.is_available() and not True else \"cpu\")\n",
    "n_gpu = torch.cuda.device_count()\n",
    "device = device\n",
    "refresd_annotations = 'annotations/sd.ali.tsv'\n",
    "refresd_annotations = 'annotations/sd_inter'"
   ]
  },
  {
   "cell_type": "code",
   "execution_count": 2,
   "id": "c4bc6160",
   "metadata": {
    "scrolled": true
   },
   "outputs": [],
   "source": [
    "class DivergentmBERT():\n",
    "    def __init__(self, model, tokenizer, do_lower_case, device):\n",
    "        self.scorer = DivergentmBERTScorer(model, tokenizer, do_lower_case, device)\n",
    "\n",
    "    def __call__(self, text_a, text_b):\n",
    "        return self.scorer.compute_divergentscore(text_a, text_b)"
   ]
  },
  {
   "cell_type": "code",
   "execution_count": 3,
   "id": "635dc495",
   "metadata": {
    "scrolled": true
   },
   "outputs": [],
   "source": [
    "model = DivergentmBERT(model='/fs/clip-divergences/xling-SemDiv/trained_bert/from_WikiMatrix.en-fr.tsv.filtered_sample_50000.moses.seed/contrastive_divergence_ranking/rdpg',\n",
    "                                  tokenizer='bert-base-multilingual-cased',\n",
    "                                  do_lower_case=False,\n",
    "                                  device=device)"
   ]
  },
  {
   "cell_type": "code",
   "execution_count": 4,
   "id": "0ea89de7",
   "metadata": {
    "scrolled": true
   },
   "outputs": [],
   "source": [
    "def ali_to_dict(alis):\n",
    "    en2fr = defaultdict(list)\n",
    "    alis = alis.split('), (')\n",
    "    for ali_ in alis:\n",
    "        ali_ = re.sub(r'[^\\w\\s]', '', ali_).split(' ')\n",
    "        en2fr[ali_[0]].append(ali_[1])\n",
    "    return en2fr"
   ]
  },
  {
   "cell_type": "code",
   "execution_count": 5,
   "id": "928652fa",
   "metadata": {
    "scrolled": true
   },
   "outputs": [],
   "source": [
    "def ali_to_tuple(alis):\n",
    "    en2fr = []\n",
    "    alis = alis.split('), (')\n",
    "    for ali_ in alis:\n",
    "        ali_ = re.sub(r'[^\\w\\s]', '', ali_).split(' ')\n",
    "        en2fr.append((int(ali_[0]), int(ali_[1])))\n",
    "    return en2fr"
   ]
  },
  {
   "cell_type": "code",
   "execution_count": 6,
   "id": "52fa4342",
   "metadata": {
    "scrolled": true
   },
   "outputs": [],
   "source": [
    "div_to_color = {'3': '#FF7F50',\n",
    "                '2': '#FFBF00', \n",
    "                '1': '#DFFF00',\n",
    "                '0': '#FFFFFF'}\n",
    "\n",
    "def color_html(label):\n",
    "    return f'<span style=\"background-color:{div_to_color[label]} \">'\n",
    "\n",
    "def display_HTML(text, div):\n",
    "    displayed_text = ''\n",
    "    previous = 'eq'\n",
    "    mark_end = '</span>'\n",
    "    for token, label in zip(text.split(' '), div.split(' ')):\n",
    "        mark = color_html(label)\n",
    "        if label == '0':\n",
    "            displayed_text += f' {token}'\n",
    "            previous = 'eq'\n",
    "        else:\n",
    "            if previous == 'div':\n",
    "                displayed_text += f'{mark} {token}{mark_end}'\n",
    "            else:\n",
    "                displayed_text += f' {mark}{token}{mark_end}'\n",
    "            previous = 'div'\n",
    "        \n",
    "    return display(HTML(displayed_text))"
   ]
  },
  {
   "cell_type": "code",
   "execution_count": 7,
   "id": "ad29568d",
   "metadata": {
    "scrolled": true
   },
   "outputs": [],
   "source": [
    "def mask_pair(f_text, s_text, f_ind, s_inds):\n",
    "    f_text = f_text.split(' ')\n",
    "    s_text = s_text.split(' ')\n",
    "    f_text[int(f_ind)] = '[MASK]'\n",
    "    for s_ind in s_inds:\n",
    "        s_text[int(s_ind)] = '[MASK]'\n",
    "    return ' '.join(f_text), ' '.join(s_text)"
   ]
  },
  {
   "cell_type": "code",
   "execution_count": 8,
   "id": "59b65c08",
   "metadata": {
    "scrolled": true
   },
   "outputs": [],
   "source": [
    "def mask_unaligned(text, masked_ind):\n",
    "    text = text.split(' ')\n",
    "    new_text = []\n",
    "    span = []\n",
    "    for id_,token in enumerate(text):\n",
    "        if id_ not in masked_ind:\n",
    "            new_text.append(token)\n",
    "        else:\n",
    "            span.append(token)\n",
    "\n",
    "    return ' '.join(new_text), span"
   ]
  },
  {
   "cell_type": "code",
   "execution_count": 9,
   "id": "8357cba4",
   "metadata": {
    "scrolled": true
   },
   "outputs": [],
   "source": [
    "def unaligned_span(alignment_list, text_len):\n",
    "    alignment_list = [int(x) for x in alignment_list]\n",
    "    spans, subspans= [],[]\n",
    "    unaligned_flag, previous_flag = False, False\n",
    "    for i in range(text_len):\n",
    "        #print(f'{i} {subspans}')\n",
    "        if i not in alignment_list:\n",
    "            subspans.append(i)\n",
    "        else:      \n",
    "            if len(subspans):\n",
    "                spans.append(subspans)\n",
    "            subspans = []\n",
    "    return spans\n",
    "\n",
    "def flatten(l):\n",
    "    return [item for sublist in l for item in sublist]"
   ]
  },
  {
   "cell_type": "code",
   "execution_count": 10,
   "id": "09399754",
   "metadata": {
    "scrolled": true
   },
   "outputs": [],
   "source": [
    "def mask_out_phrase(text, phrase, mask_flag=False):\n",
    "    \"\"\"Masks out a phrase from text\"\"\"\n",
    "    if not mask_flag:\n",
    "        mask = '' * len(phrase.split(' '))\n",
    "    else:\n",
    "        mask = ' [MASK] ' * len(phrase.split(' '))\n",
    "    try:\n",
    "        new_text = f'{text[:text.index(phrase)]}{mask}{text[text.index(phrase)+len(phrase):]}'\n",
    "        new_text = re.sub(' +', ' ', new_text).rstrip().lstrip()\n",
    "        new_text = ''.join(new_text[:1].upper() + new_text[1:])\n",
    "        if new_text:\n",
    "            if new_text[-1] in string.punctuation:\n",
    "                if new_text[-1] == ',':\n",
    "                    new_text = ''.join(new_text[:-1] + '.')\n",
    "                return new_text\n",
    "            new_text = f'{new_text} .'\n",
    "        return new_text\n",
    "    except ValueError:\n",
    "        return None\n",
    "\n",
    "def punctuation_spans(text):\n",
    "    punctuation_flag = True\n",
    "    for t in text:\n",
    "        if t not in punctuation and t != ' ':\n",
    "            punctuation_flag = False\n",
    "    return punctuation_flag\n",
    "\n",
    "def phrase_rationale(phrasal_annotations, en_text):\n",
    "    max_change = -20\n",
    "    for ann in phrasal_annotations:\n",
    "        if ann[1][0][0] > max_change and ann[0][2] != en_text:\n",
    "            max_ann = ann\n",
    "            max_change = ann[1][0][0]\n",
    "    return max_ann[0][0], max_ann[0][1], max_ann[1][0][0]\n",
    "\n",
    "def index_to_div_labels(ind, len_):\n",
    "    if not ind:\n",
    "        return ' '.join(['0']*len_)\n",
    "    labels = []\n",
    "    for i in range(len_):\n",
    "        if i >= ind[0] and i < ind[1]:\n",
    "            labels.append('1')\n",
    "        else:\n",
    "            labels.append('0')\n",
    "    return ' '.join(labels)"
   ]
  },
  {
   "cell_type": "code",
   "execution_count": 20,
   "id": "e82634e6",
   "metadata": {
    "scrolled": true
   },
   "outputs": [],
   "source": [
    "def index_to_text(ind, text):\n",
    "    if not ind:\n",
    "        return ' '.join(text)\n",
    "    tokens = []\n",
    "    for i, token in enumerate(text):\n",
    "        if i >= ind[0] and i < ind[1]:\n",
    "            continue\n",
    "        else:\n",
    "            tokens.append(token)\n",
    "    return ' '.join(tokens)\n",
    "\n",
    "\n",
    "def phrase_rationale(phrasal_annotations, en_text):\n",
    "    max_change = -1000000\n",
    "    sorted_annotations = defaultdict()\n",
    "    for ann in phrasal_annotations:\n",
    "        if ann[1][0][0] > max_change and ann[0][2] != en_text:\n",
    "            max_ann = ann\n",
    "            max_change = ann[1][0][0]\n",
    "    return max_ann[0][0], max_ann[0][1], max_ann[2][0][0]\n",
    "\n",
    "def Sort(sub_li):\n",
    "  \n",
    "    # reverse = None (Sorts in Ascending order)\n",
    "    # key is set to sort using second element of \n",
    "    # sublist lambda has been used\n",
    "    sub_li.sort(key = lambda x: x[1])\n",
    "    return sub_li\n",
    "\n",
    "\n",
    "def beam_phrase_rationale(phrasal_annotations):\n",
    "    sorted_phrase = (phrasal_annotations)\n",
    "    return max_ann[0][0], max_ann[0][1], max_ann[1][0][0]\n",
    "\n",
    "def strip_punctuation(text):\n",
    "    stripped_text = text.translate(str.maketrans('', '', string.punctuation)).split(' ')\n",
    "    tokens = []\n",
    "    for token in stripped_text:\n",
    "        if token != '':\n",
    "            tokens.append(token)\n",
    "    return  ' '.join(tokens)\n",
    "\n",
    "\n",
    "def get_unaligned_phrases(aligned_indices, text):\n",
    "    unaligned_phrase, unaligned_ind,  unaligned_phrases = [], [], []\n",
    "    for i in range(len(text.split(' '))):\n",
    "        if i not in aligned_indices:\n",
    "            unaligned_phrase.append(text.split(' ')[i])\n",
    "            unaligned_ind.append(i)\n",
    "        else:\n",
    "            if unaligned_phrase and len(unaligned_phrase) > 1:\n",
    "                #print(f'({unaligned_ind[0]}, {unaligned_ind[-1]})')\n",
    "                unaligned_phrases.append([(unaligned_ind[0], unaligned_ind[-1] +1), ' '.join(unaligned_phrase)])\n",
    "            unaligned_phrase = [] \n",
    "            unaligned_ind = []\n",
    "    return unaligned_phrases\n",
    "\n",
    "\n",
    "def filtered_phrases(phrases, en_len, fr_len):\n",
    "    filtered_phrases_ =  set()\n",
    "    for phrase in phrases:\n",
    "        if len(phrase[2].split(' ')) > en_len or len(phrase[2].split(' ')) > fr_len:\n",
    "            continue\n",
    "        filtered_phrases_.add(phrase)\n",
    "    return filtered_phrases_\n",
    "\n",
    "def filtered_ngrams(phrases, max_n_gram):\n",
    "    filtered_phrases_ =  set()\n",
    "    for phrase in phrases:\n",
    "        if len(phrase[2].split(' ')) >= max_n_gram and len(phrase[3].split(' ')) >= max_n_gram:\n",
    "            continue\n",
    "        filtered_phrases_.add(phrase)\n",
    "    return filtered_phrases_\n",
    "\n",
    "def extract_syntactic_phrases(text, mappings):\n",
    "    phrases = []\n",
    "    mappings = mappings.split(' ')\n",
    "    for mapping in mappings:\n",
    "        mapping = mapping.split(':')\n",
    "        phrases.append(text[int(mapping[0]):int(mapping[1])])\n",
    "    return phrases\n",
    "\n",
    "def filter_syntactic_phrases(entire_set, syntactic_list):\n",
    "    phrases = set()\n",
    "    for element in entire_set:\n",
    "        if element[2] not in syntactic_list:\n",
    "            continue\n",
    "        phrases.add(element)\n",
    "    return phrases\n",
    "\n",
    "def filter_pos_phrases(entire_set, en_list, fr_list):\n",
    "    phrases = set()\n",
    "    for element in entire_set:\n",
    "        if element[2] in en_list and element[3] in fr_list:\n",
    "            print(element[2])\n",
    "            continue\n",
    "        if element[2] == element[3]:\n",
    "            continue\n",
    "        phrases.add(element)\n",
    "    return phrases  \n",
    "\n",
    "def extract_invalid_pos(en, en_pos, fr, fr_pos):\n",
    "    en_exclude, fr_exclude = [], []\n",
    "    for e, p in zip(en.split(' '), en_pos.split(' ')):\n",
    "        if p in excluded_types:\n",
    "            en_exclude.append(e)\n",
    "            \n",
    "    for e, p in zip(fr.split(' '), fr_pos.split(' ')):\n",
    "        if p in excluded_types:\n",
    "            fr_exclude.append(e)\n",
    "    \n",
    "    return set(en_exclude), set(fr_exclude)"
   ]
  },
  {
   "cell_type": "code",
   "execution_count": 21,
   "id": "d3088c3a",
   "metadata": {
    "scrolled": true
   },
   "outputs": [],
   "source": [
    "verbose = False\n",
    "filter_ngrams_flag, filter_leng = False, False\n",
    "strip_punctuation_flag = False\n",
    "paired_phrases, missing_phrases = True, True\n",
    "parse, pos = False, True\n",
    "mask_flag=False\n",
    "penalty = True"
   ]
  },
  {
   "cell_type": "code",
   "execution_count": null,
   "id": "2def8eee",
   "metadata": {
    "scrolled": false
   },
   "outputs": [
    {
     "name": "stdout",
     "output_type": "stream",
     "text": [
      "JJ NN PUNC RB VBN IN JJ NN PUNC VBZ WRB NN VBZ VBN IN RB VBN NNS CC NNS JJ IN NNS PUNC\n",
      "Rational-legal authority : Also known as bureaucratic authority , is when power is legitimized by legally enacted rules and regulations such as governments .\n"
     ]
    },
    {
     "data": {
      "text/html": [
       " <span style=\"background-color:#DFFF00 \">Rational-legal</span><span style=\"background-color:#DFFF00 \"> authority</span><span style=\"background-color:#DFFF00 \"> :</span><span style=\"background-color:#FF7F50 \"> Also</span><span style=\"background-color:#FF7F50 \"> known</span><span style=\"background-color:#FF7F50 \"> as</span><span style=\"background-color:#FF7F50 \"> bureaucratic</span><span style=\"background-color:#FF7F50 \"> authority</span><span style=\"background-color:#FF7F50 \"> ,</span><span style=\"background-color:#FFBF00 \"> is</span><span style=\"background-color:#FFBF00 \"> when</span><span style=\"background-color:#DFFF00 \"> power</span><span style=\"background-color:#DFFF00 \"> is</span><span style=\"background-color:#DFFF00 \"> legitimized</span><span style=\"background-color:#FFBF00 \"> by</span><span style=\"background-color:#FFBF00 \"> legally</span><span style=\"background-color:#FF7F50 \"> enacted</span><span style=\"background-color:#FFBF00 \"> rules</span><span style=\"background-color:#FFBF00 \"> and</span><span style=\"background-color:#DFFF00 \"> regulations</span><span style=\"background-color:#FF7F50 \"> such</span><span style=\"background-color:#FF7F50 \"> as</span><span style=\"background-color:#FF7F50 \"> governments</span><span style=\"background-color:#FF7F50 \"> .</span>"
      ],
      "text/plain": [
       "<IPython.core.display.HTML object>"
      ]
     },
     "metadata": {},
     "output_type": "display_data"
    },
    {
     "data": {
      "text/html": [
       " <span style=\"background-color:#DFFF00 \">La</span><span style=\"background-color:#DFFF00 \"> domination</span><span style=\"background-color:#DFFF00 \"> légale</span> : <span style=\"background-color:#DFFF00 \">le</span><span style=\"background-color:#DFFF00 \"> pouvoir</span><span style=\"background-color:#FFBF00 \"> en</span><span style=\"background-color:#FFBF00 \"> place</span><span style=\"background-color:#DFFF00 \"> est</span><span style=\"background-color:#DFFF00 \"> légitimé</span><span style=\"background-color:#FFBF00 \"> par</span><span style=\"background-color:#FFBF00 \"> la</span><span style=\"background-color:#FFBF00 \"> force</span><span style=\"background-color:#FFBF00 \"> de</span><span style=\"background-color:#FFBF00 \"> la</span><span style=\"background-color:#FFBF00 \"> loi</span><span style=\"background-color:#FFBF00 \"> ,</span><span style=\"background-color:#DFFF00 \"> la</span><span style=\"background-color:#DFFF00 \"> réglementation</span><span style=\"background-color:#FF7F50 \"> rationnellement</span><span style=\"background-color:#FF7F50 \"> établie</span><span style=\"background-color:#FF7F50 \"> .</span>"
      ],
      "text/plain": [
       "<IPython.core.display.HTML object>"
      ]
     },
     "metadata": {},
     "output_type": "display_data"
    },
    {
     "name": "stdout",
     "output_type": "stream",
     "text": [
      ":\n",
      "by\n",
      ".\n",
      "1186 1183\n",
      " >> Original Score: -14.357806205749512\n",
      "- - - - - - - - - - - - - - - - - - - - - - - - - - - - - - - - - - - - - - - - - - - - - - \n",
      "Revision: 1\n"
     ]
    },
    {
     "data": {
      "text/html": [
       " Rational-legal authority : Also known as bureaucratic authority , is when power <span style=\"background-color:#DFFF00 \">is</span> legitimized by legally enacted rules and regulations such as governments ."
      ],
      "text/plain": [
       "<IPython.core.display.HTML object>"
      ]
     },
     "metadata": {},
     "output_type": "display_data"
    },
    {
     "data": {
      "text/html": [
       " La domination légale : le pouvoir en place <span style=\"background-color:#DFFF00 \">est</span> légitimé par la force de la loi , la réglementation rationnellement établie ."
      ],
      "text/plain": [
       "<IPython.core.display.HTML object>"
      ]
     },
     "metadata": {},
     "output_type": "display_data"
    },
    {
     "name": "stdout",
     "output_type": "stream",
     "text": [
      " >> Masked Score: -13.344169616699219\n",
      "Revision: 2\n"
     ]
    },
    {
     "data": {
      "text/html": [
       " Rational-legal authority <span style=\"background-color:#DFFF00 \">:</span><span style=\"background-color:#DFFF00 \"> Also</span><span style=\"background-color:#DFFF00 \"> known</span><span style=\"background-color:#DFFF00 \"> as</span><span style=\"background-color:#DFFF00 \"> bureaucratic</span><span style=\"background-color:#DFFF00 \"> authority</span><span style=\"background-color:#DFFF00 \"> ,</span><span style=\"background-color:#DFFF00 \"> is</span><span style=\"background-color:#DFFF00 \"> when</span><span style=\"background-color:#DFFF00 \"> power</span> is legitimized by legally enacted rules and regulations such as governments ."
      ],
      "text/plain": [
       "<IPython.core.display.HTML object>"
      ]
     },
     "metadata": {},
     "output_type": "display_data"
    },
    {
     "data": {
      "text/html": [
       " La domination légale <span style=\"background-color:#DFFF00 \">:</span><span style=\"background-color:#DFFF00 \"> le</span><span style=\"background-color:#DFFF00 \"> pouvoir</span><span style=\"background-color:#DFFF00 \"> en</span> place est légitimé par la force de la loi , la réglementation rationnellement établie ."
      ],
      "text/plain": [
       "<IPython.core.display.HTML object>"
      ]
     },
     "metadata": {},
     "output_type": "display_data"
    },
    {
     "name": "stdout",
     "output_type": "stream",
     "text": [
      " >> Masked Score: -12.795974731445312\n",
      "Revision: 3\n"
     ]
    },
    {
     "data": {
      "text/html": [
       " Rational-legal authority : Also known as bureaucratic authority , is when power is legitimized by legally enacted rules and regulations <span style=\"background-color:#DFFF00 \">such</span><span style=\"background-color:#DFFF00 \"> as</span><span style=\"background-color:#DFFF00 \"> governments</span><span style=\"background-color:#DFFF00 \"> .</span>"
      ],
      "text/plain": [
       "<IPython.core.display.HTML object>"
      ]
     },
     "metadata": {},
     "output_type": "display_data"
    },
    {
     "data": {
      "text/html": [
       " La domination légale : le pouvoir en place est légitimé par la force de la loi , la réglementation <span style=\"background-color:#DFFF00 \">rationnellement</span><span style=\"background-color:#DFFF00 \"> établie</span><span style=\"background-color:#DFFF00 \"> .</span>"
      ],
      "text/plain": [
       "<IPython.core.display.HTML object>"
      ]
     },
     "metadata": {},
     "output_type": "display_data"
    },
    {
     "name": "stdout",
     "output_type": "stream",
     "text": [
      " >> Masked Score: -3.873072624206543\n",
      "IN NN NNS VBD PRP EX VBD DT JJ NN IN NNS IN NN IN NNP PUNC PRP VBD PRP MD VB NNS IN DT JJ NN WRB PRP VBD JJ PUNC\n",
      "After police officers informed her there was a 15-year statute of limitations for rape in Massachusetts , she decided she would press charges at a later date when she was ready .\n"
     ]
    },
    {
     "data": {
      "text/html": [
       " After police officers informed her there was a 15-year <span style=\"background-color:#DFFF00 \">statute</span><span style=\"background-color:#DFFF00 \"> of</span><span style=\"background-color:#DFFF00 \"> limitations</span> for rape in Massachusetts , she decided she would press charges at a later date <span style=\"background-color:#FF7F50 \">when</span><span style=\"background-color:#FF7F50 \"> she</span><span style=\"background-color:#FF7F50 \"> was</span><span style=\"background-color:#FF7F50 \"> ready</span><span style=\"background-color:#FF7F50 \"> .</span>"
      ],
      "text/plain": [
       "<IPython.core.display.HTML object>"
      ]
     },
     "metadata": {},
     "output_type": "display_data"
    },
    {
     "data": {
      "text/html": [
       " Après que des policiers l' ait informée il y a 15 ans <span style=\"background-color:#DFFF00 \">du</span><span style=\"background-color:#DFFF00 \"> délai</span><span style=\"background-color:#DFFF00 \"> de</span><span style=\"background-color:#DFFF00 \"> prescription</span><span style=\"background-color:#DFFF00 \"> pour</span> les viols commis dans le Massachusetts , elle a décidé d' engager des poursuites à une date ultérieure ."
      ],
      "text/plain": [
       "<IPython.core.display.HTML object>"
      ]
     },
     "metadata": {},
     "output_type": "display_data"
    },
    {
     "name": "stdout",
     "output_type": "stream",
     "text": [
      ".\n",
      "in\n",
      "a\n",
      "at\n",
      ",\n",
      "for\n",
      "After\n",
      "of\n",
      "1027 1016\n",
      " >> Original Score: -9.561965942382812\n",
      "- - - - - - - - - - - - - - - - - - - - - - - - - - - - - - - - - - - - - - - - - - - - - - \n",
      "Revision: 1\n"
     ]
    },
    {
     "data": {
      "text/html": [
       " After police officers informed her there was a 15-year statute of limitations for rape in Massachusetts , she decided she would press charges at a later date <span style=\"background-color:#DFFF00 \">when</span><span style=\"background-color:#DFFF00 \"> she</span><span style=\"background-color:#DFFF00 \"> was</span><span style=\"background-color:#DFFF00 \"> ready</span> ."
      ],
      "text/plain": [
       "<IPython.core.display.HTML object>"
      ]
     },
     "metadata": {},
     "output_type": "display_data"
    },
    {
     "data": {
      "text/html": [
       " Après que des policiers l' ait informée il y a 15 ans du délai de prescription pour les viols commis dans le Massachusetts , elle a décidé d' engager des poursuites à une date ultérieure ."
      ],
      "text/plain": [
       "<IPython.core.display.HTML object>"
      ]
     },
     "metadata": {},
     "output_type": "display_data"
    },
    {
     "name": "stdout",
     "output_type": "stream",
     "text": [
      " >> Masked Score: 6.762765884399414\n",
      "Revision: 2\n"
     ]
    },
    {
     "data": {
      "text/html": [
       " After police officers informed her there was a 15-year <span style=\"background-color:#DFFF00 \">statute</span><span style=\"background-color:#DFFF00 \"> of</span><span style=\"background-color:#DFFF00 \"> limitations</span><span style=\"background-color:#DFFF00 \"> for</span> rape in Massachusetts , she decided she would press charges at a later date when she was ready ."
      ],
      "text/plain": [
       "<IPython.core.display.HTML object>"
      ]
     },
     "metadata": {},
     "output_type": "display_data"
    },
    {
     "data": {
      "text/html": [
       " Après que des policiers l' ait informée il y a 15 ans du <span style=\"background-color:#DFFF00 \">délai</span><span style=\"background-color:#DFFF00 \"> de</span><span style=\"background-color:#DFFF00 \"> prescription</span><span style=\"background-color:#DFFF00 \"> pour</span><span style=\"background-color:#DFFF00 \"> les</span> viols commis dans le Massachusetts , elle a décidé d' engager des poursuites à une date ultérieure ."
      ],
      "text/plain": [
       "<IPython.core.display.HTML object>"
      ]
     },
     "metadata": {},
     "output_type": "display_data"
    },
    {
     "name": "stdout",
     "output_type": "stream",
     "text": [
      " >> Masked Score: 10.556653022766113\n",
      "Revision: 3\n"
     ]
    },
    {
     "data": {
      "text/html": [
       " After police officers informed her there was a 15-year statute of limitations for rape in Massachusetts , she decided <span style=\"background-color:#DFFF00 \">she</span><span style=\"background-color:#DFFF00 \"> would</span><span style=\"background-color:#DFFF00 \"> press</span> charges at a later date when she was ready ."
      ],
      "text/plain": [
       "<IPython.core.display.HTML object>"
      ]
     },
     "metadata": {},
     "output_type": "display_data"
    },
    {
     "data": {
      "text/html": [
       " Après que des policiers l' ait informée il y a 15 ans du délai de prescription pour les viols commis dans le Massachusetts , elle a décidé <span style=\"background-color:#DFFF00 \">d'</span><span style=\"background-color:#DFFF00 \"> engager</span> des poursuites à une date ultérieure ."
      ],
      "text/plain": [
       "<IPython.core.display.HTML object>"
      ]
     },
     "metadata": {},
     "output_type": "display_data"
    },
    {
     "name": "stdout",
     "output_type": "stream",
     "text": [
      " >> Masked Score: 13.259519577026367\n",
      "NNP -LRB- NNP -RRB- NNP PUNC NNP NNP -LRB- NNP -RRB- PUNC CC NNP NNP VBP DT JJ NN NN IN NN CC JJ JJ NNS PUNC\n",
      "Iranamadu ( Ranamaduva ) Tank , Kanakampikai Kulam ( Pond ) , and Kilinochchi Kulam are the major irrigation source for paddy and various other cultivations .\n"
     ]
    },
    {
     "data": {
      "text/html": [
       " Iranamadu ( Ranamaduva ) <span style=\"background-color:#DFFF00 \">Tank</span><span style=\"background-color:#DFFF00 \"> ,</span> Kanakampikai Kulam ( Pond ) , and Kilinochchi Kulam are the <span style=\"background-color:#DFFF00 \">major</span> irrigation source for paddy and various other cultivations ."
      ],
      "text/plain": [
       "<IPython.core.display.HTML object>"
      ]
     },
     "metadata": {},
     "output_type": "display_data"
    },
    {
     "data": {
      "text/html": [
       " <span style=\"background-color:#FF7F50 \">Depuis</span><span style=\"background-color:#FF7F50 \"> les</span><span style=\"background-color:#FF7F50 \"> temps</span><span style=\"background-color:#FF7F50 \"> préhistoriques</span><span style=\"background-color:#FF7F50 \"> Kilinochchi</span><span style=\"background-color:#FF7F50 \"> est</span><span style=\"background-color:#FF7F50 \"> une</span><span style=\"background-color:#FF7F50 \"> des</span><span style=\"background-color:#FF7F50 \"> principales</span><span style=\"background-color:#FF7F50 \"> zones</span><span style=\"background-color:#FF7F50 \"> agricoles</span><span style=\"background-color:#FF7F50 \"> de</span><span style=\"background-color:#FF7F50 \"> l'</span><span style=\"background-color:#FF7F50 \"> île.</span><span style=\"background-color:#DFFF00 \"> le</span><span style=\"background-color:#DFFF00 \"> Réservoir</span> d' Iranamadu ( Ranamaduva ) , le Kanakampikai Kulam ( lac ) et le Kilinochchi Kulam sont <span style=\"background-color:#DFFF00 \">les</span><span style=\"background-color:#DFFF00 \"> principales</span> source d' irrigation pour le paddy et diverses autres cultures ."
      ],
      "text/plain": [
       "<IPython.core.display.HTML object>"
      ]
     },
     "metadata": {},
     "output_type": "display_data"
    },
    {
     "name": "stdout",
     "output_type": "stream",
     "text": [
      "(\n",
      "for\n",
      ".\n",
      "and\n",
      ")\n",
      "(\n",
      "the\n",
      ",\n",
      "and\n",
      "1057 1029\n",
      " >> Original Score: -9.593082427978516\n",
      "- - - - - - - - - - - - - - - - - - - - - - - - - - - - - - - - - - - - - - - - - - - - - - \n",
      "Revision: 1\n"
     ]
    },
    {
     "data": {
      "text/html": [
       " <span style=\"background-color:#DFFF00 \">Iranamadu</span><span style=\"background-color:#DFFF00 \"> (</span><span style=\"background-color:#DFFF00 \"> Ranamaduva</span><span style=\"background-color:#DFFF00 \"> )</span><span style=\"background-color:#DFFF00 \"> Tank</span><span style=\"background-color:#DFFF00 \"> ,</span><span style=\"background-color:#DFFF00 \"> Kanakampikai</span> Kulam ( Pond ) , and Kilinochchi Kulam are the major irrigation source for paddy and various other cultivations ."
      ],
      "text/plain": [
       "<IPython.core.display.HTML object>"
      ]
     },
     "metadata": {},
     "output_type": "display_data"
    },
    {
     "data": {
      "text/html": [
       " <span style=\"background-color:#DFFF00 \">Depuis</span><span style=\"background-color:#DFFF00 \"> les</span><span style=\"background-color:#DFFF00 \"> temps</span><span style=\"background-color:#DFFF00 \"> préhistoriques</span><span style=\"background-color:#DFFF00 \"> Kilinochchi</span><span style=\"background-color:#DFFF00 \"> est</span><span style=\"background-color:#DFFF00 \"> une</span><span style=\"background-color:#DFFF00 \"> des</span><span style=\"background-color:#DFFF00 \"> principales</span><span style=\"background-color:#DFFF00 \"> zones</span><span style=\"background-color:#DFFF00 \"> agricoles</span><span style=\"background-color:#DFFF00 \"> de</span><span style=\"background-color:#DFFF00 \"> l'</span><span style=\"background-color:#DFFF00 \"> île.</span><span style=\"background-color:#DFFF00 \"> le</span><span style=\"background-color:#DFFF00 \"> Réservoir</span><span style=\"background-color:#DFFF00 \"> d'</span><span style=\"background-color:#DFFF00 \"> Iranamadu</span><span style=\"background-color:#DFFF00 \"> (</span><span style=\"background-color:#DFFF00 \"> Ranamaduva</span><span style=\"background-color:#DFFF00 \"> )</span><span style=\"background-color:#DFFF00 \"> ,</span><span style=\"background-color:#DFFF00 \"> le</span><span style=\"background-color:#DFFF00 \"> Kanakampikai</span> Kulam ( lac ) et le Kilinochchi Kulam sont les principales source d' irrigation pour le paddy et diverses autres cultures ."
      ],
      "text/plain": [
       "<IPython.core.display.HTML object>"
      ]
     },
     "metadata": {},
     "output_type": "display_data"
    },
    {
     "name": "stdout",
     "output_type": "stream",
     "text": [
      " >> Masked Score: 4.7049431800842285\n",
      "Revision: 2\n"
     ]
    },
    {
     "data": {
      "text/html": [
       " Iranamadu ( Ranamaduva ) Tank , Kanakampikai Kulam ( Pond ) , and Kilinochchi Kulam are the major irrigation source for paddy and various other <span style=\"background-color:#DFFF00 \">cultivations</span> ."
      ],
      "text/plain": [
       "<IPython.core.display.HTML object>"
      ]
     },
     "metadata": {},
     "output_type": "display_data"
    },
    {
     "data": {
      "text/html": [
       " Depuis les temps préhistoriques Kilinochchi est une des principales zones agricoles de l' île. le Réservoir d' Iranamadu ( Ranamaduva ) , le Kanakampikai Kulam ( lac ) et le Kilinochchi Kulam sont les principales source d' irrigation pour le paddy et diverses autres <span style=\"background-color:#DFFF00 \">cultures</span> ."
      ],
      "text/plain": [
       "<IPython.core.display.HTML object>"
      ]
     },
     "metadata": {},
     "output_type": "display_data"
    },
    {
     "name": "stdout",
     "output_type": "stream",
     "text": [
      " >> Masked Score: 12.472953796386719\n",
      "Revision: 3\n"
     ]
    },
    {
     "data": {
      "text/html": [
       " Iranamadu ( Ranamaduva ) Tank , Kanakampikai Kulam ( Pond ) , and Kilinochchi Kulam are the major irrigation source for paddy and various <span style=\"background-color:#DFFF00 \">other</span><span style=\"background-color:#DFFF00 \"> cultivations</span> ."
      ],
      "text/plain": [
       "<IPython.core.display.HTML object>"
      ]
     },
     "metadata": {},
     "output_type": "display_data"
    },
    {
     "data": {
      "text/html": [
       " Depuis les temps préhistoriques Kilinochchi est une des principales zones agricoles de l' île. le Réservoir d' Iranamadu ( Ranamaduva ) , le Kanakampikai Kulam ( lac ) et le Kilinochchi Kulam sont les principales source d' irrigation pour le paddy et diverses <span style=\"background-color:#DFFF00 \">autres</span><span style=\"background-color:#DFFF00 \"> cultures</span> ."
      ],
      "text/plain": [
       "<IPython.core.display.HTML object>"
      ]
     },
     "metadata": {},
     "output_type": "display_data"
    },
    {
     "name": "stdout",
     "output_type": "stream",
     "text": [
      " >> Masked Score: 12.899977684020996\n",
      "NN NNP NNP CC NN NNP NNP VBP DT NN NNS IN DT NN PUNC VBG VBN VBN IN NN DT JJR IN PRP$ NN PUNC\n",
      "Bassist Billy Gould and drummer Mike Bordin are the longest-remaining members of the band , having been involved with Faith No More since its inception .\n"
     ]
    },
    {
     "data": {
      "text/html": [
       " Bassist Billy Gould and drummer Mike Bordin are the longest-remaining members of the band , <span style=\"background-color:#DFFF00 \">having</span><span style=\"background-color:#DFFF00 \"> been</span><span style=\"background-color:#DFFF00 \"> involved</span> with Faith No More since its inception ."
      ],
      "text/plain": [
       "<IPython.core.display.HTML object>"
      ]
     },
     "metadata": {},
     "output_type": "display_data"
    },
    {
     "data": {
      "text/html": [
       " Le bassiste Billy Gould , <span style=\"background-color:#FF7F50 \">le</span><span style=\"background-color:#FF7F50 \"> claviériste</span><span style=\"background-color:#FF7F50 \"> Roddy</span><span style=\"background-color:#FF7F50 \"> Bottum</span> et le batteur Mike Bordin sont les seuls membres à long terme du groupe , impliqués depuis la création de Faith No More ."
      ],
      "text/plain": [
       "<IPython.core.display.HTML object>"
      ]
     },
     "metadata": {},
     "output_type": "display_data"
    },
    {
     "name": "stdout",
     "output_type": "stream",
     "text": [
      ".\n",
      ",\n",
      "of\n",
      "the\n",
      "since\n",
      "and\n",
      "with\n",
      "513 494\n",
      " >> Original Score: -12.36628532409668\n",
      "- - - - - - - - - - - - - - - - - - - - - - - - - - - - - - - - - - - - - - - - - - - - - - \n",
      "Revision: 1\n"
     ]
    },
    {
     "data": {
      "text/html": [
       " Bassist Billy Gould and drummer Mike Bordin are the longest-remaining members of the band , having been involved with Faith No More since its inception ."
      ],
      "text/plain": [
       "<IPython.core.display.HTML object>"
      ]
     },
     "metadata": {},
     "output_type": "display_data"
    },
    {
     "data": {
      "text/html": [
       " Le bassiste Billy Gould <span style=\"background-color:#DFFF00 \">,</span><span style=\"background-color:#DFFF00 \"> le</span><span style=\"background-color:#DFFF00 \"> claviériste</span><span style=\"background-color:#DFFF00 \"> Roddy</span><span style=\"background-color:#DFFF00 \"> Bottum</span> et le batteur Mike Bordin sont les seuls membres à long terme du groupe , impliqués depuis la création de Faith No More ."
      ],
      "text/plain": [
       "<IPython.core.display.HTML object>"
      ]
     },
     "metadata": {},
     "output_type": "display_data"
    },
    {
     "name": "stdout",
     "output_type": "stream",
     "text": [
      " >> Masked Score: 14.80061149597168\n",
      "Revision: 2\n"
     ]
    },
    {
     "data": {
      "text/html": [
       " Bassist Billy Gould and drummer Mike Bordin <span style=\"background-color:#DFFF00 \">are</span> the longest-remaining members of the band , having been involved with Faith No More since its inception ."
      ],
      "text/plain": [
       "<IPython.core.display.HTML object>"
      ]
     },
     "metadata": {},
     "output_type": "display_data"
    },
    {
     "data": {
      "text/html": [
       " Le bassiste Billy Gould , le claviériste Roddy Bottum et le batteur Mike Bordin <span style=\"background-color:#DFFF00 \">sont</span> les seuls membres à long terme du groupe , impliqués depuis la création de Faith No More ."
      ],
      "text/plain": [
       "<IPython.core.display.HTML object>"
      ]
     },
     "metadata": {},
     "output_type": "display_data"
    },
    {
     "name": "stdout",
     "output_type": "stream",
     "text": [
      " >> Masked Score: 14.911088943481445\n",
      "IN NN NN IN DT NN IN JJ NN PUNC PRP VBZ IN DT NNP IN NNP VBG NNP DT NN IN NNP PUNC\n",
      "In folktale manner in the style of Jewish aggada , it elaborates upon the Book of Job making Job a king in Egypt .\n"
     ]
    },
    {
     "data": {
      "text/html": [
       " <span style=\"background-color:#FF7F50 \">In</span><span style=\"background-color:#FF7F50 \"> folktale</span><span style=\"background-color:#FF7F50 \"> manner</span><span style=\"background-color:#FFBF00 \"> in</span><span style=\"background-color:#FFBF00 \"> the</span><span style=\"background-color:#FFBF00 \"> style</span><span style=\"background-color:#DFFF00 \"> of</span> Jewish aggada , it elaborates upon the Book <span style=\"background-color:#FFBF00 \">of</span><span style=\"background-color:#FFBF00 \"> Job</span> making Job a king in Egypt ."
      ],
      "text/plain": [
       "<IPython.core.display.HTML object>"
      ]
     },
     "metadata": {},
     "output_type": "display_data"
    },
    {
     "data": {
      "text/html": [
       " <span style=\"background-color:#FFBF00 \">Empruntant</span><span style=\"background-color:#FFBF00 \"> les</span><span style=\"background-color:#FFBF00 \"> méthodes</span> de l' aggada juive , il élabore sur le Livre , faisant de Job un roi d' Égypte ."
      ],
      "text/plain": [
       "<IPython.core.display.HTML object>"
      ]
     },
     "metadata": {},
     "output_type": "display_data"
    },
    {
     "name": "stdout",
     "output_type": "stream",
     "text": [
      "the\n",
      "the\n",
      "a\n",
      "upon\n",
      "in\n",
      "of\n",
      ".\n",
      ",\n",
      "311 301\n",
      " >> Original Score: -4.783359527587891\n",
      "- - - - - - - - - - - - - - - - - - - - - - - - - - - - - - - - - - - - - - - - - - - - - - \n",
      "Revision: 1\n"
     ]
    },
    {
     "data": {
      "text/html": [
       " <span style=\"background-color:#DFFF00 \">In</span><span style=\"background-color:#DFFF00 \"> folktale</span><span style=\"background-color:#DFFF00 \"> manner</span><span style=\"background-color:#DFFF00 \"> in</span><span style=\"background-color:#DFFF00 \"> the</span><span style=\"background-color:#DFFF00 \"> style</span> of Jewish aggada , it elaborates upon the Book of Job making Job a king in Egypt ."
      ],
      "text/plain": [
       "<IPython.core.display.HTML object>"
      ]
     },
     "metadata": {},
     "output_type": "display_data"
    },
    {
     "data": {
      "text/html": [
       " <span style=\"background-color:#DFFF00 \">Empruntant</span><span style=\"background-color:#DFFF00 \"> les</span><span style=\"background-color:#DFFF00 \"> méthodes</span> de l' aggada juive , il élabore sur le Livre , faisant de Job un roi d' Égypte ."
      ],
      "text/plain": [
       "<IPython.core.display.HTML object>"
      ]
     },
     "metadata": {},
     "output_type": "display_data"
    },
    {
     "name": "stdout",
     "output_type": "stream",
     "text": [
      " >> Masked Score: 15.368389129638672\n",
      "Revision: 2\n"
     ]
    },
    {
     "data": {
      "text/html": [
       " In folktale manner in the style of Jewish aggada , <span style=\"background-color:#DFFF00 \">it</span> elaborates upon the Book of Job making Job a king in Egypt ."
      ],
      "text/plain": [
       "<IPython.core.display.HTML object>"
      ]
     },
     "metadata": {},
     "output_type": "display_data"
    },
    {
     "data": {
      "text/html": [
       " Empruntant les méthodes de l' aggada juive , <span style=\"background-color:#DFFF00 \">il</span> élabore sur le Livre , faisant de Job un roi d' Égypte ."
      ],
      "text/plain": [
       "<IPython.core.display.HTML object>"
      ]
     },
     "metadata": {},
     "output_type": "display_data"
    },
    {
     "name": "stdout",
     "output_type": "stream",
     "text": [
      " >> Masked Score: 15.406011581420898\n",
      "IN DT NN PUNC PRP VBD DT NN IN DT NN IN NNP CC DT NNS NN IN JJ NNS WDT VBP DT NN IN DT NNP NNP NNP PUNC\n",
      "During this time , he created the cycle from the legend of Melusine and the designs commemorative of chief musicians which decorate the foyer of the Vienna State Opera .\n"
     ]
    },
    {
     "data": {
      "text/html": [
       " <span style=\"background-color:#DFFF00 \">During</span><span style=\"background-color:#DFFF00 \"> this</span><span style=\"background-color:#DFFF00 \"> time</span><span style=\"background-color:#DFFF00 \"> ,</span> he created the cycle from the legend of Melusine and the <span style=\"background-color:#DFFF00 \">designs</span> commemorative of <span style=\"background-color:#DFFF00 \">chief</span> musicians which decorate the foyer of the Vienna State Opera ."
      ],
      "text/plain": [
       "<IPython.core.display.HTML object>"
      ]
     },
     "metadata": {},
     "output_type": "display_data"
    },
    {
     "data": {
      "text/html": [
       " <span style=\"background-color:#FF7F50 \">Il</span><span style=\"background-color:#FF7F50 \"> repart</span><span style=\"background-color:#FF7F50 \"> visiter</span><span style=\"background-color:#FF7F50 \"> Vienne</span><span style=\"background-color:#FF7F50 \"> ,</span><span style=\"background-color:#FFBF00 \"> où</span> il crée un cycle basé sur la légende de Mélusine , ainsi que des <span style=\"background-color:#DFFF00 \">illustrations</span> commémoratives de musiciens <span style=\"background-color:#DFFF00 \">virtuoses</span> pour décorer le foyer de l' opéra d' État de Vienne ."
      ],
      "text/plain": [
       "<IPython.core.display.HTML object>"
      ]
     },
     "metadata": {},
     "output_type": "display_data"
    },
    {
     "name": "stdout",
     "output_type": "stream",
     "text": [
      "of\n",
      "the\n",
      "the\n",
      "the\n",
      "the\n",
      "the\n",
      "of\n",
      ".\n",
      "of\n",
      "1365 1354\n",
      " >> Original Score: -5.590501308441162\n",
      "- - - - - - - - - - - - - - - - - - - - - - - - - - - - - - - - - - - - - - - - - - - - - - \n"
     ]
    }
   ],
   "source": [
    "divs_lpo = []\n",
    "refresd_annotations = 'annotations/sd_inter_pos_both'\n",
    "\n",
    "\n",
    "with open(refresd_annotations, 'r') as file_:\n",
    "    lines = file_.readlines()\n",
    "    #next(tsv_file)\n",
    "    for id_, line in enumerate(lines):\n",
    "        #print(f'____________________________________{id_}___________________________________________________')\n",
    "        if id_ < 401:\n",
    "            continue\n",
    "        line = line.split('\\t')\n",
    "        print(line[-2])\n",
    "        print(line[0])\n",
    "\n",
    "        en_text = line[0]\n",
    "        fr_text = line[1]\n",
    "        en_text_original = en_text\n",
    "        fr_text_original = fr_text\n",
    "        en_text_or, fr_text_or = en_text, fr_text\n",
    "        en_len = len(en_text.split(' '))/2\n",
    "        fr_len = len(fr_text.split(' '))/2\n",
    "        en_div = line[2]\n",
    "        fr_div = line[3]\n",
    "        alis = line[4] \n",
    "        if parse:\n",
    "            syntactic_phrases = extract_syntactic_phrases(en_text, line[5].rstrip())\n",
    "        if pos:\n",
    "            en_excluded, fr_excluded = extract_invalid_pos(en_text, line[-2].rstrip(), fr_text, line[-1].rstrip())\n",
    "        if not alis:\n",
    "            print('No alignments!...')\n",
    "            continue\n",
    "        en2fr = ali_to_tuple(alis)\n",
    "        \n",
    "        display_HTML(en_text, en_div)\n",
    "        display_HTML(fr_text, fr_div)\n",
    "        #phrases = phrase_extraction(en_text, fr_text, en2fr)\n",
    "        phrases = set()\n",
    "        if paired_phrases:\n",
    "            if filter_ngrams_flag:\n",
    "                phrases = filtered_ngrams(phrase_extraction(en_text, fr_text, en2fr), 10)\n",
    "            elif filter_leng:\n",
    "                phrases = filtered_phrases(phrase_extraction(en_text, fr_text, en2fr), en_len, fr_len)\n",
    "            else:\n",
    "                phrases = phrase_extraction(en_text, fr_text, en2fr)\n",
    "            paired_set = phrases\n",
    "            \n",
    "            if parse:\n",
    "                phrases = filter_syntactic_phrases(paired_set, syntactic_phrases)\n",
    "            if pos:\n",
    "                phrases_old = phrases\n",
    "                phrases = filter_pos_phrases(paired_set, en_excluded, fr_excluded )\n",
    "                         \n",
    "            print(f'{len(paired_set)} {len(phrases)}')\n",
    "        \n",
    "        if missing_phrases:\n",
    "            en_aligned, fr_aligned = [], []\n",
    "            for (en_a, fr_a) in en2fr:\n",
    "                en_aligned.append(en_a)\n",
    "                fr_aligned.append(fr_a)\n",
    "            en_unaligned = get_unaligned_phrases(en_aligned, en_text)\n",
    "            fr_unaligned = get_unaligned_phrases(fr_aligned, fr_text)\n",
    "            for phrase in en_unaligned:\n",
    "                phrases.add((phrase[0], None, phrase[1], ''))\n",
    "            for phrase in fr_unaligned:\n",
    "                phrases.add((None, phrase[0], '', phrase[1]))\n",
    "        \n",
    "        if strip_punctuation_flag: \n",
    "            score = model([f'{strip_punctuation(en_text)}'], [f'{strip_punctuation(fr_text)}'])\n",
    "        else:\n",
    "            score = model([f'{en_text}'], [f'{fr_text}'])\n",
    "            \n",
    "        print(f' >> Original Score: {score[0][0]}')\n",
    "        \n",
    "        print(f'- - - - - - - - - - - - - - - - - - - - - - - - - - - - - - - - - - - - - - - - - - - - - - ')\n",
    "\n",
    "        \n",
    "        global_phrasal_annotations, divergent_flag = [], True  \n",
    "        \n",
    "        \n",
    "        count = 0\n",
    "        while divergent_flag: # and count==0:\n",
    "            count += 1\n",
    "            \n",
    "            phrasal_annotations = []\n",
    "            \n",
    "            # Check if deletion of phrases improve over current score\n",
    "            for phrase in phrases:\n",
    "                #if phrase in global_phrasal_annotations:\n",
    "                #    continue\n",
    "\n",
    "                masked_en = mask_out_phrase(en_text, phrase[2], mask_flag=mask_flag)\n",
    "                masked_fr = mask_out_phrase(fr_text, phrase[3], mask_flag=mask_flag)\n",
    "                if not masked_en or not masked_fr:\n",
    "                    continue\n",
    "                if punctuation_spans(masked_en) and punctuation_spans(masked_fr):\n",
    "                    continue\n",
    "\n",
    "                if strip_punctuation_flag:\n",
    "                    masked_score = model([strip_punctuation(masked_en)], [strip_punctuation(masked_fr)])\n",
    "                else:\n",
    "                    masked_score = model([masked_en], [masked_fr])\n",
    "                if masked_score > score: #+ 5:\n",
    "                    r = len(masked_en.split(' ')) + len(masked_fr.split(' '))\n",
    "                    c = len(phrase[2].split(' ')) + len(phrase[3].split(' '))\n",
    "                    bp=np.exp(-c/r)\n",
    "                    if verbose: \n",
    "                        print(f'\\n{phrase[2]} ||| {phrase[3]}')\n",
    "                        print(f'\\n{masked_en} ||| {masked_fr}')\n",
    "                        #print(f'{en_phrase_len} ||| {fr_phrase_len}')\n",
    "                        #print(strip_punctuation(masked_en))\n",
    "                        #print(strip_punctuation(masked_fr))\n",
    "                        print(score)\n",
    "                        print(masked_score)\n",
    "                        \n",
    "                    if penalty:\n",
    "                        if masked_score[0][0] < 0:\n",
    "                            if verbose:\n",
    "                                print(1/bp)\n",
    "                                print(masked_score[0][0]*(1/bp))\n",
    "                            phrasal_annotations.append([phrase, [[masked_score[0][0]*(1/bp)]], masked_score])\n",
    "                        else:\n",
    "                            if verbose:\n",
    "                                print(bp)\n",
    "                                print(masked_score[0][0]*(bp))\n",
    "                            phrasal_annotations.append([phrase, [[masked_score[0][0]*bp]], masked_score])\n",
    "                        if verbose:\n",
    "                            print(c)\n",
    "                    else:\n",
    "                        phrasal_annotations.append([phrase, masked_score, masked_score])\n",
    "                                    \n",
    "            # If phrasal annotations cannot further improve divergence score exit. \n",
    "            if not phrasal_annotations:\n",
    "                divergent_flag = False\n",
    "                continue\n",
    "            else:\n",
    "                #print(phrasal_annotations)\n",
    "                # Krate ta top N \n",
    "                # TODO: save actual masked scoree and in phrase_annotations to properly make the score assignment\n",
    "                en_rationale, fr_rationale, masked_score = phrase_rationale(phrasal_annotations, en_text)\n",
    "                global_phrasal_annotations.append([phrase, masked_score])\n",
    "                en_text = index_to_text(en_rationale,en_text.split(' '))\n",
    "                fr_text = index_to_text(fr_rationale,fr_text.split(' '))\n",
    "                score = masked_score\n",
    "    \n",
    "                en_div_lpo = index_to_div_labels(en_rationale,len(en_text_or.split(' ')))\n",
    "                fr_div_lpo = index_to_div_labels(fr_rationale,len(fr_text_or.split(' ')))\n",
    "              \n",
    "            print(f'Revision: {count}')\n",
    "            display_HTML(en_text_or, en_div_lpo)\n",
    "            display_HTML(fr_text_or, fr_div_lpo)\n",
    "            #print(f'{en_text} ||| {fr_text}')\n",
    "\n",
    "            print(f' >> Masked Score: {masked_score}')\n",
    "        \n",
    "        divs_lpo.append([line, en_div_lpo, fr_div_lpo, masked_score])\n",
    "print('en')"
   ]
  },
  {
   "cell_type": "code",
   "execution_count": 23,
   "id": "26d1d3b5",
   "metadata": {
    "scrolled": false
   },
   "outputs": [
    {
     "name": "stdout",
     "output_type": "stream",
     "text": [
      "_________________________________________________________________________________________\n",
      "\n",
      "\n",
      " >> Original Score: -12.57572078704834\n",
      "- - - - - - - - - - - - - - - - - - - - - - - - - - - - - - - - - - - - - - - - - - - - - - \n",
      "As NSA, he assisted Carter in diplomatically handling world affairs, such as the Camp David Accords, 1978; normalizing US–China relations thought the late 1970s; the Iranian Revolution, which led to the Iran hostage crisis, 1979; and the Soviet invasion in Afghanistan, 1979.\n",
      "Pendant son temps au sein de la NSA, il a aidé Carter à résoudre diplomatiquement des questions internationales telles que les accords de Camp David, en 1978, la normalisation des relations entre les États-Unis et la Chine à la fin des années 1970, la révolution iranienne et ses conséquences comme la prise d'otages en Iran, en 1979, et l'invasion des forces soviétiques en Afghanistan, en 1979.\n"
     ]
    },
    {
     "ename": "KeyboardInterrupt",
     "evalue": "",
     "output_type": "error",
     "traceback": [
      "\u001b[0;31m---------------------------------------------------------------------------\u001b[0m",
      "\u001b[0;31mKeyboardInterrupt\u001b[0m                         Traceback (most recent call last)",
      "\u001b[0;32m<ipython-input-23-7b3915dc113e>\u001b[0m in \u001b[0;36m<module>\u001b[0;34m\u001b[0m\n\u001b[1;32m    107\u001b[0m                     \u001b[0mmasked_score\u001b[0m \u001b[0;34m=\u001b[0m \u001b[0mmodel\u001b[0m\u001b[0;34m(\u001b[0m\u001b[0;34m[\u001b[0m\u001b[0mstrip_punctuation\u001b[0m\u001b[0;34m(\u001b[0m\u001b[0mmasked_en\u001b[0m\u001b[0;34m)\u001b[0m\u001b[0;34m]\u001b[0m\u001b[0;34m,\u001b[0m \u001b[0;34m[\u001b[0m\u001b[0mstrip_punctuation\u001b[0m\u001b[0;34m(\u001b[0m\u001b[0mmasked_fr\u001b[0m\u001b[0;34m)\u001b[0m\u001b[0;34m]\u001b[0m\u001b[0;34m)\u001b[0m\u001b[0;34m\u001b[0m\u001b[0;34m\u001b[0m\u001b[0m\n\u001b[1;32m    108\u001b[0m                 \u001b[0;32melse\u001b[0m\u001b[0;34m:\u001b[0m\u001b[0;34m\u001b[0m\u001b[0;34m\u001b[0m\u001b[0m\n\u001b[0;32m--> 109\u001b[0;31m                     \u001b[0mmasked_score\u001b[0m \u001b[0;34m=\u001b[0m \u001b[0mmodel\u001b[0m\u001b[0;34m(\u001b[0m\u001b[0;34m[\u001b[0m\u001b[0mmasked_en\u001b[0m\u001b[0;34m]\u001b[0m\u001b[0;34m,\u001b[0m \u001b[0;34m[\u001b[0m\u001b[0mmasked_fr\u001b[0m\u001b[0;34m]\u001b[0m\u001b[0;34m)\u001b[0m\u001b[0;34m\u001b[0m\u001b[0;34m\u001b[0m\u001b[0m\n\u001b[0m\u001b[1;32m    110\u001b[0m                 \u001b[0;32mif\u001b[0m \u001b[0mmasked_score\u001b[0m \u001b[0;34m>\u001b[0m \u001b[0mscore\u001b[0m\u001b[0;34m:\u001b[0m\u001b[0;34m\u001b[0m\u001b[0;34m\u001b[0m\u001b[0m\n\u001b[1;32m    111\u001b[0m                     \u001b[0;32mif\u001b[0m \u001b[0mverbose\u001b[0m\u001b[0;34m:\u001b[0m\u001b[0;34m\u001b[0m\u001b[0;34m\u001b[0m\u001b[0m\n",
      "\u001b[0;32m<ipython-input-2-fcf785e09ef9>\u001b[0m in \u001b[0;36m__call__\u001b[0;34m(self, text_a, text_b)\u001b[0m\n\u001b[1;32m      4\u001b[0m \u001b[0;34m\u001b[0m\u001b[0m\n\u001b[1;32m      5\u001b[0m     \u001b[0;32mdef\u001b[0m \u001b[0m__call__\u001b[0m\u001b[0;34m(\u001b[0m\u001b[0mself\u001b[0m\u001b[0;34m,\u001b[0m \u001b[0mtext_a\u001b[0m\u001b[0;34m,\u001b[0m \u001b[0mtext_b\u001b[0m\u001b[0;34m)\u001b[0m\u001b[0;34m:\u001b[0m\u001b[0;34m\u001b[0m\u001b[0;34m\u001b[0m\u001b[0m\n\u001b[0;32m----> 6\u001b[0;31m         \u001b[0;32mreturn\u001b[0m \u001b[0mself\u001b[0m\u001b[0;34m.\u001b[0m\u001b[0mscorer\u001b[0m\u001b[0;34m.\u001b[0m\u001b[0mcompute_divergentscore\u001b[0m\u001b[0;34m(\u001b[0m\u001b[0mtext_a\u001b[0m\u001b[0;34m,\u001b[0m \u001b[0mtext_b\u001b[0m\u001b[0;34m)\u001b[0m\u001b[0;34m\u001b[0m\u001b[0;34m\u001b[0m\u001b[0m\n\u001b[0m",
      "\u001b[0;32m/fs/clip-divergences/xling-SemDiv/Ex-SemDiv/divergentmBERT/divergentscorer.py\u001b[0m in \u001b[0;36mcompute_divergentscore\u001b[0;34m(self, texts_a, texts_b)\u001b[0m\n\u001b[1;32m    124\u001b[0m                           'token_type_ids_b': None}\n\u001b[1;32m    125\u001b[0m \u001b[0;34m\u001b[0m\u001b[0m\n\u001b[0;32m--> 126\u001b[0;31m                 \u001b[0mlogits_a\u001b[0m \u001b[0;34m=\u001b[0m \u001b[0mself\u001b[0m\u001b[0;34m.\u001b[0m\u001b[0mmodel\u001b[0m\u001b[0;34m(\u001b[0m\u001b[0;34m**\u001b[0m\u001b[0minputs\u001b[0m\u001b[0;34m)\u001b[0m\u001b[0;34m\u001b[0m\u001b[0;34m\u001b[0m\u001b[0m\n\u001b[0m\u001b[1;32m    127\u001b[0m                 \u001b[0;32mif\u001b[0m \u001b[0mpreds\u001b[0m \u001b[0;32mis\u001b[0m \u001b[0;32mNone\u001b[0m\u001b[0;34m:\u001b[0m\u001b[0;34m\u001b[0m\u001b[0;34m\u001b[0m\u001b[0m\n\u001b[1;32m    128\u001b[0m                     \u001b[0mpreds\u001b[0m \u001b[0;34m=\u001b[0m \u001b[0mlogits_a\u001b[0m\u001b[0;34m.\u001b[0m\u001b[0mdetach\u001b[0m\u001b[0;34m(\u001b[0m\u001b[0;34m)\u001b[0m\u001b[0;34m.\u001b[0m\u001b[0mcpu\u001b[0m\u001b[0;34m(\u001b[0m\u001b[0;34m)\u001b[0m\u001b[0;34m.\u001b[0m\u001b[0mnumpy\u001b[0m\u001b[0;34m(\u001b[0m\u001b[0;34m)\u001b[0m\u001b[0;34m\u001b[0m\u001b[0;34m\u001b[0m\u001b[0m\n",
      "\u001b[0;32m/fs/clip-xling/projects/semdiv/anaconda3/envs/semdiv/lib/python3.6/site-packages/torch/nn/modules/module.py\u001b[0m in \u001b[0;36m_call_impl\u001b[0;34m(self, *input, **kwargs)\u001b[0m\n\u001b[1;32m    725\u001b[0m             \u001b[0mresult\u001b[0m \u001b[0;34m=\u001b[0m \u001b[0mself\u001b[0m\u001b[0;34m.\u001b[0m\u001b[0m_slow_forward\u001b[0m\u001b[0;34m(\u001b[0m\u001b[0;34m*\u001b[0m\u001b[0minput\u001b[0m\u001b[0;34m,\u001b[0m \u001b[0;34m**\u001b[0m\u001b[0mkwargs\u001b[0m\u001b[0;34m)\u001b[0m\u001b[0;34m\u001b[0m\u001b[0;34m\u001b[0m\u001b[0m\n\u001b[1;32m    726\u001b[0m         \u001b[0;32melse\u001b[0m\u001b[0;34m:\u001b[0m\u001b[0;34m\u001b[0m\u001b[0;34m\u001b[0m\u001b[0m\n\u001b[0;32m--> 727\u001b[0;31m             \u001b[0mresult\u001b[0m \u001b[0;34m=\u001b[0m \u001b[0mself\u001b[0m\u001b[0;34m.\u001b[0m\u001b[0mforward\u001b[0m\u001b[0;34m(\u001b[0m\u001b[0;34m*\u001b[0m\u001b[0minput\u001b[0m\u001b[0;34m,\u001b[0m \u001b[0;34m**\u001b[0m\u001b[0mkwargs\u001b[0m\u001b[0;34m)\u001b[0m\u001b[0;34m\u001b[0m\u001b[0;34m\u001b[0m\u001b[0m\n\u001b[0m\u001b[1;32m    728\u001b[0m         for hook in itertools.chain(\n\u001b[1;32m    729\u001b[0m                 \u001b[0m_global_forward_hooks\u001b[0m\u001b[0;34m.\u001b[0m\u001b[0mvalues\u001b[0m\u001b[0;34m(\u001b[0m\u001b[0;34m)\u001b[0m\u001b[0;34m,\u001b[0m\u001b[0;34m\u001b[0m\u001b[0;34m\u001b[0m\u001b[0m\n",
      "\u001b[0;32m/fs/clip-xling/projects/semdiv/xling-SemDiv/software/transformers/src/transformers/modeling_bert.py\u001b[0m in \u001b[0;36mforward\u001b[0;34m(self, input_ids_a, attention_mask_a, token_type_ids_a, input_ids_b, attention_mask_b, token_type_ids_b, position_ids, head_mask, labels_a, labels_b)\u001b[0m\n\u001b[1;32m    976\u001b[0m                             \u001b[0mtoken_type_ids\u001b[0m\u001b[0;34m=\u001b[0m\u001b[0mtoken_type_ids_a\u001b[0m\u001b[0;34m,\u001b[0m\u001b[0;34m\u001b[0m\u001b[0;34m\u001b[0m\u001b[0m\n\u001b[1;32m    977\u001b[0m                             \u001b[0mposition_ids\u001b[0m\u001b[0;34m=\u001b[0m\u001b[0mposition_ids\u001b[0m\u001b[0;34m,\u001b[0m\u001b[0;34m\u001b[0m\u001b[0;34m\u001b[0m\u001b[0m\n\u001b[0;32m--> 978\u001b[0;31m                             head_mask=head_mask)\n\u001b[0m\u001b[1;32m    979\u001b[0m         \u001b[0mpooled_output_a\u001b[0m \u001b[0;34m=\u001b[0m \u001b[0moutputs_a\u001b[0m\u001b[0;34m[\u001b[0m\u001b[0;36m1\u001b[0m\u001b[0;34m]\u001b[0m\u001b[0;34m\u001b[0m\u001b[0;34m\u001b[0m\u001b[0m\n\u001b[1;32m    980\u001b[0m         \u001b[0mpooled_output_a\u001b[0m \u001b[0;34m=\u001b[0m \u001b[0mself\u001b[0m\u001b[0;34m.\u001b[0m\u001b[0mdropout\u001b[0m\u001b[0;34m(\u001b[0m\u001b[0mpooled_output_a\u001b[0m\u001b[0;34m)\u001b[0m\u001b[0;34m\u001b[0m\u001b[0;34m\u001b[0m\u001b[0m\n",
      "\u001b[0;32m/fs/clip-xling/projects/semdiv/anaconda3/envs/semdiv/lib/python3.6/site-packages/torch/nn/modules/module.py\u001b[0m in \u001b[0;36m_call_impl\u001b[0;34m(self, *input, **kwargs)\u001b[0m\n\u001b[1;32m    725\u001b[0m             \u001b[0mresult\u001b[0m \u001b[0;34m=\u001b[0m \u001b[0mself\u001b[0m\u001b[0;34m.\u001b[0m\u001b[0m_slow_forward\u001b[0m\u001b[0;34m(\u001b[0m\u001b[0;34m*\u001b[0m\u001b[0minput\u001b[0m\u001b[0;34m,\u001b[0m \u001b[0;34m**\u001b[0m\u001b[0mkwargs\u001b[0m\u001b[0;34m)\u001b[0m\u001b[0;34m\u001b[0m\u001b[0;34m\u001b[0m\u001b[0m\n\u001b[1;32m    726\u001b[0m         \u001b[0;32melse\u001b[0m\u001b[0;34m:\u001b[0m\u001b[0;34m\u001b[0m\u001b[0;34m\u001b[0m\u001b[0m\n\u001b[0;32m--> 727\u001b[0;31m             \u001b[0mresult\u001b[0m \u001b[0;34m=\u001b[0m \u001b[0mself\u001b[0m\u001b[0;34m.\u001b[0m\u001b[0mforward\u001b[0m\u001b[0;34m(\u001b[0m\u001b[0;34m*\u001b[0m\u001b[0minput\u001b[0m\u001b[0;34m,\u001b[0m \u001b[0;34m**\u001b[0m\u001b[0mkwargs\u001b[0m\u001b[0;34m)\u001b[0m\u001b[0;34m\u001b[0m\u001b[0;34m\u001b[0m\u001b[0m\n\u001b[0m\u001b[1;32m    728\u001b[0m         for hook in itertools.chain(\n\u001b[1;32m    729\u001b[0m                 \u001b[0m_global_forward_hooks\u001b[0m\u001b[0;34m.\u001b[0m\u001b[0mvalues\u001b[0m\u001b[0;34m(\u001b[0m\u001b[0;34m)\u001b[0m\u001b[0;34m,\u001b[0m\u001b[0;34m\u001b[0m\u001b[0;34m\u001b[0m\u001b[0m\n",
      "\u001b[0;32m/fs/clip-xling/projects/semdiv/xling-SemDiv/software/transformers/src/transformers/modeling_bert.py\u001b[0m in \u001b[0;36mforward\u001b[0;34m(self, input_ids, attention_mask, token_type_ids, position_ids, head_mask)\u001b[0m\n\u001b[1;32m    625\u001b[0m         encoder_outputs = self.encoder(embedding_output,\n\u001b[1;32m    626\u001b[0m                                        \u001b[0mextended_attention_mask\u001b[0m\u001b[0;34m,\u001b[0m\u001b[0;34m\u001b[0m\u001b[0;34m\u001b[0m\u001b[0m\n\u001b[0;32m--> 627\u001b[0;31m                                        head_mask=head_mask)\n\u001b[0m\u001b[1;32m    628\u001b[0m         \u001b[0msequence_output\u001b[0m \u001b[0;34m=\u001b[0m \u001b[0mencoder_outputs\u001b[0m\u001b[0;34m[\u001b[0m\u001b[0;36m0\u001b[0m\u001b[0;34m]\u001b[0m\u001b[0;34m\u001b[0m\u001b[0;34m\u001b[0m\u001b[0m\n\u001b[1;32m    629\u001b[0m         \u001b[0mpooled_output\u001b[0m \u001b[0;34m=\u001b[0m \u001b[0mself\u001b[0m\u001b[0;34m.\u001b[0m\u001b[0mpooler\u001b[0m\u001b[0;34m(\u001b[0m\u001b[0msequence_output\u001b[0m\u001b[0;34m)\u001b[0m\u001b[0;34m\u001b[0m\u001b[0;34m\u001b[0m\u001b[0m\n",
      "\u001b[0;32m/fs/clip-xling/projects/semdiv/anaconda3/envs/semdiv/lib/python3.6/site-packages/torch/nn/modules/module.py\u001b[0m in \u001b[0;36m_call_impl\u001b[0;34m(self, *input, **kwargs)\u001b[0m\n\u001b[1;32m    725\u001b[0m             \u001b[0mresult\u001b[0m \u001b[0;34m=\u001b[0m \u001b[0mself\u001b[0m\u001b[0;34m.\u001b[0m\u001b[0m_slow_forward\u001b[0m\u001b[0;34m(\u001b[0m\u001b[0;34m*\u001b[0m\u001b[0minput\u001b[0m\u001b[0;34m,\u001b[0m \u001b[0;34m**\u001b[0m\u001b[0mkwargs\u001b[0m\u001b[0;34m)\u001b[0m\u001b[0;34m\u001b[0m\u001b[0;34m\u001b[0m\u001b[0m\n\u001b[1;32m    726\u001b[0m         \u001b[0;32melse\u001b[0m\u001b[0;34m:\u001b[0m\u001b[0;34m\u001b[0m\u001b[0;34m\u001b[0m\u001b[0m\n\u001b[0;32m--> 727\u001b[0;31m             \u001b[0mresult\u001b[0m \u001b[0;34m=\u001b[0m \u001b[0mself\u001b[0m\u001b[0;34m.\u001b[0m\u001b[0mforward\u001b[0m\u001b[0;34m(\u001b[0m\u001b[0;34m*\u001b[0m\u001b[0minput\u001b[0m\u001b[0;34m,\u001b[0m \u001b[0;34m**\u001b[0m\u001b[0mkwargs\u001b[0m\u001b[0;34m)\u001b[0m\u001b[0;34m\u001b[0m\u001b[0;34m\u001b[0m\u001b[0m\n\u001b[0m\u001b[1;32m    728\u001b[0m         for hook in itertools.chain(\n\u001b[1;32m    729\u001b[0m                 \u001b[0m_global_forward_hooks\u001b[0m\u001b[0;34m.\u001b[0m\u001b[0mvalues\u001b[0m\u001b[0;34m(\u001b[0m\u001b[0;34m)\u001b[0m\u001b[0;34m,\u001b[0m\u001b[0;34m\u001b[0m\u001b[0;34m\u001b[0m\u001b[0m\n",
      "\u001b[0;32m/fs/clip-xling/projects/semdiv/xling-SemDiv/software/transformers/src/transformers/modeling_bert.py\u001b[0m in \u001b[0;36mforward\u001b[0;34m(self, hidden_states, attention_mask, head_mask)\u001b[0m\n\u001b[1;32m    346\u001b[0m                 \u001b[0mall_hidden_states\u001b[0m \u001b[0;34m=\u001b[0m \u001b[0mall_hidden_states\u001b[0m \u001b[0;34m+\u001b[0m \u001b[0;34m(\u001b[0m\u001b[0mhidden_states\u001b[0m\u001b[0;34m,\u001b[0m\u001b[0;34m)\u001b[0m\u001b[0;34m\u001b[0m\u001b[0;34m\u001b[0m\u001b[0m\n\u001b[1;32m    347\u001b[0m \u001b[0;34m\u001b[0m\u001b[0m\n\u001b[0;32m--> 348\u001b[0;31m             \u001b[0mlayer_outputs\u001b[0m \u001b[0;34m=\u001b[0m \u001b[0mlayer_module\u001b[0m\u001b[0;34m(\u001b[0m\u001b[0mhidden_states\u001b[0m\u001b[0;34m,\u001b[0m \u001b[0mattention_mask\u001b[0m\u001b[0;34m,\u001b[0m \u001b[0mhead_mask\u001b[0m\u001b[0;34m[\u001b[0m\u001b[0mi\u001b[0m\u001b[0;34m]\u001b[0m\u001b[0;34m)\u001b[0m\u001b[0;34m\u001b[0m\u001b[0;34m\u001b[0m\u001b[0m\n\u001b[0m\u001b[1;32m    349\u001b[0m             \u001b[0mhidden_states\u001b[0m \u001b[0;34m=\u001b[0m \u001b[0mlayer_outputs\u001b[0m\u001b[0;34m[\u001b[0m\u001b[0;36m0\u001b[0m\u001b[0;34m]\u001b[0m\u001b[0;34m\u001b[0m\u001b[0;34m\u001b[0m\u001b[0m\n\u001b[1;32m    350\u001b[0m \u001b[0;34m\u001b[0m\u001b[0m\n",
      "\u001b[0;32m/fs/clip-xling/projects/semdiv/anaconda3/envs/semdiv/lib/python3.6/site-packages/torch/nn/modules/module.py\u001b[0m in \u001b[0;36m_call_impl\u001b[0;34m(self, *input, **kwargs)\u001b[0m\n\u001b[1;32m    725\u001b[0m             \u001b[0mresult\u001b[0m \u001b[0;34m=\u001b[0m \u001b[0mself\u001b[0m\u001b[0;34m.\u001b[0m\u001b[0m_slow_forward\u001b[0m\u001b[0;34m(\u001b[0m\u001b[0;34m*\u001b[0m\u001b[0minput\u001b[0m\u001b[0;34m,\u001b[0m \u001b[0;34m**\u001b[0m\u001b[0mkwargs\u001b[0m\u001b[0;34m)\u001b[0m\u001b[0;34m\u001b[0m\u001b[0;34m\u001b[0m\u001b[0m\n\u001b[1;32m    726\u001b[0m         \u001b[0;32melse\u001b[0m\u001b[0;34m:\u001b[0m\u001b[0;34m\u001b[0m\u001b[0;34m\u001b[0m\u001b[0m\n\u001b[0;32m--> 727\u001b[0;31m             \u001b[0mresult\u001b[0m \u001b[0;34m=\u001b[0m \u001b[0mself\u001b[0m\u001b[0;34m.\u001b[0m\u001b[0mforward\u001b[0m\u001b[0;34m(\u001b[0m\u001b[0;34m*\u001b[0m\u001b[0minput\u001b[0m\u001b[0;34m,\u001b[0m \u001b[0;34m**\u001b[0m\u001b[0mkwargs\u001b[0m\u001b[0;34m)\u001b[0m\u001b[0;34m\u001b[0m\u001b[0;34m\u001b[0m\u001b[0m\n\u001b[0m\u001b[1;32m    728\u001b[0m         for hook in itertools.chain(\n\u001b[1;32m    729\u001b[0m                 \u001b[0m_global_forward_hooks\u001b[0m\u001b[0;34m.\u001b[0m\u001b[0mvalues\u001b[0m\u001b[0;34m(\u001b[0m\u001b[0;34m)\u001b[0m\u001b[0;34m,\u001b[0m\u001b[0;34m\u001b[0m\u001b[0;34m\u001b[0m\u001b[0m\n",
      "\u001b[0;32m/fs/clip-xling/projects/semdiv/xling-SemDiv/software/transformers/src/transformers/modeling_bert.py\u001b[0m in \u001b[0;36mforward\u001b[0;34m(self, hidden_states, attention_mask, head_mask)\u001b[0m\n\u001b[1;32m    326\u001b[0m         \u001b[0mattention_outputs\u001b[0m \u001b[0;34m=\u001b[0m \u001b[0mself\u001b[0m\u001b[0;34m.\u001b[0m\u001b[0mattention\u001b[0m\u001b[0;34m(\u001b[0m\u001b[0mhidden_states\u001b[0m\u001b[0;34m,\u001b[0m \u001b[0mattention_mask\u001b[0m\u001b[0;34m,\u001b[0m \u001b[0mhead_mask\u001b[0m\u001b[0;34m)\u001b[0m\u001b[0;34m\u001b[0m\u001b[0;34m\u001b[0m\u001b[0m\n\u001b[1;32m    327\u001b[0m         \u001b[0mattention_output\u001b[0m \u001b[0;34m=\u001b[0m \u001b[0mattention_outputs\u001b[0m\u001b[0;34m[\u001b[0m\u001b[0;36m0\u001b[0m\u001b[0;34m]\u001b[0m\u001b[0;34m\u001b[0m\u001b[0;34m\u001b[0m\u001b[0m\n\u001b[0;32m--> 328\u001b[0;31m         \u001b[0mintermediate_output\u001b[0m \u001b[0;34m=\u001b[0m \u001b[0mself\u001b[0m\u001b[0;34m.\u001b[0m\u001b[0mintermediate\u001b[0m\u001b[0;34m(\u001b[0m\u001b[0mattention_output\u001b[0m\u001b[0;34m)\u001b[0m\u001b[0;34m\u001b[0m\u001b[0;34m\u001b[0m\u001b[0m\n\u001b[0m\u001b[1;32m    329\u001b[0m         \u001b[0mlayer_output\u001b[0m \u001b[0;34m=\u001b[0m \u001b[0mself\u001b[0m\u001b[0;34m.\u001b[0m\u001b[0moutput\u001b[0m\u001b[0;34m(\u001b[0m\u001b[0mintermediate_output\u001b[0m\u001b[0;34m,\u001b[0m \u001b[0mattention_output\u001b[0m\u001b[0;34m)\u001b[0m\u001b[0;34m\u001b[0m\u001b[0;34m\u001b[0m\u001b[0m\n\u001b[1;32m    330\u001b[0m         \u001b[0moutputs\u001b[0m \u001b[0;34m=\u001b[0m \u001b[0;34m(\u001b[0m\u001b[0mlayer_output\u001b[0m\u001b[0;34m,\u001b[0m\u001b[0;34m)\u001b[0m \u001b[0;34m+\u001b[0m \u001b[0mattention_outputs\u001b[0m\u001b[0;34m[\u001b[0m\u001b[0;36m1\u001b[0m\u001b[0;34m:\u001b[0m\u001b[0;34m]\u001b[0m  \u001b[0;31m# add attentions if we output them\u001b[0m\u001b[0;34m\u001b[0m\u001b[0;34m\u001b[0m\u001b[0m\n",
      "\u001b[0;32m/fs/clip-xling/projects/semdiv/anaconda3/envs/semdiv/lib/python3.6/site-packages/torch/nn/modules/module.py\u001b[0m in \u001b[0;36m_call_impl\u001b[0;34m(self, *input, **kwargs)\u001b[0m\n\u001b[1;32m    725\u001b[0m             \u001b[0mresult\u001b[0m \u001b[0;34m=\u001b[0m \u001b[0mself\u001b[0m\u001b[0;34m.\u001b[0m\u001b[0m_slow_forward\u001b[0m\u001b[0;34m(\u001b[0m\u001b[0;34m*\u001b[0m\u001b[0minput\u001b[0m\u001b[0;34m,\u001b[0m \u001b[0;34m**\u001b[0m\u001b[0mkwargs\u001b[0m\u001b[0;34m)\u001b[0m\u001b[0;34m\u001b[0m\u001b[0;34m\u001b[0m\u001b[0m\n\u001b[1;32m    726\u001b[0m         \u001b[0;32melse\u001b[0m\u001b[0;34m:\u001b[0m\u001b[0;34m\u001b[0m\u001b[0;34m\u001b[0m\u001b[0m\n\u001b[0;32m--> 727\u001b[0;31m             \u001b[0mresult\u001b[0m \u001b[0;34m=\u001b[0m \u001b[0mself\u001b[0m\u001b[0;34m.\u001b[0m\u001b[0mforward\u001b[0m\u001b[0;34m(\u001b[0m\u001b[0;34m*\u001b[0m\u001b[0minput\u001b[0m\u001b[0;34m,\u001b[0m \u001b[0;34m**\u001b[0m\u001b[0mkwargs\u001b[0m\u001b[0;34m)\u001b[0m\u001b[0;34m\u001b[0m\u001b[0;34m\u001b[0m\u001b[0m\n\u001b[0m\u001b[1;32m    728\u001b[0m         for hook in itertools.chain(\n\u001b[1;32m    729\u001b[0m                 \u001b[0m_global_forward_hooks\u001b[0m\u001b[0;34m.\u001b[0m\u001b[0mvalues\u001b[0m\u001b[0;34m(\u001b[0m\u001b[0;34m)\u001b[0m\u001b[0;34m,\u001b[0m\u001b[0;34m\u001b[0m\u001b[0;34m\u001b[0m\u001b[0m\n",
      "\u001b[0;32m/fs/clip-xling/projects/semdiv/xling-SemDiv/software/transformers/src/transformers/modeling_bert.py\u001b[0m in \u001b[0;36mforward\u001b[0;34m(self, hidden_states)\u001b[0m\n\u001b[1;32m    297\u001b[0m \u001b[0;34m\u001b[0m\u001b[0m\n\u001b[1;32m    298\u001b[0m     \u001b[0;32mdef\u001b[0m \u001b[0mforward\u001b[0m\u001b[0;34m(\u001b[0m\u001b[0mself\u001b[0m\u001b[0;34m,\u001b[0m \u001b[0mhidden_states\u001b[0m\u001b[0;34m)\u001b[0m\u001b[0;34m:\u001b[0m\u001b[0;34m\u001b[0m\u001b[0;34m\u001b[0m\u001b[0m\n\u001b[0;32m--> 299\u001b[0;31m         \u001b[0mhidden_states\u001b[0m \u001b[0;34m=\u001b[0m \u001b[0mself\u001b[0m\u001b[0;34m.\u001b[0m\u001b[0mdense\u001b[0m\u001b[0;34m(\u001b[0m\u001b[0mhidden_states\u001b[0m\u001b[0;34m)\u001b[0m\u001b[0;34m\u001b[0m\u001b[0;34m\u001b[0m\u001b[0m\n\u001b[0m\u001b[1;32m    300\u001b[0m         \u001b[0mhidden_states\u001b[0m \u001b[0;34m=\u001b[0m \u001b[0mself\u001b[0m\u001b[0;34m.\u001b[0m\u001b[0mintermediate_act_fn\u001b[0m\u001b[0;34m(\u001b[0m\u001b[0mhidden_states\u001b[0m\u001b[0;34m)\u001b[0m\u001b[0;34m\u001b[0m\u001b[0;34m\u001b[0m\u001b[0m\n\u001b[1;32m    301\u001b[0m         \u001b[0;32mreturn\u001b[0m \u001b[0mhidden_states\u001b[0m\u001b[0;34m\u001b[0m\u001b[0;34m\u001b[0m\u001b[0m\n",
      "\u001b[0;32m/fs/clip-xling/projects/semdiv/anaconda3/envs/semdiv/lib/python3.6/site-packages/torch/nn/modules/module.py\u001b[0m in \u001b[0;36m_call_impl\u001b[0;34m(self, *input, **kwargs)\u001b[0m\n\u001b[1;32m    725\u001b[0m             \u001b[0mresult\u001b[0m \u001b[0;34m=\u001b[0m \u001b[0mself\u001b[0m\u001b[0;34m.\u001b[0m\u001b[0m_slow_forward\u001b[0m\u001b[0;34m(\u001b[0m\u001b[0;34m*\u001b[0m\u001b[0minput\u001b[0m\u001b[0;34m,\u001b[0m \u001b[0;34m**\u001b[0m\u001b[0mkwargs\u001b[0m\u001b[0;34m)\u001b[0m\u001b[0;34m\u001b[0m\u001b[0;34m\u001b[0m\u001b[0m\n\u001b[1;32m    726\u001b[0m         \u001b[0;32melse\u001b[0m\u001b[0;34m:\u001b[0m\u001b[0;34m\u001b[0m\u001b[0;34m\u001b[0m\u001b[0m\n\u001b[0;32m--> 727\u001b[0;31m             \u001b[0mresult\u001b[0m \u001b[0;34m=\u001b[0m \u001b[0mself\u001b[0m\u001b[0;34m.\u001b[0m\u001b[0mforward\u001b[0m\u001b[0;34m(\u001b[0m\u001b[0;34m*\u001b[0m\u001b[0minput\u001b[0m\u001b[0;34m,\u001b[0m \u001b[0;34m**\u001b[0m\u001b[0mkwargs\u001b[0m\u001b[0;34m)\u001b[0m\u001b[0;34m\u001b[0m\u001b[0;34m\u001b[0m\u001b[0m\n\u001b[0m\u001b[1;32m    728\u001b[0m         for hook in itertools.chain(\n\u001b[1;32m    729\u001b[0m                 \u001b[0m_global_forward_hooks\u001b[0m\u001b[0;34m.\u001b[0m\u001b[0mvalues\u001b[0m\u001b[0;34m(\u001b[0m\u001b[0;34m)\u001b[0m\u001b[0;34m,\u001b[0m\u001b[0;34m\u001b[0m\u001b[0;34m\u001b[0m\u001b[0m\n",
      "\u001b[0;32m/fs/clip-xling/projects/semdiv/anaconda3/envs/semdiv/lib/python3.6/site-packages/torch/nn/modules/linear.py\u001b[0m in \u001b[0;36mforward\u001b[0;34m(self, input)\u001b[0m\n\u001b[1;32m     91\u001b[0m \u001b[0;34m\u001b[0m\u001b[0m\n\u001b[1;32m     92\u001b[0m     \u001b[0;32mdef\u001b[0m \u001b[0mforward\u001b[0m\u001b[0;34m(\u001b[0m\u001b[0mself\u001b[0m\u001b[0;34m,\u001b[0m \u001b[0minput\u001b[0m\u001b[0;34m:\u001b[0m \u001b[0mTensor\u001b[0m\u001b[0;34m)\u001b[0m \u001b[0;34m->\u001b[0m \u001b[0mTensor\u001b[0m\u001b[0;34m:\u001b[0m\u001b[0;34m\u001b[0m\u001b[0;34m\u001b[0m\u001b[0m\n\u001b[0;32m---> 93\u001b[0;31m         \u001b[0;32mreturn\u001b[0m \u001b[0mF\u001b[0m\u001b[0;34m.\u001b[0m\u001b[0mlinear\u001b[0m\u001b[0;34m(\u001b[0m\u001b[0minput\u001b[0m\u001b[0;34m,\u001b[0m \u001b[0mself\u001b[0m\u001b[0;34m.\u001b[0m\u001b[0mweight\u001b[0m\u001b[0;34m,\u001b[0m \u001b[0mself\u001b[0m\u001b[0;34m.\u001b[0m\u001b[0mbias\u001b[0m\u001b[0;34m)\u001b[0m\u001b[0;34m\u001b[0m\u001b[0;34m\u001b[0m\u001b[0m\n\u001b[0m\u001b[1;32m     94\u001b[0m \u001b[0;34m\u001b[0m\u001b[0m\n\u001b[1;32m     95\u001b[0m     \u001b[0;32mdef\u001b[0m \u001b[0mextra_repr\u001b[0m\u001b[0;34m(\u001b[0m\u001b[0mself\u001b[0m\u001b[0;34m)\u001b[0m \u001b[0;34m->\u001b[0m \u001b[0mstr\u001b[0m\u001b[0;34m:\u001b[0m\u001b[0;34m\u001b[0m\u001b[0;34m\u001b[0m\u001b[0m\n",
      "\u001b[0;32m/fs/clip-xling/projects/semdiv/anaconda3/envs/semdiv/lib/python3.6/site-packages/torch/nn/functional.py\u001b[0m in \u001b[0;36mlinear\u001b[0;34m(input, weight, bias)\u001b[0m\n\u001b[1;32m   1690\u001b[0m         \u001b[0mret\u001b[0m \u001b[0;34m=\u001b[0m \u001b[0mtorch\u001b[0m\u001b[0;34m.\u001b[0m\u001b[0maddmm\u001b[0m\u001b[0;34m(\u001b[0m\u001b[0mbias\u001b[0m\u001b[0;34m,\u001b[0m \u001b[0minput\u001b[0m\u001b[0;34m,\u001b[0m \u001b[0mweight\u001b[0m\u001b[0;34m.\u001b[0m\u001b[0mt\u001b[0m\u001b[0;34m(\u001b[0m\u001b[0;34m)\u001b[0m\u001b[0;34m)\u001b[0m\u001b[0;34m\u001b[0m\u001b[0;34m\u001b[0m\u001b[0m\n\u001b[1;32m   1691\u001b[0m     \u001b[0;32melse\u001b[0m\u001b[0;34m:\u001b[0m\u001b[0;34m\u001b[0m\u001b[0;34m\u001b[0m\u001b[0m\n\u001b[0;32m-> 1692\u001b[0;31m         \u001b[0moutput\u001b[0m \u001b[0;34m=\u001b[0m \u001b[0minput\u001b[0m\u001b[0;34m.\u001b[0m\u001b[0mmatmul\u001b[0m\u001b[0;34m(\u001b[0m\u001b[0mweight\u001b[0m\u001b[0;34m.\u001b[0m\u001b[0mt\u001b[0m\u001b[0;34m(\u001b[0m\u001b[0;34m)\u001b[0m\u001b[0;34m)\u001b[0m\u001b[0;34m\u001b[0m\u001b[0;34m\u001b[0m\u001b[0m\n\u001b[0m\u001b[1;32m   1693\u001b[0m         \u001b[0;32mif\u001b[0m \u001b[0mbias\u001b[0m \u001b[0;32mis\u001b[0m \u001b[0;32mnot\u001b[0m \u001b[0;32mNone\u001b[0m\u001b[0;34m:\u001b[0m\u001b[0;34m\u001b[0m\u001b[0;34m\u001b[0m\u001b[0m\n\u001b[1;32m   1694\u001b[0m             \u001b[0moutput\u001b[0m \u001b[0;34m+=\u001b[0m \u001b[0mbias\u001b[0m\u001b[0;34m\u001b[0m\u001b[0;34m\u001b[0m\u001b[0m\n",
      "\u001b[0;31mKeyboardInterrupt\u001b[0m: "
     ]
    }
   ],
   "source": [
    "refresd_annotations = 'flores200_dataset/devtest/fra_Latn.devtest.divergent_inter'\n",
    "parse = False\n",
    "filter_leng = True\n",
    "divs_lpo = []\n",
    "verbose=False\n",
    "\n",
    "with open(refresd_annotations, 'r') as file_:\n",
    "    lines = file_.readlines()\n",
    "    #next(tsv_file)\n",
    "    for id_, line in enumerate(lines):\n",
    "        #print(f'____________________________________{id_}___________________________________________________')\n",
    "        #if id_ < 7:\n",
    "        #    continue\n",
    "        line = line.split('\\t')\n",
    "\n",
    "        en_text = line[0]\n",
    "        fr_text = line[1]\n",
    "        en_text_original = en_text\n",
    "        fr_text_original = fr_text\n",
    "        en_text_or, fr_text_or = en_text, fr_text\n",
    "        en_len = len(en_text.split(' '))/2\n",
    "        fr_len = len(fr_text.split(' '))/2\n",
    "        alis = line[2] \n",
    "        if parse:\n",
    "            syntactic_phrases = extract_syntactic_phrases(en_text, line[5].rstrip())\n",
    "        if not alis:\n",
    "            print('No alignments!...')\n",
    "            continue\n",
    "        en2fr = ali_to_tuple(alis)\n",
    "  \n",
    "        \n",
    "        \n",
    "\n",
    "        #display_HTML(en_text, en_div)\n",
    "        #display_HTML(fr_text, fr_div)\n",
    "        #phrases = phrase_extraction(en_text, fr_text, en2fr)\n",
    "        phrases = set()\n",
    "        if paired_phrases:\n",
    "            if filter_ngrams_flag:\n",
    "                phrases = filtered_ngrams(phrase_extraction(en_text, fr_text, en2fr), 10)\n",
    "            elif filter_leng:\n",
    "                phrases = filtered_phrases(phrase_extraction(en_text, fr_text, en2fr), en_len, fr_len)\n",
    "            else:\n",
    "                phrases = phrase_extraction(en_text, fr_text, en2fr)\n",
    "            paired_set = phrases\n",
    "            \n",
    "            if parse:\n",
    "                phrases = filter_syntactic_phrases(paired_set, syntactic_phrases)\n",
    "                \n",
    "            #print(f'{len(paired_set)} {len(phrases)}')\n",
    "        #print(phrases)\n",
    "        \n",
    "        if missing_phrases:\n",
    "            en_aligned, fr_aligned = [], []\n",
    "            for (en_a, fr_a) in en2fr:\n",
    "                en_aligned.append(en_a)\n",
    "                fr_aligned.append(fr_a)\n",
    "            en_unaligned = get_unaligned_phrases(en_aligned, en_text)\n",
    "            fr_unaligned = get_unaligned_phrases(fr_aligned, fr_text)\n",
    "            for phrase in en_unaligned:\n",
    "                phrases.add((phrase[0], None, phrase[1], ''))\n",
    "            for phrase in fr_unaligned:\n",
    "                phrases.add((None, phrase[0], '', phrase[1]))\n",
    "        \n",
    "        if strip_punctuation_flag: \n",
    "            score = model([f'{strip_punctuation(en_text)}'], [f'{strip_punctuation(fr_text)}'])\n",
    "        else:\n",
    "            score = model([f'{en_text}'], [f'{fr_text}'])\n",
    "            \n",
    "        if float(score[0][0]) > -10:\n",
    "            continue\n",
    "        \n",
    "        #if len(en_text.split(' '))> 20:\n",
    "        #    continue\n",
    "\n",
    "        print(f'_________________________________________________________________________________________')\n",
    "            \n",
    "        print(f'\\n\\n >> Original Score: {score[0][0]}')\n",
    "        \n",
    "        print(f'- - - - - - - - - - - - - - - - - - - - - - - - - - - - - - - - - - - - - - - - - - - - - - ')\n",
    "\n",
    "              \n",
    "        print(en_text)\n",
    "        print(fr_text)      \n",
    "        global_phrasal_annotations, divergent_flag = [], True  \n",
    "        \n",
    "        \n",
    "        count = 0\n",
    "        while divergent_flag: # and count==0:\n",
    "            count += 1\n",
    "            \n",
    "            phrasal_annotations = []\n",
    "            \n",
    "            # Check if deletion of phrases improve over current score\n",
    "            for phrase in phrases:\n",
    "                #if phrase in global_phrasal_annotations:\n",
    "                #    continue\n",
    "\n",
    "                masked_en = mask_out_phrase(en_text, phrase[2])\n",
    "                masked_fr = mask_out_phrase(fr_text, phrase[3])\n",
    "                if not masked_en or not masked_fr:\n",
    "                    continue\n",
    "                if punctuation_spans(masked_en) and punctuation_spans(masked_fr):\n",
    "                    continue\n",
    "\n",
    "                if strip_punctuation_flag:\n",
    "                    masked_score = model([strip_punctuation(masked_en)], [strip_punctuation(masked_fr)])\n",
    "                else:\n",
    "                    masked_score = model([masked_en], [masked_fr])\n",
    "                if masked_score > score:\n",
    "                    if verbose: \n",
    "                        print(f'\\n{phrase[2]} ||| {phrase[3]}')\n",
    "                        #print(f'\\n{masked_en} ||| {masked_fr}')\n",
    "                        #print(f'{en_phrase_len} ||| {fr_phrase_len}')\n",
    "                        #print(strip_punctuation(masked_en))\n",
    "                        #print(strip_punctuation(masked_fr))\n",
    "                        print(score)\n",
    "                        print(masked_score)\n",
    "                    phrasal_annotations.append([phrase, masked_score])\n",
    "                                    \n",
    "            # If phrasal annotations cannot further improve divergence score exit. \n",
    "            if not phrasal_annotations:\n",
    "                divergent_flag = False\n",
    "                continue\n",
    "            else:\n",
    "                #print(phrasal_annotations)\n",
    "                # Krate ta top N \n",
    "                \n",
    "                en_rationale, fr_rationale, masked_score = phrase_rationale(phrasal_annotations, en_text)\n",
    "                global_phrasal_annotations.append([phrase, masked_score])\n",
    "                en_text = index_to_text(en_rationale,en_text.split(' '))\n",
    "                fr_text = index_to_text(fr_rationale,fr_text.split(' '))\n",
    "                score = masked_score\n",
    "    \n",
    "                en_div_lpo = index_to_div_labels(en_rationale,len(en_text_or.split(' ')))\n",
    "                fr_div_lpo = index_to_div_labels(fr_rationale,len(fr_text_or.split(' ')))\n",
    "              \n",
    "            print(f'\\n----Revision: {count}')\n",
    "            display_HTML(en_text_or, en_div_lpo)\n",
    "            display_HTML(fr_text_or, fr_div_lpo)\n",
    "            #print(f'{en_text} ||| {fr_text}')\n",
    "\n",
    "            print(f' >> Masked Score: {masked_score}')\n",
    "        \n",
    "        divs_lpo.append([line, en_div_lpo, fr_div_lpo, masked_score])\n",
    "        \n",
    "        \n",
    "\n",
    "\n",
    "print('End')"
   ]
  },
  {
   "cell_type": "code",
   "execution_count": null,
   "id": "8fdcae99",
   "metadata": {
    "scrolled": true
   },
   "outputs": [],
   "source": []
  }
 ],
 "metadata": {
  "kernelspec": {
   "display_name": "Python 3",
   "language": "python",
   "name": "python3"
  },
  "language_info": {
   "codemirror_mode": {
    "name": "ipython",
    "version": 3
   },
   "file_extension": ".py",
   "mimetype": "text/x-python",
   "name": "python",
   "nbconvert_exporter": "python",
   "pygments_lexer": "ipython3",
   "version": "3.6.12"
  }
 },
 "nbformat": 4,
 "nbformat_minor": 5
}
