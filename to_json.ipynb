{
 "cells": [
  {
   "cell_type": "code",
   "execution_count": 3,
   "id": "f8fb4383",
   "metadata": {},
   "outputs": [],
   "source": [
    "from IPython.display import display, HTML\n",
    "import numpy as np"
   ]
  },
  {
   "cell_type": "code",
   "execution_count": 4,
   "id": "c36b0c78",
   "metadata": {},
   "outputs": [],
   "source": [
    "div_to_color = {'0': '#FFFFFF',\n",
    "                '1': '#e0e0e0',\n",
    "                '2': '#DFFF00',\n",
    "                '3': '#9FE2BF',\n",
    "                '4': '#CCCCFF',\n",
    "                '5': '#FFE4E1',\n",
    "                '6': '#FF00FF',\n",
    "                '7': '#e3abfb',    \n",
    "                '8': '#FFBF00',\n",
    "                '9': '#BBBAFF',\n",
    "                '10': '#FFC2E2',\n",
    "                '11': '#F4FDB1',\n",
    "                '12': '#7C8BFF',\n",
    "                '13': '#95FFF7',\n",
    "                '14': '#FF5733',\n",
    "                '15': '#33FF4C',\n",
    "                '16': '#7733FF',\n",
    "                '17': '#B2FF33',\n",
    "                '18': '#33FF83', \n",
    "                '19': '#FF3371', \n",
    "                '20': '#33F3FF',\n",
    "                '21': '#8AFF33',\n",
    "                '22': '#33FFC1',\n",
    "                '23': '#AF33FF',\n",
    "                '24': '#FFD433',\n",
    "                '25': '#33ACFF',\n",
    "                '26': '#BDAACF',\n",
    "                '27': '#ACE6DA',\n",
    "                '28': '#CCCCFF',\n",
    "                '29': '#FFE4E1',\n",
    "                '30': '#FF00FF',\n",
    "                '31': '#e3abfb',    \n",
    "                '32': '#FFBF00',\n",
    "                '33': '#BBBAFF',\n",
    "}\n",
    "\n",
    "\n",
    "\n",
    "def color_html(label):\n",
    "    return f'<span style=\"background-color:{div_to_color[label]} \">'\n",
    "\n",
    "def display_HTML(text, div, offset=False, one_color=False):\n",
    "    displayed_text = ''\n",
    "    previous = 'eq'\n",
    "    mark_end = '</span>'\n",
    "    for token, label in zip(text.split(' '), div.split(' ')):\n",
    "        if one_color:\n",
    "            if int(label) > 0:\n",
    "                label = '1'\n",
    "        if offset:\n",
    "            if label != '0':\n",
    "                label = str(int(label)  + 1)\n",
    "        mark = color_html(label)\n",
    "        if label == '0':\n",
    "            displayed_text += f' {token}'\n",
    "            previous = 'eq'\n",
    "        else:\n",
    "            if previous == 'div':\n",
    "                displayed_text += f'{mark} {token}{mark_end}'\n",
    "            else:\n",
    "                displayed_text += f' {mark}{token}{mark_end}'\n",
    "            previous = 'div'\n",
    "        \n",
    "    return display(HTML(displayed_text)), displayed_text\n",
    "\n",
    "def add_lists(list_a, list_b):\n",
    "    #print(list_b)\n",
    "    #print(list_a)\n",
    "    #print('as')\n",
    "    list_add = []\n",
    "    for (a, b) in zip(list_a, list_b):\n",
    "        list_add.append(a+b)\n",
    "    return list_add"
   ]
  },
  {
   "cell_type": "code",
   "execution_count": 8,
   "id": "110d44aa",
   "metadata": {
    "scrolled": false
   },
   "outputs": [
    {
     "name": "stdout",
     "output_type": "stream",
     "text": [
      "____________________________________0___________________________________________________\n",
      "0\n",
      "11.39307166\n"
     ]
    },
    {
     "data": {
      "text/html": [
       " <span style=\"background-color:#e0e0e0 \">-0.71412516</span><span style=\"background-color:#DFFF00 \"> 10.6789465</span>"
      ],
      "text/plain": [
       "<IPython.core.display.HTML object>"
      ]
     },
     "metadata": {},
     "output_type": "display_data"
    },
    {
     "name": "stdout",
     "output_type": "stream",
     "text": [
      "-  --  --  --  --  --  --  --  --  --  --  --  --  --  --  --  --  --  --  --  --  --  --  --  --  -\n"
     ]
    },
    {
     "data": {
      "text/html": [
       " Dr. Ehud Ur, professor of medicine at Dalhousie University in Halifax, Nova Scotia <span style=\"background-color:#DFFF00 \">and</span><span style=\"background-color:#DFFF00 \"> chair</span><span style=\"background-color:#DFFF00 \"> of</span><span style=\"background-color:#DFFF00 \"> the</span><span style=\"background-color:#DFFF00 \"> clinical</span><span style=\"background-color:#DFFF00 \"> and</span><span style=\"background-color:#DFFF00 \"> scientific</span><span style=\"background-color:#DFFF00 \"> division</span><span style=\"background-color:#DFFF00 \"> of</span><span style=\"background-color:#DFFF00 \"> the</span><span style=\"background-color:#DFFF00 \"> Canadian</span><span style=\"background-color:#DFFF00 \"> Diabetes</span><span style=\"background-color:#DFFF00 \"> Association</span><span style=\"background-color:#DFFF00 \"> cautioned</span><span style=\"background-color:#DFFF00 \"> that</span><span style=\"background-color:#DFFF00 \"> the</span><span style=\"background-color:#DFFF00 \"> research</span><span style=\"background-color:#DFFF00 \"> is</span><span style=\"background-color:#DFFF00 \"> still</span><span style=\"background-color:#DFFF00 \"> in</span><span style=\"background-color:#DFFF00 \"> its</span><span style=\"background-color:#DFFF00 \"> early</span><span style=\"background-color:#DFFF00 \"> days.</span>"
      ],
      "text/plain": [
       "<IPython.core.display.HTML object>"
      ]
     },
     "metadata": {},
     "output_type": "display_data"
    },
    {
     "data": {
      "text/html": [
       " Ο Δρ Έχουντ Ουρ, καθηγητής ιατρικής του Πανεπιστημίου Νταλουζί στο Χάλιφαξ της Νέας Σκωτίας <span style=\"background-color:#DFFF00 \">και</span><span style=\"background-color:#DFFF00 \"> πρόεδρος</span><span style=\"background-color:#DFFF00 \"> του</span><span style=\"background-color:#DFFF00 \"> κλινικού</span><span style=\"background-color:#DFFF00 \"> και</span><span style=\"background-color:#DFFF00 \"> επιστημονικού</span><span style=\"background-color:#DFFF00 \"> τμήματος</span><span style=\"background-color:#DFFF00 \"> της</span><span style=\"background-color:#DFFF00 \"> Καναδικής</span><span style=\"background-color:#DFFF00 \"> Ένωσης</span><span style=\"background-color:#DFFF00 \"> Διαβήτη</span><span style=\"background-color:#DFFF00 \"> επεσήμανε</span><span style=\"background-color:#DFFF00 \"> ότι</span><span style=\"background-color:#DFFF00 \"> η</span><span style=\"background-color:#DFFF00 \"> έρευνα</span><span style=\"background-color:#DFFF00 \"> βρίσκεται</span><span style=\"background-color:#DFFF00 \"> ακόμη</span><span style=\"background-color:#DFFF00 \"> σε</span><span style=\"background-color:#DFFF00 \"> αρχικό</span><span style=\"background-color:#DFFF00 \"> στάδιο.</span>"
      ],
      "text/plain": [
       "<IPython.core.display.HTML object>"
      ]
     },
     "metadata": {},
     "output_type": "display_data"
    },
    {
     "name": "stdout",
     "output_type": "stream",
     "text": [
      "____________________________________1___________________________________________________\n",
      "1\n",
      "20.744071\n"
     ]
    },
    {
     "data": {
      "text/html": [
       " <span style=\"background-color:#e0e0e0 \">-4.853212</span><span style=\"background-color:#DFFF00 \"> 15.738087</span><span style=\"background-color:#9FE2BF \"> 15.890859</span>"
      ],
      "text/plain": [
       "<IPython.core.display.HTML object>"
      ]
     },
     "metadata": {},
     "output_type": "display_data"
    },
    {
     "name": "stdout",
     "output_type": "stream",
     "text": [
      "-  --  --  --  --  --  --  --  --  --  --  --  --  --  --  --  --  --  --  --  --  --  --  --  --  -\n"
     ]
    },
    {
     "data": {
      "text/html": [
       " <span style=\"background-color:#9FE2BF \">On</span><span style=\"background-color:#9FE2BF \"> Monday,</span> Sara Danius, permanent secretary of the Nobel Committee for Literature at the Swedish Academy, publicly announced <span style=\"background-color:#DFFF00 \">during</span><span style=\"background-color:#DFFF00 \"> a</span><span style=\"background-color:#DFFF00 \"> radio</span><span style=\"background-color:#DFFF00 \"> program</span><span style=\"background-color:#DFFF00 \"> on</span><span style=\"background-color:#DFFF00 \"> Sveriges</span><span style=\"background-color:#DFFF00 \"> Radio</span><span style=\"background-color:#DFFF00 \"> in</span><span style=\"background-color:#DFFF00 \"> Sweden</span><span style=\"background-color:#DFFF00 \"> the</span><span style=\"background-color:#DFFF00 \"> committee,</span><span style=\"background-color:#DFFF00 \"> unable</span><span style=\"background-color:#DFFF00 \"> to</span><span style=\"background-color:#DFFF00 \"> reach</span><span style=\"background-color:#DFFF00 \"> Bob</span><span style=\"background-color:#DFFF00 \"> Dylan</span><span style=\"background-color:#DFFF00 \"> directly</span><span style=\"background-color:#DFFF00 \"> about</span><span style=\"background-color:#DFFF00 \"> winning</span> the 2016 Nobel Prize in Literature, had abandoned its efforts to reach him."
      ],
      "text/plain": [
       "<IPython.core.display.HTML object>"
      ]
     },
     "metadata": {},
     "output_type": "display_data"
    },
    {
     "data": {
      "text/html": [
       " <span style=\"background-color:#9FE2BF \">Τη</span><span style=\"background-color:#9FE2BF \"> Δευτέρα,</span> η Σάρα Ντάνιους, μόνιμη γραμματέας της επιτροπής για το Νόμπελ λογοτεχνίας στη Σουηδική Ακαδημία, είπε <span style=\"background-color:#DFFF00 \">δημόσια,</span><span style=\"background-color:#DFFF00 \"> στον</span><span style=\"background-color:#DFFF00 \"> αέρα</span><span style=\"background-color:#DFFF00 \"> προγράμματος</span><span style=\"background-color:#DFFF00 \"> ραδιοφώνου</span><span style=\"background-color:#DFFF00 \"> του</span><span style=\"background-color:#DFFF00 \"> εθνικού</span><span style=\"background-color:#DFFF00 \"> ραδιοτηλεοπτικού</span><span style=\"background-color:#DFFF00 \"> σταθμού</span><span style=\"background-color:#DFFF00 \"> Sveriges</span><span style=\"background-color:#DFFF00 \"> της</span><span style=\"background-color:#DFFF00 \"> Σουηδίας,</span><span style=\"background-color:#DFFF00 \"> πως</span><span style=\"background-color:#DFFF00 \"> η</span><span style=\"background-color:#DFFF00 \"> επιτροπή,</span><span style=\"background-color:#DFFF00 \"> που</span><span style=\"background-color:#DFFF00 \"> δεν</span><span style=\"background-color:#DFFF00 \"> μπόρεσε</span><span style=\"background-color:#DFFF00 \"> να</span><span style=\"background-color:#DFFF00 \"> έρθει</span><span style=\"background-color:#DFFF00 \"> σε</span><span style=\"background-color:#DFFF00 \"> επαφή</span><span style=\"background-color:#DFFF00 \"> κατευθείαν</span><span style=\"background-color:#DFFF00 \"> με</span><span style=\"background-color:#DFFF00 \"> τον</span><span style=\"background-color:#DFFF00 \"> Μπομπ</span><span style=\"background-color:#DFFF00 \"> Ντίλαν</span><span style=\"background-color:#DFFF00 \"> για</span> το Νόμπελ λογοτεχνίας του 2016, σταμάτησε τις προσπάθειες να τον βρει."
      ],
      "text/plain": [
       "<IPython.core.display.HTML object>"
      ]
     },
     "metadata": {},
     "output_type": "display_data"
    },
    {
     "name": "stdout",
     "output_type": "stream",
     "text": [
      "____________________________________2___________________________________________________\n",
      "2\n",
      "0.2684920000000002\n"
     ]
    },
    {
     "data": {
      "text/html": [
       " <span style=\"background-color:#e0e0e0 \">-15.903511</span><span style=\"background-color:#DFFF00 \"> -15.754285</span><span style=\"background-color:#9FE2BF \"> -15.635019</span>"
      ],
      "text/plain": [
       "<IPython.core.display.HTML object>"
      ]
     },
     "metadata": {},
     "output_type": "display_data"
    },
    {
     "name": "stdout",
     "output_type": "stream",
     "text": [
      "-  --  --  --  --  --  --  --  --  --  --  --  --  --  --  --  --  --  --  --  --  --  --  --  --  -\n"
     ]
    },
    {
     "data": {
      "text/html": [
       " <span style=\"background-color:#9FE2BF \">He</span><span style=\"background-color:#9FE2BF \"> built</span><span style=\"background-color:#9FE2BF \"> a</span> WiFi <span style=\"background-color:#DFFF00 \">door</span><span style=\"background-color:#DFFF00 \"> bell,</span><span style=\"background-color:#DFFF00 \"> he</span> said."
      ],
      "text/plain": [
       "<IPython.core.display.HTML object>"
      ]
     },
     "metadata": {},
     "output_type": "display_data"
    },
    {
     "data": {
      "text/html": [
       " Είπε ότι <span style=\"background-color:#9FE2BF \">έφτιαξε</span><span style=\"background-color:#9FE2BF \"> ένα</span><span style=\"background-color:#9FE2BF \"> κουδούνι</span><span style=\"background-color:#9FE2BF \"> με</span> Wi-Fi."
      ],
      "text/plain": [
       "<IPython.core.display.HTML object>"
      ]
     },
     "metadata": {},
     "output_type": "display_data"
    },
    {
     "name": "stdout",
     "output_type": "stream",
     "text": [
      "____________________________________3___________________________________________________\n",
      "3\n",
      "2.06156\n"
     ]
    },
    {
     "data": {
      "text/html": [
       " <span style=\"background-color:#e0e0e0 \">-11.083986</span><span style=\"background-color:#DFFF00 \"> -9.022426</span>"
      ],
      "text/plain": [
       "<IPython.core.display.HTML object>"
      ]
     },
     "metadata": {},
     "output_type": "display_data"
    },
    {
     "name": "stdout",
     "output_type": "stream",
     "text": [
      "-  --  --  --  --  --  --  --  --  --  --  --  --  --  --  --  --  --  --  --  --  --  --  --  --  -\n"
     ]
    },
    {
     "data": {
      "text/html": [
       " <span style=\"background-color:#DFFF00 \">In</span><span style=\"background-color:#DFFF00 \"> late</span><span style=\"background-color:#DFFF00 \"> 2017,</span> Siminoff appeared on shopping television channel QVC."
      ],
      "text/plain": [
       "<IPython.core.display.HTML object>"
      ]
     },
     "metadata": {},
     "output_type": "display_data"
    },
    {
     "data": {
      "text/html": [
       " <span style=\"background-color:#DFFF00 \">Λίγο</span><span style=\"background-color:#DFFF00 \"> πριν</span><span style=\"background-color:#DFFF00 \"> το</span><span style=\"background-color:#DFFF00 \"> 2018,</span> ο Σίμινοφ πήγε στον σταθμό τηλεμάρκετινγκ QVC."
      ],
      "text/plain": [
       "<IPython.core.display.HTML object>"
      ]
     },
     "metadata": {},
     "output_type": "display_data"
    },
    {
     "name": "stdout",
     "output_type": "stream",
     "text": [
      "____________________________________5___________________________________________________\n",
      "4\n",
      "10.7336485\n"
     ]
    },
    {
     "data": {
      "text/html": [
       " <span style=\"background-color:#e0e0e0 \">-0.8285655</span><span style=\"background-color:#DFFF00 \"> 8.094085</span><span style=\"background-color:#9FE2BF \"> 9.905083</span>"
      ],
      "text/plain": [
       "<IPython.core.display.HTML object>"
      ]
     },
     "metadata": {},
     "output_type": "display_data"
    },
    {
     "name": "stdout",
     "output_type": "stream",
     "text": [
      "-  --  --  --  --  --  --  --  --  --  --  --  --  --  --  --  --  --  --  --  --  --  --  --  --  -\n"
     ]
    },
    {
     "data": {
      "text/html": [
       " One antibody cocktail, ZMapp, initially <span style=\"background-color:#DFFF00 \">showed</span><span style=\"background-color:#DFFF00 \"> promise</span><span style=\"background-color:#DFFF00 \"> in</span><span style=\"background-color:#DFFF00 \"> the</span><span style=\"background-color:#DFFF00 \"> field,</span><span style=\"background-color:#DFFF00 \"> but</span><span style=\"background-color:#DFFF00 \"> formal</span> studies indicated it had less benefit than <span style=\"background-color:#9FE2BF \">sought</span> in preventing death."
      ],
      "text/plain": [
       "<IPython.core.display.HTML object>"
      ]
     },
     "metadata": {},
     "output_type": "display_data"
    },
    {
     "data": {
      "text/html": [
       " Ένα κοκτέιλ αντισωμάτων, το Zmapp, στην αρχή <span style=\"background-color:#DFFF00 \">ήταν</span><span style=\"background-color:#DFFF00 \"> πολλά</span><span style=\"background-color:#DFFF00 \"> υποσχόμενο</span><span style=\"background-color:#DFFF00 \"> στο</span><span style=\"background-color:#DFFF00 \"> πεδίο,</span><span style=\"background-color:#DFFF00 \"> όμως</span><span style=\"background-color:#DFFF00 \"> επίσημες</span> μελέτες έδειξαν ότι πρόσφερε λιγότερα οφέλη από <span style=\"background-color:#9FE2BF \">το</span><span style=\"background-color:#9FE2BF \"> επιδιωκόμενο</span> στην πρόληψη θανάτων."
      ],
      "text/plain": [
       "<IPython.core.display.HTML object>"
      ]
     },
     "metadata": {},
     "output_type": "display_data"
    },
    {
     "name": "stdout",
     "output_type": "stream",
     "text": [
      "____________________________________6___________________________________________________\n",
      "5\n",
      "9.5050149\n"
     ]
    },
    {
     "data": {
      "text/html": [
       " <span style=\"background-color:#e0e0e0 \">-2.5836883</span><span style=\"background-color:#DFFF00 \"> 5.100226</span><span style=\"background-color:#9FE2BF \"> 6.9213266</span>"
      ],
      "text/plain": [
       "<IPython.core.display.HTML object>"
      ]
     },
     "metadata": {},
     "output_type": "display_data"
    },
    {
     "name": "stdout",
     "output_type": "stream",
     "text": [
      "-  --  --  --  --  --  --  --  --  --  --  --  --  --  --  --  --  --  --  --  --  --  --  --  --  -\n"
     ]
    },
    {
     "data": {
      "text/html": [
       " We agree with <span style=\"background-color:#DFFF00 \">the</span><span style=\"background-color:#DFFF00 \"> USOC's</span><span style=\"background-color:#DFFF00 \"> statement</span> that the interests of our athletes and clubs, and their sport, may be better served by <span style=\"background-color:#9FE2BF \">moving</span><span style=\"background-color:#9FE2BF \"> forward</span><span style=\"background-color:#9FE2BF \"> with</span> meaningful change within our organization, rather than decertification."
      ],
      "text/plain": [
       "<IPython.core.display.HTML object>"
      ]
     },
     "metadata": {},
     "output_type": "display_data"
    },
    {
     "data": {
      "text/html": [
       " Συμφωνούμε με <span style=\"background-color:#DFFF00 \">τη</span><span style=\"background-color:#DFFF00 \"> δήλωση</span><span style=\"background-color:#DFFF00 \"> της</span><span style=\"background-color:#DFFF00 \"> Ολυμπιακής</span><span style=\"background-color:#DFFF00 \"> και</span><span style=\"background-color:#DFFF00 \"> Παραολυμπιακής</span><span style=\"background-color:#DFFF00 \"> Επιτροπής</span><span style=\"background-color:#DFFF00 \"> των</span><span style=\"background-color:#DFFF00 \"> Ην.</span><span style=\"background-color:#DFFF00 \"> Πολιτειών</span> ότι τα συμφέροντα των αθλητών, των συλλόγων μας και των αθλημάτων τους θα εξυπηρετούνταν καλύτερα εάν προχωρούσαμε <span style=\"background-color:#9FE2BF \">σε</span> ουσιαστικές αλλαγές στον οργανισμό μας, αντί για την άρση της πιστοποίησης."
      ],
      "text/plain": [
       "<IPython.core.display.HTML object>"
      ]
     },
     "metadata": {},
     "output_type": "display_data"
    },
    {
     "name": "stdout",
     "output_type": "stream",
     "text": [
      "____________________________________7___________________________________________________\n",
      "6\n",
      "19.3817263\n"
     ]
    },
    {
     "data": {
      "text/html": [
       " <span style=\"background-color:#e0e0e0 \">-3.4855528</span><span style=\"background-color:#DFFF00 \"> 15.783422</span><span style=\"background-color:#9FE2BF \"> 15.8961735</span>"
      ],
      "text/plain": [
       "<IPython.core.display.HTML object>"
      ]
     },
     "metadata": {},
     "output_type": "display_data"
    },
    {
     "name": "stdout",
     "output_type": "stream",
     "text": [
      "-  --  --  --  --  --  --  --  --  --  --  --  --  --  --  --  --  --  --  --  --  --  --  --  --  -\n"
     ]
    },
    {
     "data": {
      "text/html": [
       " <span style=\"background-color:#DFFF00 \">USA</span><span style=\"background-color:#DFFF00 \"> Gymnastics</span><span style=\"background-color:#DFFF00 \"> and</span><span style=\"background-color:#DFFF00 \"> the</span><span style=\"background-color:#DFFF00 \"> USOC</span><span style=\"background-color:#DFFF00 \"> have</span><span style=\"background-color:#DFFF00 \"> the</span><span style=\"background-color:#DFFF00 \"> same</span><span style=\"background-color:#DFFF00 \"> goal</span><span style=\"background-color:#DFFF00 \"> —</span><span style=\"background-color:#DFFF00 \"> making</span> the sport of gymnastics, and others, as safe as possible for athletes <span style=\"background-color:#9FE2BF \">to</span><span style=\"background-color:#9FE2BF \"> follow</span><span style=\"background-color:#9FE2BF \"> their</span><span style=\"background-color:#9FE2BF \"> dreams</span> in a safe, positive and empowered environment."
      ],
      "text/plain": [
       "<IPython.core.display.HTML object>"
      ]
     },
     "metadata": {},
     "output_type": "display_data"
    },
    {
     "data": {
      "text/html": [
       " Η <span style=\"background-color:#DFFF00 \">Ομοσπονδία</span><span style=\"background-color:#DFFF00 \"> Γυμναστικής</span><span style=\"background-color:#DFFF00 \"> και</span><span style=\"background-color:#DFFF00 \"> η</span><span style=\"background-color:#DFFF00 \"> Ολυμπιακή</span><span style=\"background-color:#DFFF00 \"> και</span><span style=\"background-color:#DFFF00 \"> Παραολυμπιακή</span><span style=\"background-color:#DFFF00 \"> Επιτροπή</span><span style=\"background-color:#DFFF00 \"> των</span><span style=\"background-color:#DFFF00 \"> Ηνωμένων</span><span style=\"background-color:#DFFF00 \"> Πολιτειών</span><span style=\"background-color:#DFFF00 \"> Αμερικής</span><span style=\"background-color:#DFFF00 \"> έχουν</span><span style=\"background-color:#DFFF00 \"> τον</span><span style=\"background-color:#DFFF00 \"> ίδιο</span><span style=\"background-color:#DFFF00 \"> στόχο</span><span style=\"background-color:#DFFF00 \"> -</span><span style=\"background-color:#DFFF00 \"> να</span><span style=\"background-color:#DFFF00 \"> κάνουν</span> το άθλημα της γυμνασικής, και άλλα, όσο το δυνατόν πιο ασφαλή για τους αθλητές <span style=\"background-color:#9FE2BF \">ώστε</span><span style=\"background-color:#9FE2BF \"> να</span><span style=\"background-color:#9FE2BF \"> ακολουθήσουν</span><span style=\"background-color:#9FE2BF \"> το</span><span style=\"background-color:#9FE2BF \"> όνειρό</span><span style=\"background-color:#9FE2BF \"> τους</span> σε ένα ασφαλές, θετικό και κατάλληλο περιβάλλον."
      ],
      "text/plain": [
       "<IPython.core.display.HTML object>"
      ]
     },
     "metadata": {},
     "output_type": "display_data"
    },
    {
     "name": "stdout",
     "output_type": "stream",
     "text": [
      "____________________________________8___________________________________________________\n",
      "7\n",
      "31.462065000000003\n"
     ]
    },
    {
     "data": {
      "text/html": [
       " <span style=\"background-color:#e0e0e0 \">-15.546976</span><span style=\"background-color:#DFFF00 \"> 15.111619</span><span style=\"background-color:#9FE2BF \"> 15.86809</span><span style=\"background-color:#CCCCFF \"> 15.915089</span>"
      ],
      "text/plain": [
       "<IPython.core.display.HTML object>"
      ]
     },
     "metadata": {},
     "output_type": "display_data"
    },
    {
     "name": "stdout",
     "output_type": "stream",
     "text": [
      "-  --  --  --  --  --  --  --  --  --  --  --  --  --  --  --  --  --  --  --  --  --  --  --  --  -\n"
     ]
    },
    {
     "data": {
      "text/html": [
       " <span style=\"background-color:#9FE2BF \">As</span><span style=\"background-color:#9FE2BF \"> NSA,</span> he assisted Carter in diplomatically handling world affairs, such as <span style=\"background-color:#DFFF00 \">the</span><span style=\"background-color:#DFFF00 \"> Camp</span><span style=\"background-color:#DFFF00 \"> David</span><span style=\"background-color:#DFFF00 \"> Accords,</span><span style=\"background-color:#DFFF00 \"> 1978;</span><span style=\"background-color:#DFFF00 \"> normalizing</span><span style=\"background-color:#DFFF00 \"> US–China</span><span style=\"background-color:#DFFF00 \"> relations</span><span style=\"background-color:#DFFF00 \"> thought</span><span style=\"background-color:#DFFF00 \"> the</span><span style=\"background-color:#DFFF00 \"> late</span><span style=\"background-color:#DFFF00 \"> 1970s;</span><span style=\"background-color:#DFFF00 \"> the</span> Iranian Revolution, which led to the Iran <span style=\"background-color:#CCCCFF \">hostage</span><span style=\"background-color:#CCCCFF \"> crisis,</span><span style=\"background-color:#CCCCFF \"> 1979;</span> and the Soviet invasion in Afghanistan, 1979."
      ],
      "text/plain": [
       "<IPython.core.display.HTML object>"
      ]
     },
     "metadata": {},
     "output_type": "display_data"
    },
    {
     "data": {
      "text/html": [
       " <span style=\"background-color:#9FE2BF \">Ως</span><span style=\"background-color:#9FE2BF \"> σύμβουλος</span><span style=\"background-color:#9FE2BF \"> Εθνικής</span><span style=\"background-color:#9FE2BF \"> Ασφάλειας,</span> βοήθησε τον Κάρτερ να χειριστεί διπλωματικά τις παγκόσμιες υποθέσεις, όπως <span style=\"background-color:#DFFF00 \">οι</span><span style=\"background-color:#DFFF00 \"> συμφωνίες</span><span style=\"background-color:#DFFF00 \"> του</span><span style=\"background-color:#DFFF00 \"> Καμπ</span><span style=\"background-color:#DFFF00 \"> Ντέιβιντ</span><span style=\"background-color:#DFFF00 \"> του</span><span style=\"background-color:#DFFF00 \"> 1978·</span><span style=\"background-color:#DFFF00 \"> η</span><span style=\"background-color:#DFFF00 \"> εξομάλυνση</span><span style=\"background-color:#DFFF00 \"> των</span><span style=\"background-color:#DFFF00 \"> σχέσεων</span><span style=\"background-color:#DFFF00 \"> ανάμεσα</span><span style=\"background-color:#DFFF00 \"> στις</span><span style=\"background-color:#DFFF00 \"> ΗΠΑ</span><span style=\"background-color:#DFFF00 \"> και</span><span style=\"background-color:#DFFF00 \"> την</span><span style=\"background-color:#DFFF00 \"> Κίνα</span><span style=\"background-color:#DFFF00 \"> στα</span><span style=\"background-color:#DFFF00 \"> τέλη</span><span style=\"background-color:#DFFF00 \"> της</span><span style=\"background-color:#DFFF00 \"> δεκαετίας</span><span style=\"background-color:#DFFF00 \"> του</span><span style=\"background-color:#DFFF00 \"> 1970·</span><span style=\"background-color:#DFFF00 \"> η</span> Ιρανική Επανάσταση, η οποία οδήγησε στην κρίση <span style=\"background-color:#CCCCFF \">των</span><span style=\"background-color:#CCCCFF \"> ομήρων</span><span style=\"background-color:#CCCCFF \"> το</span><span style=\"background-color:#CCCCFF \"> 1979,</span><span style=\"background-color:#CCCCFF \"> καθώς</span> και η σοβιετική εισβολή στο Αφγανιστάν το 1979."
      ],
      "text/plain": [
       "<IPython.core.display.HTML object>"
      ]
     },
     "metadata": {},
     "output_type": "display_data"
    },
    {
     "name": "stdout",
     "output_type": "stream",
     "text": [
      "____________________________________9___________________________________________________\n",
      "8\n",
      "13.310172600000001\n"
     ]
    },
    {
     "data": {
      "text/html": [
       " <span style=\"background-color:#e0e0e0 \">-4.8476896</span><span style=\"background-color:#DFFF00 \"> 7.7612877</span><span style=\"background-color:#9FE2BF \"> 8.462483</span>"
      ],
      "text/plain": [
       "<IPython.core.display.HTML object>"
      ]
     },
     "metadata": {},
     "output_type": "display_data"
    },
    {
     "name": "stdout",
     "output_type": "stream",
     "text": [
      "-  --  --  --  --  --  --  --  --  --  --  --  --  --  --  --  --  --  --  --  --  --  --  --  --  -\n"
     ]
    },
    {
     "data": {
      "text/html": [
       " Two songs from the movie, Audition (The Fools Who Dream) and <span style=\"background-color:#9FE2BF \">City</span> of Stars, received nominations for <span style=\"background-color:#DFFF00 \">best</span><span style=\"background-color:#DFFF00 \"> original</span><span style=\"background-color:#DFFF00 \"> song.</span><span style=\"background-color:#DFFF00 \"> Lionsgate</span><span style=\"background-color:#DFFF00 \"> studio</span><span style=\"background-color:#DFFF00 \"> received</span><span style=\"background-color:#DFFF00 \"> 26</span><span style=\"background-color:#DFFF00 \"> nominations</span><span style=\"background-color:#DFFF00 \"> —</span><span style=\"background-color:#DFFF00 \"> more</span><span style=\"background-color:#DFFF00 \"> than</span> any other studio."
      ],
      "text/plain": [
       "<IPython.core.display.HTML object>"
      ]
     },
     "metadata": {},
     "output_type": "display_data"
    },
    {
     "data": {
      "text/html": [
       " Δύο τραγούδια από την ταινία, «Ακρόαση» (Οι ανόητοι που ονειρεύονται) και <span style=\"background-color:#9FE2BF \">«Πόλη</span> από άστρα», έλαβαν υποψηφιότητες στην κατηγορία <span style=\"background-color:#DFFF00 \">Καλύτερου</span><span style=\"background-color:#DFFF00 \"> Πρωτότυπου</span><span style=\"background-color:#DFFF00 \"> Τραγουδιού.</span><span style=\"background-color:#DFFF00 \"> Το</span><span style=\"background-color:#DFFF00 \"> στούντιο</span><span style=\"background-color:#DFFF00 \"> Lionsgate</span><span style=\"background-color:#DFFF00 \"> έλαβε</span><span style=\"background-color:#DFFF00 \"> 26</span><span style=\"background-color:#DFFF00 \"> υποψηφιότητες</span><span style=\"background-color:#DFFF00 \"> –περισσότερες</span><span style=\"background-color:#DFFF00 \"> από</span><span style=\"background-color:#DFFF00 \"> ό,τι</span> οποιοδήποτε άλλο στούντιο."
      ],
      "text/plain": [
       "<IPython.core.display.HTML object>"
      ]
     },
     "metadata": {},
     "output_type": "display_data"
    },
    {
     "name": "stdout",
     "output_type": "stream",
     "text": [
      "____________________________________10___________________________________________________\n",
      "9\n",
      "23.267535\n"
     ]
    },
    {
     "data": {
      "text/html": [
       " <span style=\"background-color:#e0e0e0 \">-12.025433</span><span style=\"background-color:#DFFF00 \"> 11.242102</span>"
      ],
      "text/plain": [
       "<IPython.core.display.HTML object>"
      ]
     },
     "metadata": {},
     "output_type": "display_data"
    },
    {
     "name": "stdout",
     "output_type": "stream",
     "text": [
      "-  --  --  --  --  --  --  --  --  --  --  --  --  --  --  --  --  --  --  --  --  --  --  --  --  -\n"
     ]
    },
    {
     "data": {
      "text/html": [
       " <span style=\"background-color:#DFFF00 \">.</span><span style=\"background-color:#DFFF00 \"> Scientists</span><span style=\"background-color:#DFFF00 \"> say</span> this animal's plumage was chestnut-brown on top with a pale or carotenoid-colored underside."
      ],
      "text/plain": [
       "<IPython.core.display.HTML object>"
      ]
     },
     "metadata": {},
     "output_type": "display_data"
    },
    {
     "data": {
      "text/html": [
       " <span style=\"background-color:#DFFF00 \">Ερευνητές</span><span style=\"background-color:#DFFF00 \"> λένε</span><span style=\"background-color:#DFFF00 \"> πως</span> τα φτερά αυτού του ζώου ήταν καστανά πάνω με ανοιχτό ή καροτί χρώμα στο κάτω."
      ],
      "text/plain": [
       "<IPython.core.display.HTML object>"
      ]
     },
     "metadata": {},
     "output_type": "display_data"
    },
    {
     "name": "stdout",
     "output_type": "stream",
     "text": [
      "____________________________________11___________________________________________________\n",
      "10\n",
      "21.641899600000002\n"
     ]
    },
    {
     "data": {
      "text/html": [
       " <span style=\"background-color:#e0e0e0 \">-5.7111936</span><span style=\"background-color:#DFFF00 \"> 15.844586</span><span style=\"background-color:#9FE2BF \"> 15.900074</span><span style=\"background-color:#CCCCFF \"> 15.930706</span>"
      ],
      "text/plain": [
       "<IPython.core.display.HTML object>"
      ]
     },
     "metadata": {},
     "output_type": "display_data"
    },
    {
     "name": "stdout",
     "output_type": "stream",
     "text": [
      "-  --  --  --  --  --  --  --  --  --  --  --  --  --  --  --  --  --  --  --  --  --  --  --  --  -\n"
     ]
    },
    {
     "data": {
      "text/html": [
       " Because the dinosaur feathers do not have a <span style=\"background-color:#9FE2BF \">well-developed</span> shaft, called a rachis, <span style=\"background-color:#CCCCFF \">but</span><span style=\"background-color:#CCCCFF \"> do</span> have other features of <span style=\"background-color:#DFFF00 \">feathers</span><span style=\"background-color:#DFFF00 \"> —</span><span style=\"background-color:#DFFF00 \"> barbs</span><span style=\"background-color:#DFFF00 \"> and</span><span style=\"background-color:#DFFF00 \"> barbules</span><span style=\"background-color:#DFFF00 \"> —</span><span style=\"background-color:#DFFF00 \"> the</span><span style=\"background-color:#DFFF00 \"> researchers</span><span style=\"background-color:#DFFF00 \"> inferred</span><span style=\"background-color:#DFFF00 \"> the</span><span style=\"background-color:#DFFF00 \"> rachis</span><span style=\"background-color:#DFFF00 \"> was</span><span style=\"background-color:#DFFF00 \"> likely</span><span style=\"background-color:#DFFF00 \"> a</span><span style=\"background-color:#DFFF00 \"> later</span><span style=\"background-color:#DFFF00 \"> evolutionary</span><span style=\"background-color:#DFFF00 \"> development</span><span style=\"background-color:#DFFF00 \"> that</span><span style=\"background-color:#DFFF00 \"> these</span> other features."
      ],
      "text/plain": [
       "<IPython.core.display.HTML object>"
      ]
     },
     "metadata": {},
     "output_type": "display_data"
    },
    {
     "data": {
      "text/html": [
       " Επειδή τα φτερά των δεινοσαύρων δεν διαθέτουν έναν <span style=\"background-color:#9FE2BF \">πλήρως</span><span style=\"background-color:#9FE2BF \"> ανεπτυγμένο</span> άξονα, που ονομάζεται ράχη, έχουν <span style=\"background-color:#CCCCFF \">όμως</span> άλλα χαρακτηριστικά των <span style=\"background-color:#DFFF00 \">φτερών</span><span style=\"background-color:#DFFF00 \"> —μύστακες</span><span style=\"background-color:#DFFF00 \"> και</span><span style=\"background-color:#DFFF00 \"> μυστάκια—</span><span style=\"background-color:#DFFF00 \"> οι</span><span style=\"background-color:#DFFF00 \"> ερευνητές</span><span style=\"background-color:#DFFF00 \"> συμπέραναν</span><span style=\"background-color:#DFFF00 \"> ότι</span><span style=\"background-color:#DFFF00 \"> η</span><span style=\"background-color:#DFFF00 \"> ράχη</span><span style=\"background-color:#DFFF00 \"> ήταν</span><span style=\"background-color:#DFFF00 \"> πιθανόν</span><span style=\"background-color:#DFFF00 \"> μια</span><span style=\"background-color:#DFFF00 \"> μεταγενέστερη</span><span style=\"background-color:#DFFF00 \"> εξελικτική</span><span style=\"background-color:#DFFF00 \"> ανάπτυξη</span><span style=\"background-color:#DFFF00 \"> σε</span><span style=\"background-color:#DFFF00 \"> σχέση</span><span style=\"background-color:#DFFF00 \"> με</span><span style=\"background-color:#DFFF00 \"> τα</span> άλλα χαρακτηριστικά."
      ],
      "text/plain": [
       "<IPython.core.display.HTML object>"
      ]
     },
     "metadata": {},
     "output_type": "display_data"
    },
    {
     "name": "stdout",
     "output_type": "stream",
     "text": [
      "____________________________________12___________________________________________________\n",
      "11\n",
      "18.0625845\n"
     ]
    },
    {
     "data": {
      "text/html": [
       " <span style=\"background-color:#e0e0e0 \">-5.067556</span><span style=\"background-color:#DFFF00 \"> 12.682955</span><span style=\"background-color:#9FE2BF \"> 12.9950285</span>"
      ],
      "text/plain": [
       "<IPython.core.display.HTML object>"
      ]
     },
     "metadata": {},
     "output_type": "display_data"
    },
    {
     "name": "stdout",
     "output_type": "stream",
     "text": [
      "-  --  --  --  --  --  --  --  --  --  --  --  --  --  --  --  --  --  --  --  --  --  --  --  --  -\n"
     ]
    },
    {
     "data": {
      "text/html": [
       " The feathers' structure suggests that <span style=\"background-color:#DFFF00 \">they</span><span style=\"background-color:#DFFF00 \"> were</span><span style=\"background-color:#DFFF00 \"> not</span><span style=\"background-color:#DFFF00 \"> used</span><span style=\"background-color:#DFFF00 \"> in</span><span style=\"background-color:#DFFF00 \"> flight</span><span style=\"background-color:#DFFF00 \"> but</span><span style=\"background-color:#DFFF00 \"> rather</span><span style=\"background-color:#DFFF00 \"> for</span><span style=\"background-color:#DFFF00 \"> temperature</span><span style=\"background-color:#DFFF00 \"> regulation</span><span style=\"background-color:#DFFF00 \"> or</span><span style=\"background-color:#DFFF00 \"> display.</span><span style=\"background-color:#DFFF00 \"> The</span> researchers suggested that, even though this is the tail of a young dinosaur, the <span style=\"background-color:#9FE2BF \">sample</span><span style=\"background-color:#9FE2BF \"> shows</span><span style=\"background-color:#9FE2BF \"> adult</span> plumage and not a chick's down."
      ],
      "text/plain": [
       "<IPython.core.display.HTML object>"
      ]
     },
     "metadata": {},
     "output_type": "display_data"
    },
    {
     "data": {
      "text/html": [
       " Η δομή των φτερών υποδεικνύει ότι <span style=\"background-color:#DFFF00 \">δεν</span><span style=\"background-color:#DFFF00 \"> χρησιμοποιούνταν</span><span style=\"background-color:#DFFF00 \"> για</span><span style=\"background-color:#DFFF00 \"> να</span><span style=\"background-color:#DFFF00 \"> πετάξει</span><span style=\"background-color:#DFFF00 \"> αλλά</span><span style=\"background-color:#DFFF00 \"> για</span><span style=\"background-color:#DFFF00 \"> να</span><span style=\"background-color:#DFFF00 \"> ρυθμίσει</span><span style=\"background-color:#DFFF00 \"> τη</span><span style=\"background-color:#DFFF00 \"> θερμοκρασία</span><span style=\"background-color:#DFFF00 \"> ή</span><span style=\"background-color:#DFFF00 \"> για</span><span style=\"background-color:#DFFF00 \"> επίδειξη.</span><span style=\"background-color:#DFFF00 \"> Οι</span> επιστήμονες διατείνονται ότι αν και αυτή είναι ουρά από νεαρό δεινόσαυρο, το δείγμα <span style=\"background-color:#9FE2BF \">φανερώνει</span><span style=\"background-color:#9FE2BF \"> φτέρωμα</span><span style=\"background-color:#9FE2BF \"> ενηλίκων</span> και όχι πούπουλα νεοσσού."
      ],
      "text/plain": [
       "<IPython.core.display.HTML object>"
      ]
     },
     "metadata": {},
     "output_type": "display_data"
    },
    {
     "name": "stdout",
     "output_type": "stream",
     "text": [
      "____________________________________14___________________________________________________\n",
      "12\n",
      "0.7786315999999998\n"
     ]
    },
    {
     "data": {
      "text/html": [
       " <span style=\"background-color:#e0e0e0 \">-5.043044</span><span style=\"background-color:#DFFF00 \"> -4.2644124</span>"
      ],
      "text/plain": [
       "<IPython.core.display.HTML object>"
      ]
     },
     "metadata": {},
     "output_type": "display_data"
    },
    {
     "name": "stdout",
     "output_type": "stream",
     "text": [
      "-  --  --  --  --  --  --  --  --  --  --  --  --  --  --  --  --  --  --  --  --  --  --  --  --  -\n"
     ]
    },
    {
     "data": {
      "text/html": [
       " Police said they suspect an alleged Daesh (ISIL) militant of responsibility for the attack."
      ],
      "text/plain": [
       "<IPython.core.display.HTML object>"
      ]
     },
     "metadata": {},
     "output_type": "display_data"
    },
    {
     "data": {
      "text/html": [
       " Η αστυνομία ανέφερε ότι <span style=\"background-color:#DFFF00 \">υποψιάζεται</span><span style=\"background-color:#DFFF00 \"> ως</span> υπεύθυνο για την επίθεση έναν φερόμενο μαχητή τους Νταές (ISIS)."
      ],
      "text/plain": [
       "<IPython.core.display.HTML object>"
      ]
     },
     "metadata": {},
     "output_type": "display_data"
    },
    {
     "name": "stdout",
     "output_type": "stream",
     "text": [
      "____________________________________16___________________________________________________\n",
      "13\n",
      "1.6074785\n"
     ]
    },
    {
     "data": {
      "text/html": [
       " <span style=\"background-color:#e0e0e0 \">-8.557587</span><span style=\"background-color:#DFFF00 \"> -6.9501085</span>"
      ],
      "text/plain": [
       "<IPython.core.display.HTML object>"
      ]
     },
     "metadata": {},
     "output_type": "display_data"
    },
    {
     "name": "stdout",
     "output_type": "stream",
     "text": [
      "-  --  --  --  --  --  --  --  --  --  --  --  --  --  --  --  --  --  --  --  --  --  --  --  --  -\n"
     ]
    },
    {
     "data": {
      "text/html": [
       " During his trip, Iwasaki ran into trouble on many occasions."
      ],
      "text/plain": [
       "<IPython.core.display.HTML object>"
      ]
     },
     "metadata": {},
     "output_type": "display_data"
    },
    {
     "data": {
      "text/html": [
       " Καθ' όλη τη διάρκεια του ταξιδιού του, ο Ιβασάκι σε πολλές περιπτώσεις ήρθε <span style=\"background-color:#DFFF00 \">αντιμέτωπος</span><span style=\"background-color:#DFFF00 \"> με</span> προβλήματα."
      ],
      "text/plain": [
       "<IPython.core.display.HTML object>"
      ]
     },
     "metadata": {},
     "output_type": "display_data"
    },
    {
     "name": "stdout",
     "output_type": "stream",
     "text": [
      "____________________________________17___________________________________________________\n",
      "14\n",
      "1.2099123\n"
     ]
    },
    {
     "data": {
      "text/html": [
       " <span style=\"background-color:#e0e0e0 \">-4.1005116</span><span style=\"background-color:#DFFF00 \"> -2.8905993</span>"
      ],
      "text/plain": [
       "<IPython.core.display.HTML object>"
      ]
     },
     "metadata": {},
     "output_type": "display_data"
    },
    {
     "name": "stdout",
     "output_type": "stream",
     "text": [
      "-  --  --  --  --  --  --  --  --  --  --  --  --  --  --  --  --  --  --  --  --  --  --  --  --  -\n"
     ]
    },
    {
     "data": {
      "text/html": [
       " Duvall, who is married with two adult children, did <span style=\"background-color:#DFFF00 \">not</span><span style=\"background-color:#DFFF00 \"> leave</span> a big impression on Miller, to whom the story was related."
      ],
      "text/plain": [
       "<IPython.core.display.HTML object>"
      ]
     },
     "metadata": {},
     "output_type": "display_data"
    },
    {
     "data": {
      "text/html": [
       " Ο Duvall, παντρεμένος με δύο ενήλικα παιδιά, <span style=\"background-color:#DFFF00 \">δεν</span> έδωσε κάποια ιδέα στον Miller για το άτομο που αφορά το περιστατικό."
      ],
      "text/plain": [
       "<IPython.core.display.HTML object>"
      ]
     },
     "metadata": {},
     "output_type": "display_data"
    },
    {
     "name": "stdout",
     "output_type": "stream",
     "text": [
      "____________________________________18___________________________________________________\n",
      "15\n",
      "10.13969773\n"
     ]
    },
    {
     "data": {
      "text/html": [
       " <span style=\"background-color:#e0e0e0 \">-10.49028</span><span style=\"background-color:#DFFF00 \"> -0.35058227</span>"
      ],
      "text/plain": [
       "<IPython.core.display.HTML object>"
      ]
     },
     "metadata": {},
     "output_type": "display_data"
    },
    {
     "name": "stdout",
     "output_type": "stream",
     "text": [
      "-  --  --  --  --  --  --  --  --  --  --  --  --  --  --  --  --  --  --  --  --  --  --  --  --  -\n"
     ]
    },
    {
     "data": {
      "text/html": [
       " He did not set <span style=\"background-color:#DFFF00 \">a</span><span style=\"background-color:#DFFF00 \"> figure</span><span style=\"background-color:#DFFF00 \"> for</span> the cuts, saying they will be made based on China's economic output."
      ],
      "text/plain": [
       "<IPython.core.display.HTML object>"
      ]
     },
     "metadata": {},
     "output_type": "display_data"
    },
    {
     "data": {
      "text/html": [
       " Δεν όρισε <span style=\"background-color:#DFFF00 \">τον</span><span style=\"background-color:#DFFF00 \"> αριθμό</span> των μειώσεων, δηλώνοντας πως θα γίνουν με βάση την οικονομική παραγωγής της Κίνας."
      ],
      "text/plain": [
       "<IPython.core.display.HTML object>"
      ]
     },
     "metadata": {},
     "output_type": "display_data"
    },
    {
     "name": "stdout",
     "output_type": "stream",
     "text": [
      "____________________________________19___________________________________________________\n",
      "16\n",
      "3.363304000000001\n"
     ]
    },
    {
     "data": {
      "text/html": [
       " <span style=\"background-color:#e0e0e0 \">-13.774328</span><span style=\"background-color:#DFFF00 \"> -12.726182</span><span style=\"background-color:#9FE2BF \"> -11.756322</span><span style=\"background-color:#CCCCFF \"> -10.411024</span>"
      ],
      "text/plain": [
       "<IPython.core.display.HTML object>"
      ]
     },
     "metadata": {},
     "output_type": "display_data"
    },
    {
     "name": "stdout",
     "output_type": "stream",
     "text": [
      "-  --  --  --  --  --  --  --  --  --  --  --  --  --  --  --  --  --  --  --  --  --  --  --  --  -\n"
     ]
    },
    {
     "data": {
      "text/html": [
       " <span style=\"background-color:#9FE2BF \">The</span><span style=\"background-color:#CCCCFF \"> Iraq</span><span style=\"background-color:#CCCCFF \"> Study</span> Group presented its report at 12.00 GMT today."
      ],
      "text/plain": [
       "<IPython.core.display.HTML object>"
      ]
     },
     "metadata": {},
     "output_type": "display_data"
    },
    {
     "data": {
      "text/html": [
       " <span style=\"background-color:#9FE2BF \">Η</span> ομάδα <span style=\"background-color:#CCCCFF \">μελέτης</span><span style=\"background-color:#CCCCFF \"> του</span><span style=\"background-color:#CCCCFF \"> Ιράκ</span> παρουσίασε την έκθεση της σήμερα στις 12.00 <span style=\"background-color:#DFFF00 \">ώρα</span><span style=\"background-color:#DFFF00 \"> Γκρίνουιτς</span> (GMT)."
      ],
      "text/plain": [
       "<IPython.core.display.HTML object>"
      ]
     },
     "metadata": {},
     "output_type": "display_data"
    },
    {
     "name": "stdout",
     "output_type": "stream",
     "text": [
      "____________________________________20___________________________________________________\n",
      "17\n",
      "4.9730880399999995\n"
     ]
    },
    {
     "data": {
      "text/html": [
       " <span style=\"background-color:#e0e0e0 \">-5.6719227</span><span style=\"background-color:#DFFF00 \"> -0.69883466</span>"
      ],
      "text/plain": [
       "<IPython.core.display.HTML object>"
      ]
     },
     "metadata": {},
     "output_type": "display_data"
    },
    {
     "name": "stdout",
     "output_type": "stream",
     "text": [
      "-  --  --  --  --  --  --  --  --  --  --  --  --  --  --  --  --  --  --  --  --  --  --  --  --  -\n"
     ]
    },
    {
     "data": {
      "text/html": [
       " <span style=\"background-color:#DFFF00 \">Liberal</span> criticism of the reconstruction effort has focused on the awarding of reconstruction contracts to perceived Washington insiders."
      ],
      "text/plain": [
       "<IPython.core.display.HTML object>"
      ]
     },
     "metadata": {},
     "output_type": "display_data"
    },
    {
     "data": {
      "text/html": [
       " <span style=\"background-color:#DFFF00 \">Η</span> προοδευτική κριτική για την προσπάθεια ανασυγκρότησης είχε ως επίκεντρο την εκχώρηση συμβάσεων ανασυγκρότησης σε άτομα που γνωρίζουν την Ουάσιγκτον εκ των έσω."
      ],
      "text/plain": [
       "<IPython.core.display.HTML object>"
      ]
     },
     "metadata": {},
     "output_type": "display_data"
    },
    {
     "name": "stdout",
     "output_type": "stream",
     "text": [
      "____________________________________22___________________________________________________\n",
      "18\n",
      "6.684037\n"
     ]
    },
    {
     "data": {
      "text/html": [
       " <span style=\"background-color:#e0e0e0 \">-13.536044</span><span style=\"background-color:#DFFF00 \"> -7.801621</span><span style=\"background-color:#9FE2BF \"> -6.852007</span>"
      ],
      "text/plain": [
       "<IPython.core.display.HTML object>"
      ]
     },
     "metadata": {},
     "output_type": "display_data"
    },
    {
     "name": "stdout",
     "output_type": "stream",
     "text": [
      "-  --  --  --  --  --  --  --  --  --  --  --  --  --  --  --  --  --  --  --  --  --  --  --  --  -\n"
     ]
    },
    {
     "data": {
      "text/html": [
       " After <span style=\"background-color:#DFFF00 \">a</span> week of losses in the midterm election, Bush <span style=\"background-color:#9FE2BF \">told</span><span style=\"background-color:#9FE2BF \"> an</span> audience about the expansion of trade in Asia."
      ],
      "text/plain": [
       "<IPython.core.display.HTML object>"
      ]
     },
     "metadata": {},
     "output_type": "display_data"
    },
    {
     "data": {
      "text/html": [
       " Ύστερα από <span style=\"background-color:#DFFF00 \">7</span> μέρες ηττών στην ψηφοφορία, ο Bush <span style=\"background-color:#9FE2BF \">ανακοίνωσε</span> την εμπορική εξάπλωση στην Ασία."
      ],
      "text/plain": [
       "<IPython.core.display.HTML object>"
      ]
     },
     "metadata": {},
     "output_type": "display_data"
    },
    {
     "name": "stdout",
     "output_type": "stream",
     "text": [
      "____________________________________23___________________________________________________\n",
      "19\n",
      "20.4403085\n"
     ]
    },
    {
     "data": {
      "text/html": [
       " <span style=\"background-color:#e0e0e0 \">-4.5138135</span><span style=\"background-color:#DFFF00 \"> 15.862655</span><span style=\"background-color:#9FE2BF \"> 15.914817</span><span style=\"background-color:#CCCCFF \"> 15.926495</span>"
      ],
      "text/plain": [
       "<IPython.core.display.HTML object>"
      ]
     },
     "metadata": {},
     "output_type": "display_data"
    },
    {
     "name": "stdout",
     "output_type": "stream",
     "text": [
      "-  --  --  --  --  --  --  --  --  --  --  --  --  --  --  --  --  --  --  --  --  --  --  --  --  -\n"
     ]
    },
    {
     "data": {
      "text/html": [
       " Ever since the Federal Government stepped in to take over funding of the <span style=\"background-color:#CCCCFF \">Mersey</span> hospital in Devonport, <span style=\"background-color:#9FE2BF \">Tasmania,</span> the state government and some federal MPs have criticised this <span style=\"background-color:#DFFF00 \">act</span><span style=\"background-color:#DFFF00 \"> as</span><span style=\"background-color:#DFFF00 \"> a</span><span style=\"background-color:#DFFF00 \"> stunt</span><span style=\"background-color:#DFFF00 \"> in</span><span style=\"background-color:#DFFF00 \"> the</span><span style=\"background-color:#DFFF00 \"> prelude</span><span style=\"background-color:#DFFF00 \"> to</span><span style=\"background-color:#DFFF00 \"> the</span><span style=\"background-color:#DFFF00 \"> federal</span><span style=\"background-color:#DFFF00 \"> election</span><span style=\"background-color:#DFFF00 \"> to</span><span style=\"background-color:#DFFF00 \"> be</span><span style=\"background-color:#DFFF00 \"> called</span><span style=\"background-color:#DFFF00 \"> by</span><span style=\"background-color:#DFFF00 \"> November.</span>"
      ],
      "text/plain": [
       "<IPython.core.display.HTML object>"
      ]
     },
     "metadata": {},
     "output_type": "display_data"
    },
    {
     "data": {
      "text/html": [
       " Από τη στιγμή που η ομοσπονδιακή κυβέρνηση παρενέβη στην ανάληψη της χρηματοδότησης του νοσοκομείου <span style=\"background-color:#CCCCFF \">Mersey</span> στο Devonport της <span style=\"background-color:#9FE2BF \">Τασμανίας,</span> η κρατική κυβέρνηση και μερικά μέλη του Ομοσπονδιακού Κοινοβουλίου έχουν χαρακτηρίσει αυτή <span style=\"background-color:#DFFF00 \">την</span><span style=\"background-color:#DFFF00 \"> πράξη</span><span style=\"background-color:#DFFF00 \"> ως</span><span style=\"background-color:#DFFF00 \"> ένα</span><span style=\"background-color:#DFFF00 \"> κόλπο</span><span style=\"background-color:#DFFF00 \"> στο</span><span style=\"background-color:#DFFF00 \"> πρελούδιο</span><span style=\"background-color:#DFFF00 \"> των</span><span style=\"background-color:#DFFF00 \"> ομοσπονδιακών</span><span style=\"background-color:#DFFF00 \"> εκλογών</span><span style=\"background-color:#DFFF00 \"> που</span><span style=\"background-color:#DFFF00 \"> θα</span><span style=\"background-color:#DFFF00 \"> διενεργηθούν</span><span style=\"background-color:#DFFF00 \"> τον</span><span style=\"background-color:#DFFF00 \"> Νοέμβριο.</span>"
      ],
      "text/plain": [
       "<IPython.core.display.HTML object>"
      ]
     },
     "metadata": {},
     "output_type": "display_data"
    },
    {
     "name": "stdout",
     "output_type": "stream",
     "text": [
      "____________________________________24___________________________________________________\n",
      "20\n",
      "10.509798799999999\n"
     ]
    },
    {
     "data": {
      "text/html": [
       " <span style=\"background-color:#e0e0e0 \">-0.6281878</span><span style=\"background-color:#DFFF00 \"> 9.26465</span><span style=\"background-color:#9FE2BF \"> 9.881611</span>"
      ],
      "text/plain": [
       "<IPython.core.display.HTML object>"
      ]
     },
     "metadata": {},
     "output_type": "display_data"
    },
    {
     "name": "stdout",
     "output_type": "stream",
     "text": [
      "-  --  --  --  --  --  --  --  --  --  --  --  --  --  --  --  --  --  --  --  --  --  --  --  --  -\n"
     ]
    },
    {
     "data": {
      "text/html": [
       " According to the latest bulletin, sea level readings indicated <span style=\"background-color:#DFFF00 \">a</span><span style=\"background-color:#DFFF00 \"> tsunami</span><span style=\"background-color:#DFFF00 \"> was</span><span style=\"background-color:#DFFF00 \"> generated.</span><span style=\"background-color:#DFFF00 \"> There</span><span style=\"background-color:#DFFF00 \"> was</span><span style=\"background-color:#DFFF00 \"> some</span> definite tsunami activity recorded near Pago Pago and Niue."
      ],
      "text/plain": [
       "<IPython.core.display.HTML object>"
      ]
     },
     "metadata": {},
     "output_type": "display_data"
    },
    {
     "data": {
      "text/html": [
       " Το πρόσφατο δελτίο λέει πως οι καταγραφές του ύψους <span style=\"background-color:#9FE2BF \">της</span><span style=\"background-color:#9FE2BF \"> θάλασσας</span> φανερώνουν <span style=\"background-color:#DFFF00 \">πως</span><span style=\"background-color:#DFFF00 \"> έγινε</span><span style=\"background-color:#DFFF00 \"> τσουνάμι.</span><span style=\"background-color:#DFFF00 \"> Καταγράφηκε</span><span style=\"background-color:#DFFF00 \"> μια</span> βέβαιη κίνηση τσουνάμι κοντά στο Πάγκο Πάγκο και το Νιούε."
      ],
      "text/plain": [
       "<IPython.core.display.HTML object>"
      ]
     },
     "metadata": {},
     "output_type": "display_data"
    },
    {
     "name": "stdout",
     "output_type": "stream",
     "text": [
      "____________________________________25___________________________________________________\n",
      "21\n",
      "21.883357699999998\n"
     ]
    },
    {
     "data": {
      "text/html": [
       " <span style=\"background-color:#e0e0e0 \">-6.0019007</span><span style=\"background-color:#DFFF00 \"> 12.1417265</span><span style=\"background-color:#9FE2BF \"> 15.881457</span>"
      ],
      "text/plain": [
       "<IPython.core.display.HTML object>"
      ]
     },
     "metadata": {},
     "output_type": "display_data"
    },
    {
     "name": "stdout",
     "output_type": "stream",
     "text": [
      "-  --  --  --  --  --  --  --  --  --  --  --  --  --  --  --  --  --  --  --  --  --  --  --  --  -\n"
     ]
    },
    {
     "data": {
      "text/html": [
       " No major damage or injuries have been reported in Tonga, <span style=\"background-color:#DFFF00 \">but</span><span style=\"background-color:#DFFF00 \"> power</span><span style=\"background-color:#DFFF00 \"> was</span><span style=\"background-color:#DFFF00 \"> temporarily</span><span style=\"background-color:#DFFF00 \"> lost,</span> which reportedly prevented Tongan authorities from receiving the tsunami warning issued by the PTWC."
      ],
      "text/plain": [
       "<IPython.core.display.HTML object>"
      ]
     },
     "metadata": {},
     "output_type": "display_data"
    },
    {
     "data": {
      "text/html": [
       " Δεν αναφέρθηκε κάποια σημαντική ζημιά ή τραυματισμός στην Τόνγκα, <span style=\"background-color:#DFFF00 \">όμως</span><span style=\"background-color:#DFFF00 \"> συνέβη</span><span style=\"background-color:#DFFF00 \"> προσωρινή</span><span style=\"background-color:#DFFF00 \"> διακοπή</span><span style=\"background-color:#DFFF00 \"> ρεύματος,</span> που φαίνεται να εμπόδισε της αρχές της Τόνγκα από το να λάβει την προειδοποίηση για το τσουνάμι που εξέδωσε το <span style=\"background-color:#9FE2BF \">κέντρο</span><span style=\"background-color:#9FE2BF \"> προειδοποίησης</span><span style=\"background-color:#9FE2BF \"> για</span><span style=\"background-color:#9FE2BF \"> τσουνάμι</span> PTWC."
      ],
      "text/plain": [
       "<IPython.core.display.HTML object>"
      ]
     },
     "metadata": {},
     "output_type": "display_data"
    },
    {
     "name": "stdout",
     "output_type": "stream",
     "text": [
      "____________________________________27___________________________________________________\n",
      "22\n",
      "2.2741423999999997\n"
     ]
    },
    {
     "data": {
      "text/html": [
       " <span style=\"background-color:#e0e0e0 \">-3.7479055</span><span style=\"background-color:#DFFF00 \"> -2.058093</span><span style=\"background-color:#9FE2BF \"> -1.4737631</span>"
      ],
      "text/plain": [
       "<IPython.core.display.HTML object>"
      ]
     },
     "metadata": {},
     "output_type": "display_data"
    },
    {
     "name": "stdout",
     "output_type": "stream",
     "text": [
      "-  --  --  --  --  --  --  --  --  --  --  --  --  --  --  --  --  --  --  --  --  --  --  --  --  -\n"
     ]
    },
    {
     "data": {
      "text/html": [
       " The U.S. Corps of Engineers estimated that <span style=\"background-color:#9FE2BF \">6</span> inches of rainfall could breach the previously damaged levees."
      ],
      "text/plain": [
       "<IPython.core.display.HTML object>"
      ]
     },
     "metadata": {},
     "output_type": "display_data"
    },
    {
     "data": {
      "text/html": [
       " Το Σώμα Μηχανικών των ΗΠΑ υπολόγισε ότι <span style=\"background-color:#9FE2BF \">6</span> ίντσες βροχόπτωσης θα <span style=\"background-color:#DFFF00 \">μπορούσαν</span><span style=\"background-color:#DFFF00 \"> να</span> προκαλέσουν υπερχείλιση των φραγμάτων που είχαν υποστεί ζημιές προηγουμένως."
      ],
      "text/plain": [
       "<IPython.core.display.HTML object>"
      ]
     },
     "metadata": {},
     "output_type": "display_data"
    },
    {
     "name": "stdout",
     "output_type": "stream",
     "text": [
      "____________________________________28___________________________________________________\n",
      "23\n",
      "15.661965299999999\n"
     ]
    },
    {
     "data": {
      "text/html": [
       " <span style=\"background-color:#e0e0e0 \">-1.6734713</span><span style=\"background-color:#DFFF00 \"> 13.988494</span>"
      ],
      "text/plain": [
       "<IPython.core.display.HTML object>"
      ]
     },
     "metadata": {},
     "output_type": "display_data"
    },
    {
     "name": "stdout",
     "output_type": "stream",
     "text": [
      "-  --  --  --  --  --  --  --  --  --  --  --  --  --  --  --  --  --  --  --  --  --  --  --  --  -\n"
     ]
    },
    {
     "data": {
      "text/html": [
       " Commons Administrator Adam Cuerden expressed his frustration <span style=\"background-color:#DFFF00 \">over</span><span style=\"background-color:#DFFF00 \"> the</span><span style=\"background-color:#DFFF00 \"> deletions</span> when he spoke to Wikinews last month."
      ],
      "text/plain": [
       "<IPython.core.display.HTML object>"
      ]
     },
     "metadata": {},
     "output_type": "display_data"
    },
    {
     "data": {
      "text/html": [
       " Ο διευθυντής των Commons, Άνταμ Κιούρντεν, έδειξε την λύπη του <span style=\"background-color:#DFFF00 \">για</span> όσους διαγράφηκαν με τις δηλώσεις του στο Wikinews τον προηγούμενο μήνα."
      ],
      "text/plain": [
       "<IPython.core.display.HTML object>"
      ]
     },
     "metadata": {},
     "output_type": "display_data"
    },
    {
     "name": "stdout",
     "output_type": "stream",
     "text": [
      "____________________________________29___________________________________________________\n",
      "24\n",
      "4.8199705999999995\n"
     ]
    },
    {
     "data": {
      "text/html": [
       " <span style=\"background-color:#e0e0e0 \">-2.295167</span><span style=\"background-color:#DFFF00 \"> -0.3325316</span><span style=\"background-color:#9FE2BF \"> 2.5248036</span>"
      ],
      "text/plain": [
       "<IPython.core.display.HTML object>"
      ]
     },
     "metadata": {},
     "output_type": "display_data"
    },
    {
     "name": "stdout",
     "output_type": "stream",
     "text": [
      "-  --  --  --  --  --  --  --  --  --  --  --  --  --  --  --  --  --  --  --  --  --  --  --  --  -\n"
     ]
    },
    {
     "data": {
      "text/html": [
       " The work done was mostly theoretical, <span style=\"background-color:#9FE2BF \">but</span> the program was written to simulate observations made of the Sagittarius galaxy."
      ],
      "text/plain": [
       "<IPython.core.display.HTML object>"
      ]
     },
     "metadata": {},
     "output_type": "display_data"
    },
    {
     "data": {
      "text/html": [
       " Το <span style=\"background-color:#DFFF00 \">μέρος</span><span style=\"background-color:#DFFF00 \"> του</span> έργου που ολοκληρώθηκε ήταν κατά κύριο λόγο θεωρητικό, <span style=\"background-color:#9FE2BF \">ωστόσο</span> το πρόγραμμα σχεδιάστηκε για να αναπαραστήσει τις παρατηρήσεις για τον γαλαξία του Τοξότη."
      ],
      "text/plain": [
       "<IPython.core.display.HTML object>"
      ]
     },
     "metadata": {},
     "output_type": "display_data"
    },
    {
     "name": "stdout",
     "output_type": "stream",
     "text": [
      "____________________________________30___________________________________________________\n",
      "25\n",
      "0.5060310000000001\n"
     ]
    },
    {
     "data": {
      "text/html": [
       " <span style=\"background-color:#e0e0e0 \">-10.052015</span><span style=\"background-color:#DFFF00 \"> -9.545984</span>"
      ],
      "text/plain": [
       "<IPython.core.display.HTML object>"
      ]
     },
     "metadata": {},
     "output_type": "display_data"
    },
    {
     "name": "stdout",
     "output_type": "stream",
     "text": [
      "-  --  --  --  --  --  --  --  --  --  --  --  --  --  --  --  --  --  --  --  --  --  --  --  --  -\n"
     ]
    },
    {
     "data": {
      "text/html": [
       " Television reports show white smoke coming from the plant."
      ],
      "text/plain": [
       "<IPython.core.display.HTML object>"
      ]
     },
     "metadata": {},
     "output_type": "display_data"
    },
    {
     "data": {
      "text/html": [
       " Τα τηλεοπτικά ρεπορτάζ δείχνουν <span style=\"background-color:#DFFF00 \">να</span><span style=\"background-color:#DFFF00 \"> αναδίδεται</span> από τον σταθμό λευκός καπνός."
      ],
      "text/plain": [
       "<IPython.core.display.HTML object>"
      ]
     },
     "metadata": {},
     "output_type": "display_data"
    },
    {
     "name": "stdout",
     "output_type": "stream",
     "text": [
      "____________________________________31___________________________________________________\n",
      "26\n",
      "17.28989\n"
     ]
    },
    {
     "data": {
      "text/html": [
       " <span style=\"background-color:#e0e0e0 \">-8.452327</span><span style=\"background-color:#DFFF00 \"> 6.1655393</span><span style=\"background-color:#9FE2BF \"> 8.837563</span>"
      ],
      "text/plain": [
       "<IPython.core.display.HTML object>"
      ]
     },
     "metadata": {},
     "output_type": "display_data"
    },
    {
     "name": "stdout",
     "output_type": "stream",
     "text": [
      "-  --  --  --  --  --  --  --  --  --  --  --  --  --  --  --  --  --  --  --  --  --  --  --  --  -\n"
     ]
    },
    {
     "data": {
      "text/html": [
       " Local authorities are warning residents <span style=\"background-color:#9FE2BF \">in</span> the vicinity of the plant to <span style=\"background-color:#DFFF00 \">stay</span><span style=\"background-color:#DFFF00 \"> indoors,</span><span style=\"background-color:#DFFF00 \"> turn</span><span style=\"background-color:#DFFF00 \"> off</span><span style=\"background-color:#DFFF00 \"> air-conditioners</span><span style=\"background-color:#DFFF00 \"> and</span> not to drink tap water."
      ],
      "text/plain": [
       "<IPython.core.display.HTML object>"
      ]
     },
     "metadata": {},
     "output_type": "display_data"
    },
    {
     "data": {
      "text/html": [
       " Οι τοπικές αρχές προειδοποιούν τους κατοίκους <span style=\"background-color:#9FE2BF \">που</span> μένουν στην περιοχή πλησίον του εργοστασίου να <span style=\"background-color:#DFFF00 \">μείνουν</span><span style=\"background-color:#DFFF00 \"> m;esa</span><span style=\"background-color:#DFFF00 \"> στα</span><span style=\"background-color:#DFFF00 \"> σπίτια</span><span style=\"background-color:#DFFF00 \"> τους,</span><span style=\"background-color:#DFFF00 \"> να</span><span style=\"background-color:#DFFF00 \"> μη</span><span style=\"background-color:#DFFF00 \"> χρησιμοποιούν</span><span style=\"background-color:#DFFF00 \"> τα</span><span style=\"background-color:#DFFF00 \"> κλιματιστικά</span><span style=\"background-color:#DFFF00 \"> και</span> να μην πίνουν νερό βρύσης."
      ],
      "text/plain": [
       "<IPython.core.display.HTML object>"
      ]
     },
     "metadata": {},
     "output_type": "display_data"
    },
    {
     "name": "stdout",
     "output_type": "stream",
     "text": [
      "____________________________________32___________________________________________________\n",
      "27\n",
      "2.384166500000001\n"
     ]
    },
    {
     "data": {
      "text/html": [
       " <span style=\"background-color:#e0e0e0 \">-13.250222</span><span style=\"background-color:#DFFF00 \"> -11.175513</span><span style=\"background-color:#9FE2BF \"> -10.8660555</span>"
      ],
      "text/plain": [
       "<IPython.core.display.HTML object>"
      ]
     },
     "metadata": {},
     "output_type": "display_data"
    },
    {
     "name": "stdout",
     "output_type": "stream",
     "text": [
      "-  --  --  --  --  --  --  --  --  --  --  --  --  --  --  --  --  --  --  --  --  --  --  --  --  -\n"
     ]
    },
    {
     "data": {
      "text/html": [
       " <span style=\"background-color:#9FE2BF \">According</span><span style=\"background-color:#9FE2BF \"> to</span> Japan's nuclear agency, radioactive caesium and iodine <span style=\"background-color:#DFFF00 \">has</span><span style=\"background-color:#DFFF00 \"> been</span><span style=\"background-color:#DFFF00 \"> identified</span><span style=\"background-color:#DFFF00 \"> at</span><span style=\"background-color:#DFFF00 \"> the</span> plant."
      ],
      "text/plain": [
       "<IPython.core.display.HTML object>"
      ]
     },
     "metadata": {},
     "output_type": "display_data"
    },
    {
     "data": {
      "text/html": [
       " <span style=\"background-color:#9FE2BF \">Σύμφωνα</span><span style=\"background-color:#9FE2BF \"> με</span><span style=\"background-color:#9FE2BF \"> τον</span> οργανισμό πυρηνικής ενέργειας της Ιαπωνίας, <span style=\"background-color:#DFFF00 \">εντοπίστηκε</span><span style=\"background-color:#DFFF00 \"> στο</span> εργοστάσιο ραδιενεργό καίσιο και ιώδιο."
      ],
      "text/plain": [
       "<IPython.core.display.HTML object>"
      ]
     },
     "metadata": {},
     "output_type": "display_data"
    },
    {
     "name": "stdout",
     "output_type": "stream",
     "text": [
      "____________________________________33___________________________________________________\n",
      "28\n",
      "5.336383\n"
     ]
    },
    {
     "data": {
      "text/html": [
       " <span style=\"background-color:#e0e0e0 \">-15.175737</span><span style=\"background-color:#DFFF00 \"> -11.141377</span><span style=\"background-color:#9FE2BF \"> -9.839354</span>"
      ],
      "text/plain": [
       "<IPython.core.display.HTML object>"
      ]
     },
     "metadata": {},
     "output_type": "display_data"
    },
    {
     "name": "stdout",
     "output_type": "stream",
     "text": [
      "-  --  --  --  --  --  --  --  --  --  --  --  --  --  --  --  --  --  --  --  --  --  --  --  --  -\n"
     ]
    },
    {
     "data": {
      "text/html": [
       " Some patients might have contracted the bug in the hospital, <span style=\"background-color:#DFFF00 \">Dr.</span><span style=\"background-color:#DFFF00 \"> Moll</span><span style=\"background-color:#DFFF00 \"> thinks,</span> and at least two were hospital health workers."
      ],
      "text/plain": [
       "<IPython.core.display.HTML object>"
      ]
     },
     "metadata": {},
     "output_type": "display_data"
    },
    {
     "data": {
      "text/html": [
       " Ο <span style=\"background-color:#DFFF00 \">Δρ</span><span style=\"background-color:#DFFF00 \"> Μολ</span><span style=\"background-color:#DFFF00 \"> πιστεύει</span><span style=\"background-color:#DFFF00 \"> ότι</span> κάποιοι ασθενείς ενδέχεται να μολύνθηκαν από τον ιό στο νοσοκομείο και τουλάχιστον δύο <span style=\"background-color:#9FE2BF \">από</span><span style=\"background-color:#9FE2BF \"> αυτούς</span> ανήκαν στους επαγγελματίες υγείας του νοσοκομείου."
      ],
      "text/plain": [
       "<IPython.core.display.HTML object>"
      ]
     },
     "metadata": {},
     "output_type": "display_data"
    },
    {
     "name": "stdout",
     "output_type": "stream",
     "text": [
      "____________________________________34___________________________________________________\n",
      "29\n",
      "11.4640257\n"
     ]
    },
    {
     "data": {
      "text/html": [
       " <span style=\"background-color:#e0e0e0 \">-8.088072</span><span style=\"background-color:#DFFF00 \"> -5.1800265</span><span style=\"background-color:#9FE2BF \"> -2.4281187</span><span style=\"background-color:#CCCCFF \"> 3.3759537</span>"
      ],
      "text/plain": [
       "<IPython.core.display.HTML object>"
      ]
     },
     "metadata": {},
     "output_type": "display_data"
    },
    {
     "name": "stdout",
     "output_type": "stream",
     "text": [
      "-  --  --  --  --  --  --  --  --  --  --  --  --  --  --  --  --  --  --  --  --  --  --  --  --  -\n"
     ]
    },
    {
     "data": {
      "text/html": [
       " <span style=\"background-color:#CCCCFF \">In</span><span style=\"background-color:#CCCCFF \"> one</span><span style=\"background-color:#CCCCFF \"> year's</span><span style=\"background-color:#CCCCFF \"> time,</span> an infected person may infect 10 <span style=\"background-color:#9FE2BF \">to</span> 15 <span style=\"background-color:#DFFF00 \">close</span><span style=\"background-color:#DFFF00 \"> contacts.</span>"
      ],
      "text/plain": [
       "<IPython.core.display.HTML object>"
      ]
     },
     "metadata": {},
     "output_type": "display_data"
    },
    {
     "data": {
      "text/html": [
       " <span style=\"background-color:#CCCCFF \">Σε</span><span style=\"background-color:#CCCCFF \"> διάστημα</span><span style=\"background-color:#CCCCFF \"> ενός</span><span style=\"background-color:#CCCCFF \"> έτους,</span> ένας άνθρωπος που έχει μολυνθεί μπορεί να κολλήσει 10 <span style=\"background-color:#9FE2BF \">με</span> 15 <span style=\"background-color:#DFFF00 \">κοντινά</span><span style=\"background-color:#DFFF00 \"> του</span><span style=\"background-color:#DFFF00 \"> πρόσωπα.</span>"
      ],
      "text/plain": [
       "<IPython.core.display.HTML object>"
      ]
     },
     "metadata": {},
     "output_type": "display_data"
    },
    {
     "name": "stdout",
     "output_type": "stream",
     "text": [
      "____________________________________35___________________________________________________\n",
      "30\n",
      "16.6042776\n"
     ]
    },
    {
     "data": {
      "text/html": [
       " <span style=\"background-color:#e0e0e0 \">-0.6844276</span><span style=\"background-color:#DFFF00 \"> 15.7357645</span><span style=\"background-color:#9FE2BF \"> 15.900104</span><span style=\"background-color:#CCCCFF \"> 15.91985</span>"
      ],
      "text/plain": [
       "<IPython.core.display.HTML object>"
      ]
     },
     "metadata": {},
     "output_type": "display_data"
    },
    {
     "name": "stdout",
     "output_type": "stream",
     "text": [
      "-  --  --  --  --  --  --  --  --  --  --  --  --  --  --  --  --  --  --  --  --  --  --  --  --  -\n"
     ]
    },
    {
     "data": {
      "text/html": [
       " However, the percentage of <span style=\"background-color:#9FE2BF \">XDR-TB</span><span style=\"background-color:#9FE2BF \"> in</span> the entire group of people with tuberculosis <span style=\"background-color:#CCCCFF \">still</span> seems to be low; 6,000 of the total 330,000 people infected <span style=\"background-color:#DFFF00 \">at</span><span style=\"background-color:#DFFF00 \"> any</span><span style=\"background-color:#DFFF00 \"> particular</span><span style=\"background-color:#DFFF00 \"> moment</span> in South Africa."
      ],
      "text/plain": [
       "<IPython.core.display.HTML object>"
      ]
     },
     "metadata": {},
     "output_type": "display_data"
    },
    {
     "data": {
      "text/html": [
       " Ωστόσο, το ποσοστό της <span style=\"background-color:#9FE2BF \">υπερανθεκτικής</span><span style=\"background-color:#9FE2BF \"> φυματίωσης</span><span style=\"background-color:#9FE2BF \"> σε</span> ολόκληρη την ομάδα των ατόμων με φυματίωση φαίνεται <span style=\"background-color:#CCCCFF \">ότι</span> εξακολουθεί να είναι χαμηλό, καθώς ανέρχεται στα 6.000 από το σύνολο των 330.000 ατόμων <span style=\"background-color:#DFFF00 \">που</span><span style=\"background-color:#DFFF00 \"> έχουν</span><span style=\"background-color:#DFFF00 \"> μολύνθηκαν</span><span style=\"background-color:#DFFF00 \"> οποιαδήποτε</span><span style=\"background-color:#DFFF00 \"> στιγμή</span> στη Νότια Αφρική."
      ],
      "text/plain": [
       "<IPython.core.display.HTML object>"
      ]
     },
     "metadata": {},
     "output_type": "display_data"
    },
    {
     "name": "stdout",
     "output_type": "stream",
     "text": [
      "____________________________________38___________________________________________________\n",
      "31\n",
      "0.9854868999999997\n"
     ]
    },
    {
     "data": {
      "text/html": [
       " <span style=\"background-color:#e0e0e0 \">-5.6944203</span><span style=\"background-color:#DFFF00 \"> -4.7089334</span>"
      ],
      "text/plain": [
       "<IPython.core.display.HTML object>"
      ]
     },
     "metadata": {},
     "output_type": "display_data"
    },
    {
     "name": "stdout",
     "output_type": "stream",
     "text": [
      "-  --  --  --  --  --  --  --  --  --  --  --  --  --  --  --  --  --  --  --  --  --  --  --  --  -\n"
     ]
    },
    {
     "data": {
      "text/html": [
       " The result of plotting analysis <span style=\"background-color:#DFFF00 \">will</span> be posted to a public website."
      ],
      "text/plain": [
       "<IPython.core.display.HTML object>"
      ]
     },
     "metadata": {},
     "output_type": "display_data"
    },
    {
     "data": {
      "text/html": [
       " Το αποτέλεσμα της ανάλυσης των μετρήσεων <span style=\"background-color:#DFFF00 \">θα</span> αναρτηθεί σε δημόσια ιστοσελίδα."
      ],
      "text/plain": [
       "<IPython.core.display.HTML object>"
      ]
     },
     "metadata": {},
     "output_type": "display_data"
    },
    {
     "name": "stdout",
     "output_type": "stream",
     "text": [
      "____________________________________39___________________________________________________\n",
      "32\n",
      "7.3274936\n"
     ]
    },
    {
     "data": {
      "text/html": [
       " <span style=\"background-color:#e0e0e0 \">-3.2388973</span><span style=\"background-color:#DFFF00 \"> 4.0885963</span>"
      ],
      "text/plain": [
       "<IPython.core.display.HTML object>"
      ]
     },
     "metadata": {},
     "output_type": "display_data"
    },
    {
     "name": "stdout",
     "output_type": "stream",
     "text": [
      "-  --  --  --  --  --  --  --  --  --  --  --  --  --  --  --  --  --  --  --  --  --  --  --  --  -\n"
     ]
    },
    {
     "data": {
      "text/html": [
       " A doctor who worked at Children's Hospital of Pittsburgh, Pennsylvania will be charged with aggravated murder after her mother was found dead in the trunk of her car <span style=\"background-color:#DFFF00 \">Wednesday,</span><span style=\"background-color:#DFFF00 \"> authorities</span><span style=\"background-color:#DFFF00 \"> in</span><span style=\"background-color:#DFFF00 \"> Ohio</span> say."
      ],
      "text/plain": [
       "<IPython.core.display.HTML object>"
      ]
     },
     "metadata": {},
     "output_type": "display_data"
    },
    {
     "data": {
      "text/html": [
       " <span style=\"background-color:#DFFF00 \">Οι</span><span style=\"background-color:#DFFF00 \"> αρχές</span><span style=\"background-color:#DFFF00 \"> του</span><span style=\"background-color:#DFFF00 \"> Οχάιο</span> δηλώνουν πώς ένας γιατρός που εργαζόταν στο Νοσοκομείο Παίδων του Πίτσμπουργκ της Πενσυλβάνια κατηγορείται για διακεκριμένο φόνο, αφού η μαμά της βρέθηκε νεκρή στο πορτμπαγκάζ του αυτοκινήτου της την Τετάρτη."
      ],
      "text/plain": [
       "<IPython.core.display.HTML object>"
      ]
     },
     "metadata": {},
     "output_type": "display_data"
    },
    {
     "name": "stdout",
     "output_type": "stream",
     "text": [
      "____________________________________40___________________________________________________\n",
      "33\n",
      "9.06820592\n"
     ]
    },
    {
     "data": {
      "text/html": [
       " <span style=\"background-color:#e0e0e0 \">-9.422495</span><span style=\"background-color:#DFFF00 \"> -0.35428908</span>"
      ],
      "text/plain": [
       "<IPython.core.display.HTML object>"
      ]
     },
     "metadata": {},
     "output_type": "display_data"
    },
    {
     "name": "stdout",
     "output_type": "stream",
     "text": [
      "-  --  --  --  --  --  --  --  --  --  --  --  --  --  --  --  --  --  --  --  --  --  --  --  --  -\n"
     ]
    },
    {
     "data": {
      "text/html": [
       " Dr. Malar Balasubramanian, 29, was found in Blue Ash, Ohio, a suburb approximately 15 miles north of Cincinnati lying on the ground beside the road in a T-shirt <span style=\"background-color:#DFFF00 \">and</span><span style=\"background-color:#DFFF00 \"> underwear</span><span style=\"background-color:#DFFF00 \"> in</span><span style=\"background-color:#DFFF00 \"> an</span> apparently heavily medicated state."
      ],
      "text/plain": [
       "<IPython.core.display.HTML object>"
      ]
     },
     "metadata": {},
     "output_type": "display_data"
    },
    {
     "data": {
      "text/html": [
       " Η 29χρονη γιατρός Malar Balasubramanian βρέθηκε νεκρή στο Blue Ash του Οχάιο, 15 μίλια από το Σινσινάτι, σε έναν δρόμο φορώντας μια κοντομάνικη μπλούζα <span style=\"background-color:#DFFF00 \">και</span><span style=\"background-color:#DFFF00 \"> εσώρουχα</span><span style=\"background-color:#DFFF00 \"> και</span> καθώς φαίνεται υπό την επήρεια φαρμάκων."
      ],
      "text/plain": [
       "<IPython.core.display.HTML object>"
      ]
     },
     "metadata": {},
     "output_type": "display_data"
    },
    {
     "name": "stdout",
     "output_type": "stream",
     "text": [
      "____________________________________43___________________________________________________\n",
      "34\n",
      "20.7132215\n"
     ]
    },
    {
     "data": {
      "text/html": [
       " <span style=\"background-color:#e0e0e0 \">-13.579019</span><span style=\"background-color:#DFFF00 \"> 7.1342025</span>"
      ],
      "text/plain": [
       "<IPython.core.display.HTML object>"
      ]
     },
     "metadata": {},
     "output_type": "display_data"
    },
    {
     "name": "stdout",
     "output_type": "stream",
     "text": [
      "-  --  --  --  --  --  --  --  --  --  --  --  --  --  --  --  --  --  --  --  --  --  --  --  --  -\n"
     ]
    },
    {
     "data": {
      "text/html": [
       " The first cases of the disease <span style=\"background-color:#DFFF00 \">this</span><span style=\"background-color:#DFFF00 \"> season</span> were reported in late July."
      ],
      "text/plain": [
       "<IPython.core.display.HTML object>"
      ]
     },
     "metadata": {},
     "output_type": "display_data"
    },
    {
     "data": {
      "text/html": [
       " Τα πρώτα κρούσματα της ασθένειας <span style=\"background-color:#DFFF00 \">για</span><span style=\"background-color:#DFFF00 \"> φέτος</span> καταγράφηκαν στα τέλη Ιουλίου."
      ],
      "text/plain": [
       "<IPython.core.display.HTML object>"
      ]
     },
     "metadata": {},
     "output_type": "display_data"
    },
    {
     "name": "stdout",
     "output_type": "stream",
     "text": [
      "____________________________________45___________________________________________________\n",
      "35\n",
      "2.7450559\n"
     ]
    },
    {
     "data": {
      "text/html": [
       " <span style=\"background-color:#e0e0e0 \">-4.873805</span><span style=\"background-color:#DFFF00 \"> -3.7162156</span><span style=\"background-color:#9FE2BF \"> -2.1287491</span>"
      ],
      "text/plain": [
       "<IPython.core.display.HTML object>"
      ]
     },
     "metadata": {},
     "output_type": "display_data"
    },
    {
     "name": "stdout",
     "output_type": "stream",
     "text": [
      "-  --  --  --  --  --  --  --  --  --  --  --  --  --  --  --  --  --  --  --  --  --  --  --  --  -\n"
     ]
    },
    {
     "data": {
      "text/html": [
       " He produced over 1,000 stamps for <span style=\"background-color:#DFFF00 \">Sweden</span><span style=\"background-color:#DFFF00 \"> and</span> 28 <span style=\"background-color:#9FE2BF \">other</span> countries."
      ],
      "text/plain": [
       "<IPython.core.display.HTML object>"
      ]
     },
     "metadata": {},
     "output_type": "display_data"
    },
    {
     "data": {
      "text/html": [
       " Δημιούργησε περισσότερα από 1.000 γραμματόσημα για <span style=\"background-color:#DFFF00 \">τη</span><span style=\"background-color:#DFFF00 \"> Σουηδία,</span><span style=\"background-color:#DFFF00 \"> καθώς</span><span style=\"background-color:#DFFF00 \"> και</span><span style=\"background-color:#DFFF00 \"> για</span><span style=\"background-color:#9FE2BF \"> άλλες</span> 28 χώρες."
      ],
      "text/plain": [
       "<IPython.core.display.HTML object>"
      ]
     },
     "metadata": {},
     "output_type": "display_data"
    },
    {
     "name": "stdout",
     "output_type": "stream",
     "text": [
      "____________________________________47___________________________________________________\n",
      "36\n",
      "12.0964222\n"
     ]
    },
    {
     "data": {
      "text/html": [
       " <span style=\"background-color:#e0e0e0 \">-2.1660752</span><span style=\"background-color:#DFFF00 \"> 9.930347</span>"
      ],
      "text/plain": [
       "<IPython.core.display.HTML object>"
      ]
     },
     "metadata": {},
     "output_type": "display_data"
    },
    {
     "name": "stdout",
     "output_type": "stream",
     "text": [
      "-  --  --  --  --  --  --  --  --  --  --  --  --  --  --  --  --  --  --  --  --  --  --  --  --  -\n"
     ]
    },
    {
     "data": {
      "text/html": [
       " The vehicle itself was taken away from the scene of the accident <span style=\"background-color:#DFFF00 \">at</span><span style=\"background-color:#DFFF00 \"> approximately</span><span style=\"background-color:#DFFF00 \"> 1200</span><span style=\"background-color:#DFFF00 \"> GMT</span> on the same day."
      ],
      "text/plain": [
       "<IPython.core.display.HTML object>"
      ]
     },
     "metadata": {},
     "output_type": "display_data"
    },
    {
     "data": {
      "text/html": [
       " Το ίδιο το όχημα απομακρύνθηκε από το σημείο του ατυχήματος <span style=\"background-color:#DFFF00 \">περίπου</span><span style=\"background-color:#DFFF00 \"> στις</span><span style=\"background-color:#DFFF00 \"> 12:00</span><span style=\"background-color:#DFFF00 \"> ώρα</span><span style=\"background-color:#DFFF00 \"> Γκρίνουιτς</span> την ίδια μέρα."
      ],
      "text/plain": [
       "<IPython.core.display.HTML object>"
      ]
     },
     "metadata": {},
     "output_type": "display_data"
    },
    {
     "name": "stdout",
     "output_type": "stream",
     "text": [
      "____________________________________49___________________________________________________\n",
      "37\n",
      "6.4833278\n"
     ]
    },
    {
     "data": {
      "text/html": [
       " <span style=\"background-color:#e0e0e0 \">-7.0613375</span><span style=\"background-color:#DFFF00 \"> -0.5780097</span>"
      ],
      "text/plain": [
       "<IPython.core.display.HTML object>"
      ]
     },
     "metadata": {},
     "output_type": "display_data"
    },
    {
     "name": "stdout",
     "output_type": "stream",
     "text": [
      "-  --  --  --  --  --  --  --  --  --  --  --  --  --  --  --  --  --  --  --  --  --  --  --  --  -\n"
     ]
    },
    {
     "data": {
      "text/html": [
       " Fluke wrote that the efforts by some to drown out women <span style=\"background-color:#DFFF00 \">from</span><span style=\"background-color:#DFFF00 \"> speaking</span><span style=\"background-color:#DFFF00 \"> out</span><span style=\"background-color:#DFFF00 \"> about</span><span style=\"background-color:#DFFF00 \"> women’s</span><span style=\"background-color:#DFFF00 \"> health</span> were unsuccessful."
      ],
      "text/plain": [
       "<IPython.core.display.HTML object>"
      ]
     },
     "metadata": {},
     "output_type": "display_data"
    },
    {
     "data": {
      "text/html": [
       " Η Φλουκ έγραψε ότι οι προσπάθειες κάποιων να καταπνίξουν τις γυναίκες <span style=\"background-color:#DFFF00 \">που</span><span style=\"background-color:#DFFF00 \"> εκφέρουν</span><span style=\"background-color:#DFFF00 \"> άποψη</span><span style=\"background-color:#DFFF00 \"> για</span><span style=\"background-color:#DFFF00 \"> την</span><span style=\"background-color:#DFFF00 \"> υγεία</span><span style=\"background-color:#DFFF00 \"> των</span><span style=\"background-color:#DFFF00 \"> γυναικών</span> ήταν ανεπιτυχείς."
      ],
      "text/plain": [
       "<IPython.core.display.HTML object>"
      ]
     },
     "metadata": {},
     "output_type": "display_data"
    },
    {
     "name": "stdout",
     "output_type": "stream",
     "text": [
      "____________________________________50___________________________________________________\n",
      "38\n",
      "0.45523500000000006\n"
     ]
    },
    {
     "data": {
      "text/html": [
       " <span style=\"background-color:#e0e0e0 \">-6.0815935</span><span style=\"background-color:#DFFF00 \"> -5.6263585</span>"
      ],
      "text/plain": [
       "<IPython.core.display.HTML object>"
      ]
     },
     "metadata": {},
     "output_type": "display_data"
    },
    {
     "name": "stdout",
     "output_type": "stream",
     "text": [
      "-  --  --  --  --  --  --  --  --  --  --  --  --  --  --  --  --  --  --  --  --  --  --  --  --  -\n"
     ]
    },
    {
     "data": {
      "text/html": [
       " Between 10:00-11:00 <span style=\"background-color:#DFFF00 \">pm</span><span style=\"background-color:#DFFF00 \"> MDT,</span> a fire was started by the inmates in the yard."
      ],
      "text/plain": [
       "<IPython.core.display.HTML object>"
      ]
     },
     "metadata": {},
     "output_type": "display_data"
    },
    {
     "data": {
      "text/html": [
       " Μεταξύ 7:00-8:00 <span style=\"background-color:#DFFF00 \">π.μ.,</span> ξεκίνησε φωτιά από τους κρατούμενους στην αυλή."
      ],
      "text/plain": [
       "<IPython.core.display.HTML object>"
      ]
     },
     "metadata": {},
     "output_type": "display_data"
    },
    {
     "name": "stdout",
     "output_type": "stream",
     "text": [
      "____________________________________51___________________________________________________\n",
      "39\n",
      "0.3229350000000011\n"
     ]
    },
    {
     "data": {
      "text/html": [
       " <span style=\"background-color:#e0e0e0 \">-15.025603</span><span style=\"background-color:#DFFF00 \"> -14.702668</span>"
      ],
      "text/plain": [
       "<IPython.core.display.HTML object>"
      ]
     },
     "metadata": {},
     "output_type": "display_data"
    },
    {
     "name": "stdout",
     "output_type": "stream",
     "text": [
      "-  --  --  --  --  --  --  --  --  --  --  --  --  --  --  --  --  --  --  --  --  --  --  --  --  -\n"
     ]
    },
    {
     "data": {
      "text/html": [
       " Fire rescue crews eventually <span style=\"background-color:#DFFF00 \">doused</span><span style=\"background-color:#DFFF00 \"> the</span> fire by 11:35 pm."
      ],
      "text/plain": [
       "<IPython.core.display.HTML object>"
      ]
     },
     "metadata": {},
     "output_type": "display_data"
    },
    {
     "data": {
      "text/html": [
       " Οι ομάδες πυρόσβεσης είχαν <span style=\"background-color:#DFFF00 \">σβήσει</span><span style=\"background-color:#DFFF00 \"> τη</span> φωτιά έως τις 23:35."
      ],
      "text/plain": [
       "<IPython.core.display.HTML object>"
      ]
     },
     "metadata": {},
     "output_type": "display_data"
    },
    {
     "name": "stdout",
     "output_type": "stream",
     "text": [
      "____________________________________53___________________________________________________\n",
      "40\n",
      "9.126676999999999\n"
     ]
    },
    {
     "data": {
      "text/html": [
       " <span style=\"background-color:#e0e0e0 \">-3.245948</span><span style=\"background-color:#DFFF00 \"> 2.8772812</span><span style=\"background-color:#9FE2BF \"> 5.880729</span>"
      ],
      "text/plain": [
       "<IPython.core.display.HTML object>"
      ]
     },
     "metadata": {},
     "output_type": "display_data"
    },
    {
     "name": "stdout",
     "output_type": "stream",
     "text": [
      "-  --  --  --  --  --  --  --  --  --  --  --  --  --  --  --  --  --  --  --  --  --  --  --  --  -\n"
     ]
    },
    {
     "data": {
      "text/html": [
       " Coalition <span style=\"background-color:#9FE2BF \">and</span> Afghan troops moved into the area to secure the site <span style=\"background-color:#DFFF00 \">and</span><span style=\"background-color:#DFFF00 \"> other</span><span style=\"background-color:#DFFF00 \"> coalition</span><span style=\"background-color:#DFFF00 \"> aircraft</span><span style=\"background-color:#DFFF00 \"> have</span><span style=\"background-color:#DFFF00 \"> been</span><span style=\"background-color:#DFFF00 \"> sent</span><span style=\"background-color:#DFFF00 \"> to</span><span style=\"background-color:#DFFF00 \"> assist.</span>"
      ],
      "text/plain": [
       "<IPython.core.display.HTML object>"
      ]
     },
     "metadata": {},
     "output_type": "display_data"
    },
    {
     "data": {
      "text/html": [
       " Συμμαχικές δυνάμεις <span style=\"background-color:#9FE2BF \">και</span> αφγανικά στρατεύματα μεταφέρθηκαν στην περιοχή για να διασφαλίσουν την τοποθεσία <span style=\"background-color:#DFFF00 \">ενώ</span><span style=\"background-color:#DFFF00 \"> αεροπορικές</span><span style=\"background-color:#DFFF00 \"> δυνάμεις</span><span style=\"background-color:#DFFF00 \"> του</span><span style=\"background-color:#DFFF00 \"> συνασπισμού</span><span style=\"background-color:#DFFF00 \"> έχουν</span><span style=\"background-color:#DFFF00 \"> σταλεί</span><span style=\"background-color:#DFFF00 \"> για</span><span style=\"background-color:#DFFF00 \"> βοήθεια.</span>"
      ],
      "text/plain": [
       "<IPython.core.display.HTML object>"
      ]
     },
     "metadata": {},
     "output_type": "display_data"
    },
    {
     "name": "stdout",
     "output_type": "stream",
     "text": [
      "____________________________________54___________________________________________________\n",
      "41\n",
      "16.9709175\n"
     ]
    },
    {
     "data": {
      "text/html": [
       " <span style=\"background-color:#e0e0e0 \">-8.967737</span><span style=\"background-color:#DFFF00 \"> 6.301814</span><span style=\"background-color:#9FE2BF \"> 8.0031805</span>"
      ],
      "text/plain": [
       "<IPython.core.display.HTML object>"
      ]
     },
     "metadata": {},
     "output_type": "display_data"
    },
    {
     "name": "stdout",
     "output_type": "stream",
     "text": [
      "-  --  --  --  --  --  --  --  --  --  --  --  --  --  --  --  --  --  --  --  --  --  --  --  --  -\n"
     ]
    },
    {
     "data": {
      "text/html": [
       " The games kicked off at 10:00am with great weather <span style=\"background-color:#9FE2BF \">and</span><span style=\"background-color:#9FE2BF \"> apart</span><span style=\"background-color:#9FE2BF \"> from</span><span style=\"background-color:#9FE2BF \"> mid</span><span style=\"background-color:#9FE2BF \"> morning</span><span style=\"background-color:#9FE2BF \"> drizzle</span> which quickly cleared up, it was a perfect day <span style=\"background-color:#DFFF00 \">for</span><span style=\"background-color:#DFFF00 \"> 7's</span><span style=\"background-color:#DFFF00 \"> rugby.</span>"
      ],
      "text/plain": [
       "<IPython.core.display.HTML object>"
      ]
     },
     "metadata": {},
     "output_type": "display_data"
    },
    {
     "data": {
      "text/html": [
       " Οι αγώνες ξεκίνησαν στις 10:00 π.μ. με θαυμάσιο καιρό <span style=\"background-color:#9FE2BF \">και,</span><span style=\"background-color:#9FE2BF \"> αν</span><span style=\"background-color:#9FE2BF \"> εξαιρέσουμε</span><span style=\"background-color:#9FE2BF \"> το</span><span style=\"background-color:#9FE2BF \"> πρωινό</span><span style=\"background-color:#9FE2BF \"> ψιλόβροχο</span> που υποχώρησε γρήγορα, η μέρα ήταν τέλεια <span style=\"background-color:#DFFF00 \">για</span><span style=\"background-color:#DFFF00 \"> ράγκμπι</span><span style=\"background-color:#DFFF00 \"> σέβενς.</span>"
      ],
      "text/plain": [
       "<IPython.core.display.HTML object>"
      ]
     },
     "metadata": {},
     "output_type": "display_data"
    },
    {
     "name": "stdout",
     "output_type": "stream",
     "text": [
      "____________________________________55___________________________________________________\n",
      "42\n",
      "7.8517533\n"
     ]
    },
    {
     "data": {
      "text/html": [
       " <span style=\"background-color:#e0e0e0 \">-2.6810083</span><span style=\"background-color:#DFFF00 \"> 4.5386667</span><span style=\"background-color:#9FE2BF \"> 5.170745</span>"
      ],
      "text/plain": [
       "<IPython.core.display.HTML object>"
      ]
     },
     "metadata": {},
     "output_type": "display_data"
    },
    {
     "name": "stdout",
     "output_type": "stream",
     "text": [
      "-  --  --  --  --  --  --  --  --  --  --  --  --  --  --  --  --  --  --  --  --  --  --  --  --  -\n"
     ]
    },
    {
     "data": {
      "text/html": [
       " Their disciplined defence, ball handling skills and excellent team work made them stand out and it was clear that this was the team to beat."
      ],
      "text/plain": [
       "<IPython.core.display.HTML object>"
      ]
     },
     "metadata": {},
     "output_type": "display_data"
    },
    {
     "data": {
      "text/html": [
       " Η πειθαρχημένη άμυνα, οι δεξιότητες στον χειρισμό της μπάλας και <span style=\"background-color:#9FE2BF \">η</span><span style=\"background-color:#9FE2BF \"> εξαιρετική</span> συνεργασία <span style=\"background-color:#DFFF00 \">που</span><span style=\"background-color:#DFFF00 \"> επέδειξαν</span> τους έκαναν να ξεχωρίσουν και ήταν σαφές ότι αυτή θα ήταν η νικήτρια ομάδα."
      ],
      "text/plain": [
       "<IPython.core.display.HTML object>"
      ]
     },
     "metadata": {},
     "output_type": "display_data"
    },
    {
     "name": "stdout",
     "output_type": "stream",
     "text": [
      "____________________________________57___________________________________________________\n",
      "43\n",
      "0.16677940000000002\n"
     ]
    },
    {
     "data": {
      "text/html": [
       " <span style=\"background-color:#e0e0e0 \">-1.2734876</span><span style=\"background-color:#DFFF00 \"> -1.1067082</span>"
      ],
      "text/plain": [
       "<IPython.core.display.HTML object>"
      ]
     },
     "metadata": {},
     "output_type": "display_data"
    },
    {
     "name": "stdout",
     "output_type": "stream",
     "text": [
      "-  --  --  --  --  --  --  --  --  --  --  --  --  --  --  --  --  --  --  --  --  --  --  --  --  -\n"
     ]
    },
    {
     "data": {
      "text/html": [
       " Infrared images show that the temperature variations from night and day show that they are likely caves."
      ],
      "text/plain": [
       "<IPython.core.display.HTML object>"
      ]
     },
     "metadata": {},
     "output_type": "display_data"
    },
    {
     "data": {
      "text/html": [
       " <span style=\"background-color:#DFFF00 \">Μέσω</span><span style=\"background-color:#DFFF00 \"> των</span><span style=\"background-color:#DFFF00 \"> υπέρυθρων</span> εικόνων φαίνεται ότι οι διακυμάνσεις της θερμοκρασίας τη νύχτα και τη μέρα, δείχνουν ότι μάλλον πρόκειται για σπήλαια."
      ],
      "text/plain": [
       "<IPython.core.display.HTML object>"
      ]
     },
     "metadata": {},
     "output_type": "display_data"
    },
    {
     "name": "stdout",
     "output_type": "stream",
     "text": [
      "____________________________________58___________________________________________________\n",
      "44\n",
      "1.0856049999999993\n"
     ]
    },
    {
     "data": {
      "text/html": [
       " <span style=\"background-color:#e0e0e0 \">-15.902002</span><span style=\"background-color:#DFFF00 \"> -14.818755</span><span style=\"background-color:#9FE2BF \"> -14.816397</span>"
      ],
      "text/plain": [
       "<IPython.core.display.HTML object>"
      ]
     },
     "metadata": {},
     "output_type": "display_data"
    },
    {
     "name": "stdout",
     "output_type": "stream",
     "text": [
      "-  --  --  --  --  --  --  --  --  --  --  --  --  --  --  --  --  --  --  --  --  --  --  --  --  -\n"
     ]
    },
    {
     "data": {
      "text/html": [
       " French electoral law <span style=\"background-color:#DFFF00 \">rather</span><span style=\"background-color:#DFFF00 \"> strictly</span> codifies <span style=\"background-color:#9FE2BF \">the</span> proceedings."
      ],
      "text/plain": [
       "<IPython.core.display.HTML object>"
      ]
     },
     "metadata": {},
     "output_type": "display_data"
    },
    {
     "data": {
      "text/html": [
       " <span style=\"background-color:#9FE2BF \">Η</span> διαδικασία κωδικοποιείται <span style=\"background-color:#DFFF00 \">με</span><span style=\"background-color:#DFFF00 \"> μεγάλη</span><span style=\"background-color:#DFFF00 \"> αυστηρότητα</span> από τον εκλογικό νόμο της Γαλλίας."
      ],
      "text/plain": [
       "<IPython.core.display.HTML object>"
      ]
     },
     "metadata": {},
     "output_type": "display_data"
    },
    {
     "name": "stdout",
     "output_type": "stream",
     "text": [
      "____________________________________59___________________________________________________\n",
      "45\n",
      "1.1666446000000006\n"
     ]
    },
    {
     "data": {
      "text/html": [
       " <span style=\"background-color:#e0e0e0 \">-4.5632663</span><span style=\"background-color:#DFFF00 \"> -3.3966217</span>"
      ],
      "text/plain": [
       "<IPython.core.display.HTML object>"
      ]
     },
     "metadata": {},
     "output_type": "display_data"
    },
    {
     "name": "stdout",
     "output_type": "stream",
     "text": [
      "-  --  --  --  --  --  --  --  --  --  --  --  --  --  --  --  --  --  --  --  --  --  --  --  --  -\n"
     ]
    },
    {
     "data": {
      "text/html": [
       " ASUS Eee PC, earlier launched world-wide for cost-saving and functionality factors, became a hot topic in 2007 <span style=\"background-color:#DFFF00 \">Taipei</span><span style=\"background-color:#DFFF00 \"> IT</span><span style=\"background-color:#DFFF00 \"> Month.</span>"
      ],
      "text/plain": [
       "<IPython.core.display.HTML object>"
      ]
     },
     "metadata": {},
     "output_type": "display_data"
    },
    {
     "data": {
      "text/html": [
       " Ο υπολογιστής ASUS Eee, ο οποίος κυκλοφόρησε πιο νωρίς σε όλο τον κόσμο για λόγους εξοικονόμησης εξόδων και λειτουργικότητας, έγινε φλέγον ζήτημα το 2007 <span style=\"background-color:#DFFF00 \">στον</span><span style=\"background-color:#DFFF00 \"> Μήνα</span><span style=\"background-color:#DFFF00 \"> Τεχνολογίας</span><span style=\"background-color:#DFFF00 \"> Πληροφοριών</span><span style=\"background-color:#DFFF00 \"> της</span><span style=\"background-color:#DFFF00 \"> Ταϊπέι.</span>"
      ],
      "text/plain": [
       "<IPython.core.display.HTML object>"
      ]
     },
     "metadata": {},
     "output_type": "display_data"
    },
    {
     "name": "stdout",
     "output_type": "stream",
     "text": [
      "____________________________________61___________________________________________________\n",
      "46\n",
      "3.682270000000001\n"
     ]
    },
    {
     "data": {
      "text/html": [
       " <span style=\"background-color:#e0e0e0 \">-15.774212</span><span style=\"background-color:#DFFF00 \"> -14.04133</span><span style=\"background-color:#9FE2BF \"> -12.091942</span>"
      ],
      "text/plain": [
       "<IPython.core.display.HTML object>"
      ]
     },
     "metadata": {},
     "output_type": "display_data"
    },
    {
     "name": "stdout",
     "output_type": "stream",
     "text": [
      "-  --  --  --  --  --  --  --  --  --  --  --  --  --  --  --  --  --  --  --  --  --  --  --  --  -\n"
     ]
    },
    {
     "data": {
      "text/html": [
       " The show <span style=\"background-color:#9FE2BF \">originally</span> featured amateur voice actors, <span style=\"background-color:#DFFF00 \">local</span><span style=\"background-color:#DFFF00 \"> to</span><span style=\"background-color:#DFFF00 \"> East</span><span style=\"background-color:#DFFF00 \"> Texas.</span>"
      ],
      "text/plain": [
       "<IPython.core.display.HTML object>"
      ]
     },
     "metadata": {},
     "output_type": "display_data"
    },
    {
     "data": {
      "text/html": [
       " <span style=\"background-color:#9FE2BF \">Αρχικά,</span> η σειρά περιλάμβανε ερασιτέχνες ηθοποιούς φωνής, <span style=\"background-color:#DFFF00 \">που</span><span style=\"background-color:#DFFF00 \"> προέρχονταν</span><span style=\"background-color:#DFFF00 \"> από</span><span style=\"background-color:#DFFF00 \"> το</span><span style=\"background-color:#DFFF00 \"> ανατολικό</span><span style=\"background-color:#DFFF00 \"> Τέξας.</span>"
      ],
      "text/plain": [
       "<IPython.core.display.HTML object>"
      ]
     },
     "metadata": {},
     "output_type": "display_data"
    },
    {
     "name": "stdout",
     "output_type": "stream",
     "text": [
      "____________________________________63___________________________________________________\n",
      "47\n",
      "1.834764999999999\n"
     ]
    },
    {
     "data": {
      "text/html": [
       " <span style=\"background-color:#e0e0e0 \">-15.863574</span><span style=\"background-color:#DFFF00 \"> -14.661785</span><span style=\"background-color:#9FE2BF \"> -14.028809</span>"
      ],
      "text/plain": [
       "<IPython.core.display.HTML object>"
      ]
     },
     "metadata": {},
     "output_type": "display_data"
    },
    {
     "name": "stdout",
     "output_type": "stream",
     "text": [
      "-  --  --  --  --  --  --  --  --  --  --  --  --  --  --  --  --  --  --  --  --  --  --  --  --  -\n"
     ]
    },
    {
     "data": {
      "text/html": [
       " A moderate earthquake shook <span style=\"background-color:#9FE2BF \">western</span> Montana <span style=\"background-color:#DFFF00 \">at</span><span style=\"background-color:#DFFF00 \"> 10:08</span><span style=\"background-color:#DFFF00 \"> p.m.</span><span style=\"background-color:#DFFF00 \"> on</span><span style=\"background-color:#DFFF00 \"> Monday.</span>"
      ],
      "text/plain": [
       "<IPython.core.display.HTML object>"
      ]
     },
     "metadata": {},
     "output_type": "display_data"
    },
    {
     "data": {
      "text/html": [
       " Ένας ήπιος σεισμός έλαβε χώρα <span style=\"background-color:#9FE2BF \">στη</span><span style=\"background-color:#9FE2BF \"> δυτική</span> Μοντάνα <span style=\"background-color:#DFFF00 \">τη</span><span style=\"background-color:#DFFF00 \"> Δευτέρα</span><span style=\"background-color:#DFFF00 \"> στις</span><span style=\"background-color:#DFFF00 \"> 22:10.</span>"
      ],
      "text/plain": [
       "<IPython.core.display.HTML object>"
      ]
     },
     "metadata": {},
     "output_type": "display_data"
    },
    {
     "name": "stdout",
     "output_type": "stream",
     "text": [
      "____________________________________64___________________________________________________\n",
      "48\n",
      "23.032753\n"
     ]
    },
    {
     "data": {
      "text/html": [
       " <span style=\"background-color:#e0e0e0 \">-7.321757</span><span style=\"background-color:#DFFF00 \"> 14.679513</span><span style=\"background-color:#9FE2BF \"> 15.710996</span>"
      ],
      "text/plain": [
       "<IPython.core.display.HTML object>"
      ]
     },
     "metadata": {},
     "output_type": "display_data"
    },
    {
     "name": "stdout",
     "output_type": "stream",
     "text": [
      "-  --  --  --  --  --  --  --  --  --  --  --  --  --  --  --  --  --  --  --  --  --  --  --  --  -\n"
     ]
    },
    {
     "data": {
      "text/html": [
       " The <span style=\"background-color:#9FE2BF \">strain</span><span style=\"background-color:#9FE2BF \"> of</span><span style=\"background-color:#9FE2BF \"> bird</span><span style=\"background-color:#9FE2BF \"> flu</span><span style=\"background-color:#9FE2BF \"> lethal</span><span style=\"background-color:#9FE2BF \"> to</span> humans, H5N1, has been confirmed to have infected a <span style=\"background-color:#DFFF00 \">dead</span><span style=\"background-color:#DFFF00 \"> wild</span><span style=\"background-color:#DFFF00 \"> duck,</span><span style=\"background-color:#DFFF00 \"> found</span><span style=\"background-color:#DFFF00 \"> on</span><span style=\"background-color:#DFFF00 \"> Monday,</span><span style=\"background-color:#DFFF00 \"> in</span> marshland near Lyon in the east of France."
      ],
      "text/plain": [
       "<IPython.core.display.HTML object>"
      ]
     },
     "metadata": {},
     "output_type": "display_data"
    },
    {
     "data": {
      "text/html": [
       " Το <span style=\"background-color:#9FE2BF \">θανατηφόρο</span><span style=\"background-color:#9FE2BF \"> για</span><span style=\"background-color:#9FE2BF \"> τους</span><span style=\"background-color:#9FE2BF \"> ανθρώπους</span><span style=\"background-color:#9FE2BF \"> στέλεχος</span><span style=\"background-color:#9FE2BF \"> της</span><span style=\"background-color:#9FE2BF \"> γρίπης</span><span style=\"background-color:#9FE2BF \"> των</span> πτηνών, H5N1, επιβεβαιώθηκε ότι είχε μολύνει μια <span style=\"background-color:#DFFF00 \">νεκρή</span><span style=\"background-color:#DFFF00 \"> αγριόπαπια,</span><span style=\"background-color:#DFFF00 \"> που</span><span style=\"background-color:#DFFF00 \"> βρέθηκε</span><span style=\"background-color:#DFFF00 \"> τη</span><span style=\"background-color:#DFFF00 \"> Δευτέρα</span><span style=\"background-color:#DFFF00 \"> σε</span><span style=\"background-color:#DFFF00 \"> έναν</span> βάλτο κοντά στη Λυών, ανατολικά της Γαλλίας."
      ],
      "text/plain": [
       "<IPython.core.display.HTML object>"
      ]
     },
     "metadata": {},
     "output_type": "display_data"
    },
    {
     "name": "stdout",
     "output_type": "stream",
     "text": [
      "____________________________________65___________________________________________________\n",
      "49\n",
      "6.2316650000000005\n"
     ]
    },
    {
     "data": {
      "text/html": [
       " <span style=\"background-color:#e0e0e0 \">-12.584618</span><span style=\"background-color:#DFFF00 \"> -10.698223</span><span style=\"background-color:#9FE2BF \"> -9.356626</span><span style=\"background-color:#CCCCFF \"> -6.352953</span>"
      ],
      "text/plain": [
       "<IPython.core.display.HTML object>"
      ]
     },
     "metadata": {},
     "output_type": "display_data"
    },
    {
     "name": "stdout",
     "output_type": "stream",
     "text": [
      "-  --  --  --  --  --  --  --  --  --  --  --  --  --  --  --  --  --  --  --  --  --  --  --  --  -\n"
     ]
    },
    {
     "data": {
      "text/html": [
       " France is the seventh country <span style=\"background-color:#DFFF00 \">in</span><span style=\"background-color:#DFFF00 \"> the</span><span style=\"background-color:#DFFF00 \"> European</span><span style=\"background-color:#DFFF00 \"> Union</span> to suffer this virus; following Austria, <span style=\"background-color:#CCCCFF \">Germany,</span> Slovenia, Bulgaria, Greece and Italy."
      ],
      "text/plain": [
       "<IPython.core.display.HTML object>"
      ]
     },
     "metadata": {},
     "output_type": "display_data"
    },
    {
     "data": {
      "text/html": [
       " Στο <span style=\"background-color:#CCCCFF \">τέλος</span><span style=\"background-color:#CCCCFF \"> της</span><span style=\"background-color:#CCCCFF \"> εξής</span><span style=\"background-color:#CCCCFF \"> σειράς</span><span style=\"background-color:#CCCCFF \"> Αυστρία,</span><span style=\"background-color:#CCCCFF \"> Γερμανία,</span> Σλοβενία, Βουλγαρία, Ελλάδα, Ιταλία μπαίνει η Γαλλία που αποτελεί το 7ο ευρωπαϊκό κράτος που πλήττεται <span style=\"background-color:#9FE2BF \">από</span><span style=\"background-color:#9FE2BF \"> το</span> συγκεκριμένο μικρόβιο."
      ],
      "text/plain": [
       "<IPython.core.display.HTML object>"
      ]
     },
     "metadata": {},
     "output_type": "display_data"
    },
    {
     "name": "stdout",
     "output_type": "stream",
     "text": [
      "____________________________________66___________________________________________________\n",
      "50\n",
      "5.092852000000001\n"
     ]
    },
    {
     "data": {
      "text/html": [
       " <span style=\"background-color:#e0e0e0 \">-12.889694</span><span style=\"background-color:#DFFF00 \"> -10.779591</span><span style=\"background-color:#9FE2BF \"> -7.796842</span>"
      ],
      "text/plain": [
       "<IPython.core.display.HTML object>"
      ]
     },
     "metadata": {},
     "output_type": "display_data"
    },
    {
     "name": "stdout",
     "output_type": "stream",
     "text": [
      "-  --  --  --  --  --  --  --  --  --  --  --  --  --  --  --  --  --  --  --  --  --  --  --  --  -\n"
     ]
    },
    {
     "data": {
      "text/html": [
       " Suspected cases of H5N1 <span style=\"background-color:#DFFF00 \">in</span><span style=\"background-color:#DFFF00 \"> Croatia</span><span style=\"background-color:#DFFF00 \"> and</span><span style=\"background-color:#DFFF00 \"> Denmark</span><span style=\"background-color:#9FE2BF \"> remain</span><span style=\"background-color:#9FE2BF \"> unconfirmed.</span>"
      ],
      "text/plain": [
       "<IPython.core.display.HTML object>"
      ]
     },
     "metadata": {},
     "output_type": "display_data"
    },
    {
     "data": {
      "text/html": [
       " <span style=\"background-color:#DFFF00 \">Στην</span><span style=\"background-color:#DFFF00 \"> Κροατία</span><span style=\"background-color:#DFFF00 \"> και</span><span style=\"background-color:#DFFF00 \"> τη</span><span style=\"background-color:#DFFF00 \"> Δανία,</span> υπάρχουν ύποπτα κρούσματα του ιού H5N1 <span style=\"background-color:#9FE2BF \">δεν</span><span style=\"background-color:#9FE2BF \"> έχουν</span><span style=\"background-color:#9FE2BF \"> επιβεβαιωθεί</span><span style=\"background-color:#9FE2BF \"> ακόμη.</span>"
      ],
      "text/plain": [
       "<IPython.core.display.HTML object>"
      ]
     },
     "metadata": {},
     "output_type": "display_data"
    },
    {
     "name": "stdout",
     "output_type": "stream",
     "text": [
      "____________________________________67___________________________________________________\n",
      "51\n",
      "20.0370683\n"
     ]
    },
    {
     "data": {
      "text/html": [
       " <span style=\"background-color:#e0e0e0 \">-5.5934343</span><span style=\"background-color:#DFFF00 \"> 6.1344066</span><span style=\"background-color:#9FE2BF \"> 12.243079</span><span style=\"background-color:#CCCCFF \"> 14.443634</span>"
      ],
      "text/plain": [
       "<IPython.core.display.HTML object>"
      ]
     },
     "metadata": {},
     "output_type": "display_data"
    },
    {
     "name": "stdout",
     "output_type": "stream",
     "text": [
      "-  --  --  --  --  --  --  --  --  --  --  --  --  --  --  --  --  --  --  --  --  --  --  --  --  -\n"
     ]
    },
    {
     "data": {
      "text/html": [
       " <span style=\"background-color:#9FE2BF \">After</span><span style=\"background-color:#9FE2BF \"> the</span><span style=\"background-color:#9FE2BF \"> results</span><span style=\"background-color:#9FE2BF \"> came</span><span style=\"background-color:#9FE2BF \"> in,</span> Gingrich lauded <span style=\"background-color:#DFFF00 \">Santorum,</span><span style=\"background-color:#DFFF00 \"> but</span><span style=\"background-color:#DFFF00 \"> had</span> tough words for Romney, on whose behalf negative campaign advertisements were aired <span style=\"background-color:#CCCCFF \">in</span><span style=\"background-color:#CCCCFF \"> Iowa</span> against Gingrich."
      ],
      "text/plain": [
       "<IPython.core.display.HTML object>"
      ]
     },
     "metadata": {},
     "output_type": "display_data"
    },
    {
     "data": {
      "text/html": [
       " <span style=\"background-color:#9FE2BF \">Αφού</span><span style=\"background-color:#9FE2BF \"> ανακοινώθηκαν</span><span style=\"background-color:#9FE2BF \"> τα</span><span style=\"background-color:#9FE2BF \"> αποτελέσματα,</span> ο Γκίνγκριτς επιδοκίμασε <span style=\"background-color:#DFFF00 \">τον</span><span style=\"background-color:#DFFF00 \"> Σαντόρουμ</span><span style=\"background-color:#DFFF00 \"> όμως</span><span style=\"background-color:#DFFF00 \"> μίλησε</span><span style=\"background-color:#DFFF00 \"> με</span> σκληρά λόγια για τον Ρόμνεϊ, εκ μέρους του οποίου προβλήθηκαν <span style=\"background-color:#CCCCFF \">στην</span><span style=\"background-color:#CCCCFF \"> Αϊόβα</span> αρνητικές πολιτικές διαφημίσεις εναντίον του Γκίνγκριτς."
      ],
      "text/plain": [
       "<IPython.core.display.HTML object>"
      ]
     },
     "metadata": {},
     "output_type": "display_data"
    },
    {
     "name": "stdout",
     "output_type": "stream",
     "text": [
      "____________________________________70___________________________________________________\n",
      "52\n",
      "19.8609486\n"
     ]
    },
    {
     "data": {
      "text/html": [
       " <span style=\"background-color:#e0e0e0 \">-3.9199066</span><span style=\"background-color:#DFFF00 \"> 15.938614</span><span style=\"background-color:#9FE2BF \"> 15.941042</span>"
      ],
      "text/plain": [
       "<IPython.core.display.HTML object>"
      ]
     },
     "metadata": {},
     "output_type": "display_data"
    },
    {
     "name": "stdout",
     "output_type": "stream",
     "text": [
      "-  --  --  --  --  --  --  --  --  --  --  --  --  --  --  --  --  --  --  --  --  --  --  --  --  -\n"
     ]
    },
    {
     "data": {
      "text/html": [
       " <span style=\"background-color:#9FE2BF \">Entertainment</span><span style=\"background-color:#9FE2BF \"> news</span> website TMZ understands the photographer stopped his vehicle on the other side of Sepulveda Boulevard and attempted to take pictures of the police <span style=\"background-color:#DFFF00 \">stop</span><span style=\"background-color:#DFFF00 \"> before</span><span style=\"background-color:#DFFF00 \"> crossing</span><span style=\"background-color:#DFFF00 \"> the</span><span style=\"background-color:#DFFF00 \"> road</span><span style=\"background-color:#DFFF00 \"> and</span><span style=\"background-color:#DFFF00 \"> continuing,</span><span style=\"background-color:#DFFF00 \"> prompting</span><span style=\"background-color:#DFFF00 \"> the</span><span style=\"background-color:#DFFF00 \"> California</span><span style=\"background-color:#DFFF00 \"> Highway</span><span style=\"background-color:#DFFF00 \"> Patrol</span><span style=\"background-color:#DFFF00 \"> police</span><span style=\"background-color:#DFFF00 \"> officer</span><span style=\"background-color:#DFFF00 \"> conducting</span><span style=\"background-color:#DFFF00 \"> the</span><span style=\"background-color:#DFFF00 \"> traffic</span><span style=\"background-color:#DFFF00 \"> stop</span><span style=\"background-color:#DFFF00 \"> to</span><span style=\"background-color:#DFFF00 \"> order</span><span style=\"background-color:#DFFF00 \"> him</span><span style=\"background-color:#DFFF00 \"> back</span><span style=\"background-color:#DFFF00 \"> across,</span> twice."
      ],
      "text/plain": [
       "<IPython.core.display.HTML object>"
      ]
     },
     "metadata": {},
     "output_type": "display_data"
    },
    {
     "data": {
      "text/html": [
       " Ο ιστότοπος <span style=\"background-color:#9FE2BF \">καλλιτεχνικών</span><span style=\"background-color:#9FE2BF \"> νέων</span> ΤΜΖ υποστηρίζει ότι ο φωτογράφος σταμάτησε το όχημά του στην άλλη πλευρά της λεωφόρου Σεπουλβέδα και επιχείρησε να τραβήξει φωτογραφίες από το μπλόκο της αστυνομίας <span style=\"background-color:#DFFF00 \">πριν</span><span style=\"background-color:#DFFF00 \"> διασχίσει</span><span style=\"background-color:#DFFF00 \"> το</span><span style=\"background-color:#DFFF00 \"> δρόμο</span><span style=\"background-color:#DFFF00 \"> και</span><span style=\"background-color:#DFFF00 \"> συνεχίσει,</span><span style=\"background-color:#DFFF00 \"> αναγκάζοντας</span><span style=\"background-color:#DFFF00 \"> τον</span><span style=\"background-color:#DFFF00 \"> αστυνομικό</span><span style=\"background-color:#DFFF00 \"> από</span><span style=\"background-color:#DFFF00 \"> την</span><span style=\"background-color:#DFFF00 \"> υπηρεσία</span><span style=\"background-color:#DFFF00 \"> Χαιγουέι</span><span style=\"background-color:#DFFF00 \"> Πατρόλ</span><span style=\"background-color:#DFFF00 \"> της</span><span style=\"background-color:#DFFF00 \"> Καλιφόρνια</span><span style=\"background-color:#DFFF00 \"> που</span><span style=\"background-color:#DFFF00 \"> διενεργούσε</span><span style=\"background-color:#DFFF00 \"> τη</span><span style=\"background-color:#DFFF00 \"> στάση</span><span style=\"background-color:#DFFF00 \"> της</span><span style=\"background-color:#DFFF00 \"> κυκλοφορίας,</span><span style=\"background-color:#DFFF00 \"> να</span><span style=\"background-color:#DFFF00 \"> του</span><span style=\"background-color:#DFFF00 \"> δώσει</span><span style=\"background-color:#DFFF00 \"> εντολή</span><span style=\"background-color:#DFFF00 \"> να</span><span style=\"background-color:#DFFF00 \"> γυρίσει</span><span style=\"background-color:#DFFF00 \"> πίσω,</span> δύο φορές."
      ],
      "text/plain": [
       "<IPython.core.display.HTML object>"
      ]
     },
     "metadata": {},
     "output_type": "display_data"
    },
    {
     "name": "stdout",
     "output_type": "stream",
     "text": [
      "____________________________________71___________________________________________________\n",
      "53\n",
      "1.1267519999999998\n"
     ]
    },
    {
     "data": {
      "text/html": [
       " <span style=\"background-color:#e0e0e0 \">-6.201192</span><span style=\"background-color:#DFFF00 \"> -5.07444</span>"
      ],
      "text/plain": [
       "<IPython.core.display.HTML object>"
      ]
     },
     "metadata": {},
     "output_type": "display_data"
    },
    {
     "name": "stdout",
     "output_type": "stream",
     "text": [
      "-  --  --  --  --  --  --  --  --  --  --  --  --  --  --  --  --  --  --  --  --  --  --  --  --  -\n"
     ]
    },
    {
     "data": {
      "text/html": [
       " With only eighteen medals available a day, <span style=\"background-color:#DFFF00 \">a</span><span style=\"background-color:#DFFF00 \"> number</span><span style=\"background-color:#DFFF00 \"> of</span> countries have failed to make the medal podium."
      ],
      "text/plain": [
       "<IPython.core.display.HTML object>"
      ]
     },
     "metadata": {},
     "output_type": "display_data"
    },
    {
     "data": {
      "text/html": [
       " Καθώς τα διαθέσιμα μετάλλια ανά ημέρα είναι μόλις δεκαοκτώ, <span style=\"background-color:#DFFF00 \">αρκετά</span> κράτη δεν κατόρθωσαν να ανέβουν στο βάθρο."
      ],
      "text/plain": [
       "<IPython.core.display.HTML object>"
      ]
     },
     "metadata": {},
     "output_type": "display_data"
    },
    {
     "name": "stdout",
     "output_type": "stream",
     "text": [
      "____________________________________72___________________________________________________\n",
      "54\n",
      "8.03317936\n"
     ]
    },
    {
     "data": {
      "text/html": [
       " <span style=\"background-color:#e0e0e0 \">-7.047906</span><span style=\"background-color:#DFFF00 \"> -1.1000713</span><span style=\"background-color:#9FE2BF \"> 0.98527336</span>"
      ],
      "text/plain": [
       "<IPython.core.display.HTML object>"
      ]
     },
     "metadata": {},
     "output_type": "display_data"
    },
    {
     "name": "stdout",
     "output_type": "stream",
     "text": [
      "-  --  --  --  --  --  --  --  --  --  --  --  --  --  --  --  --  --  --  --  --  --  --  --  --  -\n"
     ]
    },
    {
     "data": {
      "text/html": [
       " According to the lawsuit, waste <span style=\"background-color:#9FE2BF \">from</span><span style=\"background-color:#9FE2BF \"> the</span><span style=\"background-color:#9FE2BF \"> UN</span><span style=\"background-color:#9FE2BF \"> camp</span> was not properly sanitized, causing bacteria to enter the tributary of the Artibonite River, <span style=\"background-color:#DFFF00 \">one</span><span style=\"background-color:#DFFF00 \"> of</span><span style=\"background-color:#DFFF00 \"> Haiti's</span><span style=\"background-color:#DFFF00 \"> largest.</span>"
      ],
      "text/plain": [
       "<IPython.core.display.HTML object>"
      ]
     },
     "metadata": {},
     "output_type": "display_data"
    },
    {
     "data": {
      "text/html": [
       " Με βάση τη μήνυση, τα απορρίμματα <span style=\"background-color:#9FE2BF \">από</span><span style=\"background-color:#9FE2BF \"> τη</span><span style=\"background-color:#9FE2BF \"> βάση</span><span style=\"background-color:#9FE2BF \"> του</span><span style=\"background-color:#9FE2BF \"> ΟΗΕ</span> δεν εξυγιαίνονταν ορθά, και έτσι τα βακτήρια εισάγονταν στον παραπόταμο του Αρτιμονίτ, <span style=\"background-color:#DFFF00 \">από</span><span style=\"background-color:#DFFF00 \"> τους</span><span style=\"background-color:#DFFF00 \"> πιο</span><span style=\"background-color:#DFFF00 \"> μεγάλους</span><span style=\"background-color:#DFFF00 \"> στην</span><span style=\"background-color:#DFFF00 \"> Αϊτή.</span>"
      ],
      "text/plain": [
       "<IPython.core.display.HTML object>"
      ]
     },
     "metadata": {},
     "output_type": "display_data"
    },
    {
     "name": "stdout",
     "output_type": "stream",
     "text": [
      "____________________________________73___________________________________________________\n",
      "55\n",
      "11.354566100000001\n"
     ]
    },
    {
     "data": {
      "text/html": [
       " <span style=\"background-color:#e0e0e0 \">-13.951021</span><span style=\"background-color:#DFFF00 \"> -2.5964549</span>"
      ],
      "text/plain": [
       "<IPython.core.display.HTML object>"
      ]
     },
     "metadata": {},
     "output_type": "display_data"
    },
    {
     "name": "stdout",
     "output_type": "stream",
     "text": [
      "-  --  --  --  --  --  --  --  --  --  --  --  --  --  --  --  --  --  --  --  --  --  --  --  --  -\n"
     ]
    },
    {
     "data": {
      "text/html": [
       " Prior to the arrival of troops, Haiti had not encountered problems <span style=\"background-color:#DFFF00 \">related</span><span style=\"background-color:#DFFF00 \"> to</span><span style=\"background-color:#DFFF00 \"> the</span><span style=\"background-color:#DFFF00 \"> disease</span><span style=\"background-color:#DFFF00 \"> since</span><span style=\"background-color:#DFFF00 \"> the</span><span style=\"background-color:#DFFF00 \"> 1800s.</span>"
      ],
      "text/plain": [
       "<IPython.core.display.HTML object>"
      ]
     },
     "metadata": {},
     "output_type": "display_data"
    },
    {
     "data": {
      "text/html": [
       " Πριν από την άφιξη στρατευμάτων, η Αϊτή δεν είχε αντιμετωπίσει προβλήματα <span style=\"background-color:#DFFF00 \">που</span><span style=\"background-color:#DFFF00 \"> αφορούσαν</span><span style=\"background-color:#DFFF00 \"> την</span><span style=\"background-color:#DFFF00 \"> ασθένεια.</span>"
      ],
      "text/plain": [
       "<IPython.core.display.HTML object>"
      ]
     },
     "metadata": {},
     "output_type": "display_data"
    },
    {
     "name": "stdout",
     "output_type": "stream",
     "text": [
      "____________________________________74___________________________________________________\n",
      "56\n",
      "9.516238999999999\n"
     ]
    },
    {
     "data": {
      "text/html": [
       " <span style=\"background-color:#e0e0e0 \">-10.736996</span><span style=\"background-color:#DFFF00 \"> -1.5574831</span><span style=\"background-color:#9FE2BF \"> -1.220757</span>"
      ],
      "text/plain": [
       "<IPython.core.display.HTML object>"
      ]
     },
     "metadata": {},
     "output_type": "display_data"
    },
    {
     "name": "stdout",
     "output_type": "stream",
     "text": [
      "-  --  --  --  --  --  --  --  --  --  --  --  --  --  --  --  --  --  --  --  --  --  --  --  --  -\n"
     ]
    },
    {
     "data": {
      "text/html": [
       " Hamilton confirmed Howard <span style=\"background-color:#DFFF00 \">University</span><span style=\"background-color:#DFFF00 \"> Hospital</span> admitted the patient in stable condition."
      ],
      "text/plain": [
       "<IPython.core.display.HTML object>"
      ]
     },
     "metadata": {},
     "output_type": "display_data"
    },
    {
     "data": {
      "text/html": [
       " Ο Χάμιλτον επαλήθευσε τις πληροφορίες ότι <span style=\"background-color:#DFFF00 \">όταν</span><span style=\"background-color:#DFFF00 \"> το</span><span style=\"background-color:#DFFF00 \"> Πανεπιστημιακό</span><span style=\"background-color:#DFFF00 \"> Νοσοκομείο</span> Χάουαρντ υποδέχθηκε τον ασθενή <span style=\"background-color:#9FE2BF \">αυτός</span><span style=\"background-color:#9FE2BF \"> βρισκόταν</span> σε σταθερή κατάσταση."
      ],
      "text/plain": [
       "<IPython.core.display.HTML object>"
      ]
     },
     "metadata": {},
     "output_type": "display_data"
    },
    {
     "name": "stdout",
     "output_type": "stream",
     "text": [
      "____________________________________75___________________________________________________\n",
      "57\n",
      "1.059837\n"
     ]
    },
    {
     "data": {
      "text/html": [
       " <span style=\"background-color:#e0e0e0 \">-14.777851</span><span style=\"background-color:#DFFF00 \"> -13.718014</span>"
      ],
      "text/plain": [
       "<IPython.core.display.HTML object>"
      ]
     },
     "metadata": {},
     "output_type": "display_data"
    },
    {
     "name": "stdout",
     "output_type": "stream",
     "text": [
      "-  --  --  --  --  --  --  --  --  --  --  --  --  --  --  --  --  --  --  --  --  --  --  --  --  -\n"
     ]
    },
    {
     "data": {
      "text/html": [
       " The patient had <span style=\"background-color:#DFFF00 \">been</span><span style=\"background-color:#DFFF00 \"> to</span><span style=\"background-color:#DFFF00 \"> Nigeria,</span> where some cases of the Ebola virus have occurred."
      ],
      "text/plain": [
       "<IPython.core.display.HTML object>"
      ]
     },
     "metadata": {},
     "output_type": "display_data"
    },
    {
     "data": {
      "text/html": [
       " Ο ασθενής είχε <span style=\"background-color:#DFFF00 \">ταξιδέψει</span><span style=\"background-color:#DFFF00 \"> στη</span><span style=\"background-color:#DFFF00 \"> Νιγηρία,</span> όπου έχουν σημειωθεί κάποια περιστατικά ιού Έμπολα."
      ],
      "text/plain": [
       "<IPython.core.display.HTML object>"
      ]
     },
     "metadata": {},
     "output_type": "display_data"
    },
    {
     "name": "stdout",
     "output_type": "stream",
     "text": [
      "____________________________________76___________________________________________________\n",
      "58\n",
      "5.179375\n"
     ]
    },
    {
     "data": {
      "text/html": [
       " <span style=\"background-color:#e0e0e0 \">-15.131295</span><span style=\"background-color:#DFFF00 \"> -11.486078</span><span style=\"background-color:#9FE2BF \"> -9.95192</span>"
      ],
      "text/plain": [
       "<IPython.core.display.HTML object>"
      ]
     },
     "metadata": {},
     "output_type": "display_data"
    },
    {
     "name": "stdout",
     "output_type": "stream",
     "text": [
      "-  --  --  --  --  --  --  --  --  --  --  --  --  --  --  --  --  --  --  --  --  --  --  --  --  -\n"
     ]
    },
    {
     "data": {
      "text/html": [
       " <span style=\"background-color:#DFFF00 \">Before</span><span style=\"background-color:#DFFF00 \"> The</span><span style=\"background-color:#DFFF00 \"> Simpsons</span> Simon had worked on several shows in various positions."
      ],
      "text/plain": [
       "<IPython.core.display.HTML object>"
      ]
     },
     "metadata": {},
     "output_type": "display_data"
    },
    {
     "data": {
      "text/html": [
       " <span style=\"background-color:#DFFF00 \">Πριν</span><span style=\"background-color:#DFFF00 \"> από</span><span style=\"background-color:#DFFF00 \"> τους</span><span style=\"background-color:#DFFF00 \"> Σίμπσονς</span> ο Σάιμον είχε εργαστεί σε διάφορες εκπομπές <span style=\"background-color:#9FE2BF \">και</span><span style=\"background-color:#9FE2BF \"> σε</span><span style=\"background-color:#9FE2BF \"> ποικίλες</span> θέσεις."
      ],
      "text/plain": [
       "<IPython.core.display.HTML object>"
      ]
     },
     "metadata": {},
     "output_type": "display_data"
    },
    {
     "name": "stdout",
     "output_type": "stream",
     "text": [
      "____________________________________77___________________________________________________\n",
      "59\n",
      "5.057646499999999\n"
     ]
    },
    {
     "data": {
      "text/html": [
       " <span style=\"background-color:#e0e0e0 \">-8.891675</span><span style=\"background-color:#DFFF00 \"> -6.845423</span><span style=\"background-color:#9FE2BF \"> -4.4051466</span><span style=\"background-color:#CCCCFF \"> -4.040607</span><span style=\"background-color:#FFE4E1 \"> -3.8340285</span>"
      ],
      "text/plain": [
       "<IPython.core.display.HTML object>"
      ]
     },
     "metadata": {},
     "output_type": "display_data"
    },
    {
     "name": "stdout",
     "output_type": "stream",
     "text": [
      "-  --  --  --  --  --  --  --  --  --  --  --  --  --  --  --  --  --  --  --  --  --  --  --  --  -\n"
     ]
    },
    {
     "data": {
      "text/html": [
       " Despite leaving the show in 1993 he kept the title of executive <span style=\"background-color:#CCCCFF \">producer,</span> and continued to receive <span style=\"background-color:#9FE2BF \">tens</span><span style=\"background-color:#9FE2BF \"> of</span> millions of dollars every <span style=\"background-color:#DFFF00 \">season</span><span style=\"background-color:#FF00FF \"> in</span> royalties."
      ],
      "text/plain": [
       "<IPython.core.display.HTML object>"
      ]
     },
     "metadata": {},
     "output_type": "display_data"
    },
    {
     "data": {
      "text/html": [
       " Παρόλο που έφυγε από την εκπομπή το 1993, κράτηση την διάκριση του διοικητικού <span style=\"background-color:#CCCCFF \">στελέχους</span> και εξακολουθούσε να παίρνει για κάθε κύκλο πολλά εκατομμύρια <span style=\"background-color:#FF00FF \">για</span><span style=\"background-color:#DFFF00 \"> τα</span> δικαιώματα."
      ],
      "text/plain": [
       "<IPython.core.display.HTML object>"
      ]
     },
     "metadata": {},
     "output_type": "display_data"
    },
    {
     "name": "stdout",
     "output_type": "stream",
     "text": [
      "____________________________________78___________________________________________________\n",
      "60\n",
      "0.8083410000000004\n"
     ]
    },
    {
     "data": {
      "text/html": [
       " <span style=\"background-color:#e0e0e0 \">-14.507701</span><span style=\"background-color:#DFFF00 \"> -14.455812</span><span style=\"background-color:#9FE2BF \"> -13.69936</span>"
      ],
      "text/plain": [
       "<IPython.core.display.HTML object>"
      ]
     },
     "metadata": {},
     "output_type": "display_data"
    },
    {
     "name": "stdout",
     "output_type": "stream",
     "text": [
      "-  --  --  --  --  --  --  --  --  --  --  --  --  --  --  --  --  --  --  --  --  --  --  --  --  -\n"
     ]
    },
    {
     "data": {
      "text/html": [
       " Earlier the <span style=\"background-color:#DFFF00 \">Chinese</span><span style=\"background-color:#DFFF00 \"> news</span> agency Xinhua <span style=\"background-color:#9FE2BF \">reported</span> a plane to be hijacked."
      ],
      "text/plain": [
       "<IPython.core.display.HTML object>"
      ]
     },
     "metadata": {},
     "output_type": "display_data"
    },
    {
     "data": {
      "text/html": [
       " Νωρίτερα, το πρακτορείο ειδήσεων Xinhua <span style=\"background-color:#9FE2BF \">ανέφερε</span><span style=\"background-color:#9FE2BF \"> πως</span> ένα αεροπλάνο έπεσε θύμα αεροπειρατείας."
      ],
      "text/plain": [
       "<IPython.core.display.HTML object>"
      ]
     },
     "metadata": {},
     "output_type": "display_data"
    },
    {
     "name": "stdout",
     "output_type": "stream",
     "text": [
      "____________________________________81___________________________________________________\n",
      "61\n",
      "20.313305\n"
     ]
    },
    {
     "data": {
      "text/html": [
       " <span style=\"background-color:#e0e0e0 \">-8.452232</span><span style=\"background-color:#DFFF00 \"> 11.254399</span><span style=\"background-color:#9FE2BF \"> 11.861073</span>"
      ],
      "text/plain": [
       "<IPython.core.display.HTML object>"
      ]
     },
     "metadata": {},
     "output_type": "display_data"
    },
    {
     "name": "stdout",
     "output_type": "stream",
     "text": [
      "-  --  --  --  --  --  --  --  --  --  --  --  --  --  --  --  --  --  --  --  --  --  --  --  --  -\n"
     ]
    },
    {
     "data": {
      "text/html": [
       " Murray lost the <span style=\"background-color:#9FE2BF \">first</span> set in a tie break <span style=\"background-color:#DFFF00 \">after</span><span style=\"background-color:#DFFF00 \"> both</span><span style=\"background-color:#DFFF00 \"> men</span><span style=\"background-color:#DFFF00 \"> held</span><span style=\"background-color:#DFFF00 \"> each</span><span style=\"background-color:#DFFF00 \"> and</span><span style=\"background-color:#DFFF00 \"> every</span><span style=\"background-color:#DFFF00 \"> serve</span><span style=\"background-color:#DFFF00 \"> in</span><span style=\"background-color:#DFFF00 \"> the</span><span style=\"background-color:#DFFF00 \"> set.</span>"
      ],
      "text/plain": [
       "<IPython.core.display.HTML object>"
      ]
     },
     "metadata": {},
     "output_type": "display_data"
    },
    {
     "data": {
      "text/html": [
       " Ο Μάρεϊ έχασε το <span style=\"background-color:#9FE2BF \">πρώτο</span> σετ σε tie break <span style=\"background-color:#DFFF00 \">αφότου</span><span style=\"background-color:#DFFF00 \"> και</span><span style=\"background-color:#DFFF00 \"> οι</span><span style=\"background-color:#DFFF00 \"> δύο</span><span style=\"background-color:#DFFF00 \"> κέρδισαν</span><span style=\"background-color:#DFFF00 \"> κάθε</span><span style=\"background-color:#DFFF00 \"> σερβίς</span><span style=\"background-color:#DFFF00 \"> στο</span><span style=\"background-color:#DFFF00 \"> σετ.</span>"
      ],
      "text/plain": [
       "<IPython.core.display.HTML object>"
      ]
     },
     "metadata": {},
     "output_type": "display_data"
    },
    {
     "name": "stdout",
     "output_type": "stream",
     "text": [
      "____________________________________82___________________________________________________\n",
      "62\n",
      "0.8636460000000001\n"
     ]
    },
    {
     "data": {
      "text/html": [
       " <span style=\"background-color:#e0e0e0 \">-6.714728</span><span style=\"background-color:#DFFF00 \"> -5.851082</span>"
      ],
      "text/plain": [
       "<IPython.core.display.HTML object>"
      ]
     },
     "metadata": {},
     "output_type": "display_data"
    },
    {
     "name": "stdout",
     "output_type": "stream",
     "text": [
      "-  --  --  --  --  --  --  --  --  --  --  --  --  --  --  --  --  --  --  --  --  --  --  --  --  -\n"
     ]
    },
    {
     "data": {
      "text/html": [
       " <span style=\"background-color:#DFFF00 \">Potro</span> received treatment to his shoulder at this point but managed to return to the game."
      ],
      "text/plain": [
       "<IPython.core.display.HTML object>"
      ]
     },
     "metadata": {},
     "output_type": "display_data"
    },
    {
     "data": {
      "text/html": [
       " <span style=\"background-color:#DFFF00 \">Ο</span><span style=\"background-color:#DFFF00 \"> Porto</span> σε αυτό σημείο έλαβε ιατρική βοήθεια για τον ώμο του, κατόρθωσε όμως να επιστρέψει στον αγώνα."
      ],
      "text/plain": [
       "<IPython.core.display.HTML object>"
      ]
     },
     "metadata": {},
     "output_type": "display_data"
    },
    {
     "name": "stdout",
     "output_type": "stream",
     "text": [
      "____________________________________83___________________________________________________\n",
      "63\n",
      "7.400032699999999\n"
     ]
    },
    {
     "data": {
      "text/html": [
       " <span style=\"background-color:#e0e0e0 \">-9.769751</span><span style=\"background-color:#DFFF00 \"> -3.7230415</span><span style=\"background-color:#9FE2BF \"> -2.3697183</span>"
      ],
      "text/plain": [
       "<IPython.core.display.HTML object>"
      ]
     },
     "metadata": {},
     "output_type": "display_data"
    },
    {
     "name": "stdout",
     "output_type": "stream",
     "text": [
      "-  --  --  --  --  --  --  --  --  --  --  --  --  --  --  --  --  --  --  --  --  --  --  --  --  -\n"
     ]
    },
    {
     "data": {
      "text/html": [
       " Singer Sanju Sharma started the evening, followed by Jai Shankar Choudhary. <span style=\"background-color:#DFFF00 \">esented</span><span style=\"background-color:#DFFF00 \"> the</span><span style=\"background-color:#DFFF00 \"> chhappan</span><span style=\"background-color:#DFFF00 \"> bhog</span><span style=\"background-color:#DFFF00 \"> bhajan</span><span style=\"background-color:#DFFF00 \"> as</span><span style=\"background-color:#DFFF00 \"> well.</span><span style=\"background-color:#DFFF00 \"> Singer,</span> Raju Khandelwal was accompanying him."
      ],
      "text/plain": [
       "<IPython.core.display.HTML object>"
      ]
     },
     "metadata": {},
     "output_type": "display_data"
    },
    {
     "data": {
      "text/html": [
       " Την εκδήλωση άνοιξε ο τραγουδιστής Σάντζου Σάρμα, <span style=\"background-color:#9FE2BF \">τον</span><span style=\"background-color:#9FE2BF \"> οποίο</span> ακολούθησε ο Τζάι Σανκάρ Τσουντάρι. <span style=\"background-color:#DFFF00 \">Παρουσίασε</span><span style=\"background-color:#DFFF00 \"> επίσης</span><span style=\"background-color:#DFFF00 \"> το</span><span style=\"background-color:#DFFF00 \"> τσάπαν</span><span style=\"background-color:#DFFF00 \"> μπογκ</span><span style=\"background-color:#DFFF00 \"> μπατζάν.</span> Τον συνόδευε ο τραγουδιστής Ρατζού Κάντελβαλ."
      ],
      "text/plain": [
       "<IPython.core.display.HTML object>"
      ]
     },
     "metadata": {},
     "output_type": "display_data"
    },
    {
     "name": "stdout",
     "output_type": "stream",
     "text": [
      "____________________________________85___________________________________________________\n",
      "64\n",
      "30.399755\n"
     ]
    },
    {
     "data": {
      "text/html": [
       " <span style=\"background-color:#e0e0e0 \">-15.580577</span><span style=\"background-color:#DFFF00 \"> 4.8200545</span><span style=\"background-color:#9FE2BF \"> 11.087768</span><span style=\"background-color:#CCCCFF \"> 14.248211</span><span style=\"background-color:#FFE4E1 \"> 14.819178</span>"
      ],
      "text/plain": [
       "<IPython.core.display.HTML object>"
      ]
     },
     "metadata": {},
     "output_type": "display_data"
    },
    {
     "name": "stdout",
     "output_type": "stream",
     "text": [
      "-  --  --  --  --  --  --  --  --  --  --  --  --  --  --  --  --  --  --  --  --  --  --  --  --  -\n"
     ]
    },
    {
     "data": {
      "text/html": [
       " <span style=\"background-color:#9FE2BF \">108</span> plates of Chhappan Bhog (in <span style=\"background-color:#CCCCFF \">Hinduism,</span><span style=\"background-color:#CCCCFF \"> 56</span> different edible items, <span style=\"background-color:#DFFF00 \">like,</span> sweets, fruits, nuts, dishes etc. which are offered <span style=\"background-color:#FFE4E1 \">to</span><span style=\"background-color:#FFE4E1 \"> deity)</span><span style=\"background-color:#FFE4E1 \"> were</span><span style=\"background-color:#FFE4E1 \"> served</span> to Baba Shyam."
      ],
      "text/plain": [
       "<IPython.core.display.HTML object>"
      ]
     },
     "metadata": {},
     "output_type": "display_data"
    },
    {
     "data": {
      "text/html": [
       " <span style=\"background-color:#9FE2BF \">Εκατόν</span><span style=\"background-color:#9FE2BF \"> οχτώ</span> πιάτα Chhappan Bhog (στην <span style=\"background-color:#CCCCFF \">ινδουιστική</span><span style=\"background-color:#CCCCFF \"> παράδοση,</span><span style=\"background-color:#CCCCFF \"> πενήντα</span><span style=\"background-color:#CCCCFF \"> έξι</span> ξεχωριστά τρόφιμα, <span style=\"background-color:#DFFF00 \">όπως</span><span style=\"background-color:#DFFF00 \"> ζαχαρώδη,</span> φρούτα, ξηροκάρπια, εδέσματα κ.λπ. τα οποία δίνονται <span style=\"background-color:#FFE4E1 \">στους</span><span style=\"background-color:#FFE4E1 \"> θεούς)</span><span style=\"background-color:#FFE4E1 \"> υπάρχουν</span> στον Baba Shyam."
      ],
      "text/plain": [
       "<IPython.core.display.HTML object>"
      ]
     },
     "metadata": {},
     "output_type": "display_data"
    },
    {
     "name": "stdout",
     "output_type": "stream",
     "text": [
      "____________________________________86___________________________________________________\n",
      "65\n",
      "10.76903667\n"
     ]
    },
    {
     "data": {
      "text/html": [
       " <span style=\"background-color:#e0e0e0 \">-11.251518</span><span style=\"background-color:#DFFF00 \"> -5.8197956</span><span style=\"background-color:#9FE2BF \"> -0.48248133</span>"
      ],
      "text/plain": [
       "<IPython.core.display.HTML object>"
      ]
     },
     "metadata": {},
     "output_type": "display_data"
    },
    {
     "name": "stdout",
     "output_type": "stream",
     "text": [
      "-  --  --  --  --  --  --  --  --  --  --  --  --  --  --  --  --  --  --  --  --  --  --  --  --  -\n"
     ]
    },
    {
     "data": {
      "text/html": [
       " Lakkha Singh presented the chhappan bhog bhajan as well. <span style=\"background-color:#DFFF00 \">Singer,</span> Raju Khandelwal was accompanying him."
      ],
      "text/plain": [
       "<IPython.core.display.HTML object>"
      ]
     },
     "metadata": {},
     "output_type": "display_data"
    },
    {
     "data": {
      "text/html": [
       " Ο Λάκκα Σινγκ παρουσίασε την <span style=\"background-color:#9FE2BF \">τελετουργική</span><span style=\"background-color:#9FE2BF \"> μουσική</span> μπατζάν για την εκδήλωση τσχαπάν μπογκ, συνοδευόμενος <span style=\"background-color:#DFFF00 \">από</span><span style=\"background-color:#DFFF00 \"> τον</span><span style=\"background-color:#DFFF00 \"> τραγουδιστή</span> Ρατζού Κχάντελγουολ."
      ],
      "text/plain": [
       "<IPython.core.display.HTML object>"
      ]
     },
     "metadata": {},
     "output_type": "display_data"
    },
    {
     "name": "stdout",
     "output_type": "stream",
     "text": [
      "____________________________________87___________________________________________________\n",
      "66\n",
      "18.505879\n"
     ]
    },
    {
     "data": {
      "text/html": [
       " <span style=\"background-color:#e0e0e0 \">-2.589519</span><span style=\"background-color:#DFFF00 \"> 15.256632</span><span style=\"background-color:#9FE2BF \"> 15.91636</span>"
      ],
      "text/plain": [
       "<IPython.core.display.HTML object>"
      ]
     },
     "metadata": {},
     "output_type": "display_data"
    },
    {
     "name": "stdout",
     "output_type": "stream",
     "text": [
      "-  --  --  --  --  --  --  --  --  --  --  --  --  --  --  --  --  --  --  --  --  --  --  --  --  -\n"
     ]
    },
    {
     "data": {
      "text/html": [
       " His teammate Fernando Alonso was in the lead for most of the race, but ended <span style=\"background-color:#9FE2BF \">it</span><span style=\"background-color:#9FE2BF \"> right</span> after his pit-stop, <span style=\"background-color:#DFFF00 \">probably</span><span style=\"background-color:#DFFF00 \"> because</span><span style=\"background-color:#DFFF00 \"> a</span><span style=\"background-color:#DFFF00 \"> badly</span><span style=\"background-color:#DFFF00 \"> tucked</span><span style=\"background-color:#DFFF00 \"> right</span><span style=\"background-color:#DFFF00 \"> front</span><span style=\"background-color:#DFFF00 \"> wheel.</span>"
      ],
      "text/plain": [
       "<IPython.core.display.HTML object>"
      ]
     },
     "metadata": {},
     "output_type": "display_data"
    },
    {
     "data": {
      "text/html": [
       " Ο συμπαίκτης του Φερνάντο Αλόνσο είχε προβάδισμα στο μεγαλύτερο μέρος του αγώνα, όμως σταμάτησε <span style=\"background-color:#9FE2BF \">να</span><span style=\"background-color:#9FE2BF \"> το</span><span style=\"background-color:#9FE2BF \"> έχει</span> μετά το pit-stop, <span style=\"background-color:#DFFF00 \">πιθανόν</span><span style=\"background-color:#DFFF00 \"> λόγω</span><span style=\"background-color:#DFFF00 \"> της</span><span style=\"background-color:#DFFF00 \"> λάθος</span><span style=\"background-color:#DFFF00 \"> τοποθέτησης</span><span style=\"background-color:#DFFF00 \"> του</span><span style=\"background-color:#DFFF00 \"> αριστερού</span><span style=\"background-color:#DFFF00 \"> μπροστινού</span><span style=\"background-color:#DFFF00 \"> τροχού.</span>"
      ],
      "text/plain": [
       "<IPython.core.display.HTML object>"
      ]
     },
     "metadata": {},
     "output_type": "display_data"
    },
    {
     "name": "stdout",
     "output_type": "stream",
     "text": [
      "____________________________________88___________________________________________________\n",
      "67\n",
      "6.5387916\n"
     ]
    },
    {
     "data": {
      "text/html": [
       " <span style=\"background-color:#e0e0e0 \">-5.2639923</span><span style=\"background-color:#DFFF00 \"> 1.2747993</span>"
      ],
      "text/plain": [
       "<IPython.core.display.HTML object>"
      ]
     },
     "metadata": {},
     "output_type": "display_data"
    },
    {
     "name": "stdout",
     "output_type": "stream",
     "text": [
      "-  --  --  --  --  --  --  --  --  --  --  --  --  --  --  --  --  --  --  --  --  --  --  --  --  -\n"
     ]
    },
    {
     "data": {
      "text/html": [
       " <span style=\"background-color:#DFFF00 \">\"She’s</span> very cute and sings quite well, too,\" he said according to a transcript of the news conference."
      ],
      "text/plain": [
       "<IPython.core.display.HTML object>"
      ]
     },
     "metadata": {},
     "output_type": "display_data"
    },
    {
     "data": {
      "text/html": [
       " Σύμφωνα με κείμενο της συνέντευξης τύπου, είπε: <span style=\"background-color:#DFFF00 \">«Είναι</span> πολύ χαριτωμένη και επίσης τραγουδά αρκετά καλά»."
      ],
      "text/plain": [
       "<IPython.core.display.HTML object>"
      ]
     },
     "metadata": {},
     "output_type": "display_data"
    },
    {
     "name": "stdout",
     "output_type": "stream",
     "text": [
      "____________________________________89___________________________________________________\n",
      "68\n",
      "11.3560089\n"
     ]
    },
    {
     "data": {
      "text/html": [
       " <span style=\"background-color:#e0e0e0 \">-1.4962944</span><span style=\"background-color:#DFFF00 \"> 8.612331</span><span style=\"background-color:#9FE2BF \"> 9.523912</span><span style=\"background-color:#CCCCFF \"> 9.8597145</span>"
      ],
      "text/plain": [
       "<IPython.core.display.HTML object>"
      ]
     },
     "metadata": {},
     "output_type": "display_data"
    },
    {
     "name": "stdout",
     "output_type": "stream",
     "text": [
      "-  --  --  --  --  --  --  --  --  --  --  --  --  --  --  --  --  --  --  --  --  --  --  --  --  -\n"
     ]
    },
    {
     "data": {
      "text/html": [
       " <span style=\"background-color:#9FE2BF \">Five</span> minutes <span style=\"background-color:#DFFF00 \">into</span><span style=\"background-color:#DFFF00 \"> the</span><span style=\"background-color:#DFFF00 \"> display</span><span style=\"background-color:#DFFF00 \"> a</span><span style=\"background-color:#DFFF00 \"> wind</span><span style=\"background-color:#DFFF00 \"> starts</span><span style=\"background-color:#DFFF00 \"> rolling</span><span style=\"background-color:#DFFF00 \"> in,</span><span style=\"background-color:#DFFF00 \"> about</span><span style=\"background-color:#DFFF00 \"> a</span><span style=\"background-color:#DFFF00 \"> minute</span><span style=\"background-color:#DFFF00 \"> later,</span><span style=\"background-color:#DFFF00 \"> the</span><span style=\"background-color:#DFFF00 \"> wind</span><span style=\"background-color:#DFFF00 \"> is</span><span style=\"background-color:#DFFF00 \"> reaching</span><span style=\"background-color:#DFFF00 \"> 70km/h...</span><span style=\"background-color:#DFFF00 \"> then</span><span style=\"background-color:#DFFF00 \"> the</span><span style=\"background-color:#DFFF00 \"> rain</span><span style=\"background-color:#DFFF00 \"> comes,</span><span style=\"background-color:#DFFF00 \"> but</span> so hard and so large that it slaps your skin like a needle, then hail fell <span style=\"background-color:#CCCCFF \">from</span> the sky, people panicking and screaming and running over each other."
      ],
      "text/plain": [
       "<IPython.core.display.HTML object>"
      ]
     },
     "metadata": {},
     "output_type": "display_data"
    },
    {
     "data": {
      "text/html": [
       " <span style=\"background-color:#9FE2BF \">Πέντε</span> λεπτά <span style=\"background-color:#DFFF00 \">μετά</span><span style=\"background-color:#DFFF00 \"> την</span><span style=\"background-color:#DFFF00 \"> έναρξη</span><span style=\"background-color:#DFFF00 \"> της</span><span style=\"background-color:#DFFF00 \"> παρουσίασης</span><span style=\"background-color:#DFFF00 \"> ξεκίνησε</span><span style=\"background-color:#DFFF00 \"> να</span><span style=\"background-color:#DFFF00 \"> φυσάει</span><span style=\"background-color:#DFFF00 \"> δυνατός</span><span style=\"background-color:#DFFF00 \"> άνεμος,</span><span style=\"background-color:#DFFF00 \"> περίπου</span><span style=\"background-color:#DFFF00 \"> ένα</span><span style=\"background-color:#DFFF00 \"> λεπτό</span><span style=\"background-color:#DFFF00 \"> αργότερα,</span><span style=\"background-color:#DFFF00 \"> ο</span><span style=\"background-color:#DFFF00 \"> άνεμος</span><span style=\"background-color:#DFFF00 \"> είχε</span><span style=\"background-color:#DFFF00 \"> φτάσει</span><span style=\"background-color:#DFFF00 \"> τα</span><span style=\"background-color:#DFFF00 \"> 70</span><span style=\"background-color:#DFFF00 \"> χιλιόμετρα</span><span style=\"background-color:#DFFF00 \"> ανά</span><span style=\"background-color:#DFFF00 \"> ώρα...</span><span style=\"background-color:#DFFF00 \"> Έπειτα</span><span style=\"background-color:#DFFF00 \"> ήρθε</span><span style=\"background-color:#DFFF00 \"> η</span><span style=\"background-color:#DFFF00 \"> βροχή,</span><span style=\"background-color:#DFFF00 \"> όμως</span><span style=\"background-color:#DFFF00 \"> ήταν</span> τόσο δυνατή και μεγάλη που σου τρυπούσε το δέρμα σαν βελόνα, και έπειτα <span style=\"background-color:#CCCCFF \">από</span><span style=\"background-color:#CCCCFF \"> τον</span> ουρανό έπεσε χαλάζι, οι άνθρωποι πανικοβάλλονταν και ούρλιαζαν και έτρεχαν ο ένας πάνω στον άλλο."
      ],
      "text/plain": [
       "<IPython.core.display.HTML object>"
      ]
     },
     "metadata": {},
     "output_type": "display_data"
    },
    {
     "name": "stdout",
     "output_type": "stream",
     "text": [
      "____________________________________90___________________________________________________\n",
      "69\n",
      "0.5229310000000016\n"
     ]
    },
    {
     "data": {
      "text/html": [
       " <span style=\"background-color:#e0e0e0 \">-11.910462</span><span style=\"background-color:#DFFF00 \"> -11.387531</span>"
      ],
      "text/plain": [
       "<IPython.core.display.HTML object>"
      ]
     },
     "metadata": {},
     "output_type": "display_data"
    },
    {
     "name": "stdout",
     "output_type": "stream",
     "text": [
      "-  --  --  --  --  --  --  --  --  --  --  --  --  --  --  --  --  --  --  --  --  --  --  --  --  -\n"
     ]
    },
    {
     "data": {
      "text/html": [
       " One bomb exploded outside the governor general's office."
      ],
      "text/plain": [
       "<IPython.core.display.HTML object>"
      ]
     },
     "metadata": {},
     "output_type": "display_data"
    },
    {
     "data": {
      "text/html": [
       " Εξερράγη βόμβα έξω από το γραφείο <span style=\"background-color:#DFFF00 \">του</span><span style=\"background-color:#DFFF00 \"> γενικού</span> κυβερνήτη."
      ],
      "text/plain": [
       "<IPython.core.display.HTML object>"
      ]
     },
     "metadata": {},
     "output_type": "display_data"
    },
    {
     "name": "stdout",
     "output_type": "stream",
     "text": [
      "____________________________________91___________________________________________________\n",
      "70\n",
      "5.162581380000001\n"
     ]
    },
    {
     "data": {
      "text/html": [
       " <span style=\"background-color:#e0e0e0 \">-0.07630488</span><span style=\"background-color:#DFFF00 \"> 3.6323233</span><span style=\"background-color:#9FE2BF \"> 5.0862765</span>"
      ],
      "text/plain": [
       "<IPython.core.display.HTML object>"
      ]
     },
     "metadata": {},
     "output_type": "display_data"
    },
    {
     "name": "stdout",
     "output_type": "stream",
     "text": [
      "-  --  --  --  --  --  --  --  --  --  --  --  --  --  --  --  --  --  --  --  --  --  --  --  --  -\n"
     ]
    },
    {
     "data": {
      "text/html": [
       " Three <span style=\"background-color:#9FE2BF \">more</span> bombs exploded near government buildings in <span style=\"background-color:#DFFF00 \">a</span><span style=\"background-color:#DFFF00 \"> period</span><span style=\"background-color:#DFFF00 \"> of</span> two hours."
      ],
      "text/plain": [
       "<IPython.core.display.HTML object>"
      ]
     },
     "metadata": {},
     "output_type": "display_data"
    },
    {
     "data": {
      "text/html": [
       " Έγινε έκρηξη <span style=\"background-color:#9FE2BF \">με</span><span style=\"background-color:#9FE2BF \"> άλλες</span> τρεις βόμβες κοντά στα κυβερνητικά κτίρια μέσα σε δύο ώρες."
      ],
      "text/plain": [
       "<IPython.core.display.HTML object>"
      ]
     },
     "metadata": {},
     "output_type": "display_data"
    },
    {
     "name": "stdout",
     "output_type": "stream",
     "text": [
      "____________________________________92___________________________________________________\n",
      "71\n",
      "20.211377\n"
     ]
    },
    {
     "data": {
      "text/html": [
       " <span style=\"background-color:#e0e0e0 \">-15.366159</span><span style=\"background-color:#DFFF00 \"> -13.463185</span><span style=\"background-color:#9FE2BF \"> 4.845218</span>"
      ],
      "text/plain": [
       "<IPython.core.display.HTML object>"
      ]
     },
     "metadata": {},
     "output_type": "display_data"
    },
    {
     "name": "stdout",
     "output_type": "stream",
     "text": [
      "-  --  --  --  --  --  --  --  --  --  --  --  --  --  --  --  --  --  --  --  --  --  --  --  --  -\n"
     ]
    },
    {
     "data": {
      "text/html": [
       " <span style=\"background-color:#9FE2BF \">Yet</span><span style=\"background-color:#9FE2BF \"> eighty</span><span style=\"background-color:#9FE2BF \"> percent</span><span style=\"background-color:#9FE2BF \"> of</span> our goods were taxed through tariffs in Central American countries. <span style=\"background-color:#DFFF00 \">we</span><span style=\"background-color:#DFFF00 \"> treat</span><span style=\"background-color:#DFFF00 \"> you.</span>"
      ],
      "text/plain": [
       "<IPython.core.display.HTML object>"
      ]
     },
     "metadata": {},
     "output_type": "display_data"
    },
    {
     "data": {
      "text/html": [
       " <span style=\"background-color:#9FE2BF \">Βεβαια,</span><span style=\"background-color:#9FE2BF \"> το</span><span style=\"background-color:#9FE2BF \"> 80%</span><span style=\"background-color:#9FE2BF \"> των</span> εμπορευμάτων μας ήταν φορολογητέα μέσω δασμών στις χώρες της Κεντρικής Αμερικής. <span style=\"background-color:#DFFF00 \">Σας</span><span style=\"background-color:#DFFF00 \"> το</span><span style=\"background-color:#DFFF00 \"> κάνουμε</span><span style=\"background-color:#DFFF00 \"> δώρο.</span>"
      ],
      "text/plain": [
       "<IPython.core.display.HTML object>"
      ]
     },
     "metadata": {},
     "output_type": "display_data"
    },
    {
     "name": "stdout",
     "output_type": "stream",
     "text": [
      "____________________________________94___________________________________________________\n",
      "72\n",
      "2.3351663\n"
     ]
    },
    {
     "data": {
      "text/html": [
       " <span style=\"background-color:#e0e0e0 \">-7.8882933</span><span style=\"background-color:#DFFF00 \"> -5.553127</span>"
      ],
      "text/plain": [
       "<IPython.core.display.HTML object>"
      ]
     },
     "metadata": {},
     "output_type": "display_data"
    },
    {
     "name": "stdout",
     "output_type": "stream",
     "text": [
      "-  --  --  --  --  --  --  --  --  --  --  --  --  --  --  --  --  --  --  --  --  --  --  --  --  -\n"
     ]
    },
    {
     "data": {
      "text/html": [
       " All I say to people is <span style=\"background-color:#DFFF00 \">you</span> treat us the way we treat you."
      ],
      "text/plain": [
       "<IPython.core.display.HTML object>"
      ]
     },
     "metadata": {},
     "output_type": "display_data"
    },
    {
     "data": {
      "text/html": [
       " Το μόνο που λέω στον κόσμο είναι <span style=\"background-color:#DFFF00 \">ότι</span> μας αντιμετωπίζετε όπως σας αντιμετωπίζουμε."
      ],
      "text/plain": [
       "<IPython.core.display.HTML object>"
      ]
     },
     "metadata": {},
     "output_type": "display_data"
    },
    {
     "name": "stdout",
     "output_type": "stream",
     "text": [
      "____________________________________95___________________________________________________\n",
      "73\n",
      "14.078364\n"
     ]
    },
    {
     "data": {
      "text/html": [
       " <span style=\"background-color:#e0e0e0 \">-5.424631</span><span style=\"background-color:#DFFF00 \"> 7.778994</span><span style=\"background-color:#9FE2BF \"> 8.653733</span>"
      ],
      "text/plain": [
       "<IPython.core.display.HTML object>"
      ]
     },
     "metadata": {},
     "output_type": "display_data"
    },
    {
     "name": "stdout",
     "output_type": "stream",
     "text": [
      "-  --  --  --  --  --  --  --  --  --  --  --  --  --  --  --  --  --  --  --  --  --  --  --  --  -\n"
     ]
    },
    {
     "data": {
      "text/html": [
       " Uka's weapon failed whilst pointed at <span style=\"background-color:#DFFF00 \">a</span><span style=\"background-color:#DFFF00 \"> fifth</span> man's head. Schneider has ongoing pain, blindness in one eye, a missing section of <span style=\"background-color:#9FE2BF \">skull</span><span style=\"background-color:#9FE2BF \"> and</span><span style=\"background-color:#9FE2BF \"> a</span><span style=\"background-color:#9FE2BF \"> face</span><span style=\"background-color:#9FE2BF \"> rebuilt</span><span style=\"background-color:#9FE2BF \"> from</span> titanium."
      ],
      "text/plain": [
       "<IPython.core.display.HTML object>"
      ]
     },
     "metadata": {},
     "output_type": "display_data"
    },
    {
     "data": {
      "text/html": [
       " Το όπλο του Γιούκα αστόχησε, καθώς ήταν στραμμένο στο κεφάλι <span style=\"background-color:#DFFF00 \">ενός</span> άντρα. Ο Σνάιντερ υφίσταται διαρκή πόνο, τύφλωση στο ένα μάτι, απώλεια τμήματος του κρανίου <span style=\"background-color:#9FE2BF \">και</span><span style=\"background-color:#9FE2BF \"> αναδόμηση</span><span style=\"background-color:#9FE2BF \"> του</span><span style=\"background-color:#9FE2BF \"> προσώπου</span><span style=\"background-color:#9FE2BF \"> με</span> τιτάνιο."
      ],
      "text/plain": [
       "<IPython.core.display.HTML object>"
      ]
     },
     "metadata": {},
     "output_type": "display_data"
    },
    {
     "name": "stdout",
     "output_type": "stream",
     "text": [
      "____________________________________97___________________________________________________\n",
      "74\n",
      "7.000814\n"
     ]
    },
    {
     "data": {
      "text/html": [
       " <span style=\"background-color:#e0e0e0 \">-13.623198</span><span style=\"background-color:#DFFF00 \"> -8.891294</span><span style=\"background-color:#9FE2BF \"> -6.622384</span>"
      ],
      "text/plain": [
       "<IPython.core.display.HTML object>"
      ]
     },
     "metadata": {},
     "output_type": "display_data"
    },
    {
     "name": "stdout",
     "output_type": "stream",
     "text": [
      "-  --  --  --  --  --  --  --  --  --  --  --  --  --  --  --  --  --  --  --  --  --  --  --  --  -\n"
     ]
    },
    {
     "data": {
      "text/html": [
       " <span style=\"background-color:#9FE2BF \">Beyond</span> Wednesday's event, Carpanedo competed in two individual races <span style=\"background-color:#DFFF00 \">at</span><span style=\"background-color:#DFFF00 \"> the</span><span style=\"background-color:#DFFF00 \"> Championships.</span>"
      ],
      "text/plain": [
       "<IPython.core.display.HTML object>"
      ]
     },
     "metadata": {},
     "output_type": "display_data"
    },
    {
     "data": {
      "text/html": [
       " <span style=\"background-color:#9FE2BF \">Πέρα</span><span style=\"background-color:#9FE2BF \"> από</span> το αγώνισμα της Τετάρτης, η Καρπανέντο αγωνίστηκε σε δύο ατομικούς αγώνες <span style=\"background-color:#DFFF00 \">του</span><span style=\"background-color:#DFFF00 \"> πρωταθλήματος.</span>"
      ],
      "text/plain": [
       "<IPython.core.display.HTML object>"
      ]
     },
     "metadata": {},
     "output_type": "display_data"
    },
    {
     "name": "stdout",
     "output_type": "stream",
     "text": [
      "____________________________________99___________________________________________________\n",
      "75\n",
      "12.8807034\n"
     ]
    },
    {
     "data": {
      "text/html": [
       " <span style=\"background-color:#e0e0e0 \">-1.1382384</span><span style=\"background-color:#DFFF00 \"> 11.742465</span>"
      ],
      "text/plain": [
       "<IPython.core.display.HTML object>"
      ]
     },
     "metadata": {},
     "output_type": "display_data"
    },
    {
     "name": "stdout",
     "output_type": "stream",
     "text": [
      "-  --  --  --  --  --  --  --  --  --  --  --  --  --  --  --  --  --  --  --  --  --  --  --  --  -\n"
     ]
    },
    {
     "data": {
      "text/html": [
       " The accused are <span style=\"background-color:#DFFF00 \">named</span><span style=\"background-color:#DFFF00 \"> as</span><span style=\"background-color:#DFFF00 \"> Baba</span><span style=\"background-color:#DFFF00 \"> Kanjar,</span> Bhutha Kanjar, Rampro Kanjar, Gaza Kanjar and Vishnu Kanjar."
      ],
      "text/plain": [
       "<IPython.core.display.HTML object>"
      ]
     },
     "metadata": {},
     "output_type": "display_data"
    },
    {
     "data": {
      "text/html": [
       " Οι κατηγορούμενοι ειανι οι Μπαμπά <span style=\"background-color:#DFFF00 \">Καντζάρ,</span> Μποτά Καντζάρ, Ραμπρό Καντζάρ, Γκαζά Καντζάρ και Βίσνου Καντζάρ."
      ],
      "text/plain": [
       "<IPython.core.display.HTML object>"
      ]
     },
     "metadata": {},
     "output_type": "display_data"
    },
    {
     "name": "stdout",
     "output_type": "stream",
     "text": [
      "____________________________________102___________________________________________________\n",
      "76\n",
      "3.3780029999999996\n"
     ]
    },
    {
     "data": {
      "text/html": [
       " <span style=\"background-color:#e0e0e0 \">-14.20371</span><span style=\"background-color:#DFFF00 \"> -10.825707</span>"
      ],
      "text/plain": [
       "<IPython.core.display.HTML object>"
      ]
     },
     "metadata": {},
     "output_type": "display_data"
    },
    {
     "name": "stdout",
     "output_type": "stream",
     "text": [
      "-  --  --  --  --  --  --  --  --  --  --  --  --  --  --  --  --  --  --  --  --  --  --  --  --  -\n"
     ]
    },
    {
     "data": {
      "text/html": [
       " Adekoya has <span style=\"background-color:#DFFF00 \">since</span><span style=\"background-color:#DFFF00 \"> been</span><span style=\"background-color:#DFFF00 \"> in</span> Edinburgh Sheriff Court charged with murdering her son."
      ],
      "text/plain": [
       "<IPython.core.display.HTML object>"
      ]
     },
     "metadata": {},
     "output_type": "display_data"
    },
    {
     "data": {
      "text/html": [
       " Η Αντεκόϊα κατηγορείται <span style=\"background-color:#DFFF00 \">έκτοτε</span><span style=\"background-color:#DFFF00 \"> από</span><span style=\"background-color:#DFFF00 \"> το</span> Ανώτατο Δικαστήριο του Εδιμβούργου για τη δολοφονία του γιου της."
      ],
      "text/plain": [
       "<IPython.core.display.HTML object>"
      ]
     },
     "metadata": {},
     "output_type": "display_data"
    },
    {
     "name": "stdout",
     "output_type": "stream",
     "text": [
      "____________________________________104___________________________________________________\n",
      "77\n",
      "21.427699\n"
     ]
    },
    {
     "data": {
      "text/html": [
       " <span style=\"background-color:#e0e0e0 \">-9.718654</span><span style=\"background-color:#DFFF00 \"> 10.002086</span><span style=\"background-color:#9FE2BF \"> 11.709045</span>"
      ],
      "text/plain": [
       "<IPython.core.display.HTML object>"
      ]
     },
     "metadata": {},
     "output_type": "display_data"
    },
    {
     "name": "stdout",
     "output_type": "stream",
     "text": [
      "-  --  --  --  --  --  --  --  --  --  --  --  --  --  --  --  --  --  --  --  --  --  --  --  --  -\n"
     ]
    },
    {
     "data": {
      "text/html": [
       " According to Mick O'Flynn, <span style=\"background-color:#DFFF00 \">the</span><span style=\"background-color:#DFFF00 \"> Acting</span><span style=\"background-color:#DFFF00 \"> Director</span><span style=\"background-color:#DFFF00 \"> Park</span><span style=\"background-color:#DFFF00 \"> Conservation</span><span style=\"background-color:#DFFF00 \"> and</span><span style=\"background-color:#DFFF00 \"> Heritage</span><span style=\"background-color:#DFFF00 \"> with</span><span style=\"background-color:#DFFF00 \"> the</span><span style=\"background-color:#DFFF00 \"> NPWS,</span><span style=\"background-color:#DFFF00 \"> the</span><span style=\"background-color:#DFFF00 \"> four</span> shooters selected for the <span style=\"background-color:#9FE2BF \">first</span> shooting operation received comprehensive safety and training instruction."
      ],
      "text/plain": [
       "<IPython.core.display.HTML object>"
      ]
     },
     "metadata": {},
     "output_type": "display_data"
    },
    {
     "data": {
      "text/html": [
       " Σύμφωνα με τον Μικ Ο' Φλιν, <span style=\"background-color:#DFFF00 \">Γενικό</span><span style=\"background-color:#DFFF00 \"> Διευθυντή</span><span style=\"background-color:#DFFF00 \"> για</span><span style=\"background-color:#DFFF00 \"> τη</span><span style=\"background-color:#DFFF00 \"> Συντήρηση</span><span style=\"background-color:#DFFF00 \"> και</span><span style=\"background-color:#DFFF00 \"> την</span><span style=\"background-color:#DFFF00 \"> Κληρονομιά</span><span style=\"background-color:#DFFF00 \"> των</span><span style=\"background-color:#DFFF00 \"> Πάρκων</span><span style=\"background-color:#DFFF00 \"> της</span><span style=\"background-color:#DFFF00 \"> Υπηρεσίας</span><span style=\"background-color:#DFFF00 \"> Εθνικών</span><span style=\"background-color:#DFFF00 \"> Πάρκων</span><span style=\"background-color:#DFFF00 \"> και</span><span style=\"background-color:#DFFF00 \"> Άγριας</span><span style=\"background-color:#DFFF00 \"> Ζωής,</span><span style=\"background-color:#DFFF00 \"> οι</span><span style=\"background-color:#DFFF00 \"> τέσσερεις</span> σκοπευτές που επιλέχθηκαν για την <span style=\"background-color:#9FE2BF \">πρώτη</span> επιχείρηση κυνηγιού έλαβαν εμπεριστατωμένες οδηγίες για την ασφάλεια και την εκπαίδευση."
      ],
      "text/plain": [
       "<IPython.core.display.HTML object>"
      ]
     },
     "metadata": {},
     "output_type": "display_data"
    },
    {
     "name": "stdout",
     "output_type": "stream",
     "text": [
      "____________________________________105___________________________________________________\n",
      "78\n",
      "4.071047\n"
     ]
    },
    {
     "data": {
      "text/html": [
       " <span style=\"background-color:#e0e0e0 \">-9.292875</span><span style=\"background-color:#DFFF00 \"> -5.6276817</span><span style=\"background-color:#9FE2BF \"> -5.221828</span>"
      ],
      "text/plain": [
       "<IPython.core.display.HTML object>"
      ]
     },
     "metadata": {},
     "output_type": "display_data"
    },
    {
     "name": "stdout",
     "output_type": "stream",
     "text": [
      "-  --  --  --  --  --  --  --  --  --  --  --  --  --  --  --  --  --  --  --  --  --  --  --  --  -\n"
     ]
    },
    {
     "data": {
      "text/html": [
       " <span style=\"background-color:#9FE2BF \">Martelly</span><span style=\"background-color:#9FE2BF \"> swore</span><span style=\"background-color:#9FE2BF \"> in</span> a new Provisional Electoral Council (CEP) <span style=\"background-color:#DFFF00 \">of</span><span style=\"background-color:#DFFF00 \"> nine</span><span style=\"background-color:#DFFF00 \"> members</span><span style=\"background-color:#DFFF00 \"> yesterday.</span>"
      ],
      "text/plain": [
       "<IPython.core.display.HTML object>"
      ]
     },
     "metadata": {},
     "output_type": "display_data"
    },
    {
     "data": {
      "text/html": [
       " Χθες <span style=\"background-color:#9FE2BF \">ο</span><span style=\"background-color:#9FE2BF \"> Μαρτέλι</span><span style=\"background-color:#9FE2BF \"> ορκίστηκε</span><span style=\"background-color:#9FE2BF \"> σε</span> ένα νέο Προσωρινό Εκλογικό Συμβούλιο (ΠΕΣ) <span style=\"background-color:#DFFF00 \">που</span><span style=\"background-color:#DFFF00 \"> αποτελούνταν</span><span style=\"background-color:#DFFF00 \"> από</span><span style=\"background-color:#DFFF00 \"> εννέα</span><span style=\"background-color:#DFFF00 \"> μελη.</span>"
      ],
      "text/plain": [
       "<IPython.core.display.HTML object>"
      ]
     },
     "metadata": {},
     "output_type": "display_data"
    },
    {
     "name": "stdout",
     "output_type": "stream",
     "text": [
      "____________________________________106___________________________________________________\n",
      "79\n",
      "11.487657\n"
     ]
    },
    {
     "data": {
      "text/html": [
       " <span style=\"background-color:#e0e0e0 \">-15.893463</span><span style=\"background-color:#DFFF00 \"> -4.405806</span>"
      ],
      "text/plain": [
       "<IPython.core.display.HTML object>"
      ]
     },
     "metadata": {},
     "output_type": "display_data"
    },
    {
     "name": "stdout",
     "output_type": "stream",
     "text": [
      "-  --  --  --  --  --  --  --  --  --  --  --  --  --  --  --  --  --  --  --  --  --  --  --  --  -\n"
     ]
    },
    {
     "data": {
      "text/html": [
       " It is Martelly's fifth <span style=\"background-color:#DFFF00 \">CEP</span> in four years."
      ],
      "text/plain": [
       "<IPython.core.display.HTML object>"
      ]
     },
     "metadata": {},
     "output_type": "display_data"
    },
    {
     "data": {
      "text/html": [
       " Είναι το πέμπτο προσωρινό <span style=\"background-color:#DFFF00 \">εκλογικό</span><span style=\"background-color:#DFFF00 \"> συμβούλιο</span> του Μαρτελί μέσα σε τέσσερα χρόνια."
      ],
      "text/plain": [
       "<IPython.core.display.HTML object>"
      ]
     },
     "metadata": {},
     "output_type": "display_data"
    },
    {
     "name": "stdout",
     "output_type": "stream",
     "text": [
      "____________________________________107___________________________________________________\n",
      "80\n",
      "8.25670846\n"
     ]
    },
    {
     "data": {
      "text/html": [
       " <span style=\"background-color:#e0e0e0 \">-8.356058</span><span style=\"background-color:#DFFF00 \"> -5.1293755</span><span style=\"background-color:#9FE2BF \"> -0.09934954</span>"
      ],
      "text/plain": [
       "<IPython.core.display.HTML object>"
      ]
     },
     "metadata": {},
     "output_type": "display_data"
    },
    {
     "name": "stdout",
     "output_type": "stream",
     "text": [
      "-  --  --  --  --  --  --  --  --  --  --  --  --  --  --  --  --  --  --  --  --  --  --  --  --  -\n"
     ]
    },
    {
     "data": {
      "text/html": [
       " <span style=\"background-color:#DFFF00 \">The</span><span style=\"background-color:#DFFF00 \"> commission</span><span style=\"background-color:#DFFF00 \"> was</span> Martelly's response to widespread anti-regime protests <span style=\"background-color:#9FE2BF \">that</span> started in October."
      ],
      "text/plain": [
       "<IPython.core.display.HTML object>"
      ]
     },
     "metadata": {},
     "output_type": "display_data"
    },
    {
     "data": {
      "text/html": [
       " <span style=\"background-color:#DFFF00 \">Η</span><span style=\"background-color:#DFFF00 \"> επιτροπή</span><span style=\"background-color:#DFFF00 \"> αποτέλεσε</span><span style=\"background-color:#DFFF00 \"> την</span> απάντηση του Μαρτελί στις ευρύτατες αντικαθεστωτικές διαδηλώσεις <span style=\"background-color:#9FE2BF \">που</span> ξεκίνησαν τον Οκτώβριο."
      ],
      "text/plain": [
       "<IPython.core.display.HTML object>"
      ]
     },
     "metadata": {},
     "output_type": "display_data"
    },
    {
     "name": "stdout",
     "output_type": "stream",
     "text": [
      "____________________________________108___________________________________________________\n",
      "81\n",
      "3.7453830000000004\n"
     ]
    },
    {
     "data": {
      "text/html": [
       " <span style=\"background-color:#e0e0e0 \">-12.201807</span><span style=\"background-color:#DFFF00 \"> -11.261398</span><span style=\"background-color:#9FE2BF \"> -8.456424</span>"
      ],
      "text/plain": [
       "<IPython.core.display.HTML object>"
      ]
     },
     "metadata": {},
     "output_type": "display_data"
    },
    {
     "name": "stdout",
     "output_type": "stream",
     "text": [
      "-  --  --  --  --  --  --  --  --  --  --  --  --  --  --  --  --  --  --  --  --  --  --  --  --  -\n"
     ]
    },
    {
     "data": {
      "text/html": [
       " <span style=\"background-color:#DFFF00 \">The</span><span style=\"background-color:#DFFF00 \"> sometimes-violent</span> protests were triggered by failure to hold elections, some <span style=\"background-color:#9FE2BF \">due</span> since 2011."
      ],
      "text/plain": [
       "<IPython.core.display.HTML object>"
      ]
     },
     "metadata": {},
     "output_type": "display_data"
    },
    {
     "data": {
      "text/html": [
       " <span style=\"background-color:#DFFF00 \">Κάποιες</span> βάναυσες διαδηλώσεις έγιναν εξαιτίας της μη πραγματοποίησης εκλογών, μερικές <span style=\"background-color:#9FE2BF \">εκκρεμούν</span> από το 2011."
      ],
      "text/plain": [
       "<IPython.core.display.HTML object>"
      ]
     },
     "metadata": {},
     "output_type": "display_data"
    },
    {
     "name": "stdout",
     "output_type": "stream",
     "text": [
      "____________________________________109___________________________________________________\n",
      "82\n",
      "9.1570944\n"
     ]
    },
    {
     "data": {
      "text/html": [
       " <span style=\"background-color:#e0e0e0 \">-8.251249</span><span style=\"background-color:#DFFF00 \"> 0.9058454</span>"
      ],
      "text/plain": [
       "<IPython.core.display.HTML object>"
      ]
     },
     "metadata": {},
     "output_type": "display_data"
    },
    {
     "name": "stdout",
     "output_type": "stream",
     "text": [
      "-  --  --  --  --  --  --  --  --  --  --  --  --  --  --  --  --  --  --  --  --  --  --  --  --  -\n"
     ]
    },
    {
     "data": {
      "text/html": [
       " The eathquake struck Mariana <span style=\"background-color:#DFFF00 \">at</span> 07:19 a.m. local time (09:19 p.m. GMT Friday)."
      ],
      "text/plain": [
       "<IPython.core.display.HTML object>"
      ]
     },
     "metadata": {},
     "output_type": "display_data"
    },
    {
     "data": {
      "text/html": [
       " Ο σεισμός χτύπησε τις Μαριάνες Νήσους <span style=\"background-color:#DFFF00 \">στις</span> 07:19 π.μ. τοπική ώρα (09:19 μ.μ. ώρα Γκρίνουιτς Παρασκευή)."
      ],
      "text/plain": [
       "<IPython.core.display.HTML object>"
      ]
     },
     "metadata": {},
     "output_type": "display_data"
    },
    {
     "name": "stdout",
     "output_type": "stream",
     "text": [
      "____________________________________110___________________________________________________\n",
      "83\n",
      "3.9376499999999997\n"
     ]
    },
    {
     "data": {
      "text/html": [
       " <span style=\"background-color:#e0e0e0 \">-9.165733</span><span style=\"background-color:#DFFF00 \"> -5.228083</span>"
      ],
      "text/plain": [
       "<IPython.core.display.HTML object>"
      ]
     },
     "metadata": {},
     "output_type": "display_data"
    },
    {
     "name": "stdout",
     "output_type": "stream",
     "text": [
      "-  --  --  --  --  --  --  --  --  --  --  --  --  --  --  --  --  --  --  --  --  --  --  --  --  -\n"
     ]
    },
    {
     "data": {
      "text/html": [
       " The Northern Marianas emergency management office said that there were no damages reported <span style=\"background-color:#DFFF00 \">in</span><span style=\"background-color:#DFFF00 \"> the</span><span style=\"background-color:#DFFF00 \"> nation.</span>"
      ],
      "text/plain": [
       "<IPython.core.display.HTML object>"
      ]
     },
     "metadata": {},
     "output_type": "display_data"
    },
    {
     "data": {
      "text/html": [
       " Το γραφείο διαχείρισης εκτάκτων περιστατικών των Μαριάνων Νήσων δήλωσε πως δεν υπήρξαν αναφορές για ζημιές <span style=\"background-color:#DFFF00 \">στην</span><span style=\"background-color:#DFFF00 \"> επικράτειά</span><span style=\"background-color:#DFFF00 \"> τους.</span>"
      ],
      "text/plain": [
       "<IPython.core.display.HTML object>"
      ]
     },
     "metadata": {},
     "output_type": "display_data"
    },
    {
     "name": "stdout",
     "output_type": "stream",
     "text": [
      "____________________________________111___________________________________________________\n",
      "84\n",
      "8.985773440000001\n"
     ]
    },
    {
     "data": {
      "text/html": [
       " <span style=\"background-color:#e0e0e0 \">-9.096337</span><span style=\"background-color:#DFFF00 \"> -1.1465952</span><span style=\"background-color:#9FE2BF \"> -0.27891827</span><span style=\"background-color:#CCCCFF \"> -0.11056356</span>"
      ],
      "text/plain": [
       "<IPython.core.display.HTML object>"
      ]
     },
     "metadata": {},
     "output_type": "display_data"
    },
    {
     "name": "stdout",
     "output_type": "stream",
     "text": [
      "-  --  --  --  --  --  --  --  --  --  --  --  --  --  --  --  --  --  --  --  --  --  --  --  --  -\n"
     ]
    },
    {
     "data": {
      "text/html": [
       " <span style=\"background-color:#9FE2BF \">Also</span> the <span style=\"background-color:#DFFF00 \">Pacific</span> Tsunami Warning Center said <span style=\"background-color:#CCCCFF \">that</span> there was no Tsunami indication."
      ],
      "text/plain": [
       "<IPython.core.display.HTML object>"
      ]
     },
     "metadata": {},
     "output_type": "display_data"
    },
    {
     "data": {
      "text/html": [
       " <span style=\"background-color:#9FE2BF \">Επίσης,</span> το κέντρο προειδοποιήσεων για τσουνάμι <span style=\"background-color:#DFFF00 \">στον</span><span style=\"background-color:#DFFF00 \"> Ειρηνικό</span><span style=\"background-color:#DFFF00 \"> (PTWC),</span> δήλωσε <span style=\"background-color:#CCCCFF \">ότι</span> δεν υπήρχε ένδειξη για τσουνάμι."
      ],
      "text/plain": [
       "<IPython.core.display.HTML object>"
      ]
     },
     "metadata": {},
     "output_type": "display_data"
    },
    {
     "name": "stdout",
     "output_type": "stream",
     "text": [
      "____________________________________112___________________________________________________\n",
      "85\n",
      "0.2472019999999997\n"
     ]
    },
    {
     "data": {
      "text/html": [
       " <span style=\"background-color:#e0e0e0 \">-15.907416</span><span style=\"background-color:#DFFF00 \"> -15.671814</span><span style=\"background-color:#9FE2BF \"> -15.660214</span>"
      ],
      "text/plain": [
       "<IPython.core.display.HTML object>"
      ]
     },
     "metadata": {},
     "output_type": "display_data"
    },
    {
     "name": "stdout",
     "output_type": "stream",
     "text": [
      "-  --  --  --  --  --  --  --  --  --  --  --  --  --  --  --  --  --  --  --  --  --  --  --  --  -\n"
     ]
    },
    {
     "data": {
      "text/html": [
       " <span style=\"background-color:#9FE2BF \">Rolando</span> Mendoza <span style=\"background-color:#DFFF00 \">fired</span><span style=\"background-color:#DFFF00 \"> his</span><span style=\"background-color:#DFFF00 \"> M16</span><span style=\"background-color:#DFFF00 \"> rifle</span><span style=\"background-color:#DFFF00 \"> at</span><span style=\"background-color:#DFFF00 \"> the</span><span style=\"background-color:#DFFF00 \"> tourists.</span>"
      ],
      "text/plain": [
       "<IPython.core.display.HTML object>"
      ]
     },
     "metadata": {},
     "output_type": "display_data"
    },
    {
     "data": {
      "text/html": [
       " Ο <span style=\"background-color:#9FE2BF \">Ρολάντο</span> Μεντόζα <span style=\"background-color:#DFFF00 \">πυροβόλησε</span><span style=\"background-color:#DFFF00 \"> στοχεύοντας</span><span style=\"background-color:#DFFF00 \"> τους</span><span style=\"background-color:#DFFF00 \"> τουρίστες</span><span style=\"background-color:#DFFF00 \"> με</span><span style=\"background-color:#DFFF00 \"> το</span><span style=\"background-color:#DFFF00 \"> όπλο</span><span style=\"background-color:#DFFF00 \"> του</span><span style=\"background-color:#DFFF00 \"> Μ16.</span>"
      ],
      "text/plain": [
       "<IPython.core.display.HTML object>"
      ]
     },
     "metadata": {},
     "output_type": "display_data"
    },
    {
     "name": "stdout",
     "output_type": "stream",
     "text": [
      "____________________________________113___________________________________________________\n",
      "86\n",
      "0.45480100000000157\n"
     ]
    },
    {
     "data": {
      "text/html": [
       " <span style=\"background-color:#e0e0e0 \">-14.479081</span><span style=\"background-color:#DFFF00 \"> -14.404457</span><span style=\"background-color:#9FE2BF \"> -14.02428</span>"
      ],
      "text/plain": [
       "<IPython.core.display.HTML object>"
      ]
     },
     "metadata": {},
     "output_type": "display_data"
    },
    {
     "name": "stdout",
     "output_type": "stream",
     "text": [
      "-  --  --  --  --  --  --  --  --  --  --  --  --  --  --  --  --  --  --  --  --  --  --  --  --  -\n"
     ]
    },
    {
     "data": {
      "text/html": [
       " Several hostages have been rescued and least six <span style=\"background-color:#DFFF00 \">have</span><span style=\"background-color:#DFFF00 \"> been</span><span style=\"background-color:#DFFF00 \"> confirmed</span> dead <span style=\"background-color:#9FE2BF \">so</span> far."
      ],
      "text/plain": [
       "<IPython.core.display.HTML object>"
      ]
     },
     "metadata": {},
     "output_type": "display_data"
    },
    {
     "data": {
      "text/html": [
       " Αρκετοί όμηροι έχουν διασωθεί και <span style=\"background-color:#DFFF00 \">έχουν</span><span style=\"background-color:#DFFF00 \"> επιβεβαιωθεί</span><span style=\"background-color:#9FE2BF \"> ως</span> τώρα τουλάχιστον 6 νεκροί."
      ],
      "text/plain": [
       "<IPython.core.display.HTML object>"
      ]
     },
     "metadata": {},
     "output_type": "display_data"
    },
    {
     "name": "stdout",
     "output_type": "stream",
     "text": [
      "____________________________________114___________________________________________________\n",
      "87\n",
      "0.4882539599999999\n"
     ]
    },
    {
     "data": {
      "text/html": [
       " <span style=\"background-color:#e0e0e0 \">-1.1467104</span><span style=\"background-color:#DFFF00 \"> -0.65845644</span>"
      ],
      "text/plain": [
       "<IPython.core.display.HTML object>"
      ]
     },
     "metadata": {},
     "output_type": "display_data"
    },
    {
     "name": "stdout",
     "output_type": "stream",
     "text": [
      "-  --  --  --  --  --  --  --  --  --  --  --  --  --  --  --  --  --  --  --  --  --  --  --  --  -\n"
     ]
    },
    {
     "data": {
      "text/html": [
       " Six hostages, including the children and elderly, were released early, as were the Filipino photographers."
      ],
      "text/plain": [
       "<IPython.core.display.HTML object>"
      ]
     },
     "metadata": {},
     "output_type": "display_data"
    },
    {
     "data": {
      "text/html": [
       " Έξι <span style=\"background-color:#DFFF00 \">από</span><span style=\"background-color:#DFFF00 \"> τους</span> ομήρους, μαζί με τα παιδιά και τους ηλικιωμένους, αφέθηκαν νωρίς· το ίδιο και οι φωτογράφοι που προέρχονταν από τις Φιλιππίνες."
      ],
      "text/plain": [
       "<IPython.core.display.HTML object>"
      ]
     },
     "metadata": {},
     "output_type": "display_data"
    },
    {
     "name": "stdout",
     "output_type": "stream",
     "text": [
      "____________________________________115___________________________________________________\n",
      "88\n",
      "3.8208040000000008\n"
     ]
    },
    {
     "data": {
      "text/html": [
       " <span style=\"background-color:#e0e0e0 \">-12.760723</span><span style=\"background-color:#DFFF00 \"> -9.570927</span><span style=\"background-color:#9FE2BF \"> -8.939919</span>"
      ],
      "text/plain": [
       "<IPython.core.display.HTML object>"
      ]
     },
     "metadata": {},
     "output_type": "display_data"
    },
    {
     "name": "stdout",
     "output_type": "stream",
     "text": [
      "-  --  --  --  --  --  --  --  --  --  --  --  --  --  --  --  --  --  --  --  --  --  --  --  --  -\n"
     ]
    },
    {
     "data": {
      "text/html": [
       " The photographers later <span style=\"background-color:#DFFF00 \">took</span><span style=\"background-color:#DFFF00 \"> the</span> place <span style=\"background-color:#9FE2BF \">of</span><span style=\"background-color:#9FE2BF \"> an</span><span style=\"background-color:#9FE2BF \"> aged</span><span style=\"background-color:#9FE2BF \"> lady</span><span style=\"background-color:#9FE2BF \"> as</span><span style=\"background-color:#9FE2BF \"> she</span><span style=\"background-color:#9FE2BF \"> needed</span> the lavatory. Mendoza was gunned down."
      ],
      "text/plain": [
       "<IPython.core.display.HTML object>"
      ]
     },
     "metadata": {},
     "output_type": "display_data"
    },
    {
     "data": {
      "text/html": [
       " Οι φωτογράφοι αργότερα <span style=\"background-color:#DFFF00 \">αντικατέστησαν</span><span style=\"background-color:#9FE2BF \"> μια</span><span style=\"background-color:#9FE2BF \"> ηλικιωμένη</span><span style=\"background-color:#9FE2BF \"> κυρία</span><span style=\"background-color:#9FE2BF \"> η</span><span style=\"background-color:#9FE2BF \"> οποία</span><span style=\"background-color:#9FE2BF \"> χρειαζόταν</span><span style=\"background-color:#9FE2BF \"> να</span><span style=\"background-color:#9FE2BF \"> χρησιμοποιήσει</span> την τουαλέτα. Ο Μεντόζα σκοτώθηκε δια πυροβολισμού."
      ],
      "text/plain": [
       "<IPython.core.display.HTML object>"
      ]
     },
     "metadata": {},
     "output_type": "display_data"
    },
    {
     "name": "stdout",
     "output_type": "stream",
     "text": [
      "____________________________________116___________________________________________________\n",
      "89\n",
      "4.658591000000001\n"
     ]
    },
    {
     "data": {
      "text/html": [
       " <span style=\"background-color:#e0e0e0 \">-15.902933</span><span style=\"background-color:#DFFF00 \"> -11.244342</span>"
      ],
      "text/plain": [
       "<IPython.core.display.HTML object>"
      ]
     },
     "metadata": {},
     "output_type": "display_data"
    },
    {
     "name": "stdout",
     "output_type": "stream",
     "text": [
      "-  --  --  --  --  --  --  --  --  --  --  --  --  --  --  --  --  --  --  --  --  --  --  --  --  -\n"
     ]
    },
    {
     "data": {
      "text/html": [
       " Liggins followed <span style=\"background-color:#DFFF00 \">in</span><span style=\"background-color:#DFFF00 \"> his</span><span style=\"background-color:#DFFF00 \"> father’s</span><span style=\"background-color:#DFFF00 \"> footsteps</span><span style=\"background-color:#DFFF00 \"> and</span><span style=\"background-color:#DFFF00 \"> entered</span><span style=\"background-color:#DFFF00 \"> a</span> career in medicine."
      ],
      "text/plain": [
       "<IPython.core.display.HTML object>"
      ]
     },
     "metadata": {},
     "output_type": "display_data"
    },
    {
     "data": {
      "text/html": [
       " Ο Λίγκινς ακολούθησε <span style=\"background-color:#DFFF00 \">τα</span><span style=\"background-color:#DFFF00 \"> βήματα</span><span style=\"background-color:#DFFF00 \"> του</span><span style=\"background-color:#DFFF00 \"> πατέρα</span><span style=\"background-color:#DFFF00 \"> του</span><span style=\"background-color:#DFFF00 \"> και</span><span style=\"background-color:#DFFF00 \"> επέλεξε</span><span style=\"background-color:#DFFF00 \"> μια</span> καριέρα στην ιατρική."
      ],
      "text/plain": [
       "<IPython.core.display.HTML object>"
      ]
     },
     "metadata": {},
     "output_type": "display_data"
    },
    {
     "name": "stdout",
     "output_type": "stream",
     "text": [
      "____________________________________118___________________________________________________\n",
      "90\n",
      "4.4076113\n"
     ]
    },
    {
     "data": {
      "text/html": [
       " <span style=\"background-color:#e0e0e0 \">-9.509572</span><span style=\"background-color:#DFFF00 \"> -5.5855227</span><span style=\"background-color:#9FE2BF \"> -5.1019607</span>"
      ],
      "text/plain": [
       "<IPython.core.display.HTML object>"
      ]
     },
     "metadata": {},
     "output_type": "display_data"
    },
    {
     "name": "stdout",
     "output_type": "stream",
     "text": [
      "-  --  --  --  --  --  --  --  --  --  --  --  --  --  --  --  --  --  --  --  --  --  --  --  --  -\n"
     ]
    },
    {
     "data": {
      "text/html": [
       " While he was working at the hospital Liggins began <span style=\"background-color:#DFFF00 \">to</span><span style=\"background-color:#DFFF00 \"> investigate</span> premature labor during <span style=\"background-color:#9FE2BF \">his</span> spare time."
      ],
      "text/plain": [
       "<IPython.core.display.HTML object>"
      ]
     },
     "metadata": {},
     "output_type": "display_data"
    },
    {
     "data": {
      "text/html": [
       " Ενώ εργαζόταν στο νοσοκομείο, ο Λίγκινς, στον ελεύθερο χρόνο <span style=\"background-color:#9FE2BF \">του,</span> ξεκίνησε <span style=\"background-color:#DFFF00 \">να</span><span style=\"background-color:#DFFF00 \"> ερευνά</span><span style=\"background-color:#DFFF00 \"> τον</span> πρόωρο τοκετό."
      ],
      "text/plain": [
       "<IPython.core.display.HTML object>"
      ]
     },
     "metadata": {},
     "output_type": "display_data"
    },
    {
     "name": "stdout",
     "output_type": "stream",
     "text": [
      "____________________________________121___________________________________________________\n",
      "91\n",
      "7.654762610000001\n"
     ]
    },
    {
     "data": {
      "text/html": [
       " <span style=\"background-color:#e0e0e0 \">-0.18418631</span><span style=\"background-color:#DFFF00 \"> 7.4705763</span>"
      ],
      "text/plain": [
       "<IPython.core.display.HTML object>"
      ]
     },
     "metadata": {},
     "output_type": "display_data"
    },
    {
     "name": "stdout",
     "output_type": "stream",
     "text": [
      "-  --  --  --  --  --  --  --  --  --  --  --  --  --  --  --  --  --  --  --  --  --  --  --  --  -\n"
     ]
    },
    {
     "data": {
      "text/html": [
       " He has been unable to take the drugs needed <span style=\"background-color:#DFFF00 \">to</span><span style=\"background-color:#DFFF00 \"> overcome</span><span style=\"background-color:#DFFF00 \"> his</span><span style=\"background-color:#DFFF00 \"> pain</span> as they are banned from the Games."
      ],
      "text/plain": [
       "<IPython.core.display.HTML object>"
      ]
     },
     "metadata": {},
     "output_type": "display_data"
    },
    {
     "data": {
      "text/html": [
       " Δεν μπόρεσε να λάβει τα φάρμακα που χρειάζονταν <span style=\"background-color:#DFFF00 \">για</span><span style=\"background-color:#DFFF00 \"> να</span><span style=\"background-color:#DFFF00 \"> μην</span><span style=\"background-color:#DFFF00 \"> πονάει,</span> γιατί απαγορεύονται από τους Αγώνες."
      ],
      "text/plain": [
       "<IPython.core.display.HTML object>"
      ]
     },
     "metadata": {},
     "output_type": "display_data"
    },
    {
     "name": "stdout",
     "output_type": "stream",
     "text": [
      "____________________________________122___________________________________________________\n",
      "92\n",
      "11.034394\n"
     ]
    },
    {
     "data": {
      "text/html": [
       " <span style=\"background-color:#e0e0e0 \">-0.754194</span><span style=\"background-color:#DFFF00 \"> 7.5061445</span><span style=\"background-color:#9FE2BF \"> 9.790604</span><span style=\"background-color:#CCCCFF \"> 10.2802</span>"
      ],
      "text/plain": [
       "<IPython.core.display.HTML object>"
      ]
     },
     "metadata": {},
     "output_type": "display_data"
    },
    {
     "name": "stdout",
     "output_type": "stream",
     "text": [
      "-  --  --  --  --  --  --  --  --  --  --  --  --  --  --  --  --  --  --  --  --  --  --  --  --  -\n"
     ]
    },
    {
     "data": {
      "text/html": [
       " Cuomo, 53, began his governorship earlier this year and signed a bill <span style=\"background-color:#DFFF00 \">last</span><span style=\"background-color:#DFFF00 \"> month</span> legalizing same-sex marriage."
      ],
      "text/plain": [
       "<IPython.core.display.HTML object>"
      ]
     },
     "metadata": {},
     "output_type": "display_data"
    },
    {
     "data": {
      "text/html": [
       " Ο Κουόμο, <span style=\"background-color:#9FE2BF \">ο</span><span style=\"background-color:#9FE2BF \"> οποίος</span><span style=\"background-color:#9FE2BF \"> είναι</span> 53 ετών, έγινε κυβερνήτης στις αρχές του έτους και τον προηγούμενο μήνα υπέγραψε νομοσχέδιο που νομιμοποιεί τον γάμο <span style=\"background-color:#CCCCFF \">μεταξύ</span><span style=\"background-color:#CCCCFF \"> ατόμων</span><span style=\"background-color:#CCCCFF \"> του</span><span style=\"background-color:#CCCCFF \"> ίδιου</span> φύλου."
      ],
      "text/plain": [
       "<IPython.core.display.HTML object>"
      ]
     },
     "metadata": {},
     "output_type": "display_data"
    },
    {
     "name": "stdout",
     "output_type": "stream",
     "text": [
      "____________________________________123___________________________________________________\n",
      "93\n",
      "2.708062\n"
     ]
    },
    {
     "data": {
      "text/html": [
       " <span style=\"background-color:#e0e0e0 \">-13.97492</span><span style=\"background-color:#DFFF00 \"> -11.419525</span><span style=\"background-color:#9FE2BF \"> -11.266858</span>"
      ],
      "text/plain": [
       "<IPython.core.display.HTML object>"
      ]
     },
     "metadata": {},
     "output_type": "display_data"
    },
    {
     "name": "stdout",
     "output_type": "stream",
     "text": [
      "-  --  --  --  --  --  --  --  --  --  --  --  --  --  --  --  --  --  --  --  --  --  --  --  --  -\n"
     ]
    },
    {
     "data": {
      "text/html": [
       " He <span style=\"background-color:#DFFF00 \">is</span><span style=\"background-color:#DFFF00 \"> speculated</span><span style=\"background-color:#DFFF00 \"> to</span> make a run for president <span style=\"background-color:#9FE2BF \">in</span> 2016."
      ],
      "text/plain": [
       "<IPython.core.display.HTML object>"
      ]
     },
     "metadata": {},
     "output_type": "display_data"
    },
    {
     "data": {
      "text/html": [
       " <span style=\"background-color:#DFFF00 \">Εικάζεται</span><span style=\"background-color:#DFFF00 \"> ότι</span> θα θέσει υποψηφιότητα για την προεδρία <span style=\"background-color:#9FE2BF \">το</span> 2016."
      ],
      "text/plain": [
       "<IPython.core.display.HTML object>"
      ]
     },
     "metadata": {},
     "output_type": "display_data"
    },
    {
     "name": "stdout",
     "output_type": "stream",
     "text": [
      "____________________________________124___________________________________________________\n",
      "94\n",
      "13.46107\n"
     ]
    },
    {
     "data": {
      "text/html": [
       " <span style=\"background-color:#e0e0e0 \">-6.691113</span><span style=\"background-color:#DFFF00 \"> 6.769957</span>"
      ],
      "text/plain": [
       "<IPython.core.display.HTML object>"
      ]
     },
     "metadata": {},
     "output_type": "display_data"
    },
    {
     "name": "stdout",
     "output_type": "stream",
     "text": [
      "-  --  --  --  --  --  --  --  --  --  --  --  --  --  --  --  --  --  --  --  --  --  --  --  --  -\n"
     ]
    },
    {
     "data": {
      "text/html": [
       " <span style=\"background-color:#DFFF00 \">NextGen</span><span style=\"background-color:#DFFF00 \"> is</span><span style=\"background-color:#DFFF00 \"> a</span><span style=\"background-color:#DFFF00 \"> system</span> the FAA claims would allow aircraft to fly shorter routes and save millions of gallons of fuel each year and cut carbon emissions."
      ],
      "text/plain": [
       "<IPython.core.display.HTML object>"
      ]
     },
     "metadata": {},
     "output_type": "display_data"
    },
    {
     "data": {
      "text/html": [
       " Η Ομοσπονδιακή Υπηρεσία Πολιτικής Αεροπορίας ισχυρίζεται ότι <span style=\"background-color:#DFFF00 \">το</span><span style=\"background-color:#DFFF00 \"> σύστημα</span><span style=\"background-color:#DFFF00 \"> αεροπορικών</span><span style=\"background-color:#DFFF00 \"> μεταφορών</span><span style=\"background-color:#DFFF00 \"> νέας</span> γενιάς θα επέτρεπε στα αεροσκάφη να διεξάγουν πιο σύντομες διαδρομές, να εξοικονομούν γαλόνια καυσίμων κάθε χρόνο και να μειώνουν τις εκπομπές άνθρακα."
      ],
      "text/plain": [
       "<IPython.core.display.HTML object>"
      ]
     },
     "metadata": {},
     "output_type": "display_data"
    },
    {
     "name": "stdout",
     "output_type": "stream",
     "text": [
      "____________________________________125___________________________________________________\n",
      "95\n",
      "19.059759800000002\n"
     ]
    },
    {
     "data": {
      "text/html": [
       " <span style=\"background-color:#e0e0e0 \">-3.1299148</span><span style=\"background-color:#DFFF00 \"> 15.860344</span><span style=\"background-color:#9FE2BF \"> 15.914492</span><span style=\"background-color:#CCCCFF \"> 15.925285</span><span style=\"background-color:#FFE4E1 \"> 15.929845</span>"
      ],
      "text/plain": [
       "<IPython.core.display.HTML object>"
      ]
     },
     "metadata": {},
     "output_type": "display_data"
    },
    {
     "name": "stdout",
     "output_type": "stream",
     "text": [
      "-  --  --  --  --  --  --  --  --  --  --  --  --  --  --  --  --  --  --  --  --  --  --  --  --  -\n"
     ]
    },
    {
     "data": {
      "text/html": [
       " Researchers from Princeton <span style=\"background-color:#CCCCFF \">University</span> in the United States <span style=\"background-color:#9FE2BF \">and</span><span style=\"background-color:#9FE2BF \"> Uppsala</span><span style=\"background-color:#9FE2BF \"> University</span><span style=\"background-color:#9FE2BF \"> in</span><span style=\"background-color:#9FE2BF \"> Sweden</span> reported the new species evolved in just two generations, though this process had been believed to take much longer, <span style=\"background-color:#DFFF00 \">due</span><span style=\"background-color:#DFFF00 \"> to</span><span style=\"background-color:#DFFF00 \"> breeding</span><span style=\"background-color:#DFFF00 \"> between</span><span style=\"background-color:#DFFF00 \"> an</span><span style=\"background-color:#DFFF00 \"> endemic</span><span style=\"background-color:#DFFF00 \"> Darwin</span><span style=\"background-color:#DFFF00 \"> finch,</span><span style=\"background-color:#DFFF00 \"> Geospiza</span><span style=\"background-color:#DFFF00 \"> fortes,</span><span style=\"background-color:#DFFF00 \"> and</span><span style=\"background-color:#DFFF00 \"> the</span><span style=\"background-color:#DFFF00 \"> immigrant</span><span style=\"background-color:#DFFF00 \"> cactus</span><span style=\"background-color:#DFFF00 \"> finch,</span><span style=\"background-color:#DFFF00 \"> Geospiza</span><span style=\"background-color:#DFFF00 \"> conirostris.</span>"
      ],
      "text/plain": [
       "<IPython.core.display.HTML object>"
      ]
     },
     "metadata": {},
     "output_type": "display_data"
    },
    {
     "data": {
      "text/html": [
       " Ερευνητές από το <span style=\"background-color:#CCCCFF \">Πανεπιστήμιο</span><span style=\"background-color:#CCCCFF \"> του</span> Πρίνστον των Ηνωμένων <span style=\"background-color:#9FE2BF \">Πολιτειών</span><span style=\"background-color:#9FE2BF \"> και</span><span style=\"background-color:#9FE2BF \"> το</span><span style=\"background-color:#9FE2BF \"> Πανεπιστήμιο</span><span style=\"background-color:#9FE2BF \"> της</span><span style=\"background-color:#9FE2BF \"> Ουψάλα</span><span style=\"background-color:#9FE2BF \"> της</span><span style=\"background-color:#9FE2BF \"> Σουηδίας</span> ανέφεραν ότι το νέο είδος εξελίχθηκε μέσα σε μόλις δυο γενιές, <span style=\"background-color:#FFE4E1 \">παρόλο</span><span style=\"background-color:#FFE4E1 \"> που</span> η διαδικασία πιστεύεται ότι διήρκεσε πολύ παραπάνω, <span style=\"background-color:#DFFF00 \">λόγω</span><span style=\"background-color:#DFFF00 \"> της</span><span style=\"background-color:#DFFF00 \"> αναπαραγωγής</span><span style=\"background-color:#DFFF00 \"> μεταξύ</span><span style=\"background-color:#DFFF00 \"> του</span><span style=\"background-color:#DFFF00 \"> ενδημικού</span><span style=\"background-color:#DFFF00 \"> σπίνου</span><span style=\"background-color:#DFFF00 \"> του</span><span style=\"background-color:#DFFF00 \"> Δαρβίνου</span><span style=\"background-color:#DFFF00 \"> του</span><span style=\"background-color:#DFFF00 \"> γένους</span><span style=\"background-color:#DFFF00 \"> Geospiza</span><span style=\"background-color:#DFFF00 \"> fortes</span><span style=\"background-color:#DFFF00 \"> και</span><span style=\"background-color:#DFFF00 \"> του</span><span style=\"background-color:#DFFF00 \"> αποδημητικού</span><span style=\"background-color:#DFFF00 \"> σπίνου</span><span style=\"background-color:#DFFF00 \"> του</span><span style=\"background-color:#DFFF00 \"> γένους</span><span style=\"background-color:#DFFF00 \"> Geospiza</span><span style=\"background-color:#DFFF00 \"> conirostris.</span>"
      ],
      "text/plain": [
       "<IPython.core.display.HTML object>"
      ]
     },
     "metadata": {},
     "output_type": "display_data"
    },
    {
     "name": "stdout",
     "output_type": "stream",
     "text": [
      "____________________________________126___________________________________________________\n",
      "96\n",
      "0.9885702999999992\n"
     ]
    },
    {
     "data": {
      "text/html": [
       " <span style=\"background-color:#e0e0e0 \">-8.570808</span><span style=\"background-color:#DFFF00 \"> -7.5822377</span>"
      ],
      "text/plain": [
       "<IPython.core.display.HTML object>"
      ]
     },
     "metadata": {},
     "output_type": "display_data"
    },
    {
     "name": "stdout",
     "output_type": "stream",
     "text": [
      "-  --  --  --  --  --  --  --  --  --  --  --  --  --  --  --  --  --  --  --  --  --  --  --  --  -\n"
     ]
    },
    {
     "data": {
      "text/html": [
       " This is called a chemical's pH. <span style=\"background-color:#DFFF00 \">You</span><span style=\"background-color:#DFFF00 \"> can</span><span style=\"background-color:#DFFF00 \"> make</span><span style=\"background-color:#DFFF00 \"> an</span><span style=\"background-color:#DFFF00 \"> indicator</span><span style=\"background-color:#DFFF00 \"> using</span><span style=\"background-color:#DFFF00 \"> red</span><span style=\"background-color:#DFFF00 \"> cabbage</span><span style=\"background-color:#DFFF00 \"> juice.</span>"
      ],
      "text/plain": [
       "<IPython.core.display.HTML object>"
      ]
     },
     "metadata": {},
     "output_type": "display_data"
    },
    {
     "data": {
      "text/html": [
       " Αυτό λέγεται το pH μιας χημικής ουσίας. <span style=\"background-color:#DFFF00 \">Μπορείτε</span><span style=\"background-color:#DFFF00 \"> να</span><span style=\"background-color:#DFFF00 \"> κάνετε</span><span style=\"background-color:#DFFF00 \"> έναν</span><span style=\"background-color:#DFFF00 \"> δείκτη</span><span style=\"background-color:#DFFF00 \"> χρησιμοποιώντας</span><span style=\"background-color:#DFFF00 \"> χυμό</span><span style=\"background-color:#DFFF00 \"> από</span><span style=\"background-color:#DFFF00 \"> κόκκινο</span><span style=\"background-color:#DFFF00 \"> λάχανο.</span>"
      ],
      "text/plain": [
       "<IPython.core.display.HTML object>"
      ]
     },
     "metadata": {},
     "output_type": "display_data"
    },
    {
     "name": "stdout",
     "output_type": "stream",
     "text": [
      "____________________________________127___________________________________________________\n",
      "97\n",
      "20.575715600000002\n"
     ]
    },
    {
     "data": {
      "text/html": [
       " <span style=\"background-color:#e0e0e0 \">-14.106742</span><span style=\"background-color:#DFFF00 \"> 4.247841</span><span style=\"background-color:#9FE2BF \"> 5.6553288</span><span style=\"background-color:#CCCCFF \"> 6.4689736</span>"
      ],
      "text/plain": [
       "<IPython.core.display.HTML object>"
      ]
     },
     "metadata": {},
     "output_type": "display_data"
    },
    {
     "name": "stdout",
     "output_type": "stream",
     "text": [
      "-  --  --  --  --  --  --  --  --  --  --  --  --  --  --  --  --  --  --  --  --  --  --  --  --  -\n"
     ]
    },
    {
     "data": {
      "text/html": [
       " Swirl the two dry powders together <span style=\"background-color:#CCCCFF \">and</span> then, with clean <span style=\"background-color:#9FE2BF \">wet</span> hands, squeeze them into a ball."
      ],
      "text/plain": [
       "<IPython.core.display.HTML object>"
      ]
     },
     "metadata": {},
     "output_type": "display_data"
    },
    {
     "data": {
      "text/html": [
       " Περιστρέψτε μαζί τις δύο στεγνές σκόνες <span style=\"background-color:#CCCCFF \">και</span> έπειτα, με καθαρά <span style=\"background-color:#9FE2BF \">και</span><span style=\"background-color:#9FE2BF \"> βρεγμένα</span> χέρια, πιέστε τις <span style=\"background-color:#DFFF00 \">ώστε</span><span style=\"background-color:#DFFF00 \"> να</span><span style=\"background-color:#DFFF00 \"> γίνουν</span> μια μπάλα."
      ],
      "text/plain": [
       "<IPython.core.display.HTML object>"
      ]
     },
     "metadata": {},
     "output_type": "display_data"
    },
    {
     "name": "stdout",
     "output_type": "stream",
     "text": [
      "____________________________________130___________________________________________________\n",
      "98\n",
      "9.01285597\n"
     ]
    },
    {
     "data": {
      "text/html": [
       " <span style=\"background-color:#e0e0e0 \">-9.8539715</span><span style=\"background-color:#DFFF00 \"> -6.012377</span><span style=\"background-color:#9FE2BF \"> -0.84111553</span>"
      ],
      "text/plain": [
       "<IPython.core.display.HTML object>"
      ]
     },
     "metadata": {},
     "output_type": "display_data"
    },
    {
     "name": "stdout",
     "output_type": "stream",
     "text": [
      "-  --  --  --  --  --  --  --  --  --  --  --  --  --  --  --  --  --  --  --  --  --  --  --  --  -\n"
     ]
    },
    {
     "data": {
      "text/html": [
       " The satellite in space gets the call and then reflects <span style=\"background-color:#9FE2BF \">it</span><span style=\"background-color:#DFFF00 \"> back</span><span style=\"background-color:#DFFF00 \"> down,</span> almost instantly."
      ],
      "text/plain": [
       "<IPython.core.display.HTML object>"
      ]
     },
     "metadata": {},
     "output_type": "display_data"
    },
    {
     "data": {
      "text/html": [
       " Ο δορυφόρος που βρίσκεται στο διάστημα λαμβάνει την κλήση και έπειτα <span style=\"background-color:#9FE2BF \">τη</span> στέλνει <span style=\"background-color:#DFFF00 \">πίσω</span><span style=\"background-color:#DFFF00 \"> στη</span><span style=\"background-color:#DFFF00 \"> γη</span> σχεδόν ακαριαία."
      ],
      "text/plain": [
       "<IPython.core.display.HTML object>"
      ]
     },
     "metadata": {},
     "output_type": "display_data"
    },
    {
     "name": "stdout",
     "output_type": "stream",
     "text": [
      "____________________________________131___________________________________________________\n",
      "99\n",
      "0.25023026\n"
     ]
    },
    {
     "data": {
      "text/html": [
       " <span style=\"background-color:#e0e0e0 \">-0.5812313</span><span style=\"background-color:#DFFF00 \"> -0.33100104</span>"
      ],
      "text/plain": [
       "<IPython.core.display.HTML object>"
      ]
     },
     "metadata": {},
     "output_type": "display_data"
    },
    {
     "name": "stdout",
     "output_type": "stream",
     "text": [
      "-  --  --  --  --  --  --  --  --  --  --  --  --  --  --  --  --  --  --  --  --  --  --  --  --  -\n"
     ]
    },
    {
     "data": {
      "text/html": [
       " The wheel has changed the world in incredible ways. The biggest thing that the wheel has done for us is <span style=\"background-color:#DFFF00 \">given</span><span style=\"background-color:#DFFF00 \"> us</span> much easier and faster transportation."
      ],
      "text/plain": [
       "<IPython.core.display.HTML object>"
      ]
     },
     "metadata": {},
     "output_type": "display_data"
    },
    {
     "data": {
      "text/html": [
       " Η συμβολή του τροχού στον κόσμο είναι εκπληκτική. Το σπουδαιότερο απ' όλα είναι η πιο απλή και γρήγορη μετακίνηση."
      ],
      "text/plain": [
       "<IPython.core.display.HTML object>"
      ]
     },
     "metadata": {},
     "output_type": "display_data"
    },
    {
     "name": "stdout",
     "output_type": "stream",
     "text": [
      "____________________________________132___________________________________________________\n",
      "100\n",
      "0.28773600000000066\n"
     ]
    },
    {
     "data": {
      "text/html": [
       " <span style=\"background-color:#e0e0e0 \">-10.269308</span><span style=\"background-color:#DFFF00 \"> -9.981572</span>"
      ],
      "text/plain": [
       "<IPython.core.display.HTML object>"
      ]
     },
     "metadata": {},
     "output_type": "display_data"
    },
    {
     "name": "stdout",
     "output_type": "stream",
     "text": [
      "-  --  --  --  --  --  --  --  --  --  --  --  --  --  --  --  --  --  --  --  --  --  --  --  --  -\n"
     ]
    },
    {
     "data": {
      "text/html": [
       " <span style=\"background-color:#DFFF00 \">It</span><span style=\"background-color:#DFFF00 \"> has</span><span style=\"background-color:#DFFF00 \"> brought</span><span style=\"background-color:#DFFF00 \"> us</span><span style=\"background-color:#DFFF00 \"> the</span> train, the car, and many other transportation devices."
      ],
      "text/plain": [
       "<IPython.core.display.HTML object>"
      ]
     },
     "metadata": {},
     "output_type": "display_data"
    },
    {
     "data": {
      "text/html": [
       " <span style=\"background-color:#DFFF00 \">Χάρη</span><span style=\"background-color:#DFFF00 \"> σε</span><span style=\"background-color:#DFFF00 \"> αυτόν</span><span style=\"background-color:#DFFF00 \"> έχουμε</span> τρένα, αυτοκίνητα και πολλές άλλες μηχανές μεταφοράς."
      ],
      "text/plain": [
       "<IPython.core.display.HTML object>"
      ]
     },
     "metadata": {},
     "output_type": "display_data"
    },
    {
     "name": "stdout",
     "output_type": "stream",
     "text": [
      "____________________________________133___________________________________________________\n",
      "101\n",
      "2.08835308\n"
     ]
    },
    {
     "data": {
      "text/html": [
       " <span style=\"background-color:#e0e0e0 \">-1.7708493</span><span style=\"background-color:#DFFF00 \"> -0.88208705</span><span style=\"background-color:#9FE2BF \"> 0.31750378</span>"
      ],
      "text/plain": [
       "<IPython.core.display.HTML object>"
      ]
     },
     "metadata": {},
     "output_type": "display_data"
    },
    {
     "name": "stdout",
     "output_type": "stream",
     "text": [
      "-  --  --  --  --  --  --  --  --  --  --  --  --  --  --  --  --  --  --  --  --  --  --  --  --  -\n"
     ]
    },
    {
     "data": {
      "text/html": [
       " The secret to their <span style=\"background-color:#DFFF00 \">success</span> is the concept of the niche, a special job each cat holds that keeps <span style=\"background-color:#9FE2BF \">it</span><span style=\"background-color:#9FE2BF \"> from</span> competing with others."
      ],
      "text/plain": [
       "<IPython.core.display.HTML object>"
      ]
     },
     "metadata": {},
     "output_type": "display_data"
    },
    {
     "data": {
      "text/html": [
       " Το μυστικό της <span style=\"background-color:#DFFF00 \">επιτυχίας</span> τους είναι η ιδέα της θέσης, ενός ειδικού ρόλου που έχει η κάθε γάτα, που εμποδίζει τον ανταγωνισμό ανάμεσά τους."
      ],
      "text/plain": [
       "<IPython.core.display.HTML object>"
      ]
     },
     "metadata": {},
     "output_type": "display_data"
    },
    {
     "name": "stdout",
     "output_type": "stream",
     "text": [
      "____________________________________134___________________________________________________\n",
      "102\n",
      "5.2608756\n"
     ]
    },
    {
     "data": {
      "text/html": [
       " <span style=\"background-color:#e0e0e0 \">-11.415903</span><span style=\"background-color:#DFFF00 \"> -8.809917</span><span style=\"background-color:#9FE2BF \"> -6.1550274</span>"
      ],
      "text/plain": [
       "<IPython.core.display.HTML object>"
      ]
     },
     "metadata": {},
     "output_type": "display_data"
    },
    {
     "name": "stdout",
     "output_type": "stream",
     "text": [
      "-  --  --  --  --  --  --  --  --  --  --  --  --  --  --  --  --  --  --  --  --  --  --  --  --  -\n"
     ]
    },
    {
     "data": {
      "text/html": [
       " Lions are the most social <span style=\"background-color:#DFFF00 \">cats,</span> living in large groups <span style=\"background-color:#9FE2BF \">called</span><span style=\"background-color:#9FE2BF \"> prides.</span>"
      ],
      "text/plain": [
       "<IPython.core.display.HTML object>"
      ]
     },
     "metadata": {},
     "output_type": "display_data"
    },
    {
     "data": {
      "text/html": [
       " Τα λιοντάρια είναι τα πιο κοινωνικά <span style=\"background-color:#DFFF00 \">αιλουροειδή,</span><span style=\"background-color:#DFFF00 \"> καθώς</span> ζουν σε πολυπληθείς ομάδες <span style=\"background-color:#9FE2BF \">που</span><span style=\"background-color:#9FE2BF \"> ονομάζονται</span><span style=\"background-color:#9FE2BF \"> αγέλες.</span>"
      ],
      "text/plain": [
       "<IPython.core.display.HTML object>"
      ]
     },
     "metadata": {},
     "output_type": "display_data"
    },
    {
     "name": "stdout",
     "output_type": "stream",
     "text": [
      "____________________________________135___________________________________________________\n",
      "103\n",
      "4.2050664\n"
     ]
    },
    {
     "data": {
      "text/html": [
       " <span style=\"background-color:#e0e0e0 \">-9.392564</span><span style=\"background-color:#DFFF00 \"> -7.2468686</span><span style=\"background-color:#9FE2BF \"> -5.1874976</span>"
      ],
      "text/plain": [
       "<IPython.core.display.HTML object>"
      ]
     },
     "metadata": {},
     "output_type": "display_data"
    },
    {
     "name": "stdout",
     "output_type": "stream",
     "text": [
      "-  --  --  --  --  --  --  --  --  --  --  --  --  --  --  --  --  --  --  --  --  --  --  --  --  -\n"
     ]
    },
    {
     "data": {
      "text/html": [
       " Prides are made up of one to three <span style=\"background-color:#9FE2BF \">related</span><span style=\"background-color:#9FE2BF \"> adult</span> males, along with as many as thirty females and cubs."
      ],
      "text/plain": [
       "<IPython.core.display.HTML object>"
      ]
     },
     "metadata": {},
     "output_type": "display_data"
    },
    {
     "data": {
      "text/html": [
       " Οι αγέλες αποτελούνται από ένα ως τρία <span style=\"background-color:#9FE2BF \">ενήλικα</span> αρσενικά που συγγενεύουν μεταξύ τους μαζί με έως και τριάντα θηλυκά <span style=\"background-color:#DFFF00 \">με</span><span style=\"background-color:#DFFF00 \"> τα</span><span style=\"background-color:#DFFF00 \"> μικρά</span> τους."
      ],
      "text/plain": [
       "<IPython.core.display.HTML object>"
      ]
     },
     "metadata": {},
     "output_type": "display_data"
    },
    {
     "name": "stdout",
     "output_type": "stream",
     "text": [
      "____________________________________137___________________________________________________\n",
      "104\n",
      "5.8827666999999995\n"
     ]
    },
    {
     "data": {
      "text/html": [
       " <span style=\"background-color:#e0e0e0 \">-2.7639594</span><span style=\"background-color:#DFFF00 \"> 3.1188073</span>"
      ],
      "text/plain": [
       "<IPython.core.display.HTML object>"
      ]
     },
     "metadata": {},
     "output_type": "display_data"
    },
    {
     "name": "stdout",
     "output_type": "stream",
     "text": [
      "-  --  --  --  --  --  --  --  --  --  --  --  --  --  --  --  --  --  --  --  --  --  --  --  --  -\n"
     ]
    },
    {
     "data": {
      "text/html": [
       " Plants make their food from the sun by photosynthesis. <span style=\"background-color:#DFFF00 \">They</span><span style=\"background-color:#DFFF00 \"> also</span><span style=\"background-color:#DFFF00 \"> provide</span><span style=\"background-color:#DFFF00 \"> shade.</span>"
      ],
      "text/plain": [
       "<IPython.core.display.HTML object>"
      ]
     },
     "metadata": {},
     "output_type": "display_data"
    },
    {
     "data": {
      "text/html": [
       " Τα φυτά δημιουργούν την τροφή τους από τον ήλιο μέσω της φωτοσύνθεσης. <span style=\"background-color:#DFFF00 \">Επίσης,</span><span style=\"background-color:#DFFF00 \"> προσφέρουν</span><span style=\"background-color:#DFFF00 \"> σκιά.</span>"
      ],
      "text/plain": [
       "<IPython.core.display.HTML object>"
      ]
     },
     "metadata": {},
     "output_type": "display_data"
    },
    {
     "name": "stdout",
     "output_type": "stream",
     "text": [
      "____________________________________138___________________________________________________\n",
      "105\n",
      "9.864246000000001\n"
     ]
    },
    {
     "data": {
      "text/html": [
       " <span style=\"background-color:#e0e0e0 \">-5.549996</span><span style=\"background-color:#DFFF00 \"> 0.46187633</span><span style=\"background-color:#9FE2BF \"> 4.31425</span>"
      ],
      "text/plain": [
       "<IPython.core.display.HTML object>"
      ]
     },
     "metadata": {},
     "output_type": "display_data"
    },
    {
     "name": "stdout",
     "output_type": "stream",
     "text": [
      "-  --  --  --  --  --  --  --  --  --  --  --  --  --  --  --  --  --  --  --  --  --  --  --  --  -\n"
     ]
    },
    {
     "data": {
      "text/html": [
       " It also attacked anything that entered the water; even a giant dinosaur such as T. rex would <span style=\"background-color:#9FE2BF \">be</span> no <span style=\"background-color:#DFFF00 \">match</span><span style=\"background-color:#DFFF00 \"> for</span> it."
      ],
      "text/plain": [
       "<IPython.core.display.HTML object>"
      ]
     },
     "metadata": {},
     "output_type": "display_data"
    },
    {
     "data": {
      "text/html": [
       " Πραγματοποιούσε επιθέσεις σε οτιδήποτε εισερχόταν στο νερό. Μέχρι και ο γιγαντιαίος δεινόσαυρος, ο Τυραννόσαυρος δεν θα <span style=\"background-color:#9FE2BF \">αποτελούσε</span><span style=\"background-color:#DFFF00 \"> αντίπαλο</span><span style=\"background-color:#DFFF00 \"> γι'</span> αυτόν."
      ],
      "text/plain": [
       "<IPython.core.display.HTML object>"
      ]
     },
     "metadata": {},
     "output_type": "display_data"
    },
    {
     "name": "stdout",
     "output_type": "stream",
     "text": [
      "____________________________________140___________________________________________________\n",
      "106\n",
      "0.7255300000000009\n"
     ]
    },
    {
     "data": {
      "text/html": [
       " <span style=\"background-color:#e0e0e0 \">-9.441938</span><span style=\"background-color:#DFFF00 \"> -8.716408</span>"
      ],
      "text/plain": [
       "<IPython.core.display.HTML object>"
      ]
     },
     "metadata": {},
     "output_type": "display_data"
    },
    {
     "name": "stdout",
     "output_type": "stream",
     "text": [
      "-  --  --  --  --  --  --  --  --  --  --  --  --  --  --  --  --  --  --  --  --  --  --  --  --  -\n"
     ]
    },
    {
     "data": {
      "text/html": [
       " Most of the life of the <span style=\"background-color:#DFFF00 \">Hebrew</span> family happened in the open air."
      ],
      "text/plain": [
       "<IPython.core.display.HTML object>"
      ]
     },
     "metadata": {},
     "output_type": "display_data"
    },
    {
     "data": {
      "text/html": [
       " Η <span style=\"background-color:#DFFF00 \">εβραϊκή</span> οικογένεια περνούσε το μεγαλύτερο κομμάτι της ζωής της στο ύπαιθρο."
      ],
      "text/plain": [
       "<IPython.core.display.HTML object>"
      ]
     },
     "metadata": {},
     "output_type": "display_data"
    },
    {
     "name": "stdout",
     "output_type": "stream",
     "text": [
      "____________________________________141___________________________________________________\n",
      "107\n",
      "5.8057452\n"
     ]
    },
    {
     "data": {
      "text/html": [
       " <span style=\"background-color:#e0e0e0 \">-7.7472324</span><span style=\"background-color:#DFFF00 \"> -1.9414872</span>"
      ],
      "text/plain": [
       "<IPython.core.display.HTML object>"
      ]
     },
     "metadata": {},
     "output_type": "display_data"
    },
    {
     "name": "stdout",
     "output_type": "stream",
     "text": [
      "-  --  --  --  --  --  --  --  --  --  --  --  --  --  --  --  --  --  --  --  --  --  --  --  --  -\n"
     ]
    },
    {
     "data": {
      "text/html": [
       " Women did the cooking in the yard; stores were just open counters looking into <span style=\"background-color:#DFFF00 \">the</span> street. Stone was used for building houses."
      ],
      "text/plain": [
       "<IPython.core.display.HTML object>"
      ]
     },
     "metadata": {},
     "output_type": "display_data"
    },
    {
     "data": {
      "text/html": [
       " Οι γυναίκες μαγείρευαν στην αυλή ενώ τα καταστήματα ήταν ανοικτοί πάγκοι που κοιτούσαν προς <span style=\"background-color:#DFFF00 \">τον</span> δρόμο. Η πέτρα χρησιμοποιούταν ως οικοδομικό υλικό."
      ],
      "text/plain": [
       "<IPython.core.display.HTML object>"
      ]
     },
     "metadata": {},
     "output_type": "display_data"
    },
    {
     "name": "stdout",
     "output_type": "stream",
     "text": [
      "____________________________________143___________________________________________________\n",
      "108\n",
      "3.579783599999999\n"
     ]
    },
    {
     "data": {
      "text/html": [
       " <span style=\"background-color:#e0e0e0 \">-9.09574</span><span style=\"background-color:#DFFF00 \"> -5.5159564</span>"
      ],
      "text/plain": [
       "<IPython.core.display.HTML object>"
      ]
     },
     "metadata": {},
     "output_type": "display_data"
    },
    {
     "name": "stdout",
     "output_type": "stream",
     "text": [
      "-  --  --  --  --  --  --  --  --  --  --  --  --  --  --  --  --  --  --  --  --  --  --  --  --  -\n"
     ]
    },
    {
     "data": {
      "text/html": [
       " Though each country was 'Scandinavian', there were many differences between the people, kings, <span style=\"background-color:#DFFF00 \">customs</span><span style=\"background-color:#DFFF00 \"> and</span> history of Denmark, Sweden, Norway and Iceland."
      ],
      "text/plain": [
       "<IPython.core.display.HTML object>"
      ]
     },
     "metadata": {},
     "output_type": "display_data"
    },
    {
     "data": {
      "text/html": [
       " Παρόλο που κάθε χώρα ήταν «σκανδιναβική», οι άνθρωποι, οι βασιλιάδες, τα έθιμα <span style=\"background-color:#DFFF00 \">και</span> η ιστορία της Δανίας, της Σουηδίας, της Νορβηγίας και της Ισλανδίας διέφεραν πολύ."
      ],
      "text/plain": [
       "<IPython.core.display.HTML object>"
      ]
     },
     "metadata": {},
     "output_type": "display_data"
    },
    {
     "name": "stdout",
     "output_type": "stream",
     "text": [
      "____________________________________144___________________________________________________\n",
      "109\n",
      "0.7210389999999993\n"
     ]
    },
    {
     "data": {
      "text/html": [
       " <span style=\"background-color:#e0e0e0 \">-15.176803</span><span style=\"background-color:#DFFF00 \"> -14.455764</span>"
      ],
      "text/plain": [
       "<IPython.core.display.HTML object>"
      ]
     },
     "metadata": {},
     "output_type": "display_data"
    },
    {
     "name": "stdout",
     "output_type": "stream",
     "text": [
      "-  --  --  --  --  --  --  --  --  --  --  --  --  --  --  --  --  --  --  --  --  --  --  --  --  -\n"
     ]
    },
    {
     "data": {
      "text/html": [
       " So, it is likely that the notation was added simply as <span style=\"background-color:#DFFF00 \">a</span><span style=\"background-color:#DFFF00 \"> label.</span>"
      ],
      "text/plain": [
       "<IPython.core.display.HTML object>"
      ]
     },
     "metadata": {},
     "output_type": "display_data"
    },
    {
     "data": {
      "text/html": [
       " Επομένως, η επισημείωση ίσως να προστέθηκε απλώς ως <span style=\"background-color:#DFFF00 \">επισήμανση.</span>"
      ],
      "text/plain": [
       "<IPython.core.display.HTML object>"
      ]
     },
     "metadata": {},
     "output_type": "display_data"
    },
    {
     "name": "stdout",
     "output_type": "stream",
     "text": [
      "____________________________________145___________________________________________________\n",
      "110\n",
      "0.5532975999999996\n"
     ]
    },
    {
     "data": {
      "text/html": [
       " <span style=\"background-color:#e0e0e0 \">-7.9289136</span><span style=\"background-color:#DFFF00 \"> -7.375616</span>"
      ],
      "text/plain": [
       "<IPython.core.display.HTML object>"
      ]
     },
     "metadata": {},
     "output_type": "display_data"
    },
    {
     "name": "stdout",
     "output_type": "stream",
     "text": [
      "-  --  --  --  --  --  --  --  --  --  --  --  --  --  --  --  --  --  --  --  --  --  --  --  --  -\n"
     ]
    },
    {
     "data": {
      "text/html": [
       " The D-Day landings and <span style=\"background-color:#DFFF00 \">the</span><span style=\"background-color:#DFFF00 \"> following</span> battles had freed the north of France, but the south still wasn't free."
      ],
      "text/plain": [
       "<IPython.core.display.HTML object>"
      ]
     },
     "metadata": {},
     "output_type": "display_data"
    },
    {
     "data": {
      "text/html": [
       " Η απόβαση στη Νορμανδία και <span style=\"background-color:#DFFF00 \">οι</span> μάχες που ακολούθησαν απελευθέρωσαν τον γαλλικό Βορρά, όμως ο Νότος εξακολουθούσε να μην είναι ελεύθερος."
      ],
      "text/plain": [
       "<IPython.core.display.HTML object>"
      ]
     },
     "metadata": {},
     "output_type": "display_data"
    },
    {
     "name": "stdout",
     "output_type": "stream",
     "text": [
      "____________________________________146___________________________________________________\n",
      "111\n",
      "26.203179\n"
     ]
    },
    {
     "data": {
      "text/html": [
       " <span style=\"background-color:#e0e0e0 \">-10.346498</span><span style=\"background-color:#DFFF00 \"> 15.799165</span><span style=\"background-color:#9FE2BF \"> 15.856681</span>"
      ],
      "text/plain": [
       "<IPython.core.display.HTML object>"
      ]
     },
     "metadata": {},
     "output_type": "display_data"
    },
    {
     "name": "stdout",
     "output_type": "stream",
     "text": [
      "-  --  --  --  --  --  --  --  --  --  --  --  --  --  --  --  --  --  --  --  --  --  --  --  --  -\n"
     ]
    },
    {
     "data": {
      "text/html": [
       " In just two weeks the Americans and <span style=\"background-color:#9FE2BF \">Free</span> French forces had liberated southern France and <span style=\"background-color:#DFFF00 \">were</span><span style=\"background-color:#DFFF00 \"> turning</span><span style=\"background-color:#DFFF00 \"> towards</span> Germany."
      ],
      "text/plain": [
       "<IPython.core.display.HTML object>"
      ]
     },
     "metadata": {},
     "output_type": "display_data"
    },
    {
     "data": {
      "text/html": [
       " Μέσα σε δύο εβδομάδες οι Αμερικανοί και οι δυνάμεις της <span style=\"background-color:#9FE2BF \">Ελεύθερης</span> Γαλλίας είχαν ελευθερώσει τη νότια Γαλλία και <span style=\"background-color:#DFFF00 \">σειρά</span><span style=\"background-color:#DFFF00 \"> είχε</span><span style=\"background-color:#DFFF00 \"> η</span> Γερμανία."
      ],
      "text/plain": [
       "<IPython.core.display.HTML object>"
      ]
     },
     "metadata": {},
     "output_type": "display_data"
    },
    {
     "name": "stdout",
     "output_type": "stream",
     "text": [
      "____________________________________147___________________________________________________\n",
      "112\n",
      "4.87478537\n"
     ]
    },
    {
     "data": {
      "text/html": [
       " <span style=\"background-color:#e0e0e0 \">-0.96048087</span><span style=\"background-color:#DFFF00 \"> 3.9143045</span>"
      ],
      "text/plain": [
       "<IPython.core.display.HTML object>"
      ]
     },
     "metadata": {},
     "output_type": "display_data"
    },
    {
     "name": "stdout",
     "output_type": "stream",
     "text": [
      "-  --  --  --  --  --  --  --  --  --  --  --  --  --  --  --  --  --  --  --  --  --  --  --  --  -\n"
     ]
    },
    {
     "data": {
      "text/html": [
       " A civilization is a singular culture shared by a significant large group of people who live <span style=\"background-color:#DFFF00 \">and</span><span style=\"background-color:#DFFF00 \"> work</span> co-operatively, a society."
      ],
      "text/plain": [
       "<IPython.core.display.HTML object>"
      ]
     },
     "metadata": {},
     "output_type": "display_data"
    },
    {
     "data": {
      "text/html": [
       " Ο πολιτισμός είναι μια μοναδική παράδοση που μοιράζεται από μεγάλη ομάδα ανθρώπων που ζουν <span style=\"background-color:#DFFF00 \">και</span><span style=\"background-color:#DFFF00 \"> εργάζονται</span><span style=\"background-color:#DFFF00 \"> από</span> κοινού, μια κοινωνία."
      ],
      "text/plain": [
       "<IPython.core.display.HTML object>"
      ]
     },
     "metadata": {},
     "output_type": "display_data"
    },
    {
     "name": "stdout",
     "output_type": "stream",
     "text": [
      "____________________________________148___________________________________________________\n",
      "113\n",
      "11.5669804\n"
     ]
    },
    {
     "data": {
      "text/html": [
       " <span style=\"background-color:#e0e0e0 \">-15.6464</span><span style=\"background-color:#DFFF00 \"> -5.7668314</span><span style=\"background-color:#9FE2BF \"> -4.0794196</span>"
      ],
      "text/plain": [
       "<IPython.core.display.HTML object>"
      ]
     },
     "metadata": {},
     "output_type": "display_data"
    },
    {
     "name": "stdout",
     "output_type": "stream",
     "text": [
      "-  --  --  --  --  --  --  --  --  --  --  --  --  --  --  --  --  --  --  --  --  --  --  --  --  -\n"
     ]
    },
    {
     "data": {
      "text/html": [
       " City-states are the precursors of nations. A civilizational culture implies <span style=\"background-color:#DFFF00 \">the</span><span style=\"background-color:#DFFF00 \"> passing</span><span style=\"background-color:#DFFF00 \"> on</span><span style=\"background-color:#DFFF00 \"> of</span><span style=\"background-color:#DFFF00 \"> knowledge</span><span style=\"background-color:#DFFF00 \"> across</span><span style=\"background-color:#DFFF00 \"> several</span><span style=\"background-color:#DFFF00 \"> generations,</span> a <span style=\"background-color:#9FE2BF \">lingering</span> cultural footprint and fair dissemination."
      ],
      "text/plain": [
       "<IPython.core.display.HTML object>"
      ]
     },
     "metadata": {},
     "output_type": "display_data"
    },
    {
     "data": {
      "text/html": [
       " Οι πόλεις κράτη είναι οι πρόγονοι των κρατών. Μια πολιτιστική κουλτούρα συνεπάγεται <span style=\"background-color:#DFFF00 \">τη</span><span style=\"background-color:#DFFF00 \"> μετάδοση</span><span style=\"background-color:#DFFF00 \"> γνώσης</span><span style=\"background-color:#DFFF00 \"> από</span><span style=\"background-color:#DFFF00 \"> γενιά</span><span style=\"background-color:#DFFF00 \"> σε</span><span style=\"background-color:#DFFF00 \"> γενιά,</span><span style=\"background-color:#DFFF00 \"> σε</span> ένα <span style=\"background-color:#9FE2BF \">συνεχές</span> πολιτιστικό αποτύπωμα και μια εξαίσια διάδοση."
      ],
      "text/plain": [
       "<IPython.core.display.HTML object>"
      ]
     },
     "metadata": {},
     "output_type": "display_data"
    },
    {
     "name": "stdout",
     "output_type": "stream",
     "text": [
      "____________________________________149___________________________________________________\n",
      "114\n",
      "5.605270340000001\n"
     ]
    },
    {
     "data": {
      "text/html": [
       " <span style=\"background-color:#e0e0e0 \">-5.8394766</span><span style=\"background-color:#DFFF00 \"> -0.23420626</span>"
      ],
      "text/plain": [
       "<IPython.core.display.HTML object>"
      ]
     },
     "metadata": {},
     "output_type": "display_data"
    },
    {
     "name": "stdout",
     "output_type": "stream",
     "text": [
      "-  --  --  --  --  --  --  --  --  --  --  --  --  --  --  --  --  --  --  --  --  --  --  --  --  -\n"
     ]
    },
    {
     "data": {
      "text/html": [
       " During the Revolutionary War, the thirteen states first formed <span style=\"background-color:#DFFF00 \">a</span><span style=\"background-color:#DFFF00 \"> weak</span><span style=\"background-color:#DFFF00 \"> central</span><span style=\"background-color:#DFFF00 \"> government—with</span><span style=\"background-color:#DFFF00 \"> the</span><span style=\"background-color:#DFFF00 \"> Congress</span><span style=\"background-color:#DFFF00 \"> being</span><span style=\"background-color:#DFFF00 \"> its</span><span style=\"background-color:#DFFF00 \"> only</span><span style=\"background-color:#DFFF00 \"> component—under</span> the Articles of Confederation."
      ],
      "text/plain": [
       "<IPython.core.display.HTML object>"
      ]
     },
     "metadata": {},
     "output_type": "display_data"
    },
    {
     "data": {
      "text/html": [
       " Στη διάρκεια του Πολέμου της Ανεξαρτησίας, οι δεκατρείς πολιτείες στην αρχή δημιούργησαν <span style=\"background-color:#DFFF00 \">μια</span><span style=\"background-color:#DFFF00 \"> ανίσχυρη</span><span style=\"background-color:#DFFF00 \"> κεντρική</span><span style=\"background-color:#DFFF00 \"> κυβέρνηση</span><span style=\"background-color:#DFFF00 \"> -</span><span style=\"background-color:#DFFF00 \"> με</span><span style=\"background-color:#DFFF00 \"> το</span><span style=\"background-color:#DFFF00 \"> Κογκρέσο</span><span style=\"background-color:#DFFF00 \"> να</span><span style=\"background-color:#DFFF00 \"> είναι</span><span style=\"background-color:#DFFF00 \"> το</span><span style=\"background-color:#DFFF00 \"> μοναδικό</span><span style=\"background-color:#DFFF00 \"> συστατικό</span><span style=\"background-color:#DFFF00 \"> -</span><span style=\"background-color:#DFFF00 \"> με</span><span style=\"background-color:#DFFF00 \"> βάση</span> το Καταστατικό της Συνομοσπονδίας."
      ],
      "text/plain": [
       "<IPython.core.display.HTML object>"
      ]
     },
     "metadata": {},
     "output_type": "display_data"
    },
    {
     "name": "stdout",
     "output_type": "stream",
     "text": [
      "____________________________________150___________________________________________________\n",
      "115\n",
      "6.7820184\n"
     ]
    },
    {
     "data": {
      "text/html": [
       " <span style=\"background-color:#e0e0e0 \">-2.131634</span><span style=\"background-color:#DFFF00 \"> 3.4775357</span><span style=\"background-color:#9FE2BF \"> 4.500382</span><span style=\"background-color:#CCCCFF \"> 4.6503844</span>"
      ],
      "text/plain": [
       "<IPython.core.display.HTML object>"
      ]
     },
     "metadata": {},
     "output_type": "display_data"
    },
    {
     "name": "stdout",
     "output_type": "stream",
     "text": [
      "-  --  --  --  --  --  --  --  --  --  --  --  --  --  --  --  --  --  --  --  --  --  --  --  --  -\n"
     ]
    },
    {
     "data": {
      "text/html": [
       " Taiwan <span style=\"background-color:#9FE2BF \">beginning</span> start way back in 15th <span style=\"background-color:#CCCCFF \">century</span> where European sailors <span style=\"background-color:#DFFF00 \">passing</span><span style=\"background-color:#DFFF00 \"> by</span> record the island’s name as Ilha Formosa, or beautiful island."
      ],
      "text/plain": [
       "<IPython.core.display.HTML object>"
      ]
     },
     "metadata": {},
     "output_type": "display_data"
    },
    {
     "data": {
      "text/html": [
       " Η <span style=\"background-color:#9FE2BF \">αρχή</span><span style=\"background-color:#9FE2BF \"> της</span> Ταϊβάν χάνεται πίσω στο παρελθόν, τον 15ο <span style=\"background-color:#CCCCFF \">αιώνα,</span> όπου οι περαστικοί Ευρωπαίοι ναυτικοί έθεσαν την ονομασία της νήσου ως Ilha Formosa, δηλαδή όμορφο νησί."
      ],
      "text/plain": [
       "<IPython.core.display.HTML object>"
      ]
     },
     "metadata": {},
     "output_type": "display_data"
    },
    {
     "name": "stdout",
     "output_type": "stream",
     "text": [
      "____________________________________151___________________________________________________\n",
      "116\n",
      "3.51467636\n"
     ]
    },
    {
     "data": {
      "text/html": [
       " <span style=\"background-color:#e0e0e0 \">-0.54098916</span><span style=\"background-color:#DFFF00 \"> 2.6158953</span><span style=\"background-color:#9FE2BF \"> 2.9736872</span>"
      ],
      "text/plain": [
       "<IPython.core.display.HTML object>"
      ]
     },
     "metadata": {},
     "output_type": "display_data"
    },
    {
     "name": "stdout",
     "output_type": "stream",
     "text": [
      "-  --  --  --  --  --  --  --  --  --  --  --  --  --  --  --  --  --  --  --  --  --  --  --  --  -\n"
     ]
    },
    {
     "data": {
      "text/html": [
       " In 1683, Qing dynasty (1644-1912) forces take control <span style=\"background-color:#DFFF00 \">of</span><span style=\"background-color:#DFFF00 \"> Taiwan’s</span> western and northern <span style=\"background-color:#9FE2BF \">coastal</span><span style=\"background-color:#9FE2BF \"> areas</span><span style=\"background-color:#9FE2BF \"> and</span><span style=\"background-color:#9FE2BF \"> declared</span> Taiwan as a province of the Qing Empire in 1885."
      ],
      "text/plain": [
       "<IPython.core.display.HTML object>"
      ]
     },
     "metadata": {},
     "output_type": "display_data"
    },
    {
     "data": {
      "text/html": [
       " Το 1683, η δυναστεία Τσινγκ (1644-1912) κυριαρχούσε <span style=\"background-color:#DFFF00 \">στα</span> δυτικά και βόρεια της Ταϊβάν <span style=\"background-color:#9FE2BF \">που</span> την έκαναν διοικητική περιφέρεια της αυτοκρατορίας τους το 1885."
      ],
      "text/plain": [
       "<IPython.core.display.HTML object>"
      ]
     },
     "metadata": {},
     "output_type": "display_data"
    },
    {
     "name": "stdout",
     "output_type": "stream",
     "text": [
      "____________________________________152___________________________________________________\n",
      "117\n",
      "25.647382999999998\n"
     ]
    },
    {
     "data": {
      "text/html": [
       " <span style=\"background-color:#e0e0e0 \">-15.589333</span><span style=\"background-color:#DFFF00 \"> 6.7363524</span><span style=\"background-color:#9FE2BF \"> 10.05805</span>"
      ],
      "text/plain": [
       "<IPython.core.display.HTML object>"
      ]
     },
     "metadata": {},
     "output_type": "display_data"
    },
    {
     "name": "stdout",
     "output_type": "stream",
     "text": [
      "-  --  --  --  --  --  --  --  --  --  --  --  --  --  --  --  --  --  --  --  --  --  --  --  --  -\n"
     ]
    },
    {
     "data": {
      "text/html": [
       " <span style=\"background-color:#DFFF00 \">In</span><span style=\"background-color:#DFFF00 \"> 1895,</span><span style=\"background-color:#DFFF00 \"> after</span><span style=\"background-color:#DFFF00 \"> defeat</span><span style=\"background-color:#DFFF00 \"> in</span><span style=\"background-color:#DFFF00 \"> the</span><span style=\"background-color:#DFFF00 \"> First</span><span style=\"background-color:#DFFF00 \"> Sino-Japanese</span><span style=\"background-color:#DFFF00 \"> War</span><span style=\"background-color:#DFFF00 \"> (1894-1895),</span> the Qing government signs the Treaty of Shimonoseki, by which it cedes sovereignty over Taiwan to Japan, <span style=\"background-color:#9FE2BF \">which</span><span style=\"background-color:#9FE2BF \"> rules</span><span style=\"background-color:#9FE2BF \"> the</span><span style=\"background-color:#9FE2BF \"> island</span> until 1945."
      ],
      "text/plain": [
       "<IPython.core.display.HTML object>"
      ]
     },
     "metadata": {},
     "output_type": "display_data"
    },
    {
     "data": {
      "text/html": [
       " <span style=\"background-color:#DFFF00 \">Αφού</span><span style=\"background-color:#DFFF00 \"> έχασε</span><span style=\"background-color:#DFFF00 \"> στον</span><span style=\"background-color:#DFFF00 \"> Α΄</span><span style=\"background-color:#DFFF00 \"> Σινοϊαπωνικό</span><span style=\"background-color:#DFFF00 \"> Αγώνα</span><span style=\"background-color:#DFFF00 \"> (1984-1985),</span> η Δυναστεία Τσινγκ κλείνει τότε τη Συνθήκη Shimonoseki, <span style=\"background-color:#9FE2BF \">όπου</span><span style=\"background-color:#9FE2BF \"> η</span> Ταϊβάν περνά στα χέρια των Ιαπώνων, έως το 1945."
      ],
      "text/plain": [
       "<IPython.core.display.HTML object>"
      ]
     },
     "metadata": {},
     "output_type": "display_data"
    },
    {
     "name": "stdout",
     "output_type": "stream",
     "text": [
      "____________________________________153___________________________________________________\n",
      "118\n",
      "6.8928763\n"
     ]
    },
    {
     "data": {
      "text/html": [
       " <span style=\"background-color:#e0e0e0 \">-0.5635687</span><span style=\"background-color:#DFFF00 \"> 6.3293076</span>"
      ],
      "text/plain": [
       "<IPython.core.display.HTML object>"
      ]
     },
     "metadata": {},
     "output_type": "display_data"
    },
    {
     "name": "stdout",
     "output_type": "stream",
     "text": [
      "-  --  --  --  --  --  --  --  --  --  --  --  --  --  --  --  --  --  --  --  --  --  --  --  --  -\n"
     ]
    },
    {
     "data": {
      "text/html": [
       " Most of the buildings <span style=\"background-color:#DFFF00 \">on</span><span style=\"background-color:#DFFF00 \"> the</span><span style=\"background-color:#DFFF00 \"> edges</span> of the complex have been rebuilt in order to give tourists a better idea of how they originally appeared."
      ],
      "text/plain": [
       "<IPython.core.display.HTML object>"
      ]
     },
     "metadata": {},
     "output_type": "display_data"
    },
    {
     "data": {
      "text/html": [
       " Τα περισσότερα από τα κτίρια του συγκροτήματος έχουν χτιστεί από την αρχή προκειμένου να δώσουν μια καλύτερη ιδέα στους τουρίστες για το πώς ήταν η αρχική τους όψη."
      ],
      "text/plain": [
       "<IPython.core.display.HTML object>"
      ]
     },
     "metadata": {},
     "output_type": "display_data"
    },
    {
     "name": "stdout",
     "output_type": "stream",
     "text": [
      "____________________________________154___________________________________________________\n",
      "119\n",
      "11.0631207\n"
     ]
    },
    {
     "data": {
      "text/html": [
       " <span style=\"background-color:#e0e0e0 \">-14.642639</span><span style=\"background-color:#DFFF00 \"> -3.5795183</span>"
      ],
      "text/plain": [
       "<IPython.core.display.HTML object>"
      ]
     },
     "metadata": {},
     "output_type": "display_data"
    },
    {
     "name": "stdout",
     "output_type": "stream",
     "text": [
      "-  --  --  --  --  --  --  --  --  --  --  --  --  --  --  --  --  --  --  --  --  --  --  --  --  -\n"
     ]
    },
    {
     "data": {
      "text/html": [
       " By 1976, <span style=\"background-color:#DFFF00 \">thirty</span><span style=\"background-color:#DFFF00 \"> percent</span><span style=\"background-color:#DFFF00 \"> of</span> Machu Picchu had been restored and restoration continues till today."
      ],
      "text/plain": [
       "<IPython.core.display.HTML object>"
      ]
     },
     "metadata": {},
     "output_type": "display_data"
    },
    {
     "data": {
      "text/html": [
       " Το <span style=\"background-color:#DFFF00 \">30%</span><span style=\"background-color:#DFFF00 \"> του</span> Μάτσου Πίτσου είχε αποκατασταθεί μέχρι το 1976 και η αποκατάστασή του συνεχίζεται έως τις μέρες μας."
      ],
      "text/plain": [
       "<IPython.core.display.HTML object>"
      ]
     },
     "metadata": {},
     "output_type": "display_data"
    },
    {
     "name": "stdout",
     "output_type": "stream",
     "text": [
      "____________________________________155___________________________________________________\n",
      "120\n",
      "2.9434149000000005\n"
     ]
    },
    {
     "data": {
      "text/html": [
       " <span style=\"background-color:#e0e0e0 \">-4.136744</span><span style=\"background-color:#DFFF00 \"> -1.1933291</span>"
      ],
      "text/plain": [
       "<IPython.core.display.HTML object>"
      ]
     },
     "metadata": {},
     "output_type": "display_data"
    },
    {
     "name": "stdout",
     "output_type": "stream",
     "text": [
      "-  --  --  --  --  --  --  --  --  --  --  --  --  --  --  --  --  --  --  --  --  --  --  --  --  -\n"
     ]
    },
    {
     "data": {
      "text/html": [
       " Many common formats (APS family of formats, for example) are equal to or closely approximate this <span style=\"background-color:#DFFF00 \">aspect</span><span style=\"background-color:#DFFF00 \"> ratio.</span>"
      ],
      "text/plain": [
       "<IPython.core.display.HTML object>"
      ]
     },
     "metadata": {},
     "output_type": "display_data"
    },
    {
     "data": {
      "text/html": [
       " Πολλές συνηθισμένες μορφές (η κατηγορία μορφών APS, για παράδειγμα) είναι ίσες ή προσεγγίζουν στενά αυτές <span style=\"background-color:#DFFF00 \">τις</span><span style=\"background-color:#DFFF00 \"> αναλογίες</span><span style=\"background-color:#DFFF00 \"> εικόνας.</span>"
      ],
      "text/plain": [
       "<IPython.core.display.HTML object>"
      ]
     },
     "metadata": {},
     "output_type": "display_data"
    },
    {
     "name": "stdout",
     "output_type": "stream",
     "text": [
      "____________________________________156___________________________________________________\n",
      "121\n",
      "16.286088\n"
     ]
    },
    {
     "data": {
      "text/html": [
       " <span style=\"background-color:#e0e0e0 \">-4.257152</span><span style=\"background-color:#DFFF00 \"> 9.608915</span><span style=\"background-color:#9FE2BF \"> 12.028936</span>"
      ],
      "text/plain": [
       "<IPython.core.display.HTML object>"
      ]
     },
     "metadata": {},
     "output_type": "display_data"
    },
    {
     "name": "stdout",
     "output_type": "stream",
     "text": [
      "-  --  --  --  --  --  --  --  --  --  --  --  --  --  --  --  --  --  --  --  --  --  --  --  --  -\n"
     ]
    },
    {
     "data": {
      "text/html": [
       " For over a thousand years the Christian religion had bound European states together despite differences in language <span style=\"background-color:#DFFF00 \">and</span><span style=\"background-color:#DFFF00 \"> customs.</span><span style=\"background-color:#DFFF00 \"> I</span>"
      ],
      "text/plain": [
       "<IPython.core.display.HTML object>"
      ]
     },
     "metadata": {},
     "output_type": "display_data"
    },
    {
     "data": {
      "text/html": [
       " Για περισσότερα από χίλια χρόνια, η χριστιανική θρησκεία έχει δημιουργήσει αδιάρρηκτους δεσμούς ανάμεσα στα ευρωπαϊκά κράτη παρά <span style=\"background-color:#9FE2BF \">τις</span><span style=\"background-color:#9FE2BF \"> όποιες</span> διαφορές στη γλώσσα <span style=\"background-color:#DFFF00 \">και</span><span style=\"background-color:#DFFF00 \"> τα</span><span style=\"background-color:#DFFF00 \"> έθιμα.</span>"
      ],
      "text/plain": [
       "<IPython.core.display.HTML object>"
      ]
     },
     "metadata": {},
     "output_type": "display_data"
    },
    {
     "name": "stdout",
     "output_type": "stream",
     "text": [
      "____________________________________158___________________________________________________\n",
      "122\n",
      "1.7777000000000012\n"
     ]
    },
    {
     "data": {
      "text/html": [
       " <span style=\"background-color:#e0e0e0 \">-12.00013</span><span style=\"background-color:#DFFF00 \"> -10.22243</span>"
      ],
      "text/plain": [
       "<IPython.core.display.HTML object>"
      ]
     },
     "metadata": {},
     "output_type": "display_data"
    },
    {
     "name": "stdout",
     "output_type": "stream",
     "text": [
      "-  --  --  --  --  --  --  --  --  --  --  --  --  --  --  --  --  --  --  --  --  --  --  --  --  -\n"
     ]
    },
    {
     "data": {
      "text/html": [
       " Soon after the outbreak of hostilities, Britain initiated a naval blockade of Germany."
      ],
      "text/plain": [
       "<IPython.core.display.HTML object>"
      ]
     },
     "metadata": {},
     "output_type": "display_data"
    },
    {
     "data": {
      "text/html": [
       " Η Μεγάλη Βρετανία άρχισε να εμποδίζει τη Γερμανία <span style=\"background-color:#DFFF00 \">από</span><span style=\"background-color:#DFFF00 \"> τη</span><span style=\"background-color:#DFFF00 \"> θάλασσα,</span> αμέσως έπειτα από την αρχή των επιθέσεων."
      ],
      "text/plain": [
       "<IPython.core.display.HTML object>"
      ]
     },
     "metadata": {},
     "output_type": "display_data"
    },
    {
     "name": "stdout",
     "output_type": "stream",
     "text": [
      "____________________________________159___________________________________________________\n",
      "123\n",
      "3.5308312999999996\n"
     ]
    },
    {
     "data": {
      "text/html": [
       " <span style=\"background-color:#e0e0e0 \">-6.297229</span><span style=\"background-color:#DFFF00 \"> -2.7663977</span>"
      ],
      "text/plain": [
       "<IPython.core.display.HTML object>"
      ]
     },
     "metadata": {},
     "output_type": "display_data"
    },
    {
     "name": "stdout",
     "output_type": "stream",
     "text": [
      "-  --  --  --  --  --  --  --  --  --  --  --  --  --  --  --  --  --  --  --  --  --  --  --  --  -\n"
     ]
    },
    {
     "data": {
      "text/html": [
       " The Three Kingdoms was one of the bloodiest eras in Ancient China’s history thousands of people <span style=\"background-color:#DFFF00 \">died</span><span style=\"background-color:#DFFF00 \"> fighting</span><span style=\"background-color:#DFFF00 \"> to</span><span style=\"background-color:#DFFF00 \"> sit</span><span style=\"background-color:#DFFF00 \"> in</span><span style=\"background-color:#DFFF00 \"> the</span><span style=\"background-color:#DFFF00 \"> highest</span> seat in the grand palace at Xi’an."
      ],
      "text/plain": [
       "<IPython.core.display.HTML object>"
      ]
     },
     "metadata": {},
     "output_type": "display_data"
    },
    {
     "data": {
      "text/html": [
       " Τα Τρία Βασίλεια ήταν μια από τις πιο αιματηρές περιόδους στην ιστορία της αρχαίας Κίνας, καθώς χιλιάδες άνθρωποι <span style=\"background-color:#DFFF00 \">έχασαν</span><span style=\"background-color:#DFFF00 \"> τη</span><span style=\"background-color:#DFFF00 \"> ζωή</span><span style=\"background-color:#DFFF00 \"> τους</span><span style=\"background-color:#DFFF00 \"> πολεμώντας</span><span style=\"background-color:#DFFF00 \"> για</span> τον θρόνο του μεγάλου παλατιού στη Σιάν."
      ],
      "text/plain": [
       "<IPython.core.display.HTML object>"
      ]
     },
     "metadata": {},
     "output_type": "display_data"
    },
    {
     "name": "stdout",
     "output_type": "stream",
     "text": [
      "____________________________________160___________________________________________________\n",
      "124\n",
      "5.939620700000001\n"
     ]
    },
    {
     "data": {
      "text/html": [
       " <span style=\"background-color:#e0e0e0 \">-9.206136</span><span style=\"background-color:#DFFF00 \"> -5.0776076</span><span style=\"background-color:#9FE2BF \"> -3.2665153</span>"
      ],
      "text/plain": [
       "<IPython.core.display.HTML object>"
      ]
     },
     "metadata": {},
     "output_type": "display_data"
    },
    {
     "name": "stdout",
     "output_type": "stream",
     "text": [
      "-  --  --  --  --  --  --  --  --  --  --  --  --  --  --  --  --  --  --  --  --  --  --  --  --  -\n"
     ]
    },
    {
     "data": {
      "text/html": [
       " Also after the Revolution occupations were open to all male applicants <span style=\"background-color:#DFFF00 \">allowing</span><span style=\"background-color:#DFFF00 \"> the</span> most ambitious and successful <span style=\"background-color:#9FE2BF \">to</span><span style=\"background-color:#9FE2BF \"> succeed.</span>"
      ],
      "text/plain": [
       "<IPython.core.display.HTML object>"
      ]
     },
     "metadata": {},
     "output_type": "display_data"
    },
    {
     "data": {
      "text/html": [
       " Επίσης, μετά την Επανάσταση τα επαγγέλματα ήταν προσβάσιμα σε όλους τους άνδρες αιτούντες <span style=\"background-color:#DFFF00 \">εργασία,</span><span style=\"background-color:#DFFF00 \"> δίνοντας</span><span style=\"background-color:#DFFF00 \"> τη</span><span style=\"background-color:#DFFF00 \"> δυνατότητα</span><span style=\"background-color:#DFFF00 \"> στους</span> πιο φιλόδοξους και πετυχημένους <span style=\"background-color:#9FE2BF \">να</span><span style=\"background-color:#9FE2BF \"> πετύχουν.</span>"
      ],
      "text/plain": [
       "<IPython.core.display.HTML object>"
      ]
     },
     "metadata": {},
     "output_type": "display_data"
    },
    {
     "name": "stdout",
     "output_type": "stream",
     "text": [
      "____________________________________161___________________________________________________\n",
      "125\n",
      "1.4120439999999999\n"
     ]
    },
    {
     "data": {
      "text/html": [
       " <span style=\"background-color:#e0e0e0 \">-12.193438</span><span style=\"background-color:#DFFF00 \"> -10.781394</span>"
      ],
      "text/plain": [
       "<IPython.core.display.HTML object>"
      ]
     },
     "metadata": {},
     "output_type": "display_data"
    },
    {
     "name": "stdout",
     "output_type": "stream",
     "text": [
      "-  --  --  --  --  --  --  --  --  --  --  --  --  --  --  --  --  --  --  --  --  --  --  --  --  -\n"
     ]
    },
    {
     "data": {
      "text/html": [
       " Same goes for the military because instead of army <span style=\"background-color:#DFFF00 \">rankings</span><span style=\"background-color:#DFFF00 \"> being</span> based on class they were now based on cailaber."
      ],
      "text/plain": [
       "<IPython.core.display.HTML object>"
      ]
     },
     "metadata": {},
     "output_type": "display_data"
    },
    {
     "data": {
      "text/html": [
       " Το ίδιο ίσχυε και για το στρατό, καθώς αντί να <span style=\"background-color:#DFFF00 \">γίνεται</span><span style=\"background-color:#DFFF00 \"> η</span><span style=\"background-color:#DFFF00 \"> κατάταξη</span> βάσει κατηγορίας, πλέον γινόταν βάσει διαμετρήματος."
      ],
      "text/plain": [
       "<IPython.core.display.HTML object>"
      ]
     },
     "metadata": {},
     "output_type": "display_data"
    },
    {
     "name": "stdout",
     "output_type": "stream",
     "text": [
      "____________________________________162___________________________________________________\n",
      "126\n",
      "16.518113500000002\n"
     ]
    },
    {
     "data": {
      "text/html": [
       " <span style=\"background-color:#e0e0e0 \">-0.6071405</span><span style=\"background-color:#DFFF00 \"> 12.843068</span><span style=\"background-color:#9FE2BF \"> 15.818608</span><span style=\"background-color:#CCCCFF \"> 15.910973</span>"
      ],
      "text/plain": [
       "<IPython.core.display.HTML object>"
      ]
     },
     "metadata": {},
     "output_type": "display_data"
    },
    {
     "name": "stdout",
     "output_type": "stream",
     "text": [
      "-  --  --  --  --  --  --  --  --  --  --  --  --  --  --  --  --  --  --  --  --  --  --  --  --  -\n"
     ]
    },
    {
     "data": {
      "text/html": [
       " Muhammad was deeply interested in matters beyond this <span style=\"background-color:#CCCCFF \">mundane</span> life. <span style=\"background-color:#9FE2BF \">He</span><span style=\"background-color:#9FE2BF \"> used</span><span style=\"background-color:#9FE2BF \"> to</span><span style=\"background-color:#9FE2BF \"> frequent</span><span style=\"background-color:#9FE2BF \"> a</span><span style=\"background-color:#9FE2BF \"> cave</span> that became known as <span style=\"background-color:#DFFF00 \">“Hira‘”</span><span style=\"background-color:#DFFF00 \"> on</span><span style=\"background-color:#DFFF00 \"> the</span><span style=\"background-color:#DFFF00 \"> Mountain</span><span style=\"background-color:#DFFF00 \"> of</span><span style=\"background-color:#DFFF00 \"> “Noor”</span> (light) for contemplation."
      ],
      "text/plain": [
       "<IPython.core.display.HTML object>"
      ]
     },
     "metadata": {},
     "output_type": "display_data"
    },
    {
     "data": {
      "text/html": [
       " Ο Μοχάμεντ ενδιαφερόταν έντονα για ζητήματα πέρα από την <span style=\"background-color:#CCCCFF \">κοσμική</span> αυτή ζωή. <span style=\"background-color:#9FE2BF \">Συχνά</span><span style=\"background-color:#9FE2BF \"> επισκεπτόταν</span><span style=\"background-color:#9FE2BF \"> μια</span><span style=\"background-color:#9FE2BF \"> σπηλιά</span> που έγινε γνωστή ως <span style=\"background-color:#DFFF00 \">«Χίρα»</span><span style=\"background-color:#DFFF00 \"> στο</span><span style=\"background-color:#DFFF00 \"> βουνό</span><span style=\"background-color:#DFFF00 \"> «Νουρ»</span> (φως) για περισυλλογή."
      ],
      "text/plain": [
       "<IPython.core.display.HTML object>"
      ]
     },
     "metadata": {},
     "output_type": "display_data"
    },
    {
     "name": "stdout",
     "output_type": "stream",
     "text": [
      "____________________________________163___________________________________________________\n",
      "127\n",
      "5.196834000000001\n"
     ]
    },
    {
     "data": {
      "text/html": [
       " <span style=\"background-color:#e0e0e0 \">-15.679907</span><span style=\"background-color:#DFFF00 \"> -10.885544</span><span style=\"background-color:#9FE2BF \"> -10.483073</span>"
      ],
      "text/plain": [
       "<IPython.core.display.HTML object>"
      ]
     },
     "metadata": {},
     "output_type": "display_data"
    },
    {
     "name": "stdout",
     "output_type": "stream",
     "text": [
      "-  --  --  --  --  --  --  --  --  --  --  --  --  --  --  --  --  --  --  --  --  --  --  --  --  -\n"
     ]
    },
    {
     "data": {
      "text/html": [
       " <span style=\"background-color:#DFFF00 \">he</span> cave itself, which survived the times, <span style=\"background-color:#9FE2BF \">gives</span><span style=\"background-color:#9FE2BF \"> a</span> very vivid image of Muhammad’s spiritual inclinations."
      ],
      "text/plain": [
       "<IPython.core.display.HTML object>"
      ]
     },
     "metadata": {},
     "output_type": "display_data"
    },
    {
     "data": {
      "text/html": [
       " <span style=\"background-color:#DFFF00 \">Η</span><span style=\"background-color:#DFFF00 \"> ίδια</span> η σπηλιά, όπου επέζησε στον χρόνο, <span style=\"background-color:#9FE2BF \">παρέχει</span><span style=\"background-color:#9FE2BF \"> μια</span> πολύ ζωηρή εικόνα της πνευματικής κλίσης του Μωάμεθ."
      ],
      "text/plain": [
       "<IPython.core.display.HTML object>"
      ]
     },
     "metadata": {},
     "output_type": "display_data"
    },
    {
     "name": "stdout",
     "output_type": "stream",
     "text": [
      "____________________________________164___________________________________________________\n",
      "128\n",
      "6.3262613\n"
     ]
    },
    {
     "data": {
      "text/html": [
       " <span style=\"background-color:#e0e0e0 \">-9.278775</span><span style=\"background-color:#DFFF00 \"> -5.502014</span><span style=\"background-color:#9FE2BF \"> -2.9525137</span>"
      ],
      "text/plain": [
       "<IPython.core.display.HTML object>"
      ]
     },
     "metadata": {},
     "output_type": "display_data"
    },
    {
     "name": "stdout",
     "output_type": "stream",
     "text": [
      "-  --  --  --  --  --  --  --  --  --  --  --  --  --  --  --  --  --  --  --  --  --  --  --  --  -\n"
     ]
    },
    {
     "data": {
      "text/html": [
       " Resting on the top of one of the mountains north of Mecca, <span style=\"background-color:#9FE2BF \">the</span> cave is completely isolated from <span style=\"background-color:#DFFF00 \">the</span><span style=\"background-color:#DFFF00 \"> rest</span><span style=\"background-color:#DFFF00 \"> of</span> the world."
      ],
      "text/plain": [
       "<IPython.core.display.HTML object>"
      ]
     },
     "metadata": {},
     "output_type": "display_data"
    },
    {
     "data": {
      "text/html": [
       " <span style=\"background-color:#9FE2BF \">Η</span> σπηλιά είναι μακριά από τον κόσμο καθώς βρίσκεται στην άκρη ενός λόφου βόρεια από τη Μέκκα."
      ],
      "text/plain": [
       "<IPython.core.display.HTML object>"
      ]
     },
     "metadata": {},
     "output_type": "display_data"
    },
    {
     "name": "stdout",
     "output_type": "stream",
     "text": [
      "____________________________________165___________________________________________________\n",
      "129\n",
      "2.4828913000000004\n"
     ]
    },
    {
     "data": {
      "text/html": [
       " <span style=\"background-color:#e0e0e0 \">-9.683809</span><span style=\"background-color:#DFFF00 \"> -8.092105</span><span style=\"background-color:#9FE2BF \"> -7.2009177</span>"
      ],
      "text/plain": [
       "<IPython.core.display.HTML object>"
      ]
     },
     "metadata": {},
     "output_type": "display_data"
    },
    {
     "name": "stdout",
     "output_type": "stream",
     "text": [
      "-  --  --  --  --  --  --  --  --  --  --  --  --  --  --  --  --  --  --  --  --  --  --  --  --  -\n"
     ]
    },
    {
     "data": {
      "text/html": [
       " Feel free to pencil in your own marks, but remember the printed bowing marks <span style=\"background-color:#DFFF00 \">are</span><span style=\"background-color:#DFFF00 \"> there</span><span style=\"background-color:#DFFF00 \"> for</span><span style=\"background-color:#DFFF00 \"> a</span> musical reason, so they should <span style=\"background-color:#9FE2BF \">usually</span> be respected."
      ],
      "text/plain": [
       "<IPython.core.display.HTML object>"
      ]
     },
     "metadata": {},
     "output_type": "display_data"
    },
    {
     "data": {
      "text/html": [
       " Είστε ελεύθεροι να βάλετε τα δικά σας σημάδια, όμως λάβετε <span style=\"background-color:#DFFF00 \">υπόψη</span><span style=\"background-color:#DFFF00 \"> ότι</span><span style=\"background-color:#DFFF00 \"> αυτά</span><span style=\"background-color:#DFFF00 \"> που</span><span style=\"background-color:#DFFF00 \"> υπάρχουν</span><span style=\"background-color:#DFFF00 \"> επιτελούν</span><span style=\"background-color:#DFFF00 \"> κάποια</span> μουσική λειτουργία, επομένως <span style=\"background-color:#9FE2BF \">χρειάζεται</span><span style=\"background-color:#9FE2BF \"> συχνά</span> να λαμβάνονται υπόψη."
      ],
      "text/plain": [
       "<IPython.core.display.HTML object>"
      ]
     },
     "metadata": {},
     "output_type": "display_data"
    },
    {
     "name": "stdout",
     "output_type": "stream",
     "text": [
      "____________________________________166___________________________________________________\n",
      "130\n",
      "10.833289999999998\n"
     ]
    },
    {
     "data": {
      "text/html": [
       " <span style=\"background-color:#e0e0e0 \">-8.649966</span><span style=\"background-color:#DFFF00 \"> -0.07248257</span><span style=\"background-color:#9FE2BF \"> 1.8374721</span><span style=\"background-color:#CCCCFF \"> 2.183324</span>"
      ],
      "text/plain": [
       "<IPython.core.display.HTML object>"
      ]
     },
     "metadata": {},
     "output_type": "display_data"
    },
    {
     "name": "stdout",
     "output_type": "stream",
     "text": [
      "-  --  --  --  --  --  --  --  --  --  --  --  --  --  --  --  --  --  --  --  --  --  --  --  --  -\n"
     ]
    },
    {
     "data": {
      "text/html": [
       " The terrified <span style=\"background-color:#DFFF00 \">King</span><span style=\"background-color:#DFFF00 \"> Louis</span><span style=\"background-color:#DFFF00 \"> XVI,</span><span style=\"background-color:#DFFF00 \"> Queen</span><span style=\"background-color:#DFFF00 \"> Marie</span><span style=\"background-color:#DFFF00 \"> Antoinette</span><span style=\"background-color:#DFFF00 \"> their</span> two young children (11 year old Marie Therese and four year old Louis-Charles) and the King's sister, Madam Elizabeth, on the 6th October 1789 were forced back to Paris <span style=\"background-color:#9FE2BF \">from</span><span style=\"background-color:#9FE2BF \"> Versailles</span> by a mob <span style=\"background-color:#CCCCFF \">of</span><span style=\"background-color:#CCCCFF \"> market</span> women."
      ],
      "text/plain": [
       "<IPython.core.display.HTML object>"
      ]
     },
     "metadata": {},
     "output_type": "display_data"
    },
    {
     "data": {
      "text/html": [
       " Στις 6 Οκτωβρίου 1789, ένας όχλος γυναικών της αγοράς ανάγκασαν τον <span style=\"background-color:#DFFF00 \">βασιλιά</span><span style=\"background-color:#DFFF00 \"> Λουδοβίκο</span><span style=\"background-color:#DFFF00 \"> ΙΣΤ΄,</span><span style=\"background-color:#DFFF00 \"> τη</span><span style=\"background-color:#DFFF00 \"> βασίλισσα</span><span style=\"background-color:#DFFF00 \"> Μαρία</span><span style=\"background-color:#DFFF00 \"> Αντουανέτα,</span><span style=\"background-color:#DFFF00 \"> τα</span> δύο μικρά παιδιά τους (την εντεκάχρονη Μαρία Θηρεσία και τον τετράχρονο Λουδοβίκο Κάρολο) και την αδερφή του βασιλιά, Κυρία Ελισάβετ, οι οποίοι είχαν τρομοκρατηθεί, να <span style=\"background-color:#9FE2BF \">επιστρέψουν</span><span style=\"background-color:#9FE2BF \"> από</span><span style=\"background-color:#9FE2BF \"> τις</span> Βερσαλλίες στο Παρίσι."
      ],
      "text/plain": [
       "<IPython.core.display.HTML object>"
      ]
     },
     "metadata": {},
     "output_type": "display_data"
    },
    {
     "name": "stdout",
     "output_type": "stream",
     "text": [
      "____________________________________167___________________________________________________\n",
      "131\n",
      "0.34639299999999906\n"
     ]
    },
    {
     "data": {
      "text/html": [
       " <span style=\"background-color:#e0e0e0 \">-10.671437</span><span style=\"background-color:#DFFF00 \"> -10.325044</span>"
      ],
      "text/plain": [
       "<IPython.core.display.HTML object>"
      ]
     },
     "metadata": {},
     "output_type": "display_data"
    },
    {
     "name": "stdout",
     "output_type": "stream",
     "text": [
      "-  --  --  --  --  --  --  --  --  --  --  --  --  --  --  --  --  --  --  --  --  --  --  --  --  -\n"
     ]
    },
    {
     "data": {
      "text/html": [
       " The mob of people forced the King <span style=\"background-color:#DFFF00 \">And</span> Queen to have their carriage windows wide open."
      ],
      "text/plain": [
       "<IPython.core.display.HTML object>"
      ]
     },
     "metadata": {},
     "output_type": "display_data"
    },
    {
     "data": {
      "text/html": [
       " Το πλήθος ανάγκασε τον Βασιλιά <span style=\"background-color:#DFFF00 \">και</span> τη Βασίλισσα να ανοίξουν διάπλατα τα παράθυρα της άμαξάς τους."
      ],
      "text/plain": [
       "<IPython.core.display.HTML object>"
      ]
     },
     "metadata": {},
     "output_type": "display_data"
    },
    {
     "name": "stdout",
     "output_type": "stream",
     "text": [
      "____________________________________168___________________________________________________\n",
      "132\n",
      "29.476355\n"
     ]
    },
    {
     "data": {
      "text/html": [
       " <span style=\"background-color:#e0e0e0 \">-13.962694</span><span style=\"background-color:#DFFF00 \"> 11.366595</span><span style=\"background-color:#9FE2BF \"> 14.300017</span><span style=\"background-color:#CCCCFF \"> 15.430008</span><span style=\"background-color:#FFE4E1 \"> 15.513661</span>"
      ],
      "text/plain": [
       "<IPython.core.display.HTML object>"
      ]
     },
     "metadata": {},
     "output_type": "display_data"
    },
    {
     "name": "stdout",
     "output_type": "stream",
     "text": [
      "-  --  --  --  --  --  --  --  --  --  --  --  --  --  --  --  --  --  --  --  --  --  --  --  --  -\n"
     ]
    },
    {
     "data": {
      "text/html": [
       " <span style=\"background-color:#CCCCFF \">The</span> age where the events took place is commonly referred as <span style=\"background-color:#9FE2BF \">the</span><span style=\"background-color:#9FE2BF \"> High</span><span style=\"background-color:#9FE2BF \"> Middle</span><span style=\"background-color:#9FE2BF \"> Ages</span> the period of European history in the 11th, 12th, and <span style=\"background-color:#FFE4E1 \">13th</span> centuries <span style=\"background-color:#DFFF00 \">(AD</span><span style=\"background-color:#DFFF00 \"> 1000–1300).</span>"
      ],
      "text/plain": [
       "<IPython.core.display.HTML object>"
      ]
     },
     "metadata": {},
     "output_type": "display_data"
    },
    {
     "data": {
      "text/html": [
       " <span style=\"background-color:#CCCCFF \">Η</span> εποχή που συνέβησαν τα γεγονότα αποκαλείται συχνά ως <span style=\"background-color:#9FE2BF \">ο</span><span style=\"background-color:#9FE2BF \"> Ύστερος</span><span style=\"background-color:#9FE2BF \"> Μεσαίωνας,</span> η περίοδος της ευρωπαϊκής ιστορίας τον 11ο, 12ο και <span style=\"background-color:#FFE4E1 \">13ο</span> αιώνα <span style=\"background-color:#DFFF00 \">(1.000-1.300</span><span style=\"background-color:#DFFF00 \"> μ.Χ.).</span>"
      ],
      "text/plain": [
       "<IPython.core.display.HTML object>"
      ]
     },
     "metadata": {},
     "output_type": "display_data"
    },
    {
     "name": "stdout",
     "output_type": "stream",
     "text": [
      "____________________________________169___________________________________________________\n",
      "133\n",
      "17.3267216\n"
     ]
    },
    {
     "data": {
      "text/html": [
       " <span style=\"background-color:#e0e0e0 \">-1.8333026</span><span style=\"background-color:#DFFF00 \"> 15.389582</span><span style=\"background-color:#9FE2BF \"> 15.493419</span>"
      ],
      "text/plain": [
       "<IPython.core.display.HTML object>"
      ]
     },
     "metadata": {},
     "output_type": "display_data"
    },
    {
     "name": "stdout",
     "output_type": "stream",
     "text": [
      "-  --  --  --  --  --  --  --  --  --  --  --  --  --  --  --  --  --  --  --  --  --  --  --  --  -\n"
     ]
    },
    {
     "data": {
      "text/html": [
       " Its status declined during the twelfth century mainly due to the fact that Crusaders had <span style=\"background-color:#DFFF00 \">returned</span><span style=\"background-color:#DFFF00 \"> bearing</span> gifts such as <span style=\"background-color:#9FE2BF \">silks</span><span style=\"background-color:#9FE2BF \"> and</span> spices that were valued more than what Byzantine markets offered."
      ],
      "text/plain": [
       "<IPython.core.display.HTML object>"
      ]
     },
     "metadata": {},
     "output_type": "display_data"
    },
    {
     "data": {
      "text/html": [
       " Το πρεστίζ του μειώθηκε τον δωδέκατο αιώνα, βασικά εξαιτίας των σταυροφόρων οι οποίοι έφεραν <span style=\"background-color:#DFFF00 \">πίσω</span> υλικά όπως <span style=\"background-color:#9FE2BF \">το</span><span style=\"background-color:#9FE2BF \"> μετάξι</span><span style=\"background-color:#9FE2BF \"> και</span> τα μπαχαρικά, που είχαν υψηλότερη αξία από τα προϊόντα των αγορών του Βυζαντίου."
      ],
      "text/plain": [
       "<IPython.core.display.HTML object>"
      ]
     },
     "metadata": {},
     "output_type": "display_data"
    },
    {
     "name": "stdout",
     "output_type": "stream",
     "text": [
      "____________________________________170___________________________________________________\n",
      "134\n",
      "3.6046149\n"
     ]
    },
    {
     "data": {
      "text/html": [
       " <span style=\"background-color:#e0e0e0 \">-2.6198149</span><span style=\"background-color:#DFFF00 \"> 0.9848</span>"
      ],
      "text/plain": [
       "<IPython.core.display.HTML object>"
      ]
     },
     "metadata": {},
     "output_type": "display_data"
    },
    {
     "name": "stdout",
     "output_type": "stream",
     "text": [
      "-  --  --  --  --  --  --  --  --  --  --  --  --  --  --  --  --  --  --  --  --  --  --  --  --  -\n"
     ]
    },
    {
     "data": {
      "text/html": [
       " <span style=\"background-color:#DFFF00 \">At</span><span style=\"background-color:#DFFF00 \"> the</span><span style=\"background-color:#DFFF00 \"> beginning</span> dress was heavily influenced by the Byzantine culture in the east."
      ],
      "text/plain": [
       "<IPython.core.display.HTML object>"
      ]
     },
     "metadata": {},
     "output_type": "display_data"
    },
    {
     "data": {
      "text/html": [
       " <span style=\"background-color:#DFFF00 \">Στις</span><span style=\"background-color:#DFFF00 \"> αρχές</span> το φόρεμα ήταν έντονα επηρεασμένο από τον βυζαντινό πολιτισμό στην ανατολή."
      ],
      "text/plain": [
       "<IPython.core.display.HTML object>"
      ]
     },
     "metadata": {},
     "output_type": "display_data"
    },
    {
     "name": "stdout",
     "output_type": "stream",
     "text": [
      "____________________________________171___________________________________________________\n",
      "135\n",
      "0.005208000000001434\n"
     ]
    },
    {
     "data": {
      "text/html": [
       " <span style=\"background-color:#e0e0e0 \">-15.145397</span><span style=\"background-color:#DFFF00 \"> -15.140189</span>"
      ],
      "text/plain": [
       "<IPython.core.display.HTML object>"
      ]
     },
     "metadata": {},
     "output_type": "display_data"
    },
    {
     "name": "stdout",
     "output_type": "stream",
     "text": [
      "-  --  --  --  --  --  --  --  --  --  --  --  --  --  --  --  --  --  --  --  --  --  --  --  --  -\n"
     ]
    },
    {
     "data": {
      "text/html": [
       " However, due to the slow communication channels, styles in the west could lag behind by 25 to 30 year."
      ],
      "text/plain": [
       "<IPython.core.display.HTML object>"
      ]
     },
     "metadata": {},
     "output_type": "display_data"
    },
    {
     "data": {
      "text/html": [
       " Εντούτοις, οι αργοί δίαυλοι επικοινωνίας συνεπάγονταν καθυστερήσεις 25 έως και 30 χρόνων <span style=\"background-color:#DFFF00 \">στην</span><span style=\"background-color:#DFFF00 \"> τεχνοτροπία</span> στη δύση."
      ],
      "text/plain": [
       "<IPython.core.display.HTML object>"
      ]
     },
     "metadata": {},
     "output_type": "display_data"
    },
    {
     "name": "stdout",
     "output_type": "stream",
     "text": [
      "____________________________________172___________________________________________________\n",
      "136\n",
      "19.897223\n"
     ]
    },
    {
     "data": {
      "text/html": [
       " <span style=\"background-color:#e0e0e0 \">-4.299279</span><span style=\"background-color:#DFFF00 \"> 15.223986</span><span style=\"background-color:#9FE2BF \"> 15.597944</span>"
      ],
      "text/plain": [
       "<IPython.core.display.HTML object>"
      ]
     },
     "metadata": {},
     "output_type": "display_data"
    },
    {
     "name": "stdout",
     "output_type": "stream",
     "text": [
      "-  --  --  --  --  --  --  --  --  --  --  --  --  --  --  --  --  --  --  --  --  --  --  --  --  -\n"
     ]
    },
    {
     "data": {
      "text/html": [
       " towards the end of the Middle Ages western Europe began <span style=\"background-color:#DFFF00 \">to</span><span style=\"background-color:#DFFF00 \"> develop</span><span style=\"background-color:#DFFF00 \"> their</span><span style=\"background-color:#DFFF00 \"> own</span><span style=\"background-color:#DFFF00 \"> style.</span><span style=\"background-color:#DFFF00 \"> one</span><span style=\"background-color:#DFFF00 \"> of</span><span style=\"background-color:#DFFF00 \"> the</span><span style=\"background-color:#DFFF00 \"> biggest</span><span style=\"background-color:#DFFF00 \"> developments</span><span style=\"background-color:#DFFF00 \"> of</span><span style=\"background-color:#DFFF00 \"> the</span><span style=\"background-color:#DFFF00 \"> time</span><span style=\"background-color:#DFFF00 \"> as</span><span style=\"background-color:#DFFF00 \"> a</span><span style=\"background-color:#DFFF00 \"> result</span><span style=\"background-color:#DFFF00 \"> of</span><span style=\"background-color:#DFFF00 \"> the</span><span style=\"background-color:#DFFF00 \"> crusades</span> people began to use buttons to fasten clothing."
      ],
      "text/plain": [
       "<IPython.core.display.HTML object>"
      ]
     },
     "metadata": {},
     "output_type": "display_data"
    },
    {
     "data": {
      "text/html": [
       " προς τα τέλη του Μεσαίωνα, η δυτική Ευρώπη ξεκίνησε <span style=\"background-color:#DFFF00 \">να</span><span style=\"background-color:#DFFF00 \"> αναπτύσσει</span><span style=\"background-color:#DFFF00 \"> το</span><span style=\"background-color:#DFFF00 \"> δικό</span><span style=\"background-color:#DFFF00 \"> της</span><span style=\"background-color:#DFFF00 \"> στυλ.</span><span style=\"background-color:#DFFF00 \"> Μια</span><span style=\"background-color:#DFFF00 \"> από</span><span style=\"background-color:#DFFF00 \"> τις</span><span style=\"background-color:#DFFF00 \"> σημαντικότερες</span><span style=\"background-color:#DFFF00 \"> εξελίξεις</span><span style=\"background-color:#DFFF00 \"> της</span><span style=\"background-color:#DFFF00 \"> εποχής,</span><span style=\"background-color:#DFFF00 \"> που</span><span style=\"background-color:#DFFF00 \"> προήλθε</span><span style=\"background-color:#DFFF00 \"> ως</span><span style=\"background-color:#DFFF00 \"> αποτέλεσμα</span><span style=\"background-color:#DFFF00 \"> από</span><span style=\"background-color:#DFFF00 \"> τις</span><span style=\"background-color:#DFFF00 \"> σταυροφορίες,</span><span style=\"background-color:#DFFF00 \"> ήταν</span><span style=\"background-color:#DFFF00 \"> το</span><span style=\"background-color:#DFFF00 \"> ότι</span> οι άνθρωποι ξεκίνησαν να στερεώνουν <span style=\"background-color:#9FE2BF \">τα</span><span style=\"background-color:#9FE2BF \"> ρούχα</span><span style=\"background-color:#9FE2BF \"> τους</span><span style=\"background-color:#9FE2BF \"> με</span> κουμπιά."
      ],
      "text/plain": [
       "<IPython.core.display.HTML object>"
      ]
     },
     "metadata": {},
     "output_type": "display_data"
    },
    {
     "name": "stdout",
     "output_type": "stream",
     "text": [
      "____________________________________173___________________________________________________\n",
      "137\n",
      "4.0917583\n"
     ]
    },
    {
     "data": {
      "text/html": [
       " <span style=\"background-color:#e0e0e0 \">-2.7228851</span><span style=\"background-color:#DFFF00 \"> -1.6512004</span><span style=\"background-color:#9FE2BF \"> 1.3688732</span>"
      ],
      "text/plain": [
       "<IPython.core.display.HTML object>"
      ]
     },
     "metadata": {},
     "output_type": "display_data"
    },
    {
     "name": "stdout",
     "output_type": "stream",
     "text": [
      "-  --  --  --  --  --  --  --  --  --  --  --  --  --  --  --  --  --  --  --  --  --  --  --  --  -\n"
     ]
    },
    {
     "data": {
      "text/html": [
       " Subcultures can be distinctive because of the age, ethnicity, class, location, and/or gender of the members."
      ],
      "text/plain": [
       "<IPython.core.display.HTML object>"
      ]
     },
     "metadata": {},
     "output_type": "display_data"
    },
    {
     "data": {
      "text/html": [
       " Οι υποπολιτισμοί χωρίζονται με κριτήριο το πόσο ετών είναι το μέλος, <span style=\"background-color:#9FE2BF \">από</span><span style=\"background-color:#9FE2BF \"> που</span><span style=\"background-color:#9FE2BF \"> κατάγεται,</span> την κοινωνική του τάξη, <span style=\"background-color:#DFFF00 \">το</span><span style=\"background-color:#DFFF00 \"> που</span><span style=\"background-color:#DFFF00 \"> βρίσκεται</span> ή/και την φυλετική διάκριση."
      ],
      "text/plain": [
       "<IPython.core.display.HTML object>"
      ]
     },
     "metadata": {},
     "output_type": "display_data"
    },
    {
     "name": "stdout",
     "output_type": "stream",
     "text": [
      "____________________________________174___________________________________________________\n",
      "138\n",
      "4.4850212\n"
     ]
    },
    {
     "data": {
      "text/html": [
       " <span style=\"background-color:#e0e0e0 \">-0.7758087</span><span style=\"background-color:#DFFF00 \"> 3.620354</span><span style=\"background-color:#9FE2BF \"> 3.7092125</span>"
      ],
      "text/plain": [
       "<IPython.core.display.HTML object>"
      ]
     },
     "metadata": {},
     "output_type": "display_data"
    },
    {
     "name": "stdout",
     "output_type": "stream",
     "text": [
      "-  --  --  --  --  --  --  --  --  --  --  --  --  --  --  --  --  --  --  --  --  --  --  --  --  -\n"
     ]
    },
    {
     "data": {
      "text/html": [
       " The qualities that <span style=\"background-color:#9FE2BF \">determine</span> a subculture as distinct may be linguistic, aesthetic, religious, political, sexual, <span style=\"background-color:#DFFF00 \">geographical,</span><span style=\"background-color:#DFFF00 \"> or</span><span style=\"background-color:#DFFF00 \"> a</span><span style=\"background-color:#DFFF00 \"> combination</span><span style=\"background-color:#DFFF00 \"> of</span> factors."
      ],
      "text/plain": [
       "<IPython.core.display.HTML object>"
      ]
     },
     "metadata": {},
     "output_type": "display_data"
    },
    {
     "data": {
      "text/html": [
       " Οι ιδιότητες μιας υποκουλτούρας που <span style=\"background-color:#9FE2BF \">την</span><span style=\"background-color:#9FE2BF \"> καθιστούν</span> ξεχωριστή, μπορούν να είναι γλωσσικές, αισθητικές, θρησκευτικές, πολιτικές, <span style=\"background-color:#DFFF00 \">σεξουαλικές,</span><span style=\"background-color:#DFFF00 \"> γεωγραφικές</span><span style=\"background-color:#DFFF00 \"> ή</span><span style=\"background-color:#DFFF00 \"> συνδυασμός</span> παραγόντων."
      ],
      "text/plain": [
       "<IPython.core.display.HTML object>"
      ]
     },
     "metadata": {},
     "output_type": "display_data"
    },
    {
     "name": "stdout",
     "output_type": "stream",
     "text": [
      "____________________________________175___________________________________________________\n",
      "139\n",
      "0.12854800000000033\n"
     ]
    },
    {
     "data": {
      "text/html": [
       " <span style=\"background-color:#e0e0e0 \">-11.991884</span><span style=\"background-color:#DFFF00 \"> -11.863336</span>"
      ],
      "text/plain": [
       "<IPython.core.display.HTML object>"
      ]
     },
     "metadata": {},
     "output_type": "display_data"
    },
    {
     "name": "stdout",
     "output_type": "stream",
     "text": [
      "-  --  --  --  --  --  --  --  --  --  --  --  --  --  --  --  --  --  --  --  --  --  --  --  --  -\n"
     ]
    },
    {
     "data": {
      "text/html": [
       " <span style=\"background-color:#DFFF00 \">While</span> project based learning should make learning easier and more interesting, scaffolding goes a step beyond."
      ],
      "text/plain": [
       "<IPython.core.display.HTML object>"
      ]
     },
     "metadata": {},
     "output_type": "display_data"
    },
    {
     "data": {
      "text/html": [
       " <span style=\"background-color:#DFFF00 \">Ενώ</span><span style=\"background-color:#DFFF00 \"> η</span> διδασκαλία βάσει έργου κάνει την εκμάθηση ευκολότερη και πιο ενδιαφέρουσα, τα βοηθήματα κάνουν ακόμα ένα βήμα."
      ],
      "text/plain": [
       "<IPython.core.display.HTML object>"
      ]
     },
     "metadata": {},
     "output_type": "display_data"
    },
    {
     "name": "stdout",
     "output_type": "stream",
     "text": [
      "____________________________________176___________________________________________________\n",
      "140\n",
      "11.998336\n"
     ]
    },
    {
     "data": {
      "text/html": [
       " <span style=\"background-color:#e0e0e0 \">-8.2982</span><span style=\"background-color:#DFFF00 \"> 3.6647182</span><span style=\"background-color:#9FE2BF \"> 3.700136</span>"
      ],
      "text/plain": [
       "<IPython.core.display.HTML object>"
      ]
     },
     "metadata": {},
     "output_type": "display_data"
    },
    {
     "name": "stdout",
     "output_type": "stream",
     "text": [
      "-  --  --  --  --  --  --  --  --  --  --  --  --  --  --  --  --  --  --  --  --  --  --  --  --  -\n"
     ]
    },
    {
     "data": {
      "text/html": [
       " Scaffolds can be both virtual and real, in other words, <span style=\"background-color:#9FE2BF \">a</span> teacher is a form of scaffold <span style=\"background-color:#DFFF00 \">but</span><span style=\"background-color:#DFFF00 \"> so</span><span style=\"background-color:#DFFF00 \"> is</span><span style=\"background-color:#DFFF00 \"> the</span><span style=\"background-color:#DFFF00 \"> little</span><span style=\"background-color:#DFFF00 \"> paperclip</span><span style=\"background-color:#DFFF00 \"> man</span> in Microsoft Office."
      ],
      "text/plain": [
       "<IPython.core.display.HTML object>"
      ]
     },
     "metadata": {},
     "output_type": "display_data"
    },
    {
     "data": {
      "text/html": [
       " Υπάρχουν εικονικά και πραγματικά ικριώματα, με άλλα λόγια, <span style=\"background-color:#9FE2BF \">η</span> δασκάλα αποτελεί μια μορφή ικριώματος <span style=\"background-color:#DFFF00 \">όμως</span><span style=\"background-color:#DFFF00 \"> το</span><span style=\"background-color:#DFFF00 \"> ίδιο</span><span style=\"background-color:#DFFF00 \"> ισχύει</span><span style=\"background-color:#DFFF00 \"> για</span><span style=\"background-color:#DFFF00 \"> το</span> ανθρωπάκι-συνδετήρα του Microsoft Office."
      ],
      "text/plain": [
       "<IPython.core.display.HTML object>"
      ]
     },
     "metadata": {},
     "output_type": "display_data"
    },
    {
     "name": "stdout",
     "output_type": "stream",
     "text": [
      "____________________________________177___________________________________________________\n",
      "141\n",
      "10.9746723\n"
     ]
    },
    {
     "data": {
      "text/html": [
       " <span style=\"background-color:#e0e0e0 \">-5.7804956</span><span style=\"background-color:#DFFF00 \"> 0.45768994</span><span style=\"background-color:#9FE2BF \"> 3.5432298</span><span style=\"background-color:#CCCCFF \"> 4.8597956</span><span style=\"background-color:#FFE4E1 \"> 5.1941767</span>"
      ],
      "text/plain": [
       "<IPython.core.display.HTML object>"
      ]
     },
     "metadata": {},
     "output_type": "display_data"
    },
    {
     "name": "stdout",
     "output_type": "stream",
     "text": [
      "-  --  --  --  --  --  --  --  --  --  --  --  --  --  --  --  --  --  --  --  --  --  --  --  --  -\n"
     ]
    },
    {
     "data": {
      "text/html": [
       " Virtual Scaffolds are internalized in the software and are meant to question, prompt, and explain procedures that may have <span style=\"background-color:#9FE2BF \">been</span><span style=\"background-color:#9FE2BF \"> to</span> challenging for the student <span style=\"background-color:#DFFF00 \">to</span><span style=\"background-color:#DFFF00 \"> handle</span> alone."
      ],
      "text/plain": [
       "<IPython.core.display.HTML object>"
      ]
     },
     "metadata": {},
     "output_type": "display_data"
    },
    {
     "data": {
      "text/html": [
       " Τα εικονικά βοηθήματα ενσωματώνονται στο λογισμικό και προορίζονται να ρωτούν, να προωθούν και <span style=\"background-color:#FFE4E1 \">να</span><span style=\"background-color:#FFE4E1 \"> εξηγούν</span><span style=\"background-color:#FFE4E1 \"> τις</span> διαδικασίες των οποίων <span style=\"background-color:#CCCCFF \">ο</span><span style=\"background-color:#CCCCFF \"> χειρισμός</span> μπορεί να <span style=\"background-color:#9FE2BF \">ήταν</span> πολύ δύσκολος για τους μαθητές."
      ],
      "text/plain": [
       "<IPython.core.display.HTML object>"
      ]
     },
     "metadata": {},
     "output_type": "display_data"
    },
    {
     "name": "stdout",
     "output_type": "stream",
     "text": [
      "____________________________________178___________________________________________________\n",
      "142\n",
      "12.610195099999999\n"
     ]
    },
    {
     "data": {
      "text/html": [
       " <span style=\"background-color:#e0e0e0 \">-4.9035854</span><span style=\"background-color:#DFFF00 \"> 7.7066097</span>"
      ],
      "text/plain": [
       "<IPython.core.display.HTML object>"
      ]
     },
     "metadata": {},
     "output_type": "display_data"
    },
    {
     "name": "stdout",
     "output_type": "stream",
     "text": [
      "-  --  --  --  --  --  --  --  --  --  --  --  --  --  --  --  --  --  --  --  --  --  --  --  --  -\n"
     ]
    },
    {
     "data": {
      "text/html": [
       " No child should ever have to grow up in an environment that is not nurturing, caring, and educational, <span style=\"background-color:#DFFF00 \">but</span><span style=\"background-color:#DFFF00 \"> they</span><span style=\"background-color:#DFFF00 \"> do.</span>"
      ],
      "text/plain": [
       "<IPython.core.display.HTML object>"
      ]
     },
     "metadata": {},
     "output_type": "display_data"
    },
    {
     "data": {
      "text/html": [
       " Κανένα παιδί δεν θα έπρεπε ποτέ να μεγαλώνει σε περιβάλλον χωρίς φροντίδα, αγάπη και μόρφωση, <span style=\"background-color:#DFFF00 \">όμως</span><span style=\"background-color:#DFFF00 \"> συμβαίνει.</span>"
      ],
      "text/plain": [
       "<IPython.core.display.HTML object>"
      ]
     },
     "metadata": {},
     "output_type": "display_data"
    },
    {
     "name": "stdout",
     "output_type": "stream",
     "text": [
      "____________________________________180___________________________________________________\n",
      "143\n",
      "1.8852684999999987\n"
     ]
    },
    {
     "data": {
      "text/html": [
       " <span style=\"background-color:#e0e0e0 \">-11.66377</span><span style=\"background-color:#DFFF00 \"> -9.7785015</span>"
      ],
      "text/plain": [
       "<IPython.core.display.HTML object>"
      ]
     },
     "metadata": {},
     "output_type": "display_data"
    },
    {
     "name": "stdout",
     "output_type": "stream",
     "text": [
      "-  --  --  --  --  --  --  --  --  --  --  --  --  --  --  --  --  --  --  --  --  --  --  --  --  -\n"
     ]
    },
    {
     "data": {
      "text/html": [
       " The distinct characteristics of the Internet lead to additional dimensions in terms of the uses and gratifications approach."
      ],
      "text/plain": [
       "<IPython.core.display.HTML object>"
      ]
     },
     "metadata": {},
     "output_type": "display_data"
    },
    {
     "data": {
      "text/html": [
       " Τα ιδιαίτερα χαρακτηριστικά του διαδικτύου έχουν ως αποτέλεσμα την ύπαρξη πρόσθετων διαστάσεων όσον αφορά την <span style=\"background-color:#DFFF00 \">προσέγγιση</span><span style=\"background-color:#DFFF00 \"> των</span> χρήσεων και των ανταμοιβών."
      ],
      "text/plain": [
       "<IPython.core.display.HTML object>"
      ]
     },
     "metadata": {},
     "output_type": "display_data"
    },
    {
     "name": "stdout",
     "output_type": "stream",
     "text": [
      "____________________________________181___________________________________________________\n",
      "144\n",
      "6.1959550000000005\n"
     ]
    },
    {
     "data": {
      "text/html": [
       " <span style=\"background-color:#e0e0e0 \">-13.021943</span><span style=\"background-color:#DFFF00 \"> -7.617151</span><span style=\"background-color:#9FE2BF \"> -6.825988</span>"
      ],
      "text/plain": [
       "<IPython.core.display.HTML object>"
      ]
     },
     "metadata": {},
     "output_type": "display_data"
    },
    {
     "name": "stdout",
     "output_type": "stream",
     "text": [
      "-  --  --  --  --  --  --  --  --  --  --  --  --  --  --  --  --  --  --  --  --  --  --  --  --  -\n"
     ]
    },
    {
     "data": {
      "text/html": [
       " For example, “learning” and “socialization” are <span style=\"background-color:#DFFF00 \">suggested</span><span style=\"background-color:#DFFF00 \"> as</span><span style=\"background-color:#DFFF00 \"> important</span><span style=\"background-color:#DFFF00 \"> motivations</span><span style=\"background-color:#DFFF00 \"> for</span><span style=\"background-color:#9FE2BF \"> Internet</span> use (James et al., 1995)."
      ],
      "text/plain": [
       "<IPython.core.display.HTML object>"
      ]
     },
     "metadata": {},
     "output_type": "display_data"
    },
    {
     "data": {
      "text/html": [
       " Επί παραδείγματι, το να «μαθαίνεις» και το να «κοινωνικοποιείσαι» θεωρούνται <span style=\"background-color:#DFFF00 \">σημαντικά</span><span style=\"background-color:#DFFF00 \"> κίνητρα</span><span style=\"background-color:#DFFF00 \"> για</span><span style=\"background-color:#DFFF00 \"> να</span> χρησιμοποιήσει <span style=\"background-color:#9FE2BF \">κάποιος</span><span style=\"background-color:#9FE2BF \"> το</span><span style=\"background-color:#9FE2BF \"> διαδίκτυο</span> (Τζέιμς κ. α., 1995)."
      ],
      "text/plain": [
       "<IPython.core.display.HTML object>"
      ]
     },
     "metadata": {},
     "output_type": "display_data"
    },
    {
     "name": "stdout",
     "output_type": "stream",
     "text": [
      "____________________________________182___________________________________________________\n",
      "145\n",
      "9.2145271\n"
     ]
    },
    {
     "data": {
      "text/html": [
       " <span style=\"background-color:#e0e0e0 \">-5.9047537</span><span style=\"background-color:#DFFF00 \"> 3.3097734</span>"
      ],
      "text/plain": [
       "<IPython.core.display.HTML object>"
      ]
     },
     "metadata": {},
     "output_type": "display_data"
    },
    {
     "name": "stdout",
     "output_type": "stream",
     "text": [
      "-  --  --  --  --  --  --  --  --  --  --  --  --  --  --  --  --  --  --  --  --  --  --  --  --  -\n"
     ]
    },
    {
     "data": {
      "text/html": [
       " <span style=\"background-color:#DFFF00 \">“Personal</span><span style=\"background-color:#DFFF00 \"> involvement”</span><span style=\"background-color:#DFFF00 \"> and</span><span style=\"background-color:#DFFF00 \"> “continuing</span><span style=\"background-color:#DFFF00 \"> relationships”</span><span style=\"background-color:#DFFF00 \"> were</span><span style=\"background-color:#DFFF00 \"> also</span><span style=\"background-color:#DFFF00 \"> identified</span><span style=\"background-color:#DFFF00 \"> as</span> new motivation aspects by Eighmey and McCord (1998) when they investigated audience reactions to websites."
      ],
      "text/plain": [
       "<IPython.core.display.HTML object>"
      ]
     },
     "metadata": {},
     "output_type": "display_data"
    },
    {
     "data": {
      "text/html": [
       " <span style=\"background-color:#DFFF00 \">Η</span><span style=\"background-color:#DFFF00 \"> «προσωπική</span><span style=\"background-color:#DFFF00 \"> συμμετοχή»</span><span style=\"background-color:#DFFF00 \"> και</span><span style=\"background-color:#DFFF00 \"> οι</span><span style=\"background-color:#DFFF00 \"> «συνεχείς</span><span style=\"background-color:#DFFF00 \"> σχέσεις»</span><span style=\"background-color:#DFFF00 \"> προσδιορίστηκαν</span><span style=\"background-color:#DFFF00 \"> επίσης</span><span style=\"background-color:#DFFF00 \"> ως</span> πτυχές ώθησης από τους Eighmey και McCord (1998) κατά την έρευνα των αντιδράσεων του κοινού στους ιστοτόπους."
      ],
      "text/plain": [
       "<IPython.core.display.HTML object>"
      ]
     },
     "metadata": {},
     "output_type": "display_data"
    },
    {
     "name": "stdout",
     "output_type": "stream",
     "text": [
      "____________________________________183___________________________________________________\n",
      "146\n",
      "8.117102\n"
     ]
    },
    {
     "data": {
      "text/html": [
       " <span style=\"background-color:#e0e0e0 \">-13.303747</span><span style=\"background-color:#DFFF00 \"> -5.186645</span>"
      ],
      "text/plain": [
       "<IPython.core.display.HTML object>"
      ]
     },
     "metadata": {},
     "output_type": "display_data"
    },
    {
     "name": "stdout",
     "output_type": "stream",
     "text": [
      "-  --  --  --  --  --  --  --  --  --  --  --  --  --  --  --  --  --  --  --  --  --  --  --  --  -\n"
     ]
    },
    {
     "data": {
      "text/html": [
       " The use of video recording has led to important discoveries in the interpretation of micro-expressions, <span style=\"background-color:#DFFF00 \">facial</span><span style=\"background-color:#DFFF00 \"> movements</span><span style=\"background-color:#DFFF00 \"> which</span><span style=\"background-color:#DFFF00 \"> last</span><span style=\"background-color:#DFFF00 \"> a</span><span style=\"background-color:#DFFF00 \"> few</span><span style=\"background-color:#DFFF00 \"> milliseconds.</span>"
      ],
      "text/plain": [
       "<IPython.core.display.HTML object>"
      ]
     },
     "metadata": {},
     "output_type": "display_data"
    },
    {
     "data": {
      "text/html": [
       " Η βιντεοσκόπηση βοήθησε σε σπουδαία ευρήματα στην κατανόηση των μικροσκοπικών <span style=\"background-color:#DFFF00 \">εκφράσεων,</span><span style=\"background-color:#DFFF00 \"> δηλαδή</span><span style=\"background-color:#DFFF00 \"> των</span><span style=\"background-color:#DFFF00 \"> εκφράσεων</span><span style=\"background-color:#DFFF00 \"> μας</span><span style=\"background-color:#DFFF00 \"> που</span><span style=\"background-color:#DFFF00 \"> κρατούν</span><span style=\"background-color:#DFFF00 \"> απειροελάχιστα.</span>"
      ],
      "text/plain": [
       "<IPython.core.display.HTML object>"
      ]
     },
     "metadata": {},
     "output_type": "display_data"
    },
    {
     "name": "stdout",
     "output_type": "stream",
     "text": [
      "____________________________________184___________________________________________________\n",
      "147\n",
      "3.18267955\n"
     ]
    },
    {
     "data": {
      "text/html": [
       " <span style=\"background-color:#e0e0e0 \">-3.0547462</span><span style=\"background-color:#DFFF00 \"> 0.12793335</span>"
      ],
      "text/plain": [
       "<IPython.core.display.HTML object>"
      ]
     },
     "metadata": {},
     "output_type": "display_data"
    },
    {
     "name": "stdout",
     "output_type": "stream",
     "text": [
      "-  --  --  --  --  --  --  --  --  --  --  --  --  --  --  --  --  --  --  --  --  --  --  --  --  -\n"
     ]
    },
    {
     "data": {
      "text/html": [
       " <span style=\"background-color:#DFFF00 \">Twentieth</span><span style=\"background-color:#DFFF00 \"> century</span> research has shown that there are two pools of genetic variation: hidden and expressed."
      ],
      "text/plain": [
       "<IPython.core.display.HTML object>"
      ]
     },
     "metadata": {},
     "output_type": "display_data"
    },
    {
     "data": {
      "text/html": [
       " Μια έρευνα <span style=\"background-color:#DFFF00 \">του</span><span style=\"background-color:#DFFF00 \"> εικοστού</span><span style=\"background-color:#DFFF00 \"> αιώνα</span> έδειξε ότι υπάρχουν δύο μορφές γενετικής ποικιλομορφίας, η λανθάνουσα και η εκφρασμένη."
      ],
      "text/plain": [
       "<IPython.core.display.HTML object>"
      ]
     },
     "metadata": {},
     "output_type": "display_data"
    },
    {
     "name": "stdout",
     "output_type": "stream",
     "text": [
      "____________________________________186___________________________________________________\n",
      "148\n",
      "13.7873688\n"
     ]
    },
    {
     "data": {
      "text/html": [
       " <span style=\"background-color:#e0e0e0 \">-7.0753384</span><span style=\"background-color:#DFFF00 \"> 1.4941388</span><span style=\"background-color:#9FE2BF \"> 6.7120304</span>"
      ],
      "text/plain": [
       "<IPython.core.display.HTML object>"
      ]
     },
     "metadata": {},
     "output_type": "display_data"
    },
    {
     "name": "stdout",
     "output_type": "stream",
     "text": [
      "-  --  --  --  --  --  --  --  --  --  --  --  --  --  --  --  --  --  --  --  --  --  --  --  --  -\n"
     ]
    },
    {
     "data": {
      "text/html": [
       " Moreover, failure <span style=\"background-color:#9FE2BF \">to</span><span style=\"background-color:#9FE2BF \"> do</span><span style=\"background-color:#9FE2BF \"> so</span> has serious consequences: <span style=\"background-color:#DFFF00 \">growth</span><span style=\"background-color:#DFFF00 \"> depression,</span> malnutrition, and ultimately death."
      ],
      "text/plain": [
       "<IPython.core.display.HTML object>"
      ]
     },
     "metadata": {},
     "output_type": "display_data"
    },
    {
     "data": {
      "text/html": [
       " Επιπλέον, η αποτυχία <span style=\"background-color:#9FE2BF \">τους</span><span style=\"background-color:#9FE2BF \"> στο</span><span style=\"background-color:#9FE2BF \"> συγκεκριμένο</span> είχε σοβαρές συνέπειες: <span style=\"background-color:#DFFF00 \">μείωση</span><span style=\"background-color:#DFFF00 \"> της</span><span style=\"background-color:#DFFF00 \"> ανάπτυξης,</span> υποσιτισμό και τελικά θάνατο."
      ],
      "text/plain": [
       "<IPython.core.display.HTML object>"
      ]
     },
     "metadata": {},
     "output_type": "display_data"
    },
    {
     "name": "stdout",
     "output_type": "stream",
     "text": [
      "____________________________________187___________________________________________________\n",
      "149\n",
      "5.9243348000000005\n"
     ]
    },
    {
     "data": {
      "text/html": [
       " <span style=\"background-color:#e0e0e0 \">-1.5689481</span><span style=\"background-color:#DFFF00 \"> 0.6937057</span><span style=\"background-color:#9FE2BF \"> 4.3553867</span>"
      ],
      "text/plain": [
       "<IPython.core.display.HTML object>"
      ]
     },
     "metadata": {},
     "output_type": "display_data"
    },
    {
     "name": "stdout",
     "output_type": "stream",
     "text": [
      "-  --  --  --  --  --  --  --  --  --  --  --  --  --  --  --  --  --  --  --  --  --  --  --  --  -\n"
     ]
    },
    {
     "data": {
      "text/html": [
       " The lower the tension, the more <span style=\"background-color:#DFFF00 \">positive</span> the life force <span style=\"background-color:#9FE2BF \">present.</span> Every person has the potential to find absolute peace and contentment."
      ],
      "text/plain": [
       "<IPython.core.display.HTML object>"
      ]
     },
     "metadata": {},
     "output_type": "display_data"
    },
    {
     "data": {
      "text/html": [
       " Όσο πιο λίγη είναι η πίεση, τόσο πιο <span style=\"background-color:#DFFF00 \">καλύτερη</span><span style=\"background-color:#DFFF00 \"> είναι</span> η ζωτική δύναμη <span style=\"background-color:#9FE2BF \">που</span><span style=\"background-color:#9FE2BF \"> είναι</span><span style=\"background-color:#9FE2BF \"> παρούσα.</span> Κάθε άτομο έχει τη δυνατότητα να βρει την απόλυτη ηρεμία και ευχαρίστηση."
      ],
      "text/plain": [
       "<IPython.core.display.HTML object>"
      ]
     },
     "metadata": {},
     "output_type": "display_data"
    },
    {
     "name": "stdout",
     "output_type": "stream",
     "text": [
      "____________________________________188___________________________________________________\n",
      "150\n",
      "0.9887050000000001\n"
     ]
    },
    {
     "data": {
      "text/html": [
       " <span style=\"background-color:#e0e0e0 \">-1.9345227</span><span style=\"background-color:#DFFF00 \"> -0.9458177</span>"
      ],
      "text/plain": [
       "<IPython.core.display.HTML object>"
      ]
     },
     "metadata": {},
     "output_type": "display_data"
    },
    {
     "name": "stdout",
     "output_type": "stream",
     "text": [
      "-  --  --  --  --  --  --  --  --  --  --  --  --  --  --  --  --  --  --  --  --  --  --  --  --  -\n"
     ]
    },
    {
     "data": {
      "text/html": [
       " With two years of the end of the war, the former allies were now enemies and the Cold War began."
      ],
      "text/plain": [
       "<IPython.core.display.HTML object>"
      ]
     },
     "metadata": {},
     "output_type": "display_data"
    },
    {
     "data": {
      "text/html": [
       " Καθώς είχαν περάσει δύο χρόνια από όταν τελείωσε ο πόλεμος, οι πρώην σύμμαχοι ήταν πλέον εχθροί και <span style=\"background-color:#DFFF00 \">έγινε</span><span style=\"background-color:#DFFF00 \"> η</span> αρχή του Ψυχρού Πολέμου."
      ],
      "text/plain": [
       "<IPython.core.display.HTML object>"
      ]
     },
     "metadata": {},
     "output_type": "display_data"
    },
    {
     "name": "stdout",
     "output_type": "stream",
     "text": [
      "____________________________________189___________________________________________________\n",
      "151\n",
      "30.551209\n"
     ]
    },
    {
     "data": {
      "text/html": [
       " <span style=\"background-color:#e0e0e0 \">-14.648159</span><span style=\"background-color:#DFFF00 \"> 15.773858</span><span style=\"background-color:#9FE2BF \"> 15.90305</span>"
      ],
      "text/plain": [
       "<IPython.core.display.HTML object>"
      ]
     },
     "metadata": {},
     "output_type": "display_data"
    },
    {
     "name": "stdout",
     "output_type": "stream",
     "text": [
      "-  --  --  --  --  --  --  --  --  --  --  --  --  --  --  --  --  --  --  --  --  --  --  --  --  -\n"
     ]
    },
    {
     "data": {
      "text/html": [
       " It was to last for the next 40 years and would be fought <span style=\"background-color:#DFFF00 \">for</span><span style=\"background-color:#DFFF00 \"> real,</span><span style=\"background-color:#DFFF00 \"> by</span><span style=\"background-color:#DFFF00 \"> proxy</span><span style=\"background-color:#DFFF00 \"> armies,</span> on battlefields from Africa to Asia, in Afghanistan, Cuba and many other <span style=\"background-color:#9FE2BF \">places.</span>"
      ],
      "text/plain": [
       "<IPython.core.display.HTML object>"
      ]
     },
     "metadata": {},
     "output_type": "display_data"
    },
    {
     "data": {
      "text/html": [
       " Θα κρατούσε για 40 χρόνια και θα είχε πολεμικές αναμετρήσεις <span style=\"background-color:#DFFF00 \">δια</span><span style=\"background-color:#DFFF00 \"> αντιπροσώπων,</span> σε σημεία μαχών από την Αφρική στην Ασία, στο Αφγανιστάν, την Κούβα και σε πολλές άλλες <span style=\"background-color:#9FE2BF \">περιοχές.</span>"
      ],
      "text/plain": [
       "<IPython.core.display.HTML object>"
      ]
     },
     "metadata": {},
     "output_type": "display_data"
    },
    {
     "name": "stdout",
     "output_type": "stream",
     "text": [
      "____________________________________190___________________________________________________\n",
      "152\n",
      "9.19349\n"
     ]
    },
    {
     "data": {
      "text/html": [
       " <span style=\"background-color:#e0e0e0 \">-14.7179575</span><span style=\"background-color:#DFFF00 \"> -5.5244675</span>"
      ],
      "text/plain": [
       "<IPython.core.display.HTML object>"
      ]
     },
     "metadata": {},
     "output_type": "display_data"
    },
    {
     "name": "stdout",
     "output_type": "stream",
     "text": [
      "-  --  --  --  --  --  --  --  --  --  --  --  --  --  --  --  --  --  --  --  --  --  --  --  --  -\n"
     ]
    },
    {
     "data": {
      "text/html": [
       " Their predecessors, the Australopithecus did not walk upright as habitually."
      ],
      "text/plain": [
       "<IPython.core.display.HTML object>"
      ]
     },
     "metadata": {},
     "output_type": "display_data"
    },
    {
     "data": {
      "text/html": [
       " Οι προκάτοχοί τους, οι Αυστραλοπίθηκοι δεν περπάτησαν όρθιοι όπως <span style=\"background-color:#DFFF00 \">είναι</span><span style=\"background-color:#DFFF00 \"> το</span> συνηθισμένο."
      ],
      "text/plain": [
       "<IPython.core.display.HTML object>"
      ]
     },
     "metadata": {},
     "output_type": "display_data"
    },
    {
     "name": "stdout",
     "output_type": "stream",
     "text": [
      "____________________________________191___________________________________________________\n",
      "153\n",
      "6.0043028\n"
     ]
    },
    {
     "data": {
      "text/html": [
       " <span style=\"background-color:#e0e0e0 \">-4.400957</span><span style=\"background-color:#DFFF00 \"> 0.5911318</span><span style=\"background-color:#9FE2BF \"> 1.6033458</span>"
      ],
      "text/plain": [
       "<IPython.core.display.HTML object>"
      ]
     },
     "metadata": {},
     "output_type": "display_data"
    },
    {
     "name": "stdout",
     "output_type": "stream",
     "text": [
      "-  --  --  --  --  --  --  --  --  --  --  --  --  --  --  --  --  --  --  --  --  --  --  --  --  -\n"
     ]
    },
    {
     "data": {
      "text/html": [
       " We can start living <span style=\"background-color:#9FE2BF \">more</span> friendly to the environment, we can join to the environmental movement, and we can even be activists in order to reduce the future <span style=\"background-color:#DFFF00 \">suffering</span><span style=\"background-color:#DFFF00 \"> in</span><span style=\"background-color:#DFFF00 \"> some</span><span style=\"background-color:#DFFF00 \"> degree.</span>"
      ],
      "text/plain": [
       "<IPython.core.display.HTML object>"
      ]
     },
     "metadata": {},
     "output_type": "display_data"
    },
    {
     "data": {
      "text/html": [
       " Έχουμε τη δυνατότητα να διάγουμε <span style=\"background-color:#9FE2BF \">μια</span><span style=\"background-color:#9FE2BF \"> πιο</span> βιώσιμη ζωή, να γίνουμε μέλος του κινήματος για το περιβάλλον, και ίσως να δράσουμε ακτιβιστικά ώστε κάπως να περιορίσουμε τα προβλήματα <span style=\"background-color:#DFFF00 \">του</span><span style=\"background-color:#DFFF00 \"> μέλλοντος.</span>"
      ],
      "text/plain": [
       "<IPython.core.display.HTML object>"
      ]
     },
     "metadata": {},
     "output_type": "display_data"
    },
    {
     "name": "stdout",
     "output_type": "stream",
     "text": [
      "____________________________________192___________________________________________________\n",
      "154\n",
      "3.8814069999999994\n"
     ]
    },
    {
     "data": {
      "text/html": [
       " <span style=\"background-color:#e0e0e0 \">-9.218544</span><span style=\"background-color:#DFFF00 \"> -5.337137</span>"
      ],
      "text/plain": [
       "<IPython.core.display.HTML object>"
      ]
     },
     "metadata": {},
     "output_type": "display_data"
    },
    {
     "name": "stdout",
     "output_type": "stream",
     "text": [
      "-  --  --  --  --  --  --  --  --  --  --  --  --  --  --  --  --  --  --  --  --  --  --  --  --  -\n"
     ]
    },
    {
     "data": {
      "text/html": [
       " Many paleontologists today believe that one group of dinosaurs survived <span style=\"background-color:#DFFF00 \">and</span><span style=\"background-color:#DFFF00 \"> is</span><span style=\"background-color:#DFFF00 \"> alive</span> today. We call them birds."
      ],
      "text/plain": [
       "<IPython.core.display.HTML object>"
      ]
     },
     "metadata": {},
     "output_type": "display_data"
    },
    {
     "data": {
      "text/html": [
       " Πολλοί επιστήμονες της παλαιοντολογίας θεωρούν στις μέρες μας ότι ένα είδος δεινοσαύρων επιβίωσε μέχρι σήμερα. Αναφέρονται στα πτηνά."
      ],
      "text/plain": [
       "<IPython.core.display.HTML object>"
      ]
     },
     "metadata": {},
     "output_type": "display_data"
    },
    {
     "name": "stdout",
     "output_type": "stream",
     "text": [
      "____________________________________193___________________________________________________\n",
      "155\n",
      "1.974464000000001\n"
     ]
    },
    {
     "data": {
      "text/html": [
       " <span style=\"background-color:#e0e0e0 \">-15.723596</span><span style=\"background-color:#DFFF00 \"> -14.544673</span><span style=\"background-color:#9FE2BF \"> -14.274994</span><span style=\"background-color:#CCCCFF \"> -13.749132</span>"
      ],
      "text/plain": [
       "<IPython.core.display.HTML object>"
      ]
     },
     "metadata": {},
     "output_type": "display_data"
    },
    {
     "name": "stdout",
     "output_type": "stream",
     "text": [
      "-  --  --  --  --  --  --  --  --  --  --  --  --  --  --  --  --  --  --  --  --  --  --  --  --  -\n"
     ]
    },
    {
     "data": {
      "text/html": [
       " <span style=\"background-color:#9FE2BF \">Many</span><span style=\"background-color:#9FE2BF \"> people</span> don't think about them as dinosaurs because they have feathers <span style=\"background-color:#DFFF00 \">and</span><span style=\"background-color:#DFFF00 \"> can</span><span style=\"background-color:#CCCCFF \"> fly.</span>"
      ],
      "text/plain": [
       "<IPython.core.display.HTML object>"
      ]
     },
     "metadata": {},
     "output_type": "display_data"
    },
    {
     "data": {
      "text/html": [
       " Δεν τα βλέπουν στην κατηγορία των δεινοσαύρων <span style=\"background-color:#9FE2BF \">αρκετοί</span> διότι διαθέτουν φτέρωμα <span style=\"background-color:#DFFF00 \">έχοντας</span><span style=\"background-color:#DFFF00 \"> την</span><span style=\"background-color:#DFFF00 \"> ικανότητα</span><span style=\"background-color:#CCCCFF \"> πτήσης.</span>"
      ],
      "text/plain": [
       "<IPython.core.display.HTML object>"
      ]
     },
     "metadata": {},
     "output_type": "display_data"
    },
    {
     "name": "stdout",
     "output_type": "stream",
     "text": [
      "____________________________________194___________________________________________________\n",
      "156\n",
      "1.2009190000000007\n"
     ]
    },
    {
     "data": {
      "text/html": [
       " <span style=\"background-color:#e0e0e0 \">-9.58285</span><span style=\"background-color:#DFFF00 \"> -8.381931</span>"
      ],
      "text/plain": [
       "<IPython.core.display.HTML object>"
      ]
     },
     "metadata": {},
     "output_type": "display_data"
    },
    {
     "name": "stdout",
     "output_type": "stream",
     "text": [
      "-  --  --  --  --  --  --  --  --  --  --  --  --  --  --  --  --  --  --  --  --  --  --  --  --  -\n"
     ]
    },
    {
     "data": {
      "text/html": [
       " But there are a lot of things about birds <span style=\"background-color:#DFFF00 \">that</span><span style=\"background-color:#DFFF00 \"> still</span> look like a dinosaur."
      ],
      "text/plain": [
       "<IPython.core.display.HTML object>"
      ]
     },
     "metadata": {},
     "output_type": "display_data"
    },
    {
     "data": {
      "text/html": [
       " Όμως πολλά πράγματα στα πτηνά <span style=\"background-color:#DFFF00 \">τα</span><span style=\"background-color:#DFFF00 \"> κάνουν</span><span style=\"background-color:#DFFF00 \"> να</span> μοιάζουν με δεινόσαυρο."
      ],
      "text/plain": [
       "<IPython.core.display.HTML object>"
      ]
     },
     "metadata": {},
     "output_type": "display_data"
    },
    {
     "name": "stdout",
     "output_type": "stream",
     "text": [
      "____________________________________195___________________________________________________\n",
      "157\n",
      "3.7514407399999996\n"
     ]
    },
    {
     "data": {
      "text/html": [
       " <span style=\"background-color:#e0e0e0 \">-0.80935264</span><span style=\"background-color:#DFFF00 \"> 2.9420881</span>"
      ],
      "text/plain": [
       "<IPython.core.display.HTML object>"
      ]
     },
     "metadata": {},
     "output_type": "display_data"
    },
    {
     "name": "stdout",
     "output_type": "stream",
     "text": [
      "-  --  --  --  --  --  --  --  --  --  --  --  --  --  --  --  --  --  --  --  --  --  --  --  --  -\n"
     ]
    },
    {
     "data": {
      "text/html": [
       " Virtually all computers in use today are based on the manipulation of information which is coded in the form of binary <span style=\"background-color:#DFFF00 \">numbers.</span>"
      ],
      "text/plain": [
       "<IPython.core.display.HTML object>"
      ]
     },
     "metadata": {},
     "output_type": "display_data"
    },
    {
     "data": {
      "text/html": [
       " Οι υπολογιστές πλέον έχουν ως βάση τη διαχείριση της πληροφορίας που κωδικοποιείται με δυαδικό <span style=\"background-color:#DFFF00 \">σύστημα.</span>"
      ],
      "text/plain": [
       "<IPython.core.display.HTML object>"
      ]
     },
     "metadata": {},
     "output_type": "display_data"
    },
    {
     "name": "stdout",
     "output_type": "stream",
     "text": [
      "____________________________________196___________________________________________________\n",
      "158\n",
      "1.1270255999999996\n"
     ]
    },
    {
     "data": {
      "text/html": [
       " <span style=\"background-color:#e0e0e0 \">-8.658422</span><span style=\"background-color:#DFFF00 \"> -8.066216</span><span style=\"background-color:#9FE2BF \"> -7.5313964</span>"
      ],
      "text/plain": [
       "<IPython.core.display.HTML object>"
      ]
     },
     "metadata": {},
     "output_type": "display_data"
    },
    {
     "name": "stdout",
     "output_type": "stream",
     "text": [
      "-  --  --  --  --  --  --  --  --  --  --  --  --  --  --  --  --  --  --  --  --  --  --  --  --  -\n"
     ]
    },
    {
     "data": {
      "text/html": [
       " A binary <span style=\"background-color:#DFFF00 \">number</span> can have only one of two <span style=\"background-color:#9FE2BF \">values,</span><span style=\"background-color:#9FE2BF \"> i.e.</span><span style=\"background-color:#9FE2BF \"> 0</span> or 1, and these numbers are referred to as binary digits - or bits, to use computer jargon."
      ],
      "text/plain": [
       "<IPython.core.display.HTML object>"
      ]
     },
     "metadata": {},
     "output_type": "display_data"
    },
    {
     "data": {
      "text/html": [
       " Για να χρησιμοποιήσουμε την ορολογία των υπολογιστών, ένας δυαδικός <span style=\"background-color:#DFFF00 \">αριθμός</span> μπορεί να λάβει μόνο μία ή δύο <span style=\"background-color:#9FE2BF \">τιμές,</span><span style=\"background-color:#9FE2BF \"> δηλαδή</span><span style=\"background-color:#9FE2BF \"> 0</span> ή 1, και αυτοί οι αριθμοί λέγονται δυαδικά ψηφία ή μπιτς."
      ],
      "text/plain": [
       "<IPython.core.display.HTML object>"
      ]
     },
     "metadata": {},
     "output_type": "display_data"
    },
    {
     "name": "stdout",
     "output_type": "stream",
     "text": [
      "____________________________________197___________________________________________________\n",
      "159\n",
      "3.4269418000000003\n"
     ]
    },
    {
     "data": {
      "text/html": [
       " <span style=\"background-color:#e0e0e0 \">-4.4730473</span><span style=\"background-color:#DFFF00 \"> -1.0461055</span>"
      ],
      "text/plain": [
       "<IPython.core.display.HTML object>"
      ]
     },
     "metadata": {},
     "output_type": "display_data"
    },
    {
     "name": "stdout",
     "output_type": "stream",
     "text": [
      "-  --  --  --  --  --  --  --  --  --  --  --  --  --  --  --  --  --  --  --  --  --  --  --  --  -\n"
     ]
    },
    {
     "data": {
      "text/html": [
       " The best indication of <span style=\"background-color:#DFFF00 \">internal</span> poisoning may be the presence of an open container of medication or toxic household chemicals."
      ],
      "text/plain": [
       "<IPython.core.display.HTML object>"
      ]
     },
     "metadata": {},
     "output_type": "display_data"
    },
    {
     "data": {
      "text/html": [
       " Το πιο έγκυρο σημάδι ότι κάποιος έχιε <span style=\"background-color:#DFFF00 \">δηλητηριαστεί</span><span style=\"background-color:#DFFF00 \"> εσωτερικά,</span> είναι ένα ανοιχτό μπουκαλάκι από φάρμακα ή κάποια τοξική χημική οικιακή ουσία στο χώρο."
      ],
      "text/plain": [
       "<IPython.core.display.HTML object>"
      ]
     },
     "metadata": {},
     "output_type": "display_data"
    },
    {
     "name": "stdout",
     "output_type": "stream",
     "text": [
      "____________________________________199___________________________________________________\n",
      "160\n",
      "4.6127417\n"
     ]
    },
    {
     "data": {
      "text/html": [
       " <span style=\"background-color:#e0e0e0 \">-6.45041</span><span style=\"background-color:#DFFF00 \"> -1.8376683</span>"
      ],
      "text/plain": [
       "<IPython.core.display.HTML object>"
      ]
     },
     "metadata": {},
     "output_type": "display_data"
    },
    {
     "name": "stdout",
     "output_type": "stream",
     "text": [
      "-  --  --  --  --  --  --  --  --  --  --  --  --  --  --  --  --  --  --  --  --  --  --  --  --  -\n"
     ]
    },
    {
     "data": {
      "text/html": [
       " This term derives from ancient familiarity with <span style=\"background-color:#DFFF00 \">Bed-bugs,</span><span style=\"background-color:#DFFF00 \"> which</span><span style=\"background-color:#DFFF00 \"> are</span> insects highly adapted to parasitize humans."
      ],
      "text/plain": [
       "<IPython.core.display.HTML object>"
      ]
     },
     "metadata": {},
     "output_type": "display_data"
    },
    {
     "data": {
      "text/html": [
       " Αυτός ο όρος προέρχεται από την εξοικείωση των αρχαίων με τους <span style=\"background-color:#DFFF00 \">κοριούς,</span><span style=\"background-color:#DFFF00 \"> που</span><span style=\"background-color:#DFFF00 \"> ήταν</span> έντομα τα οποία προσαρμόζονταν εύκολα στο να παρασιτούν σε ανθρώπους."
      ],
      "text/plain": [
       "<IPython.core.display.HTML object>"
      ]
     },
     "metadata": {},
     "output_type": "display_data"
    },
    {
     "name": "stdout",
     "output_type": "stream",
     "text": [
      "____________________________________200___________________________________________________\n",
      "161\n",
      "27.486017\n"
     ]
    },
    {
     "data": {
      "text/html": [
       " <span style=\"background-color:#e0e0e0 \">-15.945542</span><span style=\"background-color:#DFFF00 \"> 11.540475</span>"
      ],
      "text/plain": [
       "<IPython.core.display.HTML object>"
      ]
     },
     "metadata": {},
     "output_type": "display_data"
    },
    {
     "name": "stdout",
     "output_type": "stream",
     "text": [
      "-  --  --  --  --  --  --  --  --  --  --  --  --  --  --  --  --  --  --  --  --  --  --  --  --  -\n"
     ]
    },
    {
     "data": {
      "text/html": [
       " Research has found that females are two times more likely to have <span style=\"background-color:#DFFF00 \">MS</span><span style=\"background-color:#DFFF00 \"> then</span> males."
      ],
      "text/plain": [
       "<IPython.core.display.HTML object>"
      ]
     },
     "metadata": {},
     "output_type": "display_data"
    },
    {
     "data": {
      "text/html": [
       " Η έρευνα δείχνει ότι οι γυναίκες είναι δύο φορές πιο πιθανό να νοσήσουν <span style=\"background-color:#DFFF00 \">από</span><span style=\"background-color:#DFFF00 \"> σκλήρυνση</span><span style=\"background-color:#DFFF00 \"> κατά</span><span style=\"background-color:#DFFF00 \"> πλάκας</span><span style=\"background-color:#DFFF00 \"> συγκριτικά</span><span style=\"background-color:#DFFF00 \"> με</span><span style=\"background-color:#DFFF00 \"> τους</span> άντρες."
      ],
      "text/plain": [
       "<IPython.core.display.HTML object>"
      ]
     },
     "metadata": {},
     "output_type": "display_data"
    },
    {
     "name": "stdout",
     "output_type": "stream",
     "text": [
      "____________________________________202___________________________________________________\n",
      "162\n",
      "24.0691965\n"
     ]
    },
    {
     "data": {
      "text/html": [
       " <span style=\"background-color:#e0e0e0 \">-9.527767</span><span style=\"background-color:#DFFF00 \"> 9.91786</span><span style=\"background-color:#9FE2BF \"> 14.5414295</span>"
      ],
      "text/plain": [
       "<IPython.core.display.HTML object>"
      ]
     },
     "metadata": {},
     "output_type": "display_data"
    },
    {
     "name": "stdout",
     "output_type": "stream",
     "text": [
      "-  --  --  --  --  --  --  --  --  --  --  --  --  --  --  --  --  --  --  --  --  --  --  --  --  -\n"
     ]
    },
    {
     "data": {
      "text/html": [
       " <span style=\"background-color:#DFFF00 \">It</span><span style=\"background-color:#DFFF00 \"> isn’t</span><span style=\"background-color:#DFFF00 \"> alone</span><span style=\"background-color:#DFFF00 \"> though,</span><span style=\"background-color:#DFFF00 \"> experimentation,</span><span style=\"background-color:#DFFF00 \"> and</span> an experiment is a test that is used to eliminate one or more of the possible hypotheses, asking questions, and making observations <span style=\"background-color:#9FE2BF \">also</span><span style=\"background-color:#9FE2BF \"> guide</span><span style=\"background-color:#9FE2BF \"> scientific</span><span style=\"background-color:#9FE2BF \"> research.</span>"
      ],
      "text/plain": [
       "<IPython.core.display.HTML object>"
      ]
     },
     "metadata": {},
     "output_type": "display_data"
    },
    {
     "data": {
      "text/html": [
       " <span style=\"background-color:#DFFF00 \">Δεν</span><span style=\"background-color:#DFFF00 \"> υπάρχει</span><span style=\"background-color:#DFFF00 \"> μόνο</span><span style=\"background-color:#DFFF00 \"> του</span><span style=\"background-color:#DFFF00 \"> όμως,</span><span style=\"background-color:#DFFF00 \"> ο</span><span style=\"background-color:#DFFF00 \"> πειραματισμός,</span><span style=\"background-color:#DFFF00 \"> και</span> συγκεκριμένα το πείραμα αποτελεί μια δοκιμή που διενεργείται για να καταρρίψει μία ή περισσότερες πιθανές υποθέσεις, η υποβολή ερωτήσεων και η παρατήρηση <span style=\"background-color:#9FE2BF \">κατευθύνουν</span><span style=\"background-color:#9FE2BF \"> επίσης</span><span style=\"background-color:#9FE2BF \"> την</span><span style=\"background-color:#9FE2BF \"> επιστημονική</span><span style=\"background-color:#9FE2BF \"> έρευνα.</span>"
      ],
      "text/plain": [
       "<IPython.core.display.HTML object>"
      ]
     },
     "metadata": {},
     "output_type": "display_data"
    },
    {
     "name": "stdout",
     "output_type": "stream",
     "text": [
      "____________________________________203___________________________________________________\n",
      "163\n",
      "2.889837\n"
     ]
    },
    {
     "data": {
      "text/html": [
       " <span style=\"background-color:#e0e0e0 \">-14.454962</span><span style=\"background-color:#DFFF00 \"> -12.487505</span><span style=\"background-color:#9FE2BF \"> -11.565125</span>"
      ],
      "text/plain": [
       "<IPython.core.display.HTML object>"
      ]
     },
     "metadata": {},
     "output_type": "display_data"
    },
    {
     "name": "stdout",
     "output_type": "stream",
     "text": [
      "-  --  --  --  --  --  --  --  --  --  --  --  --  --  --  --  --  --  --  --  --  --  --  --  --  -\n"
     ]
    },
    {
     "data": {
      "text/html": [
       " Accepted were Aristotle's views on all matters of science, including psychology."
      ],
      "text/plain": [
       "<IPython.core.display.HTML object>"
      ]
     },
     "metadata": {},
     "output_type": "display_data"
    },
    {
     "data": {
      "text/html": [
       " Οι θέσεις του Αριστοτέλη σχετικά με τα επιστημονικά ζητήματα, <span style=\"background-color:#9FE2BF \">περιλαμβάνουμε</span><span style=\"background-color:#9FE2BF \"> και</span><span style=\"background-color:#9FE2BF \"> την</span> ψυχολογία <span style=\"background-color:#DFFF00 \">σε</span><span style=\"background-color:#DFFF00 \"> αυτά,</span> απολάμβαναν αποδοχής."
      ],
      "text/plain": [
       "<IPython.core.display.HTML object>"
      ]
     },
     "metadata": {},
     "output_type": "display_data"
    },
    {
     "name": "stdout",
     "output_type": "stream",
     "text": [
      "____________________________________204___________________________________________________\n",
      "164\n",
      "1.5816155000000003\n"
     ]
    },
    {
     "data": {
      "text/html": [
       " <span style=\"background-color:#e0e0e0 \">-4.3679338</span><span style=\"background-color:#DFFF00 \"> -2.7863183</span>"
      ],
      "text/plain": [
       "<IPython.core.display.HTML object>"
      ]
     },
     "metadata": {},
     "output_type": "display_data"
    },
    {
     "name": "stdout",
     "output_type": "stream",
     "text": [
      "-  --  --  --  --  --  --  --  --  --  --  --  --  --  --  --  --  --  --  --  --  --  --  --  --  -\n"
     ]
    },
    {
     "data": {
      "text/html": [
       " Biological clocks are self sustaining oscillators which will continue a period of free-running cycling even <span style=\"background-color:#DFFF00 \">in</span> the absence of external cues."
      ],
      "text/plain": [
       "<IPython.core.display.HTML object>"
      ]
     },
     "metadata": {},
     "output_type": "display_data"
    },
    {
     "data": {
      "text/html": [
       " Τα βιολογικά ρολόγια είναι αυτοσυντηρούμενοι ταλαντωτές, που συνεχίζουν αέναα την κυκλική λειτουργία τους ακόμα και <span style=\"background-color:#DFFF00 \">όταν</span> δεν έχουν εξωτερικά ερεθίσματα."
      ],
      "text/plain": [
       "<IPython.core.display.HTML object>"
      ]
     },
     "metadata": {},
     "output_type": "display_data"
    },
    {
     "name": "stdout",
     "output_type": "stream",
     "text": [
      "____________________________________206___________________________________________________\n",
      "165\n",
      "13.427448230000001\n"
     ]
    },
    {
     "data": {
      "text/html": [
       " <span style=\"background-color:#e0e0e0 \">-13.254364</span><span style=\"background-color:#DFFF00 \"> -2.620714</span><span style=\"background-color:#9FE2BF \"> -0.31071952</span><span style=\"background-color:#CCCCFF \"> 0.17308423</span>"
      ],
      "text/plain": [
       "<IPython.core.display.HTML object>"
      ]
     },
     "metadata": {},
     "output_type": "display_data"
    },
    {
     "name": "stdout",
     "output_type": "stream",
     "text": [
      "-  --  --  --  --  --  --  --  --  --  --  --  --  --  --  --  --  --  --  --  --  --  --  --  --  -\n"
     ]
    },
    {
     "data": {
      "text/html": [
       " In developed countries you <span style=\"background-color:#9FE2BF \">seldom</span> hear similar levels of complaints about water quality <span style=\"background-color:#DFFF00 \">or</span><span style=\"background-color:#DFFF00 \"> bridges</span><span style=\"background-color:#DFFF00 \"> falling</span><span style=\"background-color:#DFFF00 \"> down.</span>"
      ],
      "text/plain": [
       "<IPython.core.display.HTML object>"
      ]
     },
     "metadata": {},
     "output_type": "display_data"
    },
    {
     "data": {
      "text/html": [
       " Στις ανεπτυγμένες χώρες <span style=\"background-color:#9FE2BF \">σπάνια</span> ακούγονται παράπονα στο ίδιο επίπεδο σχετικά <span style=\"background-color:#CCCCFF \">με</span><span style=\"background-color:#CCCCFF \"> την</span> ποιότητα του νερού <span style=\"background-color:#DFFF00 \">ή</span><span style=\"background-color:#DFFF00 \"> με</span><span style=\"background-color:#DFFF00 \"> την</span><span style=\"background-color:#DFFF00 \"> κατάρρευση</span><span style=\"background-color:#DFFF00 \"> γεφυρών.</span>"
      ],
      "text/plain": [
       "<IPython.core.display.HTML object>"
      ]
     },
     "metadata": {},
     "output_type": "display_data"
    },
    {
     "name": "stdout",
     "output_type": "stream",
     "text": [
      "____________________________________207___________________________________________________\n",
      "166\n",
      "18.1437704\n"
     ]
    },
    {
     "data": {
      "text/html": [
       " <span style=\"background-color:#e0e0e0 \">-10.223664</span><span style=\"background-color:#DFFF00 \"> 5.217802</span><span style=\"background-color:#9FE2BF \"> 7.9201064</span>"
      ],
      "text/plain": [
       "<IPython.core.display.HTML object>"
      ]
     },
     "metadata": {},
     "output_type": "display_data"
    },
    {
     "name": "stdout",
     "output_type": "stream",
     "text": [
      "-  --  --  --  --  --  --  --  --  --  --  --  --  --  --  --  --  --  --  --  --  --  --  --  --  -\n"
     ]
    },
    {
     "data": {
      "text/html": [
       " Unfortunately, studying traffic flow is difficult because driver behavior cannot be predicted with <span style=\"background-color:#DFFF00 \">one-hundred</span><span style=\"background-color:#DFFF00 \"> percent</span> certainty."
      ],
      "text/plain": [
       "<IPython.core.display.HTML object>"
      ]
     },
     "metadata": {},
     "output_type": "display_data"
    },
    {
     "data": {
      "text/html": [
       " Δυστυχώς, η μελέτη της ροής της κυκλοφορίας δεν είναι εύκολη, καθώς είναι αδύνατο να προβλεφθεί με πλήρη σιγουριά <span style=\"background-color:#9FE2BF \">η</span><span style=\"background-color:#9FE2BF \"> συμπεριφορά</span><span style=\"background-color:#9FE2BF \"> των</span> οδηγών."
      ],
      "text/plain": [
       "<IPython.core.display.HTML object>"
      ]
     },
     "metadata": {},
     "output_type": "display_data"
    },
    {
     "name": "stdout",
     "output_type": "stream",
     "text": [
      "____________________________________208___________________________________________________\n",
      "167\n",
      "14.9007954\n"
     ]
    },
    {
     "data": {
      "text/html": [
       " <span style=\"background-color:#e0e0e0 \">-4.2326584</span><span style=\"background-color:#DFFF00 \"> 10.668137</span>"
      ],
      "text/plain": [
       "<IPython.core.display.HTML object>"
      ]
     },
     "metadata": {},
     "output_type": "display_data"
    },
    {
     "name": "stdout",
     "output_type": "stream",
     "text": [
      "-  --  --  --  --  --  --  --  --  --  --  --  --  --  --  --  --  --  --  --  --  --  --  --  --  -\n"
     ]
    },
    {
     "data": {
      "text/html": [
       " <span style=\"background-color:#DFFF00 \">Insects</span><span style=\"background-color:#DFFF00 \"> were</span><span style=\"background-color:#DFFF00 \"> the</span><span style=\"background-color:#DFFF00 \"> first</span><span style=\"background-color:#DFFF00 \"> animals</span><span style=\"background-color:#DFFF00 \"> to</span><span style=\"background-color:#DFFF00 \"> take</span><span style=\"background-color:#DFFF00 \"> to</span><span style=\"background-color:#DFFF00 \"> the</span><span style=\"background-color:#DFFF00 \"> air.</span> Their ability to fly helped them evade enemies more easily and find food and mates more efficiently."
      ],
      "text/plain": [
       "<IPython.core.display.HTML object>"
      ]
     },
     "metadata": {},
     "output_type": "display_data"
    },
    {
     "data": {
      "text/html": [
       " <span style=\"background-color:#DFFF00 \">Τα</span><span style=\"background-color:#DFFF00 \"> πρώτα</span><span style=\"background-color:#DFFF00 \"> ζώα</span><span style=\"background-color:#DFFF00 \"> που</span><span style=\"background-color:#DFFF00 \"> απογειώθηκαν</span><span style=\"background-color:#DFFF00 \"> ήταν</span><span style=\"background-color:#DFFF00 \"> τα</span><span style=\"background-color:#DFFF00 \"> έντομα.</span> Η ικανότητά τους να πετούν τα βοηθούσε να αποφεύγουν εχθρούς πιο εύκολα και να βρίσκουν τροφή και σύντροφο πιο αποτελεσματικά."
      ],
      "text/plain": [
       "<IPython.core.display.HTML object>"
      ]
     },
     "metadata": {},
     "output_type": "display_data"
    },
    {
     "name": "stdout",
     "output_type": "stream",
     "text": [
      "____________________________________209___________________________________________________\n",
      "168\n",
      "6.213025\n"
     ]
    },
    {
     "data": {
      "text/html": [
       " <span style=\"background-color:#e0e0e0 \">-14.415187</span><span style=\"background-color:#DFFF00 \"> -8.202162</span>"
      ],
      "text/plain": [
       "<IPython.core.display.HTML object>"
      ]
     },
     "metadata": {},
     "output_type": "display_data"
    },
    {
     "name": "stdout",
     "output_type": "stream",
     "text": [
      "-  --  --  --  --  --  --  --  --  --  --  --  --  --  --  --  --  --  --  --  --  --  --  --  --  -\n"
     ]
    },
    {
     "data": {
      "text/html": [
       " This gives them a wider range of small <span style=\"background-color:#DFFF00 \">places</span><span style=\"background-color:#DFFF00 \"> to</span><span style=\"background-color:#DFFF00 \"> hide</span><span style=\"background-color:#DFFF00 \"> from</span> predators."
      ],
      "text/plain": [
       "<IPython.core.display.HTML object>"
      ]
     },
     "metadata": {},
     "output_type": "display_data"
    },
    {
     "data": {
      "text/html": [
       " Αυτό τους παρέχει μια μεγαλύτερη ποικιλία μικρών <span style=\"background-color:#DFFF00 \">κρυψώνων</span><span style=\"background-color:#DFFF00 \"> από</span><span style=\"background-color:#DFFF00 \"> τα</span> αρπακτικά."
      ],
      "text/plain": [
       "<IPython.core.display.HTML object>"
      ]
     },
     "metadata": {},
     "output_type": "display_data"
    },
    {
     "name": "stdout",
     "output_type": "stream",
     "text": [
      "____________________________________210___________________________________________________\n",
      "169\n",
      "10.386861499999998\n"
     ]
    },
    {
     "data": {
      "text/html": [
       " <span style=\"background-color:#e0e0e0 \">-12.048148</span><span style=\"background-color:#DFFF00 \"> -4.0469623</span><span style=\"background-color:#9FE2BF \"> -1.6612865</span>"
      ],
      "text/plain": [
       "<IPython.core.display.HTML object>"
      ]
     },
     "metadata": {},
     "output_type": "display_data"
    },
    {
     "name": "stdout",
     "output_type": "stream",
     "text": [
      "-  --  --  --  --  --  --  --  --  --  --  --  --  --  --  --  --  --  --  --  --  --  --  --  --  -\n"
     ]
    },
    {
     "data": {
      "text/html": [
       " <span style=\"background-color:#9FE2BF \">Today,</span><span style=\"background-color:#9FE2BF \"> the</span> only insects that cannot fold back their wings are dragon flies <span style=\"background-color:#DFFF00 \">and</span><span style=\"background-color:#DFFF00 \"> mayflies.</span>"
      ],
      "text/plain": [
       "<IPython.core.display.HTML object>"
      ]
     },
     "metadata": {},
     "output_type": "display_data"
    },
    {
     "data": {
      "text/html": [
       " <span style=\"background-color:#9FE2BF \">Πλέον,</span><span style=\"background-color:#9FE2BF \"> τα</span> μόνα έντομα που δεν μπορούν να διπλώσουν τα φτερά τους είναι οι λιβελούλες <span style=\"background-color:#DFFF00 \">και</span><span style=\"background-color:#DFFF00 \"> τα</span><span style=\"background-color:#DFFF00 \"> εφημερόπτερα.</span>"
      ],
      "text/plain": [
       "<IPython.core.display.HTML object>"
      ]
     },
     "metadata": {},
     "output_type": "display_data"
    },
    {
     "name": "stdout",
     "output_type": "stream",
     "text": [
      "____________________________________211___________________________________________________\n",
      "170\n",
      "1.4920219999999986\n"
     ]
    },
    {
     "data": {
      "text/html": [
       " <span style=\"background-color:#e0e0e0 \">-10.170651</span><span style=\"background-color:#DFFF00 \"> -8.983343</span><span style=\"background-color:#9FE2BF \"> -8.678629</span>"
      ],
      "text/plain": [
       "<IPython.core.display.HTML object>"
      ]
     },
     "metadata": {},
     "output_type": "display_data"
    },
    {
     "name": "stdout",
     "output_type": "stream",
     "text": [
      "-  --  --  --  --  --  --  --  --  --  --  --  --  --  --  --  --  --  --  --  --  --  --  --  --  -\n"
     ]
    },
    {
     "data": {
      "text/html": [
       " <span style=\"background-color:#DFFF00 \">Thousands</span><span style=\"background-color:#DFFF00 \"> of</span><span style=\"background-color:#DFFF00 \"> years</span> ago, <span style=\"background-color:#9FE2BF \">a</span><span style=\"background-color:#9FE2BF \"> man</span><span style=\"background-color:#9FE2BF \"> called</span> Aristarchus said that the Solar System moved around the Sun."
      ],
      "text/plain": [
       "<IPython.core.display.HTML object>"
      ]
     },
     "metadata": {},
     "output_type": "display_data"
    },
    {
     "data": {
      "text/html": [
       " <span style=\"background-color:#DFFF00 \">Πολλά</span><span style=\"background-color:#DFFF00 \"> έτη</span> πίσω, <span style=\"background-color:#9FE2BF \">ο</span> Αρίσταρχος ανέφερε πως το Ηλιακό Σύστημα γύριζε περιμετρικού του Ήλιου."
      ],
      "text/plain": [
       "<IPython.core.display.HTML object>"
      ]
     },
     "metadata": {},
     "output_type": "display_data"
    },
    {
     "name": "stdout",
     "output_type": "stream",
     "text": [
      "____________________________________212___________________________________________________\n",
      "171\n",
      "1.7368429999999995\n"
     ]
    },
    {
     "data": {
      "text/html": [
       " <span style=\"background-color:#e0e0e0 \">-8.122421</span><span style=\"background-color:#DFFF00 \"> -6.385578</span>"
      ],
      "text/plain": [
       "<IPython.core.display.HTML object>"
      ]
     },
     "metadata": {},
     "output_type": "display_data"
    },
    {
     "name": "stdout",
     "output_type": "stream",
     "text": [
      "-  --  --  --  --  --  --  --  --  --  --  --  --  --  --  --  --  --  --  --  --  --  --  --  --  -\n"
     ]
    },
    {
     "data": {
      "text/html": [
       " This seems sensible, because the Earth doesn't feel as if it's moving, <span style=\"background-color:#DFFF00 \">does</span><span style=\"background-color:#DFFF00 \"> it?</span>"
      ],
      "text/plain": [
       "<IPython.core.display.HTML object>"
      ]
     },
     "metadata": {},
     "output_type": "display_data"
    },
    {
     "data": {
      "text/html": [
       " Μοιάζει λογικό, μιας και η Γη δεν φαίνεται σαν να κινείται, <span style=\"background-color:#DFFF00 \">σωστά;</span>"
      ],
      "text/plain": [
       "<IPython.core.display.HTML object>"
      ]
     },
     "metadata": {},
     "output_type": "display_data"
    },
    {
     "name": "stdout",
     "output_type": "stream",
     "text": [
      "____________________________________214___________________________________________________\n",
      "172\n",
      "3.4735857\n"
     ]
    },
    {
     "data": {
      "text/html": [
       " <span style=\"background-color:#e0e0e0 \">-1.1738232</span><span style=\"background-color:#DFFF00 \"> -0.98295146</span><span style=\"background-color:#9FE2BF \"> 1.5539043</span><span style=\"background-color:#CCCCFF \"> 2.2997625</span>"
      ],
      "text/plain": [
       "<IPython.core.display.HTML object>"
      ]
     },
     "metadata": {},
     "output_type": "display_data"
    },
    {
     "name": "stdout",
     "output_type": "stream",
     "text": [
      "-  --  --  --  --  --  --  --  --  --  --  --  --  --  --  --  --  --  --  --  --  --  --  --  --  -\n"
     ]
    },
    {
     "data": {
      "text/html": [
       " New Kingdom ancient Egyptians marvelled <span style=\"background-color:#9FE2BF \">at</span> their <span style=\"background-color:#DFFF00 \">predecessors</span> monuments, which were then well over a thousand year old."
      ],
      "text/plain": [
       "<IPython.core.display.HTML object>"
      ]
     },
     "metadata": {},
     "output_type": "display_data"
    },
    {
     "data": {
      "text/html": [
       " <span style=\"background-color:#CCCCFF \">Οι</span><span style=\"background-color:#CCCCFF \"> αρχαίοι</span> Αιγύπτιοι της εποχής του Νέου Βασιλείου εντυπωσιάζονταν <span style=\"background-color:#9FE2BF \">από</span><span style=\"background-color:#9FE2BF \"> τα</span> μνημεία <span style=\"background-color:#DFFF00 \">των</span><span style=\"background-color:#DFFF00 \"> προγόνων</span> τους, τα οποία τότε ήταν άνω των χιλίων ετών."
      ],
      "text/plain": [
       "<IPython.core.display.HTML object>"
      ]
     },
     "metadata": {},
     "output_type": "display_data"
    },
    {
     "name": "stdout",
     "output_type": "stream",
     "text": [
      "____________________________________215___________________________________________________\n",
      "173\n",
      "7.345606500000001\n"
     ]
    },
    {
     "data": {
      "text/html": [
       " <span style=\"background-color:#e0e0e0 \">-8.92623</span><span style=\"background-color:#DFFF00 \"> -1.5806235</span>"
      ],
      "text/plain": [
       "<IPython.core.display.HTML object>"
      ]
     },
     "metadata": {},
     "output_type": "display_data"
    },
    {
     "name": "stdout",
     "output_type": "stream",
     "text": [
      "-  --  --  --  --  --  --  --  --  --  --  --  --  --  --  --  --  --  --  --  --  --  --  --  --  -\n"
     ]
    },
    {
     "data": {
      "text/html": [
       " <span style=\"background-color:#DFFF00 \">Vatican</span><span style=\"background-color:#DFFF00 \"> City</span> uses Italian in its legislation and official communications."
      ],
      "text/plain": [
       "<IPython.core.display.HTML object>"
      ]
     },
     "metadata": {},
     "output_type": "display_data"
    },
    {
     "data": {
      "text/html": [
       " Το Βατικανό χρησιμοποιεί την ιταλική γλώσσα στη νομοθεσία και στις επίσημες ανακοινώσεις του."
      ],
      "text/plain": [
       "<IPython.core.display.HTML object>"
      ]
     },
     "metadata": {},
     "output_type": "display_data"
    },
    {
     "name": "stdout",
     "output_type": "stream",
     "text": [
      "____________________________________217___________________________________________________\n",
      "174\n",
      "17.255641699999998\n"
     ]
    },
    {
     "data": {
      "text/html": [
       " <span style=\"background-color:#e0e0e0 \">-3.9804177</span><span style=\"background-color:#DFFF00 \"> 13.275224</span>"
      ],
      "text/plain": [
       "<IPython.core.display.HTML object>"
      ]
     },
     "metadata": {},
     "output_type": "display_data"
    },
    {
     "name": "stdout",
     "output_type": "stream",
     "text": [
      "-  --  --  --  --  --  --  --  --  --  --  --  --  --  --  --  --  --  --  --  --  --  --  --  --  -\n"
     ]
    },
    {
     "data": {
      "text/html": [
       " Everything in the Universe is made of matter. All matter is made of <span style=\"background-color:#DFFF00 \">tiny</span><span style=\"background-color:#DFFF00 \"> particles</span><span style=\"background-color:#DFFF00 \"> called</span> atoms."
      ],
      "text/plain": [
       "<IPython.core.display.HTML object>"
      ]
     },
     "metadata": {},
     "output_type": "display_data"
    },
    {
     "data": {
      "text/html": [
       " Τα πάντα στο Σύμπαν αποτελούνται από ύλη. Όλη η ύλη απαρτίζεται από <span style=\"background-color:#DFFF00 \">πολύ</span><span style=\"background-color:#DFFF00 \"> μικρά</span><span style=\"background-color:#DFFF00 \"> σωματίδια,</span><span style=\"background-color:#DFFF00 \"> τα</span> άτομα."
      ],
      "text/plain": [
       "<IPython.core.display.HTML object>"
      ]
     },
     "metadata": {},
     "output_type": "display_data"
    },
    {
     "name": "stdout",
     "output_type": "stream",
     "text": [
      "____________________________________218___________________________________________________\n",
      "175\n",
      "3.525569000000001\n"
     ]
    },
    {
     "data": {
      "text/html": [
       " <span style=\"background-color:#e0e0e0 \">-12.025665</span><span style=\"background-color:#DFFF00 \"> -8.500096</span>"
      ],
      "text/plain": [
       "<IPython.core.display.HTML object>"
      ]
     },
     "metadata": {},
     "output_type": "display_data"
    },
    {
     "name": "stdout",
     "output_type": "stream",
     "text": [
      "-  --  --  --  --  --  --  --  --  --  --  --  --  --  --  --  --  --  --  --  --  --  --  --  --  -\n"
     ]
    },
    {
     "data": {
      "text/html": [
       " Thus, the pencil was a good <span style=\"background-color:#DFFF00 \">friend</span> to many people when it came out."
      ],
      "text/plain": [
       "<IPython.core.display.HTML object>"
      ]
     },
     "metadata": {},
     "output_type": "display_data"
    },
    {
     "data": {
      "text/html": [
       " Επομένως, το μολύβι όταν εμφανίστηκε έγινε ένας καλός <span style=\"background-color:#DFFF00 \">φίλος</span> για πολλούς."
      ],
      "text/plain": [
       "<IPython.core.display.HTML object>"
      ]
     },
     "metadata": {},
     "output_type": "display_data"
    },
    {
     "name": "stdout",
     "output_type": "stream",
     "text": [
      "____________________________________220___________________________________________________\n",
      "176\n",
      "5.521599\n"
     ]
    },
    {
     "data": {
      "text/html": [
       " <span style=\"background-color:#e0e0e0 \">-15.795837</span><span style=\"background-color:#DFFF00 \"> -10.998411</span><span style=\"background-color:#9FE2BF \"> -10.535999</span><span style=\"background-color:#CCCCFF \"> -10.274238</span>"
      ],
      "text/plain": [
       "<IPython.core.display.HTML object>"
      ]
     },
     "metadata": {},
     "output_type": "display_data"
    },
    {
     "name": "stdout",
     "output_type": "stream",
     "text": [
      "-  --  --  --  --  --  --  --  --  --  --  --  --  --  --  --  --  --  --  --  --  --  --  --  --  -\n"
     ]
    },
    {
     "data": {
      "text/html": [
       " <span style=\"background-color:#CCCCFF \">People</span> now write messages on computer screens, never having to <span style=\"background-color:#DFFF00 \">come</span><span style=\"background-color:#DFFF00 \"> close</span><span style=\"background-color:#DFFF00 \"> to</span><span style=\"background-color:#DFFF00 \"> a</span> sharpener."
      ],
      "text/plain": [
       "<IPython.core.display.HTML object>"
      ]
     },
     "metadata": {},
     "output_type": "display_data"
    },
    {
     "data": {
      "text/html": [
       " <span style=\"background-color:#CCCCFF \">Ο</span><span style=\"background-color:#CCCCFF \"> κόσμος</span> πλέον γράφει μηνύματα σε οθόνες υπολογιστών, χωρίς <span style=\"background-color:#9FE2BF \">να</span><span style=\"background-color:#9FE2BF \"> χρειάζεται</span><span style=\"background-color:#9FE2BF \"> ποτέ</span> να <span style=\"background-color:#DFFF00 \">πιάσει</span> ξύστρα."
      ],
      "text/plain": [
       "<IPython.core.display.HTML object>"
      ]
     },
     "metadata": {},
     "output_type": "display_data"
    },
    {
     "name": "stdout",
     "output_type": "stream",
     "text": [
      "____________________________________221___________________________________________________\n",
      "177\n",
      "6.6031908999999995\n"
     ]
    },
    {
     "data": {
      "text/html": [
       " <span style=\"background-color:#e0e0e0 \">-3.6018236</span><span style=\"background-color:#DFFF00 \"> 3.0013673</span>"
      ],
      "text/plain": [
       "<IPython.core.display.HTML object>"
      ]
     },
     "metadata": {},
     "output_type": "display_data"
    },
    {
     "name": "stdout",
     "output_type": "stream",
     "text": [
      "-  --  --  --  --  --  --  --  --  --  --  --  --  --  --  --  --  --  --  --  --  --  --  --  --  -\n"
     ]
    },
    {
     "data": {
      "text/html": [
       " <span style=\"background-color:#DFFF00 \">Sort</span><span style=\"background-color:#DFFF00 \"> of</span><span style=\"background-color:#DFFF00 \"> like</span> rolling a heavy cart up a hill. Splitting the nucleus up again then releases some of that energy."
      ],
      "text/plain": [
       "<IPython.core.display.HTML object>"
      ]
     },
     "metadata": {},
     "output_type": "display_data"
    },
    {
     "data": {
      "text/html": [
       " <span style=\"background-color:#DFFF00 \">Σαν</span><span style=\"background-color:#DFFF00 \"> να</span> τσουλάει ένα βαρύ καρότσι πάνω σε έναν λόφο. Διασπώντας ξανά τον πυρήνα απελευθερώνεται μέρος αυτής της ενέργειας."
      ],
      "text/plain": [
       "<IPython.core.display.HTML object>"
      ]
     },
     "metadata": {},
     "output_type": "display_data"
    },
    {
     "name": "stdout",
     "output_type": "stream",
     "text": [
      "____________________________________222___________________________________________________\n",
      "178\n",
      "5.617647\n"
     ]
    },
    {
     "data": {
      "text/html": [
       " <span style=\"background-color:#e0e0e0 \">-14.101149</span><span style=\"background-color:#DFFF00 \"> -8.483502</span>"
      ],
      "text/plain": [
       "<IPython.core.display.HTML object>"
      ]
     },
     "metadata": {},
     "output_type": "display_data"
    },
    {
     "name": "stdout",
     "output_type": "stream",
     "text": [
      "-  --  --  --  --  --  --  --  --  --  --  --  --  --  --  --  --  --  --  --  --  --  --  --  --  -\n"
     ]
    },
    {
     "data": {
      "text/html": [
       " It is thinner <span style=\"background-color:#DFFF00 \">under</span><span style=\"background-color:#DFFF00 \"> the</span><span style=\"background-color:#DFFF00 \"> maria</span> and thicker under the highlands."
      ],
      "text/plain": [
       "<IPython.core.display.HTML object>"
      ]
     },
     "metadata": {},
     "output_type": "display_data"
    },
    {
     "data": {
      "text/html": [
       " Είναι πιο λεπτός <span style=\"background-color:#DFFF00 \">κάτω</span><span style=\"background-color:#DFFF00 \"> από</span><span style=\"background-color:#DFFF00 \"> τις</span><span style=\"background-color:#DFFF00 \"> θάλασσες</span> και πιο παχύς κάτω από τα υψίπεδα."
      ],
      "text/plain": [
       "<IPython.core.display.HTML object>"
      ]
     },
     "metadata": {},
     "output_type": "display_data"
    },
    {
     "name": "stdout",
     "output_type": "stream",
     "text": [
      "____________________________________223___________________________________________________\n",
      "179\n",
      "0.05332204000000007\n"
     ]
    },
    {
     "data": {
      "text/html": [
       " <span style=\"background-color:#e0e0e0 \">-0.99948424</span><span style=\"background-color:#DFFF00 \"> -0.9461622</span>"
      ],
      "text/plain": [
       "<IPython.core.display.HTML object>"
      ]
     },
     "metadata": {},
     "output_type": "display_data"
    },
    {
     "name": "stdout",
     "output_type": "stream",
     "text": [
      "-  --  --  --  --  --  --  --  --  --  --  --  --  --  --  --  --  --  --  --  --  --  --  --  --  -\n"
     ]
    },
    {
     "data": {
      "text/html": [
       " Content theories are centered on finding what <span style=\"background-color:#DFFF00 \">makes</span> people tick or appeals to them."
      ],
      "text/plain": [
       "<IPython.core.display.HTML object>"
      ]
     },
     "metadata": {},
     "output_type": "display_data"
    },
    {
     "data": {
      "text/html": [
       " Οι θεωρίες περιεχομένου επικεντρώνονται στο να ανακαλύψουν τι <span style=\"background-color:#DFFF00 \">κάνει</span> κλικ στους ανθρώπους ή τι τους προσελκύει."
      ],
      "text/plain": [
       "<IPython.core.display.HTML object>"
      ]
     },
     "metadata": {},
     "output_type": "display_data"
    },
    {
     "name": "stdout",
     "output_type": "stream",
     "text": [
      "____________________________________224___________________________________________________\n",
      "180\n",
      "13.298223\n"
     ]
    },
    {
     "data": {
      "text/html": [
       " <span style=\"background-color:#e0e0e0 \">-15.242234</span><span style=\"background-color:#DFFF00 \"> -1.944011</span>"
      ],
      "text/plain": [
       "<IPython.core.display.HTML object>"
      ]
     },
     "metadata": {},
     "output_type": "display_data"
    },
    {
     "name": "stdout",
     "output_type": "stream",
     "text": [
      "-  --  --  --  --  --  --  --  --  --  --  --  --  --  --  --  --  --  --  --  --  --  --  --  --  -\n"
     ]
    },
    {
     "data": {
      "text/html": [
       " Generally speaking, two behaviors can emerge as managers begin to lead their former peers. One end of the spectrum is trying to remain “one of the guys” <span style=\"background-color:#DFFF00 \">(or</span><span style=\"background-color:#DFFF00 \"> gals).</span>"
      ],
      "text/plain": [
       "<IPython.core.display.HTML object>"
      ]
     },
     "metadata": {},
     "output_type": "display_data"
    },
    {
     "data": {
      "text/html": [
       " Σε γενικά πλαίσια, δύο συμπεριφορές μπορούν αν εμφανιστούν όταν οι διευθυντές αρχίσουν να καθοδηγούν τους πρώην ομότιμούς τους. Το ένα άκρο του φάσματος είναι να προσπαθήσουν να παραμείνουν ως «ένας από τα παιδιά» <span style=\"background-color:#DFFF00 \">(ή</span><span style=\"background-color:#DFFF00 \"> μία).</span>"
      ],
      "text/plain": [
       "<IPython.core.display.HTML object>"
      ]
     },
     "metadata": {},
     "output_type": "display_data"
    },
    {
     "name": "stdout",
     "output_type": "stream",
     "text": [
      "____________________________________225___________________________________________________\n",
      "181\n",
      "4.05305133\n"
     ]
    },
    {
     "data": {
      "text/html": [
       " <span style=\"background-color:#e0e0e0 \">-4.972733</span><span style=\"background-color:#DFFF00 \"> -2.5149975</span><span style=\"background-color:#9FE2BF \"> -0.91968167</span>"
      ],
      "text/plain": [
       "<IPython.core.display.HTML object>"
      ]
     },
     "metadata": {},
     "output_type": "display_data"
    },
    {
     "name": "stdout",
     "output_type": "stream",
     "text": [
      "-  --  --  --  --  --  --  --  --  --  --  --  --  --  --  --  --  --  --  --  --  --  --  --  --  -\n"
     ]
    },
    {
     "data": {
      "text/html": [
       " Virtual team members often function as <span style=\"background-color:#DFFF00 \">the</span><span style=\"background-color:#DFFF00 \"> point</span><span style=\"background-color:#DFFF00 \"> of</span><span style=\"background-color:#DFFF00 \"> contact</span><span style=\"background-color:#DFFF00 \"> for</span> their immediate <span style=\"background-color:#9FE2BF \">physical</span> group."
      ],
      "text/plain": [
       "<IPython.core.display.HTML object>"
      ]
     },
     "metadata": {},
     "output_type": "display_data"
    },
    {
     "data": {
      "text/html": [
       " Τα εικονικά μέλη της ομάδας συχνά λειτουργούν ως <span style=\"background-color:#DFFF00 \">σύνδεσμος</span><span style=\"background-color:#DFFF00 \"> με</span> την άμεσης <span style=\"background-color:#9FE2BF \">φυσικής</span><span style=\"background-color:#9FE2BF \"> τους</span> ομάδας."
      ],
      "text/plain": [
       "<IPython.core.display.HTML object>"
      ]
     },
     "metadata": {},
     "output_type": "display_data"
    },
    {
     "name": "stdout",
     "output_type": "stream",
     "text": [
      "____________________________________226___________________________________________________\n",
      "182\n",
      "3.1884137999999997\n"
     ]
    },
    {
     "data": {
      "text/html": [
       " <span style=\"background-color:#e0e0e0 \">-6.429821</span><span style=\"background-color:#DFFF00 \"> -4.0029354</span><span style=\"background-color:#9FE2BF \"> -3.2414072</span>"
      ],
      "text/plain": [
       "<IPython.core.display.HTML object>"
      ]
     },
     "metadata": {},
     "output_type": "display_data"
    },
    {
     "name": "stdout",
     "output_type": "stream",
     "text": [
      "-  --  --  --  --  --  --  --  --  --  --  --  --  --  --  --  --  --  --  --  --  --  --  --  --  -\n"
     ]
    },
    {
     "data": {
      "text/html": [
       " The presence of a true “invisible team” <span style=\"background-color:#DFFF00 \">(Larson</span><span style=\"background-color:#DFFF00 \"> and</span><span style=\"background-color:#DFFF00 \"> LaFasto,</span><span style=\"background-color:#DFFF00 \"> 1989,</span><span style=\"background-color:#DFFF00 \"> p109)</span><span style=\"background-color:#DFFF00 \"> is</span><span style=\"background-color:#DFFF00 \"> also</span><span style=\"background-color:#DFFF00 \"> a</span> unique component of a <span style=\"background-color:#9FE2BF \">virtual</span> team."
      ],
      "text/plain": [
       "<IPython.core.display.HTML object>"
      ]
     },
     "metadata": {},
     "output_type": "display_data"
    },
    {
     "data": {
      "text/html": [
       " Η ύπαρξη μιας αλήθεια «αόρατης ομάδας» <span style=\"background-color:#DFFF00 \">(Λάρσον</span><span style=\"background-color:#DFFF00 \"> και</span><span style=\"background-color:#DFFF00 \"> Λα</span><span style=\"background-color:#DFFF00 \"> Φάστο,</span><span style=\"background-color:#DFFF00 \"> 1989,</span><span style=\"background-color:#DFFF00 \"> σελ.</span><span style=\"background-color:#DFFF00 \"> 109)</span><span style=\"background-color:#DFFF00 \"> είναι</span><span style=\"background-color:#DFFF00 \"> ένα</span><span style=\"background-color:#DFFF00 \"> ακόμη</span> μοναδικό στοιχείο μιας <span style=\"background-color:#9FE2BF \">εικονικής</span> ομάδας."
      ],
      "text/plain": [
       "<IPython.core.display.HTML object>"
      ]
     },
     "metadata": {},
     "output_type": "display_data"
    },
    {
     "name": "stdout",
     "output_type": "stream",
     "text": [
      "____________________________________227___________________________________________________\n",
      "183\n",
      "0.45002169999999975\n"
     ]
    },
    {
     "data": {
      "text/html": [
       " <span style=\"background-color:#e0e0e0 \">-3.723804</span><span style=\"background-color:#DFFF00 \"> -3.2737823</span>"
      ],
      "text/plain": [
       "<IPython.core.display.HTML object>"
      ]
     },
     "metadata": {},
     "output_type": "display_data"
    },
    {
     "name": "stdout",
     "output_type": "stream",
     "text": [
      "-  --  --  --  --  --  --  --  --  --  --  --  --  --  --  --  --  --  --  --  --  --  --  --  --  -\n"
     ]
    },
    {
     "data": {
      "text/html": [
       " <span style=\"background-color:#DFFF00 \">The</span> “invisible team” is the management team to which each of the members report. The invisible team sets the standards for each member."
      ],
      "text/plain": [
       "<IPython.core.display.HTML object>"
      ]
     },
     "metadata": {},
     "output_type": "display_data"
    },
    {
     "data": {
      "text/html": [
       " <span style=\"background-color:#DFFF00 \">Ο</span> καθένας παρουσιάζεται στην «μη ορατή ομάδα» διαχείρισης. Αυτή ορίζει τις προδιαγραφές για όλους τους συμμετέχοντες."
      ],
      "text/plain": [
       "<IPython.core.display.HTML object>"
      ]
     },
     "metadata": {},
     "output_type": "display_data"
    },
    {
     "name": "stdout",
     "output_type": "stream",
     "text": [
      "____________________________________228___________________________________________________\n",
      "184\n",
      "3.6860280000000003\n"
     ]
    },
    {
     "data": {
      "text/html": [
       " <span style=\"background-color:#e0e0e0 \">-13.65753</span><span style=\"background-color:#DFFF00 \"> -10.303247</span><span style=\"background-color:#9FE2BF \"> -9.971502</span>"
      ],
      "text/plain": [
       "<IPython.core.display.HTML object>"
      ]
     },
     "metadata": {},
     "output_type": "display_data"
    },
    {
     "name": "stdout",
     "output_type": "stream",
     "text": [
      "-  --  --  --  --  --  --  --  --  --  --  --  --  --  --  --  --  --  --  --  --  --  --  --  --  -\n"
     ]
    },
    {
     "data": {
      "text/html": [
       " When all available resources are effectively used across the functional <span style=\"background-color:#9FE2BF \">departments</span> of an organization, creativity <span style=\"background-color:#DFFF00 \">and</span> ingenuity can transpire."
      ],
      "text/plain": [
       "<IPython.core.display.HTML object>"
      ]
     },
     "metadata": {},
     "output_type": "display_data"
    },
    {
     "data": {
      "text/html": [
       " Η δημιουργικότητα <span style=\"background-color:#DFFF00 \">και</span><span style=\"background-color:#DFFF00 \"> η</span> ευφυΐα ευνοούνται όταν γίνεται κατάλληλη χρήση όλων των διαθέσιμων πόρων στα λειτουργικά <span style=\"background-color:#9FE2BF \">τμήματα</span> ενός οργανισμού."
      ],
      "text/plain": [
       "<IPython.core.display.HTML object>"
      ]
     },
     "metadata": {},
     "output_type": "display_data"
    },
    {
     "name": "stdout",
     "output_type": "stream",
     "text": [
      "____________________________________230___________________________________________________\n",
      "185\n",
      "4.5078412\n"
     ]
    },
    {
     "data": {
      "text/html": [
       " <span style=\"background-color:#e0e0e0 \">-1.6465665</span><span style=\"background-color:#DFFF00 \"> 1.1386138</span><span style=\"background-color:#9FE2BF \"> 2.8612747</span>"
      ],
      "text/plain": [
       "<IPython.core.display.HTML object>"
      ]
     },
     "metadata": {},
     "output_type": "display_data"
    },
    {
     "name": "stdout",
     "output_type": "stream",
     "text": [
      "-  --  --  --  --  --  --  --  --  --  --  --  --  --  --  --  --  --  --  --  --  --  --  --  --  -\n"
     ]
    },
    {
     "data": {
      "text/html": [
       " Research in AI involves <span style=\"background-color:#9FE2BF \">making</span> machines to automate tasks that require intelligent behavior."
      ],
      "text/plain": [
       "<IPython.core.display.HTML object>"
      ]
     },
     "metadata": {},
     "output_type": "display_data"
    },
    {
     "data": {
      "text/html": [
       " Η έρευνα στην τεχνητή νοημοσύνη περιλαμβάνει την <span style=\"background-color:#9FE2BF \">κατασκευή</span> μηχανών με <span style=\"background-color:#DFFF00 \">σκοπό</span><span style=\"background-color:#DFFF00 \"> την</span> αυτοματοποίηση εργασιών που απαιτούν νοήμονα συμπεριφορά."
      ],
      "text/plain": [
       "<IPython.core.display.HTML object>"
      ]
     },
     "metadata": {},
     "output_type": "display_data"
    },
    {
     "name": "stdout",
     "output_type": "stream",
     "text": [
      "____________________________________231___________________________________________________\n",
      "186\n",
      "2.1543980000000005\n"
     ]
    },
    {
     "data": {
      "text/html": [
       " <span style=\"background-color:#e0e0e0 \">-13.084552</span><span style=\"background-color:#DFFF00 \"> -10.930154</span>"
      ],
      "text/plain": [
       "<IPython.core.display.HTML object>"
      ]
     },
     "metadata": {},
     "output_type": "display_data"
    },
    {
     "name": "stdout",
     "output_type": "stream",
     "text": [
      "-  --  --  --  --  --  --  --  --  --  --  --  --  --  --  --  --  --  --  --  --  --  --  --  --  -\n"
     ]
    },
    {
     "data": {
      "text/html": [
       " Such things have become separate <span style=\"background-color:#DFFF00 \">disciplines,</span> which focus on providing solutions to real life problems."
      ],
      "text/plain": [
       "<IPython.core.display.HTML object>"
      ]
     },
     "metadata": {},
     "output_type": "display_data"
    },
    {
     "data": {
      "text/html": [
       " Αυτά αποτελούν πλέον ξεχωριστές <span style=\"background-color:#DFFF00 \">αρχές</span><span style=\"background-color:#DFFF00 \"> ,</span> οι οποίες εστιάζουν στην παροχή λύσεων σε πραγματικά προβλήματα της καθημερινότητας."
      ],
      "text/plain": [
       "<IPython.core.display.HTML object>"
      ]
     },
     "metadata": {},
     "output_type": "display_data"
    },
    {
     "name": "stdout",
     "output_type": "stream",
     "text": [
      "____________________________________232___________________________________________________\n",
      "187\n",
      "16.0824591\n"
     ]
    },
    {
     "data": {
      "text/html": [
       " <span style=\"background-color:#e0e0e0 \">-1.4181691</span><span style=\"background-color:#DFFF00 \"> 13.858156</span><span style=\"background-color:#9FE2BF \"> 14.66429</span>"
      ],
      "text/plain": [
       "<IPython.core.display.HTML object>"
      ]
     },
     "metadata": {},
     "output_type": "display_data"
    },
    {
     "name": "stdout",
     "output_type": "stream",
     "text": [
      "-  --  --  --  --  --  --  --  --  --  --  --  --  --  --  --  --  --  --  --  --  --  --  --  --  -\n"
     ]
    },
    {
     "data": {
      "text/html": [
       " The AI <span style=\"background-color:#9FE2BF \">​​system</span> is now often used in the fields of economics, <span style=\"background-color:#DFFF00 \">medicine,</span><span style=\"background-color:#DFFF00 \"> engineering</span><span style=\"background-color:#DFFF00 \"> and</span><span style=\"background-color:#DFFF00 \"> the</span><span style=\"background-color:#DFFF00 \"> military,</span><span style=\"background-color:#DFFF00 \"> as</span><span style=\"background-color:#DFFF00 \"> has</span><span style=\"background-color:#DFFF00 \"> been</span><span style=\"background-color:#DFFF00 \"> built</span> in several home computer and video game software applications."
      ],
      "text/plain": [
       "<IPython.core.display.HTML object>"
      ]
     },
     "metadata": {},
     "output_type": "display_data"
    },
    {
     "data": {
      "text/html": [
       " Το <span style=\"background-color:#9FE2BF \">σύστημα</span> AI λειτουργεί στις μέρες μας συχνά στους κλάδους των οικονομικών, <span style=\"background-color:#DFFF00 \">της</span><span style=\"background-color:#DFFF00 \"> περίθαλψης,</span><span style=\"background-color:#DFFF00 \"> της</span><span style=\"background-color:#DFFF00 \"> μηχανικής</span><span style=\"background-color:#DFFF00 \"> και</span><span style=\"background-color:#DFFF00 \"> των</span><span style=\"background-color:#DFFF00 \"> ενόπλων</span><span style=\"background-color:#DFFF00 \"> δυνάμεων,</span><span style=\"background-color:#DFFF00 \"> ενώ</span> μάλιστα είναι ενυπάρχει σε διάφορες εφαρμογές λογισμικού υπολογιστών οικιακής χρήσης και παιχνιδιών κυβερνοχώρου."
      ],
      "text/plain": [
       "<IPython.core.display.HTML object>"
      ]
     },
     "metadata": {},
     "output_type": "display_data"
    },
    {
     "name": "stdout",
     "output_type": "stream",
     "text": [
      "____________________________________233___________________________________________________\n",
      "188\n",
      "8.00652815\n"
     ]
    },
    {
     "data": {
      "text/html": [
       " <span style=\"background-color:#e0e0e0 \">-0.84640765</span><span style=\"background-color:#DFFF00 \"> 4.6619062</span><span style=\"background-color:#9FE2BF \"> 7.1601205</span>"
      ],
      "text/plain": [
       "<IPython.core.display.HTML object>"
      ]
     },
     "metadata": {},
     "output_type": "display_data"
    },
    {
     "name": "stdout",
     "output_type": "stream",
     "text": [
      "-  --  --  --  --  --  --  --  --  --  --  --  --  --  --  --  --  --  --  --  --  --  --  --  --  -\n"
     ]
    },
    {
     "data": {
      "text/html": [
       " Field trips are a large part of any classroom. Quite often a teacher would love to take <span style=\"background-color:#DFFF00 \">her</span><span style=\"background-color:#DFFF00 \"> students</span> places to which a <span style=\"background-color:#9FE2BF \">bus</span> trip is not an option."
      ],
      "text/plain": [
       "<IPython.core.display.HTML object>"
      ]
     },
     "metadata": {},
     "output_type": "display_data"
    },
    {
     "data": {
      "text/html": [
       " Οι εκδρομές είναι σημαντικό στοιχείο κάθε τάξης. Πολύ συχνά ένας δάσκαλος θα επιθυμούσε να πάει <span style=\"background-color:#DFFF00 \">με</span><span style=\"background-color:#DFFF00 \"> τους</span><span style=\"background-color:#DFFF00 \"> μαθητές</span><span style=\"background-color:#DFFF00 \"> του</span> σε μέρη στα οποία η πρόσβαση <span style=\"background-color:#9FE2BF \">με</span><span style=\"background-color:#9FE2BF \"> λεωφορείο,</span><span style=\"background-color:#9FE2BF \"> όμως,</span> δεν αποτελεί επιλογή."
      ],
      "text/plain": [
       "<IPython.core.display.HTML object>"
      ]
     },
     "metadata": {},
     "output_type": "display_data"
    },
    {
     "name": "stdout",
     "output_type": "stream",
     "text": [
      "____________________________________234___________________________________________________\n",
      "189\n",
      "4.250946000000001\n"
     ]
    },
    {
     "data": {
      "text/html": [
       " <span style=\"background-color:#e0e0e0 \">-15.855237</span><span style=\"background-color:#DFFF00 \"> -12.31679</span><span style=\"background-color:#9FE2BF \"> -11.604291</span>"
      ],
      "text/plain": [
       "<IPython.core.display.HTML object>"
      ]
     },
     "metadata": {},
     "output_type": "display_data"
    },
    {
     "name": "stdout",
     "output_type": "stream",
     "text": [
      "-  --  --  --  --  --  --  --  --  --  --  --  --  --  --  --  --  --  --  --  --  --  --  --  --  -\n"
     ]
    },
    {
     "data": {
      "text/html": [
       " Sharing a field <span style=\"background-color:#DFFF00 \">trip</span><span style=\"background-color:#DFFF00 \"> virtually</span><span style=\"background-color:#DFFF00 \"> is</span><span style=\"background-color:#DFFF00 \"> also</span><span style=\"background-color:#DFFF00 \"> a</span><span style=\"background-color:#DFFF00 \"> great</span><span style=\"background-color:#DFFF00 \"> way</span><span style=\"background-color:#DFFF00 \"> to</span> reflect <span style=\"background-color:#9FE2BF \">a</span><span style=\"background-color:#9FE2BF \"> on</span><span style=\"background-color:#9FE2BF \"> a</span> trip and share experiences with future classes."
      ],
      "text/plain": [
       "<IPython.core.display.HTML object>"
      ]
     },
     "metadata": {},
     "output_type": "display_data"
    },
    {
     "data": {
      "text/html": [
       " Ουσιαστικά, η συμμετοχή σε μια <span style=\"background-color:#DFFF00 \">εκδρομή,</span><span style=\"background-color:#DFFF00 \"> αποτελεί</span><span style=\"background-color:#DFFF00 \"> επίσης</span><span style=\"background-color:#DFFF00 \"> μια</span><span style=\"background-color:#DFFF00 \"> σημαντική</span><span style=\"background-color:#DFFF00 \"> ευκαιρία</span><span style=\"background-color:#DFFF00 \"> να</span> αναλογιστείτε το ταξίδι και να μοιραστείτε εμπειρίες με μελλοντικές τάξεις."
      ],
      "text/plain": [
       "<IPython.core.display.HTML object>"
      ]
     },
     "metadata": {},
     "output_type": "display_data"
    },
    {
     "name": "stdout",
     "output_type": "stream",
     "text": [
      "____________________________________235___________________________________________________\n",
      "190\n",
      "5.9995721\n"
     ]
    },
    {
     "data": {
      "text/html": [
       " <span style=\"background-color:#e0e0e0 \">-4.2910743</span><span style=\"background-color:#DFFF00 \"> -1.597683</span><span style=\"background-color:#9FE2BF \"> 1.7084978</span>"
      ],
      "text/plain": [
       "<IPython.core.display.HTML object>"
      ]
     },
     "metadata": {},
     "output_type": "display_data"
    },
    {
     "name": "stdout",
     "output_type": "stream",
     "text": [
      "-  --  --  --  --  --  --  --  --  --  --  --  --  --  --  --  --  --  --  --  --  --  --  --  --  -\n"
     ]
    },
    {
     "data": {
      "text/html": [
       " Blogging is a tool that inspires collaboration, and encourages students to extend learning well beyond the traditional school <span style=\"background-color:#9FE2BF \">day.</span>"
      ],
      "text/plain": [
       "<IPython.core.display.HTML object>"
      ]
     },
     "metadata": {},
     "output_type": "display_data"
    },
    {
     "data": {
      "text/html": [
       " Η διαχείριση μιας ιστοσελίδας αποτελεί μια τεχνική που προωθεί την ομαδική δουλειά και παροτρύνει τους μαθητές να <span style=\"background-color:#DFFF00 \">διδαχθούν</span><span style=\"background-color:#DFFF00 \"> και</span><span style=\"background-color:#DFFF00 \"> άλλα</span> εκτός από όσα μαθαίνουν κλασικά στο σχολείο <span style=\"background-color:#9FE2BF \">το</span><span style=\"background-color:#9FE2BF \"> πρωί.</span>"
      ],
      "text/plain": [
       "<IPython.core.display.HTML object>"
      ]
     },
     "metadata": {},
     "output_type": "display_data"
    },
    {
     "name": "stdout",
     "output_type": "stream",
     "text": [
      "____________________________________236___________________________________________________\n",
      "191\n",
      "1.3425379\n"
     ]
    },
    {
     "data": {
      "text/html": [
       " <span style=\"background-color:#e0e0e0 \">-5.6458216</span><span style=\"background-color:#DFFF00 \"> -4.3032837</span>"
      ],
      "text/plain": [
       "<IPython.core.display.HTML object>"
      ]
     },
     "metadata": {},
     "output_type": "display_data"
    },
    {
     "name": "stdout",
     "output_type": "stream",
     "text": [
      "-  --  --  --  --  --  --  --  --  --  --  --  --  --  --  --  --  --  --  --  --  --  --  --  --  -\n"
     ]
    },
    {
     "data": {
      "text/html": [
       " All these things <span style=\"background-color:#DFFF00 \">and</span><span style=\"background-color:#DFFF00 \"> more</span> highlight Ontario as what is considered quintessentially Canadian by outsiders."
      ],
      "text/plain": [
       "<IPython.core.display.HTML object>"
      ]
     },
     "metadata": {},
     "output_type": "display_data"
    },
    {
     "data": {
      "text/html": [
       " Όλα αυτά <span style=\"background-color:#DFFF00 \">και</span><span style=\"background-color:#DFFF00 \"> άλλα</span><span style=\"background-color:#DFFF00 \"> πολλά</span> χαρακτηρίζουν το Οντάριο ως την πεμπτουσία του καναδικού χαρακτήρα όπως αυτός γίνεται αντιληπτός από τους ξένους."
      ],
      "text/plain": [
       "<IPython.core.display.HTML object>"
      ]
     },
     "metadata": {},
     "output_type": "display_data"
    },
    {
     "name": "stdout",
     "output_type": "stream",
     "text": [
      "____________________________________237___________________________________________________\n",
      "192\n",
      "6.1988267\n"
     ]
    },
    {
     "data": {
      "text/html": [
       " <span style=\"background-color:#e0e0e0 \">-8.826111</span><span style=\"background-color:#DFFF00 \"> -4.2777863</span><span style=\"background-color:#9FE2BF \"> -2.6272843</span>"
      ],
      "text/plain": [
       "<IPython.core.display.HTML object>"
      ]
     },
     "metadata": {},
     "output_type": "display_data"
    },
    {
     "name": "stdout",
     "output_type": "stream",
     "text": [
      "-  --  --  --  --  --  --  --  --  --  --  --  --  --  --  --  --  --  --  --  --  --  --  --  --  -\n"
     ]
    },
    {
     "data": {
      "text/html": [
       " Large areas further north are quite sparsely populated and <span style=\"background-color:#DFFF00 \">some</span><span style=\"background-color:#DFFF00 \"> is</span> nearly uninhabited <span style=\"background-color:#9FE2BF \">wilderness.</span>"
      ],
      "text/plain": [
       "<IPython.core.display.HTML object>"
      ]
     },
     "metadata": {},
     "output_type": "display_data"
    },
    {
     "data": {
      "text/html": [
       " Μεγάλες ζώνες στο ακόμη βορειότερο τμήμα είναι αρκετά αραιοκατοικημένες, ενώ <span style=\"background-color:#DFFF00 \">κάποιες</span><span style=\"background-color:#DFFF00 \"> είναι</span> σχεδόν ακατοίκητες <span style=\"background-color:#9FE2BF \">ζώνες</span><span style=\"background-color:#9FE2BF \"> άγριας</span><span style=\"background-color:#9FE2BF \"> φύσης.</span>"
      ],
      "text/plain": [
       "<IPython.core.display.HTML object>"
      ]
     },
     "metadata": {},
     "output_type": "display_data"
    },
    {
     "name": "stdout",
     "output_type": "stream",
     "text": [
      "____________________________________238___________________________________________________\n",
      "193\n",
      "1.3723010000000002\n"
     ]
    },
    {
     "data": {
      "text/html": [
       " <span style=\"background-color:#e0e0e0 \">-15.794756</span><span style=\"background-color:#DFFF00 \"> -15.244221</span><span style=\"background-color:#9FE2BF \"> -14.422455</span>"
      ],
      "text/plain": [
       "<IPython.core.display.HTML object>"
      ]
     },
     "metadata": {},
     "output_type": "display_data"
    },
    {
     "name": "stdout",
     "output_type": "stream",
     "text": [
      "-  --  --  --  --  --  --  --  --  --  --  --  --  --  --  --  --  --  --  --  --  --  --  --  --  -\n"
     ]
    },
    {
     "data": {
      "text/html": [
       " Madagascar is by far <span style=\"background-color:#DFFF00 \">the</span><span style=\"background-color:#DFFF00 \"> biggest,</span><span style=\"background-color:#DFFF00 \"> and</span> a continent on its own <span style=\"background-color:#9FE2BF \">when</span><span style=\"background-color:#9FE2BF \"> it</span><span style=\"background-color:#9FE2BF \"> comes</span><span style=\"background-color:#9FE2BF \"> to</span><span style=\"background-color:#9FE2BF \"> wildlife.</span>"
      ],
      "text/plain": [
       "<IPython.core.display.HTML object>"
      ]
     },
     "metadata": {},
     "output_type": "display_data"
    },
    {
     "data": {
      "text/html": [
       " Η Μαδαγασκάρη είναι <span style=\"background-color:#DFFF00 \">μακράν</span><span style=\"background-color:#DFFF00 \"> το</span><span style=\"background-color:#DFFF00 \"> μεγαλύτερο</span><span style=\"background-color:#DFFF00 \"> και</span><span style=\"background-color:#DFFF00 \"> αποτελεί</span> από μόνη της μια ήπειρο <span style=\"background-color:#9FE2BF \">όσον</span><span style=\"background-color:#9FE2BF \"> αφορά</span><span style=\"background-color:#9FE2BF \"> τα</span><span style=\"background-color:#9FE2BF \"> είδη</span><span style=\"background-color:#9FE2BF \"> άγριας</span><span style=\"background-color:#9FE2BF \"> πανίδας</span><span style=\"background-color:#9FE2BF \"> της.</span>"
      ],
      "text/plain": [
       "<IPython.core.display.HTML object>"
      ]
     },
     "metadata": {},
     "output_type": "display_data"
    },
    {
     "name": "stdout",
     "output_type": "stream",
     "text": [
      "____________________________________239___________________________________________________\n",
      "194\n",
      "3.0399330000000013\n"
     ]
    },
    {
     "data": {
      "text/html": [
       " <span style=\"background-color:#e0e0e0 \">-15.889167</span><span style=\"background-color:#DFFF00 \"> -12.849234</span>"
      ],
      "text/plain": [
       "<IPython.core.display.HTML object>"
      ]
     },
     "metadata": {},
     "output_type": "display_data"
    },
    {
     "name": "stdout",
     "output_type": "stream",
     "text": [
      "-  --  --  --  --  --  --  --  --  --  --  --  --  --  --  --  --  --  --  --  --  --  --  --  --  -\n"
     ]
    },
    {
     "data": {
      "text/html": [
       " Most of the smaller islands are <span style=\"background-color:#DFFF00 \">independent</span><span style=\"background-color:#DFFF00 \"> nations,</span><span style=\"background-color:#DFFF00 \"> or</span><span style=\"background-color:#DFFF00 \"> associated</span><span style=\"background-color:#DFFF00 \"> with</span><span style=\"background-color:#DFFF00 \"> France,</span><span style=\"background-color:#DFFF00 \"> and</span><span style=\"background-color:#DFFF00 \"> known</span><span style=\"background-color:#DFFF00 \"> as</span> luxury beach resorts."
      ],
      "text/plain": [
       "<IPython.core.display.HTML object>"
      ]
     },
     "metadata": {},
     "output_type": "display_data"
    },
    {
     "data": {
      "text/html": [
       " Σχεδόν όλα τα νησάκια είναι <span style=\"background-color:#DFFF00 \">ανεξαρτητοποιημένα</span><span style=\"background-color:#DFFF00 \"> ή</span><span style=\"background-color:#DFFF00 \"> έχουν</span><span style=\"background-color:#DFFF00 \"> γαλλικές</span><span style=\"background-color:#DFFF00 \"> καταβολές,</span><span style=\"background-color:#DFFF00 \"> και</span><span style=\"background-color:#DFFF00 \"> φημίζονται</span><span style=\"background-color:#DFFF00 \"> για</span><span style=\"background-color:#DFFF00 \"> την</span><span style=\"background-color:#DFFF00 \"> παροχή</span> χλιδάτων θαλάσσιων καταφυγίων."
      ],
      "text/plain": [
       "<IPython.core.display.HTML object>"
      ]
     },
     "metadata": {},
     "output_type": "display_data"
    },
    {
     "name": "stdout",
     "output_type": "stream",
     "text": [
      "____________________________________240___________________________________________________\n",
      "195\n",
      "2.755219000000001\n"
     ]
    },
    {
     "data": {
      "text/html": [
       " <span style=\"background-color:#e0e0e0 \">-10.379162</span><span style=\"background-color:#DFFF00 \"> -8.492115</span><span style=\"background-color:#9FE2BF \"> -7.623943</span>"
      ],
      "text/plain": [
       "<IPython.core.display.HTML object>"
      ]
     },
     "metadata": {},
     "output_type": "display_data"
    },
    {
     "name": "stdout",
     "output_type": "stream",
     "text": [
      "-  --  --  --  --  --  --  --  --  --  --  --  --  --  --  --  --  --  --  --  --  --  --  --  --  -\n"
     ]
    },
    {
     "data": {
      "text/html": [
       " The Arabs also brought Islam to the lands, and it took in a big way <span style=\"background-color:#DFFF00 \">in</span><span style=\"background-color:#DFFF00 \"> the</span> Comoros and Mayotte."
      ],
      "text/plain": [
       "<IPython.core.display.HTML object>"
      ]
     },
     "metadata": {},
     "output_type": "display_data"
    },
    {
     "data": {
      "text/html": [
       " Οι Άραβες έφεραν επίσης <span style=\"background-color:#9FE2BF \">μαζί</span><span style=\"background-color:#9FE2BF \"> τους</span> στην περιοχή το ισλάμ και αυτό επεκτάθηκε σε μεγάλο βαθμό <span style=\"background-color:#DFFF00 \">μέχρι</span><span style=\"background-color:#DFFF00 \"> τις</span> Κομόρες και τη Μαγιότ."
      ],
      "text/plain": [
       "<IPython.core.display.HTML object>"
      ]
     },
     "metadata": {},
     "output_type": "display_data"
    },
    {
     "name": "stdout",
     "output_type": "stream",
     "text": [
      "____________________________________241___________________________________________________\n",
      "196\n",
      "10.5655504\n"
     ]
    },
    {
     "data": {
      "text/html": [
       " <span style=\"background-color:#e0e0e0 \">-5.3676114</span><span style=\"background-color:#DFFF00 \"> 4.8808756</span><span style=\"background-color:#9FE2BF \"> 5.197939</span>"
      ],
      "text/plain": [
       "<IPython.core.display.HTML object>"
      ]
     },
     "metadata": {},
     "output_type": "display_data"
    },
    {
     "name": "stdout",
     "output_type": "stream",
     "text": [
      "-  --  --  --  --  --  --  --  --  --  --  --  --  --  --  --  --  --  --  --  --  --  --  --  --  -\n"
     ]
    },
    {
     "data": {
      "text/html": [
       " Women: It is recommended that any women <span style=\"background-color:#DFFF00 \">travellers</span><span style=\"background-color:#DFFF00 \"> say</span><span style=\"background-color:#DFFF00 \"> that</span><span style=\"background-color:#DFFF00 \"> they</span> are married, regardless of <span style=\"background-color:#9FE2BF \">actual</span> marital status."
      ],
      "text/plain": [
       "<IPython.core.display.HTML object>"
      ]
     },
     "metadata": {},
     "output_type": "display_data"
    },
    {
     "data": {
      "text/html": [
       " Γυναίκες: Προτείνεται σε κάθε γυναίκα που <span style=\"background-color:#DFFF00 \">ταξιδεύει</span><span style=\"background-color:#DFFF00 \"> να</span> δηλώνει παντρεμένη, ανεξαρτήτως από <span style=\"background-color:#9FE2BF \">την</span><span style=\"background-color:#9FE2BF \"> πραγματική</span><span style=\"background-color:#9FE2BF \"> της</span> οικογενειακή κατάσταση."
      ],
      "text/plain": [
       "<IPython.core.display.HTML object>"
      ]
     },
     "metadata": {},
     "output_type": "display_data"
    },
    {
     "name": "stdout",
     "output_type": "stream",
     "text": [
      "____________________________________242___________________________________________________\n",
      "197\n",
      "7.7107448\n"
     ]
    },
    {
     "data": {
      "text/html": [
       " <span style=\"background-color:#e0e0e0 \">-1.4579648</span><span style=\"background-color:#DFFF00 \"> 4.154019</span><span style=\"background-color:#9FE2BF \"> 4.957993</span><span style=\"background-color:#CCCCFF \"> 6.25278</span>"
      ],
      "text/plain": [
       "<IPython.core.display.HTML object>"
      ]
     },
     "metadata": {},
     "output_type": "display_data"
    },
    {
     "name": "stdout",
     "output_type": "stream",
     "text": [
      "-  --  --  --  --  --  --  --  --  --  --  --  --  --  --  --  --  --  --  --  --  --  --  --  --  -\n"
     ]
    },
    {
     "data": {
      "text/html": [
       " Women should realize that <span style=\"background-color:#9FE2BF \">cultural</span> differences may result in what they would consider harassment and <span style=\"background-color:#DFFF00 \">it</span><span style=\"background-color:#DFFF00 \"> is</span><span style=\"background-color:#DFFF00 \"> not</span><span style=\"background-color:#DFFF00 \"> uncommon</span> to be followed, grabbed by the arm, etc."
      ],
      "text/plain": [
       "<IPython.core.display.HTML object>"
      ]
     },
     "metadata": {},
     "output_type": "display_data"
    },
    {
     "data": {
      "text/html": [
       " Οι γυναίκες πρέπει να καταλάβουν ότι οι <span style=\"background-color:#9FE2BF \">συνήθειες</span><span style=\"background-color:#9FE2BF \"> που</span> διαφέρουν <span style=\"background-color:#CCCCFF \">στην</span><span style=\"background-color:#CCCCFF \"> κουλτούρα</span> μπορεί να φτάσουν σε πράξεις που θα θεωρούνταν παρενόχληση και <span style=\"background-color:#DFFF00 \">δεν</span><span style=\"background-color:#DFFF00 \"> συμβαλινει</span><span style=\"background-color:#DFFF00 \"> σπάνια</span> να πηγαίνουν από πίσω τους, να τις πιάνουν από το χέρι κτλ."
      ],
      "text/plain": [
       "<IPython.core.display.HTML object>"
      ]
     },
     "metadata": {},
     "output_type": "display_data"
    },
    {
     "name": "stdout",
     "output_type": "stream",
     "text": [
      "____________________________________245___________________________________________________\n",
      "198\n",
      "9.581270400000001\n"
     ]
    },
    {
     "data": {
      "text/html": [
       " <span style=\"background-color:#e0e0e0 \">-4.1641054</span><span style=\"background-color:#DFFF00 \"> -0.43041438</span><span style=\"background-color:#9FE2BF \"> 3.6068878</span><span style=\"background-color:#CCCCFF \"> 5.417165</span>"
      ],
      "text/plain": [
       "<IPython.core.display.HTML object>"
      ]
     },
     "metadata": {},
     "output_type": "display_data"
    },
    {
     "name": "stdout",
     "output_type": "stream",
     "text": [
      "-  --  --  --  --  --  --  --  --  --  --  --  --  --  --  --  --  --  --  --  --  --  --  --  --  -\n"
     ]
    },
    {
     "data": {
      "text/html": [
       " In 2002 Goma was destroyed by <span style=\"background-color:#9FE2BF \">lava</span><span style=\"background-color:#9FE2BF \"> from</span> the Nyiragongo volcano which buried most <span style=\"background-color:#DFFF00 \">of</span><span style=\"background-color:#FFE4E1 \"> the</span><span style=\"background-color:#DFFF00 \"> town’s</span><span style=\"background-color:#DFFF00 \"> streets,</span> particularly the town centre."
      ],
      "text/plain": [
       "<IPython.core.display.HTML object>"
      ]
     },
     "metadata": {},
     "output_type": "display_data"
    },
    {
     "data": {
      "text/html": [
       " Το 2002 η Γκόμα υπέστη όλεθρο λόγω του <span style=\"background-color:#9FE2BF \">ηφαιστείου</span> Νιραγκόνγκο, η λάβα του οποίου κάλυψε σχεδόν όλους <span style=\"background-color:#DFFF00 \">τους</span><span style=\"background-color:#DFFF00 \"> δρόμους</span><span style=\"background-color:#FFE4E1 \"> της</span><span style=\"background-color:#DFFF00 \"> πόλης,</span><span style=\"background-color:#DFFF00 \"> και</span> κυρίως το κέντρο της."
      ],
      "text/plain": [
       "<IPython.core.display.HTML object>"
      ]
     },
     "metadata": {},
     "output_type": "display_data"
    },
    {
     "name": "stdout",
     "output_type": "stream",
     "text": [
      "____________________________________246___________________________________________________\n",
      "199\n",
      "3.2265859999999993\n"
     ]
    },
    {
     "data": {
      "text/html": [
       " <span style=\"background-color:#e0e0e0 \">-11.24348</span><span style=\"background-color:#DFFF00 \"> -8.109683</span><span style=\"background-color:#9FE2BF \"> -8.016894</span>"
      ],
      "text/plain": [
       "<IPython.core.display.HTML object>"
      ]
     },
     "metadata": {},
     "output_type": "display_data"
    },
    {
     "name": "stdout",
     "output_type": "stream",
     "text": [
      "-  --  --  --  --  --  --  --  --  --  --  --  --  --  --  --  --  --  --  --  --  --  --  --  --  -\n"
     ]
    },
    {
     "data": {
      "text/html": [
       " The city is in stark contrast to <span style=\"background-color:#9FE2BF \">the</span> rest of the country's cities, because it has more of an Arabic <span style=\"background-color:#DFFF00 \">flair</span> than of an African."
      ],
      "text/plain": [
       "<IPython.core.display.HTML object>"
      ]
     },
     "metadata": {},
     "output_type": "display_data"
    },
    {
     "data": {
      "text/html": [
       " Η πόλη διαφέρει πλήρως από <span style=\"background-color:#9FE2BF \">τις</span> άλλες πόλεις της χώρας, καθώς διαθέτει κυρίως αραβικό <span style=\"background-color:#DFFF00 \">αέρα</span> και όχι αφρικανικό."
      ],
      "text/plain": [
       "<IPython.core.display.HTML object>"
      ]
     },
     "metadata": {},
     "output_type": "display_data"
    },
    {
     "name": "stdout",
     "output_type": "stream",
     "text": [
      "____________________________________247___________________________________________________\n",
      "200\n",
      "1.748055\n"
     ]
    },
    {
     "data": {
      "text/html": [
       " <span style=\"background-color:#e0e0e0 \">-7.233306</span><span style=\"background-color:#DFFF00 \"> -5.485251</span>"
      ],
      "text/plain": [
       "<IPython.core.display.HTML object>"
      ]
     },
     "metadata": {},
     "output_type": "display_data"
    },
    {
     "name": "stdout",
     "output_type": "stream",
     "text": [
      "-  --  --  --  --  --  --  --  --  --  --  --  --  --  --  --  --  --  --  --  --  --  --  --  --  -\n"
     ]
    },
    {
     "data": {
      "text/html": [
       " Hong Kong Island gives the territory of Hong Kong its name and <span style=\"background-color:#DFFF00 \">is</span> the place that many tourists regard as the main focus."
      ],
      "text/plain": [
       "<IPython.core.display.HTML object>"
      ]
     },
     "metadata": {},
     "output_type": "display_data"
    },
    {
     "data": {
      "text/html": [
       " Η νήσος Χονγκ Κονγκ ονομάζει και την επικράτεια του Χονγκ Κονγκ και <span style=\"background-color:#DFFF00 \">αποτελεί</span> πόλο έλξης για πολλούς επισκέπτες."
      ],
      "text/plain": [
       "<IPython.core.display.HTML object>"
      ]
     },
     "metadata": {},
     "output_type": "display_data"
    },
    {
     "name": "stdout",
     "output_type": "stream",
     "text": [
      "____________________________________248___________________________________________________\n",
      "201\n",
      "1.7935026\n"
     ]
    },
    {
     "data": {
      "text/html": [
       " <span style=\"background-color:#e0e0e0 \">-8.42398</span><span style=\"background-color:#DFFF00 \"> -6.6304774</span>"
      ],
      "text/plain": [
       "<IPython.core.display.HTML object>"
      ]
     },
     "metadata": {},
     "output_type": "display_data"
    },
    {
     "name": "stdout",
     "output_type": "stream",
     "text": [
      "-  --  --  --  --  --  --  --  --  --  --  --  --  --  --  --  --  --  --  --  --  --  --  --  --  -\n"
     ]
    },
    {
     "data": {
      "text/html": [
       " To get the best views of Hong Kong, leave the island and head <span style=\"background-color:#DFFF00 \">for</span> the Kowloon waterfront opposite."
      ],
      "text/plain": [
       "<IPython.core.display.HTML object>"
      ]
     },
     "metadata": {},
     "output_type": "display_data"
    },
    {
     "data": {
      "text/html": [
       " Για καλύτερη θέα στο Χονγκ Κονγκ, φύγετε απ' το νησί και μεταβείτε απέναντι <span style=\"background-color:#DFFF00 \">προς</span> την προκυμαία Καουλούν."
      ],
      "text/plain": [
       "<IPython.core.display.HTML object>"
      ]
     },
     "metadata": {},
     "output_type": "display_data"
    },
    {
     "name": "stdout",
     "output_type": "stream",
     "text": [
      "____________________________________249___________________________________________________\n",
      "202\n",
      "16.695570359999998\n"
     ]
    },
    {
     "data": {
      "text/html": [
       " <span style=\"background-color:#e0e0e0 \">-0.77425736</span><span style=\"background-color:#DFFF00 \"> 15.915168</span><span style=\"background-color:#9FE2BF \"> 15.921313</span>"
      ],
      "text/plain": [
       "<IPython.core.display.HTML object>"
      ]
     },
     "metadata": {},
     "output_type": "display_data"
    },
    {
     "name": "stdout",
     "output_type": "stream",
     "text": [
      "-  --  --  --  --  --  --  --  --  --  --  --  --  --  --  --  --  --  --  --  --  --  --  --  --  -\n"
     ]
    },
    {
     "data": {
      "text/html": [
       " The forests aren't just mangrove swamps though <span style=\"background-color:#DFFF00 \">—</span><span style=\"background-color:#DFFF00 \"> they</span> include some of the <span style=\"background-color:#9FE2BF \">last</span><span style=\"background-color:#9FE2BF \"> remaining</span> stands of the mighty jungles which once covered the Gangetic plain."
      ],
      "text/plain": [
       "<IPython.core.display.HTML object>"
      ]
     },
     "metadata": {},
     "output_type": "display_data"
    },
    {
     "data": {
      "text/html": [
       " Τα δάση δεν είναι όμως απλώς βάλτοι <span style=\"background-color:#DFFF00 \">μαγκροβίων,</span> περιλαμβάνουν μερικά από τα <span style=\"background-color:#9FE2BF \">τελευταία</span> κομμάτια της επιβλητικής ζούγκλας που κάποτε κάλυπτε την γαγγετική πεδιάδα."
      ],
      "text/plain": [
       "<IPython.core.display.HTML object>"
      ]
     },
     "metadata": {},
     "output_type": "display_data"
    },
    {
     "name": "stdout",
     "output_type": "stream",
     "text": [
      "____________________________________250___________________________________________________\n",
      "203\n",
      "1.3192060000000012\n"
     ]
    },
    {
     "data": {
      "text/html": [
       " <span style=\"background-color:#e0e0e0 \">-12.249142</span><span style=\"background-color:#DFFF00 \"> -11.684785</span><span style=\"background-color:#9FE2BF \"> -10.929936</span>"
      ],
      "text/plain": [
       "<IPython.core.display.HTML object>"
      ]
     },
     "metadata": {},
     "output_type": "display_data"
    },
    {
     "name": "stdout",
     "output_type": "stream",
     "text": [
      "-  --  --  --  --  --  --  --  --  --  --  --  --  --  --  --  --  --  --  --  --  --  --  --  --  -\n"
     ]
    },
    {
     "data": {
      "text/html": [
       " Most <span style=\"background-color:#DFFF00 \">districts</span> are served by small Japanese Coaster Buses, <span style=\"background-color:#9FE2BF \">which</span><span style=\"background-color:#9FE2BF \"> are</span><span style=\"background-color:#9FE2BF \"> comfortable</span><span style=\"background-color:#9FE2BF \"> and</span><span style=\"background-color:#9FE2BF \"> sturdy.</span>"
      ],
      "text/plain": [
       "<IPython.core.display.HTML object>"
      ]
     },
     "metadata": {},
     "output_type": "display_data"
    },
    {
     "data": {
      "text/html": [
       " Οι περισσότερες <span style=\"background-color:#DFFF00 \">περιοχές</span> εξυπηρετούνται από μικρά ιαπωνικά λεωφορεία τύπου Coaster, <span style=\"background-color:#9FE2BF \">τα</span><span style=\"background-color:#9FE2BF \"> οποία</span><span style=\"background-color:#9FE2BF \"> χαρακτηρίζονται</span><span style=\"background-color:#9FE2BF \"> από</span><span style=\"background-color:#9FE2BF \"> την</span><span style=\"background-color:#9FE2BF \"> άνεση</span><span style=\"background-color:#9FE2BF \"> και</span><span style=\"background-color:#9FE2BF \"> την</span><span style=\"background-color:#9FE2BF \"> ανθεκτικότητά</span><span style=\"background-color:#9FE2BF \"> τους.</span>"
      ],
      "text/plain": [
       "<IPython.core.display.HTML object>"
      ]
     },
     "metadata": {},
     "output_type": "display_data"
    },
    {
     "name": "stdout",
     "output_type": "stream",
     "text": [
      "____________________________________251___________________________________________________\n",
      "204\n",
      "0.15919850000000046\n"
     ]
    },
    {
     "data": {
      "text/html": [
       " <span style=\"background-color:#e0e0e0 \">-7.674699</span><span style=\"background-color:#DFFF00 \"> -7.5155005</span>"
      ],
      "text/plain": [
       "<IPython.core.display.HTML object>"
      ]
     },
     "metadata": {},
     "output_type": "display_data"
    },
    {
     "name": "stdout",
     "output_type": "stream",
     "text": [
      "-  --  --  --  --  --  --  --  --  --  --  --  --  --  --  --  --  --  --  --  --  --  --  --  --  -\n"
     ]
    },
    {
     "data": {
      "text/html": [
       " The Spaniards started <span style=\"background-color:#DFFF00 \">the</span> colonization period which lasted for three centuries."
      ],
      "text/plain": [
       "<IPython.core.display.HTML object>"
      ]
     },
     "metadata": {},
     "output_type": "display_data"
    },
    {
     "data": {
      "text/html": [
       " <span style=\"background-color:#DFFF00 \">Η</span> περίοδος του αποικισμού, που διήρκεσε τρεις αιώνες, ξεκίνησε με τους Ισπανούς."
      ],
      "text/plain": [
       "<IPython.core.display.HTML object>"
      ]
     },
     "metadata": {},
     "output_type": "display_data"
    },
    {
     "name": "stdout",
     "output_type": "stream",
     "text": [
      "____________________________________252___________________________________________________\n",
      "205\n",
      "13.4689733\n"
     ]
    },
    {
     "data": {
      "text/html": [
       " <span style=\"background-color:#e0e0e0 \">-3.8789403</span><span style=\"background-color:#DFFF00 \"> 9.590033</span>"
      ],
      "text/plain": [
       "<IPython.core.display.HTML object>"
      ]
     },
     "metadata": {},
     "output_type": "display_data"
    },
    {
     "name": "stdout",
     "output_type": "stream",
     "text": [
      "-  --  --  --  --  --  --  --  --  --  --  --  --  --  --  --  --  --  --  --  --  --  --  --  --  -\n"
     ]
    },
    {
     "data": {
      "text/html": [
       " The largest tournament of the year takes place <span style=\"background-color:#DFFF00 \">in</span><span style=\"background-color:#DFFF00 \"> December</span> at the polo fields in Las Cañitas."
      ],
      "text/plain": [
       "<IPython.core.display.HTML object>"
      ]
     },
     "metadata": {},
     "output_type": "display_data"
    },
    {
     "data": {
      "text/html": [
       " Το κυριότερο τουρνουά ετησίως λαμβάνει χώρα <span style=\"background-color:#DFFF00 \">τον</span><span style=\"background-color:#DFFF00 \"> τελευταίο</span><span style=\"background-color:#DFFF00 \"> μήνα</span> του έτους στις πισίνες υδατοσφαίρισης του Λας Κανίτας."
      ],
      "text/plain": [
       "<IPython.core.display.HTML object>"
      ]
     },
     "metadata": {},
     "output_type": "display_data"
    },
    {
     "name": "stdout",
     "output_type": "stream",
     "text": [
      "____________________________________253___________________________________________________\n",
      "206\n",
      "9.671296000000002\n"
     ]
    },
    {
     "data": {
      "text/html": [
       " <span style=\"background-color:#e0e0e0 \">-8.54948</span><span style=\"background-color:#DFFF00 \"> 0.28322777</span><span style=\"background-color:#9FE2BF \"> 1.121816</span>"
      ],
      "text/plain": [
       "<IPython.core.display.HTML object>"
      ]
     },
     "metadata": {},
     "output_type": "display_data"
    },
    {
     "name": "stdout",
     "output_type": "stream",
     "text": [
      "-  --  --  --  --  --  --  --  --  --  --  --  --  --  --  --  --  --  --  --  --  --  --  --  --  -\n"
     ]
    },
    {
     "data": {
      "text/html": [
       " <span style=\"background-color:#9FE2BF \">Smaller</span> tournaments and matches <span style=\"background-color:#DFFF00 \">can</span><span style=\"background-color:#DFFF00 \"> also</span><span style=\"background-color:#DFFF00 \"> be</span><span style=\"background-color:#DFFF00 \"> seen</span><span style=\"background-color:#DFFF00 \"> here</span> at other times of the year."
      ],
      "text/plain": [
       "<IPython.core.display.HTML object>"
      ]
     },
     "metadata": {},
     "output_type": "display_data"
    },
    {
     "data": {
      "text/html": [
       " <span style=\"background-color:#DFFF00 \">Εδώ</span><span style=\"background-color:#DFFF00 \"> μπορείτε</span> να παρακολουθήσετε <span style=\"background-color:#9FE2BF \">μικρότερα</span> τουρνουά και αγώνες σε άλλες περιόδους του έτους."
      ],
      "text/plain": [
       "<IPython.core.display.HTML object>"
      ]
     },
     "metadata": {},
     "output_type": "display_data"
    },
    {
     "name": "stdout",
     "output_type": "stream",
     "text": [
      "____________________________________254___________________________________________________\n",
      "207\n",
      "0.07329469999999993\n"
     ]
    },
    {
     "data": {
      "text/html": [
       " <span style=\"background-color:#e0e0e0 \">-5.1346064</span><span style=\"background-color:#DFFF00 \"> -5.0613117</span>"
      ],
      "text/plain": [
       "<IPython.core.display.HTML object>"
      ]
     },
     "metadata": {},
     "output_type": "display_data"
    },
    {
     "name": "stdout",
     "output_type": "stream",
     "text": [
      "-  --  --  --  --  --  --  --  --  --  --  --  --  --  --  --  --  --  --  --  --  --  --  --  --  -\n"
     ]
    },
    {
     "data": {
      "text/html": [
       " For news on tournaments and <span style=\"background-color:#DFFF00 \">where</span> to buy tickets for polo matches, check Asociacion Argentina de Polo."
      ],
      "text/plain": [
       "<IPython.core.display.HTML object>"
      ]
     },
     "metadata": {},
     "output_type": "display_data"
    },
    {
     "data": {
      "text/html": [
       " Για ειδήσεις σχετικά με τα τουρνουά και τα <span style=\"background-color:#DFFF00 \">σημεία</span><span style=\"background-color:#DFFF00 \"> πώλησης</span> εισιτηρίων για αγώνες υδατοσφαίρισης, ελέγξτε την Ένωση Πόλο της Αργεντινής."
      ],
      "text/plain": [
       "<IPython.core.display.HTML object>"
      ]
     },
     "metadata": {},
     "output_type": "display_data"
    },
    {
     "name": "stdout",
     "output_type": "stream",
     "text": [
      "____________________________________255___________________________________________________\n",
      "208\n",
      "20.736943\n"
     ]
    },
    {
     "data": {
      "text/html": [
       " <span style=\"background-color:#e0e0e0 \">-6.419868</span><span style=\"background-color:#DFFF00 \"> 14.317075</span>"
      ],
      "text/plain": [
       "<IPython.core.display.HTML object>"
      ]
     },
     "metadata": {},
     "output_type": "display_data"
    },
    {
     "name": "stdout",
     "output_type": "stream",
     "text": [
      "-  --  --  --  --  --  --  --  --  --  --  --  --  --  --  --  --  --  --  --  --  --  --  --  --  -\n"
     ]
    },
    {
     "data": {
      "text/html": [
       " British pounds will generally be accepted anywhere in the islands and <span style=\"background-color:#DFFF00 \">within</span><span style=\"background-color:#DFFF00 \"> Stanley</span> credit cards and United States dollars are also often accepted."
      ],
      "text/plain": [
       "<IPython.core.display.HTML object>"
      ]
     },
     "metadata": {},
     "output_type": "display_data"
    },
    {
     "data": {
      "text/html": [
       " Η βρετανική λίρα γίνεται γενικά δεκτή παντού στα νησιά και οι πιστωτικές κάρτες <span style=\"background-color:#DFFF00 \">Stanley</span><span style=\"background-color:#DFFF00 \"> καθώς</span> και τα δολάρια ΗΠΑ είναι συνήθως αποδεκτά."
      ],
      "text/plain": [
       "<IPython.core.display.HTML object>"
      ]
     },
     "metadata": {},
     "output_type": "display_data"
    },
    {
     "name": "stdout",
     "output_type": "stream",
     "text": [
      "____________________________________256___________________________________________________\n",
      "209\n",
      "14.552437999999999\n"
     ]
    },
    {
     "data": {
      "text/html": [
       " <span style=\"background-color:#e0e0e0 \">-7.394259</span><span style=\"background-color:#DFFF00 \"> 2.2860496</span><span style=\"background-color:#9FE2BF \"> 3.5999439</span><span style=\"background-color:#CCCCFF \"> 5.5330563</span><span style=\"background-color:#FFE4E1 \"> 7.158179</span>"
      ],
      "text/plain": [
       "<IPython.core.display.HTML object>"
      ]
     },
     "metadata": {},
     "output_type": "display_data"
    },
    {
     "name": "stdout",
     "output_type": "stream",
     "text": [
      "-  --  --  --  --  --  --  --  --  --  --  --  --  --  --  --  --  --  --  --  --  --  --  --  --  -\n"
     ]
    },
    {
     "data": {
      "text/html": [
       " On the outlying islands credit cards will <span style=\"background-color:#9FE2BF \">probably</span><span style=\"background-color:#9FE2BF \"> not</span> be accepted, <span style=\"background-color:#DFFF00 \">although</span><span style=\"background-color:#DFFF00 \"> British</span><span style=\"background-color:#DFFF00 \"> and</span><span style=\"background-color:#DFFF00 \"> United</span><span style=\"background-color:#DFFF00 \"> States</span><span style=\"background-color:#DFFF00 \"> currency</span><span style=\"background-color:#DFFF00 \"> may</span><span style=\"background-color:#DFFF00 \"> be</span><span style=\"background-color:#DFFF00 \"> taken;</span><span style=\"background-color:#DFFF00 \"> check</span><span style=\"background-color:#FFBF00 \"> with</span><span style=\"background-color:#FFBF00 \"> the</span><span style=\"background-color:#FFBF00 \"> owners</span> in advance to determine what is an acceptable payment method."
      ],
      "text/plain": [
       "<IPython.core.display.HTML object>"
      ]
     },
     "metadata": {},
     "output_type": "display_data"
    },
    {
     "data": {
      "text/html": [
       " Στα απομακρυσμένα νησιά οι πιστωτικές κάρτες κατά πάσα <span style=\"background-color:#9FE2BF \">πιθανότητα</span><span style=\"background-color:#9FE2BF \"> δεν</span> θα γίνονται δεκτές, <span style=\"background-color:#DFFF00 \">παρότι</span><span style=\"background-color:#DFFF00 \"> ενδέχεται</span><span style=\"background-color:#DFFF00 \"> να</span><span style=\"background-color:#DFFF00 \"> γίνεται</span><span style=\"background-color:#DFFF00 \"> δεκτό</span><span style=\"background-color:#DFFF00 \"> το</span><span style=\"background-color:#DFFF00 \"> βρετανικό</span><span style=\"background-color:#DFFF00 \"> και</span><span style=\"background-color:#DFFF00 \"> το</span><span style=\"background-color:#DFFF00 \"> αμερικανικό</span><span style=\"background-color:#DFFF00 \"> νόμισμα·</span><span style=\"background-color:#DFFF00 \"> ρωτήστε</span><span style=\"background-color:#DFFF00 \"> από</span> πριν <span style=\"background-color:#FFBF00 \">τους</span><span style=\"background-color:#FFBF00 \"> ιδιοκτήτες</span> για να εξακριβώσετε ποιες μέθοδοι πληρωμής γίνονται αποδεκτές."
      ],
      "text/plain": [
       "<IPython.core.display.HTML object>"
      ]
     },
     "metadata": {},
     "output_type": "display_data"
    },
    {
     "name": "stdout",
     "output_type": "stream",
     "text": [
      "____________________________________257___________________________________________________\n",
      "210\n",
      "3.3842739\n"
     ]
    },
    {
     "data": {
      "text/html": [
       " <span style=\"background-color:#e0e0e0 \">-0.4508899</span><span style=\"background-color:#DFFF00 \"> 2.933384</span>"
      ],
      "text/plain": [
       "<IPython.core.display.HTML object>"
      ]
     },
     "metadata": {},
     "output_type": "display_data"
    },
    {
     "name": "stdout",
     "output_type": "stream",
     "text": [
      "-  --  --  --  --  --  --  --  --  --  --  --  --  --  --  --  --  --  --  --  --  --  --  --  --  -\n"
     ]
    },
    {
     "data": {
      "text/html": [
       " Since Montevideo is south of the Equator, it is summer there when it's winter <span style=\"background-color:#DFFF00 \">in</span><span style=\"background-color:#DFFF00 \"> the</span><span style=\"background-color:#DFFF00 \"> Northern</span><span style=\"background-color:#DFFF00 \"> Hemisphere</span> and vice versa."
      ],
      "text/plain": [
       "<IPython.core.display.HTML object>"
      ]
     },
     "metadata": {},
     "output_type": "display_data"
    },
    {
     "data": {
      "text/html": [
       " Εφόσον το Μοντεβιδέο βρίσκεται νότια του ισημερινού, έχει καλοκαίρι όταν <span style=\"background-color:#DFFF00 \">στο</span><span style=\"background-color:#DFFF00 \"> βόρειο</span> ημισφαίριο είναι χειμώνας και το αντίστροφο."
      ],
      "text/plain": [
       "<IPython.core.display.HTML object>"
      ]
     },
     "metadata": {},
     "output_type": "display_data"
    },
    {
     "name": "stdout",
     "output_type": "stream",
     "text": [
      "____________________________________258___________________________________________________\n",
      "211\n",
      "5.5033028\n"
     ]
    },
    {
     "data": {
      "text/html": [
       " <span style=\"background-color:#e0e0e0 \">-1.3616458</span><span style=\"background-color:#DFFF00 \"> 3.0645158</span><span style=\"background-color:#9FE2BF \"> 4.141657</span>"
      ],
      "text/plain": [
       "<IPython.core.display.HTML object>"
      ]
     },
     "metadata": {},
     "output_type": "display_data"
    },
    {
     "name": "stdout",
     "output_type": "stream",
     "text": [
      "-  --  --  --  --  --  --  --  --  --  --  --  --  --  --  --  --  --  --  --  --  --  --  --  --  -\n"
     ]
    },
    {
     "data": {
      "text/html": [
       " No matter how docile <span style=\"background-color:#DFFF00 \">they</span><span style=\"background-color:#DFFF00 \"> may</span><span style=\"background-color:#DFFF00 \"> look,</span> bison, elk, moose, bears, and nearly all large animals can attack."
      ],
      "text/plain": [
       "<IPython.core.display.HTML object>"
      ]
     },
     "metadata": {},
     "output_type": "display_data"
    },
    {
     "data": {
      "text/html": [
       " Όσο ήρεμοι και <span style=\"background-color:#DFFF00 \">αν</span><span style=\"background-color:#DFFF00 \"> φαίνονται</span><span style=\"background-color:#DFFF00 \"> οι</span><span style=\"background-color:#DFFF00 \"> βίσωνες,</span><span style=\"background-color:#DFFF00 \"> τα</span> καναδικά ελάφια, οι άλκες, οι αρκούδες και σχεδόν όλα τα μεγάλα ζώα μπορούν, <span style=\"background-color:#9FE2BF \">ωστόσο,</span><span style=\"background-color:#9FE2BF \"> να</span> επιτεθούν."
      ],
      "text/plain": [
       "<IPython.core.display.HTML object>"
      ]
     },
     "metadata": {},
     "output_type": "display_data"
    },
    {
     "name": "stdout",
     "output_type": "stream",
     "text": [
      "____________________________________259___________________________________________________\n",
      "212\n",
      "3.201976765\n"
     ]
    },
    {
     "data": {
      "text/html": [
       " <span style=\"background-color:#e0e0e0 \">-3.279158</span><span style=\"background-color:#DFFF00 \"> -0.077181235</span>"
      ],
      "text/plain": [
       "<IPython.core.display.HTML object>"
      ]
     },
     "metadata": {},
     "output_type": "display_data"
    },
    {
     "name": "stdout",
     "output_type": "stream",
     "text": [
      "-  --  --  --  --  --  --  --  --  --  --  --  --  --  --  --  --  --  --  --  --  --  --  --  --  -\n"
     ]
    },
    {
     "data": {
      "text/html": [
       " All the ships were sunk, except for one British cruiser. Nearly 200 <span style=\"background-color:#DFFF00 \">American</span><span style=\"background-color:#DFFF00 \"> and</span> German lives were lost."
      ],
      "text/plain": [
       "<IPython.core.display.HTML object>"
      ]
     },
     "metadata": {},
     "output_type": "display_data"
    },
    {
     "data": {
      "text/html": [
       " Όλα τα πλοία βυθίστηκαν εκτός από ένα βρετανικό καταδρομικό. Χάθηκαν περίπου 200 ζωές <span style=\"background-color:#DFFF00 \">Αμερικανών</span><span style=\"background-color:#DFFF00 \"> και</span> Γερμανών."
      ],
      "text/plain": [
       "<IPython.core.display.HTML object>"
      ]
     },
     "metadata": {},
     "output_type": "display_data"
    },
    {
     "name": "stdout",
     "output_type": "stream",
     "text": [
      "____________________________________260___________________________________________________\n",
      "213\n",
      "1.26511\n"
     ]
    },
    {
     "data": {
      "text/html": [
       " <span style=\"background-color:#e0e0e0 \">-14.248925</span><span style=\"background-color:#DFFF00 \"> -14.070862</span><span style=\"background-color:#9FE2BF \"> -12.983815</span>"
      ],
      "text/plain": [
       "<IPython.core.display.HTML object>"
      ]
     },
     "metadata": {},
     "output_type": "display_data"
    },
    {
     "name": "stdout",
     "output_type": "stream",
     "text": [
      "-  --  --  --  --  --  --  --  --  --  --  --  --  --  --  --  --  --  --  --  --  --  --  --  --  -\n"
     ]
    },
    {
     "data": {
      "text/html": [
       " There are many beaches, <span style=\"background-color:#DFFF00 \">due</span><span style=\"background-color:#DFFF00 \"> to</span><span style=\"background-color:#DFFF00 \"> Auckland's</span><span style=\"background-color:#DFFF00 \"> straddling</span><span style=\"background-color:#DFFF00 \"> of</span> two harbours. <span style=\"background-color:#9FE2BF \">The</span><span style=\"background-color:#9FE2BF \"> most</span><span style=\"background-color:#9FE2BF \"> popular</span><span style=\"background-color:#9FE2BF \"> ones</span><span style=\"background-color:#9FE2BF \"> are</span><span style=\"background-color:#9FE2BF \"> in</span><span style=\"background-color:#9FE2BF \"> three</span> areas."
      ],
      "text/plain": [
       "<IPython.core.display.HTML object>"
      ]
     },
     "metadata": {},
     "output_type": "display_data"
    },
    {
     "data": {
      "text/html": [
       " Υπάρχουν πολλές παραλίες, <span style=\"background-color:#DFFF00 \">καθώς</span> το Όκλαντ διαθέτει δύο λιμάνια. <span style=\"background-color:#9FE2BF \">Οι</span><span style=\"background-color:#9FE2BF \"> πιο</span><span style=\"background-color:#9FE2BF \"> δημοφιλείς</span><span style=\"background-color:#9FE2BF \"> βρίσκονται</span><span style=\"background-color:#9FE2BF \"> σε</span><span style=\"background-color:#9FE2BF \"> αυτή</span><span style=\"background-color:#9FE2BF \"> την</span> περιοχή."
      ],
      "text/plain": [
       "<IPython.core.display.HTML object>"
      ]
     },
     "metadata": {},
     "output_type": "display_data"
    },
    {
     "name": "stdout",
     "output_type": "stream",
     "text": [
      "____________________________________261___________________________________________________\n",
      "214\n",
      "3.055834\n"
     ]
    },
    {
     "data": {
      "text/html": [
       " <span style=\"background-color:#e0e0e0 \">-8.130186</span><span style=\"background-color:#DFFF00 \"> -5.074352</span>"
      ],
      "text/plain": [
       "<IPython.core.display.HTML object>"
      ]
     },
     "metadata": {},
     "output_type": "display_data"
    },
    {
     "name": "stdout",
     "output_type": "stream",
     "text": [
      "-  --  --  --  --  --  --  --  --  --  --  --  --  --  --  --  --  --  --  --  --  --  --  --  --  -\n"
     ]
    },
    {
     "data": {
      "text/html": [
       " These are sometimes-crowded family beaches with a good range of <span style=\"background-color:#DFFF00 \">shops</span><span style=\"background-color:#DFFF00 \"> lining</span> the shore. Swimming is safe."
      ],
      "text/plain": [
       "<IPython.core.display.HTML object>"
      ]
     },
     "metadata": {},
     "output_type": "display_data"
    },
    {
     "data": {
      "text/html": [
       " Αυτές οι παραλίες είναι μερικές φορές γεμάτες οικογένειες με αρκετή ποικιλία <span style=\"background-color:#DFFF00 \">μαγαζιών</span><span style=\"background-color:#DFFF00 \"> κατά</span><span style=\"background-color:#DFFF00 \"> μήκος</span> της ακτής. Το κολύμπι είναι ασφαλές."
      ],
      "text/plain": [
       "<IPython.core.display.HTML object>"
      ]
     },
     "metadata": {},
     "output_type": "display_data"
    },
    {
     "name": "stdout",
     "output_type": "stream",
     "text": [
      "____________________________________262___________________________________________________\n",
      "215\n",
      "0.023794000000000537\n"
     ]
    },
    {
     "data": {
      "text/html": [
       " <span style=\"background-color:#e0e0e0 \">-12.018155</span><span style=\"background-color:#DFFF00 \"> -11.994361</span>"
      ],
      "text/plain": [
       "<IPython.core.display.HTML object>"
      ]
     },
     "metadata": {},
     "output_type": "display_data"
    },
    {
     "name": "stdout",
     "output_type": "stream",
     "text": [
      "-  --  --  --  --  --  --  --  --  --  --  --  --  --  --  --  --  --  --  --  --  --  --  --  --  -\n"
     ]
    },
    {
     "data": {
      "text/html": [
       " There are many French wines to be had, but the New Zealand and Australian wines might <span style=\"background-color:#DFFF00 \">travel</span> better."
      ],
      "text/plain": [
       "<IPython.core.display.HTML object>"
      ]
     },
     "metadata": {},
     "output_type": "display_data"
    },
    {
     "data": {
      "text/html": [
       " Μεγάλη ποικιλία γαλλικών κρασιών είναι διαθέσιμα προς δοκιμή, όμως τα κρασιά της Νέας Ζηλανδίας και της Αυστραλίας <span style=\"background-color:#DFFF00 \">ενδέχεται</span><span style=\"background-color:#DFFF00 \"> να</span><span style=\"background-color:#DFFF00 \"> αποτελούν</span> καλύτερη επιλογή."
      ],
      "text/plain": [
       "<IPython.core.display.HTML object>"
      ]
     },
     "metadata": {},
     "output_type": "display_data"
    },
    {
     "name": "stdout",
     "output_type": "stream",
     "text": [
      "____________________________________264___________________________________________________\n",
      "216\n",
      "1.9917529999999992\n"
     ]
    },
    {
     "data": {
      "text/html": [
       " <span style=\"background-color:#e0e0e0 \">-11.641162</span><span style=\"background-color:#DFFF00 \"> -10.928907</span><span style=\"background-color:#9FE2BF \"> -9.649409</span>"
      ],
      "text/plain": [
       "<IPython.core.display.HTML object>"
      ]
     },
     "metadata": {},
     "output_type": "display_data"
    },
    {
     "name": "stdout",
     "output_type": "stream",
     "text": [
      "-  --  --  --  --  --  --  --  --  --  --  --  --  --  --  --  --  --  --  --  --  --  --  --  --  -\n"
     ]
    },
    {
     "data": {
      "text/html": [
       " Box jellyfish occur near beaches and near river estuaries from October <span style=\"background-color:#9FE2BF \">to</span> April north of 1770. They <span style=\"background-color:#DFFF00 \">can</span> occasionally be found outside these times."
      ],
      "text/plain": [
       "<IPython.core.display.HTML object>"
      ]
     },
     "metadata": {},
     "output_type": "display_data"
    },
    {
     "data": {
      "text/html": [
       " Από το 1770 οι κυβομέδουσες κάνουν την εμφάνισή τους κοντά σε παραλίες και εκβολές ποταμών από τον Οκτώβριο <span style=\"background-color:#9FE2BF \">μέχρι</span> τον Απρίλιο. Περιστασιακά <span style=\"background-color:#DFFF00 \">μπορεί</span><span style=\"background-color:#DFFF00 \"> κανείς</span><span style=\"background-color:#DFFF00 \"> να</span> τις εντοπίσει διαφορετική εποχή."
      ],
      "text/plain": [
       "<IPython.core.display.HTML object>"
      ]
     },
     "metadata": {},
     "output_type": "display_data"
    },
    {
     "name": "stdout",
     "output_type": "stream",
     "text": [
      "____________________________________265___________________________________________________\n",
      "217\n",
      "7.297395\n"
     ]
    },
    {
     "data": {
      "text/html": [
       " <span style=\"background-color:#e0e0e0 \">-5.165702</span><span style=\"background-color:#DFFF00 \"> 2.131693</span>"
      ],
      "text/plain": [
       "<IPython.core.display.HTML object>"
      ]
     },
     "metadata": {},
     "output_type": "display_data"
    },
    {
     "name": "stdout",
     "output_type": "stream",
     "text": [
      "-  --  --  --  --  --  --  --  --  --  --  --  --  --  --  --  --  --  --  --  --  --  --  --  --  -\n"
     ]
    },
    {
     "data": {
      "text/html": [
       " Sharks do exist, however they rarely attack humans. Most sharks are scared of humans and would swim <span style=\"background-color:#DFFF00 \">away.</span>"
      ],
      "text/plain": [
       "<IPython.core.display.HTML object>"
      ]
     },
     "metadata": {},
     "output_type": "display_data"
    },
    {
     "data": {
      "text/html": [
       " Οι καρχαρίες υπάρχουν πράγματι, ωστόσο σπανίως επιτίθενται σε ανθρώπους. Οι περισσότεροι καρχαρίες τους φοβούνται και θα κολυμπούσαν <span style=\"background-color:#DFFF00 \">μακριά</span><span style=\"background-color:#DFFF00 \"> απ'</span><span style=\"background-color:#DFFF00 \"> αυτούς.</span>"
      ],
      "text/plain": [
       "<IPython.core.display.HTML object>"
      ]
     },
     "metadata": {},
     "output_type": "display_data"
    },
    {
     "name": "stdout",
     "output_type": "stream",
     "text": [
      "____________________________________266___________________________________________________\n",
      "218\n",
      "6.9235517\n"
     ]
    },
    {
     "data": {
      "text/html": [
       " <span style=\"background-color:#e0e0e0 \">-0.4933227</span><span style=\"background-color:#DFFF00 \"> 3.658514</span><span style=\"background-color:#9FE2BF \"> 6.430229</span>"
      ],
      "text/plain": [
       "<IPython.core.display.HTML object>"
      ]
     },
     "metadata": {},
     "output_type": "display_data"
    },
    {
     "name": "stdout",
     "output_type": "stream",
     "text": [
      "-  --  --  --  --  --  --  --  --  --  --  --  --  --  --  --  --  --  --  --  --  --  --  --  --  -\n"
     ]
    },
    {
     "data": {
      "text/html": [
       " Booking in advance gives the traveller <span style=\"background-color:#9FE2BF \">peace</span><span style=\"background-color:#9FE2BF \"> of</span><span style=\"background-color:#9FE2BF \"> mind</span> that they will have <span style=\"background-color:#DFFF00 \">somewhere</span> to sleep once they arrive at their destination."
      ],
      "text/plain": [
       "<IPython.core.display.HTML object>"
      ]
     },
     "metadata": {},
     "output_type": "display_data"
    },
    {
     "data": {
      "text/html": [
       " Κάνοντας κράτηση νωρίτερα, εξασφαλίζει στους ταξιδιώτες ότι θα έχουν <span style=\"background-color:#DFFF00 \">στέγη</span> να μείνουν τη στιγμή που φτάσουν στον προορισμό τους."
      ],
      "text/plain": [
       "<IPython.core.display.HTML object>"
      ]
     },
     "metadata": {},
     "output_type": "display_data"
    },
    {
     "name": "stdout",
     "output_type": "stream",
     "text": [
      "____________________________________267___________________________________________________\n",
      "219\n",
      "4.5442601\n"
     ]
    },
    {
     "data": {
      "text/html": [
       " <span style=\"background-color:#e0e0e0 \">-0.8403191</span><span style=\"background-color:#DFFF00 \"> 1.6137774</span><span style=\"background-color:#9FE2BF \"> 3.703941</span>"
      ],
      "text/plain": [
       "<IPython.core.display.HTML object>"
      ]
     },
     "metadata": {},
     "output_type": "display_data"
    },
    {
     "name": "stdout",
     "output_type": "stream",
     "text": [
      "-  --  --  --  --  --  --  --  --  --  --  --  --  --  --  --  --  --  --  --  --  --  --  --  --  -\n"
     ]
    },
    {
     "data": {
      "text/html": [
       " Any amendments or requests <span style=\"background-color:#DFFF00 \">though</span><span style=\"background-color:#DFFF00 \"> should</span> be coursed through the travel agent first and not directly with the hotel."
      ],
      "text/plain": [
       "<IPython.core.display.HTML object>"
      ]
     },
     "metadata": {},
     "output_type": "display_data"
    },
    {
     "data": {
      "text/html": [
       " Ωστόσο, τυχόν τροποποιήσεις ή αιτήματα <span style=\"background-color:#DFFF00 \">θα</span><span style=\"background-color:#DFFF00 \"> πρέπει</span><span style=\"background-color:#DFFF00 \"> να</span> παραπέμπονται πρώτα στον ταξιδιωτικό πράκτορα και όχι <span style=\"background-color:#9FE2BF \">να</span><span style=\"background-color:#9FE2BF \"> αποστέλλονται</span> απευθείας στο ξενοδοχείο."
      ],
      "text/plain": [
       "<IPython.core.display.HTML object>"
      ]
     },
     "metadata": {},
     "output_type": "display_data"
    },
    {
     "name": "stdout",
     "output_type": "stream",
     "text": [
      "____________________________________268___________________________________________________\n",
      "220\n",
      "8.4751136\n"
     ]
    },
    {
     "data": {
      "text/html": [
       " <span style=\"background-color:#e0e0e0 \">-3.6837952</span><span style=\"background-color:#DFFF00 \"> 2.7295375</span><span style=\"background-color:#9FE2BF \"> 4.7913184</span>"
      ],
      "text/plain": [
       "<IPython.core.display.HTML object>"
      ]
     },
     "metadata": {},
     "output_type": "display_data"
    },
    {
     "name": "stdout",
     "output_type": "stream",
     "text": [
      "-  --  --  --  --  --  --  --  --  --  --  --  --  --  --  --  --  --  --  --  --  --  --  --  --  -\n"
     ]
    },
    {
     "data": {
      "text/html": [
       " Remember that even though music on the main stages may have finished, there may be sections of the festival that will keep playing music <span style=\"background-color:#DFFF00 \">until</span> late <span style=\"background-color:#9FE2BF \">into</span><span style=\"background-color:#9FE2BF \"> the</span><span style=\"background-color:#9FE2BF \"> night.</span>"
      ],
      "text/plain": [
       "<IPython.core.display.HTML object>"
      ]
     },
     "metadata": {},
     "output_type": "display_data"
    },
    {
     "data": {
      "text/html": [
       " Να θυμάστε ότι ενώ μπορεί η μουσική να τελειώσει στις βασικές σκηνές, ενδέχεται να υπάρχουν τμήματα του φεστιβάλ όπου η μουσική θα συνεχίζεται <span style=\"background-color:#DFFF00 \">ως</span> αργά <span style=\"background-color:#9FE2BF \">το</span><span style=\"background-color:#9FE2BF \"> βράδυ.</span>"
      ],
      "text/plain": [
       "<IPython.core.display.HTML object>"
      ]
     },
     "metadata": {},
     "output_type": "display_data"
    },
    {
     "name": "stdout",
     "output_type": "stream",
     "text": [
      "____________________________________269___________________________________________________\n",
      "221\n",
      "2.2946895\n"
     ]
    },
    {
     "data": {
      "text/html": [
       " <span style=\"background-color:#e0e0e0 \">-5.365121</span><span style=\"background-color:#DFFF00 \"> -3.0704315</span>"
      ],
      "text/plain": [
       "<IPython.core.display.HTML object>"
      ]
     },
     "metadata": {},
     "output_type": "display_data"
    },
    {
     "name": "stdout",
     "output_type": "stream",
     "text": [
      "-  --  --  --  --  --  --  --  --  --  --  --  --  --  --  --  --  --  --  --  --  --  --  --  --  -\n"
     ]
    },
    {
     "data": {
      "text/html": [
       " Saint Petersburg cruises include time in town. Cruise passengers are exempted from visa requirements (check the terms)."
      ],
      "text/plain": [
       "<IPython.core.display.HTML object>"
      ]
     },
     "metadata": {},
     "output_type": "display_data"
    },
    {
     "data": {
      "text/html": [
       " Οι κρουαζιέρες στην Αγία Πετρούπολη περιέχουν χρόνο που θα μείνετε στην πόλη. Όσοι επιβαίνουν στο καράβι δεν είναι υποχρεωμένοι <span style=\"background-color:#DFFF00 \">να</span><span style=\"background-color:#DFFF00 \"> έχουν</span><span style=\"background-color:#DFFF00 \"> βίζα</span> (δείτε τους όρους)."
      ],
      "text/plain": [
       "<IPython.core.display.HTML object>"
      ]
     },
     "metadata": {},
     "output_type": "display_data"
    },
    {
     "name": "stdout",
     "output_type": "stream",
     "text": [
      "____________________________________270___________________________________________________\n",
      "222\n",
      "5.9541151999999995\n"
     ]
    },
    {
     "data": {
      "text/html": [
       " <span style=\"background-color:#e0e0e0 \">-1.1390322</span><span style=\"background-color:#DFFF00 \"> 4.5587707</span><span style=\"background-color:#9FE2BF \"> 4.815083</span>"
      ],
      "text/plain": [
       "<IPython.core.display.HTML object>"
      ]
     },
     "metadata": {},
     "output_type": "display_data"
    },
    {
     "name": "stdout",
     "output_type": "stream",
     "text": [
      "-  --  --  --  --  --  --  --  --  --  --  --  --  --  --  --  --  --  --  --  --  --  --  --  --  -\n"
     ]
    },
    {
     "data": {
      "text/html": [
       " They usually have special food, drink and entertainment offers, to keep guests in <span style=\"background-color:#9FE2BF \">a</span><span style=\"background-color:#9FE2BF \"> good</span> mood, and keep them at the premise."
      ],
      "text/plain": [
       "<IPython.core.display.HTML object>"
      ]
     },
     "metadata": {},
     "output_type": "display_data"
    },
    {
     "data": {
      "text/html": [
       " Πολλές φορές υπάρχουν ειδικές προσφορές σε φαγητό, ποτό και ψυχαγωγία ώστε να κρατήσουν τους πελάτες σε <span style=\"background-color:#9FE2BF \">καλή</span> διάθεση και εντός των <span style=\"background-color:#DFFF00 \">εγκαταστάσεων</span><span style=\"background-color:#DFFF00 \"> της</span> επιχείρησης."
      ],
      "text/plain": [
       "<IPython.core.display.HTML object>"
      ]
     },
     "metadata": {},
     "output_type": "display_data"
    },
    {
     "name": "stdout",
     "output_type": "stream",
     "text": [
      "____________________________________271___________________________________________________\n",
      "223\n",
      "10.673672199999999\n"
     ]
    },
    {
     "data": {
      "text/html": [
       " <span style=\"background-color:#e0e0e0 \">-7.8962517</span><span style=\"background-color:#DFFF00 \"> -1.3829793</span><span style=\"background-color:#9FE2BF \"> 2.7774205</span>"
      ],
      "text/plain": [
       "<IPython.core.display.HTML object>"
      ]
     },
     "metadata": {},
     "output_type": "display_data"
    },
    {
     "name": "stdout",
     "output_type": "stream",
     "text": [
      "-  --  --  --  --  --  --  --  --  --  --  --  --  --  --  --  --  --  --  --  --  --  --  --  --  -\n"
     ]
    },
    {
     "data": {
      "text/html": [
       " Some venues offer alcoholic <span style=\"background-color:#DFFF00 \">beverages</span><span style=\"background-color:#DFFF00 \"> on</span><span style=\"background-color:#DFFF00 \"> the</span><span style=\"background-color:#DFFF00 \"> house.</span><span style=\"background-color:#DFFF00 \"> However,</span><span style=\"background-color:#DFFF00 \"> drunkenness</span><span style=\"background-color:#DFFF00 \"> impairs</span> judgement, and <span style=\"background-color:#9FE2BF \">all</span> good gamblers know the importance of staying sober."
      ],
      "text/plain": [
       "<IPython.core.display.HTML object>"
      ]
     },
     "metadata": {},
     "output_type": "display_data"
    },
    {
     "data": {
      "text/html": [
       " Σε διάφορους χώρους προσφέρονται δωρεάν αλκοολούχα <span style=\"background-color:#DFFF00 \">ποτά.</span><span style=\"background-color:#DFFF00 \"> Ωστόσο,</span><span style=\"background-color:#DFFF00 \"> η</span><span style=\"background-color:#DFFF00 \"> μέθη</span><span style=\"background-color:#DFFF00 \"> επηρεάζει</span><span style=\"background-color:#DFFF00 \"> την</span> κρίση και <span style=\"background-color:#9FE2BF \">ένας</span> καλός τζογαδόρος γνωρίζει τη σημασία του να παραμένει νηφάλιος."
      ],
      "text/plain": [
       "<IPython.core.display.HTML object>"
      ]
     },
     "metadata": {},
     "output_type": "display_data"
    },
    {
     "name": "stdout",
     "output_type": "stream",
     "text": [
      "____________________________________272___________________________________________________\n",
      "224\n",
      "2.29547333\n"
     ]
    },
    {
     "data": {
      "text/html": [
       " <span style=\"background-color:#e0e0e0 \">-1.9715228</span><span style=\"background-color:#DFFF00 \"> 0.32395053</span>"
      ],
      "text/plain": [
       "<IPython.core.display.HTML object>"
      ]
     },
     "metadata": {},
     "output_type": "display_data"
    },
    {
     "name": "stdout",
     "output_type": "stream",
     "text": [
      "-  --  --  --  --  --  --  --  --  --  --  --  --  --  --  --  --  --  --  --  --  --  --  --  --  -\n"
     ]
    },
    {
     "data": {
      "text/html": [
       " On icy and snowy roadways, <span style=\"background-color:#DFFF00 \">friction</span><span style=\"background-color:#DFFF00 \"> is</span><span style=\"background-color:#DFFF00 \"> low</span><span style=\"background-color:#DFFF00 \"> and</span> you cannot drive as if you were on bare asphalt."
      ],
      "text/plain": [
       "<IPython.core.display.HTML object>"
      ]
     },
     "metadata": {},
     "output_type": "display_data"
    },
    {
     "data": {
      "text/html": [
       " Σε παγωμένε και χιονισμένες οδούς, δεν <span style=\"background-color:#DFFF00 \">υπάρχει</span><span style=\"background-color:#DFFF00 \"> αρκετή</span><span style=\"background-color:#DFFF00 \"> τριβή</span><span style=\"background-color:#DFFF00 \"> και</span> είναι δύσκολη η οδήγηση σε σχέση με τη γυμνή άσφαλτο."
      ],
      "text/plain": [
       "<IPython.core.display.HTML object>"
      ]
     },
     "metadata": {},
     "output_type": "display_data"
    },
    {
     "name": "stdout",
     "output_type": "stream",
     "text": [
      "____________________________________275___________________________________________________\n",
      "225\n",
      "5.348692300000001\n"
     ]
    },
    {
     "data": {
      "text/html": [
       " <span style=\"background-color:#e0e0e0 \">-9.389131</span><span style=\"background-color:#DFFF00 \"> -5.0720797</span><span style=\"background-color:#9FE2BF \"> -4.0404387</span>"
      ],
      "text/plain": [
       "<IPython.core.display.HTML object>"
      ]
     },
     "metadata": {},
     "output_type": "display_data"
    },
    {
     "name": "stdout",
     "output_type": "stream",
     "text": [
      "-  --  --  --  --  --  --  --  --  --  --  --  --  --  --  --  --  --  --  --  --  --  --  --  --  -\n"
     ]
    },
    {
     "data": {
      "text/html": [
       " Safaris are perhaps the greatest tourism draw in Africa <span style=\"background-color:#DFFF00 \">and</span><span style=\"background-color:#DFFF00 \"> the</span> highlight for many <span style=\"background-color:#9FE2BF \">visitors.</span>"
      ],
      "text/plain": [
       "<IPython.core.display.HTML object>"
      ]
     },
     "metadata": {},
     "output_type": "display_data"
    },
    {
     "data": {
      "text/html": [
       " Τα σαφάρι αποτελούν ίσως τους μεγαλύτερους ταξιδιωτικούς πόλους έλξης στην Αφρική <span style=\"background-color:#DFFF00 \">και</span> αξιοθέατο για πολλούς <span style=\"background-color:#9FE2BF \">επισκέπτες.</span>"
      ],
      "text/plain": [
       "<IPython.core.display.HTML object>"
      ]
     },
     "metadata": {},
     "output_type": "display_data"
    },
    {
     "name": "stdout",
     "output_type": "stream",
     "text": [
      "____________________________________277___________________________________________________\n",
      "226\n",
      "22.5151855\n"
     ]
    },
    {
     "data": {
      "text/html": [
       " <span style=\"background-color:#e0e0e0 \">-14.9023075</span><span style=\"background-color:#DFFF00 \"> 6.15203</span><span style=\"background-color:#9FE2BF \"> 7.612878</span>"
      ],
      "text/plain": [
       "<IPython.core.display.HTML object>"
      ]
     },
     "metadata": {},
     "output_type": "display_data"
    },
    {
     "name": "stdout",
     "output_type": "stream",
     "text": [
      "-  --  --  --  --  --  --  --  --  --  --  --  --  --  --  --  --  --  --  --  --  --  --  --  --  -\n"
     ]
    },
    {
     "data": {
      "text/html": [
       " Tokyo will be the only Asian city to have <span style=\"background-color:#9FE2BF \">hosted</span> two <span style=\"background-color:#DFFF00 \">summer</span><span style=\"background-color:#DFFF00 \"> Olympics,</span><span style=\"background-color:#DFFF00 \"> having</span><span style=\"background-color:#DFFF00 \"> hosted</span><span style=\"background-color:#DFFF00 \"> the</span><span style=\"background-color:#DFFF00 \"> games</span> in 1964."
      ],
      "text/plain": [
       "<IPython.core.display.HTML object>"
      ]
     },
     "metadata": {},
     "output_type": "display_data"
    },
    {
     "data": {
      "text/html": [
       " Το Τόκιο θα είναι η μοναδική πόλη της Ασίας που θα έχει <span style=\"background-color:#9FE2BF \">διοργανώσει</span> δύο <span style=\"background-color:#DFFF00 \">φορές</span><span style=\"background-color:#DFFF00 \"> τους</span><span style=\"background-color:#DFFF00 \"> θερινούς</span><span style=\"background-color:#DFFF00 \"> Ολυμπιακούς</span><span style=\"background-color:#DFFF00 \"> Αγώνες,</span><span style=\"background-color:#DFFF00 \"> καθώς</span><span style=\"background-color:#DFFF00 \"> τους</span><span style=\"background-color:#DFFF00 \"> είχε</span><span style=\"background-color:#DFFF00 \"> διοργανώσει</span> το 1964."
      ],
      "text/plain": [
       "<IPython.core.display.HTML object>"
      ]
     },
     "metadata": {},
     "output_type": "display_data"
    },
    {
     "name": "stdout",
     "output_type": "stream",
     "text": [
      "____________________________________278___________________________________________________\n",
      "227\n",
      "16.3680576\n"
     ]
    },
    {
     "data": {
      "text/html": [
       " <span style=\"background-color:#e0e0e0 \">-12.274803</span><span style=\"background-color:#DFFF00 \"> 3.111331</span><span style=\"background-color:#9FE2BF \"> 4.0932546</span>"
      ],
      "text/plain": [
       "<IPython.core.display.HTML object>"
      ]
     },
     "metadata": {},
     "output_type": "display_data"
    },
    {
     "name": "stdout",
     "output_type": "stream",
     "text": [
      "-  --  --  --  --  --  --  --  --  --  --  --  --  --  --  --  --  --  --  --  --  --  --  --  --  -\n"
     ]
    },
    {
     "data": {
      "text/html": [
       " If you booked your flights <span style=\"background-color:#DFFF00 \">and</span><span style=\"background-color:#DFFF00 \"> accommodation</span> for 2020 before the postponement was announced, you may have a tricky situation."
      ],
      "text/plain": [
       "<IPython.core.display.HTML object>"
      ]
     },
     "metadata": {},
     "output_type": "display_data"
    },
    {
     "data": {
      "text/html": [
       " Αν κανονίσατε το πώς θα πετάξετε <span style=\"background-color:#DFFF00 \">και</span><span style=\"background-color:#DFFF00 \"> του</span><span style=\"background-color:#DFFF00 \"> που</span><span style=\"background-color:#DFFF00 \"> θα</span> μείνετε για το 2020 πριν ανακοινωθεί <span style=\"background-color:#9FE2BF \">ότι</span><span style=\"background-color:#9FE2BF \"> θα</span> αναβληθούν, μπορεί να αντιμετωπίσετε μια δύσκολη κατάσταση."
      ],
      "text/plain": [
       "<IPython.core.display.HTML object>"
      ]
     },
     "metadata": {},
     "output_type": "display_data"
    },
    {
     "name": "stdout",
     "output_type": "stream",
     "text": [
      "____________________________________279___________________________________________________\n",
      "228\n",
      "22.577225\n"
     ]
    },
    {
     "data": {
      "text/html": [
       " <span style=\"background-color:#e0e0e0 \">-9.920147</span><span style=\"background-color:#DFFF00 \"> 12.657078</span>"
      ],
      "text/plain": [
       "<IPython.core.display.HTML object>"
      ]
     },
     "metadata": {},
     "output_type": "display_data"
    },
    {
     "name": "stdout",
     "output_type": "stream",
     "text": [
      "-  --  --  --  --  --  --  --  --  --  --  --  --  --  --  --  --  --  --  --  --  --  --  --  --  -\n"
     ]
    },
    {
     "data": {
      "text/html": [
       " It's expected that most event tickets will cost between ¥2,500 and <span style=\"background-color:#DFFF00 \">¥130,000,</span><span style=\"background-color:#DFFF00 \"> with</span><span style=\"background-color:#DFFF00 \"> typical</span><span style=\"background-color:#DFFF00 \"> tickets</span><span style=\"background-color:#DFFF00 \"> costing</span> around ¥7,000."
      ],
      "text/plain": [
       "<IPython.core.display.HTML object>"
      ]
     },
     "metadata": {},
     "output_type": "display_data"
    },
    {
     "data": {
      "text/html": [
       " Αναμένεται ότι τα περισσότερα εισιτήρια των εκδηλώσεων θα κοστίζουν από 2.500 γιεν έως <span style=\"background-color:#DFFF00 \">130.000</span><span style=\"background-color:#DFFF00 \"> γιεν,</span><span style=\"background-color:#DFFF00 \"> ενώ</span><span style=\"background-color:#DFFF00 \"> η</span><span style=\"background-color:#DFFF00 \"> τιμή</span><span style=\"background-color:#DFFF00 \"> των</span><span style=\"background-color:#DFFF00 \"> τυπικών</span><span style=\"background-color:#DFFF00 \"> εισιτηρίων</span><span style=\"background-color:#DFFF00 \"> είναι</span> περίπου 7.000 γιεν."
      ],
      "text/plain": [
       "<IPython.core.display.HTML object>"
      ]
     },
     "metadata": {},
     "output_type": "display_data"
    },
    {
     "name": "stdout",
     "output_type": "stream",
     "text": [
      "____________________________________280___________________________________________________\n",
      "229\n",
      "0.8914034\n"
     ]
    },
    {
     "data": {
      "text/html": [
       " <span style=\"background-color:#e0e0e0 \">-0.6468783</span><span style=\"background-color:#DFFF00 \"> 0.2445251</span>"
      ],
      "text/plain": [
       "<IPython.core.display.HTML object>"
      ]
     },
     "metadata": {},
     "output_type": "display_data"
    },
    {
     "name": "stdout",
     "output_type": "stream",
     "text": [
      "-  --  --  --  --  --  --  --  --  --  --  --  --  --  --  --  --  --  --  --  --  --  --  --  --  -\n"
     ]
    },
    {
     "data": {
      "text/html": [
       " Ironing damp clothes can help them dry. Many hotels have an iron and ironing board available for loan, even if one is not <span style=\"background-color:#DFFF00 \">present</span> in the room."
      ],
      "text/plain": [
       "<IPython.core.display.HTML object>"
      ]
     },
     "metadata": {},
     "output_type": "display_data"
    },
    {
     "data": {
      "text/html": [
       " Στο στέγνωμα των βρεγμένων ρούχων μπορεί να βοηθήσει το σιδέρωμα. Πολλά ξενοδοχεία διαθέτουν προς δανεισμό σίδερα και σιδερώστρες, ακόμη και αν δεν <span style=\"background-color:#DFFF00 \">υπάρχουν</span> στο δωμάτιο."
      ],
      "text/plain": [
       "<IPython.core.display.HTML object>"
      ]
     },
     "metadata": {},
     "output_type": "display_data"
    },
    {
     "name": "stdout",
     "output_type": "stream",
     "text": [
      "____________________________________281___________________________________________________\n",
      "230\n",
      "8.571518\n"
     ]
    },
    {
     "data": {
      "text/html": [
       " <span style=\"background-color:#e0e0e0 \">-1.4133015</span><span style=\"background-color:#DFFF00 \"> 3.4877274</span><span style=\"background-color:#9FE2BF \"> 7.1582165</span>"
      ],
      "text/plain": [
       "<IPython.core.display.HTML object>"
      ]
     },
     "metadata": {},
     "output_type": "display_data"
    },
    {
     "name": "stdout",
     "output_type": "stream",
     "text": [
      "-  --  --  --  --  --  --  --  --  --  --  --  --  --  --  --  --  --  --  --  --  --  --  --  --  -\n"
     ]
    },
    {
     "data": {
      "text/html": [
       " If an iron isn't available, or if you don't <span style=\"background-color:#DFFF00 \">fancy</span> wearing ironed socks, then you can try using a hairdryer, <span style=\"background-color:#9FE2BF \">if</span><span style=\"background-color:#9FE2BF \"> available.</span>"
      ],
      "text/plain": [
       "<IPython.core.display.HTML object>"
      ]
     },
     "metadata": {},
     "output_type": "display_data"
    },
    {
     "data": {
      "text/html": [
       " Εάν δεν διατίθεται κάποιο σίδερο, ή δεν σας <span style=\"background-color:#DFFF00 \">ενδιαφέρει</span> να φοράτε σιδερωμένες κάλτσες, μπορείτε σε αυτή την περίπτωση να χρησιμοποιήσετε ένα σεσουάρ, <span style=\"background-color:#9FE2BF \">εάν</span><span style=\"background-color:#9FE2BF \"> είναι</span><span style=\"background-color:#9FE2BF \"> διαθέσιμο.</span>"
      ],
      "text/plain": [
       "<IPython.core.display.HTML object>"
      ]
     },
     "metadata": {},
     "output_type": "display_data"
    },
    {
     "name": "stdout",
     "output_type": "stream",
     "text": [
      "____________________________________282___________________________________________________\n",
      "231\n",
      "5.786568\n"
     ]
    },
    {
     "data": {
      "text/html": [
       " <span style=\"background-color:#e0e0e0 \">-7.046114</span><span style=\"background-color:#DFFF00 \"> -2.8877068</span><span style=\"background-color:#9FE2BF \"> -1.259546</span>"
      ],
      "text/plain": [
       "<IPython.core.display.HTML object>"
      ]
     },
     "metadata": {},
     "output_type": "display_data"
    },
    {
     "name": "stdout",
     "output_type": "stream",
     "text": [
      "-  --  --  --  --  --  --  --  --  --  --  --  --  --  --  --  --  --  --  --  --  --  --  --  --  -\n"
     ]
    },
    {
     "data": {
      "text/html": [
       " In some areas <span style=\"background-color:#DFFF00 \">boiling</span><span style=\"background-color:#DFFF00 \"> water</span><span style=\"background-color:#DFFF00 \"> for</span> a minute is enough, in others several minutes are needed."
      ],
      "text/plain": [
       "<IPython.core.display.HTML object>"
      ]
     },
     "metadata": {},
     "output_type": "display_data"
    },
    {
     "data": {
      "text/html": [
       " Σε ορισμένες περιοχές ένα λεπτό <span style=\"background-color:#DFFF00 \">βράσης</span><span style=\"background-color:#DFFF00 \"> του</span><span style=\"background-color:#DFFF00 \"> νερού</span> είναι αρκετό, σε άλλες <span style=\"background-color:#9FE2BF \">όμως</span><span style=\"background-color:#9FE2BF \"> χρειάζονται</span> αρκετά λεπτά."
      ],
      "text/plain": [
       "<IPython.core.display.HTML object>"
      ]
     },
     "metadata": {},
     "output_type": "display_data"
    },
    {
     "name": "stdout",
     "output_type": "stream",
     "text": [
      "____________________________________284___________________________________________________\n",
      "232\n",
      "7.0994923\n"
     ]
    },
    {
     "data": {
      "text/html": [
       " <span style=\"background-color:#e0e0e0 \">-4.159733</span><span style=\"background-color:#DFFF00 \"> 2.5523145</span><span style=\"background-color:#9FE2BF \"> 2.8804727</span><span style=\"background-color:#CCCCFF \"> 2.9397593</span>"
      ],
      "text/plain": [
       "<IPython.core.display.HTML object>"
      ]
     },
     "metadata": {},
     "output_type": "display_data"
    },
    {
     "name": "stdout",
     "output_type": "stream",
     "text": [
      "-  --  --  --  --  --  --  --  --  --  --  --  --  --  --  --  --  --  --  --  --  --  --  --  --  -\n"
     ]
    },
    {
     "data": {
      "text/html": [
       " The stretch between <span style=\"background-color:#CCCCFF \">Point</span> Marion and Fairmont presents <span style=\"background-color:#9FE2BF \">the</span><span style=\"background-color:#9FE2BF \"> most</span> challenging driving conditions on the Buffalo-Pittsburgh Highway, passing frequently through isolated <span style=\"background-color:#DFFF00 \">backwoods</span> terrain."
      ],
      "text/plain": [
       "<IPython.core.display.HTML object>"
      ]
     },
     "metadata": {},
     "output_type": "display_data"
    },
    {
     "data": {
      "text/html": [
       " Το τμήμα ανάμεσα <span style=\"background-color:#CCCCFF \">στο</span><span style=\"background-color:#CCCCFF \"> Point</span> Marion και το Fairmont είναι <span style=\"background-color:#9FE2BF \">πολύ</span> επικίνδυνο για οδήγηση στην εθνική οδό Buffalo-Pittsburg, γιατί διασχίζει πολλά <span style=\"background-color:#DFFF00 \">μοναχικά</span> επαρχιακά μέρη."
      ],
      "text/plain": [
       "<IPython.core.display.HTML object>"
      ]
     },
     "metadata": {},
     "output_type": "display_data"
    },
    {
     "name": "stdout",
     "output_type": "stream",
     "text": [
      "____________________________________286___________________________________________________\n",
      "233\n",
      "16.605078\n"
     ]
    },
    {
     "data": {
      "text/html": [
       " <span style=\"background-color:#e0e0e0 \">-1.728882</span><span style=\"background-color:#DFFF00 \"> 14.876196</span>"
      ],
      "text/plain": [
       "<IPython.core.display.HTML object>"
      ]
     },
     "metadata": {},
     "output_type": "display_data"
    },
    {
     "name": "stdout",
     "output_type": "stream",
     "text": [
      "-  --  --  --  --  --  --  --  --  --  --  --  --  --  --  --  --  --  --  --  --  --  --  --  --  -\n"
     ]
    },
    {
     "data": {
      "text/html": [
       " Posted speed limits are noticeably lower than in previous and subsequent sections <span style=\"background-color:#DFFF00 \">—</span><span style=\"background-color:#DFFF00 \"> commonly</span><span style=\"background-color:#DFFF00 \"> 35-40</span><span style=\"background-color:#DFFF00 \"> mph</span><span style=\"background-color:#DFFF00 \"> (56-64</span><span style=\"background-color:#DFFF00 \"> km/h)</span><span style=\"background-color:#DFFF00 \"> —</span><span style=\"background-color:#DFFF00 \"> and</span><span style=\"background-color:#DFFF00 \"> strict</span><span style=\"background-color:#DFFF00 \"> obedience</span><span style=\"background-color:#DFFF00 \"> to</span><span style=\"background-color:#DFFF00 \"> them</span><span style=\"background-color:#DFFF00 \"> is</span><span style=\"background-color:#DFFF00 \"> even</span><span style=\"background-color:#DFFF00 \"> more</span><span style=\"background-color:#DFFF00 \"> important</span><span style=\"background-color:#DFFF00 \"> than</span><span style=\"background-color:#DFFF00 \"> otherwise.</span>"
      ],
      "text/plain": [
       "<IPython.core.display.HTML object>"
      ]
     },
     "metadata": {},
     "output_type": "display_data"
    },
    {
     "data": {
      "text/html": [
       " Τα αναρτημένα όρια ταχύτητας είναι εμφανώς μικρότερα από ό,τι σε προηγούμενα και επόμενα τμήματα <span style=\"background-color:#DFFF00 \">–συνήθως</span><span style=\"background-color:#DFFF00 \"> 35-40</span><span style=\"background-color:#DFFF00 \"> μίλια/ώρα</span><span style=\"background-color:#DFFF00 \"> (56-64</span><span style=\"background-color:#DFFF00 \"> χιλιόμετρα/ώρα)</span><span style=\"background-color:#DFFF00 \"> και</span><span style=\"background-color:#DFFF00 \"> είναι</span><span style=\"background-color:#DFFF00 \"> ακόμη</span><span style=\"background-color:#DFFF00 \"> σημαντικότερο</span><span style=\"background-color:#DFFF00 \"> να</span><span style=\"background-color:#DFFF00 \"> υπακούμε</span><span style=\"background-color:#DFFF00 \"> αυστηρά</span><span style=\"background-color:#DFFF00 \"> σε</span><span style=\"background-color:#DFFF00 \"> αυτά.</span>"
      ],
      "text/plain": [
       "<IPython.core.display.HTML object>"
      ]
     },
     "metadata": {},
     "output_type": "display_data"
    },
    {
     "name": "stdout",
     "output_type": "stream",
     "text": [
      "____________________________________287___________________________________________________\n",
      "234\n",
      "12.6572297\n"
     ]
    },
    {
     "data": {
      "text/html": [
       " <span style=\"background-color:#e0e0e0 \">-14.256643</span><span style=\"background-color:#DFFF00 \"> -9.019935</span><span style=\"background-color:#9FE2BF \"> -1.5994133</span>"
      ],
      "text/plain": [
       "<IPython.core.display.HTML object>"
      ]
     },
     "metadata": {},
     "output_type": "display_data"
    },
    {
     "name": "stdout",
     "output_type": "stream",
     "text": [
      "-  --  --  --  --  --  --  --  --  --  --  --  --  --  --  --  --  --  --  --  --  --  --  --  --  -\n"
     ]
    },
    {
     "data": {
      "text/html": [
       " German pastries are quite <span style=\"background-color:#DFFF00 \">good,</span><span style=\"background-color:#DFFF00 \"> and</span> in Bavaria, are quite rich and varied, similar to those of <span style=\"background-color:#9FE2BF \">their</span><span style=\"background-color:#9FE2BF \"> southern</span><span style=\"background-color:#9FE2BF \"> neighbor,</span> Austria."
      ],
      "text/plain": [
       "<IPython.core.display.HTML object>"
      ]
     },
     "metadata": {},
     "output_type": "display_data"
    },
    {
     "data": {
      "text/html": [
       " Τα γλυκά της Γερμανίας είναι αρκετά <span style=\"background-color:#DFFF00 \">ποιοτικά</span><span style=\"background-color:#DFFF00 \"> ενώ</span> στη Βαυαρία τα βρίσκει κανείς σε πληθώρα και ποικιλία, αντίστοιχα με αυτά της <span style=\"background-color:#9FE2BF \">νότιας</span><span style=\"background-color:#9FE2BF \"> γειτονικής</span><span style=\"background-color:#9FE2BF \"> της</span><span style=\"background-color:#9FE2BF \"> χώρας</span><span style=\"background-color:#9FE2BF \"> της</span> Αυστρίας."
      ],
      "text/plain": [
       "<IPython.core.display.HTML object>"
      ]
     },
     "metadata": {},
     "output_type": "display_data"
    },
    {
     "name": "stdout",
     "output_type": "stream",
     "text": [
      "____________________________________288___________________________________________________\n",
      "235\n",
      "4.0486448\n"
     ]
    },
    {
     "data": {
      "text/html": [
       " <span style=\"background-color:#e0e0e0 \">-7.0757666</span><span style=\"background-color:#DFFF00 \"> -4.900129</span><span style=\"background-color:#9FE2BF \"> -3.0271218</span>"
      ],
      "text/plain": [
       "<IPython.core.display.HTML object>"
      ]
     },
     "metadata": {},
     "output_type": "display_data"
    },
    {
     "name": "stdout",
     "output_type": "stream",
     "text": [
      "-  --  --  --  --  --  --  --  --  --  --  --  --  --  --  --  --  --  --  --  --  --  --  --  --  -\n"
     ]
    },
    {
     "data": {
      "text/html": [
       " If you want some small <span style=\"background-color:#9FE2BF \">though</span><span style=\"background-color:#9FE2BF \"> rich</span> pastries, try what <span style=\"background-color:#DFFF00 \">depending</span><span style=\"background-color:#DFFF00 \"> on</span><span style=\"background-color:#DFFF00 \"> region</span><span style=\"background-color:#DFFF00 \"> are</span> called Berliner, Pfannkuchen or Krapfen."
      ],
      "text/plain": [
       "<IPython.core.display.HTML object>"
      ]
     },
     "metadata": {},
     "output_type": "display_data"
    },
    {
     "data": {
      "text/html": [
       " Εάν επιθυμείτε <span style=\"background-color:#9FE2BF \">αλλά</span><span style=\"background-color:#9FE2BF \"> μικρά</span> γευστικότατα αρτοσκευάσματα, δοκιμάστε αυτά που αποκαλούνται μπερλίνερ, φανκούχεν ή κράπφεν."
      ],
      "text/plain": [
       "<IPython.core.display.HTML object>"
      ]
     },
     "metadata": {},
     "output_type": "display_data"
    },
    {
     "name": "stdout",
     "output_type": "stream",
     "text": [
      "____________________________________289___________________________________________________\n",
      "236\n",
      "0.4015179\n"
     ]
    },
    {
     "data": {
      "text/html": [
       " <span style=\"background-color:#e0e0e0 \">-6.5176163</span><span style=\"background-color:#DFFF00 \"> -6.1160984</span>"
      ],
      "text/plain": [
       "<IPython.core.display.HTML object>"
      ]
     },
     "metadata": {},
     "output_type": "display_data"
    },
    {
     "name": "stdout",
     "output_type": "stream",
     "text": [
      "-  --  --  --  --  --  --  --  --  --  --  --  --  --  --  --  --  --  --  --  --  --  --  --  --  -\n"
     ]
    },
    {
     "data": {
      "text/html": [
       " First, most riders wear <span style=\"background-color:#DFFF00 \">riding</span> boots with a heel and a smooth, quite narrow, sole."
      ],
      "text/plain": [
       "<IPython.core.display.HTML object>"
      ]
     },
     "metadata": {},
     "output_type": "display_data"
    },
    {
     "data": {
      "text/html": [
       " Αρχικά οι πιο πολλοί ιππείς διαθέτουν <span style=\"background-color:#DFFF00 \">ειδικά</span> παπούτσια που έχουν τακούνια, απαλό και σχετικά μικρό πάτο."
      ],
      "text/plain": [
       "<IPython.core.display.HTML object>"
      ]
     },
     "metadata": {},
     "output_type": "display_data"
    },
    {
     "name": "stdout",
     "output_type": "stream",
     "text": [
      "____________________________________290___________________________________________________\n",
      "237\n",
      "13.032839300000001\n"
     ]
    },
    {
     "data": {
      "text/html": [
       " <span style=\"background-color:#e0e0e0 \">-0.6014903</span><span style=\"background-color:#DFFF00 \"> 12.431349</span>"
      ],
      "text/plain": [
       "<IPython.core.display.HTML object>"
      ]
     },
     "metadata": {},
     "output_type": "display_data"
    },
    {
     "name": "stdout",
     "output_type": "stream",
     "text": [
      "-  --  --  --  --  --  --  --  --  --  --  --  --  --  --  --  --  --  --  --  --  --  --  --  --  -\n"
     ]
    },
    {
     "data": {
      "text/html": [
       " Cochamó Valley - Chile's premier climbing destination, known as the Yosemite of South America, <span style=\"background-color:#DFFF00 \">with</span><span style=\"background-color:#DFFF00 \"> a</span><span style=\"background-color:#DFFF00 \"> variety</span><span style=\"background-color:#DFFF00 \"> of</span><span style=\"background-color:#DFFF00 \"> granite</span><span style=\"background-color:#DFFF00 \"> big</span><span style=\"background-color:#DFFF00 \"> walls</span><span style=\"background-color:#DFFF00 \"> and</span><span style=\"background-color:#DFFF00 \"> crags.</span>"
      ],
      "text/plain": [
       "<IPython.core.display.HTML object>"
      ]
     },
     "metadata": {},
     "output_type": "display_data"
    },
    {
     "data": {
      "text/html": [
       " Κοιλάδα του Κοτσαμό - Βασικός προορισμός αναρρίχησης της Χιλής, γνωστή ως το Γιοσεμίτ της Νότιας Αμερικής <span style=\"background-color:#DFFF00 \">με</span><span style=\"background-color:#DFFF00 \"> ποικιλία</span><span style=\"background-color:#DFFF00 \"> από</span><span style=\"background-color:#DFFF00 \"> μεγάλα</span><span style=\"background-color:#DFFF00 \"> τοιχώματα</span><span style=\"background-color:#DFFF00 \"> και</span><span style=\"background-color:#DFFF00 \"> βράχια</span><span style=\"background-color:#DFFF00 \"> από</span><span style=\"background-color:#DFFF00 \"> γρανίτη.</span>"
      ],
      "text/plain": [
       "<IPython.core.display.HTML object>"
      ]
     },
     "metadata": {},
     "output_type": "display_data"
    },
    {
     "name": "stdout",
     "output_type": "stream",
     "text": [
      "____________________________________291___________________________________________________\n",
      "238\n",
      "15.80636949\n"
     ]
    },
    {
     "data": {
      "text/html": [
       " <span style=\"background-color:#e0e0e0 \">-15.8893175</span><span style=\"background-color:#DFFF00 \"> -0.08294801</span>"
      ],
      "text/plain": [
       "<IPython.core.display.HTML object>"
      ]
     },
     "metadata": {},
     "output_type": "display_data"
    },
    {
     "name": "stdout",
     "output_type": "stream",
     "text": [
      "-  --  --  --  --  --  --  --  --  --  --  --  --  --  --  --  --  --  --  --  --  --  --  --  --  -\n"
     ]
    },
    {
     "data": {
      "text/html": [
       " Summits include breath-taking views from peaks. Climbers from all parts of the world are continually establishing new routes <span style=\"background-color:#DFFF00 \">amongst</span><span style=\"background-color:#DFFF00 \"> its</span><span style=\"background-color:#DFFF00 \"> endless</span><span style=\"background-color:#DFFF00 \"> potential</span><span style=\"background-color:#DFFF00 \"> of</span><span style=\"background-color:#DFFF00 \"> walls.</span>"
      ],
      "text/plain": [
       "<IPython.core.display.HTML object>"
      ]
     },
     "metadata": {},
     "output_type": "display_data"
    },
    {
     "data": {
      "text/html": [
       " Οι βουνοκορφές διαθέτουν εκπληκτική θέα από τους λόφους. Οι ορειβάτες απ' όλο τον κόσμο φτιάχνουν καινούριες διαδρομές <span style=\"background-color:#DFFF00 \">κατά</span><span style=\"background-color:#DFFF00 \"> μήκος</span><span style=\"background-color:#DFFF00 \"> των</span><span style=\"background-color:#DFFF00 \"> ατελείωτων</span><span style=\"background-color:#DFFF00 \"> τειχών.</span>"
      ],
      "text/plain": [
       "<IPython.core.display.HTML object>"
      ]
     },
     "metadata": {},
     "output_type": "display_data"
    },
    {
     "name": "stdout",
     "output_type": "stream",
     "text": [
      "____________________________________292___________________________________________________\n",
      "239\n",
      "0.7455197\n"
     ]
    },
    {
     "data": {
      "text/html": [
       " <span style=\"background-color:#e0e0e0 \">-4.3583837</span><span style=\"background-color:#DFFF00 \"> -3.612864</span>"
      ],
      "text/plain": [
       "<IPython.core.display.HTML object>"
      ]
     },
     "metadata": {},
     "output_type": "display_data"
    },
    {
     "name": "stdout",
     "output_type": "stream",
     "text": [
      "-  --  --  --  --  --  --  --  --  --  --  --  --  --  --  --  --  --  --  --  --  --  --  --  --  -\n"
     ]
    },
    {
     "data": {
      "text/html": [
       " The idea of skiing is very old — cave paintings depicting skiers date back as far as <span style=\"background-color:#DFFF00 \">5000</span> BC!"
      ],
      "text/plain": [
       "<IPython.core.display.HTML object>"
      ]
     },
     "metadata": {},
     "output_type": "display_data"
    },
    {
     "data": {
      "text/html": [
       " Η ιδέα του σκι είναι πολύ παλιά. Οι τοιχογραφίες σπηλαίων αναπαριστούν σκιέρ που χρονολογούνται από το <span style=\"background-color:#DFFF00 \">5.000</span> π.Χ.!"
      ],
      "text/plain": [
       "<IPython.core.display.HTML object>"
      ]
     },
     "metadata": {},
     "output_type": "display_data"
    },
    {
     "name": "stdout",
     "output_type": "stream",
     "text": [
      "____________________________________293___________________________________________________\n",
      "240\n",
      "22.710392\n"
     ]
    },
    {
     "data": {
      "text/html": [
       " <span style=\"background-color:#e0e0e0 \">-10.519897</span><span style=\"background-color:#DFFF00 \"> 10.090453</span><span style=\"background-color:#9FE2BF \"> 12.190495</span>"
      ],
      "text/plain": [
       "<IPython.core.display.HTML object>"
      ]
     },
     "metadata": {},
     "output_type": "display_data"
    },
    {
     "name": "stdout",
     "output_type": "stream",
     "text": [
      "-  --  --  --  --  --  --  --  --  --  --  --  --  --  --  --  --  --  --  --  --  --  --  --  --  -\n"
     ]
    },
    {
     "data": {
      "text/html": [
       " It is <span style=\"background-color:#DFFF00 \">related</span><span style=\"background-color:#DFFF00 \"> to</span><span style=\"background-color:#DFFF00 \"> but</span> usually not involving alpine style <span style=\"background-color:#9FE2BF \">ski</span><span style=\"background-color:#9FE2BF \"> touring</span><span style=\"background-color:#9FE2BF \"> or</span> mountaineering, the latter ones done in steep terrain and requiring much stiffer skis and boots."
      ],
      "text/plain": [
       "<IPython.core.display.HTML object>"
      ]
     },
     "metadata": {},
     "output_type": "display_data"
    },
    {
     "data": {
      "text/html": [
       " Σχετίζεται <span style=\"background-color:#DFFF00 \">με</span> την αλπική χιονοδρομία <span style=\"background-color:#9FE2BF \">και</span><span style=\"background-color:#9FE2BF \"> τον</span><span style=\"background-color:#9FE2BF \"> αλπινισμό,</span> αλλά συνήθως δεν τα περιλαμβάνει, καθώς τα τελευταία γίνονται σε απότομο έδαφος και απαιτούν πολύ πιο σκληρά σκι και μπότες."
      ],
      "text/plain": [
       "<IPython.core.display.HTML object>"
      ]
     },
     "metadata": {},
     "output_type": "display_data"
    },
    {
     "name": "stdout",
     "output_type": "stream",
     "text": [
      "____________________________________294___________________________________________________\n",
      "241\n",
      "0.36367300000000036\n"
     ]
    },
    {
     "data": {
      "text/html": [
       " <span style=\"background-color:#e0e0e0 \">-10.41531</span><span style=\"background-color:#DFFF00 \"> -10.051637</span>"
      ],
      "text/plain": [
       "<IPython.core.display.HTML object>"
      ]
     },
     "metadata": {},
     "output_type": "display_data"
    },
    {
     "name": "stdout",
     "output_type": "stream",
     "text": [
      "-  --  --  --  --  --  --  --  --  --  --  --  --  --  --  --  --  --  --  --  --  --  --  --  --  -\n"
     ]
    },
    {
     "data": {
      "text/html": [
       " Think of the skiing route as of a similar hiking route."
      ],
      "text/plain": [
       "<IPython.core.display.HTML object>"
      ]
     },
     "metadata": {},
     "output_type": "display_data"
    },
    {
     "data": {
      "text/html": [
       " Σκεφτείτε την διαδρομή με σκι ως μια όμοια <span style=\"background-color:#DFFF00 \">κάλυψη</span><span style=\"background-color:#DFFF00 \"> απόστασης</span> πεζοπορώντας."
      ],
      "text/plain": [
       "<IPython.core.display.HTML object>"
      ]
     },
     "metadata": {},
     "output_type": "display_data"
    },
    {
     "name": "stdout",
     "output_type": "stream",
     "text": [
      "____________________________________295___________________________________________________\n",
      "242\n",
      "0.5142659999999992\n"
     ]
    },
    {
     "data": {
      "text/html": [
       " <span style=\"background-color:#e0e0e0 \">-11.560607</span><span style=\"background-color:#DFFF00 \"> -11.046341</span>"
      ],
      "text/plain": [
       "<IPython.core.display.HTML object>"
      ]
     },
     "metadata": {},
     "output_type": "display_data"
    },
    {
     "name": "stdout",
     "output_type": "stream",
     "text": [
      "-  --  --  --  --  --  --  --  --  --  --  --  --  --  --  --  --  --  --  --  --  --  --  --  --  -\n"
     ]
    },
    {
     "data": {
      "text/html": [
       " The Schengen zone, however, works somewhat like one country in this respect."
      ],
      "text/plain": [
       "<IPython.core.display.HTML object>"
      ]
     },
     "metadata": {},
     "output_type": "display_data"
    },
    {
     "data": {
      "text/html": [
       " Η ζώνη Σένγκεν, εντούτοις, <span style=\"background-color:#DFFF00 \">θα</span><span style=\"background-color:#DFFF00 \"> μπορούσε</span><span style=\"background-color:#DFFF00 \"> να</span><span style=\"background-color:#DFFF00 \"> πει</span><span style=\"background-color:#DFFF00 \"> κανείς</span><span style=\"background-color:#DFFF00 \"> ότι</span> λειτουργεί σαν ενιαία χώρα υπό αυτό το πρίσμα."
      ],
      "text/plain": [
       "<IPython.core.display.HTML object>"
      ]
     },
     "metadata": {},
     "output_type": "display_data"
    },
    {
     "name": "stdout",
     "output_type": "stream",
     "text": [
      "____________________________________296___________________________________________________\n",
      "243\n",
      "7.5444508\n"
     ]
    },
    {
     "data": {
      "text/html": [
       " <span style=\"background-color:#e0e0e0 \">-4.9659443</span><span style=\"background-color:#DFFF00 \"> -1.7844027</span><span style=\"background-color:#9FE2BF \"> 1.3875706</span><span style=\"background-color:#CCCCFF \"> 2.5785065</span>"
      ],
      "text/plain": [
       "<IPython.core.display.HTML object>"
      ]
     },
     "metadata": {},
     "output_type": "display_data"
    },
    {
     "name": "stdout",
     "output_type": "stream",
     "text": [
      "-  --  --  --  --  --  --  --  --  --  --  --  --  --  --  --  --  --  --  --  --  --  --  --  --  -\n"
     ]
    },
    {
     "data": {
      "text/html": [
       " Reindeer husbandry is an important livelihood among the Sámi and <span style=\"background-color:#9FE2BF \">the</span><span style=\"background-color:#9FE2BF \"> culture</span><span style=\"background-color:#9FE2BF \"> surrounding</span> the trade is important <span style=\"background-color:#CCCCFF \">also</span> for many <span style=\"background-color:#DFFF00 \">with</span> other professions."
      ],
      "text/plain": [
       "<IPython.core.display.HTML object>"
      ]
     },
     "metadata": {},
     "output_type": "display_data"
    },
    {
     "data": {
      "text/html": [
       " Η εκτροφή ταράνδων είναι μια σημαντική ασχολία για τους Σάμι ενώ <span style=\"background-color:#9FE2BF \">η</span><span style=\"background-color:#9FE2BF \"> κουλτούρα</span><span style=\"background-color:#9FE2BF \"> που</span><span style=\"background-color:#9FE2BF \"> περιβάλλει</span> το εμπόριο είναι <span style=\"background-color:#CCCCFF \">επίσης</span> σημαντική για πολλούς <span style=\"background-color:#DFFF00 \">που</span><span style=\"background-color:#DFFF00 \"> ασχολούνται</span><span style=\"background-color:#DFFF00 \"> με</span> άλλα επαγγέλματα."
      ],
      "text/plain": [
       "<IPython.core.display.HTML object>"
      ]
     },
     "metadata": {},
     "output_type": "display_data"
    },
    {
     "name": "stdout",
     "output_type": "stream",
     "text": [
      "____________________________________297___________________________________________________\n",
      "244\n",
      "1.0982309999999984\n"
     ]
    },
    {
     "data": {
      "text/html": [
       " <span style=\"background-color:#e0e0e0 \">-15.914499</span><span style=\"background-color:#DFFF00 \"> -15.380056</span><span style=\"background-color:#9FE2BF \"> -14.934332</span><span style=\"background-color:#CCCCFF \"> -14.816268</span>"
      ],
      "text/plain": [
       "<IPython.core.display.HTML object>"
      ]
     },
     "metadata": {},
     "output_type": "display_data"
    },
    {
     "name": "stdout",
     "output_type": "stream",
     "text": [
      "-  --  --  --  --  --  --  --  --  --  --  --  --  --  --  --  --  --  --  --  --  --  --  --  --  -\n"
     ]
    },
    {
     "data": {
      "text/html": [
       " <span style=\"background-color:#9FE2BF \">Advisories</span><span style=\"background-color:#9FE2BF \"> are</span><span style=\"background-color:#9FE2BF \"> merely</span> a brief summary of <span style=\"background-color:#CCCCFF \">the</span> political situation <span style=\"background-color:#DFFF00 \">in</span><span style=\"background-color:#DFFF00 \"> one</span><span style=\"background-color:#DFFF00 \"> country.</span>"
      ],
      "text/plain": [
       "<IPython.core.display.HTML object>"
      ]
     },
     "metadata": {},
     "output_type": "display_data"
    },
    {
     "data": {
      "text/html": [
       " <span style=\"background-color:#9FE2BF \">Οι</span><span style=\"background-color:#9FE2BF \"> οδηγίες</span><span style=\"background-color:#9FE2BF \"> αποτελούν</span><span style=\"background-color:#9FE2BF \"> μονάχα</span> μια επισκόπηση <span style=\"background-color:#CCCCFF \">των</span> εγχώριων πολιτικών <span style=\"background-color:#DFFF00 \">δρώμενων.</span>"
      ],
      "text/plain": [
       "<IPython.core.display.HTML object>"
      ]
     },
     "metadata": {},
     "output_type": "display_data"
    },
    {
     "name": "stdout",
     "output_type": "stream",
     "text": [
      "____________________________________298___________________________________________________\n",
      "245\n",
      "5.756498199999999\n"
     ]
    },
    {
     "data": {
      "text/html": [
       " <span style=\"background-color:#e0e0e0 \">-2.445598</span><span style=\"background-color:#DFFF00 \"> 0.6139151</span><span style=\"background-color:#9FE2BF \"> 3.3109002</span>"
      ],
      "text/plain": [
       "<IPython.core.display.HTML object>"
      ]
     },
     "metadata": {},
     "output_type": "display_data"
    },
    {
     "name": "stdout",
     "output_type": "stream",
     "text": [
      "-  --  --  --  --  --  --  --  --  --  --  --  --  --  --  --  --  --  --  --  --  --  --  --  --  -\n"
     ]
    },
    {
     "data": {
      "text/html": [
       " A course will normally <span style=\"background-color:#DFFF00 \">be</span><span style=\"background-color:#DFFF00 \"> from</span> 2-5 days and will involve <span style=\"background-color:#9FE2BF \">role</span><span style=\"background-color:#9FE2BF \"> play,</span> a lot of first aid and sometimes weapons training."
      ],
      "text/plain": [
       "<IPython.core.display.HTML object>"
      ]
     },
     "metadata": {},
     "output_type": "display_data"
    },
    {
     "data": {
      "text/html": [
       " Ένα μάθημα θα <span style=\"background-color:#DFFF00 \">διαρκέσει</span> συνήθως 2-5 μέρες και θα περιλαμβάνει <span style=\"background-color:#9FE2BF \">παιχνίδι</span><span style=\"background-color:#9FE2BF \"> ρόλων,</span> πολλή εκπαίδευση αναφορικά με τις πρώτες βοήθειες και μερικές φορές με τα όπλα."
      ],
      "text/plain": [
       "<IPython.core.display.HTML object>"
      ]
     },
     "metadata": {},
     "output_type": "display_data"
    },
    {
     "name": "stdout",
     "output_type": "stream",
     "text": [
      "____________________________________299___________________________________________________\n",
      "246\n",
      "6.9710547\n"
     ]
    },
    {
     "data": {
      "text/html": [
       " <span style=\"background-color:#e0e0e0 \">-3.952752</span><span style=\"background-color:#DFFF00 \"> 1.8576007</span><span style=\"background-color:#9FE2BF \"> 3.0183027</span>"
      ],
      "text/plain": [
       "<IPython.core.display.HTML object>"
      ]
     },
     "metadata": {},
     "output_type": "display_data"
    },
    {
     "name": "stdout",
     "output_type": "stream",
     "text": [
      "-  --  --  --  --  --  --  --  --  --  --  --  --  --  --  --  --  --  --  --  --  --  --  --  --  -\n"
     ]
    },
    {
     "data": {
      "text/html": [
       " Books and magazines dealing with wilderness <span style=\"background-color:#DFFF00 \">survival</span> are common, <span style=\"background-color:#9FE2BF \">but</span> publications dealing with war zones are few."
      ],
      "text/plain": [
       "<IPython.core.display.HTML object>"
      ]
     },
     "metadata": {},
     "output_type": "display_data"
    },
    {
     "data": {
      "text/html": [
       " Τα βιβλία και τα περιοδικά που πραγματεύονται <span style=\"background-color:#DFFF00 \">την</span><span style=\"background-color:#DFFF00 \"> επιβίωση</span> στην έρημο είναι συνηθισμένα, <span style=\"background-color:#9FE2BF \">ωστόσο</span><span style=\"background-color:#9FE2BF \"> οι</span> δημοσιεύσεις που ασχολούνται με την εμπόλεμη ζώνη είναι ελάχιστες."
      ],
      "text/plain": [
       "<IPython.core.display.HTML object>"
      ]
     },
     "metadata": {},
     "output_type": "display_data"
    },
    {
     "name": "stdout",
     "output_type": "stream",
     "text": [
      "____________________________________300___________________________________________________\n",
      "247\n",
      "7.2309585\n"
     ]
    },
    {
     "data": {
      "text/html": [
       " <span style=\"background-color:#e0e0e0 \">-3.7958229</span><span style=\"background-color:#DFFF00 \"> 1.7739992</span><span style=\"background-color:#9FE2BF \"> 3.4351356</span>"
      ],
      "text/plain": [
       "<IPython.core.display.HTML object>"
      ]
     },
     "metadata": {},
     "output_type": "display_data"
    },
    {
     "name": "stdout",
     "output_type": "stream",
     "text": [
      "-  --  --  --  --  --  --  --  --  --  --  --  --  --  --  --  --  --  --  --  --  --  --  --  --  -\n"
     ]
    },
    {
     "data": {
      "text/html": [
       " Voyagers planning sex <span style=\"background-color:#9FE2BF \">reassignment</span><span style=\"background-color:#9FE2BF \"> surgery</span><span style=\"background-color:#DFFF00 \"> abroad</span> must ensure they're carrying valid documents for the return trip."
      ],
      "text/plain": [
       "<IPython.core.display.HTML object>"
      ]
     },
     "metadata": {},
     "output_type": "display_data"
    },
    {
     "data": {
      "text/html": [
       " Όσοι ταξιδεύουν και προγραμματίζουν <span style=\"background-color:#9FE2BF \">χειρουργική</span><span style=\"background-color:#9FE2BF \"> επέμβαση</span><span style=\"background-color:#9FE2BF \"> αλλαγής</span> φύλου <span style=\"background-color:#DFFF00 \">σε</span><span style=\"background-color:#DFFF00 \"> άλλη</span><span style=\"background-color:#DFFF00 \"> χώρα</span> πρέπει να βεβαιωθούν ότι έχουν έγκυρα έγγραφα για το ταξίδι της επιστροφής."
      ],
      "text/plain": [
       "<IPython.core.display.HTML object>"
      ]
     },
     "metadata": {},
     "output_type": "display_data"
    },
    {
     "name": "stdout",
     "output_type": "stream",
     "text": [
      "____________________________________301___________________________________________________\n",
      "248\n",
      "1.8728449999999999\n"
     ]
    },
    {
     "data": {
      "text/html": [
       " <span style=\"background-color:#e0e0e0 \">-14.887777</span><span style=\"background-color:#DFFF00 \"> -13.014932</span>"
      ],
      "text/plain": [
       "<IPython.core.display.HTML object>"
      ]
     },
     "metadata": {},
     "output_type": "display_data"
    },
    {
     "name": "stdout",
     "output_type": "stream",
     "text": [
      "-  --  --  --  --  --  --  --  --  --  --  --  --  --  --  --  --  --  --  --  --  --  --  --  --  -\n"
     ]
    },
    {
     "data": {
      "text/html": [
       " Willingness of foreign governments to honour these documents is <span style=\"background-color:#DFFF00 \">just</span><span style=\"background-color:#DFFF00 \"> as</span> widely variable."
      ],
      "text/plain": [
       "<IPython.core.display.HTML object>"
      ]
     },
     "metadata": {},
     "output_type": "display_data"
    },
    {
     "data": {
      "text/html": [
       " Αλλάζει κατά πολύ επίσης η όρεξη των αλλοδαπών διακυβερνήσεων να σε σεβαστούν τα συγκεκριμένα έγγραφα."
      ],
      "text/plain": [
       "<IPython.core.display.HTML object>"
      ]
     },
     "metadata": {},
     "output_type": "display_data"
    },
    {
     "name": "stdout",
     "output_type": "stream",
     "text": [
      "____________________________________302___________________________________________________\n",
      "249\n",
      "6.07255524\n"
     ]
    },
    {
     "data": {
      "text/html": [
       " <span style=\"background-color:#e0e0e0 \">-5.597873</span><span style=\"background-color:#DFFF00 \"> -1.3808974</span><span style=\"background-color:#9FE2BF \"> 0.32549444</span><span style=\"background-color:#CCCCFF \"> 0.47468224</span>"
      ],
      "text/plain": [
       "<IPython.core.display.HTML object>"
      ]
     },
     "metadata": {},
     "output_type": "display_data"
    },
    {
     "name": "stdout",
     "output_type": "stream",
     "text": [
      "-  --  --  --  --  --  --  --  --  --  --  --  --  --  --  --  --  --  --  --  --  --  --  --  --  -\n"
     ]
    },
    {
     "data": {
      "text/html": [
       " Pre-operative transgender people should <span style=\"background-color:#9FE2BF \">not</span> expect to pass through the scanners with their privacy <span style=\"background-color:#DFFF00 \">and</span><span style=\"background-color:#DFFF00 \"> dignity</span> intact."
      ],
      "text/plain": [
       "<IPython.core.display.HTML object>"
      ]
     },
     "metadata": {},
     "output_type": "display_data"
    },
    {
     "data": {
      "text/html": [
       " Τα τρανσέξουαλ άτομα σε προ-εγχειρητική <span style=\"background-color:#9FE2BF \">κατάσταση,</span><span style=\"background-color:#9FE2BF \"> δεν</span> μπορούν να περιμένουν <span style=\"background-color:#CCCCFF \">ότι</span><span style=\"background-color:#CCCCFF \"> θα</span> περάσουν από τους σαρωτές με την ιδιωτικότητα <span style=\"background-color:#DFFF00 \">και</span><span style=\"background-color:#DFFF00 \"> την</span><span style=\"background-color:#DFFF00 \"> αξιοπρέπειά</span> τους ανέπαφες."
      ],
      "text/plain": [
       "<IPython.core.display.HTML object>"
      ]
     },
     "metadata": {},
     "output_type": "display_data"
    },
    {
     "name": "stdout",
     "output_type": "stream",
     "text": [
      "____________________________________303___________________________________________________\n",
      "250\n",
      "3.4724755000000007\n"
     ]
    },
    {
     "data": {
      "text/html": [
       " <span style=\"background-color:#e0e0e0 \">-9.811315</span><span style=\"background-color:#DFFF00 \"> -7.171566</span><span style=\"background-color:#9FE2BF \"> -6.3388395</span>"
      ],
      "text/plain": [
       "<IPython.core.display.HTML object>"
      ]
     },
     "metadata": {},
     "output_type": "display_data"
    },
    {
     "name": "stdout",
     "output_type": "stream",
     "text": [
      "-  --  --  --  --  --  --  --  --  --  --  --  --  --  --  --  --  --  --  --  --  --  --  --  --  -\n"
     ]
    },
    {
     "data": {
      "text/html": [
       " As soon as you get out of the <span style=\"background-color:#DFFF00 \">current,</span><span style=\"background-color:#DFFF00 \"> swimming</span> back is no more difficult <span style=\"background-color:#9FE2BF \">than</span><span style=\"background-color:#9FE2BF \"> normally.</span>"
      ],
      "text/plain": [
       "<IPython.core.display.HTML object>"
      ]
     },
     "metadata": {},
     "output_type": "display_data"
    },
    {
     "data": {
      "text/html": [
       " Με το που είστε εκτός <span style=\"background-color:#DFFF00 \">ρεύματος,</span><span style=\"background-color:#DFFF00 \"> το</span><span style=\"background-color:#DFFF00 \"> να</span> κολυμπήσετε προς τη στεριά δεν θα είναι πιο δύσκολο <span style=\"background-color:#9FE2BF \">από</span><span style=\"background-color:#9FE2BF \"> το</span><span style=\"background-color:#9FE2BF \"> κανονικό.</span>"
      ],
      "text/plain": [
       "<IPython.core.display.HTML object>"
      ]
     },
     "metadata": {},
     "output_type": "display_data"
    },
    {
     "name": "stdout",
     "output_type": "stream",
     "text": [
      "____________________________________304___________________________________________________\n",
      "251\n",
      "13.118386000000001\n"
     ]
    },
    {
     "data": {
      "text/html": [
       " <span style=\"background-color:#e0e0e0 \">-9.048863</span><span style=\"background-color:#DFFF00 \"> 3.055172</span><span style=\"background-color:#9FE2BF \"> 4.069523</span>"
      ],
      "text/plain": [
       "<IPython.core.display.HTML object>"
      ]
     },
     "metadata": {},
     "output_type": "display_data"
    },
    {
     "name": "stdout",
     "output_type": "stream",
     "text": [
      "-  --  --  --  --  --  --  --  --  --  --  --  --  --  --  --  --  --  --  --  --  --  --  --  --  -\n"
     ]
    },
    {
     "data": {
      "text/html": [
       " When you went abroad at first, people were probably patient and understanding, <span style=\"background-color:#9FE2BF \">knowing</span><span style=\"background-color:#9FE2BF \"> that</span> travellers in a new <span style=\"background-color:#DFFF00 \">country</span><span style=\"background-color:#DFFF00 \"> need</span><span style=\"background-color:#DFFF00 \"> to</span><span style=\"background-color:#DFFF00 \"> adapt.</span>"
      ],
      "text/plain": [
       "<IPython.core.display.HTML object>"
      ]
     },
     "metadata": {},
     "output_type": "display_data"
    },
    {
     "data": {
      "text/html": [
       " Όταν πήγατε στο εξωτερικό στην αρχή, είναι πιθανό οι άνθρωποι να έδειξαν υπομονή και κατανόηση, <span style=\"background-color:#9FE2BF \">καθώς</span><span style=\"background-color:#9FE2BF \"> γνωρίζουν</span><span style=\"background-color:#9FE2BF \"> ότι</span><span style=\"background-color:#9FE2BF \"> οι</span> ταξιδιώτες σε μια νέα <span style=\"background-color:#DFFF00 \">χώρα</span><span style=\"background-color:#DFFF00 \"> χρειάζονται</span><span style=\"background-color:#DFFF00 \"> χρόνο</span><span style=\"background-color:#DFFF00 \"> προσαρμογής.</span>"
      ],
      "text/plain": [
       "<IPython.core.display.HTML object>"
      ]
     },
     "metadata": {},
     "output_type": "display_data"
    },
    {
     "name": "stdout",
     "output_type": "stream",
     "text": [
      "____________________________________305___________________________________________________\n",
      "252\n",
      "1.6343183000000003\n"
     ]
    },
    {
     "data": {
      "text/html": [
       " <span style=\"background-color:#e0e0e0 \">-5.9842753</span><span style=\"background-color:#DFFF00 \"> -4.349957</span>"
      ],
      "text/plain": [
       "<IPython.core.display.HTML object>"
      ]
     },
     "metadata": {},
     "output_type": "display_data"
    },
    {
     "name": "stdout",
     "output_type": "stream",
     "text": [
      "-  --  --  --  --  --  --  --  --  --  --  --  --  --  --  --  --  --  --  --  --  --  --  --  --  -\n"
     ]
    },
    {
     "data": {
      "text/html": [
       " People may <span style=\"background-color:#DFFF00 \">not</span> anticipate that patience and understanding are also necessary for travellers returning home."
      ],
      "text/plain": [
       "<IPython.core.display.HTML object>"
      ]
     },
     "metadata": {},
     "output_type": "display_data"
    },
    {
     "data": {
      "text/html": [
       " Πολλοί μπορεί <span style=\"background-color:#DFFF00 \">να</span><span style=\"background-color:#DFFF00 \"> μην</span> προβλέψουν την υπομονή και την κατανόηση που χρειάζεται στους ταξιδιώτες για την επιστροφή στο σπίτι."
      ],
      "text/plain": [
       "<IPython.core.display.HTML object>"
      ]
     },
     "metadata": {},
     "output_type": "display_data"
    },
    {
     "name": "stdout",
     "output_type": "stream",
     "text": [
      "____________________________________306___________________________________________________\n",
      "253\n",
      "2.101439\n"
     ]
    },
    {
     "data": {
      "text/html": [
       " <span style=\"background-color:#e0e0e0 \">-6.7890635</span><span style=\"background-color:#DFFF00 \"> -4.6876245</span>"
      ],
      "text/plain": [
       "<IPython.core.display.HTML object>"
      ]
     },
     "metadata": {},
     "output_type": "display_data"
    },
    {
     "name": "stdout",
     "output_type": "stream",
     "text": [
      "-  --  --  --  --  --  --  --  --  --  --  --  --  --  --  --  --  --  --  --  --  --  --  --  --  -\n"
     ]
    },
    {
     "data": {
      "text/html": [
       " The pyramid sound and light show is one of the most interesting things in the area for kids."
      ],
      "text/plain": [
       "<IPython.core.display.HTML object>"
      ]
     },
     "metadata": {},
     "output_type": "display_data"
    },
    {
     "data": {
      "text/html": [
       " Ένα από τα δρώμενα που πραγματοποιούνται στην περιοχή <span style=\"background-color:#DFFF00 \">και</span><span style=\"background-color:#DFFF00 \"> παρουσιάζουν</span> μεγάλο ενδιαφέρον για τα παιδιά είναι η παράσταση ήχου και φωτός της πυραμίδας."
      ],
      "text/plain": [
       "<IPython.core.display.HTML object>"
      ]
     },
     "metadata": {},
     "output_type": "display_data"
    },
    {
     "name": "stdout",
     "output_type": "stream",
     "text": [
      "____________________________________308___________________________________________________\n",
      "254\n",
      "3.0886769999999997\n"
     ]
    },
    {
     "data": {
      "text/html": [
       " <span style=\"background-color:#e0e0e0 \">-1.819931</span><span style=\"background-color:#DFFF00 \"> 1.268746</span>"
      ],
      "text/plain": [
       "<IPython.core.display.HTML object>"
      ]
     },
     "metadata": {},
     "output_type": "display_data"
    },
    {
     "name": "stdout",
     "output_type": "stream",
     "text": [
      "-  --  --  --  --  --  --  --  --  --  --  --  --  --  --  --  --  --  --  --  --  --  --  --  --  -\n"
     ]
    },
    {
     "data": {
      "text/html": [
       " Usually you always here the sound of tourists and vendors. The story of the sound and light is just like <span style=\"background-color:#DFFF00 \">a</span><span style=\"background-color:#DFFF00 \"> story</span><span style=\"background-color:#DFFF00 \"> book.</span>"
      ],
      "text/plain": [
       "<IPython.core.display.HTML object>"
      ]
     },
     "metadata": {},
     "output_type": "display_data"
    },
    {
     "data": {
      "text/html": [
       " Συνήθως πάντα ακούτε τους ήχους των τουριστών και των εμπόρων. Η ιστορία του ήχου και του φωτός μοιάζει ακριβώς σαν <span style=\"background-color:#DFFF00 \">παραμύθι.</span>"
      ],
      "text/plain": [
       "<IPython.core.display.HTML object>"
      ]
     },
     "metadata": {},
     "output_type": "display_data"
    },
    {
     "name": "stdout",
     "output_type": "stream",
     "text": [
      "____________________________________309___________________________________________________\n",
      "255\n",
      "1.7814569999999996\n"
     ]
    },
    {
     "data": {
      "text/html": [
       " <span style=\"background-color:#e0e0e0 \">-15.67006</span><span style=\"background-color:#DFFF00 \"> -13.888603</span>"
      ],
      "text/plain": [
       "<IPython.core.display.HTML object>"
      ]
     },
     "metadata": {},
     "output_type": "display_data"
    },
    {
     "name": "stdout",
     "output_type": "stream",
     "text": [
      "-  --  --  --  --  --  --  --  --  --  --  --  --  --  --  --  --  --  --  --  --  --  --  --  --  -\n"
     ]
    },
    {
     "data": {
      "text/html": [
       " The Sphinx is set as the backdrop <span style=\"background-color:#DFFF00 \">and</span><span style=\"background-color:#DFFF00 \"> the</span> narrator of a long story."
      ],
      "text/plain": [
       "<IPython.core.display.HTML object>"
      ]
     },
     "metadata": {},
     "output_type": "display_data"
    },
    {
     "data": {
      "text/html": [
       " Η Σφίγγα αποτελεί το παρασκήνιο <span style=\"background-color:#DFFF00 \">αλλά</span><span style=\"background-color:#DFFF00 \"> και</span><span style=\"background-color:#DFFF00 \"> τον</span> αφηγητή μιας μεγάλης ιστορίας."
      ],
      "text/plain": [
       "<IPython.core.display.HTML object>"
      ]
     },
     "metadata": {},
     "output_type": "display_data"
    },
    {
     "name": "stdout",
     "output_type": "stream",
     "text": [
      "____________________________________310___________________________________________________\n",
      "256\n",
      "22.91278\n"
     ]
    },
    {
     "data": {
      "text/html": [
       " <span style=\"background-color:#e0e0e0 \">-14.332292</span><span style=\"background-color:#DFFF00 \"> 8.580488</span>"
      ],
      "text/plain": [
       "<IPython.core.display.HTML object>"
      ]
     },
     "metadata": {},
     "output_type": "display_data"
    },
    {
     "name": "stdout",
     "output_type": "stream",
     "text": [
      "-  --  --  --  --  --  --  --  --  --  --  --  --  --  --  --  --  --  --  --  --  --  --  --  --  -\n"
     ]
    },
    {
     "data": {
      "text/html": [
       " The scenes are displayed on the pyramids and the different pyramids <span style=\"background-color:#DFFF00 \">are</span><span style=\"background-color:#DFFF00 \"> lit</span><span style=\"background-color:#DFFF00 \"> up.</span>"
      ],
      "text/plain": [
       "<IPython.core.display.HTML object>"
      ]
     },
     "metadata": {},
     "output_type": "display_data"
    },
    {
     "data": {
      "text/html": [
       " Οι σκηνές προβάλλονται στις πυραμίδες και οι διάφορες πυραμίδες <span style=\"background-color:#DFFF00 \">φωτίζονται.</span>"
      ],
      "text/plain": [
       "<IPython.core.display.HTML object>"
      ]
     },
     "metadata": {},
     "output_type": "display_data"
    },
    {
     "name": "stdout",
     "output_type": "stream",
     "text": [
      "____________________________________311___________________________________________________\n",
      "257\n",
      "11.242332099999999\n"
     ]
    },
    {
     "data": {
      "text/html": [
       " <span style=\"background-color:#e0e0e0 \">-1.4136221</span><span style=\"background-color:#DFFF00 \"> 5.976534</span><span style=\"background-color:#9FE2BF \"> 9.400061</span><span style=\"background-color:#CCCCFF \"> 9.82871</span>"
      ],
      "text/plain": [
       "<IPython.core.display.HTML object>"
      ]
     },
     "metadata": {},
     "output_type": "display_data"
    },
    {
     "name": "stdout",
     "output_type": "stream",
     "text": [
      "-  --  --  --  --  --  --  --  --  --  --  --  --  --  --  --  --  --  --  --  --  --  --  --  --  -\n"
     ]
    },
    {
     "data": {
      "text/html": [
       " South Shetland Islands, <span style=\"background-color:#CCCCFF \">discovered</span> in 1819, are claimed <span style=\"background-color:#9FE2BF \">by</span><span style=\"background-color:#9FE2BF \"> several</span> nations and have the most bases, <span style=\"background-color:#DFFF00 \">with</span><span style=\"background-color:#DFFF00 \"> sixteen</span><span style=\"background-color:#DFFF00 \"> active</span> in 2020."
      ],
      "text/plain": [
       "<IPython.core.display.HTML object>"
      ]
     },
     "metadata": {},
     "output_type": "display_data"
    },
    {
     "data": {
      "text/html": [
       " Οι νότιες νήσοι Σέτλαντ, <span style=\"background-color:#CCCCFF \">που</span><span style=\"background-color:#CCCCFF \"> ανακαλύφθηκαν</span> το 1819, είναι αντικείμενο <span style=\"background-color:#9FE2BF \">διεκδίκησης</span><span style=\"background-color:#9FE2BF \"> για</span><span style=\"background-color:#9FE2BF \"> πολλά</span> κράτη και διαθέτουν τις περισσότερες βάσεις, <span style=\"background-color:#DFFF00 \">καθώς</span><span style=\"background-color:#DFFF00 \"> υπάρχουν</span><span style=\"background-color:#DFFF00 \"> δεκαέξι</span><span style=\"background-color:#DFFF00 \"> ενεργές</span> το 2020."
      ],
      "text/plain": [
       "<IPython.core.display.HTML object>"
      ]
     },
     "metadata": {},
     "output_type": "display_data"
    },
    {
     "name": "stdout",
     "output_type": "stream",
     "text": [
      "____________________________________312___________________________________________________\n",
      "258\n",
      "20.1474783\n"
     ]
    },
    {
     "data": {
      "text/html": [
       " <span style=\"background-color:#e0e0e0 \">-12.711766</span><span style=\"background-color:#DFFF00 \"> 7.4357123</span>"
      ],
      "text/plain": [
       "<IPython.core.display.HTML object>"
      ]
     },
     "metadata": {},
     "output_type": "display_data"
    },
    {
     "name": "stdout",
     "output_type": "stream",
     "text": [
      "-  --  --  --  --  --  --  --  --  --  --  --  --  --  --  --  --  --  --  --  --  --  --  --  --  -\n"
     ]
    },
    {
     "data": {
      "text/html": [
       " Others include Livingston Island, <span style=\"background-color:#DFFF00 \">and</span><span style=\"background-color:#DFFF00 \"> Deception</span> where the flooded caldera of a still-active volcano provides a spectacular natural harbour."
      ],
      "text/plain": [
       "<IPython.core.display.HTML object>"
      ]
     },
     "metadata": {},
     "output_type": "display_data"
    },
    {
     "data": {
      "text/html": [
       " Άλλοι συμπεριλαμβάνουν τα νησιά Λίβινγκστον <span style=\"background-color:#DFFF00 \">και</span><span style=\"background-color:#DFFF00 \"> Ντισέπσιον</span> όπου ο πλημμυρισμένος κρατήρας ενός ηφαιστείου που είναι ακόμη ενεργό παρέχει έναν θεαματικό φυσικό λιμένα."
      ],
      "text/plain": [
       "<IPython.core.display.HTML object>"
      ]
     },
     "metadata": {},
     "output_type": "display_data"
    },
    {
     "name": "stdout",
     "output_type": "stream",
     "text": [
      "____________________________________314___________________________________________________\n",
      "259\n",
      "1.3861055\n"
     ]
    },
    {
     "data": {
      "text/html": [
       " <span style=\"background-color:#e0e0e0 \">-0.7204648</span><span style=\"background-color:#DFFF00 \"> 0.6656407</span>"
      ],
      "text/plain": [
       "<IPython.core.display.HTML object>"
      ]
     },
     "metadata": {},
     "output_type": "display_data"
    },
    {
     "name": "stdout",
     "output_type": "stream",
     "text": [
      "-  --  --  --  --  --  --  --  --  --  --  --  --  --  --  --  --  --  --  --  --  --  --  --  --  -\n"
     ]
    },
    {
     "data": {
      "text/html": [
       " An increasingly more popular option for those planning a gap-year is to travel <span style=\"background-color:#DFFF00 \">and</span><span style=\"background-color:#DFFF00 \"> learn.</span>"
      ],
      "text/plain": [
       "<IPython.core.display.HTML object>"
      ]
     },
     "metadata": {},
     "output_type": "display_data"
    },
    {
     "data": {
      "text/html": [
       " Μια επιλογή που γίνεται όλο και δημοφιλέστερη για όσους προγραμματίζουν ένα gap-year αποτελεί το να ταξιδεύουν <span style=\"background-color:#DFFF00 \">και</span><span style=\"background-color:#DFFF00 \"> να</span><span style=\"background-color:#DFFF00 \"> μαθαίνουν.</span>"
      ],
      "text/plain": [
       "<IPython.core.display.HTML object>"
      ]
     },
     "metadata": {},
     "output_type": "display_data"
    },
    {
     "name": "stdout",
     "output_type": "stream",
     "text": [
      "____________________________________318___________________________________________________\n",
      "260\n",
      "3.67277416\n"
     ]
    },
    {
     "data": {
      "text/html": [
       " <span style=\"background-color:#e0e0e0 \">-4.6655865</span><span style=\"background-color:#DFFF00 \"> -0.99281234</span>"
      ],
      "text/plain": [
       "<IPython.core.display.HTML object>"
      ]
     },
     "metadata": {},
     "output_type": "display_data"
    },
    {
     "name": "stdout",
     "output_type": "stream",
     "text": [
      "-  --  --  --  --  --  --  --  --  --  --  --  --  --  --  --  --  --  --  --  --  --  --  --  --  -\n"
     ]
    },
    {
     "data": {
      "text/html": [
       " Most of the <span style=\"background-color:#DFFF00 \">distinct</span> Baltic Cruises feature an extended stay in St. Petersburg, Russia."
      ],
      "text/plain": [
       "<IPython.core.display.HTML object>"
      ]
     },
     "metadata": {},
     "output_type": "display_data"
    },
    {
     "data": {
      "text/html": [
       " Σχεδόν όλες οι <span style=\"background-color:#DFFF00 \">ιδιαίτερες</span> κρουαζιέρες στη Βαλτική περιλαμβάνουν μια εκτεταμένη διαμονή στην Αγία Πετρούπολη της Ρωσίας."
      ],
      "text/plain": [
       "<IPython.core.display.HTML object>"
      ]
     },
     "metadata": {},
     "output_type": "display_data"
    },
    {
     "name": "stdout",
     "output_type": "stream",
     "text": [
      "____________________________________319___________________________________________________\n",
      "261\n",
      "8.070198399999999\n"
     ]
    },
    {
     "data": {
      "text/html": [
       " <span style=\"background-color:#e0e0e0 \">-3.4371414</span><span style=\"background-color:#DFFF00 \"> 4.5702553</span><span style=\"background-color:#9FE2BF \"> 4.633057</span>"
      ],
      "text/plain": [
       "<IPython.core.display.HTML object>"
      ]
     },
     "metadata": {},
     "output_type": "display_data"
    },
    {
     "name": "stdout",
     "output_type": "stream",
     "text": [
      "-  --  --  --  --  --  --  --  --  --  --  --  --  --  --  --  --  --  --  --  --  --  --  --  --  -\n"
     ]
    },
    {
     "data": {
      "text/html": [
       " If you only <span style=\"background-color:#DFFF00 \">go</span><span style=\"background-color:#DFFF00 \"> ashore</span> using shipboard excursions you will not need a <span style=\"background-color:#9FE2BF \">separate</span> visa (as of 2009)."
      ],
      "text/plain": [
       "<IPython.core.display.HTML object>"
      ]
     },
     "metadata": {},
     "output_type": "display_data"
    },
    {
     "data": {
      "text/html": [
       " Αν <span style=\"background-color:#DFFF00 \">αποβιβαστείτε</span><span style=\"background-color:#DFFF00 \"> στην</span><span style=\"background-color:#DFFF00 \"> πόλη</span> μόνο μέσω εκδρομών που διοργανώνει το σκάφος, δεν θα χρειαστείτε <span style=\"background-color:#9FE2BF \">ξεχωριστή</span> θεώρηση (από το 2009)."
      ],
      "text/plain": [
       "<IPython.core.display.HTML object>"
      ]
     },
     "metadata": {},
     "output_type": "display_data"
    },
    {
     "name": "stdout",
     "output_type": "stream",
     "text": [
      "____________________________________320___________________________________________________\n",
      "262\n",
      "18.1613857\n"
     ]
    },
    {
     "data": {
      "text/html": [
       " <span style=\"background-color:#e0e0e0 \">-2.9672737</span><span style=\"background-color:#DFFF00 \"> 9.020248</span><span style=\"background-color:#9FE2BF \"> 15.194112</span>"
      ],
      "text/plain": [
       "<IPython.core.display.HTML object>"
      ]
     },
     "metadata": {},
     "output_type": "display_data"
    },
    {
     "name": "stdout",
     "output_type": "stream",
     "text": [
      "-  --  --  --  --  --  --  --  --  --  --  --  --  --  --  --  --  --  --  --  --  --  --  --  --  -\n"
     ]
    },
    {
     "data": {
      "text/html": [
       " Some cruises feature Berlin, Germany in <span style=\"background-color:#DFFF00 \">the</span><span style=\"background-color:#DFFF00 \"> brochures.</span><span style=\"background-color:#DFFF00 \"> As</span><span style=\"background-color:#DFFF00 \"> you</span><span style=\"background-color:#DFFF00 \"> can</span><span style=\"background-color:#DFFF00 \"> see</span><span style=\"background-color:#DFFF00 \"> from</span><span style=\"background-color:#DFFF00 \"> the</span><span style=\"background-color:#DFFF00 \"> map</span><span style=\"background-color:#DFFF00 \"> above</span><span style=\"background-color:#DFFF00 \"> Berlin</span><span style=\"background-color:#DFFF00 \"> is</span><span style=\"background-color:#DFFF00 \"> no</span><span style=\"background-color:#DFFF00 \"> where</span> near the sea and a visit to the city is not included in the <span style=\"background-color:#9FE2BF \">price</span><span style=\"background-color:#9FE2BF \"> of</span><span style=\"background-color:#9FE2BF \"> the</span> cruise."
      ],
      "text/plain": [
       "<IPython.core.display.HTML object>"
      ]
     },
     "metadata": {},
     "output_type": "display_data"
    },
    {
     "data": {
      "text/html": [
       " Ορισμένες κρουαζιέρες περιλαμβάνουν το Βερολίνο της Γερμανίας στα <span style=\"background-color:#DFFF00 \">διαφημιστικά</span><span style=\"background-color:#DFFF00 \"> φυλλάδιά</span><span style=\"background-color:#DFFF00 \"> τους.</span><span style=\"background-color:#DFFF00 \"> Όπως</span><span style=\"background-color:#DFFF00 \"> φαίνεται</span><span style=\"background-color:#DFFF00 \"> στον</span><span style=\"background-color:#DFFF00 \"> παραπάνω</span><span style=\"background-color:#DFFF00 \"> χάρτη,</span><span style=\"background-color:#DFFF00 \"> το</span><span style=\"background-color:#DFFF00 \"> Βερολίνο</span><span style=\"background-color:#DFFF00 \"> δεν</span><span style=\"background-color:#DFFF00 \"> βρίσκεται</span> κοντά σε θάλασσα και η επίσκεψη στην πόλη δεν συμπεριλαμβάνεται στην <span style=\"background-color:#9FE2BF \">τιμή</span><span style=\"background-color:#9FE2BF \"> της</span> κρουαζιέρας."
      ],
      "text/plain": [
       "<IPython.core.display.HTML object>"
      ]
     },
     "metadata": {},
     "output_type": "display_data"
    },
    {
     "name": "stdout",
     "output_type": "stream",
     "text": [
      "____________________________________321___________________________________________________\n",
      "263\n",
      "8.5220149\n"
     ]
    },
    {
     "data": {
      "text/html": [
       " <span style=\"background-color:#e0e0e0 \">-4.9228473</span><span style=\"background-color:#DFFF00 \"> -0.22538348</span><span style=\"background-color:#9FE2BF \"> 1.354807</span><span style=\"background-color:#CCCCFF \"> 3.5991676</span>"
      ],
      "text/plain": [
       "<IPython.core.display.HTML object>"
      ]
     },
     "metadata": {},
     "output_type": "display_data"
    },
    {
     "name": "stdout",
     "output_type": "stream",
     "text": [
      "-  --  --  --  --  --  --  --  --  --  --  --  --  --  --  --  --  --  --  --  --  --  --  --  --  -\n"
     ]
    },
    {
     "data": {
      "text/html": [
       " <span style=\"background-color:#9FE2BF \">Courier</span> companies are well paid for delivering things quickly. Frequently, time is very important with <span style=\"background-color:#CCCCFF \">business</span> documents, merchandise or spare parts for an <span style=\"background-color:#DFFF00 \">urgent</span><span style=\"background-color:#DFFF00 \"> repair.</span>"
      ],
      "text/plain": [
       "<IPython.core.display.HTML object>"
      ]
     },
     "metadata": {},
     "output_type": "display_data"
    },
    {
     "data": {
      "text/html": [
       " Οι εταιρείες <span style=\"background-color:#9FE2BF \">κούριερ</span> πληρώνονται αδρά για την ταχεία παράδοση αγαθών. Αρκετά συχνά, ο χρόνος είναι σημαντικός παράγοντας <span style=\"background-color:#CCCCFF \">όταν</span><span style=\"background-color:#CCCCFF \"> πρόκειται</span><span style=\"background-color:#CCCCFF \"> για</span><span style=\"background-color:#CCCCFF \"> επαγγελματικά</span> έγγραφα, εμπορεύματα ή ανταλλακτικά για μια <span style=\"background-color:#DFFF00 \">επείγουσα</span><span style=\"background-color:#DFFF00 \"> επισκευή.</span>"
      ],
      "text/plain": [
       "<IPython.core.display.HTML object>"
      ]
     },
     "metadata": {},
     "output_type": "display_data"
    },
    {
     "name": "stdout",
     "output_type": "stream",
     "text": [
      "____________________________________322___________________________________________________\n",
      "264\n",
      "12.3079267\n"
     ]
    },
    {
     "data": {
      "text/html": [
       " <span style=\"background-color:#e0e0e0 \">-2.4863687</span><span style=\"background-color:#DFFF00 \"> 8.197542</span><span style=\"background-color:#9FE2BF \"> 9.821558</span>"
      ],
      "text/plain": [
       "<IPython.core.display.HTML object>"
      ]
     },
     "metadata": {},
     "output_type": "display_data"
    },
    {
     "name": "stdout",
     "output_type": "stream",
     "text": [
      "-  --  --  --  --  --  --  --  --  --  --  --  --  --  --  --  --  --  --  --  --  --  --  --  --  -\n"
     ]
    },
    {
     "data": {
      "text/html": [
       " However, <span style=\"background-color:#DFFF00 \">this</span><span style=\"background-color:#DFFF00 \"> does</span><span style=\"background-color:#DFFF00 \"> not</span><span style=\"background-color:#DFFF00 \"> come</span><span style=\"background-color:#DFFF00 \"> cheap:</span><span style=\"background-color:#DFFF00 \"> as</span><span style=\"background-color:#DFFF00 \"> rough</span><span style=\"background-color:#DFFF00 \"> rules</span><span style=\"background-color:#DFFF00 \"> of</span><span style=\"background-color:#DFFF00 \"> thumb,</span> you can expect to pay up to four times the normal economy fare for <span style=\"background-color:#9FE2BF \">business,</span> and eleven times for first class!"
      ],
      "text/plain": [
       "<IPython.core.display.HTML object>"
      ]
     },
     "metadata": {},
     "output_type": "display_data"
    },
    {
     "data": {
      "text/html": [
       " Ωστόσο, <span style=\"background-color:#DFFF00 \">αυτό</span><span style=\"background-color:#DFFF00 \"> κοστίζει:</span><span style=\"background-color:#DFFF00 \"> κατά</span><span style=\"background-color:#DFFF00 \"> γενικό</span><span style=\"background-color:#DFFF00 \"> κανόνα,</span> μπορείτε να αναμένετε να πληρώσετε έως και τέσσερεις φορές τον κανονικό ναύλο οικονομικής θέσης για <span style=\"background-color:#9FE2BF \">επαγγελματική</span><span style=\"background-color:#9FE2BF \"> θέση</span> και έντεκα φορές για πρώτη θέση!"
      ],
      "text/plain": [
       "<IPython.core.display.HTML object>"
      ]
     },
     "metadata": {},
     "output_type": "display_data"
    },
    {
     "name": "stdout",
     "output_type": "stream",
     "text": [
      "____________________________________323___________________________________________________\n",
      "265\n",
      "0.9566201655\n"
     ]
    },
    {
     "data": {
      "text/html": [
       " <span style=\"background-color:#e0e0e0 \">-0.0107472055</span><span style=\"background-color:#DFFF00 \"> 0.94587296</span>"
      ],
      "text/plain": [
       "<IPython.core.display.HTML object>"
      ]
     },
     "metadata": {},
     "output_type": "display_data"
    },
    {
     "name": "stdout",
     "output_type": "stream",
     "text": [
      "-  --  --  --  --  --  --  --  --  --  --  --  --  --  --  --  --  --  --  --  --  --  --  --  --  -\n"
     ]
    },
    {
     "data": {
      "text/html": [
       " Airlines know well that there is a certain core group of flyers who are willing to pay top dollar for the privilege of getting somewhere fast and in comfort, <span style=\"background-color:#DFFF00 \">and</span><span style=\"background-color:#DFFF00 \"> charge</span> accordingly."
      ],
      "text/plain": [
       "<IPython.core.display.HTML object>"
      ]
     },
     "metadata": {},
     "output_type": "display_data"
    },
    {
     "data": {
      "text/html": [
       " Οι αεροπορικές εταιρείες γνωρίζουν καλά πως υπάρχει μια βασική κατηγορία επιβατών που είναι πρόθυμοι να ξοδέψουν πολλά χρήματα για το προνόμιο μιας γρήγορης και άνετης μετάβασης στον προορισμό τους, <span style=\"background-color:#DFFF00 \">και</span><span style=\"background-color:#DFFF00 \"> χρεώνουν</span> ανάλογα."
      ],
      "text/plain": [
       "<IPython.core.display.HTML object>"
      ]
     },
     "metadata": {},
     "output_type": "display_data"
    },
    {
     "name": "stdout",
     "output_type": "stream",
     "text": [
      "____________________________________326___________________________________________________\n",
      "266\n",
      "9.1066304\n"
     ]
    },
    {
     "data": {
      "text/html": [
       " <span style=\"background-color:#e0e0e0 \">-15.889094</span><span style=\"background-color:#DFFF00 \"> -9.231829</span><span style=\"background-color:#9FE2BF \"> -6.7824636</span>"
      ],
      "text/plain": [
       "<IPython.core.display.HTML object>"
      ]
     },
     "metadata": {},
     "output_type": "display_data"
    },
    {
     "name": "stdout",
     "output_type": "stream",
     "text": [
      "-  --  --  --  --  --  --  --  --  --  --  --  --  --  --  --  --  --  --  --  --  --  --  --  --  -\n"
     ]
    },
    {
     "data": {
      "text/html": [
       " Economic links <span style=\"background-color:#9FE2BF \">have</span><span style=\"background-color:#9FE2BF \"> been</span><span style=\"background-color:#9FE2BF \"> re-established</span> between these two parts of Moldova <span style=\"background-color:#DFFF00 \">despite</span><span style=\"background-color:#DFFF00 \"> the</span><span style=\"background-color:#DFFF00 \"> failure</span><span style=\"background-color:#DFFF00 \"> in</span><span style=\"background-color:#DFFF00 \"> political</span><span style=\"background-color:#DFFF00 \"> negotiations.</span>"
      ],
      "text/plain": [
       "<IPython.core.display.HTML object>"
      ]
     },
     "metadata": {},
     "output_type": "display_data"
    },
    {
     "data": {
      "text/html": [
       " Οι οικονομικές σχέσεις ανάμεσα σε αυτά τα δύο τμήματα της Μολδαβίας <span style=\"background-color:#9FE2BF \">επανήλθαν,</span><span style=\"background-color:#DFFF00 \"> παρά</span><span style=\"background-color:#DFFF00 \"> το</span><span style=\"background-color:#DFFF00 \"> γεγονός</span><span style=\"background-color:#DFFF00 \"> ότι</span><span style=\"background-color:#DFFF00 \"> οι</span><span style=\"background-color:#DFFF00 \"> πολιτικές</span><span style=\"background-color:#DFFF00 \"> διαπραγματεύσεις</span><span style=\"background-color:#DFFF00 \"> απέτυχαν.</span>"
      ],
      "text/plain": [
       "<IPython.core.display.HTML object>"
      ]
     },
     "metadata": {},
     "output_type": "display_data"
    },
    {
     "name": "stdout",
     "output_type": "stream",
     "text": [
      "____________________________________327___________________________________________________\n",
      "267\n",
      "1.5096565999999996\n"
     ]
    },
    {
     "data": {
      "text/html": [
       " <span style=\"background-color:#e0e0e0 \">-8.052489</span><span style=\"background-color:#DFFF00 \"> -6.5428324</span>"
      ],
      "text/plain": [
       "<IPython.core.display.HTML object>"
      ]
     },
     "metadata": {},
     "output_type": "display_data"
    },
    {
     "name": "stdout",
     "output_type": "stream",
     "text": [
      "-  --  --  --  --  --  --  --  --  --  --  --  --  --  --  --  --  --  --  --  --  --  --  --  --  -\n"
     ]
    },
    {
     "data": {
      "text/html": [
       " The major religion <span style=\"background-color:#DFFF00 \">in</span><span style=\"background-color:#DFFF00 \"> Moldova</span> is Orthodox Christian."
      ],
      "text/plain": [
       "<IPython.core.display.HTML object>"
      ]
     },
     "metadata": {},
     "output_type": "display_data"
    },
    {
     "data": {
      "text/html": [
       " Η κυρίαρχη θρησκεία <span style=\"background-color:#DFFF00 \">της</span><span style=\"background-color:#DFFF00 \"> Μολδαβίας</span> είναι ο ορθόδοξος χριστιανισμός."
      ],
      "text/plain": [
       "<IPython.core.display.HTML object>"
      ]
     },
     "metadata": {},
     "output_type": "display_data"
    },
    {
     "name": "stdout",
     "output_type": "stream",
     "text": [
      "____________________________________328___________________________________________________\n",
      "268\n",
      "1.4249768000000005\n"
     ]
    },
    {
     "data": {
      "text/html": [
       " <span style=\"background-color:#e0e0e0 \">-7.4699802</span><span style=\"background-color:#DFFF00 \"> -6.3398104</span><span style=\"background-color:#9FE2BF \"> -6.0450034</span>"
      ],
      "text/plain": [
       "<IPython.core.display.HTML object>"
      ]
     },
     "metadata": {},
     "output_type": "display_data"
    },
    {
     "name": "stdout",
     "output_type": "stream",
     "text": [
      "-  --  --  --  --  --  --  --  --  --  --  --  --  --  --  --  --  --  --  --  --  --  --  --  --  -\n"
     ]
    },
    {
     "data": {
      "text/html": [
       " <span style=\"background-color:#9FE2BF \">Once</span><span style=\"background-color:#9FE2BF \"> the</span><span style=\"background-color:#9FE2BF \"> ancient</span><span style=\"background-color:#9FE2BF \"> city</span><span style=\"background-color:#9FE2BF \"> of</span><span style=\"background-color:#9FE2BF \"> Smyrna,</span> it <span style=\"background-color:#DFFF00 \">is</span><span style=\"background-color:#DFFF00 \"> now</span><span style=\"background-color:#DFFF00 \"> a</span><span style=\"background-color:#DFFF00 \"> modern,</span><span style=\"background-color:#DFFF00 \"> developed,</span><span style=\"background-color:#DFFF00 \"> and</span><span style=\"background-color:#DFFF00 \"> busy</span><span style=\"background-color:#DFFF00 \"> commercial</span> center, set around a huge bay and surrounded by mountains."
      ],
      "text/plain": [
       "<IPython.core.display.HTML object>"
      ]
     },
     "metadata": {},
     "output_type": "display_data"
    },
    {
     "data": {
      "text/html": [
       " Η μοντέρνα, εκλεπτυσμένη <span style=\"background-color:#DFFF00 \">και</span><span style=\"background-color:#DFFF00 \"> γεμάτη</span><span style=\"background-color:#9FE2BF \"> ανθρώπους</span><span style=\"background-color:#9FE2BF \"> Σμύρνη</span><span style=\"background-color:#9FE2BF \"> που</span><span style=\"background-color:#9FE2BF \"> υπήρχε</span><span style=\"background-color:#9FE2BF \"> από</span><span style=\"background-color:#9FE2BF \"> τα</span><span style=\"background-color:#9FE2BF \"> αρχαία</span><span style=\"background-color:#9FE2BF \"> χρόνια,</span> βρίσκεται γύρω από έναν πολύ μεγάλο όρμο και περικυκλώνεται από βουνά."
      ],
      "text/plain": [
       "<IPython.core.display.HTML object>"
      ]
     },
     "metadata": {},
     "output_type": "display_data"
    },
    {
     "name": "stdout",
     "output_type": "stream",
     "text": [
      "____________________________________329___________________________________________________\n",
      "269\n",
      "31.6700295\n"
     ]
    },
    {
     "data": {
      "text/html": [
       " <span style=\"background-color:#e0e0e0 \">-15.7597065</span><span style=\"background-color:#DFFF00 \"> 15.910323</span>"
      ],
      "text/plain": [
       "<IPython.core.display.HTML object>"
      ]
     },
     "metadata": {},
     "output_type": "display_data"
    },
    {
     "name": "stdout",
     "output_type": "stream",
     "text": [
      "-  --  --  --  --  --  --  --  --  --  --  --  --  --  --  --  --  --  --  --  --  --  --  --  --  -\n"
     ]
    },
    {
     "data": {
      "text/html": [
       " The broad boulevards, glass-fronted buildings and modern shopping centers are dotted with <span style=\"background-color:#DFFF00 \">traditional</span><span style=\"background-color:#DFFF00 \"> red-tiled</span><span style=\"background-color:#DFFF00 \"> roofs,</span><span style=\"background-color:#DFFF00 \"> the</span><span style=\"background-color:#DFFF00 \"> 18th</span><span style=\"background-color:#DFFF00 \"> century</span><span style=\"background-color:#DFFF00 \"> market,</span><span style=\"background-color:#DFFF00 \"> and</span><span style=\"background-color:#DFFF00 \"> old</span><span style=\"background-color:#DFFF00 \"> mosques</span><span style=\"background-color:#DFFF00 \"> and</span><span style=\"background-color:#DFFF00 \"> churches,</span><span style=\"background-color:#DFFF00 \"> although</span><span style=\"background-color:#DFFF00 \"> the</span><span style=\"background-color:#DFFF00 \"> city</span><span style=\"background-color:#DFFF00 \"> has</span><span style=\"background-color:#DFFF00 \"> an</span><span style=\"background-color:#DFFF00 \"> atmosphere</span> more of Mediterranean Europe than traditional Turkey."
      ],
      "text/plain": [
       "<IPython.core.display.HTML object>"
      ]
     },
     "metadata": {},
     "output_type": "display_data"
    },
    {
     "data": {
      "text/html": [
       " Οι ευρείες λεωφόροι, τα κτίρια με τις γυάλινες προσόψεις και τα σύγχρονα εμπορικά κέντρα είναι διάσπαρτα με <span style=\"background-color:#DFFF00 \">παραδοσιακές</span><span style=\"background-color:#DFFF00 \"> σκεπές</span><span style=\"background-color:#DFFF00 \"> από</span><span style=\"background-color:#DFFF00 \"> κόκκινα</span><span style=\"background-color:#DFFF00 \"> κεραμίδια,</span><span style=\"background-color:#DFFF00 \"> την</span><span style=\"background-color:#DFFF00 \"> αγορά</span><span style=\"background-color:#DFFF00 \"> του</span><span style=\"background-color:#DFFF00 \"> 18ου</span><span style=\"background-color:#DFFF00 \"> αιώνα</span><span style=\"background-color:#DFFF00 \"> και</span><span style=\"background-color:#DFFF00 \"> με</span><span style=\"background-color:#DFFF00 \"> παλιά</span><span style=\"background-color:#DFFF00 \"> τζαμιά</span><span style=\"background-color:#DFFF00 \"> και</span><span style=\"background-color:#DFFF00 \"> εκκλησίες,</span><span style=\"background-color:#DFFF00 \"> παρόλο</span><span style=\"background-color:#DFFF00 \"> που</span><span style=\"background-color:#DFFF00 \"> η</span><span style=\"background-color:#DFFF00 \"> ατμόσφαιρα</span><span style=\"background-color:#DFFF00 \"> της</span><span style=\"background-color:#DFFF00 \"> πόλης</span><span style=\"background-color:#DFFF00 \"> παραπέμπει</span> περισσότερο στη μεσογειακή Ευρώπη από ό,τι στην παραδοσιακή Τουρκία."
      ],
      "text/plain": [
       "<IPython.core.display.HTML object>"
      ]
     },
     "metadata": {},
     "output_type": "display_data"
    },
    {
     "name": "stdout",
     "output_type": "stream",
     "text": [
      "____________________________________330___________________________________________________\n",
      "270\n",
      "3.1990300000000005\n"
     ]
    },
    {
     "data": {
      "text/html": [
       " <span style=\"background-color:#e0e0e0 \">-13.693776</span><span style=\"background-color:#DFFF00 \"> -10.494746</span>"
      ],
      "text/plain": [
       "<IPython.core.display.HTML object>"
      ]
     },
     "metadata": {},
     "output_type": "display_data"
    },
    {
     "name": "stdout",
     "output_type": "stream",
     "text": [
      "-  --  --  --  --  --  --  --  --  --  --  --  --  --  --  --  --  --  --  --  --  --  --  --  --  -\n"
     ]
    },
    {
     "data": {
      "text/html": [
       " It's worth half an hour to stroll about <span style=\"background-color:#DFFF00 \">the</span><span style=\"background-color:#DFFF00 \"> intriguing</span> village."
      ],
      "text/plain": [
       "<IPython.core.display.HTML object>"
      ]
     },
     "metadata": {},
     "output_type": "display_data"
    },
    {
     "data": {
      "text/html": [
       " Αξίζει να αφιερώσετε μισή ώρα για να κάνετε έναν περίπατο στο <span style=\"background-color:#DFFF00 \">ενδιαφέρον</span> χωριό."
      ],
      "text/plain": [
       "<IPython.core.display.HTML object>"
      ]
     },
     "metadata": {},
     "output_type": "display_data"
    },
    {
     "name": "stdout",
     "output_type": "stream",
     "text": [
      "____________________________________331___________________________________________________\n",
      "271\n",
      "6.4845896\n"
     ]
    },
    {
     "data": {
      "text/html": [
       " <span style=\"background-color:#e0e0e0 \">-1.4044461</span><span style=\"background-color:#DFFF00 \"> 3.8557382</span><span style=\"background-color:#9FE2BF \"> 5.0801435</span>"
      ],
      "text/plain": [
       "<IPython.core.display.HTML object>"
      ]
     },
     "metadata": {},
     "output_type": "display_data"
    },
    {
     "name": "stdout",
     "output_type": "stream",
     "text": [
      "-  --  --  --  --  --  --  --  --  --  --  --  --  --  --  --  --  --  --  --  --  --  --  --  --  -\n"
     ]
    },
    {
     "data": {
      "text/html": [
       " Please remember that you are essentially visiting a <span style=\"background-color:#DFFF00 \">mass</span><span style=\"background-color:#DFFF00 \"> grave</span><span style=\"background-color:#DFFF00 \"> site,</span><span style=\"background-color:#DFFF00 \"> as</span><span style=\"background-color:#DFFF00 \"> well</span><span style=\"background-color:#DFFF00 \"> as</span><span style=\"background-color:#DFFF00 \"> a</span> site that has <span style=\"background-color:#9FE2BF \">an</span><span style=\"background-color:#9FE2BF \"> almost</span> incalculable meaning to a significant portion of the world's population."
      ],
      "text/plain": [
       "<IPython.core.display.HTML object>"
      ]
     },
     "metadata": {},
     "output_type": "display_data"
    },
    {
     "data": {
      "text/html": [
       " Να θυμάστε ότι βασικά επισκέπτεστε έναν χώρο <span style=\"background-color:#DFFF00 \">μαζικών</span><span style=\"background-color:#DFFF00 \"> ταφών,</span> ο οποίος έχει ύψιστη σημασία σε πολλούς ανθρώπους παγκοσμίως."
      ],
      "text/plain": [
       "<IPython.core.display.HTML object>"
      ]
     },
     "metadata": {},
     "output_type": "display_data"
    },
    {
     "name": "stdout",
     "output_type": "stream",
     "text": [
      "____________________________________332___________________________________________________\n",
      "272\n",
      "2.7239356\n"
     ]
    },
    {
     "data": {
      "text/html": [
       " <span style=\"background-color:#e0e0e0 \">-3.7580154</span><span style=\"background-color:#DFFF00 \"> -1.0340798</span>"
      ],
      "text/plain": [
       "<IPython.core.display.HTML object>"
      ]
     },
     "metadata": {},
     "output_type": "display_data"
    },
    {
     "name": "stdout",
     "output_type": "stream",
     "text": [
      "-  --  --  --  --  --  --  --  --  --  --  --  --  --  --  --  --  --  --  --  --  --  --  --  --  -\n"
     ]
    },
    {
     "data": {
      "text/html": [
       " Please <span style=\"background-color:#DFFF00 \">treat</span><span style=\"background-color:#DFFF00 \"> the</span><span style=\"background-color:#DFFF00 \"> site</span><span style=\"background-color:#DFFF00 \"> with</span><span style=\"background-color:#DFFF00 \"> all</span><span style=\"background-color:#DFFF00 \"> of</span><span style=\"background-color:#DFFF00 \"> the</span> dignity, solemnity and respect it deserves. Do not make jokes about the Holocaust or Nazis."
      ],
      "text/plain": [
       "<IPython.core.display.HTML object>"
      ]
     },
     "metadata": {},
     "output_type": "display_data"
    },
    {
     "data": {
      "text/html": [
       " Παρακαλούμε δείξτε <span style=\"background-color:#DFFF00 \">στο</span><span style=\"background-color:#DFFF00 \"> μέρος</span><span style=\"background-color:#DFFF00 \"> την</span> αξιοπρέπεια, τη σοβαρότητα και τον σεβασμό που του αρμόζει. Μην λέτε αστεία που αφορούν το Ολοκαύτωμα ή τους Ναζί."
      ],
      "text/plain": [
       "<IPython.core.display.HTML object>"
      ]
     },
     "metadata": {},
     "output_type": "display_data"
    },
    {
     "name": "stdout",
     "output_type": "stream",
     "text": [
      "____________________________________333___________________________________________________\n",
      "273\n",
      "4.156816600000001\n"
     ]
    },
    {
     "data": {
      "text/html": [
       " <span style=\"background-color:#e0e0e0 \">-9.060999</span><span style=\"background-color:#DFFF00 \"> -5.4439936</span><span style=\"background-color:#9FE2BF \"> -4.9041824</span>"
      ],
      "text/plain": [
       "<IPython.core.display.HTML object>"
      ]
     },
     "metadata": {},
     "output_type": "display_data"
    },
    {
     "name": "stdout",
     "output_type": "stream",
     "text": [
      "-  --  --  --  --  --  --  --  --  --  --  --  --  --  --  --  --  --  --  --  --  --  --  --  --  -\n"
     ]
    },
    {
     "data": {
      "text/html": [
       " Do not deface the site <span style=\"background-color:#9FE2BF \">by</span><span style=\"background-color:#9FE2BF \"> marking</span> or scratching graffiti <span style=\"background-color:#DFFF00 \">into</span> structures."
      ],
      "text/plain": [
       "<IPython.core.display.HTML object>"
      ]
     },
     "metadata": {},
     "output_type": "display_data"
    },
    {
     "data": {
      "text/html": [
       " Μην βανδαλίζετε τον χώρο <span style=\"background-color:#9FE2BF \">ζωγραφίζοντας</span> ή σκαλίζοντας γκράφιτι <span style=\"background-color:#DFFF00 \">στις</span> δομές."
      ],
      "text/plain": [
       "<IPython.core.display.HTML object>"
      ]
     },
     "metadata": {},
     "output_type": "display_data"
    },
    {
     "name": "stdout",
     "output_type": "stream",
     "text": [
      "____________________________________334___________________________________________________\n",
      "274\n",
      "0.3960220000000001\n"
     ]
    },
    {
     "data": {
      "text/html": [
       " <span style=\"background-color:#e0e0e0 \">-1.9831204</span><span style=\"background-color:#DFFF00 \"> -1.5870984</span>"
      ],
      "text/plain": [
       "<IPython.core.display.HTML object>"
      ]
     },
     "metadata": {},
     "output_type": "display_data"
    },
    {
     "name": "stdout",
     "output_type": "stream",
     "text": [
      "-  --  --  --  --  --  --  --  --  --  --  --  --  --  --  --  --  --  --  --  --  --  --  --  --  -\n"
     ]
    },
    {
     "data": {
      "text/html": [
       " <span style=\"background-color:#DFFF00 \">Yet,</span> Spanish is also widely used in public transport and other facilities."
      ],
      "text/plain": [
       "<IPython.core.display.HTML object>"
      ]
     },
     "metadata": {},
     "output_type": "display_data"
    },
    {
     "data": {
      "text/html": [
       " <span style=\"background-color:#DFFF00 \">Εντούτοις,</span> η ισπανική γλώσσα χρησιμοποιείται εκτεταμένα στις δημόσιες μεταφορές και σε άλλες υπηρεσίες."
      ],
      "text/plain": [
       "<IPython.core.display.HTML object>"
      ]
     },
     "metadata": {},
     "output_type": "display_data"
    },
    {
     "name": "stdout",
     "output_type": "stream",
     "text": [
      "____________________________________336___________________________________________________\n",
      "275\n",
      "0.362324000000001\n"
     ]
    },
    {
     "data": {
      "text/html": [
       " <span style=\"background-color:#e0e0e0 \">-15.952529</span><span style=\"background-color:#DFFF00 \"> -15.590205</span>"
      ],
      "text/plain": [
       "<IPython.core.display.HTML object>"
      ]
     },
     "metadata": {},
     "output_type": "display_data"
    },
    {
     "name": "stdout",
     "output_type": "stream",
     "text": [
      "-  --  --  --  --  --  --  --  --  --  --  --  --  --  --  --  --  --  --  --  --  --  --  --  --  -\n"
     ]
    },
    {
     "data": {
      "text/html": [
       " <span style=\"background-color:#DFFF00 \">Parisians'</span><span style=\"background-color:#DFFF00 \"> abrupt</span><span style=\"background-color:#DFFF00 \"> exteriors</span><span style=\"background-color:#DFFF00 \"> will</span><span style=\"background-color:#DFFF00 \"> rapidly</span><span style=\"background-color:#DFFF00 \"> evaporate</span><span style=\"background-color:#DFFF00 \"> if</span><span style=\"background-color:#DFFF00 \"> you</span><span style=\"background-color:#DFFF00 \"> display</span><span style=\"background-color:#DFFF00 \"> some</span><span style=\"background-color:#DFFF00 \"> basic</span> courtesies."
      ],
      "text/plain": [
       "<IPython.core.display.HTML object>"
      ]
     },
     "metadata": {},
     "output_type": "display_data"
    },
    {
     "data": {
      "text/html": [
       " Η <span style=\"background-color:#DFFF00 \">απότομη</span><span style=\"background-color:#DFFF00 \"> στάση</span><span style=\"background-color:#DFFF00 \"> των</span><span style=\"background-color:#DFFF00 \"> Παριζιάνων</span><span style=\"background-color:#DFFF00 \"> θα</span><span style=\"background-color:#DFFF00 \"> εξαφανιστεί</span><span style=\"background-color:#DFFF00 \"> γρήγορα</span><span style=\"background-color:#DFFF00 \"> αν</span><span style=\"background-color:#DFFF00 \"> επιδείξετε</span><span style=\"background-color:#DFFF00 \"> τη</span><span style=\"background-color:#DFFF00 \"> στοιχειώδη</span> ευγένεια."
      ],
      "text/plain": [
       "<IPython.core.display.HTML object>"
      ]
     },
     "metadata": {},
     "output_type": "display_data"
    },
    {
     "name": "stdout",
     "output_type": "stream",
     "text": [
      "____________________________________338___________________________________________________\n",
      "276\n",
      "2.629949\n"
     ]
    },
    {
     "data": {
      "text/html": [
       " <span style=\"background-color:#e0e0e0 \">-11.436997</span><span style=\"background-color:#DFFF00 \"> -8.807048</span>"
      ],
      "text/plain": [
       "<IPython.core.display.HTML object>"
      ]
     },
     "metadata": {},
     "output_type": "display_data"
    },
    {
     "name": "stdout",
     "output_type": "stream",
     "text": [
      "-  --  --  --  --  --  --  --  --  --  --  --  --  --  --  --  --  --  --  --  --  --  --  --  --  -\n"
     ]
    },
    {
     "data": {
      "text/html": [
       " Along the same line, men are required to wear trousers <span style=\"background-color:#DFFF00 \">covering</span><span style=\"background-color:#DFFF00 \"> the</span><span style=\"background-color:#DFFF00 \"> knees.</span>"
      ],
      "text/plain": [
       "<IPython.core.display.HTML object>"
      ]
     },
     "metadata": {},
     "output_type": "display_data"
    },
    {
     "data": {
      "text/html": [
       " Κατά τον ίδιο τρόπο, οι άντρες απαιτείται να φορούν παντελόνια <span style=\"background-color:#DFFF00 \">που</span><span style=\"background-color:#DFFF00 \"> καλύπτουν</span><span style=\"background-color:#DFFF00 \"> τα</span><span style=\"background-color:#DFFF00 \"> γόνατά</span><span style=\"background-color:#DFFF00 \"> τους.</span>"
      ],
      "text/plain": [
       "<IPython.core.display.HTML object>"
      ]
     },
     "metadata": {},
     "output_type": "display_data"
    },
    {
     "name": "stdout",
     "output_type": "stream",
     "text": [
      "____________________________________339___________________________________________________\n",
      "277\n",
      "7.8052551999999995\n"
     ]
    },
    {
     "data": {
      "text/html": [
       " <span style=\"background-color:#e0e0e0 \">-3.8192346</span><span style=\"background-color:#DFFF00 \"> 1.4315351</span><span style=\"background-color:#9FE2BF \"> 3.9860206</span>"
      ],
      "text/plain": [
       "<IPython.core.display.HTML object>"
      ]
     },
     "metadata": {},
     "output_type": "display_data"
    },
    {
     "name": "stdout",
     "output_type": "stream",
     "text": [
      "-  --  --  --  --  --  --  --  --  --  --  --  --  --  --  --  --  --  --  --  --  --  --  --  --  -\n"
     ]
    },
    {
     "data": {
      "text/html": [
       " All nouns, alongside the word Sie for you, always begin with a <span style=\"background-color:#DFFF00 \">capital</span> letter, even in the middle of a sentence."
      ],
      "text/plain": [
       "<IPython.core.display.HTML object>"
      ]
     },
     "metadata": {},
     "output_type": "display_data"
    },
    {
     "data": {
      "text/html": [
       " Το <span style=\"background-color:#DFFF00 \">πρώτο</span> γράμμα <span style=\"background-color:#9FE2BF \">σε</span><span style=\"background-color:#9FE2BF \"> όλα</span><span style=\"background-color:#9FE2BF \"> τα</span> ουσιαστικά, καθώς και η λέξη Sie (εσάς), γράφεται πάντα με κεφαλαίο, ακόμα και μέσα στην πρόταση."
      ],
      "text/plain": [
       "<IPython.core.display.HTML object>"
      ]
     },
     "metadata": {},
     "output_type": "display_data"
    },
    {
     "name": "stdout",
     "output_type": "stream",
     "text": [
      "____________________________________340___________________________________________________\n",
      "278\n",
      "2.0972910000000002\n"
     ]
    },
    {
     "data": {
      "text/html": [
       " <span style=\"background-color:#e0e0e0 \">-15.942348</span><span style=\"background-color:#DFFF00 \"> -13.845057</span>"
      ],
      "text/plain": [
       "<IPython.core.display.HTML object>"
      ]
     },
     "metadata": {},
     "output_type": "display_data"
    },
    {
     "name": "stdout",
     "output_type": "stream",
     "text": [
      "-  --  --  --  --  --  --  --  --  --  --  --  --  --  --  --  --  --  --  --  --  --  --  --  --  -\n"
     ]
    },
    {
     "data": {
      "text/html": [
       " This is an important way to distinguish <span style=\"background-color:#DFFF00 \">between</span><span style=\"background-color:#DFFF00 \"> some</span> verbs and objects."
      ],
      "text/plain": [
       "<IPython.core.display.HTML object>"
      ]
     },
     "metadata": {},
     "output_type": "display_data"
    },
    {
     "data": {
      "text/html": [
       " Έτσι ξεχωρίζουν με βάση έναν κανόνα οι ρηματικοί τύποι <span style=\"background-color:#DFFF00 \">από</span><span style=\"background-color:#DFFF00 \"> τα</span> αντικείμενα."
      ],
      "text/plain": [
       "<IPython.core.display.HTML object>"
      ]
     },
     "metadata": {},
     "output_type": "display_data"
    },
    {
     "name": "stdout",
     "output_type": "stream",
     "text": [
      "____________________________________341___________________________________________________\n",
      "279\n",
      "5.6839808\n"
     ]
    },
    {
     "data": {
      "text/html": [
       " <span style=\"background-color:#e0e0e0 \">-4.6768956</span><span style=\"background-color:#DFFF00 \"> 1.0070852</span>"
      ],
      "text/plain": [
       "<IPython.core.display.HTML object>"
      ]
     },
     "metadata": {},
     "output_type": "display_data"
    },
    {
     "name": "stdout",
     "output_type": "stream",
     "text": [
      "-  --  --  --  --  --  --  --  --  --  --  --  --  --  --  --  --  --  --  --  --  --  --  --  --  -\n"
     ]
    },
    {
     "data": {
      "text/html": [
       " Pronunciation is relatively easy <span style=\"background-color:#DFFF00 \">in</span><span style=\"background-color:#DFFF00 \"> Italian</span> since most words are pronounced exactly how they are written"
      ],
      "text/plain": [
       "<IPython.core.display.HTML object>"
      ]
     },
     "metadata": {},
     "output_type": "display_data"
    },
    {
     "data": {
      "text/html": [
       " Η <span style=\"background-color:#DFFF00 \">ιταλική</span> προφορά διαθέτει μια σχετική ευκολία, καθώς η πλειονότητα των λέξεων προφέρονται όπως ακριβώς γράφονται."
      ],
      "text/plain": [
       "<IPython.core.display.HTML object>"
      ]
     },
     "metadata": {},
     "output_type": "display_data"
    },
    {
     "name": "stdout",
     "output_type": "stream",
     "text": [
      "____________________________________342___________________________________________________\n",
      "280\n",
      "5.6112228\n"
     ]
    },
    {
     "data": {
      "text/html": [
       " <span style=\"background-color:#e0e0e0 \">-12.0115595</span><span style=\"background-color:#DFFF00 \"> -6.4003367</span>"
      ],
      "text/plain": [
       "<IPython.core.display.HTML object>"
      ]
     },
     "metadata": {},
     "output_type": "display_data"
    },
    {
     "name": "stdout",
     "output_type": "stream",
     "text": [
      "-  --  --  --  --  --  --  --  --  --  --  --  --  --  --  --  --  --  --  --  --  --  --  --  --  -\n"
     ]
    },
    {
     "data": {
      "text/html": [
       " The main letters <span style=\"background-color:#DFFF00 \">to</span><span style=\"background-color:#DFFF00 \"> watch</span><span style=\"background-color:#DFFF00 \"> out</span><span style=\"background-color:#DFFF00 \"> for</span> are c and g, since their pronunciation varies based on the following vowel."
      ],
      "text/plain": [
       "<IPython.core.display.HTML object>"
      ]
     },
     "metadata": {},
     "output_type": "display_data"
    },
    {
     "data": {
      "text/html": [
       " Τα βασικά γράμματα <span style=\"background-color:#DFFF00 \">που</span><span style=\"background-color:#DFFF00 \"> απαιτούν</span><span style=\"background-color:#DFFF00 \"> την</span><span style=\"background-color:#DFFF00 \"> προσοχή</span><span style=\"background-color:#DFFF00 \"> σας,</span> είναι το c και το g, καθώς η προφορά τους ποικίλλει ανάλογα με το φωνήεν που ακολουθεί."
      ],
      "text/plain": [
       "<IPython.core.display.HTML object>"
      ]
     },
     "metadata": {},
     "output_type": "display_data"
    },
    {
     "name": "stdout",
     "output_type": "stream",
     "text": [
      "____________________________________343___________________________________________________\n",
      "281\n",
      "0.7461130000000011\n"
     ]
    },
    {
     "data": {
      "text/html": [
       " <span style=\"background-color:#e0e0e0 \">-10.789711</span><span style=\"background-color:#DFFF00 \"> -10.043598</span>"
      ],
      "text/plain": [
       "<IPython.core.display.HTML object>"
      ]
     },
     "metadata": {},
     "output_type": "display_data"
    },
    {
     "name": "stdout",
     "output_type": "stream",
     "text": [
      "-  --  --  --  --  --  --  --  --  --  --  --  --  --  --  --  --  --  --  --  --  --  --  --  --  -\n"
     ]
    },
    {
     "data": {
      "text/html": [
       " Persian has a relatively easy <span style=\"background-color:#DFFF00 \">and</span><span style=\"background-color:#DFFF00 \"> mostly</span> regular grammar."
      ],
      "text/plain": [
       "<IPython.core.display.HTML object>"
      ]
     },
     "metadata": {},
     "output_type": "display_data"
    },
    {
     "data": {
      "text/html": [
       " Τα περσικά έχουν μια σχετικά εύκολη <span style=\"background-color:#DFFF00 \">και</span><span style=\"background-color:#DFFF00 \"> ως</span><span style=\"background-color:#DFFF00 \"> επί</span><span style=\"background-color:#DFFF00 \"> το</span> πλείστον ομαλή γραμματική."
      ],
      "text/plain": [
       "<IPython.core.display.HTML object>"
      ]
     },
     "metadata": {},
     "output_type": "display_data"
    },
    {
     "name": "stdout",
     "output_type": "stream",
     "text": [
      "____________________________________344___________________________________________________\n",
      "282\n",
      "2.9770635999999997\n"
     ]
    },
    {
     "data": {
      "text/html": [
       " <span style=\"background-color:#e0e0e0 \">-6.9415026</span><span style=\"background-color:#DFFF00 \"> -5.157258</span><span style=\"background-color:#9FE2BF \"> -3.964439</span>"
      ],
      "text/plain": [
       "<IPython.core.display.HTML object>"
      ]
     },
     "metadata": {},
     "output_type": "display_data"
    },
    {
     "name": "stdout",
     "output_type": "stream",
     "text": [
      "-  --  --  --  --  --  --  --  --  --  --  --  --  --  --  --  --  --  --  --  --  --  --  --  --  -\n"
     ]
    },
    {
     "data": {
      "text/html": [
       " Therefore, reading this <span style=\"background-color:#DFFF00 \">grammar</span> primer would help you learn much about <span style=\"background-color:#9FE2BF \">Persian</span> grammar and understand phrases better."
      ],
      "text/plain": [
       "<IPython.core.display.HTML object>"
      ]
     },
     "metadata": {},
     "output_type": "display_data"
    },
    {
     "data": {
      "text/html": [
       " Συνεπώς, η ανάγνωση αυτού του <span style=\"background-color:#DFFF00 \">εισαγωγικού</span><span style=\"background-color:#DFFF00 \"> βιβλίου</span><span style=\"background-color:#DFFF00 \"> γραμματικής</span> θα σας βοηθούσε να εμπλουτίσετε τις γνώσεις σας πάνω <span style=\"background-color:#9FE2BF \">στην</span><span style=\"background-color:#9FE2BF \"> περσική</span> γραμματική καθώς και να κατανοείτε καλύτερα διάφορες εκφράσεις."
      ],
      "text/plain": [
       "<IPython.core.display.HTML object>"
      ]
     },
     "metadata": {},
     "output_type": "display_data"
    },
    {
     "name": "stdout",
     "output_type": "stream",
     "text": [
      "____________________________________346___________________________________________________\n",
      "283\n",
      "2.871805\n"
     ]
    },
    {
     "data": {
      "text/html": [
       " <span style=\"background-color:#e0e0e0 \">-13.910682</span><span style=\"background-color:#DFFF00 \"> -11.038877</span>"
      ],
      "text/plain": [
       "<IPython.core.display.HTML object>"
      ]
     },
     "metadata": {},
     "output_type": "display_data"
    },
    {
     "name": "stdout",
     "output_type": "stream",
     "text": [
      "-  --  --  --  --  --  --  --  --  --  --  --  --  --  --  --  --  --  --  --  --  --  --  --  --  -\n"
     ]
    },
    {
     "data": {
      "text/html": [
       " The concept came <span style=\"background-color:#DFFF00 \">from</span> China where plum blossoms were the flower of choice."
      ],
      "text/plain": [
       "<IPython.core.display.HTML object>"
      ]
     },
     "metadata": {},
     "output_type": "display_data"
    },
    {
     "data": {
      "text/html": [
       " Η έννοια έχει <span style=\"background-color:#DFFF00 \">τις</span><span style=\"background-color:#DFFF00 \"> απαρχές</span><span style=\"background-color:#DFFF00 \"> της</span><span style=\"background-color:#DFFF00 \"> στην</span> Κίνα όπου τα άνθη δαμασκηνιάς ήταν το λουλούδι της εποχής."
      ],
      "text/plain": [
       "<IPython.core.display.HTML object>"
      ]
     },
     "metadata": {},
     "output_type": "display_data"
    },
    {
     "name": "stdout",
     "output_type": "stream",
     "text": [
      "____________________________________347___________________________________________________\n",
      "284\n",
      "19.3143947\n"
     ]
    },
    {
     "data": {
      "text/html": [
       " <span style=\"background-color:#e0e0e0 \">-4.9454947</span><span style=\"background-color:#DFFF00 \"> 14.035734</span><span style=\"background-color:#9FE2BF \"> 14.3689</span>"
      ],
      "text/plain": [
       "<IPython.core.display.HTML object>"
      ]
     },
     "metadata": {},
     "output_type": "display_data"
    },
    {
     "name": "stdout",
     "output_type": "stream",
     "text": [
      "-  --  --  --  --  --  --  --  --  --  --  --  --  --  --  --  --  --  --  --  --  --  --  --  --  -\n"
     ]
    },
    {
     "data": {
      "text/html": [
       " In Japan, the first cherry blossom parties were hosted by the emperor only for himself and <span style=\"background-color:#DFFF00 \">other</span><span style=\"background-color:#DFFF00 \"> members</span><span style=\"background-color:#DFFF00 \"> of</span><span style=\"background-color:#DFFF00 \"> the</span><span style=\"background-color:#DFFF00 \"> aristocracy</span><span style=\"background-color:#DFFF00 \"> around</span> the Imperial <span style=\"background-color:#9FE2BF \">Court.</span>"
      ],
      "text/plain": [
       "<IPython.core.display.HTML object>"
      ]
     },
     "metadata": {},
     "output_type": "display_data"
    },
    {
     "data": {
      "text/html": [
       " Οι πρώτες γιορτές για τις ανθισμένες κερασιές που έλαβαν χώρα στην Ιαπωνία διοργανώθηκαν από τον αυτοκράτορα αποκλειστικά για τον ίδιο και <span style=\"background-color:#DFFF00 \">για</span><span style=\"background-color:#DFFF00 \"> άλλους</span><span style=\"background-color:#DFFF00 \"> ευγενείς</span><span style=\"background-color:#DFFF00 \"> που</span><span style=\"background-color:#DFFF00 \"> ανήκαν</span> στην Αυλή <span style=\"background-color:#9FE2BF \">του.</span>"
      ],
      "text/plain": [
       "<IPython.core.display.HTML object>"
      ]
     },
     "metadata": {},
     "output_type": "display_data"
    },
    {
     "name": "stdout",
     "output_type": "stream",
     "text": [
      "____________________________________348___________________________________________________\n",
      "285\n",
      "4.729896\n"
     ]
    },
    {
     "data": {
      "text/html": [
       " <span style=\"background-color:#e0e0e0 \">-15.575436</span><span style=\"background-color:#DFFF00 \"> -13.455639</span><span style=\"background-color:#9FE2BF \"> -10.867835</span><span style=\"background-color:#CCCCFF \"> -10.84554</span>"
      ],
      "text/plain": [
       "<IPython.core.display.HTML object>"
      ]
     },
     "metadata": {},
     "output_type": "display_data"
    },
    {
     "name": "stdout",
     "output_type": "stream",
     "text": [
      "-  --  --  --  --  --  --  --  --  --  --  --  --  --  --  --  --  --  --  --  --  --  --  --  --  -\n"
     ]
    },
    {
     "data": {
      "text/html": [
       " <span style=\"background-color:#CCCCFF \">Inland</span><span style=\"background-color:#CCCCFF \"> waterways</span><span style=\"background-color:#9FE2BF \"> can</span> be a good theme to base a holiday <span style=\"background-color:#DFFF00 \">around.</span>"
      ],
      "text/plain": [
       "<IPython.core.display.HTML object>"
      ]
     },
     "metadata": {},
     "output_type": "display_data"
    },
    {
     "data": {
      "text/html": [
       " Ένα καλό θέμα πάω στο οποίο <span style=\"background-color:#9FE2BF \">μπορείτε</span> να βασίσετε τις διακοπές σας <span style=\"background-color:#CCCCFF \">είναι</span><span style=\"background-color:#CCCCFF \"> οι</span><span style=\"background-color:#CCCCFF \"> εσωτερικές</span><span style=\"background-color:#CCCCFF \"> υδάτινες</span><span style=\"background-color:#DFFF00 \"> οδοί.</span>"
      ],
      "text/plain": [
       "<IPython.core.display.HTML object>"
      ]
     },
     "metadata": {},
     "output_type": "display_data"
    },
    {
     "name": "stdout",
     "output_type": "stream",
     "text": [
      "____________________________________349___________________________________________________\n",
      "286\n",
      "17.2481151\n"
     ]
    },
    {
     "data": {
      "text/html": [
       " <span style=\"background-color:#e0e0e0 \">-1.7144961</span><span style=\"background-color:#DFFF00 \"> 15.2456455</span><span style=\"background-color:#9FE2BF \"> 15.445282</span><span style=\"background-color:#CCCCFF \"> 15.533619</span>"
      ],
      "text/plain": [
       "<IPython.core.display.HTML object>"
      ]
     },
     "metadata": {},
     "output_type": "display_data"
    },
    {
     "name": "stdout",
     "output_type": "stream",
     "text": [
      "-  --  --  --  --  --  --  --  --  --  --  --  --  --  --  --  --  --  --  --  --  --  --  --  --  -\n"
     ]
    },
    {
     "data": {
      "text/html": [
       " For example visiting castles in <span style=\"background-color:#CCCCFF \">the</span><span style=\"background-color:#CCCCFF \"> Loire</span><span style=\"background-color:#CCCCFF \"> Valley,</span> the Rhine valley or taking a cruise to <span style=\"background-color:#DFFF00 \">interesting</span><span style=\"background-color:#DFFF00 \"> cites</span><span style=\"background-color:#DFFF00 \"> on</span> the Danube or boating <span style=\"background-color:#9FE2BF \">along</span> the Erie Canal."
      ],
      "text/plain": [
       "<IPython.core.display.HTML object>"
      ]
     },
     "metadata": {},
     "output_type": "display_data"
    },
    {
     "data": {
      "text/html": [
       " Το να επισκεφθείτε, για παράδειγμα, τα κάστρα στην <span style=\"background-color:#CCCCFF \">κοιλάδα</span><span style=\"background-color:#CCCCFF \"> του</span><span style=\"background-color:#CCCCFF \"> Λίγηρα,</span> την κοιλάδα του Ρήνου ή να κάνετε μια κρουαζιέρα σε <span style=\"background-color:#DFFF00 \">ενδιαφέροντα</span> αξιοθέατα <span style=\"background-color:#9FE2BF \">κατά</span><span style=\"background-color:#9FE2BF \"> μήκος</span> του Δούναβη, ή να διασχίσετε με πλοία τη διώρυγα Έρι."
      ],
      "text/plain": [
       "<IPython.core.display.HTML object>"
      ]
     },
     "metadata": {},
     "output_type": "display_data"
    },
    {
     "name": "stdout",
     "output_type": "stream",
     "text": [
      "____________________________________350___________________________________________________\n",
      "287\n",
      "8.55445\n"
     ]
    },
    {
     "data": {
      "text/html": [
       " <span style=\"background-color:#e0e0e0 \">-14.595422</span><span style=\"background-color:#DFFF00 \"> -8.488052</span><span style=\"background-color:#9FE2BF \"> -6.040972</span>"
      ],
      "text/plain": [
       "<IPython.core.display.HTML object>"
      ]
     },
     "metadata": {},
     "output_type": "display_data"
    },
    {
     "name": "stdout",
     "output_type": "stream",
     "text": [
      "-  --  --  --  --  --  --  --  --  --  --  --  --  --  --  --  --  --  --  --  --  --  --  --  --  -\n"
     ]
    },
    {
     "data": {
      "text/html": [
       " <span style=\"background-color:#9FE2BF \">They</span><span style=\"background-color:#9FE2BF \"> also</span><span style=\"background-color:#9FE2BF \"> define</span> routes for <span style=\"background-color:#DFFF00 \">popular</span> hiking and cycling trails."
      ],
      "text/plain": [
       "<IPython.core.display.HTML object>"
      ]
     },
     "metadata": {},
     "output_type": "display_data"
    },
    {
     "data": {
      "text/html": [
       " <span style=\"background-color:#9FE2BF \">Καθορίζουν</span><span style=\"background-color:#9FE2BF \"> ακόμη</span> πορείες για <span style=\"background-color:#DFFF00 \">διαδεδομένες</span> διαδρομές πεζοπορίας και ποδηλασίας."
      ],
      "text/plain": [
       "<IPython.core.display.HTML object>"
      ]
     },
     "metadata": {},
     "output_type": "display_data"
    },
    {
     "name": "stdout",
     "output_type": "stream",
     "text": [
      "____________________________________351___________________________________________________\n",
      "288\n",
      "7.19371079\n"
     ]
    },
    {
     "data": {
      "text/html": [
       " <span style=\"background-color:#e0e0e0 \">-0.24152479</span><span style=\"background-color:#DFFF00 \"> 6.952186</span>"
      ],
      "text/plain": [
       "<IPython.core.display.HTML object>"
      ]
     },
     "metadata": {},
     "output_type": "display_data"
    },
    {
     "name": "stdout",
     "output_type": "stream",
     "text": [
      "-  --  --  --  --  --  --  --  --  --  --  --  --  --  --  --  --  --  --  --  --  --  --  --  --  -\n"
     ]
    },
    {
     "data": {
      "text/html": [
       " As the areas are sparsely populated, and light pollution <span style=\"background-color:#DFFF00 \">therefore</span><span style=\"background-color:#DFFF00 \"> often</span><span style=\"background-color:#DFFF00 \"> not</span> a problem, you will also be able to enjoy the stars."
      ],
      "text/plain": [
       "<IPython.core.display.HTML object>"
      ]
     },
     "metadata": {},
     "output_type": "display_data"
    },
    {
     "data": {
      "text/html": [
       " Το γεγονός ότι οι περιοχές είναι αραιοκατοικημένες κι επομένως <span style=\"background-color:#DFFF00 \">δεν</span><span style=\"background-color:#DFFF00 \"> υπάρχει</span> πρόβλημα φωτορρύπανσης, σας δίνει την ευκαιρία να απολαύσετε τα αστέρια."
      ],
      "text/plain": [
       "<IPython.core.display.HTML object>"
      ]
     },
     "metadata": {},
     "output_type": "display_data"
    },
    {
     "name": "stdout",
     "output_type": "stream",
     "text": [
      "____________________________________352___________________________________________________\n",
      "289\n",
      "7.960126999999999\n"
     ]
    },
    {
     "data": {
      "text/html": [
       " <span style=\"background-color:#e0e0e0 \">-15.933525</span><span style=\"background-color:#DFFF00 \"> -7.973398</span>"
      ],
      "text/plain": [
       "<IPython.core.display.HTML object>"
      ]
     },
     "metadata": {},
     "output_type": "display_data"
    },
    {
     "name": "stdout",
     "output_type": "stream",
     "text": [
      "-  --  --  --  --  --  --  --  --  --  --  --  --  --  --  --  --  --  --  --  --  --  --  --  --  -\n"
     ]
    },
    {
     "data": {
      "text/html": [
       " Japanese work culture is more hierarchical and formal <span style=\"background-color:#DFFF00 \">that</span><span style=\"background-color:#DFFF00 \"> what</span><span style=\"background-color:#DFFF00 \"> Westerners</span><span style=\"background-color:#DFFF00 \"> may</span><span style=\"background-color:#DFFF00 \"> be</span><span style=\"background-color:#DFFF00 \"> used</span><span style=\"background-color:#DFFF00 \"> to.</span>"
      ],
      "text/plain": [
       "<IPython.core.display.HTML object>"
      ]
     },
     "metadata": {},
     "output_type": "display_data"
    },
    {
     "data": {
      "text/html": [
       " Η ιαπωνική εργασιακή νοοτροπία έχει πιο ιεραρχικό και τυπικό χαρακτήρα <span style=\"background-color:#DFFF00 \">σε</span><span style=\"background-color:#DFFF00 \"> σχέση</span><span style=\"background-color:#DFFF00 \"> με</span><span style=\"background-color:#DFFF00 \"> ό,τι</span><span style=\"background-color:#DFFF00 \"> έχουν</span><span style=\"background-color:#DFFF00 \"> συνηθίσει</span><span style=\"background-color:#DFFF00 \"> οι</span><span style=\"background-color:#DFFF00 \"> Δυτικοί.</span>"
      ],
      "text/plain": [
       "<IPython.core.display.HTML object>"
      ]
     },
     "metadata": {},
     "output_type": "display_data"
    }
   ],
   "source": [
    "original_scores, final_scores =[], []\n",
    "\n",
    "import csv\n",
    "with open('ell_Grek.devtest.divergent_inter.missing_paired_phrases.4annotation.tsv', 'w', newline='') as tsvfile:\n",
    "    writer = csv.writer(tsvfile, delimiter='\\t', lineterminator='\\n')\n",
    "    writer.writerow(['english', 'nonenglish', 'improvement'])\n",
    "\n",
    "    for file_ in ['ell_Grek.devtest.divergent_inter.missing_paired_phrases']:\n",
    "        with open(f'outputs/{file_}', 'r') as out_:\n",
    "            c = 0\n",
    "            lines = out_.readlines()\n",
    "            for id_, line in enumerate(lines):\n",
    "                scores, score_color = [], []\n",
    "\n",
    "                line = line.split('\\t')\n",
    "\n",
    "                try:\n",
    "                    raw_a = np.array([float(x) for x in line[5].split(' ')])\n",
    "                    raw_b = np.array([float(x) for x in line[6].split(' ')])\n",
    "                except IndexError:\n",
    "                    continue\n",
    "                    #print('Problem')\n",
    "\n",
    "\n",
    "                original_score = float(line[4])\n",
    "                revisions = int(line[5])\n",
    "                original_scores.append(original_score)        \n",
    "                previous_score = original_score\n",
    "                expl_a = [0] * len(line[0].split(' '))\n",
    "                expl_b = [0] * len(line[1].split(' '))\n",
    "\n",
    "                scores.append(str(original_score))\n",
    "                score_color = '1'\n",
    "\n",
    "\n",
    "\n",
    "                for i in range(revisions):                        \n",
    "                    score = line[5 + 3*i + 1]               \n",
    "                    if float(score) - float(previous_score) < 0:\n",
    "                        break\n",
    "                    expl_a = add_lists(expl_a, [((i +1)*int(a)) for a in line[5 + 3*i + 2].split(' ')])\n",
    "                    expl_b = add_lists(expl_b, [((i +1)*int(a)) for a in line[5 + 3*i + 3].split(' ')])\n",
    "\n",
    "                    previous_score = score\n",
    "                    scores.append(str(score))\n",
    "                    score_color += f' {str(i+2)}'\n",
    "\n",
    "                final_scores.append(float(scores[-1]))\n",
    "                diff = float(scores[-1]) - float(original_score) \n",
    "                #if diff < 15:\n",
    "                #    continue\n",
    "\n",
    "                print(f'____________________________________{id_}___________________________________________________')\n",
    "                print(c)\n",
    "                print(diff)\n",
    "                c+=1\n",
    "\n",
    "\n",
    "                #display_HTML(line[0], line[2], offset=False)#, one_color=True)\n",
    "                #display_HTML(line[1], line[3], offset=False)#, one_color=True)\n",
    "\n",
    "                display_HTML(' '.join(scores), ' '.join(score_color.split(' ')))            \n",
    "                print('-  -'*25)                        \n",
    "\n",
    "                _, en_txt = display_HTML(line[0], ' '.join([str(x) for x in expl_a]), offset=True)\n",
    "                _, non_entxt = display_HTML(line[1], ' '.join([str(x) for x in expl_b]), offset=True) \n",
    "                writer.writerow([f'{en_txt}', f'{non_entxt}', str(diff)])\n"
   ]
  },
  {
   "cell_type": "code",
   "execution_count": null,
   "id": "77ba71a9",
   "metadata": {},
   "outputs": [],
   "source": []
  }
 ],
 "metadata": {
  "kernelspec": {
   "display_name": "Python 3",
   "language": "python",
   "name": "python3"
  },
  "language_info": {
   "codemirror_mode": {
    "name": "ipython",
    "version": 3
   },
   "file_extension": ".py",
   "mimetype": "text/x-python",
   "name": "python",
   "nbconvert_exporter": "python",
   "pygments_lexer": "ipython3",
   "version": "3.6.12"
  }
 },
 "nbformat": 4,
 "nbformat_minor": 5
}
