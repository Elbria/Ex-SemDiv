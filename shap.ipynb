{
 "cells": [
  {
   "cell_type": "code",
   "execution_count": 6,
   "id": "ae026df0",
   "metadata": {},
   "outputs": [],
   "source": [
    "import sys\n",
    "from IPython.display import display, HTML\n",
    "sys.path.append('./divergentmBERT')\n",
    "import pandas as pd\n",
    "import numpy as np\n",
    "import shap\n",
    "import os\n",
    "import argparse\n",
    "from scorer import DivergentmBERTScorer\n",
    "import torch\n",
    "device = torch.device(\"cuda\" if torch.cuda.is_available() and not True else \"cpu\")\n",
    "n_gpu = torch.cuda.device_count()\n",
    "device = device"
   ]
  },
  {
   "cell_type": "code",
   "execution_count": 7,
   "id": "968720b4",
   "metadata": {},
   "outputs": [],
   "source": [
    "div_to_color = {'3': '#FF7F50',\n",
    "                '2': '#FFBF00', \n",
    "                '1': '#DFFF00',\n",
    "                '0': '#FFFFFF'}\n",
    "\n",
    "def color_html(label):\n",
    "    return f'<span style=\"background-color:{div_to_color[label]} \">'\n",
    "\n",
    "def display_HTML(text, div, threshold):\n",
    "    displayed_text = ''\n",
    "    previous = 'eq'\n",
    "    mark_end = '</span>'\n",
    "    for token, label in zip(text.split(' '), div):\n",
    "        if float(label) > threshold:\n",
    "            mark = color_html('0')\n",
    "            displayed_text += f' {token}'\n",
    "            previous = 'eq'\n",
    "        else:\n",
    "            mark = color_html('1')\n",
    "            if previous == 'div':\n",
    "                displayed_text += f'{mark} {token}{mark_end}'\n",
    "            else:\n",
    "                displayed_text += f' {mark}{token}{mark_end}'\n",
    "            previous = 'div'\n",
    "        \n",
    "    return display(HTML(displayed_text))"
   ]
  },
  {
   "cell_type": "code",
   "execution_count": 8,
   "id": "294f1425",
   "metadata": {},
   "outputs": [],
   "source": [
    "class DivergentmBERTWrapper():\n",
    "    def __init__(self, model_path, tokenizer_path, do_lower_case, device, explain_source):\n",
    "        self.scorer = DivergentmBERTScorer(model_path, tokenizer_path, do_lower_case, device)\n",
    "        self.explain_source = explain_source\n",
    "        self.text_a = None\n",
    "        self.text_b = None\n",
    "\n",
    "    def __call__(self, translations):\n",
    "        if self.explain_source:\n",
    "            target = [self.text_b] * len(translations)\n",
    "            divergent_scores = self.scorer.compute_divergentscore(self.flatten(translations), target, self.explain_source)\n",
    "        else:\n",
    "            source = [self.text_a] * len(translations)\n",
    "            divergent_scores = self.scorer.compute_divergentscore(source, self.flatten(translations), self.explain_source)\n",
    "        return np.array(divergent_scores)\n",
    "\n",
    "    def flatten(self, l):\n",
    "        return [item for sublist in l for item in sublist]\n",
    "    \n",
    "    def tokenize_sent(self, sentence):\n",
    "        return sentence.split(' ')\n",
    "\n",
    "    def detokenize_sent(self, tokens):\n",
    "        return ' '.join(tokens)\n",
    "\n",
    "    def build_feature(self, trans_sent):\n",
    "        tokens = self.tokenize_sent(trans_sent)\n",
    "        tdict = {}\n",
    "        for i, tt in enumerate(tokens):\n",
    "            tdict['{}_{}'.format(tt, i)] = tt\n",
    "\n",
    "        df = pd.DataFrame(tdict, index=[0])\n",
    "        return df\n",
    "\n",
    "    def mask_model(self, mask, x):\n",
    "        tokens = []\n",
    "        #print(f'MASK: {mask}')\n",
    "        #print(f'{x}\\n')\n",
    "        #exit(0)\n",
    "        for mm, tt in zip(mask, x):\n",
    "            if mm:\n",
    "                tokens.append(tt)\n",
    "            else:\n",
    "                tokens.append('[MASK]')\n",
    "        trans_sent = self.detokenize_sent(tokens)\n",
    "        sentence = pd.DataFrame([trans_sent])\n",
    "        #print(f'Sentence: {trans_sent}\\n')\n",
    "        return sentence\n"
   ]
  },
  {
   "cell_type": "code",
   "execution_count": 9,
   "id": "f1c6c94c",
   "metadata": {},
   "outputs": [],
   "source": [
    "class ExplainableDivergentmBERT():\n",
    "    def __init__(self, model, tokenizer, do_lower_case, device,  explain_source):\n",
    "        self.wrapper = DivergentmBERTWrapper(model, tokenizer, do_lower_case, device, explain_source)\n",
    "        self.explainer = shap.Explainer(self.wrapper, self.wrapper.mask_model)\n",
    "        self.explain_source = explain_source\n",
    "\n",
    "    def __call__(self, text_a, text_b):\n",
    "        if self.explain_source:\n",
    "            return self.wrapper([text_a])\n",
    "        else:\n",
    "            return self.wrapper([text_b])\n",
    "\n",
    "    def explain(self, text_a, text_b, plot=False):\n",
    "        if self.explain_source: text = text_a\n",
    "        else: text = text_b\n",
    "        value = self.explainer(self.wrapper.build_feature(text))\n",
    "        if plot: shap.waterfall_plot(value[0])\n",
    "        all_tokens = self.wrapper.tokenize_sent(text)\n",
    "\n",
    "        return [[token, sv] for token, sv in zip(all_tokens, value[0].values)]"
   ]
  },
  {
   "cell_type": "code",
   "execution_count": 10,
   "id": "c771acea",
   "metadata": {},
   "outputs": [
    {
     "name": "stdout",
     "output_type": "stream",
     "text": [
      "Initialize Explainable DivergentmBERT\n",
      "Instance initialized...\n"
     ]
    },
    {
     "ename": "NameError",
     "evalue": "name 'json' is not defined",
     "output_type": "error",
     "traceback": [
      "\u001b[0;31m---------------------------------------------------------------------------\u001b[0m",
      "\u001b[0;31mNameError\u001b[0m                                 Traceback (most recent call last)",
      "\u001b[0;32m<ipython-input-10-db59c0128d08>\u001b[0m in \u001b[0;36m<module>\u001b[0;34m\u001b[0m\n\u001b[1;32m     25\u001b[0m             \u001b[0;31m#print(score)\u001b[0m\u001b[0;34m\u001b[0m\u001b[0;34m\u001b[0m\u001b[0;34m\u001b[0m\u001b[0m\n\u001b[1;32m     26\u001b[0m             \u001b[0;31m#exit(0)\u001b[0m\u001b[0;34m\u001b[0m\u001b[0;34m\u001b[0m\u001b[0;34m\u001b[0m\u001b[0m\n\u001b[0;32m---> 27\u001b[0;31m             \u001b[0mexps\u001b[0m \u001b[0;34m=\u001b[0m \u001b[0mmodel\u001b[0m\u001b[0;34m.\u001b[0m\u001b[0mexplain\u001b[0m\u001b[0;34m(\u001b[0m\u001b[0mtext_a\u001b[0m\u001b[0;34m,\u001b[0m \u001b[0mtext_b\u001b[0m\u001b[0;34m)\u001b[0m\u001b[0;34m\u001b[0m\u001b[0;34m\u001b[0m\u001b[0m\n\u001b[0m\u001b[1;32m     28\u001b[0m             \u001b[0mexp_scores\u001b[0m\u001b[0;34m.\u001b[0m\u001b[0mappend\u001b[0m\u001b[0;34m(\u001b[0m\u001b[0;34m[\u001b[0m\u001b[0mfloat\u001b[0m\u001b[0;34m(\u001b[0m\u001b[0mentry\u001b[0m\u001b[0;34m[\u001b[0m\u001b[0;36m1\u001b[0m\u001b[0;34m]\u001b[0m\u001b[0;34m)\u001b[0m \u001b[0;32mfor\u001b[0m \u001b[0mentry\u001b[0m \u001b[0;32min\u001b[0m \u001b[0mexps\u001b[0m\u001b[0;34m]\u001b[0m\u001b[0;34m)\u001b[0m\u001b[0;34m\u001b[0m\u001b[0;34m\u001b[0m\u001b[0m\n",
      "\u001b[0;32m<ipython-input-9-790de30ff6a9>\u001b[0m in \u001b[0;36mexplain\u001b[0;34m(self, text_a, text_b, plot)\u001b[0m\n\u001b[1;32m     14\u001b[0m         \u001b[0;32mif\u001b[0m \u001b[0mself\u001b[0m\u001b[0;34m.\u001b[0m\u001b[0mexplain_source\u001b[0m\u001b[0;34m:\u001b[0m \u001b[0mtext\u001b[0m \u001b[0;34m=\u001b[0m \u001b[0mtext_a\u001b[0m\u001b[0;34m\u001b[0m\u001b[0;34m\u001b[0m\u001b[0m\n\u001b[1;32m     15\u001b[0m         \u001b[0;32melse\u001b[0m\u001b[0;34m:\u001b[0m \u001b[0mtext\u001b[0m \u001b[0;34m=\u001b[0m \u001b[0mtext_b\u001b[0m\u001b[0;34m\u001b[0m\u001b[0;34m\u001b[0m\u001b[0m\n\u001b[0;32m---> 16\u001b[0;31m         \u001b[0mvalue\u001b[0m \u001b[0;34m=\u001b[0m \u001b[0mself\u001b[0m\u001b[0;34m.\u001b[0m\u001b[0mexplainer\u001b[0m\u001b[0;34m(\u001b[0m\u001b[0mself\u001b[0m\u001b[0;34m.\u001b[0m\u001b[0mwrapper\u001b[0m\u001b[0;34m.\u001b[0m\u001b[0mbuild_feature\u001b[0m\u001b[0;34m(\u001b[0m\u001b[0mtext\u001b[0m\u001b[0;34m)\u001b[0m\u001b[0;34m)\u001b[0m\u001b[0;34m\u001b[0m\u001b[0;34m\u001b[0m\u001b[0m\n\u001b[0m\u001b[1;32m     17\u001b[0m         \u001b[0;32mif\u001b[0m \u001b[0mplot\u001b[0m\u001b[0;34m:\u001b[0m \u001b[0mshap\u001b[0m\u001b[0;34m.\u001b[0m\u001b[0mwaterfall_plot\u001b[0m\u001b[0;34m(\u001b[0m\u001b[0mvalue\u001b[0m\u001b[0;34m[\u001b[0m\u001b[0;36m0\u001b[0m\u001b[0;34m]\u001b[0m\u001b[0;34m)\u001b[0m\u001b[0;34m\u001b[0m\u001b[0;34m\u001b[0m\u001b[0m\n\u001b[1;32m     18\u001b[0m         \u001b[0mall_tokens\u001b[0m \u001b[0;34m=\u001b[0m \u001b[0mself\u001b[0m\u001b[0;34m.\u001b[0m\u001b[0mwrapper\u001b[0m\u001b[0;34m.\u001b[0m\u001b[0mtokenize_sent\u001b[0m\u001b[0;34m(\u001b[0m\u001b[0mtext\u001b[0m\u001b[0;34m)\u001b[0m\u001b[0;34m\u001b[0m\u001b[0;34m\u001b[0m\u001b[0m\n",
      "\u001b[0;32m/fs/clip-xling/projects/semdiv/anaconda3/envs/semdiv/lib/python3.6/site-packages/shap/explainers/_permutation.py\u001b[0m in \u001b[0;36m__call__\u001b[0;34m(self, max_evals, main_effects, error_bounds, batch_size, outputs, silent, *args)\u001b[0m\n\u001b[1;32m     74\u001b[0m         return super().__call__(\n\u001b[1;32m     75\u001b[0m             \u001b[0;34m*\u001b[0m\u001b[0margs\u001b[0m\u001b[0;34m,\u001b[0m \u001b[0mmax_evals\u001b[0m\u001b[0;34m=\u001b[0m\u001b[0mmax_evals\u001b[0m\u001b[0;34m,\u001b[0m \u001b[0mmain_effects\u001b[0m\u001b[0;34m=\u001b[0m\u001b[0mmain_effects\u001b[0m\u001b[0;34m,\u001b[0m \u001b[0merror_bounds\u001b[0m\u001b[0;34m=\u001b[0m\u001b[0merror_bounds\u001b[0m\u001b[0;34m,\u001b[0m \u001b[0mbatch_size\u001b[0m\u001b[0;34m=\u001b[0m\u001b[0mbatch_size\u001b[0m\u001b[0;34m,\u001b[0m\u001b[0;34m\u001b[0m\u001b[0;34m\u001b[0m\u001b[0m\n\u001b[0;32m---> 76\u001b[0;31m             \u001b[0moutputs\u001b[0m\u001b[0;34m=\u001b[0m\u001b[0moutputs\u001b[0m\u001b[0;34m,\u001b[0m \u001b[0msilent\u001b[0m\u001b[0;34m=\u001b[0m\u001b[0msilent\u001b[0m\u001b[0;34m\u001b[0m\u001b[0;34m\u001b[0m\u001b[0m\n\u001b[0m\u001b[1;32m     77\u001b[0m         )\n\u001b[1;32m     78\u001b[0m \u001b[0;34m\u001b[0m\u001b[0m\n",
      "\u001b[0;32m/fs/clip-xling/projects/semdiv/anaconda3/envs/semdiv/lib/python3.6/site-packages/shap/explainers/_explainer.py\u001b[0m in \u001b[0;36m__call__\u001b[0;34m(self, max_evals, main_effects, error_bounds, batch_size, outputs, silent, *args, **kwargs)\u001b[0m\n\u001b[1;32m    258\u001b[0m             row_result = self.explain_row(\n\u001b[1;32m    259\u001b[0m                 \u001b[0;34m*\u001b[0m\u001b[0mrow_args\u001b[0m\u001b[0;34m,\u001b[0m \u001b[0mmax_evals\u001b[0m\u001b[0;34m=\u001b[0m\u001b[0mmax_evals\u001b[0m\u001b[0;34m,\u001b[0m \u001b[0mmain_effects\u001b[0m\u001b[0;34m=\u001b[0m\u001b[0mmain_effects\u001b[0m\u001b[0;34m,\u001b[0m \u001b[0merror_bounds\u001b[0m\u001b[0;34m=\u001b[0m\u001b[0merror_bounds\u001b[0m\u001b[0;34m,\u001b[0m\u001b[0;34m\u001b[0m\u001b[0;34m\u001b[0m\u001b[0m\n\u001b[0;32m--> 260\u001b[0;31m                 \u001b[0mbatch_size\u001b[0m\u001b[0;34m=\u001b[0m\u001b[0mbatch_size\u001b[0m\u001b[0;34m,\u001b[0m \u001b[0moutputs\u001b[0m\u001b[0;34m=\u001b[0m\u001b[0moutputs\u001b[0m\u001b[0;34m,\u001b[0m \u001b[0msilent\u001b[0m\u001b[0;34m=\u001b[0m\u001b[0msilent\u001b[0m\u001b[0;34m,\u001b[0m \u001b[0;34m**\u001b[0m\u001b[0mkwargs\u001b[0m\u001b[0;34m\u001b[0m\u001b[0;34m\u001b[0m\u001b[0m\n\u001b[0m\u001b[1;32m    261\u001b[0m             )\n\u001b[1;32m    262\u001b[0m             \u001b[0mvalues\u001b[0m\u001b[0;34m.\u001b[0m\u001b[0mappend\u001b[0m\u001b[0;34m(\u001b[0m\u001b[0mrow_result\u001b[0m\u001b[0;34m.\u001b[0m\u001b[0mget\u001b[0m\u001b[0;34m(\u001b[0m\u001b[0;34m\"values\"\u001b[0m\u001b[0;34m,\u001b[0m \u001b[0;32mNone\u001b[0m\u001b[0;34m)\u001b[0m\u001b[0;34m)\u001b[0m\u001b[0;34m\u001b[0m\u001b[0;34m\u001b[0m\u001b[0m\n",
      "\u001b[0;32m/fs/clip-xling/projects/semdiv/anaconda3/envs/semdiv/lib/python3.6/site-packages/shap/explainers/_permutation.py\u001b[0m in \u001b[0;36mexplain_row\u001b[0;34m(self, max_evals, main_effects, error_bounds, batch_size, outputs, silent, *row_args)\u001b[0m\n\u001b[1;32m    130\u001b[0m \u001b[0;34m\u001b[0m\u001b[0m\n\u001b[1;32m    131\u001b[0m                 \u001b[0;31m# evaluate the masked model\u001b[0m\u001b[0;34m\u001b[0m\u001b[0;34m\u001b[0m\u001b[0;34m\u001b[0m\u001b[0m\n\u001b[0;32m--> 132\u001b[0;31m                 \u001b[0moutputs\u001b[0m \u001b[0;34m=\u001b[0m \u001b[0mfm\u001b[0m\u001b[0;34m(\u001b[0m\u001b[0mmasks\u001b[0m\u001b[0;34m,\u001b[0m \u001b[0mzero_index\u001b[0m\u001b[0;34m=\u001b[0m\u001b[0;36m0\u001b[0m\u001b[0;34m,\u001b[0m \u001b[0mbatch_size\u001b[0m\u001b[0;34m=\u001b[0m\u001b[0mbatch_size\u001b[0m\u001b[0;34m)\u001b[0m\u001b[0;34m\u001b[0m\u001b[0;34m\u001b[0m\u001b[0m\n\u001b[0m\u001b[1;32m    133\u001b[0m                 \u001b[0;32mif\u001b[0m \u001b[0mrow_values\u001b[0m \u001b[0;32mis\u001b[0m \u001b[0;32mNone\u001b[0m\u001b[0;34m:\u001b[0m\u001b[0;34m\u001b[0m\u001b[0;34m\u001b[0m\u001b[0m\n\u001b[1;32m    134\u001b[0m                     \u001b[0mrow_values\u001b[0m \u001b[0;34m=\u001b[0m \u001b[0mnp\u001b[0m\u001b[0;34m.\u001b[0m\u001b[0mzeros\u001b[0m\u001b[0;34m(\u001b[0m\u001b[0;34m(\u001b[0m\u001b[0mlen\u001b[0m\u001b[0;34m(\u001b[0m\u001b[0mfm\u001b[0m\u001b[0;34m)\u001b[0m\u001b[0;34m,\u001b[0m\u001b[0;34m)\u001b[0m \u001b[0;34m+\u001b[0m \u001b[0moutputs\u001b[0m\u001b[0;34m.\u001b[0m\u001b[0mshape\u001b[0m\u001b[0;34m[\u001b[0m\u001b[0;36m1\u001b[0m\u001b[0;34m:\u001b[0m\u001b[0;34m]\u001b[0m\u001b[0;34m)\u001b[0m\u001b[0;34m\u001b[0m\u001b[0;34m\u001b[0m\u001b[0m\n",
      "\u001b[0;32m/fs/clip-xling/projects/semdiv/anaconda3/envs/semdiv/lib/python3.6/site-packages/shap/utils/_masked_model.py\u001b[0m in \u001b[0;36m__call__\u001b[0;34m(self, masks, zero_index, batch_size)\u001b[0m\n\u001b[1;32m     62\u001b[0m                 \u001b[0mfull_masks\u001b[0m \u001b[0;34m=\u001b[0m \u001b[0mnp\u001b[0m\u001b[0;34m.\u001b[0m\u001b[0mzeros\u001b[0m\u001b[0;34m(\u001b[0m\u001b[0;34m(\u001b[0m\u001b[0mint\u001b[0m\u001b[0;34m(\u001b[0m\u001b[0mnp\u001b[0m\u001b[0;34m.\u001b[0m\u001b[0msum\u001b[0m\u001b[0;34m(\u001b[0m\u001b[0mmasks\u001b[0m \u001b[0;34m>=\u001b[0m \u001b[0;36m0\u001b[0m\u001b[0;34m)\u001b[0m\u001b[0;34m)\u001b[0m\u001b[0;34m,\u001b[0m \u001b[0mself\u001b[0m\u001b[0;34m.\u001b[0m\u001b[0m_masker_cols\u001b[0m\u001b[0;34m)\u001b[0m\u001b[0;34m,\u001b[0m \u001b[0mdtype\u001b[0m\u001b[0;34m=\u001b[0m\u001b[0mnp\u001b[0m\u001b[0;34m.\u001b[0m\u001b[0mbool\u001b[0m\u001b[0;34m)\u001b[0m\u001b[0;34m\u001b[0m\u001b[0;34m\u001b[0m\u001b[0m\n\u001b[1;32m     63\u001b[0m                 \u001b[0m_convert_delta_mask_to_full\u001b[0m\u001b[0;34m(\u001b[0m\u001b[0mmasks\u001b[0m\u001b[0;34m,\u001b[0m \u001b[0mfull_masks\u001b[0m\u001b[0;34m)\u001b[0m\u001b[0;34m\u001b[0m\u001b[0;34m\u001b[0m\u001b[0m\n\u001b[0;32m---> 64\u001b[0;31m                 \u001b[0;32mreturn\u001b[0m \u001b[0mself\u001b[0m\u001b[0;34m.\u001b[0m\u001b[0m_full_masking_call\u001b[0m\u001b[0;34m(\u001b[0m\u001b[0mfull_masks\u001b[0m\u001b[0;34m,\u001b[0m \u001b[0mzero_index\u001b[0m\u001b[0;34m=\u001b[0m\u001b[0mzero_index\u001b[0m\u001b[0;34m,\u001b[0m \u001b[0mbatch_size\u001b[0m\u001b[0;34m=\u001b[0m\u001b[0mbatch_size\u001b[0m\u001b[0;34m)\u001b[0m\u001b[0;34m\u001b[0m\u001b[0;34m\u001b[0m\u001b[0m\n\u001b[0m\u001b[1;32m     65\u001b[0m \u001b[0;34m\u001b[0m\u001b[0m\n\u001b[1;32m     66\u001b[0m         \u001b[0;32melse\u001b[0m\u001b[0;34m:\u001b[0m\u001b[0;34m\u001b[0m\u001b[0;34m\u001b[0m\u001b[0m\n",
      "\u001b[0;32m/fs/clip-xling/projects/semdiv/anaconda3/envs/semdiv/lib/python3.6/site-packages/shap/utils/_masked_model.py\u001b[0m in \u001b[0;36m_full_masking_call\u001b[0;34m(self, masks, zero_index, batch_size)\u001b[0m\n\u001b[1;32m    137\u001b[0m \u001b[0;34m\u001b[0m\u001b[0m\n\u001b[1;32m    138\u001b[0m             \u001b[0mjoined_masked_inputs\u001b[0m \u001b[0;34m=\u001b[0m \u001b[0mself\u001b[0m\u001b[0;34m.\u001b[0m\u001b[0m_stack_inputs\u001b[0m\u001b[0;34m(\u001b[0m\u001b[0;34m*\u001b[0m\u001b[0mall_masked_inputs\u001b[0m\u001b[0;34m)\u001b[0m\u001b[0;34m\u001b[0m\u001b[0;34m\u001b[0m\u001b[0m\n\u001b[0;32m--> 139\u001b[0;31m             \u001b[0moutputs\u001b[0m \u001b[0;34m=\u001b[0m \u001b[0mself\u001b[0m\u001b[0;34m.\u001b[0m\u001b[0mmodel\u001b[0m\u001b[0;34m(\u001b[0m\u001b[0;34m*\u001b[0m\u001b[0mjoined_masked_inputs\u001b[0m\u001b[0;34m)\u001b[0m\u001b[0;34m\u001b[0m\u001b[0;34m\u001b[0m\u001b[0m\n\u001b[0m\u001b[1;32m    140\u001b[0m             \u001b[0m_assert_output_input_match\u001b[0m\u001b[0;34m(\u001b[0m\u001b[0mjoined_masked_inputs\u001b[0m\u001b[0;34m,\u001b[0m \u001b[0moutputs\u001b[0m\u001b[0;34m)\u001b[0m\u001b[0;34m\u001b[0m\u001b[0;34m\u001b[0m\u001b[0m\n\u001b[1;32m    141\u001b[0m             \u001b[0mall_outputs\u001b[0m\u001b[0;34m.\u001b[0m\u001b[0mappend\u001b[0m\u001b[0;34m(\u001b[0m\u001b[0moutputs\u001b[0m\u001b[0;34m)\u001b[0m\u001b[0;34m\u001b[0m\u001b[0;34m\u001b[0m\u001b[0m\n",
      "\u001b[0;32m/fs/clip-xling/projects/semdiv/anaconda3/envs/semdiv/lib/python3.6/site-packages/shap/models/_model.py\u001b[0m in \u001b[0;36m__call__\u001b[0;34m(self, *args)\u001b[0m\n\u001b[1;32m     19\u001b[0m \u001b[0;34m\u001b[0m\u001b[0m\n\u001b[1;32m     20\u001b[0m     \u001b[0;32mdef\u001b[0m \u001b[0m__call__\u001b[0m\u001b[0;34m(\u001b[0m\u001b[0mself\u001b[0m\u001b[0;34m,\u001b[0m \u001b[0;34m*\u001b[0m\u001b[0margs\u001b[0m\u001b[0;34m)\u001b[0m\u001b[0;34m:\u001b[0m\u001b[0;34m\u001b[0m\u001b[0;34m\u001b[0m\u001b[0m\n\u001b[0;32m---> 21\u001b[0;31m         \u001b[0;32mreturn\u001b[0m \u001b[0mnp\u001b[0m\u001b[0;34m.\u001b[0m\u001b[0marray\u001b[0m\u001b[0;34m(\u001b[0m\u001b[0mself\u001b[0m\u001b[0;34m.\u001b[0m\u001b[0minner_model\u001b[0m\u001b[0;34m(\u001b[0m\u001b[0;34m*\u001b[0m\u001b[0margs\u001b[0m\u001b[0;34m)\u001b[0m\u001b[0;34m)\u001b[0m\u001b[0;34m\u001b[0m\u001b[0;34m\u001b[0m\u001b[0m\n\u001b[0m\u001b[1;32m     22\u001b[0m \u001b[0;34m\u001b[0m\u001b[0m\n\u001b[1;32m     23\u001b[0m     \u001b[0;32mdef\u001b[0m \u001b[0msave\u001b[0m\u001b[0;34m(\u001b[0m\u001b[0mself\u001b[0m\u001b[0;34m,\u001b[0m \u001b[0mout_file\u001b[0m\u001b[0;34m)\u001b[0m\u001b[0;34m:\u001b[0m\u001b[0;34m\u001b[0m\u001b[0;34m\u001b[0m\u001b[0m\n",
      "\u001b[0;32m<ipython-input-8-58172969f2a6>\u001b[0m in \u001b[0;36m__call__\u001b[0;34m(self, translations)\u001b[0m\n\u001b[1;32m      9\u001b[0m         \u001b[0;32mif\u001b[0m \u001b[0mself\u001b[0m\u001b[0;34m.\u001b[0m\u001b[0mexplain_source\u001b[0m\u001b[0;34m:\u001b[0m\u001b[0;34m\u001b[0m\u001b[0;34m\u001b[0m\u001b[0m\n\u001b[1;32m     10\u001b[0m             \u001b[0mtarget\u001b[0m \u001b[0;34m=\u001b[0m \u001b[0;34m[\u001b[0m\u001b[0mself\u001b[0m\u001b[0;34m.\u001b[0m\u001b[0mtext_b\u001b[0m\u001b[0;34m]\u001b[0m \u001b[0;34m*\u001b[0m \u001b[0mlen\u001b[0m\u001b[0;34m(\u001b[0m\u001b[0mtranslations\u001b[0m\u001b[0;34m)\u001b[0m\u001b[0;34m\u001b[0m\u001b[0;34m\u001b[0m\u001b[0m\n\u001b[0;32m---> 11\u001b[0;31m             \u001b[0mdivergent_scores\u001b[0m \u001b[0;34m=\u001b[0m \u001b[0mself\u001b[0m\u001b[0;34m.\u001b[0m\u001b[0mscorer\u001b[0m\u001b[0;34m.\u001b[0m\u001b[0mcompute_divergentscore\u001b[0m\u001b[0;34m(\u001b[0m\u001b[0mself\u001b[0m\u001b[0;34m.\u001b[0m\u001b[0mflatten\u001b[0m\u001b[0;34m(\u001b[0m\u001b[0mtranslations\u001b[0m\u001b[0;34m)\u001b[0m\u001b[0;34m,\u001b[0m \u001b[0mtarget\u001b[0m\u001b[0;34m,\u001b[0m \u001b[0mself\u001b[0m\u001b[0;34m.\u001b[0m\u001b[0mexplain_source\u001b[0m\u001b[0;34m)\u001b[0m\u001b[0;34m\u001b[0m\u001b[0;34m\u001b[0m\u001b[0m\n\u001b[0m\u001b[1;32m     12\u001b[0m         \u001b[0;32melse\u001b[0m\u001b[0;34m:\u001b[0m\u001b[0;34m\u001b[0m\u001b[0;34m\u001b[0m\u001b[0m\n\u001b[1;32m     13\u001b[0m             \u001b[0msource\u001b[0m \u001b[0;34m=\u001b[0m \u001b[0;34m[\u001b[0m\u001b[0mself\u001b[0m\u001b[0;34m.\u001b[0m\u001b[0mtext_a\u001b[0m\u001b[0;34m]\u001b[0m \u001b[0;34m*\u001b[0m \u001b[0mlen\u001b[0m\u001b[0;34m(\u001b[0m\u001b[0mtranslations\u001b[0m\u001b[0;34m)\u001b[0m\u001b[0;34m\u001b[0m\u001b[0;34m\u001b[0m\u001b[0m\n",
      "\u001b[0;32m/fs/clip-divergences/xling-SemDiv/Ex-SemDiv/divergentmBERT/scorer.py\u001b[0m in \u001b[0;36mcompute_divergentscore\u001b[0;34m(self, texts_a, texts_b, explain_source)\u001b[0m\n\u001b[1;32m     93\u001b[0m                 InputExample(guid=guid, text_a=text_a, text_b=text_b, label='0'))\n\u001b[1;32m     94\u001b[0m \u001b[0;34m\u001b[0m\u001b[0m\n\u001b[0;32m---> 95\u001b[0;31m         \u001b[0mprint\u001b[0m\u001b[0;34m(\u001b[0m\u001b[0mexamples\u001b[0m\u001b[0;34m)\u001b[0m\u001b[0;34m\u001b[0m\u001b[0;34m\u001b[0m\u001b[0m\n\u001b[0m\u001b[1;32m     96\u001b[0m \u001b[0;34m\u001b[0m\u001b[0m\n\u001b[1;32m     97\u001b[0m         features = convert_examples_to_features(examples,\n",
      "\u001b[0;32m/fs/clip-divergences/xling-SemDiv/Ex-SemDiv/divergentmBERT/scorer.py\u001b[0m in \u001b[0;36m__repr__\u001b[0;34m(self)\u001b[0m\n\u001b[1;32m     36\u001b[0m \u001b[0;34m\u001b[0m\u001b[0m\n\u001b[1;32m     37\u001b[0m     \u001b[0;32mdef\u001b[0m \u001b[0m__repr__\u001b[0m\u001b[0;34m(\u001b[0m\u001b[0mself\u001b[0m\u001b[0;34m)\u001b[0m\u001b[0;34m:\u001b[0m\u001b[0;34m\u001b[0m\u001b[0;34m\u001b[0m\u001b[0m\n\u001b[0;32m---> 38\u001b[0;31m         \u001b[0;32mreturn\u001b[0m \u001b[0mstr\u001b[0m\u001b[0;34m(\u001b[0m\u001b[0mself\u001b[0m\u001b[0;34m.\u001b[0m\u001b[0mto_json_string\u001b[0m\u001b[0;34m(\u001b[0m\u001b[0;34m)\u001b[0m\u001b[0;34m)\u001b[0m\u001b[0;34m\u001b[0m\u001b[0;34m\u001b[0m\u001b[0m\n\u001b[0m\u001b[1;32m     39\u001b[0m \u001b[0;34m\u001b[0m\u001b[0m\n\u001b[1;32m     40\u001b[0m     \u001b[0;32mdef\u001b[0m \u001b[0mto_dict\u001b[0m\u001b[0;34m(\u001b[0m\u001b[0mself\u001b[0m\u001b[0;34m)\u001b[0m\u001b[0;34m:\u001b[0m\u001b[0;34m\u001b[0m\u001b[0;34m\u001b[0m\u001b[0m\n",
      "\u001b[0;32m/fs/clip-divergences/xling-SemDiv/Ex-SemDiv/divergentmBERT/scorer.py\u001b[0m in \u001b[0;36mto_json_string\u001b[0;34m(self)\u001b[0m\n\u001b[1;32m     45\u001b[0m     \u001b[0;32mdef\u001b[0m \u001b[0mto_json_string\u001b[0m\u001b[0;34m(\u001b[0m\u001b[0mself\u001b[0m\u001b[0;34m)\u001b[0m\u001b[0;34m:\u001b[0m\u001b[0;34m\u001b[0m\u001b[0;34m\u001b[0m\u001b[0m\n\u001b[1;32m     46\u001b[0m         \u001b[0;34m\"\"\"Serializes this instance to a JSON string.\"\"\"\u001b[0m\u001b[0;34m\u001b[0m\u001b[0;34m\u001b[0m\u001b[0m\n\u001b[0;32m---> 47\u001b[0;31m         \u001b[0;32mreturn\u001b[0m \u001b[0mjson\u001b[0m\u001b[0;34m.\u001b[0m\u001b[0mdumps\u001b[0m\u001b[0;34m(\u001b[0m\u001b[0mself\u001b[0m\u001b[0;34m.\u001b[0m\u001b[0mto_dict\u001b[0m\u001b[0;34m(\u001b[0m\u001b[0;34m)\u001b[0m\u001b[0;34m,\u001b[0m \u001b[0mindent\u001b[0m\u001b[0;34m=\u001b[0m\u001b[0;36m2\u001b[0m\u001b[0;34m,\u001b[0m \u001b[0msort_keys\u001b[0m\u001b[0;34m=\u001b[0m\u001b[0;32mTrue\u001b[0m\u001b[0;34m)\u001b[0m \u001b[0;34m+\u001b[0m \u001b[0;34m\"\\n\"\u001b[0m\u001b[0;34m\u001b[0m\u001b[0;34m\u001b[0m\u001b[0m\n\u001b[0m\u001b[1;32m     48\u001b[0m \u001b[0;34m\u001b[0m\u001b[0m\n\u001b[1;32m     49\u001b[0m \u001b[0;32mclass\u001b[0m \u001b[0mDivergentmBERTScorer\u001b[0m\u001b[0;34m:\u001b[0m\u001b[0;34m\u001b[0m\u001b[0;34m\u001b[0m\u001b[0m\n",
      "\u001b[0;31mNameError\u001b[0m: name 'json' is not defined"
     ]
    }
   ],
   "source": [
    "texts_a = [\"She made a courtesy call to the Hawaiian Islands at the end of the year and proceeded thence to Puget Sound where she arrived on 2 February 1852 .\"]\n",
    "texts_b = [\"Il fait une escale aux îles Hawaï à la fin de l' année , au Puget Sound , le 2 février 1852 .\"]\n",
    "texts_a = [\"Colonel-General Heinz Guderian , the Chief of the German General Staff , insisted to Adolf Hitler that the troops in Courland should be evacuated by sea and used for the defense of the Reich .\"]\n",
    "texts_b = [\"Le général Heinz Guderian insiste auprès d' Adolf Hitler pour évacuer les soldats par la mer afin de les utiliser pour la défense du Reich .\"]\n",
    "\n",
    "texts_a = [\"On his arrival the young man noticed a tree that was somewhat dried up; he split it in two, and found inserted in the middle of it a cross of a brown color and of a regular form.\"]\n",
    "texts_a = [\"He split it in two, and found inserted in the middle of it a cross of a brown color and of a regular form.\"]\n",
    "texts_b = [\"À son arrivée, le jeune homme remarque un arbre quelque peu desséché; il le fend en deux et trouve insérée au milieu de celui-ci une croix de couleur brune et de forme régulière.\"]\n",
    "\n",
    "\n",
    "exp_scores = []\n",
    "for explain_source in [True, False]:\n",
    "        # Initialize explainable DivergentmBERT model\n",
    "        print('Initialize Explainable DivergentmBERT')\n",
    "        model = ExplainableDivergentmBERT(model='/fs/clip-divergences/xling-SemDiv/trained_bert/from_WikiMatrix.en-fr.tsv.filtered_sample_50000.moses.seed/contrastive_divergence_ranking/rdpg',\n",
    "                                  tokenizer='bert-base-multilingual-cased',\n",
    "                                  do_lower_case=False,\n",
    "                                  device=device,\n",
    "                                  explain_source=explain_source)\n",
    "        print('Instance initialized...')\n",
    "        for (text_a, text_b) in zip(texts_a, texts_b):\n",
    "            model.wrapper.text_a = text_a\n",
    "            model.wrapper.text_b = text_b\n",
    "            #score = model(text_a, text_b)\n",
    "            #print(score)\n",
    "            #exit(0)\n",
    "            exps = model.explain(text_a, text_b)\n",
    "            exp_scores.append([float(entry[1]) for entry in exps])"
   ]
  },
  {
   "cell_type": "code",
   "execution_count": 6,
   "id": "590ca1ae",
   "metadata": {},
   "outputs": [
    {
     "name": "stdout",
     "output_type": "stream",
     "text": [
      "Source explanations\n",
      "[0.5110032081604003, 0.8749134540557861, 0.6046473026275635, 0.10313496589660645, 0.0038985252380371095, -0.0007464408874511719, 0.030797290802001952, 0.2368807315826416, 0.17978758811950685, 0.18314628601074218, 0.22305402755737305, 0.23884763717651367, 0.19750890731811524, 0.18692369461059571, -0.23330540657043458, 0.10131587982177734, 0.11740713119506836, 0.35654115676879883, -0.005339956283569336, 0.01355600357055664, -0.03993921279907227, -0.09286775588989257, 0.6138678073883057, 0.028708744049072265]\n",
      "Target explanations\n",
      "[0.311589172908238, -0.06536245346069336, 0.5941666194370815, -0.12101922716413226, -0.16486140659877233, -0.3734444890703474, 1.0671052932739258, 0.2023179190499442, -0.7382615634373256, 0.07970571517944336, -0.13772950853620256, -0.060001986367361884, 0.12427571841648646, 0.15236265318734304, 0.23349945885794504, 0.17543772288731166, 0.08234514508928571, 0.23329871041434153, -0.39384310586111887, 0.15059638023376465, -0.06949778965541295, 0.008019345147269112, -0.030121190207345144, 0.2659494536263602, 0.7673556464059013, -0.4992121287754604, 0.2151806013924735, -0.035771335874285014, 0.9236852782113212, 0.2170424120766776, 0.15687547411237443, -0.18221357890537807, 1.4174237251281738]\n"
     ]
    }
   ],
   "source": [
    "#print(score)\n",
    "print('Source explanations')\n",
    "print(exp_scores[0])\n",
    "print('Target explanations')\n",
    "print(exp_scores[1])"
   ]
  },
  {
   "cell_type": "code",
   "execution_count": 11,
   "id": "aaed3933",
   "metadata": {},
   "outputs": [
    {
     "data": {
      "text/html": [
       " He split it in two, <span style=\"background-color:#DFFF00 \">and</span> found inserted in the middle of it a <span style=\"background-color:#DFFF00 \">cross</span> of a brown <span style=\"background-color:#DFFF00 \">color</span> and <span style=\"background-color:#DFFF00 \">of</span><span style=\"background-color:#DFFF00 \"> a</span> regular form."
      ],
      "text/plain": [
       "<IPython.core.display.HTML object>"
      ]
     },
     "metadata": {},
     "output_type": "display_data"
    },
    {
     "data": {
      "text/html": [
       " À <span style=\"background-color:#DFFF00 \">son</span> arrivée, <span style=\"background-color:#DFFF00 \">le</span><span style=\"background-color:#DFFF00 \"> jeune</span><span style=\"background-color:#DFFF00 \"> homme</span> remarque un <span style=\"background-color:#DFFF00 \">arbre</span> quelque <span style=\"background-color:#DFFF00 \">peu</span><span style=\"background-color:#DFFF00 \"> desséché;</span> il le fend en deux et <span style=\"background-color:#DFFF00 \">trouve</span> insérée <span style=\"background-color:#DFFF00 \">au</span> milieu <span style=\"background-color:#DFFF00 \">de</span> celui-ci une <span style=\"background-color:#DFFF00 \">croix</span> de <span style=\"background-color:#DFFF00 \">couleur</span> brune et de <span style=\"background-color:#DFFF00 \">forme</span> régulière."
      ],
      "text/plain": [
       "<IPython.core.display.HTML object>"
      ]
     },
     "metadata": {},
     "output_type": "display_data"
    }
   ],
   "source": [
    "display_HTML(text_a, exp_scores[0], 0)\n",
    "display_HTML(text_b, exp_scores[1], 0)"
   ]
  },
  {
   "cell_type": "code",
   "execution_count": 8,
   "id": "0402fa36",
   "metadata": {},
   "outputs": [
    {
     "data": {
      "text/html": [
       " <span style=\"background-color:#DFFF00 \">He</span><span style=\"background-color:#DFFF00 \"> split</span><span style=\"background-color:#DFFF00 \"> it</span> in two, and found inserted in the middle of it a cross of a brown color and of a <span style=\"background-color:#DFFF00 \">regular</span> form."
      ],
      "text/plain": [
       "<IPython.core.display.HTML object>"
      ]
     },
     "metadata": {},
     "output_type": "display_data"
    },
    {
     "data": {
      "text/html": [
       " À son <span style=\"background-color:#DFFF00 \">arrivée,</span> le jeune homme <span style=\"background-color:#DFFF00 \">remarque</span> un arbre quelque peu desséché; il le fend en deux et trouve insérée au milieu de celui-ci <span style=\"background-color:#DFFF00 \">une</span> croix de couleur <span style=\"background-color:#DFFF00 \">brune</span> et de forme <span style=\"background-color:#DFFF00 \">régulière.</span>"
      ],
      "text/plain": [
       "<IPython.core.display.HTML object>"
      ]
     },
     "metadata": {},
     "output_type": "display_data"
    }
   ],
   "source": [
    "display_HTML(text_a, exp_scores[0], 0.5)\n",
    "display_HTML(text_b, exp_scores[1], 0.5)"
   ]
  },
  {
   "cell_type": "code",
   "execution_count": 16,
   "id": "779a73f2",
   "metadata": {},
   "outputs": [
    {
     "data": {
      "text/plain": [
       "0.059473279234650844"
      ]
     },
     "execution_count": 16,
     "metadata": {},
     "output_type": "execute_result"
    }
   ],
   "source": [
    "sum(exp_scores[1][:11])/len(exp_scores[1][:11])"
   ]
  },
  {
   "cell_type": "code",
   "execution_count": 15,
   "id": "f28fb270",
   "metadata": {},
   "outputs": [
    {
     "data": {
      "text/plain": [
       "0.17512211861548482"
      ]
     },
     "execution_count": 15,
     "metadata": {},
     "output_type": "execute_result"
    }
   ],
   "source": [
    "sum(exp_scores[1][11:])/len(exp_scores[1][11:])"
   ]
  },
  {
   "cell_type": "code",
   "execution_count": null,
   "id": "625d06b3",
   "metadata": {},
   "outputs": [],
   "source": []
  }
 ],
 "metadata": {
  "kernelspec": {
   "display_name": "Python 3 (ipykernel)",
   "language": "python",
   "name": "python3"
  },
  "language_info": {
   "codemirror_mode": {
    "name": "ipython",
    "version": 3
   },
   "file_extension": ".py",
   "mimetype": "text/x-python",
   "name": "python",
   "nbconvert_exporter": "python",
   "pygments_lexer": "ipython3",
   "version": "3.9.13"
  }
 },
 "nbformat": 4,
 "nbformat_minor": 5
}
